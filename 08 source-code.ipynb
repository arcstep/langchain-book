{
 "cells": [
  {
   "cell_type": "markdown",
   "id": "2be2c1f8-18eb-44ee-9760-dab03e479495",
   "metadata": {},
   "source": [
    "# langchain源码解读"
   ]
  },
  {
   "cell_type": "markdown",
   "id": "c9364e2a-53e2-4c03-a3b0-dea52e298a0b",
   "metadata": {},
   "source": [
    "## langchain模块"
   ]
  },
  {
   "cell_type": "markdown",
   "id": "81a25fdd-4ae1-477a-a397-be23551bc76d",
   "metadata": {},
   "source": [
    "- langchain\n",
    "- langserve\n",
    "- langchain-js\n",
    "- langsmith\n",
    "- langfuse"
   ]
  },
  {
   "cell_type": "markdown",
   "id": "514b6cbb-e9d8-48ab-81d0-b0f459cbe58a",
   "metadata": {},
   "source": [
    "## LCEL的内部实现"
   ]
  },
  {
   "cell_type": "markdown",
   "id": "be274e71-d310-4e7c-9979-42aed38bccdc",
   "metadata": {},
   "source": [
    "### 类结构派生层次"
   ]
  },
  {
   "cell_type": "markdown",
   "id": "a9d94e3f-6146-4b43-bfda-ccaf2f3357d9",
   "metadata": {},
   "source": [
    "- Runnable\n",
    "    - RunnableSerializable（**LCEL**规则主要由**RunnableSequence**和**RunnableParallel**实现）\n",
    "\n",
    "        **配置能力:**\n",
    "        - RunnableBindingBase\n",
    "            - RunnableBinding（向Runnable实例传递参数）\n",
    "        - DynamicRunnable\n",
    "            - RunnableConfigurableFields\n",
    "            - RunnableConfigurableAlternatives\n",
    "\n",
    "        **流程控制:**\n",
    "        - RunnablePassthrough（传递额外输入）\n",
    "        - RunnableSequence（实现顺序执行，可以用|符号或RunnableSequence来构造）\n",
    "        - RunnableParallel（实现并行执行，可以用Dict或RunnableParallel类来构造，别名RunnableMap）\n",
    "\n",
    "        **大模型:**\n",
    "        - BaseLanguageModel\n",
    "            - BaseLLM（派生其他大模型）\n",
    "                - LLM（派生其他大模型）\n",
    "                - OpenAIChat\n",
    "                - Tongyi\n",
    "\n",
    "        **提示语:**\n",
    "        - BasePromptTemplate `[Dict, PromptValue]`\n",
    "            - StringPromptTemplate（字符串模板）\n",
    "            - BaseChatPromptTemplate（对话模板）\n",
    "            - ImagePromptTemplate\n",
    "            - PipelinePromptTemplate\n",
    "\n",
    "        **检索器:**\n",
    "        - BaseRetriever `[RetrieverInput, RetrieverOutput]`（派生各类检索器）\n",
    "\n",
    "        **Tool:**\n",
    "        - BaseTool `[Union[str, Dict], Any]`（派生各类工具）\n",
    "\n",
    "        **输出解析:**      \n",
    "        - BaseGenerationOutputParser `[Union[str, BaseMessage], T]`\n",
    "        - BaseOutputParser（派生各类输出解析）\n",
    "\n",
    "\n",
    "        **输入赋值:**      \n",
    "        - RunnablePassthrough\n",
    "        - RunnableAssign\n",
    "        - RunnablePick\n",
    "\n",
    "        **已实现Chains:**      \n",
    "        - Chain（派生各类预制chain）\n",
    "\n",
    "    **定制能力:**\n",
    "    - RunnableGenerator（常用于处理输出可能是迭代器结果的chain）\n",
    "    - RunnableLambda（常用于包装普通函数，别名函数@chain）"
   ]
  },
  {
   "cell_type": "markdown",
   "id": "6e1b0f7c-535e-4b4c-a65f-28cd3c5e5b38",
   "metadata": {},
   "source": [
    "## Runnable（提供原语的基类）"
   ]
  },
  {
   "cell_type": "markdown",
   "id": "a679a335-8943-426e-bc6a-a8e0107e839d",
   "metadata": {},
   "source": [
    "**LangChain Runnable** 是一种工作单元, 支持同步、异步、批处理和流式操作。\n",
    "\n",
    "**LangChain表达式语言(LCEL)** 提供了一种声明式的方法来构建使用大语言模型的生产级程序。\n",
    "\n",
    "使用 **LCEL** 和 **LangChain Runnable** 构建的程序内在地支持同步、异步、批处理和流式操作。\n",
    "\n",
    "支持异步可以让托管基于 **LCEL** 程序的服务器更好地扩展,以处理更高的并发负载。\n",
    "\n",
    "流式输出中间结果的能力可以创建更响应的用户体验。\n",
    "\n",
    "**Runnable** 模块包含了 **LangChain Runnable** 原语的模式和实现。"
   ]
  },
  {
   "cell_type": "markdown",
   "id": "ae5699e5-7e75-4d84-b645-8ed3bd68de1a",
   "metadata": {},
   "source": [
    "### 最主要的原语方法"
   ]
  },
  {
   "cell_type": "markdown",
   "id": "b98d972a-a568-4fbc-9d98-6b2bc72122d3",
   "metadata": {},
   "source": [
    "主要方法:\n",
    "\n",
    "- invoke/ainvoke: 将单个输入转换为输出。  \n",
    "- batch/abatch: 有效地将多个输入转换为输出。\n",
    "- stream/astream: 流式输出单个输入生成的结果。\n",
    "- astream_log: 流式输出输入的输出以及所选的中间结果。\n",
    "\n",
    "内置优化:  \n",
    "\n",
    "- 批处理: 默认情况下,批处理使用线程池执行器并行运行invoke()。 \n",
    "  <br>可以重写以优化批处理。\n",
    "\n",
    "- 异步: 带有“a”后缀的方法是异步的。默认情况下,它们使用asyncio的线程池执行同步版本。\n",
    "  <br>可以重写为原生异步。\n",
    "\n",
    "所有方法都接受一个可选的config参数,可用于配置执行、添加标签和元数据,以进行跟踪、调试等。  <br/>\n",
    "Runnable通过input_schema属性、output_schema属性和config_schema方法公开其输入、输出和配置的模式信息。"
   ]
  },
  {
   "cell_type": "markdown",
   "id": "23cee839-07b9-4e50-8ffe-9c724baff3b7",
   "metadata": {},
   "source": [
    "### 链的基本示例"
   ]
  },
  {
   "cell_type": "markdown",
   "id": "1884bd05-f2b6-414f-a0bc-cea2a842787b",
   "metadata": {},
   "source": [
    "LangChain表达式语言(LCEL)是一种声明式的方式来将Runnable组合成链。\n",
    "这样构建的任何链都将自动支持同步、异步、批处理和流操作。\n",
    "主要的组合原语是RunnableSequence和RunnableParallel。\n",
    "\n",
    "RunnableSequence按顺序调用一系列runnable,一个runnable的输出作为下一个的输入。\n",
    "可以使用 | 运算符构造,或者通过向RunnableSequence传入runnable列表。\n",
    "RunnableParallel并发调用runnable,向每个都提供相同的输入。\n",
    "可以在序列中使用字典字面量构造,或者通过向RunnableParallel传入字典来构造。"
   ]
  },
  {
   "cell_type": "markdown",
   "id": "4bed48f8-e728-4ff8-af4e-8aadff9d1e50",
   "metadata": {},
   "source": [
    "代码示例："
   ]
  },
  {
   "cell_type": "code",
   "execution_count": 251,
   "id": "5590f265-1411-4157-960d-7b90ba5fb720",
   "metadata": {},
   "outputs": [
    {
     "name": "stdout",
     "output_type": "stream",
     "text": [
      "4\n",
      "[4, 5, 6]\n",
      "5\n"
     ]
    }
   ],
   "source": [
    "from langchain_core.runnables import RunnableParallel, RunnableLambda, chain\n",
    "\n",
    "@chain\n",
    "def a(x):\n",
    "    return(x + 1)\n",
    "\n",
    "@chain\n",
    "def b(x):\n",
    "    return(x + 2)\n",
    "\n",
    "@chain\n",
    "def c(dict):\n",
    "    return(dict[\"x\"] + dict[\"y\"])\n",
    "    \n",
    "sequence = a | b\n",
    "\n",
    "print(sequence.invoke(1))\n",
    "print(sequence.batch([1, 2, 3]))\n",
    "\n",
    "parral = {\"x\": a, \"y\": b} | c\n",
    "print(parral.invoke(1)) # (1+1) + (1+2) = 5"
   ]
  },
  {
   "cell_type": "markdown",
   "id": "6abd3aaa-1f65-49e0-8280-0e8e1acbd867",
   "metadata": {},
   "source": [
    "### LCEL提供的好处"
   ]
  },
  {
   "cell_type": "markdown",
   "id": "6460d100-ea6e-4ca0-84d9-d1c71e2dc887",
   "metadata": {},
   "source": [
    "LangChain Expression Language（LCEL）是一种声明式语言，可轻松组合不同的调用顺序构成 Chain。LCEL 自创立之初就被设计为能够支持将原型投入生产环境，**无需代码更改**，从最简单的“提示+LLM”链到最复杂的链（已有用户成功在生产环境中运行包含数百个步骤的 LCEL Chain）。\n",
    "\n",
    "LCEL的一些亮点包括：\n",
    "\n",
    "1. **流支持**：使用 LCEL 构建 Chain 时，你可以获得最佳的首个令牌时间（即从输出开始到首批输出生成的时间）。\n",
    "对于某些 Chain，这意味着可以直接从LLM流式传输令牌到流输出解析器，从而以与 LLM 提供商输出原始令牌相同的速率获得解析后的、增量的输出。\n",
    "\n",
    "2. **异步支持**：任何使用 LCEL 构建的链条都可以通过同步API（例如，在 Jupyter 笔记本中进行原型设计时）和异步 API（例如，在 LangServe 服务器中）调用。\n",
    "这使得相同的代码可用于原型设计和生产环境，具有出色的性能，并能够在同一服务器中处理多个并发请求。\n",
    "\n",
    "3. **优化的并行执行**：当你的 LCEL 链条有可以并行执行的步骤时（例如，从多个检索器中获取文档），我们会自动执行，无论是在同步还是异步接口中，以实现最小的延迟。\n",
    "\n",
    "4. **重试和回退**：为 LCEL 链的任何部分配置重试和回退。这是使链在规模上更可靠的绝佳方式。\n",
    "目前我们正在添加重试/回退的流媒体支持，因此你可以在不增加任何延迟成本的情况下获得增加的可靠性。\n",
    "\n",
    "5. **访问中间结果**：对于更复杂的链条，访问在最终输出产生之前的中间步骤的结果通常非常有用。\n",
    "这可以用于让最终用户知道正在发生一些事情，甚至仅用于调试链条。你可以流式传输中间结果，并且在每个LangServe服务器上都可用。\n",
    "\n",
    "6. **输入和输出模式**：输入和输出模式为每个 LCEL 链提供了从链的结构推断出的 Pydantic 和 JSONSchema 模式。\n",
    "这可以用于输入和输出的验证，是 LangServe 的一个组成部分。\n",
    "\n",
    "7. **无缝LangSmith跟踪集成**：随着链条变得越来越复杂，理解每一步发生了什么变得越来越重要。\n",
    "通过 LCEL，所有步骤都自动记录到 LangSmith，以实现最大的可观察性和可调试性。\n",
    "\n",
    "8. **无缝LangServe部署集成**：任何使用 LCEL 创建的链都可以轻松地使用 LangServe 进行部署。\n",
    "\n",
    "原文：[https://python.langchain.com/docs/expression_language]()"
   ]
  },
  {
   "cell_type": "markdown",
   "id": "4b9058cf-5e3d-4b88-ac1d-03aa0e742a2e",
   "metadata": {},
   "source": [
    "#### 流支持\n",
    "\n",
    "#### 异步支持\n",
    "\n",
    "#### 优化的并行执行\n",
    "\n",
    "#### 重试和回退\n",
    "\n",
    "#### 访问中间结果\n",
    "\n",
    "#### 输入和输出模式\n",
    "\n",
    "#### 无缝LangSmith跟踪集成\n",
    "\n",
    "#### 无缝LangServe部署集成"
   ]
  },
  {
   "cell_type": "markdown",
   "id": "bf5cdaf3-f6fc-4162-97ce-984d11b8c954",
   "metadata": {},
   "source": [
    "### 其他标准化方法"
   ]
  },
  {
   "cell_type": "markdown",
   "id": "79565821-9360-43dc-86a2-5721e34f8bf3",
   "metadata": {},
   "source": [
    "所有Runnable都暴露了可用于修改其行为的其他方法(例如,添加重试策略、添加生命周期监听器、使其可配置等)。\n",
    "\n",
    "这些方法适用于任何Runnable,包括通过组合其他Runnable构造的Runnable链。详细信息请参阅各个方法。"
   ]
  },
  {
   "cell_type": "markdown",
   "id": "c8404f85-9927-4659-80bf-af1946037090",
   "metadata": {},
   "source": [
    "类结构如下：\n",
    "\n",
    "- RunnableBindingBase\n",
    "    - RunnableBinding（向Runnable实例传递参数）\n",
    "    - RunnableWithMessageHistory（支持对话历史）\n",
    "    - RunnableRetry（支持重试，一般用`.with_retry()`配置）\n",
    "    - HubRunnable（访问`LangChain Hub`的实例）\n",
    "    - OpenAIFunctionsRouter\n",
    "- DynamicRunnable（支持动态配置）\n",
    "    - RunnableConfigurableFields\n",
    "- RunnableWithFallbacks（支持报错回滚，一般用`.with_fallbacks()`配置）"
   ]
  },
  {
   "cell_type": "markdown",
   "id": "f60aedf3-7a1b-4343-9110-b9e81ea10e5e",
   "metadata": {},
   "source": [
    "其中，有三种方法可以修改配置后并返回新的 **Runnable**，使用时有细微区别：\n",
    "\n",
    "- `assign`: 直接按字典输出的方式为Runnable修改配置\n",
    "- `bind`: 绑定任意参数到Runnable，是更为通用的方法\n",
    "- `with_config`: 绑定一个配置对象，是抽象程度更为高级的方法\n",
    "\n",
    "另外，还可以配置 **Runnable** 的执行策略：\n",
    "\n",
    "- `with_listeners`:  绑定监督者\n",
    "- `with_types`: 继承类型\n",
    "- `with_retry`: 绑定重试策略\n",
    "- `with_fallbacks`: 绑定回滚策略"
   ]
  },
  {
   "cell_type": "markdown",
   "id": "d9f9b766-088e-43b0-8a5b-5067afb95e35",
   "metadata": {},
   "source": [
    "#### with_retry"
   ]
  },
  {
   "cell_type": "code",
   "execution_count": 103,
   "id": "9ae77cbb-8ea9-4c05-8f3e-93d622bbff9c",
   "metadata": {},
   "outputs": [
    {
     "name": "stdout",
     "output_type": "stream",
     "text": [
      "---RunnableSequence\n",
      "<class 'langchain_core.runnables.base.RunnableLambda'>\n",
      "<class 'list'>\n",
      "<class 'langchain_core.runnables.retry.RunnableRetry'>\n",
      "---Runnable\n",
      "RunnableSequence\n",
      "[]\n",
      "{'title': 'add_one_input', 'type': 'integer'}\n",
      "{'title': 'buggy_double_output', 'type': 'integer'}\n",
      "This code failed, and will probably be retried!\n",
      "This code failed, and will probably be retried!\n",
      "This code failed, and will probably be retried!\n",
      "This code failed, and will probably be retried!\n",
      "This code failed, and will probably be retried!\n",
      "This code failed, and will probably be retried!\n",
      "This code failed, and will probably be retried!\n",
      "This code failed, and will probably be retried!\n",
      "This code failed, and will probably be retried!\n",
      "6\n"
     ]
    }
   ],
   "source": [
    "from langchain_core.runnables import RunnableLambda\n",
    "import random\n",
    "\n",
    "def add_one(x: int) -> int:\n",
    "    return x + 1\n",
    "\n",
    "def buggy_double(y: int) -> int:\n",
    "    '''Buggy code that will fail 70% of the time'''\n",
    "    if random.random() > 0.3:\n",
    "        print('This code failed, and will probably be retried!')\n",
    "        raise ValueError('Triggered buggy code')\n",
    "    return y * 2\n",
    "\n",
    "chain = (\n",
    "    RunnableLambda(add_one) |\n",
    "    RunnableLambda(buggy_double).with_retry( # Retry on failure\n",
    "        stop_after_attempt = 10,\n",
    "        wait_exponential_jitter = False\n",
    "    )\n",
    ")\n",
    "\n",
    "print(\"---RunnableSequence\")\n",
    "print(type(chain.first))\n",
    "print(type(chain.middle))\n",
    "print(type(chain.last))\n",
    "print(\"---Runnable\")\n",
    "print(chain.get_name())\n",
    "print(chain.get_prompts())\n",
    "print(chain.input_schema.schema()) # Show inferred input schema\n",
    "print(chain.output_schema.schema()) # Show inferred output schema\n",
    "\n",
    "print(chain.invoke(2)) # invoke the sequence (note the retry above!!)"
   ]
  },
  {
   "cell_type": "markdown",
   "id": "f8eaef92-14b9-4d86-bcd1-484d9831a30c",
   "metadata": {},
   "source": [
    "### 调试和跟踪"
   ]
  },
  {
   "cell_type": "markdown",
   "id": "202c763b-1a05-44e3-96d2-055957452e72",
   "metadata": {},
   "source": [
    "随着链的变长,能够看到中间结果以调试和跟踪链是很有用的。<br>\n",
    "您可以将全局调试标志设置为True,以为所有链启用调试输出:"
   ]
  },
  {
   "cell_type": "code",
   "execution_count": null,
   "id": "ea7f4676-ab2a-4820-aadf-8a5eabaa5361",
   "metadata": {
    "scrolled": true
   },
   "outputs": [],
   "source": [
    "from langchain_core.globals import set_debug\n",
    "set_debug(True)\n",
    "\n",
    "chain.invoke(3)"
   ]
  },
  {
   "cell_type": "markdown",
   "id": "068e5c4f-1057-478e-8038-6b4915ce3768",
   "metadata": {},
   "source": [
    "或者,您可以将现有或自定义回调传递给任何给定的链:"
   ]
  },
  {
   "cell_type": "code",
   "execution_count": null,
   "id": "e8e5722a-f646-4352-8a6e-fd6585419309",
   "metadata": {
    "scrolled": true
   },
   "outputs": [],
   "source": [
    "from langchain_core.tracers import ConsoleCallbackHandler\n",
    "from langchain_core.globals import set_debug\n",
    "set_debug(False)\n",
    "\n",
    "chain.invoke(\n",
    "    3,\n",
    "    config={'callbacks': [ConsoleCallbackHandler()]} # 这与设置debug为true的效果类似\n",
    ")"
   ]
  },
  {
   "cell_type": "markdown",
   "id": "ac8b2507-0040-48d2-af16-98cac0194df5",
   "metadata": {},
   "source": [
    "### 绘制LCEL执行结构"
   ]
  },
  {
   "cell_type": "code",
   "execution_count": 223,
   "id": "ec78c67c-9604-4db2-86dc-e18ef9a0bfc3",
   "metadata": {},
   "outputs": [
    {
     "name": "stdout",
     "output_type": "stream",
     "text": [
      " +---------------+   \n",
      " | add_one_input |   \n",
      " +---------------+   \n",
      "          *          \n",
      "          *          \n",
      "          *          \n",
      "+-----------------+  \n",
      "| Lambda(add_one) |  \n",
      "+-----------------+  \n",
      "          *          \n",
      "          *          \n",
      "          *          \n",
      "+-----------------+  \n",
      "| Lambda(add_one) |  \n",
      "+-----------------+  \n",
      "          *          \n",
      "          *          \n",
      "          *          \n",
      "+----------------+   \n",
      "| add_one_output |   \n",
      "+----------------+   \n"
     ]
    }
   ],
   "source": [
    "from langchain_core.runnables import RunnableLambda\n",
    "from langchain_core.runnables.graph_draw import draw\n",
    "\n",
    "def add_one(x: int) -> int:\n",
    "    return x + 1\n",
    "\n",
    "chain = (\n",
    "    RunnableLambda(add_one) | add_one\n",
    ")\n",
    "\n",
    "chain.get_graph().print_ascii()"
   ]
  },
  {
   "cell_type": "markdown",
   "id": "b9957bf5-576d-45d8-90fe-ed6c494a1662",
   "metadata": {},
   "source": [
    "## 配置能力"
   ]
  },
  {
   "cell_type": "markdown",
   "id": "ff8bdabf-f155-4254-bbce-225f91273817",
   "metadata": {},
   "source": [
    "`RunnableBinding` 可以被看作是一个\"Runnable对象的装饰器\"，它保留了 `Runnable` 的基本特性，即批处理、流处理和异步支持，同时添加了额外的功能。\n",
    "\n",
    "任何继承自 `Runnable` 的类都可以绑定到一个 `RunnableBinding`。\n",
    "`Runnable` 提供了一套标准的方法来创建 `RunnableBindings` 或 `RunnableBindings` 的子类（例如，`RunnableRetry`，`RunnableWithFallbacks`）以添加额外的功能。\n",
    "\n",
    "这些方法包括：\n",
    "- `bind`：绑定 kwargs 以在运行底层可运行对象时传递。\n",
    "- `with_config`：绑定配置以在运行底层可运行对象时传递。\n",
    "- `with_listeners`：将生命周期监听器绑定到底层可运行对象。\n",
    "- `with_types`：覆盖底层可运行对象的输入和输出类型。\n",
    "- `with_retry`：将重试策略绑定到底层可运行对象。\n",
    "- `with_fallbacks`：将回退策略绑定到底层可运行对象。"
   ]
  },
  {
   "cell_type": "markdown",
   "id": "a3778a99-a2b8-47ab-a6f9-d69736ff4080",
   "metadata": {},
   "source": [
    "### 配置能力相关类结构"
   ]
  },
  {
   "cell_type": "markdown",
   "id": "770012c3-6dcb-49d3-b17b-ecb8a21256ca",
   "metadata": {},
   "source": [
    "- Runnable\n",
    "    - RunnableSerializable\n",
    "        - RunnableBindingBase\n",
    "            - RunnableBinding（向Runnable底层传递参数，`.bind()`）\n",
    "            - RunnableWithMessageHistory（支持对话历史）\n",
    "            - RunnableRetry（支持重试，`.with_retry()`）\n",
    "            - HubRunnable（访问`LangChain Hub`的实例）\n",
    "            - OpenAIFunctionsRouter\n",
    "        - DynamicRunnable（支持动态配置）\n",
    "            - RunnableConfigurableFields\n",
    "            - RunnableConfigurableAlternatives\n",
    "        - RunnableWithFallbacks（支持报错回滚，`.with_fallbacks()`）\n",
    "        - RunnableAssign（`.assign()`）\n",
    "        "
   ]
  },
  {
   "cell_type": "markdown",
   "id": "14107ee5-04a0-4a1e-97d1-80db1e0150db",
   "metadata": {},
   "source": [
    "### assign"
   ]
  },
  {
   "cell_type": "markdown",
   "id": "80031ca6-3183-4daf-a975-39a57bebdf38",
   "metadata": {},
   "source": [
    "为字典对象或RunnableParallel对象赋值："
   ]
  },
  {
   "cell_type": "code",
   "execution_count": 253,
   "id": "96ca65d5-0e11-49bb-b0ec-35852af6982e",
   "metadata": {},
   "outputs": [
    {
     "data": {
      "text/plain": [
       "{'passed': {'num': 1}, 'extra': {'num': 1, 'mult': 3}, 'modified': 2}"
      ]
     },
     "execution_count": 253,
     "metadata": {},
     "output_type": "execute_result"
    }
   ],
   "source": [
    "from langchain_core.runnables import RunnableParallel, RunnablePassthrough\n",
    "\n",
    "runnable = RunnableParallel(\n",
    "    passed=RunnablePassthrough(),\n",
    "    extra=RunnablePassthrough.assign(mult=lambda x: x[\"num\"] * 3),\n",
    "    modified=lambda x: x[\"num\"] + 1,\n",
    ")\n",
    "\n",
    "runnable.invoke({\"num\": 1})"
   ]
  },
  {
   "cell_type": "markdown",
   "id": "1d944895-354e-41c9-9420-b39c05aa537b",
   "metadata": {},
   "source": [
    "### bind"
   ]
  },
  {
   "cell_type": "markdown",
   "id": "f313fb2c-86bc-4bdc-8e8f-35be7a72f870",
   "metadata": {},
   "source": [
    "使用`bind`：可以绑定 kwargs 以在运行底层可运行对象时传递。"
   ]
  },
  {
   "cell_type": "markdown",
   "id": "7181c092-585b-4d64-9ab6-a4fd82aef167",
   "metadata": {},
   "source": [
    "#### 将 stop 传递给 OpenAI"
   ]
  },
  {
   "cell_type": "code",
   "execution_count": 256,
   "id": "ac9d261e-f675-4fa9-b77f-9dd83a879f85",
   "metadata": {},
   "outputs": [
    {
     "data": {
      "text/plain": [
       "AIMessage(content='Parrot')"
      ]
     },
     "execution_count": 256,
     "metadata": {},
     "output_type": "execute_result"
    }
   ],
   "source": [
    "# 创建一个可运行绑定，它在运行时调用 ChatModel，并传递额外的 kwarg `stop=['-']`。\n",
    "from langchain_openai import ChatOpenAI\n",
    "model = ChatOpenAI()\n",
    "model.invoke('Say \"Parrot-MAGIC\"', stop=['-']) # 应返回 `Parrot`\n",
    "\n",
    "# 通过 `bind` 方法（它返回一个新的 RunnableBinding）来简单地使用它\n",
    "runnable_binding = model.bind(stop=['-'])\n",
    "runnable_binding.invoke('Say \"Parrot-MAGIC\"') # 应返回 `Parrot`"
   ]
  },
  {
   "cell_type": "markdown",
   "id": "c85734af-9f38-4730-8c14-6b8c879cf615",
   "metadata": {},
   "source": [
    "#### 将 seed 传递给 OpenAI"
   ]
  },
  {
   "cell_type": "code",
   "execution_count": 262,
   "id": "52dab158-f2cc-4ee1-8f62-2740d9e5a371",
   "metadata": {},
   "outputs": [
    {
     "data": {
      "text/plain": [
       "AIMessage(content='我是一个基于神经网络的模型，被称为GPT-3（Generative Pre-trained Transformer 3）。我是由OpenAI开发的，用于自然语言处理和生成文本的任务。')"
      ]
     },
     "execution_count": 262,
     "metadata": {},
     "output_type": "execute_result"
    }
   ],
   "source": [
    "model.bind(seed=42).invoke(\"你是什么模型?\")"
   ]
  },
  {
   "cell_type": "code",
   "execution_count": 263,
   "id": "03c9e1f2-e5b1-4032-8d13-b21b6afa2e5b",
   "metadata": {},
   "outputs": [
    {
     "data": {
      "text/plain": [
       "AIMessage(content='我是一个基于神经网络的模型，被称为GPT-3（Generative Pre-trained Transformer 3）。我是由OpenAI开发的，用于自然语言处理和生成文本的任务。')"
      ]
     },
     "execution_count": 263,
     "metadata": {},
     "output_type": "execute_result"
    }
   ],
   "source": [
    "model.bind(seed=42).invoke(\"你是什么模型?\")"
   ]
  },
  {
   "cell_type": "code",
   "execution_count": 265,
   "id": "8221b4ab-68cc-492a-a328-e5a710ffc99e",
   "metadata": {},
   "outputs": [
    {
     "data": {
      "text/plain": [
       "AIMessage(content='我是一个基于人工智能技术的对话系统模型，被称为GPT-3（Generative Pre-trained Transformer 3）。我被训练来理解和生成自然语言，可以提供各种领域的信息和帮助回答问题。')"
      ]
     },
     "execution_count": 265,
     "metadata": {},
     "output_type": "execute_result"
    }
   ],
   "source": [
    "model.bind(seed=43).invoke(\"你是什么模型?\")"
   ]
  },
  {
   "cell_type": "markdown",
   "id": "bc0ae616-4759-4820-b8b4-911e73939f05",
   "metadata": {},
   "source": [
    "### 根据配置动态选择Runnable对象"
   ]
  },
  {
   "cell_type": "markdown",
   "id": "d7cd489d-bf2f-4931-9e16-4f511be345f2",
   "metadata": {},
   "source": [
    "## 用于流程控制的Runnable派生类"
   ]
  },
  {
   "cell_type": "markdown",
   "id": "e7ae48fa-3c63-408f-8b7e-419371713c91",
   "metadata": {},
   "source": [
    "Runnable 可以支持包括顺序、分支、条件、迭代等多种控制方式，构建较复杂的有向无环图。\n",
    "\n",
    "与直接使用python代码控制流程不同的是，下面这些流程控制手段仍然保持以Runnable返回，以便获得LCEL的诸多额外好处，如：Runnable的统一方法、序列化能力、重试能力、回滚能力、Langsmith追踪和Langserve的API集成等。"
   ]
  },
  {
   "cell_type": "markdown",
   "id": "dc2fa90f-bdae-426e-bfcf-d51910ee51f2",
   "metadata": {},
   "source": [
    "### 流程控制相关类结构"
   ]
  },
  {
   "cell_type": "raw",
   "id": "663b876f-f58b-41d3-b336-54536794e31f",
   "metadata": {},
   "source": [
    "可接受参数：\n",
    "\n",
    "Union[\n",
    "    Runnable[Input, Output],\n",
    "    Callable[[Input], Output],\n",
    "    Callable[[Input], Awaitable[Output]],\n",
    "    Callable[[Iterator[Input]], Iterator[Output]],\n",
    "    Callable[[AsyncIterator[Input]], AsyncIterator[Output]],\n",
    "    Mapping[str, Any],\n",
    "]"
   ]
  },
  {
   "cell_type": "markdown",
   "id": "ab4af7a9-5f32-480f-8f6d-5f61b01e2504",
   "metadata": {},
   "source": [
    "- Runnable\n",
    "    - RunnableSerializable\n",
    "        - RunnableSequence（实现顺序执行，可以用|符号或RunnableSequence来构造）\n",
    "        - RunnableParallel（实现并行执行，可以用Dict或RunnableParallel类来构造，别名RunnableMap）\n",
    "        - RunnableEach（实现相同的链迭代多次）\n",
    "        - RunnableBranch（实现流程分支，根据条件选择不同的链执行）\n",
    "        - RouterRunnable（实现流程分支，根据枚举值选择不同的链执行）"
   ]
  },
  {
   "cell_type": "markdown",
   "id": "6e7adb8a-ffc1-4b85-b88d-1f0d55b56a57",
   "metadata": {},
   "source": [
    "### RunnableSerializable"
   ]
  },
  {
   "cell_type": "markdown",
   "id": "1f4ae80c-4945-4211-974f-56885a2d4c4d",
   "metadata": {},
   "source": [
    "主要增加了序列化的方法，可以将Runnable以JSON字符串的方式保存或加载：\n",
    "\n",
    "- loads / dumps （按JSON字符串）\n",
    "- load / dumpd （按Dict类型）"
   ]
  },
  {
   "cell_type": "markdown",
   "id": "0d6c73a1-e9f0-4aea-9569-8d988a1a1e1c",
   "metadata": {},
   "source": [
    "#### 将Runnable保存为JSON"
   ]
  },
  {
   "cell_type": "code",
   "execution_count": 95,
   "id": "c142f978-a4d7-4be1-8092-3294c977aae0",
   "metadata": {},
   "outputs": [],
   "source": [
    "from dotenv import load_dotenv, find_dotenv\n",
    "load_dotenv(find_dotenv(), override=True)\n",
    "\n",
    "from langchain_core.prompts import ChatPromptTemplate\n",
    "from langchain_core.runnables import RunnableGenerator\n",
    "from langchain_openai import ChatOpenAI\n",
    "from langchain.schema import StrOutputParser\n",
    "from typing import Iterator\n",
    "\n",
    "model = ChatOpenAI()\n",
    "chant = (\n",
    "    ChatPromptTemplate.from_template(\"Give me a 3 word chant about {topic}\")\n",
    "    | model\n",
    "    | StrOutputParser()\n",
    ")"
   ]
  },
  {
   "cell_type": "code",
   "execution_count": 96,
   "id": "fc6a0158-5e63-416d-88f3-81ff99f52fd4",
   "metadata": {},
   "outputs": [
    {
     "name": "stdout",
     "output_type": "stream",
     "text": [
      "{\"lc\": 1, \"type\": \"constructor\", \"id\": [\"langchain\", \"schema\", \"runnable\", \"RunnableSequence\"], \"kwargs\": {\"first\": {\"lc\": 1, \"type\": \"constructor\", \"id\": [\"langchain\", \"prompts\", \"chat\", \"ChatPromptTemplate\"], \"kwargs\": {\"input_variables\": [\"topic\"], \"messages\": [{\"lc\": 1, \"type\": \"constructor\", \"id\": [\"langchain\", \"prompts\", \"chat\", \"HumanMessagePromptTemplate\"], \"kwargs\": {\"prompt\": {\"lc\": 1, \"type\": \"constructor\", \"id\": [\"langchain\", \"prompts\", \"prompt\", \"PromptTemplate\"], \"kwargs\": {\"input_variables\": [\"topic\"], \"template\": \"Give me a 3 word chant about {topic}\", \"template_format\": \"f-string\", \"partial_variables\": {}}}}}]}}, \"middle\": [{\"lc\": 1, \"type\": \"constructor\", \"id\": [\"langchain\", \"chat_models\", \"openai\", \"ChatOpenAI\"], \"kwargs\": {\"openai_api_key\": {\"lc\": 1, \"type\": \"secret\", \"id\": [\"OPENAI_API_KEY\"]}}}], \"last\": {\"lc\": 1, \"type\": \"constructor\", \"id\": [\"langchain\", \"schema\", \"output_parser\", \"StrOutputParser\"], \"kwargs\": {}}, \"name\": null}}\n"
     ]
    }
   ],
   "source": [
    "from langchain_core.load import loads, dumps\n",
    "json = dumps(chant)\n",
    "print(json)"
   ]
  },
  {
   "cell_type": "markdown",
   "id": "c34fe0a5-4d95-4511-8917-46e5b8a34288",
   "metadata": {},
   "source": [
    "#### 从JSON中恢复Runnable并调用"
   ]
  },
  {
   "cell_type": "code",
   "execution_count": 99,
   "id": "b620d7e3-e74b-44ef-9576-6d77d9f7b30e",
   "metadata": {},
   "outputs": [
    {
     "data": {
      "text/plain": [
       "'\"Apple, sweet success!\"'"
      ]
     },
     "execution_count": 99,
     "metadata": {},
     "output_type": "execute_result"
    }
   ],
   "source": [
    "loads(json).invoke({\"topic\":\"苹果\"})"
   ]
  },
  {
   "cell_type": "markdown",
   "id": "d6d1af0a-63cb-44e8-9b8d-043cabb1b916",
   "metadata": {},
   "source": [
    "#### 根据配置动态选择Runnable对象"
   ]
  },
  {
   "cell_type": "code",
   "execution_count": 231,
   "id": "1912a9be-7785-4850-be90-bba30ff99153",
   "metadata": {
    "scrolled": true
   },
   "outputs": [],
   "source": [
    "from dotenv import load_dotenv, find_dotenv\n",
    "load_dotenv(find_dotenv(), override=True)\n",
    "\n",
    "from langchain_core.prompts import ChatPromptTemplate\n",
    "from langchain_openai import ChatOpenAI, OpenAI\n",
    "from langchain_core.runnables import ConfigurableField, RunnablePassthrough\n",
    "from langchain_core.output_parsers import StrOutputParser\n",
    "\n",
    "prompt = ChatPromptTemplate.from_template(\"Give me a 3 word chant about {topic}\")\n",
    "openai = ChatOpenAI()\n",
    "llm = OpenAI()\n",
    "output_parser = StrOutputParser()\n",
    "\n",
    "configurable_model = llm.configurable_alternatives(\n",
    "    ConfigurableField(id=\"model\"), \n",
    "    default_key=\"llm_openai\", \n",
    "    chat_openai=openai\n",
    ")\n",
    "\n",
    "configurable_chain = (\n",
    "    {\"topic\": RunnablePassthrough()} \n",
    "    | prompt \n",
    "    | configurable_model \n",
    "    | output_parser\n",
    ")"
   ]
  },
  {
   "cell_type": "code",
   "execution_count": 192,
   "id": "f995debe-49b1-4fc8-8cc1-357da777d6bf",
   "metadata": {},
   "outputs": [
    {
     "data": {
      "text/plain": [
       "'\\n\\n\"Sweet, cold, yum!\"'"
      ]
     },
     "execution_count": 192,
     "metadata": {},
     "output_type": "execute_result"
    }
   ],
   "source": [
    "configurable_chain.invoke(\n",
    "    \"ice cream\", \n",
    "    config={\"model\": \"llm_openai\"}\n",
    ")"
   ]
  },
  {
   "cell_type": "code",
   "execution_count": 193,
   "id": "94d81db8-2b05-447d-9ca2-a310f1516d07",
   "metadata": {},
   "outputs": [
    {
     "data": {
      "text/plain": [
       "'\\n\\n\"Scoop, swirl, savor!\"'"
      ]
     },
     "execution_count": 193,
     "metadata": {},
     "output_type": "execute_result"
    }
   ],
   "source": [
    "configurable_chain.invoke(\n",
    "    \"ice cream\", \n",
    "    config={\"model\": \"chat_openai\"}\n",
    ")"
   ]
  },
  {
   "cell_type": "markdown",
   "id": "b8722827-eb83-4b28-b114-6084683b60df",
   "metadata": {},
   "source": [
    "#### 查看有哪些动态选择"
   ]
  },
  {
   "cell_type": "markdown",
   "id": "f0a9a198-559c-4812-a1da-36e3bac92121",
   "metadata": {},
   "source": [
    "### RunnableSequence"
   ]
  },
  {
   "cell_type": "markdown",
   "id": "13790fd6-4b37-48e4-a4a3-6bdb35e7d14a",
   "metadata": {},
   "source": [
    "RunnableSequence 是最最重要的流程控制组件。\n",
    "\n",
    "另外，RunnableSequence 也增加了几个属性：\n",
    "- first: 第一个Runnable组件\n",
    "- middle: 中间的Runnable组件列表\n",
    "- last: 最后一个Runnable组件"
   ]
  },
  {
   "cell_type": "code",
   "execution_count": 228,
   "id": "fc4145d9-ae34-4907-bdf6-5279d9532327",
   "metadata": {},
   "outputs": [
    {
     "name": "stdout",
     "output_type": "stream",
     "text": [
      "    +---------------+    \n",
      "    | add_one_input |    \n",
      "    +---------------+    \n",
      "            *            \n",
      "            *            \n",
      "            *            \n",
      "  +-----------------+    \n",
      "  | Lambda(add_one) |    \n",
      "  +-----------------+    \n",
      "            *            \n",
      "            *            \n",
      "            *            \n",
      "+----------------------+ \n",
      "| Lambda(buggy_double) | \n",
      "+----------------------+ \n",
      "            *            \n",
      "            *            \n",
      "            *            \n",
      "+---------------------+  \n",
      "| buggy_double_output |  \n",
      "+---------------------+  \n",
      "---RunnableSequence\n",
      "<class 'langchain_core.runnables.base.RunnableLambda'>\n",
      "<class 'list'>\n",
      "<class 'langchain_core.runnables.retry.RunnableRetry'>\n"
     ]
    }
   ],
   "source": [
    "from langchain_core.runnables import RunnableLambda\n",
    "import random\n",
    "\n",
    "def add_one(x: int) -> int:\n",
    "    return x + 1\n",
    "\n",
    "def buggy_double(y: int) -> int:\n",
    "    '''Buggy code that will fail 70% of the time'''\n",
    "    if random.random() > 0.3:\n",
    "        print('This code failed, and will probably be retried!')\n",
    "        raise ValueError('Triggered buggy code')\n",
    "    return y * 2\n",
    "\n",
    "chain = (\n",
    "    RunnableLambda(add_one) |\n",
    "    RunnableLambda(buggy_double).with_retry( # Retry on failure\n",
    "        stop_after_attempt = 10,\n",
    "        wait_exponential_jitter = False\n",
    "    )\n",
    ")\n",
    "chain.get_graph().print_ascii()\n",
    "\n",
    "print(\"---RunnableSequence\")\n",
    "print(type(chain.first))\n",
    "print(type(chain.middle))\n",
    "print(type(chain.last))"
   ]
  },
  {
   "cell_type": "markdown",
   "id": "cab68d4a-e2d0-4be6-a235-3ffe463579c9",
   "metadata": {},
   "source": [
    "### RunnableParallel"
   ]
  },
  {
   "cell_type": "markdown",
   "id": "646a5ee6-e2bc-4037-9377-9eea5fe12689",
   "metadata": {},
   "source": [
    "一种情况是从同一个输入生成多个分支链："
   ]
  },
  {
   "cell_type": "code",
   "execution_count": 227,
   "id": "41ab2674-1656-47e7-b632-10131e951395",
   "metadata": {},
   "outputs": [
    {
     "name": "stdout",
     "output_type": "stream",
     "text": [
      "                    +---------------+                     \n",
      "                    | add_one_input |                     \n",
      "                    +---------------+                     \n",
      "                            *                             \n",
      "                            *                             \n",
      "                            *                             \n",
      "                  +-----------------+                     \n",
      "                  | Lambda(add_one) |                     \n",
      "                  +-----------------+                     \n",
      "                            *                             \n",
      "                            *                             \n",
      "                            *                             \n",
      "          +----------------------------------+            \n",
      "          | Parallel<mul_two,mul_three>Input |            \n",
      "          +----------------------------------+            \n",
      "                  ***               ***                   \n",
      "               ***                     ***                \n",
      "             **                           **              \n",
      "+-----------------+                 +-------------------+ \n",
      "| Lambda(mul_two) |                 | Lambda(mul_three) | \n",
      "+-----------------+                 +-------------------+ \n",
      "                  ***               ***                   \n",
      "                     ***         ***                      \n",
      "                        **     **                         \n",
      "          +-----------------------------------+           \n",
      "          | Parallel<mul_two,mul_three>Output |           \n",
      "          +-----------------------------------+           \n"
     ]
    },
    {
     "data": {
      "text/plain": [
       "[{'mul_two': 4, 'mul_three': 6},\n",
       " {'mul_two': 6, 'mul_three': 9},\n",
       " {'mul_two': 8, 'mul_three': 12}]"
      ]
     },
     "execution_count": 227,
     "metadata": {},
     "output_type": "execute_result"
    }
   ],
   "source": [
    "from langchain_core.runnables import RunnableLambda\n",
    "\n",
    "def add_one(x: int) -> int:\n",
    "    return x + 1\n",
    "\n",
    "def mul_two(x: int) -> int:\n",
    "    return x * 2\n",
    "\n",
    "def mul_three(x: int) -> int:\n",
    "    return x * 3\n",
    "\n",
    "runnable_1 = RunnableLambda(add_one)\n",
    "runnable_2 = RunnableLambda(mul_two)\n",
    "runnable_3 = RunnableLambda(mul_three)\n",
    "\n",
    "sequence = runnable_1 | {  # this dict is coerced to a RunnableParallel\n",
    "    \"mul_two\": runnable_2,\n",
    "    \"mul_three\": runnable_3,\n",
    "}\n",
    "# Or equivalently:\n",
    "# sequence = runnable_1 | RunnableParallel(\n",
    "#     {\"mul_two\": runnable_2, \"mul_three\": runnable_3}\n",
    "# )\n",
    "# Also equivalently:\n",
    "# sequence = runnable_1 | RunnableParallel(\n",
    "#     mul_two=runnable_2,\n",
    "#     mul_three=runnable_3,\n",
    "# )\n",
    "\n",
    "sequence.invoke(1)\n",
    "sequence.get_graph().print_ascii()\n",
    "\n",
    "await sequence.ainvoke(1)\n",
    "\n",
    "sequence.batch([1, 2, 3])\n",
    "await sequence.abatch([1, 2, 3])"
   ]
  },
  {
   "cell_type": "markdown",
   "id": "f1f7d97c-b790-49d6-8937-c4b6a362bc50",
   "metadata": {},
   "source": [
    "### RunnableEach"
   ]
  },
  {
   "cell_type": "markdown",
   "id": "e2c3ee8f-a0e8-470f-8f7b-1f8a520c24d4",
   "metadata": {},
   "source": [
    "如果需要让同一个链执行多次，使用 RunnableEach 非常方便。"
   ]
  },
  {
   "cell_type": "code",
   "execution_count": 224,
   "id": "5f567fa0-1393-4985-b945-9db0a2106c99",
   "metadata": {},
   "outputs": [
    {
     "name": "stdout",
     "output_type": "stream",
     "text": [
      " +--------------+  \n",
      " | myfunc_input |  \n",
      " +--------------+  \n",
      "         *         \n",
      "         *         \n",
      "         *         \n",
      "+----------------+ \n",
      "| Lambda(myfunc) | \n",
      "+----------------+ \n",
      "         *         \n",
      "         *         \n",
      "         *         \n",
      "+---------------+  \n",
      "| myfunc_output |  \n",
      "+---------------+  \n",
      "[2, 4, 6, 8]\n"
     ]
    }
   ],
   "source": [
    "from langchain_core.runnables.base import RunnableEach, chain\n",
    "\n",
    "@chain\n",
    "def myfunc(x):\n",
    "    return(x * 2)\n",
    "\n",
    "runnable_each = RunnableEach(bound = myfunc)\n",
    "runnable_each.get_graph().print_ascii()\n",
    "\n",
    "output = runnable_each.invoke(range(1, 5))\n",
    "print(output)"
   ]
  },
  {
   "cell_type": "markdown",
   "id": "9594d23d-867e-4fbd-975f-0cdbaad1f08c",
   "metadata": {},
   "source": [
    "### RunnableBranch"
   ]
  },
  {
   "cell_type": "markdown",
   "id": "703302c6-16c8-4748-8a4e-e0fefc5f70ba",
   "metadata": {},
   "source": [
    "有时候希望实现类似 ifelse 的条件分支，使用 RunnableBrach 可以接受 (条件函数, runnable) 的元组对和一个默认分支。"
   ]
  },
  {
   "cell_type": "code",
   "execution_count": 225,
   "id": "23d1db5b-1842-4a1d-b5ab-b530a6af1823",
   "metadata": {},
   "outputs": [
    {
     "name": "stdout",
     "output_type": "stream",
     "text": [
      "+-------------+  \n",
      "| BranchInput |  \n",
      "+-------------+  \n",
      "        *        \n",
      "        *        \n",
      "        *        \n",
      "   +--------+    \n",
      "   | Branch |    \n",
      "   +--------+    \n",
      "        *        \n",
      "        *        \n",
      "        *        \n",
      "+--------------+ \n",
      "| BranchOutput | \n",
      "+--------------+ \n",
      "HELLO\n",
      "6\n",
      "goodbye\n"
     ]
    }
   ],
   "source": [
    "from langchain_core.runnables import RunnableBranch, chain\n",
    "\n",
    "@chain\n",
    "def myfunc(x):\n",
    "    return(x * 2)\n",
    "\n",
    "branch = RunnableBranch(\n",
    "    (lambda x: isinstance(x, str), lambda x: x.upper()),\n",
    "    (lambda x: isinstance(x, int), myfunc),\n",
    "    lambda x: \"goodbye\",\n",
    ")\n",
    "branch.get_graph().print_ascii()\n",
    "\n",
    "print(branch.invoke(\"hello\")) # \"HELLO\"\n",
    "print(branch.invoke(3)) # 6\n",
    "print(branch.invoke(None)) # \"goodbye\""
   ]
  },
  {
   "cell_type": "markdown",
   "id": "a0855246-be22-4710-86df-ebfbbffa26ee",
   "metadata": {},
   "source": [
    "### RouterRunnable"
   ]
  },
  {
   "cell_type": "markdown",
   "id": "ad8562e4-6103-48b0-8ee3-d9875d755a59",
   "metadata": {},
   "source": [
    "条件分支中还有一种情况更为简单，适合使用RouterRunnable，可以比RunnableBranch简洁得多。\n",
    "<br>但传递参数时必须以 RouterInput 类型传入，或使用等价的字典结构。\n",
    "\n",
    "```\n",
    "class RouterInput(TypedDict):\n",
    "    key: str\n",
    "    input: Any\n",
    "```"
   ]
  },
  {
   "cell_type": "code",
   "execution_count": 226,
   "id": "2ff74e65-d0c8-43c5-aafa-ef3eede6d5d6",
   "metadata": {},
   "outputs": [
    {
     "name": "stdout",
     "output_type": "stream",
     "text": [
      "+---------------------+  \n",
      "| RouterRunnableInput |  \n",
      "+---------------------+  \n",
      "            *            \n",
      "            *            \n",
      "            *            \n",
      "   +----------------+    \n",
      "   | RouterRunnable |    \n",
      "   +----------------+    \n",
      "            *            \n",
      "            *            \n",
      "            *            \n",
      "+----------------------+ \n",
      "| RouterRunnableOutput | \n",
      "+----------------------+ \n",
      "HELLO\n",
      "hello\n"
     ]
    }
   ],
   "source": [
    "from langchain_core.runnables import RouterRunnable, chain\n",
    "\n",
    "@chain\n",
    "def lower(x):\n",
    "    return(x.lower())\n",
    "\n",
    "@chain\n",
    "def upper(x):\n",
    "    return(x.upper())\n",
    "\n",
    "router = RouterRunnable({\"lower\": lower, \"upper\": upper})\n",
    "router.get_graph().print_ascii()\n",
    "\n",
    "print(router.invoke({\"key\": \"upper\", \"input\": \"Hello\"}))\n",
    "print(router.invoke({\"key\": \"lower\", \"input\": \"Hello\"}))"
   ]
  },
  {
   "cell_type": "markdown",
   "id": "62c0d891-4836-43bf-b88c-d67934a03f92",
   "metadata": {},
   "source": [
    "## 大模型"
   ]
  },
  {
   "cell_type": "markdown",
   "id": "f55533a3-cde7-439d-92e1-3122b52d2a01",
   "metadata": {},
   "source": [
    "### 大模型相关类结构"
   ]
  },
  {
   "cell_type": "markdown",
   "id": "414f4db4-dea5-47bb-a721-f77d20f176b6",
   "metadata": {},
   "source": [
    "- BaseLanguageModel（大模型）\n",
    "    - BaseChatModel `[LanguageModelInput, LanguageModelOutputVar]`\n",
    "        - SimpleChatModel\n",
    "    - BaseLLM\n",
    "        - HuggingFacePipeline\n",
    "        - LLM\n",
    "            - FakeListLLM\n",
    "                - FakeStreamingListLLM\n",
    "            - HumanInputLLM\n",
    "            - HuggingFaceHub\n",
    "            - HuggingFaceEndpoint\n",
    "            - HuggingFaceTextGenInference\n",
    "            - QianfanLLMEndpoint\n",
    "            - BaichuanLLM\n",
    "        - BaseOpenAI\n",
    "            - OpenAI\n",
    "        - OpenAIChat\n",
    "        - Tongyi\n",
    "        - Ollama"
   ]
  },
  {
   "cell_type": "markdown",
   "id": "758d93bf-ced9-4186-880f-758de4379148",
   "metadata": {},
   "source": [
    "### 定制大模型"
   ]
  },
  {
   "cell_type": "markdown",
   "id": "621fe55f-0cde-41d8-b9ea-e6827a7603fa",
   "metadata": {},
   "source": [
    "## 提示语"
   ]
  },
  {
   "cell_type": "markdown",
   "id": "c497ab06-532c-4d30-9f0c-098dda10273a",
   "metadata": {},
   "source": [
    "### 提示语相关类结构"
   ]
  },
  {
   "cell_type": "markdown",
   "id": "179c18be-9f8d-49b6-9788-bc7e1f48ea1a",
   "metadata": {},
   "source": [
    "- BasePromptTemplate `[Dict, PromptValue]`\n",
    "    - StringPromptTemplate\n",
    "        - PromptTemplate\n",
    "        - FewShotPromptWithTemplates\n",
    "        - FewShotPromptTemplate\n",
    "    - BaseChatPromptTemplate\n",
    "        - ChatPromptTemplate\n",
    "    - ImagePromptTemplate\n",
    "    - PipelinePromptTemplate"
   ]
  },
  {
   "cell_type": "raw",
   "id": "fc6333c4-7945-48a8-a29f-6be5d1b1232e",
   "metadata": {},
   "source": [
    "BasePromptTemplate --> PipelinePromptTemplate\n",
    "                       StringPromptTemplate --> PromptTemplate\n",
    "                                                FewShotPromptTemplate\n",
    "                                                FewShotPromptWithTemplates\n",
    "                       BaseChatPromptTemplate --> AutoGPTPrompt\n",
    "                                                  ChatPromptTemplate --> AgentScratchPadChatPromptTemplate\n",
    "\n",
    "BaseMessagePromptTemplate --> MessagesPlaceholder\n",
    "                              BaseStringMessagePromptTemplate --> ChatMessagePromptTemplate\n",
    "                                                                  HumanMessagePromptTemplate\n",
    "                                                                  AIMessagePromptTemplate\n",
    "                                                                  SystemMessagePromptTemplate\n"
   ]
  },
  {
   "cell_type": "markdown",
   "id": "8252d390-7f26-495a-9378-101c64867c61",
   "metadata": {},
   "source": [
    "### 提示语模板库"
   ]
  },
  {
   "cell_type": "markdown",
   "id": "f3b8718b-7082-43b2-b891-9051f9d67084",
   "metadata": {},
   "source": [
    "### 从文件加载提示语"
   ]
  },
  {
   "cell_type": "code",
   "execution_count": null,
   "id": "2b8bb7ca-b835-4d44-8002-856044210359",
   "metadata": {},
   "outputs": [],
   "source": []
  },
  {
   "cell_type": "markdown",
   "id": "503d6913-209e-4013-94a7-31b6145b6014",
   "metadata": {},
   "source": [
    "## 检索器"
   ]
  },
  {
   "cell_type": "markdown",
   "id": "ab8ad342-3604-4bd6-8470-be2e59b41286",
   "metadata": {},
   "source": [
    "### 相关类结构"
   ]
  },
  {
   "cell_type": "markdown",
   "id": "d1efd02f-a599-417b-a2d0-073dfec29471",
   "metadata": {},
   "source": [
    "- BaseRetriever `[RetrieverInput, RetrieverOutput]`\n",
    "    - VectorStoreRetriever\n",
    "    - AzureCognitiveSearchRetriever\n",
    "    - AmazonKnowledgeBasesRetriever\n",
    "    - ChatGPTPluginRetriever\n",
    "    - ElasticSearchBM25Retriever\n",
    "    - KNNRetriever\n",
    "    - LlamaIndexRetriever\n",
    "    - MetalRetriever\n",
    "    - MilvusRetriever\n",
    "    - OutlineRetriever\n",
    "    - PineconeHybridSearchRetriever\n",
    "    - QdrantSparseVectorRetriever\n",
    "    - RemoteLangChainRetriever\n",
    "    - SVMRetriever\n",
    "    - TavilySearchAPIRetriever\n",
    "    - TFIDFRetriever\n",
    "    - WeaviateHybridSearchRetriever\n",
    "    - WikipediaRetriever\n"
   ]
  },
  {
   "cell_type": "markdown",
   "id": "401da379-dfd3-4b2e-80a9-21b9b7f02ca8",
   "metadata": {},
   "source": [
    "## Tool"
   ]
  },
  {
   "cell_type": "markdown",
   "id": "09b2df3e-3ffa-42bd-b22f-a9a9b2887a33",
   "metadata": {},
   "source": [
    "### Tool相关类结构"
   ]
  },
  {
   "cell_type": "markdown",
   "id": "37700101-b933-4ca2-9f88-2b73fd480987",
   "metadata": {},
   "source": [
    "- BaseTool `[Union[str, Dict], Any]`\n",
    "    - Tool\n",
    "    - StructuredTool\n",
    "    - HumanInputRun\n",
    "    - GitHubAction\n",
    "    - GitLabAction\n",
    "    - JsonListKeysTool\n",
    "    - JsonGetValueTool\n",
    "    - Memorize\n",
    "    - OpenWeatherMapQueryRun\n",
    "    - SleepTool\n",
    "    - ShellTool\n",
    "    - QuerySQLDataBaseTool\n",
    "    - InfoSQLDatabaseTool\n",
    "    - QuerySQLCheckerTool\n",
    "    - TavilySearchResults\n",
    "    - TavilyAnswer\n",
    "    - VectorStoreQATool\n",
    "    - VectorStoreQAWithSourcesTool\n",
    "    - WikipediaQueryRun\n",
    "\n",
    "    **Files:**\n",
    "    - CopyFileTool\n",
    "    - DeleteFileTool\n",
    "    - FileSearchTool\n",
    "    - ListDirectoryTool\n",
    "    - MoveFileTool\n",
    "    - ReadFileTool\n",
    "    - WriteFileTool\n"
   ]
  },
  {
   "cell_type": "markdown",
   "id": "5b23f5bb-952c-4006-9531-a32bdfc2151b",
   "metadata": {},
   "source": [
    "### 定制工具"
   ]
  },
  {
   "cell_type": "markdown",
   "id": "5bb685cb-9a46-4585-ae67-f7bfb1f1f394",
   "metadata": {},
   "source": [
    "## 输出解析"
   ]
  },
  {
   "cell_type": "markdown",
   "id": "f263bcce-e3ef-47b4-bb31-cf228d236678",
   "metadata": {},
   "source": [
    "### 相关类结构"
   ]
  },
  {
   "cell_type": "markdown",
   "id": "9ca07f8c-16cd-4ed4-8146-edccbb9c3777",
   "metadata": {
    "jp-MarkdownHeadingCollapsed": true
   },
   "source": [
    "- BaseGenerationOutputParser `[Union[str, BaseMessage], T]`\n",
    "    - OutputFunctionsParser\n",
    "        - PydanticOutputFunctionsParser\n",
    "            - PydanticAttrOutputFunctionsParser\n",
    "    - JsonOutputToolsParser\n",
    "        - JsonOutputKeyToolsParser\n",
    "        - PydanticToolsParser\n",
    "- BaseOutputParser\n",
    "    - BaseTransformOutputParser\n",
    "        - BaseCumulativeTransformOutputParser\n",
    "            - JsonOutputParser（别名SimpleJsonOutputParser）\n",
    "            - JsonOutputFunctionsParser\n",
    "                - JsonKeyOutputFunctionsParser\n",
    "        - StrOutputParser\n",
    "        - XMLOutputParser\n",
    "        - ListOutputParser\n",
    "            - CommaSeparatedListOutputParser\n",
    "            - NumberedListOutputParser\n",
    "            - MarkdownListOutputParser\n",
    "    - BooleanOutputParser\n",
    "    - CombiningOutputParser\n",
    "    - DatetimeOutputParser\n",
    "    - EnumOutputParser\n",
    "    - OutputFixingParser（使用LLM修复错误）\n",
    "    - PandasDataFrameOutputParser\n",
    "    - PydanticOutputParser\n",
    "    - RegexDictParser\n",
    "    - RegexParser\n",
    "    - RetryOutputParser\n",
    "    - RetryWithErrorOutputParser\n",
    "    - StructuredOutputParser\n",
    "    - YamlOutputParser\n"
   ]
  },
  {
   "cell_type": "markdown",
   "id": "ff4bcefb-21a1-4146-929e-30cdd8b0fa8b",
   "metadata": {},
   "source": [
    "### 定制一个输出解析器"
   ]
  },
  {
   "cell_type": "markdown",
   "id": "b4fede3d-d7d4-4d9e-836e-1e900a00fbb4",
   "metadata": {},
   "source": [
    "## 已实现Chains     "
   ]
  },
  {
   "cell_type": "markdown",
   "id": "b173bc36-ab41-4b03-a300-fa474d3e6155",
   "metadata": {},
   "source": [
    "- Chain\n",
    "    - LLMChain\n",
    "        - ConversationChain\n",
    "        - QuestionGeneratorChain\n",
    "        - FlareChain\n",
    "    - LLMCheckerChain\n",
    "    - LLMRequestsChain\n",
    "    - LLMMathChain（使用python代码执行数学计算）\n",
    "    - LLMSummarizationCheckerChain\n",
    "    - MapReduceChain\n",
    "    - OpenAIModerationChain\n",
    "    - SequentialChain\n",
    "    - SimpleSequentialChain\n",
    "    - APIChain\n",
    "    - BaseCombineDocumentsChain\n",
    "    - AnalyzeDocumentChain\n",
    "    - ConstitutionalChain\n",
    "    - BaseConversationalRetrievalChain\n",
    "        - ConversationalRetrievalChain\n",
    "        - ChatVectorDBChain\n",
    "    - ElasticsearchDatabaseChain\n",
    "    - NatBotChain（实现一个基于LLM的浏览器）\n",
    "    - QAGenerationChain（问答对生成）\n",
    "    - BaseQAWithSourcesChain\n",
    "        - QAWithSourcesChain\n",
    "    - BaseRetrievalQA\n",
    "        - RetrievalQA\n",
    "        - VectorDBQA\n",
    "    - RouterChain\n",
    "        - MultiRouteChain\n",
    "            - MultiRetrievalQAChain\n",
    "        - EmbeddingRouterChain\n",
    "        - LLMRouterChain"
   ]
  },
  {
   "cell_type": "markdown",
   "id": "03b7d058-efd1-4e79-a459-6e9b4940eae3",
   "metadata": {},
   "source": [
    "## 输入输出类型"
   ]
  },
  {
   "cell_type": "markdown",
   "id": "63b30bfc-0014-40cd-b72f-61600c4ca95f",
   "metadata": {},
   "source": [
    "### 消息"
   ]
  },
  {
   "cell_type": "markdown",
   "id": "a1803281-a337-4f30-8981-6fcf96c4872b",
   "metadata": {},
   "source": [
    "### 文档"
   ]
  },
  {
   "cell_type": "markdown",
   "id": "cd6d2740-9a59-4b22-8eec-ef5abafadcfe",
   "metadata": {},
   "source": [
    "## 记忆"
   ]
  },
  {
   "cell_type": "markdown",
   "id": "951a24de-8e67-4bb0-8b98-d960fabf57c4",
   "metadata": {},
   "source": [
    "## RAG"
   ]
  },
  {
   "cell_type": "markdown",
   "id": "8aded206-2b0f-457d-a76b-514fa2a0d0d4",
   "metadata": {},
   "source": [
    "### 文本处理"
   ]
  },
  {
   "cell_type": "markdown",
   "id": "11bea651-82d4-48d7-8c07-b435c0aa961b",
   "metadata": {},
   "source": [
    "### 嵌入模型"
   ]
  },
  {
   "cell_type": "markdown",
   "id": "cfa0b1d5-a073-4c70-b45b-268eea278cfe",
   "metadata": {},
   "source": [
    "### 向量库"
   ]
  },
  {
   "cell_type": "markdown",
   "id": "4df39570-06bc-4591-b703-66a1a4b0ec23",
   "metadata": {},
   "source": [
    "### 检索优化"
   ]
  },
  {
   "cell_type": "markdown",
   "id": "72132d05-d623-4c1d-afe0-7102432203dd",
   "metadata": {},
   "source": [
    "## 智能体"
   ]
  },
  {
   "cell_type": "markdown",
   "id": "b37b5de3-9f15-44f6-bf57-93df044120b7",
   "metadata": {},
   "source": [
    "### 代码结构"
   ]
  },
  {
   "cell_type": "markdown",
   "id": "54370791-a10c-4981-b825-f0a5d48fff95",
   "metadata": {},
   "source": [
    "### 工具箱"
   ]
  },
  {
   "cell_type": "markdown",
   "id": "840fa994-ec15-494d-a9e9-d089dee00ae1",
   "metadata": {},
   "source": [
    "### 定制智能体"
   ]
  },
  {
   "cell_type": "markdown",
   "id": "dad3f4a0-4a82-411b-9bb7-4a02faf28841",
   "metadata": {},
   "source": [
    "## 支持的LLM"
   ]
  },
  {
   "cell_type": "markdown",
   "id": "207a2341-2019-4d1a-9778-9a6bebdecb67",
   "metadata": {},
   "source": [
    "## 支持的向量数据库"
   ]
  },
  {
   "cell_type": "markdown",
   "id": "0cfa5206-84b8-4bd1-9696-779375d2fa61",
   "metadata": {},
   "source": [
    "## 项目模板"
   ]
  },
  {
   "cell_type": "code",
   "execution_count": null,
   "id": "303d1dfe-2773-4a49-b95b-78d840103a5c",
   "metadata": {},
   "outputs": [],
   "source": []
  }
 ],
 "metadata": {
  "kernelspec": {
   "display_name": "langchani-book-py3.10-ipykernel",
   "language": "python",
   "name": "langchani-book-py3.10-ipykernel"
  },
  "language_info": {
   "codemirror_mode": {
    "name": "ipython",
    "version": 3
   },
   "file_extension": ".py",
   "mimetype": "text/x-python",
   "name": "python",
   "nbconvert_exporter": "python",
   "pygments_lexer": "ipython3",
   "version": "3.10.0"
  }
 },
 "nbformat": 4,
 "nbformat_minor": 5
}
