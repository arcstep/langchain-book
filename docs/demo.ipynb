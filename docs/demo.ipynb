{
 "cells": [
  {
   "cell_type": "markdown",
   "id": "30caf792-2fad-48e7-9b6d-bb5bdf2c38c5",
   "metadata": {},
   "source": [
    "# 准备工作"
   ]
  },
  {
   "cell_type": "markdown",
   "id": "b008bf7c-69d9-4556-9054-96426d200426",
   "metadata": {},
   "source": [
    "## 结合poetry使用Jupyter"
   ]
  },
  {
   "cell_type": "markdown",
   "id": "0d58d7fd-8301-4178-b53f-a7df9dc02218",
   "metadata": {},
   "source": [
    "在poetry中支持jupyter和ipykernel："
   ]
  },
  {
   "cell_type": "code",
   "execution_count": null,
   "id": "f75c195e-a73c-44d9-b2fc-3d4c2e5fb494",
   "metadata": {},
   "outputs": [],
   "source": [
    "!poetry add ipykernel jupyter"
   ]
  },
  {
   "cell_type": "markdown",
   "id": "be542642-63ed-4eb9-878e-096162e9988a",
   "metadata": {},
   "source": [
    "创建一个名为`langchani-book-poetry-env`的可用内核："
   ]
  },
  {
   "cell_type": "code",
   "execution_count": null,
   "id": "b91c83c3-8e23-4abc-8955-0a92941e4d10",
   "metadata": {},
   "outputs": [],
   "source": [
    "!poetry run python -m ipykernel install --user --name=langchani-book-poetry-env"
   ]
  },
  {
   "cell_type": "markdown",
   "id": "fe53afd7-f910-4c8f-91ee-a9139c89d86b",
   "metadata": {},
   "source": [
    "## 加载环境变量"
   ]
  },
  {
   "cell_type": "code",
   "execution_count": 5,
   "id": "eff29666-236e-4b42-ae4f-78299de4a00a",
   "metadata": {},
   "outputs": [],
   "source": [
    "import os\n",
    "from dotenv import load_dotenv, find_dotenv\n",
    "\n",
    "import sys\n",
    "import io\n",
    "original_stdout = sys.stdout \n",
    "sys.stdout = io.StringIO()\n",
    "load_dotenv(find_dotenv(), override=True)\n",
    "sys.stdout = original_stdout"
   ]
  },
  {
   "cell_type": "markdown",
   "id": "f4614a71-4d62-43c3-b659-7f855d4917a0",
   "metadata": {},
   "source": [
    "## 使用客户端访问 langchain serve"
   ]
  },
  {
   "cell_type": "markdown",
   "id": "b818871a-c020-4885-a71d-f659fd47fe2d",
   "metadata": {},
   "source": [
    "如果要结合AI生成能力创建文档，下面这个封装会非常有用："
   ]
  },
  {
   "cell_type": "code",
   "execution_count": 42,
   "id": "6f890631-f59c-44c9-8592-cb675aeea322",
   "metadata": {},
   "outputs": [],
   "source": [
    "from IPython.display import display, Markdown\n",
    "def print_content(data):\n",
    "    for char in data:\n",
    "        print(char, end=\"\", flush=True)\n",
    "\n",
    "from langserve import RemoteRunnable\n",
    "def remote_runnable(base_url, runnable, params = [], debug=True):\n",
    "    chain = RemoteRunnable(f\"{base_url}/{runnable}\")\n",
    "    def ask(*args):\n",
    "        kwargs = dict(zip(params, args))\n",
    "        if debug:\n",
    "            print_content(chain.stream(kwargs))\n",
    "        else:\n",
    "            return chain.invoke(kwargs)\n",
    "    return ask"
   ]
  },
  {
   "cell_type": "code",
   "execution_count": 43,
   "id": "5a2fb317-c21d-4365-9f3a-287767af5300",
   "metadata": {},
   "outputs": [],
   "source": [
    "debug = True\n",
    "base_url = \"http://localhost:8000\"\n",
    "ask = remote_runnable(base_url, \"langserve/chat_once\", [\"question\"], debug = debug)"
   ]
  },
  {
   "cell_type": "markdown",
   "id": "a50f25aa-7a5a-4c4a-b566-c345eed279bb",
   "metadata": {},
   "source": [
    "直接使用："
   ]
  },
  {
   "cell_type": "code",
   "execution_count": 40,
   "id": "3af697c5-d0c7-4908-bc5c-2c3ec64168f8",
   "metadata": {},
   "outputs": [
    {
     "name": "stdout",
     "output_type": "stream",
     "text": [
      "大模型是指具有庞大参数量和复杂结构的机器学习模型。这些模型通常需要大量的计算资源和数据来进行训练，并且能够处理更复杂、更庞大的任务。大模型在自然语言处理、计算机视觉、语音识别等领域中得到广泛应用，能够提供更准确、更高质量的预测和结果。然而，由于其庞大的规模和复杂性，大模型的训练和部署也面临着挑战，需要更多的计算资源和优化技术来实现高效的运行。"
     ]
    }
   ],
   "source": [
    "ask(\"大模型是什么？\")"
   ]
  },
  {
   "cell_type": "code",
   "execution_count": 44,
   "id": "427caaae-7ba5-43d9-acc4-bcd3d372496c",
   "metadata": {},
   "outputs": [
    {
     "name": "stdout",
     "output_type": "stream",
     "text": [
      "要在JupyterLab中的代码中支持将流式数据打印为HTML，可以使用IPython.display模块中的display函数。以下是一个示例代码：\n",
      "\n",
      "```python\n",
      "from IPython.display import display, Markdown\n",
      "\n",
      "# 模拟流式数据的生成\n",
      "streaming_data = [\"这是第一行数据\", \"这是第二行数据\", \"这是第三行数据\"]\n",
      "\n",
      "# 创建一个Markdown对象\n",
      "markdown = Markdown(\"\")\n",
      "\n",
      "# 逐行打印流式数据\n",
      "for data in streaming_data:\n",
      "    # 更新Markdown对象的内容\n",
      "    markdown.source += data\n",
      "    \n",
      "    # 使用display函数将Markdown对象转换为HTML并打印\n",
      "    display(markdown)\n",
      "```\n",
      "\n",
      "在上述代码中，我们首先导入了`display`和`Markdown`函数。然后，我们创建了一个空的Markdown对象，并使用一个循环逐行读取流式数据。在每次循环中，我们将新的数据追加到Markdown对象的内容中，并使用`display`函数将Markdown对象转换为HTML并打印出来。\n",
      "\n",
      "请注意，这种方法只能在JupyterLab中实现流式数据的打印，而在其他环境中可能无法正常工作。"
     ]
    }
   ],
   "source": [
    "ask(\"如何在jupyterla中的代码支持markdown流式数据打印为html？注意：要打印的内容自身是流式返回数据，打印时不要还行回车，但总体能够以markdown格式做html转换显示\")"
   ]
  },
  {
   "cell_type": "code",
   "execution_count": null,
   "id": "b6febd84-1f08-407b-bd91-ac81a9708839",
   "metadata": {},
   "outputs": [],
   "source": []
  }
 ],
 "metadata": {
  "kernelspec": {
   "display_name": "langchani-book-ipykernel",
   "language": "python",
   "name": "langchani-book-ipykernel"
  },
  "language_info": {
   "codemirror_mode": {
    "name": "ipython",
    "version": 3
   },
   "file_extension": ".py",
   "mimetype": "text/x-python",
   "name": "python",
   "nbconvert_exporter": "python",
   "pygments_lexer": "ipython3",
   "version": "3.10.0"
  }
 },
 "nbformat": 4,
 "nbformat_minor": 5
}
