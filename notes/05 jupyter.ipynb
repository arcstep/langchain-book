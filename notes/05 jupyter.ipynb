{
 "cells": [
  {
   "cell_type": "markdown",
   "id": "dd24aea5-1b32-4e7c-ae0f-fd40a77eefcc",
   "metadata": {},
   "source": [
    "# 动态创建Jupyter任务"
   ]
  },
  {
   "cell_type": "markdown",
   "id": "c812269b-aea1-4e5c-ae20-e95154a6bf29",
   "metadata": {},
   "source": [
    "可以使用 Python 脚本或 API 接口在 JupyterLab 中创建一批新的 ipynb 文件，并根据需要动态创建 ipynb 的内容。\n",
    "以下是一些可以帮助您完成此任务的资源：\n",
    "\n",
    "• Jupyter API 文档\n",
    "• ipython-genutils 库\n",
    "• nbformat 库"
   ]
  },
  {
   "cell_type": "markdown",
   "id": "2aef109a-017b-4b68-9466-223ed01159be",
   "metadata": {},
   "source": [
    "## 使用 Python 脚本创建 ipynb 文件"
   ]
  },
  {
   "cell_type": "code",
   "execution_count": null,
   "id": "a48c32de-5a3f-4bb5-a058-66db8d1bc943",
   "metadata": {},
   "outputs": [],
   "source": [
    "import os\n",
    "import nbformat\n",
    "from ipython_genutils.path import filefind\n",
    "\n",
    "# 创建一个新目录来存储 ipynb 文件\n",
    "os.makedirs('new_notebooks')\n",
    "\n",
    "# 获取当前目录中所有 ipynb 文件的路径\n",
    "ipynb_files = filefind('*.ipynb')\n",
    "\n",
    "# 遍历 ipynb 文件并创建新的 ipynb 文件\n",
    "for ipynb_file in ipynb_files:\n",
    "    # 加载 ipynb 文件\n",
    "    with open(ipynb_file, 'r') as f:\n",
    "        nb = nbformat.read(f, as_version=4)\n",
    "\n",
    "    # 修改 ipynb 文件的内容\n",
    "    nb['cells'][0]['source'] = 'Hello, world!'\n",
    "\n",
    "    # 将修改后的 ipynb 文件保存到新目录中\n",
    "    with open(os.path.join('new_notebooks', os.path.basename(ipynb_file)), 'w') as f:\n",
    "        nbformat.write(nb, f)"
   ]
  },
  {
   "cell_type": "markdown",
   "id": "86576453-ed43-43dc-8fb6-c58b34ad57b6",
   "metadata": {},
   "source": [
    "## 使用 API 接口创建 ipynb 文件"
   ]
  },
  {
   "cell_type": "code",
   "execution_count": null,
   "id": "7bb5b3b9-dce9-4ce6-9af4-cb2f8663c50c",
   "metadata": {},
   "outputs": [],
   "source": [
    "import jupyterlab_api\n",
    "\n",
    "# 创建一个 JupyterLab API 客户端\n",
    "client = jupyterlab_api.Client()\n",
    "\n",
    "# 获取当前目录的路径\n",
    "cwd = client.session.get_cwd()\n",
    "\n",
    "# 创建一个新的 ipynb 文件\n",
    "new_notebook = client.notebook.create_new(cwd)\n",
    "\n",
    "# 修改 ipynb 文件的内容\n",
    "new_notebook.cells[0].source = 'Hello, world!'\n",
    "\n",
    "# 保存 ipynb 文件\n",
    "client.notebook.save(new_notebook)"
   ]
  },
  {
   "cell_type": "markdown",
   "id": "b981bb36-1fd5-4363-80db-44c15eaa32ac",
   "metadata": {},
   "source": [
    "## 获得用户输入"
   ]
  },
  {
   "cell_type": "code",
   "execution_count": 2,
   "id": "42e69ca2-6db7-4557-b5ab-1a36ae8cd136",
   "metadata": {},
   "outputs": [
    {
     "name": "stdin",
     "output_type": "stream",
     "text": [
      "请输入你的问题： hi\n"
     ]
    },
    {
     "name": "stdout",
     "output_type": "stream",
     "text": [
      "RESP: hi\n"
     ]
    }
   ],
   "source": [
    "human_input = input(\"请输入你的问题：\")\n",
    "print(f\"RESP: {human_input}\")"
   ]
  },
  {
   "cell_type": "markdown",
   "id": "293248aa-aa74-4ab4-b001-df77a3258374",
   "metadata": {},
   "source": [
    "## 使用emoji"
   ]
  },
  {
   "cell_type": "code",
   "execution_count": 23,
   "id": "27cb5c2b-8f66-4e7d-9477-f8fa752cdf0c",
   "metadata": {},
   "outputs": [
    {
     "name": "stdin",
     "output_type": "stream",
     "text": [
      "🤖：有什么可以帮您？\n",
      "🧑： hi\n"
     ]
    }
   ],
   "source": [
    "# https://carpedm20.github.io/emoji/docs/\n",
    "import emoji\n",
    "\n",
    "ai_icon = emoji.emojize(\":robot:\")\n",
    "human_icon = emoji.emojize(\":person:\")\n",
    "\n",
    "a = input(f\"{ai_icon}：有什么可以帮您？\\n{human_icon}：\")\n"
   ]
  },
  {
   "cell_type": "markdown",
   "id": "5bace1de-1283-4ff0-a843-c3e37018ab01",
   "metadata": {},
   "source": [
    "与下面的轻量级代码等价："
   ]
  },
  {
   "cell_type": "code",
   "execution_count": 10,
   "id": "3e6c83cb-e8ef-4ca1-9a9c-158913160454",
   "metadata": {},
   "outputs": [
    {
     "name": "stdin",
     "output_type": "stream",
     "text": [
      "🤖：有什么可以帮您？\n",
      "👨： 咪好\n"
     ]
    },
    {
     "data": {
      "text/plain": [
       "'咪好'"
      ]
     },
     "execution_count": 10,
     "metadata": {},
     "output_type": "execute_result"
    }
   ],
   "source": [
    "human_icon = \"\\U0001F468\"\n",
    "ai_icon = \"\\U0001F916\"\n",
    "input(f\"{ai_icon}：有什么可以帮您？\\n{human_icon}：\")"
   ]
  },
  {
   "cell_type": "code",
   "execution_count": null,
   "id": "b67d5356-18ce-43c4-bf8c-71c0230caa48",
   "metadata": {},
   "outputs": [],
   "source": []
  }
 ],
 "metadata": {
  "kernelspec": {
   "display_name": "langchani-book-py3.10-ipykernel",
   "language": "python",
   "name": "langchani-book-py3.10-ipykernel"
  },
  "language_info": {
   "codemirror_mode": {
    "name": "ipython",
    "version": 3
   },
   "file_extension": ".py",
   "mimetype": "text/x-python",
   "name": "python",
   "nbconvert_exporter": "python",
   "pygments_lexer": "ipython3",
   "version": "3.10.0"
  }
 },
 "nbformat": 4,
 "nbformat_minor": 5
}
