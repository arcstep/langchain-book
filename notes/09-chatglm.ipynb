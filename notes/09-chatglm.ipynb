{
 "cells": [
  {
   "cell_type": "markdown",
   "id": "cb040467-24c4-42a2-bf03-580a3c3ca00d",
   "metadata": {},
   "source": [
    "# ChatGLM"
   ]
  },
  {
   "cell_type": "code",
   "execution_count": 54,
   "id": "f1bdc499-2ea1-4915-8d49-63c493deb8e2",
   "metadata": {},
   "outputs": [],
   "source": [
    "from dotenv import load_dotenv, find_dotenv\n",
    "load_dotenv(find_dotenv(), override=True)\n",
    "\n",
    "import os\n",
    "zhipu_api_key = os.environ.get('ZHIPU_API_KEY')"
   ]
  },
  {
   "cell_type": "code",
   "execution_count": 1,
   "id": "76b97b17-5648-4fc6-957b-2f5ab86e0a3a",
   "metadata": {},
   "outputs": [
    {
     "name": "stdout",
     "output_type": "stream",
     "text": [
      "\u001b[33mThe currently activated Python version 3.9.18 is not supported by the project (^3.10).\n",
      "Trying to find and use a compatible version.\u001b[39m \n",
      "Using \u001b[36mpython3\u001b[39m (3.10.0)\n",
      "Using version \u001b[39;1m^2.0.1\u001b[39;22m for \u001b[36mzhipuai\u001b[39m\n",
      "\n",
      "\u001b[34mUpdating dependencies\u001b[39m\n",
      "\u001b[2K\u001b[34mResolving dependencies...\u001b[39m \u001b[39;2m(14.6s)\u001b[39;22m[34mResolving dependencies...\u001b[39m \u001b[39;2m(4.0s)\u001b[39;22m\u001b[34mResolving dependencies...\u001b[39m \u001b[39;2m(7.4s)\u001b[39;22m\u001b[34mResolving dependencies...\u001b[39m \u001b[39;2m(11.8s)\u001b[39;22m\u001b[34mResolving dependencies...\u001b[39m \u001b[39;2m(12.0s)\u001b[39;22m\u001b[34mResolving dependencies...\u001b[39m \u001b[39;2m(12.3s)\u001b[39;22m\u001b[34mResolving dependencies...\u001b[39m \u001b[39;2m(13.0s)\u001b[39;22m\u001b[34mResolving dependencies...\u001b[39m \u001b[39;2m(13.1s)\u001b[39;22m\u001b[34mResolving dependencies...\u001b[39m \u001b[39;2m(13.6s)\u001b[39;22m\n",
      "\n",
      "\u001b[39;1mPackage operations\u001b[39;22m: \u001b[34m2\u001b[39m installs, \u001b[34m0\u001b[39m updates, \u001b[34m0\u001b[39m removals\n",
      "\n",
      "  \u001b[34;1m•\u001b[39;22m \u001b[39mInstalling \u001b[39m\u001b[36mpyjwt\u001b[39m\u001b[39m (\u001b[39m\u001b[39;1m2.8.0\u001b[39;22m\u001b[39m)\u001b[39m: \u001b[34mPending...\u001b[39m\n",
      "\u001b[1A\u001b[0J  \u001b[34;1m•\u001b[39;22m \u001b[39mInstalling \u001b[39m\u001b[36mpyjwt\u001b[39m\u001b[39m (\u001b[39m\u001b[39;1m2.8.0\u001b[39;22m\u001b[39m)\u001b[39m: \u001b[34mDownloading...\u001b[39m \u001b[39;1m0%\u001b[39;22m\n",
      "\u001b[1A\u001b[0J  \u001b[34;1m•\u001b[39;22m \u001b[39mInstalling \u001b[39m\u001b[36mpyjwt\u001b[39m\u001b[39m (\u001b[39m\u001b[39;1m2.8.0\u001b[39;22m\u001b[39m)\u001b[39m: \u001b[34mDownloading...\u001b[39m \u001b[39;1m36%\u001b[39;22m\n",
      "\u001b[1A\u001b[0J  \u001b[34;1m•\u001b[39;22m \u001b[39mInstalling \u001b[39m\u001b[36mpyjwt\u001b[39m\u001b[39m (\u001b[39m\u001b[39;1m2.8.0\u001b[39;22m\u001b[39m)\u001b[39m: \u001b[34mDownloading...\u001b[39m \u001b[39;1m54%\u001b[39;22m\n",
      "\u001b[1A\u001b[0J  \u001b[34;1m•\u001b[39;22m \u001b[39mInstalling \u001b[39m\u001b[36mpyjwt\u001b[39m\u001b[39m (\u001b[39m\u001b[39;1m2.8.0\u001b[39;22m\u001b[39m)\u001b[39m: \u001b[34mDownloading...\u001b[39m \u001b[39;1m100%\u001b[39;22m\n",
      "\u001b[1A\u001b[0J  \u001b[34;1m•\u001b[39;22m \u001b[39mInstalling \u001b[39m\u001b[36mpyjwt\u001b[39m\u001b[39m (\u001b[39m\u001b[39;1m2.8.0\u001b[39;22m\u001b[39m)\u001b[39m: \u001b[34mInstalling...\u001b[39m\n",
      "\u001b[1A\u001b[0J  \u001b[32;1m•\u001b[39;22m \u001b[39mInstalling \u001b[39m\u001b[36mpyjwt\u001b[39m\u001b[39m (\u001b[39m\u001b[32m2.8.0\u001b[39m\u001b[39m)\u001b[39m\n",
      "  \u001b[34;1m•\u001b[39;22m \u001b[39mInstalling \u001b[39m\u001b[36mzhipuai\u001b[39m\u001b[39m (\u001b[39m\u001b[39;1m2.0.1\u001b[39;22m\u001b[39m)\u001b[39m: \u001b[34mPending...\u001b[39m\n",
      "\u001b[1A\u001b[0J  \u001b[34;1m•\u001b[39;22m \u001b[39mInstalling \u001b[39m\u001b[36mzhipuai\u001b[39m\u001b[39m (\u001b[39m\u001b[39;1m2.0.1\u001b[39;22m\u001b[39m)\u001b[39m: \u001b[34mDownloading...\u001b[39m \u001b[39;1m0%\u001b[39;22m\n",
      "\u001b[1A\u001b[0J  \u001b[34;1m•\u001b[39;22m \u001b[39mInstalling \u001b[39m\u001b[36mzhipuai\u001b[39m\u001b[39m (\u001b[39m\u001b[39;1m2.0.1\u001b[39;22m\u001b[39m)\u001b[39m: \u001b[34mDownloading...\u001b[39m \u001b[39;1m100%\u001b[39;22m\n",
      "\u001b[1A\u001b[0J  \u001b[34;1m•\u001b[39;22m \u001b[39mInstalling \u001b[39m\u001b[36mzhipuai\u001b[39m\u001b[39m (\u001b[39m\u001b[39;1m2.0.1\u001b[39;22m\u001b[39m)\u001b[39m: \u001b[34mInstalling...\u001b[39m\n",
      "\u001b[1A\u001b[0J  \u001b[32;1m•\u001b[39;22m \u001b[39mInstalling \u001b[39m\u001b[36mzhipuai\u001b[39m\u001b[39m (\u001b[39m\u001b[32m2.0.1\u001b[39m\u001b[39m)\u001b[39m\n",
      "\n",
      "\u001b[34mWriting lock file\u001b[39m\n"
     ]
    }
   ],
   "source": [
    "!poetry add zhipuai"
   ]
  },
  {
   "cell_type": "markdown",
   "id": "10fcd0ec-2c2c-4e89-ac98-b2995eef9a0a",
   "metadata": {},
   "source": [
    "## 智谱官方示例"
   ]
  },
  {
   "cell_type": "code",
   "execution_count": 66,
   "id": "7ca24678-629e-4686-b09b-1d6c96148975",
   "metadata": {},
   "outputs": [],
   "source": [
    "from zhipuai import ZhipuAI\n",
    "client = ZhipuAI(api_key = zhipu_api_key)"
   ]
  },
  {
   "cell_type": "code",
   "execution_count": 68,
   "id": "4315dfa7-2cd0-4027-81a5-9fb65e2c6787",
   "metadata": {},
   "outputs": [
    {
     "name": "stdout",
     "output_type": "stream",
     "text": [
      "作为一个人工智能助手，我可以帮助您完成多种任务，包括但不限于以下几项：\n",
      "\n",
      "1. **信息查询**：我可以提供关于各种主题的信息，例如科学、数学、历史、文化等。\n",
      "\n",
      "2. **语言翻译**：我可以帮助您翻译不同语言。\n",
      "\n",
      "3. **写作辅助**：我可以帮助您撰写文章、报告、电子邮件等。\n",
      "\n",
      "4. **编程帮助**：我可以提供编程相关的建议、代码示例和调试帮助。\n",
      "\n",
      "5. **学习辅导**：我可以帮助解释学术概念，辅助学习。\n",
      "\n",
      "6. **娱乐互动**：我可以参与简单的对话游戏，提供笑话、谜语等。\n",
      "\n",
      "7. **日常任务管理**：我可以帮助您设置提醒、规划日程等。\n",
      "\n",
      "8. **数据分析**：我可以帮助解释数据分析和统计概念。\n",
      "\n",
      "9. **图像识别**：我可以帮助分析并描述图片内容（如果集成了相应的图像识别功能）。\n",
      "\n",
      "10. **音乐和艺术创作**：我可以提供音乐理论知识和艺术创作建议。\n",
      "\n",
      "请注意，我的能力受限于我所接受的训练数据和算法设计。我不是万能的，有些问题可能无法解答，特别是那些需要深度专业知识或人类直觉的问题。"
     ]
    }
   ],
   "source": [
    "response = client.chat.completions.create(\n",
    "    model=\"glm-4\",\n",
    "    messages=[\n",
    "        {\"role\": \"user\", \"content\": \"你好\"},\n",
    "        {\"role\": \"assistant\", \"content\": \"我是人工智能助手\"},\n",
    "        {\"role\": \"user\", \"content\": \"你叫什么名字\"},\n",
    "        {\"role\": \"assistant\", \"content\": \"我叫chatGLM\"},\n",
    "        {\"role\": \"user\", \"content\": \"你都可以做些什么事\"}\n",
    "    ],\n",
    "    stream = True\n",
    ")\n",
    "for chunk in response:\n",
    "    print(chunk.choices[0].delta.content, end = \"\")"
   ]
  },
  {
   "cell_type": "code",
   "execution_count": 73,
   "id": "2083f8a2-b80d-49f9-a1ab-8988869b0557",
   "metadata": {},
   "outputs": [
    {
     "name": "stdout",
     "output_type": "stream",
     "text": [
      "https://sfile.chatglm.cn/testpath/586041c7-5431-55be-a3d5-83d386b900a4_0.png\n"
     ]
    }
   ],
   "source": [
    "response = client.images.generations(\n",
    "    model=\"cogview-3\", #填写需要调用的模型名称\n",
    "    prompt=\"一只可爱的小猫咪\",\n",
    ")\n",
    "print(response.data[0].url)"
   ]
  },
  {
   "cell_type": "code",
   "execution_count": 74,
   "id": "2b1669f2-b023-4eaf-9011-47c26bb65fd3",
   "metadata": {},
   "outputs": [
    {
     "name": "stdout",
     "output_type": "stream",
     "text": [
      "created=1707404014 data=[GeneratedImage(b64_json=None, url='https://sfile.chatglm.cn/testpath/586041c7-5431-55be-a3d5-83d386b900a4_0.png', revised_prompt=None)]\n"
     ]
    }
   ],
   "source": [
    "print(response)"
   ]
  },
  {
   "cell_type": "markdown",
   "id": "d0c3372e-4205-45c2-b2da-b574c0aed68a",
   "metadata": {},
   "source": [
    "## langchain集成"
   ]
  },
  {
   "cell_type": "code",
   "execution_count": 69,
   "id": "268a44cd-740a-4671-b7b9-172ed5c21e96",
   "metadata": {},
   "outputs": [],
   "source": [
    "from langchain_community.chat_models import ChatZhipuAI\n",
    "from langchain_core.messages import AIMessage, HumanMessage, SystemMessage"
   ]
  },
  {
   "cell_type": "code",
   "execution_count": 70,
   "id": "42efb0f1-4f19-494f-b3e0-8ba8941d409b",
   "metadata": {},
   "outputs": [],
   "source": [
    "llm = ChatZhipuAI(\n",
    "    temperature=0,\n",
    "    api_key=zhipu_api_key,\n",
    "    model = \"glm-4\"\n",
    ")"
   ]
  },
  {
   "cell_type": "code",
   "execution_count": 71,
   "id": "8a9e1b1b-5521-43f2-9edf-b543c9d27b08",
   "metadata": {},
   "outputs": [],
   "source": [
    "messages = [\n",
    "    AIMessage(content=\"Hi.\"),\n",
    "    SystemMessage(content=\"Your role is a poet.\"),\n",
    "    HumanMessage(content=\"写一首关于AI的四言绝句\"),\n",
    "]"
   ]
  },
  {
   "cell_type": "code",
   "execution_count": 72,
   "id": "a718438f-438c-4538-a7cd-24613b418b10",
   "metadata": {},
   "outputs": [
    {
     "name": "stdout",
     "output_type": "stream",
     "text": [
      "None\n"
     ]
    }
   ],
   "source": [
    "print(llm.invoke(messages))"
   ]
  },
  {
   "cell_type": "code",
   "execution_count": null,
   "id": "046e7115-cda9-4132-92fc-2f8364266332",
   "metadata": {},
   "outputs": [],
   "source": []
  }
 ],
 "metadata": {
  "kernelspec": {
   "display_name": "langchani-book-py3.10-ipykernel",
   "language": "python",
   "name": "langchani-book-py3.10-ipykernel"
  },
  "language_info": {
   "codemirror_mode": {
    "name": "ipython",
    "version": 3
   },
   "file_extension": ".py",
   "mimetype": "text/x-python",
   "name": "python",
   "nbconvert_exporter": "python",
   "pygments_lexer": "ipython3",
   "version": "3.10.0"
  }
 },
 "nbformat": 4,
 "nbformat_minor": 5
}
