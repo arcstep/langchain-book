{
 "cells": [
  {
   "cell_type": "markdown",
   "id": "995fb3c9-a72d-41a6-8702-4bce36e06c90",
   "metadata": {
    "editable": true,
    "slideshow": {
     "slide_type": ""
    },
    "tags": []
   },
   "source": [
    "# SQL"
   ]
  },
  {
   "cell_type": "code",
   "execution_count": 11,
   "id": "aa808cef-0bc0-414e-ac21-b49d552ca0e1",
   "metadata": {},
   "outputs": [
    {
     "data": {
      "text/plain": [
       "True"
      ]
     },
     "execution_count": 11,
     "metadata": {},
     "output_type": "execute_result"
    }
   ],
   "source": [
    "import os\n",
    "from dotenv import load_dotenv, find_dotenv\n",
    "load_dotenv(find_dotenv(), override=True)"
   ]
  },
  {
   "cell_type": "code",
   "execution_count": 12,
   "id": "7e56738d-ad62-48ca-8238-33b87a32d993",
   "metadata": {},
   "outputs": [],
   "source": [
    "from langchain.sql_database import SQLDatabase\n",
    "\n",
    "db = SQLDatabase.from_uri(\"sqlite:///data/demo.sqlite\")"
   ]
  },
  {
   "cell_type": "code",
   "execution_count": 13,
   "id": "b5e796a3-1a2f-4379-a792-9602057fbf1f",
   "metadata": {},
   "outputs": [],
   "source": [
    "from langchain_community.agent_toolkits import create_sql_agent\n",
    "from langchain_openai import ChatOpenAI\n",
    "\n",
    "llm = ChatOpenAI(model=\"gpt-3.5-turbo\", temperature=0)\n",
    "agent_executor = create_sql_agent(llm, db=db, agent_type=\"openai-tools\", verbose=True)"
   ]
  },
  {
   "cell_type": "code",
   "execution_count": 14,
   "id": "2f2e8a41-4f21-4e7c-b58d-dde545c6900b",
   "metadata": {},
   "outputs": [
    {
     "name": "stdout",
     "output_type": "stream",
     "text": [
      "\n",
      "\n",
      "\u001b[1m> Entering new AgentExecutor chain...\u001b[0m\n",
      "\u001b[32;1m\u001b[1;3m\n",
      "Invoking: `sql_db_list_tables` with ``\n",
      "\n",
      "\n",
      "\u001b[0m\u001b[38;5;200m\u001b[1;3mproducts\u001b[0m\u001b[32;1m\u001b[1;3m\n",
      "Invoking: `sql_db_schema` with `products`\n",
      "\n",
      "\n",
      "\u001b[0m\u001b[33;1m\u001b[1;3m\n",
      "CREATE TABLE products (\n",
      "\tid INTEGER NOT NULL, \n",
      "\tname CHAR(128), \n",
      "\tprice INTEGER, \n",
      "\tsales INTEGER, \n",
      "\tdescription CHAR(128), \n",
      "\tPRIMARY KEY (id, name)\n",
      ")\n",
      "\n",
      "/*\n",
      "3 rows from products table:\n",
      "id\tname\tprice\tsales\tdescription\n",
      "1\tA茶杯\t1000\t10\t纯红色主人杯\n",
      "2\tB茶杯\t2000\t189\t凤凰花纹主人杯\n",
      "3\tC茶杯\t3000\t5\t花开富贵底纹普通杯\n",
      "*/\u001b[0m\u001b[32;1m\u001b[1;3m\n",
      "Invoking: `sql_db_query` with `SELECT name, sales FROM products ORDER BY sales DESC LIMIT 1`\n",
      "\n",
      "\n",
      "\u001b[0m\u001b[36;1m\u001b[1;3m[('B茶杯', 189)]\u001b[0m\u001b[32;1m\u001b[1;3m销量最好的产品是B茶杯，销量为189。\u001b[0m\n",
      "\n",
      "\u001b[1m> Finished chain.\u001b[0m\n"
     ]
    },
    {
     "data": {
      "text/plain": [
       "{'input': '哪个产品销量最好？', 'output': '销量最好的产品是B茶杯，销量为189。'}"
      ]
     },
     "execution_count": 14,
     "metadata": {},
     "output_type": "execute_result"
    }
   ],
   "source": [
    "agent_executor.invoke(\"哪个产品销量最好？\")"
   ]
  },
  {
   "cell_type": "code",
   "execution_count": null,
   "id": "322a505d-8102-435b-8f68-16db578cbc4e",
   "metadata": {},
   "outputs": [],
   "source": []
  }
 ],
 "metadata": {
  "kernelspec": {
   "display_name": "langchani-book-py3.10-ipykernel",
   "language": "python",
   "name": "langchani-book-py3.10-ipykernel"
  },
  "language_info": {
   "codemirror_mode": {
    "name": "ipython",
    "version": 3
   },
   "file_extension": ".py",
   "mimetype": "text/x-python",
   "name": "python",
   "nbconvert_exporter": "python",
   "pygments_lexer": "ipython3",
   "version": "3.10.0"
  }
 },
 "nbformat": 4,
 "nbformat_minor": 5
}
