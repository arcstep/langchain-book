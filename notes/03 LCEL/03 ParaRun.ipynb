{
 "cells": [
  {
   "cell_type": "code",
   "execution_count": null,
   "id": "1c00f8bd-9b4d-4e11-8b1c-bd7bcc05edcf",
   "metadata": {},
   "outputs": [],
   "source": []
  },
  {
   "cell_type": "markdown",
   "id": "88ad25c6-d930-4ae0-8349-c94a5cd9d743",
   "metadata": {},
   "source": [
    "# 并发流程"
   ]
  },
  {
   "cell_type": "markdown",
   "id": "f4735c8f-d1f5-47c8-afe9-26c181c0417d",
   "metadata": {},
   "source": [
    "## 链内并发"
   ]
  },
  {
   "cell_type": "markdown",
   "id": "0b30768b-d703-47f3-8c3c-768f3672a32d",
   "metadata": {},
   "source": [
    "LCEL支持并发调用，例如使用 **RunnableParallel**："
   ]
  },
  {
   "cell_type": "code",
   "execution_count": 43,
   "id": "b2f5a818-deda-4aac-9179-6b05f44c4c94",
   "metadata": {},
   "outputs": [],
   "source": [
    "from langchain_core.runnables import RunnableParallel\n",
    "\n",
    "chain1 = ChatPromptTemplate.from_template(\"告诉我一个关于{topic}的笑话\") | model\n",
    "chain2 = (\n",
    "    ChatPromptTemplate.from_template(\"写一首关于{topic}的两行短诗\")\n",
    "    | model\n",
    ")\n",
    "combined = RunnableParallel(joke=chain1, poem=chain2)"
   ]
  },
  {
   "cell_type": "code",
   "execution_count": 44,
   "id": "4e2dab32-5451-4fe2-b85c-b3141b505010",
   "metadata": {},
   "outputs": [
    {
     "name": "stdout",
     "output_type": "stream",
     "text": [
      "CPU times: user 36.9 ms, sys: 5.02 ms, total: 42 ms\n",
      "Wall time: 7.74 s\n"
     ]
    },
    {
     "data": {
      "text/plain": [
       "[AIMessage(content='为什么熊不喜欢使用电脑？\\n因为它们总是会误键Paw（爪子）！'),\n",
       " AIMessage(content='当然！这是一个关于猫的笑话：\\n\\n有一天，一个猫咪走进了一个酒吧，走到吧台前坐下，对着酒保说：“老板，给我来一杯牛奶，不加冰块。” \\n\\n酒保看着猫咪惊讶地问道：“哇，我还没见过一只会喝牛奶的猫咪呢！你是怎么学会喝牛奶的？” \\n\\n猫咪慢慢地回答：“其实，我一开始也不会喝牛奶。有一天，我看见一只狗喝牛奶，他告诉我喝牛奶可以让我变得更强壮。” \\n\\n酒保好奇地问：“那结果呢？你变得更强壮了吗？” \\n\\n猫咪嘟起嘴巴，苦笑着说：“没有啊！我只变得更胖了！”')]"
      ]
     },
     "execution_count": 44,
     "metadata": {},
     "output_type": "execute_result"
    }
   ],
   "source": [
    "%%time\n",
    "chain1.batch([{\"topic\": \"熊\"}, {\"topic\": \"猫\"}])"
   ]
  },
  {
   "cell_type": "code",
   "execution_count": 45,
   "id": "ad3a8fdb-2fd8-4874-904f-f4b0a2d1be74",
   "metadata": {},
   "outputs": [
    {
     "name": "stdout",
     "output_type": "stream",
     "text": [
      "CPU times: user 33.5 ms, sys: 4.98 ms, total: 38.5 ms\n",
      "Wall time: 2.17 s\n"
     ]
    },
    {
     "data": {
      "text/plain": [
       "[AIMessage(content='毛茸茸熊宝宝，温暖心房笑声多。'), AIMessage(content='懒卧红蓝瓦，猫眼如夜星辉华。')]"
      ]
     },
     "execution_count": 45,
     "metadata": {},
     "output_type": "execute_result"
    }
   ],
   "source": [
    "%%time\n",
    "chain2.batch([{\"topic\": \"熊\"}, {\"topic\": \"猫\"}])"
   ]
  },
  {
   "cell_type": "code",
   "execution_count": 46,
   "id": "e8b8f95b-7164-48a6-abe8-74f0de6f77c4",
   "metadata": {},
   "outputs": [
    {
     "name": "stdout",
     "output_type": "stream",
     "text": [
      "CPU times: user 78.1 ms, sys: 7.97 ms, total: 86 ms\n",
      "Wall time: 4.15 s\n"
     ]
    },
    {
     "data": {
      "text/plain": [
       "[{'joke': AIMessage(content='当然！这是一个关于熊的笑话：\\n\\n有一天，一只熊走进了一家餐馆。熊走上吧台，对服务员说：“我想要一杯可乐和......一份烤鸡翅。”\\n服务员非常惊讶，但还是问熊：“为什么大熊要来这家餐馆点餐？”\\n熊回答说：“因为我听说这是唯一一家不加鱼的餐馆！”'),\n",
       "  'poem': AIMessage(content='熊儿啊，胸怀无尽温柔。\\n森林中，守护着自然的宝库。')},\n",
       " {'joke': AIMessage(content='为什么猫喜欢玩电脑？因为它们喜欢捉鼠标！'),\n",
       "  'poem': AIMessage(content='柔软小猫咪，眼中闪亮星辰')}]"
      ]
     },
     "execution_count": 46,
     "metadata": {},
     "output_type": "execute_result"
    }
   ],
   "source": [
    "%%time\n",
    "combined.batch([{\"topic\": \"熊\"}, {\"topic\": \"猫\"}])"
   ]
  },
  {
   "cell_type": "markdown",
   "id": "bef3c098-5dd6-47e5-9a0c-43ef7158adf0",
   "metadata": {},
   "source": [
    "## 多链并行"
   ]
  },
  {
   "cell_type": "markdown",
   "id": "80a1cc1a-1dd0-4941-ae01-3f811cc4952a",
   "metadata": {},
   "source": [
    "## 同链迭代"
   ]
  }
 ],
 "metadata": {
  "kernelspec": {
   "display_name": "langchani-book-py3.10-ipykernel",
   "language": "python",
   "name": "langchani-book-py3.10-ipykernel"
  },
  "language_info": {
   "codemirror_mode": {
    "name": "ipython",
    "version": 3
   },
   "file_extension": ".py",
   "mimetype": "text/x-python",
   "name": "python",
   "nbconvert_exporter": "python",
   "pygments_lexer": "ipython3",
   "version": "3.10.0"
  }
 },
 "nbformat": 4,
 "nbformat_minor": 5
}
