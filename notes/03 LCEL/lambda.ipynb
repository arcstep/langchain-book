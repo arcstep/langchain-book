{
 "cells": [
  {
   "cell_type": "markdown",
   "id": "64c35833-6601-4f77-817c-32d5a8c603dd",
   "metadata": {},
   "source": [
    "# RunnableLambda"
   ]
  },
  {
   "cell_type": "markdown",
   "id": "bd238cb1-9e7a-42e2-9280-becf958ead7a",
   "metadata": {},
   "source": [
    "RunnableLambda 将一个普通函数时转换为 Runnable 对象。"
   ]
  },
  {
   "cell_type": "markdown",
   "id": "0b67595a-1328-4235-bdba-f714306343ef",
   "metadata": {},
   "source": [
    "## 使用invoke和batch"
   ]
  },
  {
   "cell_type": "code",
   "execution_count": 85,
   "id": "93e42909-58df-477b-8f86-b5c8b611f1b9",
   "metadata": {},
   "outputs": [
    {
     "name": "stdout",
     "output_type": "stream",
     "text": [
      "hi Alice ! Welcome To Langchain!\n",
      "hi Alice ! Welcome To Langchain!\n"
     ]
    }
   ],
   "source": [
    "from langchain_core.runnables import RunnableLambda\n",
    "import time\n",
    "\n",
    "# 定义你的函数\n",
    "def hello(name):\n",
    "    return f\"hi {name} ! Welcome To Langchain!\"\n",
    "\n",
    "# 创建一个MyRunnableLambda实例\n",
    "runnable = RunnableLambda(hello)\n",
    "\n",
    "# 使用invoke获得一次性输出\n",
    "print(runnable.invoke(\"Alice\"))  # 输出 \"hi Alice !\"\n",
    "\n",
    "# 注意：因为hello函数没有流式输出，因此stream也是没有流式输出效果的\n",
    "for output in runnable.stream(\"Alice\"):\n",
    "    time.sleep(0.3)\n",
    "    print(output)  # 输出 \"hi Alice !\""
   ]
  },
  {
   "cell_type": "markdown",
   "id": "ab952929-bfa9-4d6a-bc31-64f7ff5bd8a9",
   "metadata": {},
   "source": [
    "## 使用batch获得批量结果"
   ]
  },
  {
   "cell_type": "code",
   "execution_count": 89,
   "id": "bffb72e0-660e-413a-b8d0-0d111f7932c3",
   "metadata": {},
   "outputs": [
    {
     "data": {
      "text/plain": [
       "['hi Alice ! Welcome To Langchain!', 'hi Bob ! Welcome To Langchain!']"
      ]
     },
     "execution_count": 89,
     "metadata": {},
     "output_type": "execute_result"
    }
   ],
   "source": [
    "# batch中会自动调用invoke\n",
    "runnable.batch([\"Alice\", \"Bob\"])"
   ]
  },
  {
   "cell_type": "markdown",
   "id": "ea8de314-4274-4d95-9ef3-725097178802",
   "metadata": {},
   "source": [
    "## 获得stream的流式输出效果"
   ]
  },
  {
   "cell_type": "code",
   "execution_count": 90,
   "id": "87037750-8792-42d3-bb41-558448e7c1f9",
   "metadata": {
    "editable": true,
    "slideshow": {
     "slide_type": ""
    },
    "tags": []
   },
   "outputs": [
    {
     "name": "stdout",
     "output_type": "stream",
     "text": [
      "hi Alice! Welcome to Langchain!\n",
      "hi Alice! Welcome to Langchain!"
     ]
    }
   ],
   "source": [
    "from langchain_core.runnables import RunnableLambda\n",
    "import time\n",
    "\n",
    "# 定义你的函数\n",
    "def hello(name):\n",
    "    yield \"hi \"\n",
    "    yield name\n",
    "    yield \"! \"\n",
    "    yield \"Welcome\"\n",
    "    yield \" to\"\n",
    "    yield \" Langchain!\"\n",
    "\n",
    "# 创建一个MyRunnableLambda实例\n",
    "runnable = RunnableLambda(hello)\n",
    "\n",
    "# invoke会等到所有结果获得后合并到一起输出\n",
    "print(runnable.invoke(\"Alice\"))  # 输出 \"hi Alice !\"\n",
    "\n",
    "# 因为hello函数实现了yield，stream就会有流式输出效果\n",
    "for output in runnable.stream(\"Alice\"):\n",
    "    time.sleep(0.3)\n",
    "    print(output, end = \"\")  # 输出 \"hi Alice !\""
   ]
  },
  {
   "cell_type": "markdown",
   "id": "c5bed17f-419a-439f-a0f5-d7b2b5863360",
   "metadata": {},
   "source": [
    "## 使用 @chain 达到同样的效果"
   ]
  },
  {
   "cell_type": "code",
   "execution_count": 91,
   "id": "36ca130f-7001-4dce-ae25-d8d405ff61f5",
   "metadata": {},
   "outputs": [
    {
     "name": "stdout",
     "output_type": "stream",
     "text": [
      "hi Alice! Welcome to Langchain!\n",
      "hi Alice! Welcome to Langchain!"
     ]
    }
   ],
   "source": [
    "from langchain_core.runnables import chain\n",
    "import time\n",
    "\n",
    "# 定义你的函数\n",
    "@chain\n",
    "def hello(name):\n",
    "    yield \"hi \"\n",
    "    yield name\n",
    "    yield \"! \"\n",
    "    yield \"Welcome\"\n",
    "    yield \" to\"\n",
    "    yield \" Langchain!\"\n",
    "\n",
    "print(hello.invoke(\"Alice\"))  # 输出 \"hi Alice !\"\n",
    "\n",
    "for output in hello.stream(\"Alice\"):\n",
    "    time.sleep(0.3)\n",
    "    print(output, end = \"\")  # 输出 \"hi Alice !\""
   ]
  },
  {
   "cell_type": "markdown",
   "id": "1b72ba77-8199-4492-aabb-d1316c8e7983",
   "metadata": {},
   "source": [
    "# RunnableGenerator"
   ]
  },
  {
   "cell_type": "markdown",
   "id": "e11b99a7-0ac6-4a3a-9e05-b05b8c89a5b7",
   "metadata": {},
   "source": [
    "RunnableGenerator是专门用于生成器优化的实现，在将链作为输入时无需特别指定即可使用。"
   ]
  },
  {
   "cell_type": "code",
   "execution_count": 149,
   "id": "d7e36d6b-ed54-42df-9d04-15421ea52449",
   "metadata": {},
   "outputs": [
    {
     "data": {
      "text/plain": [
       "'Reduce👏, reuse👏, recycle!'"
      ]
     },
     "execution_count": 149,
     "metadata": {},
     "output_type": "execute_result"
    }
   ],
   "source": [
    "from langchain_core.prompts import ChatPromptTemplate\n",
    "from langchain_core.runnables import RunnableGenerator\n",
    "from langchain_openai import ChatOpenAI\n",
    "from langchain.schema import StrOutputParser\n",
    "from typing import Iterator\n",
    "\n",
    "model = ChatOpenAI()\n",
    "chant = (\n",
    "    ChatPromptTemplate.from_template(\"Give me a 3 word chant about {topic}\")\n",
    "    | model\n",
    "    | StrOutputParser()\n",
    ")\n",
    "\n",
    "def character_generator(input: Iterator[str]) -> Iterator[str]:\n",
    "    for token in input:\n",
    "        if \",\" in token or \".\" in token:\n",
    "            yield \"👏\" + token\n",
    "        else:\n",
    "            yield token\n",
    "\n",
    "runnable = chant | character_generator\n",
    "assert type(runnable.last) is RunnableGenerator\n",
    "\"\".join(runnable.stream({\"topic\": \"waste\"})) # Reduce👏, Reuse👏, Recycle👏."
   ]
  }
 ],
 "metadata": {
  "kernelspec": {
   "display_name": "langchani-book-py3.10-ipykernel",
   "language": "python",
   "name": "langchani-book-py3.10-ipykernel"
  },
  "language_info": {
   "codemirror_mode": {
    "name": "ipython",
    "version": 3
   },
   "file_extension": ".py",
   "mimetype": "text/x-python",
   "name": "python",
   "nbconvert_exporter": "python",
   "pygments_lexer": "ipython3",
   "version": "3.10.0"
  }
 },
 "nbformat": 4,
 "nbformat_minor": 5
}
