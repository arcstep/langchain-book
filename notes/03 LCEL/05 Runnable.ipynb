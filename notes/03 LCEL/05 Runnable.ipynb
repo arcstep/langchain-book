{
 "cells": [
  {
   "cell_type": "code",
   "execution_count": null,
   "id": "12676217-9d4a-427c-bf6b-c0de755fcdac",
   "metadata": {},
   "outputs": [],
   "source": []
  },
  {
   "cell_type": "markdown",
   "id": "4909b351-1a69-4636-8284-fba0de5d1391",
   "metadata": {},
   "source": [
    "# LCEL相关类结构"
   ]
  },
  {
   "cell_type": "markdown",
   "id": "f9e09614-27bb-4c83-bfbf-b1c9249574ff",
   "metadata": {},
   "source": [
    "- Runnable\n",
    "    **实用方法:**\n",
    "    - assign()\n",
    "    - bind()\n",
    "    - with_config()\n",
    "    - get_graph()\n",
    "\n",
    "    - RunnableSerializable（**LCEL**规则主要由**RunnableSequence**和**RunnableParallel**实现）\n",
    "        **实用方法:**\n",
    "        - dumps()\n",
    "        - loads(json: str)\n",
    "\n",
    "        **配置能力:**\n",
    "        - RunnableBindingBase\n",
    "            - RunnableBinding（向Runnable实例传递参数）\n",
    "        - DynamicRunnable\n",
    "            - RunnableConfigurableFields\n",
    "            - RunnableConfigurableAlternatives\n",
    "\n",
    "        **流程控制:**\n",
    "        - RunnablePassthrough（传递额外输入）\n",
    "        - RunnableSequence（实现顺序执行，可以用重载国的`|`符号或`RunnableSequence`来构造）\n",
    "        - RunnableParallel（实现并行执行，可以用`Dict`或`RunnableParallel`类来构造，别名`RunnableMap`）\n",
    "\n",
    "        **大模型:**\n",
    "        - BaseLanguageModel\n",
    "            - BaseLLM（派生其他大模型）\n",
    "                - LLM（派生其他大模型）\n",
    "                - OpenAIChat\n",
    "                - Tongyi\n",
    "\n",
    "        **提示语:**\n",
    "        - BasePromptTemplate `[Dict, PromptValue]`\n",
    "            - StringPromptTemplate（字符串模板）\n",
    "            - BaseChatPromptTemplate（对话模板）\n",
    "            - ImagePromptTemplate\n",
    "            - PipelinePromptTemplate\n",
    "\n",
    "        **检索器:**\n",
    "        - BaseRetriever `[RetrieverInput, RetrieverOutput]`（派生各类检索器）\n",
    "\n",
    "        **Tool:**\n",
    "        - BaseTool `[Union[str, Dict], Any]`（派生各类工具）\n",
    "\n",
    "        **输出解析:**      \n",
    "        - BaseGenerationOutputParser `[Union[str, BaseMessage], T]`\n",
    "        - BaseOutputParser（派生各类输出解析）\n",
    "\n",
    "        **输入赋值:**      \n",
    "        - RunnablePassthrough\n",
    "        - RunnableAssign\n",
    "        - RunnablePick\n",
    "\n",
    "        **Chains:**      \n",
    "        - Chain（结构化Runnable）\n",
    "            - AgentExecutor（执行智能体）\n",
    "\n",
    "    **定制能力:**\n",
    "    - RunnableGenerator（常用于处理输出可能是迭代器结果的chain）\n",
    "    - RunnableLambda（常用于包装普通函数，别名函数@chain）"
   ]
  },
  {
   "cell_type": "markdown",
   "id": "7c0777be-574d-4835-a163-e2def6cae189",
   "metadata": {},
   "source": [
    "# Runnable（提供原语的基类）"
   ]
  },
  {
   "cell_type": "markdown",
   "id": "7c794074-b549-483d-8b07-475492073656",
   "metadata": {},
   "source": [
    "**LangChain Runnable** 是一种工作单元, 支持同步、异步、批处理和流式操作。\n",
    "\n",
    "**LangChain表达式语言(LCEL)** 提供了一种声明式的方法来构建使用大语言模型的生产级程序。\n",
    "\n",
    "使用 **LCEL** 和 **LangChain Runnable** 构建的程序内在地支持同步、异步、批处理和流式操作。\n",
    "\n",
    "支持异步可以让托管基于 **LCEL** 程序的服务器更好地扩展,以处理更高的并发负载。\n",
    "\n",
    "流式输出中间结果的能力可以创建更响应的用户体验。\n",
    "\n",
    "**Runnable** 模块包含了 **LangChain Runnable** 原语的模式和实现。"
   ]
  },
  {
   "cell_type": "markdown",
   "id": "c169f490-0f02-48a4-bd4e-5a1c0035d5b8",
   "metadata": {},
   "source": [
    "## 最主要的原语方法"
   ]
  },
  {
   "cell_type": "markdown",
   "id": "60f6ecac-6483-4824-b9ba-3bfac8cf10c8",
   "metadata": {},
   "source": [
    "主要方法:\n",
    "\n",
    "- invoke/ainvoke: 将单个输入转换为输出。  \n",
    "- batch/abatch: 有效地将多个输入转换为输出。\n",
    "- stream/astream: 流式输出单个输入生成的结果。\n",
    "- astream_log: 流式输出输入的输出以及所选的中间结果。\n",
    "\n",
    "内置优化:  \n",
    "\n",
    "- 批处理: 默认情况下,批处理使用线程池执行器并行运行invoke()。 \n",
    "  <br>可以重写以优化批处理。\n",
    "\n",
    "- 异步: 带有“a”后缀的方法是异步的。默认情况下,它们使用asyncio的线程池执行同步版本。\n",
    "  <br>可以重写为原生异步。\n",
    "\n",
    "所有方法都接受一个可选的config参数,可用于配置执行、添加标签和元数据,以进行跟踪、调试等。  <br/>\n",
    "Runnable通过input_schema属性、output_schema属性和config_schema方法公开其输入、输出和配置的模式信息。"
   ]
  },
  {
   "cell_type": "markdown",
   "id": "29c56b99-e17a-43d9-a2af-9fe3f2cea19b",
   "metadata": {},
   "source": [
    "## 链的基本示例"
   ]
  },
  {
   "cell_type": "markdown",
   "id": "422239e0-9963-4ae5-abe2-ff34db40cf83",
   "metadata": {},
   "source": [
    "LangChain表达式语言(LCEL)是一种声明式的方式来将Runnable组合成链。\n",
    "这样构建的任何链都将自动支持同步、异步、批处理和流操作。\n",
    "主要的组合原语是RunnableSequence和RunnableParallel。\n",
    "\n",
    "RunnableSequence按顺序调用一系列runnable,一个runnable的输出作为下一个的输入。\n",
    "可以使用 | 运算符构造,或者通过向RunnableSequence传入runnable列表。\n",
    "RunnableParallel并发调用runnable,向每个都提供相同的输入。\n",
    "可以在序列中使用字典字面量构造,或者通过向RunnableParallel传入字典来构造。"
   ]
  },
  {
   "cell_type": "markdown",
   "id": "0344433f-487c-4e01-9521-c9c1ac4d62ef",
   "metadata": {},
   "source": [
    "代码示例："
   ]
  },
  {
   "cell_type": "code",
   "execution_count": 251,
   "id": "1c39c97d-0681-4121-8a1f-cd0194628266",
   "metadata": {},
   "outputs": [
    {
     "name": "stdout",
     "output_type": "stream",
     "text": [
      "4\n",
      "[4, 5, 6]\n",
      "5\n"
     ]
    }
   ],
   "source": [
    "from langchain_core.runnables import RunnableParallel, RunnableLambda, chain\n",
    "\n",
    "@chain\n",
    "def a(x):\n",
    "    return(x + 1)\n",
    "\n",
    "@chain\n",
    "def b(x):\n",
    "    return(x + 2)\n",
    "\n",
    "@chain\n",
    "def c(dict):\n",
    "    return(dict[\"x\"] + dict[\"y\"])\n",
    "    \n",
    "sequence = a | b\n",
    "\n",
    "print(sequence.invoke(1))\n",
    "print(sequence.batch([1, 2, 3]))\n",
    "\n",
    "parral = {\"x\": a, \"y\": b} | c\n",
    "print(parral.invoke(1)) # (1+1) + (1+2) = 5"
   ]
  },
  {
   "cell_type": "markdown",
   "id": "1c95ca88-aa51-42b9-989b-38999d7199cd",
   "metadata": {},
   "source": [
    "# LCEL提供的好处"
   ]
  },
  {
   "cell_type": "markdown",
   "id": "9de08893-570c-4a05-9434-93b46ed64667",
   "metadata": {},
   "source": [
    "LangChain Expression Language（LCEL）是一种声明式语言，可轻松组合不同的调用顺序构成 Chain。LCEL 自创立之初就被设计为能够支持将原型投入生产环境，**无需代码更改**，从最简单的“提示+LLM”链到最复杂的链（已有用户成功在生产环境中运行包含数百个步骤的 LCEL Chain）。\n",
    "\n",
    "LCEL的一些亮点包括：\n",
    "\n",
    "1. **流支持**：使用 LCEL 构建 Chain 时，你可以获得最佳的首个令牌时间（即从输出开始到首批输出生成的时间）。\n",
    "对于某些 Chain，这意味着可以直接从LLM流式传输令牌到流输出解析器，从而以与 LLM 提供商输出原始令牌相同的速率获得解析后的、增量的输出。\n",
    "\n",
    "2. **异步支持**：任何使用 LCEL 构建的链条都可以通过同步API（例如，在 Jupyter 笔记本中进行原型设计时）和异步 API（例如，在 LangServe 服务器中）调用。\n",
    "这使得相同的代码可用于原型设计和生产环境，具有出色的性能，并能够在同一服务器中处理多个并发请求。\n",
    "\n",
    "3. **优化的并行执行**：当你的 LCEL 链条有可以并行执行的步骤时（例如，从多个检索器中获取文档），我们会自动执行，无论是在同步还是异步接口中，以实现最小的延迟。\n",
    "\n",
    "4. **重试和回退**：为 LCEL 链的任何部分配置重试和回退。这是使链在规模上更可靠的绝佳方式。\n",
    "目前我们正在添加重试/回退的流媒体支持，因此你可以在不增加任何延迟成本的情况下获得增加的可靠性。\n",
    "\n",
    "5. **访问中间结果**：对于更复杂的链条，访问在最终输出产生之前的中间步骤的结果通常非常有用。\n",
    "这可以用于让最终用户知道正在发生一些事情，甚至仅用于调试链条。你可以流式传输中间结果，并且在每个LangServe服务器上都可用。\n",
    "\n",
    "6. **输入和输出模式**：输入和输出模式为每个 LCEL 链提供了从链的结构推断出的 Pydantic 和 JSONSchema 模式。\n",
    "这可以用于输入和输出的验证，是 LangServe 的一个组成部分。\n",
    "\n",
    "7. **无缝LangSmith跟踪集成**：随着链条变得越来越复杂，理解每一步发生了什么变得越来越重要。\n",
    "通过 LCEL，所有步骤都自动记录到 LangSmith，以实现最大的可观察性和可调试性。\n",
    "\n",
    "8. **无缝LangServe部署集成**：任何使用 LCEL 创建的链都可以轻松地使用 LangServe 进行部署。\n",
    "\n",
    "原文：[https://python.langchain.com/docs/expression_language]()"
   ]
  },
  {
   "cell_type": "markdown",
   "id": "813af060-945e-41e1-846f-b8cc8776f804",
   "metadata": {},
   "source": [
    "## 流支持"
   ]
  },
  {
   "cell_type": "markdown",
   "id": "d249b632-c912-422b-9b18-5984dae55df3",
   "metadata": {},
   "source": [
    "## 异步支持"
   ]
  },
  {
   "cell_type": "markdown",
   "id": "0ad3ce9e-39a2-4be5-a410-8bd02316b9d8",
   "metadata": {},
   "source": [
    "## 优化的并行执行"
   ]
  },
  {
   "cell_type": "markdown",
   "id": "8dd532eb-663a-4506-9ace-59eb278fe8fe",
   "metadata": {},
   "source": [
    "## 重试和回退"
   ]
  },
  {
   "cell_type": "markdown",
   "id": "e6986c6b-bf01-40dc-b703-f64a75b3318e",
   "metadata": {},
   "source": [
    "with_retry："
   ]
  },
  {
   "cell_type": "code",
   "execution_count": 103,
   "id": "dab3a6d3-3930-437f-af53-92f4f330246f",
   "metadata": {},
   "outputs": [
    {
     "name": "stdout",
     "output_type": "stream",
     "text": [
      "---RunnableSequence\n",
      "<class 'langchain_core.runnables.base.RunnableLambda'>\n",
      "<class 'list'>\n",
      "<class 'langchain_core.runnables.retry.RunnableRetry'>\n",
      "---Runnable\n",
      "RunnableSequence\n",
      "[]\n",
      "{'title': 'add_one_input', 'type': 'integer'}\n",
      "{'title': 'buggy_double_output', 'type': 'integer'}\n",
      "This code failed, and will probably be retried!\n",
      "This code failed, and will probably be retried!\n",
      "This code failed, and will probably be retried!\n",
      "This code failed, and will probably be retried!\n",
      "This code failed, and will probably be retried!\n",
      "This code failed, and will probably be retried!\n",
      "This code failed, and will probably be retried!\n",
      "This code failed, and will probably be retried!\n",
      "This code failed, and will probably be retried!\n",
      "6\n"
     ]
    }
   ],
   "source": [
    "from langchain_core.runnables import RunnableLambda\n",
    "import random\n",
    "\n",
    "def add_one(x: int) -> int:\n",
    "    return x + 1\n",
    "\n",
    "def buggy_double(y: int) -> int:\n",
    "    '''Buggy code that will fail 70% of the time'''\n",
    "    if random.random() > 0.3:\n",
    "        print('This code failed, and will probably be retried!')\n",
    "        raise ValueError('Triggered buggy code')\n",
    "    return y * 2\n",
    "\n",
    "chain = (\n",
    "    RunnableLambda(add_one) |\n",
    "    RunnableLambda(buggy_double).with_retry( # Retry on failure\n",
    "        stop_after_attempt = 10,\n",
    "        wait_exponential_jitter = False\n",
    "    )\n",
    ")\n",
    "\n",
    "print(\"---RunnableSequence\")\n",
    "print(type(chain.first))\n",
    "print(type(chain.middle))\n",
    "print(type(chain.last))\n",
    "print(\"---Runnable\")\n",
    "print(chain.get_name())\n",
    "print(chain.get_prompts())\n",
    "print(chain.input_schema.schema()) # Show inferred input schema\n",
    "print(chain.output_schema.schema()) # Show inferred output schema\n",
    "\n",
    "print(chain.invoke(2)) # invoke the sequence (note the retry above!!)"
   ]
  },
  {
   "cell_type": "markdown",
   "id": "e49d7af1-6539-4afb-ab26-0ff80f64acc1",
   "metadata": {},
   "source": [
    "## 访问中间结果"
   ]
  },
  {
   "cell_type": "markdown",
   "id": "07117faa-b145-43a3-b4af-e70b0a7cdc54",
   "metadata": {
    "jp-MarkdownHeadingCollapsed": true
   },
   "source": [
    "**set_debug**"
   ]
  },
  {
   "cell_type": "markdown",
   "id": "be9e1a67-3c96-44d4-a65b-0acc940b90c6",
   "metadata": {},
   "source": [
    "随着链的变长,能够看到中间结果以调试和跟踪链是很有用的。<br>\n",
    "您可以将全局调试标志设置为True,以为所有链启用调试输出:"
   ]
  },
  {
   "cell_type": "code",
   "execution_count": null,
   "id": "74ae9814-3318-4512-ad67-66c7d9627dde",
   "metadata": {
    "scrolled": true
   },
   "outputs": [],
   "source": [
    "from langchain_core.globals import set_debug\n",
    "set_debug(True)\n",
    "\n",
    "chain.invoke(3)"
   ]
  },
  {
   "cell_type": "markdown",
   "id": "da974d36-6e7a-49b2-9369-63f12de70f2a",
   "metadata": {},
   "source": [
    "**callbacks**：可以将现有或自定义回调传递给任何给定的链"
   ]
  },
  {
   "cell_type": "code",
   "execution_count": null,
   "id": "3b58a80e-d394-4f6a-a13f-dd95d5810148",
   "metadata": {
    "scrolled": true
   },
   "outputs": [],
   "source": [
    "from langchain_core.tracers import ConsoleCallbackHandler\n",
    "from langchain_core.globals import set_debug\n",
    "set_debug(False)\n",
    "\n",
    "chain.invoke(\n",
    "    3,\n",
    "    config={'callbacks': [ConsoleCallbackHandler()]} # 这与设置debug为true的效果类似\n",
    ")"
   ]
  },
  {
   "cell_type": "markdown",
   "id": "8c10b17b-57ef-4840-a6b3-535bf0bca4c3",
   "metadata": {},
   "source": [
    "**绘制LCEL执行结构**"
   ]
  },
  {
   "cell_type": "code",
   "execution_count": 223,
   "id": "fab63621-b40a-4e4a-a017-4801799e9ad2",
   "metadata": {},
   "outputs": [
    {
     "name": "stdout",
     "output_type": "stream",
     "text": [
      " +---------------+   \n",
      " | add_one_input |   \n",
      " +---------------+   \n",
      "          *          \n",
      "          *          \n",
      "          *          \n",
      "+-----------------+  \n",
      "| Lambda(add_one) |  \n",
      "+-----------------+  \n",
      "          *          \n",
      "          *          \n",
      "          *          \n",
      "+-----------------+  \n",
      "| Lambda(add_one) |  \n",
      "+-----------------+  \n",
      "          *          \n",
      "          *          \n",
      "          *          \n",
      "+----------------+   \n",
      "| add_one_output |   \n",
      "+----------------+   \n"
     ]
    }
   ],
   "source": [
    "from langchain_core.runnables import RunnableLambda\n",
    "from langchain_core.runnables.graph_draw import draw\n",
    "\n",
    "def add_one(x: int) -> int:\n",
    "    return x + 1\n",
    "\n",
    "chain = (\n",
    "    RunnableLambda(add_one) | add_one\n",
    ")\n",
    "\n",
    "chain.get_graph().print_ascii()"
   ]
  },
  {
   "cell_type": "markdown",
   "id": "69e03e3e-d3ac-4c6e-ac22-95feeb1f55d3",
   "metadata": {},
   "source": [
    "# 配置能力"
   ]
  },
  {
   "cell_type": "markdown",
   "id": "9c291564-9fce-45ef-86d3-9db2211f16f6",
   "metadata": {},
   "source": [
    "`RunnableBinding` 可以被看作是一个\"Runnable对象的装饰器\"，它保留了 `Runnable` 的基本特性，即批处理、流处理和异步支持，同时添加了额外的功能。\n",
    "\n",
    "任何继承自 `Runnable` 的类都可以绑定到一个 `RunnableBinding`。\n",
    "`Runnable` 提供了一套标准的方法来创建 `RunnableBindings` 或 `RunnableBindings` 的子类（例如，`RunnableRetry`，`RunnableWithFallbacks`）以添加额外的功能。\n",
    "\n",
    "这些方法包括：\n",
    "- `bind`：绑定 kwargs 以在运行底层可运行对象时传递。\n",
    "- `with_config`：绑定配置以在运行底层可运行对象时传递。\n",
    "- `with_listeners`：将生命周期监听器绑定到底层可运行对象。\n",
    "- `with_types`：覆盖底层可运行对象的输入和输出类型。\n",
    "- `with_retry`：将重试策略绑定到底层可运行对象。\n",
    "- `with_fallbacks`：将回退策略绑定到底层可运行对象。"
   ]
  },
  {
   "cell_type": "markdown",
   "id": "926ea78e-ab6c-49fd-b768-b444a3ea4e69",
   "metadata": {},
   "source": [
    "## 配置能力相关类结构"
   ]
  },
  {
   "cell_type": "markdown",
   "id": "24fc007d-4cec-449c-a71b-556b5b81b469",
   "metadata": {},
   "source": [
    "- Runnable\n",
    "    - RunnableSerializable\n",
    "        - RunnableBindingBase\n",
    "            - RunnableBinding（向Runnable底层传递参数，`.bind()`）\n",
    "            - RunnableWithMessageHistory（支持对话历史）\n",
    "            - RunnableRetry（支持重试，`.with_retry()`）\n",
    "            - HubRunnable（访问`LangChain Hub`的实例）\n",
    "            - OpenAIFunctionsRouter\n",
    "        - DynamicRunnable（支持动态配置）\n",
    "            - RunnableConfigurableFields\n",
    "            - RunnableConfigurableAlternatives\n",
    "        - RunnableWithFallbacks（支持报错回滚，`.with_fallbacks()`）\n",
    "        - RunnableAssign（`.assign()`）"
   ]
  },
  {
   "cell_type": "markdown",
   "id": "68570986-7b54-4c16-b501-7f281ff72fd3",
   "metadata": {},
   "source": [
    "## assign"
   ]
  },
  {
   "cell_type": "markdown",
   "id": "b04157fb-c6fe-40bf-9df8-8d4801c49dc0",
   "metadata": {},
   "source": [
    "为字典对象或RunnableParallel对象赋值："
   ]
  },
  {
   "cell_type": "code",
   "execution_count": 306,
   "id": "e735a327-6d90-4f71-b59a-b7d3028e63e8",
   "metadata": {},
   "outputs": [
    {
     "name": "stdout",
     "output_type": "stream",
     "text": [
      "{'passed': {'num': 1}, 'num': 1, 'extra': {'num': 1, 'mult': 3}}\n"
     ]
    }
   ],
   "source": [
    "from langchain_core.runnables import RunnableParallel, RunnablePassthrough\n",
    "from operator import itemgetter\n",
    "\n",
    "runnable = RunnableParallel(\n",
    "    passed = RunnablePassthrough(),\n",
    "    num = itemgetter(\"num\"),\n",
    "    extra = RunnablePassthrough.assign(mult=lambda x: x[\"num\"] * 3)\n",
    ")\n",
    "\n",
    "print(runnable.invoke({\"num\": 1}))"
   ]
  },
  {
   "cell_type": "markdown",
   "id": "3ea35639-ef55-4caa-9035-8694d6e09908",
   "metadata": {},
   "source": [
    "## bind"
   ]
  },
  {
   "cell_type": "markdown",
   "id": "0d761c8a-7fdb-4f5b-b080-5330c73e1cc4",
   "metadata": {},
   "source": [
    "使用`bind`：可以绑定 kwargs 以在运行底层可运行对象时传递。"
   ]
  },
  {
   "cell_type": "markdown",
   "id": "4790986b-e489-490b-8842-6a07d1e9bd49",
   "metadata": {},
   "source": [
    "## 将 stop 传递给 OpenAI"
   ]
  },
  {
   "cell_type": "code",
   "execution_count": 256,
   "id": "678be170-2fd9-46cc-ab55-960012af6b14",
   "metadata": {},
   "outputs": [
    {
     "data": {
      "text/plain": [
       "AIMessage(content='Parrot')"
      ]
     },
     "execution_count": 256,
     "metadata": {},
     "output_type": "execute_result"
    }
   ],
   "source": [
    "# 创建一个可运行绑定，它在运行时调用 ChatModel，并传递额外的 kwarg `stop=['-']`。\n",
    "from langchain_openai import ChatOpenAI\n",
    "model = ChatOpenAI()\n",
    "model.invoke('Say \"Parrot-MAGIC\"', stop=['-']) # 应返回 `Parrot`\n",
    "\n",
    "# 通过 `bind` 方法（它返回一个新的 RunnableBinding）来简单地使用它\n",
    "runnable_binding = model.bind(stop=['-'])\n",
    "runnable_binding.invoke('Say \"Parrot-MAGIC\"') # 应返回 `Parrot`"
   ]
  },
  {
   "cell_type": "markdown",
   "id": "172e47ad-4ad1-4d32-a36b-2918381a1ef7",
   "metadata": {},
   "source": [
    "## 将 seed 传递给 OpenAI"
   ]
  },
  {
   "cell_type": "code",
   "execution_count": 262,
   "id": "a66fcf1c-bda6-4638-8af6-1c17cfbd8a8e",
   "metadata": {},
   "outputs": [
    {
     "data": {
      "text/plain": [
       "AIMessage(content='我是一个基于神经网络的模型，被称为GPT-3（Generative Pre-trained Transformer 3）。我是由OpenAI开发的，用于自然语言处理和生成文本的任务。')"
      ]
     },
     "execution_count": 262,
     "metadata": {},
     "output_type": "execute_result"
    }
   ],
   "source": [
    "model.bind(seed=42).invoke(\"你是什么模型?\")"
   ]
  },
  {
   "cell_type": "code",
   "execution_count": 263,
   "id": "842172d2-1211-4068-a487-72fc3a021148",
   "metadata": {},
   "outputs": [
    {
     "data": {
      "text/plain": [
       "AIMessage(content='我是一个基于神经网络的模型，被称为GPT-3（Generative Pre-trained Transformer 3）。我是由OpenAI开发的，用于自然语言处理和生成文本的任务。')"
      ]
     },
     "execution_count": 263,
     "metadata": {},
     "output_type": "execute_result"
    }
   ],
   "source": [
    "model.bind(seed=42).invoke(\"你是什么模型?\")"
   ]
  },
  {
   "cell_type": "code",
   "execution_count": 265,
   "id": "58bc8839-2f7f-4d18-a006-5c63a81b3eae",
   "metadata": {},
   "outputs": [
    {
     "data": {
      "text/plain": [
       "AIMessage(content='我是一个基于人工智能技术的对话系统模型，被称为GPT-3（Generative Pre-trained Transformer 3）。我被训练来理解和生成自然语言，可以提供各种领域的信息和帮助回答问题。')"
      ]
     },
     "execution_count": 265,
     "metadata": {},
     "output_type": "execute_result"
    }
   ],
   "source": [
    "model.bind(seed=43).invoke(\"你是什么模型?\")"
   ]
  }
 ],
 "metadata": {
  "kernelspec": {
   "display_name": "langchani-book-py3.10-ipykernel",
   "language": "python",
   "name": "langchani-book-py3.10-ipykernel"
  },
  "language_info": {
   "codemirror_mode": {
    "name": "ipython",
    "version": 3
   },
   "file_extension": ".py",
   "mimetype": "text/x-python",
   "name": "python",
   "nbconvert_exporter": "python",
   "pygments_lexer": "ipython3",
   "version": "3.10.0"
  }
 },
 "nbformat": 4,
 "nbformat_minor": 5
}
