{
 "cells": [
  {
   "cell_type": "markdown",
   "id": "096253ef-0a9e-42f0-9069-6718246da5db",
   "metadata": {},
   "source": [
    "# Runnable的可配置类"
   ]
  },
  {
   "cell_type": "markdown",
   "id": "5dcfca3d-1483-4cb1-b8b6-b6ec51e89db8",
   "metadata": {},
   "source": [
    "**config_schema 方法** 使用 `include` 参数和 `config_specs` 方法的返回值来创建一个 pydantic 模型，这个模型可以用来验证这个 Runnable 对象的配置。"
   ]
  },
  {
   "cell_type": "markdown",
   "id": "a6a8dc2c-788f-48bd-8400-51bcb34a457a",
   "metadata": {},
   "source": [
    "`config_specs` 方法应当返回一个 ConfigurableFieldSpec 对象的列表，每个 ConfigurableFieldSpec 对象代表一个可配置的字段。每个 ConfigurableFieldSpec 对象应该有一个 id 属性（字段的名称），一个 annotation 属性（字段的类型），以及一个 default 属性（字段的默认值）。"
   ]
  },
  {
   "cell_type": "markdown",
   "id": "50dc1a5a-41e0-4abc-a480-16d568543856",
   "metadata": {},
   "source": [
    "<div class=\"alert-info\">\n",
    "    如果想在你定制的 Runnable 子类中添加可配置的字段，你可以重载 config_specs 方法并返回一个包含你的字段的 ConfigurableFieldSpec 对象的列表。\n",
    "</div>"
   ]
  },
  {
   "cell_type": "markdown",
   "id": "1f8f28f7-cd01-437d-b659-233c84795d33",
   "metadata": {},
   "source": [
    "`include 参数`允许你选择 RunnableConfig 中已经定义的字段，这些字段将被包含在新创建的 pydantic 模型中。"
   ]
  },
  {
   "cell_type": "markdown",
   "id": "4215e89e-c3e4-47e3-b466-9fb182bc8e73",
   "metadata": {},
   "source": [
    "所以，`include` 和 `config_specs` 允许你从两个方向来定制你的配置模型：include 允许你选择已经存在的字段，而 config_specs 允许你添加新的字段。"
   ]
  },
  {
   "cell_type": "code",
   "execution_count": null,
   "id": "0a3bd8a8-d18b-4221-8121-447d6cf1a388",
   "metadata": {},
   "outputs": [],
   "source": []
  }
 ],
 "metadata": {
  "kernelspec": {
   "display_name": "langchani-book-py3.10-ipykernel",
   "language": "python",
   "name": "langchani-book-py3.10-ipykernel"
  },
  "language_info": {
   "codemirror_mode": {
    "name": "ipython",
    "version": 3
   },
   "file_extension": ".py",
   "mimetype": "text/x-python",
   "name": "python",
   "nbconvert_exporter": "python",
   "pygments_lexer": "ipython3",
   "version": "3.10.0"
  }
 },
 "nbformat": 4,
 "nbformat_minor": 5
}
