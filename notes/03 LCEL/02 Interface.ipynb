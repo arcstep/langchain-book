{
 "cells": [
  {
   "cell_type": "markdown",
   "id": "e5bb769a-703f-4b79-a0e8-7c7bd64e1b47",
   "metadata": {},
   "source": [
    "# 为何使用LCEL"
   ]
  },
  {
   "cell_type": "markdown",
   "id": "663585b9-16af-43ae-b815-dba1ce584735",
   "metadata": {},
   "source": [
    "LCEL 可以轻松地从基本组件构建复杂的链条。 \n",
    "\n",
    "它通过提供以下功能来实现此目的： \n",
    "1. 统一的接口：每个 LCEL 对象都实现 Runnable 接口，该接口定义一组通用的调用方法（invoke、batch、stream、ainvoke 等）。 这使得 LCEL 对象链也可以自动支持这些调用。 也就是说，每个 LCEL 对象链本身就是一个 LCEL 对象。\n",
    "2. 组合原语：LCEL 提供了许多原语，可以轻松组合链、并行化组件、添加后备、动态配置链内部等。\n"
   ]
  },
  {
   "cell_type": "markdown",
   "id": "4de75712-f838-49ba-8234-d5960dc89662",
   "metadata": {},
   "source": [
    "# chain的接口"
   ]
  },
  {
   "cell_type": "markdown",
   "id": "459b3b67-26f5-427b-855f-665074d35241",
   "metadata": {},
   "source": [
    "# Runnable 协议"
   ]
  },
  {
   "cell_type": "markdown",
   "id": "96b5276b-7477-4b71-b4b5-e5d99d15ff1c",
   "metadata": {},
   "source": [
    "要支持链式调用，就必须实现 **Runnable** 协议。 \n",
    "这是一个标准接口，可以轻松定义自定义链并以标准方式调用它们。 \n",
    "\n",
    "标准接口包括：\n",
    "\n",
    "- invoke：在输入上调用链\n",
    "- batch：批量执行invoke\n",
    "- stream：通过生成器实现流返回\n",
    "\n",
    "这些也有相应的异步方法：\n",
    "\n",
    "- ainvoke\n",
    "- abatch\n",
    "- astream\n",
    "- astream_log：打印中间步骤\n",
    "- astream_events：实现事件流（在 langchain-core 0.1.14 中引入）"
   ]
  },
  {
   "cell_type": "markdown",
   "id": "255a6ab9-ed58-4569-83f5-aa729d56b91a",
   "metadata": {},
   "source": [
    "不同组件的输入输出："
   ]
  },
  {
   "cell_type": "markdown",
   "id": "63a6506a-be94-4ae1-8bd7-267467bfc657",
   "metadata": {},
   "source": [
    "| 组件名称    | 输入类型   | 输出类型     |\n",
    "|-----------|------------|-------------|\n",
    "| Prompt模板    | 提示语和字典 | PromptValue |\n",
    "| Retriever | 字符串 | 文档列表 |\n",
    "| Tool      | 字符串或字典（依赖于工具的实现） | 依赖于工具的实现 |\n",
    "| ChatModel | 字符串，对话消息或PrompValue | ChatMessage |\n",
    "| LLM       | 字符串，对话消息或PrompValue | 字符串 |\n",
    "| OutputParser | LLM 或 ChatModel 的输出 | 依赖于解析器的实现 |\n"
   ]
  },
  {
   "cell_type": "markdown",
   "id": "4ee29906-1faf-491a-9eee-baee21d367f9",
   "metadata": {},
   "source": [
    "# 输入输出schema"
   ]
  },
  {
   "cell_type": "markdown",
   "id": "f3d55d32-cda5-4458-a6d1-f41ed17a8784",
   "metadata": {},
   "source": [
    "**chain**的输入输出都使用**pydantic**来检验**schema**是否合规。"
   ]
  },
  {
   "cell_type": "code",
   "execution_count": 3,
   "id": "23e5a29e-1a2d-465f-ae43-979ba2ab93bf",
   "metadata": {},
   "outputs": [],
   "source": [
    "from langchain_core.prompts import ChatPromptTemplate\n",
    "from langchain_openai import ChatOpenAI\n",
    "\n",
    "model = ChatOpenAI()\n",
    "prompt = ChatPromptTemplate.from_template(\"tell me a joke about {topic}\")\n",
    "chain = prompt | model"
   ]
  },
  {
   "cell_type": "markdown",
   "id": "9c88be6a-b652-4124-8eaf-c1512910aebf",
   "metadata": {},
   "source": [
    "## Runnable的schema"
   ]
  },
  {
   "cell_type": "code",
   "execution_count": 10,
   "id": "8962890e-f646-410e-9c43-44cb8671325e",
   "metadata": {},
   "outputs": [
    {
     "data": {
      "text/plain": [
       "PromptInput(topic=None)"
      ]
     },
     "execution_count": 10,
     "metadata": {},
     "output_type": "execute_result"
    }
   ],
   "source": [
    "prompt.input_schema()"
   ]
  },
  {
   "cell_type": "code",
   "execution_count": 2,
   "id": "be6f706d-a678-45ee-ae95-96a040dcd921",
   "metadata": {},
   "outputs": [
    {
     "data": {
      "text/plain": [
       "{'title': 'PromptInput',\n",
       " 'type': 'object',\n",
       " 'properties': {'topic': {'title': 'Topic', 'type': 'string'}}}"
      ]
     },
     "execution_count": 2,
     "metadata": {},
     "output_type": "execute_result"
    }
   ],
   "source": [
    "prompt.input_schema.schema()"
   ]
  },
  {
   "cell_type": "code",
   "execution_count": null,
   "id": "a5113763-c19c-4928-88be-04c17446a123",
   "metadata": {
    "scrolled": true
   },
   "outputs": [],
   "source": [
    "prompt.output_schema.schema()"
   ]
  },
  {
   "cell_type": "markdown",
   "id": "8b502b3c-239e-42d5-ba35-54dfcfdc11e2",
   "metadata": {},
   "source": [
    "## Chain的schema"
   ]
  },
  {
   "cell_type": "markdown",
   "id": "657a4835-7475-4d14-b73d-556c92b08c35",
   "metadata": {},
   "source": [
    "### Chain的input_schema是链序列中第一个对象的"
   ]
  },
  {
   "cell_type": "code",
   "execution_count": 27,
   "id": "abdf6747-ea08-4fc5-bac9-ae17707d3b6c",
   "metadata": {},
   "outputs": [
    {
     "data": {
      "text/plain": [
       "{'title': 'PromptInput',\n",
       " 'type': 'object',\n",
       " 'properties': {'topic': {'title': 'Topic', 'type': 'string'}}}"
      ]
     },
     "execution_count": 27,
     "metadata": {},
     "output_type": "execute_result"
    }
   ],
   "source": [
    "chain.input_schema.schema()"
   ]
  },
  {
   "cell_type": "code",
   "execution_count": 13,
   "id": "a579a98a-089c-455b-8ff6-4e4ae8f7985d",
   "metadata": {},
   "outputs": [
    {
     "data": {
      "text/plain": [
       "ChatPromptTemplate(input_variables=['topic'], messages=[HumanMessagePromptTemplate(prompt=PromptTemplate(input_variables=['topic'], template='tell me a joke about {topic}'))])"
      ]
     },
     "execution_count": 13,
     "metadata": {},
     "output_type": "execute_result"
    }
   ],
   "source": [
    "chain.first"
   ]
  },
  {
   "cell_type": "markdown",
   "id": "da534c08-51ac-411c-a85e-05f4ef64ef2b",
   "metadata": {},
   "source": [
    "### Chain的output_schema是链序列中最后一个对象的"
   ]
  },
  {
   "cell_type": "code",
   "execution_count": null,
   "id": "638712ef-c597-4deb-80d2-90af7311a266",
   "metadata": {
    "scrolled": true
   },
   "outputs": [],
   "source": [
    "chain.output_schema.schema()"
   ]
  },
  {
   "cell_type": "code",
   "execution_count": 12,
   "id": "fb140a86-8794-4d68-91e9-2b13768eb719",
   "metadata": {},
   "outputs": [
    {
     "data": {
      "text/plain": [
       "ChatOpenAI(client=<openai.resources.chat.completions.Completions object at 0x11475eb90>, async_client=<openai.resources.chat.completions.AsyncCompletions object at 0x114798f40>, openai_api_key='sk-SctYLVDdKoqPLXoKlLEMjLqHG2BhuOtQgjmMWvrTDqlKJeqz', openai_proxy='')"
      ]
     },
     "execution_count": 12,
     "metadata": {},
     "output_type": "execute_result"
    }
   ],
   "source": [
    "chain.last"
   ]
  },
  {
   "cell_type": "markdown",
   "id": "f1972cc5-ff0f-43bd-bf23-7ec75ed050dd",
   "metadata": {},
   "source": [
    "# 接口调用"
   ]
  },
  {
   "cell_type": "markdown",
   "id": "455e0dda-e5ca-47cd-ab70-a16dead35f26",
   "metadata": {},
   "source": [
    "## invoke"
   ]
  },
  {
   "cell_type": "code",
   "execution_count": null,
   "id": "e113ba7f-5e70-4e64-96a9-be41ae5039cd",
   "metadata": {},
   "outputs": [],
   "source": [
    "chain.invoke({\"topic\": \"bears\"})"
   ]
  },
  {
   "cell_type": "markdown",
   "id": "868f41e9-b9ce-43b1-ab55-ffa0c926161e",
   "metadata": {},
   "source": [
    "## ainvoke"
   ]
  },
  {
   "cell_type": "markdown",
   "id": "389fa93e-6eb2-4a9b-83c5-828d93bcc55d",
   "metadata": {},
   "source": [
    "## batch"
   ]
  },
  {
   "cell_type": "markdown",
   "id": "542f39b7-d33a-4406-a768-bef98de84410",
   "metadata": {},
   "source": [
    "## abatch"
   ]
  },
  {
   "cell_type": "markdown",
   "id": "350c52a1-33ff-4f56-97bf-0ca3d0ff45a8",
   "metadata": {},
   "source": [
    "## stream"
   ]
  },
  {
   "cell_type": "code",
   "execution_count": 37,
   "id": "e69bf362-a8b5-402f-b6c9-e84161a2fccf",
   "metadata": {},
   "outputs": [
    {
     "name": "stdout",
     "output_type": "stream",
     "text": [
      "Sure! Here's a bear joke for you:\n",
      "\n",
      "Why don't bears use cellphones?\n",
      "\n",
      "Because they already have paws for \"bear-y\" good reception!"
     ]
    }
   ],
   "source": [
    "for s in chain.stream({\"topic\": \"bears\"}):\n",
    "    print(s.content, end=\"\", flush=True)"
   ]
  },
  {
   "cell_type": "markdown",
   "id": "543959b1-fdcb-4186-b338-db9e8f84fcd4",
   "metadata": {},
   "source": [
    "## astream"
   ]
  },
  {
   "cell_type": "markdown",
   "id": "d0457430-3369-4192-a7fa-ee6e0cc555f5",
   "metadata": {},
   "source": [
    "## astream_event"
   ]
  },
  {
   "cell_type": "markdown",
   "id": "f89cbb5c-4460-486d-a583-2584f64551df",
   "metadata": {},
   "source": [
    "## astream_log"
   ]
  }
 ],
 "metadata": {
  "kernelspec": {
   "display_name": "langchani-book-py3.10-ipykernel",
   "language": "python",
   "name": "langchani-book-py3.10-ipykernel"
  },
  "language_info": {
   "codemirror_mode": {
    "name": "ipython",
    "version": 3
   },
   "file_extension": ".py",
   "mimetype": "text/x-python",
   "name": "python",
   "nbconvert_exporter": "python",
   "pygments_lexer": "ipython3",
   "version": "3.10.0"
  }
 },
 "nbformat": 4,
 "nbformat_minor": 5
}
