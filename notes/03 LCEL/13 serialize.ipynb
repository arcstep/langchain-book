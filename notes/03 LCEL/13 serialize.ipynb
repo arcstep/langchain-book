{
 "cells": [
  {
   "cell_type": "code",
   "execution_count": 6,
   "id": "90b3279d-8686-4729-9c70-0f41328f2d47",
   "metadata": {},
   "outputs": [
    {
     "data": {
      "text/plain": [
       "True"
      ]
     },
     "execution_count": 6,
     "metadata": {},
     "output_type": "execute_result"
    }
   ],
   "source": [
    "import os\n",
    "from dotenv import load_dotenv, find_dotenv\n",
    "load_dotenv(find_dotenv(), override=True)"
   ]
  },
  {
   "cell_type": "markdown",
   "id": "f6073497-88bf-4e1d-b76e-ac4b22138232",
   "metadata": {},
   "source": [
    "# 将 基本示例"
   ]
  },
  {
   "cell_type": "code",
   "execution_count": 10,
   "id": "af1c0fe5-6df8-417f-b668-4bf00ecf656f",
   "metadata": {},
   "outputs": [],
   "source": [
    "from langchain_core.output_parsers import StrOutputParser\n",
    "from langchain_core.prompts import ChatPromptTemplate\n",
    "from langchain_openai import ChatOpenAI\n",
    "\n",
    "prompt = ChatPromptTemplate.from_template(\"讲一个关于{topic}的笑话\")\n",
    "llm = ChatOpenAI(model=\"gpt-3.5-turbo-1106\")\n",
    "output_parser = StrOutputParser()\n",
    "\n",
    "chain = prompt | llm | output_parser"
   ]
  },
  {
   "cell_type": "markdown",
   "id": "a16cdab4-0978-4512-be51-c7da8e4c77f1",
   "metadata": {},
   "source": [
    "# 将 Runnable 对象序列化"
   ]
  },
  {
   "cell_type": "code",
   "execution_count": 11,
   "id": "8d31ed4c-808b-407e-b991-d56192844140",
   "metadata": {},
   "outputs": [],
   "source": [
    "from langchain_core.load import dumps, dumpd"
   ]
  },
  {
   "cell_type": "code",
   "execution_count": 13,
   "id": "a1af7158-0a28-4701-b681-cf210254199b",
   "metadata": {},
   "outputs": [
    {
     "name": "stdout",
     "output_type": "stream",
     "text": [
      "{\"lc\": 1, \"type\": \"constructor\", \"id\": [\"langchain\", \"schema\", \"runnable\", \"RunnableSequence\"], \"kwargs\": {\"first\": {\"lc\": 1, \"type\": \"constructor\", \"id\": [\"langchain\", \"prompts\", \"chat\", \"ChatPromptTemplate\"], \"kwargs\": {\"input_variables\": [\"topic\"], \"messages\": [{\"lc\": 1, \"type\": \"constructor\", \"id\": [\"langchain\", \"prompts\", \"chat\", \"HumanMessagePromptTemplate\"], \"kwargs\": {\"prompt\": {\"lc\": 1, \"type\": \"constructor\", \"id\": [\"langchain\", \"prompts\", \"prompt\", \"PromptTemplate\"], \"kwargs\": {\"input_variables\": [\"topic\"], \"template\": \"\\u8bb2\\u4e00\\u4e2a\\u5173\\u4e8e{topic}\\u7684\\u7b11\\u8bdd\", \"template_format\": \"f-string\", \"partial_variables\": {}}}}}]}}, \"middle\": [{\"lc\": 1, \"type\": \"constructor\", \"id\": [\"langchain\", \"chat_models\", \"openai\", \"ChatOpenAI\"], \"kwargs\": {\"model\": \"gpt-3.5-turbo-1106\", \"openai_api_key\": {\"lc\": 1, \"type\": \"secret\", \"id\": [\"OPENAI_API_KEY\"]}}}], \"last\": {\"lc\": 1, \"type\": \"constructor\", \"id\": [\"langchain\", \"schema\", \"output_parser\", \"StrOutputParser\"], \"kwargs\": {}}, \"name\": null}}\n"
     ]
    }
   ],
   "source": [
    "obj = dumps(chain)\n",
    "print(obj)"
   ]
  },
  {
   "cell_type": "markdown",
   "id": "1c67a524-d273-4498-97fb-55f20d02207b",
   "metadata": {},
   "source": [
    "<div class=\"alert-warning\" style=\"padding: 5px\">\n",
    "    <b>注意</b>\n",
    "    由于大部份 Runnable 对象都是从 RunnableSerializable 继承而来，所以都支持序列化和反序列化。<br>\n",
    "    但也有例外，如 RunnableLambda 和 RunnableGenerator 两个就不是。\n",
    "</div>"
   ]
  },
  {
   "cell_type": "markdown",
   "id": "90481f53-5ea0-4419-aab2-c6afc612688b",
   "metadata": {},
   "source": [
    "# 复活 Runnable 对象"
   ]
  },
  {
   "cell_type": "code",
   "execution_count": 14,
   "id": "dd9e5a40-8018-4c0d-b028-062351fd39f9",
   "metadata": {},
   "outputs": [],
   "source": [
    "from langchain_core.load import loads, load"
   ]
  },
  {
   "cell_type": "code",
   "execution_count": 16,
   "id": "178965c7-e8c5-48c3-9f3c-b552f96aae22",
   "metadata": {},
   "outputs": [
    {
     "data": {
      "text/plain": [
       "'程序员在超市买了一瓶牛奶，收银员说：“这瓶牛奶3美元。”\\n程序员说：“我可以写一个程序来帮你算出最便宜的价格吗？”\\n收银员笑着说：“不用了，3美元就行。”\\n程序员叹了口气说：“好吧，我写个算法来告诉我是否应该买这瓶牛奶。”'"
      ]
     },
     "execution_count": 16,
     "metadata": {},
     "output_type": "execute_result"
    }
   ],
   "source": [
    "loads(obj).invoke({\"topic\": \"程序员\"})"
   ]
  },
  {
   "cell_type": "markdown",
   "id": "009d14ee-fd23-447f-a423-2ffe31fc4317",
   "metadata": {},
   "source": [
    "<div class=\"alert-info\" style=\"padding: 5px\">\n",
    "    <b>注意</b>\n",
    "    你可以将 Runnable 对象序列化后保存为文件，然后从文件中复活。\n",
    "</div>"
   ]
  }
 ],
 "metadata": {
  "kernelspec": {
   "display_name": "langchani-book-py3.10-ipykernel",
   "language": "python",
   "name": "langchani-book-py3.10-ipykernel"
  },
  "language_info": {
   "codemirror_mode": {
    "name": "ipython",
    "version": 3
   },
   "file_extension": ".py",
   "mimetype": "text/x-python",
   "name": "python",
   "nbconvert_exporter": "python",
   "pygments_lexer": "ipython3",
   "version": "3.10.0"
  }
 },
 "nbformat": 4,
 "nbformat_minor": 5
}
