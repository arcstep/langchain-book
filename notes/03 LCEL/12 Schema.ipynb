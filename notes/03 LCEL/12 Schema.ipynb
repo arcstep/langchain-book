{
 "cells": [
  {
   "cell_type": "code",
   "execution_count": 22,
   "id": "c76c22b8-655d-42aa-a4b1-cd10615d69e0",
   "metadata": {},
   "outputs": [
    {
     "data": {
      "text/plain": [
       "True"
      ]
     },
     "execution_count": 22,
     "metadata": {},
     "output_type": "execute_result"
    }
   ],
   "source": [
    "import os\n",
    "from dotenv import load_dotenv, find_dotenv\n",
    "load_dotenv(find_dotenv(), override=True)"
   ]
  },
  {
   "cell_type": "markdown",
   "id": "44fa9daa-aa18-4c45-a21b-cc08bfb2a940",
   "metadata": {},
   "source": [
    "# 链的基本示例"
   ]
  },
  {
   "cell_type": "code",
   "execution_count": 20,
   "id": "380196d0-55ed-4f46-b4f1-409827182141",
   "metadata": {},
   "outputs": [
    {
     "data": {
      "text/plain": [
       "'程序员去超市买牛奶，他买了一加仑牛奶，接着他买了一个空盒子。他走到收银台，收银员问他：“为什么你买了一个空盒子？”程序员回答：“因为我需要一个容器来装我的牛奶！”'"
      ]
     },
     "execution_count": 20,
     "metadata": {},
     "output_type": "execute_result"
    }
   ],
   "source": [
    "from langchain_core.output_parsers import StrOutputParser\n",
    "from langchain_core.prompts import ChatPromptTemplate\n",
    "from langchain_openai import ChatOpenAI\n",
    "\n",
    "prompt = ChatPromptTemplate.from_template(\"讲一个关于{topic}的笑话\")\n",
    "llm = ChatOpenAI(model=\"gpt-3.5-turbo-1106\")\n",
    "output_parser = StrOutputParser()\n",
    "\n",
    "chain = prompt | llm | output_parser\n",
    "\n",
    "chain.invoke({\"topic\": \"程序员\"})"
   ]
  },
  {
   "cell_type": "markdown",
   "id": "11bd566b-11b5-4bac-ae96-c4ecd207161a",
   "metadata": {},
   "source": [
    "# 链运算就是管道模式"
   ]
  },
  {
   "cell_type": "markdown",
   "id": "eb89cbbb-e355-4495-b50b-523fbf93103d",
   "metadata": {},
   "source": [
    "以上链运算等同于下面的过程："
   ]
  },
  {
   "cell_type": "code",
   "execution_count": 21,
   "id": "ffe605f9-7540-43ac-a78d-f6655d7665b3",
   "metadata": {},
   "outputs": [
    {
     "name": "stdout",
     "output_type": "stream",
     "text": [
      "程序员在餐馆点了一份意大利面，服务员问他要不要加点酸奶酱，程序员回答道：“不用了，我已经有了源代码。”\n"
     ]
    }
   ],
   "source": [
    "input = {\"topic\": \"程序员\"}\n",
    "step1 = prompt.invoke(input)\n",
    "step2 = llm.invoke(step1)\n",
    "step3 = output_parser.invoke(step2)\n",
    "print(step3)"
   ]
  },
  {
   "cell_type": "markdown",
   "id": "3c0760fc-81c4-41df-b280-14b8e61c9605",
   "metadata": {},
   "source": [
    "# 链的输入就是链上第一个元素的输入Schema"
   ]
  },
  {
   "cell_type": "code",
   "execution_count": 5,
   "id": "c6d260a7-320a-49dd-824c-f82a81cad9ac",
   "metadata": {},
   "outputs": [
    {
     "data": {
      "text/plain": [
       "{'title': 'PromptInput',\n",
       " 'type': 'object',\n",
       " 'properties': {'topic': {'title': 'Topic', 'type': 'string'}}}"
      ]
     },
     "execution_count": 5,
     "metadata": {},
     "output_type": "execute_result"
    }
   ],
   "source": [
    "chain.input_schema.schema()"
   ]
  },
  {
   "cell_type": "code",
   "execution_count": 7,
   "id": "c5fb5581-1958-4851-b37e-b849b4fce72b",
   "metadata": {},
   "outputs": [
    {
     "data": {
      "text/plain": [
       "ChatPromptTemplate(input_variables=['topic'], messages=[HumanMessagePromptTemplate(prompt=PromptTemplate(input_variables=['topic'], template='tell me a short joke about {topic}'))])"
      ]
     },
     "execution_count": 7,
     "metadata": {},
     "output_type": "execute_result"
    }
   ],
   "source": [
    "chain.first"
   ]
  },
  {
   "cell_type": "code",
   "execution_count": 11,
   "id": "b2d7e206-afb9-4c17-88db-10b33d34e33f",
   "metadata": {},
   "outputs": [
    {
     "data": {
      "text/plain": [
       "{'title': 'PromptInput',\n",
       " 'type': 'object',\n",
       " 'properties': {'topic': {'title': 'Topic', 'type': 'string'}}}"
      ]
     },
     "execution_count": 11,
     "metadata": {},
     "output_type": "execute_result"
    }
   ],
   "source": [
    "# 与 chain.input_schema.shcema() 等同\n",
    "prompt.input_schema.schema()"
   ]
  },
  {
   "cell_type": "markdown",
   "id": "ad241094-c4a7-4029-ae4c-000b13e6fee3",
   "metadata": {},
   "source": [
    "# 链的输出就是链上最后一个元素的输出Schema"
   ]
  },
  {
   "cell_type": "code",
   "execution_count": 6,
   "id": "a8daa0c7-7ad4-4e53-b5b0-94cfc98c05dd",
   "metadata": {},
   "outputs": [
    {
     "data": {
      "text/plain": [
       "{'title': 'StrOutputParserOutput', 'type': 'string'}"
      ]
     },
     "execution_count": 6,
     "metadata": {},
     "output_type": "execute_result"
    }
   ],
   "source": [
    "chain.output_schema.schema()"
   ]
  },
  {
   "cell_type": "code",
   "execution_count": 10,
   "id": "d97cfa67-69d5-4428-9e17-7fa92ec456b6",
   "metadata": {},
   "outputs": [
    {
     "data": {
      "text/plain": [
       "StrOutputParser()"
      ]
     },
     "execution_count": 10,
     "metadata": {},
     "output_type": "execute_result"
    }
   ],
   "source": [
    "chain.last"
   ]
  },
  {
   "cell_type": "code",
   "execution_count": 12,
   "id": "f938ba44-23f7-44bb-8dbe-596e8f56c59b",
   "metadata": {},
   "outputs": [
    {
     "data": {
      "text/plain": [
       "{'title': 'StrOutputParserOutput', 'type': 'string'}"
      ]
     },
     "execution_count": 12,
     "metadata": {},
     "output_type": "execute_result"
    }
   ],
   "source": [
    "# 与 chain.output_schema.shcema() 等同\n",
    "output_parser.output_schema.schema()"
   ]
  },
  {
   "cell_type": "code",
   "execution_count": null,
   "id": "b0de93e0-0bf8-47a9-91ad-76becef3cc26",
   "metadata": {},
   "outputs": [],
   "source": []
  }
 ],
 "metadata": {
  "kernelspec": {
   "display_name": "langchani-book-py3.10-ipykernel",
   "language": "python",
   "name": "langchani-book-py3.10-ipykernel"
  },
  "language_info": {
   "codemirror_mode": {
    "name": "ipython",
    "version": 3
   },
   "file_extension": ".py",
   "mimetype": "text/x-python",
   "name": "python",
   "nbconvert_exporter": "python",
   "pygments_lexer": "ipython3",
   "version": "3.10.0"
  }
 },
 "nbformat": 4,
 "nbformat_minor": 5
}
