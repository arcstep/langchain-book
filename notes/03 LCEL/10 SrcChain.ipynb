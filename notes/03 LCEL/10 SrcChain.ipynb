{
 "cells": [
  {
   "cell_type": "markdown",
   "id": "dbf733d4-d417-4009-aec2-c27007b008bc",
   "metadata": {},
   "source": [
    "# 在LCEL出现之前的遗留Chain"
   ]
  },
  {
   "cell_type": "markdown",
   "id": "0ed0c7f5-7357-4b78-b261-a50dc802d141",
   "metadata": {},
   "source": [
    "- Runnable\n",
    "    - RunnableSerializable\n",
    "        - Chain\n",
    "            - LLMChain\n",
    "                - ConversationChain\n",
    "                - QuestionGeneratorChain\n",
    "                - FlareChain\n",
    "            - LLMCheckerChain\n",
    "            - LLMRequestsChain\n",
    "            - LLMMathChain（使用python代码执行数学计算）\n",
    "            - LLMSummarizationCheckerChain\n",
    "            - MapReduceChain\n",
    "            - OpenAIModerationChain\n",
    "            - SequentialChain\n",
    "            - SimpleSequentialChain\n",
    "            - APIChain\n",
    "            - BaseCombineDocumentsChain\n",
    "            - AnalyzeDocumentChain\n",
    "            - ConstitutionalChain\n",
    "            - BaseConversationalRetrievalChain\n",
    "                - ConversationalRetrievalChain\n",
    "                - ChatVectorDBChain\n",
    "            - ElasticsearchDatabaseChain\n",
    "            - NatBotChain（实现一个基于LLM的浏览器）\n",
    "            - QAGenerationChain（问答对生成）\n",
    "            - BaseQAWithSourcesChain\n",
    "                - QAWithSourcesChain\n",
    "            - BaseRetrievalQA\n",
    "                - RetrievalQA\n",
    "                - VectorDBQA\n",
    "            - RouterChain\n",
    "                - MultiRouteChain\n",
    "                    - MultiRetrievalQAChain\n",
    "                - EmbeddingRouterChain\n",
    "                - LLMRouterChain"
   ]
  },
  {
   "cell_type": "markdown",
   "id": "8d121a03-5a6a-4892-b578-ddc0214ff1b5",
   "metadata": {},
   "source": [
    "# 使用LCEL构建的预制 Chain"
   ]
  },
  {
   "cell_type": "markdown",
   "id": "7755f40d-b261-41bd-a578-ff9956feb1fb",
   "metadata": {},
   "source": [
    "- create_stuff_documents_chain（**携带Document**的链）\n",
    "- create_openai_fn_runnable（执行**OpenAI Function Calling**，在必要时选择一个函数执行）\n",
    "- create_structured_output_runnable （执行**OpenAI Function Calling**，强制选择至少一个函数执行）\n",
    "- load_query_constructor_runnable\n",
    "- create_sql_query_chain（生成**SQL**的链）\n",
    "- create_history_aware_retriever\n",
    "- create_retrieval_chain（结合`create_stuff_documents_chain`构建**RAG**链）"
   ]
  },
  {
   "cell_type": "markdown",
   "id": "fbcae672-d43e-4a18-a63e-2cdf526b63b7",
   "metadata": {},
   "source": [
    "## create_stuff_documents_chain"
   ]
  },
  {
   "cell_type": "code",
   "execution_count": 314,
   "id": "dda2b685-3498-4515-89b3-bf92b384addf",
   "metadata": {},
   "outputs": [
    {
     "data": {
      "text/plain": [
       "\"Jesse's favorite color is red\\nJamal's favorite color is orange\""
      ]
     },
     "execution_count": 314,
     "metadata": {},
     "output_type": "execute_result"
    }
   ],
   "source": [
    "from langchain_openai import ChatOpenAI\n",
    "from langchain_core.documents import Document\n",
    "from langchain_core.prompts import ChatPromptTemplate\n",
    "from langchain.chains.combine_documents import create_stuff_documents_chain\n",
    "\n",
    "prompt = ChatPromptTemplate.from_messages(\n",
    "    [(\"system\", \"What are everyone's favorite colors:\\n\\n{context}\")]\n",
    ")\n",
    "llm = ChatOpenAI(model_name=\"gpt-3.5-turbo\")\n",
    "chain = create_stuff_documents_chain(llm, prompt)\n",
    "\n",
    "docs = [\n",
    "    Document(page_content=\"Jesse loves red but not yellow\"),\n",
    "    Document(page_content = \"Jamal loves green but not as much as he loves orange\")\n",
    "]\n",
    "\n",
    "chain.invoke({\"context\": docs})"
   ]
  },
  {
   "cell_type": "markdown",
   "id": "c64545ff-b371-4957-ab84-25d41fb881bc",
   "metadata": {},
   "source": [
    "## create_openai_fn_runnable"
   ]
  },
  {
   "cell_type": "code",
   "execution_count": 315,
   "id": "378c2ac5-8267-4672-894a-5a35045b1a03",
   "metadata": {},
   "outputs": [
    {
     "data": {
      "text/plain": [
       "RecordDog(name='Harry', color='brown', fav_food='chicken')"
      ]
     },
     "execution_count": 315,
     "metadata": {},
     "output_type": "execute_result"
    }
   ],
   "source": [
    "from typing import Optional\n",
    "\n",
    "from langchain.chains.openai_functions import create_openai_fn_runnable\n",
    "from langchain_openai import ChatOpenAI\n",
    "from langchain_core.prompts import ChatPromptTemplate\n",
    "from langchain_core.pydantic_v1 import BaseModel, Field\n",
    "\n",
    "\n",
    "class RecordPerson(BaseModel):\n",
    "    \"\"\"Record some identifying information about a person.\"\"\"\n",
    "\n",
    "    name: str = Field(..., description=\"The person's name\")\n",
    "    age: int = Field(..., description=\"The person's age\")\n",
    "    fav_food: Optional[str] = Field(None, description=\"The person's favorite food\")\n",
    "\n",
    "\n",
    "class RecordDog(BaseModel):\n",
    "    \"\"\"Record some identifying information about a dog.\"\"\"\n",
    "\n",
    "    name: str = Field(..., description=\"The dog's name\")\n",
    "    color: str = Field(..., description=\"The dog's color\")\n",
    "    fav_food: Optional[str] = Field(None, description=\"The dog's favorite food\")\n",
    "\n",
    "\n",
    "llm = ChatOpenAI(model=\"gpt-4\", temperature=0)\n",
    "prompt = ChatPromptTemplate.from_messages(\n",
    "    [\n",
    "        (\"system\", \"You are a world class algorithm for recording entities.\"),\n",
    "        (\"human\", \"Make calls to the relevant function to record the entities in the following input: {input}\"),\n",
    "        (\"human\", \"Tip: Make sure to answer in the correct format\"),\n",
    "    ]\n",
    ")\n",
    "chain = create_openai_fn_runnable([RecordPerson, RecordDog], llm, prompt)\n",
    "chain.invoke({\"input\": \"Harry was a chubby brown beagle who loved chicken\"})\n",
    "# -> RecordDog(name=\"Harry\", color=\"brown\", fav_food=\"chicken\")"
   ]
  },
  {
   "cell_type": "markdown",
   "id": "9b38d5ef-9094-4dc0-99bb-6b44cf1cd622",
   "metadata": {},
   "source": [
    "## load_query_constructor_runnable"
   ]
  },
  {
   "cell_type": "markdown",
   "id": "f049bfed-5d0e-4c3d-aad6-8f0019ec0032",
   "metadata": {},
   "source": [
    "## create_sql_query_chain"
   ]
  },
  {
   "cell_type": "code",
   "execution_count": 328,
   "id": "530c68b8-39c9-46d4-8093-84d7c7593d9f",
   "metadata": {},
   "outputs": [
    {
     "name": "stderr",
     "output_type": "stream",
     "text": [
      "/Users/xuehongwei/Library/Caches/pypoetry/virtualenvs/langchain-book-u1j6yauo-py3.10/lib/python3.10/site-packages/duckdb_engine/__init__.py:180: DuckDBEngineWarning: duckdb-engine doesn't yet support reflection on indices\n",
      "  warnings.warn(\n"
     ]
    }
   ],
   "source": [
    "# poetry add langchain langchain-community langchain-openai\n",
    "# poetry add duckdb-engine\n",
    "from langchain_openai import ChatOpenAI\n",
    "from langchain.chains import create_sql_query_chain\n",
    "from langchain_community.utilities import SQLDatabase\n",
    "\n",
    "# 这段代码由于duckdb暂时不支持查询索引元数据，因此会出现警告信息\n",
    "db = SQLDatabase.from_uri(\"duckdb:///data/langchain.duckdb\")\n",
    "llm = ChatOpenAI(temperature=0)\n",
    "chain = create_sql_query_chain(llm, db)"
   ]
  },
  {
   "cell_type": "code",
   "execution_count": 330,
   "id": "c30924be-9030-4d2b-aedc-5f6d84cded2a",
   "metadata": {},
   "outputs": [
    {
     "name": "stdout",
     "output_type": "stream",
     "text": [
      "SELECT (LENGTH(content) / 1000) * 1000 AS length_range, COUNT(*) AS count\n",
      "FROM text_blocks\n",
      "GROUP BY length_range\n",
      "ORDER BY length_range\n",
      "LIMIT 5;\n"
     ]
    }
   ],
   "source": [
    "response = chain.invoke({\"question\": \"我想知道文本块的长度分布，按照每1000个字一个步长分别统计\"})\n",
    "print(response)"
   ]
  },
  {
   "cell_type": "markdown",
   "id": "637dda9e-1dd5-4a54-9109-e792d121d7e8",
   "metadata": {},
   "source": [
    "## create_history_aware_retriever"
   ]
  },
  {
   "cell_type": "code",
   "execution_count": null,
   "id": "3d9dfeec-0cb7-45b2-921b-7bc24518fa8f",
   "metadata": {},
   "outputs": [],
   "source": [
    "from langchain_community.chat_models import ChatOpenAI\n",
    "from langchain.chains import create_history_aware_retriever\n",
    "from langchain import hub\n",
    "\n",
    "rephrase_prompt = hub.pull(\"langchain-ai/chat-langchain-rephrase\")\n",
    "llm = ChatOpenAI()\n",
    "retriever = ...\n",
    "chat_retriever_chain = create_history_aware_retriever(\n",
    "    llm, retriever, rephrase_prompt\n",
    ")\n",
    "\n",
    "chain.invoke({\"input\": \"...\", \"chat_history\": })"
   ]
  },
  {
   "cell_type": "markdown",
   "id": "d3c8207a-b918-4e70-97af-69b7c4a3417c",
   "metadata": {},
   "source": [
    "## create_retrieval_chain"
   ]
  },
  {
   "cell_type": "code",
   "execution_count": 334,
   "id": "fd818c60-1907-43a2-aaa1-9749f40603a8",
   "metadata": {},
   "outputs": [],
   "source": [
    "from langchain_community.vectorstores import LanceDB\n",
    "from langchain_openai import OpenAIEmbeddings\n",
    "from langchain.text_splitter import CharacterTextSplitter\n",
    "from langchain_community.document_loaders import TextLoader\n",
    "\n",
    "loader = TextLoader(\"data/state_of_the_union.txt\")\n",
    "documents = loader.load()\n",
    "\n",
    "documents = CharacterTextSplitter().split_documents(documents)\n",
    "\n",
    "embeddings = OpenAIEmbeddings()"
   ]
  },
  {
   "cell_type": "code",
   "execution_count": 344,
   "id": "ac332380-9f48-4d71-ae5f-db2d0911fbf9",
   "metadata": {},
   "outputs": [],
   "source": [
    "import lancedb\n",
    "\n",
    "db = lancedb.connect(\"data/demo.lancedb\")\n",
    "table = db.create_table(\n",
    "    \"my_table\",\n",
    "    data=[\n",
    "        {\n",
    "            \"vector\": embeddings.embed_query(\"Hello World\"),\n",
    "            \"text\": \"Hello World\",\n",
    "            \"id\": \"1\",\n",
    "        }\n",
    "    ],\n",
    "    mode=\"overwrite\",\n",
    ")\n",
    "\n",
    "search_docs = LanceDB.from_documents(documents, embeddings, connection=table)\n",
    "retriever = search_docs.as_retriever()"
   ]
  },
  {
   "cell_type": "code",
   "execution_count": null,
   "id": "40844c5c-81d7-4a4c-b2cf-5c9cb534dcd2",
   "metadata": {},
   "outputs": [],
   "source": [
    "!poetry add langchainhub"
   ]
  },
  {
   "cell_type": "code",
   "execution_count": 350,
   "id": "30317ddb-dd3f-4567-9447-6937d22516ca",
   "metadata": {},
   "outputs": [
    {
     "data": {
      "text/plain": [
       "<langchain_community.vectorstores.lancedb.LanceDB at 0x12cff5450>"
      ]
     },
     "execution_count": 350,
     "metadata": {},
     "output_type": "execute_result"
    }
   ],
   "source": [
    "search_docs.search("
   ]
  },
  {
   "cell_type": "code",
   "execution_count": 348,
   "id": "04af0711-5f04-469a-ac9c-c7b25aa16c4e",
   "metadata": {},
   "outputs": [],
   "source": [
    "from langchain_community.chat_models import ChatOpenAI\n",
    "from langchain.chains.combine_documents import create_stuff_documents_chain\n",
    "from langchain.chains import create_retrieval_chain\n",
    "from langchain import hub\n",
    "\n",
    "retrieval_qa_chat_prompt = hub.pull(\"langchain-ai/retrieval-qa-chat\")\n",
    "llm = ChatOpenAI()\n",
    "combine_docs_chain = create_stuff_documents_chain(\n",
    "    llm, retrieval_qa_chat_prompt\n",
    ")\n",
    "retrieval_chain = create_retrieval_chain(retriever, combine_docs_chain)"
   ]
  },
  {
   "cell_type": "code",
   "execution_count": 349,
   "id": "10287ad5-a748-48f9-b8ac-54f2c2525d91",
   "metadata": {},
   "outputs": [
    {
     "data": {
      "text/plain": [
       "{'input': '总统说了什么？',\n",
       " 'context': [Document(page_content='Madam Speaker, Madam Vice President, our First Lady and Second Gentleman. Members of Congress and the Cabinet. Justices of the Supreme Court. My fellow Americans.  \\n\\nLast year COVID-19 kept us apart. This year we are finally together again. \\n\\nTonight, we meet as Democrats Republicans and Independents. But most importantly as Americans. \\n\\nWith a duty to one another to the American people to the Constitution. \\n\\nAnd with an unwavering resolve that freedom will always triumph over tyranny. \\n\\nSix days ago, Russia’s Vladimir Putin sought to shake the foundations of the free world thinking he could make it bend to his menacing ways. But he badly miscalculated. \\n\\nHe thought he could roll into Ukraine and the world would roll over. Instead he met a wall of strength he never imagined. \\n\\nHe met the Ukrainian people. \\n\\nFrom President Zelenskyy to every Ukrainian, their fearlessness, their courage, their determination, inspires the world. \\n\\nGroups of citizens blocking tanks with their bodies. Everyone from students to retirees teachers turned soldiers defending their homeland. \\n\\nIn this struggle as President Zelenskyy said in his speech to the European Parliament “Light will win over darkness.” The Ukrainian Ambassador to the United States is here tonight. \\n\\nLet each of us here tonight in this Chamber send an unmistakable signal to Ukraine and to the world. \\n\\nPlease rise if you are able and show that, Yes, we the United States of America stand with the Ukrainian people. \\n\\nThroughout our history we’ve learned this lesson when dictators do not pay a price for their aggression they cause more chaos.   \\n\\nThey keep moving.   \\n\\nAnd the costs and the threats to America and the world keep rising.   \\n\\nThat’s why the NATO Alliance was created to secure peace and stability in Europe after World War 2. \\n\\nThe United States is a member along with 29 other nations. \\n\\nIt matters. American diplomacy matters. American resolve matters. \\n\\nPutin’s latest attack on Ukraine was premeditated and unprovoked. \\n\\nHe rejected repeated efforts at diplomacy. \\n\\nHe thought the West and NATO wouldn’t respond. And he thought he could divide us at home. Putin was wrong. We were ready.  Here is what we did.   \\n\\nWe prepared extensively and carefully. \\n\\nWe spent months building a coalition of other freedom-loving nations from Europe and the Americas to Asia and Africa to confront Putin. \\n\\nI spent countless hours unifying our European allies. We shared with the world in advance what we knew Putin was planning and precisely how he would try to falsely justify his aggression.  \\n\\nWe countered Russia’s lies with truth.   \\n\\nAnd now that he has acted the free world is holding him accountable. \\n\\nAlong with twenty-seven members of the European Union including France, Germany, Italy, as well as countries like the United Kingdom, Canada, Japan, Korea, Australia, New Zealand, and many others, even Switzerland. \\n\\nWe are inflicting pain on Russia and supporting the people of Ukraine. Putin is now isolated from the world more than ever. \\n\\nTogether with our allies –we are right now enforcing powerful economic sanctions. \\n\\nWe are cutting off Russia’s largest banks from the international financial system.  \\n\\nPreventing Russia’s central bank from defending the Russian Ruble making Putin’s $630 Billion “war fund” worthless.   \\n\\nWe are choking off Russia’s access to technology that will sap its economic strength and weaken its military for years to come.  \\n\\nTonight I say to the Russian oligarchs and corrupt leaders who have bilked billions of dollars off this violent regime no more. \\n\\nThe U.S. Department of Justice is assembling a dedicated task force to go after the crimes of Russian oligarchs.  \\n\\nWe are joining with our European allies to find and seize your yachts your luxury apartments your private jets. We are coming for your ill-begotten gains.', metadata={'vector': array([-0.00365787, -0.02292356, -0.01156492, ..., -0.01817933,\n",
       "          0.01212872, -0.01853687], dtype=float32), 'id': '7393f846-04b4-4359-ab4d-4d79fa08bb6b', '_distance': 0.4615442454814911}),\n",
       "  Document(page_content='We are the only nation on Earth that has always turned every crisis we have faced into an opportunity. \\n\\nThe only nation that can be defined by a single word: possibilities. \\n\\nSo on this night, in our 245th year as a nation, I have come to report on the State of the Union. \\n\\nAnd my report is this: the State of the Union is strong—because you, the American people, are strong. \\n\\nWe are stronger today than we were a year ago. \\n\\nAnd we will be stronger a year from now than we are today. \\n\\nNow is our moment to meet and overcome the challenges of our time. \\n\\nAnd we will, as one people. \\n\\nOne America. \\n\\nThe United States of America. \\n\\nMay God bless you all. May God protect our troops.', metadata={'vector': array([-0.00224148, -0.02951822, -0.00897236, ..., -0.00608219,\n",
       "          0.00787409, -0.01848421], dtype=float32), 'id': 'f76475e5-32ba-404a-98c6-9cc6cf239cd3', '_distance': 0.47451984882354736}),\n",
       "  Document(page_content='We meet tonight in an America that has lived through two of the hardest years this nation has ever faced. \\n\\nThe pandemic has been punishing. \\n\\nAnd so many families are living paycheck to paycheck, struggling to keep up with the rising cost of food, gas, housing, and so much more. \\n\\nI understand. \\n\\nI remember when my Dad had to leave our home in Scranton, Pennsylvania to find work. I grew up in a family where if the price of food went up, you felt it. \\n\\nThat’s why one of the first things I did as President was fight to pass the American Rescue Plan.  \\n\\nBecause people were hurting. We needed to act, and we did. \\n\\nFew pieces of legislation have done more in a critical moment in our history to lift us out of crisis. \\n\\nIt fueled our efforts to vaccinate the nation and combat COVID-19. It delivered immediate economic relief for tens of millions of Americans.  \\n\\nHelped put food on their table, keep a roof over their heads, and cut the cost of health insurance. \\n\\nAnd as my Dad used to say, it gave people a little breathing room. \\n\\nAnd unlike the $2 Trillion tax cut passed in the previous administration that benefitted the top 1% of Americans, the American Rescue Plan helped working people—and left no one behind. \\n\\nAnd it worked. It created jobs. Lots of jobs. \\n\\nIn fact—our economy created over 6.5 Million new jobs just last year, more jobs created in one year  \\nthan ever before in the history of America. \\n\\nOur economy grew at a rate of 5.7% last year, the strongest growth in nearly 40 years, the first step in bringing fundamental change to an economy that hasn’t worked for the working people of this nation for too long.  \\n\\nFor the past 40 years we were told that if we gave tax breaks to those at the very top, the benefits would trickle down to everyone else. \\n\\nBut that trickle-down theory led to weaker economic growth, lower wages, bigger deficits, and the widest gap between those at the top and everyone else in nearly a century. \\n\\nVice President Harris and I ran for office with a new economic vision for America. \\n\\nInvest in America. Educate Americans. Grow the workforce. Build the economy from the bottom up  \\nand the middle out, not from the top down.  \\n\\nBecause we know that when the middle class grows, the poor have a ladder up and the wealthy do very well. \\n\\nAmerica used to have the best roads, bridges, and airports on Earth. \\n\\nNow our infrastructure is ranked 13th in the world. \\n\\nWe won’t be able to compete for the jobs of the 21st Century if we don’t fix that. \\n\\nThat’s why it was so important to pass the Bipartisan Infrastructure Law—the most sweeping investment to rebuild America in history. \\n\\nThis was a bipartisan effort, and I want to thank the members of both parties who worked to make it happen. \\n\\nWe’re done talking about infrastructure weeks. \\n\\nWe’re going to have an infrastructure decade. \\n\\nIt is going to transform America and put us on a path to win the economic competition of the 21st Century that we face with the rest of the world—particularly with China.  \\n\\nAs I’ve told Xi Jinping, it is never a good bet to bet against the American people. \\n\\nWe’ll create good jobs for millions of Americans, modernizing roads, airports, ports, and waterways all across America. \\n\\nAnd we’ll do it all to withstand the devastating effects of the climate crisis and promote environmental justice. \\n\\nWe’ll build a national network of 500,000 electric vehicle charging stations, begin to replace poisonous lead pipes—so every child—and every American—has clean water to drink at home and at school, provide affordable high-speed internet for every American—urban, suburban, rural, and tribal communities. \\n\\n4,000 projects have already been announced. \\n\\nAnd tonight, I’m announcing that this year we will start fixing over 65,000 miles of highway and 1,500 bridges in disrepair. \\n\\nWhen we use taxpayer dollars to rebuild America – we are going to Buy American: buy American products to support American jobs.', metadata={'vector': array([-0.01198708, -0.01653345, -0.00826672, ..., -0.02187278,\n",
       "         -0.00984606, -0.01268754], dtype=float32), 'id': '4aeaa6cd-99ab-4f59-be53-d1a8a4fd63c5', '_distance': 0.4809805452823639}),\n",
       "  Document(page_content='That’s why I’ve proposed closing loopholes so the very wealthy don’t pay a lower tax rate than a teacher or a firefighter.  \\n\\nSo that’s my plan. It will grow the economy and lower costs for families. \\n\\nSo what are we waiting for? Let’s get this done. And while you’re at it, confirm my nominees to the Federal Reserve, which plays a critical role in fighting inflation.  \\n\\nMy plan will not only lower costs to give families a fair shot, it will lower the deficit. \\n\\nThe previous Administration not only ballooned the deficit with tax cuts for the very wealthy and corporations, it undermined the watchdogs whose job was to keep pandemic relief funds from being wasted. \\n\\nBut in my administration, the watchdogs have been welcomed back. \\n\\nWe’re going after the criminals who stole billions in relief money meant for small businesses and millions of Americans.  \\n\\nAnd tonight, I’m announcing that the Justice Department will name a chief prosecutor for pandemic fraud. \\n\\nBy the end of this year, the deficit will be down to less than half what it was before I took office.  \\n\\nThe only president ever to cut the deficit by more than one trillion dollars in a single year. \\n\\nLowering your costs also means demanding more competition. \\n\\nI’m a capitalist, but capitalism without competition isn’t capitalism. \\n\\nIt’s exploitation—and it drives up prices. \\n\\nWhen corporations don’t have to compete, their profits go up, your prices go up, and small businesses and family farmers and ranchers go under. \\n\\nWe see it happening with ocean carriers moving goods in and out of America. \\n\\nDuring the pandemic, these foreign-owned companies raised prices by as much as 1,000% and made record profits. \\n\\nTonight, I’m announcing a crackdown on these companies overcharging American businesses and consumers. \\n\\nAnd as Wall Street firms take over more nursing homes, quality in those homes has gone down and costs have gone up.  \\n\\nThat ends on my watch. \\n\\nMedicare is going to set higher standards for nursing homes and make sure your loved ones get the care they deserve and expect. \\n\\nWe’ll also cut costs and keep the economy going strong by giving workers a fair shot, provide more training and apprenticeships, hire them based on their skills not degrees. \\n\\nLet’s pass the Paycheck Fairness Act and paid leave.  \\n\\nRaise the minimum wage to $15 an hour and extend the Child Tax Credit, so no one has to raise a family in poverty. \\n\\nLet’s increase Pell Grants and increase our historic support of HBCUs, and invest in what Jill—our First Lady who teaches full-time—calls America’s best-kept secret: community colleges. \\n\\nAnd let’s pass the PRO Act when a majority of workers want to form a union—they shouldn’t be stopped.  \\n\\nWhen we invest in our workers, when we build the economy from the bottom up and the middle out together, we can do something we haven’t done in a long time: build a better America. \\n\\nFor more than two years, COVID-19 has impacted every decision in our lives and the life of the nation. \\n\\nAnd I know you’re tired, frustrated, and exhausted. \\n\\nBut I also know this. \\n\\nBecause of the progress we’ve made, because of your resilience and the tools we have, tonight I can say  \\nwe are moving forward safely, back to more normal routines.  \\n\\nWe’ve reached a new moment in the fight against COVID-19, with severe cases down to a level not seen since last July.  \\n\\nJust a few days ago, the Centers for Disease Control and Prevention—the CDC—issued new mask guidelines. \\n\\nUnder these new guidelines, most Americans in most of the country can now be mask free.   \\n\\nAnd based on the projections, more of the country will reach that point across the next couple of weeks. \\n\\nThanks to the progress we have made this past year, COVID-19 need no longer control our lives.  \\n\\nI know some are talking about “living with COVID-19”. Tonight – I say that we will never just accept living with COVID-19.', metadata={'vector': array([-2.1565778e-02, -1.6201356e-02, -1.4039375e-02, ...,\n",
       "         -7.7960161e-05, -5.2326736e-03, -3.2294612e-02], dtype=float32), 'id': '156c2cca-02c6-419a-8e02-9bd76407af32', '_distance': 0.5110093951225281})],\n",
       " 'answer': '总统在上下文中讲了以下几个主要内容：\\n\\n1. 讲述了俄罗斯总统普京对乌克兰的侵略行为，并表示美国与其他国家一起对俄罗斯实施经济制裁，以支持乌克兰人民。\\n\\n2. 强调了美国的经济复苏和创造就业机会，提到了通过美国救援计划和基础设施法案来支持经济增长和改善中产阶级生活的措施。\\n\\n3. 承诺改善医疗保健系统，提高护理家庭和护理院的质量，提供更多的培训和学徒机会，提高最低工资，支持工会组织等。\\n\\n4. 强调了对COVID-19的抗击取得的进展，称已经达到了可以回归更正常生活的阶段，并表示不会接受与COVID-19长期共存的观点。'}"
      ]
     },
     "execution_count": 349,
     "metadata": {},
     "output_type": "execute_result"
    }
   ],
   "source": [
    "retrieval_chain.invoke({\"input\": \"总统说了什么？\"})"
   ]
  }
 ],
 "metadata": {
  "kernelspec": {
   "display_name": "langchani-book-py3.10-ipykernel",
   "language": "python",
   "name": "langchani-book-py3.10-ipykernel"
  },
  "language_info": {
   "codemirror_mode": {
    "name": "ipython",
    "version": 3
   },
   "file_extension": ".py",
   "mimetype": "text/x-python",
   "name": "python",
   "nbconvert_exporter": "python",
   "pygments_lexer": "ipython3",
   "version": "3.10.0"
  }
 },
 "nbformat": 4,
 "nbformat_minor": 5
}
