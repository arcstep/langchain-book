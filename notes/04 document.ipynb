{
 "cells": [
  {
   "cell_type": "markdown",
   "id": "5f987b28-5201-41cb-ad18-9ecaa9799f07",
   "metadata": {},
   "source": [
    "# 使用Document"
   ]
  },
  {
   "cell_type": "markdown",
   "id": "314bf50f-2ab2-45e7-a29d-f7a72b1d33e1",
   "metadata": {},
   "source": [
    "## 保存到duckdb"
   ]
  },
  {
   "cell_type": "code",
   "execution_count": null,
   "id": "6a9b69c0-f15a-44d9-8996-be1c8160caf9",
   "metadata": {},
   "outputs": [],
   "source": [
    "import duckdb\n",
    "from langchain.io import DuckDBLoader\n",
    "\n",
    "# 创建一个 DuckDBLoader 对象\n",
    "loader = DuckDBLoader(database=\":memory:\", table_name=\"my_table\")\n",
    "\n",
    "# 将 Document 列表保存到 DuckDB\n",
    "loader.load(docs)\n",
    "\n",
    "# 创建一个连接到 DuckDB 的游标\n",
    "con = duckdb.connect(database=\":memory:\")\n",
    "cur = con.cursor()\n",
    "\n",
    "# 执行查询以检索所有文档\n",
    "cur.execute(\"SELECT * FROM my_table\")\n",
    "\n",
    "# 提取查询结果\n",
    "results = cur.fetchall()\n",
    "\n",
    "# 打印查询结果\n",
    "for result in results:\n",
    "    print(result)\n",
    "\n",
    "# 关闭连接\n",
    "cur.close()\n",
    "con.close()"
   ]
  },
  {
   "cell_type": "markdown",
   "id": "58551252-4f58-4231-b00e-1985211b95d0",
   "metadata": {},
   "source": [
    "## 结合向量检索使用"
   ]
  },
  {
   "cell_type": "code",
   "execution_count": null,
   "id": "c0bf4b1a-3c46-4dec-b47d-1bcb238f94f4",
   "metadata": {},
   "outputs": [],
   "source": [
    "from langchain.schema import Document\n",
    "from langchain.vectors import SentenceTransformers\n",
    "\n",
    "# 创建一个新的 Document 对象\n",
    "document = Document(\n",
    "    page_content=\"This is the text content of the document.\",\n",
    "    metadata={\n",
    "        \"source\": \"Wikipedia\",\n",
    "        \"author\": \"Jane Doe\",\n",
    "        \"date\": \"2023-08-08\",\n",
    "    },\n",
    ")\n",
    "\n",
    "# 将文档转换为向量\n",
    "vector_encoder = SentenceTransformers(\"sentence-transformers/paraphrase-multilingual-mpnet-base-v2\")\n",
    "document_vector = vector_encoder.encode(document.page_content)\n",
    "\n",
    "# 将向量和元数据存储到向量数据库中\n",
    "vector_database = VectorDatabase()\n",
    "vector_database.add(document_vector, document, metadata=document.metadata)\n",
    "\n",
    "# 使用 Document 对象进行查询\n",
    "query_document = Document(page_content=\"This is a query.\")\n",
    "\n",
    "# 将查询转换为向量\n",
    "query_vector = vector_encoder.encode(query_document.page_content)\n",
    "\n",
    "# 在向量数据库中搜索向量\n",
    "similar_vectors = vector_database.search(query_vector, k=10)\n",
    "\n",
    "# 检索相关文档\n",
    "similar_documents = [vector_database.get(vector) for vector in similar_vectors]\n",
    "\n",
    "# 过滤相关文档，只保留满足特定元数据条件的文档\n",
    "filtered_documents = [\n",
    "    document\n",
    "    for document in similar_documents\n",
    "    if document.metadata[\"source\"] == \"Wikipedia\"\n",
    "]\n",
    "\n",
    "# 打印过滤后的相关文档的文本内容\n",
    "for document in filtered_documents:\n",
    "    print(document.page_content)"
   ]
  }
 ],
 "metadata": {
  "kernelspec": {
   "display_name": "langchani-book-py3.10-ipykernel",
   "language": "python",
   "name": "langchani-book-py3.10-ipykernel"
  },
  "language_info": {
   "codemirror_mode": {
    "name": "ipython",
    "version": 3
   },
   "file_extension": ".py",
   "mimetype": "text/x-python",
   "name": "python",
   "nbconvert_exporter": "python",
   "pygments_lexer": "ipython3",
   "version": "3.10.0"
  }
 },
 "nbformat": 4,
 "nbformat_minor": 5
}
