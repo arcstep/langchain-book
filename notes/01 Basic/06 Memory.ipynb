{
 "cells": [
  {
   "cell_type": "code",
   "execution_count": 1,
   "id": "6b9eb04c-5f2c-498b-8061-29d552049a51",
   "metadata": {},
   "outputs": [
    {
     "data": {
      "text/plain": [
       "True"
      ]
     },
     "execution_count": 1,
     "metadata": {},
     "output_type": "execute_result"
    }
   ],
   "source": [
    "import os\n",
    "from dotenv import load_dotenv, find_dotenv\n",
    "load_dotenv(find_dotenv(), override=True)"
   ]
  },
  {
   "cell_type": "markdown",
   "id": "b5ab401a-d9ca-4507-9093-f3d17a1ee70f",
   "metadata": {},
   "source": [
    "# 基本用法"
   ]
  },
  {
   "cell_type": "markdown",
   "id": "9dc96a10-3991-4298-b006-50d17a990916",
   "metadata": {},
   "source": [
    "## 对话上下文：ConversationBufferMemory"
   ]
  },
  {
   "cell_type": "code",
   "execution_count": 2,
   "id": "fedf6091-d87b-4861-b431-2376495fe67e",
   "metadata": {},
   "outputs": [
    {
     "name": "stdout",
     "output_type": "stream",
     "text": [
      "{'history': 'Human: 你好啊\\nAI: 你也好啊'}\n",
      "{'history': 'Human: 你好啊\\nAI: 你也好啊\\nHuman: 你再好啊\\nAI: 你又好啊'}\n"
     ]
    }
   ],
   "source": [
    "from langchain.memory import ConversationBufferMemory, ConversationBufferWindowMemory\n",
    "\n",
    "history = ConversationBufferMemory()\n",
    "history.save_context({\"input\": \"你好啊\"}, {\"output\": \"你也好啊\"})\n",
    "\n",
    "print(history.load_memory_variables({}))\n",
    "\n",
    "history.save_context({\"input\": \"你再好啊\"}, {\"output\": \"你又好啊\"})\n",
    "\n",
    "print(history.load_memory_variables({}))"
   ]
  },
  {
   "cell_type": "markdown",
   "id": "1c60a04e-a107-44ff-b51a-1a1de4fec707",
   "metadata": {},
   "source": [
    "## 保留对话窗口：ConversationBufferWindowMemory"
   ]
  },
  {
   "cell_type": "code",
   "execution_count": 3,
   "id": "396a2598-358a-4a0d-84f8-907af42115ad",
   "metadata": {},
   "outputs": [
    {
     "name": "stdout",
     "output_type": "stream",
     "text": [
      "{'history': 'Human: 第三轮问\\nAI: 第三轮答'}\n"
     ]
    }
   ],
   "source": [
    "from langchain.memory import ConversationBufferWindowMemory\n",
    "\n",
    "window = ConversationBufferWindowMemory(k=1)\n",
    "window.save_context({\"input\": \"第一轮问\"}, {\"output\": \"第一轮答\"})\n",
    "window.save_context({\"input\": \"第二轮问\"}, {\"output\": \"第二轮答\"})\n",
    "window.save_context({\"input\": \"第三轮问\"}, {\"output\": \"第三轮答\"})\n",
    "print(window.load_memory_variables({}))"
   ]
  },
  {
   "cell_type": "markdown",
   "id": "26597701-d6b0-43da-b6f4-5c0597aeefe6",
   "metadata": {},
   "source": [
    "## 自动对历史信息做摘要：ConversationSummaryMemory"
   ]
  },
  {
   "cell_type": "code",
   "execution_count": 6,
   "id": "1910f63d-2fa0-4961-9330-65a88ce3486e",
   "metadata": {},
   "outputs": [
    {
     "name": "stdout",
     "output_type": "stream",
     "text": [
      "{'history': '\\n人类问AI对人工智能的看法。AI认为人工智能是一种积极的力量，因为它能帮助人类发挥他们的全部潜力。人类向AI打招呼，AI回应说它是人类的AI助手，可以回答关于langchain的各种问题。'}\n"
     ]
    }
   ],
   "source": [
    "from langchain.memory import ConversationSummaryMemory\n",
    "from langchain_openai import OpenAI\n",
    "\n",
    "memory = ConversationSummaryMemory(\n",
    "    llm=OpenAI(temperature=0),\n",
    "    # buffer=\"The conversation is between a customer and a sales.\"\n",
    "    buffer=\"以中文表示\"\n",
    ")\n",
    "memory.save_context(\n",
    "    {\"input\": \"你好\"}, {\"output\": \"你好，我是你的AI助手。我能为你回答有关langchain的各种问题。\"})\n",
    "\n",
    "print(memory.load_memory_variables({}))"
   ]
  },
  {
   "cell_type": "markdown",
   "id": "a1d85a90-26ba-45ae-bcbb-13907c1170d8",
   "metadata": {},
   "source": [
    "## 更多类型\n",
    "\n",
    "- ConversationTokenBufferMemory: 根据 Token 数限定 Memory 大小\n",
    "  - https://python.langchain.com/docs/modules/memory/types/token_buffer\n",
    "- VectorStoreRetrieverMemory: 将 Memory 存储在向量数据库中，根据用户输入检索回最相关的部分\n",
    "  - https://python.langchain.com/docs/modules/memory/types/vectorstore_retriever_memory"
   ]
  },
  {
   "cell_type": "markdown",
   "id": "7d4e43f0-f52b-474e-873f-25faa7e6929d",
   "metadata": {},
   "source": [
    "# RunnableWithMessageHistory"
   ]
  },
  {
   "cell_type": "code",
   "execution_count": 29,
   "id": "294e4bee-9926-48a5-b537-0e50c0b1ede0",
   "metadata": {},
   "outputs": [],
   "source": [
    "from langchain_core.prompts import ChatPromptTemplate, MessagesPlaceholder\n",
    "from langchain_openai.chat_models import ChatOpenAI\n",
    "\n",
    "prompt = ChatPromptTemplate.from_messages(\n",
    "    [\n",
    "        (\"system\", \"你是一个擅长{ability}的助手，每次返回20个以内的字即可\"),\n",
    "        MessagesPlaceholder(variable_name=\"history\"),\n",
    "        (\"human\", \"{input}\"),\n",
    "    ]\n",
    ")\n",
    "llm = ChatOpenAI()\n",
    "\n",
    "# 构建链\n",
    "chain = prompt | llm"
   ]
  },
  {
   "cell_type": "code",
   "execution_count": 45,
   "id": "cb5eec36-555d-4afd-a879-b8b998731476",
   "metadata": {},
   "outputs": [
    {
     "data": {
      "text/plain": [
       "PromptInput(ability=None, history=None, input=None)"
      ]
     },
     "execution_count": 45,
     "metadata": {},
     "output_type": "execute_result"
    }
   ],
   "source": [
    "# 现在要运行链，需要三个输入参数\n",
    "chain.input_schema()"
   ]
  },
  {
   "cell_type": "markdown",
   "id": "a561e699-e240-4081-8bcb-0c280a70e814",
   "metadata": {},
   "source": [
    "## 携带对话历史的内存版本"
   ]
  },
  {
   "cell_type": "code",
   "execution_count": 31,
   "id": "fc809546-158a-4023-9e32-e0414408f1f3",
   "metadata": {},
   "outputs": [],
   "source": [
    "from langchain_community.chat_message_histories import ChatMessageHistory\n",
    "from langchain_core.chat_history import BaseChatMessageHistory\n",
    "from langchain_core.runnables.history import RunnableWithMessageHistory\n",
    "\n",
    "store = {}\n",
    "\n",
    "def get_session_history(session_id: str) -> BaseChatMessageHistory:\n",
    "    if session_id not in store:\n",
    "        store[session_id] = ChatMessageHistory()\n",
    "    return store[session_id]\n",
    "\n",
    "with_message_history = RunnableWithMessageHistory(\n",
    "    chain,\n",
    "    get_session_history,\n",
    "    input_messages_key=\"input\",\n",
    "    history_messages_key=\"history\",\n",
    ")"
   ]
  },
  {
   "cell_type": "code",
   "execution_count": 71,
   "id": "3cadc31c-c63d-4fd1-aaa2-098aa7646175",
   "metadata": {},
   "outputs": [
    {
     "data": {
      "text/plain": [
       "[ConfigurableFieldSpec(id='session_id', annotation=<class 'str'>, name='Session ID', description='Unique identifier for a session.', default='', is_shared=True, dependencies=None)]"
      ]
     },
     "execution_count": 71,
     "metadata": {},
     "output_type": "execute_result"
    }
   ],
   "source": [
    "# with_message_history 需要一个配置项 session_id\n",
    "with_message_history.config_specs"
   ]
  },
  {
   "cell_type": "code",
   "execution_count": 52,
   "id": "2cdd2929-55c0-4bd4-aa10-0e238235679a",
   "metadata": {},
   "outputs": [
    {
     "data": {
      "text/plain": [
       "AIMessage(content='三角函数是一类描述角度与三角形边长之间关系的数学函数。')"
      ]
     },
     "execution_count": 52,
     "metadata": {},
     "output_type": "execute_result"
    }
   ],
   "source": [
    "# 第 1 次\n",
    "with_message_history.invoke(\n",
    "    {\"ability\": \"数学\", \"input\": \"三角函数是什么意思?\"},\n",
    "    config={\"configurable\": {\"session_id\": \"abc123\"}},\n",
    ")"
   ]
  },
  {
   "cell_type": "code",
   "execution_count": 8,
   "id": "3f78f48b-6abb-4e91-9570-d29b8dce42bf",
   "metadata": {},
   "outputs": [
    {
     "data": {
      "text/plain": [
       "AIMessage(content='三角函数就是一种特殊的数学工具，可以帮助我们理解角度与三角形之间的关系，就像解开一个有趣的数学谜题一样。')"
      ]
     },
     "execution_count": 8,
     "metadata": {},
     "output_type": "execute_result"
    }
   ],
   "source": [
    "# 第 2 次\n",
    "with_message_history.invoke(\n",
    "    {\"ability\": \"数学\", \"input\": \"可以用小学三年级小朋友能听懂的话解释吗？\"},\n",
    "    config={\"configurable\": {\"session_id\": \"abc123\"}},\n",
    ")"
   ]
  },
  {
   "cell_type": "code",
   "execution_count": 9,
   "id": "c9929491-632c-4e05-b94e-284d24c31780",
   "metadata": {},
   "outputs": [
    {
     "data": {
      "text/plain": [
       "{'abc123': ChatMessageHistory(messages=[HumanMessage(content='三角函数是什么意思?'), AIMessage(content='三角函数是一类数学函数，用于描述角度和三角形之间的关系。常见的三角函数包括正弦函数、余弦函数和正切函数。'), HumanMessage(content='可以用小学三年级小朋友能听懂的话解释吗？'), AIMessage(content='三角函数就是一种特殊的数学工具，可以帮助我们理解角度与三角形之间的关系，就像解开一个有趣的数学谜题一样。')])}"
      ]
     },
     "execution_count": 9,
     "metadata": {},
     "output_type": "execute_result"
    }
   ],
   "source": [
    "# 此时 store 中多了两条消息历史\n",
    "store"
   ]
  },
  {
   "cell_type": "code",
   "execution_count": 10,
   "id": "29956563-6901-442c-b49d-a16faf631743",
   "metadata": {},
   "outputs": [
    {
     "data": {
      "text/plain": [
       "AIMessage(content='当我们在数学里谈到\"20以内\"，就是指所有小于等于20的数字哦！比如1、2、3、4、5、6、7、8、9、10、11、12、13、14、15、16、17、18、19和20。')"
      ]
     },
     "execution_count": 10,
     "metadata": {},
     "output_type": "execute_result"
    }
   ],
   "source": [
    "# 如果切换了 session_id 情况就会不同\n",
    "with_message_history.invoke(\n",
    "    {\"ability\": \"数学\", \"input\": \"可以用小学三年级小朋友能听懂的话解释吗？\"},\n",
    "    config={\"configurable\": {\"session_id\": \"abc456\"}},\n",
    ")"
   ]
  },
  {
   "cell_type": "markdown",
   "id": "77d88174-bbff-4da1-b493-b9c592fbcbbe",
   "metadata": {},
   "source": [
    "## 自定义对话历史的键值"
   ]
  },
  {
   "cell_type": "code",
   "execution_count": 82,
   "id": "1db874a6-89f3-4350-a94e-ffd115d6c751",
   "metadata": {},
   "outputs": [],
   "source": [
    "from langchain_core.runnables import ConfigurableFieldSpec\n",
    "\n",
    "store = {}\n",
    "\n",
    "def get_session_history(user_id: str, conversation_id: str) -> BaseChatMessageHistory:\n",
    "    if (user_id, conversation_id) not in store:\n",
    "        store[(user_id, conversation_id)] = ChatMessageHistory()\n",
    "    return store[(user_id, conversation_id)]\n",
    "\n",
    "with_message_history = RunnableWithMessageHistory(\n",
    "    chain,\n",
    "    get_session_history,\n",
    "    input_messages_key=\"input\",\n",
    "    history_messages_key=\"history\",\n",
    "    history_factory_config=[\n",
    "        ConfigurableFieldSpec(\n",
    "            id=\"user_id\",\n",
    "            annotation=str,\n",
    "            name=\"用户ID\",\n",
    "            description=\"用户唯一标识\",\n",
    "            default=\"\",\n",
    "            is_shared=True,\n",
    "        ),\n",
    "        ConfigurableFieldSpec(\n",
    "            id=\"conversation_id\",\n",
    "            annotation=str,\n",
    "            name=\"对话ID\",\n",
    "            description=\"对话唯一标识\",\n",
    "            default=\"\",\n",
    "            is_shared=True,\n",
    "        ),\n",
    "    ],\n",
    ")"
   ]
  },
  {
   "cell_type": "code",
   "execution_count": 83,
   "id": "40964694-2f7b-441e-ab99-0bd434945b03",
   "metadata": {},
   "outputs": [
    {
     "data": {
      "text/plain": [
       "[ConfigurableFieldSpec(id='conversation_id', annotation=<class 'str'>, name='对话ID', description='对话唯一标识', default='', is_shared=True, dependencies=None),\n",
       " ConfigurableFieldSpec(id='user_id', annotation=<class 'str'>, name='用户ID', description='用户唯一标识', default='', is_shared=True, dependencies=None)]"
      ]
     },
     "execution_count": 83,
     "metadata": {},
     "output_type": "execute_result"
    }
   ],
   "source": [
    "# with_message_history 此时的配置项是 user_id 和 conversation_id\n",
    "with_message_history.config_specs"
   ]
  },
  {
   "cell_type": "code",
   "execution_count": 84,
   "id": "fb702ae2-fb20-44d3-bdaf-4412ee32feb4",
   "metadata": {},
   "outputs": [
    {
     "data": {
      "text/plain": [
       "AIMessage(content='你好，请问有什么数学问题我可以帮助您解决呢？')"
      ]
     },
     "execution_count": 84,
     "metadata": {},
     "output_type": "execute_result"
    }
   ],
   "source": [
    "# 此时调用就要提供 user_id 和 conversation_id\n",
    "with_message_history.invoke(\n",
    "    {\"ability\": \"math\", \"input\": \"你好\"},\n",
    "    config={\"configurable\": {\"user_id\": \"user-123\", \"conversation_id\": \"conv-1\"}},\n",
    ")"
   ]
  },
  {
   "cell_type": "code",
   "execution_count": 85,
   "id": "6c46bd95-390a-4e7d-a4e3-5a87e7ab7d1c",
   "metadata": {},
   "outputs": [
    {
     "data": {
      "text/plain": [
       "{('user-123',\n",
       "  'conv-1'): ChatMessageHistory(messages=[HumanMessage(content='你好'), AIMessage(content='你好，请问有什么数学问题我可以帮助您解决呢？')])}"
      ]
     },
     "execution_count": 85,
     "metadata": {},
     "output_type": "execute_result"
    }
   ],
   "source": [
    "# 查看对话历史记录，键值已经变为由 user_id 和 conversation_id 的值构成的元组\n",
    "store"
   ]
  },
  {
   "cell_type": "code",
   "execution_count": 89,
   "id": "a6ef2f56-e0ae-4f63-ab81-d63a327ec9f1",
   "metadata": {},
   "outputs": [
    {
     "data": {
      "text/plain": [
       "{'configurable': {'user_id': 'user-123',\n",
       "  'conversation_id': 'conv-1',\n",
       "  'message_history': ChatMessageHistory(messages=[HumanMessage(content='你好'), AIMessage(content='你好，请问有什么数学问题我可以帮助您解决呢？')])}}"
      ]
     },
     "execution_count": 89,
     "metadata": {},
     "output_type": "execute_result"
    }
   ],
   "source": [
    "# 实际上 with_message_history 对象也已经通过 _merge_configs 函数动态绑定了对话历史\n",
    "with_message_history._merge_configs({\n",
    "    \"configurable\": {\n",
    "        \"user_id\": \"user-123\", \n",
    "        \"conversation_id\": \"conv-1\"\n",
    "    }\n",
    "})\n",
    "# 下面的输出结果在每次调用 invoke 时会作为 config 参数被携带"
   ]
  },
  {
   "cell_type": "markdown",
   "id": "dd9866fd-37b1-4ed7-9984-47fc512a3121",
   "metadata": {},
   "source": [
    "## 下面的例子使用了 output_messages_key"
   ]
  },
  {
   "cell_type": "code",
   "execution_count": null,
   "id": "8036b2ef-54f0-4585-9a5e-9b500d4e680d",
   "metadata": {},
   "outputs": [],
   "source": [
    "from langchain_core.messages import HumanMessage\n",
    "from langchain_core.runnables import RunnableParallel\n",
    "\n",
    "chain = RunnableParallel({\"output_message\": ChatOpenAI()})\n",
    "\n",
    "def get_session_history(session_id: str) -> BaseChatMessageHistory:\n",
    "    if session_id not in store:\n",
    "        store[session_id] = ChatMessageHistory()\n",
    "    return store[session_id]\n",
    "\n",
    "\n",
    "with_message_history = RunnableWithMessageHistory(\n",
    "    chain,\n",
    "    get_session_history,\n",
    "    output_messages_key=\"output_message\",\n",
    ")\n",
    "\n",
    "with_message_history.invoke(\n",
    "    [HumanMessage(content=\"What did Simone de Beauvoir believe about free will\")],\n",
    "    config={\"configurable\": {\"session_id\": \"baz\"}},\n",
    ")"
   ]
  },
  {
   "cell_type": "markdown",
   "id": "e5c1b815-51e4-4a1c-a62f-a0893daf5242",
   "metadata": {},
   "source": [
    "# 自定义记忆管理"
   ]
  },
  {
   "cell_type": "markdown",
   "id": "10c04625-c166-4fe5-9dbc-d1571b036047",
   "metadata": {},
   "source": [
    "```python\n",
    "class BaseChatMessageHistory(ABC):\n",
    "    messages: List[BaseMessage]\n",
    "    \"\"\"必须重载：读取消息\"\"\"\n",
    "\n",
    "    @abstractmethod\n",
    "    def add_message(self, message: BaseMessage) -> None:\n",
    "        \"\"\"必须重载：增加消息历史\"\"\"\n",
    "        raise NotImplementedError()\n",
    "\n",
    "    @abstractmethod\n",
    "    def clear(self) -> None:\n",
    "        \"\"\"必须重载：清除所有消息\"\"\"\n",
    "\n",
    "```"
   ]
  },
  {
   "cell_type": "markdown",
   "id": "98063d7e-dae8-4ae2-9784-4774c03d69c4",
   "metadata": {},
   "source": [
    "# 基于内存的记忆管理实现"
   ]
  },
  {
   "cell_type": "markdown",
   "id": "7704c4a1-0160-4406-96d1-9aac6d1d0c8a",
   "metadata": {},
   "source": [
    "```python\n",
    "from typing import List\n",
    "\n",
    "from langchain_core.chat_history import BaseChatMessageHistory\n",
    "from langchain_core.messages import BaseMessage\n",
    "from langchain_core.pydantic_v1 import BaseModel, Field\n",
    "\n",
    "\n",
    "class ChatMessageHistory(BaseChatMessageHistory, BaseModel):\n",
    "    \"\"\"基于内存的消息历史管理，直接存储在内存列表中\"\"\"\n",
    "\n",
    "    messages: List[BaseMessage] = Field(default_factory=list)\n",
    "\n",
    "    def add_message(self, message: BaseMessage) -> None:\n",
    "        \"\"\"增加新消息\"\"\"\n",
    "        self.messages.append(message)\n",
    "\n",
    "    def clear(self) -> None:\n",
    "        self.messages = []\n",
    "```"
   ]
  },
  {
   "cell_type": "markdown",
   "id": "c5f7f654-58ea-47bb-ba9d-dc849103ee5c",
   "metadata": {},
   "source": [
    "# 基于文件的记忆管理实现"
   ]
  },
  {
   "cell_type": "markdown",
   "id": "7901e1fb-1911-4c54-816c-55124a23a87c",
   "metadata": {},
   "source": [
    "这里是更完整的例子：[https://github.com/langchain-ai/langserve/blob/main/examples/chat_with_persistence_and_user/server.py]"
   ]
  },
  {
   "cell_type": "markdown",
   "id": "1e6998a9-9606-4b94-a027-3bd041852c83",
   "metadata": {},
   "source": [
    "```python\n",
    "import json\n",
    "import logging\n",
    "from pathlib import Path\n",
    "from typing import List\n",
    "\n",
    "from langchain_core.chat_history import BaseChatMessageHistory\n",
    "from langchain_core.messages import (\n",
    "    BaseMessage,\n",
    "    messages_from_dict,\n",
    "    messages_to_dict,\n",
    ")\n",
    "\n",
    "logger = logging.getLogger(__name__)\n",
    "\n",
    "\n",
    "class FileChatMessageHistory(BaseChatMessageHistory):\n",
    "    \"\"\"基于文件管理消息历史的示范，所有消息存储在本地JSON文件中\n",
    "\n",
    "    参数:\n",
    "        file_path: 保存JSON文件的路径\n",
    "    \"\"\"\n",
    "\n",
    "    def __init__(self, file_path: str):\n",
    "        self.file_path = Path(file_path)\n",
    "        if not self.file_path.exists():\n",
    "            self.file_path.touch()\n",
    "            self.file_path.write_text(json.dumps([]))\n",
    "\n",
    "    @property\n",
    "    def messages(self) -> List[BaseMessage]:  # type: ignore\n",
    "        \"\"\"从 JSON 文件提取历史消息\"\"\"\n",
    "        items = json.loads(self.file_path.read_text())\n",
    "        messages = messages_from_dict(items)\n",
    "        return messages\n",
    "\n",
    "    def add_message(self, message: BaseMessage) -> None:\n",
    "        \"\"\"将新消息增加到本地 JSON 文件\"\"\"\n",
    "        messages = messages_to_dict(self.messages)\n",
    "        messages.append(messages_to_dict([message])[0])\n",
    "        self.file_path.write_text(json.dumps(messages))\n",
    "\n",
    "    def clear(self) -> None:\n",
    "        \"\"\"清理所有消息历史\"\"\"\n",
    "        self.file_path.write_text(json.dumps([]))\n",
    "\n",
    "```"
   ]
  }
 ],
 "metadata": {
  "kernelspec": {
   "display_name": "langchani-book-py3.10-ipykernel",
   "language": "python",
   "name": "langchani-book-py3.10-ipykernel"
  },
  "language_info": {
   "codemirror_mode": {
    "name": "ipython",
    "version": 3
   },
   "file_extension": ".py",
   "mimetype": "text/x-python",
   "name": "python",
   "nbconvert_exporter": "python",
   "pygments_lexer": "ipython3",
   "version": "3.10.0"
  }
 },
 "nbformat": 4,
 "nbformat_minor": 5
}
