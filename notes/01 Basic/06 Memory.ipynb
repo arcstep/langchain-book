{
 "cells": [
  {
   "cell_type": "markdown",
   "id": "987d40e0-2f53-4916-a8fe-1ab8d99c10b5",
   "metadata": {},
   "source": [
    "# Langchain Memory"
   ]
  },
  {
   "cell_type": "markdown",
   "id": "2454508a-7570-4be0-b2bf-f97fd6aa8cc1",
   "metadata": {},
   "source": [
    "## 准备"
   ]
  },
  {
   "cell_type": "code",
   "execution_count": 1,
   "id": "391afcba-9aa1-4703-9ee8-2b55fa9f8b67",
   "metadata": {},
   "outputs": [
    {
     "name": "stdout",
     "output_type": "stream",
     "text": [
      "RUNNABLE_BASE_URL:  http://localhost:8000\n"
     ]
    }
   ],
   "source": [
    "from Utils import *"
   ]
  },
  {
   "cell_type": "markdown",
   "id": "b5ab401a-d9ca-4507-9093-f3d17a1ee70f",
   "metadata": {},
   "source": [
    "## 基本用法"
   ]
  },
  {
   "cell_type": "markdown",
   "id": "9dc96a10-3991-4298-b006-50d17a990916",
   "metadata": {},
   "source": [
    "### 对话上下文：ConversationBufferMemory"
   ]
  },
  {
   "cell_type": "code",
   "execution_count": 2,
   "id": "fedf6091-d87b-4861-b431-2376495fe67e",
   "metadata": {},
   "outputs": [
    {
     "name": "stdout",
     "output_type": "stream",
     "text": [
      "{'history': 'Human: 你好啊\\nAI: 你也好啊'}\n",
      "{'history': 'Human: 你好啊\\nAI: 你也好啊\\nHuman: 你再好啊\\nAI: 你又好啊'}\n"
     ]
    }
   ],
   "source": [
    "from langchain.memory import ConversationBufferMemory, ConversationBufferWindowMemory\n",
    "\n",
    "history = ConversationBufferMemory()\n",
    "history.save_context({\"input\": \"你好啊\"}, {\"output\": \"你也好啊\"})\n",
    "\n",
    "print(history.load_memory_variables({}))\n",
    "\n",
    "history.save_context({\"input\": \"你再好啊\"}, {\"output\": \"你又好啊\"})\n",
    "\n",
    "print(history.load_memory_variables({}))"
   ]
  },
  {
   "cell_type": "markdown",
   "id": "1c60a04e-a107-44ff-b51a-1a1de4fec707",
   "metadata": {},
   "source": [
    "### 保留对话窗口：ConversationBufferWindowMemory"
   ]
  },
  {
   "cell_type": "code",
   "execution_count": 3,
   "id": "396a2598-358a-4a0d-84f8-907af42115ad",
   "metadata": {},
   "outputs": [
    {
     "name": "stdout",
     "output_type": "stream",
     "text": [
      "{'history': 'Human: 第三轮问\\nAI: 第三轮答'}\n"
     ]
    }
   ],
   "source": [
    "from langchain.memory import ConversationBufferWindowMemory\n",
    "\n",
    "window = ConversationBufferWindowMemory(k=1)\n",
    "window.save_context({\"input\": \"第一轮问\"}, {\"output\": \"第一轮答\"})\n",
    "window.save_context({\"input\": \"第二轮问\"}, {\"output\": \"第二轮答\"})\n",
    "window.save_context({\"input\": \"第三轮问\"}, {\"output\": \"第三轮答\"})\n",
    "print(window.load_memory_variables({}))"
   ]
  },
  {
   "cell_type": "markdown",
   "id": "26597701-d6b0-43da-b6f4-5c0597aeefe6",
   "metadata": {},
   "source": [
    "### 自动对历史信息做摘要：ConversationSummaryMemory"
   ]
  },
  {
   "cell_type": "code",
   "execution_count": 6,
   "id": "1910f63d-2fa0-4961-9330-65a88ce3486e",
   "metadata": {},
   "outputs": [
    {
     "name": "stdout",
     "output_type": "stream",
     "text": [
      "{'history': '\\n人类问AI对人工智能的看法。AI认为人工智能是一种积极的力量，因为它能帮助人类发挥他们的全部潜力。人类向AI打招呼，AI回应说它是人类的AI助手，可以回答关于langchain的各种问题。'}\n"
     ]
    }
   ],
   "source": [
    "from langchain.memory import ConversationSummaryMemory\n",
    "from langchain_openai import OpenAI\n",
    "\n",
    "memory = ConversationSummaryMemory(\n",
    "    llm=OpenAI(temperature=0),\n",
    "    # buffer=\"The conversation is between a customer and a sales.\"\n",
    "    buffer=\"以中文表示\"\n",
    ")\n",
    "memory.save_context(\n",
    "    {\"input\": \"你好\"}, {\"output\": \"你好，我是你的AI助手。我能为你回答有关langchain的各种问题。\"})\n",
    "\n",
    "print(memory.load_memory_variables({}))"
   ]
  },
  {
   "cell_type": "markdown",
   "id": "a1d85a90-26ba-45ae-bcbb-13907c1170d8",
   "metadata": {},
   "source": [
    "### 更多类型\n",
    "\n",
    "- ConversationTokenBufferMemory: 根据 Token 数限定 Memory 大小\n",
    "  - https://python.langchain.com/docs/modules/memory/types/token_buffer\n",
    "- VectorStoreRetrieverMemory: 将 Memory 存储在向量数据库中，根据用户输入检索回最相关的部分\n",
    "  - https://python.langchain.com/docs/modules/memory/types/vectorstore_retriever_memory"
   ]
  },
  {
   "cell_type": "code",
   "execution_count": null,
   "id": "19f0a68a-b135-48fd-9244-aa8bc04ecc06",
   "metadata": {},
   "outputs": [],
   "source": []
  }
 ],
 "metadata": {
  "kernelspec": {
   "display_name": "langchani-book-py3.10-ipykernel",
   "language": "python",
   "name": "langchani-book-py3.10-ipykernel"
  },
  "language_info": {
   "codemirror_mode": {
    "name": "ipython",
    "version": 3
   },
   "file_extension": ".py",
   "mimetype": "text/x-python",
   "name": "python",
   "nbconvert_exporter": "python",
   "pygments_lexer": "ipython3",
   "version": "3.10.0"
  }
 },
 "nbformat": 4,
 "nbformat_minor": 5
}
