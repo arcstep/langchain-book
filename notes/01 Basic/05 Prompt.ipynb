{
 "cells": [
  {
   "cell_type": "code",
   "execution_count": 1,
   "id": "2862e27c-0139-4f73-891b-da47e1fe0004",
   "metadata": {},
   "outputs": [
    {
     "data": {
      "text/plain": [
       "True"
      ]
     },
     "execution_count": 1,
     "metadata": {},
     "output_type": "execute_result"
    }
   ],
   "source": [
    "from dotenv import load_dotenv, find_dotenv\n",
    "load_dotenv(find_dotenv(), override=True)"
   ]
  },
  {
   "cell_type": "markdown",
   "id": "e9731c73-bccb-4c27-a338-353352224e7e",
   "metadata": {},
   "source": [
    "# 构造提示语模板"
   ]
  },
  {
   "cell_type": "markdown",
   "id": "04bd999a-35ae-4ba1-b9ec-753cb0113902",
   "metadata": {},
   "source": [
    "## 字符串模板提示语"
   ]
  },
  {
   "cell_type": "markdown",
   "id": "359e5595-da50-4650-b0eb-6f4121375b18",
   "metadata": {},
   "source": [
    "### 简洁语法：PromptTemplate.from_template"
   ]
  },
  {
   "cell_type": "markdown",
   "id": "1e44003f-3049-4650-be9b-e33b519b30a0",
   "metadata": {},
   "source": [
    "使用字符串提示时，每个模板都会连接在一起。<br>\n",
    "您可以直接使用prompt模板或字符串（但列表中的第一个元素必须是prompt模板类型）。"
   ]
  },
  {
   "cell_type": "code",
   "execution_count": 135,
   "id": "7f0f420b-b0f0-43f3-b3c3-058f6c99a354",
   "metadata": {},
   "outputs": [
    {
     "data": {
      "text/plain": [
       "PromptTemplate(input_variables=['language', 'topic'], template='告诉我一个关于{topic}的笑话, 一定要特别好笑\\n使用{language}表述')"
      ]
     },
     "execution_count": 135,
     "metadata": {},
     "output_type": "execute_result"
    }
   ],
   "source": [
    "# 提示语模板与字符串可以直接相加，简化模板构造\n",
    "from langchain.prompts import PromptTemplate\n",
    "prompt = (\n",
    "    PromptTemplate.from_template(\"告诉我一个关于{topic}的笑话\")\n",
    "    + \", 一定要特别好笑\"\n",
    "    + \"\\n使用{language}表述\"\n",
    ")\n",
    "prompt"
   ]
  },
  {
   "cell_type": "code",
   "execution_count": 136,
   "id": "18962284-9bd4-435b-b0c3-5a849f81ce59",
   "metadata": {},
   "outputs": [
    {
     "data": {
      "text/plain": [
       "'告诉我一个关于足球的笑话, 一定要特别好笑\\n使用中文表述'"
      ]
     },
     "execution_count": 136,
     "metadata": {},
     "output_type": "execute_result"
    }
   ],
   "source": [
    "prompt.format(topic=\"足球\", language=\"中文\")"
   ]
  },
  {
   "cell_type": "markdown",
   "id": "f52d1383-2234-45db-9768-f2dd412498b2",
   "metadata": {},
   "source": [
    "### 完整语法：PromptTemplate"
   ]
  },
  {
   "cell_type": "markdown",
   "id": "e0180344-84cb-48a8-b950-d75b5213c7f4",
   "metadata": {},
   "source": [
    "**Prompt模板可以使用 f-string 和 jinja2 两种语法，通过 template_format 指定。**"
   ]
  },
  {
   "cell_type": "markdown",
   "id": "46b666da-7055-41ac-ab0c-01e704832b01",
   "metadata": {},
   "source": [
    "#### f-string 模板"
   ]
  },
  {
   "cell_type": "code",
   "execution_count": 151,
   "id": "6ee9e86b-62f5-40f0-a46f-0337f3565864",
   "metadata": {},
   "outputs": [
    {
     "data": {
      "text/plain": [
       "'告诉我一个关于足球的笑话, 一定要特别好笑\\n使用中文表述'"
      ]
     },
     "execution_count": 151,
     "metadata": {},
     "output_type": "execute_result"
    }
   ],
   "source": [
    "# 这是一个完整的函数调用，达到同样的效果\n",
    "from langchain.prompts import PromptTemplate\n",
    "prompt = PromptTemplate(\n",
    "    input_variables=['language', 'topic'],\n",
    "    output_parser=None,\n",
    "    partial_variables={},\n",
    "    template='告诉我一个关于{topic}的笑话, 一定要特别好笑\\n使用{language}表述',\n",
    "    template_format='f-string',\n",
    "    validate_template=True\n",
    ")\n",
    "prompt.format(topic=\"足球\", language=\"中文\")"
   ]
  },
  {
   "cell_type": "markdown",
   "id": "468cca86-e670-48b6-bdd8-4a62066e04ec",
   "metadata": {},
   "source": [
    "#### jinja2 模板"
   ]
  },
  {
   "cell_type": "code",
   "execution_count": 152,
   "id": "6c24cc42-750c-4304-ad2e-a49d7bbed25c",
   "metadata": {},
   "outputs": [],
   "source": [
    "from langchain.prompts import PromptTemplate\n",
    "prompt_jinja2 = PromptTemplate(\n",
    "    input_variables=['topic'],\n",
    "    output_parser=None,\n",
    "    partial_variables={},\n",
    "    template=\"\"\"\n",
    "告诉我一个关于{{topic}}的笑话, 一定要特别好笑\n",
    "{% if topic == '足球' %}\n",
    "使用中文表述\n",
    "{% else %}\n",
    "使用英文表述\n",
    "{% endif %}\n",
    "    \"\"\",\n",
    "    template_format='jinja2',\n",
    "    validate_template=True\n",
    ")"
   ]
  },
  {
   "cell_type": "code",
   "execution_count": 153,
   "id": "2307141f-d3f9-4d26-ba2a-c482985d7fa8",
   "metadata": {},
   "outputs": [
    {
     "name": "stdout",
     "output_type": "stream",
     "text": [
      "\n",
      "告诉我一个关于足球的笑话, 一定要特别好笑\n",
      "\n",
      "使用中文表述\n",
      "\n",
      "    \n"
     ]
    }
   ],
   "source": [
    "print(prompt_jinja2.format(topic=\"足球\"))"
   ]
  },
  {
   "cell_type": "code",
   "execution_count": 154,
   "id": "ae4f972d-867e-47c8-8f27-32c650f4b309",
   "metadata": {},
   "outputs": [
    {
     "name": "stdout",
     "output_type": "stream",
     "text": [
      "\n",
      "告诉我一个关于程序员的笑话, 一定要特别好笑\n",
      "\n",
      "使用英文表述\n",
      "\n",
      "    \n"
     ]
    }
   ],
   "source": [
    "print(prompt_jinja2.format(topic=\"程序员\"))"
   ]
  },
  {
   "cell_type": "markdown",
   "id": "bafb66bd-cd85-4ac9-b1f4-b971fc046f86",
   "metadata": {},
   "source": [
    "## 对话模板提示语：ChatPromptTemplate.from_messages"
   ]
  },
  {
   "cell_type": "markdown",
   "id": "5595da85-0cae-4298-b151-a21a1f15b13e",
   "metadata": {},
   "source": [
    "### 构造方法1：直接将 xxxMessage 相加"
   ]
  },
  {
   "cell_type": "code",
   "execution_count": 3,
   "id": "bc1d576e-a0c7-43ae-942f-b0be98e6b54d",
   "metadata": {},
   "outputs": [
    {
     "data": {
      "text/plain": [
       "[SystemMessage(content='你是一个翻译机器人，我说中文你就直接翻译成英文，不要啰嗦。'),\n",
       " HumanMessage(content='你好'),\n",
       " AIMessage(content='hello'),\n",
       " HumanMessage(content='你知道孙悟空吗？')]"
      ]
     },
     "execution_count": 3,
     "metadata": {},
     "output_type": "execute_result"
    }
   ],
   "source": [
    "from langchain.schema import AIMessage, HumanMessage, SystemMessage\n",
    "prompt = (\n",
    "    SystemMessage(content=\"你是一个翻译机器人，我说中文你就直接翻译成英文，不要啰嗦。\") \n",
    "    + HumanMessage(content=\"你好\") \n",
    "    + AIMessage(content=\"hello\") + \n",
    "    \"{input}\"\n",
    ")\n",
    "prompt.format_messages(input=\"你知道孙悟空吗？\")"
   ]
  },
  {
   "cell_type": "markdown",
   "id": "19624c32-f5f0-435c-9e0d-c6eba1656544",
   "metadata": {},
   "source": [
    "### 构造方法2：使用 xxxMessage 列表"
   ]
  },
  {
   "cell_type": "code",
   "execution_count": 4,
   "id": "1ff9db0e-750e-46db-8108-23e420141996",
   "metadata": {},
   "outputs": [
    {
     "data": {
      "text/plain": [
       "[SystemMessage(content='你是一个翻译机器人，我说中文你就直接翻译成英文，不要啰嗦。'),\n",
       " HumanMessage(content='你好'),\n",
       " AIMessage(content='hello'),\n",
       " HumanMessage(content='你知道孙悟空吗？')]"
      ]
     },
     "execution_count": 4,
     "metadata": {},
     "output_type": "execute_result"
    }
   ],
   "source": [
    "from langchain_core.prompts import ChatPromptTemplate\n",
    "\n",
    "prompt = ChatPromptTemplate.from_messages([\n",
    "    SystemMessage(content=\"你是一个翻译机器人，我说中文你就直接翻译成英文，不要啰嗦。\"),\n",
    "    HumanMessage(content=\"你好\"),\n",
    "    AIMessage(content=\"hello\"),\n",
    "    \"{input}\"\n",
    "])\n",
    "prompt.format_messages(input=\"你知道孙悟空吗？\")"
   ]
  },
  {
   "cell_type": "markdown",
   "id": "fb0c7609-3eec-46b5-ae09-164656b985e9",
   "metadata": {},
   "source": [
    "### 构造方法3：使用元组列表"
   ]
  },
  {
   "cell_type": "code",
   "execution_count": 6,
   "id": "f63f6ebe-5eee-4945-9919-ad695437faee",
   "metadata": {},
   "outputs": [
    {
     "data": {
      "text/plain": [
       "[SystemMessage(content='你是一个翻译机器人，我说中文你就直接翻译成英文，不要啰嗦。'),\n",
       " HumanMessage(content='你好'),\n",
       " AIMessage(content='hello'),\n",
       " HumanMessage(content='你知道孙悟空吗？')]"
      ]
     },
     "execution_count": 6,
     "metadata": {},
     "output_type": "execute_result"
    }
   ],
   "source": [
    "from langchain_core.prompts import ChatPromptTemplate\n",
    "\n",
    "prompt = ChatPromptTemplate.from_messages([\n",
    "    (\"system\", \"你是一个翻译机器人，我说中文你就直接翻译成英文，不要啰嗦。\"),\n",
    "    (\"human\", \"你好\"),\n",
    "    (\"ai\", \"hello\"),\n",
    "    (\"human\", \"{input}\"),\n",
    "])\n",
    "\n",
    "prompt.format_messages(input=\"你知道孙悟空吗？\")"
   ]
  },
  {
   "cell_type": "markdown",
   "id": "b781b6f8-8bdc-428d-89f4-cda398587f18",
   "metadata": {},
   "source": [
    "### 构造方法4：使用 xxxPromptTemplate 列表"
   ]
  },
  {
   "cell_type": "code",
   "execution_count": 59,
   "id": "4b60af00-22ec-4944-a079-4b82fdc72a0f",
   "metadata": {},
   "outputs": [
    {
     "data": {
      "text/plain": [
       "[SystemMessage(content='你是一个翻译机器人，我说中文你就直接翻译成英文，不要啰嗦。'),\n",
       " HumanMessage(content='你好'),\n",
       " AIMessage(content='hello'),\n",
       " HumanMessage(content='你知道孙悟空吗？')]"
      ]
     },
     "execution_count": 59,
     "metadata": {},
     "output_type": "execute_result"
    }
   ],
   "source": [
    "from langchain_core.prompts import ChatPromptTemplate\n",
    "from langchain.prompts import (\n",
    "    ChatPromptTemplate,\n",
    "    SystemMessagePromptTemplate,\n",
    "    AIMessagePromptTemplate,\n",
    "    HumanMessagePromptTemplate,\n",
    ")\n",
    "\n",
    "prompt = ChatPromptTemplate(\n",
    "    messages=[\n",
    "        SystemMessagePromptTemplate.from_template(\"你是一个翻译机器人，我说中文你就直接翻译成英文，不要啰嗦。\"),\n",
    "        HumanMessagePromptTemplate.from_template(\"你好\"),\n",
    "        AIMessagePromptTemplate.from_template(\"hello\"),\n",
    "        HumanMessagePromptTemplate.from_template(\"{input}\")\n",
    "])\n",
    "# print(prompt)\n",
    "prompt.format_messages(input=\"你知道孙悟空吗？\")"
   ]
  },
  {
   "cell_type": "markdown",
   "id": "f42a4578-02a9-4ff6-a649-0831b3ee07c9",
   "metadata": {},
   "source": [
    "### 构造方法5：使用 MessagesPlaceholder"
   ]
  },
  {
   "cell_type": "code",
   "execution_count": 62,
   "id": "8432202d-6431-4b3d-b075-ee9cbb44496e",
   "metadata": {},
   "outputs": [],
   "source": [
    "from langchain_core.prompts import ChatPromptTemplate\n",
    "from langchain.prompts import (\n",
    "    ChatPromptTemplate,\n",
    "    MessagesPlaceholder,\n",
    "    SystemMessagePromptTemplate,\n",
    "    AIMessagePromptTemplate,\n",
    "    HumanMessagePromptTemplate,\n",
    ")\n",
    "\n",
    "prompt = ChatPromptTemplate(\n",
    "    messages=[\n",
    "        SystemMessagePromptTemplate.from_template(\"你是一个翻译机器人，我说中文你就直接翻译成英文，不要啰嗦。\"),\n",
    "        HumanMessagePromptTemplate.from_template(\"你好\"),\n",
    "        AIMessagePromptTemplate.from_template(\"hello\"),\n",
    "        MessagesPlaceholder(variable_name=\"input\")\n",
    "])"
   ]
  },
  {
   "cell_type": "markdown",
   "id": "497f19f4-a7e1-42f8-95cc-bfdccee1e7a1",
   "metadata": {},
   "source": [
    "<div class=\"alert-warning\" style=\"padding: 5px\">\n",
    "<b>注意：</b><br>\n",
    "    MessagesPlaceholder 是一个待填充的<b>消息列表</b>，而不是字符串。\n",
    "</div>"
   ]
  },
  {
   "cell_type": "code",
   "execution_count": 63,
   "id": "dda40a66-b6e8-43f3-80df-c3342f1d3863",
   "metadata": {},
   "outputs": [
    {
     "data": {
      "text/plain": [
       "[SystemMessage(content='你是一个翻译机器人，我说中文你就直接翻译成英文，不要啰嗦。'),\n",
       " HumanMessage(content='你好'),\n",
       " AIMessage(content='hello'),\n",
       " HumanMessage(content='你知道孙悟空吗？')]"
      ]
     },
     "execution_count": 63,
     "metadata": {},
     "output_type": "execute_result"
    }
   ],
   "source": [
    "# 重复前面的示例，打印提示模板\n",
    "from langchain.schema import AIMessage, HumanMessage, SystemMessage\n",
    "my_input = [HumanMessage(content=\"你知道孙悟空吗？\")]\n",
    "prompt.format_messages(input=my_input)"
   ]
  },
  {
   "cell_type": "markdown",
   "id": "5074fa1b-bf14-4871-95f2-8e9bbd97d3b1",
   "metadata": {},
   "source": [
    "## 局部修改提示语模板"
   ]
  },
  {
   "cell_type": "markdown",
   "id": "a3ce698e-858a-4663-879c-2b22f5cd265f",
   "metadata": {},
   "source": [
    "### 构造方法1：使用 partial 函数"
   ]
  },
  {
   "cell_type": "code",
   "execution_count": 106,
   "id": "79038230-8dda-4b43-89c5-73a98ebccfb7",
   "metadata": {},
   "outputs": [
    {
     "name": "stdout",
     "output_type": "stream",
     "text": [
      "foobaz\n"
     ]
    }
   ],
   "source": [
    "# 通过局部修改实现提示语管理\n",
    "from langchain.prompts import PromptTemplate\n",
    "\n",
    "prompt = PromptTemplate(template=\"{foo}{bar}\", input_variables=[\"foo\", \"bar\"])\n",
    "partial_prompt = prompt.partial(foo=\"foo\")\n",
    "print(partial_prompt.format(bar=\"baz\"))"
   ]
  },
  {
   "cell_type": "markdown",
   "id": "94504c44-5494-4bc1-a0e1-5143c5fbe9e0",
   "metadata": {},
   "source": [
    "### 构造方法2：在 PromptTemplate 中修改 partial_variables 变量"
   ]
  },
  {
   "cell_type": "code",
   "execution_count": 81,
   "id": "a9bb9f5f-a7d4-46da-99e0-4585fc87ecd3",
   "metadata": {},
   "outputs": [
    {
     "name": "stdout",
     "output_type": "stream",
     "text": [
      "foobaz\n"
     ]
    }
   ],
   "source": [
    "# 或者这样做\n",
    "prompt = PromptTemplate(\n",
    "    template=\"{foo}{bar}\", input_variables=[\"bar\"], partial_variables={\"foo\": \"foo\"}\n",
    ")\n",
    "print(prompt.format(bar=\"baz\"))"
   ]
  },
  {
   "cell_type": "markdown",
   "id": "5fdbf6ad-5b89-4ba9-b139-d953a0cf60b4",
   "metadata": {},
   "source": [
    "### 构造方法3：partial_variables 变量支持 lambda 函数"
   ]
  },
  {
   "cell_type": "code",
   "execution_count": 82,
   "id": "2499eb58-4b04-4db6-ae3a-f34a807a2c06",
   "metadata": {},
   "outputs": [
    {
     "name": "stdout",
     "output_type": "stream",
     "text": [
      "Tell me a funny joke about the day 01/23/2024, 16:27:57\n"
     ]
    }
   ],
   "source": [
    "# 使用函数\n",
    "from datetime import datetime\n",
    "\n",
    "def _get_datetime():\n",
    "    now = datetime.now()\n",
    "    return now.strftime(\"%m/%d/%Y, %H:%M:%S\")\n",
    "\n",
    "prompt = PromptTemplate(\n",
    "    template=\"Tell me a {adjective} joke about the day {date}\",\n",
    "    input_variables=[\"adjective\", \"date\"],\n",
    ")\n",
    "partial_prompt = prompt.partial(date=_get_datetime)\n",
    "print(partial_prompt.format(adjective=\"funny\"))\n"
   ]
  },
  {
   "cell_type": "code",
   "execution_count": 83,
   "id": "842c4d1a-8381-4fb6-8620-3feb7fe32074",
   "metadata": {},
   "outputs": [
    {
     "name": "stdout",
     "output_type": "stream",
     "text": [
      "Tell me a funny joke about the day 01/23/2024, 16:28:51\n"
     ]
    }
   ],
   "source": [
    "# 换个方式使用函数\n",
    "prompt = PromptTemplate(\n",
    "    template=\"Tell me a {adjective} joke about the day {date}\",\n",
    "    input_variables=[\"adjective\"],\n",
    "    partial_variables={\"date\": _get_datetime},\n",
    ")\n",
    "print(prompt.format(adjective=\"funny\"))"
   ]
  },
  {
   "cell_type": "markdown",
   "id": "381720cb-6934-4bad-a087-01d5aa829915",
   "metadata": {},
   "source": [
    "## 使用 pipeline 组装提示语模板"
   ]
  },
  {
   "cell_type": "code",
   "execution_count": 112,
   "id": "d1acc6d4-5b27-4998-9556-4431b90bc32d",
   "metadata": {},
   "outputs": [],
   "source": [
    "from langchain.prompts.pipeline import PipelinePromptTemplate\n",
    "from langchain.prompts.prompt import PromptTemplate"
   ]
  },
  {
   "cell_type": "markdown",
   "id": "5fec965a-1c9a-4c41-9b66-f0bbfb2502e4",
   "metadata": {},
   "source": [
    "### 布局提示语：full_template"
   ]
  },
  {
   "cell_type": "code",
   "execution_count": 107,
   "id": "d4c0502a-1969-448b-b2a3-cf1d45d2cb95",
   "metadata": {},
   "outputs": [],
   "source": [
    "full_template = \"\"\"{introduction}\n",
    "\n",
    "{example}\n",
    "\n",
    "{start}\"\"\"\n",
    "full_prompt = PromptTemplate.from_template(full_template)"
   ]
  },
  {
   "cell_type": "markdown",
   "id": "da8a7877-ec6b-4c5d-89f7-5738b63e7170",
   "metadata": {},
   "source": [
    "### 局部提示语：introduction_template"
   ]
  },
  {
   "cell_type": "code",
   "execution_count": 108,
   "id": "57748fbe-19c1-46db-89cf-4e2c0c01ec91",
   "metadata": {},
   "outputs": [],
   "source": [
    "introduction_template = \"\"\"You are impersonating {person}.\"\"\"\n",
    "introduction_prompt = PromptTemplate.from_template(introduction_template)"
   ]
  },
  {
   "cell_type": "markdown",
   "id": "d40d8019-e3b5-42e7-a9d3-ce93019fc96e",
   "metadata": {},
   "source": [
    "### 局部提示语：example_template"
   ]
  },
  {
   "cell_type": "code",
   "execution_count": 109,
   "id": "32c34f92-7273-4087-a200-17ee67f84397",
   "metadata": {},
   "outputs": [],
   "source": [
    "example_template = \"\"\"Here's an example of an interaction:\n",
    "\n",
    "Q: {example_q}\n",
    "A: {example_a}\"\"\"\n",
    "example_prompt = PromptTemplate.from_template(example_template)"
   ]
  },
  {
   "cell_type": "markdown",
   "id": "d59b96ca-f0d2-4fc1-8ed9-01678f9439d1",
   "metadata": {},
   "source": [
    "### 局部提示语：start_template"
   ]
  },
  {
   "cell_type": "code",
   "execution_count": 110,
   "id": "b1bea9a9-a251-48aa-8a2a-ce07831f5e38",
   "metadata": {},
   "outputs": [],
   "source": [
    "start_template = \"\"\"Now, do this for real!\n",
    "\n",
    "Q: {input}\n",
    "A:\"\"\"\n",
    "start_prompt = PromptTemplate.from_template(start_template)"
   ]
  },
  {
   "cell_type": "markdown",
   "id": "4995ee3d-7609-4f5e-b102-53fc7d71b9ef",
   "metadata": {},
   "source": [
    "### 集成布局模板和局部模板"
   ]
  },
  {
   "cell_type": "code",
   "execution_count": 113,
   "id": "fbea14d1-e72a-4708-82b8-e9a8520cc449",
   "metadata": {},
   "outputs": [],
   "source": [
    "input_prompts = [\n",
    "    (\"introduction\", introduction_prompt),\n",
    "    (\"example\", example_prompt),\n",
    "    (\"start\", start_prompt),\n",
    "]\n",
    "pipeline_prompt = PipelinePromptTemplate(\n",
    "    final_prompt=full_prompt, pipeline_prompts=input_prompts\n",
    ")"
   ]
  },
  {
   "cell_type": "code",
   "execution_count": 114,
   "id": "b6e8e2b5-4673-4989-837a-9ebdd9e1a239",
   "metadata": {},
   "outputs": [
    {
     "data": {
      "text/plain": [
       "['person', 'input', 'example_q', 'example_a']"
      ]
     },
     "execution_count": 114,
     "metadata": {},
     "output_type": "execute_result"
    }
   ],
   "source": [
    "pipeline_prompt.input_variables"
   ]
  },
  {
   "cell_type": "code",
   "execution_count": 115,
   "id": "f6137113-f0d5-4a91-916f-659b00ddc4f0",
   "metadata": {},
   "outputs": [
    {
     "name": "stdout",
     "output_type": "stream",
     "text": [
      "You are impersonating Elon Musk.\n",
      "\n",
      "Here's an example of an interaction:\n",
      "\n",
      "Q: What's your favorite car?\n",
      "A: Tesla\n",
      "\n",
      "Now, do this for real!\n",
      "\n",
      "Q: What's your favorite social media site?\n",
      "A:\n"
     ]
    }
   ],
   "source": [
    "print(\n",
    "    pipeline_prompt.format(\n",
    "        person=\"Elon Musk\",\n",
    "        example_q=\"What's your favorite car?\",\n",
    "        example_a=\"Tesla\",\n",
    "        input=\"What's your favorite social media site?\",\n",
    "    )\n",
    ")"
   ]
  },
  {
   "cell_type": "markdown",
   "id": "120ddc20-dacf-4e35-8948-ff4d7e89e6a3",
   "metadata": {},
   "source": [
    "# 从文件加载提示语模板"
   ]
  },
  {
   "cell_type": "markdown",
   "id": "242ec506-138c-4fdc-ab64-46915ad2a9ad",
   "metadata": {},
   "source": [
    "## yaml格式"
   ]
  },
  {
   "cell_type": "code",
   "execution_count": null,
   "id": "99f658a9-57a9-4492-8c9c-c84d3d91500d",
   "metadata": {},
   "outputs": [],
   "source": [
    " _type: prompt\n",
    "input_variables:\n",
    "    [\"adjective\", \"content\"]\n",
    "template: \n",
    "    Tell me a {adjective} joke about {content}."
   ]
  },
  {
   "cell_type": "markdown",
   "id": "fb05a186-5af3-4b2d-b7d5-53e70814fe84",
   "metadata": {},
   "source": [
    "## json格式"
   ]
  },
  {
   "cell_type": "code",
   "execution_count": 16,
   "id": "2a50cf5c-ba8a-4884-8ac7-b60b5a7fbde6",
   "metadata": {},
   "outputs": [
    {
     "data": {
      "text/plain": [
       "{'_type': 'prompt',\n",
       " 'input_variables': ['adjective', 'content'],\n",
       " 'template': 'Tell me a {adjective} joke about {content}.'}"
      ]
     },
     "execution_count": 16,
     "metadata": {},
     "output_type": "execute_result"
    }
   ],
   "source": [
    "{\n",
    "    \"_type\": \"prompt\",\n",
    "    \"input_variables\": [\"adjective\", \"content\"],\n",
    "    \"template\": \"Tell me a {adjective} joke about {content}.\"\n",
    "}"
   ]
  },
  {
   "cell_type": "markdown",
   "id": "eec5fca5-22b9-4847-8d5c-15b21ebc11ab",
   "metadata": {},
   "source": [
    "## json + txt"
   ]
  },
  {
   "cell_type": "markdown",
   "id": "6197a783-7fc0-41f6-bca1-72b92a10d8b6",
   "metadata": {},
   "source": [
    "首先，将模板主要内容写入**final_step.txt**："
   ]
  },
  {
   "cell_type": "raw",
   "id": "9a4f158e-92f4-4d0a-a60f-b99bce1831dd",
   "metadata": {},
   "source": [
    "你的名字是{ai_name}，你是{ai_role}\n",
    "\n",
    "你的任务是:\n",
    "{task_description}\n",
    "\n",
    "经过以下的思考过程，你已经完成任务:\n",
    "{short_term_memory}\n",
    "\n",
    "现在请详细给出你的最终答案:"
   ]
  },
  {
   "cell_type": "markdown",
   "id": "38381392-9c9b-4ebc-a732-1944a8fb63b0",
   "metadata": {},
   "source": [
    "然后，在**task.json**文件中指定**template_path**嵌入路径："
   ]
  },
  {
   "cell_type": "code",
   "execution_count": 43,
   "id": "225491bd-02ff-4e17-9860-1d940bed5263",
   "metadata": {},
   "outputs": [
    {
     "data": {
      "text/plain": [
       "{'_type': 'prompt',\n",
       " 'input_variables': ['ai_name',\n",
       "  'ai_role',\n",
       "  'task_description',\n",
       "  'short_term_memory'],\n",
       " 'template_path': 'final_step.txt'}"
      ]
     },
     "execution_count": 43,
     "metadata": {},
     "output_type": "execute_result"
    }
   ],
   "source": [
    "{\n",
    "    \"_type\": \"prompt\",\n",
    "    \"input_variables\": [\n",
    "      \"ai_name\",\n",
    "      \"ai_role\",\n",
    "      \"task_description\",\n",
    "      \"short_term_memory\"\n",
    "    ],\n",
    "    \"template_path\": \"final_step.txt\"\n",
    "}"
   ]
  },
  {
   "cell_type": "markdown",
   "id": "c97e9f80-ccb3-473f-a4b2-1ca17cdd8499",
   "metadata": {},
   "source": [
    "## 加载提示语模板文件"
   ]
  },
  {
   "cell_type": "code",
   "execution_count": 17,
   "id": "4f7f6e30-b4be-446c-9b3b-dc20965fad8f",
   "metadata": {},
   "outputs": [
    {
     "name": "stdout",
     "output_type": "stream",
     "text": [
      "Tell me a funny joke about Xiao Ming.\n"
     ]
    }
   ],
   "source": [
    "from langchain.prompts import load_prompt\n",
    "\n",
    "prompt = load_prompt(\"simple_prompt.json\")\n",
    "print(prompt.format(adjective=\"funny\", content=\"Xiao Ming\"))"
   ]
  },
  {
   "cell_type": "markdown",
   "id": "03d57724-9532-48ad-983b-ff5e95e5dbef",
   "metadata": {},
   "source": [
    "# 保存提示语模板模板"
   ]
  },
  {
   "cell_type": "markdown",
   "id": "989f29df-073c-444b-bbc7-0a5ade454608",
   "metadata": {},
   "source": [
    "## 保存 PromptTemplate"
   ]
  },
  {
   "cell_type": "code",
   "execution_count": 12,
   "id": "702fee7a-3bef-4c42-a7bd-8d3c45e602dd",
   "metadata": {},
   "outputs": [],
   "source": [
    "# 提示语模板与字符串可以直接相加，简化模板构造\n",
    "from langchain.prompts import PromptTemplate, load_prompt\n",
    "prompt = (\n",
    "    PromptTemplate.from_template(\"告诉我一个关于{topic}的笑话\")\n",
    "    + \", 一定要特别好笑\"\n",
    "    + \"\\n使用{language}表述\"\n",
    ")\n",
    "prompt.save(\"prompt_demo1.json\")"
   ]
  },
  {
   "cell_type": "code",
   "execution_count": 13,
   "id": "a222f88c-983a-4fba-a163-bd9964258dda",
   "metadata": {},
   "outputs": [
    {
     "data": {
      "text/plain": [
       "PromptTemplate(input_variables=['language', 'topic'], template='告诉我一个关于{topic}的笑话, 一定要特别好笑\\n使用{language}表述')"
      ]
     },
     "execution_count": 13,
     "metadata": {},
     "output_type": "execute_result"
    }
   ],
   "source": [
    "load_prompt(\"prompt_demo1.json\")"
   ]
  },
  {
   "cell_type": "markdown",
   "id": "4d625c9a-b981-4e06-aa97-2e61ce20ac84",
   "metadata": {},
   "source": [
    "## 保存 ChatPromptTemplate"
   ]
  },
  {
   "cell_type": "code",
   "execution_count": 18,
   "id": "be0c23fa-8d2f-4ea1-8f7d-ed729cc8a6b3",
   "metadata": {},
   "outputs": [
    {
     "data": {
      "text/plain": [
       "[SystemMessagePromptTemplate(prompt=PromptTemplate(input_variables=[], template='你是一个翻译机器人，我说中文你就直接翻译成英文，不要啰嗦。')),\n",
       " HumanMessagePromptTemplate(prompt=PromptTemplate(input_variables=[], template='你好')),\n",
       " AIMessagePromptTemplate(prompt=PromptTemplate(input_variables=[], template='hello')),\n",
       " HumanMessagePromptTemplate(prompt=PromptTemplate(input_variables=['input'], template='{input}'))]"
      ]
     },
     "execution_count": 18,
     "metadata": {},
     "output_type": "execute_result"
    }
   ],
   "source": [
    "from langchain_core.prompts import ChatPromptTemplate\n",
    "\n",
    "prompt = ChatPromptTemplate.from_messages([\n",
    "    (\"system\", \"你是一个翻译机器人，我说中文你就直接翻译成英文，不要啰嗦。\"),\n",
    "    (\"human\", \"你好\"),\n",
    "    (\"ai\", \"hello\"),\n",
    "    (\"human\", \"{input}\"),\n",
    "])\n",
    "prompt.messages\n",
    "# prompt.format_messages(input=\"你知道孙悟空吗？\")"
   ]
  },
  {
   "cell_type": "code",
   "execution_count": 27,
   "id": "6889879e-ec32-4b62-9fe0-f7095f6757ed",
   "metadata": {},
   "outputs": [
    {
     "data": {
      "text/plain": [
       "True"
      ]
     },
     "execution_count": 27,
     "metadata": {},
     "output_type": "execute_result"
    }
   ],
   "source": [
    "from langchain.prompts import (\n",
    "    ChatPromptTemplate,\n",
    "    MessagesPlaceholder,\n",
    "    SystemMessagePromptTemplate,\n",
    "    AIMessagePromptTemplate,\n",
    "    HumanMessagePromptTemplate,\n",
    ")\n",
    "isinstance(prompt.messages[0], SystemMessagePromptTemplate)"
   ]
  },
  {
   "cell_type": "code",
   "execution_count": 43,
   "id": "89db9dfa-9044-4243-a860-c5e7aceb1861",
   "metadata": {},
   "outputs": [],
   "source": [
    "for i, p in enumerate(prompt.messages):\n",
    "    if isinstance(p, SystemMessagePromptTemplate):\n",
    "        p.prompt.save(f\"chat_prompt_{i}_system.json\")\n",
    "    elif isinstance(p, AIMessagePromptTemplate):\n",
    "        p.prompt.save(f\"chat_prompt_{i}_ai.json\")\n",
    "    elif isinstance(p, HumanMessagePromptTemplate):\n",
    "        p.prompt.save(f\"chat_prompt_{i}_human.json\")\n",
    "    elif isinstance(p, MessagesPlaceholder):\n",
    "        p.prompt.save(f\"chat_prompt_{i}_placeholder.json\")\n",
    "    else:\n",
    "        p.prompt.save(f\"chat_prompt_{i}_other.json\")\n",
    "        "
   ]
  },
  {
   "cell_type": "code",
   "execution_count": 46,
   "id": "47809769-2a2b-46c4-a9d9-ef0dd4499503",
   "metadata": {},
   "outputs": [
    {
     "data": {
      "text/plain": [
       "{'name': None,\n",
       " 'input_variables': [],\n",
       " 'input_types': {},\n",
       " 'output_parser': None,\n",
       " 'partial_variables': {},\n",
       " 'metadata': None,\n",
       " 'tags': None,\n",
       " 'template': '你是一个翻译机器人，我说中文你就直接翻译成英文，不要啰嗦。',\n",
       " 'template_format': 'f-string',\n",
       " 'validate_template': False,\n",
       " '_type': 'prompt'}"
      ]
     },
     "execution_count": 46,
     "metadata": {},
     "output_type": "execute_result"
    }
   ],
   "source": [
    "import json\n",
    "prompt.messages[0].prompt.dict()"
   ]
  },
  {
   "cell_type": "code",
   "execution_count": null,
   "id": "ca1eef3a-d37e-4546-99be-063269c4e21a",
   "metadata": {},
   "outputs": [],
   "source": []
  }
 ],
 "metadata": {
  "kernelspec": {
   "display_name": "langchani-book-py3.10-ipykernel",
   "language": "python",
   "name": "langchani-book-py3.10-ipykernel"
  },
  "language_info": {
   "codemirror_mode": {
    "name": "ipython",
    "version": 3
   },
   "file_extension": ".py",
   "mimetype": "text/x-python",
   "name": "python",
   "nbconvert_exporter": "python",
   "pygments_lexer": "ipython3",
   "version": "3.10.0"
  }
 },
 "nbformat": 4,
 "nbformat_minor": 5
}
