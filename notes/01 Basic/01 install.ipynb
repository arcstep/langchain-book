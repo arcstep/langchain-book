{
 "cells": [
  {
   "cell_type": "markdown",
   "id": "f0285ae6-5c7b-4e97-b026-54721089de18",
   "metadata": {},
   "source": [
    "# 一些有用的官网清单"
   ]
  },
  {
   "cell_type": "markdown",
   "id": "67f2e177-244e-4653-9a9b-7c67c5780b12",
   "metadata": {},
   "source": [
    "- OpenAI\n",
    "    - OpenAI文档：[https://platform.openai.com/docs]\n",
    "- ZhipuAI\n",
    "    - 智谱AI申请：[https://maas.aminer.cn]\n",
    "    - 智谱AI文档：[https://maas.aminer.cn/dev/api]\n",
    "- 通义千问\n",
    "    - 通义千问申请：[https://www.aliyun.com/]\n",
    "    - 积灵模型文档：[https://help.aliyun.com/zh/dashscope/product-overview]\n",
    "- Huggingface\n",
    "    - [https://huggingface.co/]\n",
    "- 🦜🔗LangChain\n",
    "    - [https://python.langchain.com/docs]\n",
    "    - [https://chat.langchain.com]"
   ]
  },
  {
   "cell_type": "markdown",
   "id": "da1d61dc-b06b-47f3-9e31-0931c77a2597",
   "metadata": {},
   "source": [
    "# 导入环境变量"
   ]
  },
  {
   "cell_type": "markdown",
   "id": "47c128bd-6f07-4ff2-bf50-d155e65b780a",
   "metadata": {},
   "source": [
    "## 打开某个 Jupyter 笔记时导入环境变量"
   ]
  },
  {
   "cell_type": "markdown",
   "id": "df3706d4-c616-4111-ac49-4f0ebc27d83e",
   "metadata": {},
   "source": [
    "使用 `.env` 文件管理环境变量有以下几个原因：\n",
    "\n",
    "1. **安全性**：敏感信息（如数据库密码、API 密钥等）不应该硬编码在代码中，因为这样可能会导致这些信息被意外地泄露（例如，如果你的代码被公开）。将这些信息存储在 `.env` 文件中，然后在 `.gitignore` 文件中忽略 `.env` 文件，可以防止这些信息被提交到版本控制系统。\n",
    "\n",
    "2. **灵活性**：使用 `.env` 文件可以让你在不同的环境（例如开发环境、测试环境、生产环境）中使用不同的环境变量，而无需修改代码。\n",
    "\n",
    "3. **便利性**：使用 `.env` 文件可以让你轻松地在本地设置和修改环境变量，而无需修改操作系统的环境变量设置。"
   ]
  },
  {
   "cell_type": "markdown",
   "id": "f36ea3fa-f5e5-4634-9464-a85e242d8994",
   "metadata": {},
   "source": [
    "只需要在项目的根目录下创建一个 `.env` 文件，并在其中添加环境变量，然后在每个 Jupyter 笔记的顶部增加如下代码："
   ]
  },
  {
   "cell_type": "code",
   "execution_count": 2,
   "id": "e3dd51f8-3b22-4a5b-a267-3ea7a7fe3114",
   "metadata": {},
   "outputs": [
    {
     "data": {
      "text/plain": [
       "True"
      ]
     },
     "execution_count": 2,
     "metadata": {},
     "output_type": "execute_result"
    }
   ],
   "source": [
    "import os\n",
    "from dotenv import load_dotenv, find_dotenv\n",
    "load_dotenv(find_dotenv(), override=True)"
   ]
  },
  {
   "cell_type": "markdown",
   "id": "8f1e6f9d-38d4-4b85-9254-781ede529a75",
   "metadata": {},
   "source": [
    "## 启动某个 Jupyter 时导入环境变量"
   ]
  },
  {
   "cell_type": "markdown",
   "id": "2325f754-5eff-46f9-bfe1-d19ae2ce1765",
   "metadata": {},
   "source": [
    "创建一个脚本文件 jupyter.sh，内容为："
   ]
  },
  {
   "cell_type": "markdown",
   "id": "28d81e76-1244-47cc-a761-c8b4cf9b80d0",
   "metadata": {},
   "source": [
    "```sh\n",
    "#!/bin/bash\n",
    "set -a\n",
    "source .env\n",
    "set +a\n",
    "jupyter lab\n",
    "```"
   ]
  },
  {
   "cell_type": "markdown",
   "id": "0aaf1965-f3f1-4b6e-8a60-4be5d48f9932",
   "metadata": {},
   "source": [
    "使用`chmod 777 ./jupyter.sh`修改执行权限后执行，即可将`.env`中的配置加载到每一个 Jupyter 笔记中。"
   ]
  },
  {
   "cell_type": "markdown",
   "id": "d0af3aa0-ac68-4db2-b943-787e4be510a3",
   "metadata": {},
   "source": [
    "## 启动所有 Jupyter 时都执行导入"
   ]
  },
  {
   "cell_type": "markdown",
   "id": "7c148144-5e35-4833-9198-c797f196727d",
   "metadata": {},
   "source": [
    "以下步骤可以让你在 Jupyter notebook 启动时都执行一段脚本。\n",
    "\n",
    "\n",
    "**第1步：创建 Jupyter 配置文件**\n",
    "\n",
    "```bash\n",
    "jupyter notebook --generate-config\n",
    "```\n",
    "\n",
    "这将会创建一个名为 `jupyter_notebook_config.py` 配置文件，并保存在 `{home}/.jupyter` 。\n",
    "\n",
    "**第2步：编辑 `jupyter_notebook_config.py` 文件，加入下面的代码**\n",
    "\n",
    "```python\n",
    "import os\n",
    "from dotenv import load_dotenv, find_dotenv\n",
    "load_dotenv(find_dotenv(), override=True)\n",
    "```\n",
    "\n",
    "**第3步：重新启动你的 Jupyter notebook。**"
   ]
  },
  {
   "cell_type": "markdown",
   "id": "1ab26fec-6675-458c-9fd5-eeba6c4dbfae",
   "metadata": {},
   "source": [
    "## 执行某段代码时临时输入"
   ]
  },
  {
   "cell_type": "markdown",
   "id": "16506adb-38bd-4419-b43a-3417c1885b6d",
   "metadata": {},
   "source": [
    "在 Python 中，你可以使用 `getpass` 模块的 `getpass` 函数来安全地输入敏感信息，如配置 Key。\n",
    "`getpass` 函数会隐藏你的输入，以防止它被旁观者看到。以下是如何使用 `getpass` 函数的一个示例：\n",
    "\n",
    "```python\n",
    "from getpass import getpass\n",
    "\n",
    "# 提示用户输入配置 Key\n",
    "config_key = getpass('请输入你的配置 Key: ')\n",
    "\n",
    "# 现在你可以使用 config_key 了\n",
    "print('你输入的配置 Key 是:', config_key)\n",
    "```\n",
    "\n",
    "在这个示例中，`getpass` 函数会显示一个提示信息 \"请输入你的配置 Key: \"，然后等待用户输入。用户的输入将不会显示在屏幕上，而是直接被赋值给 `config_key` 变量。\n",
    "\n",
    "请注意，虽然 `getpass` 函数可以防止旁观者看到你的输入，但是它不能防止恶意软件记录你的键盘输入。因此，你应该确保你的计算机是安全的，没有被恶意软件感染。"
   ]
  }
 ],
 "metadata": {
  "jpcodetoc-autonumbering": true,
  "jpcodetoc-showcode": false,
  "jpcodetoc-showmarkdowntxt": false,
  "jpcodetoc-showtags": false,
  "kernelspec": {
   "display_name": "langchani-book-py3.10-ipykernel",
   "language": "python",
   "name": "langchani-book-py3.10-ipykernel"
  },
  "language_info": {
   "codemirror_mode": {
    "name": "ipython",
    "version": 3
   },
   "file_extension": ".py",
   "mimetype": "text/x-python",
   "name": "python",
   "nbconvert_exporter": "python",
   "pygments_lexer": "ipython3",
   "version": "3.10.0"
  }
 },
 "nbformat": 4,
 "nbformat_minor": 5
}
