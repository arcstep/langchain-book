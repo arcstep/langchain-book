{
 "cells": [
  {
   "cell_type": "markdown",
   "id": "d670df1d-69b3-41ac-ba13-35ec3457b5ee",
   "metadata": {},
   "source": [
    "# Chain的主要概念"
   ]
  },
  {
   "cell_type": "markdown",
   "id": "cfc35289-a148-4db0-81eb-c7515601977c",
   "metadata": {},
   "source": [
    "## 模型/IO封装"
   ]
  },
  {
   "cell_type": "markdown",
   "id": "93ca6e16-3ae6-46b3-b857-0cf0f9d9385b",
   "metadata": {},
   "source": [
    "### 快速开始"
   ]
  },
  {
   "cell_type": "code",
   "execution_count": 19,
   "id": "bf4b865d-8437-4bbb-81c9-2cb00868f9f5",
   "metadata": {
    "scrolled": true
   },
   "outputs": [
    {
     "name": "stdout",
     "output_type": "stream",
     "text": [
      "Collecting langchain-openai\n",
      "  Downloading langchain_openai-0.0.3-py3-none-any.whl.metadata (2.5 kB)\n",
      "Collecting langchain-core<0.2,>=0.1.13 (from langchain-openai)\n",
      "  Downloading langchain_core-0.1.14-py3-none-any.whl.metadata (6.0 kB)\n",
      "Requirement already satisfied: numpy<2,>=1 in /Users/xuehongwei/.pyenv/versions/3.9.18/lib/python3.9/site-packages (from langchain-openai) (1.24.3)\n",
      "Requirement already satisfied: openai<2.0.0,>=1.6.1 in /Users/xuehongwei/.pyenv/versions/3.9.18/lib/python3.9/site-packages (from langchain-openai) (1.6.1)\n",
      "Collecting tiktoken<0.6.0,>=0.5.2 (from langchain-openai)\n",
      "  Downloading tiktoken-0.5.2-cp39-cp39-macosx_10_9_x86_64.whl.metadata (6.6 kB)\n",
      "Requirement already satisfied: PyYAML>=5.3 in /Users/xuehongwei/.pyenv/versions/3.9.18/lib/python3.9/site-packages (from langchain-core<0.2,>=0.1.13->langchain-openai) (6.0.1)\n",
      "Requirement already satisfied: anyio<5,>=3 in /Users/xuehongwei/.pyenv/versions/3.9.18/lib/python3.9/site-packages (from langchain-core<0.2,>=0.1.13->langchain-openai) (3.7.1)\n",
      "Requirement already satisfied: jsonpatch<2.0,>=1.33 in /Users/xuehongwei/.pyenv/versions/3.9.18/lib/python3.9/site-packages (from langchain-core<0.2,>=0.1.13->langchain-openai) (1.33)\n",
      "Collecting langsmith<0.0.84,>=0.0.83 (from langchain-core<0.2,>=0.1.13->langchain-openai)\n",
      "  Downloading langsmith-0.0.83-py3-none-any.whl.metadata (10 kB)\n",
      "Requirement already satisfied: packaging<24.0,>=23.2 in /Users/xuehongwei/.pyenv/versions/3.9.18/lib/python3.9/site-packages (from langchain-core<0.2,>=0.1.13->langchain-openai) (23.2)\n",
      "Requirement already satisfied: pydantic<3,>=1 in /Users/xuehongwei/.pyenv/versions/3.9.18/lib/python3.9/site-packages (from langchain-core<0.2,>=0.1.13->langchain-openai) (2.5.3)\n",
      "Requirement already satisfied: requests<3,>=2 in /Users/xuehongwei/.pyenv/versions/3.9.18/lib/python3.9/site-packages (from langchain-core<0.2,>=0.1.13->langchain-openai) (2.31.0)\n",
      "Requirement already satisfied: tenacity<9.0.0,>=8.1.0 in /Users/xuehongwei/.pyenv/versions/3.9.18/lib/python3.9/site-packages (from langchain-core<0.2,>=0.1.13->langchain-openai) (8.2.3)\n",
      "Requirement already satisfied: distro<2,>=1.7.0 in /Users/xuehongwei/.pyenv/versions/3.9.18/lib/python3.9/site-packages (from openai<2.0.0,>=1.6.1->langchain-openai) (1.8.0)\n",
      "Requirement already satisfied: httpx<1,>=0.23.0 in /Users/xuehongwei/.pyenv/versions/3.9.18/lib/python3.9/site-packages (from openai<2.0.0,>=1.6.1->langchain-openai) (0.25.2)\n",
      "Requirement already satisfied: sniffio in /Users/xuehongwei/.pyenv/versions/3.9.18/lib/python3.9/site-packages (from openai<2.0.0,>=1.6.1->langchain-openai) (1.3.0)\n",
      "Requirement already satisfied: tqdm>4 in /Users/xuehongwei/.pyenv/versions/3.9.18/lib/python3.9/site-packages (from openai<2.0.0,>=1.6.1->langchain-openai) (4.66.1)\n",
      "Requirement already satisfied: typing-extensions<5,>=4.7 in /Users/xuehongwei/.pyenv/versions/3.9.18/lib/python3.9/site-packages (from openai<2.0.0,>=1.6.1->langchain-openai) (4.9.0)\n",
      "Requirement already satisfied: regex>=2022.1.18 in /Users/xuehongwei/.pyenv/versions/3.9.18/lib/python3.9/site-packages (from tiktoken<0.6.0,>=0.5.2->langchain-openai) (2023.10.3)\n",
      "Requirement already satisfied: idna>=2.8 in /Users/xuehongwei/.pyenv/versions/3.9.18/lib/python3.9/site-packages (from anyio<5,>=3->langchain-core<0.2,>=0.1.13->langchain-openai) (3.6)\n",
      "Requirement already satisfied: exceptiongroup in /Users/xuehongwei/.pyenv/versions/3.9.18/lib/python3.9/site-packages (from anyio<5,>=3->langchain-core<0.2,>=0.1.13->langchain-openai) (1.2.0)\n",
      "Requirement already satisfied: certifi in /Users/xuehongwei/.pyenv/versions/3.9.18/lib/python3.9/site-packages (from httpx<1,>=0.23.0->openai<2.0.0,>=1.6.1->langchain-openai) (2023.11.17)\n",
      "Requirement already satisfied: httpcore==1.* in /Users/xuehongwei/.pyenv/versions/3.9.18/lib/python3.9/site-packages (from httpx<1,>=0.23.0->openai<2.0.0,>=1.6.1->langchain-openai) (1.0.2)\n",
      "Requirement already satisfied: h11<0.15,>=0.13 in /Users/xuehongwei/.pyenv/versions/3.9.18/lib/python3.9/site-packages (from httpcore==1.*->httpx<1,>=0.23.0->openai<2.0.0,>=1.6.1->langchain-openai) (0.14.0)\n",
      "Requirement already satisfied: jsonpointer>=1.9 in /Users/xuehongwei/.pyenv/versions/3.9.18/lib/python3.9/site-packages (from jsonpatch<2.0,>=1.33->langchain-core<0.2,>=0.1.13->langchain-openai) (2.4)\n",
      "Requirement already satisfied: annotated-types>=0.4.0 in /Users/xuehongwei/.pyenv/versions/3.9.18/lib/python3.9/site-packages (from pydantic<3,>=1->langchain-core<0.2,>=0.1.13->langchain-openai) (0.6.0)\n",
      "Requirement already satisfied: pydantic-core==2.14.6 in /Users/xuehongwei/.pyenv/versions/3.9.18/lib/python3.9/site-packages (from pydantic<3,>=1->langchain-core<0.2,>=0.1.13->langchain-openai) (2.14.6)\n",
      "Requirement already satisfied: charset-normalizer<4,>=2 in /Users/xuehongwei/.pyenv/versions/3.9.18/lib/python3.9/site-packages (from requests<3,>=2->langchain-core<0.2,>=0.1.13->langchain-openai) (3.3.2)\n",
      "Requirement already satisfied: urllib3<3,>=1.21.1 in /Users/xuehongwei/.pyenv/versions/3.9.18/lib/python3.9/site-packages (from requests<3,>=2->langchain-core<0.2,>=0.1.13->langchain-openai) (1.26.18)\n",
      "Downloading langchain_openai-0.0.3-py3-none-any.whl (28 kB)\n",
      "Downloading langchain_core-0.1.14-py3-none-any.whl (229 kB)\n",
      "\u001b[2K   \u001b[90m━━━━━━━━━━━━━━━━━━━━━━━━━━━━━━━━━━━━━━━\u001b[0m \u001b[32m229.5/229.5 kB\u001b[0m \u001b[31m455.3 kB/s\u001b[0m eta \u001b[36m0:00:00\u001b[0ma \u001b[36m0:00:01\u001b[0m\n",
      "\u001b[?25hDownloading tiktoken-0.5.2-cp39-cp39-macosx_10_9_x86_64.whl (1.0 MB)\n",
      "\u001b[2K   \u001b[90m━━━━━━━━━━━━━━━━━━━━━━━━━━━━━━━━━━━━━━━━\u001b[0m \u001b[32m1.0/1.0 MB\u001b[0m \u001b[31m2.0 MB/s\u001b[0m eta \u001b[36m0:00:00\u001b[0m00:01\u001b[0m00:01\u001b[0m\n",
      "\u001b[?25hDownloading langsmith-0.0.83-py3-none-any.whl (49 kB)\n",
      "\u001b[2K   \u001b[90m━━━━━━━━━━━━━━━━━━━━━━━━━━━━━━━━━━━━━━━━\u001b[0m \u001b[32m49.3/49.3 kB\u001b[0m \u001b[31m28.9 kB/s\u001b[0m eta \u001b[36m0:00:00\u001b[0ma \u001b[36m0:00:01\u001b[0mm\n",
      "\u001b[?25hInstalling collected packages: tiktoken, langsmith, langchain-core, langchain-openai\n",
      "  Attempting uninstall: tiktoken\n",
      "    Found existing installation: tiktoken 0.4.0\n",
      "    Uninstalling tiktoken-0.4.0:\n",
      "      Successfully uninstalled tiktoken-0.4.0\n",
      "  Attempting uninstall: langsmith\n",
      "    Found existing installation: langsmith 0.0.75\n",
      "    Uninstalling langsmith-0.0.75:\n",
      "      Successfully uninstalled langsmith-0.0.75\n",
      "  Attempting uninstall: langchain-core\n",
      "    Found existing installation: langchain-core 0.1.4\n",
      "    Uninstalling langchain-core-0.1.4:\n",
      "      Successfully uninstalled langchain-core-0.1.4\n",
      "Successfully installed langchain-core-0.1.14 langchain-openai-0.0.3 langsmith-0.0.83 tiktoken-0.5.2\n"
     ]
    }
   ],
   "source": [
    "# 请使用最新的open包\n",
    "!pip install langchain-openai"
   ]
  },
  {
   "cell_type": "markdown",
   "id": "7183b80b-b92b-4d0e-ad4b-7958289ababf",
   "metadata": {},
   "source": [
    "#### LLM"
   ]
  },
  {
   "cell_type": "code",
   "execution_count": 20,
   "id": "b7147569-5d89-41ac-ad50-7c0fdbf170f5",
   "metadata": {},
   "outputs": [],
   "source": [
    "from langchain_openai import ChatOpenAI\n",
    "from langchain_openai import OpenAI\n",
    "\n",
    "llm = OpenAI()\n",
    "chat_model = ChatOpenAI()"
   ]
  },
  {
   "cell_type": "code",
   "execution_count": 35,
   "id": "5ee4bfbf-b7ad-4ba6-a457-04635c2e0366",
   "metadata": {},
   "outputs": [
    {
     "data": {
      "text/plain": [
       "'\\n\\n1. 彩虹铅笔厂 \\n2. 色彩铅笔工厂 \\n3. 绚丽铅笔生产厂 \\n4. 七彩铅笔公司 \\n5. 彩绘铅笔制造厂 \\n6. 色彩笔芯工坊 \\n7. 色彩之星铅笔厂 \\n8. 彩色艺术笔厂 \\n9. 魔法彩铅笔厂 \\n10. 色彩创意铅笔厂'"
      ]
     },
     "execution_count": 35,
     "metadata": {},
     "output_type": "execute_result"
    }
   ],
   "source": [
    "text = \"请帮我想一想，生产彩色铅笔的公司有什么好名字?\"\n",
    "llm.invoke(text)"
   ]
  },
  {
   "cell_type": "code",
   "execution_count": 36,
   "id": "fe14aa4f-49a9-43fc-93f8-85142f8cbc38",
   "metadata": {},
   "outputs": [
    {
     "data": {
      "text/plain": [
       "AIMessage(content='1. 艳彩铅笔\\n2. 彩绘铅笔\\n3. 彩虹铅笔\\n4. 色彩世界\\n5. 彩铅工坊\\n6. 炫彩铅笔\\n7. 彩色艺术\\n8. 色彩创意\\n9. 彩虹创造\\n10. 彩笔之家')"
      ]
     },
     "execution_count": 36,
     "metadata": {},
     "output_type": "execute_result"
    }
   ],
   "source": [
    "from langchain.schema import HumanMessage\n",
    "messages = [HumanMessage(content=text)]\n",
    "chat_model.invoke(messages)"
   ]
  },
  {
   "cell_type": "markdown",
   "id": "c0cb6cce-a82f-4db4-ba11-75bd3c18488d",
   "metadata": {},
   "source": [
    "#### Prompt"
   ]
  },
  {
   "cell_type": "code",
   "execution_count": 34,
   "id": "fac4f473-3132-40ed-a13e-b4f0818f01fd",
   "metadata": {},
   "outputs": [
    {
     "data": {
      "text/plain": [
       "'请帮我想一想，生产彩色铅笔的公司有什么好名字?'"
      ]
     },
     "execution_count": 34,
     "metadata": {},
     "output_type": "execute_result"
    }
   ],
   "source": [
    "from langchain.prompts import PromptTemplate\n",
    "\n",
    "prompt = PromptTemplate.from_template(\"请帮我想一想，生产{product}的公司有什么好名字?\")\n",
    "prompt.format(product=\"彩色铅笔\")"
   ]
  },
  {
   "cell_type": "code",
   "execution_count": 26,
   "id": "63e7b524-912e-4ed1-b90d-78ad33babe20",
   "metadata": {},
   "outputs": [
    {
     "data": {
      "text/plain": [
       "[SystemMessage(content='You are a helpful assistant that translates English to French.'),\n",
       " HumanMessage(content='I love programming.')]"
      ]
     },
     "execution_count": 26,
     "metadata": {},
     "output_type": "execute_result"
    }
   ],
   "source": [
    "from langchain.prompts.chat import ChatPromptTemplate\n",
    "\n",
    "template = \"You are a helpful assistant that translates {input_language} to {output_language}.\"\n",
    "human_template = \"{text}\"\n",
    "\n",
    "chat_prompt = ChatPromptTemplate.from_messages([\n",
    "    (\"system\", template),\n",
    "    (\"human\", human_template),\n",
    "])\n",
    "\n",
    "chat_prompt.format_messages(input_language=\"English\", output_language=\"French\", text=\"I love programming.\")"
   ]
  },
  {
   "cell_type": "markdown",
   "id": "527d22ff-c1ba-4ae8-8aee-a6dd2c9eae5e",
   "metadata": {},
   "source": [
    "#### Output parsers"
   ]
  },
  {
   "cell_type": "code",
   "execution_count": 43,
   "id": "fd91fb85-24ab-4f78-b750-3377b06921c4",
   "metadata": {},
   "outputs": [
    {
     "data": {
      "text/plain": [
       "['hi', 'bye']"
      ]
     },
     "execution_count": 43,
     "metadata": {},
     "output_type": "execute_result"
    }
   ],
   "source": [
    "from langchain.schema.output_parser import StrOutputParser\n",
    "\n",
    "output_parser = CommaSeparatedListOutputParser()\n",
    "output_parser.parse(\"hi, bye\")"
   ]
  },
  {
   "cell_type": "markdown",
   "id": "903dec72-980c-4617-8c44-4981ec2c9360",
   "metadata": {},
   "source": [
    "#### 使用LCEL"
   ]
  },
  {
   "cell_type": "code",
   "execution_count": 32,
   "id": "2410c72f-9222-4d4f-8db7-c9eb9cfec8a4",
   "metadata": {},
   "outputs": [
    {
     "data": {
      "text/plain": [
       "['red', 'blue', 'yellow', 'green', 'orange']"
      ]
     },
     "execution_count": 32,
     "metadata": {},
     "output_type": "execute_result"
    }
   ],
   "source": [
    "template = \"生成5个关于{text}的列表 {text}.\\n\\n{format_instructions}\"\n",
    "\n",
    "chat_prompt = ChatPromptTemplate.from_template(template)\n",
    "chat_prompt = chat_prompt.partial(format_instructions=output_parser.get_format_instructions())\n",
    "chain = chat_prompt | chat_model | output_parser\n",
    "chain.invoke({\"text\": \"colors\"})"
   ]
  },
  {
   "cell_type": "markdown",
   "id": "874a1859-e5b0-441e-906b-731d31f62657",
   "metadata": {},
   "source": [
    "### 主要概念"
   ]
  },
  {
   "cell_type": "markdown",
   "id": "fdeb80af-3c5e-4945-9944-c36da403e1ed",
   "metadata": {},
   "source": [
    "#### 模型"
   ]
  },
  {
   "cell_type": "markdown",
   "id": "d0f897d4-a9aa-4e24-b1e9-fd062dc6ec06",
   "metadata": {},
   "source": [
    "请记住：OpenAI模型对提示语中包含JSON的情况非常友好。"
   ]
  },
  {
   "cell_type": "markdown",
   "id": "afabd6ba-c032-4473-a1c7-a863b4a051ef",
   "metadata": {},
   "source": [
    "#### 消息"
   ]
  },
  {
   "cell_type": "markdown",
   "id": "30a56625-b88b-4652-ab50-6ca3f44bab76",
   "metadata": {},
   "source": [
    "- HumanMessage： 一般是纯文字内容\n",
    "- AIMessage： 可能包含additional_kwargs，例如 funciton calling 提示\n",
    "- SystemMessage：部份模型支持的内容提示\n",
    "- FunctionMessage：函数调用的名称和参数\n",
    "- ToolMessage：工具调用结果（与FunctionMessage不同）"
   ]
  },
  {
   "cell_type": "markdown",
   "id": "713fc2ff-d9fb-490e-98f4-4191487c3e5e",
   "metadata": {},
   "source": [
    "#### 提示语"
   ]
  },
  {
   "cell_type": "markdown",
   "id": "c622bdce-546f-4b57-a8e7-09034daedd6b",
   "metadata": {},
   "source": [
    "- PromptValue\n",
    "- PromptTemplate\n",
    "- MessagePromptTemplate\n",
    "- MessagesPlaceholder\n",
    "- ChatPromptTemplate"
   ]
  },
  {
   "cell_type": "markdown",
   "id": "91a1a894-dba9-48fd-ad1c-e757f2e4840f",
   "metadata": {},
   "source": [
    "#### Output Parsers"
   ]
  },
  {
   "cell_type": "markdown",
   "id": "cc3bf851-06a9-4342-8402-673f173846fe",
   "metadata": {},
   "source": [
    "- StrOutputParser：仅输出字符串；如果输出是 ChatModel，它会仅输出Message的content属性\n",
    "- OpenAI Functions Parsers：处理OpenAI函数调用所需的函数名和参数\n",
    "- Agent Output Parsers：帮助智能体解析执行计划"
   ]
  },
  {
   "cell_type": "code",
   "execution_count": 50,
   "id": "30b1518d-ffbe-44c8-a85a-f05285c6cccb",
   "metadata": {},
   "outputs": [
    {
     "name": "stdout",
     "output_type": "stream",
     "text": [
      "[HumanMessage(content='生成5个关于I love programming.的列表 I love programming..\\n\\nYour response should be a list of comma separated values, eg: `foo, bar, baz`')]\n",
      "[HumanMessage(content='生成5个关于I love programming.的列表 I love programming..\\n\\nYour response should be a list of comma separated values, eg: `foo, bar, baz`')]\n"
     ]
    }
   ],
   "source": [
    "from langchain.schema.output_parser import StrOutputParser\n",
    "parser = StrOutputParser()\n",
    "response = chat_prompt.format_messages(input_language=\"English\", output_language=\"French\", text=\"I love programming.\")\n",
    "print(response)\n",
    "print(parser.parse(response))"
   ]
  },
  {
   "cell_type": "markdown",
   "id": "3278ab30-d3de-4976-9a85-dc3df9fa9cf2",
   "metadata": {},
   "source": [
    "### Prompt封装"
   ]
  },
  {
   "cell_type": "code",
   "execution_count": 51,
   "id": "405a0d63-1493-42b3-9927-a7a6da914dca",
   "metadata": {},
   "outputs": [
    {
     "name": "stdout",
     "output_type": "stream",
     "text": [
      "input_variables=['subject'] template='给我讲个关于{subject}的笑话'\n",
      "给我讲个关于小明的笑话\n"
     ]
    }
   ],
   "source": [
    "# 简单的例子\n",
    "from langchain.prompts import PromptTemplate\n",
    "\n",
    "template = PromptTemplate.from_template(\"给我讲个关于{subject}的笑话\")\n",
    "print(template)\n",
    "print(template.format(subject='小明'))"
   ]
  }
 ],
 "metadata": {
  "kernelspec": {
   "display_name": "langchani-book-py3.10-ipykernel",
   "language": "python",
   "name": "langchani-book-py3.10-ipykernel"
  },
  "language_info": {
   "codemirror_mode": {
    "name": "ipython",
    "version": 3
   },
   "file_extension": ".py",
   "mimetype": "text/x-python",
   "name": "python",
   "nbconvert_exporter": "python",
   "pygments_lexer": "ipython3",
   "version": "3.10.0"
  }
 },
 "nbformat": 4,
 "nbformat_minor": 5
}
