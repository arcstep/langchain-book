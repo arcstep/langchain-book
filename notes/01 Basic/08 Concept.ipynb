{
 "cells": [
  {
   "cell_type": "markdown",
   "id": "454db83d-7f75-4c74-b204-75e2df9510c9",
   "metadata": {},
   "source": [
    "# LangChain"
   ]
  },
  {
   "cell_type": "markdown",
   "id": "40148747-6f6c-4b10-a039-52516f0ed7da",
   "metadata": {},
   "source": [
    "## langchain"
   ]
  },
  {
   "cell_type": "markdown",
   "id": "a669a6bd-f9ac-4af3-b449-0895c97f12e7",
   "metadata": {},
   "source": [
    "## langserve"
   ]
  },
  {
   "cell_type": "markdown",
   "id": "ee42ea3f-6b76-40cc-a842-3af2f1dd8b28",
   "metadata": {},
   "source": [
    "## langgraph"
   ]
  },
  {
   "cell_type": "markdown",
   "id": "baa73a37-a119-4bdd-904b-ba49979a403e",
   "metadata": {},
   "source": [
    "## langsmith"
   ]
  },
  {
   "cell_type": "markdown",
   "id": "8a1b471a-1162-4445-9883-d8a1138c9784",
   "metadata": {},
   "source": [
    "## langfuse"
   ]
  },
  {
   "cell_type": "markdown",
   "id": "79cf1b94-57bc-420c-aeb9-0c2252e144d8",
   "metadata": {},
   "source": [
    "# Runnable"
   ]
  },
  {
   "cell_type": "markdown",
   "id": "a1ffccdf-1c8e-4f02-99fd-f7e10afe40b3",
   "metadata": {},
   "source": [
    "## Runnable"
   ]
  },
  {
   "cell_type": "markdown",
   "id": "05fa1f6c-6b33-4a78-912d-e9effd5f7038",
   "metadata": {},
   "source": [
    "## Chain"
   ]
  },
  {
   "cell_type": "markdown",
   "id": "38fd4923-987b-432a-b58c-01c886c3b489",
   "metadata": {},
   "source": [
    "# LCEL"
   ]
  },
  {
   "cell_type": "markdown",
   "id": "31501ed3-67ae-4bb9-a88e-13d978a7cf36",
   "metadata": {},
   "source": [
    "## invoke"
   ]
  },
  {
   "cell_type": "markdown",
   "id": "fd38fd5a-6e06-4577-aa8d-839cf05da5f6",
   "metadata": {},
   "source": [
    "## ainvoke"
   ]
  },
  {
   "cell_type": "markdown",
   "id": "5489f74f-1e89-4225-b7d3-ba15c7d9b5a3",
   "metadata": {},
   "source": [
    "## batch"
   ]
  },
  {
   "cell_type": "markdown",
   "id": "69208f7b-2ee8-44ec-a12f-2578f642b97d",
   "metadata": {},
   "source": [
    "## abatch"
   ]
  },
  {
   "cell_type": "markdown",
   "id": "22c8cad4-1fb7-4ac4-b6de-c88d34cf0cd4",
   "metadata": {},
   "source": [
    "## stream"
   ]
  },
  {
   "cell_type": "markdown",
   "id": "4057c3d0-ba76-48a0-b29a-6fd628f2c1a0",
   "metadata": {},
   "source": [
    "## astream"
   ]
  },
  {
   "cell_type": "markdown",
   "id": "c543f13f-a2c4-438d-9d4f-86f07663fa35",
   "metadata": {},
   "source": [
    "## astream_events"
   ]
  },
  {
   "cell_type": "markdown",
   "id": "a8f096bc-c3d1-4eea-8336-4b3e73d509b0",
   "metadata": {},
   "source": [
    "## astream_log"
   ]
  },
  {
   "cell_type": "markdown",
   "id": "9ea362ac-244d-4317-8a53-aa43c37d6399",
   "metadata": {},
   "source": [
    "## with_config"
   ]
  },
  {
   "cell_type": "markdown",
   "id": "c09fad2c-fc4c-45e4-a658-b39c8ff4eaeb",
   "metadata": {},
   "source": [
    "## with_retry"
   ]
  },
  {
   "cell_type": "markdown",
   "id": "88a76898-68aa-40e3-9798-0cffcede12d5",
   "metadata": {},
   "source": [
    "## callback"
   ]
  },
  {
   "cell_type": "markdown",
   "id": "16ff6a86-67bf-49cb-b057-c4b1231e4cd3",
   "metadata": {},
   "source": [
    "# LLM"
   ]
  },
  {
   "cell_type": "markdown",
   "id": "1c07903b-ca5c-4f0a-b25f-b61d0ce5c6e4",
   "metadata": {},
   "source": [
    "## LLM"
   ]
  },
  {
   "cell_type": "markdown",
   "id": "3e91965b-6d17-40d1-b0a4-3df614bdc87a",
   "metadata": {},
   "source": [
    "## Model"
   ]
  },
  {
   "cell_type": "markdown",
   "id": "bab04735-1159-4769-9099-bf549944a278",
   "metadata": {},
   "source": [
    "## Function Calling"
   ]
  },
  {
   "cell_type": "markdown",
   "id": "bfd8148a-97b3-4eeb-a5d1-d406c54f0b33",
   "metadata": {},
   "source": [
    "# Prompt"
   ]
  },
  {
   "cell_type": "markdown",
   "id": "43fd11ba-a7cd-40aa-a98f-03571721933a",
   "metadata": {},
   "source": [
    "## 字符串模板"
   ]
  },
  {
   "cell_type": "markdown",
   "id": "989fbd1c-45e8-4f63-a349-1a454c9b34f8",
   "metadata": {},
   "source": [
    "## 对话模板"
   ]
  },
  {
   "cell_type": "markdown",
   "id": "c802bf5a-4a70-4ea9-8b26-1e9776652c2e",
   "metadata": {},
   "source": [
    "# OutputParser"
   ]
  },
  {
   "cell_type": "markdown",
   "id": "bad13219-5d80-4981-a40d-032aa3c62cf0",
   "metadata": {},
   "source": [
    "# Memory"
   ]
  },
  {
   "cell_type": "markdown",
   "id": "e920f44a-90bc-4522-861a-89bf369af266",
   "metadata": {},
   "source": [
    "# Tool"
   ]
  },
  {
   "cell_type": "markdown",
   "id": "ed29ea54-2480-4e76-92f3-1e0af965eac4",
   "metadata": {},
   "source": [
    "# RAG"
   ]
  },
  {
   "cell_type": "markdown",
   "id": "1ca6594f-ca1f-4583-9b8e-c61cf5c05fa5",
   "metadata": {},
   "source": [
    "# Agent"
   ]
  },
  {
   "cell_type": "code",
   "execution_count": null,
   "id": "ee921a20-1f74-40a1-818e-ac694c6ed21e",
   "metadata": {},
   "outputs": [],
   "source": []
  }
 ],
 "metadata": {
  "kernelspec": {
   "display_name": "langchani-book-py3.10-ipykernel",
   "language": "python",
   "name": "langchani-book-py3.10-ipykernel"
  },
  "language_info": {
   "codemirror_mode": {
    "name": "ipython",
    "version": 3
   },
   "file_extension": ".py",
   "mimetype": "text/x-python",
   "name": "python",
   "nbconvert_exporter": "python",
   "pygments_lexer": "ipython3",
   "version": "3.10.0"
  }
 },
 "nbformat": 4,
 "nbformat_minor": 5
}
