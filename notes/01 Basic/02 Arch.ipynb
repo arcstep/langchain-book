{
 "cells": [
  {
   "cell_type": "markdown",
   "id": "de8b02d9-5ce6-47f1-ae05-956f130cd8e7",
   "metadata": {},
   "source": [
    "# langchain主要生态"
   ]
  },
  {
   "cell_type": "markdown",
   "id": "96144797-d470-47d3-ba1d-3379467b7a68",
   "metadata": {},
   "source": [
    "- langchain 模块：以LCEL方式开发DAG结构的chain，也可以作为访问远程chain的python客户端\n",
    "- langgraph 模块：让LCEL支持循环结构的chain\n",
    "- langserve 模块：将chain转化为API\n",
    "- langchain-js 模块：提供langchain的`js`版本，也可以作为访问远程chain的JS客户端\n",
    "- langsmith 模块：跟踪和调试的平台\n",
    "- langfuse 模块：langsmith的开源平替"
   ]
  },
  {
   "cell_type": "markdown",
   "id": "18e6bb80-6417-4b20-977d-f74c68258653",
   "metadata": {},
   "source": [
    "# langchain模块的代码结构"
   ]
  },
  {
   "cell_type": "markdown",
   "id": "f1db9b57-4909-43a5-a094-ea7a5339ef16",
   "metadata": {},
   "source": [
    "- langchain：入口主模块\n",
    "- core：核心模块\n",
    "- community：社区贡献\n",
    "- partners：合作伙伴模块\n",
    "- experimetal：实验性模块\n",
    "- cli：命令行"
   ]
  }
 ],
 "metadata": {
  "kernelspec": {
   "display_name": "langchani-book-py3.10-ipykernel",
   "language": "python",
   "name": "langchani-book-py3.10-ipykernel"
  },
  "language_info": {
   "codemirror_mode": {
    "name": "ipython",
    "version": 3
   },
   "file_extension": ".py",
   "mimetype": "text/x-python",
   "name": "python",
   "nbconvert_exporter": "python",
   "pygments_lexer": "ipython3",
   "version": "3.10.0"
  }
 },
 "nbformat": 4,
 "nbformat_minor": 5
}
