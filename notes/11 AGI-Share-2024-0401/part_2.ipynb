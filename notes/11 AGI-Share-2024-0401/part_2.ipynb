{
 "cells": [
  {
   "cell_type": "markdown",
   "id": "9e5b5362-cf90-4d8a-9c70-3db56e3f8dcc",
   "metadata": {},
   "source": [
    "# 🦜🔗 LangChain核心源代码解读：关于LLM和Agent（下）"
   ]
  },
  {
   "cell_type": "markdown",
   "id": "8dd052d2-91ac-475b-8fd8-fa2fce941ea6",
   "metadata": {},
   "source": [
    "# 课程开始"
   ]
  },
  {
   "cell_type": "markdown",
   "id": "5aacf2f7-f113-4451-a94c-b6911334f87f",
   "metadata": {},
   "source": [
    "## 下半场的闲聊"
   ]
  },
  {
   "cell_type": "markdown",
   "id": "99a655d7-e62f-481b-be3b-f814f009119a",
   "metadata": {},
   "source": [
    "- 🌹 [LangChain 中的 Agent](https://python.langchain.com/docs/modules/agents/agent_types/)\n",
    "- 🌹 [Chain 遗产](https://python.langchain.com/docs/modules/chains)"
   ]
  },
  {
   "cell_type": "markdown",
   "id": "4d2acb4e-bdbf-4353-a29b-6d7f013ca0b1",
   "metadata": {},
   "source": [
    "### 🌹 智能体相关类整理"
   ]
  },
  {
   "cell_type": "markdown",
   "id": "6bdbd141-3473-4ebb-a078-e300f5da9668",
   "metadata": {
    "jp-MarkdownHeadingCollapsed": true
   },
   "source": [
    "**（1）智能体类型**\n",
    "- AgentType\n",
    "    - ZERO_SHOT_REACT_DESCRIPTION（`ReAct`的一般实现）\n",
    "    - REACT_DOCSTORE（ReAct，支持RAG）\n",
    "    - SELF_ASK_WITH_SEARCH（使用`search 工具`不断反思获得答案）\n",
    "    - CONVERSATIONAL_REACT_DESCRIPTION（`ReAct`，支持对话）\n",
    "    - CHAT_ZERO_SHOT_REACT_DESCRIPTION（同上）\n",
    "    - CHAT_CONVERSATIONAL_REACT_DESCRIPTION（同上）\n",
    "    - STRUCTURED_CHAT_ZERO_SHOT_REACT_DESCRIPTION（`ReAct`，为对话模型优化，支持多输入）\n",
    "    - OPENAI_FUNCTIONS（支持`OpenAI Function Calling`）\n",
    "    - OPENAI_MULTI_FUNCTIONS（支持`OpenAI Function Calling`，支持多函数调度）\n",
    "\n",
    "----\n",
    "**（2）智能体执行器子组件：**\n",
    "\n",
    "[查看 langchain_core/agents.py 源码](https://github.com/langchain-ai/langchain/blob/239dd7c0c03d0430c55c2c41cf56cf0dd537199b/libs/core/langchain_core/agents.py)\n",
    "\n",
    "- `AgentAction`\n",
    "    - `AgentActionMessageLog`\n",
    "- `AgentStep`\n",
    "- `AgentFinish`\n",
    "\n",
    "----\n",
    "**（3）单动智能体：**\n",
    "- `BaseSingleActionAgent`\n",
    "    - RunnableAgent\n",
    "    - LLMSingleActionAgent（__deprecated__：`create_***_agent`）\n",
    "    - XMLAgent（__deprecated__：create_xml_agent）\n",
    "    - Agent\n",
    "        - ChatAgent（__deprecated__：`create_react_agent`）\n",
    "        - ConversationalAgent（__deprecated__：`create_react_agent`）\n",
    "        - ConversationalChatAgent（__deprecated__：`create_json_chat_agent`）\n",
    "        - StructuredChatAgent（__deprecated__：`create_structured_chat_agent`）\n",
    "        - ZeroShotAgent（__deprecated__：`create_react_agent`）\n",
    "        - ReActDocstoreAgent（__deprecated__）\n",
    "            - ReActTextWorldAgent（__deprecated__）\n",
    "        - SelfAskWithSearchAgent（__deprecated__：`create_self_ask_with_search`）\n",
    "    - OpenAIFunctionsAgent（__deprecated__：`create_openai_functions_agent`）\n",
    "\n",
    "----\n",
    "**（4）多动智能体：**\n",
    "- BaseMultiActionAgent\n",
    "    - RunnableMultiActionAgent\n",
    "    - OpenAIMultiFunctionsAgent（__deprecated__：`create_openai_tools_agent`）\n",
    "\n",
    "----\n",
    "**（5）Assistant：**\n",
    "- Runnable\n",
    "    - RunnableSerializable\n",
    "        - Chain\n",
    "            - `AgentExecutor`\n",
    "                - MRKLChain（__deprecated__）\n",
    "                - ReActChain（__deprecated__）\n",
    "                - SelfAskWithSearchChain（__deprecated__）\n",
    "        - `OpenAIAssistantRunnable`\n",
    "\n",
    "----\n",
    "**（6）提示语模板：**\n",
    "- Runnable\n",
    "    - RunnableSerializable\n",
    "        - BasePromptTemplate [Dict, PromptValue]\n",
    "            - BaseChatPromptTemplate\n",
    "                - ChatPromptTemplate\n",
    "                    - `AgentScratchPadChatPromptTemplate`\n",
    "\n",
    "----\n",
    "**（7）输出解析：**\n",
    "- Runnable\n",
    "    - RunnableSerializable\n",
    "        - BaseOutputParser\n",
    "            - `AgentOutputParser`\n",
    "            - `MultiActionAgentOutputParser`"
   ]
  },
  {
   "cell_type": "markdown",
   "id": "c2661030-84bd-47c6-8194-1d4570cb144a",
   "metadata": {},
   "source": [
    "### 🌹 从源码中看 openai 作为先驱的影响\n",
    "\n",
    "- [partners/openai/langchain_openai/chat_models/base.py（OpenAI模型）](https://github.com/langchain-ai/langchain/blob/master/libs/partners/openai/langchain_openai/chat_models/base.py)\n",
    "- [community/langchain_community/adapters/openai.py（OpenAI风格API转换）](https://github.com/langchain-ai/langchain/blob/master/libs/community/langchain_community/adapters/openai.py)\n",
    "- [core/langchain_core/utils/function_calling.py（OpenAI风格回调工具函数）](https://github.com/langchain-ai/langchain/blob/master/libs/core/langchain_core/utils/function_calling.py)\n",
    "- [core/langchain_core/output_parsers/openai_tools.py（OpenAI风格输出解析）](https://github.com/langchain-ai/langchain/blob/master/libs/core/langchain_core/output_parsers/openai_tools.py)\n",
    "- [core/langchain_core/output_parsers/openai_functions.py（OpenAI风格输出解析）](https://github.com/langchain-ai/langchain/blob/master/libs/core/langchain_core/output_parsers/openai_functions.py)"
   ]
  },
  {
   "cell_type": "markdown",
   "id": "6142438a-78bf-4cfc-aa37-02cb219047b3",
   "metadata": {},
   "source": [
    "# （二）解读源码，拆解和自定义智能体"
   ]
  },
  {
   "cell_type": "markdown",
   "id": "2f0c9102-787d-4efe-bebb-4acaa397b46b",
   "metadata": {},
   "source": [
    "<div class=\"alert alert-info\">\n",
    "    <b>干货从这里开始！</b><br>\n",
    "    接下来的例子中，会穿插 langchian 源码解读。\n",
    "</div>"
   ]
  },
  {
   "cell_type": "code",
   "execution_count": 120,
   "id": "4860d2d9-e16e-4077-8e5e-be72f92777b6",
   "metadata": {},
   "outputs": [
    {
     "data": {
      "text/plain": [
       "True"
      ]
     },
     "execution_count": 120,
     "metadata": {},
     "output_type": "execute_result"
    }
   ],
   "source": [
    "# 加载 .env 到环境变量\n",
    "import os\n",
    "from dotenv import load_dotenv, find_dotenv\n",
    "load_dotenv(find_dotenv(), override=True)"
   ]
  },
  {
   "cell_type": "markdown",
   "id": "270bb25b-fbf8-468a-801e-0d38adc61349",
   "metadata": {},
   "source": [
    "## 4、解读 OpenAI 工具回调风格智能体"
   ]
  },
  {
   "cell_type": "markdown",
   "id": "3c182357-9e1e-4036-ad7c-e7159d69796b",
   "metadata": {},
   "source": [
    "### ✍️ 拆解 OpenAI 工具回调智能体的定义过程"
   ]
  },
  {
   "cell_type": "markdown",
   "id": "d96fdb2b-8b94-478b-8204-b2264f23823a",
   "metadata": {},
   "source": [
    "![还是那个故事，但这次我们让老大爷聪明一点...如果可以的话。](./madongmei.gif)"
   ]
  },
  {
   "cell_type": "code",
   "execution_count": 119,
   "id": "cbde4eac-9718-4556-a79e-4d74475a6b81",
   "metadata": {},
   "outputs": [],
   "source": [
    "# from langchain_openai import ChatOpenAI\n",
    "from langchain_zhipu import ChatZhipuAI\n",
    "from langchain.agents import AgentExecutor, Tool, create_openai_tools_agent\n",
    "from langchain import hub\n",
    "from langchain.tools import tool\n",
    "from langchain_core.utils.function_calling import convert_to_openai_tool, convert_to_openai_function\n",
    "import re\n",
    "\n",
    "@tool\n",
    "def ask_neighber(query: str) -> str:\n",
    "    \"\"\"想问你找的人住哪里就问我吧，我是楼下老大爷\"\"\"\n",
    "    if(re.search(\"马冬梅\", query)):\n",
    "        return \"楼上322\"\n",
    "    else:\n",
    "        return \"我不清楚\"\n",
    "\n",
    "def create_openai_neighber(llm):\n",
    "    \"\"\"\n",
    "    使用openai智能体定义一个应用\n",
    "    \"\"\"\n",
    "    # 定义 tools\n",
    "    tools = [ask_neighber]\n",
    "    # 定义 prompt\n",
    "    prompt = hub.pull(\"hwchase17/openai-tools-agent\")\n",
    "    # 定义 Agent\n",
    "    agent = create_openai_tools_agent(llm, tools, prompt)\n",
    "    # 定义 AgentExecutor\n",
    "    executor = AgentExecutor(agent=agent, tools=tools, verbose=True)\n",
    "\n",
    "    return executor\n",
    "\n",
    "neighber = create_openai_neighber(ChatZhipuAI())"
   ]
  },
  {
   "cell_type": "markdown",
   "id": "70b02e0c-154a-4bfb-84cb-096f6a95d685",
   "metadata": {},
   "source": [
    "### 🌹 prompt： 观察 OpenAI 智能体的提示语"
   ]
  },
  {
   "cell_type": "markdown",
   "id": "eb242bb3-ddfd-4d41-8c83-2aa1d595d658",
   "metadata": {},
   "source": [
    "#### （1）从 Langsmith 的 hub 下载 hwchase17/openai-tools-agent"
   ]
  },
  {
   "cell_type": "markdown",
   "id": "87972ce9-815d-461a-995c-32b356c7ffef",
   "metadata": {},
   "source": [
    "[查看 hub.pull(\"hwchase17/openai-tools-agent\")](https://smith.langchain.com/hub/hwchase17/openai-tools-agent)"
   ]
  },
  {
   "cell_type": "markdown",
   "id": "a0bf6a6c-010c-4205-8c9e-47977e75e6b9",
   "metadata": {},
   "source": [
    "#### （2）等价的自定义 Prompt 模板"
   ]
  },
  {
   "cell_type": "code",
   "execution_count": 50,
   "id": "2dd9751f-85b3-4b87-bc2e-de179c591752",
   "metadata": {},
   "outputs": [],
   "source": [
    "from langchain_core.prompts import ChatPromptTemplate\n",
    "from langchain.prompts import MessagesPlaceholder\n",
    "\n",
    "# openai agent\n",
    "prompt = ChatPromptTemplate.from_messages([\n",
    "    (\"system\", \"You are a helpful assistant\"),\n",
    "    MessagesPlaceholder(\"chat_history\"),\n",
    "    (\"human\", \"{input}\"),\n",
    "    MessagesPlaceholder(\"agent_scratchpad\"),\n",
    "])"
   ]
  },
  {
   "cell_type": "code",
   "execution_count": 58,
   "id": "20ae236a-0407-4296-b473-d04dbe605e88",
   "metadata": {},
   "outputs": [
    {
     "data": {
      "text/plain": [
       "ChatPromptValue(messages=[SystemMessage(content='You are a helpful assistant'), HumanMessage(content='请问马冬梅的家在哪里？')])"
      ]
     },
     "execution_count": 58,
     "metadata": {},
     "output_type": "execute_result"
    }
   ],
   "source": [
    "prompt.invoke({\n",
    "    \"input\": \"请问马冬梅的家在哪里？\",\n",
    "    \"chat_history\": [],\n",
    "    \"agent_scratchpad\": []\n",
    "})"
   ]
  },
  {
   "cell_type": "markdown",
   "id": "bd8ac141-5874-4717-a72b-db95e66e3cc0",
   "metadata": {},
   "source": [
    "### 🌹 agent：阅读 create_openai_tools_agent 源码"
   ]
  },
  {
   "cell_type": "markdown",
   "id": "cf6096ec-803f-443b-842a-9f5d889703e8",
   "metadata": {},
   "source": [
    "[查看 langchain/agents/openai_tools/base.py 源码](https://github.com/langchain-ai/langchain/blob/239dd7c0c03d0430c55c2c41cf56cf0dd537199b/libs/langchain/langchain/agents/openai_tools/base.py#L15-L97)"
   ]
  },
  {
   "cell_type": "markdown",
   "id": "b53e5e93-8a82-48b0-ace0-1ed14ff25689",
   "metadata": {
    "jp-MarkdownHeadingCollapsed": true
   },
   "source": [
    "```python\n",
    "def create_openai_tools_agent(\n",
    "    llm: BaseLanguageModel, tools: Sequence[BaseTool], prompt: ChatPromptTemplate\n",
    ") -> Runnable:\n",
    "    \"\"\"Create an agent that uses OpenAI tools.\"\"\"\n",
    "\n",
    "    missing_vars = {\"agent_scratchpad\"}.difference(prompt.input_variables)\n",
    "    if missing_vars:\n",
    "        raise ValueError(f\"Prompt missing required variables: {missing_vars}\")\n",
    "\n",
    "    llm_with_tools = llm.bind(tools=[convert_to_openai_tool(tool) for tool in tools])\n",
    "\n",
    "    agent = (\n",
    "        RunnablePassthrough.assign(\n",
    "            agent_scratchpad=lambda x: format_to_openai_tool_messages(\n",
    "                x[\"intermediate_steps\"]\n",
    "            )\n",
    "        )\n",
    "        | prompt\n",
    "        | llm_with_tools\n",
    "        | OpenAIToolsAgentOutputParser()\n",
    "    )\n",
    "    return agent\n",
    "```"
   ]
  },
  {
   "cell_type": "markdown",
   "id": "a87c7944-801f-439c-bed7-8c5e3e8317cc",
   "metadata": {},
   "source": [
    "### 🌹 executor： 阅读 AgentExcutor 源码"
   ]
  },
  {
   "cell_type": "markdown",
   "id": "67a057c3-40ed-4ddc-873c-aa6b30842187",
   "metadata": {},
   "source": [
    "[查看 AgentExcutor 源码](https://github.com/langchain-ai/langchain/blob/239dd7c0c03d0430c55c2c41cf56cf0dd537199b/libs/langchain/langchain/agents/agent.py#L915)\n",
    "\n",
    "- 代码中的运行逻辑非常复杂，因此我们可以通过下面的方式研究其实际运行过程。\n",
    "- 作为 Chain 子类，AgentExcutor 覆写了 stream 方法。"
   ]
  },
  {
   "cell_type": "markdown",
   "id": "4b4729ef-baa1-4741-85d8-15d8a89c4a46",
   "metadata": {},
   "source": [
    "### 🌹 run：观察 OpenAI 智能体的运行过程"
   ]
  },
  {
   "cell_type": "markdown",
   "id": "0e339f1d-3ea6-45c4-8d6a-a5ff118cebaa",
   "metadata": {},
   "source": [
    "#### （1）简单执行：invoke"
   ]
  },
  {
   "cell_type": "code",
   "execution_count": 121,
   "id": "f4722734-d500-4724-a924-38a1223fe85d",
   "metadata": {},
   "outputs": [
    {
     "name": "stdout",
     "output_type": "stream",
     "text": [
      "\n",
      "\n",
      "\u001b[1m> Entering new AgentExecutor chain...\u001b[0m\n",
      "\u001b[32;1m\u001b[1;3m\n",
      "Invoking: `ask_neighber` with `{'query': '马冬梅住哪里'}`\n",
      "\n",
      "\n",
      "\u001b[0m\u001b[36;1m\u001b[1;3m楼上322\u001b[0m\u001b[32;1m\u001b[1;3m根据楼下老大爷的回答，马冬梅住在楼上322。\u001b[0m\n",
      "\n",
      "\u001b[1m> Finished chain.\u001b[0m\n"
     ]
    },
    {
     "data": {
      "text/plain": [
       "{'input': '马冬梅住哪里', 'output': '根据楼下老大爷的回答，马冬梅住在楼上322。'}"
      ]
     },
     "execution_count": 121,
     "metadata": {},
     "output_type": "execute_result"
    }
   ],
   "source": [
    "# invoke\n",
    "neighber.invoke({\"input\":\"马冬梅住哪里\"})"
   ]
  },
  {
   "cell_type": "markdown",
   "id": "9c8a8351-d72b-4613-a820-1680b4c1e2f5",
   "metadata": {},
   "source": [
    "#### （2）流输出：stream（仅智能体中的流）"
   ]
  },
  {
   "cell_type": "code",
   "execution_count": 114,
   "id": "ae095682-60f7-46ab-9e4f-07474bc48353",
   "metadata": {},
   "outputs": [
    {
     "name": "stdout",
     "output_type": "stream",
     "text": [
      "\n",
      "\n",
      "\u001b[1m> Entering new AgentExecutor chain...\u001b[0m\n",
      "{'actions': [OpenAIToolAgentAction(tool='ask_neighber', tool_input={'query': '马冬梅住哪里'}, log=\"\\nInvoking: `ask_neighber` with `{'query': '马冬梅住哪里'}`\\n\\n\\n\", message_log=[AIMessageChunk(content='', additional_kwargs={'tool_calls': [{'index': 0, 'id': 'call_8516974814413003915', 'function': {'arguments': '{\"query\":\"马冬梅住哪里\"}', 'name': 'ask_neighber'}, 'type': 'function'}]})], tool_call_id='call_8516974814413003915')], 'messages': [AIMessageChunk(content='', additional_kwargs={'tool_calls': [{'index': 0, 'id': 'call_8516974814413003915', 'function': {'arguments': '{\"query\":\"马冬梅住哪里\"}', 'name': 'ask_neighber'}, 'type': 'function'}]})]}\n",
      "\u001b[32;1m\u001b[1;3m\n",
      "Invoking: `ask_neighber` with `{'query': '马冬梅住哪里'}`\n",
      "\n",
      "\n",
      "\u001b[0m\u001b[36;1m\u001b[1;3m楼上322\u001b[0m{'steps': [AgentStep(action=OpenAIToolAgentAction(tool='ask_neighber', tool_input={'query': '马冬梅住哪里'}, log=\"\\nInvoking: `ask_neighber` with `{'query': '马冬梅住哪里'}`\\n\\n\\n\", message_log=[AIMessageChunk(content='', additional_kwargs={'tool_calls': [{'index': 0, 'id': 'call_8516974814413003915', 'function': {'arguments': '{\"query\":\"马冬梅住哪里\"}', 'name': 'ask_neighber'}, 'type': 'function'}]})], tool_call_id='call_8516974814413003915'), observation='楼上322')], 'messages': [FunctionMessage(content='楼上322', name='ask_neighber')]}\n",
      "\u001b[32;1m\u001b[1;3m根据我的查询结果，马冬梅住在楼上322房间。\u001b[0m\n",
      "\n",
      "\u001b[1m> Finished chain.\u001b[0m\n",
      "{'output': '根据我的查询结果，马冬梅住在楼上322房间。', 'messages': [AIMessage(content='根据我的查询结果，马冬梅住在楼上322房间。')]}\n"
     ]
    }
   ],
   "source": [
    "# stream\n",
    "for s in neighber.stream({\"input\":\"马冬梅住哪里\"}):\n",
    "    print(s)"
   ]
  },
  {
   "cell_type": "markdown",
   "id": "67cd1500-560b-4247-88a7-4b5dd5adab6a",
   "metadata": {},
   "source": [
    "#### （3）还是要使用事件流：astream_events"
   ]
  },
  {
   "cell_type": "markdown",
   "id": "f05eb804-9355-4abe-b9b6-91101cc4ed3b",
   "metadata": {},
   "source": [
    "**看看方法 astream_events 的能力：**"
   ]
  },
  {
   "cell_type": "code",
   "execution_count": 14,
   "id": "df1aab2d-9243-4916-bc85-1d684ad99e5f",
   "metadata": {},
   "outputs": [
    {
     "name": "stdout",
     "output_type": "stream",
     "text": [
      "AgentExecutor\n",
      "\n",
      "\u001b[1m> Entering new AgentExecutor chain...\u001b[0m\n",
      " [] on_chain_start\n",
      "RunnableSequence [] on_chain_start\n",
      "RunnableAssign<agent_scratchpad> ['seq:step:1'] on_chain_start\n",
      "RunnableAssign<agent_scratchpad> ['seq:step:1'] on_chain_stream\n",
      "RunnableParallel<agent_scratchpad> [] on_chain_start\n",
      "RunnableLambda ['map:key:agent_scratchpad'] on_chain_start\n",
      "RunnableLambda ['map:key:agent_scratchpad'] on_chain_stream\n",
      "RunnableParallel<agent_scratchpad> [] on_chain_stream\n",
      "RunnableAssign<agent_scratchpad> ['seq:step:1'] on_chain_stream\n",
      "RunnableLambda ['map:key:agent_scratchpad'] on_chain_end\n",
      "RunnableParallel<agent_scratchpad> [] on_chain_end\n",
      "RunnableAssign<agent_scratchpad> ['seq:step:1'] on_chain_end\n",
      "ChatPromptTemplate ['seq:step:2'] on_prompt_start\n",
      "ChatPromptTemplate ['seq:step:2'] on_prompt_end\n",
      "ChatZhipuAI ['seq:step:3'] on_chat_model_start\n",
      "ChatZhipuAI ['seq:step:3'] on_chat_model_stream\n",
      "ChatZhipuAI ['seq:step:3'] on_chat_model_stream\n",
      "ChatZhipuAI ['seq:step:3'] on_chat_model_end\n",
      "OpenAIToolsAgentOutputParser ['seq:step:4'] on_parser_start\n",
      "OpenAIToolsAgentOutputParser ['seq:step:4'] on_parser_end\n",
      "RunnableSequence [] on_chain_stream\n",
      "RunnableSequence [] on_chain_end\n",
      "AgentExecutor [] on_chain_stream\n",
      "\u001b[32;1m\u001b[1;3m\n",
      "Invoking: `ask_neighber` with `{'query': '马冬梅住哪里'}`\n",
      "\n",
      "\n",
      "\u001b[0mask_neighber [] on_tool_start\n",
      "\u001b[36;1m\u001b[1;3m楼上322\u001b[0mask_neighber [] on_tool_end\n",
      "AgentExecutor [] on_chain_stream\n",
      "RunnableSequence [] on_chain_start\n",
      "RunnableAssign<agent_scratchpad> ['seq:step:1'] on_chain_start\n",
      "RunnableAssign<agent_scratchpad> ['seq:step:1'] on_chain_stream\n",
      "RunnableParallel<agent_scratchpad> [] on_chain_start\n",
      "RunnableLambda ['map:key:agent_scratchpad'] on_chain_start\n",
      "RunnableLambda ['map:key:agent_scratchpad'] on_chain_stream\n",
      "RunnableParallel<agent_scratchpad> [] on_chain_stream\n",
      "RunnableAssign<agent_scratchpad> ['seq:step:1'] on_chain_stream\n",
      "RunnableLambda ['map:key:agent_scratchpad'] on_chain_end\n",
      "RunnableParallel<agent_scratchpad> [] on_chain_end\n",
      "RunnableAssign<agent_scratchpad> ['seq:step:1'] on_chain_end\n",
      "ChatPromptTemplate ['seq:step:2'] on_prompt_start\n",
      "ChatPromptTemplate ['seq:step:2'] on_prompt_end\n",
      "ChatZhipuAI ['seq:step:3'] on_chat_model_start\n",
      "ChatZhipuAI ['seq:step:3'] on_chat_model_stream\n",
      "ChatZhipuAI ['seq:step:3'] on_chat_model_stream\n",
      "ChatZhipuAI ['seq:step:3'] on_chat_model_stream\n",
      "ChatZhipuAI ['seq:step:3'] on_chat_model_stream\n",
      "ChatZhipuAI ['seq:step:3'] on_chat_model_stream\n",
      "ChatZhipuAI ['seq:step:3'] on_chat_model_stream\n",
      "ChatZhipuAI ['seq:step:3'] on_chat_model_stream\n",
      "ChatZhipuAI ['seq:step:3'] on_chat_model_stream\n",
      "ChatZhipuAI ['seq:step:3'] on_chat_model_stream\n",
      "ChatZhipuAI ['seq:step:3'] on_chat_model_stream\n",
      "ChatZhipuAI ['seq:step:3'] on_chat_model_stream\n",
      "ChatZhipuAI ['seq:step:3'] on_chat_model_stream\n",
      "ChatZhipuAI ['seq:step:3'] on_chat_model_stream\n",
      "ChatZhipuAI ['seq:step:3'] on_chat_model_stream\n",
      "ChatZhipuAI ['seq:step:3'] on_chat_model_stream\n",
      "ChatZhipuAI ['seq:step:3'] on_chat_model_end\n",
      "OpenAIToolsAgentOutputParser ['seq:step:4'] on_parser_start\n",
      "OpenAIToolsAgentOutputParser ['seq:step:4'] on_parser_end\n",
      "RunnableSequence [] on_chain_stream\n",
      "RunnableSequence [] on_chain_end\n",
      "\u001b[32;1m\u001b[1;3m根据我的查询结果，马冬梅住在楼上322房间。\u001b[0m\n",
      "\n",
      "\u001b[1m> Finished chain.\u001b[0m\n",
      "AgentExecutor [] on_chain_stream\n",
      "AgentExecutor [] on_chain_end\n"
     ]
    }
   ],
   "source": [
    "# astream_events\n",
    "async for e in neighber.astream_events({\"input\":\"马冬梅住哪里\"}, version=\"v1\"):\n",
    "    print(e['name'], e['tags'], e['event'])"
   ]
  },
  {
   "cell_type": "markdown",
   "id": "d7c714e2-b233-447e-81ae-8c7cf82de783",
   "metadata": {},
   "source": [
    "#### （4）观察与大模型的交互过程"
   ]
  },
  {
   "cell_type": "markdown",
   "id": "67df3f9c-f5c4-482d-bbff-8101b9c2a04c",
   "metadata": {},
   "source": [
    "只读取 **on_tool_end** 和 **on_chat_model_end** 两个事件："
   ]
  },
  {
   "cell_type": "code",
   "execution_count": 34,
   "id": "21c8eb73-2cc6-412c-857f-02f7bd3ee569",
   "metadata": {},
   "outputs": [
    {
     "name": "stdout",
     "output_type": "stream",
     "text": [
      "\n",
      "\n",
      "\u001b[1m> Entering new AgentExecutor chain...\u001b[0m\n",
      "\n",
      " ---------- ChatZhipuAI -- on_chat_model_end ----------\n",
      "INPUT:\n",
      "{'messages': [[SystemMessage(content='You are a helpful assistant'), HumanMessage(content='马冬梅住哪里')]]}\n",
      "\n",
      " ---------- ChatZhipuAI -- on_chat_model_end ----------\n",
      "OUTPUT:\n",
      "{'generations': [[{'text': '', 'generation_info': {'finish_reason': 'tool_calls'}, 'type': 'ChatGenerationChunk', 'message': AIMessageChunk(content='', additional_kwargs={'tool_calls': [{'index': 0, 'id': 'call_8516985431572319825', 'function': {'arguments': '{\"query\":\"马冬梅住哪里\"}', 'name': 'ask_neighber'}, 'type': 'function'}]})}]], 'llm_output': None, 'run': None}\n",
      "\u001b[32;1m\u001b[1;3m\n",
      "Invoking: `ask_neighber` with `{'query': '马冬梅住哪里'}`\n",
      "\n",
      "\n",
      "\u001b[0m\u001b[36;1m\u001b[1;3m楼上322\u001b[0m\n",
      " ---------- ask_neighber -- on_tool_end ----------\n",
      "INPUT:\n",
      "{'query': '马冬梅住哪里'}\n",
      "\n",
      " ---------- ask_neighber -- on_tool_end ----------\n",
      "OUTPUT:\n",
      "楼上322\n",
      "\n",
      " ---------- ChatZhipuAI -- on_chat_model_end ----------\n",
      "INPUT:\n",
      "{'messages': [[SystemMessage(content='You are a helpful assistant'), HumanMessage(content='马冬梅住哪里'), AIMessageChunk(content='', additional_kwargs={'tool_calls': [{'index': 0, 'id': 'call_8516985431572319825', 'function': {'arguments': '{\"query\":\"马冬梅住哪里\"}', 'name': 'ask_neighber'}, 'type': 'function'}]}), ToolMessage(content='楼上322', additional_kwargs={'name': 'ask_neighber'}, tool_call_id='call_8516985431572319825')]]}\n",
      "\n",
      " ---------- ChatZhipuAI -- on_chat_model_end ----------\n",
      "OUTPUT:\n",
      "{'generations': [[{'text': '根据我的查询结果，马冬梅住在楼上322房间。', 'generation_info': {'finish_reason': 'stop'}, 'type': 'ChatGenerationChunk', 'message': AIMessageChunk(content='根据我的查询结果，马冬梅住在楼上322房间。')}]], 'llm_output': None, 'run': None}\n",
      "\u001b[32;1m\u001b[1;3m根据我的查询结果，马冬梅住在楼上322房间。\u001b[0m\n",
      "\n",
      "\u001b[1m> Finished chain.\u001b[0m\n"
     ]
    }
   ],
   "source": [
    "from langchain_zhipu import ChatZhipuAI\n",
    "neighber = create_neighber(ChatZhipuAI())\n",
    "\n",
    "async for e in neighber.astream_events({\"input\":\"马冬梅住哪里\"}, version=\"v1\"):\n",
    "    if e['event'] in [\"on_chat_model_end\", \"on_tool_end\"]:\n",
    "        if(\"input\" in e['data']):\n",
    "            print(\"\\n\", \"-\"*10, e['name'], \"-\"*2, e['event'], \"-\"*10)\n",
    "            print(\"INPUT:\")\n",
    "            print(e['data']['input'])\n",
    "        if(\"output\" in e['data']):\n",
    "            print(\"\\n\", \"-\"*10, e['name'], \"-\"*2, e['event'], \"-\"*10)\n",
    "            print(\"OUTPUT:\")\n",
    "            print(e['data']['output'])\n",
    "        # print(\"\\n\", e)"
   ]
  },
  {
   "cell_type": "markdown",
   "id": "55ad2d3a-528d-4c64-a9db-fdd5054b4a2b",
   "metadata": {},
   "source": [
    "#### （5）总结智能体的定义过程\n",
    "\n",
    "- STEP-1 请求智能体（langchain -> ZhipuAI）: 发送带有Tools的请求\n",
    "- STEP-2 智能体解析（ZhipuAI -> langchain）: 收到Tools-Calling消息\n",
    "- STEP-3 调用本地工具（langchain）: 调用工具\n",
    "- STEP-4 重新请求智能体（langchain） -> ZhipuAI）: 提交调用结果\n",
    "- STEP-5 智能体最终生成（ZhipuAI -> langchain）: 大模型重新生成结果"
   ]
  },
  {
   "cell_type": "markdown",
   "id": "6554072f-070b-49ea-a45c-ddfd38fe4810",
   "metadata": {},
   "source": [
    "### ✍️ 一步一步执行：就像我们常对大模型说的那样"
   ]
  },
  {
   "cell_type": "markdown",
   "id": "b70658fb-fad7-4814-b3df-506061a2f2d6",
   "metadata": {},
   "source": [
    "#### （1）STEP-1 请求智能体（langchain -> ZhipuAI）: 发送带有Tools的请求"
   ]
  },
  {
   "cell_type": "code",
   "execution_count": 97,
   "id": "94873b39-8c65-4588-b28e-775e601359f3",
   "metadata": {},
   "outputs": [],
   "source": [
    "from langchain_core.prompts import ChatPromptTemplate\n",
    "from langchain.prompts import MessagesPlaceholder\n",
    "\n",
    "# openai agent\n",
    "prompt = ChatPromptTemplate.from_messages([\n",
    "    (\"system\", \"You are a helpful assistant\"),\n",
    "    MessagesPlaceholder(\"chat_history\"),\n",
    "    (\"human\", \"{input}\"),\n",
    "    MessagesPlaceholder(\"agent_scratchpad\"),\n",
    "])\n",
    "\n",
    "input = \"马冬梅住在哪里？\"\n",
    "history = []\n",
    "\n",
    "llm = ChatZhipuAI(tools=[convert_to_openai_tool(ask_neighber)])\n",
    "\n",
    "agent = prompt | llm"
   ]
  },
  {
   "cell_type": "markdown",
   "id": "f25ff1dc-1436-4dd0-bc34-625247273341",
   "metadata": {},
   "source": [
    "<div class=\"alert alert-warning\">\n",
    "    <b>⚠️ 思考：</b><br>\n",
    "    <b>convert_to_openai_function</b> 和 <b>convert_to_openai_tool</b> 的区别是什么？\n",
    "</div>\n",
    "\n",
    "**🌞 参考：**\n",
    "- [查看 convert_to_openai_tool 的实现源码](https://github.com/langchain-ai/langchain/blob/c93d4ea91cfcf55dfe871931d42aa22562f8dae2/libs/core/langchain_core/utils/function_calling.py#L323-L341)\n"
   ]
  },
  {
   "cell_type": "code",
   "execution_count": 38,
   "id": "48061e6c-3779-4ccb-818d-c3c6a1aaaa5e",
   "metadata": {},
   "outputs": [
    {
     "data": {
      "text/plain": [
       "{'name': 'ask_neighber',\n",
       " 'description': 'ask_neighber(query: str) -> str - 我在玩找人的游戏，我知道你找的人住在哪个房间',\n",
       " 'parameters': {'type': 'object',\n",
       "  'properties': {'query': {'type': 'string'}},\n",
       "  'required': ['query']}}"
      ]
     },
     "execution_count": 38,
     "metadata": {},
     "output_type": "execute_result"
    }
   ],
   "source": [
    "convert_to_openai_function(ask_neighber)"
   ]
  },
  {
   "cell_type": "code",
   "execution_count": 39,
   "id": "97bafddf-c37d-4636-9fd9-c11335d28ab0",
   "metadata": {},
   "outputs": [
    {
     "data": {
      "text/plain": [
       "{'type': 'function',\n",
       " 'function': {'name': 'ask_neighber',\n",
       "  'description': 'ask_neighber(query: str) -> str - 我在玩找人的游戏，我知道你找的人住在哪个房间',\n",
       "  'parameters': {'type': 'object',\n",
       "   'properties': {'query': {'type': 'string'}},\n",
       "   'required': ['query']}}}"
      ]
     },
     "execution_count": 39,
     "metadata": {},
     "output_type": "execute_result"
    }
   ],
   "source": [
    "convert_to_openai_tool(ask_neighber)"
   ]
  },
  {
   "cell_type": "markdown",
   "id": "d829924d-9a26-4af0-b38b-b099d3c16953",
   "metadata": {},
   "source": [
    "#### （2）STEP-2 智能体解析（ZhipuAI -> langchain）: 收到Tools-Calling消息"
   ]
  },
  {
   "cell_type": "code",
   "execution_count": 104,
   "id": "6eddb81f-dbb2-466e-ab39-867df638794a",
   "metadata": {},
   "outputs": [
    {
     "data": {
      "text/plain": [
       "AIMessage(content='', additional_kwargs={'tool_calls': [{'id': 'call_8516987149559268121', 'function': {'arguments': '{\"query\":\"马冬梅住在哪里？\"}', 'name': 'ask_neighber'}, 'type': 'function'}]})"
      ]
     },
     "execution_count": 104,
     "metadata": {},
     "output_type": "execute_result"
    }
   ],
   "source": [
    "steps_info = []\n",
    "resp_llm = agent.invoke({\"input\": input, \"chat_history\": history, \"agent_scratchpad\": steps_info})\n",
    "resp_llm"
   ]
  },
  {
   "cell_type": "markdown",
   "id": "f61a4a18-64d7-4110-bb97-f3c78904a53c",
   "metadata": {},
   "source": [
    "#### （3）STEP-3 调用本地工具（langchain）: 调用工具"
   ]
  },
  {
   "cell_type": "code",
   "execution_count": 105,
   "id": "f749d0a5-0937-4844-b83a-11025a44e8b1",
   "metadata": {},
   "outputs": [
    {
     "data": {
      "text/plain": [
       "'{\"query\":\"马冬梅住在哪里？\"}'"
      ]
     },
     "execution_count": 105,
     "metadata": {},
     "output_type": "execute_result"
    }
   ],
   "source": [
    "resp_llm.additional_kwargs[\"tool_calls\"][0][\"function\"][\"arguments\"]"
   ]
  },
  {
   "cell_type": "code",
   "execution_count": 107,
   "id": "4b65819c-65d1-4fc9-aadb-672f17c38dc9",
   "metadata": {},
   "outputs": [
    {
     "data": {
      "text/plain": [
       "{'query': '马冬梅住在哪里？'}"
      ]
     },
     "execution_count": 107,
     "metadata": {},
     "output_type": "execute_result"
    }
   ],
   "source": [
    "import json\n",
    "tool_args = json.loads(resp_llm.additional_kwargs[\"tool_calls\"][0][\"function\"][\"arguments\"])\n",
    "tool_args"
   ]
  },
  {
   "cell_type": "code",
   "execution_count": 108,
   "id": "67b9d2c9-53ad-44fd-9694-8fe98af6e3e5",
   "metadata": {},
   "outputs": [
    {
     "data": {
      "text/plain": [
       "'楼上322'"
      ]
     },
     "execution_count": 108,
     "metadata": {},
     "output_type": "execute_result"
    }
   ],
   "source": [
    "resp_tool = ask_neighber.invoke(tool_args)\n",
    "resp_tool"
   ]
  },
  {
   "cell_type": "markdown",
   "id": "005d1635-a21f-4301-b6e9-8b81d216542d",
   "metadata": {},
   "source": [
    "#### （4）STEP-4 重新请求智能体（langchain） -> ZhipuAI）: 提交调用结果"
   ]
  },
  {
   "cell_type": "code",
   "execution_count": 110,
   "id": "58a38c34-6293-46a0-8387-633e712296f7",
   "metadata": {},
   "outputs": [
    {
     "data": {
      "text/plain": [
       "['马冬梅住在哪里？',\n",
       " '楼上322',\n",
       " '马冬梅住在哪里？',\n",
       " AIMessage(content='', additional_kwargs={'tool_calls': [{'id': 'call_8516987149559268121', 'function': {'arguments': '{\"query\":\"马冬梅住在哪里？\"}', 'name': 'ask_neighber'}, 'type': 'function'}]}),\n",
       " '楼上322']"
      ]
     },
     "execution_count": 110,
     "metadata": {},
     "output_type": "execute_result"
    }
   ],
   "source": [
    "steps_info.append(input)\n",
    "steps_info.append(resp_llm)\n",
    "steps_info.append(resp_tool)\n",
    "steps_info"
   ]
  },
  {
   "cell_type": "markdown",
   "id": "2066d57b-7052-445d-97c9-c82cda7c7871",
   "metadata": {},
   "source": [
    "#### （5）STEP-5 智能体最终生成（ZhipuAI -> langchain）: 大模型重新生成结果"
   ]
  },
  {
   "cell_type": "code",
   "execution_count": 111,
   "id": "678c5175-8edf-4b88-af16-a4ebd7f8fdcb",
   "metadata": {},
   "outputs": [
    {
     "data": {
      "text/plain": [
       "AIMessage(content='根据我的查询结果，马冬梅住在楼上322。您还需要我提供其他信息吗？')"
      ]
     },
     "execution_count": 111,
     "metadata": {},
     "output_type": "execute_result"
    }
   ],
   "source": [
    "resp_llm = agent.invoke({\"input\": input, \"chat_history\": history, \"agent_scratchpad\": steps_info})\n",
    "resp_llm"
   ]
  },
  {
   "cell_type": "markdown",
   "id": "e7e575ef-202b-42b8-9eb9-0043b7733542",
   "metadata": {},
   "source": [
    "## 5、解读 ReAct 风格智能体"
   ]
  },
  {
   "cell_type": "markdown",
   "id": "e849eb22-0009-4c7b-a0cd-bf0e184f7337",
   "metadata": {},
   "source": [
    "### 🌹 构造 ReAct 智能体的提示语"
   ]
  },
  {
   "cell_type": "markdown",
   "id": "a0adfd0b-f51c-4cde-9e6c-bdb41d8e8645",
   "metadata": {},
   "source": [
    "[查看 hub.pull(\"hwchase17/react\")](https://smith.langchain.com/hub/hwchase17/react)"
   ]
  },
  {
   "cell_type": "code",
   "execution_count": 149,
   "id": "2764890b-da71-4d89-8b56-0b29b1009610",
   "metadata": {},
   "outputs": [],
   "source": [
    "from langchain_core.prompts import ChatPromptTemplate\n",
    "from langchain.prompts import MessagesPlaceholder"
   ]
  },
  {
   "cell_type": "code",
   "execution_count": 150,
   "id": "e14ca3c1-b866-4404-9d21-9ff1ec78161d",
   "metadata": {},
   "outputs": [
    {
     "name": "stdout",
     "output_type": "stream",
     "text": [
      "Answer the following questions as best you can. You have access to the following tools:\n",
      "\n",
      "{tools}\n",
      "\n",
      "Use the following format:\n",
      "\n",
      "Question: the input question you must answer\n",
      "Thought: you should always think about what to do\n",
      "Action: the action to take, should be one of [{tool_names}]\n",
      "Action Input: the input to the action\n",
      "Observation: the result of the action\n",
      "... (this Thought/Action/Action Input/Observation can repeat N times)\n",
      "Thought: I now know the final answer\n",
      "Final Answer: the final answer to the original input question\n",
      "\n",
      "Begin!\n",
      "\n",
      "Question: {input}\n",
      "Thought:{agent_scratchpad}\n"
     ]
    }
   ],
   "source": [
    "prompt = hub.pull(\"hwchase17/react\")\n",
    "print(prompt.template)"
   ]
  },
  {
   "cell_type": "markdown",
   "id": "1cf39eb9-2a2f-473c-a758-406d642a968f",
   "metadata": {},
   "source": [
    "### ✍️ 拆解 react 智能体的核心结构"
   ]
  },
  {
   "cell_type": "markdown",
   "id": "f1a089e4-bd6d-4081-8be5-37d37d32bca1",
   "metadata": {},
   "source": [
    "#### （1）定义 ReAct 智能体"
   ]
  },
  {
   "cell_type": "code",
   "execution_count": 160,
   "id": "7d0e8cfb-4ba4-46ef-a1f6-d3a3cb741099",
   "metadata": {},
   "outputs": [],
   "source": [
    "# from langchain_openai import ChatOpenAI\n",
    "from langchain_zhipu import ChatZhipuAI\n",
    "from langchain.prompts import PromptTemplate\n",
    "from langchain.agents import AgentExecutor, Tool, create_react_agent\n",
    "from langchain import hub\n",
    "from langchain.tools import tool\n",
    "import re\n",
    "\n",
    "@tool\n",
    "def ask_neighber(query: str) -> str:\n",
    "    \"\"\"我是马冬梅的邻居老大爷，关于她的事情你可以问我\"\"\"\n",
    "    if(re.search(\"马冬梅\", query)):\n",
    "        return \"楼上322\"\n",
    "    else:\n",
    "        return \"我不清楚\"\n",
    "\n",
    "prompt_react = \"\"\"\n",
    "请尽你最大努力回答用户的问题，并使用中文。\n",
    "你可以访问如下工具：\n",
    "{tools}\n",
    "\n",
    "请使用如下的输出格式：\n",
    "\n",
    "Question: 你必须回答的问题\n",
    "Thought: 你为了完成任务必须采取的思考过程\n",
    "Action: 又称为工具，必须是 {tool_names} 等其中之一\n",
    "Action Input: 调用工具所使用的参数\n",
    "Observation: 工具执行的结果\n",
    "... (这些过程 Thought/Action/Action Input/Observation 可以重复执行N次)\n",
    "Thought: 我现在知道答案了\n",
    "Final Answer: 问题的最终答案\n",
    "\n",
    "开始！\n",
    "\n",
    "Question: {input}\n",
    "Thought:{agent_scratchpad}\n",
    "\"\"\"\n",
    "\n",
    "def create_react_neighber(llm):\n",
    "    # 定义 tools\n",
    "    tools = [ask_neighber]\n",
    "    # 定义 prompt\n",
    "    prompt = PromptTemplate.from_template(prompt_react)\n",
    "    # 定义 Agent\n",
    "    agent = create_react_agent(llm, tools, prompt)\n",
    "    # 定义 AgentExecutor\n",
    "    executor = AgentExecutor(agent=agent, tools=tools, verbose=True)\n",
    "    \n",
    "    return executor\n",
    "\n",
    "neighber = create_react_neighber(ChatZhipuAI())"
   ]
  },
  {
   "cell_type": "markdown",
   "id": "0b3f489c-93c0-47a8-9716-7e06346ac371",
   "metadata": {},
   "source": [
    "#### （2）简单执行：invoke"
   ]
  },
  {
   "cell_type": "code",
   "execution_count": 161,
   "id": "e1964227-79f2-4ae8-8cab-dc81dc992813",
   "metadata": {},
   "outputs": [
    {
     "name": "stdout",
     "output_type": "stream",
     "text": [
      "\n",
      "\n",
      "\u001b[1m> Entering new AgentExecutor chain...\u001b[0m\n",
      "\u001b[32;1m\u001b[1;3m我需要获取马冬梅的住址信息，这个问题明显需要使用提供的工具来询问她的邻居。\n",
      "\n",
      "Action: ask_neighber\n",
      "Action Input: '马冬梅住在哪里？'\n",
      "Observation\u001b[0m\u001b[36;1m\u001b[1;3m楼上322\u001b[0m\u001b[32;1m\u001b[1;3mThought: 通过邻居老大爷的回答，我已经得到了马冬梅的住址信息。\n",
      "\n",
      "Final Answer: 马冬梅住在楼上322。\u001b[0m\n",
      "\n",
      "\u001b[1m> Finished chain.\u001b[0m\n"
     ]
    },
    {
     "data": {
      "text/plain": [
       "{'input': '马冬梅住哪里', 'output': '马冬梅住在楼上322。'}"
      ]
     },
     "execution_count": 161,
     "metadata": {},
     "output_type": "execute_result"
    }
   ],
   "source": [
    "# invoke\n",
    "neighber.invoke({\"input\":\"马冬梅住哪里\"})"
   ]
  },
  {
   "cell_type": "markdown",
   "id": "58f09f9b-1f61-4f46-9b77-028fd38dcfd3",
   "metadata": {},
   "source": [
    "#### （3）大模型的流输出：stream VS astream_events"
   ]
  },
  {
   "cell_type": "code",
   "execution_count": 164,
   "id": "3a00dd4d-74fe-436e-b77b-7ec0902b9472",
   "metadata": {},
   "outputs": [
    {
     "name": "stdout",
     "output_type": "stream",
     "text": [
      "\n",
      "\n",
      "\u001b[1m> Entering new AgentExecutor chain...\u001b[0m\n",
      "{'actions': [AgentAction(tool='ask_neighber', tool_input='马冬梅住在哪里？\"\\nObservation', log='我需要获取马冬梅的住址信息，这个问题明显需要使用提供的工具 ask_neighber 来向她的邻居老大爷询问。\\n\\nAction: ask_neighber\\nAction Input: \"马冬梅住在哪里？\"\\nObservation')], 'messages': [AIMessage(content='我需要获取马冬梅的住址信息，这个问题明显需要使用提供的工具 ask_neighber 来向她的邻居老大爷询问。\\n\\nAction: ask_neighber\\nAction Input: \"马冬梅住在哪里？\"\\nObservation')]}\n",
      "\u001b[32;1m\u001b[1;3m我需要获取马冬梅的住址信息，这个问题明显需要使用提供的工具 ask_neighber 来向她的邻居老大爷询问。\n",
      "\n",
      "Action: ask_neighber\n",
      "Action Input: \"马冬梅住在哪里？\"\n",
      "Observation\u001b[0m\u001b[36;1m\u001b[1;3m楼上322\u001b[0m{'steps': [AgentStep(action=AgentAction(tool='ask_neighber', tool_input='马冬梅住在哪里？\"\\nObservation', log='我需要获取马冬梅的住址信息，这个问题明显需要使用提供的工具 ask_neighber 来向她的邻居老大爷询问。\\n\\nAction: ask_neighber\\nAction Input: \"马冬梅住在哪里？\"\\nObservation'), observation='楼上322')], 'messages': [HumanMessage(content='楼上322')]}\n",
      "\u001b[32;1m\u001b[1;3mThought: 邻居老大爷已经告诉我马冬梅的住址是在楼上322，我现在知道问题的答案了。\n",
      "\n",
      "Final Answer: 马冬梅住在楼上322。\u001b[0m\n",
      "\n",
      "\u001b[1m> Finished chain.\u001b[0m\n",
      "{'output': '马冬梅住在楼上322。', 'messages': [AIMessage(content='Thought: 邻居老大爷已经告诉我马冬梅的住址是在楼上322，我现在知道问题的答案了。\\n\\nFinal Answer: 马冬梅住在楼上322。')]}\n"
     ]
    }
   ],
   "source": [
    "for chunk in neighber.stream({\"input\": \"马冬梅住哪里\"}):\n",
    "    print(chunk)"
   ]
  },
  {
   "cell_type": "code",
   "execution_count": 167,
   "id": "39af442a-8893-4ac0-a608-6f828747744b",
   "metadata": {},
   "outputs": [
    {
     "name": "stdout",
     "output_type": "stream",
     "text": [
      "\n",
      "\n",
      "\u001b[1m> Entering new AgentExecutor chain...\u001b[0m\n",
      "on_chain_start\n",
      "on_chain_start\n",
      "on_chain_start\n",
      "on_chain_stream\n",
      "on_chain_start\n",
      "on_chain_start\n",
      "on_chain_stream\n",
      "on_chain_stream\n",
      "on_chain_stream\n",
      "on_chain_end\n",
      "on_chain_end\n",
      "on_chain_end\n",
      "on_prompt_start\n",
      "on_prompt_end\n",
      "on_chat_model_start\n",
      "我_需要_获取_马_冬_梅_的_住_址_信息_，_这个问题_明显_需要_使用_提供_的信息_查询_工具_。\n",
      "\n",
      "Action_:_ ask__ne_igh_ber_\n",
      "Action_ Input_:_ '_马_冬_梅_住_在哪里_'\n",
      "Observ_ation__on_chat_model_end\n",
      "on_parser_start\n",
      "on_parser_end\n",
      "on_chain_stream\n",
      "on_chain_end\n",
      "on_chain_stream\n",
      "\u001b[32;1m\u001b[1;3m我需要获取马冬梅的住址信息，这个问题明显需要使用提供的信息查询工具。\n",
      "\n",
      "Action: ask_neighber\n",
      "Action Input: '马冬梅住在哪里'\n",
      "Observation\u001b[0mon_tool_start\n",
      "\u001b[36;1m\u001b[1;3m楼上322\u001b[0mon_tool_end\n",
      "on_chain_stream\n",
      "on_chain_start\n",
      "on_chain_start\n",
      "on_chain_stream\n",
      "on_chain_start\n",
      "on_chain_start\n",
      "on_chain_stream\n",
      "on_chain_stream\n",
      "on_chain_stream\n",
      "on_chain_end\n",
      "on_chain_end\n",
      "on_chain_end\n",
      "on_prompt_start\n",
      "on_prompt_end\n",
      "on_chat_model_start\n",
      "Thought_:_ 我_已经_从_邻居_老大_爷_那里_得到了_马_冬_梅_的_住_址_信息_。\n",
      "\n",
      "Final_ Answer_:_ 马_冬_梅_住在_楼上_3_22_。__on_chat_model_end\n",
      "on_parser_start\n",
      "on_parser_end\n",
      "on_chain_stream\n",
      "on_chain_end\n",
      "\u001b[32;1m\u001b[1;3mThought: 我已经从邻居老大爷那里得到了马冬梅的住址信息。\n",
      "\n",
      "Final Answer: 马冬梅住在楼上322。\u001b[0m\n",
      "\n",
      "\u001b[1m> Finished chain.\u001b[0m\n",
      "on_chain_stream\n",
      "on_chain_end\n"
     ]
    }
   ],
   "source": [
    "async for event in neighber.astream_events({\"input\": \"马冬梅住哪里\"}, version=\"v1\"):\n",
    "    kind = event[\"event\"]\n",
    "    if kind == \"on_chat_model_stream\":\n",
    "        print(event[\"data\"][\"chunk\"].content, end=\"_\")\n",
    "    else:\n",
    "        print(kind)"
   ]
  },
  {
   "cell_type": "markdown",
   "id": "1537231d-185f-4cb6-9936-2add5fc61fe2",
   "metadata": {},
   "source": [
    "### 🌹 观察 ReAct 智能体的运行过程"
   ]
  },
  {
   "cell_type": "markdown",
   "id": "4d0db4fa-f294-46bb-a745-ab40cb19eee2",
   "metadata": {},
   "source": [
    "只读取 **on_tool_end** 和 **on_chat_model_end** 两个事件："
   ]
  },
  {
   "cell_type": "code",
   "execution_count": 159,
   "id": "7ff5f9b0-7aa9-4cfe-9bc1-d0e24ad0eae8",
   "metadata": {},
   "outputs": [
    {
     "name": "stdout",
     "output_type": "stream",
     "text": [
      "\n",
      "\n",
      "\u001b[1m> Entering new AgentExecutor chain...\u001b[0m\n",
      "\n",
      " ---------- ChatZhipuAI -- on_chat_model_end ----------\n",
      "INPUT:\n",
      "\n",
      "请尽你最大努力回答用户的问题，并用中文回答问题。\n",
      "你可以访问如下工具：\n",
      "ask_neighber: ask_neighber(query: str) -> str - 我是马冬梅的邻居老大爷，关于她的事情你可以问我\n",
      "\n",
      "请使用如下的输出格式：\n",
      "\n",
      "Question: 你必须回答的问题\n",
      "Thought: 你为了完成任务必须采取的思考过程\n",
      "Action: 又称为工具，必须是 ask_neighber 等其中之一\n",
      "Action Input: 调用工具所使用的参数\n",
      "Observation: 工具执行的结果\n",
      "... (这些过程 Thought/Action/Action Input/Observation 可以重复执行N次)\n",
      "Thought: 我现在知道答案了\n",
      "Final Answer: 问题的最终答案\n",
      "\n",
      "开始！\n",
      "\n",
      "Question: 马冬梅住哪里\n",
      "Thought:\n",
      "\n",
      "\n",
      " ---------- ChatZhipuAI -- on_chat_model_end ----------\n",
      "OUTPUT:\n",
      "我需要获取马冬梅的住址信息，这个问题明显需要使用邻居老大爷提供的询问功能。\n",
      "\n",
      "Action: ask_neighber\n",
      "Action Input: '马冬梅住在哪里？'\n",
      "Observation\n",
      "\u001b[32;1m\u001b[1;3m我需要获取马冬梅的住址信息，这个问题明显需要使用邻居老大爷提供的询问功能。\n",
      "\n",
      "Action: ask_neighber\n",
      "Action Input: '马冬梅住在哪里？'\n",
      "Observation\u001b[0m\u001b[36;1m\u001b[1;3m楼上322\u001b[0m\n",
      " ---------- ask_neighber -- on_tool_end ----------\n",
      "INPUT:\n",
      "'马冬梅住在哪里？'\n",
      "Observation\n",
      "\n",
      " ---------- ask_neighber -- on_tool_end ----------\n",
      "OUTPUT:\n",
      "楼上322\n",
      "\n",
      " ---------- ChatZhipuAI -- on_chat_model_end ----------\n",
      "INPUT:\n",
      "\n",
      "请尽你最大努力回答用户的问题，并用中文回答问题。\n",
      "你可以访问如下工具：\n",
      "ask_neighber: ask_neighber(query: str) -> str - 我是马冬梅的邻居老大爷，关于她的事情你可以问我\n",
      "\n",
      "请使用如下的输出格式：\n",
      "\n",
      "Question: 你必须回答的问题\n",
      "Thought: 你为了完成任务必须采取的思考过程\n",
      "Action: 又称为工具，必须是 ask_neighber 等其中之一\n",
      "Action Input: 调用工具所使用的参数\n",
      "Observation: 工具执行的结果\n",
      "... (这些过程 Thought/Action/Action Input/Observation 可以重复执行N次)\n",
      "Thought: 我现在知道答案了\n",
      "Final Answer: 问题的最终答案\n",
      "\n",
      "开始！\n",
      "\n",
      "Question: 马冬梅住哪里\n",
      "Thought:我需要获取马冬梅的住址信息，这个问题明显需要使用邻居老大爷提供的询问功能。\n",
      "\n",
      "Action: ask_neighber\n",
      "Action Input: '马冬梅住在哪里？'\n",
      "Observation\n",
      "Observation: 楼上322\n",
      "Thought: \n",
      "\n",
      "\n",
      " ---------- ChatZhipuAI -- on_chat_model_end ----------\n",
      "OUTPUT:\n",
      "Thought: 通过邻居老大爷的信息，我现在已经知道马冬梅的住址了。\n",
      "\n",
      "Final Answer: 马冬梅住在楼上322。\n",
      "\u001b[32;1m\u001b[1;3mThought: 通过邻居老大爷的信息，我现在已经知道马冬梅的住址了。\n",
      "\n",
      "Final Answer: 马冬梅住在楼上322。\u001b[0m\n",
      "\n",
      "\u001b[1m> Finished chain.\u001b[0m\n"
     ]
    }
   ],
   "source": [
    "from langchain_zhipu import ChatZhipuAI\n",
    "neighber = create_react_neighber(ChatZhipuAI())\n",
    "\n",
    "async for e in neighber.astream_events({\"input\":\"马冬梅住哪里\"}, version=\"v1\"):\n",
    "    print_line = lambda : print(\"\\n\", \"-\"*10, e['name'], \"-\"*2, e['event'], \"-\"*10)\n",
    "    if e['event'] in [\"on_chat_model_end\", \"on_tool_end\"]:\n",
    "        if(\"input\" in e['data']):\n",
    "            input = e['data']['input']\n",
    "            print_line()\n",
    "            print(\"INPUT:\")\n",
    "            if(\"messages\" in input):\n",
    "                print(input[\"messages\"][0][0].content)\n",
    "            else:\n",
    "                print(input)\n",
    "        if(\"output\" in e['data']):\n",
    "            output = e['data']['output'] \n",
    "            print_line()\n",
    "            print(\"OUTPUT:\")\n",
    "            if(\"generations\" in output):\n",
    "                print(output[\"generations\"][0][0][\"text\"])\n",
    "            else:\n",
    "                print(output)\n",
    "        # print(\"\\n\", e)"
   ]
  },
  {
   "cell_type": "markdown",
   "id": "e2a53480-aac6-41ae-922c-c11adf288042",
   "metadata": {},
   "source": [
    "### 🌹 阅读源码，解读 ReAct 智能体"
   ]
  },
  {
   "cell_type": "markdown",
   "id": "46467905-272a-43d3-add6-b5ef95c1eb32",
   "metadata": {},
   "source": [
    "- `ReAct` 比 `OpenAI智能体` 多了必要的解析过程。"
   ]
  },
  {
   "cell_type": "markdown",
   "id": "1433903a-47b9-4030-aa1e-e6aea461e21e",
   "metadata": {},
   "source": [
    "- [查看 create_react_agent 源码](https://github.com/langchain-ai/langchain/blob/239dd7c0c03d0430c55c2c41cf56cf0dd537199b/libs/langchain/langchain/agents/react/agent.py#L16)\n",
    "- [查看 ReAct 输出解析的源码](https://github.com/langchain-ai/langchain/blob/239dd7c0c03d0430c55c2c41cf56cf0dd537199b/libs/langchain/langchain/agents/output_parsers/react_single_input.py#L22-L95)\n",
    "\n",
    "<div class=\"alert alert-warning\">\n",
    "    <b>思考：上面的提示语中为什么不修改这几个关键词？</b><br>\n",
    "    <ul>\n",
    "        <li>Final Answer</li>\n",
    "        <li>Action</li>\n",
    "        <li>Action Input</li>\n",
    "        <li>Observation</li>\n",
    "    </ul>\n",
    "</div>"
   ]
  },
  {
   "cell_type": "markdown",
   "id": "4ac7cee4-e12e-44c4-b48b-e74df9bb0db9",
   "metadata": {},
   "source": [
    "## 6、在LCEL框架下重定义《手撕AutoGPT》中的智能体"
   ]
  },
  {
   "cell_type": "markdown",
   "id": "5fcf9882-63e3-4437-b23b-a18fb47794ca",
   "metadata": {},
   "source": [
    "### ✍️ 自定义基于思维链的提示语"
   ]
  },
  {
   "cell_type": "code",
   "execution_count": 174,
   "id": "3e19e742-49ef-44a7-8e8e-04ce50204c8e",
   "metadata": {},
   "outputs": [],
   "source": [
    "PROMPT_COT = \"\"\"\n",
    "你是强大的AI助手，可以使用工具与指令自动化解决问题。\n",
    "\n",
    "你必须遵循以下约束来完成任务:\n",
    "1. 每次你的决策只使用一种工具，你可以使用任意多次。\n",
    "2. 确保你调用的指令或使用的工具在下述给定的工具列表中。\n",
    "3. 确保你的回答不会包含违法或有侵犯性的信息。\n",
    "4. 如果你已经完成所有任务，确保以\"FINISH\"指令结束。\n",
    "5. 用中文思考和输出。\n",
    "6. 如果执行某个指令或工具失败，尝试改变参数或参数格式再次调用。\n",
    "7. 你生成的回复必须遵循上文中给定的事实信息。不可以编造信息。DO NOT MAKE UP INFORMATION.\n",
    "8. 如果得到的结果不正确，尝试更换表达方式。\n",
    "9. 已经得到的信息，不要反复查询。\n",
    "10. 确保你生成的动作是可以精确执行的。动作做中可以包括具体方法和目标输出。\n",
    "11. 看到一个概念时尝试获取它的准确定义，并分析从哪些输入可以得到它的具体取值。\n",
    "12. 生成一个自然语言查询时，请在查询中包含全部的已知信息。\n",
    "13. 在执行分析或计算动作前，确保该分析或计算中涉及的所有子概念都已经得到了定义。\n",
    "14. 你不可以打印一个文件的全部内容，这样的操作代价太大，且会造成不可预期的后果，是被严格禁止的。\n",
    "15. 不要向用户提问。\n",
    "\n",
    "你的任务是:\n",
    "{input}\n",
    "\n",
    "你有非常优秀的逻辑分析能力，可以通过因果关系找到最优的解决方案。\n",
    "\n",
    "你要参考之前的思考记录:\n",
    "{agent_scratchpad}\n",
    "\n",
    "你需要评估你的表现:\n",
    "1. 尽你最大的努力，用你最好的水平，通过分析和检查，做出最好的决定。\n",
    "2. 带着全局观，自我反思你计划与动作。\n",
    "3. 考虑你之前的策略与决策来改善的你的计划。\n",
    "4. 如果你反复得到相同的结果，修改你的计划和决策，避免死循环。\n",
    "5. 如果你当前的动作无法获取到需要的信息，尝试展开关键概念的定义，再重新推理。\n",
    "\n",
    "如果你必须选择工具才能完成任务，可以使用以下工具之一，它们又称为动作或actions:\n",
    "\n",
    "{tools}\n",
    "\n",
    "你有两种情况你都应当选择FINISH工具:\n",
    "\n",
    "(1) 如果任务显示“无”、“没有了”、“已完成”、“FINISH”或类似表达，你就选择FINISH工具，\n",
    "(2) 如果没有选择任何工具就获得了输出，你就直接选择FINISH工具\n",
    "\n",
    "无论上述哪一种情况，你都必须将最终结果以键值对的方式输出给FINISH工具，其中键的名称是\"output\"，值就是你的最终结果。\n",
    "\n",
    "你必须根据以下格式说明，输出你的思考过程:\n",
    "1. 关键概念: 任务中涉及的组合型概念或实体。已经明确获得取值的关键概念，将其取值完整备注在概念后。\n",
    "2. 概念拆解: 将任务中的关键概念拆解为一系列待查询的子要素。每个关键概念一行，后接这个概念的子要素，每个子要素一行，行前以' -'开始。\n",
    "3. 反思:\n",
    "   - 自我反思，观察以前的执行记录，思考概念拆解是否完整、准确。\n",
    "   - 一步步思考是否每一个的关键概念或要素的查询都得到了准确的结果。\n",
    "   - 反思你已经得到哪个要素/概念。你得到的要素/概念取值是否正确。从当前的信息中还不能得到哪些要素/概念。\n",
    "   - 每个反思一行，行前以' -'开始。\n",
    "4. 思考: 观察执行记录和你的自我反思，并一步步思考\n",
    "  （1）分析要素间的依赖关系，例如：\n",
    "    i. 我是否需要先获得A的值/定义，才能通过A来获得B？\n",
    "    ii. 如果我先获得A，是否可以通过A筛选B，减少穷举每个B的代价？\n",
    "    iii. A和B是否存在在同一数据源中，我能否在获取A的同时获取B？\n",
    "    iv. 是否还有更高效或更聪明的办法来查询一个概念或要素？\n",
    "    v. 如果上一次尝试查询一个概念或要素时失败了，我是否可以尝试从另一个资源中再次查询？\n",
    "    vi. 诸如此类，你可以扩展更多的思考 ...\n",
    "  （2）根据以上分析，排列子要素间的查询优先级\n",
    "  （3）找出当前需要获得取值的子要素\n",
    "  注意，不要对要素的取值/定义做任何假设，确保你的信息来自给定的数据源！\n",
    "5. 推理: 根据你的反思与思考，一步步推理被选择的子要素取值的获取方式。如果前一次的计划失败了，请检查输入中是否包含每个概念/要素的明确定义，并尝试细化你的查询描述。\n",
    "6. 计划: 严格遵守以下规则，计划你的当前动作。\n",
    "  （1）详细列出当前动作的执行计划。只计划一步的动作。PLAN ONE STEP ONLY!\n",
    "  （2）一步步分析，包括数据源，对数据源的操作方式，对数据的分析方法。有哪些已知常量可以直接代入此次分析。\n",
    "  （3）不要尝试计算文件的每一个元素，这种计算代价太高，是严格禁止的。你可以通过分析找到更有效的方法，比如条件筛选。\n",
    "  （4）上述分析是否依赖某个要素的取值/定义，且该要素的取值/定义尚未获得。若果是，重新规划当前动作，确保所有依赖的要素的取值/定义都已经获得。\n",
    "  （5）不要对要素的取值/定义做任何假设，确保你的信息来自给定的数据源。不要编造信息。DO NOT MAKE UP ANY INFORMATION!!!\n",
    "  （6）确保你执行的动作涉及的所有要素都已获得确切的取值/定义。\n",
    "  （7）如果全部子任务已完成，请用FINISH动作结束任务。\n",
    "\n",
    "你必须根据以下格式说明，输出所选择执行的动作/工具/指令:\n",
    "{action_format_instructions}\n",
    "\"\"\""
   ]
  },
  {
   "cell_type": "markdown",
   "id": "fbd252e7-9caf-41cf-9c04-77d65677a345",
   "metadata": {},
   "source": [
    "### ✍️ 自定义 OutputParser"
   ]
  },
  {
   "cell_type": "code",
   "execution_count": 175,
   "id": "eef150fe-fbf2-4856-906b-b43f82a1aa99",
   "metadata": {},
   "outputs": [],
   "source": [
    "from typing import List, Optional, Dict, Any, Union, Callable\n",
    "from langchain_core.pydantic_v1 import BaseModel, Field\n",
    "from langchain.agents.agent import AgentOutputParser, AgentAction, AgentFinish\n",
    "from langchain.agents.format_scratchpad import format_log_to_str\n",
    "from langchain.output_parsers import PydanticOutputParser"
   ]
  },
  {
   "cell_type": "code",
   "execution_count": 176,
   "id": "125e6832-4d99-4214-bbfa-0c8bf033f8f7",
   "metadata": {},
   "outputs": [],
   "source": [
    "class Action(BaseModel):\n",
    "    name: str = Field(\n",
    "        description=\"The name of tool or action: FINISH or Other tool names.\"\n",
    "        )\n",
    "    args: Optional[Dict[str, Any]] = Field(\n",
    "        default=None,\n",
    "        description=\"Parameters of tool or action are composed of names and values.\"\n",
    "        )\n",
    "\n",
    "# 解析Action\n",
    "_action_output_parser = PydanticOutputParser(pydantic_object=Action)\n",
    "_action_parser_format = _action_output_parser.get_format_instructions()\n",
    "\n",
    "class ReasonOutputParser(AgentOutputParser):\n",
    "    \"\"\"解析单个动作的智能体action和输入参数。\n",
    "    \"\"\"\n",
    "\n",
    "    def parse(self, text: str) -> Union[AgentAction, AgentFinish]:\n",
    "        action: Action = _action_output_parser.invoke(text)\n",
    "        name: Optional[str] = action.name\n",
    "        args: Optional[Dict[str, Any]] = action.args if text is not None else \"No Args\"\n",
    "        log: str = text if text is not None else \"\"\n",
    "\n",
    "        if name == \"FINISH\":\n",
    "            return AgentFinish(args, log)\n",
    "        elif name is not None:\n",
    "            return AgentAction(name, args, log)\n",
    "\n",
    "    @property\n",
    "    def _type(self) -> str:\n",
    "        return \"Chain-of-Thought\"\n"
   ]
  },
  {
   "cell_type": "markdown",
   "id": "7ff71d04-4457-4761-abbf-d67abdcddd48",
   "metadata": {},
   "source": [
    "### ✍️ 自定义一个智能体"
   ]
  },
  {
   "cell_type": "code",
   "execution_count": 177,
   "id": "f301bc7c-0c38-49c9-8b5a-18ac4cc992b7",
   "metadata": {},
   "outputs": [],
   "source": [
    "from langchain_core.runnables import RunnablePassthrough\n",
    "from langchain_core.pydantic_v1 import BaseModel, Field\n",
    "from langchain.agents.format_scratchpad import format_log_to_str\n",
    "from langchain.prompts import PromptTemplate\n",
    "from langchain.tools.render import render_text_description\n",
    "\n",
    "def _prompt_creator(prompt: str) -> Callable[[List[str]], str]:\n",
    "    def creator(tools: List[str]) -> str:\n",
    "        # 请注意，智谱AI等国内大模型对于pydantic的参数解析并不友好，使用JSON描述参数时会误读\n",
    "        # 因此，不要使用 render_text_description_and_args 来生成工具描述\n",
    "        tools_format = render_text_description(tools)\n",
    "\n",
    "        template = PromptTemplate.from_template(prompt)\n",
    "        return template.partial(\n",
    "            tools=tools_format,\n",
    "            action_format_instructions=_action_parser_format,\n",
    "        )\n",
    "\n",
    "    return creator\n",
    "\n",
    "# 基于 CoT 的智能体\n",
    "def create_reason_agent(llm: Any, prompt: Optional[str] = None, tools: List[str] = []) -> Any:\n",
    "    prompt_creator = _prompt_creator(PROMPT_COT)\n",
    "    if prompt is not None:\n",
    "        prompt_creator = _prompt_creator(prompt)\n",
    "\n",
    "    agent = (\n",
    "        RunnablePassthrough.assign(\n",
    "            agent_scratchpad=lambda x: format_log_to_str(x[\"intermediate_steps\"])\n",
    "        )\n",
    "        | prompt_creator(tools)\n",
    "        | llm\n",
    "        | ReasonOutputParser()\n",
    "    )\n",
    "\n",
    "    return agent"
   ]
  },
  {
   "cell_type": "markdown",
   "id": "3cc2ce2c-8174-41b6-8e4e-5381e09ad13d",
   "metadata": {},
   "source": [
    "### ✍️ 尝试运行"
   ]
  },
  {
   "cell_type": "code",
   "execution_count": 178,
   "id": "f6680288-649b-4ae5-b30a-e974cde9c27c",
   "metadata": {},
   "outputs": [],
   "source": [
    "def create_cot_neighber(llm):\n",
    "    # 定义 tools\n",
    "    tools = [ask_neighber]\n",
    "    # 定义 Agent\n",
    "    agent = create_reason_agent(llm, tools=tools)\n",
    "    # 定义 AgentExecutor\n",
    "    executor = AgentExecutor(agent=agent, tools=tools, verbose=True)\n",
    "    \n",
    "    return executor\n",
    "\n",
    "neighber = create_cot_neighber(ChatZhipuAI())"
   ]
  },
  {
   "cell_type": "code",
   "execution_count": 179,
   "id": "0df7abda-998c-4135-b5bf-218cff0b7849",
   "metadata": {},
   "outputs": [
    {
     "name": "stdout",
     "output_type": "stream",
     "text": [
      "\n",
      "\n",
      "\u001b[1m> Entering new AgentExecutor chain...\u001b[0m\n",
      "关键_概念_:\n",
      "-_ 马_冬_梅_住_址_\n",
      "\n",
      "概念_拆_解_:\n",
      "-_ 马_冬_梅_住_址_\n",
      " _ -_ -_ 马_冬_梅_的_邻居_信息_\n",
      "\n",
      "反思_:\n",
      "-_ -_ 马_冬_梅_的_住_址_需要_通过_询问_邻居_来_获取_，_目前_没有_其他_方式_获得_此_信息_。\n",
      "\n",
      "思考_:\n",
      "-_ 根_据_给定_工具_，_我_可以通过_询问_邻居_来_获取_马_冬_梅_的_住_址_信息_。_这是_目前_唯一_可_用的_信息_源_。\n",
      "\n",
      "推理_:\n",
      "-_ 既然_马_冬_梅_的_邻居_愿意_提供_关于_她的_信息_，_我将_使用_工具_来_询问_她的_住_址_。\n",
      "\n",
      "计划_:\n",
      "-_ 使用_工具_ \"_ask__ne_igh_ber_\"_ 来_获取_马_冬_梅_的_住_址_。\n",
      "\n",
      "所_选择_执行_的动作_/_工具_/_指令_:\n",
      "\n",
      "```_json_\n",
      "{\"_name_\":_ \"_ask__ne_igh_ber_\",_ \"_args_\":_ {\"_query_\":_ \"_马_冬_梅_住_在哪里_？_\"}}\n",
      "```__\u001b[32;1m\u001b[1;3m关键概念:\n",
      "- 马冬梅住址\n",
      "\n",
      "概念拆解:\n",
      "- 马冬梅住址\n",
      "  - - 马冬梅的邻居信息\n",
      "\n",
      "反思:\n",
      "- - 马冬梅的住址需要通过询问邻居来获取，目前没有其他方式获得此信息。\n",
      "\n",
      "思考:\n",
      "- 根据给定工具，我可以通过询问邻居来获取马冬梅的住址信息。这是目前唯一可用的信息源。\n",
      "\n",
      "推理:\n",
      "- 既然马冬梅的邻居愿意提供关于她的信息，我将使用工具来询问她的住址。\n",
      "\n",
      "计划:\n",
      "- 使用工具 \"ask_neighber\" 来获取马冬梅的住址。\n",
      "\n",
      "所选择执行的动作/工具/指令:\n",
      "\n",
      "```json\n",
      "{\"name\": \"ask_neighber\", \"args\": {\"query\": \"马冬梅住在哪里？\"}}\n",
      "```\u001b[0m\u001b[36;1m\u001b[1;3m楼上322\u001b[0m关键_概念_:_ 马_冬_梅_住_址_\n",
      "\n",
      "概念_拆_解_:\n",
      "-_ 马_冬_梅_住_址_\n",
      " _ -_ -_ 马_冬_梅_的_邻居_信息_\n",
      "\n",
      "反思_:\n",
      "-_ -_ 已_通过_询问_邻居_得到_马_冬_梅_的_住_址_信息_。\n",
      "\n",
      "思考_:\n",
      "-_ 所有_关键_概念的_子_要素_都已_查询_到_结果_，_马_冬_梅_的_住_址_已经_明确_。\n",
      "\n",
      "推理_:\n",
      "-_ 马_冬_梅_的_住_址_已经_通过_邻居_获得_，_无需_进一步_查询_。\n",
      "\n",
      "计划_:\n",
      "-_ 使用_FIN_ISH_工具_结束_任务_。\n",
      "\n",
      "所_选择_执行_的动作_/_工具_/_指令_:\n",
      "\n",
      "```_json_\n",
      "{\"_name_\":_ \"_FIN_ISH_\",_ \"_args_\":_ {\"_output_\":_ \"_马_冬_梅_住在_楼上_3_22_。\"_ }}\n",
      "```__\u001b[32;1m\u001b[1;3m关键概念: 马冬梅住址\n",
      "\n",
      "概念拆解:\n",
      "- 马冬梅住址\n",
      "  - - 马冬梅的邻居信息\n",
      "\n",
      "反思:\n",
      "- - 已通过询问邻居得到马冬梅的住址信息。\n",
      "\n",
      "思考:\n",
      "- 所有关键概念的子要素都已查询到结果，马冬梅的住址已经明确。\n",
      "\n",
      "推理:\n",
      "- 马冬梅的住址已经通过邻居获得，无需进一步查询。\n",
      "\n",
      "计划:\n",
      "- 使用FINISH工具结束任务。\n",
      "\n",
      "所选择执行的动作/工具/指令:\n",
      "\n",
      "```json\n",
      "{\"name\": \"FINISH\", \"args\": {\"output\": \"马冬梅住在楼上322。\" }}\n",
      "```\u001b[0m\n",
      "\n",
      "\u001b[1m> Finished chain.\u001b[0m\n"
     ]
    }
   ],
   "source": [
    "async for chunk in neighber.astream_events({\"input\": \"马冬梅家住哪里？\"}, version=\"v1\"):\n",
    "    event = chunk['event']\n",
    "    if(event == \"on_chat_model_stream\"):\n",
    "        if('chunk' in chunk['data']):\n",
    "            print(chunk['data']['chunk'].content, end=\"_\", flush=True)"
   ]
  },
  {
   "cell_type": "markdown",
   "id": "52bf21ca-cf12-4cd3-a53c-f451ccafa852",
   "metadata": {},
   "source": [
    "# 结束了"
   ]
  },
  {
   "cell_type": "markdown",
   "id": "86a62f75-52bd-462b-a396-8fb9751fc84a",
   "metadata": {},
   "source": [
    "## ❤️ Langgraph中的惊喜\n",
    "\n",
    "**一些较新的智能体论文实践...**\n",
    "\n",
    "- [Agent Supervisor](https://github.com/langchain-ai/langgraph/blob/main/examples/multi_agent/agent_supervisor.ipynb)\n",
    "- [Hierarchical Agent Teams](https://github.com/langchain-ai/langgraph/blob/main/examples/multi_agent/hierarchical_agent_teams.ipynb)\n",
    "- [Multi Agent Collaboration](https://github.com/langchain-ai/langgraph/blob/main/examples/multi_agent/multi-agent-collaboration.ipynb)\n",
    "- [Plan And Execute](https://github.com/langchain-ai/langgraph/blob/main/examples/plan-and-execute/plan-and-execute.ipynb)\n",
    "- [ReWoo](https://github.com/langchain-ai/langgraph/blob/main/examples/rewoo/rewoo.ipynb)\n",
    "- [Reflexion](https://github.com/langchain-ai/langgraph/blob/main/examples/reflexion/reflexion.ipynb)\n",
    "- [Self Discover](https://github.com/langchain-ai/langgraph/blob/main/examples/self-discover/self-discover.ipynb)\n",
    "- ..."
   ]
  },
  {
   "cell_type": "markdown",
   "id": "284f9b10-8af0-4a42-80be-935f1fc6c853",
   "metadata": {},
   "source": [
    "## ❤️ 总结\n",
    "\n",
    "- 我们一起解构了 langchain 部份组件的源码结构\n",
    "    - Runnable\n",
    "    - BaseLanguageModel / BaseChatModel\n",
    "    - create_openai_tools_agent\n",
    "    - create_react_agent\n",
    "    - Chain\n",
    "    - AgentExecutor\n",
    "- 我们从零开始集成了达模型到 langchain\n",
    "- 我们深度解构了 OpenAI / ReAct 智能体的细节\n",
    "- 我们自定义了符合 AgentExecutor 的 AutoGPT 智能体\n"
   ]
  }
 ],
 "metadata": {
  "kernelspec": {
   "display_name": "langchani-book-py3.10-ipykernel",
   "language": "python",
   "name": "langchani-book-py3.10-ipykernel"
  },
  "language_info": {
   "codemirror_mode": {
    "name": "ipython",
    "version": 3
   },
   "file_extension": ".py",
   "mimetype": "text/x-python",
   "name": "python",
   "nbconvert_exporter": "python",
   "pygments_lexer": "ipython3",
   "version": "3.10.0"
  }
 },
 "nbformat": 4,
 "nbformat_minor": 5
}
