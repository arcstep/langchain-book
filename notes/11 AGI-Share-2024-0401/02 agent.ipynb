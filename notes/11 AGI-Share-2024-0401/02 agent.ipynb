{
 "cells": [
  {
   "cell_type": "markdown",
   "id": "9e5b5362-cf90-4d8a-9c70-3db56e3f8dcc",
   "metadata": {},
   "source": [
    "# 🦜🔗 LangChain核心源代码解读（下）"
   ]
  },
  {
   "cell_type": "markdown",
   "id": "e64598d5-cdac-4a60-96d9-52b44730d6a2",
   "metadata": {},
   "source": [
    "# （二）解读源码，深度定制自己的智能体"
   ]
  },
  {
   "cell_type": "markdown",
   "id": "5aacf2f7-f113-4451-a94c-b6911334f87f",
   "metadata": {},
   "source": [
    "## 下半场的闲聊"
   ]
  },
  {
   "cell_type": "markdown",
   "id": "99a655d7-e62f-481b-be3b-f814f009119a",
   "metadata": {},
   "source": [
    "- 🌹 [LangChain 中的 Agent](https://python.langchain.com/docs/modules/agents/agent_types/)\n",
    "- 🌹 [Chain 遗产](https://python.langchain.com/docs/modules/chains)"
   ]
  },
  {
   "cell_type": "markdown",
   "id": "4d2acb4e-bdbf-4353-a29b-6d7f013ca0b1",
   "metadata": {},
   "source": [
    "### 🌹 langchain中智能体相关类的清单"
   ]
  },
  {
   "cell_type": "markdown",
   "id": "6bdbd141-3473-4ebb-a078-e300f5da9668",
   "metadata": {},
   "source": [
    "**Agent**\n",
    "- AgentType\n",
    "    - ZERO_SHOT_REACT_DESCRIPTION（**ReAct**的一般实现）\n",
    "    - REACT_DOCSTORE（ReAct，支持RAG）\n",
    "    - SELF_ASK_WITH_SEARCH（使用**search 工具**不断反思获得答案）\n",
    "    - CONVERSATIONAL_REACT_DESCRIPTION（**ReAct**，支持对话）\n",
    "    - CHAT_ZERO_SHOT_REACT_DESCRIPTION（同上）\n",
    "    - CHAT_CONVERSATIONAL_REACT_DESCRIPTION（同上）\n",
    "    - STRUCTURED_CHAT_ZERO_SHOT_REACT_DESCRIPTION（**ReAct**，为对话模型优化，支持多输入）\n",
    "    - OPENAI_FUNCTIONS（支持**OpenAI Function Calling**）\n",
    "    - OPENAI_MULTI_FUNCTIONS（支持**OpenAI Function Calling**，支持多函数调度）\n",
    "\n",
    "**智能体执行器子组件：**\n",
    "\n",
    "- AgentAction\n",
    "    - AgentActionMessageLog\n",
    "- AgentStep\n",
    "- AgentFinish\n",
    "\n",
    "**单动智能体：**\n",
    "- **BaseSingleActionAgent**\n",
    "    - RunnableAgent\n",
    "    - LLMSingleActionAgent（__遗留__，__修改为__：create_***_agent）\n",
    "    - XMLAgent（__遗留__，__修改为__：create_xml_agent）\n",
    "    - Agent\n",
    "        - ChatAgent（__遗留__，__修改为__：create_react_agent）\n",
    "        - ConversationalAgent（__遗留__，__修改为__：create_react_agent）\n",
    "        - ConversationalChatAgent（__遗留__，__修改为__：create_json_chat_agent）\n",
    "        - StructuredChatAgent（__遗留__，__修改为__：create_structured_chat_agent）\n",
    "        - ZeroShotAgent（__遗留__，__修改为__：create_react_agent）\n",
    "        - ReActDocstoreAgent（__遗留__）\n",
    "            - ReActTextWorldAgent（__遗留__）\n",
    "        - SelfAskWithSearchAgent（__遗留__，__修改为__：create_self_ask_with_search）\n",
    "    - OpenAIFunctionsAgent（__遗留__，__修改为__：create_openai_functions_agent）\n",
    "\n",
    "**多动智能体：**\n",
    "- BaseMultiActionAgent\n",
    "    - RunnableMultiActionAgent\n",
    "    - OpenAIMultiFunctionsAgent（__遗留__，__修改为__：create_openai_tools_agent）\n",
    "\n",
    "**Assistant：**\n",
    "- Runnable\n",
    "    - RunnableSerializable\n",
    "        - Chain\n",
    "            - **AgentExecutor**\n",
    "                - MRKLChain（__遗留__）\n",
    "                - ReActChain（__遗留__）\n",
    "                - SelfAskWithSearchChain（__遗留__）\n",
    "        - **OpenAIAssistantRunnable**\n",
    "\n",
    "**提示语模板：**\n",
    "- Runnable\n",
    "    - RunnableSerializable\n",
    "        - BasePromptTemplate `[Dict, PromptValue]`\n",
    "            - BaseChatPromptTemplate\n",
    "                - ChatPromptTemplate\n",
    "                    - **AgentScratchPadChatPromptTemplate**\n",
    "\n",
    "**输出解析：**\n",
    "- Runnable\n",
    "    - RunnableSerializable\n",
    "        - BaseOutputParser\n",
    "            - **AgentOutputParser**\n",
    "            - **MultiActionAgentOutputParser**"
   ]
  },
  {
   "cell_type": "markdown",
   "id": "270bb25b-fbf8-468a-801e-0d38adc61349",
   "metadata": {},
   "source": [
    "## 4、 openai风格智能体"
   ]
  },
  {
   "cell_type": "markdown",
   "id": "6e06a742-45b5-43e1-a95a-c56e01546fef",
   "metadata": {},
   "source": [
    "### 🌹 从源码中搜寻 openai 的痕迹\n",
    "\n",
    "- [partners/openai/langchain_openai/__init__.py](https://github.com/langchain-ai/langchain/blob/master/libs/partners/openai/langchain_openai/__init__.py)\n",
    "- [core/langchain_core/utils/function_calling.py](https://github.com/langchain-ai/langchain/blob/master/libs/core/langchain_core/utils/function_calling.py)\n",
    "- [core/langchain_core/output_parsers/openai_tools.py](https://github.com/langchain-ai/langchain/blob/master/libs/core/langchain_core/output_parsers/openai_tools.py)\n",
    "- [core/langchain_core/output_parsers/openai_functions.py](https://github.com/langchain-ai/langchain/blob/master/libs/core/langchain_core/output_parsers/openai_functions.py)"
   ]
  },
  {
   "cell_type": "markdown",
   "id": "bec7665f-c8b2-4f10-8ba4-3a0701ad43ef",
   "metadata": {},
   "source": []
  },
  {
   "cell_type": "markdown",
   "id": "da691810-ef18-4c59-ac4e-d74a28bba153",
   "metadata": {},
   "source": [
    "### 🌹 Function Calling 是怎么回事"
   ]
  },
  {
   "cell_type": "markdown",
   "id": "0e1b9595-323d-44df-a0cb-002bf55f1bfa",
   "metadata": {},
   "source": [
    "### 🌹 create_openai_tool"
   ]
  },
  {
   "cell_type": "markdown",
   "id": "36958211-1b78-43e3-a211-c4dfc8541b63",
   "metadata": {},
   "source": [
    "## 5、 react风格智能体\n",
    "### 🌹 create_react_agent"
   ]
  },
  {
   "cell_type": "markdown",
   "id": "cad31612-b006-4803-96a9-6bb824b1c25a",
   "metadata": {},
   "source": [
    "- 一个简单的智能体需求：与AI玩一个捉迷藏游戏\n",
    "- react智能体的prompt如何工作\n",
    "- 中间步骤的一步步产生过程\n",
    "- action如何解析"
   ]
  },
  {
   "cell_type": "markdown",
   "id": "4ac7cee4-e12e-44c4-b48b-e74df9bb0db9",
   "metadata": {},
   "source": [
    "## 6、在LCEL框架下重新《手撕AutoGPT》\n",
    "\n",
    "### ✍️ 自定义智能体\n",
    "### 🌹 智能体的 OutputParser"
   ]
  },
  {
   "cell_type": "markdown",
   "id": "4d5bd7d1-572a-447b-89b6-528b45258be9",
   "metadata": {},
   "source": [
    "- 工具：定义一个简单工具\n",
    "- 智能体：\n",
    "    - Tools-Calling 智能体\n",
    "    - ReAct 智能体\n",
    "- 执行器：AgentExecutor"
   ]
  },
  {
   "cell_type": "markdown",
   "id": "0cba7531-66a6-4fda-81dc-03a87a2a637f",
   "metadata": {},
   "source": [
    "难点：\n",
    "- 官方例子和内置智能体无法支持pydantic参数解析（智谱AI等推理能力较弱的模型可以使用）"
   ]
  },
  {
   "cell_type": "markdown",
   "id": "bfe191e1-310b-4b02-b9e8-466688cdfc75",
   "metadata": {},
   "source": [
    "### 🌹 AgentExcutor中的记忆体"
   ]
  },
  {
   "cell_type": "markdown",
   "id": "86a62f75-52bd-462b-a396-8fb9751fc84a",
   "metadata": {},
   "source": [
    "## 7、Langgraph中的智能体\n",
    "\n",
    "**一起来打开眼界**"
   ]
  },
  {
   "cell_type": "markdown",
   "id": "52bf21ca-cf12-4cd3-a53c-f451ccafa852",
   "metadata": {},
   "source": [
    "# 结束了"
   ]
  },
  {
   "cell_type": "markdown",
   "id": "284f9b10-8af0-4a42-80be-935f1fc6c853",
   "metadata": {},
   "source": [
    "## ❤️ 总结\n",
    "\n",
    "- 我们一起阅读了langchain的源代码结构和部份细节\n",
    "    - BaseLanguageModel / BaseChatModel / \n",
    "    - Runnable\n",
    "    - LambdaRunnable\n",
    "    - Chain\n",
    "    - AgentExcutor\n",
    "    - langgraph.prebuild\n",
    "- 我们学习了如何自己动手集成大模型到 langchain 中\n",
    "- 我们拆解了langchain的基石组件：Runnable\n",
    "- 我们拆解了langchain的核心逻辑能力：LCEL\n",
    "- 我们拆解了langchain的最新逻辑能力：langgraph\n",
    "- 我们动手做了一些代码实践"
   ]
  },
  {
   "cell_type": "code",
   "execution_count": null,
   "id": "c25aedb9-6e61-43df-b423-7682b24b666f",
   "metadata": {},
   "outputs": [],
   "source": []
  }
 ],
 "metadata": {
  "kernelspec": {
   "display_name": "langchani-book-py3.10-ipykernel",
   "language": "python",
   "name": "langchani-book-py3.10-ipykernel"
  },
  "language_info": {
   "codemirror_mode": {
    "name": "ipython",
    "version": 3
   },
   "file_extension": ".py",
   "mimetype": "text/x-python",
   "name": "python",
   "nbconvert_exporter": "python",
   "pygments_lexer": "ipython3",
   "version": "3.10.0"
  }
 },
 "nbformat": 4,
 "nbformat_minor": 5
}
