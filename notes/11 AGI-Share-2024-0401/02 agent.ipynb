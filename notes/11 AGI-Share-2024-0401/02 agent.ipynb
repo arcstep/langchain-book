{
 "cells": [
  {
   "cell_type": "markdown",
   "id": "9e5b5362-cf90-4d8a-9c70-3db56e3f8dcc",
   "metadata": {},
   "source": [
    "# 🦜🔗 解读LangChain核心源码：关于LLM和Agent（下）"
   ]
  },
  {
   "cell_type": "markdown",
   "id": "8dd052d2-91ac-475b-8fd8-fa2fce941ea6",
   "metadata": {},
   "source": [
    "# 课程开始"
   ]
  },
  {
   "cell_type": "markdown",
   "id": "5aacf2f7-f113-4451-a94c-b6911334f87f",
   "metadata": {},
   "source": [
    "## 涉及的资源"
   ]
  },
  {
   "cell_type": "markdown",
   "id": "4d2acb4e-bdbf-4353-a29b-6d7f013ca0b1",
   "metadata": {},
   "source": [
    "### 🌹 智能体相关类整理"
   ]
  },
  {
   "cell_type": "markdown",
   "id": "6bdbd141-3473-4ebb-a078-e300f5da9668",
   "metadata": {
    "jp-MarkdownHeadingCollapsed": true
   },
   "source": [
    "**（1）智能体类型**\n",
    "- AgentType\n",
    "    - ZERO_SHOT_REACT_DESCRIPTION（`ReAct`的一般实现）\n",
    "    - REACT_DOCSTORE（ReAct，支持RAG）\n",
    "    - SELF_ASK_WITH_SEARCH（使用`search 工具`不断反思获得答案）\n",
    "    - CONVERSATIONAL_REACT_DESCRIPTION（`ReAct`，支持对话）\n",
    "    - CHAT_ZERO_SHOT_REACT_DESCRIPTION（同上）\n",
    "    - CHAT_CONVERSATIONAL_REACT_DESCRIPTION（同上）\n",
    "    - STRUCTURED_CHAT_ZERO_SHOT_REACT_DESCRIPTION（`ReAct`，为对话模型优化，支持多输入）\n",
    "    - OPENAI_FUNCTIONS（支持`OpenAI Function Calling`）\n",
    "    - OPENAI_MULTI_FUNCTIONS（支持`OpenAI Function Calling`，支持多函数调度）\n",
    "\n",
    "----\n",
    "**（2）智能体执行器子组件：**\n",
    "- `AgentAction`\n",
    "    - `AgentActionMessageLog`\n",
    "- `AgentStep`\n",
    "- `AgentFinish`\n",
    "\n",
    "----\n",
    "**（3）单动智能体：**\n",
    "- `BaseSingleActionAgent`\n",
    "    - RunnableAgent\n",
    "    - LLMSingleActionAgent（__deprecated__：`create_***_agent`）\n",
    "    - XMLAgent（__deprecated__：create_xml_agent）\n",
    "    - Agent\n",
    "        - ChatAgent（__deprecated__：`create_react_agent`）\n",
    "        - ConversationalAgent（__deprecated__：`create_react_agent`）\n",
    "        - ConversationalChatAgent（__deprecated__：`create_json_chat_agent`）\n",
    "        - StructuredChatAgent（__deprecated__：`create_structured_chat_agent`）\n",
    "        - ZeroShotAgent（__deprecated__：`create_react_agent`）\n",
    "        - ReActDocstoreAgent（__deprecated__）\n",
    "            - ReActTextWorldAgent（__deprecated__）\n",
    "        - SelfAskWithSearchAgent（__deprecated__：`create_self_ask_with_search`）\n",
    "    - OpenAIFunctionsAgent（__deprecated__：`create_openai_functions_agent`）\n",
    "\n",
    "----\n",
    "**（4）多动智能体：**\n",
    "- BaseMultiActionAgent\n",
    "    - RunnableMultiActionAgent\n",
    "    - OpenAIMultiFunctionsAgent（__deprecated__：`create_openai_tools_agent`）\n",
    "\n",
    "----\n",
    "**（5）Assistant：**\n",
    "- Runnable\n",
    "    - RunnableSerializable\n",
    "        - Chain\n",
    "            - `AgentExecutor`\n",
    "                - MRKLChain（__deprecated__）\n",
    "                - ReActChain（__deprecated__）\n",
    "                - SelfAskWithSearchChain（__deprecated__）\n",
    "        - `OpenAIAssistantRunnable`\n",
    "\n",
    "----\n",
    "**（6）提示语模板：**\n",
    "- Runnable\n",
    "    - RunnableSerializable\n",
    "        - BasePromptTemplate [Dict, PromptValue]\n",
    "            - BaseChatPromptTemplate\n",
    "                - ChatPromptTemplate\n",
    "                    - `AgentScratchPadChatPromptTemplate`\n",
    "\n",
    "----\n",
    "**（7）输出解析：**\n",
    "- Runnable\n",
    "    - RunnableSerializable\n",
    "        - BaseOutputParser\n",
    "            - `AgentOutputParser`\n",
    "            - `MultiActionAgentOutputParser`"
   ]
  },
  {
   "cell_type": "markdown",
   "id": "22aacd55-63f2-401c-89a8-824d21c0f42e",
   "metadata": {},
   "source": [
    "### 🌹 涉及的 LangChain 智能体\n",
    "\n",
    "- 🌹 [LangChain 中的 Agent](https://python.langchain.com/docs/modules/agents/agent_types/)\n",
    "\n",
    "|langchain智能体|支持多工具|支持多参数|推理过程优化|\n",
    "|:---|:---:|:---:|:---:|\n",
    "|create_openai_tools_agent|支持|支持|依赖大模型能力|\n",
    "|create_react_agent|不支持|不支持|可以支持|\n",
    "|自定义CoT|可以支持|可以支持|可以支持|"
   ]
  },
  {
   "cell_type": "markdown",
   "id": "acccfdef-51a0-46ec-9d06-37fd77b9aa9d",
   "metadata": {},
   "source": [
    "### 🌹 涉及的 LangChain 智能体相关源码\n",
    "\n",
    "- 🌹 [查看 langchain/agents/openai_tools/base.py 源码](https://github.com/langchain-ai/langchain/blob/239dd7c0c03d0430c55c2c41cf56cf0dd537199b/libs/langchain/langchain/agents/openai_tools/base.py#L15-L97)\n",
    "- 🌹 [查看 convert_to_openai_tool 的实现源码](https://github.com/langchain-ai/langchain/blob/c93d4ea91cfcf55dfe871931d42aa22562f8dae2/libs/core/langchain_core/utils/function_calling.py#L323-L341)\n",
    "- 🌹 [langhain官方解析openai回调参数的方法](https://github.com/langchain-ai/langchain/blob/239dd7c0c03d0430c55c2c41cf56cf0dd537199b/libs/langchain/langchain/agents/output_parsers/openai_tools.py)\n",
    "- 🌹 [查看 create_react_agent 源码](https://github.com/langchain-ai/langchain/blob/239dd7c0c03d0430c55c2c41cf56cf0dd537199b/libs/langchain/langchain/agents/react/agent.py#L16)\n",
    "- 🌹 [查看 ReAct 输出解析的源码](https://github.com/langchain-ai/langchain/blob/239dd7c0c03d0430c55c2c41cf56cf0dd537199b/libs/langchain/langchain/agents/output_parsers/react_single_input.py#L22-L95)\n",
    "- 🌹 [查看 AgentExcutor 源码](https://github.com/langchain-ai/langchain/blob/239dd7c0c03d0430c55c2c41cf56cf0dd537199b/libs/langchain/langchain/agents/agent.py#L1413-L1458)\n",
    "- 🌹 [Chain](https://python.langchain.com/docs/modules/chains)"
   ]
  },
  {
   "cell_type": "markdown",
   "id": "6142438a-78bf-4cfc-aa37-02cb219047b3",
   "metadata": {},
   "source": [
    "# （二）解读源码，拆解和自定义智能体"
   ]
  },
  {
   "cell_type": "markdown",
   "id": "2f0c9102-787d-4efe-bebb-4acaa397b46b",
   "metadata": {},
   "source": [
    "<div class=\"alert alert-info\">\n",
    "    <b>干货从这里开始！</b><br>\n",
    "    接下来的例子中，会穿插 langchian 源码解读。\n",
    "</div>"
   ]
  },
  {
   "cell_type": "code",
   "execution_count": null,
   "id": "4860d2d9-e16e-4077-8e5e-be72f92777b6",
   "metadata": {},
   "outputs": [],
   "source": [
    "# 加载 .env 到环境变量\n",
    "import os\n",
    "from dotenv import load_dotenv, find_dotenv\n",
    "load_dotenv(find_dotenv(), override=True)"
   ]
  },
  {
   "cell_type": "markdown",
   "id": "270bb25b-fbf8-468a-801e-0d38adc61349",
   "metadata": {},
   "source": [
    "## 4、解读 OpenAI 工具回调风格智能体"
   ]
  },
  {
   "cell_type": "markdown",
   "id": "3c182357-9e1e-4036-ad7c-e7159d69796b",
   "metadata": {},
   "source": [
    "### ✍️ create_openai_executor：拆解 OpenAI 工具回调智能体的定义过程"
   ]
  },
  {
   "cell_type": "markdown",
   "id": "d96fdb2b-8b94-478b-8204-b2264f23823a",
   "metadata": {},
   "source": [
    "![还是那个故事，但这次我们让老大爷聪明一点...如果可以的话。](./madongmei.gif)"
   ]
  },
  {
   "cell_type": "code",
   "execution_count": 919,
   "id": "cbde4eac-9718-4556-a79e-4d74475a6b81",
   "metadata": {},
   "outputs": [],
   "source": [
    "# from langchain_openai import ChatOpenAI\n",
    "from langchain_zhipu import ChatZhipuAI\n",
    "from langchain.agents import AgentExecutor, Tool, create_openai_tools_agent\n",
    "from langchain import hub\n",
    "from langchain.tools import tool\n",
    "from langchain_core.utils.function_calling import convert_to_openai_tool, convert_to_openai_function\n",
    "import re\n",
    "\n",
    "@tool\n",
    "def ask_neighber(query: str) -> str:\n",
    "    \"\"\"想问你找的人住哪里就问我吧，我是楼下老大爷\"\"\"\n",
    "    if(re.search(\"马冬梅\", query)):\n",
    "        return \"马冬梅住在楼上322。\"\n",
    "    else:\n",
    "        return \"我不清楚\"\n",
    "\n",
    "def create_openai_executor(llm, tools):\n",
    "    \"\"\"\n",
    "    使用openai智能体定义一个应用\n",
    "    \"\"\"\n",
    "    # 定义 prompt\n",
    "    prompt = hub.pull(\"hwchase17/openai-tools-agent\")\n",
    "    # 定义 Agent\n",
    "    agent = create_openai_tools_agent(llm, tools, prompt)\n",
    "    # 定义 AgentExecutor\n",
    "    executor = AgentExecutor(agent=agent, tools=tools, verbose=True, handle_parsing_errors=False)\n",
    "\n",
    "    return executor\n",
    "\n",
    "neighber = create_openai_executor(ChatZhipuAI(), [ask_neighber])"
   ]
  },
  {
   "cell_type": "markdown",
   "id": "70b02e0c-154a-4bfb-84cb-096f6a95d685",
   "metadata": {},
   "source": [
    "### 🌹 prompt： 观察 OpenAI 智能体的提示语"
   ]
  },
  {
   "cell_type": "markdown",
   "id": "eb242bb3-ddfd-4d41-8c83-2aa1d595d658",
   "metadata": {},
   "source": [
    "#### （1）从 Langsmith 的 hub 下载 hwchase17/openai-tools-agent"
   ]
  },
  {
   "cell_type": "markdown",
   "id": "87972ce9-815d-461a-995c-32b356c7ffef",
   "metadata": {},
   "source": [
    "[🔗 查看 hub.pull(\"hwchase17/openai-tools-agent\")](https://smith.langchain.com/hub/hwchase17/openai-tools-agent)"
   ]
  },
  {
   "cell_type": "markdown",
   "id": "a0bf6a6c-010c-4205-8c9e-47977e75e6b9",
   "metadata": {},
   "source": [
    "#### （2）等价的自定义 Prompt 模板"
   ]
  },
  {
   "cell_type": "code",
   "execution_count": 920,
   "id": "2dd9751f-85b3-4b87-bc2e-de179c591752",
   "metadata": {},
   "outputs": [],
   "source": [
    "from langchain_core.prompts import ChatPromptTemplate\n",
    "from langchain.prompts import MessagesPlaceholder\n",
    "\n",
    "# openai agent\n",
    "prompt = ChatPromptTemplate.from_messages([\n",
    "    (\"system\", \"You are a helpful assistant\"),\n",
    "    MessagesPlaceholder(\"chat_history\"),\n",
    "    (\"human\", \"{input}\"),\n",
    "    MessagesPlaceholder(\"agent_scratchpad\"),\n",
    "])"
   ]
  },
  {
   "cell_type": "code",
   "execution_count": 922,
   "id": "20ae236a-0407-4296-b473-d04dbe605e88",
   "metadata": {},
   "outputs": [
    {
     "data": {
      "text/plain": [
       "ChatPromptValue(messages=[SystemMessage(content='You are a helpful assistant'), HumanMessage(content='请问马冬梅的家在哪里？')])"
      ]
     },
     "execution_count": 922,
     "metadata": {},
     "output_type": "execute_result"
    }
   ],
   "source": [
    "prompt.invoke({\n",
    "    \"input\": \"请问马冬梅的家在哪里？\",\n",
    "    \"chat_history\": [],\n",
    "    \"agent_scratchpad\": []\n",
    "})"
   ]
  },
  {
   "cell_type": "markdown",
   "id": "bd8ac141-5874-4717-a72b-db95e66e3cc0",
   "metadata": {},
   "source": [
    "### 🌹 agent：阅读 create_openai_tools_agent 源码"
   ]
  },
  {
   "cell_type": "markdown",
   "id": "cf6096ec-803f-443b-842a-9f5d889703e8",
   "metadata": {},
   "source": [
    "[🔗 查看 langchain/agents/openai_tools/base.py 源码](https://github.com/langchain-ai/langchain/blob/239dd7c0c03d0430c55c2c41cf56cf0dd537199b/libs/langchain/langchain/agents/openai_tools/base.py#L15-L97)"
   ]
  },
  {
   "cell_type": "markdown",
   "id": "b53e5e93-8a82-48b0-ace0-1ed14ff25689",
   "metadata": {
    "jp-MarkdownHeadingCollapsed": true
   },
   "source": [
    "```python\n",
    "def create_openai_tools_agent(\n",
    "    llm: BaseLanguageModel, tools: Sequence[BaseTool], prompt: ChatPromptTemplate\n",
    ") -> Runnable:\n",
    "    \"\"\"Create an agent that uses OpenAI tools.\"\"\"\n",
    "\n",
    "    missing_vars = {\"agent_scratchpad\"}.difference(prompt.input_variables)\n",
    "    if missing_vars:\n",
    "        raise ValueError(f\"Prompt missing required variables: {missing_vars}\")\n",
    "\n",
    "    llm_with_tools = llm.bind(tools=[convert_to_openai_tool(tool) for tool in tools])\n",
    "\n",
    "    agent = (\n",
    "        RunnablePassthrough.assign(\n",
    "            agent_scratchpad=lambda x: format_to_openai_tool_messages(\n",
    "                x[\"intermediate_steps\"]\n",
    "            )\n",
    "        )\n",
    "        | prompt\n",
    "        | llm_with_tools\n",
    "        | OpenAIToolsAgentOutputParser()\n",
    "    )\n",
    "    return agent\n",
    "```"
   ]
  },
  {
   "cell_type": "markdown",
   "id": "a87c7944-801f-439c-bed7-8c5e3e8317cc",
   "metadata": {},
   "source": [
    "### 🌹 executor： 阅读 AgentExcutor 源码"
   ]
  },
  {
   "cell_type": "markdown",
   "id": "b9f3b437-22c4-44f5-956a-745946756eaa",
   "metadata": {},
   "source": [
    "<div class=\"alert alert-warning\">\n",
    "    <b>注意：</b><br>\n",
    "    LangChain中 的 Agent 与我们日常讨论的 Agent 在概念上是有区别的。\n",
    "</div>"
   ]
  },
  {
   "cell_type": "markdown",
   "id": "67a057c3-40ed-4ddc-873c-aa6b30842187",
   "metadata": {},
   "source": [
    "[🔗 查看 AgentExcutor 源码](https://github.com/langchain-ai/langchain/blob/239dd7c0c03d0430c55c2c41cf56cf0dd537199b/libs/langchain/langchain/agents/agent.py#L1413-L1458)\n",
    "\n",
    "- 重点看 `_call` 方法实现\n",
    "- 作为 Chain 子类，AgentExcutor 覆写了 stream 方法。\n",
    "- 代码中的运行逻辑非常复杂，因此我们可以通过下面的方式研究其实际运行过程\n"
   ]
  },
  {
   "cell_type": "markdown",
   "id": "4b4729ef-baa1-4741-85d8-15d8a89c4a46",
   "metadata": {},
   "source": [
    "### 🌹 run：观察 OpenAI 智能体的运行过程"
   ]
  },
  {
   "cell_type": "markdown",
   "id": "0e339f1d-3ea6-45c4-8d6a-a5ff118cebaa",
   "metadata": {},
   "source": [
    "#### （1）简单执行：invoke"
   ]
  },
  {
   "cell_type": "code",
   "execution_count": 925,
   "id": "f4722734-d500-4724-a924-38a1223fe85d",
   "metadata": {},
   "outputs": [
    {
     "name": "stdout",
     "output_type": "stream",
     "text": [
      "\n",
      "\n",
      "\u001b[1m> Entering new AgentExecutor chain...\u001b[0m\n",
      "\u001b[32;1m\u001b[1;3m\n",
      "Invoking: `ask_neighber` with `{'query': '马冬梅'}`\n",
      "\n",
      "\n",
      "\u001b[0m\u001b[36;1m\u001b[1;3m马冬梅住在楼上322。\u001b[0m\u001b[32;1m\u001b[1;3m根据楼下老大爷的说法，马冬梅住在楼上322。\u001b[0m\n",
      "\n",
      "\u001b[1m> Finished chain.\u001b[0m\n"
     ]
    },
    {
     "data": {
      "text/plain": [
       "{'input': '马冬梅住哪里', 'output': '根据楼下老大爷的说法，马冬梅住在楼上322。'}"
      ]
     },
     "execution_count": 925,
     "metadata": {},
     "output_type": "execute_result"
    }
   ],
   "source": [
    "# invoke\n",
    "neighber.invoke({\"input\":\"马冬梅住哪里\"})"
   ]
  },
  {
   "cell_type": "markdown",
   "id": "9c8a8351-d72b-4613-a820-1680b4c1e2f5",
   "metadata": {},
   "source": [
    "#### （2）流输出：stream（仅智能体中的流）"
   ]
  },
  {
   "cell_type": "code",
   "execution_count": 926,
   "id": "ae095682-60f7-46ab-9e4f-07474bc48353",
   "metadata": {},
   "outputs": [
    {
     "name": "stdout",
     "output_type": "stream",
     "text": [
      "\n",
      "\n",
      "\u001b[1m> Entering new AgentExecutor chain...\u001b[0m\n",
      "{'actions': [OpenAIToolAgentAction(tool='ask_neighber', tool_input={'query': '马冬梅住哪里'}, log=\"\\nInvoking: `ask_neighber` with `{'query': '马冬梅住哪里'}`\\n\\n\\n\", message_log=[AIMessageChunk(content='', additional_kwargs={'tool_calls': [{'index': 0, 'id': 'call_8531306914122645525', 'function': {'arguments': '{\"query\":\"马冬梅住哪里\"}', 'name': 'ask_neighber'}, 'type': 'function'}]})], tool_call_id='call_8531306914122645525')], 'messages': [AIMessageChunk(content='', additional_kwargs={'tool_calls': [{'index': 0, 'id': 'call_8531306914122645525', 'function': {'arguments': '{\"query\":\"马冬梅住哪里\"}', 'name': 'ask_neighber'}, 'type': 'function'}]})]}\n",
      "\u001b[32;1m\u001b[1;3m\n",
      "Invoking: `ask_neighber` with `{'query': '马冬梅住哪里'}`\n",
      "\n",
      "\n",
      "\u001b[0m\u001b[36;1m\u001b[1;3m马冬梅住在楼上322。\u001b[0m{'steps': [AgentStep(action=OpenAIToolAgentAction(tool='ask_neighber', tool_input={'query': '马冬梅住哪里'}, log=\"\\nInvoking: `ask_neighber` with `{'query': '马冬梅住哪里'}`\\n\\n\\n\", message_log=[AIMessageChunk(content='', additional_kwargs={'tool_calls': [{'index': 0, 'id': 'call_8531306914122645525', 'function': {'arguments': '{\"query\":\"马冬梅住哪里\"}', 'name': 'ask_neighber'}, 'type': 'function'}]})], tool_call_id='call_8531306914122645525'), observation='马冬梅住在楼上322。')], 'messages': [FunctionMessage(content='马冬梅住在楼上322。', name='ask_neighber')]}\n",
      "\u001b[32;1m\u001b[1;3m根据楼下老大爷的回答，马冬梅住在楼上322。\u001b[0m\n",
      "\n",
      "\u001b[1m> Finished chain.\u001b[0m\n",
      "{'output': '根据楼下老大爷的回答，马冬梅住在楼上322。', 'messages': [AIMessage(content='根据楼下老大爷的回答，马冬梅住在楼上322。')]}\n"
     ]
    }
   ],
   "source": [
    "# stream\n",
    "for s in neighber.stream({\"input\":\"马冬梅住哪里\"}):\n",
    "    print(s)"
   ]
  },
  {
   "cell_type": "markdown",
   "id": "67cd1500-560b-4247-88a7-4b5dd5adab6a",
   "metadata": {},
   "source": [
    "#### （3）还是要使用事件流：astream_events"
   ]
  },
  {
   "cell_type": "markdown",
   "id": "f05eb804-9355-4abe-b9b6-91101cc4ed3b",
   "metadata": {},
   "source": [
    "**看看方法 astream_events 的能力：**"
   ]
  },
  {
   "cell_type": "code",
   "execution_count": 927,
   "id": "df1aab2d-9243-4916-bc85-1d684ad99e5f",
   "metadata": {},
   "outputs": [
    {
     "name": "stdout",
     "output_type": "stream",
     "text": [
      "\n",
      "\n",
      "\u001b[1m> Entering new AgentExecutor chain...\u001b[0m\n",
      "AgentExecutor [] on_chain_start\n",
      "RunnableSequence [] on_chain_start\n",
      "RunnableAssign<agent_scratchpad> ['seq:step:1'] on_chain_start\n",
      "RunnableAssign<agent_scratchpad> ['seq:step:1'] on_chain_stream\n",
      "RunnableParallel<agent_scratchpad> [] on_chain_start\n",
      "RunnableLambda ['map:key:agent_scratchpad'] on_chain_start\n",
      "RunnableLambda ['map:key:agent_scratchpad'] on_chain_stream\n",
      "RunnableParallel<agent_scratchpad> [] on_chain_stream\n",
      "RunnableAssign<agent_scratchpad> ['seq:step:1'] on_chain_stream\n",
      "RunnableLambda ['map:key:agent_scratchpad'] on_chain_end\n",
      "RunnableParallel<agent_scratchpad> [] on_chain_end\n",
      "RunnableAssign<agent_scratchpad> ['seq:step:1'] on_chain_end\n",
      "ChatPromptTemplate ['seq:step:2'] on_prompt_start\n",
      "ChatPromptTemplate ['seq:step:2'] on_prompt_end\n",
      "ChatZhipuAI ['seq:step:3'] on_chat_model_start\n",
      "ChatZhipuAI ['seq:step:3'] on_chat_model_stream\n",
      "ChatZhipuAI ['seq:step:3'] on_chat_model_stream\n",
      "ChatZhipuAI ['seq:step:3'] on_chat_model_end\n",
      "OpenAIToolsAgentOutputParser ['seq:step:4'] on_parser_start\n",
      "OpenAIToolsAgentOutputParser ['seq:step:4'] on_parser_end\n",
      "RunnableSequence [] on_chain_stream\n",
      "RunnableSequence [] on_chain_end\n",
      "AgentExecutor [] on_chain_stream\n",
      "\u001b[32;1m\u001b[1;3m\n",
      "Invoking: `ask_neighber` with `{'query': '马冬梅住哪里'}`\n",
      "\n",
      "\n",
      "\u001b[0mask_neighber [] on_tool_start\n",
      "\u001b[36;1m\u001b[1;3m马冬梅住在楼上322。\u001b[0mask_neighber [] on_tool_end\n",
      "AgentExecutor [] on_chain_stream\n",
      "RunnableSequence [] on_chain_start\n",
      "RunnableAssign<agent_scratchpad> ['seq:step:1'] on_chain_start\n",
      "RunnableAssign<agent_scratchpad> ['seq:step:1'] on_chain_stream\n",
      "RunnableParallel<agent_scratchpad> [] on_chain_start\n",
      "RunnableLambda ['map:key:agent_scratchpad'] on_chain_start\n",
      "RunnableLambda ['map:key:agent_scratchpad'] on_chain_stream\n",
      "RunnableParallel<agent_scratchpad> [] on_chain_stream\n",
      "RunnableAssign<agent_scratchpad> ['seq:step:1'] on_chain_stream\n",
      "RunnableLambda ['map:key:agent_scratchpad'] on_chain_end\n",
      "RunnableParallel<agent_scratchpad> [] on_chain_end\n",
      "RunnableAssign<agent_scratchpad> ['seq:step:1'] on_chain_end\n",
      "ChatPromptTemplate ['seq:step:2'] on_prompt_start\n",
      "ChatPromptTemplate ['seq:step:2'] on_prompt_end\n",
      "ChatZhipuAI ['seq:step:3'] on_chat_model_start\n",
      "ChatZhipuAI ['seq:step:3'] on_chat_model_stream\n",
      "ChatZhipuAI ['seq:step:3'] on_chat_model_stream\n",
      "ChatZhipuAI ['seq:step:3'] on_chat_model_stream\n",
      "ChatZhipuAI ['seq:step:3'] on_chat_model_stream\n",
      "ChatZhipuAI ['seq:step:3'] on_chat_model_stream\n",
      "ChatZhipuAI ['seq:step:3'] on_chat_model_stream\n",
      "ChatZhipuAI ['seq:step:3'] on_chat_model_stream\n",
      "ChatZhipuAI ['seq:step:3'] on_chat_model_stream\n",
      "ChatZhipuAI ['seq:step:3'] on_chat_model_stream\n",
      "ChatZhipuAI ['seq:step:3'] on_chat_model_stream\n",
      "ChatZhipuAI ['seq:step:3'] on_chat_model_stream\n",
      "ChatZhipuAI ['seq:step:3'] on_chat_model_stream\n",
      "ChatZhipuAI ['seq:step:3'] on_chat_model_stream\n",
      "ChatZhipuAI ['seq:step:3'] on_chat_model_stream\n",
      "ChatZhipuAI ['seq:step:3'] on_chat_model_stream\n",
      "ChatZhipuAI ['seq:step:3'] on_chat_model_end\n",
      "OpenAIToolsAgentOutputParser ['seq:step:4'] on_parser_start\n",
      "OpenAIToolsAgentOutputParser ['seq:step:4'] on_parser_end\n",
      "RunnableSequence [] on_chain_stream\n",
      "RunnableSequence [] on_chain_end\n",
      "\u001b[32;1m\u001b[1;3m根据楼下老大爷的回答，马冬梅住在楼上322。\u001b[0m\n",
      "\n",
      "\u001b[1m> Finished chain.\u001b[0m\n",
      "AgentExecutor [] on_chain_stream\n",
      "AgentExecutor [] on_chain_end\n"
     ]
    }
   ],
   "source": [
    "# astream_events\n",
    "async for e in neighber.astream_events({\"input\":\"马冬梅住哪里\"}, version=\"v1\"):\n",
    "    print(e['name'], e['tags'], e['event'])"
   ]
  },
  {
   "cell_type": "markdown",
   "id": "d7c714e2-b233-447e-81ae-8c7cf82de783",
   "metadata": {},
   "source": [
    "#### （4）观察与大模型的交互过程"
   ]
  },
  {
   "cell_type": "markdown",
   "id": "67df3f9c-f5c4-482d-bbff-8101b9c2a04c",
   "metadata": {},
   "source": [
    "只读取 **on_tool_end** 和 **on_chat_model_end** 两个事件："
   ]
  },
  {
   "cell_type": "code",
   "execution_count": 928,
   "id": "21c8eb73-2cc6-412c-857f-02f7bd3ee569",
   "metadata": {},
   "outputs": [
    {
     "name": "stdout",
     "output_type": "stream",
     "text": [
      "\n",
      "\n",
      "\u001b[1m> Entering new AgentExecutor chain...\u001b[0m\n",
      "\n",
      " ---------- ChatZhipuAI -- on_chat_model_end ----------\n",
      "INPUT:\n",
      "{'messages': [[SystemMessage(content='You are a helpful assistant'), HumanMessage(content='马冬梅住哪里')]]}\n",
      "\n",
      " ---------- ChatZhipuAI -- on_chat_model_end ----------\n",
      "OUTPUT:\n",
      "{'generations': [[{'text': '', 'generation_info': {'finish_reason': 'tool_calls'}, 'type': 'ChatGenerationChunk', 'message': AIMessageChunk(content='', additional_kwargs={'tool_calls': [{'index': 0, 'id': 'call_8531294510256967191', 'function': {'arguments': '{\"query\":\"马冬梅住哪里\"}', 'name': 'ask_neighber'}, 'type': 'function'}]})}]], 'llm_output': None, 'run': None}\n",
      "\u001b[32;1m\u001b[1;3m\n",
      "Invoking: `ask_neighber` with `{'query': '马冬梅住哪里'}`\n",
      "\n",
      "\n",
      "\u001b[0m\u001b[36;1m\u001b[1;3m马冬梅住在楼上322。\u001b[0m\n",
      " ---------- ask_neighber -- on_tool_end ----------\n",
      "INPUT:\n",
      "{'query': '马冬梅住哪里'}\n",
      "\n",
      " ---------- ask_neighber -- on_tool_end ----------\n",
      "OUTPUT:\n",
      "马冬梅住在楼上322。\n",
      "\n",
      " ---------- ChatZhipuAI -- on_chat_model_end ----------\n",
      "INPUT:\n",
      "{'messages': [[SystemMessage(content='You are a helpful assistant'), HumanMessage(content='马冬梅住哪里'), AIMessageChunk(content='', additional_kwargs={'tool_calls': [{'index': 0, 'id': 'call_8531294510256967191', 'function': {'arguments': '{\"query\":\"马冬梅住哪里\"}', 'name': 'ask_neighber'}, 'type': 'function'}]}), ToolMessage(content='马冬梅住在楼上322。', additional_kwargs={'name': 'ask_neighber'}, tool_call_id='call_8531294510256967191')]]}\n",
      "\n",
      " ---------- ChatZhipuAI -- on_chat_model_end ----------\n",
      "OUTPUT:\n",
      "{'generations': [[{'text': '根据楼下老大爷的信息，马冬梅住在楼上322。', 'generation_info': {'finish_reason': 'stop'}, 'type': 'ChatGenerationChunk', 'message': AIMessageChunk(content='根据楼下老大爷的信息，马冬梅住在楼上322。')}]], 'llm_output': None, 'run': None}\n",
      "\u001b[32;1m\u001b[1;3m根据楼下老大爷的信息，马冬梅住在楼上322。\u001b[0m\n",
      "\n",
      "\u001b[1m> Finished chain.\u001b[0m\n"
     ]
    }
   ],
   "source": [
    "from langchain_zhipu import ChatZhipuAI\n",
    "neighber = create_neighber(ChatZhipuAI())\n",
    "\n",
    "async for e in neighber.astream_events({\"input\":\"马冬梅住哪里\"}, version=\"v1\"):\n",
    "    if e['event'] in [\"on_chat_model_end\", \"on_tool_end\"]:\n",
    "        if(\"input\" in e['data']):\n",
    "            print(\"\\n\", \"-\"*10, e['name'], \"-\"*2, e['event'], \"-\"*10)\n",
    "            print(\"INPUT:\")\n",
    "            print(e['data']['input'])\n",
    "        if(\"output\" in e['data']):\n",
    "            print(\"\\n\", \"-\"*10, e['name'], \"-\"*2, e['event'], \"-\"*10)\n",
    "            print(\"OUTPUT:\")\n",
    "            print(e['data']['output'])\n",
    "        # print(\"\\n\", e)"
   ]
  },
  {
   "cell_type": "markdown",
   "id": "55ad2d3a-528d-4c64-a9db-fdd5054b4a2b",
   "metadata": {},
   "source": [
    "#### （5）总结智能体的定义过程\n",
    "\n",
    "- STEP-1 请求智能体（langchain -> ZhipuAI）: 发送带有Tools的请求\n",
    "- STEP-2 智能体解析（ZhipuAI -> langchain）: 收到Tools-Calling消息\n",
    "- STEP-3 调用本地工具（langchain）: 调用工具\n",
    "- STEP-4 重新请求智能体（langchain） -> ZhipuAI）: 提交调用结果\n",
    "- STEP-5 智能体最终生成（ZhipuAI -> langchain）: 大模型重新生成结果"
   ]
  },
  {
   "cell_type": "markdown",
   "id": "6554072f-070b-49ea-a45c-ddfd38fe4810",
   "metadata": {},
   "source": [
    "### ✍️ 一步一步执行：就像我们常对大模型说的那样"
   ]
  },
  {
   "cell_type": "markdown",
   "id": "b70658fb-fad7-4814-b3df-506061a2f2d6",
   "metadata": {},
   "source": [
    "#### （1）STEP-1 请求智能体（langchain -> ZhipuAI）: 发送带有Tools的请求"
   ]
  },
  {
   "cell_type": "code",
   "execution_count": 930,
   "id": "94873b39-8c65-4588-b28e-775e601359f3",
   "metadata": {},
   "outputs": [],
   "source": [
    "from langchain_core.prompts import ChatPromptTemplate\n",
    "from langchain.prompts import MessagesPlaceholder\n",
    "\n",
    "# openai agent\n",
    "prompt = ChatPromptTemplate.from_messages([\n",
    "    (\"system\", \"You are a helpful assistant\"),\n",
    "    MessagesPlaceholder(\"chat_history\"),\n",
    "    (\"human\", \"{input}\"),\n",
    "    MessagesPlaceholder(\"agent_scratchpad\"),\n",
    "])\n",
    "\n",
    "input = \"马冬梅住在哪里？\"\n",
    "history = []\n",
    "\n",
    "llm = ChatZhipuAI(tools=[convert_to_openai_tool(ask_neighber)])\n",
    "\n",
    "agent = prompt | llm"
   ]
  },
  {
   "cell_type": "markdown",
   "id": "f25ff1dc-1436-4dd0-bc34-625247273341",
   "metadata": {},
   "source": [
    "<div class=\"alert alert-warning\">\n",
    "    <b>⚠️ 思考：</b><br>\n",
    "    <b>convert_to_openai_function</b> 和 <b>convert_to_openai_tool</b> 的区别是什么？\n",
    "</div>\n",
    "\n",
    "**🌞 参考：**\n",
    "- [🔗 查看 convert_to_openai_tool 的实现源码](https://github.com/langchain-ai/langchain/blob/c93d4ea91cfcf55dfe871931d42aa22562f8dae2/libs/core/langchain_core/utils/function_calling.py#L323-L341)\n"
   ]
  },
  {
   "cell_type": "code",
   "execution_count": null,
   "id": "48061e6c-3779-4ccb-818d-c3c6a1aaaa5e",
   "metadata": {},
   "outputs": [],
   "source": [
    "convert_to_openai_function(ask_neighber)"
   ]
  },
  {
   "cell_type": "code",
   "execution_count": null,
   "id": "97bafddf-c37d-4636-9fd9-c11335d28ab0",
   "metadata": {},
   "outputs": [],
   "source": [
    "convert_to_openai_tool(ask_neighber)"
   ]
  },
  {
   "cell_type": "markdown",
   "id": "d829924d-9a26-4af0-b38b-b099d3c16953",
   "metadata": {},
   "source": [
    "#### （2）STEP-2 智能体解析（ZhipuAI -> langchain）: 收到Tools-Calling消息"
   ]
  },
  {
   "cell_type": "code",
   "execution_count": 931,
   "id": "6eddb81f-dbb2-466e-ab39-867df638794a",
   "metadata": {},
   "outputs": [
    {
     "data": {
      "text/plain": [
       "AIMessage(content='', additional_kwargs={'tool_calls': [{'id': 'call_8531300695009939385', 'function': {'arguments': '{\"query\":\"马冬梅住在哪里？\"}', 'name': 'ask_neighber'}, 'type': 'function'}]})"
      ]
     },
     "execution_count": 931,
     "metadata": {},
     "output_type": "execute_result"
    }
   ],
   "source": [
    "steps_info = []\n",
    "resp_llm = agent.invoke({\"input\": input, \"chat_history\": history, \"agent_scratchpad\": steps_info})\n",
    "resp_llm"
   ]
  },
  {
   "cell_type": "markdown",
   "id": "f61a4a18-64d7-4110-bb97-f3c78904a53c",
   "metadata": {},
   "source": [
    "#### （3）STEP-3 调用本地工具（langchain）: 调用工具"
   ]
  },
  {
   "cell_type": "code",
   "execution_count": 933,
   "id": "f749d0a5-0937-4844-b83a-11025a44e8b1",
   "metadata": {},
   "outputs": [
    {
     "data": {
      "text/plain": [
       "'{\"query\":\"马冬梅住在哪里？\"}'"
      ]
     },
     "execution_count": 933,
     "metadata": {},
     "output_type": "execute_result"
    }
   ],
   "source": [
    "resp_llm.additional_kwargs[\"tool_calls\"][0][\"function\"][\"arguments\"]"
   ]
  },
  {
   "cell_type": "code",
   "execution_count": 934,
   "id": "4b65819c-65d1-4fc9-aadb-672f17c38dc9",
   "metadata": {},
   "outputs": [
    {
     "data": {
      "text/plain": [
       "{'query': '马冬梅住在哪里？'}"
      ]
     },
     "execution_count": 934,
     "metadata": {},
     "output_type": "execute_result"
    }
   ],
   "source": [
    "import json\n",
    "tool_args = json.loads(resp_llm.additional_kwargs[\"tool_calls\"][0][\"function\"][\"arguments\"])\n",
    "tool_args"
   ]
  },
  {
   "cell_type": "code",
   "execution_count": 936,
   "id": "67b9d2c9-53ad-44fd-9694-8fe98af6e3e5",
   "metadata": {},
   "outputs": [
    {
     "data": {
      "text/plain": [
       "'马冬梅住在楼上322。'"
      ]
     },
     "execution_count": 936,
     "metadata": {},
     "output_type": "execute_result"
    }
   ],
   "source": [
    "resp_tool = ask_neighber.invoke(tool_args)\n",
    "resp_tool"
   ]
  },
  {
   "cell_type": "markdown",
   "id": "b268d63a-fcc9-44f1-9768-6404da01bbf5",
   "metadata": {},
   "source": [
    "[🔗 查看 langhain官方解析openai回调参数的方法](https://github.com/langchain-ai/langchain/blob/239dd7c0c03d0430c55c2c41cf56cf0dd537199b/libs/langchain/langchain/agents/output_parsers/openai_tools.py)"
   ]
  },
  {
   "cell_type": "markdown",
   "id": "005d1635-a21f-4301-b6e9-8b81d216542d",
   "metadata": {},
   "source": [
    "#### （4）STEP-4 重新请求智能体（langchain） -> ZhipuAI）: 提交调用结果"
   ]
  },
  {
   "cell_type": "code",
   "execution_count": 937,
   "id": "58a38c34-6293-46a0-8387-633e712296f7",
   "metadata": {},
   "outputs": [
    {
     "data": {
      "text/plain": [
       "['马冬梅住在哪里？',\n",
       " AIMessage(content='', additional_kwargs={'tool_calls': [{'id': 'call_8531300695009939385', 'function': {'arguments': '{\"query\":\"马冬梅住在哪里？\"}', 'name': 'ask_neighber'}, 'type': 'function'}]}),\n",
       " '马冬梅住在楼上322。']"
      ]
     },
     "execution_count": 937,
     "metadata": {},
     "output_type": "execute_result"
    }
   ],
   "source": [
    "steps_info.append(input)\n",
    "steps_info.append(resp_llm)\n",
    "steps_info.append(resp_tool)\n",
    "steps_info"
   ]
  },
  {
   "cell_type": "markdown",
   "id": "2066d57b-7052-445d-97c9-c82cda7c7871",
   "metadata": {},
   "source": [
    "#### （5）STEP-5 智能体最终生成（ZhipuAI -> langchain）: 大模型重新生成结果"
   ]
  },
  {
   "cell_type": "code",
   "execution_count": 938,
   "id": "678c5175-8edf-4b88-af16-a4ebd7f8fdcb",
   "metadata": {},
   "outputs": [
    {
     "data": {
      "text/plain": [
       "AIMessage(content='根据查询结果，马冬梅住在楼上322。')"
      ]
     },
     "execution_count": 938,
     "metadata": {},
     "output_type": "execute_result"
    }
   ],
   "source": [
    "resp_llm = agent.invoke({\"input\": input, \"chat_history\": history, \"agent_scratchpad\": steps_info})\n",
    "resp_llm"
   ]
  },
  {
   "cell_type": "markdown",
   "id": "52759085-96b0-4d6b-a055-999189cc86b8",
   "metadata": {
    "jp-MarkdownHeadingCollapsed": true
   },
   "source": [
    "### 🌹 从源码中看 openai 作为先驱的影响\n",
    "\n",
    "- [partners/openai/langchain_openai/chat_models/base.py（OpenAI模型）](https://github.com/langchain-ai/langchain/blob/master/libs/partners/openai/langchain_openai/chat_models/base.py)\n",
    "- [community/langchain_community/adapters/openai.py（OpenAI风格API转换）](https://github.com/langchain-ai/langchain/blob/master/libs/community/langchain_community/adapters/openai.py)\n",
    "- [core/langchain_core/utils/function_calling.py（OpenAI风格回调工具函数）](https://github.com/langchain-ai/langchain/blob/master/libs/core/langchain_core/utils/function_calling.py)\n",
    "- [core/langchain_core/output_parsers/openai_tools.py（OpenAI风格输出解析）](https://github.com/langchain-ai/langchain/blob/master/libs/core/langchain_core/output_parsers/openai_tools.py)\n",
    "- ..."
   ]
  },
  {
   "cell_type": "markdown",
   "id": "e7e575ef-202b-42b8-9eb9-0043b7733542",
   "metadata": {},
   "source": [
    "## 5、解读 ReAct 风格智能体"
   ]
  },
  {
   "cell_type": "markdown",
   "id": "e849eb22-0009-4c7b-a0cd-bf0e184f7337",
   "metadata": {},
   "source": [
    "### 🌹 ReAct 智能体的核心是其提示语引导"
   ]
  },
  {
   "cell_type": "markdown",
   "id": "a0adfd0b-f51c-4cde-9e6c-bdb41d8e8645",
   "metadata": {},
   "source": [
    "[🔗 查看 hub.pull(\"hwchase17/react\")](https://smith.langchain.com/hub/hwchase17/react)"
   ]
  },
  {
   "cell_type": "code",
   "execution_count": 939,
   "id": "2764890b-da71-4d89-8b56-0b29b1009610",
   "metadata": {},
   "outputs": [],
   "source": [
    "from langchain_core.prompts import ChatPromptTemplate\n",
    "from langchain.prompts import MessagesPlaceholder"
   ]
  },
  {
   "cell_type": "code",
   "execution_count": 940,
   "id": "e14ca3c1-b866-4404-9d21-9ff1ec78161d",
   "metadata": {},
   "outputs": [
    {
     "name": "stdout",
     "output_type": "stream",
     "text": [
      "Answer the following questions as best you can. You have access to the following tools:\n",
      "\n",
      "{tools}\n",
      "\n",
      "Use the following format:\n",
      "\n",
      "Question: the input question you must answer\n",
      "Thought: you should always think about what to do\n",
      "Action: the action to take, should be one of [{tool_names}]\n",
      "Action Input: the input to the action\n",
      "Observation: the result of the action\n",
      "... (this Thought/Action/Action Input/Observation can repeat N times)\n",
      "Thought: I now know the final answer\n",
      "Final Answer: the final answer to the original input question\n",
      "\n",
      "Begin!\n",
      "\n",
      "Question: {input}\n",
      "Thought:{agent_scratchpad}\n"
     ]
    }
   ],
   "source": [
    "prompt = hub.pull(\"hwchase17/react\")\n",
    "print(prompt.template)"
   ]
  },
  {
   "cell_type": "markdown",
   "id": "1cf39eb9-2a2f-473c-a758-406d642a968f",
   "metadata": {},
   "source": [
    "### ✍️ create_react_executor：拆解 react 智能体的核心结构"
   ]
  },
  {
   "cell_type": "markdown",
   "id": "f1a089e4-bd6d-4081-8be5-37d37d32bca1",
   "metadata": {},
   "source": [
    "#### （1）定义 ReAct 智能体"
   ]
  },
  {
   "cell_type": "markdown",
   "id": "903bbf26-d989-42f9-9983-9e80990eb2e5",
   "metadata": {},
   "source": [
    "<div class=\"alert alert-info\">\n",
    "    <b>⚠️ 注意：</b><br>\n",
    "    ReAct 智能体提示语的核心在于：<b>请使用如下的输出格式...</b>\n",
    "</div>"
   ]
  },
  {
   "cell_type": "code",
   "execution_count": 941,
   "id": "7d0e8cfb-4ba4-46ef-a1f6-d3a3cb741099",
   "metadata": {},
   "outputs": [],
   "source": [
    "# from langchain_openai import ChatOpenAI\n",
    "from langchain_zhipu import ChatZhipuAI\n",
    "from langchain.prompts import PromptTemplate\n",
    "from langchain.agents import AgentExecutor, Tool, create_react_agent\n",
    "from langchain import hub\n",
    "from langchain.tools import tool\n",
    "import re\n",
    "\n",
    "@tool\n",
    "def ask_neighber(query: str) -> str:\n",
    "    \"\"\"我是马冬梅的邻居老大爷，关于她的事情你可以问我\"\"\"\n",
    "    if(re.search(\"马冬梅\", query)):\n",
    "        return \"楼上322\"\n",
    "    else:\n",
    "        return \"我不清楚\"\n",
    "\n",
    "prompt_react = \"\"\"\n",
    "请尽你最大努力回答用户的问题。\n",
    "\n",
    "你必须注意以下原则：\n",
    "1. 在需要使用本地文件时，请务必使用相关工具查询，而不要编造文件名。\n",
    "2. 请使用中文。\n",
    "\n",
    "你可以访问如下工具：\n",
    "{tools}\n",
    "\n",
    "请使用如下的输出格式：\n",
    "\n",
    "Question: 你必须回答的问题\n",
    "Thought: 你为了完成任务必须采取的思考过程\n",
    "Action: 又称为工具，必须是这些工具其中之一： {tool_names}\n",
    "Action Input: 调用工具所使用的参数\n",
    "Observation: 工具执行的结果\n",
    "... (这些过程 Thought/Action/Action Input/Observation 可以重复执行N次)\n",
    "Thought: 我现在知道答案了\n",
    "Final Answer: 问题的最终答案\n",
    "\n",
    "开始！\n",
    "\n",
    "Question: {input}\n",
    "Thought:{agent_scratchpad}\n",
    "\"\"\"\n",
    "\n",
    "def create_react_executor(llm, tools):\n",
    "    # 定义 prompt\n",
    "    prompt = PromptTemplate.from_template(prompt_react)\n",
    "    # 定义 Agent\n",
    "    agent = create_react_agent(llm, tools, prompt)\n",
    "    # 定义 AgentExecutor\n",
    "    executor = AgentExecutor(agent=agent, tools=tools, verbose=True, handle_parsing_errors=False)\n",
    "    \n",
    "    return executor\n",
    "\n",
    "neighber = create_react_executor(ChatZhipuAI(), [ask_neighber])"
   ]
  },
  {
   "cell_type": "markdown",
   "id": "0b3f489c-93c0-47a8-9716-7e06346ac371",
   "metadata": {},
   "source": [
    "#### （2）简单执行：invoke"
   ]
  },
  {
   "cell_type": "code",
   "execution_count": 942,
   "id": "e1964227-79f2-4ae8-8cab-dc81dc992813",
   "metadata": {},
   "outputs": [
    {
     "name": "stdout",
     "output_type": "stream",
     "text": [
      "\n",
      "\n",
      "\u001b[1m> Entering new AgentExecutor chain...\u001b[0m\n",
      "\u001b[32;1m\u001b[1;3m这个问题需要知道马冬梅的具体住址信息，我可以通过询问邻居来获取这些信息。\n",
      "\n",
      "Action: ask_neighber\n",
      "Action Input: '马冬梅住哪个房间'\n",
      "Observation\u001b[0m\u001b[36;1m\u001b[1;3m楼上322\u001b[0m\u001b[32;1m\u001b[1;3mThought: 通过邻居获得的信息，我现在知道马冬梅住的房间号了。\n",
      "\n",
      "Final Answer: 马冬梅住在楼上322房间。\u001b[0m\n",
      "\n",
      "\u001b[1m> Finished chain.\u001b[0m\n"
     ]
    },
    {
     "data": {
      "text/plain": [
       "{'input': '马冬梅住哪个房间', 'output': '马冬梅住在楼上322房间。'}"
      ]
     },
     "execution_count": 942,
     "metadata": {},
     "output_type": "execute_result"
    }
   ],
   "source": [
    "# invoke\n",
    "neighber.invoke({\"input\":\"马冬梅住哪个房间\"})"
   ]
  },
  {
   "cell_type": "markdown",
   "id": "58f09f9b-1f61-4f46-9b77-028fd38dcfd3",
   "metadata": {},
   "source": [
    "#### （3）大模型的流输出：stream VS astream_events"
   ]
  },
  {
   "cell_type": "code",
   "execution_count": 943,
   "id": "3a00dd4d-74fe-436e-b77b-7ec0902b9472",
   "metadata": {},
   "outputs": [
    {
     "name": "stdout",
     "output_type": "stream",
     "text": [
      "\n",
      "\n",
      "\u001b[1m> Entering new AgentExecutor chain...\u001b[0m\n",
      "{'actions': [AgentAction(tool='ask_neighber', tool_input=\"'马冬梅住哪个房间'\\nObservation\", log=\"我需要获取马冬梅住哪个房间的信息，这个问题明显需要询问她的邻居老大爷。\\n\\nAction: ask_neighber\\nAction Input: '马冬梅住哪个房间'\\nObservation\")], 'messages': [AIMessage(content=\"我需要获取马冬梅住哪个房间的信息，这个问题明显需要询问她的邻居老大爷。\\n\\nAction: ask_neighber\\nAction Input: '马冬梅住哪个房间'\\nObservation\")]}\n",
      "\u001b[32;1m\u001b[1;3m我需要获取马冬梅住哪个房间的信息，这个问题明显需要询问她的邻居老大爷。\n",
      "\n",
      "Action: ask_neighber\n",
      "Action Input: '马冬梅住哪个房间'\n",
      "Observation\u001b[0m\u001b[36;1m\u001b[1;3m楼上322\u001b[0m{'steps': [AgentStep(action=AgentAction(tool='ask_neighber', tool_input=\"'马冬梅住哪个房间'\\nObservation\", log=\"我需要获取马冬梅住哪个房间的信息，这个问题明显需要询问她的邻居老大爷。\\n\\nAction: ask_neighber\\nAction Input: '马冬梅住哪个房间'\\nObservation\"), observation='楼上322')], 'messages': [HumanMessage(content='楼上322')]}\n",
      "\u001b[32;1m\u001b[1;3mThought: 我已经得到了马冬梅的房间号信息，因此不需要进一步的操作。\n",
      "\n",
      "Final Answer: 马冬梅住在楼上322房间。\u001b[0m\n",
      "\n",
      "\u001b[1m> Finished chain.\u001b[0m\n",
      "{'output': '马冬梅住在楼上322房间。', 'messages': [AIMessage(content='Thought: 我已经得到了马冬梅的房间号信息，因此不需要进一步的操作。\\n\\nFinal Answer: 马冬梅住在楼上322房间。')]}\n"
     ]
    }
   ],
   "source": [
    "for chunk in neighber.stream({\"input\": \"马冬梅住哪个房间\"}):\n",
    "    print(chunk)"
   ]
  },
  {
   "cell_type": "code",
   "execution_count": null,
   "id": "39af442a-8893-4ac0-a608-6f828747744b",
   "metadata": {},
   "outputs": [],
   "source": [
    "async for event in neighber.astream_events({\"input\": \"马冬梅住哪里\"}, version=\"v1\"):\n",
    "    kind = event[\"event\"]\n",
    "    if kind in [\"on_chat_model_stream\"]:\n",
    "        print(event[\"data\"][\"chunk\"].content, end=\"_\")\n",
    "    else:\n",
    "        print(\"\\n\", \"-\"*10, \"event >> \", kind)"
   ]
  },
  {
   "cell_type": "markdown",
   "id": "1537231d-185f-4cb6-9936-2add5fc61fe2",
   "metadata": {},
   "source": [
    "### 🌹 观察 ReAct 智能体的运行过程"
   ]
  },
  {
   "cell_type": "markdown",
   "id": "4d0db4fa-f294-46bb-a745-ab40cb19eee2",
   "metadata": {},
   "source": [
    "只读取 **on_tool_end** 和 **on_chat_model_end** 两个事件："
   ]
  },
  {
   "cell_type": "code",
   "execution_count": 944,
   "id": "7ff5f9b0-7aa9-4cfe-9bc1-d0e24ad0eae8",
   "metadata": {},
   "outputs": [
    {
     "name": "stdout",
     "output_type": "stream",
     "text": [
      "\n",
      "\n",
      "\u001b[1m> Entering new AgentExecutor chain...\u001b[0m\n",
      "\n",
      " ---------- ChatZhipuAI -- on_chat_model_end ----------\n",
      "INPUT:\n",
      "\n",
      "请尽你最大努力回答用户的问题。\n",
      "\n",
      "你必须注意以下原则：\n",
      "1. 在需要使用本地文件时，请务必使用相关工具查询，而不要编造文件名。\n",
      "2. 请使用中文。\n",
      "\n",
      "你可以访问如下工具：\n",
      "ask_neighber: ask_neighber(query: str) -> str - 我是马冬梅的邻居老大爷，关于她的事情你可以问我\n",
      "\n",
      "请使用如下的输出格式：\n",
      "\n",
      "Question: 你必须回答的问题\n",
      "Thought: 你为了完成任务必须采取的思考过程\n",
      "Action: 又称为工具，必须是这些工具其中之一： ask_neighber\n",
      "Action Input: 调用工具所使用的参数\n",
      "Observation: 工具执行的结果\n",
      "... (这些过程 Thought/Action/Action Input/Observation 可以重复执行N次)\n",
      "Thought: 我现在知道答案了\n",
      "Final Answer: 问题的最终答案\n",
      "\n",
      "开始！\n",
      "\n",
      "Question: 马冬梅住哪里\n",
      "Thought:\n",
      "\n",
      "\n",
      " ---------- ChatZhipuAI -- on_chat_model_end ----------\n",
      "OUTPUT:\n",
      "我需要获取马冬梅的住址信息，这个问题明显需要使用邻居老大爷提供的工具来询问。\n",
      "\n",
      "Action: ask_neighber\n",
      "Action Input: \"马冬梅住在哪里？\"\n",
      "Observation\n",
      "\u001b[32;1m\u001b[1;3m我需要获取马冬梅的住址信息，这个问题明显需要使用邻居老大爷提供的工具来询问。\n",
      "\n",
      "Action: ask_neighber\n",
      "Action Input: \"马冬梅住在哪里？\"\n",
      "Observation\u001b[0m\u001b[36;1m\u001b[1;3m楼上322\u001b[0m\n",
      " ---------- ask_neighber -- on_tool_end ----------\n",
      "INPUT:\n",
      "马冬梅住在哪里？\"\n",
      "Observation\n",
      "\n",
      " ---------- ask_neighber -- on_tool_end ----------\n",
      "OUTPUT:\n",
      "楼上322\n",
      "\n",
      " ---------- ChatZhipuAI -- on_chat_model_end ----------\n",
      "INPUT:\n",
      "\n",
      "请尽你最大努力回答用户的问题。\n",
      "\n",
      "你必须注意以下原则：\n",
      "1. 在需要使用本地文件时，请务必使用相关工具查询，而不要编造文件名。\n",
      "2. 请使用中文。\n",
      "\n",
      "你可以访问如下工具：\n",
      "ask_neighber: ask_neighber(query: str) -> str - 我是马冬梅的邻居老大爷，关于她的事情你可以问我\n",
      "\n",
      "请使用如下的输出格式：\n",
      "\n",
      "Question: 你必须回答的问题\n",
      "Thought: 你为了完成任务必须采取的思考过程\n",
      "Action: 又称为工具，必须是这些工具其中之一： ask_neighber\n",
      "Action Input: 调用工具所使用的参数\n",
      "Observation: 工具执行的结果\n",
      "... (这些过程 Thought/Action/Action Input/Observation 可以重复执行N次)\n",
      "Thought: 我现在知道答案了\n",
      "Final Answer: 问题的最终答案\n",
      "\n",
      "开始！\n",
      "\n",
      "Question: 马冬梅住哪里\n",
      "Thought:我需要获取马冬梅的住址信息，这个问题明显需要使用邻居老大爷提供的工具来询问。\n",
      "\n",
      "Action: ask_neighber\n",
      "Action Input: \"马冬梅住在哪里？\"\n",
      "Observation\n",
      "Observation: 楼上322\n",
      "Thought: \n",
      "\n",
      "\n",
      " ---------- ChatZhipuAI -- on_chat_model_end ----------\n",
      "OUTPUT:\n",
      "Thought: 邻居老大爷告诉我马冬梅住在楼上322，这就是她的住址。\n",
      "\n",
      "Final Answer: 马冬梅住在楼上322。\n",
      "\u001b[32;1m\u001b[1;3mThought: 邻居老大爷告诉我马冬梅住在楼上322，这就是她的住址。\n",
      "\n",
      "Final Answer: 马冬梅住在楼上322。\u001b[0m\n",
      "\n",
      "\u001b[1m> Finished chain.\u001b[0m\n"
     ]
    }
   ],
   "source": [
    "from langchain_zhipu import ChatZhipuAI\n",
    "neighber = create_react_neighber(ChatZhipuAI())\n",
    "\n",
    "async for e in neighber.astream_events({\"input\":\"马冬梅住哪里\"}, version=\"v1\"):\n",
    "    print_line = lambda : print(\"\\n\", \"-\"*10, e['name'], \"-\"*2, e['event'], \"-\"*10)\n",
    "    if e['event'] in [\"on_chat_model_end\", \"on_tool_end\"]:\n",
    "        if(\"input\" in e['data']):\n",
    "            input = e['data']['input']\n",
    "            print_line()\n",
    "            print(\"INPUT:\")\n",
    "            if(input is not None and \"messages\" in input):\n",
    "                print(input[\"messages\"][0][0].content)\n",
    "            else:\n",
    "                print(input)\n",
    "        if(\"output\" in e['data']):\n",
    "            output = e['data']['output'] \n",
    "            print_line()\n",
    "            print(\"OUTPUT:\")\n",
    "            if(output is not None and \"generations\" in output):\n",
    "                print(output[\"generations\"][0][0][\"text\"])\n",
    "            else:\n",
    "                print(output)\n",
    "        # print(\"\\n\", e)"
   ]
  },
  {
   "cell_type": "markdown",
   "id": "e2a53480-aac6-41ae-922c-c11adf288042",
   "metadata": {},
   "source": [
    "### 🌹 阅读源码，解读 ReAct 智能体"
   ]
  },
  {
   "cell_type": "markdown",
   "id": "46467905-272a-43d3-add6-b5ef95c1eb32",
   "metadata": {},
   "source": [
    "- `ReAct` 比 `OpenAI智能体` 多了必要的解析过程。"
   ]
  },
  {
   "cell_type": "markdown",
   "id": "1433903a-47b9-4030-aa1e-e6aea461e21e",
   "metadata": {},
   "source": [
    "- [🔗 查看 create_react_agent 源码](https://github.com/langchain-ai/langchain/blob/239dd7c0c03d0430c55c2c41cf56cf0dd537199b/libs/langchain/langchain/agents/react/agent.py#L16)\n",
    "- [🔗 查看 ReAct 输出解析的源码](https://github.com/langchain-ai/langchain/blob/239dd7c0c03d0430c55c2c41cf56cf0dd537199b/libs/langchain/langchain/agents/output_parsers/react_single_input.py#L22-L95)\n",
    "\n",
    "<div class=\"alert alert-warning\">\n",
    "    <b>思考：上面的提示语中为什么不修改这几个关键词？</b><br>\n",
    "    <ul>\n",
    "        <li>Final Answer</li>\n",
    "        <li>Action</li>\n",
    "        <li>Action Input</li>\n",
    "        <li>Observation</li>\n",
    "    </ul>\n",
    "</div>"
   ]
  },
  {
   "cell_type": "markdown",
   "id": "e0c3591a-637d-48f0-8a7e-8baaefd9b51b",
   "metadata": {},
   "source": [
    "**重新审视 ReAct 提示语：**"
   ]
  },
  {
   "cell_type": "code",
   "execution_count": null,
   "id": "f6afed92-1443-4e8a-b0f8-624fb686efb5",
   "metadata": {},
   "outputs": [],
   "source": [
    "prompt_react = \"\"\"\n",
    "请尽你最大努力回答用户的问题。\n",
    "\n",
    "你必须注意以下原则：\n",
    "1. 在需要使用本地文件时，请务必使用相关工具查询，而不要编造文件名。\n",
    "2. 请使用中文。\n",
    "\n",
    "你可以访问如下工具：\n",
    "{tools}\n",
    "\n",
    "请使用如下的输出格式：\n",
    "\n",
    "Question: 你必须回答的问题\n",
    "Thought: 你为了完成任务必须采取的思考过程\n",
    "Action: 又称为工具，必须是这些工具其中之一： {tool_names}\n",
    "Action Input: 调用工具所使用的参数\n",
    "Observation: 工具执行的结果\n",
    "... (这些过程 Thought/Action/Action Input/Observation 可以重复执行N次)\n",
    "Thought: 我现在知道答案了\n",
    "Final Answer: 问题的最终答案\n",
    "\n",
    "开始！\n",
    "\n",
    "Question: {input}\n",
    "Thought:{agent_scratchpad}\n",
    "\"\"\""
   ]
  },
  {
   "cell_type": "markdown",
   "id": "4ac7cee4-e12e-44c4-b48b-e74df9bb0db9",
   "metadata": {},
   "source": [
    "## 6、在LCEL框架下重定义《手撕AutoGPT》中的智能体"
   ]
  },
  {
   "cell_type": "markdown",
   "id": "5fcf9882-63e3-4437-b23b-a18fb47794ca",
   "metadata": {},
   "source": [
    "### ✍️ 自定义基于思维链的提示语"
   ]
  },
  {
   "cell_type": "markdown",
   "id": "9472006b-54b5-4312-838c-b325e19754bd",
   "metadata": {},
   "source": [
    "<div class=\"alert alert-info\">\n",
    "    <b>⚠️ 注意：</b><br>\n",
    "    CoT 智能体提示语的核心在于：<b>请使用如下的输出格式...</b>\n",
    "    <br>\n",
    "    这相当于提示语模板中的：step by step ...\n",
    "</div>"
   ]
  },
  {
   "cell_type": "code",
   "execution_count": null,
   "id": "3e19e742-49ef-44a7-8e8e-04ce50204c8e",
   "metadata": {},
   "outputs": [],
   "source": [
    "PROMPT_COT = \"\"\"\n",
    "你是强大的AI助手，可以使用工具与指令自动化解决问题。\n",
    "\n",
    "你必须遵循以下约束来完成任务:\n",
    "1. 每次你的决策只使用一种工具，你可以使用任意多次。\n",
    "2. 确保你调用的指令或使用的工具在下述给定的工具列表中。\n",
    "3. 确保你的回答不会包含违法或有侵犯性的信息。\n",
    "4. 如果你已经完成所有任务，确保以\"FINISH\"指令结束。\n",
    "5. 用中文思考和输出。\n",
    "6. 如果执行某个指令或工具失败，尝试改变参数或参数格式再次调用。\n",
    "7. 你生成的回复必须遵循上文中给定的事实信息。不可以编造信息。DO NOT MAKE UP INFORMATION.\n",
    "8. 如果得到的结果不正确，尝试更换表达方式。\n",
    "9. 已经得到的信息，不要反复查询。\n",
    "10. 确保你生成的动作是可以精确执行的。动作做中可以包括具体方法和目标输出。\n",
    "11. 看到一个概念时尝试获取它的准确定义，并分析从哪些输入可以得到它的具体取值。\n",
    "12. 生成一个自然语言查询时，请在查询中包含全部的已知信息。\n",
    "13. 在执行分析或计算动作前，确保该分析或计算中涉及的所有子概念都已经得到了定义。\n",
    "14. 你不可以打印一个文件的全部内容，这样的操作代价太大，且会造成不可预期的后果，是被严格禁止的。\n",
    "15. 不要向用户提问。\n",
    "16. 在需要使用本地文件时，请务必使用相关工具查询，而不要编造文件名。\n",
    "\n",
    "你的任务是:\n",
    "{input}\n",
    "\n",
    "你有非常优秀的逻辑分析能力，可以通过因果关系找到最优的解决方案。\n",
    "\n",
    "你要参考之前的思考记录:\n",
    "{agent_scratchpad}\n",
    "\n",
    "你需要评估你的表现:\n",
    "1. 尽你最大的努力，用你最好的水平，通过分析和检查，做出最好的决定。\n",
    "2. 带着全局观，自我反思你计划与动作。\n",
    "3. 考虑你之前的策略与决策来改善的你的计划。\n",
    "4. 如果你反复得到相同的结果，修改你的计划和决策，避免死循环。\n",
    "5. 如果你当前的动作无法获取到需要的信息，尝试展开关键概念的定义，再重新推理。\n",
    "\n",
    "如果你必须选择工具才能完成任务，可以使用以下工具之一，它们又称为动作或actions:\n",
    "\n",
    "{tools}\n",
    "\n",
    "你必须根据以下格式说明，输出你的思考过程:\n",
    "1. 关键概念: 任务中涉及的组合型概念或实体。已经明确获得取值的关键概念，将其取值完整备注在概念后。\n",
    "2. 概念拆解: 将任务中的关键概念拆解为一系列待查询的子要素。每个关键概念一行，后接这个概念的子要素，每个子要素一行，行前以' -'开始。\n",
    "3. 反思:\n",
    "   - 自我反思，观察以前的执行记录，思考概念拆解是否完整、准确。\n",
    "   - 一步步思考是否每一个的关键概念或要素的查询都得到了准确的结果。\n",
    "   - 反思你已经得到哪个要素/概念。你得到的要素/概念取值是否正确。从当前的信息中还不能得到哪些要素/概念。\n",
    "   - 每个反思一行，行前以' -'开始。\n",
    "4. 思考: 观察执行记录和你的自我反思，并一步步思考\n",
    "  （1）分析要素间的依赖关系，例如：\n",
    "    i. 我是否需要先获得A的值/定义，才能通过A来获得B？\n",
    "    ii. 如果我先获得A，是否可以通过A筛选B，减少穷举每个B的代价？\n",
    "    iii. A和B是否存在在同一数据源中，我能否在获取A的同时获取B？\n",
    "    iv. 是否还有更高效或更聪明的办法来查询一个概念或要素？\n",
    "    v. 如果上一次尝试查询一个概念或要素时失败了，我是否可以尝试从另一个资源中再次查询？\n",
    "    vi. 诸如此类，你可以扩展更多的思考 ...\n",
    "  （2）根据以上分析，排列子要素间的查询优先级\n",
    "  （3）找出当前需要获得取值的子要素\n",
    "  注意，不要对要素的取值/定义做任何假设，确保你的信息来自给定的数据源！\n",
    "5. 推理: 根据你的反思与思考，一步步推理被选择的子要素取值的获取方式。如果前一次的计划失败了，请检查输入中是否包含每个概念/要素的明确定义，并尝试细化你的查询描述。\n",
    "6. 计划: 严格遵守以下规则，计划你的当前动作。\n",
    "  （1）详细列出当前动作的执行计划。只计划一步的动作。PLAN ONE STEP ONLY!\n",
    "  （2）一步步分析，包括数据源，对数据源的操作方式，对数据的分析方法。有哪些已知常量可以直接代入此次分析。\n",
    "  （3）不要尝试计算文件的每一个元素，这种计算代价太高，是严格禁止的。你可以通过分析找到更有效的方法，比如条件筛选。\n",
    "  （4）上述分析是否依赖某个要素的取值/定义，且该要素的取值/定义尚未获得。若果是，重新规划当前动作，确保所有依赖的要素的取值/定义都已经获得。\n",
    "  （5）不要对要素的取值/定义做任何假设，确保你的信息来自给定的数据源。不要编造信息。DO NOT MAKE UP ANY INFORMATION!!!\n",
    "  （6）确保你执行的动作涉及的所有要素都已获得确切的取值/定义。\n",
    "  （7）如果全部子任务已完成，请用FINISH动作结束任务。\n",
    "  （8）不要在这里使用JSON格式来描述计划的当前动作，这会与下面的输出重复，造成无法解析。\n",
    "\n",
    "你必须根据以下格式说明，输出JSON格式，描述所选择执行的动作/工具/指令:\n",
    "{action_format_instructions}\n",
    "\"\"\""
   ]
  },
  {
   "cell_type": "markdown",
   "id": "820ee5d5-0fea-4140-9e81-d3bb30ea3142",
   "metadata": {},
   "source": [
    "<div class=\"alert alert-warning\">\n",
    "    <b>💡 思考：自定义的CoT智能体，与ReAct智能体在提示语方面的本质差别是什么？</b>\n",
    "</div>"
   ]
  },
  {
   "cell_type": "markdown",
   "id": "fbd252e7-9caf-41cf-9c04-77d65677a345",
   "metadata": {},
   "source": [
    "### ✍️ 自定义 OutputParser"
   ]
  },
  {
   "cell_type": "code",
   "execution_count": 945,
   "id": "eef150fe-fbf2-4856-906b-b43f82a1aa99",
   "metadata": {},
   "outputs": [],
   "source": [
    "from typing import List, Optional, Dict, Any, Union, Callable\n",
    "from langchain_core.pydantic_v1 import BaseModel, Field\n",
    "from langchain.agents.agent import AgentOutputParser, AgentAction, AgentFinish\n",
    "from langchain.agents.format_scratchpad import format_log_to_str\n",
    "from langchain.output_parsers import PydanticOutputParser"
   ]
  },
  {
   "cell_type": "code",
   "execution_count": 947,
   "id": "125e6832-4d99-4214-bbfa-0c8bf033f8f7",
   "metadata": {},
   "outputs": [],
   "source": [
    "class Action(BaseModel):\n",
    "    name: str = Field(\n",
    "        description=\"The name of tool or action: FINISH or Other tool names.\"\n",
    "        )\n",
    "    args: Optional[Dict[str, Any]] = Field(\n",
    "        default=None,\n",
    "        description=\"Parameters of tool or action are composed of names and values.\"\n",
    "        )\n",
    "\n",
    "# 解析Action\n",
    "_action_output_parser = PydanticOutputParser(pydantic_object=Action)\n",
    "_action_parser_format = _action_output_parser.get_format_instructions()\n",
    "\n",
    "class ReasonOutputParser(AgentOutputParser):\n",
    "    \"\"\"解析单个动作的智能体action和输入参数。\n",
    "    \"\"\"\n",
    "\n",
    "    def parse(self, text: str) -> Union[AgentAction, AgentFinish]:\n",
    "        action: Action = _action_output_parser.invoke(text)\n",
    "        name: Optional[str] = action.name\n",
    "        args: Optional[Dict[str, Any]] = action.args if text is not None else \"No Args\"\n",
    "        log: str = text if text is not None else \"\"\n",
    "\n",
    "        if name == \"FINISH\":\n",
    "            return AgentFinish(args, log)\n",
    "        elif name is not None:\n",
    "            return AgentAction(name, args, log)\n",
    "\n",
    "    @property\n",
    "    def _type(self) -> str:\n",
    "        return \"Chain-of-Thought\"\n"
   ]
  },
  {
   "cell_type": "markdown",
   "id": "f5f51a7d-5b7b-4abd-b09f-6ce8521417e0",
   "metadata": {},
   "source": [
    "<div class=\"alert alert-warning\">\n",
    "    <b>💡 思考：自定义的CoT智能体，与ReAct智能体在判断推理结束方面的策略差别是什么？</b>\n",
    "</div>"
   ]
  },
  {
   "cell_type": "markdown",
   "id": "d1f3e4c4-2930-4b06-b9ac-e4a7c0359314",
   "metadata": {},
   "source": [
    "### ✍️ FINISH"
   ]
  },
  {
   "cell_type": "code",
   "execution_count": 948,
   "id": "a2ad2900-4873-4515-8d56-2086a6a9a7f8",
   "metadata": {},
   "outputs": [],
   "source": [
    "@tool\n",
    "def FINISH(output: str) -> str:\n",
    "    \"\"\"\n",
    "    用于表示任务完成的占位符工具。\n",
    "    Args:\n",
    "        output - 这是你要输出的答案。\n",
    "    \"\"\"\n",
    "    \n",
    "    return output"
   ]
  },
  {
   "cell_type": "markdown",
   "id": "7ff71d04-4457-4761-abbf-d67abdcddd48",
   "metadata": {},
   "source": [
    "### ✍️ 自定义一个智能体"
   ]
  },
  {
   "cell_type": "code",
   "execution_count": 950,
   "id": "f301bc7c-0c38-49c9-8b5a-18ac4cc992b7",
   "metadata": {},
   "outputs": [],
   "source": [
    "from langchain_core.runnables import RunnablePassthrough\n",
    "from langchain_core.pydantic_v1 import BaseModel, Field\n",
    "from langchain.agents.format_scratchpad import format_log_to_str\n",
    "from langchain.prompts import PromptTemplate\n",
    "from langchain.tools.render import render_text_description\n",
    "\n",
    "def _prompt_creator(prompt: str) -> Callable[[List[str]], str]:\n",
    "    def creator(tools: List[str]) -> str:\n",
    "        # 请注意，智谱AI等国内大模型对于pydantic的参数解析并不友好，使用JSON描述参数时会误读\n",
    "        # 因此，不要使用 render_text_description_and_args 来生成工具描述\n",
    "        tools_format = render_text_description(tools)\n",
    "\n",
    "        template = PromptTemplate.from_template(prompt)\n",
    "        return template.partial(\n",
    "            tools=tools_format,\n",
    "            action_format_instructions=_action_parser_format,\n",
    "        )\n",
    "\n",
    "    return creator\n",
    "\n",
    "# 基于 CoT 的智能体\n",
    "def create_cot_agent(llm: Any, prompt: Optional[str] = None, tools: List[str] = []) -> Any:\n",
    "    prompt_creator = _prompt_creator(PROMPT_COT)\n",
    "    if prompt is not None:\n",
    "        prompt_creator = _prompt_creator(prompt)\n",
    "\n",
    "    agent = (\n",
    "        RunnablePassthrough.assign(\n",
    "            agent_scratchpad=lambda x: format_log_to_str(x[\"intermediate_steps\"])\n",
    "        )\n",
    "        | prompt_creator(tools)\n",
    "        | llm\n",
    "        | ReasonOutputParser()\n",
    "    )\n",
    "\n",
    "    return agent"
   ]
  },
  {
   "cell_type": "markdown",
   "id": "3cc2ce2c-8174-41b6-8e4e-5381e09ad13d",
   "metadata": {},
   "source": [
    "### ✍️ create_cot_executor：尝试运行"
   ]
  },
  {
   "cell_type": "code",
   "execution_count": 951,
   "id": "f6680288-649b-4ae5-b30a-e974cde9c27c",
   "metadata": {},
   "outputs": [],
   "source": [
    "def create_cot_executor(llm, tools):\n",
    "    # 定义 Agent\n",
    "    agent = create_cot_agent(llm, tools=tools)\n",
    "    # 定义 AgentExecutor\n",
    "    executor = AgentExecutor(agent=agent, tools=tools, verbose=False, handle_parsing_errors=False)\n",
    "    \n",
    "    return executor\n",
    "\n",
    "neighber = create_cot_executor(ChatZhipuAI(), [ask_neighber, FINISH])"
   ]
  },
  {
   "cell_type": "code",
   "execution_count": 952,
   "id": "0df7abda-998c-4135-b5bf-218cff0b7849",
   "metadata": {},
   "outputs": [
    {
     "name": "stdout",
     "output_type": "stream",
     "text": [
      "```_json_\n",
      "{\n",
      " _ \"_name_\":_ \"_ask__ne_igh_ber_\",\n",
      " _ \"_args_\":_ {\n",
      "   _ \"_query_\":_ \"_马_冬_梅_家住_哪个_房间_？_\"\n",
      " _ }\n",
      "}\n",
      "``_`\n",
      "\n",
      "关键_概念_:_ 马_冬_梅_家住_房间_\n",
      "-_ 概_念_拆_解_:\n",
      " _ -_ 马_冬_梅_家_ -_ 马_冬_梅_的_住_址_信息_\n",
      " _ -_ _住_哪个_房间_ -_ 具_体的_房间_号码_或_位置_\n",
      "\n",
      "反思_:\n",
      "-_ 马_冬_梅_的_住_址_信息_需要_通过_询问_邻居_来_获得_，_这是_当前_信息_中_缺失_且_必须_的关键_信息_。\n",
      "-_ 我_尚未_获得_马_冬_梅_的_住_址_和_房间_号_。\n",
      "\n",
      "思考_:\n",
      "-_ 要_获取_马_冬_梅_的_房间_号_，_首先_需要_知道_她的_住_址_，_因此_需要_询问_邻居_。\n",
      "-_ _询问_邻居_是一个_直接_获取_该_信息_的方式_。\n",
      "\n",
      "计划_:\n",
      "-_ 我_将_使用_ask__ne_igh_ber_工具_询问_邻居_关于_马_冬_梅_的_住_址_和_房间_号_。_这是一_步_直接_获取_所需_信息的_操作_。__```_json_\n",
      "{\n",
      " _ \"_name_\":_ \"_FIN_ISH_\",\n",
      " _ \"_args_\":_ {\n",
      "   _ \"_output_\":_ \"_马_冬_梅_家住_楼上_3_22_房间_\"\n",
      " _ }\n",
      "}\n",
      "```_\n",
      "\n",
      "关键_概念_:_ 马_冬_梅_家_住房_间_（_马_冬_梅_家_ -_ 马_冬_梅_的_住_址_信息_，_住_哪个_房间_ -_ 具_体的_房间_号码_或_位置_）\n",
      "-_ 概_念_拆_解_:\n",
      " _ -_ 马_冬_梅_家_ -_ 已_从_邻居_处_获得_，_住在_楼上_\n",
      " _ -_ _住_哪个_房间_ -_ 已_从_邻居_处_获得_，_房间_号为_3_22_\n",
      "\n",
      "反思_:\n",
      "-_ 通过_询问_邻居_，_我已经_获得了_马_冬_梅_的_住_址_信息_，_知道_她_住在_楼上_3_22_房间_。\n",
      "\n",
      "思考_:\n",
      "-_ 所_需_的信息_已经_获取_，_无需_进一步的_查询_或_分析_。\n",
      "\n",
      "计划_:\n",
      "-_ 我_将_使用_FIN_ISH_工具_结束_任务_，_并_输出_我_已_知的_答案_：“_马_冬_梅_家住_楼上_3_22_房间_”。_这是一_步_结束_任务的_直接_操作_。__"
     ]
    }
   ],
   "source": [
    "async for chunk in neighber.astream_events({\"input\": \"马冬梅家住哪个房间？\"}, version=\"v1\"):\n",
    "    event = chunk['event']\n",
    "    if(event == \"on_chat_model_stream\"):\n",
    "        if('chunk' in chunk['data']):\n",
    "            print(chunk['data']['chunk'].content, end=\"_\", flush=True)"
   ]
  },
  {
   "cell_type": "markdown",
   "id": "6e3c7b21-65e0-4282-a023-3436685c7a22",
   "metadata": {},
   "source": [
    "# （三）再现《手撕AutoGPT》：langchain+智谱+智能体"
   ]
  },
  {
   "cell_type": "code",
   "execution_count": 953,
   "id": "e51601fe-ca21-4ede-826d-0a5bb32d4d28",
   "metadata": {},
   "outputs": [],
   "source": [
    "# 《手撕 AutoGPT》中的有趣小工具\n",
    "from colorama import init, Fore, Back, Style\n",
    "import sys\n",
    "\n",
    "THOUGHT_COLOR = Fore.GREEN\n",
    "OBSERVATION_COLOR = Fore.YELLOW\n",
    "ROUND_COLOR = Fore.RED\n",
    "CODE_COLOR = Fore.BLUE\n",
    "\n",
    "def color_print(text, color=None, end=\"\\n\"):\n",
    "    if color is not None:\n",
    "        content = color + text + Style.RESET_ALL + end\n",
    "    else:\n",
    "        content = text + end\n",
    "    sys.stdout.write(content)\n",
    "    sys.stdout.flush()"
   ]
  },
  {
   "cell_type": "markdown",
   "id": "3c7facba-ea0c-4f06-836e-770febfe3150",
   "metadata": {},
   "source": [
    "## 7、定义工具"
   ]
  },
  {
   "cell_type": "markdown",
   "id": "8d99833a-7cbd-4593-ae77-24247b0cd7fe",
   "metadata": {},
   "source": [
    "### ✍️ 列举文件"
   ]
  },
  {
   "cell_type": "code",
   "execution_count": 954,
   "id": "11568d64-fd50-498d-84d8-0f4dd9e05628",
   "metadata": {},
   "outputs": [],
   "source": [
    "work_dir = \"./data\""
   ]
  },
  {
   "cell_type": "code",
   "execution_count": 955,
   "id": "4a39dc24-6ef4-49bc-aa52-14011569bf48",
   "metadata": {},
   "outputs": [],
   "source": [
    "# from langchain_openai import ChatOpenAI\n",
    "from langchain.tools import tool\n",
    "import os\n",
    "import re\n",
    "import fnmatch\n",
    "\n",
    "@tool\n",
    "def list_files(args=None) -> str:\n",
    "    \"\"\"如果需要查询资料，就首先使用该工具探查本地文件夹的结构和内容，展示它的文件名和文件夹名\"\"\"\n",
    "\n",
    "    # 工作目录\n",
    "    print(\"当前目录为：\", workd_dir)\n",
    "\n",
    "    # 定义你想要过滤的模式\n",
    "    patterns = ['*.pdf', \"*.xlsx\"]\n",
    "\n",
    "    if(os.path.isdir(workd_dir)):\n",
    "        all_files = os.listdir(work_dir)\n",
    "        # 过滤出所有匹配的文件\n",
    "        matching_files = [f for f in all_files for p in patterns if fnmatch.fnmatch(f, p)]\n",
    "\n",
    "        return \"\\n\".join(matching_files)\n",
    "    else:\n",
    "        return []"
   ]
  },
  {
   "cell_type": "code",
   "execution_count": 957,
   "id": "d4097187-2538-4440-837c-665b11e7fc94",
   "metadata": {},
   "outputs": [
    {
     "name": "stdout",
     "output_type": "stream",
     "text": [
      "当前目录为： ./data\n",
      "2023年8月-9月销售记录.xlsx\n",
      "供应商名录.xlsx\n",
      "供应商资格要求.pdf\n"
     ]
    }
   ],
   "source": [
    "print(list_files.invoke({}))"
   ]
  },
  {
   "cell_type": "markdown",
   "id": "e84dc3bc-f2dd-44d7-92cd-36d175c91da3",
   "metadata": {},
   "source": [
    "### ✍️ 查询文档"
   ]
  },
  {
   "cell_type": "markdown",
   "id": "18407606-4160-4c54-8671-e4f67d452a7d",
   "metadata": {},
   "source": [
    "#### （1）准备"
   ]
  },
  {
   "cell_type": "code",
   "execution_count": 958,
   "id": "2a86ac37-0f36-4b26-a157-4ca33dbba461",
   "metadata": {},
   "outputs": [],
   "source": [
    "from typing import List\n",
    "from langchain.schema import Document\n",
    "from langchain.text_splitter import RecursiveCharacterTextSplitter\n",
    "from langchain.vectorstores import Chroma\n",
    "from langchain.document_loaders import PyPDFLoader\n",
    "from langchain_community.document_loaders import Docx2txtLoader\n",
    "from langchain_zhipu import ChatZhipuAI\n",
    "from langchain_openai import OpenAIEmbeddings\n",
    "from langchain_core.messages import BaseMessage"
   ]
  },
  {
   "cell_type": "code",
   "execution_count": 959,
   "id": "c4d20b40-25cb-4538-8ef8-129c14f7016f",
   "metadata": {},
   "outputs": [],
   "source": [
    "def get_file_extension(filename: str) -> str:\n",
    "    return filename.split(\".\")[-1]\n",
    "\n",
    "def format_docs(docs: List[str]) -> str:\n",
    "    return \"\\n\\n\".join([d.page_content for d in docs])\n",
    "\n",
    "def convert_message_to_str(message: Union[BaseMessage, str]) -> str:\n",
    "    if isinstance(message, BaseMessage):\n",
    "        return message.content\n",
    "    else:\n",
    "        return message"
   ]
  },
  {
   "cell_type": "code",
   "execution_count": 960,
   "id": "69cdb4f0-bf07-448e-83fb-2c2488573dd3",
   "metadata": {},
   "outputs": [],
   "source": [
    "class FileLoadFactory:\n",
    "    @staticmethod\n",
    "    def get_loader(filename: str):\n",
    "        filename = filename.strip()\n",
    "        ext = get_file_extension(filename)\n",
    "        if ext == \"pdf\":\n",
    "            return PyPDFLoader(filename)\n",
    "        elif ext == \"docx\" or ext == \"doc\":\n",
    "            return Docx2txtLoader(filename)\n",
    "        else:\n",
    "            raise NotImplementedError(f\"File extension {ext} not supported.\")"
   ]
  },
  {
   "cell_type": "code",
   "execution_count": 961,
   "id": "c14e4c9e-5d55-455b-b788-c6a83dddadd3",
   "metadata": {},
   "outputs": [],
   "source": [
    "def load_docs(filename: str) -> List[Document]:\n",
    "    file_loader = FileLoadFactory.get_loader(filename)\n",
    "    return file_loader.load_and_split()"
   ]
  },
  {
   "cell_type": "markdown",
   "id": "69b6e6a7-c326-4b87-8173-d720b4de0c3e",
   "metadata": {},
   "source": [
    "#### （2）使用 RAG 查询文档"
   ]
  },
  {
   "cell_type": "code",
   "execution_count": 962,
   "id": "b0fcda75-1a11-49d1-85df-6716984e06ef",
   "metadata": {},
   "outputs": [],
   "source": [
    "@tool\n",
    "def ask_document(\n",
    "        filename: str,\n",
    "        query: str,\n",
    ") -> str:\n",
    "    \"\"\"\n",
    "    查询Word或PDF文档中的文本内容，以便回答问题。\n",
    "    考虑上下文信息，确保问题对相关概念的定义表述完整。\n",
    "    \"\"\"\n",
    "\n",
    "    path = os.path.join(work_dir, filename)\n",
    "    if(not os.path.exists(path)):\n",
    "        return f\"给定的文件路径不存在，请从工作目录{work_dir}中列举文件，确认其存在\"\n",
    "\n",
    "    chunks = load_docs(path)\n",
    "    # print(chunks)\n",
    "    if chunks is None or len(chunks) == 0:\n",
    "        return \"无法读取文档内容\"\n",
    "\n",
    "    db = Chroma.from_documents(chunks, OpenAIEmbeddings())\n",
    "\n",
    "    DEFAULT_QA_CHAIN_PROMPT = \"\"\"\n",
    "        你要严格依据如下资料回答问题，你的回答不能与其冲突，更不要编造。\n",
    "        请始终使用中文回答。\n",
    "        \n",
    "        {context}\n",
    "        \n",
    "        问题: {question}\n",
    "        \"\"\"\n",
    "    prompt = ChatPromptTemplate.from_template(DEFAULT_QA_CHAIN_PROMPT)\n",
    "\n",
    "    qa_chain = (\n",
    "        {\n",
    "            \"context\": (lambda x: convert_message_to_str(x)) | db.as_retriever() | format_docs,\n",
    "            \"question\": lambda x: convert_message_to_str(x)\n",
    "        }\n",
    "        | prompt\n",
    "        | ChatZhipuAI()\n",
    "    )\n",
    "\n",
    "    # response = qa_chain.invoke(query)\n",
    "    final_output = \"\"\n",
    "    for chunk in qa_chain.stream(query):\n",
    "        print(chunk.content, end=\"|\")\n",
    "        final_output += chunk.content\n",
    "        \n",
    "    return final_output"
   ]
  },
  {
   "cell_type": "markdown",
   "id": "95bd9016-6f44-4caf-b79e-58e24926c8ff",
   "metadata": {},
   "source": [
    "<div class=\"alert alert-warning\">\n",
    "    <b>思考：BaseTool 的定义中没有流方法，所以工具定义中也没有流输出支持</b><br>\n",
    "    这将导致智能体在调用时，实际上无法获得流式输出（尽管可以在后台调试时打印，但不方便传递）。<br>\n",
    "    这是为什么呢？？\n",
    "</div>"
   ]
  },
  {
   "cell_type": "code",
   "execution_count": 963,
   "id": "5c935f82-3396-4008-828e-3f0f03bd43c1",
   "metadata": {},
   "outputs": [
    {
     "name": "stdout",
     "output_type": "stream",
     "text": [
      "供应商|达标|标准|如下|：\n",
      "\n",
      "1|.| **|基本|资质|要求|**|：\n",
      "  | -| 必|须|具备|合法|有效的|营业执照|。\n",
      "  | -| 必|须|具备|税务|登记|证|，|并|符合|国家|税收|法律法规|。\n",
      "  | -| 应|拥有|有效的|组织|机构|代码|证|。\n",
      "\n",
      "2|.| **|经营|和|财务|能力|**|：\n",
      "  | -| 与|公司|合作的|月份|，|销售|的产品|月|总价|不得|低于|人民币|3|万元|。\n",
      "  | -| 应|具备|健全|和|稳定的|财务|状况|，|以及|良好的|信用|记录|。\n",
      "  | -| 应|具备|足够的|流动|资金|来|支持|合同|执行|。\n",
      "\n",
      "3|.| **|产品|和服务|质量|**|：\n",
      "  | -| 提|供|的产品|必须|符合|国家|及|行业标准|，|并通过|相关|质量|认证|。\n",
      "  | -| 应|具备|高标准|的服务|体系|，|并|承诺|在|合作|期间|提供|持续|、|稳定|、|优质|的服务|。\n",
      "\n",
      "4|.| **|行业|经验和|声誉|**|：\n",
      "  | -| 应|具有|至少|五|年的|相关|行业|经验|。\n",
      "  | -| 应|有|良好的|业务|声誉|和|客户|满意度|记录|。\n",
      "\n",
      "5|.| **|社会责任|和|可持续|性|**|：|虽然|具体|要求|未|在|提供|的信息|中|详|述|，|但|可以|理解为|供应商|应当|符合|社会责任|和|可持续|发展的|相关|要求|。\n",
      "\n",
      "只有|满足|上述|所有|条件的|供应商|，|方可|参与|投标|。|这些|标准|旨在|确保|供应商|具备|良好的|经营|能力|、|稳定的|财务|状况|、|高质量|的产品|和服务|，|以及在|行业|中有|良好的|经验和|声誉|。||"
     ]
    },
    {
     "data": {
      "text/plain": [
       "'供应商达标标准如下：\\n\\n1. **基本资质要求**：\\n   - 必须具备合法有效的营业执照。\\n   - 必须具备税务登记证，并符合国家税收法律法规。\\n   - 应拥有有效的组织机构代码证。\\n\\n2. **经营和财务能力**：\\n   - 与公司合作的月份，销售的产品月总价不得低于人民币3万元。\\n   - 应具备健全和稳定的财务状况，以及良好的信用记录。\\n   - 应具备足够的流动资金来支持合同执行。\\n\\n3. **产品和服务质量**：\\n   - 提供的产品必须符合国家及行业标准，并通过相关质量认证。\\n   - 应具备高标准的服务体系，并承诺在合作期间提供持续、稳定、优质的服务。\\n\\n4. **行业经验和声誉**：\\n   - 应具有至少五年的相关行业经验。\\n   - 应有良好的业务声誉和客户满意度记录。\\n\\n5. **社会责任和可持续性**：虽然具体要求未在提供的信息中详述，但可以理解为供应商应当符合社会责任和可持续发展的相关要求。\\n\\n只有满足上述所有条件的供应商，方可参与投标。这些标准旨在确保供应商具备良好的经营能力、稳定的财务状况、高质量的产品和服务，以及在行业中有良好的经验和声誉。'"
      ]
     },
     "execution_count": 963,
     "metadata": {},
     "output_type": "execute_result"
    }
   ],
   "source": [
    "ask_document.invoke({\"filename\": \"供应商资格要求.pdf\", \"query\": \"供应商达标标准\"})"
   ]
  },
  {
   "cell_type": "markdown",
   "id": "24988a01-b887-41ab-9f6f-769fa42a533c",
   "metadata": {},
   "source": [
    "### ✍️ Excel 结构探查"
   ]
  },
  {
   "cell_type": "code",
   "execution_count": 964,
   "id": "42346d58-b95e-466e-87e0-05c005600ca1",
   "metadata": {},
   "outputs": [],
   "source": [
    "import pandas as pd"
   ]
  },
  {
   "cell_type": "code",
   "execution_count": 965,
   "id": "0c5ffc59-fbe1-4968-bc56-38dbee922091",
   "metadata": {},
   "outputs": [],
   "source": [
    "def get_sheet_names(\n",
    "        filename : str\n",
    ") -> str :\n",
    "    \"\"\"获取 Excel 文件的工作表名称\"\"\"\n",
    "    path = filename\n",
    "    if(not os.path.exists(path)):\n",
    "        return f\"给定的文件路径不存在，请从工作目录{work_dir}中列举文件，确认其存在\"\n",
    "        \n",
    "    excel_file = pd.ExcelFile(path.strip())\n",
    "    sheet_names = excel_file.sheet_names\n",
    "    return f\"这是 '{path}' 文件的工作表名称：\\n\\n{sheet_names}\""
   ]
  },
  {
   "cell_type": "code",
   "execution_count": 966,
   "id": "63612915-fbfb-46d3-b2e4-93e4371af8be",
   "metadata": {},
   "outputs": [],
   "source": [
    "def get_column_names(\n",
    "        filename : str\n",
    ") -> str:\n",
    "    \"\"\"获取 Excel 文件的列名\"\"\"\n",
    "\n",
    "    # 读取 Excel 文件的第一个工作表\n",
    "    path = filename\n",
    "    if(not os.path.exists(path)):\n",
    "        return f\"给定的文件路径不存在，请从工作目录{work_dir}中列举文件，确认其存在\"\n",
    "        \n",
    "    df = pd.read_excel(path.strip(), sheet_name=0)  # sheet_name=0 表示第一个工作表\n",
    "    column_names = '\\n'.join(\n",
    "        df.columns.to_list()\n",
    "    )\n",
    "\n",
    "    result = f\"这是 '{path.strip()}' 文件第一个工作表的列名：\\n\\n{column_names}\"\n",
    "    return result"
   ]
  },
  {
   "cell_type": "code",
   "execution_count": 967,
   "id": "987ceb8c-d051-4914-93c7-f1e5cbda0443",
   "metadata": {},
   "outputs": [],
   "source": [
    "def get_first_n_rows(\n",
    "        filename : str,\n",
    "        n : int = 3\n",
    ") -> str :\n",
    "    path = os.path.join(work_dir, filename)\n",
    "    path = path.strip()\n",
    "    if(not os.path.exists(path)):\n",
    "        return f\"给定的文件路径不存在，请从工作目录{work_dir}中列举文件，确认其存在\"\n",
    "\n",
    "    result = get_sheet_names(path)+\"\\n\\n\"\n",
    "    result += get_column_names(path)+\"\\n\\n\"\n",
    "\n",
    "    # 读取 Excel 文件的第一个工作表\n",
    "    df = pd.read_excel(path, sheet_name=0)  # sheet_name=0 表示第一个工作表\n",
    "    n_lines = '\\n'.join(\n",
    "        df.head(n).to_string(index=False, header=True).split('\\n')\n",
    "    )\n",
    "\n",
    "    result += f\"这是 '{path}' 文件第一个工作表的前{n}行样例：\\n\\n{n_lines}\"\n",
    "    return result\n",
    "\n",
    "@tool\n",
    "def inspect_excel(\n",
    "        filename : str,\n",
    "        n : int = 3\n",
    ") -> str :\n",
    "    \"\"\"\n",
    "    探查Excel数据文件的内容和结构，展示它的列名和前n行，n默认为3。\n",
    "    注意，该工具仅使用于探查Excel文件，不能探查PDF或Word文件。\n",
    "    \n",
    "    使用该函数时应当准备提供filename和n两个参数，其中：\n",
    "    \n",
    "    - filename：要探查的Excel文件名\n",
    "    - n: 默认的行数\n",
    "    \n",
    "    \"\"\"\n",
    "    return get_first_n_rows(filename, n)"
   ]
  },
  {
   "cell_type": "code",
   "execution_count": 969,
   "id": "809ae148-d138-4f2b-8b9e-c397689602f6",
   "metadata": {},
   "outputs": [
    {
     "name": "stdout",
     "output_type": "stream",
     "text": [
      "这是 './data/2023年8月-9月销售记录.xlsx' 文件的工作表名称：\n",
      "\n",
      "['2023年8月-9月销售记录']\n",
      "\n",
      "这是 './data/2023年8月-9月销售记录.xlsx' 文件第一个工作表的列名：\n",
      "\n",
      "品类\n",
      "产品名\n",
      "单价(元)\n",
      "销售量\n",
      "销售日期\n",
      "供应商\n",
      "\n",
      "这是 './data/2023年8月-9月销售记录.xlsx' 文件第一个工作表的前3行样例：\n",
      "\n",
      "   品类                产品名  单价(元)  销售量       销售日期        供应商\n",
      "   手机       Xiaomi Mi 11   4999   20 2023-08-02   北京科技有限公司\n",
      "   耳机    Sony WH-1000XM4   2999   15 2023-08-03   上海音响有限公司\n",
      "笔记本电脑 Lenovo ThinkPad X1   8999   10 2023-08-05 深圳创新科技有限公司\n"
     ]
    }
   ],
   "source": [
    "##\n",
    "print(inspect_excel.invoke({\"filename\": \"2023年8月-9月销售记录.xlsx\"}))"
   ]
  },
  {
   "cell_type": "markdown",
   "id": "87ce36f4-4637-4f30-8bf9-f08ff0c78f16",
   "metadata": {},
   "source": [
    "### ✍️ Excel 数据分析"
   ]
  },
  {
   "cell_type": "markdown",
   "id": "74b83941-34f3-446f-8213-a922ba37444d",
   "metadata": {},
   "source": [
    "#### （1）准备"
   ]
  },
  {
   "cell_type": "code",
   "execution_count": 970,
   "id": "4e904aab-0239-4bad-9ac2-913b285d4f80",
   "metadata": {},
   "outputs": [],
   "source": [
    "import re\n",
    "from langchain.tools import StructuredTool\n",
    "from langchain_core.output_parsers import BaseOutputParser\n",
    "\n",
    "# from Utils.PythonExecUtil import execute_python_code\n",
    "from langchain_openai import ChatOpenAI\n",
    "from langchain_experimental.utilities import PythonREPL"
   ]
  },
  {
   "cell_type": "markdown",
   "id": "2f6e6e9d-8278-47e9-94db-a5da3e94ca3a",
   "metadata": {},
   "source": [
    "#### （2）自定义一个OutputParse"
   ]
  },
  {
   "cell_type": "code",
   "execution_count": 971,
   "id": "5786995e-9011-4e46-a826-dec2543a746b",
   "metadata": {},
   "outputs": [],
   "source": [
    "class PythonCodeParser(BaseOutputParser):\n",
    "    \"\"\"从大模型返回的文本中提取Python代码。\"\"\"\n",
    "\n",
    "    def _remove_marked_lines(self, input_str: str) -> str:\n",
    "        lines = input_str.strip().split('\\n')\n",
    "        if lines and lines[0].strip().startswith('```'):\n",
    "            del lines[0]\n",
    "        if lines and lines[-1].strip().startswith('```'):\n",
    "            del lines[-1]\n",
    "\n",
    "        ans = '\\n'.join(lines)\n",
    "        return ans\n",
    "\n",
    "    def parse(self, text: str) -> str:\n",
    "        # 使用正则表达式找到所有的Python代码块\n",
    "        python_code_blocks = re.findall(r'```python\\n(.*?)\\n```', text, re.DOTALL)\n",
    "        # 从re返回结果提取出Python代码文本\n",
    "        python_code = None\n",
    "        if len(python_code_blocks) > 0:\n",
    "            python_code = python_code_blocks[0]\n",
    "            python_code = self._remove_marked_lines(python_code)\n",
    "        return python_code"
   ]
  },
  {
   "cell_type": "markdown",
   "id": "5e9b77b4-5c15-42e8-84f1-f85cf142a181",
   "metadata": {},
   "source": [
    "#### （3）定义提示语模板"
   ]
  },
  {
   "cell_type": "code",
   "execution_count": 972,
   "id": "691458c9-ac30-4d79-9a16-e47c8a0f86f6",
   "metadata": {},
   "outputs": [],
   "source": [
    "from langchain.prompts import PromptTemplate\n",
    "\n",
    "excel_analyser_prompt = PromptTemplate.from_template(\"\"\"\n",
    "你的任务是先分析，再生成代码。\n",
    "\n",
    "请根据用户的输入，一步步分析：\n",
    "（1）用户的输入是否依赖某个条件，而这个条件没有明确赋值？\n",
    "（2）我是否需要对某个变量的值做假设？\n",
    "（3）已经从用户的输入中拆解概念，将其中包含的数字或实体名称，映射为所生成的函数入参，并在代码中使用？\n",
    "（4）不能生成用户输入中没有包含的函数入参，将导致严重后果，这一点是否已经确认？\n",
    "\n",
    "如果我需要对某个变量的值做假设，请直接输出：\n",
    "```python\n",
    "print(\"我需要知道____的值，才能生成代码。请完善你的查询。\") # 请将____替换为需要假设的的条件\n",
    "```\n",
    "否则，创建Python代码，分析指定文件的内容。\n",
    "\n",
    "MUST 请不要使用filename作为入参变量，直接写死在代码里即可。\n",
    "\n",
    "MUST 你生成代码中所有的常量都必须来自我给你的信息或来自文件本身。不要编造任何常量。\n",
    "如果常量缺失，你的代码将无法运行。你可以拒绝生成代码，但是不要生成编造的代码。\n",
    "确保你生成的代码最终以print的方式输出结果(回答用户的问题)。\n",
    "\n",
    "MUST 你可以使用的库只包括：pandas, re, math, datetime, openpyxl\n",
    "确保你的代码只使用上述库，否则你的代码将无法运行。\n",
    "\n",
    "MUST 确保你的代码可以通过运行的。\n",
    "\n",
    "给定文件为：\n",
    "{filename}\n",
    "\n",
    "文件内容样例：\n",
    "{inspections}\n",
    "\n",
    "你输出的Python代码前后必须有markdown标识符，如下所示：\n",
    "```python\n",
    "# example code\n",
    "```\n",
    "\n",
    "用户输入：\n",
    "{query}\n",
    "\"\"\")"
   ]
  },
  {
   "cell_type": "markdown",
   "id": "a487a8fc-1531-401a-9b50-444029c6a0d7",
   "metadata": {},
   "source": [
    "#### （4）定义执行链"
   ]
  },
  {
   "cell_type": "code",
   "execution_count": 973,
   "id": "938d8e60-ea81-4595-aadf-3021b0d6bdc0",
   "metadata": {},
   "outputs": [],
   "source": [
    "llm = ChatZhipuAI()\n",
    "analysis_chain = excel_analyser_prompt | llm | PythonCodeParser()"
   ]
  },
  {
   "cell_type": "markdown",
   "id": "d4413d08-258d-4203-a670-79b6dec4744a",
   "metadata": {},
   "source": [
    "#### （5）生成 python 代码并执行"
   ]
  },
  {
   "cell_type": "code",
   "execution_count": 974,
   "id": "08749f35-6a4d-414c-ae79-28b74d73cee1",
   "metadata": {},
   "outputs": [],
   "source": [
    "import ast\n",
    "import types\n",
    "from langchain_core.utils.function_calling import convert_to_openai_tool\n",
    "from langchain_experimental.utilities import PythonREPL\n",
    "\n",
    "@tool\n",
    "def excel_analyse(query: str, filename: str):\n",
    "    \"\"\"如果给定一个Excel文件，就可以根据该工具分析其内容。\"\"\"\n",
    "\n",
    "    path = os.path.join(work_dir, filename)\n",
    "    path = path.strip()\n",
    "    if(not os.path.exists(path)):\n",
    "        return f\"给定的文件路径不存在，请从工作目录{work_dir}中列举文件，确认其存在\"\n",
    "\n",
    "    # columns = get_column_names(filename)\n",
    "    inspections = get_first_n_rows(filename)\n",
    "\n",
    "    # 打印详细信息\n",
    "    color_print(\"\\n#!/usr/bin/env python\", CODE_COLOR, end=\"\\n\")\n",
    "\n",
    "    # 生成代码\n",
    "    code = \"\"\n",
    "    for c in analysis_chain.stream({\n",
    "        \"query\": query,\n",
    "        \"filename\": path,\n",
    "        \"inspections\": inspections\n",
    "    }):\n",
    "        ## 打印详细信息\n",
    "        color_print(c, CODE_COLOR, end=\"\")\n",
    "        ## 收集代码成果\n",
    "        code += c\n",
    "\n",
    "    if code:        \n",
    "        # 执行代码\n",
    "        return PythonREPL().run(code)\n",
    "    else:\n",
    "        return \"没有找到可执行的Python代码\""
   ]
  },
  {
   "cell_type": "code",
   "execution_count": 975,
   "id": "914d2a31-20fc-4e4a-9894-01cc502d404a",
   "metadata": {},
   "outputs": [
    {
     "name": "stdout",
     "output_type": "stream",
     "text": [
      "\u001b[34m\n",
      "#!/usr/bin/env python\u001b[0m\n",
      "\u001b[34m# 导入所需的库\n",
      "import pandas as pd\n",
      "\n",
      "# 读取文件\n",
      "file_path = './data/2023年8月-9月销售记录.xlsx'\n",
      "sheet_name = '2023年8月-9月销售记录'\n",
      "\n",
      "# 读取Excel文件\n",
      "df = pd.read_excel(file_path, sheet_name=sheet_name)\n",
      "\n",
      "# 计算销售总额\n",
      "total_sales = (df['单价(元)'] * df['销售量']).sum()\n",
      "\n",
      "# 输出结果\n",
      "print(f\"销售总额是：{total_sales}元\")\u001b[0m"
     ]
    },
    {
     "data": {
      "text/plain": [
       "'销售总额是：5456735元\\n'"
      ]
     },
     "execution_count": 975,
     "metadata": {},
     "output_type": "execute_result"
    }
   ],
   "source": [
    "##\n",
    "excel_analyse.invoke({\n",
    "    \"query\": \"销售总额是多少?\",\n",
    "    \"filename\": \"2023年8月-9月销售记录.xlsx\"\n",
    "})"
   ]
  },
  {
   "cell_type": "markdown",
   "id": "a38e77ba-68bc-491d-98db-23bce5c2aa39",
   "metadata": {},
   "source": [
    "## 8、对比这几个 🦜🔗LangChain 智能体"
   ]
  },
  {
   "cell_type": "markdown",
   "id": "f61f70d3-1a21-4c04-9cc0-9a88292172bd",
   "metadata": {},
   "source": [
    "|langchain智能体|支持多工具|支持多参数|推理过程优化|\n",
    "|:---|:---:|:---:|:---:|\n",
    "|create_openai_tools_agent|支持|支持|依赖大模型能力|\n",
    "|create_react_agent|不支持|不支持|可以支持|\n",
    "|自定义CoT|可以支持|可以支持|可以支持|"
   ]
  },
  {
   "cell_type": "markdown",
   "id": "6fdc647c-00c2-4fa0-8413-4ab466e7d1b1",
   "metadata": {},
   "source": [
    "### ✍️ GLM4 + create_openai_executor\n",
    "\n",
    "openai风格的工具回调智能体：由大模型负责推理，决定何时以及如何使用工具。"
   ]
  },
  {
   "cell_type": "code",
   "execution_count": 976,
   "id": "48781f8c-b4cc-461c-830e-696d185307bb",
   "metadata": {},
   "outputs": [],
   "source": [
    "glm_openai = create_openai_executor(\n",
    "    ChatZhipuAI(model=\"glm-4\"),\n",
    "    [\n",
    "        # 列举本地文档\n",
    "        list_files,\n",
    "        # RAG 查询文档\n",
    "        ask_document,\n",
    "        # 探查 Excel 文件\n",
    "        inspect_excel,\n",
    "        # Excel 数据分析\n",
    "        excel_analyse,\n",
    "    ]\n",
    ")"
   ]
  },
  {
   "cell_type": "code",
   "execution_count": 977,
   "id": "edc0e219-9a10-4339-acab-4fc261e222ae",
   "metadata": {},
   "outputs": [
    {
     "name": "stdout",
     "output_type": "stream",
     "text": [
      "\n",
      "\n",
      "\u001b[1m> Entering new AgentExecutor chain...\u001b[0m\n",
      "\u001b[32;1m\u001b[1;3m\n",
      "Invoking: `excel_analyse` with `{'filename': '供应商管理.xlsx', 'query': '供应商达标的业绩要求是什么？'}`\n",
      "responded: 这个问题涉及到具体的企业管理和供应商管理的知识，我需要使用搜索引擎来获取相关信息。<|assistant|>\n",
      "\n",
      "\u001b[0m\u001b[36;1m\u001b[1;3m给定的文件路径不存在，请从工作目录./data中列举文件，确认其存在\u001b[0m\u001b[32;1m\u001b[1;3m\n",
      "Invoking: `list_files` with `{}`\n",
      "\n",
      "\n",
      "\u001b[0m当前目录为： ./data\n",
      "\u001b[36;1m\u001b[1;3m2023年8月-9月销售记录.xlsx\n",
      "供应商名录.xlsx\n",
      "供应商资格要求.pdf\u001b[0m\u001b[32;1m\u001b[1;3m\n",
      "Invoking: `ask_document` with `{'filename': '供应商资格要求.pdf', 'query': '供应商达标的业绩要求是什么？'}`\n",
      "\n",
      "\n",
      "\u001b[0m供应商|达|标的|业绩|要求|主要包括|：\n",
      "\n",
      "1|.| 月|销售额|：|与我|方|合作的|月份|，|经|我|方|销售|的产品|月|总价|不得|低于|人民币|3|万元|。\n",
      "2|.| 稳|定的|财务|状况|：|供应商|应|具备|健全|和|稳定的|财务|状况|，|以及|良好的|信用|记录|。\n",
      "3|.| 行|业|经验|：|供应商|应|具有|至少|五|年的|相关|行业|经验|。\n",
      "4|.| 业务|声誉|：|供应商|应有|良好的|业务|声誉|和|客户|满意度|记录|。\n",
      "\n",
      "以上|这些|要求|都是|供应商|在|业绩|方面|需要|达到|的标准|。||\u001b[33;1m\u001b[1;3m供应商达标的业绩要求主要包括：\n",
      "\n",
      "1. 月销售额：与我方合作的月份，经我方销售的产品月总价不得低于人民币3万元。\n",
      "2. 稳定的财务状况：供应商应具备健全和稳定的财务状况，以及良好的信用记录。\n",
      "3. 行业经验：供应商应具有至少五年的相关行业经验。\n",
      "4. 业务声誉：供应商应有良好的业务声誉和客户满意度记录。\n",
      "\n",
      "以上这些要求都是供应商在业绩方面需要达到的标准。\u001b[0m\u001b[32;1m\u001b[1;3m供应商达标的业绩要求主要包括月销售额、稳定的财务状况、行业经验以及业务声誉。具体来说，供应商需要满足与我方合作的月份，经我方销售的产品月总价不得低于人民币3万元的要求，同时应具备健全和稳定的财务状况，以及良好的信用记录。此外，供应商应具有至少五年的相关行业经验，并且需要有良好的业务声誉和客户满意度记录。\u001b[0m\n",
      "\n",
      "\u001b[1m> Finished chain.\u001b[0m\n"
     ]
    }
   ],
   "source": [
    "async for chunk in glm_openai.astream_events({\"input\": \"供应商达标的业绩要求是什么？\"}, version=\"v1\"):\n",
    "    if e['event'] in [\"on_chat_model_end\", \"on_tool_end\"]:\n",
    "        if(\"input\" in e['data']):\n",
    "            print(\"\\n\", \"-\"*10, e['name'], \"-\"*2, e['event'], \"-\"*10)\n",
    "            print(\"INPUT:\")\n",
    "            print(e['data']['input'])\n",
    "        if(\"output\" in e['data']):\n",
    "            print(\"\\n\", \"-\"*10, e['name'], \"-\"*2, e['event'], \"-\"*10)\n",
    "            print(\"OUTPUT:\")\n",
    "            print(e['data']['output'])"
   ]
  },
  {
   "cell_type": "markdown",
   "id": "79c2f71f-8bdd-4c83-a7b0-380a2daa8a10",
   "metadata": {},
   "source": [
    "### ✍️ GLM4 + create_react_agent\n",
    "\n",
    "ReAct智能体：由提示语影响大模型推理，通过规则制定、例子、小样本等**提示工程**影响推理过程。"
   ]
  },
  {
   "cell_type": "markdown",
   "id": "01d8f0eb-36d7-443d-8793-193fea61a927",
   "metadata": {},
   "source": [
    "<div class=\"alert alert-warning\">\n",
    "    <b>思考：</b><br>\n",
    "    为什么 langchain 内置 的 create_react_agent 无法解析多个输入参数？\n",
    "    <br>\n",
    "    你有办法实现多参数输入吗？\n",
    "</div>\n",
    "\n",
    "**参考**\n",
    "\n",
    "- [🔗 查看 create_react_agent: output_parser](https://github.com/langchain-ai/langchain/blob/239dd7c0c03d0430c55c2c41cf56cf0dd537199b/libs/langchain/langchain/agents/react/agent.py#L125)\n",
    "- [🔗 查看 ReActSingleInputOutputParser](https://github.com/langchain-ai/langchain/blob/239dd7c0c03d0430c55c2c41cf56cf0dd537199b/libs/langchain/langchain/agents/output_parsers/react_single_input.py)"
   ]
  },
  {
   "cell_type": "code",
   "execution_count": 978,
   "id": "c84600bc-4424-4fd5-884b-90babaf36362",
   "metadata": {},
   "outputs": [],
   "source": [
    "zhipu_react = create_react_executor(\n",
    "    ChatZhipuAI(model=\"glm-4\"),\n",
    "    [\n",
    "        # 列举本地文档\n",
    "        list_files,\n",
    "        # RAG 查询文档\n",
    "        ask_document,\n",
    "        # 探查 Excel 文件\n",
    "        inspect_excel,\n",
    "        # Excel 数据分析\n",
    "        excel_analyse,\n",
    "    ]\n",
    ")"
   ]
  },
  {
   "cell_type": "code",
   "execution_count": 980,
   "id": "6185bd16-b8cf-4029-9305-52d15fbaf8d5",
   "metadata": {
    "scrolled": true
   },
   "outputs": [
    {
     "name": "stdout",
     "output_type": "stream",
     "text": [
      "\n",
      "\n",
      "\u001b[1m> Entering new AgentExecutor chain...\u001b[0m\n",
      "这个问题_涉及到_业绩_要求_，_我_需要_查找_相关的_文件_来_获取_这些_信息_。_首先_，_我可以_使用_ `_list__files_`_ 工_具_来_查看_有哪些_文件_可能_包含_这些_信息_。\n",
      "\n",
      "Action_:_ list__files_\n",
      "Observ_ation__"
     ]
    },
    {
     "ename": "ValueError",
     "evalue": "An output parsing error occurred. In order to pass this error back to the agent and have it try again, pass `handle_parsing_errors=True` to the AgentExecutor. This is the error: Could not parse LLM output: `这个问题涉及到业绩要求，我需要查找相关的文件来获取这些信息。首先，我可以使用 `list_files` 工具来查看有哪些文件可能包含这些信息。\n\nAction: list_files\nObservation`",
     "output_type": "error",
     "traceback": [
      "\u001b[0;31m---------------------------------------------------------------------------\u001b[0m",
      "\u001b[0;31mOutputParserException\u001b[0m                     Traceback (most recent call last)",
      "File \u001b[0;32m~/Library/Caches/pypoetry/virtualenvs/langchain-book-u1j6yauo-py3.10/lib/python3.10/site-packages/langchain/agents/agent.py:1262\u001b[0m, in \u001b[0;36mAgentExecutor._aiter_next_step\u001b[0;34m(self, name_to_tool_map, color_mapping, inputs, intermediate_steps, run_manager)\u001b[0m\n\u001b[1;32m   1261\u001b[0m     \u001b[38;5;66;03m# Call the LLM to see what to do.\u001b[39;00m\n\u001b[0;32m-> 1262\u001b[0m     output \u001b[38;5;241m=\u001b[39m \u001b[38;5;28;01mawait\u001b[39;00m \u001b[38;5;28mself\u001b[39m\u001b[38;5;241m.\u001b[39magent\u001b[38;5;241m.\u001b[39maplan(\n\u001b[1;32m   1263\u001b[0m         intermediate_steps,\n\u001b[1;32m   1264\u001b[0m         callbacks\u001b[38;5;241m=\u001b[39mrun_manager\u001b[38;5;241m.\u001b[39mget_child() \u001b[38;5;28;01mif\u001b[39;00m run_manager \u001b[38;5;28;01melse\u001b[39;00m \u001b[38;5;28;01mNone\u001b[39;00m,\n\u001b[1;32m   1265\u001b[0m         \u001b[38;5;241m*\u001b[39m\u001b[38;5;241m*\u001b[39minputs,\n\u001b[1;32m   1266\u001b[0m     )\n\u001b[1;32m   1267\u001b[0m \u001b[38;5;28;01mexcept\u001b[39;00m OutputParserException \u001b[38;5;28;01mas\u001b[39;00m e:\n",
      "File \u001b[0;32m~/Library/Caches/pypoetry/virtualenvs/langchain-book-u1j6yauo-py3.10/lib/python3.10/site-packages/langchain/agents/agent.py:422\u001b[0m, in \u001b[0;36mRunnableAgent.aplan\u001b[0;34m(self, intermediate_steps, callbacks, **kwargs)\u001b[0m\n\u001b[1;32m    417\u001b[0m \u001b[38;5;66;03m# Use streaming to make sure that the underlying LLM is invoked in a streaming\u001b[39;00m\n\u001b[1;32m    418\u001b[0m \u001b[38;5;66;03m# fashion to make it possible to get access to the individual LLM tokens\u001b[39;00m\n\u001b[1;32m    419\u001b[0m \u001b[38;5;66;03m# when using stream_log with the Agent Executor.\u001b[39;00m\n\u001b[1;32m    420\u001b[0m \u001b[38;5;66;03m# Because the response from the plan is not a generator, we need to\u001b[39;00m\n\u001b[1;32m    421\u001b[0m \u001b[38;5;66;03m# accumulate the output into final output and return that.\u001b[39;00m\n\u001b[0;32m--> 422\u001b[0m \u001b[38;5;28;01masync\u001b[39;00m \u001b[38;5;28;01mfor\u001b[39;00m chunk \u001b[38;5;129;01min\u001b[39;00m \u001b[38;5;28mself\u001b[39m\u001b[38;5;241m.\u001b[39mrunnable\u001b[38;5;241m.\u001b[39mastream(\n\u001b[1;32m    423\u001b[0m     inputs, config\u001b[38;5;241m=\u001b[39m{\u001b[38;5;124m\"\u001b[39m\u001b[38;5;124mcallbacks\u001b[39m\u001b[38;5;124m\"\u001b[39m: callbacks}\n\u001b[1;32m    424\u001b[0m ):\n\u001b[1;32m    425\u001b[0m     \u001b[38;5;28;01mif\u001b[39;00m final_output \u001b[38;5;129;01mis\u001b[39;00m \u001b[38;5;28;01mNone\u001b[39;00m:\n",
      "File \u001b[0;32m~/Library/Caches/pypoetry/virtualenvs/langchain-book-u1j6yauo-py3.10/lib/python3.10/site-packages/langchain_core/runnables/base.py:2471\u001b[0m, in \u001b[0;36mRunnableSequence.astream\u001b[0;34m(self, input, config, **kwargs)\u001b[0m\n\u001b[1;32m   2469\u001b[0m     \u001b[38;5;28;01myield\u001b[39;00m \u001b[38;5;28minput\u001b[39m\n\u001b[0;32m-> 2471\u001b[0m \u001b[38;5;28;01masync\u001b[39;00m \u001b[38;5;28;01mfor\u001b[39;00m chunk \u001b[38;5;129;01min\u001b[39;00m \u001b[38;5;28mself\u001b[39m\u001b[38;5;241m.\u001b[39matransform(input_aiter(), config, \u001b[38;5;241m*\u001b[39m\u001b[38;5;241m*\u001b[39mkwargs):\n\u001b[1;32m   2472\u001b[0m     \u001b[38;5;28;01myield\u001b[39;00m chunk\n",
      "File \u001b[0;32m~/Library/Caches/pypoetry/virtualenvs/langchain-book-u1j6yauo-py3.10/lib/python3.10/site-packages/langchain_core/runnables/base.py:2454\u001b[0m, in \u001b[0;36mRunnableSequence.atransform\u001b[0;34m(self, input, config, **kwargs)\u001b[0m\n\u001b[1;32m   2448\u001b[0m \u001b[38;5;28;01masync\u001b[39;00m \u001b[38;5;28;01mdef\u001b[39;00m \u001b[38;5;21matransform\u001b[39m(\n\u001b[1;32m   2449\u001b[0m     \u001b[38;5;28mself\u001b[39m,\n\u001b[1;32m   2450\u001b[0m     \u001b[38;5;28minput\u001b[39m: AsyncIterator[Input],\n\u001b[1;32m   2451\u001b[0m     config: Optional[RunnableConfig] \u001b[38;5;241m=\u001b[39m \u001b[38;5;28;01mNone\u001b[39;00m,\n\u001b[1;32m   2452\u001b[0m     \u001b[38;5;241m*\u001b[39m\u001b[38;5;241m*\u001b[39mkwargs: Optional[Any],\n\u001b[1;32m   2453\u001b[0m ) \u001b[38;5;241m-\u001b[39m\u001b[38;5;241m>\u001b[39m AsyncIterator[Output]:\n\u001b[0;32m-> 2454\u001b[0m     \u001b[38;5;28;01masync\u001b[39;00m \u001b[38;5;28;01mfor\u001b[39;00m chunk \u001b[38;5;129;01min\u001b[39;00m \u001b[38;5;28mself\u001b[39m\u001b[38;5;241m.\u001b[39m_atransform_stream_with_config(\n\u001b[1;32m   2455\u001b[0m         \u001b[38;5;28minput\u001b[39m,\n\u001b[1;32m   2456\u001b[0m         \u001b[38;5;28mself\u001b[39m\u001b[38;5;241m.\u001b[39m_atransform,\n\u001b[1;32m   2457\u001b[0m         patch_config(config, run_name\u001b[38;5;241m=\u001b[39m(config \u001b[38;5;129;01mor\u001b[39;00m {})\u001b[38;5;241m.\u001b[39mget(\u001b[38;5;124m\"\u001b[39m\u001b[38;5;124mrun_name\u001b[39m\u001b[38;5;124m\"\u001b[39m) \u001b[38;5;129;01mor\u001b[39;00m \u001b[38;5;28mself\u001b[39m\u001b[38;5;241m.\u001b[39mname),\n\u001b[1;32m   2458\u001b[0m         \u001b[38;5;241m*\u001b[39m\u001b[38;5;241m*\u001b[39mkwargs,\n\u001b[1;32m   2459\u001b[0m     ):\n\u001b[1;32m   2460\u001b[0m         \u001b[38;5;28;01myield\u001b[39;00m chunk\n",
      "File \u001b[0;32m~/Library/Caches/pypoetry/virtualenvs/langchain-book-u1j6yauo-py3.10/lib/python3.10/site-packages/langchain_core/runnables/base.py:1616\u001b[0m, in \u001b[0;36mRunnable._atransform_stream_with_config\u001b[0;34m(self, input, transformer, config, run_type, **kwargs)\u001b[0m\n\u001b[1;32m   1615\u001b[0m \u001b[38;5;28;01melse\u001b[39;00m:\n\u001b[0;32m-> 1616\u001b[0m     chunk \u001b[38;5;241m=\u001b[39m cast(Output, \u001b[38;5;28;01mawait\u001b[39;00m py_anext(iterator))\n\u001b[1;32m   1617\u001b[0m \u001b[38;5;28;01myield\u001b[39;00m chunk\n",
      "File \u001b[0;32m~/Library/Caches/pypoetry/virtualenvs/langchain-book-u1j6yauo-py3.10/lib/python3.10/site-packages/langchain_core/tracers/log_stream.py:237\u001b[0m, in \u001b[0;36mLogStreamCallbackHandler.tap_output_aiter\u001b[0;34m(self, run_id, output)\u001b[0m\n\u001b[1;32m    236\u001b[0m \u001b[38;5;250m\u001b[39m\u001b[38;5;124;03m\"\"\"Tap an output async iterator to stream its values to the log.\"\"\"\u001b[39;00m\n\u001b[0;32m--> 237\u001b[0m \u001b[38;5;28;01masync\u001b[39;00m \u001b[38;5;28;01mfor\u001b[39;00m chunk \u001b[38;5;129;01min\u001b[39;00m output:\n\u001b[1;32m    238\u001b[0m     \u001b[38;5;66;03m# root run is handled in .astream_log()\u001b[39;00m\n\u001b[1;32m    239\u001b[0m     \u001b[38;5;28;01mif\u001b[39;00m run_id \u001b[38;5;241m!=\u001b[39m \u001b[38;5;28mself\u001b[39m\u001b[38;5;241m.\u001b[39mroot_id:\n\u001b[1;32m    240\u001b[0m         \u001b[38;5;66;03m# if we can't find the run silently ignore\u001b[39;00m\n\u001b[1;32m    241\u001b[0m         \u001b[38;5;66;03m# eg. because this run wasn't included in the log\u001b[39;00m\n",
      "File \u001b[0;32m~/Library/Caches/pypoetry/virtualenvs/langchain-book-u1j6yauo-py3.10/lib/python3.10/site-packages/langchain_core/runnables/base.py:2424\u001b[0m, in \u001b[0;36mRunnableSequence._atransform\u001b[0;34m(self, input, run_manager, config)\u001b[0m\n\u001b[1;32m   2417\u001b[0m     final_pipeline \u001b[38;5;241m=\u001b[39m step\u001b[38;5;241m.\u001b[39matransform(\n\u001b[1;32m   2418\u001b[0m         final_pipeline,\n\u001b[1;32m   2419\u001b[0m         patch_config(\n\u001b[0;32m   (...)\u001b[0m\n\u001b[1;32m   2422\u001b[0m         ),\n\u001b[1;32m   2423\u001b[0m     )\n\u001b[0;32m-> 2424\u001b[0m \u001b[38;5;28;01masync\u001b[39;00m \u001b[38;5;28;01mfor\u001b[39;00m output \u001b[38;5;129;01min\u001b[39;00m final_pipeline:\n\u001b[1;32m   2425\u001b[0m     \u001b[38;5;28;01myield\u001b[39;00m output\n",
      "File \u001b[0;32m~/Library/Caches/pypoetry/virtualenvs/langchain-book-u1j6yauo-py3.10/lib/python3.10/site-packages/langchain_core/runnables/base.py:1087\u001b[0m, in \u001b[0;36mRunnable.atransform\u001b[0;34m(self, input, config, **kwargs)\u001b[0m\n\u001b[1;32m   1086\u001b[0m \u001b[38;5;28;01mif\u001b[39;00m got_first_val:\n\u001b[0;32m-> 1087\u001b[0m     \u001b[38;5;28;01masync\u001b[39;00m \u001b[38;5;28;01mfor\u001b[39;00m output \u001b[38;5;129;01min\u001b[39;00m \u001b[38;5;28mself\u001b[39m\u001b[38;5;241m.\u001b[39mastream(final, config, \u001b[38;5;241m*\u001b[39m\u001b[38;5;241m*\u001b[39mkwargs):\n\u001b[1;32m   1088\u001b[0m         \u001b[38;5;28;01myield\u001b[39;00m output\n",
      "File \u001b[0;32m~/Library/Caches/pypoetry/virtualenvs/langchain-book-u1j6yauo-py3.10/lib/python3.10/site-packages/langchain_core/runnables/base.py:589\u001b[0m, in \u001b[0;36mRunnable.astream\u001b[0;34m(self, input, config, **kwargs)\u001b[0m\n\u001b[1;32m    585\u001b[0m \u001b[38;5;250m\u001b[39m\u001b[38;5;124;03m\"\"\"\u001b[39;00m\n\u001b[1;32m    586\u001b[0m \u001b[38;5;124;03mDefault implementation of astream, which calls ainvoke.\u001b[39;00m\n\u001b[1;32m    587\u001b[0m \u001b[38;5;124;03mSubclasses should override this method if they support streaming output.\u001b[39;00m\n\u001b[1;32m    588\u001b[0m \u001b[38;5;124;03m\"\"\"\u001b[39;00m\n\u001b[0;32m--> 589\u001b[0m \u001b[38;5;28;01myield\u001b[39;00m \u001b[38;5;28;01mawait\u001b[39;00m \u001b[38;5;28mself\u001b[39m\u001b[38;5;241m.\u001b[39mainvoke(\u001b[38;5;28minput\u001b[39m, config, \u001b[38;5;241m*\u001b[39m\u001b[38;5;241m*\u001b[39mkwargs)\n",
      "File \u001b[0;32m~/Library/Caches/pypoetry/virtualenvs/langchain-book-u1j6yauo-py3.10/lib/python3.10/site-packages/langchain_core/output_parsers/base.py:192\u001b[0m, in \u001b[0;36mBaseOutputParser.ainvoke\u001b[0;34m(self, input, config, **kwargs)\u001b[0m\n\u001b[1;32m    191\u001b[0m \u001b[38;5;28;01mif\u001b[39;00m \u001b[38;5;28misinstance\u001b[39m(\u001b[38;5;28minput\u001b[39m, BaseMessage):\n\u001b[0;32m--> 192\u001b[0m     \u001b[38;5;28;01mreturn\u001b[39;00m \u001b[38;5;28;01mawait\u001b[39;00m \u001b[38;5;28mself\u001b[39m\u001b[38;5;241m.\u001b[39m_acall_with_config(\n\u001b[1;32m    193\u001b[0m         \u001b[38;5;28;01mlambda\u001b[39;00m inner_input: \u001b[38;5;28mself\u001b[39m\u001b[38;5;241m.\u001b[39maparse_result(\n\u001b[1;32m    194\u001b[0m             [ChatGeneration(message\u001b[38;5;241m=\u001b[39minner_input)]\n\u001b[1;32m    195\u001b[0m         ),\n\u001b[1;32m    196\u001b[0m         \u001b[38;5;28minput\u001b[39m,\n\u001b[1;32m    197\u001b[0m         config,\n\u001b[1;32m    198\u001b[0m         run_type\u001b[38;5;241m=\u001b[39m\u001b[38;5;124m\"\u001b[39m\u001b[38;5;124mparser\u001b[39m\u001b[38;5;124m\"\u001b[39m,\n\u001b[1;32m    199\u001b[0m     )\n\u001b[1;32m    200\u001b[0m \u001b[38;5;28;01melse\u001b[39;00m:\n",
      "File \u001b[0;32m~/Library/Caches/pypoetry/virtualenvs/langchain-book-u1j6yauo-py3.10/lib/python3.10/site-packages/langchain_core/runnables/base.py:1313\u001b[0m, in \u001b[0;36mRunnable._acall_with_config\u001b[0;34m(self, func, input, config, run_type, **kwargs)\u001b[0m\n\u001b[1;32m   1312\u001b[0m     \u001b[38;5;28;01melse\u001b[39;00m:\n\u001b[0;32m-> 1313\u001b[0m         output \u001b[38;5;241m=\u001b[39m \u001b[38;5;28;01mawait\u001b[39;00m coro\n\u001b[1;32m   1314\u001b[0m \u001b[38;5;28;01mexcept\u001b[39;00m \u001b[38;5;167;01mBaseException\u001b[39;00m \u001b[38;5;28;01mas\u001b[39;00m e:\n",
      "File \u001b[0;32m~/Library/Caches/pypoetry/virtualenvs/langchain-book-u1j6yauo-py3.10/lib/python3.10/site-packages/langchain_core/output_parsers/base.py:249\u001b[0m, in \u001b[0;36mBaseOutputParser.aparse_result\u001b[0;34m(self, result, partial)\u001b[0m\n\u001b[1;32m    237\u001b[0m \u001b[38;5;250m\u001b[39m\u001b[38;5;124;03m\"\"\"Parse a list of candidate model Generations into a specific format.\u001b[39;00m\n\u001b[1;32m    238\u001b[0m \n\u001b[1;32m    239\u001b[0m \u001b[38;5;124;03mThe return value is parsed from only the first Generation in the result, which\u001b[39;00m\n\u001b[0;32m   (...)\u001b[0m\n\u001b[1;32m    247\u001b[0m \u001b[38;5;124;03m    Structured output.\u001b[39;00m\n\u001b[1;32m    248\u001b[0m \u001b[38;5;124;03m\"\"\"\u001b[39;00m\n\u001b[0;32m--> 249\u001b[0m \u001b[38;5;28;01mreturn\u001b[39;00m \u001b[38;5;28;01mawait\u001b[39;00m run_in_executor(\u001b[38;5;28;01mNone\u001b[39;00m, \u001b[38;5;28mself\u001b[39m\u001b[38;5;241m.\u001b[39mparse_result, result, partial\u001b[38;5;241m=\u001b[39mpartial)\n",
      "File \u001b[0;32m~/Library/Caches/pypoetry/virtualenvs/langchain-book-u1j6yauo-py3.10/lib/python3.10/site-packages/langchain_core/runnables/config.py:493\u001b[0m, in \u001b[0;36mrun_in_executor\u001b[0;34m(executor_or_config, func, *args, **kwargs)\u001b[0m\n\u001b[1;32m    491\u001b[0m \u001b[38;5;28;01mif\u001b[39;00m executor_or_config \u001b[38;5;129;01mis\u001b[39;00m \u001b[38;5;28;01mNone\u001b[39;00m \u001b[38;5;129;01mor\u001b[39;00m \u001b[38;5;28misinstance\u001b[39m(executor_or_config, \u001b[38;5;28mdict\u001b[39m):\n\u001b[1;32m    492\u001b[0m     \u001b[38;5;66;03m# Use default executor with context copied from current context\u001b[39;00m\n\u001b[0;32m--> 493\u001b[0m     \u001b[38;5;28;01mreturn\u001b[39;00m \u001b[38;5;28;01mawait\u001b[39;00m asyncio\u001b[38;5;241m.\u001b[39mget_running_loop()\u001b[38;5;241m.\u001b[39mrun_in_executor(\n\u001b[1;32m    494\u001b[0m         \u001b[38;5;28;01mNone\u001b[39;00m,\n\u001b[1;32m    495\u001b[0m         cast(Callable[\u001b[38;5;241m.\u001b[39m\u001b[38;5;241m.\u001b[39m\u001b[38;5;241m.\u001b[39m, T], partial(copy_context()\u001b[38;5;241m.\u001b[39mrun, func, \u001b[38;5;241m*\u001b[39margs, \u001b[38;5;241m*\u001b[39m\u001b[38;5;241m*\u001b[39mkwargs)),\n\u001b[1;32m    496\u001b[0m     )\n\u001b[1;32m    498\u001b[0m \u001b[38;5;28;01mreturn\u001b[39;00m \u001b[38;5;28;01mawait\u001b[39;00m asyncio\u001b[38;5;241m.\u001b[39mget_running_loop()\u001b[38;5;241m.\u001b[39mrun_in_executor(\n\u001b[1;32m    499\u001b[0m     executor_or_config, partial(func, \u001b[38;5;241m*\u001b[39m\u001b[38;5;241m*\u001b[39mkwargs), \u001b[38;5;241m*\u001b[39margs\n\u001b[1;32m    500\u001b[0m )\n",
      "File \u001b[0;32m~/.pyenv/versions/3.10.0/lib/python3.10/concurrent/futures/thread.py:52\u001b[0m, in \u001b[0;36m_WorkItem.run\u001b[0;34m(self)\u001b[0m\n\u001b[1;32m     51\u001b[0m \u001b[38;5;28;01mtry\u001b[39;00m:\n\u001b[0;32m---> 52\u001b[0m     result \u001b[38;5;241m=\u001b[39m \u001b[38;5;28;43mself\u001b[39;49m\u001b[38;5;241;43m.\u001b[39;49m\u001b[43mfn\u001b[49m\u001b[43m(\u001b[49m\u001b[38;5;241;43m*\u001b[39;49m\u001b[38;5;28;43mself\u001b[39;49m\u001b[38;5;241;43m.\u001b[39;49m\u001b[43margs\u001b[49m\u001b[43m,\u001b[49m\u001b[43m \u001b[49m\u001b[38;5;241;43m*\u001b[39;49m\u001b[38;5;241;43m*\u001b[39;49m\u001b[38;5;28;43mself\u001b[39;49m\u001b[38;5;241;43m.\u001b[39;49m\u001b[43mkwargs\u001b[49m\u001b[43m)\u001b[49m\n\u001b[1;32m     53\u001b[0m \u001b[38;5;28;01mexcept\u001b[39;00m \u001b[38;5;167;01mBaseException\u001b[39;00m \u001b[38;5;28;01mas\u001b[39;00m exc:\n",
      "File \u001b[0;32m~/Library/Caches/pypoetry/virtualenvs/langchain-book-u1j6yauo-py3.10/lib/python3.10/site-packages/langchain_core/output_parsers/base.py:221\u001b[0m, in \u001b[0;36mBaseOutputParser.parse_result\u001b[0;34m(self, result, partial)\u001b[0m\n\u001b[1;32m    209\u001b[0m \u001b[38;5;250m\u001b[39m\u001b[38;5;124;03m\"\"\"Parse a list of candidate model Generations into a specific format.\u001b[39;00m\n\u001b[1;32m    210\u001b[0m \n\u001b[1;32m    211\u001b[0m \u001b[38;5;124;03mThe return value is parsed from only the first Generation in the result, which\u001b[39;00m\n\u001b[0;32m   (...)\u001b[0m\n\u001b[1;32m    219\u001b[0m \u001b[38;5;124;03m    Structured output.\u001b[39;00m\n\u001b[1;32m    220\u001b[0m \u001b[38;5;124;03m\"\"\"\u001b[39;00m\n\u001b[0;32m--> 221\u001b[0m \u001b[38;5;28;01mreturn\u001b[39;00m \u001b[38;5;28;43mself\u001b[39;49m\u001b[38;5;241;43m.\u001b[39;49m\u001b[43mparse\u001b[49m\u001b[43m(\u001b[49m\u001b[43mresult\u001b[49m\u001b[43m[\u001b[49m\u001b[38;5;241;43m0\u001b[39;49m\u001b[43m]\u001b[49m\u001b[38;5;241;43m.\u001b[39;49m\u001b[43mtext\u001b[49m\u001b[43m)\u001b[49m\n",
      "File \u001b[0;32m~/Library/Caches/pypoetry/virtualenvs/langchain-book-u1j6yauo-py3.10/lib/python3.10/site-packages/langchain/agents/output_parsers/react_single_input.py:84\u001b[0m, in \u001b[0;36mReActSingleInputOutputParser.parse\u001b[0;34m(self, text)\u001b[0m\n\u001b[1;32m     81\u001b[0m \u001b[38;5;28;01melif\u001b[39;00m \u001b[38;5;129;01mnot\u001b[39;00m re\u001b[38;5;241m.\u001b[39msearch(\n\u001b[1;32m     82\u001b[0m     \u001b[38;5;124mr\u001b[39m\u001b[38;5;124m\"\u001b[39m\u001b[38;5;124m[\u001b[39m\u001b[38;5;124m\\\u001b[39m\u001b[38;5;124ms]*Action\u001b[39m\u001b[38;5;124m\\\u001b[39m\u001b[38;5;124ms*\u001b[39m\u001b[38;5;124m\\\u001b[39m\u001b[38;5;124md*\u001b[39m\u001b[38;5;124m\\\u001b[39m\u001b[38;5;124ms*Input\u001b[39m\u001b[38;5;124m\\\u001b[39m\u001b[38;5;124ms*\u001b[39m\u001b[38;5;124m\\\u001b[39m\u001b[38;5;124md*\u001b[39m\u001b[38;5;124m\\\u001b[39m\u001b[38;5;124ms*:[\u001b[39m\u001b[38;5;124m\\\u001b[39m\u001b[38;5;124ms]*(.*)\u001b[39m\u001b[38;5;124m\"\u001b[39m, text, re\u001b[38;5;241m.\u001b[39mDOTALL\n\u001b[1;32m     83\u001b[0m ):\n\u001b[0;32m---> 84\u001b[0m     \u001b[38;5;28;01mraise\u001b[39;00m OutputParserException(\n\u001b[1;32m     85\u001b[0m         \u001b[38;5;124mf\u001b[39m\u001b[38;5;124m\"\u001b[39m\u001b[38;5;124mCould not parse LLM output: `\u001b[39m\u001b[38;5;132;01m{\u001b[39;00mtext\u001b[38;5;132;01m}\u001b[39;00m\u001b[38;5;124m`\u001b[39m\u001b[38;5;124m\"\u001b[39m,\n\u001b[1;32m     86\u001b[0m         observation\u001b[38;5;241m=\u001b[39mMISSING_ACTION_INPUT_AFTER_ACTION_ERROR_MESSAGE,\n\u001b[1;32m     87\u001b[0m         llm_output\u001b[38;5;241m=\u001b[39mtext,\n\u001b[1;32m     88\u001b[0m         send_to_llm\u001b[38;5;241m=\u001b[39m\u001b[38;5;28;01mTrue\u001b[39;00m,\n\u001b[1;32m     89\u001b[0m     )\n\u001b[1;32m     90\u001b[0m \u001b[38;5;28;01melse\u001b[39;00m:\n",
      "\u001b[0;31mOutputParserException\u001b[0m: Could not parse LLM output: `这个问题涉及到业绩要求，我需要查找相关的文件来获取这些信息。首先，我可以使用 `list_files` 工具来查看有哪些文件可能包含这些信息。\n\nAction: list_files\nObservation`",
      "\nDuring handling of the above exception, another exception occurred:\n",
      "\u001b[0;31mValueError\u001b[0m                                Traceback (most recent call last)",
      "Cell \u001b[0;32mIn[980], line 1\u001b[0m\n\u001b[0;32m----> 1\u001b[0m \u001b[38;5;28;01masync\u001b[39;00m \u001b[38;5;28;01mfor\u001b[39;00m chunk \u001b[38;5;129;01min\u001b[39;00m zhipu_react\u001b[38;5;241m.\u001b[39mastream_events({\u001b[38;5;124m\"\u001b[39m\u001b[38;5;124minput\u001b[39m\u001b[38;5;124m\"\u001b[39m: \u001b[38;5;124m\"\u001b[39m\u001b[38;5;124m供应商达标的业绩要求是什么？\u001b[39m\u001b[38;5;124m\"\u001b[39m}, version\u001b[38;5;241m=\u001b[39m\u001b[38;5;124m\"\u001b[39m\u001b[38;5;124mv1\u001b[39m\u001b[38;5;124m\"\u001b[39m):\n\u001b[1;32m      2\u001b[0m     event \u001b[38;5;241m=\u001b[39m chunk[\u001b[38;5;124m'\u001b[39m\u001b[38;5;124mevent\u001b[39m\u001b[38;5;124m'\u001b[39m]\n\u001b[1;32m      3\u001b[0m     \u001b[38;5;28;01mif\u001b[39;00m(event \u001b[38;5;241m==\u001b[39m \u001b[38;5;124m\"\u001b[39m\u001b[38;5;124mon_chat_model_stream\u001b[39m\u001b[38;5;124m\"\u001b[39m):\n",
      "File \u001b[0;32m~/Library/Caches/pypoetry/virtualenvs/langchain-book-u1j6yauo-py3.10/lib/python3.10/site-packages/langchain_core/runnables/base.py:905\u001b[0m, in \u001b[0;36mRunnable.astream_events\u001b[0;34m(self, input, config, version, include_names, include_types, include_tags, exclude_names, exclude_types, exclude_tags, **kwargs)\u001b[0m\n\u001b[1;32m    901\u001b[0m root_name \u001b[38;5;241m=\u001b[39m config\u001b[38;5;241m.\u001b[39mget(\u001b[38;5;124m\"\u001b[39m\u001b[38;5;124mrun_name\u001b[39m\u001b[38;5;124m\"\u001b[39m, \u001b[38;5;28mself\u001b[39m\u001b[38;5;241m.\u001b[39mget_name())\n\u001b[1;32m    903\u001b[0m \u001b[38;5;66;03m# Ignoring mypy complaint about too many different union combinations\u001b[39;00m\n\u001b[1;32m    904\u001b[0m \u001b[38;5;66;03m# This arises because many of the argument types are unions\u001b[39;00m\n\u001b[0;32m--> 905\u001b[0m \u001b[38;5;28;01masync\u001b[39;00m \u001b[38;5;28;01mfor\u001b[39;00m log \u001b[38;5;129;01min\u001b[39;00m _astream_log_implementation(  \u001b[38;5;66;03m# type: ignore[misc]\u001b[39;00m\n\u001b[1;32m    906\u001b[0m     \u001b[38;5;28mself\u001b[39m,\n\u001b[1;32m    907\u001b[0m     \u001b[38;5;28minput\u001b[39m,\n\u001b[1;32m    908\u001b[0m     config\u001b[38;5;241m=\u001b[39mconfig,\n\u001b[1;32m    909\u001b[0m     stream\u001b[38;5;241m=\u001b[39mstream,\n\u001b[1;32m    910\u001b[0m     diff\u001b[38;5;241m=\u001b[39m\u001b[38;5;28;01mTrue\u001b[39;00m,\n\u001b[1;32m    911\u001b[0m     with_streamed_output_list\u001b[38;5;241m=\u001b[39m\u001b[38;5;28;01mTrue\u001b[39;00m,\n\u001b[1;32m    912\u001b[0m     \u001b[38;5;241m*\u001b[39m\u001b[38;5;241m*\u001b[39mkwargs,\n\u001b[1;32m    913\u001b[0m ):\n\u001b[1;32m    914\u001b[0m     run_log \u001b[38;5;241m=\u001b[39m run_log \u001b[38;5;241m+\u001b[39m log\n\u001b[1;32m    916\u001b[0m     \u001b[38;5;28;01mif\u001b[39;00m \u001b[38;5;129;01mnot\u001b[39;00m encountered_start_event:\n\u001b[1;32m    917\u001b[0m         \u001b[38;5;66;03m# Yield the start event for the root runnable.\u001b[39;00m\n",
      "File \u001b[0;32m~/Library/Caches/pypoetry/virtualenvs/langchain-book-u1j6yauo-py3.10/lib/python3.10/site-packages/langchain_core/tracers/log_stream.py:612\u001b[0m, in \u001b[0;36m_astream_log_implementation\u001b[0;34m(runnable, input, config, stream, diff, with_streamed_output_list, **kwargs)\u001b[0m\n\u001b[1;32m    609\u001b[0m \u001b[38;5;28;01mfinally\u001b[39;00m:\n\u001b[1;32m    610\u001b[0m     \u001b[38;5;66;03m# Wait for the runnable to finish, if not cancelled (eg. by break)\u001b[39;00m\n\u001b[1;32m    611\u001b[0m     \u001b[38;5;28;01mtry\u001b[39;00m:\n\u001b[0;32m--> 612\u001b[0m         \u001b[38;5;28;01mawait\u001b[39;00m task\n\u001b[1;32m    613\u001b[0m     \u001b[38;5;28;01mexcept\u001b[39;00m asyncio\u001b[38;5;241m.\u001b[39mCancelledError:\n\u001b[1;32m    614\u001b[0m         \u001b[38;5;28;01mpass\u001b[39;00m\n",
      "File \u001b[0;32m~/Library/Caches/pypoetry/virtualenvs/langchain-book-u1j6yauo-py3.10/lib/python3.10/site-packages/langchain_core/tracers/log_stream.py:566\u001b[0m, in \u001b[0;36m_astream_log_implementation.<locals>.consume_astream\u001b[0;34m()\u001b[0m\n\u001b[1;32m    563\u001b[0m prev_final_output: Optional[Output] \u001b[38;5;241m=\u001b[39m \u001b[38;5;28;01mNone\u001b[39;00m\n\u001b[1;32m    564\u001b[0m final_output: Optional[Output] \u001b[38;5;241m=\u001b[39m \u001b[38;5;28;01mNone\u001b[39;00m\n\u001b[0;32m--> 566\u001b[0m \u001b[38;5;28;01masync\u001b[39;00m \u001b[38;5;28;01mfor\u001b[39;00m chunk \u001b[38;5;129;01min\u001b[39;00m runnable\u001b[38;5;241m.\u001b[39mastream(\u001b[38;5;28minput\u001b[39m, config, \u001b[38;5;241m*\u001b[39m\u001b[38;5;241m*\u001b[39mkwargs):\n\u001b[1;32m    567\u001b[0m     prev_final_output \u001b[38;5;241m=\u001b[39m final_output\n\u001b[1;32m    568\u001b[0m     \u001b[38;5;28;01mif\u001b[39;00m final_output \u001b[38;5;129;01mis\u001b[39;00m \u001b[38;5;28;01mNone\u001b[39;00m:\n",
      "File \u001b[0;32m~/Library/Caches/pypoetry/virtualenvs/langchain-book-u1j6yauo-py3.10/lib/python3.10/site-packages/langchain/agents/agent.py:1551\u001b[0m, in \u001b[0;36mAgentExecutor.astream\u001b[0;34m(self, input, config, **kwargs)\u001b[0m\n\u001b[1;32m   1540\u001b[0m config \u001b[38;5;241m=\u001b[39m ensure_config(config)\n\u001b[1;32m   1541\u001b[0m iterator \u001b[38;5;241m=\u001b[39m AgentExecutorIterator(\n\u001b[1;32m   1542\u001b[0m     \u001b[38;5;28mself\u001b[39m,\n\u001b[1;32m   1543\u001b[0m     \u001b[38;5;28minput\u001b[39m,\n\u001b[0;32m   (...)\u001b[0m\n\u001b[1;32m   1549\u001b[0m     \u001b[38;5;241m*\u001b[39m\u001b[38;5;241m*\u001b[39mkwargs,\n\u001b[1;32m   1550\u001b[0m )\n\u001b[0;32m-> 1551\u001b[0m \u001b[38;5;28;01masync\u001b[39;00m \u001b[38;5;28;01mfor\u001b[39;00m step \u001b[38;5;129;01min\u001b[39;00m iterator:\n\u001b[1;32m   1552\u001b[0m     \u001b[38;5;28;01myield\u001b[39;00m step\n",
      "File \u001b[0;32m~/Library/Caches/pypoetry/virtualenvs/langchain-book-u1j6yauo-py3.10/lib/python3.10/site-packages/langchain/agents/agent_iterator.py:240\u001b[0m, in \u001b[0;36mAgentExecutorIterator.__aiter__\u001b[0;34m(self)\u001b[0m\n\u001b[1;32m    234\u001b[0m \u001b[38;5;28;01mwhile\u001b[39;00m \u001b[38;5;28mself\u001b[39m\u001b[38;5;241m.\u001b[39magent_executor\u001b[38;5;241m.\u001b[39m_should_continue(\n\u001b[1;32m    235\u001b[0m     \u001b[38;5;28mself\u001b[39m\u001b[38;5;241m.\u001b[39miterations, \u001b[38;5;28mself\u001b[39m\u001b[38;5;241m.\u001b[39mtime_elapsed\n\u001b[1;32m    236\u001b[0m ):\n\u001b[1;32m    237\u001b[0m     \u001b[38;5;66;03m# take the next step: this plans next action, executes it,\u001b[39;00m\n\u001b[1;32m    238\u001b[0m     \u001b[38;5;66;03m# yielding action and observation as they are generated\u001b[39;00m\n\u001b[1;32m    239\u001b[0m     next_step_seq: NextStepOutput \u001b[38;5;241m=\u001b[39m []\n\u001b[0;32m--> 240\u001b[0m     \u001b[38;5;28;01masync\u001b[39;00m \u001b[38;5;28;01mfor\u001b[39;00m chunk \u001b[38;5;129;01min\u001b[39;00m \u001b[38;5;28mself\u001b[39m\u001b[38;5;241m.\u001b[39magent_executor\u001b[38;5;241m.\u001b[39m_aiter_next_step(\n\u001b[1;32m    241\u001b[0m         \u001b[38;5;28mself\u001b[39m\u001b[38;5;241m.\u001b[39mname_to_tool_map,\n\u001b[1;32m    242\u001b[0m         \u001b[38;5;28mself\u001b[39m\u001b[38;5;241m.\u001b[39mcolor_mapping,\n\u001b[1;32m    243\u001b[0m         \u001b[38;5;28mself\u001b[39m\u001b[38;5;241m.\u001b[39minputs,\n\u001b[1;32m    244\u001b[0m         \u001b[38;5;28mself\u001b[39m\u001b[38;5;241m.\u001b[39mintermediate_steps,\n\u001b[1;32m    245\u001b[0m         run_manager,\n\u001b[1;32m    246\u001b[0m     ):\n\u001b[1;32m    247\u001b[0m         next_step_seq\u001b[38;5;241m.\u001b[39mappend(chunk)\n\u001b[1;32m    248\u001b[0m         \u001b[38;5;66;03m# if we're yielding actions, yield them as they come\u001b[39;00m\n\u001b[1;32m    249\u001b[0m         \u001b[38;5;66;03m# do not yield AgentFinish, which will be handled below\u001b[39;00m\n",
      "File \u001b[0;32m~/Library/Caches/pypoetry/virtualenvs/langchain-book-u1j6yauo-py3.10/lib/python3.10/site-packages/langchain/agents/agent.py:1273\u001b[0m, in \u001b[0;36mAgentExecutor._aiter_next_step\u001b[0;34m(self, name_to_tool_map, color_mapping, inputs, intermediate_steps, run_manager)\u001b[0m\n\u001b[1;32m   1271\u001b[0m     raise_error \u001b[38;5;241m=\u001b[39m \u001b[38;5;28;01mFalse\u001b[39;00m\n\u001b[1;32m   1272\u001b[0m \u001b[38;5;28;01mif\u001b[39;00m raise_error:\n\u001b[0;32m-> 1273\u001b[0m     \u001b[38;5;28;01mraise\u001b[39;00m \u001b[38;5;167;01mValueError\u001b[39;00m(\n\u001b[1;32m   1274\u001b[0m         \u001b[38;5;124m\"\u001b[39m\u001b[38;5;124mAn output parsing error occurred. \u001b[39m\u001b[38;5;124m\"\u001b[39m\n\u001b[1;32m   1275\u001b[0m         \u001b[38;5;124m\"\u001b[39m\u001b[38;5;124mIn order to pass this error back to the agent and have it try \u001b[39m\u001b[38;5;124m\"\u001b[39m\n\u001b[1;32m   1276\u001b[0m         \u001b[38;5;124m\"\u001b[39m\u001b[38;5;124magain, pass `handle_parsing_errors=True` to the AgentExecutor. \u001b[39m\u001b[38;5;124m\"\u001b[39m\n\u001b[1;32m   1277\u001b[0m         \u001b[38;5;124mf\u001b[39m\u001b[38;5;124m\"\u001b[39m\u001b[38;5;124mThis is the error: \u001b[39m\u001b[38;5;132;01m{\u001b[39;00m\u001b[38;5;28mstr\u001b[39m(e)\u001b[38;5;132;01m}\u001b[39;00m\u001b[38;5;124m\"\u001b[39m\n\u001b[1;32m   1278\u001b[0m     )\n\u001b[1;32m   1279\u001b[0m text \u001b[38;5;241m=\u001b[39m \u001b[38;5;28mstr\u001b[39m(e)\n\u001b[1;32m   1280\u001b[0m \u001b[38;5;28;01mif\u001b[39;00m \u001b[38;5;28misinstance\u001b[39m(\u001b[38;5;28mself\u001b[39m\u001b[38;5;241m.\u001b[39mhandle_parsing_errors, \u001b[38;5;28mbool\u001b[39m):\n",
      "\u001b[0;31mValueError\u001b[0m: An output parsing error occurred. In order to pass this error back to the agent and have it try again, pass `handle_parsing_errors=True` to the AgentExecutor. This is the error: Could not parse LLM output: `这个问题涉及到业绩要求，我需要查找相关的文件来获取这些信息。首先，我可以使用 `list_files` 工具来查看有哪些文件可能包含这些信息。\n\nAction: list_files\nObservation`"
     ]
    }
   ],
   "source": [
    "async for chunk in zhipu_react.astream_events({\"input\": \"供应商达标的业绩要求是什么？\"}, version=\"v1\"):\n",
    "    event = chunk['event']\n",
    "    if(event == \"on_chat_model_stream\"):\n",
    "        if('chunk' in chunk['data']):\n",
    "            print(chunk['data']['chunk'].content, end=\"_\", flush=True)"
   ]
  },
  {
   "cell_type": "markdown",
   "id": "fdbf2ae2-cfa2-4d88-9f55-e79663ab361a",
   "metadata": {},
   "source": [
    "### ✍️ GLM4 + create_cot_agent\n",
    "\n",
    "自定义智能体：与 ReAct 类似，但通过思维链引导大模型的推理过程，并不仅仅停留在是否选择工具方面的思考，可通过提示语引导其对概念的深度拆解，就像是《手撕AutoGPT》中演示的那样。"
   ]
  },
  {
   "cell_type": "code",
   "execution_count": 981,
   "id": "d7f510b5-0436-48a0-b8d8-7b56832d0612",
   "metadata": {},
   "outputs": [],
   "source": [
    "zhipu_cot = create_cot_executor(\n",
    "    ChatZhipuAI(model=\"glm-4\"),\n",
    "    [\n",
    "        # 列举本地文档\n",
    "        list_files,\n",
    "        # RAG 查询文档\n",
    "        ask_document,\n",
    "        # 探查 Excel 文件\n",
    "        inspect_excel,\n",
    "        # Excel 数据分析\n",
    "        excel_analyse,\n",
    "        # 结束工具\n",
    "        FINISH,\n",
    "    ]\n",
    ")"
   ]
  },
  {
   "cell_type": "code",
   "execution_count": 982,
   "id": "5d277d68-89b0-45bc-be93-d9e20fb32efe",
   "metadata": {
    "scrolled": true
   },
   "outputs": [
    {
     "name": "stdout",
     "output_type": "stream",
     "text": [
      "关键_概念_:\n",
      "-_ _供应商_达标_标准_\n",
      "\n",
      "概念_拆_解_:\n",
      "-_ _供应商_达标_标准_ -_ \n",
      " _ -_ _供应商_评价_体系_\n",
      " _ -_ 合_格_分数线_\n",
      "\n",
      "反思_:\n",
      "-_ 需_要从_文件_中_查询_供应商_达标_的具体_标准_。\n",
      "-_ 当前_并不_清楚_供应商_评价_体系和_合格_分数_线的_具体_内容_。\n",
      "\n",
      "思考_:\n",
      "-_ _供应商_达标_标准_可能_存在于_Word_或_PDF_文档_，_或者_Excel_数据_文件_中_。\n",
      "-_ 应_该_首先_使用_list__files_工具_探_查_本地_文件夹_结构_，_确定_可能_包含_达标_标准的_文件_。\n",
      "-_ 接_下来_，_可以_按照_文件_类型_，_使用_相应的_工具_进一步_查询_。\n",
      "\n",
      "推理_:\n",
      "-_ 将_使用_list__files_工具_查找_可能_包含_供应商_达标_标准的_文件_。\n",
      "\n",
      "计划_:\n",
      "-_ 使用_list__files_工具_列举_文件夹_内容和_文件_名_。\n",
      "\n",
      "输出_动作_:\n",
      "\n",
      "```_json_\n",
      "{\"_name_\":_ \"_list__files_\",_ \"_args_\":_ {}_}\n",
      "```__当前目录为： ./data\n",
      "关键_概念_:_ _供应商_达标_标准_\n",
      "\n",
      "概念_拆_解_:\n",
      "-_ _供应商_达标_标准_\n",
      " _ -_ _供应商_评价_体系_\n",
      " _ -_ 合_格_分数线_\n",
      "\n",
      "反思_:\n",
      "-_ 已_确定_需要_查询_文件_以_获取_供应商_达标_的具体_标准_。\n",
      "-_ 目前_不清楚_供应商_评价_体系和_合格_分数_线的_具体_内容_。\n",
      "\n",
      "思考_:\n",
      "-_ _供应商_达标_标准_可能_存在于_Word_或_PDF_文档_，_或者_Excel_数据_文件_中_。\n",
      "-_ 已经_使用_list__files_工具_找到了_可能_包含_达标_标准的_文件_。\n",
      "-_ 下_一步_应该_查看_\"_供应商_资格_要求_.pdf_\"_文件_，_以_获取_相关信息_。\n",
      "\n",
      "推理_:\n",
      "-_ 将_使用_ask__document_工具_来_查询_\"_供应商_资格_要求_.pdf_\"_文件_。\n",
      "\n",
      "计划_:\n",
      "-_ 使用_ask__document_工具_，_查询_\"_供应商_资格_要求_.pdf_\"_文件_中_关于_供应商_评价_体系和_合格_分数线_的信息_。\n",
      "\n",
      "输出_动作_:\n",
      "\n",
      "```_json_\n",
      "{\"_name_\":_ \"_ask__document_\",_ \"_args_\":_ {\"_filename_\":_ \"_供应商_资格_要求_.pdf_\",_ \"_query_\":_ \"_供应商_评价_体系和_合格_分数线_的信息_\"}}\n",
      "```__根据|您|提供的|资料|，|关于|供应商|评价|体系和|合格|分数线|的信息|并未|直接|提及|。|但是|，|从|招标|资质|要求|中|可以|推断|出|一些|评价|体系|的关键|要素|：\n",
      "\n",
      "1|.| 基|本|资质|要求|：|包括|营业执照|、|税务|登记|证|、|组织|机构|代码|证|，|这些都是|供应商|必须|满足|的基本|条件|。\n",
      "\n",
      "2|.| 经营|和|财务|能力|：|月|销售额|、|稳定的|财务|状况|、|流动|资金|情况|，|这些都是|评价|供应商|财务|健康|和|经营|能力|的重要|指标|。\n",
      "\n",
      "3|.| 产品|和服务|质量|：|产品质量|认证|和服务|标准|，|这些|是|评价|供应商|产品|和服务|质量|的关键|要素|。\n",
      "\n",
      "4|.| 行|业|经验和|声誉|：|行业|经验和|业务|声誉|，|这是|评价|供应商|在|行业|中的|地位|和|客户|满意度|的重要|指标|。\n",
      "\n",
      "至于|合格|分数线|，|虽然|资料|中没有|明确|说明|，|但|一般|而言|，|供应商|需要|满足|所有|资质|要求|才能|达到|合格的|分数线|，|即|：\n",
      "\n",
      "-| 所有|基本|资质|要求|必须|满足|。\n",
      "-| 经营|和|财务|能力|要|达到|规定|标准|，|如|月|销售额|不低于|人民币|3|万元|。\n",
      "-| 产品|和服务|质量|需要|符合|国家|及|行业标准|，|通过|质量|认证|。\n",
      "-| 具|备|至少|五|年的|行业|经验|，|以及|良好的|业务|声誉|和|客户|满意度|记录|。\n",
      "\n",
      "对于|社会责任|和|可持续|性的|具体|要求|虽然没有|详细|说明|，|但|这也是|评价|供应商|的一个重要|方面|。\n",
      "\n",
      "综上所述|，|供应商|评价|体系|涵盖了|多个|方面|，|合格|分数线|应该是|基于|满足|所有|明确|提出的|资质|要求|，|而这些|资质|要求|则|构成了|评价|体系|的基础|。|具体的|合格|分数线|需要|根据|招标|方的|具体|设定|而定|，|这些|信息|通常|会在|招标|文件|中|明确|给出|。|在没有|具体|招标|文件|的情况下|，|无法|提供|确|切的|合格|分数线|。||关键_概念_:_ _供应商_达标_标准_\n",
      "\n",
      "概念_拆_解_:\n",
      "-_ _供应商_达标_标准_\n",
      " _ -_ _供应商_评价_体系_\n",
      " _ -_ 合_格_分数线_\n",
      "\n",
      "反思_:\n",
      "-_ 已经_查询_了_\"_供应商_资格_要求_.pdf_\"_文件_，_但_未_直接_找到_供应商_评价_体系和_合格_分数线_的信息_。\n",
      "-_ 从_招标_资质_要求_中_推断_出_一些_评价_体系_的关键_要素_，_但_具体_分数_尚未_明确_。\n",
      "\n",
      "思考_:\n",
      "-_ 当前_任务_需要_确定_供应商_达标_的具体_标准_，_推断_出的_评价_体系_要素_需要_具体_数值_才能_确定_合格_分数线_。\n",
      "-_ 应_该_寻找_可能_包含_具体_数值_的_文件_，_尝试_使用_inspect__excel_工具_来_探_查_可能_含有_相关_数据的_Excel_文件_。\n",
      "\n",
      "推理_:\n",
      "-_ 将_使用_inspect__excel_工具_来_查看_\"_供应商_名录_.xlsx_\"_文件_，_试图_找到_评价_体系和_合格_分数_线的_具体_数据_。\n",
      "\n",
      "计划_:\n",
      "-_ 使用_inspect__excel_工具_，_探_查_\"_供应商_名录_.xlsx_\"_文件_中_可能_包含_的_供应商_评价_体系和_合格_分数线_的信息_。\n",
      "\n",
      "输出_动作_:\n",
      "\n",
      "```_json_\n",
      "{\"_name_\":_ \"_inspect__excel_\",_ \"_args_\":_ {\"_filename_\":_ \"_供应商_名录_.xlsx_\",_ \"_n_\":_ _3_}}\n",
      "```__关键_概念_:_ _供应商_达标_标准_\n",
      "\n",
      "概念_拆_解_:\n",
      "-_ _供应商_达标_标准_\n",
      " _ -_ _供应商_评价_体系_\n",
      " _ -_ 合_格_分数线_\n",
      "\n",
      "反思_:\n",
      "-_ 已经_查询_了_\"_供应商_资格_要求_.pdf_\"_和_\"_供应商_名录_.xlsx_\"_文件_，_但_未_直接_找到_合格_分数线_的信息_。\n",
      "-_ 从_招标_资质_要求_中_推断_出_一些_评价_体系_的关键_要素_，_但_具体_分数_尚未_明确_。\n",
      "\n",
      "思考_:\n",
      "-_ 目前_任务_的主要_障碍_是无法_获取_到_具体的_合格_分数线_。\n",
      "-_ \"_供应商_资格_要求_.pdf_\"_中_提供了_评价_体系_的关键_要素_，_但没有_具体_分数_。\n",
      "-_ \"_供应商_名录_.xlsx_\"_似乎_也不_包含_关于_合格_分数线_的信息_。\n",
      "-_ 需_要_重新_审视_任务_，_找到_其他_可能_包含_合格_分数_线的_文件_或_数据_源_。\n",
      "\n",
      "推理_:\n",
      "-_ 将_再次_使用_list__files_工具_查找_可能_包含_合格_分数_线的_文件_。\n",
      "\n",
      "计划_:\n",
      "-_ 使用_list__files_工具_，_继续_查找_可能_含有_合格_分数线_信息的_文件_。\n",
      "\n",
      "输出_动作_:\n",
      "\n",
      "```_json_\n",
      "{\"_name_\":_ \"_list__files_\",_ \"_args_\":_ {}_}\n",
      "``_`\n",
      "\n",
      "在_执行_这一_步_之后_，_如果_仍未_找到_合格_分数线_的信息_，_我_建议_考虑_以下_行动_：\n",
      "\n",
      "-_ 如果_存在_其他_类似_\"_供应商_资格_要求_.pdf_\"_的_文件_，_继续_使用_ask__document_工具_查询_。\n",
      "-_ 如果_有_其他_Excel_文件_，_使用_inspect__excel_工具_探_查_。\n",
      "-_ 如果_以上_努力_均_未能_找到_具体_信息_，_可能_需要_假设_合格_分数线_是基于_满足_所有_已_知的_评价_要素_，_但_这一_假设_应在_所有_查询_尝试_之后_才_考虑_。\n",
      "\n",
      "请注意_，_以上_计划_是基于_当前_情况_的最佳_推测_，_实际_操作_中_可能_需要_根据_新_发现_的信息_进行调整_。__当前目录为： ./data\n",
      "关键_概念_:_ _供应商_达标_标准_\n",
      "\n",
      "概念_拆_解_:\n",
      "-_ _供应商_达标_标准_\n",
      " _ -_ _供应商_评价_体系_\n",
      " _ -_ 合_格_分数线_\n",
      "\n",
      "反思_:\n",
      "-_ 已经_尝试_通过_\"_供应商_资格_要求_.pdf_\"_和_\"_供应商_名录_.xlsx_\"_获取_供应商_评价_体系和_合格_分数线_的信息_，_但_未_找到_具体的_合格_分数线_。\n",
      "-_ 目前_已知_供应商_评价_体系_包含_多个_关键_要素_，_但_缺乏_具体_数值_。\n",
      "\n",
      "思考_:\n",
      "-_ 合_格_分数线_的信息_可能_不会_在_供应商_名录_中_，_更_可能_出现在_具体的_评价_标准_文件_或_招标_文件_中_。\n",
      "-_ 需_要_继续_查找_可能_包含_合格_分数_线的_文件_。\n",
      "-_ 如果_没有_其他_文件_提供_这一_信息_，_可能_需要_假设_合格_分数线_是基于_满足_所有_评价_要素_。\n",
      "\n",
      "推理_:\n",
      "-_ 将_继续_使用_list__files_工具_查找_其他_可能_含有_合格_分数_线的_文件_。\n",
      "\n",
      "计划_:\n",
      "-_ 使用_list__files_工具_，_再次_查找_可能_含有_合格_分数线_信息的_文件_。\n",
      "\n",
      "输出_动作_:\n",
      "\n",
      "```_json_\n",
      "{\"_name_\":_ \"_list__files_\",_ \"_args_\":_ {}_}\n",
      "``_`\n",
      "\n",
      "如果_这一_步_未能_找到_合格_分数线_的信息_，_将_需要_返回_到_已_知的_供应商_评价_要素_，_并_尝试_根据_这些_要素_制定_一个_假设_性的_达标_标准_，_但_这一_步骤_应在_所有_文件_查询_尝试_之后_进行_。__当前目录为： ./data\n",
      "关键_概念_:_ _供应商_达标_标准_\n",
      "\n",
      "概念_拆_解_:\n",
      "-_ _供应商_达标_标准_\n",
      " _ -_ _供应商_评价_体系_\n",
      " _ -_ 合_格_分数线_\n",
      "\n",
      "反思_:\n",
      "-_ 已经_查询_了_\"_供应商_资格_要求_.pdf_\"_和_\"_供应商_名录_.xlsx_\"，_但_未_找到_具体的_合格_分数线_。\n",
      "-_ 从_招标_资质_要求_中_推断_出_供应商_评价_体系_的关键_要素_，_但没有_具体_分数_。\n",
      "-_ 目前_已知_供应商_评价_体系_包含_多个_关键_要素_，_但_缺乏_具体_数值_。\n",
      "\n",
      "思考_:\n",
      "-_ 合_格_分数线_的信息_可能_不会_在_供应商_名录_中_，_更_可能_出现在_具体的_评价_标准_文件_或_招标_文件_中_。\n",
      "-_ 已经_多次_使用_list__files_工具_，_但_未_找到_明确_包含_合格_分数_线的_文件_。\n",
      "-_ 需_要_考虑_是否_有可能_在_\"_202_3_年_8_月_-_9_月_销售_记录_.xlsx_\"_文件_中_找到_合格_分数线_的信息_，_虽然_这个_文件_看起来_与_评价_体系_不_直接_相关_。\n",
      "-_ 如果_没有_其他_文件_提供_合格_分数线_的信息_，_可能_需要_假设_合格_分数线_是基于_满足_所有_评价_要素_。\n",
      "\n",
      "推理_:\n",
      "-_ 将_尝试_使用_inspect__excel_工具_查看_\"_202_3_年_8_月_-_9_月_销售_记录_.xlsx_\"_文件_，_看_是否能_找到_与_合格_分数线_相关的_信息_。\n",
      "\n",
      "计划_:\n",
      "-_ 使用_inspect__excel_工具_，_探_查_\"_202_3_年_8_月_-_9_月_销售_记录_.xlsx_\"_文件_中_可能_包含_的_合格_分数线_信息_。\n",
      "\n",
      "输出_动作_:\n",
      "\n",
      "```_json_\n",
      "{\"_name_\":_ \"_inspect__excel_\",_ \"_args_\":_ {\"_filename_\":_ \"_202_3_年_8_月_-_9_月_销售_记录_.xlsx_\",_ \"_n_\":_ _3_}}\n",
      "```__```_json_\n",
      "{\"_name_\":_ \"_list__files_\",_ \"_args_\":_ {}_}\n",
      "```__当前目录为： ./data\n",
      "```_json_\n",
      "{\"_name_\":_ \"_list__files_\",_ \"_args_\":_ {}_}\n",
      "```__当前目录为： ./data\n",
      "```_json_\n",
      "{\"_name_\":_ \"_list__files_\",_ \"_args_\":_ {}_}\n",
      "```__当前目录为： ./data\n",
      "```_json_\n",
      "{\"_name_\":_ \"_list__files_\",_ \"_args_\":_ {}_}\n",
      "```__当前目录为： ./data\n",
      "```_json_\n",
      "{\"_name_\":_ \"_list__files_\",_ \"_args_\":_ {}_}\n",
      "```__当前目录为： ./data\n",
      "当前目录为： ./data\n",
      "当前目录为： ./data\n",
      "当前目录为： ./data\n"
     ]
    },
    {
     "name": "stderr",
     "output_type": "stream",
     "text": [
      "Stopping agent prematurely due to triggering stop condition\n"
     ]
    },
    {
     "name": "stdout",
     "output_type": "stream",
     "text": [
      "当前目录为： ./data\n"
     ]
    },
    {
     "ename": "CancelledError",
     "evalue": "",
     "output_type": "error",
     "traceback": [
      "\u001b[0;31m---------------------------------------------------------------------------\u001b[0m",
      "\u001b[0;31mCancelledError\u001b[0m                            Traceback (most recent call last)",
      "Cell \u001b[0;32mIn[982], line 1\u001b[0m\n\u001b[0;32m----> 1\u001b[0m \u001b[38;5;28;01masync\u001b[39;00m \u001b[38;5;28;01mfor\u001b[39;00m chunk \u001b[38;5;129;01min\u001b[39;00m zhipu_cot\u001b[38;5;241m.\u001b[39mastream_events({\u001b[38;5;124m\"\u001b[39m\u001b[38;5;124minput\u001b[39m\u001b[38;5;124m\"\u001b[39m: \u001b[38;5;124m\"\u001b[39m\u001b[38;5;124m供应商达标的标准是什么？\u001b[39m\u001b[38;5;124m\"\u001b[39m}, version\u001b[38;5;241m=\u001b[39m\u001b[38;5;124m\"\u001b[39m\u001b[38;5;124mv1\u001b[39m\u001b[38;5;124m\"\u001b[39m):\n\u001b[1;32m      2\u001b[0m     event \u001b[38;5;241m=\u001b[39m chunk[\u001b[38;5;124m'\u001b[39m\u001b[38;5;124mevent\u001b[39m\u001b[38;5;124m'\u001b[39m]\n\u001b[1;32m      3\u001b[0m     \u001b[38;5;28;01mif\u001b[39;00m(event \u001b[38;5;241m==\u001b[39m \u001b[38;5;124m\"\u001b[39m\u001b[38;5;124mon_chat_model_stream\u001b[39m\u001b[38;5;124m\"\u001b[39m):\n",
      "File \u001b[0;32m~/Library/Caches/pypoetry/virtualenvs/langchain-book-u1j6yauo-py3.10/lib/python3.10/site-packages/langchain_core/runnables/base.py:905\u001b[0m, in \u001b[0;36mRunnable.astream_events\u001b[0;34m(self, input, config, version, include_names, include_types, include_tags, exclude_names, exclude_types, exclude_tags, **kwargs)\u001b[0m\n\u001b[1;32m    901\u001b[0m root_name \u001b[38;5;241m=\u001b[39m config\u001b[38;5;241m.\u001b[39mget(\u001b[38;5;124m\"\u001b[39m\u001b[38;5;124mrun_name\u001b[39m\u001b[38;5;124m\"\u001b[39m, \u001b[38;5;28mself\u001b[39m\u001b[38;5;241m.\u001b[39mget_name())\n\u001b[1;32m    903\u001b[0m \u001b[38;5;66;03m# Ignoring mypy complaint about too many different union combinations\u001b[39;00m\n\u001b[1;32m    904\u001b[0m \u001b[38;5;66;03m# This arises because many of the argument types are unions\u001b[39;00m\n\u001b[0;32m--> 905\u001b[0m \u001b[38;5;28;01masync\u001b[39;00m \u001b[38;5;28;01mfor\u001b[39;00m log \u001b[38;5;129;01min\u001b[39;00m _astream_log_implementation(  \u001b[38;5;66;03m# type: ignore[misc]\u001b[39;00m\n\u001b[1;32m    906\u001b[0m     \u001b[38;5;28mself\u001b[39m,\n\u001b[1;32m    907\u001b[0m     \u001b[38;5;28minput\u001b[39m,\n\u001b[1;32m    908\u001b[0m     config\u001b[38;5;241m=\u001b[39mconfig,\n\u001b[1;32m    909\u001b[0m     stream\u001b[38;5;241m=\u001b[39mstream,\n\u001b[1;32m    910\u001b[0m     diff\u001b[38;5;241m=\u001b[39m\u001b[38;5;28;01mTrue\u001b[39;00m,\n\u001b[1;32m    911\u001b[0m     with_streamed_output_list\u001b[38;5;241m=\u001b[39m\u001b[38;5;28;01mTrue\u001b[39;00m,\n\u001b[1;32m    912\u001b[0m     \u001b[38;5;241m*\u001b[39m\u001b[38;5;241m*\u001b[39mkwargs,\n\u001b[1;32m    913\u001b[0m ):\n\u001b[1;32m    914\u001b[0m     run_log \u001b[38;5;241m=\u001b[39m run_log \u001b[38;5;241m+\u001b[39m log\n\u001b[1;32m    916\u001b[0m     \u001b[38;5;28;01mif\u001b[39;00m \u001b[38;5;129;01mnot\u001b[39;00m encountered_start_event:\n\u001b[1;32m    917\u001b[0m         \u001b[38;5;66;03m# Yield the start event for the root runnable.\u001b[39;00m\n",
      "File \u001b[0;32m~/Library/Caches/pypoetry/virtualenvs/langchain-book-u1j6yauo-py3.10/lib/python3.10/site-packages/langchain_core/tracers/log_stream.py:602\u001b[0m, in \u001b[0;36m_astream_log_implementation\u001b[0;34m(runnable, input, config, stream, diff, with_streamed_output_list, **kwargs)\u001b[0m\n\u001b[1;32m    599\u001b[0m \u001b[38;5;28;01mtry\u001b[39;00m:\n\u001b[1;32m    600\u001b[0m     \u001b[38;5;66;03m# Yield each chunk from the output stream\u001b[39;00m\n\u001b[1;32m    601\u001b[0m     \u001b[38;5;28;01mif\u001b[39;00m diff:\n\u001b[0;32m--> 602\u001b[0m         \u001b[38;5;28;01masync\u001b[39;00m \u001b[38;5;28;01mfor\u001b[39;00m log \u001b[38;5;129;01min\u001b[39;00m stream:\n\u001b[1;32m    603\u001b[0m             \u001b[38;5;28;01myield\u001b[39;00m log\n\u001b[1;32m    604\u001b[0m     \u001b[38;5;28;01melse\u001b[39;00m:\n",
      "File \u001b[0;32m~/Library/Caches/pypoetry/virtualenvs/langchain-book-u1j6yauo-py3.10/lib/python3.10/site-packages/langchain_core/tracers/memory_stream.py:64\u001b[0m, in \u001b[0;36m_ReceiveStream.__aiter__\u001b[0;34m(self)\u001b[0m\n\u001b[1;32m     62\u001b[0m \u001b[38;5;28;01masync\u001b[39;00m \u001b[38;5;28;01mdef\u001b[39;00m \u001b[38;5;21m__aiter__\u001b[39m(\u001b[38;5;28mself\u001b[39m) \u001b[38;5;241m-\u001b[39m\u001b[38;5;241m>\u001b[39m AsyncIterator[T]:\n\u001b[1;32m     63\u001b[0m     \u001b[38;5;28;01mwhile\u001b[39;00m \u001b[38;5;28;01mTrue\u001b[39;00m:\n\u001b[0;32m---> 64\u001b[0m         item \u001b[38;5;241m=\u001b[39m \u001b[38;5;28;01mawait\u001b[39;00m \u001b[38;5;28mself\u001b[39m\u001b[38;5;241m.\u001b[39m_queue\u001b[38;5;241m.\u001b[39mget()\n\u001b[1;32m     65\u001b[0m         \u001b[38;5;28;01mif\u001b[39;00m item \u001b[38;5;129;01mis\u001b[39;00m \u001b[38;5;28mself\u001b[39m\u001b[38;5;241m.\u001b[39m_done:\n\u001b[1;32m     66\u001b[0m             \u001b[38;5;28mself\u001b[39m\u001b[38;5;241m.\u001b[39m_is_closed \u001b[38;5;241m=\u001b[39m \u001b[38;5;28;01mTrue\u001b[39;00m\n",
      "File \u001b[0;32m~/.pyenv/versions/3.10.0/lib/python3.10/asyncio/queues.py:159\u001b[0m, in \u001b[0;36mQueue.get\u001b[0;34m(self)\u001b[0m\n\u001b[1;32m    157\u001b[0m \u001b[38;5;28mself\u001b[39m\u001b[38;5;241m.\u001b[39m_getters\u001b[38;5;241m.\u001b[39mappend(getter)\n\u001b[1;32m    158\u001b[0m \u001b[38;5;28;01mtry\u001b[39;00m:\n\u001b[0;32m--> 159\u001b[0m     \u001b[38;5;28;01mawait\u001b[39;00m getter\n\u001b[1;32m    160\u001b[0m \u001b[38;5;28;01mexcept\u001b[39;00m:\n\u001b[1;32m    161\u001b[0m     getter\u001b[38;5;241m.\u001b[39mcancel()  \u001b[38;5;66;03m# Just in case getter is not done yet.\u001b[39;00m\n",
      "\u001b[0;31mCancelledError\u001b[0m: "
     ]
    }
   ],
   "source": [
    "async for chunk in zhipu_cot.astream_events({\"input\": \"供应商达标的标准是什么？\"}, version=\"v1\"):\n",
    "    event = chunk['event']\n",
    "    if(event == \"on_chat_model_stream\"):\n",
    "        if('chunk' in chunk['data']):\n",
    "            print(chunk['data']['chunk'].content, end=\"_\", flush=True)"
   ]
  },
  {
   "cell_type": "code",
   "execution_count": 983,
   "id": "8365968a-ddc6-4e46-a8c6-4273170ba30c",
   "metadata": {
    "scrolled": true
   },
   "outputs": [
    {
     "name": "stdout",
     "output_type": "stream",
     "text": [
      "关键_概念_:\n",
      "-_ _9_月份_供货_商_达标_情况_\n",
      "\n",
      "概念_拆_解_:\n",
      "-_ _9_月份_\n",
      "-_ _供货_商_\n",
      "-_ 达_标_情况_\n",
      "\n",
      "反思_:\n",
      "-_ 需_要_了解_“_达标_”_的具体_标准_。\n",
      "-_ 需_要_获取_9_月份_的_供货_商_名单_及相关_数据_。\n",
      "-_ 还_未_查询_到_任何_具体的_供货_商_达标_信息_。\n",
      "\n",
      "思考_:\n",
      "-_ 需_要先_找到_包含_供货_商_达标_信息的_文件_。\n",
      "-_ 分析_文件_内容_结构_，_确定_如何_提取_9_月份_的_供货_商_达标_信息_。\n",
      "-_ “_供货_商_”_和_“_达标_情况_”_可能_存在于_同一_Excel_文件_中_，_可以_一次性_查询_。\n",
      "\n",
      "推理_:\n",
      "-_ 使用_`_list__files_`_工具_查找_包含_达标_信息的_文件_。\n",
      "-_ 使用_`_inspect__excel_`_工具_初步_查看_文件_结构_，_确定_数据_所在_位置_。\n",
      "-_ 使用_`_excel__an_aly_se_`_工具_具体_分析_9_月份_的_供货_商_达标_情况_。\n",
      "\n",
      "计划_:\n",
      "\n",
      "当前_动作_的_执行_计划_如下_：\n",
      "-_ 使用_`_list__files_`_工具_查找_文件_。\n",
      "\n",
      "JSON_格式_输出_:\n",
      "```_json_\n",
      "{\"_name_\":_ \"_list__files_\",_ \"_args_\":_ {}_}\n",
      "```__当前目录为： ./data\n",
      "关键_概念_:_ _9_月份_供货_商_达标_情况_\n",
      "概念_拆_解_:\n",
      "-_ _9_月份_\n",
      "-_ _供货_商_\n",
      "-_ 达_标_情况_\n",
      "\n",
      "反思_:\n",
      "-_ 需_要_了解_“_达标_”_的具体_标准_。\n",
      "-_ 需_要_获取_9_月份_的_供货_商_名单_及相关_数据_。\n",
      "-_ 还_未_查询_到_任何_具体的_供货_商_达标_信息_。\n",
      "\n",
      "思考_:\n",
      "-_ 先_确定_包含_供货_商_达标_信息的_文件_。\n",
      "-_ 分析_文件_内容_结构_，_确定_如何_提取_9_月份_的_供货_商_达标_信息_。\n",
      "-_ “_供货_商_”_和_“_达标_情况_”_可能_存在于_同一_Excel_文件_中_，_可以_一次性_查询_。\n",
      "\n",
      "推理_:\n",
      "-_ 使用_`_list__files_`_工具_查找_包含_达标_信息的_文件_。\n",
      "-_ 使用_`_inspect__excel_`_工具_初步_查看_文件_结构_，_确定_数据_所在_位置_。\n",
      "-_ 使用_`_excel__an_aly_se_`_工具_具体_分析_9_月份_的_供货_商_达标_情况_。\n",
      "\n",
      "计划_:\n",
      "-_ 使用_`_list__files_`_工具_查找_文件_。\n",
      "\n",
      "JSON_格式_输出_:\n",
      "```_json_\n",
      "{\"_name_\":_ \"_list__files_\",_ \"_args_\":_ {}_}\n",
      "```__当前目录为： ./data\n",
      "关键_概念_:_ _9_月份_供货_商_达标_情况_\n",
      "概念_拆_解_:\n",
      "-_ _9_月份_\n",
      "-_ _供货_商_\n",
      "-_ 达_标_情况_\n",
      "\n",
      "反思_:\n",
      "-_ 需_要_了解_“_达标_”_的具体_标准_。\n",
      "-_ 需_要_获取_9_月份_的_供货_商_名单_及相关_数据_。\n",
      "-_ 还_未_查询_到_任何_具体的_供货_商_达标_信息_。\n",
      "\n",
      "思考_:\n",
      "-_ 通过_`_list__files_`_工具_，_我已经_找到了_可能的_文件_，_现在_需要_确定_具体_哪个_文件_包含_达标_信息_。\n",
      "-_ 使用_`_inspect__excel_`_工具_可以_查看_文件_结构_，_确定_数据_所在_位置_。\n",
      "-_ “_供货_商_”_和_“_达标_情况_”_可能_存在于_同一_Excel_文件_中_，_可以_一次性_查询_。\n",
      "\n",
      "推理_:\n",
      "-_ 下_一步_应_使用_`_inspect__excel_`_工具_初步_查看_“_202_3_年_8_月_-_9_月_销售_记录_.xlsx_”_或_“_供应商_名录_.xlsx_”_文件_的结构_，_确定_数据_所在_位置_。\n",
      "\n",
      "计划_:\n",
      "\n",
      "当前_动作_的_执行_计划_如下_：\n",
      "-_ 使用_`_inspect__excel_`_工具_初步_查看_“_202_3_年_8_月_-_9_月_销售_记录_.xlsx_”_文件_。\n",
      "\n",
      "JSON_格式_输出_:\n",
      "```_json_\n",
      "{\"_name_\":_ \"_inspect__excel_\",_ \"_args_\":_ {\"_filename_\":_ \"_202_3_年_8_月_-_9_月_销售_记录_.xlsx_\",_ \"_n_\":_ _3_}}\n",
      "```__关键_概念_:_ _9_月份_供货_商_达标_情况_\n",
      "概念_拆_解_:\n",
      "-_ _9_月份_\n",
      "-_ _供货_商_\n",
      "-_ 达_标_情况_\n",
      "\n",
      "反思_:\n",
      "-_ 已经_找到了_可能_包含_达标_信息的_文件_：“_202_3_年_8_月_-_9_月_销售_记录_.xlsx_”_。\n",
      "-_ 需_要_了解_“_达标_”_的具体_标准_，_才能_判断_供货_商_是否_达标_。\n",
      "-_ 还_未_查询_到_任何_具体的_供货_商_达标_信息_。\n",
      "\n",
      "思考_:\n",
      "-_ 通过_`_inspect__excel_`_工具_，_已经_知道了_“_202_3_年_8_月_-_9_月_销售_记录_.xlsx_”_中的_数据_结构_，_接下来_需要_确定_达标_的具体_标准_。\n",
      "-_ 达_标_标准_可能_存在于_“_供应商_资格_要求_.pdf_”_中_，_因此_需要_使用_`_ask__document_`_工具_来_查询_。\n",
      "-_ 确_定了_达标_标准_后_，_可以使用_`_excel__an_aly_se_`_工具_分析_哪些_供货_商_在_9_月份_达到了_这些_标准_。\n",
      "\n",
      "推理_:\n",
      "-_ 下_一步_应_使用_`_ask__document_`_工具_来_查询_“_供应商_资格_要求_.pdf_”_文件_中的_达标_标准_。\n",
      "\n",
      "计划_:\n",
      "\n",
      "当前_动作_的_执行_计划_如下_：\n",
      "-_ 使用_`_ask__document_`_工具_查询_“_供应商_资格_要求_.pdf_”_文件_。\n",
      "\n",
      "JSON_格式_输出_:\n",
      "```_json_\n",
      "{\"_name_\":_ \"_ask__document_\",_ \"_args_\":_ {\"_filename_\":_ \"_供应商_资格_要求_.pdf_\",_ \"_query_\":_ \"_达标_标准_是什么_？_\"}}\n",
      "```__达标|标准|指的是|意向|供应商|参与|投标|时|必须|满足|的一系列|资质|要求|。|根据|您|提供的|资料|，|达标|标准|具体|包括|：\n",
      "\n",
      "1|.| 基|本|资质|要求|：\n",
      "  | -| 拥|有|合法|有效的|营业执照|。\n",
      "  | -| 具|备|税务|登记|证|，|并|符合|国家|税收|法律法规|。\n",
      "  | -| 拥|有|有效的|组织|机构|代码|证|。\n",
      "\n",
      "2|.| 经营|和|财务|能力|：\n",
      "  | -| 与|公司|合作|月份|的产品|月|销售|总额|不得|低于|人民币|3|万元|。\n",
      "  | -| 具|备|健全|和|稳定的|财务|状况|，|以及|良好的|信用|记录|。\n",
      "  | -| 拥|有|足够的|流动|资金|来|支持|合同|执行|。\n",
      "\n",
      "3|.| 产品|和服务|质量|：\n",
      "  | -| 提|供|的产品|必须|符合|国家|及|行业标准|，|并通过|相关|质量|认证|。\n",
      "  | -| 拥|有|高标准|的服务|体系|，|并|承诺|在|合作|期间|提供|持续|、|稳定|、|优质|的服务|。\n",
      "\n",
      "4|.| 行|业|经验和|声誉|：\n",
      "  | -| 具|有|至少|五|年的|相关|行业|经验|。\n",
      "  | -| 拥|有|良好的|业务|声誉|和|客户|满意度|记录|。\n",
      "\n",
      "5|.| 社|会|责任|和|可持续|性|：\n",
      "  | -| 虽|然|在|您|提供的|资料|中没有|详细|列出|具体|要求|，|但|一般|而言|，|供应商|应|承担|相应的|社会责任|，|并在|经营|活动中|体现|可持续|性|原则|。\n",
      "\n",
      "以上|这些|要求|是|意向|供应商|在|投标|过程中|必须|达到|的标准|，|只有|满足|这些|条件的|供应商|才有|资格|参与|投标|。||关键_概念_:_ _9_月份_供货_商_达标_情况_\n",
      "概念_拆_解_:\n",
      "-_ _9_月份_\n",
      "-_ _供货_商_\n",
      "-_ 达_标_情况_\n",
      "\n",
      "反思_:\n",
      "-_ 已经_明确了_达标_的具体_标准_。\n",
      "-_ 已_找到了_可能_包含_9_月份_供货_商_名单_及相关_数据的_文件_：“_202_3_年_8_月_-_9_月_销售_记录_.xlsx_”_。\n",
      "-_ 还_未_查询_到_任何_具体的_供货_商_达标_信息_。\n",
      "\n",
      "思考_:\n",
      "-_ 下_一步_应该_分析_“_202_3_年_8_月_-_9_月_销售_记录_.xlsx_”_文件_，_以_确定_哪些_供货_商_在_9_月份_达到了_标准_。\n",
      "-_ 需_要_筛选_出_9_月份_的销售_记录_，_并_检查_每个_供货_商_的销售_总额_是否_达到了_人民币_3_万元_。\n",
      "-_ 可以_使用_`_excel__an_aly_se_`_工具_进行_这一_步_操作_。\n",
      "\n",
      "推理_:\n",
      "-_ 下_一步_应_使用_`_excel__an_aly_se_`_工具_分析_“_202_3_年_8_月_-_9_月_销售_记录_.xlsx_”_文件_，_筛选_出_9_月份_达标_供货_商_。\n",
      "\n",
      "计划_:\n",
      "\n",
      "当前_动作_的_执行_计划_如下_：\n",
      "-_ 使用_`_excel__an_aly_se_`_工具_分析_“_202_3_年_8_月_-_9_月_销售_记录_.xlsx_”_文件_，_提取_9_月份_供货_商_达标_情况_。\n",
      "\n",
      "JSON_格式_输出_:\n",
      "```_json_\n",
      "{\"_name_\":_ \"_excel__an_aly_se_\",_ \"_args_\":_ {\"_query_\":_ \"_select_ _供应商_ where_ 销_售_总额_ >=_ _300_00_ and_ 销_售_日期_ like_ '_202_3_-_09_%_'\",_ \"_filename_\":_ \"_202_3_年_8_月_-_9_月_销售_记录_.xlsx_\"}}\n",
      "```__\u001b[34m\n",
      "#!/usr/bin/env python\u001b[0m\n",
      "\u001b[34m# 导入所需库\n",
      "import pandas as pd\n",
      "from datetime import datetime\n",
      "\n",
      "# 读取数据\n",
      "df = pd.read_excel('./data/2023年8月-9月销售记录.xlsx', sheet_name='2023年8月-9月销售记录')\n",
      "\n",
      "# 筛选2023年9月的销售记录\n",
      "sep_sales = df[df['销售日期'].str.startswith('2023-09')]\n",
      "\n",
      "# 计算每个供应商的销售总额\n",
      "supplier_sales = sep_sales.groupby('供应商')['单价(元)'].sum()\n",
      "\n",
      "# 筛选出销售总额大于等于30000的供应商\n",
      "qualified_suppliers = supplier_sales[supplier_sales >= 30000].index.tolist()\n",
      "\n",
      "# 输出结果\n",
      "print(\"在2023年9月份销售总额大于等于30000的供应商有：\", qualified_suppliers)\u001b[0m关键_概念_:_ _9_月份_供货_商_达标_情况_\n",
      "概念_拆_解_:\n",
      "-_ _9_月份_\n",
      "-_ _供货_商_\n",
      "-_ 达_标_情况_\n",
      "\n",
      "反思_:\n",
      "-_ 已_明确了_达标_的具体_标准_。\n",
      "-_ 需_要从_“_202_3_年_8_月_-_9_月_销售_记录_.xlsx_”_中_提取_9_月份_的销售_数据_，_分析_哪些_供货_商_达到了_销售_总额_要求_。\n",
      "-_ 上_一次_执行_计划_失败_，_因为_查询_语句_中的_“_销售_总额_”_和_“_销售_日期_”_未_正确_对应_Excel_文件_中的_列_名_。\n",
      "\n",
      "思考_:\n",
      "-_ 需_要_修正_查询_语句_中的_列_名_，_确保_它们_与_Excel_文件_中的_实际_列_名_一致_。\n",
      "-_ 可以_通过_`_inspect__excel_`_工具_再次_查看_文件_结构_，_确认_正确的_列_名_。\n",
      "-_ 分析_9_月份_每个_供货_商_的销售_总额_，_筛选_出_达标_供货_商_。\n",
      "\n",
      "推理_:\n",
      "-_ 下_一步_应_使用_`_inspect__excel_`_工具_再次_查看_“_202_3_年_8_月_-_9_月_销售_记录_.xlsx_”_文件_结构_，_确认_列_名_。\n",
      "\n",
      "计划_:\n",
      "\n",
      "当前_动作_的_执行_计划_如下_：\n",
      "-_ 使用_`_inspect__excel_`_工具_再次_查看_“_202_3_年_8_月_-_9_月_销售_记录_.xlsx_”_文件_。\n",
      "\n",
      "JSON_格式_输出_:\n",
      "```_json_\n",
      "{\"_name_\":_ \"_inspect__excel_\",_ \"_args_\":_ {\"_filename_\":_ \"_202_3_年_8_月_-_9_月_销售_记录_.xlsx_\",_ \"_n_\":_ _3_}}\n",
      "```__```_json_\n",
      "{\"_name_\":_ \"_excel__an_aly_se_\",_ \"_args_\":_ {\"_query_\":_ \"_SELECT_ _供应商_,_ SUM_(_单价_*_销售_量_)_ AS_ 销_售_总额_ WHERE_ 销_售_日期_ LIKE_ '_202_3_-_09_%'_ GROUP_ BY_ _供应商_ H_AVING_ 销_售_总额_ >=_ _300_00_\",_ \"_filename_\":_ \"_202_3_年_8_月_-_9_月_销售_记录_.xlsx_\"}}\n",
      "```__\u001b[34m\n",
      "#!/usr/bin/env python\u001b[0m\n",
      "\u001b[34m# 导入需要的库\n",
      "import pandas as pd\n",
      "from datetime import datetime\n",
      "\n",
      "# 读取数据\n",
      "df = pd.read_excel('./data/2023年8月-9月销售记录.xlsx', sheet_name='2023年8月-9月销售记录')\n",
      "\n",
      "# 筛选2023年9月的销售记录\n",
      "pattern = '2023-09%'\n",
      "df_2023_september = df[df['销售日期'].str.contains(pattern)]\n",
      "\n",
      "# 计算每个供应商的销售总额\n",
      "df_2023_september['销售总额'] = df_2023_september['单价(元)'] * df_2023_september['销售量']\n",
      "\n",
      "# 根据用户输入的查询条件进行分组求和\n",
      "grouped_df = df_2023_september.groupby('供应商').agg({'销售总额': 'sum'}).reset_index()\n",
      "\n",
      "# 筛选出销售总额大于等于30000的记录\n",
      "filtered_df = grouped_df[grouped_df['销售总额'] >= 30000]\n",
      "\n",
      "# 输出结果\n",
      "print(filtered_df)\u001b[0m```_json_\n",
      "{\"_name_\":_ \"_excel__an_aly_se_\",_ \"_args_\":_ {\"_query_\":_ \"_SELECT_ _供应商_,_ SUM_(_单价_*_销售_量_)_ AS_ 销_售_总额_ WHERE_ 销_售_日期_ LIKE_ '_202_3_-_09_%'_ GROUP_ BY_ _供应商_ H_AVING_ 销_售_总额_ >=_ _300_00_\",_ \"_filename_\":_ \"_202_3_年_8_月_-_9_月_销售_记录_.xlsx_\"}}\n",
      "```__\u001b[34m\n",
      "#!/usr/bin/env python\u001b[0m\n",
      "\u001b[34m# 导入必要的库\n",
      "import pandas as pd\n",
      "\n",
      "# 读取Excel文件\n",
      "df = pd.read_excel('./data/2023年8月-9月销售记录.xlsx', sheet_name='2023年8月-9月销售记录')\n",
      "\n",
      "# 根据用户输入条件筛选数据\n",
      "filtered_df = df[df['销售日期'].str.startswith('2023-09')]\n",
      "\n",
      "# 计算每个供应商的销售总额\n",
      "grouped_df = filtered_df.groupby('供应商').agg({'单价(元)': 'sum', '销售量': 'sum'})\n",
      "grouped_df['销售总额'] = grouped_df['单价(元)'] * grouped_df['销售量']\n",
      "\n",
      "# 应用HAVING子句的条件\n",
      "result_df = grouped_df[grouped_df['销售总额'] >= 30000]\n",
      "\n",
      "# 输出结果\n",
      "print(result_df)\u001b[0m```_json_\n",
      "{\"_name_\":_ \"_excel__an_aly_se_\",_ \"_args_\":_ {\"_query_\":_ \"_SELECT_ _供应商_,_ SUM_(_单价_*_销售_量_)_ AS_ 销_售_总额_ WHERE_ 销_售_日期_ LIKE_ '_202_3_-_09_%'_ GROUP_ BY_ _供应商_ H_AVING_ 销_售_总额_ >=_ _300_00_\",_ \"_filename_\":_ \"_202_3_年_8_月_-_9_月_销售_记录_.xlsx_\"}}\n",
      "```__\u001b[34m\n",
      "#!/usr/bin/env python\u001b[0m\n",
      "\u001b[34m# 导入必要的库\n",
      "import pandas as pd\n",
      "\n",
      "# 读取Excel文件\n",
      "df = pd.read_excel('./data/2023年8月-9月销售记录.xlsx', sheet_name='2023年8月-9月销售记录')\n",
      "\n",
      "# 筛选销售日期为2023年9月的记录\n",
      "df_2023_09 = df[df['销售日期'].str.startswith('2023-09')]\n",
      "\n",
      "# 计算每个供应商的销售总额\n",
      "df_2023_09['销售总额'] = df_2023_09['单价(元)'] * df_2023_09['销售量']\n",
      "\n",
      "# 根据用户的要求，进行分组求和，并筛选销售总额大于等于30000的记录\n",
      "result = df_2023_09.groupby('供应商')['销售总额'].sum().reset_index()\n",
      "result = result[result['销售总额'] >= 30000]\n",
      "\n",
      "# 打印结果\n",
      "print(result)\u001b[0m```_json_\n",
      "{\"_name_\":_ \"_excel__an_aly_se_\",_ \"_args_\":_ {\"_query_\":_ \"_SELECT_ _供应商_,_ SUM_(_单价_*_销售_量_)_ AS_ 销_售_总额_ WHERE_ 销_售_日期_ LIKE_ '_202_3_-_09_%'_ GROUP_ BY_ _供应商_ H_AVING_ 销_售_总额_ >=_ _300_00_\",_ \"_filename_\":_ \"_202_3_年_8_月_-_9_月_销售_记录_.xlsx_\"}}\n",
      "```__\u001b[34m\n",
      "#!/usr/bin/env python\u001b[0m\n",
      "\u001b[34mimport pandas as pd\n",
      "\n",
      "# 读取指定文件\n",
      "file_path = './data/2023年8月-9月销售记录.xlsx'\n",
      "sheet_name = '2023年8月-9月销售记录'\n",
      "\n",
      "# 读取Excel文件\n",
      "df = pd.read_excel(file_path, sheet_name=sheet_name)\n",
      "\n",
      "# 筛选销售日期为2023年9月的记录\n",
      " september_sales = df[df['销售日期'].str.startswith('2023-09')]\n",
      "\n",
      "# 计算每个供应商的销售总额\n",
      "supplier_sales = september_sales.groupby('供应商').agg({'单价(元)': 'sum', '销售量': 'sum'})\n",
      "supplier_sales['销售总额'] = supplier_sales['单价(元)'] * supplier_sales['销售量']\n",
      "\n",
      "# 应用HAVING子句的条件，筛选销售总额大于等于30000的供应商\n",
      "top_suppliers = supplier_sales[supplier_sales['销售总额'] >= 30000]\n",
      "\n",
      "# 输出结果\n",
      "print(top_suppliers)\u001b[0m```_json_\n",
      "{\"_name_\":_ \"_excel__an_aly_se_\",_ \"_args_\":_ {\"_query_\":_ \"_SELECT_ _供应商_,_ SUM_(_单价_*_销售_量_)_ AS_ 销_售_总额_ WHERE_ 销_售_日期_ LIKE_ '_202_3_-_09_%'_ GROUP_ BY_ _供应商_ H_AVING_ 销_售_总额_ >=_ _300_00_\",_ \"_filename_\":_ \"_202_3_年_8_月_-_9_月_销售_记录_.xlsx_\"}}\n",
      "```__\u001b[34m\n",
      "#!/usr/bin/env python\u001b[0m\n",
      "\u001b[34m# 导入必要的库\n",
      "import pandas as pd\n",
      "import re\n",
      "\n",
      "# 固定文件路径\n",
      "file_path = './data/2023年8月-9月销售记录.xlsx'\n",
      "\n",
      "# 读取Excel文件\n",
      "df = pd.read_excel(file_path)\n",
      "\n",
      "# 筛选销售日期为2023年9月的记录\n",
      "pattern = '2023-09%'\n",
      "filtered_df = df[df['销售日期'].str.contains(pattern)]\n",
      "\n",
      "# 计算每个供应商的销售总额\n",
      "grouped_df = filtered_df.groupby('供应商').agg({'单价(元)': 'sum', '销售量': 'sum'})\n",
      "grouped_df['销售总额'] = grouped_df['单价(元)'] * grouped_df['销售量']\n",
      "\n",
      "# 筛选出销售总额大于等于30000的供应商\n",
      "result = grouped_df[grouped_df['销售总额'] >= 30000]\n",
      "\n",
      "# 输出结果\n",
      "print(result)\u001b[0m```_json_\n",
      "{\"_name_\":_ \"_excel__an_aly_se_\",_ \"_args_\":_ {\"_query_\":_ \"_SELECT_ _供应商_,_ SUM_(_单价_*_销售_量_)_ AS_ 销_售_总额_ WHERE_ 销_售_日期_ LIKE_ '_202_3_-_09_%'_ GROUP_ BY_ _供应商_ H_AVING_ 销_售_总额_ >=_ _300_00_\",_ \"_filename_\":_ \"_202_3_年_8_月_-_9_月_销售_记录_.xlsx_\"}}\n",
      "```__\u001b[34m\n",
      "#!/usr/bin/env python\u001b[0m\n",
      "\u001b[34m# 导入pandas库用于数据处理\n",
      "import pandas as pd\n",
      "\n",
      "# 读取Excel文件\n",
      "file_path = './data/2023年8月-9月销售记录.xlsx'\n",
      "df = pd.read_excel(file_path, sheet_name='2023年8月-9月销售记录')\n",
      "\n",
      "# 过滤销售日期为2023年9月的记录\n",
      "filtered_df = df[df['销售日期'].str.startswith('2023-09')]\n",
      "\n",
      "# 计算每个供应商的销售总额\n",
      "filtered_df['销售总额'] = filtered_df['单价(元)'] * filtered_df['销售量']\n",
      "\n",
      "# 根据供应商分组，并计算每个供应商的销售总额\n",
      "grouped_df = filtered_df.groupby('供应商')['销售总额'].sum().reset_index()\n",
      "\n",
      "# 过滤出销售总额大于等于30000的记录\n",
      "result_df = grouped_df[grouped_df['销售总额'] >= 30000]\n",
      "\n",
      "# 输出结果\n",
      "print(result_df)\u001b[0m```_json_\n",
      "{\"_name_\":_ \"_excel__an_aly_se_\",_ \"_args_\":_ {\"_query_\":_ \"_SELECT_ _供应商_,_ SUM_(_单价_*_销售_量_)_ AS_ 销_售_总额_ WHERE_ 销_售_日期_ LIKE_ '_202_3_-_09_%'_ GROUP_ BY_ _供应商_ H_AVING_ 销_售_总额_ >=_ _300_00_\",_ \"_filename_\":_ \"_202_3_年_8_月_-_9_月_销售_记录_.xlsx_\"}}\n",
      "```__\u001b[34m\n",
      "#!/usr/bin/env python\u001b[0m\n",
      "\u001b[34m# 导入必要的库\n",
      "import pandas as pd\n",
      "\n",
      "# 读取Excel文件\n",
      "df = pd.read_excel('./data/2023年8月-9月销售记录.xlsx', sheet_name='2023年8月-9月销售记录')\n",
      "\n",
      "# 根据用户输入进行操作\n",
      "# 筛选销售日期为2023年9月的记录\n",
      "df_filtered = df[df['销售日期'].str.startswith('2023-09')]\n",
      "\n",
      "# 计算销售总额（单价*销售量）\n",
      "df_filtered['销售总额'] = df_filtered['单价(元)'] * df_filtered['销售量']\n",
      "\n",
      "# 根据供应商分组，并计算每个供应商的总销售额\n",
      "df_grouped = df_filtered.groupby('供应商')['销售总额'].sum().reset_index()\n",
      "\n",
      "# 筛选销售总额大于等于30000的记录\n",
      "df_final = df_grouped[df_grouped['销售总额'] >= 30000]\n",
      "\n",
      "# 输出结果\n",
      "print(df_final)\u001b[0m```_json_\n",
      "{\"_name_\":_ \"_excel__an_aly_se_\",_ \"_args_\":_ {\"_query_\":_ \"_SELECT_ _供应商_,_ SUM_(_单价_*_销售_量_)_ AS_ 销_售_总额_ WHERE_ 销_售_日期_ LIKE_ '_202_3_-_09_%'_ GROUP_ BY_ _供应商_ H_AVING_ 销_售_总额_ >=_ _300_00_\",_ \"_filename_\":_ \"_202_3_年_8_月_-_9_月_销售_记录_.xlsx_\"}}\n",
      "```__\u001b[34m\n",
      "#!/usr/bin/env python\u001b[0m\n",
      "\u001b[34m# 导入必要的库\n",
      "import pandas as pd\n",
      "\n",
      "# 读取Excel文件\n",
      "df = pd.read_excel('./data/2023年8月-9月销售记录.xlsx', sheet_name='2023年8月-9月销售记录')\n",
      "\n",
      "# 筛选销售日期为2023年9月的记录\n",
      "filtered_df = df[df['销售日期'].str.startswith('2023-09')]\n",
      "\n",
      "# 计算每个供应商的销售总额，即单价*销售量\n",
      "filtered_df['销售总额'] = filtered_df['单价(元)'] * filtered_df['销售量']\n",
      "\n",
      "# 分组并求和\n",
      "grouped_df = filtered_df.groupby('供应商')['销售总额'].sum().reset_index()\n",
      "\n",
      "# 筛选出销售总额大于或等于30000的供应商\n",
      "result_df = grouped_df[grouped_df['销售总额'] >= 30000]\n",
      "\n",
      "# 输出结果\n",
      "print(\"供应商及销售总额（大于或等于30000）:\")\n",
      "print(result_df.to_markdown(index=False))\u001b[0m```_json_\n",
      "{\"_name_\":_ \"_excel__an_aly_se_\",_ \"_args_\":_ {\"_query_\":_ \"_SELECT_ _供应商_,_ SUM_(_单价_*_销售_量_)_ AS_ 销_售_总额_ WHERE_ 销_售_日期_ LIKE_ '_202_3_-_09_%'_ GROUP_ BY_ _供应商_ H_AVING_ 销_售_总额_ >=_ _300_00_\",_ \"_filename_\":_ \"_202_3_年_8_月_-_9_月_销售_记录_.xlsx_\"}}\n",
      "```__\u001b[34m\n",
      "#!/usr/bin/env python\u001b[0m\n",
      "\u001b[34m# 导入必要的库\n",
      "import pandas as pd\n",
      "\n",
      "# 读取Excel文件\n",
      "file_path = './data/2023年8月-9月销售记录.xlsx'\n",
      "df = pd.read_excel(file_path, sheet_name='2023年8月-9月销售记录')\n",
      "\n",
      "# 筛选2023年9月的销售记录\n",
      "sep_2023_sales = df[df['销售日期'].str.startswith('2023-09')]\n",
      "\n",
      "# 计算每个供应商的销售总额\n",
      "supplier_sales = sep_2023_sales.groupby('供应商')['单价(元)','销售量'].sum().reset_index()\n",
      "supplier_sales['销售总额'] = supplier_sales['单价(元)'] * supplier_sales['销售量']\n",
      "\n",
      "# 筛选出销售总额大于等于30,000的供应商\n",
      "top_suppliers = supplier_sales[supplier_sales['销售总额'] >= 30000]\n",
      "\n",
      "# 输出结果\n",
      "print(\"供应商和对应的销售总额（销售总额大于等于30,000）为：\")\n",
      "print(top_suppliers[['供应商', '销售总额']])\u001b[0m"
     ]
    },
    {
     "name": "stderr",
     "output_type": "stream",
     "text": [
      "Stopping agent prematurely due to triggering stop condition\n"
     ]
    }
   ],
   "source": [
    "async for chunk in zhipu_cot.astream_events({\"input\": \"9月份有哪些供货商达标？\"}, version=\"v1\"):\n",
    "    event = chunk['event']\n",
    "    if(event == \"on_chat_model_stream\"):\n",
    "        if('chunk' in chunk['data']):\n",
    "            print(chunk['data']['chunk'].content, end=\"_\", flush=True)"
   ]
  },
  {
   "cell_type": "markdown",
   "id": "ada91d56-ad01-4b5f-8127-fb9535cd56b5",
   "metadata": {},
   "source": [
    "### ✍️ OpenAI / GPT4 + create_cot_agent\n",
    "\n",
    "实践证明，GPT4 确实比 GLM4 具备更强的推理能力。<br>\n",
    "但也不必气馁：\n",
    "- 一是国内大模型每3-6个月会发布一次更新，逐步追赶GPT；\n",
    "- 二是对业务领域做一定的提示语调优可以弥补推理能力。"
   ]
  },
  {
   "cell_type": "code",
   "execution_count": null,
   "id": "483e9e06-178c-4235-97c0-2a5078cfe462",
   "metadata": {},
   "outputs": [],
   "source": [
    "gpt_cot = create_cot_executor(\n",
    "    ChatOpenAI(model=\"gpt-4-0125-preview\"),\n",
    "    [\n",
    "        # 列举本地文档\n",
    "        list_files,\n",
    "        # RAG 查询文档\n",
    "        ask_document,\n",
    "        # 探查 Excel 文件\n",
    "        inspect_excel,\n",
    "        # Excel 数据分析\n",
    "        excel_analyse,\n",
    "        # 结束工具\n",
    "        FINISH,\n",
    "    ]\n",
    ")"
   ]
  },
  {
   "cell_type": "code",
   "execution_count": null,
   "id": "6db1e202-d83c-490e-ace0-5c64bddcf61b",
   "metadata": {
    "scrolled": true
   },
   "outputs": [],
   "source": [
    "\n",
    "async for chunk in gpt_cot.astream_events({\"input\": \"供应商达标的标准是什么？\"}, version=\"v1\"):\n",
    "    event = chunk['event']\n",
    "    if(event == \"on_chat_model_stream\"):\n",
    "        if('chunk' in chunk['data']):\n",
    "            print(chunk['data']['chunk'].content, end=\"_\", flush=True)"
   ]
  },
  {
   "cell_type": "code",
   "execution_count": null,
   "id": "3ea24e8d-579c-430f-98b2-ef9efe29c4e5",
   "metadata": {
    "scrolled": true
   },
   "outputs": [],
   "source": [
    "\n",
    "async for chunk in gpt_cot.astream_events({\"input\": \"9月份有哪些供货商达标？？\"}, version=\"v1\"):\n",
    "    event = chunk['event']\n",
    "    if(event == \"on_chat_model_stream\"):\n",
    "        if('chunk' in chunk['data']):\n",
    "            print(chunk['data']['chunk'].content, end=\"_\", flush=True)"
   ]
  },
  {
   "cell_type": "markdown",
   "id": "284f9b10-8af0-4a42-80be-935f1fc6c853",
   "metadata": {},
   "source": [
    "# ❤️ 知识点小结\n",
    "\n",
    "- 解构源码 create_openai_tools_agent 并实践\n",
    "- 解构源码 create_react_agent 并实践\n",
    "- 学习如何自定义符合 AgentExecutor 的 AutoGPT 智能体\n",
    "\n",
    "**以及：**\n",
    "\n",
    "|langchain智能体|支持多工具|支持多参数|推理过程优化|\n",
    "|:---|:---:|:---:|:---:|\n",
    "|create_openai_tools_agent|支持|支持|依赖大模型能力|\n",
    "|create_react_agent|不支持|不支持|可以支持|\n",
    "|自定义CoT|可以支持|可以支持|可以支持|"
   ]
  },
  {
   "cell_type": "markdown",
   "id": "52bf21ca-cf12-4cd3-a53c-f451ccafa852",
   "metadata": {},
   "source": [
    "# 结束了\n",
    "\n",
    "## 🌈 彩蛋"
   ]
  },
  {
   "cell_type": "markdown",
   "id": "58f41457-4ed8-4ddf-b9d4-5fd5fc55854e",
   "metadata": {},
   "source": [
    "### 1、推荐使用 LangGraph\n",
    "- Runnable + Chain 时代：优点是方便管理状态；缺点是无逻辑定制空间；\n",
    "- Runnable + LCEL 时代：优点是自定义执行逻辑；缺点是不方便管理状态（不是不能）；\n",
    "- Runnable + LCEL + Langgraph 时代：全是优点；硬要说缺点，是要求你熟悉一点图的知识。\n",
    "\n",
    "**langgraph 比 LCEL 增加的能力**\n",
    "- 增加对智能体逻辑控制的能力\n",
    "- 增加全局状态管理（智能体和工具都可以参与管理）\n",
    "- 增加对记忆的深度管理\n",
    "- 增加对工具的流式输出控制\n",
    "\n",
    "**Langgraph 中一些较新的智能体论文实践...**\n",
    "\n",
    "- [Agent Supervisor](https://github.com/langchain-ai/langgraph/blob/main/examples/multi_agent/agent_supervisor.ipynb)\n",
    "- [Hierarchical Agent Teams](https://github.com/langchain-ai/langgraph/blob/main/examples/multi_agent/hierarchical_agent_teams.ipynb)\n",
    "- [Multi Agent Collaboration](https://github.com/langchain-ai/langgraph/blob/main/examples/multi_agent/multi-agent-collaboration.ipynb)\n",
    "- [Plan And Execute](https://github.com/langchain-ai/langgraph/blob/main/examples/plan-and-execute/plan-and-execute.ipynb)\n",
    "- [ReWoo](https://github.com/langchain-ai/langgraph/blob/main/examples/rewoo/rewoo.ipynb)\n",
    "- [Reflexion](https://github.com/langchain-ai/langgraph/blob/main/examples/reflexion/reflexion.ipynb)\n",
    "- [Self Discover](https://github.com/langchain-ai/langgraph/blob/main/examples/self-discover/self-discover.ipynb)\n",
    "- ..."
   ]
  },
  {
   "cell_type": "markdown",
   "id": "d1abbc4b-297f-480e-819a-41df0f181204",
   "metadata": {},
   "source": [
    "### 2、关于 RunnableLambda\n",
    "\n",
    "<div class=\"alert alert-info\">\n",
    "    <b>💡 有趣的代码实验</b><br>\n",
    "    问题1 你可以从这个示例扩展出更复杂的逻辑吗？<br>\n",
    "    问题2 为何 RunnableLambda 可以实现流输出？<br>    \n",
    "</div>"
   ]
  },
  {
   "cell_type": "code",
   "execution_count": 984,
   "id": "c6c84d35-81cd-4674-8f39-262d2c664875",
   "metadata": {},
   "outputs": [],
   "source": [
    "from langchain_core.runnables import chain\n",
    "import re\n",
    "\n",
    "@chain\n",
    "def choose_llm(input: str):\n",
    "    if(re.search(\"GLM\", input)):\n",
    "        return ChatZhipuAI()\n",
    "    else:\n",
    "        return ChatOpenAI()"
   ]
  },
  {
   "cell_type": "code",
   "execution_count": 985,
   "id": "9620ed74-c7b2-4121-9a1c-64b7ce9ce60d",
   "metadata": {},
   "outputs": [
    {
     "name": "stdout",
     "output_type": "stream",
     "text": [
      "|是|的|，|我|是|由|Open|AI|开|发|的|G|PT|（|Gener|ative| Pre|-trained| Transformer|）|语|言|模|型|创建|的|。||"
     ]
    }
   ],
   "source": [
    "for x in choose_llm.stream(\"请告诉我你来自哪里？GPT吗？\"):\n",
    "    print(x.content, end=\"|\")"
   ]
  },
  {
   "cell_type": "code",
   "execution_count": 986,
   "id": "6ab37de6-b1c4-496e-86ac-796c52eb7eb3",
   "metadata": {},
   "outputs": [
    {
     "name": "stdout",
     "output_type": "stream",
     "text": [
      "是的|，|我|来自|清华大学| K|EG| 实|验|室|和|智|谱| AI| 公司|于| |202|3| 年|共同|训练|的语言|模型| GL|M|。|我是|基于|这个|模型|的人工|智能|助手|。||"
     ]
    }
   ],
   "source": [
    "for x in choose_llm.stream(\"请告诉我你来自哪里？GLM吗？\"):\n",
    "    print(x.content, end=\"|\")"
   ]
  },
  {
   "cell_type": "code",
   "execution_count": null,
   "id": "c0396469-4475-415e-bff3-f90a98c602ae",
   "metadata": {},
   "outputs": [],
   "source": []
  }
 ],
 "metadata": {
  "kernelspec": {
   "display_name": "langchani-book-py3.10-ipykernel",
   "language": "python",
   "name": "langchani-book-py3.10-ipykernel"
  },
  "language_info": {
   "codemirror_mode": {
    "name": "ipython",
    "version": 3
   },
   "file_extension": ".py",
   "mimetype": "text/x-python",
   "name": "python",
   "nbconvert_exporter": "python",
   "pygments_lexer": "ipython3",
   "version": "3.10.0"
  }
 },
 "nbformat": 4,
 "nbformat_minor": 5
}
