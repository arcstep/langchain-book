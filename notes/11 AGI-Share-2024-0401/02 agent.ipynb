{
 "cells": [
  {
   "cell_type": "markdown",
   "id": "9e5b5362-cf90-4d8a-9c70-3db56e3f8dcc",
   "metadata": {},
   "source": [
    "# 🦜🔗 LangChain核心源代码解读（下）"
   ]
  },
  {
   "cell_type": "code",
   "execution_count": 1,
   "id": "0d32d06a-cbb8-4081-b93e-e85d62c6025b",
   "metadata": {
    "editable": true,
    "slideshow": {
     "slide_type": ""
    },
    "tags": []
   },
   "outputs": [
    {
     "data": {
      "text/plain": [
       "True"
      ]
     },
     "execution_count": 1,
     "metadata": {},
     "output_type": "execute_result"
    }
   ],
   "source": [
    "import os\n",
    "from dotenv import load_dotenv, find_dotenv\n",
    "load_dotenv(find_dotenv(), override=True)"
   ]
  },
  {
   "cell_type": "markdown",
   "id": "e64598d5-cdac-4a60-96d9-52b44730d6a2",
   "metadata": {},
   "source": [
    "# （二）解读源码，深度定制自己的智能体"
   ]
  },
  {
   "cell_type": "markdown",
   "id": "5aacf2f7-f113-4451-a94c-b6911334f87f",
   "metadata": {},
   "source": [
    "## 下半场的闲聊"
   ]
  },
  {
   "cell_type": "markdown",
   "id": "99a655d7-e62f-481b-be3b-f814f009119a",
   "metadata": {},
   "source": [
    "- 🌹 [LangChain 中的 Agent](https://python.langchain.com/docs/modules/agents/agent_types/)\n",
    "- 🌹 [Chain 遗产](https://python.langchain.com/docs/modules/chains)"
   ]
  },
  {
   "cell_type": "markdown",
   "id": "4d2acb4e-bdbf-4353-a29b-6d7f013ca0b1",
   "metadata": {},
   "source": [
    "### 🌹 智能体相关类整理"
   ]
  },
  {
   "cell_type": "markdown",
   "id": "6bdbd141-3473-4ebb-a078-e300f5da9668",
   "metadata": {},
   "source": [
    "**（1）智能体类型**\n",
    "- AgentType\n",
    "    - ZERO_SHOT_REACT_DESCRIPTION（`ReAct`的一般实现）\n",
    "    - REACT_DOCSTORE（ReAct，支持RAG）\n",
    "    - SELF_ASK_WITH_SEARCH（使用`search 工具`不断反思获得答案）\n",
    "    - CONVERSATIONAL_REACT_DESCRIPTION（`ReAct`，支持对话）\n",
    "    - CHAT_ZERO_SHOT_REACT_DESCRIPTION（同上）\n",
    "    - CHAT_CONVERSATIONAL_REACT_DESCRIPTION（同上）\n",
    "    - STRUCTURED_CHAT_ZERO_SHOT_REACT_DESCRIPTION（`ReAct`，为对话模型优化，支持多输入）\n",
    "    - OPENAI_FUNCTIONS（支持`OpenAI Function Calling`）\n",
    "    - OPENAI_MULTI_FUNCTIONS（支持`OpenAI Function Calling`，支持多函数调度）\n",
    "\n",
    "**（2）智能体执行器子组件：**\n",
    "\n",
    "- `AgentAction`\n",
    "    - `AgentActionMessageLog`\n",
    "- `AgentStep`\n",
    "- `AgentFinish`\n",
    "\n",
    "**（3）单动智能体：**\n",
    "- `BaseSingleActionAgent`\n",
    "    - RunnableAgent\n",
    "    - LLMSingleActionAgent（__deprecated__：`create_***_agent`）\n",
    "    - XMLAgent（__deprecated__：create_xml_agent）\n",
    "    - Agent\n",
    "        - ChatAgent（__deprecated__：`create_react_agent`）\n",
    "        - ConversationalAgent（__deprecated__：`create_react_agent`）\n",
    "        - ConversationalChatAgent（__deprecated__：`create_json_chat_agent`）\n",
    "        - StructuredChatAgent（__deprecated__：`create_structured_chat_agent`）\n",
    "        - ZeroShotAgent（__deprecated__：`create_react_agent`）\n",
    "        - ReActDocstoreAgent（__deprecated__）\n",
    "            - ReActTextWorldAgent（__deprecated__）\n",
    "        - SelfAskWithSearchAgent（__deprecated__：`create_self_ask_with_search`）\n",
    "    - OpenAIFunctionsAgent（__deprecated__：`create_openai_functions_agent`）\n",
    "\n",
    "**（4）多动智能体：**\n",
    "- BaseMultiActionAgent\n",
    "    - RunnableMultiActionAgent\n",
    "    - OpenAIMultiFunctionsAgent（__deprecated__：`create_openai_tools_agent`）\n",
    "\n",
    "**（5）Assistant：**\n",
    "- Runnable\n",
    "    - RunnableSerializable\n",
    "        - Chain\n",
    "            - `AgentExecutor`\n",
    "                - MRKLChain（__deprecated__）\n",
    "                - ReActChain（__deprecated__）\n",
    "                - SelfAskWithSearchChain（__deprecated__）\n",
    "        - `OpenAIAssistantRunnable`\n",
    "\n",
    "**（6）提示语模板：**\n",
    "- Runnable\n",
    "    - RunnableSerializable\n",
    "        - BasePromptTemplate [Dict, PromptValue]\n",
    "            - BaseChatPromptTemplate\n",
    "                - ChatPromptTemplate\n",
    "                    - `AgentScratchPadChatPromptTemplate`\n",
    "\n",
    "**（7）输出解析：**\n",
    "- Runnable\n",
    "    - RunnableSerializable\n",
    "        - BaseOutputParser\n",
    "            - `AgentOutputParser`\n",
    "            - `MultiActionAgentOutputParser`"
   ]
  },
  {
   "cell_type": "markdown",
   "id": "c2661030-84bd-47c6-8194-1d4570cb144a",
   "metadata": {},
   "source": [
    "### 🌹 从源码中搜寻 openai 的痕迹\n",
    "\n",
    "- [partners/openai/langchain_openai/__init__.py](https://github.com/langchain-ai/langchain/blob/master/libs/partners/openai/langchain_openai/__init__.py)\n",
    "- [core/langchain_core/utils/function_calling.py](https://github.com/langchain-ai/langchain/blob/master/libs/core/langchain_core/utils/function_calling.py)\n",
    "- [core/langchain_core/output_parsers/openai_tools.py](https://github.com/langchain-ai/langchain/blob/master/libs/core/langchain_core/output_parsers/openai_tools.py)\n",
    "- [core/langchain_core/output_parsers/openai_functions.py](https://github.com/langchain-ai/langchain/blob/master/libs/core/langchain_core/output_parsers/openai_functions.py)"
   ]
  },
  {
   "cell_type": "markdown",
   "id": "270bb25b-fbf8-468a-801e-0d38adc61349",
   "metadata": {},
   "source": [
    "## 4、 openai风格智能体"
   ]
  },
  {
   "cell_type": "markdown",
   "id": "da691810-ef18-4c59-ac4e-d74a28bba153",
   "metadata": {},
   "source": [
    "### 🌹 Function Calling 是怎么回事"
   ]
  },
  {
   "cell_type": "markdown",
   "id": "a3864684-218b-4b10-90cf-3c3b5efa512a",
   "metadata": {},
   "source": [
    "<div class=\"alert alert-warning\">\n",
    "    <b>⚠️ 思考：</b><br>\n",
    "    convert_to_openai_function 和 convert_to_openai_tool 的区别是什么？\n",
    "</div>\n",
    "\n",
    "**🌞 参考：**\n",
    "- [查看 convert_to_openai_tool 的实现源码](https://github.com/langchain-ai/langchain/blob/c93d4ea91cfcf55dfe871931d42aa22562f8dae2/libs/core/langchain_core/utils/function_calling.py#L323-L341)\n"
   ]
  },
  {
   "cell_type": "markdown",
   "id": "ea227f07-bf62-4d1d-a39f-b97e3b8cc2c8",
   "metadata": {},
   "source": [
    "**回顾上面的例子：**"
   ]
  },
  {
   "cell_type": "code",
   "execution_count": 2,
   "id": "7c9d92b8-30b9-488c-a193-0de19047bece",
   "metadata": {},
   "outputs": [],
   "source": [
    "from langchain.tools import tool\n",
    "from langchain_core.utils.function_calling import convert_to_openai_tool, convert_to_openai_function\n",
    "import re\n",
    "\n",
    "@tool\n",
    "def ask_neighber(query: str) -> str:\n",
    "    \"\"\"我在玩找人的游戏，我知道你找的人住在哪个房间\"\"\"\n",
    "    if(re.search(\"马冬梅\", query)):\n",
    "        return \"楼上322\"\n",
    "    else:\n",
    "        return \"我不清楚\""
   ]
  },
  {
   "cell_type": "code",
   "execution_count": 3,
   "id": "48061e6c-3779-4ccb-818d-c3c6a1aaaa5e",
   "metadata": {},
   "outputs": [
    {
     "data": {
      "text/plain": [
       "{'name': 'ask_neighber',\n",
       " 'description': 'ask_neighber(query: str) -> str - 我在玩找人的游戏，我知道你找的人住在哪个房间',\n",
       " 'parameters': {'type': 'object',\n",
       "  'properties': {'query': {'type': 'string'}},\n",
       "  'required': ['query']}}"
      ]
     },
     "execution_count": 3,
     "metadata": {},
     "output_type": "execute_result"
    }
   ],
   "source": [
    "convert_to_openai_function(ask_neighber)"
   ]
  },
  {
   "cell_type": "code",
   "execution_count": 4,
   "id": "97bafddf-c37d-4636-9fd9-c11335d28ab0",
   "metadata": {},
   "outputs": [
    {
     "data": {
      "text/plain": [
       "{'type': 'function',\n",
       " 'function': {'name': 'ask_neighber',\n",
       "  'description': 'ask_neighber(query: str) -> str - 我在玩找人的游戏，我知道你找的人住在哪个房间',\n",
       "  'parameters': {'type': 'object',\n",
       "   'properties': {'query': {'type': 'string'}},\n",
       "   'required': ['query']}}}"
      ]
     },
     "execution_count": 4,
     "metadata": {},
     "output_type": "execute_result"
    }
   ],
   "source": [
    "convert_to_openai_tool(ask_neighber)"
   ]
  },
  {
   "cell_type": "markdown",
   "id": "0e1b9595-323d-44df-a0cb-002bf55f1bfa",
   "metadata": {},
   "source": [
    "### 🌹 阅读 create_openai_tool 源码，解读运行过程"
   ]
  },
  {
   "cell_type": "markdown",
   "id": "47f9e6bf-a3e6-4916-9fd1-4c353f2fe475",
   "metadata": {},
   "source": [
    "[langchain/agents/openai_tools/base.py](https://github.com/langchain-ai/langchain/blob/239dd7c0c03d0430c55c2c41cf56cf0dd537199b/libs/langchain/langchain/agents/openai_tools/base.py#L15-L97)\n",
    "\n",
    "```python\n",
    "def create_openai_tools_agent(\n",
    "    llm: BaseLanguageModel, tools: Sequence[BaseTool], prompt: ChatPromptTemplate\n",
    ") -> Runnable:\n",
    "    \"\"\"Create an agent that uses OpenAI tools.\"\"\"\n",
    "\n",
    "    missing_vars = {\"agent_scratchpad\"}.difference(prompt.input_variables)\n",
    "    if missing_vars:\n",
    "        raise ValueError(f\"Prompt missing required variables: {missing_vars}\")\n",
    "\n",
    "    llm_with_tools = llm.bind(tools=[convert_to_openai_tool(tool) for tool in tools])\n",
    "\n",
    "    agent = (\n",
    "        RunnablePassthrough.assign(\n",
    "            agent_scratchpad=lambda x: format_to_openai_tool_messages(\n",
    "                x[\"intermediate_steps\"]\n",
    "            )\n",
    "        )\n",
    "        | prompt\n",
    "        | llm_with_tools\n",
    "        | OpenAIToolsAgentOutputParser()\n",
    "    )\n",
    "    return agent\n",
    "```"
   ]
  },
  {
   "cell_type": "markdown",
   "id": "13e4248d-d0b2-46ce-aedd-7579a9710553",
   "metadata": {},
   "source": [
    "### ✍️ 最原始的版本"
   ]
  },
  {
   "cell_type": "markdown",
   "id": "0830cfd0-0c6b-4de6-8d13-71b758705cc1",
   "metadata": {},
   "source": [
    "### ✍️ 代码复用的版本"
   ]
  },
  {
   "cell_type": "markdown",
   "id": "e7e575ef-202b-42b8-9eb9-0043b7733542",
   "metadata": {},
   "source": [
    "## 5、 react风格智能体"
   ]
  },
  {
   "cell_type": "markdown",
   "id": "1537231d-185f-4cb6-9936-2add5fc61fe2",
   "metadata": {},
   "source": [
    "### 🌹 阅读 create_react_agent 源码，解读运行过程"
   ]
  },
  {
   "cell_type": "markdown",
   "id": "36958211-1b78-43e3-a211-c4dfc8541b63",
   "metadata": {},
   "source": [
    "- 比原生 Function-Calling 多了必要的解析过程\n",
    "- 基于提示语可以构建类似原生支持 Function-Calling 的智能体运行逻辑吗？"
   ]
  },
  {
   "cell_type": "markdown",
   "id": "34cc2799-ca9b-417c-9a72-d41e4c9e4fb3",
   "metadata": {},
   "source": [
    "### ✍️ 一步一步测试 create_react_agent 过程"
   ]
  },
  {
   "cell_type": "markdown",
   "id": "4ee0286d-a411-4929-b09e-538b65ab982a",
   "metadata": {},
   "source": [
    "### ✍️ 自定义一个 ReAct 智能体"
   ]
  },
  {
   "cell_type": "markdown",
   "id": "cad31612-b006-4803-96a9-6bb824b1c25a",
   "metadata": {},
   "source": [
    "- 一个简单的智能体需求：与AI玩一个捉迷藏游戏\n",
    "- react智能体的prompt如何工作\n",
    "- 中间步骤的一步步产生过程\n",
    "- action如何解析"
   ]
  },
  {
   "cell_type": "markdown",
   "id": "4ac7cee4-e12e-44c4-b48b-e74df9bb0db9",
   "metadata": {},
   "source": [
    "## 6、在LCEL框架下重新《手撕AutoGPT》\n",
    "\n",
    "### ✍️ 自定义《手撕AutoGPT》智能体的提示语\n",
    "### ✍️ 自定义一个智能体 OutputParser"
   ]
  },
  {
   "cell_type": "markdown",
   "id": "4d5bd7d1-572a-447b-89b6-528b45258be9",
   "metadata": {},
   "source": [
    "- 工具：定义一个简单工具\n",
    "- 智能体：\n",
    "    - Tools-Calling 智能体\n",
    "    - ReAct 智能体\n",
    "- 执行器：AgentExecutor"
   ]
  },
  {
   "cell_type": "markdown",
   "id": "0cba7531-66a6-4fda-81dc-03a87a2a637f",
   "metadata": {},
   "source": [
    "难点：\n",
    "- 官方例子和内置智能体无法支持pydantic参数解析（智谱AI等推理能力较弱的模型可以使用）"
   ]
  },
  {
   "cell_type": "markdown",
   "id": "bfe191e1-310b-4b02-b9e8-466688cdfc75",
   "metadata": {},
   "source": [
    "### 🌹 阅读 AgentExcutor 源码：流支持"
   ]
  },
  {
   "cell_type": "markdown",
   "id": "b1979ad9-71e7-4847-bc0b-fe9ad62bcf63",
   "metadata": {},
   "source": [
    "### 🌹 AgentExcutor中的记忆体"
   ]
  },
  {
   "cell_type": "markdown",
   "id": "86a62f75-52bd-462b-a396-8fb9751fc84a",
   "metadata": {},
   "source": [
    "## 7、Langgraph中的惊喜\n",
    "\n",
    "**一起来打开眼界**\n",
    "\n",
    "列举示例中对各种新的智能体论文实践..."
   ]
  },
  {
   "cell_type": "markdown",
   "id": "52bf21ca-cf12-4cd3-a53c-f451ccafa852",
   "metadata": {},
   "source": [
    "# 结束了"
   ]
  },
  {
   "cell_type": "markdown",
   "id": "284f9b10-8af0-4a42-80be-935f1fc6c853",
   "metadata": {},
   "source": [
    "## ❤️ 总结\n",
    "\n",
    "- 我们一起阅读了langchain的源代码结构和部份细节\n",
    "    - BaseLanguageModel / BaseChatModel / \n",
    "    - Runnable\n",
    "    - LambdaRunnable\n",
    "    - Chain\n",
    "    - AgentExcutor\n",
    "    - langgraph.prebuild\n",
    "- 我们学习了如何自己动手集成大模型到 langchain 中\n",
    "- 我们拆解了langchain的基石组件：Runnable\n",
    "- 我们拆解了langchain的核心逻辑能力：LCEL\n",
    "- 我们拆解了langchain的最新逻辑能力：langgraph\n",
    "- 我们动手做了一些代码实践"
   ]
  },
  {
   "cell_type": "code",
   "execution_count": null,
   "id": "c25aedb9-6e61-43df-b423-7682b24b666f",
   "metadata": {},
   "outputs": [],
   "source": []
  }
 ],
 "metadata": {
  "kernelspec": {
   "display_name": "langchani-book-py3.10-ipykernel",
   "language": "python",
   "name": "langchani-book-py3.10-ipykernel"
  },
  "language_info": {
   "codemirror_mode": {
    "name": "ipython",
    "version": 3
   },
   "file_extension": ".py",
   "mimetype": "text/x-python",
   "name": "python",
   "nbconvert_exporter": "python",
   "pygments_lexer": "ipython3",
   "version": "3.10.0"
  }
 },
 "nbformat": 4,
 "nbformat_minor": 5
}
