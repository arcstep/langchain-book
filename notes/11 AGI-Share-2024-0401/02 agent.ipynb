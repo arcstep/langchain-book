{
 "cells": [
  {
   "cell_type": "markdown",
   "id": "9e5b5362-cf90-4d8a-9c70-3db56e3f8dcc",
   "metadata": {},
   "source": [
    "# 🦜🔗 LangChain核心源代码解读：关于LLM和Agent（下）"
   ]
  },
  {
   "cell_type": "markdown",
   "id": "8dd052d2-91ac-475b-8fd8-fa2fce941ea6",
   "metadata": {},
   "source": [
    "# 课程开始"
   ]
  },
  {
   "cell_type": "markdown",
   "id": "5aacf2f7-f113-4451-a94c-b6911334f87f",
   "metadata": {},
   "source": [
    "## 下半场的闲聊"
   ]
  },
  {
   "cell_type": "markdown",
   "id": "99a655d7-e62f-481b-be3b-f814f009119a",
   "metadata": {},
   "source": [
    "- 🌹 [LangChain 中的 Agent](https://python.langchain.com/docs/modules/agents/agent_types/)\n",
    "- 🌹 [Chain 遗产](https://python.langchain.com/docs/modules/chains)"
   ]
  },
  {
   "cell_type": "markdown",
   "id": "4d2acb4e-bdbf-4353-a29b-6d7f013ca0b1",
   "metadata": {},
   "source": [
    "### 🌹 智能体相关类整理"
   ]
  },
  {
   "cell_type": "markdown",
   "id": "6bdbd141-3473-4ebb-a078-e300f5da9668",
   "metadata": {
    "jp-MarkdownHeadingCollapsed": true
   },
   "source": [
    "**（1）智能体类型**\n",
    "- AgentType\n",
    "    - ZERO_SHOT_REACT_DESCRIPTION（`ReAct`的一般实现）\n",
    "    - REACT_DOCSTORE（ReAct，支持RAG）\n",
    "    - SELF_ASK_WITH_SEARCH（使用`search 工具`不断反思获得答案）\n",
    "    - CONVERSATIONAL_REACT_DESCRIPTION（`ReAct`，支持对话）\n",
    "    - CHAT_ZERO_SHOT_REACT_DESCRIPTION（同上）\n",
    "    - CHAT_CONVERSATIONAL_REACT_DESCRIPTION（同上）\n",
    "    - STRUCTURED_CHAT_ZERO_SHOT_REACT_DESCRIPTION（`ReAct`，为对话模型优化，支持多输入）\n",
    "    - OPENAI_FUNCTIONS（支持`OpenAI Function Calling`）\n",
    "    - OPENAI_MULTI_FUNCTIONS（支持`OpenAI Function Calling`，支持多函数调度）\n",
    "\n",
    "----\n",
    "**（2）智能体执行器子组件：**\n",
    "\n",
    "[查看 langchain_core/agents.py 源码](https://github.com/langchain-ai/langchain/blob/239dd7c0c03d0430c55c2c41cf56cf0dd537199b/libs/core/langchain_core/agents.py)\n",
    "\n",
    "- `AgentAction`\n",
    "    - `AgentActionMessageLog`\n",
    "- `AgentStep`\n",
    "- `AgentFinish`\n",
    "\n",
    "----\n",
    "**（3）单动智能体：**\n",
    "- `BaseSingleActionAgent`\n",
    "    - RunnableAgent\n",
    "    - LLMSingleActionAgent（__deprecated__：`create_***_agent`）\n",
    "    - XMLAgent（__deprecated__：create_xml_agent）\n",
    "    - Agent\n",
    "        - ChatAgent（__deprecated__：`create_react_agent`）\n",
    "        - ConversationalAgent（__deprecated__：`create_react_agent`）\n",
    "        - ConversationalChatAgent（__deprecated__：`create_json_chat_agent`）\n",
    "        - StructuredChatAgent（__deprecated__：`create_structured_chat_agent`）\n",
    "        - ZeroShotAgent（__deprecated__：`create_react_agent`）\n",
    "        - ReActDocstoreAgent（__deprecated__）\n",
    "            - ReActTextWorldAgent（__deprecated__）\n",
    "        - SelfAskWithSearchAgent（__deprecated__：`create_self_ask_with_search`）\n",
    "    - OpenAIFunctionsAgent（__deprecated__：`create_openai_functions_agent`）\n",
    "\n",
    "----\n",
    "**（4）多动智能体：**\n",
    "- BaseMultiActionAgent\n",
    "    - RunnableMultiActionAgent\n",
    "    - OpenAIMultiFunctionsAgent（__deprecated__：`create_openai_tools_agent`）\n",
    "\n",
    "----\n",
    "**（5）Assistant：**\n",
    "- Runnable\n",
    "    - RunnableSerializable\n",
    "        - Chain\n",
    "            - `AgentExecutor`\n",
    "                - MRKLChain（__deprecated__）\n",
    "                - ReActChain（__deprecated__）\n",
    "                - SelfAskWithSearchChain（__deprecated__）\n",
    "        - `OpenAIAssistantRunnable`\n",
    "\n",
    "----\n",
    "**（6）提示语模板：**\n",
    "- Runnable\n",
    "    - RunnableSerializable\n",
    "        - BasePromptTemplate [Dict, PromptValue]\n",
    "            - BaseChatPromptTemplate\n",
    "                - ChatPromptTemplate\n",
    "                    - `AgentScratchPadChatPromptTemplate`\n",
    "\n",
    "----\n",
    "**（7）输出解析：**\n",
    "- Runnable\n",
    "    - RunnableSerializable\n",
    "        - BaseOutputParser\n",
    "            - `AgentOutputParser`\n",
    "            - `MultiActionAgentOutputParser`"
   ]
  },
  {
   "cell_type": "markdown",
   "id": "c2661030-84bd-47c6-8194-1d4570cb144a",
   "metadata": {},
   "source": [
    "### 🌹 从源码中看 openai 作为先驱的影响\n",
    "\n",
    "- [partners/openai/langchain_openai/chat_models/base.py（OpenAI模型）](https://github.com/langchain-ai/langchain/blob/master/libs/partners/openai/langchain_openai/chat_models/base.py)\n",
    "- [community/langchain_community/adapters/openai.py（OpenAI风格API转换）](https://github.com/langchain-ai/langchain/blob/master/libs/community/langchain_community/adapters/openai.py)\n",
    "- [core/langchain_core/utils/function_calling.py（OpenAI风格回调工具函数）](https://github.com/langchain-ai/langchain/blob/master/libs/core/langchain_core/utils/function_calling.py)\n",
    "- [core/langchain_core/output_parsers/openai_tools.py（OpenAI风格输出解析）](https://github.com/langchain-ai/langchain/blob/master/libs/core/langchain_core/output_parsers/openai_tools.py)\n",
    "- [core/langchain_core/output_parsers/openai_functions.py（OpenAI风格输出解析）](https://github.com/langchain-ai/langchain/blob/master/libs/core/langchain_core/output_parsers/openai_functions.py)"
   ]
  },
  {
   "cell_type": "markdown",
   "id": "6142438a-78bf-4cfc-aa37-02cb219047b3",
   "metadata": {},
   "source": [
    "# （二）解读源码，拆解和自定义智能体"
   ]
  },
  {
   "cell_type": "markdown",
   "id": "2f0c9102-787d-4efe-bebb-4acaa397b46b",
   "metadata": {},
   "source": [
    "<div class=\"alert alert-info\">\n",
    "    <b>干货从这里开始！</b><br>\n",
    "    接下来的例子中，会穿插 langchian 源码解读。\n",
    "</div>"
   ]
  },
  {
   "cell_type": "code",
   "execution_count": 699,
   "id": "4860d2d9-e16e-4077-8e5e-be72f92777b6",
   "metadata": {},
   "outputs": [],
   "source": [
    "# 加载 .env 到环境变量\n",
    "import os\n",
    "from dotenv import load_dotenv, find_dotenv\n",
    "load_dotenv(find_dotenv(), override=True)\n",
    "\n",
    "# 《手撕 AutoGPT》中的有趣小工具\n",
    "from colorama import init, Fore, Back, Style\n",
    "import sys\n",
    "\n",
    "THOUGHT_COLOR = Fore.GREEN\n",
    "OBSERVATION_COLOR = Fore.YELLOW\n",
    "ROUND_COLOR = Fore.RED\n",
    "CODE_COLOR = Fore.BLUE\n",
    "\n",
    "def color_print(text, color=None, end=\"\\n\"):\n",
    "    if color is not None:\n",
    "        content = color + text + Style.RESET_ALL + end\n",
    "    else:\n",
    "        content = text + end\n",
    "    sys.stdout.write(content)\n",
    "    sys.stdout.flush()"
   ]
  },
  {
   "cell_type": "markdown",
   "id": "270bb25b-fbf8-468a-801e-0d38adc61349",
   "metadata": {},
   "source": [
    "## 4、解读 OpenAI 工具回调风格智能体"
   ]
  },
  {
   "cell_type": "markdown",
   "id": "3c182357-9e1e-4036-ad7c-e7159d69796b",
   "metadata": {},
   "source": [
    "### ✍️ create_openai_executor：拆解 OpenAI 工具回调智能体的定义过程"
   ]
  },
  {
   "cell_type": "markdown",
   "id": "d96fdb2b-8b94-478b-8204-b2264f23823a",
   "metadata": {},
   "source": [
    "![还是那个故事，但这次我们让老大爷聪明一点...如果可以的话。](./madongmei.gif)"
   ]
  },
  {
   "cell_type": "code",
   "execution_count": 568,
   "id": "cbde4eac-9718-4556-a79e-4d74475a6b81",
   "metadata": {},
   "outputs": [],
   "source": [
    "# from langchain_openai import ChatOpenAI\n",
    "from langchain_zhipu import ChatZhipuAI\n",
    "from langchain.agents import AgentExecutor, Tool, create_openai_tools_agent\n",
    "from langchain import hub\n",
    "from langchain.tools import tool\n",
    "from langchain_core.utils.function_calling import convert_to_openai_tool, convert_to_openai_function\n",
    "import re\n",
    "\n",
    "@tool\n",
    "def ask_neighber(query: str) -> str:\n",
    "    \"\"\"想问你找的人住哪里就问我吧，我是楼下老大爷\"\"\"\n",
    "    if(re.search(\"马冬梅\", query)):\n",
    "        return \"马冬梅住在楼上322。\"\n",
    "    else:\n",
    "        return \"我不清楚\"\n",
    "\n",
    "def create_openai_executor(llm, tools):\n",
    "    \"\"\"\n",
    "    使用openai智能体定义一个应用\n",
    "    \"\"\"\n",
    "    # 定义 prompt\n",
    "    prompt = hub.pull(\"hwchase17/openai-tools-agent\")\n",
    "    # 定义 Agent\n",
    "    agent = create_openai_tools_agent(llm, tools, prompt)\n",
    "    # 定义 AgentExecutor\n",
    "    executor = AgentExecutor(agent=agent, tools=tools, verbose=True, handle_parsing_errors=False)\n",
    "\n",
    "    return executor\n",
    "\n",
    "neighber = create_openai_executor(ChatZhipuAI(), [ask_neighber])"
   ]
  },
  {
   "cell_type": "markdown",
   "id": "70b02e0c-154a-4bfb-84cb-096f6a95d685",
   "metadata": {},
   "source": [
    "### 🌹 prompt： 观察 OpenAI 智能体的提示语"
   ]
  },
  {
   "cell_type": "markdown",
   "id": "eb242bb3-ddfd-4d41-8c83-2aa1d595d658",
   "metadata": {},
   "source": [
    "#### （1）从 Langsmith 的 hub 下载 hwchase17/openai-tools-agent"
   ]
  },
  {
   "cell_type": "markdown",
   "id": "87972ce9-815d-461a-995c-32b356c7ffef",
   "metadata": {},
   "source": [
    "[查看 hub.pull(\"hwchase17/openai-tools-agent\")](https://smith.langchain.com/hub/hwchase17/openai-tools-agent)"
   ]
  },
  {
   "cell_type": "markdown",
   "id": "a0bf6a6c-010c-4205-8c9e-47977e75e6b9",
   "metadata": {},
   "source": [
    "#### （2）等价的自定义 Prompt 模板"
   ]
  },
  {
   "cell_type": "code",
   "execution_count": 50,
   "id": "2dd9751f-85b3-4b87-bc2e-de179c591752",
   "metadata": {},
   "outputs": [],
   "source": [
    "from langchain_core.prompts import ChatPromptTemplate\n",
    "from langchain.prompts import MessagesPlaceholder\n",
    "\n",
    "# openai agent\n",
    "prompt = ChatPromptTemplate.from_messages([\n",
    "    (\"system\", \"You are a helpful assistant\"),\n",
    "    MessagesPlaceholder(\"chat_history\"),\n",
    "    (\"human\", \"{input}\"),\n",
    "    MessagesPlaceholder(\"agent_scratchpad\"),\n",
    "])"
   ]
  },
  {
   "cell_type": "code",
   "execution_count": 58,
   "id": "20ae236a-0407-4296-b473-d04dbe605e88",
   "metadata": {},
   "outputs": [
    {
     "data": {
      "text/plain": [
       "ChatPromptValue(messages=[SystemMessage(content='You are a helpful assistant'), HumanMessage(content='请问马冬梅的家在哪里？')])"
      ]
     },
     "execution_count": 58,
     "metadata": {},
     "output_type": "execute_result"
    }
   ],
   "source": [
    "prompt.invoke({\n",
    "    \"input\": \"请问马冬梅的家在哪里？\",\n",
    "    \"chat_history\": [],\n",
    "    \"agent_scratchpad\": []\n",
    "})"
   ]
  },
  {
   "cell_type": "markdown",
   "id": "bd8ac141-5874-4717-a72b-db95e66e3cc0",
   "metadata": {},
   "source": [
    "### 🌹 agent：阅读 create_openai_tools_agent 源码"
   ]
  },
  {
   "cell_type": "markdown",
   "id": "cf6096ec-803f-443b-842a-9f5d889703e8",
   "metadata": {},
   "source": [
    "[查看 langchain/agents/openai_tools/base.py 源码](https://github.com/langchain-ai/langchain/blob/239dd7c0c03d0430c55c2c41cf56cf0dd537199b/libs/langchain/langchain/agents/openai_tools/base.py#L15-L97)"
   ]
  },
  {
   "cell_type": "markdown",
   "id": "b53e5e93-8a82-48b0-ace0-1ed14ff25689",
   "metadata": {
    "jp-MarkdownHeadingCollapsed": true
   },
   "source": [
    "```python\n",
    "def create_openai_tools_agent(\n",
    "    llm: BaseLanguageModel, tools: Sequence[BaseTool], prompt: ChatPromptTemplate\n",
    ") -> Runnable:\n",
    "    \"\"\"Create an agent that uses OpenAI tools.\"\"\"\n",
    "\n",
    "    missing_vars = {\"agent_scratchpad\"}.difference(prompt.input_variables)\n",
    "    if missing_vars:\n",
    "        raise ValueError(f\"Prompt missing required variables: {missing_vars}\")\n",
    "\n",
    "    llm_with_tools = llm.bind(tools=[convert_to_openai_tool(tool) for tool in tools])\n",
    "\n",
    "    agent = (\n",
    "        RunnablePassthrough.assign(\n",
    "            agent_scratchpad=lambda x: format_to_openai_tool_messages(\n",
    "                x[\"intermediate_steps\"]\n",
    "            )\n",
    "        )\n",
    "        | prompt\n",
    "        | llm_with_tools\n",
    "        | OpenAIToolsAgentOutputParser()\n",
    "    )\n",
    "    return agent\n",
    "```"
   ]
  },
  {
   "cell_type": "markdown",
   "id": "a87c7944-801f-439c-bed7-8c5e3e8317cc",
   "metadata": {},
   "source": [
    "### 🌹 executor： 阅读 AgentExcutor 源码"
   ]
  },
  {
   "cell_type": "markdown",
   "id": "67a057c3-40ed-4ddc-873c-aa6b30842187",
   "metadata": {},
   "source": [
    "[查看 AgentExcutor 源码](https://github.com/langchain-ai/langchain/blob/239dd7c0c03d0430c55c2c41cf56cf0dd537199b/libs/langchain/langchain/agents/agent.py#L915)\n",
    "\n",
    "- 代码中的运行逻辑非常复杂，因此我们可以通过下面的方式研究其实际运行过程。\n",
    "- 作为 Chain 子类，AgentExcutor 覆写了 stream 方法。"
   ]
  },
  {
   "cell_type": "markdown",
   "id": "4b4729ef-baa1-4741-85d8-15d8a89c4a46",
   "metadata": {},
   "source": [
    "### 🌹 run：观察 OpenAI 智能体的运行过程"
   ]
  },
  {
   "cell_type": "markdown",
   "id": "0e339f1d-3ea6-45c4-8d6a-a5ff118cebaa",
   "metadata": {},
   "source": [
    "#### （1）简单执行：invoke"
   ]
  },
  {
   "cell_type": "code",
   "execution_count": 121,
   "id": "f4722734-d500-4724-a924-38a1223fe85d",
   "metadata": {},
   "outputs": [
    {
     "name": "stdout",
     "output_type": "stream",
     "text": [
      "\n",
      "\n",
      "\u001b[1m> Entering new AgentExecutor chain...\u001b[0m\n",
      "\u001b[32;1m\u001b[1;3m\n",
      "Invoking: `ask_neighber` with `{'query': '马冬梅住哪里'}`\n",
      "\n",
      "\n",
      "\u001b[0m\u001b[36;1m\u001b[1;3m楼上322\u001b[0m\u001b[32;1m\u001b[1;3m根据楼下老大爷的回答，马冬梅住在楼上322。\u001b[0m\n",
      "\n",
      "\u001b[1m> Finished chain.\u001b[0m\n"
     ]
    },
    {
     "data": {
      "text/plain": [
       "{'input': '马冬梅住哪里', 'output': '根据楼下老大爷的回答，马冬梅住在楼上322。'}"
      ]
     },
     "execution_count": 121,
     "metadata": {},
     "output_type": "execute_result"
    }
   ],
   "source": [
    "# invoke\n",
    "neighber.invoke({\"input\":\"马冬梅住哪里\"})"
   ]
  },
  {
   "cell_type": "markdown",
   "id": "9c8a8351-d72b-4613-a820-1680b4c1e2f5",
   "metadata": {},
   "source": [
    "#### （2）流输出：stream（仅智能体中的流）"
   ]
  },
  {
   "cell_type": "code",
   "execution_count": 114,
   "id": "ae095682-60f7-46ab-9e4f-07474bc48353",
   "metadata": {},
   "outputs": [
    {
     "name": "stdout",
     "output_type": "stream",
     "text": [
      "\n",
      "\n",
      "\u001b[1m> Entering new AgentExecutor chain...\u001b[0m\n",
      "{'actions': [OpenAIToolAgentAction(tool='ask_neighber', tool_input={'query': '马冬梅住哪里'}, log=\"\\nInvoking: `ask_neighber` with `{'query': '马冬梅住哪里'}`\\n\\n\\n\", message_log=[AIMessageChunk(content='', additional_kwargs={'tool_calls': [{'index': 0, 'id': 'call_8516974814413003915', 'function': {'arguments': '{\"query\":\"马冬梅住哪里\"}', 'name': 'ask_neighber'}, 'type': 'function'}]})], tool_call_id='call_8516974814413003915')], 'messages': [AIMessageChunk(content='', additional_kwargs={'tool_calls': [{'index': 0, 'id': 'call_8516974814413003915', 'function': {'arguments': '{\"query\":\"马冬梅住哪里\"}', 'name': 'ask_neighber'}, 'type': 'function'}]})]}\n",
      "\u001b[32;1m\u001b[1;3m\n",
      "Invoking: `ask_neighber` with `{'query': '马冬梅住哪里'}`\n",
      "\n",
      "\n",
      "\u001b[0m\u001b[36;1m\u001b[1;3m楼上322\u001b[0m{'steps': [AgentStep(action=OpenAIToolAgentAction(tool='ask_neighber', tool_input={'query': '马冬梅住哪里'}, log=\"\\nInvoking: `ask_neighber` with `{'query': '马冬梅住哪里'}`\\n\\n\\n\", message_log=[AIMessageChunk(content='', additional_kwargs={'tool_calls': [{'index': 0, 'id': 'call_8516974814413003915', 'function': {'arguments': '{\"query\":\"马冬梅住哪里\"}', 'name': 'ask_neighber'}, 'type': 'function'}]})], tool_call_id='call_8516974814413003915'), observation='楼上322')], 'messages': [FunctionMessage(content='楼上322', name='ask_neighber')]}\n",
      "\u001b[32;1m\u001b[1;3m根据我的查询结果，马冬梅住在楼上322房间。\u001b[0m\n",
      "\n",
      "\u001b[1m> Finished chain.\u001b[0m\n",
      "{'output': '根据我的查询结果，马冬梅住在楼上322房间。', 'messages': [AIMessage(content='根据我的查询结果，马冬梅住在楼上322房间。')]}\n"
     ]
    }
   ],
   "source": [
    "# stream\n",
    "for s in neighber.stream({\"input\":\"马冬梅住哪里\"}):\n",
    "    print(s)"
   ]
  },
  {
   "cell_type": "markdown",
   "id": "67cd1500-560b-4247-88a7-4b5dd5adab6a",
   "metadata": {},
   "source": [
    "#### （3）还是要使用事件流：astream_events"
   ]
  },
  {
   "cell_type": "markdown",
   "id": "f05eb804-9355-4abe-b9b6-91101cc4ed3b",
   "metadata": {},
   "source": [
    "**看看方法 astream_events 的能力：**"
   ]
  },
  {
   "cell_type": "code",
   "execution_count": 14,
   "id": "df1aab2d-9243-4916-bc85-1d684ad99e5f",
   "metadata": {},
   "outputs": [
    {
     "name": "stdout",
     "output_type": "stream",
     "text": [
      "AgentExecutor\n",
      "\n",
      "\u001b[1m> Entering new AgentExecutor chain...\u001b[0m\n",
      " [] on_chain_start\n",
      "RunnableSequence [] on_chain_start\n",
      "RunnableAssign<agent_scratchpad> ['seq:step:1'] on_chain_start\n",
      "RunnableAssign<agent_scratchpad> ['seq:step:1'] on_chain_stream\n",
      "RunnableParallel<agent_scratchpad> [] on_chain_start\n",
      "RunnableLambda ['map:key:agent_scratchpad'] on_chain_start\n",
      "RunnableLambda ['map:key:agent_scratchpad'] on_chain_stream\n",
      "RunnableParallel<agent_scratchpad> [] on_chain_stream\n",
      "RunnableAssign<agent_scratchpad> ['seq:step:1'] on_chain_stream\n",
      "RunnableLambda ['map:key:agent_scratchpad'] on_chain_end\n",
      "RunnableParallel<agent_scratchpad> [] on_chain_end\n",
      "RunnableAssign<agent_scratchpad> ['seq:step:1'] on_chain_end\n",
      "ChatPromptTemplate ['seq:step:2'] on_prompt_start\n",
      "ChatPromptTemplate ['seq:step:2'] on_prompt_end\n",
      "ChatZhipuAI ['seq:step:3'] on_chat_model_start\n",
      "ChatZhipuAI ['seq:step:3'] on_chat_model_stream\n",
      "ChatZhipuAI ['seq:step:3'] on_chat_model_stream\n",
      "ChatZhipuAI ['seq:step:3'] on_chat_model_end\n",
      "OpenAIToolsAgentOutputParser ['seq:step:4'] on_parser_start\n",
      "OpenAIToolsAgentOutputParser ['seq:step:4'] on_parser_end\n",
      "RunnableSequence [] on_chain_stream\n",
      "RunnableSequence [] on_chain_end\n",
      "AgentExecutor [] on_chain_stream\n",
      "\u001b[32;1m\u001b[1;3m\n",
      "Invoking: `ask_neighber` with `{'query': '马冬梅住哪里'}`\n",
      "\n",
      "\n",
      "\u001b[0mask_neighber [] on_tool_start\n",
      "\u001b[36;1m\u001b[1;3m楼上322\u001b[0mask_neighber [] on_tool_end\n",
      "AgentExecutor [] on_chain_stream\n",
      "RunnableSequence [] on_chain_start\n",
      "RunnableAssign<agent_scratchpad> ['seq:step:1'] on_chain_start\n",
      "RunnableAssign<agent_scratchpad> ['seq:step:1'] on_chain_stream\n",
      "RunnableParallel<agent_scratchpad> [] on_chain_start\n",
      "RunnableLambda ['map:key:agent_scratchpad'] on_chain_start\n",
      "RunnableLambda ['map:key:agent_scratchpad'] on_chain_stream\n",
      "RunnableParallel<agent_scratchpad> [] on_chain_stream\n",
      "RunnableAssign<agent_scratchpad> ['seq:step:1'] on_chain_stream\n",
      "RunnableLambda ['map:key:agent_scratchpad'] on_chain_end\n",
      "RunnableParallel<agent_scratchpad> [] on_chain_end\n",
      "RunnableAssign<agent_scratchpad> ['seq:step:1'] on_chain_end\n",
      "ChatPromptTemplate ['seq:step:2'] on_prompt_start\n",
      "ChatPromptTemplate ['seq:step:2'] on_prompt_end\n",
      "ChatZhipuAI ['seq:step:3'] on_chat_model_start\n",
      "ChatZhipuAI ['seq:step:3'] on_chat_model_stream\n",
      "ChatZhipuAI ['seq:step:3'] on_chat_model_stream\n",
      "ChatZhipuAI ['seq:step:3'] on_chat_model_stream\n",
      "ChatZhipuAI ['seq:step:3'] on_chat_model_stream\n",
      "ChatZhipuAI ['seq:step:3'] on_chat_model_stream\n",
      "ChatZhipuAI ['seq:step:3'] on_chat_model_stream\n",
      "ChatZhipuAI ['seq:step:3'] on_chat_model_stream\n",
      "ChatZhipuAI ['seq:step:3'] on_chat_model_stream\n",
      "ChatZhipuAI ['seq:step:3'] on_chat_model_stream\n",
      "ChatZhipuAI ['seq:step:3'] on_chat_model_stream\n",
      "ChatZhipuAI ['seq:step:3'] on_chat_model_stream\n",
      "ChatZhipuAI ['seq:step:3'] on_chat_model_stream\n",
      "ChatZhipuAI ['seq:step:3'] on_chat_model_stream\n",
      "ChatZhipuAI ['seq:step:3'] on_chat_model_stream\n",
      "ChatZhipuAI ['seq:step:3'] on_chat_model_stream\n",
      "ChatZhipuAI ['seq:step:3'] on_chat_model_end\n",
      "OpenAIToolsAgentOutputParser ['seq:step:4'] on_parser_start\n",
      "OpenAIToolsAgentOutputParser ['seq:step:4'] on_parser_end\n",
      "RunnableSequence [] on_chain_stream\n",
      "RunnableSequence [] on_chain_end\n",
      "\u001b[32;1m\u001b[1;3m根据我的查询结果，马冬梅住在楼上322房间。\u001b[0m\n",
      "\n",
      "\u001b[1m> Finished chain.\u001b[0m\n",
      "AgentExecutor [] on_chain_stream\n",
      "AgentExecutor [] on_chain_end\n"
     ]
    }
   ],
   "source": [
    "# astream_events\n",
    "async for e in neighber.astream_events({\"input\":\"马冬梅住哪里\"}, version=\"v1\"):\n",
    "    print(e['name'], e['tags'], e['event'])"
   ]
  },
  {
   "cell_type": "markdown",
   "id": "d7c714e2-b233-447e-81ae-8c7cf82de783",
   "metadata": {},
   "source": [
    "#### （4）观察与大模型的交互过程"
   ]
  },
  {
   "cell_type": "markdown",
   "id": "67df3f9c-f5c4-482d-bbff-8101b9c2a04c",
   "metadata": {},
   "source": [
    "只读取 **on_tool_end** 和 **on_chat_model_end** 两个事件："
   ]
  },
  {
   "cell_type": "code",
   "execution_count": 34,
   "id": "21c8eb73-2cc6-412c-857f-02f7bd3ee569",
   "metadata": {},
   "outputs": [
    {
     "name": "stdout",
     "output_type": "stream",
     "text": [
      "\n",
      "\n",
      "\u001b[1m> Entering new AgentExecutor chain...\u001b[0m\n",
      "\n",
      " ---------- ChatZhipuAI -- on_chat_model_end ----------\n",
      "INPUT:\n",
      "{'messages': [[SystemMessage(content='You are a helpful assistant'), HumanMessage(content='马冬梅住哪里')]]}\n",
      "\n",
      " ---------- ChatZhipuAI -- on_chat_model_end ----------\n",
      "OUTPUT:\n",
      "{'generations': [[{'text': '', 'generation_info': {'finish_reason': 'tool_calls'}, 'type': 'ChatGenerationChunk', 'message': AIMessageChunk(content='', additional_kwargs={'tool_calls': [{'index': 0, 'id': 'call_8516985431572319825', 'function': {'arguments': '{\"query\":\"马冬梅住哪里\"}', 'name': 'ask_neighber'}, 'type': 'function'}]})}]], 'llm_output': None, 'run': None}\n",
      "\u001b[32;1m\u001b[1;3m\n",
      "Invoking: `ask_neighber` with `{'query': '马冬梅住哪里'}`\n",
      "\n",
      "\n",
      "\u001b[0m\u001b[36;1m\u001b[1;3m楼上322\u001b[0m\n",
      " ---------- ask_neighber -- on_tool_end ----------\n",
      "INPUT:\n",
      "{'query': '马冬梅住哪里'}\n",
      "\n",
      " ---------- ask_neighber -- on_tool_end ----------\n",
      "OUTPUT:\n",
      "楼上322\n",
      "\n",
      " ---------- ChatZhipuAI -- on_chat_model_end ----------\n",
      "INPUT:\n",
      "{'messages': [[SystemMessage(content='You are a helpful assistant'), HumanMessage(content='马冬梅住哪里'), AIMessageChunk(content='', additional_kwargs={'tool_calls': [{'index': 0, 'id': 'call_8516985431572319825', 'function': {'arguments': '{\"query\":\"马冬梅住哪里\"}', 'name': 'ask_neighber'}, 'type': 'function'}]}), ToolMessage(content='楼上322', additional_kwargs={'name': 'ask_neighber'}, tool_call_id='call_8516985431572319825')]]}\n",
      "\n",
      " ---------- ChatZhipuAI -- on_chat_model_end ----------\n",
      "OUTPUT:\n",
      "{'generations': [[{'text': '根据我的查询结果，马冬梅住在楼上322房间。', 'generation_info': {'finish_reason': 'stop'}, 'type': 'ChatGenerationChunk', 'message': AIMessageChunk(content='根据我的查询结果，马冬梅住在楼上322房间。')}]], 'llm_output': None, 'run': None}\n",
      "\u001b[32;1m\u001b[1;3m根据我的查询结果，马冬梅住在楼上322房间。\u001b[0m\n",
      "\n",
      "\u001b[1m> Finished chain.\u001b[0m\n"
     ]
    }
   ],
   "source": [
    "from langchain_zhipu import ChatZhipuAI\n",
    "neighber = create_neighber(ChatZhipuAI())\n",
    "\n",
    "async for e in neighber.astream_events({\"input\":\"马冬梅住哪里\"}, version=\"v1\"):\n",
    "    if e['event'] in [\"on_chat_model_end\", \"on_tool_end\"]:\n",
    "        if(\"input\" in e['data']):\n",
    "            print(\"\\n\", \"-\"*10, e['name'], \"-\"*2, e['event'], \"-\"*10)\n",
    "            print(\"INPUT:\")\n",
    "            print(e['data']['input'])\n",
    "        if(\"output\" in e['data']):\n",
    "            print(\"\\n\", \"-\"*10, e['name'], \"-\"*2, e['event'], \"-\"*10)\n",
    "            print(\"OUTPUT:\")\n",
    "            print(e['data']['output'])\n",
    "        # print(\"\\n\", e)"
   ]
  },
  {
   "cell_type": "markdown",
   "id": "55ad2d3a-528d-4c64-a9db-fdd5054b4a2b",
   "metadata": {},
   "source": [
    "#### （5）总结智能体的定义过程\n",
    "\n",
    "- STEP-1 请求智能体（langchain -> ZhipuAI）: 发送带有Tools的请求\n",
    "- STEP-2 智能体解析（ZhipuAI -> langchain）: 收到Tools-Calling消息\n",
    "- STEP-3 调用本地工具（langchain）: 调用工具\n",
    "- STEP-4 重新请求智能体（langchain） -> ZhipuAI）: 提交调用结果\n",
    "- STEP-5 智能体最终生成（ZhipuAI -> langchain）: 大模型重新生成结果"
   ]
  },
  {
   "cell_type": "markdown",
   "id": "6554072f-070b-49ea-a45c-ddfd38fe4810",
   "metadata": {},
   "source": [
    "### ✍️ 一步一步执行：就像我们常对大模型说的那样"
   ]
  },
  {
   "cell_type": "markdown",
   "id": "b70658fb-fad7-4814-b3df-506061a2f2d6",
   "metadata": {},
   "source": [
    "#### （1）STEP-1 请求智能体（langchain -> ZhipuAI）: 发送带有Tools的请求"
   ]
  },
  {
   "cell_type": "code",
   "execution_count": 97,
   "id": "94873b39-8c65-4588-b28e-775e601359f3",
   "metadata": {},
   "outputs": [],
   "source": [
    "from langchain_core.prompts import ChatPromptTemplate\n",
    "from langchain.prompts import MessagesPlaceholder\n",
    "\n",
    "# openai agent\n",
    "prompt = ChatPromptTemplate.from_messages([\n",
    "    (\"system\", \"You are a helpful assistant\"),\n",
    "    MessagesPlaceholder(\"chat_history\"),\n",
    "    (\"human\", \"{input}\"),\n",
    "    MessagesPlaceholder(\"agent_scratchpad\"),\n",
    "])\n",
    "\n",
    "input = \"马冬梅住在哪里？\"\n",
    "history = []\n",
    "\n",
    "llm = ChatZhipuAI(tools=[convert_to_openai_tool(ask_neighber)])\n",
    "\n",
    "agent = prompt | llm"
   ]
  },
  {
   "cell_type": "markdown",
   "id": "f25ff1dc-1436-4dd0-bc34-625247273341",
   "metadata": {},
   "source": [
    "<div class=\"alert alert-warning\">\n",
    "    <b>⚠️ 思考：</b><br>\n",
    "    <b>convert_to_openai_function</b> 和 <b>convert_to_openai_tool</b> 的区别是什么？\n",
    "</div>\n",
    "\n",
    "**🌞 参考：**\n",
    "- [查看 convert_to_openai_tool 的实现源码](https://github.com/langchain-ai/langchain/blob/c93d4ea91cfcf55dfe871931d42aa22562f8dae2/libs/core/langchain_core/utils/function_calling.py#L323-L341)\n"
   ]
  },
  {
   "cell_type": "code",
   "execution_count": 38,
   "id": "48061e6c-3779-4ccb-818d-c3c6a1aaaa5e",
   "metadata": {},
   "outputs": [
    {
     "data": {
      "text/plain": [
       "{'name': 'ask_neighber',\n",
       " 'description': 'ask_neighber(query: str) -> str - 我在玩找人的游戏，我知道你找的人住在哪个房间',\n",
       " 'parameters': {'type': 'object',\n",
       "  'properties': {'query': {'type': 'string'}},\n",
       "  'required': ['query']}}"
      ]
     },
     "execution_count": 38,
     "metadata": {},
     "output_type": "execute_result"
    }
   ],
   "source": [
    "convert_to_openai_function(ask_neighber)"
   ]
  },
  {
   "cell_type": "code",
   "execution_count": 39,
   "id": "97bafddf-c37d-4636-9fd9-c11335d28ab0",
   "metadata": {},
   "outputs": [
    {
     "data": {
      "text/plain": [
       "{'type': 'function',\n",
       " 'function': {'name': 'ask_neighber',\n",
       "  'description': 'ask_neighber(query: str) -> str - 我在玩找人的游戏，我知道你找的人住在哪个房间',\n",
       "  'parameters': {'type': 'object',\n",
       "   'properties': {'query': {'type': 'string'}},\n",
       "   'required': ['query']}}}"
      ]
     },
     "execution_count": 39,
     "metadata": {},
     "output_type": "execute_result"
    }
   ],
   "source": [
    "convert_to_openai_tool(ask_neighber)"
   ]
  },
  {
   "cell_type": "markdown",
   "id": "d829924d-9a26-4af0-b38b-b099d3c16953",
   "metadata": {},
   "source": [
    "#### （2）STEP-2 智能体解析（ZhipuAI -> langchain）: 收到Tools-Calling消息"
   ]
  },
  {
   "cell_type": "code",
   "execution_count": 104,
   "id": "6eddb81f-dbb2-466e-ab39-867df638794a",
   "metadata": {},
   "outputs": [
    {
     "data": {
      "text/plain": [
       "AIMessage(content='', additional_kwargs={'tool_calls': [{'id': 'call_8516987149559268121', 'function': {'arguments': '{\"query\":\"马冬梅住在哪里？\"}', 'name': 'ask_neighber'}, 'type': 'function'}]})"
      ]
     },
     "execution_count": 104,
     "metadata": {},
     "output_type": "execute_result"
    }
   ],
   "source": [
    "steps_info = []\n",
    "resp_llm = agent.invoke({\"input\": input, \"chat_history\": history, \"agent_scratchpad\": steps_info})\n",
    "resp_llm"
   ]
  },
  {
   "cell_type": "markdown",
   "id": "f61a4a18-64d7-4110-bb97-f3c78904a53c",
   "metadata": {},
   "source": [
    "#### （3）STEP-3 调用本地工具（langchain）: 调用工具"
   ]
  },
  {
   "cell_type": "code",
   "execution_count": 105,
   "id": "f749d0a5-0937-4844-b83a-11025a44e8b1",
   "metadata": {},
   "outputs": [
    {
     "data": {
      "text/plain": [
       "'{\"query\":\"马冬梅住在哪里？\"}'"
      ]
     },
     "execution_count": 105,
     "metadata": {},
     "output_type": "execute_result"
    }
   ],
   "source": [
    "resp_llm.additional_kwargs[\"tool_calls\"][0][\"function\"][\"arguments\"]"
   ]
  },
  {
   "cell_type": "code",
   "execution_count": 107,
   "id": "4b65819c-65d1-4fc9-aadb-672f17c38dc9",
   "metadata": {},
   "outputs": [
    {
     "data": {
      "text/plain": [
       "{'query': '马冬梅住在哪里？'}"
      ]
     },
     "execution_count": 107,
     "metadata": {},
     "output_type": "execute_result"
    }
   ],
   "source": [
    "import json\n",
    "tool_args = json.loads(resp_llm.additional_kwargs[\"tool_calls\"][0][\"function\"][\"arguments\"])\n",
    "tool_args"
   ]
  },
  {
   "cell_type": "code",
   "execution_count": 108,
   "id": "67b9d2c9-53ad-44fd-9694-8fe98af6e3e5",
   "metadata": {},
   "outputs": [
    {
     "data": {
      "text/plain": [
       "'楼上322'"
      ]
     },
     "execution_count": 108,
     "metadata": {},
     "output_type": "execute_result"
    }
   ],
   "source": [
    "resp_tool = ask_neighber.invoke(tool_args)\n",
    "resp_tool"
   ]
  },
  {
   "cell_type": "markdown",
   "id": "005d1635-a21f-4301-b6e9-8b81d216542d",
   "metadata": {},
   "source": [
    "#### （4）STEP-4 重新请求智能体（langchain） -> ZhipuAI）: 提交调用结果"
   ]
  },
  {
   "cell_type": "code",
   "execution_count": 110,
   "id": "58a38c34-6293-46a0-8387-633e712296f7",
   "metadata": {},
   "outputs": [
    {
     "data": {
      "text/plain": [
       "['马冬梅住在哪里？',\n",
       " '楼上322',\n",
       " '马冬梅住在哪里？',\n",
       " AIMessage(content='', additional_kwargs={'tool_calls': [{'id': 'call_8516987149559268121', 'function': {'arguments': '{\"query\":\"马冬梅住在哪里？\"}', 'name': 'ask_neighber'}, 'type': 'function'}]}),\n",
       " '楼上322']"
      ]
     },
     "execution_count": 110,
     "metadata": {},
     "output_type": "execute_result"
    }
   ],
   "source": [
    "steps_info.append(input)\n",
    "steps_info.append(resp_llm)\n",
    "steps_info.append(resp_tool)\n",
    "steps_info"
   ]
  },
  {
   "cell_type": "markdown",
   "id": "2066d57b-7052-445d-97c9-c82cda7c7871",
   "metadata": {},
   "source": [
    "#### （5）STEP-5 智能体最终生成（ZhipuAI -> langchain）: 大模型重新生成结果"
   ]
  },
  {
   "cell_type": "code",
   "execution_count": 111,
   "id": "678c5175-8edf-4b88-af16-a4ebd7f8fdcb",
   "metadata": {},
   "outputs": [
    {
     "data": {
      "text/plain": [
       "AIMessage(content='根据我的查询结果，马冬梅住在楼上322。您还需要我提供其他信息吗？')"
      ]
     },
     "execution_count": 111,
     "metadata": {},
     "output_type": "execute_result"
    }
   ],
   "source": [
    "resp_llm = agent.invoke({\"input\": input, \"chat_history\": history, \"agent_scratchpad\": steps_info})\n",
    "resp_llm"
   ]
  },
  {
   "cell_type": "markdown",
   "id": "e7e575ef-202b-42b8-9eb9-0043b7733542",
   "metadata": {},
   "source": [
    "## 5、解读 ReAct 风格智能体"
   ]
  },
  {
   "cell_type": "markdown",
   "id": "e849eb22-0009-4c7b-a0cd-bf0e184f7337",
   "metadata": {},
   "source": [
    "### 🌹 构造 ReAct 智能体的提示语"
   ]
  },
  {
   "cell_type": "markdown",
   "id": "a0adfd0b-f51c-4cde-9e6c-bdb41d8e8645",
   "metadata": {},
   "source": [
    "[查看 hub.pull(\"hwchase17/react\")](https://smith.langchain.com/hub/hwchase17/react)"
   ]
  },
  {
   "cell_type": "code",
   "execution_count": 149,
   "id": "2764890b-da71-4d89-8b56-0b29b1009610",
   "metadata": {},
   "outputs": [],
   "source": [
    "from langchain_core.prompts import ChatPromptTemplate\n",
    "from langchain.prompts import MessagesPlaceholder"
   ]
  },
  {
   "cell_type": "code",
   "execution_count": 150,
   "id": "e14ca3c1-b866-4404-9d21-9ff1ec78161d",
   "metadata": {},
   "outputs": [
    {
     "name": "stdout",
     "output_type": "stream",
     "text": [
      "Answer the following questions as best you can. You have access to the following tools:\n",
      "\n",
      "{tools}\n",
      "\n",
      "Use the following format:\n",
      "\n",
      "Question: the input question you must answer\n",
      "Thought: you should always think about what to do\n",
      "Action: the action to take, should be one of [{tool_names}]\n",
      "Action Input: the input to the action\n",
      "Observation: the result of the action\n",
      "... (this Thought/Action/Action Input/Observation can repeat N times)\n",
      "Thought: I now know the final answer\n",
      "Final Answer: the final answer to the original input question\n",
      "\n",
      "Begin!\n",
      "\n",
      "Question: {input}\n",
      "Thought:{agent_scratchpad}\n"
     ]
    }
   ],
   "source": [
    "prompt = hub.pull(\"hwchase17/react\")\n",
    "print(prompt.template)"
   ]
  },
  {
   "cell_type": "markdown",
   "id": "1cf39eb9-2a2f-473c-a758-406d642a968f",
   "metadata": {},
   "source": [
    "### ✍️ create_react_executor：拆解 react 智能体的核心结构"
   ]
  },
  {
   "cell_type": "markdown",
   "id": "f1a089e4-bd6d-4081-8be5-37d37d32bca1",
   "metadata": {},
   "source": [
    "#### （1）定义 ReAct 智能体"
   ]
  },
  {
   "cell_type": "markdown",
   "id": "903bbf26-d989-42f9-9983-9e80990eb2e5",
   "metadata": {},
   "source": [
    "<div class=\"alert alert-info\">\n",
    "    <b>⚠️ 注意：</b><br>\n",
    "    ReAct 智能体提示语的核心在于：<b>请使用如下的输出格式...</b>\n",
    "    <br>\n",
    "    这相当于提示语模板中的：step by step ...\n",
    "</div>"
   ]
  },
  {
   "cell_type": "code",
   "execution_count": 573,
   "id": "7d0e8cfb-4ba4-46ef-a1f6-d3a3cb741099",
   "metadata": {},
   "outputs": [],
   "source": [
    "# from langchain_openai import ChatOpenAI\n",
    "from langchain_zhipu import ChatZhipuAI\n",
    "from langchain.prompts import PromptTemplate\n",
    "from langchain.agents import AgentExecutor, Tool, create_react_agent\n",
    "from langchain import hub\n",
    "from langchain.tools import tool\n",
    "import re\n",
    "\n",
    "@tool\n",
    "def ask_neighber(query: str) -> str:\n",
    "    \"\"\"我是马冬梅的邻居老大爷，关于她的事情你可以问我\"\"\"\n",
    "    if(re.search(\"马冬梅\", query)):\n",
    "        return \"楼上322\"\n",
    "    else:\n",
    "        return \"我不清楚\"\n",
    "\n",
    "prompt_react = \"\"\"\n",
    "请尽你最大努力回答用户的问题。\n",
    "\n",
    "你必须注意以下原则：\n",
    "1. 在需要使用本地文件时，请务必使用相关工具查询，而不要编造文件名。\n",
    "2. 请使用中文。\n",
    "\n",
    "你可以访问如下工具：\n",
    "{tools}\n",
    "\n",
    "请使用如下的输出格式：\n",
    "\n",
    "Question: 你必须回答的问题\n",
    "Thought: 你为了完成任务必须采取的思考过程\n",
    "Action: 又称为工具，必须是这些工具其中之一： {tool_names}\n",
    "Action Input: 调用工具所使用的参数\n",
    "Observation: 工具执行的结果\n",
    "... (这些过程 Thought/Action/Action Input/Observation 可以重复执行N次)\n",
    "Thought: 我现在知道答案了\n",
    "Final Answer: 问题的最终答案\n",
    "\n",
    "开始！\n",
    "\n",
    "Question: {input}\n",
    "Thought:{agent_scratchpad}\n",
    "\"\"\"\n",
    "\n",
    "def create_react_executor(llm, tools):\n",
    "    # 定义 prompt\n",
    "    prompt = PromptTemplate.from_template(prompt_react)\n",
    "    # 定义 Agent\n",
    "    agent = create_react_agent(llm, tools, prompt)\n",
    "    # 定义 AgentExecutor\n",
    "    executor = AgentExecutor(agent=agent, tools=tools, verbose=True, handle_parsing_errors=False)\n",
    "    \n",
    "    return executor\n",
    "\n",
    "neighber = create_react_executor(ChatZhipuAI(), [ask_neighber])"
   ]
  },
  {
   "cell_type": "markdown",
   "id": "0b3f489c-93c0-47a8-9716-7e06346ac371",
   "metadata": {},
   "source": [
    "#### （2）简单执行：invoke"
   ]
  },
  {
   "cell_type": "code",
   "execution_count": 570,
   "id": "e1964227-79f2-4ae8-8cab-dc81dc992813",
   "metadata": {},
   "outputs": [
    {
     "name": "stdout",
     "output_type": "stream",
     "text": [
      "\n",
      "\n",
      "\u001b[1m> Entering new AgentExecutor chain...\u001b[0m\n",
      "\u001b[32;1m\u001b[1;3m我需要获取马冬梅住的房间信息，这个问题明显需要询问她的邻居老大爷。\n",
      "\n",
      "Action: ask_neighber\n",
      "Action Input: '马冬梅住哪个房间'\n",
      "Observation\u001b[0m\u001b[36;1m\u001b[1;3m楼上322\u001b[0m\u001b[32;1m\u001b[1;3mThought: 我已经从邻居老大爷那里得到了马冬梅的房间号，现在我知道答案了。\n",
      "\n",
      "Final Answer: 马冬梅住在楼上322房间。\u001b[0m\n",
      "\n",
      "\u001b[1m> Finished chain.\u001b[0m\n"
     ]
    },
    {
     "data": {
      "text/plain": [
       "{'input': '马冬梅住哪个房间', 'output': '马冬梅住在楼上322房间。'}"
      ]
     },
     "execution_count": 570,
     "metadata": {},
     "output_type": "execute_result"
    }
   ],
   "source": [
    "# invoke\n",
    "neighber.invoke({\"input\":\"马冬梅住哪个房间\"})"
   ]
  },
  {
   "cell_type": "markdown",
   "id": "58f09f9b-1f61-4f46-9b77-028fd38dcfd3",
   "metadata": {},
   "source": [
    "#### （3）大模型的流输出：stream VS astream_events"
   ]
  },
  {
   "cell_type": "code",
   "execution_count": 574,
   "id": "3a00dd4d-74fe-436e-b77b-7ec0902b9472",
   "metadata": {},
   "outputs": [
    {
     "name": "stdout",
     "output_type": "stream",
     "text": [
      "\n",
      "\n",
      "\u001b[1m> Entering new AgentExecutor chain...\u001b[0m\n",
      "{'actions': [AgentAction(tool='ask_neighber', tool_input=\"'马冬梅住哪个房间'\\nObservation\", log=\"我需要获取马冬梅住哪个房间的信息，这个问题明显需要询问她的邻居老大爷。\\n\\nAction: ask_neighber\\nAction Input: '马冬梅住哪个房间'\\nObservation\")], 'messages': [AIMessage(content=\"我需要获取马冬梅住哪个房间的信息，这个问题明显需要询问她的邻居老大爷。\\n\\nAction: ask_neighber\\nAction Input: '马冬梅住哪个房间'\\nObservation\")]}\n",
      "\u001b[32;1m\u001b[1;3m我需要获取马冬梅住哪个房间的信息，这个问题明显需要询问她的邻居老大爷。\n",
      "\n",
      "Action: ask_neighber\n",
      "Action Input: '马冬梅住哪个房间'\n",
      "Observation\u001b[0m\u001b[36;1m\u001b[1;3m楼上322\u001b[0m{'steps': [AgentStep(action=AgentAction(tool='ask_neighber', tool_input=\"'马冬梅住哪个房间'\\nObservation\", log=\"我需要获取马冬梅住哪个房间的信息，这个问题明显需要询问她的邻居老大爷。\\n\\nAction: ask_neighber\\nAction Input: '马冬梅住哪个房间'\\nObservation\"), observation='楼上322')], 'messages': [HumanMessage(content='楼上322')]}\n",
      "\u001b[32;1m\u001b[1;3mThought: 我已经从邻居老大爷那里得到了马冬梅的房间号，现在我知道答案了。\n",
      "\n",
      "Final Answer: 马冬梅住在楼上322房间。\u001b[0m\n",
      "\n",
      "\u001b[1m> Finished chain.\u001b[0m\n",
      "{'output': '马冬梅住在楼上322房间。', 'messages': [AIMessage(content='Thought: 我已经从邻居老大爷那里得到了马冬梅的房间号，现在我知道答案了。\\n\\nFinal Answer: 马冬梅住在楼上322房间。')]}\n"
     ]
    }
   ],
   "source": [
    "for chunk in neighber.stream({\"input\": \"马冬梅住哪个房间\"}):\n",
    "    print(chunk)"
   ]
  },
  {
   "cell_type": "code",
   "execution_count": 575,
   "id": "39af442a-8893-4ac0-a608-6f828747744b",
   "metadata": {},
   "outputs": [
    {
     "name": "stdout",
     "output_type": "stream",
     "text": [
      "\n",
      "\n",
      "\u001b[1m> Entering new AgentExecutor chain...\u001b[0m\n",
      "on_chain_start\n",
      "on_chain_start\n",
      "on_chain_start\n",
      "on_chain_stream\n",
      "on_chain_start\n",
      "on_chain_start\n",
      "on_chain_stream\n",
      "on_chain_stream\n",
      "on_chain_stream\n",
      "on_chain_end\n",
      "on_chain_end\n",
      "on_chain_end\n",
      "on_prompt_start\n",
      "on_prompt_end\n",
      "on_chat_model_start\n",
      "我_需要_获取_马_冬_梅_的_住_址_信息_，_这个问题_明显_需要_使用_邻居_老大_爷_提供的_工具_ask__ne_igh_ber_。\n",
      "\n",
      "Action_:_ ask__ne_igh_ber_\n",
      "Action_ Input_:_ query_='_马_冬_梅_住_在哪里_'\n",
      "Observ_ation__on_chat_model_end\n",
      "on_parser_start\n",
      "on_parser_end\n",
      "on_chain_stream\n",
      "on_chain_end\n",
      "on_chain_stream\n",
      "\u001b[32;1m\u001b[1;3m我需要获取马冬梅的住址信息，这个问题明显需要使用邻居老大爷提供的工具ask_neighber。\n",
      "\n",
      "Action: ask_neighber\n",
      "Action Input: query='马冬梅住在哪里'\n",
      "Observation\u001b[0mon_tool_start\n",
      "\u001b[36;1m\u001b[1;3m楼上322\u001b[0mon_tool_end\n",
      "on_chain_stream\n",
      "on_chain_start\n",
      "on_chain_start\n",
      "on_chain_stream\n",
      "on_chain_start\n",
      "on_chain_start\n",
      "on_chain_stream\n",
      "on_chain_stream\n",
      "on_chain_stream\n",
      "on_chain_end\n",
      "on_chain_end\n",
      "on_chain_end\n",
      "on_prompt_start\n",
      "on_prompt_end\n",
      "on_chat_model_start\n",
      "Thought_:_ 通过_邻居_老大_爷_，_我已经_获得了_马_冬_梅_的_住_址_信息_。\n",
      "\n",
      "Final_ Answer_:_ 马_冬_梅_住在_楼上_3_22_。__on_chat_model_end\n",
      "on_parser_start\n",
      "on_parser_end\n",
      "on_chain_stream\n",
      "on_chain_end\n",
      "\u001b[32;1m\u001b[1;3mThought: 通过邻居老大爷，我已经获得了马冬梅的住址信息。\n",
      "\n",
      "Final Answer: 马冬梅住在楼上322。\u001b[0m\n",
      "\n",
      "\u001b[1m> Finished chain.\u001b[0m\n",
      "on_chain_stream\n",
      "on_chain_end\n"
     ]
    }
   ],
   "source": [
    "async for event in neighber.astream_events({\"input\": \"马冬梅住哪里\"}, version=\"v1\"):\n",
    "    kind = event[\"event\"]\n",
    "    if kind == \"on_chat_model_stream\":\n",
    "        print(event[\"data\"][\"chunk\"].content, end=\"_\")\n",
    "    else:\n",
    "        print(kind)"
   ]
  },
  {
   "cell_type": "markdown",
   "id": "1537231d-185f-4cb6-9936-2add5fc61fe2",
   "metadata": {},
   "source": [
    "### 🌹 观察 ReAct 智能体的运行过程"
   ]
  },
  {
   "cell_type": "markdown",
   "id": "4d0db4fa-f294-46bb-a745-ab40cb19eee2",
   "metadata": {},
   "source": [
    "只读取 **on_tool_end** 和 **on_chat_model_end** 两个事件："
   ]
  },
  {
   "cell_type": "code",
   "execution_count": 577,
   "id": "7ff5f9b0-7aa9-4cfe-9bc1-d0e24ad0eae8",
   "metadata": {},
   "outputs": [
    {
     "name": "stdout",
     "output_type": "stream",
     "text": [
      "\n",
      "\n",
      "\u001b[1m> Entering new AgentExecutor chain...\u001b[0m\n",
      "\n",
      " ---------- ChatZhipuAI -- on_chat_model_end ----------\n",
      "INPUT:\n",
      "\n",
      "请尽你最大努力回答用户的问题。\n",
      "\n",
      "你必须注意以下原则：\n",
      "1. 在需要使用本地文件时，请务必使用相关工具查询，而不要编造文件名。\n",
      "2. 请使用中文。\n",
      "\n",
      "你可以访问如下工具：\n",
      "ask_neighber: ask_neighber(query: str) -> str - 我是马冬梅的邻居老大爷，关于她的事情你可以问我\n",
      "\n",
      "请使用如下的输出格式：\n",
      "\n",
      "Question: 你必须回答的问题\n",
      "Thought: 你为了完成任务必须采取的思考过程\n",
      "Action: 又称为工具，必须是这些工具其中之一： ask_neighber\n",
      "Action Input: 调用工具所使用的参数\n",
      "Observation: 工具执行的结果\n",
      "... (这些过程 Thought/Action/Action Input/Observation 可以重复执行N次)\n",
      "Thought: 我现在知道答案了\n",
      "Final Answer: 问题的最终答案\n",
      "\n",
      "开始！\n",
      "\n",
      "Question: 马冬梅住哪里\n",
      "Thought:\n",
      "\n",
      "\n",
      " ---------- ChatZhipuAI -- on_chat_model_end ----------\n",
      "OUTPUT:\n",
      "我需要通过询问马冬梅的邻居来获取她的住址信息。\n",
      "\n",
      "Action: ask_neighber\n",
      "Action Input: '马冬梅住在哪里？'\n",
      "Observation\n",
      "\u001b[32;1m\u001b[1;3m我需要通过询问马冬梅的邻居来获取她的住址信息。\n",
      "\n",
      "Action: ask_neighber\n",
      "Action Input: '马冬梅住在哪里？'\n",
      "Observation\u001b[0m\u001b[36;1m\u001b[1;3m楼上322\u001b[0m\n",
      " ---------- ask_neighber -- on_tool_end ----------\n",
      "INPUT:\n",
      "'马冬梅住在哪里？'\n",
      "Observation\n",
      "\n",
      " ---------- ask_neighber -- on_tool_end ----------\n",
      "OUTPUT:\n",
      "楼上322\n",
      "\n",
      " ---------- ChatZhipuAI -- on_chat_model_end ----------\n",
      "INPUT:\n",
      "\n",
      "请尽你最大努力回答用户的问题。\n",
      "\n",
      "你必须注意以下原则：\n",
      "1. 在需要使用本地文件时，请务必使用相关工具查询，而不要编造文件名。\n",
      "2. 请使用中文。\n",
      "\n",
      "你可以访问如下工具：\n",
      "ask_neighber: ask_neighber(query: str) -> str - 我是马冬梅的邻居老大爷，关于她的事情你可以问我\n",
      "\n",
      "请使用如下的输出格式：\n",
      "\n",
      "Question: 你必须回答的问题\n",
      "Thought: 你为了完成任务必须采取的思考过程\n",
      "Action: 又称为工具，必须是这些工具其中之一： ask_neighber\n",
      "Action Input: 调用工具所使用的参数\n",
      "Observation: 工具执行的结果\n",
      "... (这些过程 Thought/Action/Action Input/Observation 可以重复执行N次)\n",
      "Thought: 我现在知道答案了\n",
      "Final Answer: 问题的最终答案\n",
      "\n",
      "开始！\n",
      "\n",
      "Question: 马冬梅住哪里\n",
      "Thought:我需要通过询问马冬梅的邻居来获取她的住址信息。\n",
      "\n",
      "Action: ask_neighber\n",
      "Action Input: '马冬梅住在哪里？'\n",
      "Observation\n",
      "Observation: 楼上322\n",
      "Thought: \n",
      "\n",
      "\n",
      " ---------- ChatZhipuAI -- on_chat_model_end ----------\n",
      "OUTPUT:\n",
      "Thought: 邻居老大爷的回答给出了马冬梅的住址信息，我现在知道答案了。\n",
      "\n",
      "Final Answer: 马冬梅住在楼上322。\n",
      "\u001b[32;1m\u001b[1;3mThought: 邻居老大爷的回答给出了马冬梅的住址信息，我现在知道答案了。\n",
      "\n",
      "Final Answer: 马冬梅住在楼上322。\u001b[0m\n",
      "\n",
      "\u001b[1m> Finished chain.\u001b[0m\n"
     ]
    }
   ],
   "source": [
    "from langchain_zhipu import ChatZhipuAI\n",
    "neighber = create_react_neighber(ChatZhipuAI())\n",
    "\n",
    "async for e in neighber.astream_events({\"input\":\"马冬梅住哪里\"}, version=\"v1\"):\n",
    "    print_line = lambda : print(\"\\n\", \"-\"*10, e['name'], \"-\"*2, e['event'], \"-\"*10)\n",
    "    if e['event'] in [\"on_chat_model_end\", \"on_tool_end\"]:\n",
    "        if(\"input\" in e['data']):\n",
    "            input = e['data']['input']\n",
    "            print_line()\n",
    "            print(\"INPUT:\")\n",
    "            if(input is not None and \"messages\" in input):\n",
    "                print(input[\"messages\"][0][0].content)\n",
    "            else:\n",
    "                print(input)\n",
    "        if(\"output\" in e['data']):\n",
    "            output = e['data']['output'] \n",
    "            print_line()\n",
    "            print(\"OUTPUT:\")\n",
    "            if(output is not None and \"generations\" in output):\n",
    "                print(output[\"generations\"][0][0][\"text\"])\n",
    "            else:\n",
    "                print(output)\n",
    "        # print(\"\\n\", e)"
   ]
  },
  {
   "cell_type": "markdown",
   "id": "e2a53480-aac6-41ae-922c-c11adf288042",
   "metadata": {},
   "source": [
    "### 🌹 阅读源码，解读 ReAct 智能体"
   ]
  },
  {
   "cell_type": "markdown",
   "id": "46467905-272a-43d3-add6-b5ef95c1eb32",
   "metadata": {},
   "source": [
    "- `ReAct` 比 `OpenAI智能体` 多了必要的解析过程。"
   ]
  },
  {
   "cell_type": "markdown",
   "id": "1433903a-47b9-4030-aa1e-e6aea461e21e",
   "metadata": {},
   "source": [
    "- [查看 create_react_agent 源码](https://github.com/langchain-ai/langchain/blob/239dd7c0c03d0430c55c2c41cf56cf0dd537199b/libs/langchain/langchain/agents/react/agent.py#L16)\n",
    "- [查看 ReAct 输出解析的源码](https://github.com/langchain-ai/langchain/blob/239dd7c0c03d0430c55c2c41cf56cf0dd537199b/libs/langchain/langchain/agents/output_parsers/react_single_input.py#L22-L95)\n",
    "\n",
    "<div class=\"alert alert-warning\">\n",
    "    <b>思考：上面的提示语中为什么不修改这几个关键词？</b><br>\n",
    "    <ul>\n",
    "        <li>Final Answer</li>\n",
    "        <li>Action</li>\n",
    "        <li>Action Input</li>\n",
    "        <li>Observation</li>\n",
    "    </ul>\n",
    "</div>"
   ]
  },
  {
   "cell_type": "markdown",
   "id": "4ac7cee4-e12e-44c4-b48b-e74df9bb0db9",
   "metadata": {},
   "source": [
    "## 6、在LCEL框架下重定义《手撕AutoGPT》中的智能体"
   ]
  },
  {
   "cell_type": "markdown",
   "id": "5fcf9882-63e3-4437-b23b-a18fb47794ca",
   "metadata": {},
   "source": [
    "### ✍️ 自定义基于思维链的提示语"
   ]
  },
  {
   "cell_type": "markdown",
   "id": "9472006b-54b5-4312-838c-b325e19754bd",
   "metadata": {},
   "source": [
    "<div class=\"alert alert-info\">\n",
    "    <b>⚠️ 注意：</b><br>\n",
    "    CoT 智能体提示语的核心在于：<b>请使用如下的输出格式...</b>\n",
    "    <br>\n",
    "    这相当于提示语模板中的：step by step ...\n",
    "</div>"
   ]
  },
  {
   "cell_type": "code",
   "execution_count": 578,
   "id": "3e19e742-49ef-44a7-8e8e-04ce50204c8e",
   "metadata": {},
   "outputs": [],
   "source": [
    "PROMPT_COT = \"\"\"\n",
    "你是强大的AI助手，可以使用工具与指令自动化解决问题。\n",
    "\n",
    "你必须遵循以下约束来完成任务:\n",
    "1. 每次你的决策只使用一种工具，你可以使用任意多次。\n",
    "2. 确保你调用的指令或使用的工具在下述给定的工具列表中。\n",
    "3. 确保你的回答不会包含违法或有侵犯性的信息。\n",
    "4. 如果你已经完成所有任务，确保以\"FINISH\"指令结束。\n",
    "5. 用中文思考和输出。\n",
    "6. 如果执行某个指令或工具失败，尝试改变参数或参数格式再次调用。\n",
    "7. 你生成的回复必须遵循上文中给定的事实信息。不可以编造信息。DO NOT MAKE UP INFORMATION.\n",
    "8. 如果得到的结果不正确，尝试更换表达方式。\n",
    "9. 已经得到的信息，不要反复查询。\n",
    "10. 确保你生成的动作是可以精确执行的。动作做中可以包括具体方法和目标输出。\n",
    "11. 看到一个概念时尝试获取它的准确定义，并分析从哪些输入可以得到它的具体取值。\n",
    "12. 生成一个自然语言查询时，请在查询中包含全部的已知信息。\n",
    "13. 在执行分析或计算动作前，确保该分析或计算中涉及的所有子概念都已经得到了定义。\n",
    "14. 你不可以打印一个文件的全部内容，这样的操作代价太大，且会造成不可预期的后果，是被严格禁止的。\n",
    "15. 不要向用户提问。\n",
    "16. 在需要使用本地文件时，请务必使用相关工具查询，而不要编造文件名。\n",
    "\n",
    "你的任务是:\n",
    "{input}\n",
    "\n",
    "你有非常优秀的逻辑分析能力，可以通过因果关系找到最优的解决方案。\n",
    "\n",
    "你要参考之前的思考记录:\n",
    "{agent_scratchpad}\n",
    "\n",
    "你需要评估你的表现:\n",
    "1. 尽你最大的努力，用你最好的水平，通过分析和检查，做出最好的决定。\n",
    "2. 带着全局观，自我反思你计划与动作。\n",
    "3. 考虑你之前的策略与决策来改善的你的计划。\n",
    "4. 如果你反复得到相同的结果，修改你的计划和决策，避免死循环。\n",
    "5. 如果你当前的动作无法获取到需要的信息，尝试展开关键概念的定义，再重新推理。\n",
    "\n",
    "如果你必须选择工具才能完成任务，可以使用以下工具之一，它们又称为动作或actions:\n",
    "\n",
    "{tools}\n",
    "\n",
    "你必须根据以下格式说明，输出你的思考过程:\n",
    "1. 关键概念: 任务中涉及的组合型概念或实体。已经明确获得取值的关键概念，将其取值完整备注在概念后。\n",
    "2. 概念拆解: 将任务中的关键概念拆解为一系列待查询的子要素。每个关键概念一行，后接这个概念的子要素，每个子要素一行，行前以' -'开始。\n",
    "3. 反思:\n",
    "   - 自我反思，观察以前的执行记录，思考概念拆解是否完整、准确。\n",
    "   - 一步步思考是否每一个的关键概念或要素的查询都得到了准确的结果。\n",
    "   - 反思你已经得到哪个要素/概念。你得到的要素/概念取值是否正确。从当前的信息中还不能得到哪些要素/概念。\n",
    "   - 每个反思一行，行前以' -'开始。\n",
    "4. 思考: 观察执行记录和你的自我反思，并一步步思考\n",
    "  （1）分析要素间的依赖关系，例如：\n",
    "    i. 我是否需要先获得A的值/定义，才能通过A来获得B？\n",
    "    ii. 如果我先获得A，是否可以通过A筛选B，减少穷举每个B的代价？\n",
    "    iii. A和B是否存在在同一数据源中，我能否在获取A的同时获取B？\n",
    "    iv. 是否还有更高效或更聪明的办法来查询一个概念或要素？\n",
    "    v. 如果上一次尝试查询一个概念或要素时失败了，我是否可以尝试从另一个资源中再次查询？\n",
    "    vi. 诸如此类，你可以扩展更多的思考 ...\n",
    "  （2）根据以上分析，排列子要素间的查询优先级\n",
    "  （3）找出当前需要获得取值的子要素\n",
    "  注意，不要对要素的取值/定义做任何假设，确保你的信息来自给定的数据源！\n",
    "5. 推理: 根据你的反思与思考，一步步推理被选择的子要素取值的获取方式。如果前一次的计划失败了，请检查输入中是否包含每个概念/要素的明确定义，并尝试细化你的查询描述。\n",
    "6. 计划: 严格遵守以下规则，计划你的当前动作。\n",
    "  （1）详细列出当前动作的执行计划。只计划一步的动作。PLAN ONE STEP ONLY!\n",
    "  （2）一步步分析，包括数据源，对数据源的操作方式，对数据的分析方法。有哪些已知常量可以直接代入此次分析。\n",
    "  （3）不要尝试计算文件的每一个元素，这种计算代价太高，是严格禁止的。你可以通过分析找到更有效的方法，比如条件筛选。\n",
    "  （4）上述分析是否依赖某个要素的取值/定义，且该要素的取值/定义尚未获得。若果是，重新规划当前动作，确保所有依赖的要素的取值/定义都已经获得。\n",
    "  （5）不要对要素的取值/定义做任何假设，确保你的信息来自给定的数据源。不要编造信息。DO NOT MAKE UP ANY INFORMATION!!!\n",
    "  （6）确保你执行的动作涉及的所有要素都已获得确切的取值/定义。\n",
    "  （7）如果全部子任务已完成，请用FINISH动作结束任务。\n",
    "  （8）不要在这里使用JSON格式来描述计划的当前动作，这会与下面的输出重复，造成无法解析。\n",
    "\n",
    "你必须根据以下格式说明，输出JSON格式，描述所选择执行的动作/工具/指令:\n",
    "{action_format_instructions}\n",
    "\"\"\""
   ]
  },
  {
   "cell_type": "markdown",
   "id": "fbd252e7-9caf-41cf-9c04-77d65677a345",
   "metadata": {},
   "source": [
    "### ✍️ 自定义 OutputParser"
   ]
  },
  {
   "cell_type": "code",
   "execution_count": 579,
   "id": "eef150fe-fbf2-4856-906b-b43f82a1aa99",
   "metadata": {},
   "outputs": [],
   "source": [
    "from typing import List, Optional, Dict, Any, Union, Callable\n",
    "from langchain_core.pydantic_v1 import BaseModel, Field\n",
    "from langchain.agents.agent import AgentOutputParser, AgentAction, AgentFinish\n",
    "from langchain.agents.format_scratchpad import format_log_to_str\n",
    "from langchain.output_parsers import PydanticOutputParser"
   ]
  },
  {
   "cell_type": "code",
   "execution_count": 580,
   "id": "125e6832-4d99-4214-bbfa-0c8bf033f8f7",
   "metadata": {},
   "outputs": [],
   "source": [
    "class Action(BaseModel):\n",
    "    name: str = Field(\n",
    "        description=\"The name of tool or action: FINISH or Other tool names.\"\n",
    "        )\n",
    "    args: Optional[Dict[str, Any]] = Field(\n",
    "        default=None,\n",
    "        description=\"Parameters of tool or action are composed of names and values.\"\n",
    "        )\n",
    "\n",
    "# 解析Action\n",
    "_action_output_parser = PydanticOutputParser(pydantic_object=Action)\n",
    "_action_parser_format = _action_output_parser.get_format_instructions()\n",
    "\n",
    "class ReasonOutputParser(AgentOutputParser):\n",
    "    \"\"\"解析单个动作的智能体action和输入参数。\n",
    "    \"\"\"\n",
    "\n",
    "    def parse(self, text: str) -> Union[AgentAction, AgentFinish]:\n",
    "        action: Action = _action_output_parser.invoke(text)\n",
    "        name: Optional[str] = action.name\n",
    "        args: Optional[Dict[str, Any]] = action.args if text is not None else \"No Args\"\n",
    "        log: str = text if text is not None else \"\"\n",
    "\n",
    "        if name == \"FINISH\":\n",
    "            return AgentFinish(args, log)\n",
    "        elif name is not None:\n",
    "            return AgentAction(name, args, log)\n",
    "\n",
    "    @property\n",
    "    def _type(self) -> str:\n",
    "        return \"Chain-of-Thought\"\n"
   ]
  },
  {
   "cell_type": "markdown",
   "id": "f5f51a7d-5b7b-4abd-b09f-6ce8521417e0",
   "metadata": {},
   "source": [
    "<div class=\"alert alert-warning\">\n",
    "    <b>💡 思考：自定义的CoT智能体，与ReAct智能体在判断推理结束方面的策略差别是什么？</b>\n",
    "</div>"
   ]
  },
  {
   "cell_type": "markdown",
   "id": "d1f3e4c4-2930-4b06-b9ac-e4a7c0359314",
   "metadata": {},
   "source": [
    "### ✍️ FINISH"
   ]
  },
  {
   "cell_type": "code",
   "execution_count": 581,
   "id": "a2ad2900-4873-4515-8d56-2086a6a9a7f8",
   "metadata": {},
   "outputs": [],
   "source": [
    "@tool\n",
    "def FINISH(output: str) -> str:\n",
    "    \"\"\"\n",
    "    用于表示任务完成的占位符工具。\n",
    "    Args:\n",
    "        output - 这是你要输出的答案。\n",
    "    \"\"\"\n",
    "    \n",
    "    return output"
   ]
  },
  {
   "cell_type": "markdown",
   "id": "7ff71d04-4457-4761-abbf-d67abdcddd48",
   "metadata": {},
   "source": [
    "### ✍️ 自定义一个智能体"
   ]
  },
  {
   "cell_type": "code",
   "execution_count": 582,
   "id": "f301bc7c-0c38-49c9-8b5a-18ac4cc992b7",
   "metadata": {},
   "outputs": [],
   "source": [
    "from langchain_core.runnables import RunnablePassthrough\n",
    "from langchain_core.pydantic_v1 import BaseModel, Field\n",
    "from langchain.agents.format_scratchpad import format_log_to_str\n",
    "from langchain.prompts import PromptTemplate\n",
    "from langchain.tools.render import render_text_description\n",
    "\n",
    "def _prompt_creator(prompt: str) -> Callable[[List[str]], str]:\n",
    "    def creator(tools: List[str]) -> str:\n",
    "        # 请注意，智谱AI等国内大模型对于pydantic的参数解析并不友好，使用JSON描述参数时会误读\n",
    "        # 因此，不要使用 render_text_description_and_args 来生成工具描述\n",
    "        tools_format = render_text_description(tools)\n",
    "\n",
    "        template = PromptTemplate.from_template(prompt)\n",
    "        return template.partial(\n",
    "            tools=tools_format,\n",
    "            action_format_instructions=_action_parser_format,\n",
    "        )\n",
    "\n",
    "    return creator\n",
    "\n",
    "# 基于 CoT 的智能体\n",
    "def create_cot_agent(llm: Any, prompt: Optional[str] = None, tools: List[str] = []) -> Any:\n",
    "    prompt_creator = _prompt_creator(PROMPT_COT)\n",
    "    if prompt is not None:\n",
    "        prompt_creator = _prompt_creator(prompt)\n",
    "\n",
    "    agent = (\n",
    "        RunnablePassthrough.assign(\n",
    "            agent_scratchpad=lambda x: format_log_to_str(x[\"intermediate_steps\"])\n",
    "        )\n",
    "        | prompt_creator(tools)\n",
    "        | llm\n",
    "        | ReasonOutputParser()\n",
    "    )\n",
    "\n",
    "    return agent"
   ]
  },
  {
   "cell_type": "markdown",
   "id": "3cc2ce2c-8174-41b6-8e4e-5381e09ad13d",
   "metadata": {},
   "source": [
    "### ✍️ create_cot_executor：尝试运行"
   ]
  },
  {
   "cell_type": "code",
   "execution_count": 583,
   "id": "f6680288-649b-4ae5-b30a-e974cde9c27c",
   "metadata": {},
   "outputs": [],
   "source": [
    "def create_cot_executor(llm, tools):\n",
    "    # 定义 Agent\n",
    "    agent = create_cot_agent(llm, tools=tools)\n",
    "    # 定义 AgentExecutor\n",
    "    executor = AgentExecutor(agent=agent, tools=tools, verbose=False, handle_parsing_errors=False)\n",
    "    \n",
    "    return executor\n",
    "\n",
    "neighber = create_cot_executor(ChatZhipuAI(), [ask_neighber, FINISH])"
   ]
  },
  {
   "cell_type": "code",
   "execution_count": 585,
   "id": "0df7abda-998c-4135-b5bf-218cff0b7849",
   "metadata": {},
   "outputs": [
    {
     "name": "stdout",
     "output_type": "stream",
     "text": [
      "```_json_\n",
      "{\n",
      " _ \"_name_\":_ \"_ask__ne_igh_ber_\",\n",
      " _ \"_args_\":_ {\n",
      "   _ \"_query_\":_ \"_马_冬_梅_家住_哪个_房间_？_\"\n",
      " _ }\n",
      "}\n",
      "```__```_json_\n",
      "{\n",
      " _ \"_name_\":_ \"_FIN_ISH_\",\n",
      " _ \"_args_\":_ {\n",
      "   _ \"_output_\":_ \"_马_冬_梅_家住_楼上_3_22_房间_\"\n",
      " _ }\n",
      "}\n",
      "```_ \n",
      "\n",
      "【_关键_概念_】_\n",
      "-_ 马_冬_梅_家_房间_号_\n",
      "\n",
      "【_概念_拆_解_】_\n",
      "-_ 马_冬_梅_家_房间_号_ -_ 待_查询_\n",
      "\n",
      "【_反思_】_\n",
      "-_ 我_已经_通过_询问_邻居_得到了_马_冬_梅_的_房间_号_是_楼上_3_22_。\n",
      "\n",
      "【_思考_】_\n",
      "-_ 既然_已经_获得了_马_冬_梅_的_房间_号_，_就没有_必要_再_进行_其他_查询_。\n",
      "\n",
      "【_推理_】_\n",
      "-_ _之前_通过_工具_ ask__ne_igh_ber_ 获_得了_所需_信息_，_现在_可以直接_用_ FIN_ISH_ 结_束_任务_。\n",
      "\n",
      "【_计划_】_\n",
      "-_ 使用_ FIN_ISH_ 工_具_结束_任务_，_并_输出_已知_信息_：“_马_冬_梅_家住_楼上_3_22_房间_”。__"
     ]
    }
   ],
   "source": [
    "async for chunk in neighber.astream_events({\"input\": \"马冬梅家住哪个房间？\"}, version=\"v1\"):\n",
    "    event = chunk['event']\n",
    "    if(event == \"on_chat_model_stream\"):\n",
    "        if('chunk' in chunk['data']):\n",
    "            print(chunk['data']['chunk'].content, end=\"_\", flush=True)"
   ]
  },
  {
   "cell_type": "markdown",
   "id": "6e3c7b21-65e0-4282-a023-3436685c7a22",
   "metadata": {},
   "source": [
    "# （三）再现《手撕AutoGPT》：langchain+智谱+智能体"
   ]
  },
  {
   "cell_type": "markdown",
   "id": "3c7facba-ea0c-4f06-836e-770febfe3150",
   "metadata": {},
   "source": [
    "## 7、定义工具"
   ]
  },
  {
   "cell_type": "markdown",
   "id": "8d99833a-7cbd-4593-ae77-24247b0cd7fe",
   "metadata": {},
   "source": [
    "### ✍️ 列举文件"
   ]
  },
  {
   "cell_type": "code",
   "execution_count": 586,
   "id": "11568d64-fd50-498d-84d8-0f4dd9e05628",
   "metadata": {},
   "outputs": [],
   "source": [
    "work_dir = \"./data\""
   ]
  },
  {
   "cell_type": "code",
   "execution_count": 587,
   "id": "4a39dc24-6ef4-49bc-aa52-14011569bf48",
   "metadata": {},
   "outputs": [],
   "source": [
    "# from langchain_openai import ChatOpenAI\n",
    "from langchain.tools import tool\n",
    "import os\n",
    "import re\n",
    "import fnmatch\n",
    "\n",
    "@tool\n",
    "def list_files(args=None) -> str:\n",
    "    \"\"\"如果需要查询资料，就首先使用该工具探查本地文件夹的结构和内容，展示它的文件名和文件夹名\"\"\"\n",
    "\n",
    "    # 工作目录\n",
    "    print(\"当前目录为：\", workd_dir)\n",
    "\n",
    "    # 定义你想要过滤的模式\n",
    "    patterns = ['*.pdf', \"*.xlsx\"]\n",
    "\n",
    "    if(os.path.isdir(workd_dir)):\n",
    "        all_files = os.listdir(work_dir)\n",
    "        # 过滤出所有匹配的文件\n",
    "        matching_files = [f for f in all_files for p in patterns if fnmatch.fnmatch(f, p)]\n",
    "\n",
    "        return \"\\n\".join(matching_files)\n",
    "    else:\n",
    "        return []"
   ]
  },
  {
   "cell_type": "code",
   "execution_count": 588,
   "id": "d4097187-2538-4440-837c-665b11e7fc94",
   "metadata": {},
   "outputs": [
    {
     "name": "stdout",
     "output_type": "stream",
     "text": [
      "当前目录为： ./data\n",
      "2023年8月-9月销售记录.xlsx\n",
      "供应商名录.xlsx\n",
      "供应商资格要求.pdf\n"
     ]
    }
   ],
   "source": [
    "print(list_files.invoke({}))"
   ]
  },
  {
   "cell_type": "markdown",
   "id": "e84dc3bc-f2dd-44d7-92cd-36d175c91da3",
   "metadata": {},
   "source": [
    "### ✍️ 查询文档"
   ]
  },
  {
   "cell_type": "markdown",
   "id": "18407606-4160-4c54-8671-e4f67d452a7d",
   "metadata": {},
   "source": [
    "#### （1）准备"
   ]
  },
  {
   "cell_type": "code",
   "execution_count": 654,
   "id": "2a86ac37-0f36-4b26-a157-4ca33dbba461",
   "metadata": {},
   "outputs": [],
   "source": [
    "from typing import List\n",
    "from langchain.schema import Document\n",
    "from langchain.text_splitter import RecursiveCharacterTextSplitter\n",
    "from langchain.vectorstores import Chroma\n",
    "from langchain.document_loaders import PyPDFLoader\n",
    "from langchain_community.document_loaders import Docx2txtLoader\n",
    "from langchain_zhipu import ChatZhipuAI\n",
    "from langchain_openai import OpenAIEmbeddings\n",
    "from langchain_core.messages import BaseMessage"
   ]
  },
  {
   "cell_type": "code",
   "execution_count": 655,
   "id": "c4d20b40-25cb-4538-8ef8-129c14f7016f",
   "metadata": {},
   "outputs": [],
   "source": [
    "def get_file_extension(filename: str) -> str:\n",
    "    return filename.split(\".\")[-1]\n",
    "\n",
    "def format_docs(docs: List[str]) -> str:\n",
    "    return \"\\n\\n\".join([d.page_content for d in docs])\n",
    "\n",
    "def convert_message_to_str(message: Union[BaseMessage, str]) -> str:\n",
    "    if isinstance(message, BaseMessage):\n",
    "        return message.content\n",
    "    else:\n",
    "        return message"
   ]
  },
  {
   "cell_type": "code",
   "execution_count": 656,
   "id": "69cdb4f0-bf07-448e-83fb-2c2488573dd3",
   "metadata": {},
   "outputs": [],
   "source": [
    "class FileLoadFactory:\n",
    "    @staticmethod\n",
    "    def get_loader(filename: str):\n",
    "        filename = filename.strip()\n",
    "        ext = get_file_extension(filename)\n",
    "        if ext == \"pdf\":\n",
    "            return PyPDFLoader(filename)\n",
    "        elif ext == \"docx\" or ext == \"doc\":\n",
    "            return Docx2txtLoader(filename)\n",
    "        else:\n",
    "            raise NotImplementedError(f\"File extension {ext} not supported.\")"
   ]
  },
  {
   "cell_type": "code",
   "execution_count": 657,
   "id": "c14e4c9e-5d55-455b-b788-c6a83dddadd3",
   "metadata": {},
   "outputs": [],
   "source": [
    "def load_docs(filename: str) -> List[Document]:\n",
    "    file_loader = FileLoadFactory.get_loader(filename)\n",
    "    return file_loader.load_and_split()"
   ]
  },
  {
   "cell_type": "markdown",
   "id": "69b6e6a7-c326-4b87-8173-d720b4de0c3e",
   "metadata": {},
   "source": [
    "#### （2）使用 RAG 查询文档"
   ]
  },
  {
   "cell_type": "code",
   "execution_count": 777,
   "id": "b0fcda75-1a11-49d1-85df-6716984e06ef",
   "metadata": {},
   "outputs": [],
   "source": [
    "@tool\n",
    "def ask_document(\n",
    "        filename: str,\n",
    "        query: str,\n",
    ") -> str:\n",
    "    \"\"\"\n",
    "    查询Word或PDF文档中的文本内容，以便回答问题。\n",
    "    考虑上下文信息，确保问题对相关概念的定义表述完整。\n",
    "    \"\"\"\n",
    "\n",
    "    path = os.path.join(work_dir, filename)\n",
    "    if(not os.path.exists(path)):\n",
    "        return f\"给定的文件路径不存在，请从工作目录{work_dir}中列举文件，确认其存在\"\n",
    "\n",
    "    chunks = load_docs(path)\n",
    "    # print(chunks)\n",
    "    if chunks is None or len(chunks) == 0:\n",
    "        return \"无法读取文档内容\"\n",
    "\n",
    "    db = Chroma.from_documents(chunks, OpenAIEmbeddings())\n",
    "\n",
    "    DEFAULT_QA_CHAIN_PROMPT = \"\"\"\n",
    "        你要严格依据如下资料回答问题，你的回答不能与其冲突，更不要编造。\n",
    "        请始终使用中文回答。\n",
    "        \n",
    "        {context}\n",
    "        \n",
    "        问题: {question}\n",
    "        \"\"\"\n",
    "    prompt = ChatPromptTemplate.from_template(DEFAULT_QA_CHAIN_PROMPT)\n",
    "\n",
    "    qa_chain = (\n",
    "        {\n",
    "            \"context\": (lambda x: convert_message_to_str(x)) | db.as_retriever() | format_docs,\n",
    "            \"question\": lambda x: convert_message_to_str(x)\n",
    "        }\n",
    "        | prompt\n",
    "        | ChatZhipuAI()\n",
    "    )\n",
    "\n",
    "    # response = qa_chain.invoke(query)\n",
    "    final_output = \"\"\n",
    "    for chunk in qa_chain.stream(query):\n",
    "        print(chunk.content, end=\"|\")\n",
    "        final_output += chunk.content\n",
    "        \n",
    "    return final_output"
   ]
  },
  {
   "cell_type": "markdown",
   "id": "95bd9016-6f44-4caf-b79e-58e24926c8ff",
   "metadata": {},
   "source": [
    "<div class=\"alert alert-warning\">\n",
    "    <b>思考：BaseTool 的定义中没有流方法，所以工具定义中也没有流输出支持</b><br>\n",
    "    这将导致智能体在调用时，实际上无法获得流式输出（尽管可以在后台调试时打印，但不方便传递）。<br>\n",
    "    这是为什么呢？？\n",
    "</div>"
   ]
  },
  {
   "cell_type": "code",
   "execution_count": 778,
   "id": "5c935f82-3396-4008-828e-3f0f03bd43c1",
   "metadata": {},
   "outputs": [
    {
     "name": "stdout",
     "output_type": "stream",
     "text": [
      "供应商|要|达到|的标准|主要包括|以下|六个|方面|：\n",
      "\n",
      "一|、|基本|资质|要求|：\n",
      "  | |1|.| 必|须|具备|合法|有效的|营业执照|。\n",
      "  | |2|.| 必|须|具备|税务|登记|证|，|且|符合|国家|税收|法律法规|。\n",
      "  | |3|.| 应|拥有|有效的|组织|机构|代码|证|。\n",
      "\n",
      "二|、|经营|和|财务|能力|：\n",
      "  | |1|.| 与|公司|合作的|月份|，|销售|的产品|月|总价|不得|低于|人民币|3|万元|。\n",
      "  | |2|.| 具|备|健全|和|稳定的|财务|状况|，|以及|良好的|信用|记录|。\n",
      "  | |3|.| 具|备|足够的|流动|资金|来|支持|合同|执行|。\n",
      "\n",
      "三|、|产品|和服务|质量|：\n",
      "  | |1|.| 提|供|的产品|必须|符合|国家|及|行业标准|，|并通过|相关|质量|认证|。\n",
      "  | |2|.| 具|备|高标准|的服务|体系|，|承诺|在|合作|期间|提供|持续|、|稳定|、|优质|的服务|。\n",
      "\n",
      "四|、|行业|经验和|声誉|：\n",
      "  | |1|.| 具|有|至少|五|年的|相关|行业|经验|。\n",
      "  | |2|.| 有|良好的|业务|声誉|和|客户|满意度|记录|。\n",
      "\n",
      "五|、|社会责任|和|可持续|性|：\n",
      "  | |供应商|应|在其|经营|活动中|体现出|对社会|和|环境的|责任|，|以及|保证|业务的|可持续|性|。\n",
      "\n",
      "六|、|其他|：\n",
      "  | |供应商|还需|满足|其他|可能|的公司|特定|要求|，|以保证|合作的|顺利进行|。\n",
      "\n",
      "只有|当|供应商|满足|上述|所有|标准|时|，|才有|资格|参与|投标|。||"
     ]
    },
    {
     "data": {
      "text/plain": [
       "'供应商要达到的标准主要包括以下六个方面：\\n\\n一、基本资质要求：\\n   1. 必须具备合法有效的营业执照。\\n   2. 必须具备税务登记证，且符合国家税收法律法规。\\n   3. 应拥有有效的组织机构代码证。\\n\\n二、经营和财务能力：\\n   1. 与公司合作的月份，销售的产品月总价不得低于人民币3万元。\\n   2. 具备健全和稳定的财务状况，以及良好的信用记录。\\n   3. 具备足够的流动资金来支持合同执行。\\n\\n三、产品和服务质量：\\n   1. 提供的产品必须符合国家及行业标准，并通过相关质量认证。\\n   2. 具备高标准的服务体系，承诺在合作期间提供持续、稳定、优质的服务。\\n\\n四、行业经验和声誉：\\n   1. 具有至少五年的相关行业经验。\\n   2. 有良好的业务声誉和客户满意度记录。\\n\\n五、社会责任和可持续性：\\n   供应商应在其经营活动中体现出对社会和环境的责任，以及保证业务的可持续性。\\n\\n六、其他：\\n   供应商还需满足其他可能的公司特定要求，以保证合作的顺利进行。\\n\\n只有当供应商满足上述所有标准时，才有资格参与投标。'"
      ]
     },
     "execution_count": 778,
     "metadata": {},
     "output_type": "execute_result"
    }
   ],
   "source": [
    "ask_document.invoke({\"filename\": \"供应商资格要求.pdf\", \"query\": \"供应商达标标准\"})"
   ]
  },
  {
   "cell_type": "markdown",
   "id": "24988a01-b887-41ab-9f6f-769fa42a533c",
   "metadata": {},
   "source": [
    "### ✍️ Excel 结构探查"
   ]
  },
  {
   "cell_type": "code",
   "execution_count": 764,
   "id": "42346d58-b95e-466e-87e0-05c005600ca1",
   "metadata": {},
   "outputs": [],
   "source": [
    "import pandas as pd"
   ]
  },
  {
   "cell_type": "code",
   "execution_count": 765,
   "id": "0c5ffc59-fbe1-4968-bc56-38dbee922091",
   "metadata": {},
   "outputs": [],
   "source": [
    "def get_sheet_names(\n",
    "        filename : str\n",
    ") -> str :\n",
    "    \"\"\"获取 Excel 文件的工作表名称\"\"\"\n",
    "    path = filename\n",
    "    if(not os.path.exists(path)):\n",
    "        return f\"给定的文件路径不存在，请从工作目录{work_dir}中列举文件，确认其存在\"\n",
    "        \n",
    "    excel_file = pd.ExcelFile(path.strip())\n",
    "    sheet_names = excel_file.sheet_names\n",
    "    return f\"这是 '{path}' 文件的工作表名称：\\n\\n{sheet_names}\""
   ]
  },
  {
   "cell_type": "code",
   "execution_count": 766,
   "id": "63612915-fbfb-46d3-b2e4-93e4371af8be",
   "metadata": {},
   "outputs": [],
   "source": [
    "def get_column_names(\n",
    "        filename : str\n",
    ") -> str:\n",
    "    \"\"\"获取 Excel 文件的列名\"\"\"\n",
    "\n",
    "    # 读取 Excel 文件的第一个工作表\n",
    "    path = filename\n",
    "    if(not os.path.exists(path)):\n",
    "        return f\"给定的文件路径不存在，请从工作目录{work_dir}中列举文件，确认其存在\"\n",
    "        \n",
    "    df = pd.read_excel(path.strip(), sheet_name=0)  # sheet_name=0 表示第一个工作表\n",
    "    column_names = '\\n'.join(\n",
    "        df.columns.to_list()\n",
    "    )\n",
    "\n",
    "    result = f\"这是 '{path.strip()}' 文件第一个工作表的列名：\\n\\n{column_names}\"\n",
    "    return result"
   ]
  },
  {
   "cell_type": "code",
   "execution_count": 772,
   "id": "987ceb8c-d051-4914-93c7-f1e5cbda0443",
   "metadata": {},
   "outputs": [],
   "source": [
    "def get_first_n_rows(\n",
    "        filename : str,\n",
    "        n : int = 3\n",
    ") -> str :\n",
    "    path = os.path.join(work_dir, filename)\n",
    "    path = path.strip()\n",
    "    if(not os.path.exists(path)):\n",
    "        return f\"给定的文件路径不存在，请从工作目录{work_dir}中列举文件，确认其存在\"\n",
    "\n",
    "    result = get_sheet_names(path)+\"\\n\\n\"\n",
    "    result += get_column_names(path)+\"\\n\\n\"\n",
    "\n",
    "    # 读取 Excel 文件的第一个工作表\n",
    "    df = pd.read_excel(path, sheet_name=0)  # sheet_name=0 表示第一个工作表\n",
    "    n_lines = '\\n'.join(\n",
    "        df.head(n).to_string(index=False, header=True).split('\\n')\n",
    "    )\n",
    "\n",
    "    result += f\"这是 '{path}' 文件第一个工作表的前{n}行样例：\\n\\n{n_lines}\"\n",
    "    return result\n",
    "\n",
    "@tool\n",
    "def inspect_excel(\n",
    "        filename : str,\n",
    "        n : int = 3\n",
    ") -> str :\n",
    "    \"\"\"\n",
    "    探查Excel数据文件的内容和结构，展示它的列名和前n行，n默认为3。\n",
    "    注意，该工具仅使用于探查Excel文件，不能探查PDF或Word文件。\n",
    "    \n",
    "    使用该函数时应当准备提供filename和n两个参数，其中：\n",
    "    \n",
    "    - filename：要探查的Excel文件名\n",
    "    - n: 默认的行数\n",
    "    \n",
    "    \"\"\"\n",
    "    return get_first_n_rows(filename, n)"
   ]
  },
  {
   "cell_type": "code",
   "execution_count": 773,
   "id": "809ae148-d138-4f2b-8b9e-c397689602f6",
   "metadata": {},
   "outputs": [
    {
     "name": "stdout",
     "output_type": "stream",
     "text": [
      "这是 './data/2023年8月-9月销售记录.xlsx' 文件的工作表名称：\n",
      "\n",
      "['2023年8月-9月销售记录']\n",
      "\n",
      "这是 './data/2023年8月-9月销售记录.xlsx' 文件第一个工作表的列名：\n",
      "\n",
      "品类\n",
      "产品名\n",
      "单价(元)\n",
      "销售量\n",
      "销售日期\n",
      "供应商\n",
      "\n",
      "这是 './data/2023年8月-9月销售记录.xlsx' 文件第一个工作表的前3行样例：\n",
      "\n",
      "   品类                产品名  单价(元)  销售量       销售日期        供应商\n",
      "   手机       Xiaomi Mi 11   4999   20 2023-08-02   北京科技有限公司\n",
      "   耳机    Sony WH-1000XM4   2999   15 2023-08-03   上海音响有限公司\n",
      "笔记本电脑 Lenovo ThinkPad X1   8999   10 2023-08-05 深圳创新科技有限公司\n"
     ]
    }
   ],
   "source": [
    "##\n",
    "print(inspect_excel({\"filename\": \"2023年8月-9月销售记录.xlsx\"}))"
   ]
  },
  {
   "cell_type": "markdown",
   "id": "87ce36f4-4637-4f30-8bf9-f08ff0c78f16",
   "metadata": {},
   "source": [
    "### ✍️ Excel 数据分析"
   ]
  },
  {
   "cell_type": "markdown",
   "id": "74b83941-34f3-446f-8213-a922ba37444d",
   "metadata": {},
   "source": [
    "#### （1）准备"
   ]
  },
  {
   "cell_type": "code",
   "execution_count": 599,
   "id": "4e904aab-0239-4bad-9ac2-913b285d4f80",
   "metadata": {},
   "outputs": [],
   "source": [
    "import re\n",
    "from langchain.tools import StructuredTool\n",
    "from langchain_core.output_parsers import BaseOutputParser\n",
    "\n",
    "# from Utils.PythonExecUtil import execute_python_code\n",
    "from langchain_openai import ChatOpenAI\n",
    "from langchain_experimental.utilities import PythonREPL"
   ]
  },
  {
   "cell_type": "markdown",
   "id": "2f6e6e9d-8278-47e9-94db-a5da3e94ca3a",
   "metadata": {},
   "source": [
    "#### （2）自定义一个OutputParse"
   ]
  },
  {
   "cell_type": "code",
   "execution_count": 735,
   "id": "5786995e-9011-4e46-a826-dec2543a746b",
   "metadata": {},
   "outputs": [],
   "source": [
    "class PythonCodeParser(BaseOutputParser):\n",
    "    \"\"\"从大模型返回的文本中提取Python代码。\"\"\"\n",
    "\n",
    "    def _remove_marked_lines(self, input_str: str) -> str:\n",
    "        lines = input_str.strip().split('\\n')\n",
    "        if lines and lines[0].strip().startswith('```'):\n",
    "            del lines[0]\n",
    "        if lines and lines[-1].strip().startswith('```'):\n",
    "            del lines[-1]\n",
    "\n",
    "        ans = '\\n'.join(lines)\n",
    "        return ans\n",
    "\n",
    "    def parse(self, text: str) -> str:\n",
    "        # 使用正则表达式找到所有的Python代码块\n",
    "        python_code_blocks = re.findall(r'```python\\n(.*?)\\n```', text, re.DOTALL)\n",
    "        # 从re返回结果提取出Python代码文本\n",
    "        python_code = None\n",
    "        if len(python_code_blocks) > 0:\n",
    "            python_code = python_code_blocks[0]\n",
    "            python_code = self._remove_marked_lines(python_code)\n",
    "        return python_code"
   ]
  },
  {
   "cell_type": "markdown",
   "id": "5e9b77b4-5c15-42e8-84f1-f85cf142a181",
   "metadata": {},
   "source": [
    "#### （3）定义提示语模板"
   ]
  },
  {
   "cell_type": "code",
   "execution_count": 749,
   "id": "691458c9-ac30-4d79-9a16-e47c8a0f86f6",
   "metadata": {},
   "outputs": [],
   "source": [
    "from langchain.prompts import PromptTemplate\n",
    "\n",
    "excel_analyser_prompt = PromptTemplate.from_template(\"\"\"\n",
    "你的任务是先分析，再生成代码。\n",
    "\n",
    "请根据用户的输入，一步步分析：\n",
    "（1）用户的输入是否依赖某个条件，而这个条件没有明确赋值？\n",
    "（2）我是否需要对某个变量的值做假设？\n",
    "（3）已经从用户的输入中拆解概念，将其中包含的数字或实体名称，映射为所生成的函数入参，并在代码中使用？\n",
    "（4）不能生成用户输入中没有包含的函数入参，将导致严重后果，这一点是否已经确认？\n",
    "\n",
    "如果我需要对某个变量的值做假设，请直接输出：\n",
    "```python\n",
    "print(\"我需要知道____的值，才能生成代码。请完善你的查询。\") # 请将____替换为需要假设的的条件\n",
    "```\n",
    "否则，创建Python代码，分析指定文件的内容。\n",
    "\n",
    "MUST 请不要使用filename作为入参变量，直接写死在代码里即可。\n",
    "\n",
    "MUST 你生成代码中所有的常量都必须来自我给你的信息或来自文件本身。不要编造任何常量。\n",
    "如果常量缺失，你的代码将无法运行。你可以拒绝生成代码，但是不要生成编造的代码。\n",
    "确保你生成的代码最终以print的方式输出结果(回答用户的问题)。\n",
    "\n",
    "MUST 你可以使用的库只包括：pandas, re, math, datetime, openpyxl\n",
    "确保你的代码只使用上述库，否则你的代码将无法运行。\n",
    "\n",
    "MUST 确保你的代码可以通过运行的。\n",
    "\n",
    "给定文件为：\n",
    "{filename}\n",
    "\n",
    "文件内容样例：\n",
    "{inspections}\n",
    "\n",
    "你输出的Python代码前后必须有markdown标识符，如下所示：\n",
    "```python\n",
    "# example code\n",
    "```\n",
    "\n",
    "用户输入：\n",
    "{query}\n",
    "\"\"\")"
   ]
  },
  {
   "cell_type": "markdown",
   "id": "a487a8fc-1531-401a-9b50-444029c6a0d7",
   "metadata": {},
   "source": [
    "#### （4）定义执行链"
   ]
  },
  {
   "cell_type": "code",
   "execution_count": 750,
   "id": "73ca3e62-4479-4d58-882e-ea3c52085efa",
   "metadata": {},
   "outputs": [],
   "source": [
    "# llm = ChatOpenAI(\n",
    "#         model=\"gpt-4-0125-preview\",\n",
    "#         temperature=0,\n",
    "#         # model_kwargs={\"seed\": 42},\n",
    "#     )\n",
    "# analysis_chain = excel_analyser_prompt | llm | PythonCodeParser()"
   ]
  },
  {
   "cell_type": "code",
   "execution_count": 751,
   "id": "938d8e60-ea81-4595-aadf-3021b0d6bdc0",
   "metadata": {},
   "outputs": [],
   "source": [
    "llm = ChatZhipuAI()\n",
    "analysis_chain = excel_analyser_prompt | llm | PythonCodeParser()"
   ]
  },
  {
   "cell_type": "markdown",
   "id": "d4413d08-258d-4203-a670-79b6dec4744a",
   "metadata": {},
   "source": [
    "#### （5）生成 python 代码并执行"
   ]
  },
  {
   "cell_type": "code",
   "execution_count": 752,
   "id": "08749f35-6a4d-414c-ae79-28b74d73cee1",
   "metadata": {},
   "outputs": [],
   "source": [
    "import ast\n",
    "import types\n",
    "from langchain_core.utils.function_calling import convert_to_openai_tool\n",
    "from langchain_experimental.utilities import PythonREPL\n",
    "\n",
    "@tool\n",
    "def excel_analyse(query: str, filename: str):\n",
    "    \"\"\"如果给定一个Excel文件，就可以根据该工具分析其内容。\"\"\"\n",
    "\n",
    "    path = os.path.join(work_dir, filename)\n",
    "    path = path.strip()\n",
    "    if(not os.path.exists(path)):\n",
    "        return f\"给定的文件路径不存在，请从工作目录{work_dir}中列举文件，确认其存在\"\n",
    "\n",
    "    # columns = get_column_names(filename)\n",
    "    inspections = get_first_n_rows(filename)\n",
    "\n",
    "    # 打印详细信息\n",
    "    color_print(\"\\n#!/usr/bin/env python\", CODE_COLOR, end=\"\\n\")\n",
    "\n",
    "    # 生成代码\n",
    "    code = \"\"\n",
    "    for c in analysis_chain.stream({\n",
    "        \"query\": query,\n",
    "        \"filename\": path,\n",
    "        \"inspections\": inspections\n",
    "    }):\n",
    "        ## 打印详细信息\n",
    "        color_print(c, CODE_COLOR, end=\"\")\n",
    "        ## 收集代码成果\n",
    "        code += c\n",
    "\n",
    "    if code:        \n",
    "        # 执行代码\n",
    "        return PythonREPL().run(code)\n",
    "    else:\n",
    "        return \"没有找到可执行的Python代码\""
   ]
  },
  {
   "cell_type": "code",
   "execution_count": 753,
   "id": "914d2a31-20fc-4e4a-9894-01cc502d404a",
   "metadata": {},
   "outputs": [
    {
     "name": "stdout",
     "output_type": "stream",
     "text": [
      "\u001b[34m\n",
      "#!/usr/bin/env python\u001b[0m\n",
      "\u001b[34m# 导入库\n",
      "import pandas as pd\n",
      "\n",
      "# 读取Excel文件\n",
      "df = pd.read_excel('./data/2023年8月-9月销售记录.xlsx', sheet_name='2023年8月-9月销售记录')\n",
      "\n",
      "# 计算销售总额\n",
      "total_sales = df['单价(元)'].multiply(df['销售量']).sum()\n",
      "\n",
      "# 输出结果\n",
      "print(f\"销售总额是：{total_sales}元\")\u001b[0m"
     ]
    },
    {
     "data": {
      "text/plain": [
       "'销售总额是：5456735元\\n'"
      ]
     },
     "execution_count": 753,
     "metadata": {},
     "output_type": "execute_result"
    }
   ],
   "source": [
    "##\n",
    "excel_analyse.invoke({\n",
    "    \"query\": \"销售总额是多少?\",\n",
    "    \"filename\": \"2023年8月-9月销售记录.xlsx\"\n",
    "})"
   ]
  },
  {
   "cell_type": "markdown",
   "id": "3613d468-d62b-4d22-afdd-fd32cd160c2e",
   "metadata": {},
   "source": [
    "### ✍️ 准备工具集"
   ]
  },
  {
   "cell_type": "code",
   "execution_count": 779,
   "id": "e200b8c8-8835-471c-b211-c4509512247b",
   "metadata": {},
   "outputs": [
    {
     "name": "stdout",
     "output_type": "stream",
     "text": [
      "--------------------------------------------------------------------------------\n",
      "Tool:  list_files\n",
      "DESC:  list_files(args=None) -> str - 如果需要查询资料，就首先使用该工具探查本地文件夹的结构和内容，展示它的文件名和文件夹名\n",
      "--------------------------------------------------------------------------------\n",
      "Tool:  ask_document\n",
      "DESC:  ask_document(filename: str, query: str) -> str - 查询Word或PDF文档中的文本内容，以便回答问题。\n",
      "    考虑上下文信息，确保问题对相关概念的定义表述完整。\n",
      "--------------------------------------------------------------------------------\n",
      "Tool:  inspect_excel\n",
      "DESC:  inspect_excel(filename: str, n: int = 3) -> str - 探查Excel数据文件的内容和结构，展示它的列名和前n行，n默认为3。\n",
      "    注意，该工具仅使用于探查Excel文件，不能探查PDF或Word文件。\n",
      "    \n",
      "    使用该函数时应当准备提供filename和n两个参数，其中：\n",
      "    \n",
      "    - filename：要探查的Excel文件名\n",
      "    - n: 默认的行数\n",
      "--------------------------------------------------------------------------------\n",
      "Tool:  excel_analyse\n",
      "DESC:  excel_analyse(query: str, filename: str) - 如果给定一个Excel文件，就可以根据该工具分析其内容。\n",
      "--------------------------------------------------------------------------------\n",
      "Tool:  FINISH\n",
      "DESC:  FINISH(output: str) -> str - 用于表示任务完成的占位符工具。\n",
      "    Args:\n",
      "        output - 这是你要输出的答案。\n"
     ]
    }
   ],
   "source": [
    "tools = [\n",
    "    list_files,\n",
    "    ask_document,\n",
    "    inspect_excel,\n",
    "    excel_analyse,\n",
    "    FINISH,\n",
    "]\n",
    "\n",
    "for t in tools:\n",
    "    print(\"-\"*80)\n",
    "    print(\"Tool: \", t.name)\n",
    "    print(\"DESC: \", t.description)"
   ]
  },
  {
   "cell_type": "markdown",
   "id": "a38e77ba-68bc-491d-98db-23bce5c2aa39",
   "metadata": {},
   "source": [
    "## 8、基于 🦜🔗LangChain 的智能体对比"
   ]
  },
  {
   "cell_type": "markdown",
   "id": "6fdc647c-00c2-4fa0-8413-4ab466e7d1b1",
   "metadata": {},
   "source": [
    "### ✍️ GPT4 + create_react_agent"
   ]
  },
  {
   "cell_type": "code",
   "execution_count": 757,
   "id": "48781f8c-b4cc-461c-830e-696d185307bb",
   "metadata": {},
   "outputs": [],
   "source": [
    "gpt_react = create_react_executor(\n",
    "    ChatOpenAI(model=\"gpt-4-0125-preview\"),\n",
    "    [\n",
    "        list_files,\n",
    "        ask_document,\n",
    "        inspect_excel,\n",
    "        excel_analyse,\n",
    "    ])"
   ]
  },
  {
   "cell_type": "code",
   "execution_count": 758,
   "id": "3b7240f6-7079-4cb5-aa2f-d715b19f310b",
   "metadata": {
    "scrolled": true
   },
   "outputs": [
    {
     "name": "stdout",
     "output_type": "stream",
     "text": [
      "\n",
      "\n",
      "\u001b[1m> Entering new AgentExecutor chain...\u001b[0m\n",
      "_为_了_回_答_这_个_问题_，_我_需要_查_看_相关_的_文件_，_以_找_出_供_应_商_达_标_的_具_体_业_绩_要_求_。_这_可能_包_括_销_售_额_、_质_量_标_准_、_交_货_时间_等_方_面_的_标_准_。_我_将_首_先_列_出_可_用_的_文件_，_看_看_是否_有_可能_包_含_这_类_信息_的_文件_，_例如_供_应_商_手_册_、_合_同_等_。\n",
      "\n",
      "_Action_:_ list__files_\n",
      "_Action_ Input_:_ None__\u001b[32;1m\u001b[1;3m为了回答这个问题，我需要查看相关的文件，以找出供应商达标的具体业绩要求。这可能包括销售额、质量标准、交货时间等方面的标准。我将首先列出可用的文件，看看是否有可能包含这类信息的文件，例如供应商手册、合同等。\n",
      "\n",
      "Action: list_files\n",
      "Action Input: None\u001b[0m当前目录为： ./data\n",
      "\u001b[36;1m\u001b[1;3m2023年8月-9月销售记录.xlsx\n",
      "供应商名录.xlsx\n",
      "供应商资格要求.pdf\u001b[0m_看_到_名_为_\"_供_应_商_资_格_要_求_.pdf_\"_的_文件_，_这_个_文件_听_起_来_很_可能_包_含_有_关_供_应_商_达_标_的_业_绩_要_求_的_信息_。_接_下_来_我_将_查询_这_个_PDF_文_档_以_获取_具_体_的_要_求_。\n",
      "\n",
      "_Action_:_ ask__doc_ment_\n",
      "_Action_ Input_:_ 文件_名_为_\"_供_应_商_资_格_要_求_.pdf_\"_，_查询_内容_为_\"_供_应_商_达_标_的_业_绩_要_求_\"__\u001b[32;1m\u001b[1;3m看到名为\"供应商资格要求.pdf\"的文件，这个文件听起来很可能包含有关供应商达标的业绩要求的信息。接下来我将查询这个PDF文档以获取具体的要求。\n",
      "\n",
      "Action: ask_docment\n",
      "Action Input: 文件名为\"供应商资格要求.pdf\"，查询内容为\"供应商达标的业绩要求\"\u001b[0m"
     ]
    },
    {
     "ename": "ValidationError",
     "evalue": "1 validation error for ask_docmentSchema\nquery\n  field required (type=value_error.missing)",
     "output_type": "error",
     "traceback": [
      "\u001b[0;31m---------------------------------------------------------------------------\u001b[0m",
      "\u001b[0;31mValidationError\u001b[0m                           Traceback (most recent call last)",
      "Cell \u001b[0;32mIn[758], line 1\u001b[0m\n\u001b[0;32m----> 1\u001b[0m \u001b[38;5;28;01masync\u001b[39;00m \u001b[38;5;28;01mfor\u001b[39;00m chunk \u001b[38;5;129;01min\u001b[39;00m gpt_react\u001b[38;5;241m.\u001b[39mastream_events({\u001b[38;5;124m\"\u001b[39m\u001b[38;5;124minput\u001b[39m\u001b[38;5;124m\"\u001b[39m: \u001b[38;5;124m\"\u001b[39m\u001b[38;5;124m供应商达标的业绩要求是什么？\u001b[39m\u001b[38;5;124m\"\u001b[39m}, version\u001b[38;5;241m=\u001b[39m\u001b[38;5;124m\"\u001b[39m\u001b[38;5;124mv1\u001b[39m\u001b[38;5;124m\"\u001b[39m):\n\u001b[1;32m      2\u001b[0m     event \u001b[38;5;241m=\u001b[39m chunk[\u001b[38;5;124m'\u001b[39m\u001b[38;5;124mevent\u001b[39m\u001b[38;5;124m'\u001b[39m]\n\u001b[1;32m      3\u001b[0m     \u001b[38;5;28;01mif\u001b[39;00m(event \u001b[38;5;241m==\u001b[39m \u001b[38;5;124m\"\u001b[39m\u001b[38;5;124mon_chat_model_stream\u001b[39m\u001b[38;5;124m\"\u001b[39m):\n",
      "File \u001b[0;32m~/Library/Caches/pypoetry/virtualenvs/langchain-book-u1j6yauo-py3.10/lib/python3.10/site-packages/langchain_core/runnables/base.py:905\u001b[0m, in \u001b[0;36mRunnable.astream_events\u001b[0;34m(self, input, config, version, include_names, include_types, include_tags, exclude_names, exclude_types, exclude_tags, **kwargs)\u001b[0m\n\u001b[1;32m    901\u001b[0m root_name \u001b[38;5;241m=\u001b[39m config\u001b[38;5;241m.\u001b[39mget(\u001b[38;5;124m\"\u001b[39m\u001b[38;5;124mrun_name\u001b[39m\u001b[38;5;124m\"\u001b[39m, \u001b[38;5;28mself\u001b[39m\u001b[38;5;241m.\u001b[39mget_name())\n\u001b[1;32m    903\u001b[0m \u001b[38;5;66;03m# Ignoring mypy complaint about too many different union combinations\u001b[39;00m\n\u001b[1;32m    904\u001b[0m \u001b[38;5;66;03m# This arises because many of the argument types are unions\u001b[39;00m\n\u001b[0;32m--> 905\u001b[0m \u001b[38;5;28;01masync\u001b[39;00m \u001b[38;5;28;01mfor\u001b[39;00m log \u001b[38;5;129;01min\u001b[39;00m _astream_log_implementation(  \u001b[38;5;66;03m# type: ignore[misc]\u001b[39;00m\n\u001b[1;32m    906\u001b[0m     \u001b[38;5;28mself\u001b[39m,\n\u001b[1;32m    907\u001b[0m     \u001b[38;5;28minput\u001b[39m,\n\u001b[1;32m    908\u001b[0m     config\u001b[38;5;241m=\u001b[39mconfig,\n\u001b[1;32m    909\u001b[0m     stream\u001b[38;5;241m=\u001b[39mstream,\n\u001b[1;32m    910\u001b[0m     diff\u001b[38;5;241m=\u001b[39m\u001b[38;5;28;01mTrue\u001b[39;00m,\n\u001b[1;32m    911\u001b[0m     with_streamed_output_list\u001b[38;5;241m=\u001b[39m\u001b[38;5;28;01mTrue\u001b[39;00m,\n\u001b[1;32m    912\u001b[0m     \u001b[38;5;241m*\u001b[39m\u001b[38;5;241m*\u001b[39mkwargs,\n\u001b[1;32m    913\u001b[0m ):\n\u001b[1;32m    914\u001b[0m     run_log \u001b[38;5;241m=\u001b[39m run_log \u001b[38;5;241m+\u001b[39m log\n\u001b[1;32m    916\u001b[0m     \u001b[38;5;28;01mif\u001b[39;00m \u001b[38;5;129;01mnot\u001b[39;00m encountered_start_event:\n\u001b[1;32m    917\u001b[0m         \u001b[38;5;66;03m# Yield the start event for the root runnable.\u001b[39;00m\n",
      "File \u001b[0;32m~/Library/Caches/pypoetry/virtualenvs/langchain-book-u1j6yauo-py3.10/lib/python3.10/site-packages/langchain_core/tracers/log_stream.py:612\u001b[0m, in \u001b[0;36m_astream_log_implementation\u001b[0;34m(runnable, input, config, stream, diff, with_streamed_output_list, **kwargs)\u001b[0m\n\u001b[1;32m    609\u001b[0m \u001b[38;5;28;01mfinally\u001b[39;00m:\n\u001b[1;32m    610\u001b[0m     \u001b[38;5;66;03m# Wait for the runnable to finish, if not cancelled (eg. by break)\u001b[39;00m\n\u001b[1;32m    611\u001b[0m     \u001b[38;5;28;01mtry\u001b[39;00m:\n\u001b[0;32m--> 612\u001b[0m         \u001b[38;5;28;01mawait\u001b[39;00m task\n\u001b[1;32m    613\u001b[0m     \u001b[38;5;28;01mexcept\u001b[39;00m asyncio\u001b[38;5;241m.\u001b[39mCancelledError:\n\u001b[1;32m    614\u001b[0m         \u001b[38;5;28;01mpass\u001b[39;00m\n",
      "File \u001b[0;32m~/Library/Caches/pypoetry/virtualenvs/langchain-book-u1j6yauo-py3.10/lib/python3.10/site-packages/langchain_core/tracers/log_stream.py:566\u001b[0m, in \u001b[0;36m_astream_log_implementation.<locals>.consume_astream\u001b[0;34m()\u001b[0m\n\u001b[1;32m    563\u001b[0m prev_final_output: Optional[Output] \u001b[38;5;241m=\u001b[39m \u001b[38;5;28;01mNone\u001b[39;00m\n\u001b[1;32m    564\u001b[0m final_output: Optional[Output] \u001b[38;5;241m=\u001b[39m \u001b[38;5;28;01mNone\u001b[39;00m\n\u001b[0;32m--> 566\u001b[0m \u001b[38;5;28;01masync\u001b[39;00m \u001b[38;5;28;01mfor\u001b[39;00m chunk \u001b[38;5;129;01min\u001b[39;00m runnable\u001b[38;5;241m.\u001b[39mastream(\u001b[38;5;28minput\u001b[39m, config, \u001b[38;5;241m*\u001b[39m\u001b[38;5;241m*\u001b[39mkwargs):\n\u001b[1;32m    567\u001b[0m     prev_final_output \u001b[38;5;241m=\u001b[39m final_output\n\u001b[1;32m    568\u001b[0m     \u001b[38;5;28;01mif\u001b[39;00m final_output \u001b[38;5;129;01mis\u001b[39;00m \u001b[38;5;28;01mNone\u001b[39;00m:\n",
      "File \u001b[0;32m~/Library/Caches/pypoetry/virtualenvs/langchain-book-u1j6yauo-py3.10/lib/python3.10/site-packages/langchain/agents/agent.py:1551\u001b[0m, in \u001b[0;36mAgentExecutor.astream\u001b[0;34m(self, input, config, **kwargs)\u001b[0m\n\u001b[1;32m   1540\u001b[0m config \u001b[38;5;241m=\u001b[39m ensure_config(config)\n\u001b[1;32m   1541\u001b[0m iterator \u001b[38;5;241m=\u001b[39m AgentExecutorIterator(\n\u001b[1;32m   1542\u001b[0m     \u001b[38;5;28mself\u001b[39m,\n\u001b[1;32m   1543\u001b[0m     \u001b[38;5;28minput\u001b[39m,\n\u001b[0;32m   (...)\u001b[0m\n\u001b[1;32m   1549\u001b[0m     \u001b[38;5;241m*\u001b[39m\u001b[38;5;241m*\u001b[39mkwargs,\n\u001b[1;32m   1550\u001b[0m )\n\u001b[0;32m-> 1551\u001b[0m \u001b[38;5;28;01masync\u001b[39;00m \u001b[38;5;28;01mfor\u001b[39;00m step \u001b[38;5;129;01min\u001b[39;00m iterator:\n\u001b[1;32m   1552\u001b[0m     \u001b[38;5;28;01myield\u001b[39;00m step\n",
      "File \u001b[0;32m~/Library/Caches/pypoetry/virtualenvs/langchain-book-u1j6yauo-py3.10/lib/python3.10/site-packages/langchain/agents/agent_iterator.py:240\u001b[0m, in \u001b[0;36mAgentExecutorIterator.__aiter__\u001b[0;34m(self)\u001b[0m\n\u001b[1;32m    234\u001b[0m \u001b[38;5;28;01mwhile\u001b[39;00m \u001b[38;5;28mself\u001b[39m\u001b[38;5;241m.\u001b[39magent_executor\u001b[38;5;241m.\u001b[39m_should_continue(\n\u001b[1;32m    235\u001b[0m     \u001b[38;5;28mself\u001b[39m\u001b[38;5;241m.\u001b[39miterations, \u001b[38;5;28mself\u001b[39m\u001b[38;5;241m.\u001b[39mtime_elapsed\n\u001b[1;32m    236\u001b[0m ):\n\u001b[1;32m    237\u001b[0m     \u001b[38;5;66;03m# take the next step: this plans next action, executes it,\u001b[39;00m\n\u001b[1;32m    238\u001b[0m     \u001b[38;5;66;03m# yielding action and observation as they are generated\u001b[39;00m\n\u001b[1;32m    239\u001b[0m     next_step_seq: NextStepOutput \u001b[38;5;241m=\u001b[39m []\n\u001b[0;32m--> 240\u001b[0m     \u001b[38;5;28;01masync\u001b[39;00m \u001b[38;5;28;01mfor\u001b[39;00m chunk \u001b[38;5;129;01min\u001b[39;00m \u001b[38;5;28mself\u001b[39m\u001b[38;5;241m.\u001b[39magent_executor\u001b[38;5;241m.\u001b[39m_aiter_next_step(\n\u001b[1;32m    241\u001b[0m         \u001b[38;5;28mself\u001b[39m\u001b[38;5;241m.\u001b[39mname_to_tool_map,\n\u001b[1;32m    242\u001b[0m         \u001b[38;5;28mself\u001b[39m\u001b[38;5;241m.\u001b[39mcolor_mapping,\n\u001b[1;32m    243\u001b[0m         \u001b[38;5;28mself\u001b[39m\u001b[38;5;241m.\u001b[39minputs,\n\u001b[1;32m    244\u001b[0m         \u001b[38;5;28mself\u001b[39m\u001b[38;5;241m.\u001b[39mintermediate_steps,\n\u001b[1;32m    245\u001b[0m         run_manager,\n\u001b[1;32m    246\u001b[0m     ):\n\u001b[1;32m    247\u001b[0m         next_step_seq\u001b[38;5;241m.\u001b[39mappend(chunk)\n\u001b[1;32m    248\u001b[0m         \u001b[38;5;66;03m# if we're yielding actions, yield them as they come\u001b[39;00m\n\u001b[1;32m    249\u001b[0m         \u001b[38;5;66;03m# do not yield AgentFinish, which will be handled below\u001b[39;00m\n",
      "File \u001b[0;32m~/Library/Caches/pypoetry/virtualenvs/langchain-book-u1j6yauo-py3.10/lib/python3.10/site-packages/langchain/agents/agent.py:1318\u001b[0m, in \u001b[0;36mAgentExecutor._aiter_next_step\u001b[0;34m(self, name_to_tool_map, color_mapping, inputs, intermediate_steps, run_manager)\u001b[0m\n\u001b[1;32m   1315\u001b[0m     \u001b[38;5;28;01myield\u001b[39;00m agent_action\n\u001b[1;32m   1317\u001b[0m \u001b[38;5;66;03m# Use asyncio.gather to run multiple tool.arun() calls concurrently\u001b[39;00m\n\u001b[0;32m-> 1318\u001b[0m result \u001b[38;5;241m=\u001b[39m \u001b[38;5;28;01mawait\u001b[39;00m asyncio\u001b[38;5;241m.\u001b[39mgather(\n\u001b[1;32m   1319\u001b[0m     \u001b[38;5;241m*\u001b[39m[\n\u001b[1;32m   1320\u001b[0m         \u001b[38;5;28mself\u001b[39m\u001b[38;5;241m.\u001b[39m_aperform_agent_action(\n\u001b[1;32m   1321\u001b[0m             name_to_tool_map, color_mapping, agent_action, run_manager\n\u001b[1;32m   1322\u001b[0m         )\n\u001b[1;32m   1323\u001b[0m         \u001b[38;5;28;01mfor\u001b[39;00m agent_action \u001b[38;5;129;01min\u001b[39;00m actions\n\u001b[1;32m   1324\u001b[0m     ],\n\u001b[1;32m   1325\u001b[0m )\n\u001b[1;32m   1327\u001b[0m \u001b[38;5;66;03m# TODO This could yield each result as it becomes available\u001b[39;00m\n\u001b[1;32m   1328\u001b[0m \u001b[38;5;28;01mfor\u001b[39;00m chunk \u001b[38;5;129;01min\u001b[39;00m result:\n",
      "File \u001b[0;32m~/Library/Caches/pypoetry/virtualenvs/langchain-book-u1j6yauo-py3.10/lib/python3.10/site-packages/langchain/agents/agent.py:1351\u001b[0m, in \u001b[0;36mAgentExecutor._aperform_agent_action\u001b[0;34m(self, name_to_tool_map, color_mapping, agent_action, run_manager)\u001b[0m\n\u001b[1;32m   1349\u001b[0m         tool_run_kwargs[\u001b[38;5;124m\"\u001b[39m\u001b[38;5;124mllm_prefix\u001b[39m\u001b[38;5;124m\"\u001b[39m] \u001b[38;5;241m=\u001b[39m \u001b[38;5;124m\"\u001b[39m\u001b[38;5;124m\"\u001b[39m\n\u001b[1;32m   1350\u001b[0m     \u001b[38;5;66;03m# We then call the tool on the tool input to get an observation\u001b[39;00m\n\u001b[0;32m-> 1351\u001b[0m     observation \u001b[38;5;241m=\u001b[39m \u001b[38;5;28;01mawait\u001b[39;00m tool\u001b[38;5;241m.\u001b[39marun(\n\u001b[1;32m   1352\u001b[0m         agent_action\u001b[38;5;241m.\u001b[39mtool_input,\n\u001b[1;32m   1353\u001b[0m         verbose\u001b[38;5;241m=\u001b[39m\u001b[38;5;28mself\u001b[39m\u001b[38;5;241m.\u001b[39mverbose,\n\u001b[1;32m   1354\u001b[0m         color\u001b[38;5;241m=\u001b[39mcolor,\n\u001b[1;32m   1355\u001b[0m         callbacks\u001b[38;5;241m=\u001b[39mrun_manager\u001b[38;5;241m.\u001b[39mget_child() \u001b[38;5;28;01mif\u001b[39;00m run_manager \u001b[38;5;28;01melse\u001b[39;00m \u001b[38;5;28;01mNone\u001b[39;00m,\n\u001b[1;32m   1356\u001b[0m         \u001b[38;5;241m*\u001b[39m\u001b[38;5;241m*\u001b[39mtool_run_kwargs,\n\u001b[1;32m   1357\u001b[0m     )\n\u001b[1;32m   1358\u001b[0m \u001b[38;5;28;01melse\u001b[39;00m:\n\u001b[1;32m   1359\u001b[0m     tool_run_kwargs \u001b[38;5;241m=\u001b[39m \u001b[38;5;28mself\u001b[39m\u001b[38;5;241m.\u001b[39magent\u001b[38;5;241m.\u001b[39mtool_run_logging_kwargs()\n",
      "File \u001b[0;32m~/Library/Caches/pypoetry/virtualenvs/langchain-book-u1j6yauo-py3.10/lib/python3.10/site-packages/langchain_core/tools.py:473\u001b[0m, in \u001b[0;36mBaseTool.arun\u001b[0;34m(self, tool_input, verbose, start_color, color, callbacks, tags, metadata, run_name, **kwargs)\u001b[0m\n\u001b[1;32m    471\u001b[0m \u001b[38;5;28;01mexcept\u001b[39;00m ValidationError \u001b[38;5;28;01mas\u001b[39;00m e:\n\u001b[1;32m    472\u001b[0m     \u001b[38;5;28;01mif\u001b[39;00m \u001b[38;5;129;01mnot\u001b[39;00m \u001b[38;5;28mself\u001b[39m\u001b[38;5;241m.\u001b[39mhandle_validation_error:\n\u001b[0;32m--> 473\u001b[0m         \u001b[38;5;28;01mraise\u001b[39;00m e\n\u001b[1;32m    474\u001b[0m     \u001b[38;5;28;01melif\u001b[39;00m \u001b[38;5;28misinstance\u001b[39m(\u001b[38;5;28mself\u001b[39m\u001b[38;5;241m.\u001b[39mhandle_validation_error, \u001b[38;5;28mbool\u001b[39m):\n\u001b[1;32m    475\u001b[0m         observation \u001b[38;5;241m=\u001b[39m \u001b[38;5;124m\"\u001b[39m\u001b[38;5;124mTool input validation error\u001b[39m\u001b[38;5;124m\"\u001b[39m\n",
      "File \u001b[0;32m~/Library/Caches/pypoetry/virtualenvs/langchain-book-u1j6yauo-py3.10/lib/python3.10/site-packages/langchain_core/tools.py:463\u001b[0m, in \u001b[0;36mBaseTool.arun\u001b[0;34m(self, tool_input, verbose, start_color, color, callbacks, tags, metadata, run_name, **kwargs)\u001b[0m\n\u001b[1;32m    454\u001b[0m run_manager \u001b[38;5;241m=\u001b[39m \u001b[38;5;28;01mawait\u001b[39;00m callback_manager\u001b[38;5;241m.\u001b[39mon_tool_start(\n\u001b[1;32m    455\u001b[0m     {\u001b[38;5;124m\"\u001b[39m\u001b[38;5;124mname\u001b[39m\u001b[38;5;124m\"\u001b[39m: \u001b[38;5;28mself\u001b[39m\u001b[38;5;241m.\u001b[39mname, \u001b[38;5;124m\"\u001b[39m\u001b[38;5;124mdescription\u001b[39m\u001b[38;5;124m\"\u001b[39m: \u001b[38;5;28mself\u001b[39m\u001b[38;5;241m.\u001b[39mdescription},\n\u001b[1;32m    456\u001b[0m     tool_input \u001b[38;5;28;01mif\u001b[39;00m \u001b[38;5;28misinstance\u001b[39m(tool_input, \u001b[38;5;28mstr\u001b[39m) \u001b[38;5;28;01melse\u001b[39;00m \u001b[38;5;28mstr\u001b[39m(tool_input),\n\u001b[0;32m   (...)\u001b[0m\n\u001b[1;32m    460\u001b[0m     \u001b[38;5;241m*\u001b[39m\u001b[38;5;241m*\u001b[39mkwargs,\n\u001b[1;32m    461\u001b[0m )\n\u001b[1;32m    462\u001b[0m \u001b[38;5;28;01mtry\u001b[39;00m:\n\u001b[0;32m--> 463\u001b[0m     parsed_input \u001b[38;5;241m=\u001b[39m \u001b[38;5;28;43mself\u001b[39;49m\u001b[38;5;241;43m.\u001b[39;49m\u001b[43m_parse_input\u001b[49m\u001b[43m(\u001b[49m\u001b[43mtool_input\u001b[49m\u001b[43m)\u001b[49m\n\u001b[1;32m    464\u001b[0m     \u001b[38;5;66;03m# We then call the tool on the tool input to get an observation\u001b[39;00m\n\u001b[1;32m    465\u001b[0m     tool_args, tool_kwargs \u001b[38;5;241m=\u001b[39m \u001b[38;5;28mself\u001b[39m\u001b[38;5;241m.\u001b[39m_to_args_and_kwargs(parsed_input)\n",
      "File \u001b[0;32m~/Library/Caches/pypoetry/virtualenvs/langchain-book-u1j6yauo-py3.10/lib/python3.10/site-packages/langchain_core/tools.py:276\u001b[0m, in \u001b[0;36mBaseTool._parse_input\u001b[0;34m(self, tool_input)\u001b[0m\n\u001b[1;32m    274\u001b[0m     \u001b[38;5;28;01mif\u001b[39;00m input_args \u001b[38;5;129;01mis\u001b[39;00m \u001b[38;5;129;01mnot\u001b[39;00m \u001b[38;5;28;01mNone\u001b[39;00m:\n\u001b[1;32m    275\u001b[0m         key_ \u001b[38;5;241m=\u001b[39m \u001b[38;5;28mnext\u001b[39m(\u001b[38;5;28miter\u001b[39m(input_args\u001b[38;5;241m.\u001b[39m__fields__\u001b[38;5;241m.\u001b[39mkeys()))\n\u001b[0;32m--> 276\u001b[0m         \u001b[43minput_args\u001b[49m\u001b[38;5;241;43m.\u001b[39;49m\u001b[43mvalidate\u001b[49m\u001b[43m(\u001b[49m\u001b[43m{\u001b[49m\u001b[43mkey_\u001b[49m\u001b[43m:\u001b[49m\u001b[43m \u001b[49m\u001b[43mtool_input\u001b[49m\u001b[43m}\u001b[49m\u001b[43m)\u001b[49m\n\u001b[1;32m    277\u001b[0m     \u001b[38;5;28;01mreturn\u001b[39;00m tool_input\n\u001b[1;32m    278\u001b[0m \u001b[38;5;28;01melse\u001b[39;00m:\n",
      "File \u001b[0;32m~/Library/Caches/pypoetry/virtualenvs/langchain-book-u1j6yauo-py3.10/lib/python3.10/site-packages/pydantic/v1/main.py:711\u001b[0m, in \u001b[0;36mBaseModel.validate\u001b[0;34m(cls, value)\u001b[0m\n\u001b[1;32m    708\u001b[0m value \u001b[38;5;241m=\u001b[39m \u001b[38;5;28mcls\u001b[39m\u001b[38;5;241m.\u001b[39m_enforce_dict_if_root(value)\n\u001b[1;32m    710\u001b[0m \u001b[38;5;28;01mif\u001b[39;00m \u001b[38;5;28misinstance\u001b[39m(value, \u001b[38;5;28mdict\u001b[39m):\n\u001b[0;32m--> 711\u001b[0m     \u001b[38;5;28;01mreturn\u001b[39;00m \u001b[38;5;28;43mcls\u001b[39;49m\u001b[43m(\u001b[49m\u001b[38;5;241;43m*\u001b[39;49m\u001b[38;5;241;43m*\u001b[39;49m\u001b[43mvalue\u001b[49m\u001b[43m)\u001b[49m\n\u001b[1;32m    712\u001b[0m \u001b[38;5;28;01melif\u001b[39;00m \u001b[38;5;28mcls\u001b[39m\u001b[38;5;241m.\u001b[39m__config__\u001b[38;5;241m.\u001b[39morm_mode:\n\u001b[1;32m    713\u001b[0m     \u001b[38;5;28;01mreturn\u001b[39;00m \u001b[38;5;28mcls\u001b[39m\u001b[38;5;241m.\u001b[39mfrom_orm(value)\n",
      "File \u001b[0;32m~/Library/Caches/pypoetry/virtualenvs/langchain-book-u1j6yauo-py3.10/lib/python3.10/site-packages/pydantic/v1/main.py:341\u001b[0m, in \u001b[0;36mBaseModel.__init__\u001b[0;34m(__pydantic_self__, **data)\u001b[0m\n\u001b[1;32m    339\u001b[0m values, fields_set, validation_error \u001b[38;5;241m=\u001b[39m validate_model(__pydantic_self__\u001b[38;5;241m.\u001b[39m\u001b[38;5;18m__class__\u001b[39m, data)\n\u001b[1;32m    340\u001b[0m \u001b[38;5;28;01mif\u001b[39;00m validation_error:\n\u001b[0;32m--> 341\u001b[0m     \u001b[38;5;28;01mraise\u001b[39;00m validation_error\n\u001b[1;32m    342\u001b[0m \u001b[38;5;28;01mtry\u001b[39;00m:\n\u001b[1;32m    343\u001b[0m     object_setattr(__pydantic_self__, \u001b[38;5;124m'\u001b[39m\u001b[38;5;124m__dict__\u001b[39m\u001b[38;5;124m'\u001b[39m, values)\n",
      "\u001b[0;31mValidationError\u001b[0m: 1 validation error for ask_docmentSchema\nquery\n  field required (type=value_error.missing)"
     ]
    }
   ],
   "source": [
    "async for chunk in gpt_react.astream_events({\"input\": \"供应商达标的业绩要求是什么？\"}, version=\"v1\"):\n",
    "    event = chunk['event']\n",
    "    if(event == \"on_chat_model_stream\"):\n",
    "        if('chunk' in chunk['data']):\n",
    "            print(chunk['data']['chunk'].content, end=\"_\", flush=True)"
   ]
  },
  {
   "cell_type": "markdown",
   "id": "79c2f71f-8bdd-4c83-a7b0-380a2daa8a10",
   "metadata": {},
   "source": [
    "### ✍️ GLM4 + create_react_agent"
   ]
  },
  {
   "cell_type": "code",
   "execution_count": 672,
   "id": "c84600bc-4424-4fd5-884b-90babaf36362",
   "metadata": {},
   "outputs": [],
   "source": [
    "zhipu_react = create_react_executor(\n",
    "    ChatZhipuAI(),    [\n",
    "        list_files,\n",
    "        ask_document,\n",
    "        get_first_n_rows,\n",
    "        excel_analyse,\n",
    "    ])"
   ]
  },
  {
   "cell_type": "code",
   "execution_count": 673,
   "id": "6185bd16-b8cf-4029-9305-52d15fbaf8d5",
   "metadata": {
    "scrolled": true
   },
   "outputs": [
    {
     "name": "stdout",
     "output_type": "stream",
     "text": [
      "\n",
      "\n",
      "\u001b[1m> Entering new AgentExecutor chain...\u001b[0m\n",
      "这个问题_涉及到_业绩_要求_，_我_需要_查看_相关的_文件_或_表格_以_获取_这些_信息_。_首先_，_我将_使用_ `_list__files_`_ 工_具_来_查看_是否有_相关的_文件_。\n",
      "\n",
      "Thought_:_ 我_需要_查看_供应商_达标_业绩_要求_的相关_文件_。\n",
      "Action_:_ list__files_\n",
      "Action_ Input_:_ None_\n",
      "Observ_ation__\u001b[32;1m\u001b[1;3m这个问题涉及到业绩要求，我需要查看相关的文件或表格以获取这些信息。首先，我将使用 `list_files` 工具来查看是否有相关的文件。\n",
      "\n",
      "Thought: 我需要查看供应商达标业绩要求的相关文件。\n",
      "Action: list_files\n",
      "Action Input: None\n",
      "Observation\u001b[0m当前目录为： ./data\n",
      "\u001b[36;1m\u001b[1;3m2023年8月-9月销售记录.xlsx\n",
      "供应商名录.xlsx\n",
      "供应商资格要求.pdf\u001b[0m找到了_可能与_供应商_达标_业绩_要求_相关的_文件_，_我将_使用_ `_ask__doc_ment_`_ 工_具_来_查看_文件_ \"_供应商_资格_要求_.pdf_\"_。\n",
      "\n",
      "Thought_:_ 我_将_使用_ `_ask__doc_ment_`_ 工_具_来_获取_ \"_供应商_资格_要求_.pdf_\"_ 文_件_中的_信息_。\n",
      "Action_:_ ask__doc_ment_\n",
      "Action_ Input_:_ filename_='_供应商_资格_要求_.pdf_',_ query_='_业绩_要求_'\n",
      "Observ_ation__\u001b[32;1m\u001b[1;3m找到了可能与供应商达标业绩要求相关的文件，我将使用 `ask_docment` 工具来查看文件 \"供应商资格要求.pdf\"。\n",
      "\n",
      "Thought: 我将使用 `ask_docment` 工具来获取 \"供应商资格要求.pdf\" 文件中的信息。\n",
      "Action: ask_docment\n",
      "Action Input: filename='供应商资格要求.pdf', query='业绩要求'\n",
      "Observation\u001b[0m"
     ]
    },
    {
     "ename": "ValidationError",
     "evalue": "1 validation error for ask_docmentSchema\nquery\n  field required (type=value_error.missing)",
     "output_type": "error",
     "traceback": [
      "\u001b[0;31m---------------------------------------------------------------------------\u001b[0m",
      "\u001b[0;31mValidationError\u001b[0m                           Traceback (most recent call last)",
      "Cell \u001b[0;32mIn[673], line 1\u001b[0m\n\u001b[0;32m----> 1\u001b[0m \u001b[38;5;28;01masync\u001b[39;00m \u001b[38;5;28;01mfor\u001b[39;00m chunk \u001b[38;5;129;01min\u001b[39;00m zhipu_react\u001b[38;5;241m.\u001b[39mastream_events({\u001b[38;5;124m\"\u001b[39m\u001b[38;5;124minput\u001b[39m\u001b[38;5;124m\"\u001b[39m: \u001b[38;5;124m\"\u001b[39m\u001b[38;5;124m供应商达标的业绩要求是什么？\u001b[39m\u001b[38;5;124m\"\u001b[39m}, version\u001b[38;5;241m=\u001b[39m\u001b[38;5;124m\"\u001b[39m\u001b[38;5;124mv1\u001b[39m\u001b[38;5;124m\"\u001b[39m):\n\u001b[1;32m      2\u001b[0m     event \u001b[38;5;241m=\u001b[39m chunk[\u001b[38;5;124m'\u001b[39m\u001b[38;5;124mevent\u001b[39m\u001b[38;5;124m'\u001b[39m]\n\u001b[1;32m      3\u001b[0m     \u001b[38;5;28;01mif\u001b[39;00m(event \u001b[38;5;241m==\u001b[39m \u001b[38;5;124m\"\u001b[39m\u001b[38;5;124mon_chat_model_stream\u001b[39m\u001b[38;5;124m\"\u001b[39m):\n",
      "File \u001b[0;32m~/Library/Caches/pypoetry/virtualenvs/langchain-book-u1j6yauo-py3.10/lib/python3.10/site-packages/langchain_core/runnables/base.py:905\u001b[0m, in \u001b[0;36mRunnable.astream_events\u001b[0;34m(self, input, config, version, include_names, include_types, include_tags, exclude_names, exclude_types, exclude_tags, **kwargs)\u001b[0m\n\u001b[1;32m    901\u001b[0m root_name \u001b[38;5;241m=\u001b[39m config\u001b[38;5;241m.\u001b[39mget(\u001b[38;5;124m\"\u001b[39m\u001b[38;5;124mrun_name\u001b[39m\u001b[38;5;124m\"\u001b[39m, \u001b[38;5;28mself\u001b[39m\u001b[38;5;241m.\u001b[39mget_name())\n\u001b[1;32m    903\u001b[0m \u001b[38;5;66;03m# Ignoring mypy complaint about too many different union combinations\u001b[39;00m\n\u001b[1;32m    904\u001b[0m \u001b[38;5;66;03m# This arises because many of the argument types are unions\u001b[39;00m\n\u001b[0;32m--> 905\u001b[0m \u001b[38;5;28;01masync\u001b[39;00m \u001b[38;5;28;01mfor\u001b[39;00m log \u001b[38;5;129;01min\u001b[39;00m _astream_log_implementation(  \u001b[38;5;66;03m# type: ignore[misc]\u001b[39;00m\n\u001b[1;32m    906\u001b[0m     \u001b[38;5;28mself\u001b[39m,\n\u001b[1;32m    907\u001b[0m     \u001b[38;5;28minput\u001b[39m,\n\u001b[1;32m    908\u001b[0m     config\u001b[38;5;241m=\u001b[39mconfig,\n\u001b[1;32m    909\u001b[0m     stream\u001b[38;5;241m=\u001b[39mstream,\n\u001b[1;32m    910\u001b[0m     diff\u001b[38;5;241m=\u001b[39m\u001b[38;5;28;01mTrue\u001b[39;00m,\n\u001b[1;32m    911\u001b[0m     with_streamed_output_list\u001b[38;5;241m=\u001b[39m\u001b[38;5;28;01mTrue\u001b[39;00m,\n\u001b[1;32m    912\u001b[0m     \u001b[38;5;241m*\u001b[39m\u001b[38;5;241m*\u001b[39mkwargs,\n\u001b[1;32m    913\u001b[0m ):\n\u001b[1;32m    914\u001b[0m     run_log \u001b[38;5;241m=\u001b[39m run_log \u001b[38;5;241m+\u001b[39m log\n\u001b[1;32m    916\u001b[0m     \u001b[38;5;28;01mif\u001b[39;00m \u001b[38;5;129;01mnot\u001b[39;00m encountered_start_event:\n\u001b[1;32m    917\u001b[0m         \u001b[38;5;66;03m# Yield the start event for the root runnable.\u001b[39;00m\n",
      "File \u001b[0;32m~/Library/Caches/pypoetry/virtualenvs/langchain-book-u1j6yauo-py3.10/lib/python3.10/site-packages/langchain_core/tracers/log_stream.py:612\u001b[0m, in \u001b[0;36m_astream_log_implementation\u001b[0;34m(runnable, input, config, stream, diff, with_streamed_output_list, **kwargs)\u001b[0m\n\u001b[1;32m    609\u001b[0m \u001b[38;5;28;01mfinally\u001b[39;00m:\n\u001b[1;32m    610\u001b[0m     \u001b[38;5;66;03m# Wait for the runnable to finish, if not cancelled (eg. by break)\u001b[39;00m\n\u001b[1;32m    611\u001b[0m     \u001b[38;5;28;01mtry\u001b[39;00m:\n\u001b[0;32m--> 612\u001b[0m         \u001b[38;5;28;01mawait\u001b[39;00m task\n\u001b[1;32m    613\u001b[0m     \u001b[38;5;28;01mexcept\u001b[39;00m asyncio\u001b[38;5;241m.\u001b[39mCancelledError:\n\u001b[1;32m    614\u001b[0m         \u001b[38;5;28;01mpass\u001b[39;00m\n",
      "File \u001b[0;32m~/Library/Caches/pypoetry/virtualenvs/langchain-book-u1j6yauo-py3.10/lib/python3.10/site-packages/langchain_core/tracers/log_stream.py:566\u001b[0m, in \u001b[0;36m_astream_log_implementation.<locals>.consume_astream\u001b[0;34m()\u001b[0m\n\u001b[1;32m    563\u001b[0m prev_final_output: Optional[Output] \u001b[38;5;241m=\u001b[39m \u001b[38;5;28;01mNone\u001b[39;00m\n\u001b[1;32m    564\u001b[0m final_output: Optional[Output] \u001b[38;5;241m=\u001b[39m \u001b[38;5;28;01mNone\u001b[39;00m\n\u001b[0;32m--> 566\u001b[0m \u001b[38;5;28;01masync\u001b[39;00m \u001b[38;5;28;01mfor\u001b[39;00m chunk \u001b[38;5;129;01min\u001b[39;00m runnable\u001b[38;5;241m.\u001b[39mastream(\u001b[38;5;28minput\u001b[39m, config, \u001b[38;5;241m*\u001b[39m\u001b[38;5;241m*\u001b[39mkwargs):\n\u001b[1;32m    567\u001b[0m     prev_final_output \u001b[38;5;241m=\u001b[39m final_output\n\u001b[1;32m    568\u001b[0m     \u001b[38;5;28;01mif\u001b[39;00m final_output \u001b[38;5;129;01mis\u001b[39;00m \u001b[38;5;28;01mNone\u001b[39;00m:\n",
      "File \u001b[0;32m~/Library/Caches/pypoetry/virtualenvs/langchain-book-u1j6yauo-py3.10/lib/python3.10/site-packages/langchain/agents/agent.py:1551\u001b[0m, in \u001b[0;36mAgentExecutor.astream\u001b[0;34m(self, input, config, **kwargs)\u001b[0m\n\u001b[1;32m   1540\u001b[0m config \u001b[38;5;241m=\u001b[39m ensure_config(config)\n\u001b[1;32m   1541\u001b[0m iterator \u001b[38;5;241m=\u001b[39m AgentExecutorIterator(\n\u001b[1;32m   1542\u001b[0m     \u001b[38;5;28mself\u001b[39m,\n\u001b[1;32m   1543\u001b[0m     \u001b[38;5;28minput\u001b[39m,\n\u001b[0;32m   (...)\u001b[0m\n\u001b[1;32m   1549\u001b[0m     \u001b[38;5;241m*\u001b[39m\u001b[38;5;241m*\u001b[39mkwargs,\n\u001b[1;32m   1550\u001b[0m )\n\u001b[0;32m-> 1551\u001b[0m \u001b[38;5;28;01masync\u001b[39;00m \u001b[38;5;28;01mfor\u001b[39;00m step \u001b[38;5;129;01min\u001b[39;00m iterator:\n\u001b[1;32m   1552\u001b[0m     \u001b[38;5;28;01myield\u001b[39;00m step\n",
      "File \u001b[0;32m~/Library/Caches/pypoetry/virtualenvs/langchain-book-u1j6yauo-py3.10/lib/python3.10/site-packages/langchain/agents/agent_iterator.py:240\u001b[0m, in \u001b[0;36mAgentExecutorIterator.__aiter__\u001b[0;34m(self)\u001b[0m\n\u001b[1;32m    234\u001b[0m \u001b[38;5;28;01mwhile\u001b[39;00m \u001b[38;5;28mself\u001b[39m\u001b[38;5;241m.\u001b[39magent_executor\u001b[38;5;241m.\u001b[39m_should_continue(\n\u001b[1;32m    235\u001b[0m     \u001b[38;5;28mself\u001b[39m\u001b[38;5;241m.\u001b[39miterations, \u001b[38;5;28mself\u001b[39m\u001b[38;5;241m.\u001b[39mtime_elapsed\n\u001b[1;32m    236\u001b[0m ):\n\u001b[1;32m    237\u001b[0m     \u001b[38;5;66;03m# take the next step: this plans next action, executes it,\u001b[39;00m\n\u001b[1;32m    238\u001b[0m     \u001b[38;5;66;03m# yielding action and observation as they are generated\u001b[39;00m\n\u001b[1;32m    239\u001b[0m     next_step_seq: NextStepOutput \u001b[38;5;241m=\u001b[39m []\n\u001b[0;32m--> 240\u001b[0m     \u001b[38;5;28;01masync\u001b[39;00m \u001b[38;5;28;01mfor\u001b[39;00m chunk \u001b[38;5;129;01min\u001b[39;00m \u001b[38;5;28mself\u001b[39m\u001b[38;5;241m.\u001b[39magent_executor\u001b[38;5;241m.\u001b[39m_aiter_next_step(\n\u001b[1;32m    241\u001b[0m         \u001b[38;5;28mself\u001b[39m\u001b[38;5;241m.\u001b[39mname_to_tool_map,\n\u001b[1;32m    242\u001b[0m         \u001b[38;5;28mself\u001b[39m\u001b[38;5;241m.\u001b[39mcolor_mapping,\n\u001b[1;32m    243\u001b[0m         \u001b[38;5;28mself\u001b[39m\u001b[38;5;241m.\u001b[39minputs,\n\u001b[1;32m    244\u001b[0m         \u001b[38;5;28mself\u001b[39m\u001b[38;5;241m.\u001b[39mintermediate_steps,\n\u001b[1;32m    245\u001b[0m         run_manager,\n\u001b[1;32m    246\u001b[0m     ):\n\u001b[1;32m    247\u001b[0m         next_step_seq\u001b[38;5;241m.\u001b[39mappend(chunk)\n\u001b[1;32m    248\u001b[0m         \u001b[38;5;66;03m# if we're yielding actions, yield them as they come\u001b[39;00m\n\u001b[1;32m    249\u001b[0m         \u001b[38;5;66;03m# do not yield AgentFinish, which will be handled below\u001b[39;00m\n",
      "File \u001b[0;32m~/Library/Caches/pypoetry/virtualenvs/langchain-book-u1j6yauo-py3.10/lib/python3.10/site-packages/langchain/agents/agent.py:1318\u001b[0m, in \u001b[0;36mAgentExecutor._aiter_next_step\u001b[0;34m(self, name_to_tool_map, color_mapping, inputs, intermediate_steps, run_manager)\u001b[0m\n\u001b[1;32m   1315\u001b[0m     \u001b[38;5;28;01myield\u001b[39;00m agent_action\n\u001b[1;32m   1317\u001b[0m \u001b[38;5;66;03m# Use asyncio.gather to run multiple tool.arun() calls concurrently\u001b[39;00m\n\u001b[0;32m-> 1318\u001b[0m result \u001b[38;5;241m=\u001b[39m \u001b[38;5;28;01mawait\u001b[39;00m asyncio\u001b[38;5;241m.\u001b[39mgather(\n\u001b[1;32m   1319\u001b[0m     \u001b[38;5;241m*\u001b[39m[\n\u001b[1;32m   1320\u001b[0m         \u001b[38;5;28mself\u001b[39m\u001b[38;5;241m.\u001b[39m_aperform_agent_action(\n\u001b[1;32m   1321\u001b[0m             name_to_tool_map, color_mapping, agent_action, run_manager\n\u001b[1;32m   1322\u001b[0m         )\n\u001b[1;32m   1323\u001b[0m         \u001b[38;5;28;01mfor\u001b[39;00m agent_action \u001b[38;5;129;01min\u001b[39;00m actions\n\u001b[1;32m   1324\u001b[0m     ],\n\u001b[1;32m   1325\u001b[0m )\n\u001b[1;32m   1327\u001b[0m \u001b[38;5;66;03m# TODO This could yield each result as it becomes available\u001b[39;00m\n\u001b[1;32m   1328\u001b[0m \u001b[38;5;28;01mfor\u001b[39;00m chunk \u001b[38;5;129;01min\u001b[39;00m result:\n",
      "File \u001b[0;32m~/Library/Caches/pypoetry/virtualenvs/langchain-book-u1j6yauo-py3.10/lib/python3.10/site-packages/langchain/agents/agent.py:1351\u001b[0m, in \u001b[0;36mAgentExecutor._aperform_agent_action\u001b[0;34m(self, name_to_tool_map, color_mapping, agent_action, run_manager)\u001b[0m\n\u001b[1;32m   1349\u001b[0m         tool_run_kwargs[\u001b[38;5;124m\"\u001b[39m\u001b[38;5;124mllm_prefix\u001b[39m\u001b[38;5;124m\"\u001b[39m] \u001b[38;5;241m=\u001b[39m \u001b[38;5;124m\"\u001b[39m\u001b[38;5;124m\"\u001b[39m\n\u001b[1;32m   1350\u001b[0m     \u001b[38;5;66;03m# We then call the tool on the tool input to get an observation\u001b[39;00m\n\u001b[0;32m-> 1351\u001b[0m     observation \u001b[38;5;241m=\u001b[39m \u001b[38;5;28;01mawait\u001b[39;00m tool\u001b[38;5;241m.\u001b[39marun(\n\u001b[1;32m   1352\u001b[0m         agent_action\u001b[38;5;241m.\u001b[39mtool_input,\n\u001b[1;32m   1353\u001b[0m         verbose\u001b[38;5;241m=\u001b[39m\u001b[38;5;28mself\u001b[39m\u001b[38;5;241m.\u001b[39mverbose,\n\u001b[1;32m   1354\u001b[0m         color\u001b[38;5;241m=\u001b[39mcolor,\n\u001b[1;32m   1355\u001b[0m         callbacks\u001b[38;5;241m=\u001b[39mrun_manager\u001b[38;5;241m.\u001b[39mget_child() \u001b[38;5;28;01mif\u001b[39;00m run_manager \u001b[38;5;28;01melse\u001b[39;00m \u001b[38;5;28;01mNone\u001b[39;00m,\n\u001b[1;32m   1356\u001b[0m         \u001b[38;5;241m*\u001b[39m\u001b[38;5;241m*\u001b[39mtool_run_kwargs,\n\u001b[1;32m   1357\u001b[0m     )\n\u001b[1;32m   1358\u001b[0m \u001b[38;5;28;01melse\u001b[39;00m:\n\u001b[1;32m   1359\u001b[0m     tool_run_kwargs \u001b[38;5;241m=\u001b[39m \u001b[38;5;28mself\u001b[39m\u001b[38;5;241m.\u001b[39magent\u001b[38;5;241m.\u001b[39mtool_run_logging_kwargs()\n",
      "File \u001b[0;32m~/Library/Caches/pypoetry/virtualenvs/langchain-book-u1j6yauo-py3.10/lib/python3.10/site-packages/langchain_core/tools.py:473\u001b[0m, in \u001b[0;36mBaseTool.arun\u001b[0;34m(self, tool_input, verbose, start_color, color, callbacks, tags, metadata, run_name, **kwargs)\u001b[0m\n\u001b[1;32m    471\u001b[0m \u001b[38;5;28;01mexcept\u001b[39;00m ValidationError \u001b[38;5;28;01mas\u001b[39;00m e:\n\u001b[1;32m    472\u001b[0m     \u001b[38;5;28;01mif\u001b[39;00m \u001b[38;5;129;01mnot\u001b[39;00m \u001b[38;5;28mself\u001b[39m\u001b[38;5;241m.\u001b[39mhandle_validation_error:\n\u001b[0;32m--> 473\u001b[0m         \u001b[38;5;28;01mraise\u001b[39;00m e\n\u001b[1;32m    474\u001b[0m     \u001b[38;5;28;01melif\u001b[39;00m \u001b[38;5;28misinstance\u001b[39m(\u001b[38;5;28mself\u001b[39m\u001b[38;5;241m.\u001b[39mhandle_validation_error, \u001b[38;5;28mbool\u001b[39m):\n\u001b[1;32m    475\u001b[0m         observation \u001b[38;5;241m=\u001b[39m \u001b[38;5;124m\"\u001b[39m\u001b[38;5;124mTool input validation error\u001b[39m\u001b[38;5;124m\"\u001b[39m\n",
      "File \u001b[0;32m~/Library/Caches/pypoetry/virtualenvs/langchain-book-u1j6yauo-py3.10/lib/python3.10/site-packages/langchain_core/tools.py:463\u001b[0m, in \u001b[0;36mBaseTool.arun\u001b[0;34m(self, tool_input, verbose, start_color, color, callbacks, tags, metadata, run_name, **kwargs)\u001b[0m\n\u001b[1;32m    454\u001b[0m run_manager \u001b[38;5;241m=\u001b[39m \u001b[38;5;28;01mawait\u001b[39;00m callback_manager\u001b[38;5;241m.\u001b[39mon_tool_start(\n\u001b[1;32m    455\u001b[0m     {\u001b[38;5;124m\"\u001b[39m\u001b[38;5;124mname\u001b[39m\u001b[38;5;124m\"\u001b[39m: \u001b[38;5;28mself\u001b[39m\u001b[38;5;241m.\u001b[39mname, \u001b[38;5;124m\"\u001b[39m\u001b[38;5;124mdescription\u001b[39m\u001b[38;5;124m\"\u001b[39m: \u001b[38;5;28mself\u001b[39m\u001b[38;5;241m.\u001b[39mdescription},\n\u001b[1;32m    456\u001b[0m     tool_input \u001b[38;5;28;01mif\u001b[39;00m \u001b[38;5;28misinstance\u001b[39m(tool_input, \u001b[38;5;28mstr\u001b[39m) \u001b[38;5;28;01melse\u001b[39;00m \u001b[38;5;28mstr\u001b[39m(tool_input),\n\u001b[0;32m   (...)\u001b[0m\n\u001b[1;32m    460\u001b[0m     \u001b[38;5;241m*\u001b[39m\u001b[38;5;241m*\u001b[39mkwargs,\n\u001b[1;32m    461\u001b[0m )\n\u001b[1;32m    462\u001b[0m \u001b[38;5;28;01mtry\u001b[39;00m:\n\u001b[0;32m--> 463\u001b[0m     parsed_input \u001b[38;5;241m=\u001b[39m \u001b[38;5;28;43mself\u001b[39;49m\u001b[38;5;241;43m.\u001b[39;49m\u001b[43m_parse_input\u001b[49m\u001b[43m(\u001b[49m\u001b[43mtool_input\u001b[49m\u001b[43m)\u001b[49m\n\u001b[1;32m    464\u001b[0m     \u001b[38;5;66;03m# We then call the tool on the tool input to get an observation\u001b[39;00m\n\u001b[1;32m    465\u001b[0m     tool_args, tool_kwargs \u001b[38;5;241m=\u001b[39m \u001b[38;5;28mself\u001b[39m\u001b[38;5;241m.\u001b[39m_to_args_and_kwargs(parsed_input)\n",
      "File \u001b[0;32m~/Library/Caches/pypoetry/virtualenvs/langchain-book-u1j6yauo-py3.10/lib/python3.10/site-packages/langchain_core/tools.py:276\u001b[0m, in \u001b[0;36mBaseTool._parse_input\u001b[0;34m(self, tool_input)\u001b[0m\n\u001b[1;32m    274\u001b[0m     \u001b[38;5;28;01mif\u001b[39;00m input_args \u001b[38;5;129;01mis\u001b[39;00m \u001b[38;5;129;01mnot\u001b[39;00m \u001b[38;5;28;01mNone\u001b[39;00m:\n\u001b[1;32m    275\u001b[0m         key_ \u001b[38;5;241m=\u001b[39m \u001b[38;5;28mnext\u001b[39m(\u001b[38;5;28miter\u001b[39m(input_args\u001b[38;5;241m.\u001b[39m__fields__\u001b[38;5;241m.\u001b[39mkeys()))\n\u001b[0;32m--> 276\u001b[0m         \u001b[43minput_args\u001b[49m\u001b[38;5;241;43m.\u001b[39;49m\u001b[43mvalidate\u001b[49m\u001b[43m(\u001b[49m\u001b[43m{\u001b[49m\u001b[43mkey_\u001b[49m\u001b[43m:\u001b[49m\u001b[43m \u001b[49m\u001b[43mtool_input\u001b[49m\u001b[43m}\u001b[49m\u001b[43m)\u001b[49m\n\u001b[1;32m    277\u001b[0m     \u001b[38;5;28;01mreturn\u001b[39;00m tool_input\n\u001b[1;32m    278\u001b[0m \u001b[38;5;28;01melse\u001b[39;00m:\n",
      "File \u001b[0;32m~/Library/Caches/pypoetry/virtualenvs/langchain-book-u1j6yauo-py3.10/lib/python3.10/site-packages/pydantic/v1/main.py:711\u001b[0m, in \u001b[0;36mBaseModel.validate\u001b[0;34m(cls, value)\u001b[0m\n\u001b[1;32m    708\u001b[0m value \u001b[38;5;241m=\u001b[39m \u001b[38;5;28mcls\u001b[39m\u001b[38;5;241m.\u001b[39m_enforce_dict_if_root(value)\n\u001b[1;32m    710\u001b[0m \u001b[38;5;28;01mif\u001b[39;00m \u001b[38;5;28misinstance\u001b[39m(value, \u001b[38;5;28mdict\u001b[39m):\n\u001b[0;32m--> 711\u001b[0m     \u001b[38;5;28;01mreturn\u001b[39;00m \u001b[38;5;28;43mcls\u001b[39;49m\u001b[43m(\u001b[49m\u001b[38;5;241;43m*\u001b[39;49m\u001b[38;5;241;43m*\u001b[39;49m\u001b[43mvalue\u001b[49m\u001b[43m)\u001b[49m\n\u001b[1;32m    712\u001b[0m \u001b[38;5;28;01melif\u001b[39;00m \u001b[38;5;28mcls\u001b[39m\u001b[38;5;241m.\u001b[39m__config__\u001b[38;5;241m.\u001b[39morm_mode:\n\u001b[1;32m    713\u001b[0m     \u001b[38;5;28;01mreturn\u001b[39;00m \u001b[38;5;28mcls\u001b[39m\u001b[38;5;241m.\u001b[39mfrom_orm(value)\n",
      "File \u001b[0;32m~/Library/Caches/pypoetry/virtualenvs/langchain-book-u1j6yauo-py3.10/lib/python3.10/site-packages/pydantic/v1/main.py:341\u001b[0m, in \u001b[0;36mBaseModel.__init__\u001b[0;34m(__pydantic_self__, **data)\u001b[0m\n\u001b[1;32m    339\u001b[0m values, fields_set, validation_error \u001b[38;5;241m=\u001b[39m validate_model(__pydantic_self__\u001b[38;5;241m.\u001b[39m\u001b[38;5;18m__class__\u001b[39m, data)\n\u001b[1;32m    340\u001b[0m \u001b[38;5;28;01mif\u001b[39;00m validation_error:\n\u001b[0;32m--> 341\u001b[0m     \u001b[38;5;28;01mraise\u001b[39;00m validation_error\n\u001b[1;32m    342\u001b[0m \u001b[38;5;28;01mtry\u001b[39;00m:\n\u001b[1;32m    343\u001b[0m     object_setattr(__pydantic_self__, \u001b[38;5;124m'\u001b[39m\u001b[38;5;124m__dict__\u001b[39m\u001b[38;5;124m'\u001b[39m, values)\n",
      "\u001b[0;31mValidationError\u001b[0m: 1 validation error for ask_docmentSchema\nquery\n  field required (type=value_error.missing)"
     ]
    }
   ],
   "source": [
    "async for chunk in zhipu_react.astream_events({\"input\": \"供应商达标的业绩要求是什么？\"}, version=\"v1\"):\n",
    "    event = chunk['event']\n",
    "    if(event == \"on_chat_model_stream\"):\n",
    "        if('chunk' in chunk['data']):\n",
    "            print(chunk['data']['chunk'].content, end=\"_\", flush=True)"
   ]
  },
  {
   "cell_type": "markdown",
   "id": "23ef8f49-425d-467e-a8df-41ebba848508",
   "metadata": {},
   "source": [
    "### ✍️ GPT4 + create_cot_agent"
   ]
  },
  {
   "cell_type": "code",
   "execution_count": 759,
   "id": "483e9e06-178c-4235-97c0-2a5078cfe462",
   "metadata": {},
   "outputs": [],
   "source": [
    "gpt_cot = create_cot_executor(ChatOpenAI(model=\"gpt-4-0125-preview\"), tools)"
   ]
  },
  {
   "cell_type": "code",
   "execution_count": 760,
   "id": "6db1e202-d83c-490e-ace0-5c64bddcf61b",
   "metadata": {
    "scrolled": true
   },
   "outputs": [
    {
     "name": "stdout",
     "output_type": "stream",
     "text": [
      "_1_._ 关_键_概_念_:_ _供_应_商_达_标_的_标_准_\n",
      "_2_._ 概_念_拆_解_:\n",
      "_  _ -_ _供_应_商_评_估_标_准_的_定义_\n",
      "_  _ -_ _供_应_商_评_估_流_程_\n",
      "_  _ -_ _供_应_商_评_估_相关_的_具_体_指_标_\n",
      "_  _ -_ _供_应_商_评_估_标_准_的_来源_或_文件_位置_\n",
      "_3_._ 反_思_:\n",
      "_  _ -_ 我_需要_找_到_描述_供_应_商_达_标_标_准_的_文_档_或_资_料_。\n",
      "_  _ -_ _之_前_还_没有_查询_过_相关_的_文件_或_资_料_，_不_知_道_具_体_的_文件_名_或_位置_。\n",
      "_  _ -_ 我_需要_确认_是否_有_存_储_这_类_信息_的_文_档_，_如果_有_，_它_的_文件_名_是_什_么_。\n",
      "_  _ -_ 需_要_考_虑_供_应_商_评_估_的_具_体_指_标_可能_包_含_多_个_方_面_，_如_质_量_、_成_本_、_交_货_时间_等_。\n",
      "_4_._ 思_考_:\n",
      "_  _ -_ 首_先_需要_获_得_存_储_供_应_商_评_估_标_准_的_文_档_或_文件_名_。\n",
      "_  _ -_ 如果_找_到_了_相关_文件_，_我_可以_通过_阅_读_文件_内容_来_获取_供_应_商_评_估_标_准_的_具_体_信息_。\n",
      "_  _ -_ 可_能_需要_在_多_个_文件_中_查_找_这_些_信息_，_所_以_我_应_该_先_列_出_所有_可能_相关_的_文件_。\n",
      "_  _ -_ 如果_列_出_文件_后_发_现_有_多_个_文件_可能_相关_，_需要_确定_哪_个_文件_是_优_先_查_阅_的_。\n",
      "_  _ -_ 如果_第_一_次_尝_试_没有_得_到_结果_，_我_需要_重新_检_查_文件_列表_，_或_者_考_虑_文件_内容_查询_的_关_键_词_是否_准_确_。\n",
      "_5_._ 推_理_:\n",
      "_  _ -_ 我_将_首_先_使用_list__files_工_具_来_列_出_所有_文件_，_这_样_我_可以_找_到_可能_包_含_供_应_商_评_估_标_准_的_文_档_。\n",
      "_  _ -_ _一_旦_我_找_到_了_可能_的_文件_，_我_将_使用_ask__document_工_具_来_查询_这_些_文件_，_以_便_找_到_供_应_商_达_标_的_标_准_。\n",
      "_6_._ 计_划_:\n",
      "_  _ -_ 我_将_执行_list__files_动_作_，_不_需要_参数_，_以_获取_当前_可_访_问_的_所有_文件_和_文件_夹_名_。\n",
      "\n",
      "_下_面_是_执行_的_第_一_步_动_作_的_JSON_描述_：\n",
      "_``_`\n",
      "_{\"_name_\":_ \"_list__files_\",_ \"_args_\":_ {}_}\n",
      "_```__当前目录为： ./data\n",
      "_关_键_概_念_:_ _供_应_商_达_标_的_标_准_\n",
      "\n",
      "_概_念_拆_解_:\n",
      "_-_ _供_应_商_评_估_标_准_的_定义_\n",
      "_-_ _供_应_商_评_估_流_程_\n",
      "_-_ _供_应_商_评_估_相关_的_具_体_指_标_\n",
      "_-_ _供_应_商_评_估_标_准_的_来源_或_文件_位置_\n",
      "\n",
      "_反_思_:\n",
      "_-_ 根_据_列_出_的_文件_名_，_\"_供_应_商_资_格_要_求_.pdf_\"_这_个_文件_听_起_来_最_有_可能_包_含_供_应_商_达_标_的_标_准_。\n",
      "_-_ 我_之_前_的_计_划_是_找_到_可能_包_含_供_应_商_评_估_标_准_的_文_档_，_现_在_我_已_经_找_到_了_可能_的_文件_。\n",
      "_-_ 我_需要_使用_ask__document_工_具_来_查询_这_个_PDF_文件_，_以_便_确认_供_应_商_的_评_估_标_准_。\n",
      "_-_ _之_前_的_概_念_拆_解_和_计_划_似_乎_是_完_整_的_，_现_在_应_该_执行_下_一_步_。\n",
      "\n",
      "_思_考_:\n",
      "_-_ 我_需要_从_\"_供_应_商_资_格_要_求_.pdf_\"_这_个_文件_中_获取_供_应_商_达_标_的_具_体_标_准_。\n",
      "_-_ 查询_这_个_文件_是_目_前_的_重_点_，_因_为_从_文件_名_来_判断_，_它_很_可能_包_含_所_需_的_信息_。\n",
      "_-_ _依_据_之_前_的_计_划_，_我_现_在_要_使用_ask__document_工_具_来_查询_这_个_PDF_文件_。\n",
      "\n",
      "_推_理_:\n",
      "_-_ 使用_ask__document_工_具_查询_\"_供_应_商_资_格_要_求_.pdf_\"_文件_是_合_适_的_下_一_步_，_因_为_它_的_文件_名_暗_示_了_它_可能_包_含_供_应_商_评_估_的_相关_信息_。\n",
      "_-_ 查询_应_该_包_含_对_供_应_商_评_估_标_准_的_描述_，_这_样_可以_确_保_获取_到_的_信息_是_准_确_和_全_面_的_。\n",
      "\n",
      "_计_划_:\n",
      "_-_ 我_将_执行_ask__document_动_作_，_参数_是_文件_名_ \"_供_应_商_资_格_要_求_.pdf_\"_ 和_查询_ \"_供_应_商_达_标_的_标_准_是_什_么_？_\"_。\n",
      "\n",
      "_输出_的_JSON_动_作_描述_如_下_：\n",
      "_``_`\n",
      "_{\"_name_\":_ \"_ask__document_\",_ \"_args_\":_ {\"_filename_\":_ \"_供_应_商_资_格_要_求_.pdf_\",_ \"_query_\":_ \"_供_应_商_达_标_的_标_准_是_什_么_？_\"}}\n",
      "_```___关_键_概_念_:_ _供_应_商_达_标_的_标_准_\n",
      "\n",
      "_概_念_拆_解_:\n",
      "_-_ _供_应_商_评_估_标_准_的_定义_\n",
      "_-_ _供_应_商_评_估_流_程_\n",
      "_-_ _供_应_商_评_估_相关_的_具_体_指_标_\n",
      "_-_ _供_应_商_评_估_标_准_的_来源_或_文件_位置_\n",
      "\n",
      "_反_思_:\n",
      "_-_ 在_前_一_次_的_动_作_中_，_我_计_划_使用_ask__document_工_具_查询_\"_供_应_商_资_格_要_求_.pdf_\"_文件_，_但_是_由_于_输入_错误_（_工_具_名_写_成_了_ask__document_而_不_是_ask__doc_ment_），_我_没有_得_到_期_望_的_结果_。\n",
      "_-_ 我_已_经_确定_了_可能_包_含_供_应_商_评_估_标_准_的_文_档_\"_供_应_商_资_格_要_求_.pdf_\"_，_下_一_步_是_正确_地_查询_这_个_文件_。\n",
      "_-_ 我_需要_重新_规_划_动_作_，_使用_正确_的_工_具_名_来_获取_信息_。\n",
      "\n",
      "_思_考_:\n",
      "_-_ 我_已_经_知_道_了_存_储_供_应_商_评_估_标_准_可能_的_文件_名_。\n",
      "_-_ 我_需要_使用_ask__doc_ment_工_具_，_而_不_是_错误_的_ask__document_来_查询_文件_。\n",
      "_-_ 查询_应_该_包_含_对_供_应_商_评_估_标_准_的_描述_，_以_确_保_获取_到_的_信息_是_准_确_和_全_面_的_。\n",
      "\n",
      "_推_理_:\n",
      "_-_ 需_要_重新_执行_查询_动_作_，_这_次_使用_正确_的_工_具_名_ask__doc_ment_，并_查询_\"_供_应_商_资_格_要_求_.pdf_\"_文件_来_获取_供_应_商_评_估_标_准_的_具_体_内容_。\n",
      "\n",
      "_计_划_:\n",
      "_-_ 我_将_执行_ask__doc_ment_动_作_，_参数_是_文件_名_ \"_供_应_商_资_格_要_求_.pdf_\"_ 和_查询_ \"_供_应_商_达_标_的_标_准_是_什_么_？_\"_。\n",
      "\n",
      "_下_面_是_修_正_后_的_JSON_动_作_描述_：\n",
      "_``_`\n",
      "_{\"_name_\":_ \"_ask__doc_ment_\",_ \"_args_\":_ {\"_filename_\":_ \"_供_应_商_资_格_要_求_.pdf_\",_ \"_query_\":_ \"_供_应_商_达_标_的_标_准_是_什_么_？_\"}}\n",
      "_```__供应商|达标|的标准|如下|：\n",
      "\n",
      "1|.| **|基本|资质|要求|**|：\n",
      "  | -| 必|须|具备|合法|有效的|营业执照|。\n",
      "  | -| 必|须|具备|税务|登记|证|，|并|符合|国家|税收|法律法规|。\n",
      "  | -| 应|拥有|有效的|组织|机构|代码|证|。\n",
      "\n",
      "2|.| **|经营|和|财务|能力|**|：\n",
      "  | -| 与|公司|合作的|月份|，|销售|的产品|月|总价|不得|低于|人民币|3|万元|。\n",
      "  | -| 应|具备|健全|和|稳定的|财务|状况|，|以及|良好的|信用|记录|。\n",
      "  | -| 应|具备|足够的|流动|资金|来|支持|合同|执行|。\n",
      "\n",
      "3|.| **|产品|和服务|质量|**|：\n",
      "  | -| 提|供|的产品|必须|符合|国家|及|行业标准|，|并通过|相关|质量|认证|。\n",
      "  | -| 应|具备|高标准|的服务|体系|，|并|承诺|在|合作|期间|提供|持续|、|稳定|、|优质|的服务|。\n",
      "\n",
      "4|.| **|行业|经验和|声誉|**|：\n",
      "  | -| 应|具有|至少|五|年的|相关|行业|经验|。\n",
      "  | -| 应|有|良好的|业务|声誉|和|客户|满意度|记录|。\n",
      "\n",
      "这些|标准|确保|了|供应商|具备|良好的|信誉|、|经营|能力和|稳定的|财务|状况|，|能够|提供|符合|标准|的产品|和服务|，|并在|行业内|拥有|良好的|经验和|声誉|。||_关_键_概_念_:_ _供_应_商_达_标_的_标_准_（_已_获_得_）\n",
      "_-_ 基_本_资_质_要_求_\n",
      "_-_ 经_营_和_财_务_能_力_\n",
      "_-_ _产品_和_服务_质_量_\n",
      "_-_ 行_业_经_验_和_声_誉_\n",
      "\n",
      "_概_念_拆_解_:\n",
      "_-_ _供_应_商_评_估_标_准_的_定义_（_已_获_得_）\n",
      "_-_ _供_应_商_评_估_流_程_（_无_需_获取_）\n",
      "_-_ _供_应_商_评_估_相关_的_具_体_指_标_（_已_获_得_）\n",
      "_-_ _供_应_商_评_估_标_准_的_来源_或_文件_位置_（_已_知_）\n",
      "\n",
      "_反_思_:\n",
      "_-_ 我_已_经_成功_地_使用_ask__doc_ment_工_具_查询_到_了_\"_供_应_商_资_格_要_求_.pdf_\"_文件_，并_获_得_了_供_应_商_达_标_的_具_体_标_准_。\n",
      "_-_ 这_些_标_准_涵_盖_了_供_应_商_的_基_本_资_质_、_经_营_和_财_务_能_力_、_产品_和_服务_质_量_以_及_行_业_经_验_和_声_誉_等_方_面_。\n",
      "_-_ 目_前_的_任务_目_标_已_经_达_成_，_没有_需要_再_次_查询_的_子_概_念_或_要_素_。\n",
      "\n",
      "_思_考_:\n",
      "_-_ 根_据_所_获_得_的_信息_，_我_已_经_明_确_了_供_应_商_达_标_的_各_项_标_准_。\n",
      "_-_ 没_有_遗_漏_的_信息_或_需要_进_一_步_查询_的_概_念_。\n",
      "_-_ _既_然_我_已_经_获取_了_所有_必_要_的_信息_，_现_在_我_应_该_结束_任务_。\n",
      "\n",
      "_推_理_:\n",
      "_-_ _由_于_我_已_经_获取_了_任务_所_需_的_全部_信息_，_下_一_步_应_使用_FIN_ISH_动_作_结束_任务_。\n",
      "\n",
      "_计_划_:\n",
      "_-_ 我_将_使用_FIN_ISH_动_作_，_将_获取_到_的_供_应_商_达_标_的_标_准_作_为_输出_结果_。\n",
      "\n",
      "_下_面_是_JSON_格式_的_动_作_描述_：\n",
      "_``_`\n",
      "_{\"_name_\":_ \"_FIN_ISH_\",_ \"_args_\":_ {\"_output_\":_ \"_供_应_商_达_标_的_标_准_如_下_：_\\_n_1_._ 基_本_资_质_要_求_：_必_须_具_备_合_法_有效_的_营_业_执_照_、_税_务_登_记_证_并_符_合_税_收_法_规_、_有效_的_组_织_机_构_代码_证_。\\_n_2_._ 经_营_和_财_务_能_力_：_与_公司_合_作_的_月_份_，_月_总_价_不_低_于_3_万元_人_民_币_、_健_全_和_稳_定_的_财_务_状_况_、_良_好_的_信_用_记录_、_足_够_的_流_动_资_金_支_持_合_同_执行_。\\_n_3_._ _产品_和_服务_质_量_：_产品_必_须_符_合_国_家_及_行_业_标_准_并_通过_质_量_认_证_、_高_标_准_服务_体_系_并_承_诺_提_供_持_续_、_稳_定_、_优_质_服务_。\\_n_4_._ 行_业_经_验_和_声_誉_：_至_少_五_年_相关_行_业_经_验_、_良_好_的_业_务_声_誉_和_客_户_满_意_度_记录_。_\"}}\n",
      "_```__"
     ]
    }
   ],
   "source": [
    "\n",
    "async for chunk in gpt_cot.astream_events({\"input\": \"供应商达标的标准是什么？\"}, version=\"v1\"):\n",
    "    event = chunk['event']\n",
    "    if(event == \"on_chat_model_stream\"):\n",
    "        if('chunk' in chunk['data']):\n",
    "            print(chunk['data']['chunk'].content, end=\"_\", flush=True)"
   ]
  },
  {
   "cell_type": "code",
   "execution_count": 783,
   "id": "3ea24e8d-579c-430f-98b2-ef9efe29c4e5",
   "metadata": {
    "scrolled": true
   },
   "outputs": [
    {
     "name": "stdout",
     "output_type": "stream",
     "text": [
      "_1_._ 关_键_概_念_:_ _供_货_商_达_标_（_供_货_商_在_9_月_份_是否_达_标_）\n",
      "_2_._ 概_念_拆_解_:\n",
      "_  _ -_ _供_货_商_达_标_\n",
      "_    _ -_ 达_标_标_准_\n",
      "_    _ -_ _供_货_商_在_9_月_份_的_供_货_数据_\n",
      "_3_._ 反_思_:\n",
      "_  _ -_ 需_要_找_到_记录_供_货_商_9_月_份_供_货_信息_的_文件_，_可能_是_Excel_格式_。\n",
      "_  _ -_ 需_要_知_道_什_么_样_的_供_货_数据_算_是_达_标_。\n",
      "_  _ -_ _之_前_没有_执行_过_任_何_动_作_，_所_以_还_没有_得_到_任_何_信息_。\n",
      "_4_._ 思_考_:\n",
      "_  _ -_ 需_要_先_确定_存_储_供_货_商_供_货_数据_的_文件_位置_和_名称_。\n",
      "_  _ -_ 在_获取_文件_后_，_需要_查_看_文件_内容_，_确定_包_含_9_月_份_供_货_数据_的_列_。\n",
      "_  _ -_ 需_要_定义_达_标_的_具_体_标_准_，_才_能_判断_供_货_商_是否_达_标_。\n",
      "_  _ -_ 首_先_应_当_使用_list__files_工_具_来_查_找_有_关_供_货_商_供_货_信息_的_文件_。\n",
      "_5_._ 推_理_:\n",
      "_  _ -_ 应_首_先_使用_list__files_工_具_列_出_文件_，_以_便_找_到_可能_包_含_供_货_商_供_货_数据_的_文件_。\n",
      "_  _ -_ _一_旦_找_到_相关_文件_，_可能_需要_使用_inspect__excel_工_具_来_查_看_文件_内容_。\n",
      "_  _ -_ 如果_找_到_了_包_含_9_月_份_供_货_数据_的_文件_，_那_么_将_使用_excel__an_aly_se_工_具_来_分_析_数据_是否_达_标_。\n",
      "_6_._ 计_划_:\n",
      "_  _ -_ 使用_list__files_工_具_来_列_出_当前_目_录_下_所有_文件_，_以_寻_找_可能_包_含_9_月_份_供_货_商_供_货_数据_的_文件_。\n",
      "\n",
      "_下_面_是_根_据_上_述_计_划_生成_的_JSON_格式_的_输出_：\n",
      "\n",
      "_```_json_\n",
      "_{\"_name_\":_ \"_list__files_\",_ \"_args_\":_ {}_}\n",
      "_```__当前目录为： ./data\n",
      "_关_键_概_念_:_ _供_货_商_达_标_（_供_货_商_在_9_月_份_是否_达_标_）\n",
      "_概_念_拆_解_:\n",
      "_-_ _供_货_商_达_标_\n",
      "_ _ -_ 达_标_标_准_\n",
      "_ _ -_ _供_货_商_在_9_月_份_的_供_货_数据_\n",
      "_反_思_:\n",
      "_-_ 我_们_已_经_发_现_了_可能_包_含_供_货_数据_的_文件_\"_202_3_年_8_月_-_9_月_销_售_记录_.xlsx_\"_。\n",
      "_-_ 还_需要_确定_哪_些_供_货_数据_算_是_达_标_，_这_可能_包_含_在_\"_供_应_商_资_格_要_求_.pdf_\"_文件_中_。\n",
      "_-_ 接_下_来_我们_需要_检_查_这_两_个_文件_以_获取_所_需_信息_。\n",
      "_思_考_:\n",
      "_-_ 要_确定_供_货_商_是否_达_标_，_首_先_需要_知_道_达_标_的_标_准_，_这_可能_在_\"_供_应_商_资_格_要_求_.pdf_\"_文件_中_有_描述_。\n",
      "_-_ 然_后_，_我们_需要_检_查_\"_202_3_年_8_月_-_9_月_销_售_记录_.xlsx_\"_文件_，_找_到_9_月_份_的_供_货_数据_。\n",
      "_-_ 先_从_\"_供_应_商_资_格_要_求_.pdf_\"_开始_获取_达_标_标_准_，_因_为_这_是_判断_供_货_商_是否_达_标_的_基_础_。\n",
      "_推_理_:\n",
      "_-_ 首_先_，_我_将_使用_ask__doc_ment_工_具_查询_\"_供_应_商_资_格_要_求_.pdf_\"_文件_中_关_于_达_标_标_准_的_信息_。\n",
      "_-_ 获_得_达_标_标_准_后_，_我_将_使用_inspect__excel_工_具_查_看_\"_202_3_年_8_月_-_9_月_销_售_记录_.xlsx_\"_文件_中_的_数据_结_构_。\n",
      "_计_划_:\n",
      "_-_ 使用_ask__doc_ment_工_具_查询_\"_供_应_商_资_格_要_求_.pdf_\"_文件_，_以_获取_供_货_商_达_标_的_具_体_标_准_。\n",
      "\n",
      "_下_面_是_根_据_上_述_计_划_生成_的_JSON_格式_的_输出_：\n",
      "\n",
      "_```_json_\n",
      "_{\"_name_\":_ \"_ask__doc_ment_\",_ \"_args_\":_ {\"_filename_\":_ \"_供_应_商_资_格_要_求_.pdf_\",_ \"_query_\":_ \"_供_货_商_达_标_的_标_准_是_什_么_？_\"}}\n",
      "_```__供货|商|达标|的标准|如下|：\n",
      "\n",
      "1|.| 基|本|资质|要求|：\n",
      "  | -| 拥|有|合法|有效的|营业执照|。\n",
      "  | -| 拥|有|税务|登记|证|，|并|符合|国家|税收|法律法规|。\n",
      "  | -| 拥|有|有效的|组织|机构|代码|证|。\n",
      "\n",
      "2|.| 经营|和|财务|能力|：\n",
      "  | -| 与|公司|合作|月份|，|销售|的产品|月|总价|不得|低于|人民币|3|万元|。\n",
      "  | -| 具|备|健全|和|稳定的|财务|状况|，|以及|良好的|信用|记录|。\n",
      "  | -| 拥|有|足够的|流动|资金|来|支持|合同|执行|。\n",
      "\n",
      "3|.| 产品|和服务|质量|：\n",
      "  | -| 提|供|的产品|符合|国家|及|行业标准|，|并通过|相关|质量|认证|。\n",
      "  | -| 拥|有|高标准|的服务|体系|，|并|承诺|在|合作|期间|提供|持续|、|稳定|、|优质|的服务|。\n",
      "\n",
      "4|.| 行|业|经验和|声誉|：\n",
      "  | -| 具|备|至少|五|年的|相关|行业|经验|。\n",
      "  | -| 拥|有|良好的|业务|声誉|和|客户|满意度|记录|。\n",
      "\n",
      "5|.| 社|会|责任|和|可持续|性|：\n",
      "  | -| 遵|循|社会责任|，|关注|环境保护|，|致力于|可持续发展|。\n",
      "\n",
      "供货|商|必须|满足|上述|所有|标准|，|方可|参与|投标|。||_关_键_概_念_:_ _供_货_商_达_标_（_供_货_商_在_9_月_份_是否_达_标_）\n",
      "_概_念_拆_解_:\n",
      "_-_ _供_货_商_达_标_\n",
      "_ _ -_ 达_标_标_准_：_已_获_得_，_见_“_供_应_商_资_格_要_求_.pdf_”_中_的_标_准_\n",
      "_ _ -_ _供_货_商_在_9_月_份_的_供_货_数据_：_需要_查询_“_202_3_年_8_月_-_9_月_销_售_记录_.xlsx_”\n",
      "_  \n",
      "_反_思_:\n",
      "_-_ 已_经_获取_了_达_标_的_具_体_标_准_。\n",
      "_-_ 接_下_来_需要_获取_供_货_商_在_9_月_份_的_供_货_数据_。\n",
      "_-_ 我_们_将_会_依_据_在_“_供_应_商_资_格_要_求_.pdf_”_中_获_得_的_达_标_标_准_来_评_估_供_货_数据_。\n",
      "_-_ 需_要_查询_“_202_3_年_8_月_-_9_月_销_售_记录_.xlsx_”_文件_以_获取_9_月_份_的_供_货_数据_。\n",
      "\n",
      "_思_考_:\n",
      "_-_ 我_们_需要_使用_inspect__excel_工_具_来_查_看_“_202_3_年_8_月_-_9_月_销_售_记录_.xlsx_”_文件_的_列_名_和_前_几_行_数据_，_以_确定_哪_些_列_包_含_了_9_月_份_的_供_货_数据_。\n",
      "_-_ _一_旦_我们_知_道_了_哪_些_列_包_含_所_需_数据_，_我们_将_使用_excel__an_aly_se_工_具_来_分_析_这_些_数据_，_以_判断_哪_些_供_货_商_在_9_月_份_达_标_。\n",
      "\n",
      "_计_划_:\n",
      "_-_ 使用_inspect__excel_工_具_来_查_看_“_202_3_年_8_月_-_9_月_销_售_记录_.xlsx_”_文件_的_列_名_和_前_3_行_数据_。\n",
      "\n",
      "_下_面_是_根_据_上_述_计_划_生成_的_JSON_格式_的_输出_：\n",
      "\n",
      "_```_json_\n",
      "_{\"_name_\":_ \"_inspect__excel_\",_ \"_args_\":_ {\"_filename_\":_ \"_202_3_年_8_月_-_9_月_销_售_记录_.xlsx_\",_ \"_n_\":_ _3_}}\n",
      "_```___关_键_概_念_:_ _供_货_商_达_标_（_供_货_商_在_9_月_份_是否_达_标_；_达_标_标_准_已_获取_）\n",
      "_概_念_拆_解_:\n",
      "_-_ _供_货_商_达_标_\n",
      "_ _ -_ 达_标_标_准_：_已_获取_，_见_“_供_应_商_资_格_要_求_.pdf_”_中_的_标_准_\n",
      "_ _ -_ _供_货_商_在_9_月_份_的_供_货_数据_：_需要_从_“_202_3_年_8_月_-_9_月_销_售_记录_.xlsx_”_获取_\n",
      "\n",
      "_反_思_:\n",
      "_-_ 我_们_已_经_明_确_了_达_标_的_具_体_标_准_，_包_括_销_售_的_产品_月_总_价_不_得_低_于_人_民_币_3_万元_等_要_求_。\n",
      "_-_ 已_经_获取_了_“_202_3_年_8_月_-_9_月_销_售_记录_.xlsx_”_文件_中_的_列_名_和_前_3_行_数据_，_知_道_了_如_何_从_表_格_中_提_取_供_货_商_和_销_售_数据_。\n",
      "_-_ 需_要_计_算_9_月_份_每_个_供_货_商_的_销_售_总_价_，_以_判断_他_们_是否_达_标_。\n",
      "\n",
      "_思_考_:\n",
      "_-_ 根_据_之_前_获取_的_信息_，_需要_计_算_每_个_供_货_商_在_9_月_份_的_销_售_总_价_。\n",
      "_-_ _由_于_销_售_记录_中_包_含_了_销_售_日期_、_供_应_商_、_单_价_和_销_售_量_，_我们_可以_通过_这_些_数据_计_算_出_每_个_供_货_商_的_月_总_价_。\n",
      "_-_ 我_们_需要_筛_选_出_9_月_份_的_销_售_记录_，_然_后_对_每_个_供_货_商_的_销_售_进行_累_加_。\n",
      "_-_ 这_一_过_程_可以_通过_excel__an_aly_se_工_具_完成_，_通过_设置_合_适_的_查询_来_筛_选_和_计_算_数据_。\n",
      "\n",
      "_计_划_:\n",
      "_-_ 使用_excel__an_aly_se_工_具_，_筛_选_“_202_3_年_8_月_-_9_月_销_售_记录_.xlsx_”_文件_中_9_月_份_的_数据_，并_计_算_每_个_供_货_商_的_销_售_总_价_。\n",
      "_-_ 设置_查询_条件_，_仅_包_括_销_售_日期_为_202_3_年_9_月_的_数据_。\n",
      "_-_ 对_筛_选_出_的_数据_，_按_供_应_商_分_组_，_计_算_每_个_供_货_商_的_销_售_总_价_，并_检_查_是否_达_到_了_3_万元_的_标_准_。\n",
      "\n",
      "_下_面_是_根_据_上_述_计_划_生成_的_JSON_格式_的_输出_：\n",
      "\n",
      "_```_json_\n",
      "_{\n",
      "_ _ \"_name_\":_ \"_excel__an_aly_se_\",\n",
      "_ _ \"_args_\":_ {\n",
      "_   _ \"_query_\":_ \"_SELECT_ _供_应_商_,_ SUM_(_单_价_(_元_)*_销_售_量_)_ AS_ _月_销_售_总_价_ FROM_ `_202_3_年_8_月_-_9_月_销_售_记录_`_ WHERE_ 销_售_日期_ >=_ '_202_3_-_09_-_01_'_ AND_ 销_售_日期_ <=_ '_202_3_-_09_-_30_'_ GROUP_ BY_ _供_应_商_ H_AVING_ _月_销_售_总_价_ >=_ _300_00_\",\n",
      "_   _ \"_filename_\":_ \"_202_3_年_8_月_-_9_月_销_售_记录_.xlsx_\"\n",
      "_ _ }\n",
      "_}\n",
      "_```__\u001b[34m\n",
      "#!/usr/bin/env python\u001b[0m\n",
      "\u001b[34m# 导入需要的库\n",
      "import pandas as pd\n",
      "\n",
      "# 读取Excel文件\n",
      "df = pd.read_excel('./data/2023年8月-9月销售记录.xlsx', sheet_name='2023年8月-9月销售记录')\n",
      "\n",
      "# 根据用户输入的条件筛选数据\n",
      "filtered_df = df[(df['销售日期'] >= '2023-09-01') & (df['销售日期'] <= '2023-09-30')]\n",
      "\n",
      "# 计算每个供应商的月销售总价\n",
      "grouped_df = filtered_df.groupby('供应商').agg({'单价(元)': 'sum', '销售量': 'sum'}).reset_index()\n",
      "grouped_df[' 月销售总价'] = grouped_df['单价(元)'] * grouped_df['销售量']\n",
      "\n",
      "# 根据用户输入的条件，筛选出月销售总价大于等于30000的记录\n",
      "result_df = grouped_df[grouped_df[' 月销售总价'] >= 30000]\n",
      "\n",
      "# 输出结果\n",
      "print(result_df[['供应商', ' 月销售总价']])\u001b[0m_关_键_概_念_:_ _供_货_商_达_标_（_供_货_商_在_9_月_份_是否_达_标_；_达_标_标_准_已_获取_；_9_月_份_达_标_供_货_商_名_单_已_获取_）\n",
      "_概_念_拆_解_:\n",
      "_-_ _供_货_商_达_标_\n",
      "_ _ -_ 达_标_标_准_：_销_售_的_产品_月_总_价_不_得_低_于_人_民_币_3_万元_等_其他_要_求_\n",
      "_ _ -_ _供_货_商_在_9_月_份_的_供_货_数据_：_已_获取_，_9_月_份_达_标_供_货_商_名_单_见_上_述_excel__an_aly_se_操作_结果_\n",
      "\n",
      "_反_思_:\n",
      "_-_ 已_经_获取_了_供_货_商_达_标_的_具_体_标_准_，并_且_通过_分_析_销_售_记录_，_得_到_了_9_月_份_达_标_的_供_货_商_名_单_。\n",
      "_-_ 根_据_任务_要_求_，_我们_已_经_收_集_到_了_所有_需要_的_信息_来_回_答_问题_。\n",
      "_-_ 没_有_其他_未_解_决_的_要_素_或_概_念_。\n",
      "\n",
      "_思_考_:\n",
      "_-_ 目_前_已_经_得_到_了_所有_需要_的_信息_，_没有_遗_漏_的_要_素_。\n",
      "_-_ 我_们_已_经_找_到_了_9_月_份_达_标_的_供_货_商_名_单_，_这_是_任务_的_最_终_目_标_。\n",
      "_-_ _既_然_所有_的_子_任务_已_经_完成_，_我们_应_该_使用_FIN_ISH_指_令_来_结束_任务_。\n",
      "\n",
      "_计_划_:\n",
      "_-_ 使用_FIN_ISH_指_令_，_输出_9_月_份_达_标_的_供_货_商_名_单_。\n",
      "\n",
      "_下_面_是_根_据_上_述_计_划_生成_的_JSON_格式_的_输出_：\n",
      "\n",
      "_```_json_\n",
      "_{\n",
      "_ _ \"_name_\":_ \"_FIN_ISH_\",\n",
      "_ _ \"_args_\":_ {\n",
      "_   _ \"_output_\":_ \"_9_月_份_达_标_的_供_货_商_包_括_：_云_林_音_乐_科_技_有_限_公司_、_兰_州_数_码_有_限_公司_、_台_东_计_算_机_科_技_有_限_公司_、_台_中_音_响_科_技_有_限_公司_、_台_北_环_保_科_技_有_限_公司_、_台_南_健_康_科_技_有_限_公司_、_嘉_义_摄_影_科_技_有_限_公司_、_嘉_义_清_新_科_技_有_限_公司_、_基_隆_游_戏_有_限_公司_、_屏_东_科_学_技_术_有_限_公司_、_拉_萨_摄_影_有_限_公司_、_新_竹_通_讯_科_技_有_限_公司_、_昆_明_游_戏_科_技_有_限_公司_、_海_口_电_讯_科_技_有_限_公司_、_澎_湖_视_讯_科_技_有_限_公司_、_澳_门_互_联_网_科_技_有_限_公司_、_花_莲_运_动_科_技_有_限_公司_、_西_宁_计_算_机_科_技_有_限_公司_、_西_安_运_动_科_技_有_限_公司_、_贵_阳_影_音_科_技_有_限_公司_、_银_川_音_响_有_限_公司_、_高_雄_音_乐_科_技_有_限_公司_。_\"\n",
      "_ _ }\n",
      "_}\n",
      "_```__"
     ]
    }
   ],
   "source": [
    "\n",
    "async for chunk in gpt_cot.astream_events({\"input\": \"9月份有哪些供货商达标？？\"}, version=\"v1\"):\n",
    "    event = chunk['event']\n",
    "    if(event == \"on_chat_model_stream\"):\n",
    "        if('chunk' in chunk['data']):\n",
    "            print(chunk['data']['chunk'].content, end=\"_\", flush=True)"
   ]
  },
  {
   "cell_type": "markdown",
   "id": "fdbf2ae2-cfa2-4d88-9f55-e79663ab361a",
   "metadata": {},
   "source": [
    "### ✍️ GLM4 + create_cot_agent"
   ]
  },
  {
   "cell_type": "code",
   "execution_count": 780,
   "id": "d7f510b5-0436-48a0-b8d8-7b56832d0612",
   "metadata": {},
   "outputs": [],
   "source": [
    "zhipu_cot = create_cot_executor(ChatZhipuAI(model=\"glm-4\"), tools)"
   ]
  },
  {
   "cell_type": "code",
   "execution_count": 781,
   "id": "5d277d68-89b0-45bc-be93-d9e20fb32efe",
   "metadata": {
    "scrolled": true
   },
   "outputs": [
    {
     "name": "stdout",
     "output_type": "stream",
     "text": [
      "关键_概念_:\n",
      "-_ _供应商_达标_标准_\n",
      "\n",
      "概念_拆_解_:\n",
      "-_ _供应商_达标_标准_ -_ _供应商_评价_体系_、_评价_标准_、_达标_分数线_\n",
      "\n",
      "反思_:\n",
      "-_ 在_解决_此_任务_之前_，_我_需要_了解_有关_供应商_评价_的具体_信息_，_但我_目前_并没有_这些_信息_。\n",
      "\n",
      "思考_:\n",
      "-_ 我_需要_先_获取_供应商_评价_体系_的相关_信息_，_才能_明确_达标_标准_。\n",
      "-_ _供应商_评价_体系和_达标_标准_可能_存在于_Excel_或_Word_文档_中_。\n",
      "-_ 我_应当_首先_查找_可能_含有_这些_信息的_文件_，_然后_分析_文件_内容_以_获取_所需_信息_。\n",
      "\n",
      "推理_:\n",
      "-_ 根_据_以上_思考_，_我_需要_先_使用_`_list__files_`_工具_来_查询_本地_文件夹_，_找到_可能_含有_供应商_评价_体系和_达标_标准的_文件_。\n",
      "\n",
      "计划_:\n",
      "-_ 我_将_使用_`_list__files_`_工具_来_查询_本地_文件夹_，_寻找_与_供应商_评价_相关的_文件_。\n",
      "\n",
      "输出_动作_:\n",
      "\n",
      "```_json_\n",
      "{\"_name_\":_ \"_list__files_\",_ \"_args_\":_ {}_}\n",
      "```__当前目录为： ./data\n",
      "关键_概念_:_ _供应商_达标_标准_\n",
      "\n",
      "概念_拆_解_:\n",
      "-_ _供应商_达标_标准_ -_ _供应商_评价_体系_、_评价_标准_、_达标_分数线_\n",
      "\n",
      "反思_:\n",
      "-_ 我_目前_还没有_获取_到_供应商_评价_体系_的相关_信息_，_这是_解决_此_任务_的关键_。\n",
      "\n",
      "思考_:\n",
      "-_ 我_需要_先_找到_包含_供应商_评价_体系和_达标_标准的_文件_。\n",
      "-_ 已经_查询_到_本地_文件夹_中有_\"_供应商_资格_要求_.pdf_\"，_这可能_包含_达标_标准_的信息_。\n",
      "-_ 我_计划_使用_`_ask__document_`_工具_来_查询_这个_PDF_文件_。\n",
      "\n",
      "推理_:\n",
      "-_ 根_据_以上_思考_，_我将_使用_`_ask__document_`_工具_来_查询_\"_供应商_资格_要求_.pdf_\"，_以_获取_供应商_达标_标准_。\n",
      "\n",
      "计划_:\n",
      "-_ 我_将_使用_`_ask__document_`_工具_，_查询_\"_供应商_资格_要求_.pdf_\"_文件_中的_供应商_达标_标准_。\n",
      "\n",
      "输出_动作_:\n",
      "\n",
      "```_json_\n",
      "{\"_name_\":_ \"_ask__document_\",_ \"_args_\":_ {\"_filename_\":_ \"_供应商_资格_要求_.pdf_\",_ \"_query_\":_ \"_供应商_达标_标准_是什么_？_\"}}\n",
      "```__供应商|达标|标准|如下|：\n",
      "\n",
      "1|.| **|基本|资质|要求|**|：\n",
      "  | -| 必|须|具备|合法|有效的|营业执照|。\n",
      "  | -| 必|须|具备|税务|登记|证|，|并|符合|国家|税收|法律法规|。\n",
      "  | -| 应|拥有|有效的|组织|机构|代码|证|。\n",
      "\n",
      "2|.| **|经营|和|财务|能力|**|：\n",
      "  | -| 与|公司|合作的|月份|，|销售|的产品|月|总价|不得|低于|人民币|3|万元|。\n",
      "  | -| 应|具备|健全|和|稳定的|财务|状况|，|以及|良好的|信用|记录|。\n",
      "  | -| 应|具备|足够的|流动|资金|来|支持|合同|执行|。\n",
      "\n",
      "3|.| **|产品|和服务|质量|**|：\n",
      "  | -| 提|供|的产品|必须|符合|国家|及|行业标准|，|并通过|相关|质量|认证|。\n",
      "  | -| 应|具备|高标准|的服务|体系|，|并|承诺|在|合作|期间|提供|持续|、|稳定|、|优质|的服务|。\n",
      "\n",
      "4|.| **|行业|经验和|声誉|**|：\n",
      "  | -| 应|具有|至少|五|年的|相关|行业|经验|。\n",
      "  | -| 应|有|良好的|业务|声誉|和|客户|满意度|记录|。\n",
      "\n",
      "这些|标准|是|参与|投标|的|供应商|必须|满足|的|，|以确保|供应商|具备|良好的|信誉|、|经营|能力和|稳定的|财务|状况|，|同时|能够|提供|符合|标准|的产品|和服务|。||关键_概念_:_ _供应商_达标_标准_\n",
      "概念_拆_解_:\n",
      "-_ _供应商_达标_标准_ -_ 基_本_资质_要求_、_经营_和_财务_能力_、_产品_和服务_质量_、_行业_经验和_声誉_\n",
      "\n",
      "反思_:\n",
      "-_ 已_成功_获取_了_供应商_达标_标准_的相关_信息_，_包括_基本_资质_要求_、_经营_和_财务_能力_、_产品_和服务_质量_、_行业_经验和_声誉_的具体_标准_。\n",
      "\n",
      "思考_:\n",
      "-_ 所有_关于_供应商_达标_标准_的信息_已经_获取_完毕_，_无需_进一步_查询_。\n",
      "-_ 下_一步_是_整理_这些_信息_，_并_准备_结束_任务_。\n",
      "\n",
      "推理_:\n",
      "-_ 根_据_以上_思考_，_我_准备_结束_任务_。\n",
      "\n",
      "计划_:\n",
      "-_ 我_将_使用_FIN_ISH_动作_，_输出_供应商_达标_标准_的信息_。\n",
      "\n",
      "输出_动作_:\n",
      "\n",
      "```_json_\n",
      "{\"_name_\":_ \"_FIN_ISH_\",_ \"_args_\":_ {\"_output_\":_ \"_供应商_达标_标准_如下_：_基本_资质_要求_、_经营_和_财务_能力_、_产品_和服务_质量_、_行业_经验和_声誉_。_具体_标准_包括_具备_合法_有效的_营业执照_、_税务_登记_证_、_组织_机构_代码_证_、_ 月销售_产品_总价_不低于_人民币_3_万元_、_健全_和_稳定的_财务_状况_、_良好的_信用_记录_、_足够的_流动_资金_、_符合_国家和_行业_标准的_质量_认证_、_高标准_的服务_体系_、_至少_五_年的_行业_经验_、_良好的_业务_声誉_和_客户_满意度_记录_。\"_}}\n",
      "```__"
     ]
    }
   ],
   "source": [
    "async for chunk in zhipu_cot.astream_events({\"input\": \"供应商达标的标准是什么？\"}, version=\"v1\"):\n",
    "    event = chunk['event']\n",
    "    if(event == \"on_chat_model_stream\"):\n",
    "        if('chunk' in chunk['data']):\n",
    "            print(chunk['data']['chunk'].content, end=\"_\", flush=True)"
   ]
  },
  {
   "cell_type": "code",
   "execution_count": 782,
   "id": "8365968a-ddc6-4e46-a8c6-4273170ba30c",
   "metadata": {
    "scrolled": true
   },
   "outputs": [
    {
     "name": "stdout",
     "output_type": "stream",
     "text": [
      "关键_概念_:\n",
      "-_ _9_月份_供货_商_达标_情况_\n",
      "\n",
      "概念_拆_解_:\n",
      "-_ _供货_商_达标_情况_\n",
      " _ -_ -_ _供货_商_名称_\n",
      " _ -_ -_ 达_标_月份_\n",
      " _ -_ -_ 达_标_标准_\n",
      "\n",
      "反思_:\n",
      "-_ 需_要_查询_9_月份_的_供货_商_达标_情况_，_首先_需要_知道_达标_的标准_是什么_，_然后再_查看_哪些_供货_商_达到了_这个_标准_。\n",
      "-_ 目前_我_还没有_获得_任何_关于_供货_商_达标_情况_的信息_。\n",
      "\n",
      "思考_:\n",
      "-_ 为了_获取_9_月份_供货_商_达标_情况_，_我_需要_先_了解_达标_标准_，_然后_才能_确定_哪些_供货_商_达到了_这个_标准_。\n",
      "-_ 我_可以通过_查询_Excel_文件_来_获取_这些_信息_，_因为_Excel_文件_通常_用于_存储_这类_数据_。\n",
      "\n",
      "计划_:\n",
      "-_ 我_将_首先_使用_\"_inspect__excel_\"_工具_探_查_存储_供货_商_达标_信息的_Excel_文件_，_以便_了解_其_结构和_内容_。\n",
      "\n",
      "输出_JSON_格式_描述_的动作_:\n",
      "\n",
      "```_json_\n",
      "{\"_name_\":_ \"_inspect__excel_\",_ \"_args_\":_ {\"_filename_\":_ \"_supplier__stand_ards_.xlsx_\",_ \"_n_\":_ _3_}}\n",
      "```__关键_概念_:_ _9_月份_供货_商_达标_情况_\n",
      "概念_拆_解_:\n",
      "-_ _供货_商_达标_情况_\n",
      " _ -_ -_ _供货_商_名称_\n",
      " _ -_ -_ 达_标_月份_\n",
      " _ -_ -_ 达_标_标准_\n",
      "\n",
      "反思_:\n",
      "-_ 需_要_获取_9_月份_供货_商_的_达标_情况_，_但_尚未_了解_达标_标准_。\n",
      "-_ 上_一个_计划_中_使用的_文件_路径_不存在_，_需要_先_探_查_正确的_文件_路径_。\n",
      "\n",
      "思考_:\n",
      "-_ 需_要先_确定_正确的_文件_路径_和_文件_名_，_然后再_探_查_Excel_文件_了解_达标_标准和_供货_商_的_达标_情况_。\n",
      "-_ 可以_使用_list__files_工具_来_查找_存储_供货_商_达标_信息的_文件_。\n",
      "\n",
      "计划_:\n",
      "-_ 使用_list__files_工具_探_查_工作_目录_./_data_中的_文件_，_找到_存储_供货_商_达标_信息的_文件_。\n",
      "\n",
      "输出_JSON_格式_描述_的动作_:\n",
      "\n",
      "```_json_\n",
      "{\"_name_\":_ \"_list__files_\",_ \"_args_\":_ {\"_directory_\":_ \"./_data_\"}}\n",
      "```__当前目录为： ./data\n",
      "关键_概念_:_ _9_月份_供货_商_达标_情况_\n",
      "概念_拆_解_:\n",
      "-_ _供货_商_达标_情况_\n",
      " _ -_ -_ _供货_商_名称_\n",
      " _ -_ -_ 达_标_月份_\n",
      " _ -_ -_ 达_标_标准_\n",
      "\n",
      "反思_:\n",
      "-_ 需_要_获取_9_月份_供货_商_的_达标_情况_，_但_尚未_了解_达标_标准_。\n",
      "-_ 已_确认_\"data_\"_目录_下的_文件_，_但_尚未_确定_具体的_Excel_文件_。\n",
      "\n",
      "思考_:\n",
      "-_ 需_要_确定_存储_供货_商_达标_信息的_具体_Excel_文件_。\n",
      "-_ 可以_通过_文件_名_推断_，_\"_供应商_名录_.xlsx_\"_可能_包含_供货_商_信息_，_而_\"_202_3_年_8_月_-_9_月_销售_记录_.xlsx_\"_可能_包含_达标_情况_。\n",
      "-_ 将_使用_inspect__excel_工具_来_检查_\"_202_3_年_8_月_-_9_月_销售_记录_.xlsx_\"，_以_确定_它_是否_包含_达标_信息_。\n",
      "\n",
      "计划_:\n",
      "-_ 使用_inspect__excel_工具_探_查_\"_202_3_年_8_月_-_9_月_销售_记录_.xlsx_\"_文件_，_以_了解_其_结构和_内容_。\n",
      "\n",
      "JSON_格式_描述_的动作_:\n",
      "\n",
      "```_json_\n",
      "{\"_name_\":_ \"_inspect__excel_\",_ \"_args_\":_ {\"_filename_\":_ \"./_data_/_202_3_年_8_月_-_9_月_销售_记录_.xlsx_\",_ \"_n_\":_ _3_}}\n",
      "```__关键_概念_:_ _9_月份_供货_商_达标_情况_\n",
      "概念_拆_解_:\n",
      "-_ _供货_商_达标_情况_\n",
      " _ -_ -_ _供货_商_名称_\n",
      " _ -_ -_ 达_标_月份_\n",
      " _ -_ -_ 达_标_标准_\n",
      "\n",
      "反思_:\n",
      "-_ 已_确认_需要_获取_9_月份_供货_商_的_达标_情况_，_但_尚未_了解_达标_标准_。\n",
      "-_ 经过_探_查_，_\"_data_\"_目录_下_可能_包含_达标_信息的_文件_有_\"_202_3_年_8_月_-_9_月_销售_记录_.xlsx_\"_和_\"_供应商_名录_.xlsx_\"_。\n",
      "-_ 上_一次_尝试_探_查_文件_路径_不存在_，_需要_修正_文件_名_。\n",
      "\n",
      "思考_:\n",
      "-_ 需_要_确定_存储_供货_商_达标_信息的_具体_Excel_文件_，_并且_探_查_其_内容_以_获取_达标_标准_。\n",
      "-_ \"_供应商_资格_要求_.pdf_\"_可能_包含_达标_标准_，_因此_我将_使用_ask__document_工具_来_查询_这个_文件_。\n",
      "\n",
      "计划_:\n",
      "-_ 使用_ask__document_工具_查询_\"_供应商_资格_要求_.pdf_\"_文件_，_获取_达标_标准_。\n",
      "\n",
      "JSON_格式_描述_的动作_:\n",
      "\n",
      "```_json_\n",
      "{\"_name_\":_ \"_ask__document_\",_ \"_args_\":_ {\"_filename_\":_ \"./_data_/_供应商_资格_要求_.pdf_\",_ \"_query_\":_ \"_达标_标准_是什么_？_\"}}\n",
      "```__关键_概念_:_ _9_月份_供货_商_达标_情况_\n",
      "概念_拆_解_:\n",
      "-_ _供货_商_达标_情况_\n",
      " _ -_ -_ _供货_商_名称_\n",
      " _ -_ -_ 达_标_月份_\n",
      " _ -_ -_ 达_标_标准_\n",
      "\n",
      "反思_:\n",
      "-_ 需_要_获取_9_月份_供货_商_的_达标_情况_，_但_尚未_了解_达标_标准_。\n",
      "-_ 已经_探_查_了_\"data_\"_目录_下的_文件_，_但_之前的_文件_路径_有_误_，_需要_修正_。\n",
      "\n",
      "思考_:\n",
      "-_ 需_要_确定_存储_供货_商_达标_信息的_具体_Excel_文件_，_并_探_查_其_内容_以_获取_达标_标准_。\n",
      "-_ \"_供应商_资格_要求_.pdf_\"_可能_包含_达标_标准_，_但_文件_路径_有_误_，_应_先_使用_list__files_工具_再次_确认_文件_路径_。\n",
      "\n",
      "计划_:\n",
      "-_ 使用_list__files_工具_探_查_工作_目录_./_data_中的_文件_，_以_确认_\"_供应商_资格_要求_.pdf_\"_的确_切_路径_。\n",
      "\n",
      "输出_JSON_格式_描述_的动作_:\n",
      "\n",
      "```_json_\n",
      "{\"_name_\":_ \"_list__files_\",_ \"_args_\":_ {\"_directory_\":_ \"./_data_\"}}\n",
      "```__当前目录为： ./data\n",
      "关键_概念_:_ _9_月份_供货_商_达标_情况_\n",
      "概念_拆_解_:\n",
      "-_ _供货_商_达标_情况_\n",
      " _ -_ -_ _供货_商_名称_\n",
      " _ -_ -_ 达_标_月份_\n",
      " _ -_ -_ 达_标_标准_\n",
      "\n",
      "反思_:\n",
      "-_ 需_要_获取_9_月份_供货_商_的_达标_情况_，_但_尚未_了解_达标_标准_。\n",
      "-_ 已经_探_查_了_\"data_\"_目录_下的_文件_，_确认_了_\"_供应商_资格_要求_.pdf_\"_的存在_，_但_之前的_查询_尝试_失败_，_需要_修正_。\n",
      "\n",
      "思考_:\n",
      "-_ 我_需要_先_获取_达标_标准_，_才能_确定_哪些_供货_商_达到了_这个_标准_。\n",
      "-_ \"_供应商_资格_要求_.pdf_\"_可能_包含_达标_标准_，_我将_使用_ask__document_工具_来_查询_这个_文件_。\n",
      "\n",
      "计划_:\n",
      "-_ 使用_ask__document_工具_查询_\"_供应商_资格_要求_.pdf_\"_文件_，_获取_达标_标准_。\n",
      "\n",
      "JSON_格式_描述_的动作_:\n",
      "\n",
      "```_json_\n",
      "{\"_name_\":_ \"_ask__document_\",_ \"_args_\":_ {\"_filename_\":_ \"./_data_/_供应商_资格_要求_.pdf_\",_ \"_query_\":_ \"_9_月份_供货_商_的_达标_标准_是什么_？_\"}}\n",
      "```__关键_概念_:_ _9_月份_供货_商_达标_情况_\n",
      "概念_拆_解_:\n",
      "-_ _供货_商_达标_情况_\n",
      " _ -_ -_ _供货_商_名称_\n",
      " _ -_ -_ 达_标_月份_\n",
      " _ -_ -_ 达_标_标准_\n",
      "\n",
      "反思_:\n",
      "-_ 需_要_获取_9_月份_供货_商_的_达标_情况_，_但_尚未_了解_达标_标准_。\n",
      "-_ 已经_探_查_了_\"data_\"_目录_下的_文件_，_确认_了_\"_供应商_资格_要求_.pdf_\"_的存在_，_但_之前的_查询_尝试_失败_，_需要_修正_。\n",
      "\n",
      "思考_:\n",
      "-_ 我_需要_先_获取_达标_标准_，_才能_确定_哪些_供货_商_达到了_这个_标准_。\n",
      "-_ \"_供应商_资格_要求_.pdf_\"_可能_包含_达标_标准_，_我_之前_尝试_使用_ask__document_工具_查询_这个_文件_，_但_可能_由于_文件_路径_或_查询_问题_导致_失败_。\n",
      "-_ 我_将_再次_使用_list__files_工具_确认_\"_供应商_资格_要求_.pdf_\"_的_路径_，_然后_使用_ask__document_工具_进行_查询_。\n",
      "\n",
      "计划_:\n",
      "-_ 使用_list__files_工具_确认_\"_供应商_资格_要求_.pdf_\"_的确_切_路径_。\n",
      "\n",
      "JSON_格式_描述_的动作_:\n",
      "\n",
      "```_json_\n",
      "{\"_name_\":_ \"_list__files_\",_ \"_args_\":_ {\"_directory_\":_ \"./_data_\"}}\n",
      "```__当前目录为： ./data\n",
      "关键_概念_:_ _9_月份_供货_商_达标_情况_\n",
      "概念_拆_解_:\n",
      "-_ _供货_商_达标_情况_\n",
      " _ -_ -_ _供货_商_名称_\n",
      " _ -_ -_ 达_标_月份_\n",
      " _ -_ -_ 达_标_标准_\n",
      "\n",
      "反思_:\n",
      "-_ 需_要_获取_9_月份_供货_商_的_达标_情况_，_但_尚未_了解_达标_标准_。\n",
      "-_ 已经_多次_尝试_探_查_文件_路径_，_但_之前的_尝试_均_未_成功_。\n",
      "\n",
      "思考_:\n",
      "-_ 我_需要_先_获取_达标_标准_，_才能_确定_哪些_供货_商_达到了_这个_标准_。\n",
      "-_ _之前_尝试_使用_\"_ask__document_\"_工具_查询_\"_供应商_资格_要求_.pdf_\"_文件_，_但_可能_由于_文件_路径_或_查询_问题_导致_失败_。\n",
      "-_ 我认为_问题_可能_出_在_查询_参数_上_，_因此_我将_简化_查询_参数_，_尝试_直接_获取_文件_内容_。\n",
      "\n",
      "计划_:\n",
      "-_ 使用_ask__document_工具_查询_\"_供应商_资格_要求_.pdf_\"_文件_，_尝试_获取_整个_文件_内容_。\n",
      "\n",
      "JSON_格式_描述_的动作_:\n",
      "\n",
      "```_json_\n",
      "{\"_name_\":_ \"_ask__document_\",_ \"_args_\":_ {\"_filename_\":_ \"./_data_/_供应商_资格_要求_.pdf_\",_ \"_query_\":_ \"_获取_文件_内容_\"}}\n",
      "```__关键_概念_:_ _9_月份_供货_商_达标_情况_\n",
      "概念_拆_解_:\n",
      "-_ _供货_商_达标_情况_\n",
      " _ -_ -_ _供货_商_名称_\n",
      " _ -_ -_ 达_标_月份_\n",
      " _ -_ -_ 达_标_标准_\n",
      "\n",
      "反思_:\n",
      "-_ 需_要_获取_9_月份_供货_商_的_达标_情况_，_但_尚未_了解_达标_标准_。\n",
      "-_ 经过_多次_尝试_，_使用_list__files_工具_确认_了_\"data_\"_目录_下的_文件_存在_，_但_使用_ask__document_工具_查询_文件_内容_时_遇到了_困难_。\n",
      "\n",
      "思考_:\n",
      "-_ 我_需要_先_获取_达标_标准_，_才能_确定_哪些_供货_商_达到了_这个_标准_。\n",
      "-_ _之前_尝试_使用_ask__document_工具_查询_\"_供应商_资格_要求_.pdf_\"_文件_，_但_可能_由于_文件_路径_或_查询_问题_导致_失败_。\n",
      "-_ 我认为_问题_可能_出_在_查询_参数_上_，_因此_我将_尝试_使用_inspect__excel_工具_来_探_查_\"_202_3_年_8_月_-_9_月_销售_记录_.xlsx_\"_文件_，_看_是否_能够_从中_获取_达标_标准_。\n",
      "\n",
      "计划_:\n",
      "-_ 使用_inspect__excel_工具_探_查_\"_202_3_年_8_月_-_9_月_销售_记录_.xlsx_\"_文件_，_了解_其_结构和_内容_，_尝试_找到_达标_标准_。\n",
      "\n",
      "JSON_格式_描述_的动作_:\n",
      "\n",
      "```_json_\n",
      "{\"_name_\":_ \"_inspect__excel_\",_ \"_args_\":_ {\"_filename_\":_ \"./_data_/_202_3_年_8_月_-_9_月_销售_记录_.xlsx_\",_ \"_n_\":_ _3_}}\n",
      "```__关键_概念_:_ _9_月份_供货_商_达标_情况_\n",
      "概念_拆_解_:\n",
      "-_ _供货_商_达标_情况_\n",
      " _ -_ -_ _供货_商_名称_\n",
      " _ -_ -_ 达_标_月份_\n",
      " _ -_ -_ 达_标_标准_\n",
      "\n",
      "反思_:\n",
      "-_ 需_要_查询_9_月份_的_供货_商_达标_情况_，_首先_需要_知道_达标_的标准_是什么_，_然后再_查看_哪些_供货_商_达到了_这个_标准_。\n",
      "-_ 目前_我_还没有_获得_任何_关于_供货_商_达标_情况_的信息_。\n",
      "\n",
      "思考_:\n",
      "-_ 为了_获取_9_月份_供货_商_达标_情况_，_我_需要_先_了解_达标_标准_，_然后_才能_确定_哪些_供货_商_达到了_这个_标准_。\n",
      "-_ 我_可以通过_查询_Excel_文件_来_获取_这些_信息_，_因为_Excel_文件_通常_用于_存储_这类_数据_。\n",
      "\n",
      "计划_:\n",
      "-_ 我_将_首先_使用_\"_inspect__excel_\"_工具_探_查_存储_供货_商_达标_信息的_Excel_文件_，_以便_了解_其_结构和_内容_。\n",
      "\n",
      "输出_JSON_格式_描述_的动作_:\n",
      "\n",
      "```_json_\n",
      "{\"_name_\":_ \"_inspect__excel_\",_ \"_args_\":_ {\"_filename_\":_ \"_supplier__stand_ards_.xlsx_\",_ \"_n_\":_ _3_}}\n",
      "```__```_json_\n",
      "{\"_name_\":_ \"_list__files_\",_ \"_args_\":_ {\"_directory_\":_ \"./_data_\"}}\n",
      "```__当前目录为： ./data\n",
      "```_json_\n",
      "{\"_name_\":_ \"_list__files_\",_ \"_args_\":_ {\"_directory_\":_ \"./_data_\"}}\n",
      "```__当前目录为： ./data\n",
      "```_json_\n",
      "{\n",
      " _ \"_name_\":_ \"_inspect__excel_\",\n",
      " _ \"_args_\":_ {\"_filename_\":_ \"./_data_/_供应商_名录_.xlsx_\",_ \"_n_\":_ _3_}\n",
      "}\n",
      "```__```_json_\n",
      "{\"_name_\":_ \"_inspect__excel_\",_ \"_args_\":_ {\"_filename_\":_ \"./_data_/_供应商_名录_.xlsx_\",_ \"_n_\":_ _3_}}\n",
      "```__```_json_\n",
      "{\n",
      " _ \"_name_\":_ \"_list__files_\",\n",
      " _ \"_args_\":_ {\"_directory_\":_ \"./_data_\"}\n",
      "}\n",
      "```__"
     ]
    },
    {
     "name": "stderr",
     "output_type": "stream",
     "text": [
      "Stopping agent prematurely due to triggering stop condition\n"
     ]
    },
    {
     "name": "stdout",
     "output_type": "stream",
     "text": [
      "当前目录为： ./data\n"
     ]
    }
   ],
   "source": [
    "async for chunk in zhipu_cot.astream_events({\"input\": \"9月份有哪些供货商达标？\"}, version=\"v1\"):\n",
    "    event = chunk['event']\n",
    "    if(event == \"on_chat_model_stream\"):\n",
    "        if('chunk' in chunk['data']):\n",
    "            print(chunk['data']['chunk'].content, end=\"_\", flush=True)"
   ]
  },
  {
   "cell_type": "code",
   "execution_count": null,
   "id": "debb5608-a82d-4a3d-985c-cb7e3412e33d",
   "metadata": {},
   "outputs": [],
   "source": [
    "\n",
    "\n",
    "\n",
    "\n",
    "\n",
    "\n",
    "\n",
    "\n",
    "\n",
    "\n",
    "\n",
    "\n",
    "\n",
    "\n",
    "\n",
    "\n",
    "\n",
    "\n",
    "\n",
    "\n",
    "\n",
    "\n",
    "\n",
    "\n",
    "\n",
    "\n"
   ]
  },
  {
   "cell_type": "markdown",
   "id": "52bf21ca-cf12-4cd3-a53c-f451ccafa852",
   "metadata": {},
   "source": [
    "# 结束了"
   ]
  },
  {
   "cell_type": "markdown",
   "id": "284f9b10-8af0-4a42-80be-935f1fc6c853",
   "metadata": {},
   "source": [
    "## ❤️ 总结\n",
    "\n",
    "- 我们一起解构了 langchain 部份组件的源码结构\n",
    "    - Runnable\n",
    "    - BaseLanguageModel / BaseChatModel\n",
    "    - create_openai_tools_agent\n",
    "    - create_react_agent\n",
    "    - Chain\n",
    "    - AgentExecutor\n",
    "- 我们从零开始集成了达模型到 langchain\n",
    "- 我们深度解构了 OpenAI / ReAct 智能体的细节\n",
    "- 我们自定义了符合 AgentExecutor 的 AutoGPT 智能体\n"
   ]
  },
  {
   "cell_type": "markdown",
   "id": "86a62f75-52bd-462b-a396-8fb9751fc84a",
   "metadata": {},
   "source": [
    "## ❤️ 彩蛋\n",
    "\n",
    "**Langgraph中一些较新的智能体论文实践...**\n",
    "\n",
    "- [Agent Supervisor](https://github.com/langchain-ai/langgraph/blob/main/examples/multi_agent/agent_supervisor.ipynb)\n",
    "- [Hierarchical Agent Teams](https://github.com/langchain-ai/langgraph/blob/main/examples/multi_agent/hierarchical_agent_teams.ipynb)\n",
    "- [Multi Agent Collaboration](https://github.com/langchain-ai/langgraph/blob/main/examples/multi_agent/multi-agent-collaboration.ipynb)\n",
    "- [Plan And Execute](https://github.com/langchain-ai/langgraph/blob/main/examples/plan-and-execute/plan-and-execute.ipynb)\n",
    "- [ReWoo](https://github.com/langchain-ai/langgraph/blob/main/examples/rewoo/rewoo.ipynb)\n",
    "- [Reflexion](https://github.com/langchain-ai/langgraph/blob/main/examples/reflexion/reflexion.ipynb)\n",
    "- [Self Discover](https://github.com/langchain-ai/langgraph/blob/main/examples/self-discover/self-discover.ipynb)\n",
    "- ..."
   ]
  },
  {
   "cell_type": "code",
   "execution_count": null,
   "id": "d57fb4c5-ce60-45f1-b44a-a1aeceba867e",
   "metadata": {},
   "outputs": [],
   "source": []
  }
 ],
 "metadata": {
  "kernelspec": {
   "display_name": "langchani-book-py3.10-ipykernel",
   "language": "python",
   "name": "langchani-book-py3.10-ipykernel"
  },
  "language_info": {
   "codemirror_mode": {
    "name": "ipython",
    "version": 3
   },
   "file_extension": ".py",
   "mimetype": "text/x-python",
   "name": "python",
   "nbconvert_exporter": "python",
   "pygments_lexer": "ipython3",
   "version": "3.10.0"
  }
 },
 "nbformat": 4,
 "nbformat_minor": 5
}
