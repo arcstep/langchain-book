{
 "cells": [
  {
   "cell_type": "markdown",
   "id": "9e5b5362-cf90-4d8a-9c70-3db56e3f8dcc",
   "metadata": {},
   "source": [
    "# 🦜🔗 解读LangChain核心源码：关于LLM和Agent（下）"
   ]
  },
  {
   "cell_type": "markdown",
   "id": "8dd052d2-91ac-475b-8fd8-fa2fce941ea6",
   "metadata": {},
   "source": [
    "# 课程开始"
   ]
  },
  {
   "cell_type": "markdown",
   "id": "5aacf2f7-f113-4451-a94c-b6911334f87f",
   "metadata": {},
   "source": [
    "## 涉及的资源"
   ]
  },
  {
   "cell_type": "markdown",
   "id": "4d2acb4e-bdbf-4353-a29b-6d7f013ca0b1",
   "metadata": {},
   "source": [
    "### 🌹 智能体相关类整理"
   ]
  },
  {
   "cell_type": "markdown",
   "id": "6bdbd141-3473-4ebb-a078-e300f5da9668",
   "metadata": {
    "jp-MarkdownHeadingCollapsed": true
   },
   "source": [
    "**（1）智能体类型**\n",
    "- AgentType\n",
    "    - ZERO_SHOT_REACT_DESCRIPTION（`ReAct`的一般实现）\n",
    "    - REACT_DOCSTORE（ReAct，支持RAG）\n",
    "    - SELF_ASK_WITH_SEARCH（使用`search 工具`不断反思获得答案）\n",
    "    - CONVERSATIONAL_REACT_DESCRIPTION（`ReAct`，支持对话）\n",
    "    - CHAT_ZERO_SHOT_REACT_DESCRIPTION（同上）\n",
    "    - CHAT_CONVERSATIONAL_REACT_DESCRIPTION（同上）\n",
    "    - STRUCTURED_CHAT_ZERO_SHOT_REACT_DESCRIPTION（`ReAct`，为对话模型优化，支持多输入）\n",
    "    - OPENAI_FUNCTIONS（支持`OpenAI Function Calling`）\n",
    "    - OPENAI_MULTI_FUNCTIONS（支持`OpenAI Function Calling`，支持多函数调度）\n",
    "\n",
    "----\n",
    "**（2）智能体执行器子组件：**\n",
    "- `AgentAction`\n",
    "    - `AgentActionMessageLog`\n",
    "- `AgentStep`\n",
    "- `AgentFinish`\n",
    "\n",
    "----\n",
    "**（3）单动智能体：**\n",
    "- `BaseSingleActionAgent`\n",
    "    - RunnableAgent\n",
    "    - LLMSingleActionAgent（__deprecated__：`create_***_agent`）\n",
    "    - XMLAgent（__deprecated__：create_xml_agent）\n",
    "    - Agent\n",
    "        - ChatAgent（__deprecated__：`create_react_agent`）\n",
    "        - ConversationalAgent（__deprecated__：`create_react_agent`）\n",
    "        - ConversationalChatAgent（__deprecated__：`create_json_chat_agent`）\n",
    "        - StructuredChatAgent（__deprecated__：`create_structured_chat_agent`）\n",
    "        - ZeroShotAgent（__deprecated__：`create_react_agent`）\n",
    "        - ReActDocstoreAgent（__deprecated__）\n",
    "            - ReActTextWorldAgent（__deprecated__）\n",
    "        - SelfAskWithSearchAgent（__deprecated__：`create_self_ask_with_search`）\n",
    "    - OpenAIFunctionsAgent（__deprecated__：`create_openai_functions_agent`）\n",
    "\n",
    "----\n",
    "**（4）多动智能体：**\n",
    "- BaseMultiActionAgent\n",
    "    - RunnableMultiActionAgent\n",
    "    - OpenAIMultiFunctionsAgent（__deprecated__：`create_openai_tools_agent`）\n",
    "\n",
    "----\n",
    "**（5）Assistant：**\n",
    "- Runnable\n",
    "    - RunnableSerializable\n",
    "        - Chain\n",
    "            - `AgentExecutor`\n",
    "                - MRKLChain（__deprecated__）\n",
    "                - ReActChain（__deprecated__）\n",
    "                - SelfAskWithSearchChain（__deprecated__）\n",
    "        - `OpenAIAssistantRunnable`\n",
    "\n",
    "----\n",
    "**（6）提示语模板：**\n",
    "- Runnable\n",
    "    - RunnableSerializable\n",
    "        - BasePromptTemplate [Dict, PromptValue]\n",
    "            - BaseChatPromptTemplate\n",
    "                - ChatPromptTemplate\n",
    "                    - `AgentScratchPadChatPromptTemplate`\n",
    "\n",
    "----\n",
    "**（7）输出解析：**\n",
    "- Runnable\n",
    "    - RunnableSerializable\n",
    "        - BaseOutputParser\n",
    "            - `AgentOutputParser`\n",
    "            - `MultiActionAgentOutputParser`"
   ]
  },
  {
   "cell_type": "markdown",
   "id": "22aacd55-63f2-401c-89a8-824d21c0f42e",
   "metadata": {},
   "source": [
    "### 🌹 涉及的 LangChain 智能体\n",
    "\n",
    "- 🌹 [LangChain 中的 Agent](https://python.langchain.com/docs/modules/agents/agent_types/)\n",
    "\n",
    "|langchain智能体|支持多工具|支持多参数|推理过程优化|\n",
    "|:---|:---:|:---:|:---:|\n",
    "|create_openai_tools_agent|支持|支持|依赖大模型能力|\n",
    "|create_react_agent|不支持|不支持|可以支持|\n",
    "|自定义CoT|可以支持|可以支持|可以支持|"
   ]
  },
  {
   "cell_type": "markdown",
   "id": "acccfdef-51a0-46ec-9d06-37fd77b9aa9d",
   "metadata": {},
   "source": [
    "### 🌹 涉及的 LangChain 智能体相关源码\n",
    "\n",
    "- 🌹 [查看 langchain/agents/openai_tools/base.py 源码](https://github.com/langchain-ai/langchain/blob/239dd7c0c03d0430c55c2c41cf56cf0dd537199b/libs/langchain/langchain/agents/openai_tools/base.py#L15-L97)\n",
    "- 🌹 [查看 convert_to_openai_tool 的实现源码](https://github.com/langchain-ai/langchain/blob/c93d4ea91cfcf55dfe871931d42aa22562f8dae2/libs/core/langchain_core/utils/function_calling.py#L323-L341)\n",
    "- 🌹 [langhain官方解析openai回调参数的方法](https://github.com/langchain-ai/langchain/blob/239dd7c0c03d0430c55c2c41cf56cf0dd537199b/libs/langchain/langchain/agents/output_parsers/openai_tools.py)\n",
    "- 🌹 [查看 create_react_agent 源码](https://github.com/langchain-ai/langchain/blob/239dd7c0c03d0430c55c2c41cf56cf0dd537199b/libs/langchain/langchain/agents/react/agent.py#L16)\n",
    "- 🌹 [查看 ReAct 输出解析的源码](https://github.com/langchain-ai/langchain/blob/239dd7c0c03d0430c55c2c41cf56cf0dd537199b/libs/langchain/langchain/agents/output_parsers/react_single_input.py#L22-L95)\n",
    "- 🌹 [查看 AgentExcutor 源码](https://github.com/langchain-ai/langchain/blob/239dd7c0c03d0430c55c2c41cf56cf0dd537199b/libs/langchain/langchain/agents/agent.py#L1413-L1458)\n",
    "- 🌹 [Chain](https://python.langchain.com/docs/modules/chains)"
   ]
  },
  {
   "cell_type": "markdown",
   "id": "6142438a-78bf-4cfc-aa37-02cb219047b3",
   "metadata": {},
   "source": [
    "# （二）解读源码，拆解和自定义智能体"
   ]
  },
  {
   "cell_type": "markdown",
   "id": "2f0c9102-787d-4efe-bebb-4acaa397b46b",
   "metadata": {},
   "source": [
    "<div class=\"alert alert-info\">\n",
    "    <b>干货从这里开始！</b><br>\n",
    "    接下来的例子中，会穿插 langchian 源码解读。\n",
    "</div>"
   ]
  },
  {
   "cell_type": "code",
   "execution_count": null,
   "id": "4860d2d9-e16e-4077-8e5e-be72f92777b6",
   "metadata": {},
   "outputs": [],
   "source": [
    "# 加载 .env 到环境变量\n",
    "import os\n",
    "from dotenv import load_dotenv, find_dotenv\n",
    "load_dotenv(find_dotenv(), override=True)"
   ]
  },
  {
   "cell_type": "markdown",
   "id": "270bb25b-fbf8-468a-801e-0d38adc61349",
   "metadata": {},
   "source": [
    "## 4、解读 OpenAI 工具回调风格智能体"
   ]
  },
  {
   "cell_type": "markdown",
   "id": "3c182357-9e1e-4036-ad7c-e7159d69796b",
   "metadata": {},
   "source": [
    "### ✍️ create_openai_executor：拆解 OpenAI 工具回调智能体的定义过程"
   ]
  },
  {
   "cell_type": "markdown",
   "id": "d96fdb2b-8b94-478b-8204-b2264f23823a",
   "metadata": {},
   "source": [
    "![还是那个故事，但这次我们让老大爷聪明一点...如果可以的话。](./madongmei.gif)"
   ]
  },
  {
   "cell_type": "code",
   "execution_count": null,
   "id": "cbde4eac-9718-4556-a79e-4d74475a6b81",
   "metadata": {},
   "outputs": [],
   "source": [
    "# from langchain_openai import ChatOpenAI\n",
    "from langchain_zhipu import ChatZhipuAI\n",
    "from langchain.agents import AgentExecutor, Tool, create_openai_tools_agent\n",
    "from langchain import hub\n",
    "from langchain.tools import tool\n",
    "from langchain_core.utils.function_calling import convert_to_openai_tool, convert_to_openai_function\n",
    "import re\n",
    "\n",
    "@tool\n",
    "def ask_neighbor(query: str) -> str:\n",
    "    \"\"\"想问你找的人住哪里就问我吧，我是楼下老大爷\"\"\"\n",
    "    if(re.search(\"马冬梅\", query)):\n",
    "        return \"马冬梅住在楼上322。\"\n",
    "    else:\n",
    "        return \"我不清楚\"\n",
    "\n",
    "def create_openai_executor(llm, tools):\n",
    "    \"\"\"\n",
    "    使用openai智能体定义一个应用\n",
    "    \"\"\"\n",
    "    # 定义 prompt\n",
    "    prompt = hub.pull(\"hwchase17/openai-tools-agent\")\n",
    "    # 定义 Agent\n",
    "    agent = create_openai_tools_agent(llm, tools, prompt)\n",
    "    # 定义 AgentExecutor\n",
    "    executor = AgentExecutor(agent=agent, tools=tools, verbose=True, handle_parsing_errors=False)\n",
    "\n",
    "    return executor\n",
    "\n",
    "neighbor = create_openai_executor(ChatZhipuAI(), [ask_neighbor])"
   ]
  },
  {
   "cell_type": "markdown",
   "id": "70b02e0c-154a-4bfb-84cb-096f6a95d685",
   "metadata": {},
   "source": [
    "### 🌹 prompt： 观察 OpenAI 智能体的提示语"
   ]
  },
  {
   "cell_type": "markdown",
   "id": "eb242bb3-ddfd-4d41-8c83-2aa1d595d658",
   "metadata": {},
   "source": [
    "#### （1）从 Langsmith 的 hub 下载 hwchase17/openai-tools-agent"
   ]
  },
  {
   "cell_type": "markdown",
   "id": "87972ce9-815d-461a-995c-32b356c7ffef",
   "metadata": {},
   "source": [
    "[🔗 查看 hub.pull(\"hwchase17/openai-tools-agent\")](https://smith.langchain.com/hub/hwchase17/openai-tools-agent)"
   ]
  },
  {
   "cell_type": "markdown",
   "id": "a0bf6a6c-010c-4205-8c9e-47977e75e6b9",
   "metadata": {},
   "source": [
    "#### （2）等价的自定义 Prompt 模板"
   ]
  },
  {
   "cell_type": "code",
   "execution_count": null,
   "id": "2dd9751f-85b3-4b87-bc2e-de179c591752",
   "metadata": {},
   "outputs": [],
   "source": [
    "from langchain_core.prompts import ChatPromptTemplate\n",
    "from langchain.prompts import MessagesPlaceholder\n",
    "\n",
    "# openai agent\n",
    "prompt = ChatPromptTemplate.from_messages([\n",
    "    (\"system\", \"You are a helpful assistant\"),\n",
    "    MessagesPlaceholder(\"chat_history\"),\n",
    "    (\"human\", \"{input}\"),\n",
    "    MessagesPlaceholder(\"agent_scratchpad\"),\n",
    "])"
   ]
  },
  {
   "cell_type": "code",
   "execution_count": null,
   "id": "20ae236a-0407-4296-b473-d04dbe605e88",
   "metadata": {},
   "outputs": [],
   "source": [
    "prompt.invoke({\n",
    "    \"input\": \"请问马冬梅的家在哪里？\",\n",
    "    \"chat_history\": [],\n",
    "    \"agent_scratchpad\": []\n",
    "})"
   ]
  },
  {
   "cell_type": "markdown",
   "id": "bd8ac141-5874-4717-a72b-db95e66e3cc0",
   "metadata": {},
   "source": [
    "### 🌹 agent：阅读 create_openai_tools_agent 源码"
   ]
  },
  {
   "cell_type": "markdown",
   "id": "cf6096ec-803f-443b-842a-9f5d889703e8",
   "metadata": {},
   "source": [
    "[🔗 查看 langchain/agents/openai_tools/base.py 源码](https://github.com/langchain-ai/langchain/blob/239dd7c0c03d0430c55c2c41cf56cf0dd537199b/libs/langchain/langchain/agents/openai_tools/base.py#L15-L97)"
   ]
  },
  {
   "cell_type": "markdown",
   "id": "b53e5e93-8a82-48b0-ace0-1ed14ff25689",
   "metadata": {
    "jp-MarkdownHeadingCollapsed": true
   },
   "source": [
    "```python\n",
    "def create_openai_tools_agent(\n",
    "    llm: BaseLanguageModel, tools: Sequence[BaseTool], prompt: ChatPromptTemplate\n",
    ") -> Runnable:\n",
    "    \"\"\"Create an agent that uses OpenAI tools.\"\"\"\n",
    "\n",
    "    missing_vars = {\"agent_scratchpad\"}.difference(prompt.input_variables)\n",
    "    if missing_vars:\n",
    "        raise ValueError(f\"Prompt missing required variables: {missing_vars}\")\n",
    "\n",
    "    llm_with_tools = llm.bind(tools=[convert_to_openai_tool(tool) for tool in tools])\n",
    "\n",
    "    agent = (\n",
    "        RunnablePassthrough.assign(\n",
    "            agent_scratchpad=lambda x: format_to_openai_tool_messages(\n",
    "                x[\"intermediate_steps\"]\n",
    "            )\n",
    "        )\n",
    "        | prompt\n",
    "        | llm_with_tools\n",
    "        | OpenAIToolsAgentOutputParser()\n",
    "    )\n",
    "    return agent\n",
    "```"
   ]
  },
  {
   "cell_type": "markdown",
   "id": "a87c7944-801f-439c-bed7-8c5e3e8317cc",
   "metadata": {},
   "source": [
    "### 🌹 executor： 阅读 AgentExcutor 源码"
   ]
  },
  {
   "cell_type": "markdown",
   "id": "b9f3b437-22c4-44f5-956a-745946756eaa",
   "metadata": {},
   "source": [
    "<div class=\"alert alert-warning\">\n",
    "    <b>注意：</b><br>\n",
    "    LangChain中 的 Agent 与我们日常讨论的 Agent 在概念上是有区别的。\n",
    "</div>"
   ]
  },
  {
   "cell_type": "markdown",
   "id": "67a057c3-40ed-4ddc-873c-aa6b30842187",
   "metadata": {},
   "source": [
    "[🔗 查看 AgentExcutor 源码](https://github.com/langchain-ai/langchain/blob/239dd7c0c03d0430c55c2c41cf56cf0dd537199b/libs/langchain/langchain/agents/agent.py#L1413-L1458)\n",
    "\n",
    "- 重点看 `_call` 方法实现\n",
    "- 作为 Chain 子类，AgentExcutor 覆写了 stream 方法。\n",
    "- 代码中的运行逻辑非常复杂，因此我们可以通过下面的方式研究其实际运行过程\n"
   ]
  },
  {
   "cell_type": "markdown",
   "id": "4b4729ef-baa1-4741-85d8-15d8a89c4a46",
   "metadata": {},
   "source": [
    "### 🌹 run：观察 OpenAI 智能体的运行过程"
   ]
  },
  {
   "cell_type": "markdown",
   "id": "0e339f1d-3ea6-45c4-8d6a-a5ff118cebaa",
   "metadata": {},
   "source": [
    "#### （1）简单执行：invoke"
   ]
  },
  {
   "cell_type": "code",
   "execution_count": null,
   "id": "f4722734-d500-4724-a924-38a1223fe85d",
   "metadata": {},
   "outputs": [],
   "source": [
    "# invoke\n",
    "neighbor.invoke({\"input\":\"马冬梅住哪里\"})"
   ]
  },
  {
   "cell_type": "markdown",
   "id": "9c8a8351-d72b-4613-a820-1680b4c1e2f5",
   "metadata": {},
   "source": [
    "#### （2）流输出：stream（仅智能体中的流）"
   ]
  },
  {
   "cell_type": "code",
   "execution_count": null,
   "id": "ae095682-60f7-46ab-9e4f-07474bc48353",
   "metadata": {},
   "outputs": [],
   "source": [
    "# stream\n",
    "for s in neighbor.stream({\"input\":\"马冬梅住哪里\"}):\n",
    "    print(s)"
   ]
  },
  {
   "cell_type": "markdown",
   "id": "67cd1500-560b-4247-88a7-4b5dd5adab6a",
   "metadata": {},
   "source": [
    "#### （3）还是要使用事件流：astream_events"
   ]
  },
  {
   "cell_type": "markdown",
   "id": "f05eb804-9355-4abe-b9b6-91101cc4ed3b",
   "metadata": {},
   "source": [
    "**看看方法 astream_events 的能力：**"
   ]
  },
  {
   "cell_type": "code",
   "execution_count": null,
   "id": "df1aab2d-9243-4916-bc85-1d684ad99e5f",
   "metadata": {},
   "outputs": [],
   "source": [
    "# astream_events\n",
    "async for e in neighbor.astream_events({\"input\":\"马冬梅住哪里\"}, version=\"v1\"):\n",
    "    print(e['name'], e['tags'], e['event'])"
   ]
  },
  {
   "cell_type": "markdown",
   "id": "d7c714e2-b233-447e-81ae-8c7cf82de783",
   "metadata": {},
   "source": [
    "#### （4）观察与大模型的交互过程"
   ]
  },
  {
   "cell_type": "markdown",
   "id": "67df3f9c-f5c4-482d-bbff-8101b9c2a04c",
   "metadata": {},
   "source": [
    "只读取 **on_tool_end** 和 **on_chat_model_end** 两个事件："
   ]
  },
  {
   "cell_type": "code",
   "execution_count": null,
   "id": "21c8eb73-2cc6-412c-857f-02f7bd3ee569",
   "metadata": {},
   "outputs": [],
   "source": [
    "from langchain_zhipu import ChatZhipuAI\n",
    "neighbor = create_neighbor(ChatZhipuAI())\n",
    "\n",
    "async for e in neighbor.astream_events({\"input\":\"马冬梅住哪里\"}, version=\"v1\"):\n",
    "    if e['event'] in [\"on_chat_model_end\", \"on_tool_end\"]:\n",
    "        if(\"input\" in e['data']):\n",
    "            print(\"\\n\", \"-\"*10, e['name'], \"-\"*2, e['event'], \"-\"*10)\n",
    "            print(\"INPUT:\")\n",
    "            print(e['data']['input'])\n",
    "        if(\"output\" in e['data']):\n",
    "            print(\"\\n\", \"-\"*10, e['name'], \"-\"*2, e['event'], \"-\"*10)\n",
    "            print(\"OUTPUT:\")\n",
    "            print(e['data']['output'])\n",
    "        # print(\"\\n\", e)"
   ]
  },
  {
   "cell_type": "markdown",
   "id": "55ad2d3a-528d-4c64-a9db-fdd5054b4a2b",
   "metadata": {},
   "source": [
    "#### （5）总结智能体的定义过程\n",
    "\n",
    "- STEP-1 请求智能体（langchain -> ZhipuAI）: 发送带有Tools的请求\n",
    "- STEP-2 智能体解析（ZhipuAI -> langchain）: 收到Tools-Calling消息\n",
    "- STEP-3 调用本地工具（langchain）: 调用工具\n",
    "- STEP-4 重新请求智能体（langchain） -> ZhipuAI）: 提交调用结果\n",
    "- STEP-5 智能体最终生成（ZhipuAI -> langchain）: 大模型重新生成结果"
   ]
  },
  {
   "cell_type": "markdown",
   "id": "6554072f-070b-49ea-a45c-ddfd38fe4810",
   "metadata": {},
   "source": [
    "### ✍️ 一步一步执行：就像我们常对大模型说的那样"
   ]
  },
  {
   "cell_type": "markdown",
   "id": "b70658fb-fad7-4814-b3df-506061a2f2d6",
   "metadata": {},
   "source": [
    "#### （1）STEP-1 请求智能体（langchain -> ZhipuAI）: 发送带有Tools的请求"
   ]
  },
  {
   "cell_type": "code",
   "execution_count": null,
   "id": "94873b39-8c65-4588-b28e-775e601359f3",
   "metadata": {},
   "outputs": [],
   "source": [
    "from langchain_core.prompts import ChatPromptTemplate\n",
    "from langchain.prompts import MessagesPlaceholder\n",
    "\n",
    "# openai agent\n",
    "prompt = ChatPromptTemplate.from_messages([\n",
    "    (\"system\", \"You are a helpful assistant\"),\n",
    "    MessagesPlaceholder(\"chat_history\"),\n",
    "    (\"human\", \"{input}\"),\n",
    "    MessagesPlaceholder(\"agent_scratchpad\"),\n",
    "])\n",
    "\n",
    "input = \"马冬梅住在哪里？\"\n",
    "history = []\n",
    "\n",
    "llm = ChatZhipuAI(tools=[convert_to_openai_tool(ask_neighbor)])\n",
    "\n",
    "agent = prompt | llm"
   ]
  },
  {
   "cell_type": "markdown",
   "id": "f25ff1dc-1436-4dd0-bc34-625247273341",
   "metadata": {},
   "source": [
    "<div class=\"alert alert-warning\">\n",
    "    <b>⚠️ 思考：</b><br>\n",
    "    <b>convert_to_openai_function</b> 和 <b>convert_to_openai_tool</b> 的区别是什么？\n",
    "</div>\n",
    "\n",
    "**🌞 参考：**\n",
    "- [🔗 查看 convert_to_openai_tool 的实现源码](https://github.com/langchain-ai/langchain/blob/c93d4ea91cfcf55dfe871931d42aa22562f8dae2/libs/core/langchain_core/utils/function_calling.py#L323-L341)\n"
   ]
  },
  {
   "cell_type": "code",
   "execution_count": null,
   "id": "48061e6c-3779-4ccb-818d-c3c6a1aaaa5e",
   "metadata": {},
   "outputs": [],
   "source": [
    "convert_to_openai_function(ask_neighbor)"
   ]
  },
  {
   "cell_type": "code",
   "execution_count": null,
   "id": "97bafddf-c37d-4636-9fd9-c11335d28ab0",
   "metadata": {},
   "outputs": [],
   "source": [
    "convert_to_openai_tool(ask_neighbor)"
   ]
  },
  {
   "cell_type": "markdown",
   "id": "d829924d-9a26-4af0-b38b-b099d3c16953",
   "metadata": {},
   "source": [
    "#### （2）STEP-2 智能体解析（ZhipuAI -> langchain）: 收到Tools-Calling消息"
   ]
  },
  {
   "cell_type": "code",
   "execution_count": null,
   "id": "6eddb81f-dbb2-466e-ab39-867df638794a",
   "metadata": {},
   "outputs": [],
   "source": [
    "steps_info = []\n",
    "resp_llm = agent.invoke({\"input\": input, \"chat_history\": history, \"agent_scratchpad\": steps_info})\n",
    "resp_llm"
   ]
  },
  {
   "cell_type": "markdown",
   "id": "f61a4a18-64d7-4110-bb97-f3c78904a53c",
   "metadata": {},
   "source": [
    "#### （3）STEP-3 调用本地工具（langchain）: 调用工具"
   ]
  },
  {
   "cell_type": "code",
   "execution_count": null,
   "id": "f749d0a5-0937-4844-b83a-11025a44e8b1",
   "metadata": {},
   "outputs": [],
   "source": [
    "resp_llm.additional_kwargs[\"tool_calls\"][0][\"function\"][\"arguments\"]"
   ]
  },
  {
   "cell_type": "code",
   "execution_count": null,
   "id": "4b65819c-65d1-4fc9-aadb-672f17c38dc9",
   "metadata": {},
   "outputs": [],
   "source": [
    "import json\n",
    "tool_args = json.loads(resp_llm.additional_kwargs[\"tool_calls\"][0][\"function\"][\"arguments\"])\n",
    "tool_args"
   ]
  },
  {
   "cell_type": "code",
   "execution_count": null,
   "id": "67b9d2c9-53ad-44fd-9694-8fe98af6e3e5",
   "metadata": {},
   "outputs": [],
   "source": [
    "resp_tool = ask_neighbor.invoke(tool_args)\n",
    "resp_tool"
   ]
  },
  {
   "cell_type": "markdown",
   "id": "b268d63a-fcc9-44f1-9768-6404da01bbf5",
   "metadata": {},
   "source": [
    "[🔗 查看 langhain官方解析openai回调参数的方法](https://github.com/langchain-ai/langchain/blob/239dd7c0c03d0430c55c2c41cf56cf0dd537199b/libs/langchain/langchain/agents/output_parsers/openai_tools.py)"
   ]
  },
  {
   "cell_type": "markdown",
   "id": "005d1635-a21f-4301-b6e9-8b81d216542d",
   "metadata": {},
   "source": [
    "#### （4）STEP-4 重新请求智能体（langchain） -> ZhipuAI）: 提交调用结果"
   ]
  },
  {
   "cell_type": "code",
   "execution_count": null,
   "id": "58a38c34-6293-46a0-8387-633e712296f7",
   "metadata": {},
   "outputs": [],
   "source": [
    "steps_info.append(input)\n",
    "steps_info.append(resp_llm)\n",
    "steps_info.append(resp_tool)\n",
    "steps_info"
   ]
  },
  {
   "cell_type": "markdown",
   "id": "2066d57b-7052-445d-97c9-c82cda7c7871",
   "metadata": {},
   "source": [
    "#### （5）STEP-5 智能体最终生成（ZhipuAI -> langchain）: 大模型重新生成结果"
   ]
  },
  {
   "cell_type": "code",
   "execution_count": null,
   "id": "678c5175-8edf-4b88-af16-a4ebd7f8fdcb",
   "metadata": {},
   "outputs": [],
   "source": [
    "resp_llm = agent.invoke({\"input\": input, \"chat_history\": history, \"agent_scratchpad\": steps_info})\n",
    "resp_llm"
   ]
  },
  {
   "cell_type": "markdown",
   "id": "52759085-96b0-4d6b-a055-999189cc86b8",
   "metadata": {
    "jp-MarkdownHeadingCollapsed": true
   },
   "source": [
    "### 🌹 从源码中看 openai 作为先驱的影响\n",
    "\n",
    "- [partners/openai/langchain_openai/chat_models/base.py（OpenAI模型）](https://github.com/langchain-ai/langchain/blob/master/libs/partners/openai/langchain_openai/chat_models/base.py)\n",
    "- [community/langchain_community/adapters/openai.py（OpenAI风格API转换）](https://github.com/langchain-ai/langchain/blob/master/libs/community/langchain_community/adapters/openai.py)\n",
    "- [core/langchain_core/utils/function_calling.py（OpenAI风格回调工具函数）](https://github.com/langchain-ai/langchain/blob/master/libs/core/langchain_core/utils/function_calling.py)\n",
    "- [core/langchain_core/output_parsers/openai_tools.py（OpenAI风格输出解析）](https://github.com/langchain-ai/langchain/blob/master/libs/core/langchain_core/output_parsers/openai_tools.py)\n",
    "- ..."
   ]
  },
  {
   "cell_type": "markdown",
   "id": "e7e575ef-202b-42b8-9eb9-0043b7733542",
   "metadata": {},
   "source": [
    "## 5、解读 ReAct 风格智能体"
   ]
  },
  {
   "cell_type": "markdown",
   "id": "e849eb22-0009-4c7b-a0cd-bf0e184f7337",
   "metadata": {},
   "source": [
    "### 🌹 ReAct 智能体的核心是其提示语引导"
   ]
  },
  {
   "cell_type": "markdown",
   "id": "a0adfd0b-f51c-4cde-9e6c-bdb41d8e8645",
   "metadata": {},
   "source": [
    "[🔗 查看 hub.pull(\"hwchase17/react\")](https://smith.langchain.com/hub/hwchase17/react)"
   ]
  },
  {
   "cell_type": "code",
   "execution_count": null,
   "id": "2764890b-da71-4d89-8b56-0b29b1009610",
   "metadata": {},
   "outputs": [],
   "source": [
    "from langchain_core.prompts import ChatPromptTemplate\n",
    "from langchain.prompts import MessagesPlaceholder"
   ]
  },
  {
   "cell_type": "code",
   "execution_count": null,
   "id": "e14ca3c1-b866-4404-9d21-9ff1ec78161d",
   "metadata": {},
   "outputs": [],
   "source": [
    "prompt = hub.pull(\"hwchase17/react\")\n",
    "print(prompt.template)"
   ]
  },
  {
   "cell_type": "markdown",
   "id": "1cf39eb9-2a2f-473c-a758-406d642a968f",
   "metadata": {},
   "source": [
    "### ✍️ create_react_executor：拆解 react 智能体的核心结构"
   ]
  },
  {
   "cell_type": "markdown",
   "id": "f1a089e4-bd6d-4081-8be5-37d37d32bca1",
   "metadata": {},
   "source": [
    "#### （1）定义 ReAct 智能体"
   ]
  },
  {
   "cell_type": "markdown",
   "id": "903bbf26-d989-42f9-9983-9e80990eb2e5",
   "metadata": {},
   "source": [
    "<div class=\"alert alert-info\">\n",
    "    <b>⚠️ 注意：</b><br>\n",
    "    ReAct 智能体提示语的核心在于：<b>请使用如下的输出格式...</b>\n",
    "</div>"
   ]
  },
  {
   "cell_type": "code",
   "execution_count": null,
   "id": "7d0e8cfb-4ba4-46ef-a1f6-d3a3cb741099",
   "metadata": {},
   "outputs": [],
   "source": [
    "# from langchain_openai import ChatOpenAI\n",
    "from langchain_zhipu import ChatZhipuAI\n",
    "from langchain.prompts import PromptTemplate\n",
    "from langchain.agents import AgentExecutor, Tool, create_react_agent\n",
    "from langchain import hub\n",
    "from langchain.tools import tool\n",
    "import re\n",
    "\n",
    "@tool\n",
    "def ask_neighbor(query: str) -> str:\n",
    "    \"\"\"我是马冬梅的邻居老大爷，关于她的事情你可以问我\"\"\"\n",
    "    if(re.search(\"马冬梅\", query)):\n",
    "        return \"楼上322\"\n",
    "    else:\n",
    "        return \"我不清楚\"\n",
    "\n",
    "prompt_react = \"\"\"\n",
    "请尽你最大努力回答用户的问题。\n",
    "\n",
    "你必须注意以下原则：\n",
    "1. 在需要使用本地文件时，请务必使用相关工具查询，而不要编造文件名。\n",
    "2. 请使用中文。\n",
    "\n",
    "你可以访问如下工具：\n",
    "{tools}\n",
    "\n",
    "请使用如下的输出格式：\n",
    "\n",
    "Question: 你必须回答的问题\n",
    "Thought: 你为了完成任务必须采取的思考过程\n",
    "Action: 又称为工具，必须是这些工具其中之一： {tool_names}\n",
    "Action Input: 调用工具所使用的参数\n",
    "Observation: 工具执行的结果\n",
    "... (这些过程 Thought/Action/Action Input/Observation 可以重复执行N次)\n",
    "Thought: 我现在知道答案了\n",
    "Final Answer: 问题的最终答案\n",
    "\n",
    "开始！\n",
    "\n",
    "Question: {input}\n",
    "Thought:{agent_scratchpad}\n",
    "\"\"\"\n",
    "\n",
    "def create_react_executor(llm, tools):\n",
    "    # 定义 prompt\n",
    "    prompt = PromptTemplate.from_template(prompt_react)\n",
    "    # 定义 Agent\n",
    "    agent = create_react_agent(llm, tools, prompt)\n",
    "    # 定义 AgentExecutor\n",
    "    executor = AgentExecutor(agent=agent, tools=tools, verbose=True, handle_parsing_errors=False)\n",
    "    \n",
    "    return executor\n",
    "\n",
    "neighbor = create_react_executor(ChatZhipuAI(), [ask_neighbor])"
   ]
  },
  {
   "cell_type": "markdown",
   "id": "0b3f489c-93c0-47a8-9716-7e06346ac371",
   "metadata": {},
   "source": [
    "#### （2）简单执行：invoke"
   ]
  },
  {
   "cell_type": "code",
   "execution_count": null,
   "id": "e1964227-79f2-4ae8-8cab-dc81dc992813",
   "metadata": {},
   "outputs": [],
   "source": [
    "# invoke\n",
    "neighbor.invoke({\"input\":\"马冬梅住哪个房间\"})"
   ]
  },
  {
   "cell_type": "markdown",
   "id": "58f09f9b-1f61-4f46-9b77-028fd38dcfd3",
   "metadata": {},
   "source": [
    "#### （3）大模型的流输出：stream VS astream_events"
   ]
  },
  {
   "cell_type": "code",
   "execution_count": null,
   "id": "3a00dd4d-74fe-436e-b77b-7ec0902b9472",
   "metadata": {},
   "outputs": [],
   "source": [
    "for chunk in neighbor.stream({\"input\": \"马冬梅住哪个房间\"}):\n",
    "    print(chunk)"
   ]
  },
  {
   "cell_type": "code",
   "execution_count": null,
   "id": "39af442a-8893-4ac0-a608-6f828747744b",
   "metadata": {},
   "outputs": [],
   "source": [
    "async for event in neighbor.astream_events({\"input\": \"马冬梅住哪里\"}, version=\"v1\"):\n",
    "    kind = event[\"event\"]\n",
    "    if kind in [\"on_chat_model_stream\"]:\n",
    "        print(event[\"data\"][\"chunk\"].content, end=\"_\")\n",
    "    else:\n",
    "        print(\"\\n\", \"-\"*10, \"event >> \", kind)"
   ]
  },
  {
   "cell_type": "markdown",
   "id": "1537231d-185f-4cb6-9936-2add5fc61fe2",
   "metadata": {},
   "source": [
    "### 🌹 观察 ReAct 智能体的运行过程"
   ]
  },
  {
   "cell_type": "markdown",
   "id": "4d0db4fa-f294-46bb-a745-ab40cb19eee2",
   "metadata": {},
   "source": [
    "只读取 **on_tool_end** 和 **on_chat_model_end** 两个事件："
   ]
  },
  {
   "cell_type": "code",
   "execution_count": null,
   "id": "7ff5f9b0-7aa9-4cfe-9bc1-d0e24ad0eae8",
   "metadata": {},
   "outputs": [],
   "source": [
    "from langchain_zhipu import ChatZhipuAI\n",
    "neighbor = create_react_neighbor(ChatZhipuAI())\n",
    "\n",
    "async for e in neighbor.astream_events({\"input\":\"马冬梅住哪里\"}, version=\"v1\"):\n",
    "    print_line = lambda : print(\"\\n\", \"-\"*10, e['name'], \"-\"*2, e['event'], \"-\"*10)\n",
    "    if e['event'] in [\"on_chat_model_end\", \"on_tool_end\"]:\n",
    "        if(\"input\" in e['data']):\n",
    "            input = e['data']['input']\n",
    "            print_line()\n",
    "            print(\"INPUT:\")\n",
    "            if(input is not None and \"messages\" in input):\n",
    "                print(input[\"messages\"][0][0].content)\n",
    "            else:\n",
    "                print(input)\n",
    "        if(\"output\" in e['data']):\n",
    "            output = e['data']['output'] \n",
    "            print_line()\n",
    "            print(\"OUTPUT:\")\n",
    "            if(output is not None and \"generations\" in output):\n",
    "                print(output[\"generations\"][0][0][\"text\"])\n",
    "            else:\n",
    "                print(output)\n",
    "        # print(\"\\n\", e)"
   ]
  },
  {
   "cell_type": "markdown",
   "id": "e2a53480-aac6-41ae-922c-c11adf288042",
   "metadata": {},
   "source": [
    "### 🌹 阅读源码，解读 ReAct 智能体"
   ]
  },
  {
   "cell_type": "markdown",
   "id": "46467905-272a-43d3-add6-b5ef95c1eb32",
   "metadata": {},
   "source": [
    "- `ReAct` 比 `OpenAI智能体` 多了必要的解析过程。"
   ]
  },
  {
   "cell_type": "markdown",
   "id": "1433903a-47b9-4030-aa1e-e6aea461e21e",
   "metadata": {},
   "source": [
    "- [🔗 查看 create_react_agent 源码](https://github.com/langchain-ai/langchain/blob/239dd7c0c03d0430c55c2c41cf56cf0dd537199b/libs/langchain/langchain/agents/react/agent.py#L16)\n",
    "- [🔗 查看 ReAct 输出解析的源码](https://github.com/langchain-ai/langchain/blob/239dd7c0c03d0430c55c2c41cf56cf0dd537199b/libs/langchain/langchain/agents/output_parsers/react_single_input.py#L22-L95)\n",
    "\n",
    "<div class=\"alert alert-warning\">\n",
    "    <b>思考：上面的提示语中为什么不修改这几个关键词？</b><br>\n",
    "    <ul>\n",
    "        <li>Final Answer</li>\n",
    "        <li>Action</li>\n",
    "        <li>Action Input</li>\n",
    "        <li>Observation</li>\n",
    "    </ul>\n",
    "</div>"
   ]
  },
  {
   "cell_type": "markdown",
   "id": "e0c3591a-637d-48f0-8a7e-8baaefd9b51b",
   "metadata": {},
   "source": [
    "**重新审视 ReAct 提示语：**"
   ]
  },
  {
   "cell_type": "code",
   "execution_count": null,
   "id": "f6afed92-1443-4e8a-b0f8-624fb686efb5",
   "metadata": {},
   "outputs": [],
   "source": [
    "prompt_react = \"\"\"\n",
    "请尽你最大努力回答用户的问题。\n",
    "\n",
    "你必须注意以下原则：\n",
    "1. 在需要使用本地文件时，请务必使用相关工具查询，而不要编造文件名。\n",
    "2. 请使用中文。\n",
    "\n",
    "你可以访问如下工具：\n",
    "{tools}\n",
    "\n",
    "请使用如下的输出格式：\n",
    "\n",
    "Question: 你必须回答的问题\n",
    "Thought: 你为了完成任务必须采取的思考过程\n",
    "Action: 又称为工具，必须是这些工具其中之一： {tool_names}\n",
    "Action Input: 调用工具所使用的参数\n",
    "Observation: 工具执行的结果\n",
    "... (这些过程 Thought/Action/Action Input/Observation 可以重复执行N次)\n",
    "Thought: 我现在知道答案了\n",
    "Final Answer: 问题的最终答案\n",
    "\n",
    "开始！\n",
    "\n",
    "Question: {input}\n",
    "Thought:{agent_scratchpad}\n",
    "\"\"\""
   ]
  },
  {
   "cell_type": "markdown",
   "id": "4ac7cee4-e12e-44c4-b48b-e74df9bb0db9",
   "metadata": {},
   "source": [
    "## 6、在LCEL框架下重定义《手撕AutoGPT》中的智能体"
   ]
  },
  {
   "cell_type": "markdown",
   "id": "5fcf9882-63e3-4437-b23b-a18fb47794ca",
   "metadata": {},
   "source": [
    "### ✍️ 自定义基于思维链的提示语"
   ]
  },
  {
   "cell_type": "markdown",
   "id": "9472006b-54b5-4312-838c-b325e19754bd",
   "metadata": {},
   "source": [
    "<div class=\"alert alert-info\">\n",
    "    <b>⚠️ 注意：</b><br>\n",
    "    CoT 智能体提示语的核心在于：<b>请使用如下的输出格式...</b>\n",
    "    <br>\n",
    "    这相当于提示语模板中的：step by step ...\n",
    "</div>"
   ]
  },
  {
   "cell_type": "code",
   "execution_count": null,
   "id": "3e19e742-49ef-44a7-8e8e-04ce50204c8e",
   "metadata": {},
   "outputs": [],
   "source": [
    "PROMPT_COT = \"\"\"\n",
    "你是强大的AI助手，可以使用工具与指令自动化解决问题。\n",
    "\n",
    "你必须遵循以下约束来完成任务:\n",
    "1. 每次你的决策只使用一种工具，你可以使用任意多次。\n",
    "2. 确保你调用的指令或使用的工具在下述给定的工具列表中。\n",
    "3. 确保你的回答不会包含违法或有侵犯性的信息。\n",
    "4. 如果你已经完成所有任务，确保以\"FINISH\"指令结束。\n",
    "5. 用中文思考和输出。\n",
    "6. 如果执行某个指令或工具失败，尝试改变参数或参数格式再次调用。\n",
    "7. 你生成的回复必须遵循上文中给定的事实信息。不可以编造信息。DO NOT MAKE UP INFORMATION.\n",
    "8. 如果得到的结果不正确，尝试更换表达方式。\n",
    "9. 已经得到的信息，不要反复查询。\n",
    "10. 确保你生成的动作是可以精确执行的。动作做中可以包括具体方法和目标输出。\n",
    "11. 看到一个概念时尝试获取它的准确定义，并分析从哪些输入可以得到它的具体取值。\n",
    "12. 生成一个自然语言查询时，请在查询中包含全部的已知信息。\n",
    "13. 在执行分析或计算动作前，确保该分析或计算中涉及的所有子概念都已经得到了定义。\n",
    "14. 你不可以打印一个文件的全部内容，这样的操作代价太大，且会造成不可预期的后果，是被严格禁止的。\n",
    "15. 不要向用户提问。\n",
    "16. 在需要使用本地文件时，请务必使用相关工具查询，而不要编造文件名。\n",
    "\n",
    "你的任务是:\n",
    "{input}\n",
    "\n",
    "你有非常优秀的逻辑分析能力，可以通过因果关系找到最优的解决方案。\n",
    "\n",
    "你要参考之前的思考记录:\n",
    "{agent_scratchpad}\n",
    "\n",
    "你需要评估你的表现:\n",
    "1. 尽你最大的努力，用你最好的水平，通过分析和检查，做出最好的决定。\n",
    "2. 带着全局观，自我反思你计划与动作。\n",
    "3. 考虑你之前的策略与决策来改善的你的计划。\n",
    "4. 如果你反复得到相同的结果，修改你的计划和决策，避免死循环。\n",
    "5. 如果你当前的动作无法获取到需要的信息，尝试展开关键概念的定义，再重新推理。\n",
    "\n",
    "如果你必须选择工具才能完成任务，可以使用以下工具之一，它们又称为动作或actions:\n",
    "\n",
    "{tools}\n",
    "\n",
    "你必须根据以下格式说明，输出你的思考过程:\n",
    "1. 关键概念: 任务中涉及的组合型概念或实体。已经明确获得取值的关键概念，将其取值完整备注在概念后。\n",
    "2. 概念拆解: 将任务中的关键概念拆解为一系列待查询的子要素。每个关键概念一行，后接这个概念的子要素，每个子要素一行，行前以' -'开始。\n",
    "3. 反思:\n",
    "   - 自我反思，观察以前的执行记录，思考概念拆解是否完整、准确。\n",
    "   - 一步步思考是否每一个的关键概念或要素的查询都得到了准确的结果。\n",
    "   - 反思你已经得到哪个要素/概念。你得到的要素/概念取值是否正确。从当前的信息中还不能得到哪些要素/概念。\n",
    "   - 每个反思一行，行前以' -'开始。\n",
    "4. 思考: 观察执行记录和你的自我反思，并一步步思考\n",
    "  （1）分析要素间的依赖关系，例如：\n",
    "    i. 我是否需要先获得A的值/定义，才能通过A来获得B？\n",
    "    ii. 如果我先获得A，是否可以通过A筛选B，减少穷举每个B的代价？\n",
    "    iii. A和B是否存在在同一数据源中，我能否在获取A的同时获取B？\n",
    "    iv. 是否还有更高效或更聪明的办法来查询一个概念或要素？\n",
    "    v. 如果上一次尝试查询一个概念或要素时失败了，我是否可以尝试从另一个资源中再次查询？\n",
    "    vi. 诸如此类，你可以扩展更多的思考 ...\n",
    "  （2）根据以上分析，排列子要素间的查询优先级\n",
    "  （3）找出当前需要获得取值的子要素\n",
    "  注意，不要对要素的取值/定义做任何假设，确保你的信息来自给定的数据源！\n",
    "5. 推理: 根据你的反思与思考，一步步推理被选择的子要素取值的获取方式。如果前一次的计划失败了，请检查输入中是否包含每个概念/要素的明确定义，并尝试细化你的查询描述。\n",
    "6. 计划: 严格遵守以下规则，计划你的当前动作。\n",
    "  （1）详细列出当前动作的执行计划。只计划一步的动作。PLAN ONE STEP ONLY!\n",
    "  （2）一步步分析，包括数据源，对数据源的操作方式，对数据的分析方法。有哪些已知常量可以直接代入此次分析。\n",
    "  （3）不要尝试计算文件的每一个元素，这种计算代价太高，是严格禁止的。你可以通过分析找到更有效的方法，比如条件筛选。\n",
    "  （4）上述分析是否依赖某个要素的取值/定义，且该要素的取值/定义尚未获得。若果是，重新规划当前动作，确保所有依赖的要素的取值/定义都已经获得。\n",
    "  （5）不要对要素的取值/定义做任何假设，确保你的信息来自给定的数据源。不要编造信息。DO NOT MAKE UP ANY INFORMATION!!!\n",
    "  （6）确保你执行的动作涉及的所有要素都已获得确切的取值/定义。\n",
    "  （7）如果全部子任务已完成，请用FINISH动作结束任务。\n",
    "  （8）不要在这里使用JSON格式来描述计划的当前动作，这会与下面的输出重复，造成无法解析。\n",
    "\n",
    "你必须根据以下格式说明，输出JSON格式，描述所选择执行的动作/工具/指令:\n",
    "{action_format_instructions}\n",
    "\"\"\""
   ]
  },
  {
   "cell_type": "markdown",
   "id": "820ee5d5-0fea-4140-9e81-d3bb30ea3142",
   "metadata": {},
   "source": [
    "<div class=\"alert alert-warning\">\n",
    "    <b>💡 思考：自定义的CoT智能体，与ReAct智能体在提示语方面的本质差别是什么？</b>\n",
    "</div>"
   ]
  },
  {
   "cell_type": "markdown",
   "id": "fbd252e7-9caf-41cf-9c04-77d65677a345",
   "metadata": {},
   "source": [
    "### ✍️ 自定义 OutputParser"
   ]
  },
  {
   "cell_type": "code",
   "execution_count": null,
   "id": "eef150fe-fbf2-4856-906b-b43f82a1aa99",
   "metadata": {},
   "outputs": [],
   "source": [
    "from typing import List, Optional, Dict, Any, Union, Callable\n",
    "from langchain_core.pydantic_v1 import BaseModel, Field\n",
    "from langchain.agents.agent import AgentOutputParser, AgentAction, AgentFinish\n",
    "from langchain.agents.format_scratchpad import format_log_to_str\n",
    "from langchain.output_parsers import PydanticOutputParser"
   ]
  },
  {
   "cell_type": "code",
   "execution_count": null,
   "id": "125e6832-4d99-4214-bbfa-0c8bf033f8f7",
   "metadata": {},
   "outputs": [],
   "source": [
    "class Action(BaseModel):\n",
    "    name: str = Field(\n",
    "        description=\"The name of tool or action: FINISH or Other tool names.\"\n",
    "        )\n",
    "    args: Optional[Dict[str, Any]] = Field(\n",
    "        default=None,\n",
    "        description=\"Parameters of tool or action are composed of names and values.\"\n",
    "        )\n",
    "\n",
    "# 解析Action\n",
    "_action_output_parser = PydanticOutputParser(pydantic_object=Action)\n",
    "_action_parser_format = _action_output_parser.get_format_instructions()\n",
    "\n",
    "class ReasonOutputParser(AgentOutputParser):\n",
    "    \"\"\"解析单个动作的智能体action和输入参数。\n",
    "    \"\"\"\n",
    "\n",
    "    def parse(self, text: str) -> Union[AgentAction, AgentFinish]:\n",
    "        action: Action = _action_output_parser.invoke(text)\n",
    "        name: Optional[str] = action.name\n",
    "        args: Optional[Dict[str, Any]] = action.args if text is not None else \"No Args\"\n",
    "        log: str = text if text is not None else \"\"\n",
    "\n",
    "        if name == \"FINISH\":\n",
    "            return AgentFinish(args, log)\n",
    "        elif name is not None:\n",
    "            return AgentAction(name, args, log)\n",
    "\n",
    "    @property\n",
    "    def _type(self) -> str:\n",
    "        return \"Chain-of-Thought\"\n"
   ]
  },
  {
   "cell_type": "markdown",
   "id": "f5f51a7d-5b7b-4abd-b09f-6ce8521417e0",
   "metadata": {},
   "source": [
    "<div class=\"alert alert-warning\">\n",
    "    <b>💡 思考：自定义的CoT智能体，与ReAct智能体在判断推理结束方面的策略差别是什么？</b>\n",
    "</div>"
   ]
  },
  {
   "cell_type": "markdown",
   "id": "d1f3e4c4-2930-4b06-b9ac-e4a7c0359314",
   "metadata": {},
   "source": [
    "### ✍️ FINISH"
   ]
  },
  {
   "cell_type": "code",
   "execution_count": null,
   "id": "a2ad2900-4873-4515-8d56-2086a6a9a7f8",
   "metadata": {},
   "outputs": [],
   "source": [
    "@tool\n",
    "def FINISH(output: str) -> str:\n",
    "    \"\"\"\n",
    "    用于表示任务完成的占位符工具。\n",
    "    Args:\n",
    "        output - 这是你要输出的答案。\n",
    "    \"\"\"\n",
    "    \n",
    "    return output"
   ]
  },
  {
   "cell_type": "markdown",
   "id": "7ff71d04-4457-4761-abbf-d67abdcddd48",
   "metadata": {},
   "source": [
    "### ✍️ 自定义一个智能体"
   ]
  },
  {
   "cell_type": "code",
   "execution_count": null,
   "id": "f301bc7c-0c38-49c9-8b5a-18ac4cc992b7",
   "metadata": {},
   "outputs": [],
   "source": [
    "from langchain_core.runnables import RunnablePassthrough\n",
    "from langchain_core.pydantic_v1 import BaseModel, Field\n",
    "from langchain.agents.format_scratchpad import format_log_to_str\n",
    "from langchain.prompts import PromptTemplate\n",
    "from langchain.tools.render import render_text_description\n",
    "\n",
    "def _prompt_creator(prompt: str) -> Callable[[List[str]], str]:\n",
    "    def creator(tools: List[str]) -> str:\n",
    "        # 请注意，智谱AI等国内大模型对于pydantic的参数解析并不友好，使用JSON描述参数时会误读\n",
    "        # 因此，不要使用 render_text_description_and_args 来生成工具描述\n",
    "        tools_format = render_text_description(tools)\n",
    "\n",
    "        template = PromptTemplate.from_template(prompt)\n",
    "        return template.partial(\n",
    "            tools=tools_format,\n",
    "            action_format_instructions=_action_parser_format,\n",
    "        )\n",
    "\n",
    "    return creator\n",
    "\n",
    "# 基于 CoT 的智能体\n",
    "def create_cot_agent(llm: Any, prompt: Optional[str] = None, tools: List[str] = []) -> Any:\n",
    "    prompt_creator = _prompt_creator(PROMPT_COT)\n",
    "    if prompt is not None:\n",
    "        prompt_creator = _prompt_creator(prompt)\n",
    "\n",
    "    agent = (\n",
    "        RunnablePassthrough.assign(\n",
    "            agent_scratchpad=lambda x: format_log_to_str(x[\"intermediate_steps\"])\n",
    "        )\n",
    "        | prompt_creator(tools)\n",
    "        | llm\n",
    "        | ReasonOutputParser()\n",
    "    )\n",
    "\n",
    "    return agent"
   ]
  },
  {
   "cell_type": "markdown",
   "id": "3cc2ce2c-8174-41b6-8e4e-5381e09ad13d",
   "metadata": {},
   "source": [
    "### ✍️ create_cot_executor：尝试运行"
   ]
  },
  {
   "cell_type": "code",
   "execution_count": null,
   "id": "f6680288-649b-4ae5-b30a-e974cde9c27c",
   "metadata": {},
   "outputs": [],
   "source": [
    "def create_cot_executor(llm, tools):\n",
    "    # 定义 Agent\n",
    "    agent = create_cot_agent(llm, tools=tools)\n",
    "    # 定义 AgentExecutor\n",
    "    executor = AgentExecutor(agent=agent, tools=tools, verbose=False, handle_parsing_errors=False)\n",
    "    \n",
    "    return executor\n",
    "\n",
    "neighbor = create_cot_executor(ChatZhipuAI(), [ask_neighbor, FINISH])"
   ]
  },
  {
   "cell_type": "code",
   "execution_count": null,
   "id": "0df7abda-998c-4135-b5bf-218cff0b7849",
   "metadata": {},
   "outputs": [],
   "source": [
    "async for chunk in neighbor.astream_events({\"input\": \"马冬梅家住哪个房间？\"}, version=\"v1\"):\n",
    "    event = chunk['event']\n",
    "    if(event == \"on_chat_model_stream\"):\n",
    "        if('chunk' in chunk['data']):\n",
    "            print(chunk['data']['chunk'].content, end=\"_\", flush=True)"
   ]
  },
  {
   "cell_type": "markdown",
   "id": "6e3c7b21-65e0-4282-a023-3436685c7a22",
   "metadata": {},
   "source": [
    "# （三）再现《手撕AutoGPT》：langchain+智谱+智能体"
   ]
  },
  {
   "cell_type": "code",
   "execution_count": null,
   "id": "e51601fe-ca21-4ede-826d-0a5bb32d4d28",
   "metadata": {},
   "outputs": [],
   "source": [
    "# 《手撕 AutoGPT》中的有趣小工具\n",
    "from colorama import init, Fore, Back, Style\n",
    "import sys\n",
    "\n",
    "THOUGHT_COLOR = Fore.GREEN\n",
    "OBSERVATION_COLOR = Fore.YELLOW\n",
    "ROUND_COLOR = Fore.RED\n",
    "CODE_COLOR = Fore.BLUE\n",
    "\n",
    "def color_print(text, color=None, end=\"\\n\"):\n",
    "    if color is not None:\n",
    "        content = color + text + Style.RESET_ALL + end\n",
    "    else:\n",
    "        content = text + end\n",
    "    sys.stdout.write(content)\n",
    "    sys.stdout.flush()"
   ]
  },
  {
   "cell_type": "markdown",
   "id": "3c7facba-ea0c-4f06-836e-770febfe3150",
   "metadata": {},
   "source": [
    "## 7、定义工具"
   ]
  },
  {
   "cell_type": "markdown",
   "id": "8d99833a-7cbd-4593-ae77-24247b0cd7fe",
   "metadata": {},
   "source": [
    "### ✍️ 列举文件"
   ]
  },
  {
   "cell_type": "code",
   "execution_count": null,
   "id": "11568d64-fd50-498d-84d8-0f4dd9e05628",
   "metadata": {},
   "outputs": [],
   "source": [
    "work_dir = \"./data\""
   ]
  },
  {
   "cell_type": "code",
   "execution_count": null,
   "id": "4a39dc24-6ef4-49bc-aa52-14011569bf48",
   "metadata": {},
   "outputs": [],
   "source": [
    "# from langchain_openai import ChatOpenAI\n",
    "from langchain.tools import tool\n",
    "import os\n",
    "import re\n",
    "import fnmatch\n",
    "\n",
    "@tool\n",
    "def list_files(args=None) -> str:\n",
    "    \"\"\"如果需要查询资料，就首先使用该工具探查本地文件夹的结构和内容，展示它的文件名和文件夹名\"\"\"\n",
    "\n",
    "    # 工作目录\n",
    "    print(\"当前目录为：\", workd_dir)\n",
    "\n",
    "    # 定义你想要过滤的模式\n",
    "    patterns = ['*.pdf', \"*.xlsx\"]\n",
    "\n",
    "    if(os.path.isdir(workd_dir)):\n",
    "        all_files = os.listdir(work_dir)\n",
    "        # 过滤出所有匹配的文件\n",
    "        matching_files = [f for f in all_files for p in patterns if fnmatch.fnmatch(f, p)]\n",
    "\n",
    "        return \"\\n\".join(matching_files)\n",
    "    else:\n",
    "        return []"
   ]
  },
  {
   "cell_type": "code",
   "execution_count": null,
   "id": "d4097187-2538-4440-837c-665b11e7fc94",
   "metadata": {},
   "outputs": [],
   "source": [
    "print(list_files.invoke({}))"
   ]
  },
  {
   "cell_type": "markdown",
   "id": "e84dc3bc-f2dd-44d7-92cd-36d175c91da3",
   "metadata": {},
   "source": [
    "### ✍️ 查询文档"
   ]
  },
  {
   "cell_type": "markdown",
   "id": "18407606-4160-4c54-8671-e4f67d452a7d",
   "metadata": {},
   "source": [
    "#### （1）准备"
   ]
  },
  {
   "cell_type": "code",
   "execution_count": null,
   "id": "2a86ac37-0f36-4b26-a157-4ca33dbba461",
   "metadata": {},
   "outputs": [],
   "source": [
    "from typing import List\n",
    "from langchain.schema import Document\n",
    "from langchain.text_splitter import RecursiveCharacterTextSplitter\n",
    "from langchain.vectorstores import Chroma\n",
    "from langchain.document_loaders import PyPDFLoader\n",
    "from langchain_community.document_loaders import Docx2txtLoader\n",
    "from langchain_zhipu import ChatZhipuAI\n",
    "from langchain_openai import OpenAIEmbeddings\n",
    "from langchain_core.messages import BaseMessage"
   ]
  },
  {
   "cell_type": "code",
   "execution_count": null,
   "id": "c4d20b40-25cb-4538-8ef8-129c14f7016f",
   "metadata": {},
   "outputs": [],
   "source": [
    "def get_file_extension(filename: str) -> str:\n",
    "    return filename.split(\".\")[-1]\n",
    "\n",
    "def format_docs(docs: List[str]) -> str:\n",
    "    return \"\\n\\n\".join([d.page_content for d in docs])\n",
    "\n",
    "def convert_message_to_str(message: Union[BaseMessage, str]) -> str:\n",
    "    if isinstance(message, BaseMessage):\n",
    "        return message.content\n",
    "    else:\n",
    "        return message"
   ]
  },
  {
   "cell_type": "code",
   "execution_count": null,
   "id": "69cdb4f0-bf07-448e-83fb-2c2488573dd3",
   "metadata": {},
   "outputs": [],
   "source": [
    "class FileLoadFactory:\n",
    "    @staticmethod\n",
    "    def get_loader(filename: str):\n",
    "        filename = filename.strip()\n",
    "        ext = get_file_extension(filename)\n",
    "        if ext == \"pdf\":\n",
    "            return PyPDFLoader(filename)\n",
    "        elif ext == \"docx\" or ext == \"doc\":\n",
    "            return Docx2txtLoader(filename)\n",
    "        else:\n",
    "            raise NotImplementedError(f\"File extension {ext} not supported.\")"
   ]
  },
  {
   "cell_type": "code",
   "execution_count": null,
   "id": "c14e4c9e-5d55-455b-b788-c6a83dddadd3",
   "metadata": {},
   "outputs": [],
   "source": [
    "def load_docs(filename: str) -> List[Document]:\n",
    "    file_loader = FileLoadFactory.get_loader(filename)\n",
    "    return file_loader.load_and_split()"
   ]
  },
  {
   "cell_type": "markdown",
   "id": "69b6e6a7-c326-4b87-8173-d720b4de0c3e",
   "metadata": {},
   "source": [
    "#### （2）使用 RAG 查询文档"
   ]
  },
  {
   "cell_type": "code",
   "execution_count": null,
   "id": "b0fcda75-1a11-49d1-85df-6716984e06ef",
   "metadata": {},
   "outputs": [],
   "source": [
    "@tool\n",
    "def ask_document(\n",
    "        filename: str,\n",
    "        query: str,\n",
    ") -> str:\n",
    "    \"\"\"\n",
    "    查询Word或PDF文档中的文本内容，以便回答问题。\n",
    "    考虑上下文信息，确保问题对相关概念的定义表述完整。\n",
    "    \"\"\"\n",
    "\n",
    "    path = os.path.join(work_dir, filename)\n",
    "    if(not os.path.exists(path)):\n",
    "        return f\"给定的文件路径不存在，请从工作目录{work_dir}中列举文件，确认其存在\"\n",
    "\n",
    "    chunks = load_docs(path)\n",
    "    # print(chunks)\n",
    "    if chunks is None or len(chunks) == 0:\n",
    "        return \"无法读取文档内容\"\n",
    "\n",
    "    db = Chroma.from_documents(chunks, OpenAIEmbeddings())\n",
    "\n",
    "    DEFAULT_QA_CHAIN_PROMPT = \"\"\"\n",
    "        你要严格依据如下资料回答问题，你的回答不能与其冲突，更不要编造。\n",
    "        请始终使用中文回答。\n",
    "        \n",
    "        {context}\n",
    "        \n",
    "        问题: {question}\n",
    "        \"\"\"\n",
    "    prompt = ChatPromptTemplate.from_template(DEFAULT_QA_CHAIN_PROMPT)\n",
    "\n",
    "    qa_chain = (\n",
    "        {\n",
    "            \"context\": (lambda x: convert_message_to_str(x)) | db.as_retriever() | format_docs,\n",
    "            \"question\": lambda x: convert_message_to_str(x)\n",
    "        }\n",
    "        | prompt\n",
    "        | ChatZhipuAI()\n",
    "    )\n",
    "\n",
    "    # response = qa_chain.invoke(query)\n",
    "    final_output = \"\"\n",
    "    for chunk in qa_chain.stream(query):\n",
    "        print(chunk.content, end=\"|\")\n",
    "        final_output += chunk.content\n",
    "        \n",
    "    return final_output"
   ]
  },
  {
   "cell_type": "markdown",
   "id": "95bd9016-6f44-4caf-b79e-58e24926c8ff",
   "metadata": {},
   "source": [
    "<div class=\"alert alert-warning\">\n",
    "    <b>思考：BaseTool 的定义中没有流方法，所以工具定义中也没有流输出支持</b><br>\n",
    "    这将导致智能体在调用时，实际上无法获得流式输出（尽管可以在后台调试时打印，但不方便传递）。<br>\n",
    "    这是为什么呢？？\n",
    "</div>"
   ]
  },
  {
   "cell_type": "code",
   "execution_count": null,
   "id": "5c935f82-3396-4008-828e-3f0f03bd43c1",
   "metadata": {},
   "outputs": [],
   "source": [
    "ask_document.invoke({\"filename\": \"供应商资格要求.pdf\", \"query\": \"供应商达标标准\"})"
   ]
  },
  {
   "cell_type": "markdown",
   "id": "24988a01-b887-41ab-9f6f-769fa42a533c",
   "metadata": {},
   "source": [
    "### ✍️ Excel 结构探查"
   ]
  },
  {
   "cell_type": "code",
   "execution_count": null,
   "id": "42346d58-b95e-466e-87e0-05c005600ca1",
   "metadata": {},
   "outputs": [],
   "source": [
    "import pandas as pd"
   ]
  },
  {
   "cell_type": "code",
   "execution_count": null,
   "id": "0c5ffc59-fbe1-4968-bc56-38dbee922091",
   "metadata": {},
   "outputs": [],
   "source": [
    "def get_sheet_names(\n",
    "        filename : str\n",
    ") -> str :\n",
    "    \"\"\"获取 Excel 文件的工作表名称\"\"\"\n",
    "    path = filename\n",
    "    if(not os.path.exists(path)):\n",
    "        return f\"给定的文件路径不存在，请从工作目录{work_dir}中列举文件，确认其存在\"\n",
    "        \n",
    "    excel_file = pd.ExcelFile(path.strip())\n",
    "    sheet_names = excel_file.sheet_names\n",
    "    return f\"这是 '{path}' 文件的工作表名称：\\n\\n{sheet_names}\""
   ]
  },
  {
   "cell_type": "code",
   "execution_count": null,
   "id": "63612915-fbfb-46d3-b2e4-93e4371af8be",
   "metadata": {},
   "outputs": [],
   "source": [
    "def get_column_names(\n",
    "        filename : str\n",
    ") -> str:\n",
    "    \"\"\"获取 Excel 文件的列名\"\"\"\n",
    "\n",
    "    # 读取 Excel 文件的第一个工作表\n",
    "    path = filename\n",
    "    if(not os.path.exists(path)):\n",
    "        return f\"给定的文件路径不存在，请从工作目录{work_dir}中列举文件，确认其存在\"\n",
    "        \n",
    "    df = pd.read_excel(path.strip(), sheet_name=0)  # sheet_name=0 表示第一个工作表\n",
    "    column_names = '\\n'.join(\n",
    "        df.columns.to_list()\n",
    "    )\n",
    "\n",
    "    result = f\"这是 '{path.strip()}' 文件第一个工作表的列名：\\n\\n{column_names}\"\n",
    "    return result"
   ]
  },
  {
   "cell_type": "code",
   "execution_count": null,
   "id": "987ceb8c-d051-4914-93c7-f1e5cbda0443",
   "metadata": {},
   "outputs": [],
   "source": [
    "def get_first_n_rows(\n",
    "        filename : str,\n",
    "        n : int = 3\n",
    ") -> str :\n",
    "    path = os.path.join(work_dir, filename)\n",
    "    path = path.strip()\n",
    "    if(not os.path.exists(path)):\n",
    "        return f\"给定的文件路径不存在，请从工作目录{work_dir}中列举文件，确认其存在\"\n",
    "\n",
    "    result = get_sheet_names(path)+\"\\n\\n\"\n",
    "    result += get_column_names(path)+\"\\n\\n\"\n",
    "\n",
    "    # 读取 Excel 文件的第一个工作表\n",
    "    df = pd.read_excel(path, sheet_name=0)  # sheet_name=0 表示第一个工作表\n",
    "    n_lines = '\\n'.join(\n",
    "        df.head(n).to_string(index=False, header=True).split('\\n')\n",
    "    )\n",
    "\n",
    "    result += f\"这是 '{path}' 文件第一个工作表的前{n}行样例：\\n\\n{n_lines}\"\n",
    "    return result\n",
    "\n",
    "@tool\n",
    "def inspect_excel(\n",
    "        filename : str,\n",
    "        n : int = 3\n",
    ") -> str :\n",
    "    \"\"\"\n",
    "    探查Excel数据文件的内容和结构，展示它的列名和前n行，n默认为3。\n",
    "    注意，该工具仅使用于探查Excel文件，不能探查PDF或Word文件。\n",
    "    \n",
    "    使用该函数时应当准备提供filename和n两个参数，其中：\n",
    "    \n",
    "    - filename：要探查的Excel文件名\n",
    "    - n: 默认的行数\n",
    "    \n",
    "    \"\"\"\n",
    "    return get_first_n_rows(filename, n)"
   ]
  },
  {
   "cell_type": "code",
   "execution_count": null,
   "id": "809ae148-d138-4f2b-8b9e-c397689602f6",
   "metadata": {},
   "outputs": [],
   "source": [
    "##\n",
    "print(inspect_excel.invoke({\"filename\": \"2023年8月-9月销售记录.xlsx\"}))"
   ]
  },
  {
   "cell_type": "markdown",
   "id": "87ce36f4-4637-4f30-8bf9-f08ff0c78f16",
   "metadata": {},
   "source": [
    "### ✍️ Excel 数据分析"
   ]
  },
  {
   "cell_type": "markdown",
   "id": "74b83941-34f3-446f-8213-a922ba37444d",
   "metadata": {},
   "source": [
    "#### （1）准备"
   ]
  },
  {
   "cell_type": "code",
   "execution_count": null,
   "id": "4e904aab-0239-4bad-9ac2-913b285d4f80",
   "metadata": {},
   "outputs": [],
   "source": [
    "import re\n",
    "from langchain.tools import StructuredTool\n",
    "from langchain_core.output_parsers import BaseOutputParser\n",
    "\n",
    "# from Utils.PythonExecUtil import execute_python_code\n",
    "from langchain_openai import ChatOpenAI\n",
    "from langchain_experimental.utilities import PythonREPL"
   ]
  },
  {
   "cell_type": "markdown",
   "id": "2f6e6e9d-8278-47e9-94db-a5da3e94ca3a",
   "metadata": {},
   "source": [
    "#### （2）自定义一个OutputParse"
   ]
  },
  {
   "cell_type": "code",
   "execution_count": null,
   "id": "5786995e-9011-4e46-a826-dec2543a746b",
   "metadata": {},
   "outputs": [],
   "source": [
    "class PythonCodeParser(BaseOutputParser):\n",
    "    \"\"\"从大模型返回的文本中提取Python代码。\"\"\"\n",
    "\n",
    "    def _remove_marked_lines(self, input_str: str) -> str:\n",
    "        lines = input_str.strip().split('\\n')\n",
    "        if lines and lines[0].strip().startswith('```'):\n",
    "            del lines[0]\n",
    "        if lines and lines[-1].strip().startswith('```'):\n",
    "            del lines[-1]\n",
    "\n",
    "        ans = '\\n'.join(lines)\n",
    "        return ans\n",
    "\n",
    "    def parse(self, text: str) -> str:\n",
    "        # 使用正则表达式找到所有的Python代码块\n",
    "        python_code_blocks = re.findall(r'```python\\n(.*?)\\n```', text, re.DOTALL)\n",
    "        # 从re返回结果提取出Python代码文本\n",
    "        python_code = None\n",
    "        if len(python_code_blocks) > 0:\n",
    "            python_code = python_code_blocks[0]\n",
    "            python_code = self._remove_marked_lines(python_code)\n",
    "        return python_code"
   ]
  },
  {
   "cell_type": "markdown",
   "id": "5e9b77b4-5c15-42e8-84f1-f85cf142a181",
   "metadata": {},
   "source": [
    "#### （3）定义提示语模板"
   ]
  },
  {
   "cell_type": "code",
   "execution_count": null,
   "id": "691458c9-ac30-4d79-9a16-e47c8a0f86f6",
   "metadata": {},
   "outputs": [],
   "source": [
    "from langchain.prompts import PromptTemplate\n",
    "\n",
    "excel_analyser_prompt = PromptTemplate.from_template(\"\"\"\n",
    "你的任务是先分析，再生成代码。\n",
    "\n",
    "请根据用户的输入，一步步分析：\n",
    "（1）用户的输入是否依赖某个条件，而这个条件没有明确赋值？\n",
    "（2）我是否需要对某个变量的值做假设？\n",
    "（3）已经从用户的输入中拆解概念，将其中包含的数字或实体名称，映射为所生成的函数入参，并在代码中使用？\n",
    "（4）不能生成用户输入中没有包含的函数入参，将导致严重后果，这一点是否已经确认？\n",
    "\n",
    "如果我需要对某个变量的值做假设，请直接输出：\n",
    "```python\n",
    "print(\"我需要知道____的值，才能生成代码。请完善你的查询。\") # 请将____替换为需要假设的的条件\n",
    "```\n",
    "否则，创建Python代码，分析指定文件的内容。\n",
    "\n",
    "MUST 请不要使用filename作为入参变量，直接写死在代码里即可。\n",
    "\n",
    "MUST 你生成代码中所有的常量都必须来自我给你的信息或来自文件本身。不要编造任何常量。\n",
    "如果常量缺失，你的代码将无法运行。你可以拒绝生成代码，但是不要生成编造的代码。\n",
    "确保你生成的代码最终以print的方式输出结果(回答用户的问题)。\n",
    "\n",
    "MUST 你可以使用的库只包括：pandas, re, math, datetime, openpyxl\n",
    "确保你的代码只使用上述库，否则你的代码将无法运行。\n",
    "\n",
    "MUST 确保你的代码可以通过运行的。\n",
    "\n",
    "给定文件为：\n",
    "{filename}\n",
    "\n",
    "文件内容样例：\n",
    "{inspections}\n",
    "\n",
    "你输出的Python代码前后必须有markdown标识符，如下所示：\n",
    "```python\n",
    "# example code\n",
    "```\n",
    "\n",
    "用户输入：\n",
    "{query}\n",
    "\"\"\")"
   ]
  },
  {
   "cell_type": "markdown",
   "id": "a487a8fc-1531-401a-9b50-444029c6a0d7",
   "metadata": {},
   "source": [
    "#### （4）定义执行链"
   ]
  },
  {
   "cell_type": "code",
   "execution_count": null,
   "id": "938d8e60-ea81-4595-aadf-3021b0d6bdc0",
   "metadata": {},
   "outputs": [],
   "source": [
    "llm = ChatZhipuAI()\n",
    "analysis_chain = excel_analyser_prompt | llm | PythonCodeParser()"
   ]
  },
  {
   "cell_type": "markdown",
   "id": "d4413d08-258d-4203-a670-79b6dec4744a",
   "metadata": {},
   "source": [
    "#### （5）生成 python 代码并执行"
   ]
  },
  {
   "cell_type": "code",
   "execution_count": null,
   "id": "08749f35-6a4d-414c-ae79-28b74d73cee1",
   "metadata": {},
   "outputs": [],
   "source": [
    "import ast\n",
    "import types\n",
    "from langchain_core.utils.function_calling import convert_to_openai_tool\n",
    "from langchain_experimental.utilities import PythonREPL\n",
    "\n",
    "@tool\n",
    "def excel_analyse(query: str, filename: str):\n",
    "    \"\"\"如果给定一个Excel文件，就可以根据该工具分析其内容。\"\"\"\n",
    "\n",
    "    path = os.path.join(work_dir, filename)\n",
    "    path = path.strip()\n",
    "    if(not os.path.exists(path)):\n",
    "        return f\"给定的文件路径不存在，请从工作目录{work_dir}中列举文件，确认其存在\"\n",
    "\n",
    "    # columns = get_column_names(filename)\n",
    "    inspections = get_first_n_rows(filename)\n",
    "\n",
    "    # 打印详细信息\n",
    "    color_print(\"\\n#!/usr/bin/env python\", CODE_COLOR, end=\"\\n\")\n",
    "\n",
    "    # 生成代码\n",
    "    code = \"\"\n",
    "    for c in analysis_chain.stream({\n",
    "        \"query\": query,\n",
    "        \"filename\": path,\n",
    "        \"inspections\": inspections\n",
    "    }):\n",
    "        ## 打印详细信息\n",
    "        color_print(c, CODE_COLOR, end=\"\")\n",
    "        ## 收集代码成果\n",
    "        code += c\n",
    "\n",
    "    if code:        \n",
    "        # 执行代码\n",
    "        return PythonREPL().run(code)\n",
    "    else:\n",
    "        return \"没有找到可执行的Python代码\""
   ]
  },
  {
   "cell_type": "code",
   "execution_count": null,
   "id": "914d2a31-20fc-4e4a-9894-01cc502d404a",
   "metadata": {},
   "outputs": [],
   "source": [
    "##\n",
    "excel_analyse.invoke({\n",
    "    \"query\": \"销售总额是多少?\",\n",
    "    \"filename\": \"2023年8月-9月销售记录.xlsx\"\n",
    "})"
   ]
  },
  {
   "cell_type": "markdown",
   "id": "a38e77ba-68bc-491d-98db-23bce5c2aa39",
   "metadata": {},
   "source": [
    "## 8、对比这几个 🦜🔗LangChain 智能体"
   ]
  },
  {
   "cell_type": "markdown",
   "id": "f61f70d3-1a21-4c04-9cc0-9a88292172bd",
   "metadata": {},
   "source": [
    "|langchain智能体|支持多工具|支持多参数|推理过程优化|\n",
    "|:---|:---:|:---:|:---:|\n",
    "|create_openai_tools_agent|支持|支持|依赖大模型能力|\n",
    "|create_react_agent|不支持|不支持|可以支持|\n",
    "|自定义CoT|可以支持|可以支持|可以支持|"
   ]
  },
  {
   "cell_type": "markdown",
   "id": "6fdc647c-00c2-4fa0-8413-4ab466e7d1b1",
   "metadata": {},
   "source": [
    "### ✍️ GLM4 + create_openai_executor\n",
    "\n",
    "openai风格的工具回调智能体：由大模型负责推理，决定何时以及如何使用工具。"
   ]
  },
  {
   "cell_type": "code",
   "execution_count": null,
   "id": "48781f8c-b4cc-461c-830e-696d185307bb",
   "metadata": {},
   "outputs": [],
   "source": [
    "glm_openai = create_openai_executor(\n",
    "    ChatZhipuAI(model=\"glm-4\"),\n",
    "    [\n",
    "        # 列举本地文档\n",
    "        list_files,\n",
    "        # RAG 查询文档\n",
    "        ask_document,\n",
    "        # 探查 Excel 文件\n",
    "        inspect_excel,\n",
    "        # Excel 数据分析\n",
    "        excel_analyse,\n",
    "    ]\n",
    ")"
   ]
  },
  {
   "cell_type": "code",
   "execution_count": null,
   "id": "edc0e219-9a10-4339-acab-4fc261e222ae",
   "metadata": {},
   "outputs": [],
   "source": [
    "async for chunk in glm_openai.astream_events({\"input\": \"供应商达标的业绩要求是什么？\"}, version=\"v1\"):\n",
    "    if e['event'] in [\"on_chat_model_end\", \"on_tool_end\"]:\n",
    "        if(\"input\" in e['data']):\n",
    "            print(\"\\n\", \"-\"*10, e['name'], \"-\"*2, e['event'], \"-\"*10)\n",
    "            print(\"INPUT:\")\n",
    "            print(e['data']['input'])\n",
    "        if(\"output\" in e['data']):\n",
    "            print(\"\\n\", \"-\"*10, e['name'], \"-\"*2, e['event'], \"-\"*10)\n",
    "            print(\"OUTPUT:\")\n",
    "            print(e['data']['output'])"
   ]
  },
  {
   "cell_type": "markdown",
   "id": "79c2f71f-8bdd-4c83-a7b0-380a2daa8a10",
   "metadata": {},
   "source": [
    "### ✍️ GLM4 + create_react_agent\n",
    "\n",
    "ReAct智能体：由提示语影响大模型推理，通过规则制定、例子、小样本等**提示工程**影响推理过程。"
   ]
  },
  {
   "cell_type": "markdown",
   "id": "01d8f0eb-36d7-443d-8793-193fea61a927",
   "metadata": {},
   "source": [
    "<div class=\"alert alert-warning\">\n",
    "    <b>思考：</b><br>\n",
    "    为什么 langchain 内置 的 create_react_agent 无法解析多个输入参数？\n",
    "    <br>\n",
    "    你有办法实现多参数输入吗？\n",
    "</div>\n",
    "\n",
    "**参考**\n",
    "\n",
    "- [🔗 查看 create_react_agent: output_parser](https://github.com/langchain-ai/langchain/blob/239dd7c0c03d0430c55c2c41cf56cf0dd537199b/libs/langchain/langchain/agents/react/agent.py#L125)\n",
    "- [🔗 查看 ReActSingleInputOutputParser](https://github.com/langchain-ai/langchain/blob/239dd7c0c03d0430c55c2c41cf56cf0dd537199b/libs/langchain/langchain/agents/output_parsers/react_single_input.py)"
   ]
  },
  {
   "cell_type": "code",
   "execution_count": null,
   "id": "c84600bc-4424-4fd5-884b-90babaf36362",
   "metadata": {},
   "outputs": [],
   "source": [
    "zhipu_react = create_react_executor(\n",
    "    ChatZhipuAI(model=\"glm-4\"),\n",
    "    [\n",
    "        # 列举本地文档\n",
    "        list_files,\n",
    "        # RAG 查询文档\n",
    "        ask_document,\n",
    "        # 探查 Excel 文件\n",
    "        inspect_excel,\n",
    "        # Excel 数据分析\n",
    "        excel_analyse,\n",
    "    ]\n",
    ")"
   ]
  },
  {
   "cell_type": "code",
   "execution_count": null,
   "id": "6185bd16-b8cf-4029-9305-52d15fbaf8d5",
   "metadata": {
    "scrolled": true
   },
   "outputs": [],
   "source": [
    "async for chunk in zhipu_react.astream_events({\"input\": \"供应商达标的业绩要求是什么？\"}, version=\"v1\"):\n",
    "    event = chunk['event']\n",
    "    if(event == \"on_chat_model_stream\"):\n",
    "        if('chunk' in chunk['data']):\n",
    "            print(chunk['data']['chunk'].content, end=\"_\", flush=True)"
   ]
  },
  {
   "cell_type": "markdown",
   "id": "fdbf2ae2-cfa2-4d88-9f55-e79663ab361a",
   "metadata": {},
   "source": [
    "### ✍️ GLM4 + create_cot_agent\n",
    "\n",
    "自定义智能体：与 ReAct 类似，但通过思维链引导大模型的推理过程，并不仅仅停留在是否选择工具方面的思考，可通过提示语引导其对概念的深度拆解，就像是《手撕AutoGPT》中演示的那样。"
   ]
  },
  {
   "cell_type": "code",
   "execution_count": null,
   "id": "d7f510b5-0436-48a0-b8d8-7b56832d0612",
   "metadata": {},
   "outputs": [],
   "source": [
    "zhipu_cot = create_cot_executor(\n",
    "    ChatZhipuAI(model=\"glm-4\"),\n",
    "    [\n",
    "        # 列举本地文档\n",
    "        list_files,\n",
    "        # RAG 查询文档\n",
    "        ask_document,\n",
    "        # 探查 Excel 文件\n",
    "        inspect_excel,\n",
    "        # Excel 数据分析\n",
    "        excel_analyse,\n",
    "        # 结束工具\n",
    "        FINISH,\n",
    "    ]\n",
    ")"
   ]
  },
  {
   "cell_type": "code",
   "execution_count": null,
   "id": "5d277d68-89b0-45bc-be93-d9e20fb32efe",
   "metadata": {
    "scrolled": true
   },
   "outputs": [],
   "source": [
    "async for chunk in zhipu_cot.astream_events({\"input\": \"供应商达标的标准是什么？\"}, version=\"v1\"):\n",
    "    event = chunk['event']\n",
    "    if(event == \"on_chat_model_stream\"):\n",
    "        if('chunk' in chunk['data']):\n",
    "            print(chunk['data']['chunk'].content, end=\"_\", flush=True)"
   ]
  },
  {
   "cell_type": "code",
   "execution_count": null,
   "id": "8365968a-ddc6-4e46-a8c6-4273170ba30c",
   "metadata": {
    "scrolled": true
   },
   "outputs": [],
   "source": [
    "async for chunk in zhipu_cot.astream_events({\"input\": \"9月份有哪些供货商达标？\"}, version=\"v1\"):\n",
    "    event = chunk['event']\n",
    "    if(event == \"on_chat_model_stream\"):\n",
    "        if('chunk' in chunk['data']):\n",
    "            print(chunk['data']['chunk'].content, end=\"_\", flush=True)"
   ]
  },
  {
   "cell_type": "markdown",
   "id": "ada91d56-ad01-4b5f-8127-fb9535cd56b5",
   "metadata": {},
   "source": [
    "### ✍️ OpenAI / GPT4 + create_cot_agent\n",
    "\n",
    "实践证明，GPT4 确实比 GLM4 具备更强的推理能力。<br>\n",
    "但也不必气馁：\n",
    "- 一是国内大模型每3-6个月会发布一次更新，逐步追赶GPT；\n",
    "- 二是对业务领域做一定的提示语调优可以弥补推理能力。"
   ]
  },
  {
   "cell_type": "code",
   "execution_count": null,
   "id": "483e9e06-178c-4235-97c0-2a5078cfe462",
   "metadata": {},
   "outputs": [],
   "source": [
    "gpt_cot = create_cot_executor(\n",
    "    ChatOpenAI(model=\"gpt-4-0125-preview\"),\n",
    "    [\n",
    "        # 列举本地文档\n",
    "        list_files,\n",
    "        # RAG 查询文档\n",
    "        ask_document,\n",
    "        # 探查 Excel 文件\n",
    "        inspect_excel,\n",
    "        # Excel 数据分析\n",
    "        excel_analyse,\n",
    "        # 结束工具\n",
    "        FINISH,\n",
    "    ]\n",
    ")"
   ]
  },
  {
   "cell_type": "code",
   "execution_count": null,
   "id": "6db1e202-d83c-490e-ace0-5c64bddcf61b",
   "metadata": {
    "scrolled": true
   },
   "outputs": [],
   "source": [
    "\n",
    "async for chunk in gpt_cot.astream_events({\"input\": \"供应商达标的标准是什么？\"}, version=\"v1\"):\n",
    "    event = chunk['event']\n",
    "    if(event == \"on_chat_model_stream\"):\n",
    "        if('chunk' in chunk['data']):\n",
    "            print(chunk['data']['chunk'].content, end=\"_\", flush=True)"
   ]
  },
  {
   "cell_type": "code",
   "execution_count": null,
   "id": "3ea24e8d-579c-430f-98b2-ef9efe29c4e5",
   "metadata": {
    "scrolled": true
   },
   "outputs": [],
   "source": [
    "\n",
    "async for chunk in gpt_cot.astream_events({\"input\": \"9月份有哪些供货商达标？？\"}, version=\"v1\"):\n",
    "    event = chunk['event']\n",
    "    if(event == \"on_chat_model_stream\"):\n",
    "        if('chunk' in chunk['data']):\n",
    "            print(chunk['data']['chunk'].content, end=\"_\", flush=True)"
   ]
  },
  {
   "cell_type": "markdown",
   "id": "284f9b10-8af0-4a42-80be-935f1fc6c853",
   "metadata": {},
   "source": [
    "# ❤️ 知识点小结\n",
    "\n",
    "- 解构源码 create_openai_tools_agent 并实践\n",
    "- 解构源码 create_react_agent 并实践\n",
    "- 学习如何自定义符合 AgentExecutor 的 AutoGPT 智能体\n",
    "\n",
    "**以及：**\n",
    "\n",
    "|langchain智能体|支持多工具|支持多参数|推理过程优化|\n",
    "|:---|:---:|:---:|:---:|\n",
    "|create_openai_tools_agent|支持|支持|依赖大模型能力|\n",
    "|create_react_agent|不支持|不支持|可以支持|\n",
    "|自定义CoT|可以支持|可以支持|可以支持|"
   ]
  },
  {
   "cell_type": "markdown",
   "id": "52bf21ca-cf12-4cd3-a53c-f451ccafa852",
   "metadata": {},
   "source": [
    "# 结束了\n",
    "\n",
    "## 🌈 彩蛋"
   ]
  },
  {
   "cell_type": "markdown",
   "id": "58f41457-4ed8-4ddf-b9d4-5fd5fc55854e",
   "metadata": {},
   "source": [
    "### 1、推荐使用 LangGraph\n",
    "- Runnable + Chain 时代：优点是方便管理状态；缺点是无逻辑定制空间；\n",
    "- Runnable + LCEL 时代：优点是自定义执行逻辑；缺点是不方便管理状态（不是不能）；\n",
    "- Runnable + LCEL + Langgraph 时代：全是优点；硬要说缺点，是要求你熟悉一点图的知识。\n",
    "\n",
    "**langgraph 比 LCEL 增加的能力**\n",
    "- 增加对智能体逻辑控制的能力\n",
    "- 增加全局状态管理（智能体和工具都可以参与管理）\n",
    "- 增加对记忆的深度管理\n",
    "- 增加对工具的流式输出控制\n",
    "\n",
    "**Langgraph 中一些较新的智能体论文实践...**\n",
    "\n",
    "- [Agent Supervisor](https://github.com/langchain-ai/langgraph/blob/main/examples/multi_agent/agent_supervisor.ipynb)\n",
    "- [Hierarchical Agent Teams](https://github.com/langchain-ai/langgraph/blob/main/examples/multi_agent/hierarchical_agent_teams.ipynb)\n",
    "- [Multi Agent Collaboration](https://github.com/langchain-ai/langgraph/blob/main/examples/multi_agent/multi-agent-collaboration.ipynb)\n",
    "- [Plan And Execute](https://github.com/langchain-ai/langgraph/blob/main/examples/plan-and-execute/plan-and-execute.ipynb)\n",
    "- [ReWoo](https://github.com/langchain-ai/langgraph/blob/main/examples/rewoo/rewoo.ipynb)\n",
    "- [Reflexion](https://github.com/langchain-ai/langgraph/blob/main/examples/reflexion/reflexion.ipynb)\n",
    "- [Self Discover](https://github.com/langchain-ai/langgraph/blob/main/examples/self-discover/self-discover.ipynb)\n",
    "- ..."
   ]
  },
  {
   "cell_type": "markdown",
   "id": "d1abbc4b-297f-480e-819a-41df0f181204",
   "metadata": {},
   "source": [
    "### 2、关于 RunnableLambda\n",
    "\n",
    "<div class=\"alert alert-info\">\n",
    "    <b>💡 有趣的代码实验</b><br>\n",
    "    问题1 你可以从这个示例扩展出更复杂的逻辑吗？<br>\n",
    "    问题2 为何 RunnableLambda 可以实现流输出？<br>    \n",
    "</div>"
   ]
  },
  {
   "cell_type": "code",
   "execution_count": null,
   "id": "c6c84d35-81cd-4674-8f39-262d2c664875",
   "metadata": {},
   "outputs": [],
   "source": [
    "from langchain_core.runnables import chain\n",
    "import re\n",
    "\n",
    "@chain\n",
    "def choose_llm(input: str):\n",
    "    if(re.search(\"GLM\", input)):\n",
    "        return ChatZhipuAI()\n",
    "    else:\n",
    "        return ChatOpenAI()"
   ]
  },
  {
   "cell_type": "code",
   "execution_count": null,
   "id": "9620ed74-c7b2-4121-9a1c-64b7ce9ce60d",
   "metadata": {},
   "outputs": [],
   "source": [
    "for x in choose_llm.stream(\"请告诉我你来自哪里？GPT吗？\"):\n",
    "    print(x.content, end=\"|\")"
   ]
  },
  {
   "cell_type": "code",
   "execution_count": null,
   "id": "6ab37de6-b1c4-496e-86ac-796c52eb7eb3",
   "metadata": {},
   "outputs": [],
   "source": [
    "for x in choose_llm.stream(\"请告诉我你来自哪里？GLM吗？\"):\n",
    "    print(x.content, end=\"|\")"
   ]
  },
  {
   "cell_type": "code",
   "execution_count": null,
   "id": "c0396469-4475-415e-bff3-f90a98c602ae",
   "metadata": {},
   "outputs": [],
   "source": []
  }
 ],
 "metadata": {
  "kernelspec": {
   "display_name": "langchani-book-py3.10-ipykernel",
   "language": "python",
   "name": "langchani-book-py3.10-ipykernel"
  },
  "language_info": {
   "codemirror_mode": {
    "name": "ipython",
    "version": 3
   },
   "file_extension": ".py",
   "mimetype": "text/x-python",
   "name": "python",
   "nbconvert_exporter": "python",
   "pygments_lexer": "ipython3",
   "version": "3.10.0"
  }
 },
 "nbformat": 4,
 "nbformat_minor": 5
}
