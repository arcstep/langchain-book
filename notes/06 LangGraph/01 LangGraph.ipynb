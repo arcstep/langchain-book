{
 "cells": [
  {
   "cell_type": "code",
   "execution_count": 24,
   "id": "71090e79-690c-4028-81c8-0286b5ac88d2",
   "metadata": {},
   "outputs": [
    {
     "data": {
      "text/plain": [
       "True"
      ]
     },
     "execution_count": 24,
     "metadata": {},
     "output_type": "execute_result"
    }
   ],
   "source": [
    "from dotenv import load_dotenv, find_dotenv\n",
    "load_dotenv(find_dotenv(), override=True)"
   ]
  },
  {
   "cell_type": "markdown",
   "id": "d85aa431-6963-4259-8885-adaa72b29be7",
   "metadata": {},
   "source": [
    "# 基本用法"
   ]
  },
  {
   "cell_type": "markdown",
   "id": "17cce36f-a4b0-4553-8be1-42eb0c467c5d",
   "metadata": {},
   "source": [
    "## 简单的示例"
   ]
  },
  {
   "cell_type": "code",
   "execution_count": 464,
   "id": "c496bce3-bff3-4a01-ba79-9eec42317d43",
   "metadata": {},
   "outputs": [
    {
     "data": {
      "text/plain": [
       "{'messages': ['AAA', 'BBB']}"
      ]
     },
     "execution_count": 464,
     "metadata": {},
     "output_type": "execute_result"
    }
   ],
   "source": [
    "from typing import TypedDict, Annotated, Sequence\n",
    "from langchain_core.messages import BaseMessage\n",
    "from langgraph.graph import StateGraph\n",
    "from langgraph.graph import END\n",
    "import operator\n",
    "\n",
    "# 数据和逻辑\n",
    "class AgentState(TypedDict):\n",
    "    messages: Annotated[Sequence[str], operator.add]\n",
    "\n",
    "def nodeA(state):\n",
    "    return {\"messages\": [\"AAA\"]}\n",
    "\n",
    "def nodeB(state):\n",
    "    return {\"messages\": [\"BBB\"]}\n",
    "\n",
    "# 定义图\n",
    "workflow = StateGraph(AgentState)\n",
    "\n",
    "workflow.add_node(\"a\", nodeA)\n",
    "workflow.add_node(\"b\", nodeB)\n",
    "\n",
    "workflow.add_edge(\"a\", \"b\")\n",
    "\n",
    "workflow.set_entry_point(\"a\")\n",
    "workflow.set_finish_point(\"b\")\n",
    "\n",
    "app = workflow.compile()\n",
    "\n",
    "# 运行\n",
    "app.invoke({\"messages\": []})"
   ]
  },
  {
   "cell_type": "markdown",
   "id": "aa59c0cf-dd6c-422f-90bf-7e9aff20bce3",
   "metadata": {},
   "source": [
    "## 绘制ASCII图"
   ]
  },
  {
   "cell_type": "code",
   "execution_count": 470,
   "id": "627df77c-4ee1-42ca-aaa0-6c1e8669e71d",
   "metadata": {},
   "outputs": [
    {
     "name": "stdout",
     "output_type": "stream",
     "text": [
      "+-----------+  \n",
      "| __start__ |  \n",
      "+-----------+  \n",
      "      *        \n",
      "      *        \n",
      "      *        \n",
      "    +---+      \n",
      "    | a |      \n",
      "    +---+      \n",
      "      *        \n",
      "      *        \n",
      "      *        \n",
      "    +---+      \n",
      "    | b |      \n",
      "    +---+      \n",
      "      *        \n",
      "      *        \n",
      "      *        \n",
      " +---------+   \n",
      " | __end__ |   \n",
      " +---------+   \n"
     ]
    }
   ],
   "source": [
    "app.get_graph().print_ascii()"
   ]
  },
  {
   "cell_type": "markdown",
   "id": "2904dd3d-ea87-40eb-816a-79de96727cae",
   "metadata": {},
   "source": [
    "## 绘制PNG图"
   ]
  },
  {
   "cell_type": "code",
   "execution_count": null,
   "id": "e2dec6ff-d006-4d3b-9083-4720f1807dc1",
   "metadata": {},
   "outputs": [],
   "source": [
    "!pip install pygraphviz "
   ]
  },
  {
   "cell_type": "code",
   "execution_count": 473,
   "id": "b284c8d5-fb2d-4527-ac87-520b6e184356",
   "metadata": {},
   "outputs": [
    {
     "data": {
      "image/png": "[encoded data removed]",
      "text/plain": [
       "<IPython.core.display.Image object>"
      ]
     },
     "execution_count": 473,
     "metadata": {},
     "output_type": "execute_result"
    }
   ],
   "source": [
    "from IPython.display import Image\n",
    "Image(app.get_graph().draw_png())"
   ]
  },
  {
   "cell_type": "markdown",
   "id": "d75b26fb-cc85-4420-8449-bda737f56066",
   "metadata": {},
   "source": [
    "# MessageGraph 和 Chain 节点"
   ]
  },
  {
   "cell_type": "markdown",
   "id": "66f94faa-f665-40ec-8d2a-c307633efcc7",
   "metadata": {},
   "source": [
    "## 定义图"
   ]
  },
  {
   "cell_type": "code",
   "execution_count": 1,
   "id": "f108ea18-8d72-4e6f-b059-1544215a42f5",
   "metadata": {},
   "outputs": [],
   "source": [
    "from typing import TypedDict, Annotated, Sequence\n",
    "from langchain_core.messages import BaseMessage\n",
    "from langgraph.graph import StateGraph, MessageGraph, END\n",
    "import operator\n",
    "\n",
    "# 定义业务逻辑\n",
    "def nodeA(state):\n",
    "    return [\"AAA\"]\n",
    "\n",
    "from langchain.llms.fake import FakeStreamingListLLM\n",
    "llm = FakeStreamingListLLM(responses=[\"你好，我是一个模拟的大语言模型\"])\n",
    "\n",
    "# 定义图\n",
    "workflow = MessageGraph()\n",
    "\n",
    "workflow.add_node(\"a\", nodeA)\n",
    "workflow.add_node(\"b\", llm)\n",
    "\n",
    "workflow.add_edge(\"a\", \"b\")\n",
    "workflow.add_edge(\"b\", END)\n",
    "\n",
    "workflow.set_entry_point(\"a\")\n",
    "\n",
    "app = workflow.compile()"
   ]
  },
  {
   "cell_type": "code",
   "execution_count": 2,
   "id": "14946daf-7e83-472e-8b27-32885ce630fd",
   "metadata": {},
   "outputs": [
    {
     "name": "stdout",
     "output_type": "stream",
     "text": [
      "+-----------+  \n",
      "| __start__ |  \n",
      "+-----------+  \n",
      "      *        \n",
      "      *        \n",
      "      *        \n",
      "    +---+      \n",
      "    | a |      \n",
      "    +---+      \n",
      "      *        \n",
      "      *        \n",
      "      *        \n",
      "    +---+      \n",
      "    | b |      \n",
      "    +---+      \n",
      "      *        \n",
      "      *        \n",
      "      *        \n",
      " +---------+   \n",
      " | __end__ |   \n",
      " +---------+   \n"
     ]
    }
   ],
   "source": [
    "app.get_graph().print_ascii()"
   ]
  },
  {
   "cell_type": "markdown",
   "id": "dbde6c4d-411e-4703-be43-4b099feeddb9",
   "metadata": {},
   "source": [
    "## 运行"
   ]
  },
  {
   "cell_type": "code",
   "execution_count": 488,
   "id": "f7682210-52b8-4474-8c74-1ec7a01f3e1e",
   "metadata": {},
   "outputs": [
    {
     "name": "stdout",
     "output_type": "stream",
     "text": [
      "{'a': ['AAA']}\n",
      "{'b': '你好，我是一个模拟的大语言模型'}\n",
      "{'__end__': ['AAA', '你好，我是一个模拟的大语言模型']}\n"
     ]
    }
   ],
   "source": [
    "for s in app.stream([]):\n",
    "    print(s)"
   ]
  },
  {
   "cell_type": "code",
   "execution_count": 489,
   "id": "8b74a04f-ec1e-41a4-aa80-d8ec4d7c2bc4",
   "metadata": {},
   "outputs": [
    {
     "name": "stdout",
     "output_type": "stream",
     "text": [
      ">>>>>>>>>> ['AAA']\n",
      ">>>>>>>>>> 你\n",
      ">>>>>>>>>> 好\n",
      ">>>>>>>>>> ，\n",
      ">>>>>>>>>> 我\n",
      ">>>>>>>>>> 是\n",
      ">>>>>>>>>> 一\n",
      ">>>>>>>>>> 个\n",
      ">>>>>>>>>> 模\n",
      ">>>>>>>>>> 拟\n",
      ">>>>>>>>>> 的\n",
      ">>>>>>>>>> 大\n",
      ">>>>>>>>>> 语\n",
      ">>>>>>>>>> 言\n",
      ">>>>>>>>>> 模\n",
      ">>>>>>>>>> 型\n",
      "{'output': {'__end__': ['AAA', '你好，我是一个模拟的大语言模型']}}\n"
     ]
    }
   ],
   "source": [
    "# RUN\n",
    "async for chunk in app.astream_events([], version=\"v1\"):\n",
    "    # print(\" \"*10, chunk['event'], chunk['name'], chunk['tags'])\n",
    "    if(chunk['event']==\"on_chain_stream\" and chunk['name'] in [\"a\", \"b\"]):\n",
    "        print(\">\"*10, chunk['data']['chunk'])\n",
    "    elif(chunk['event']==\"on_chain_end\" and chunk['name']=='LangGraph'):\n",
    "        print(chunk['data'])"
   ]
  },
  {
   "cell_type": "markdown",
   "id": "75be8467-64a0-434a-98b2-de707fe09d5d",
   "metadata": {},
   "source": [
    "# StateGraph 和 Chain 节点"
   ]
  },
  {
   "cell_type": "markdown",
   "id": "5360e94c-d5a6-4331-8209-00b5a216569f",
   "metadata": {},
   "source": [
    "## 定义 Chain"
   ]
  },
  {
   "cell_type": "code",
   "execution_count": 491,
   "id": "8ed78778-ed99-409b-ab33-30aa88850aa8",
   "metadata": {},
   "outputs": [],
   "source": [
    "from langchain.prompts.chat import ChatPromptTemplate, MessagesPlaceholder\n",
    "from langchain_core.runnables import RunnableParallel\n",
    "from langchain.llms.fake import FakeStreamingListLLM\n",
    "\n",
    "llm = FakeStreamingListLLM(responses=[\"\"\"\n",
    "\"你好，我是一个模拟的大语言模型\"\n",
    "\"\"\"])\n",
    "\n",
    "chat_prompt = ChatPromptTemplate.from_messages([\n",
    "    (\"system\", \"你是一个有用的AI助手\"),\n",
    "    MessagesPlaceholder(variable_name=\"messages\")\n",
    "])\n",
    "\n",
    "chain = RunnableParallel(\n",
    "    messages = { \"messages\": lambda x: x['messages'] } | chat_prompt | llm\n",
    ")"
   ]
  },
  {
   "cell_type": "markdown",
   "id": "21065b8b-51ac-43a7-b3ed-c7a2107ad59a",
   "metadata": {},
   "source": [
    "## 定义图"
   ]
  },
  {
   "cell_type": "code",
   "execution_count": 492,
   "id": "0767ee6f-9917-41b1-9e37-47712c3003ef",
   "metadata": {},
   "outputs": [],
   "source": [
    "from typing import T, TypedDict, Annotated, Sequence, Union, Any, List, Iterator, AsyncIterator, Optional\n",
    "from langchain_core.runnables import Runnable, RunnableConfig, RunnableSerializable\n",
    "from langchain_core.outputs import Generation\n",
    "from langchain_core.messages import BaseMessage, AnyMessage\n",
    "from langgraph.graph import StateGraph, MessageGraph, END\n",
    "import operator\n",
    "\n",
    "from langchain_core.runnables import RunnablePassthrough\n",
    "\n",
    "from langchain_core.messages import AIMessage\n",
    "from langchain_core.runnables.utils import (\n",
    "    AddableDict,\n",
    "    AnyConfigurableField,\n",
    "    ConfigurableField,\n",
    "    ConfigurableFieldSpec,\n",
    "    Input,\n",
    "    Output,\n",
    ")\n",
    "\n",
    "def nodeA(state):\n",
    "    return {\"messages\": [\"AAA\"]}\n",
    "\n",
    "# 定义状态\n",
    "Messages = Union[dict[list[AnyMessage]], list[AnyMessage], AnyMessage]\n",
    "\n",
    "def add_messages(left: Messages, right: Messages) -> Messages:\n",
    "    print(\"log: add_messages\", \"[\", left, \",\", right, \"]\")\n",
    "    if not isinstance(left, list):\n",
    "        left = [left]\n",
    "    if not isinstance(right, list):\n",
    "        right = [right]\n",
    "    return left + right\n",
    "\n",
    "class AgentState(TypedDict):\n",
    "    messages: Annotated[Sequence[str], add_messages]\n",
    "\n",
    "# 定义图\n",
    "workflow = StateGraph(AgentState)\n",
    "\n",
    "workflow.add_node(\"__Node_A__\", nodeA)\n",
    "workflow.add_node(\"__Node_B__\", chain)\n",
    "\n",
    "workflow.add_edge(\"__Node_A__\", \"__Node_B__\")\n",
    "workflow.add_edge(\"__Node_B__\", END)\n",
    "\n",
    "workflow.set_entry_point(\"__Node_A__\")\n",
    "\n",
    "app = workflow.compile()"
   ]
  },
  {
   "cell_type": "markdown",
   "id": "c6a1ba72-d3f3-4dc2-98af-9b8577b2c7c4",
   "metadata": {},
   "source": [
    "## 运行"
   ]
  },
  {
   "cell_type": "code",
   "execution_count": 493,
   "id": "8b4dbe16-7de4-48ff-85d6-d4755dbbe44e",
   "metadata": {},
   "outputs": [
    {
     "name": "stdout",
     "output_type": "stream",
     "text": [
      "-------------------- invoke --------------------\n",
      "log: add_messages [ [('user', 'hi')] , ['AAA'] ]\n",
      "log: add_messages [ [('user', 'hi'), 'AAA'] , \n",
      "\"你好，我是一个模拟的大语言模型\"\n",
      " ]\n",
      "{'messages': [('user', 'hi'), 'AAA', '\\n\"你好，我是一个模拟的大语言模型\"\\n']}\n",
      "-------------------- stream --------------------\n",
      "log: add_messages [ [('user', 'hi')] , ['AAA'] ]\n",
      "{'__Node_A__': {'messages': ['AAA']}}\n",
      "log: add_messages [ [('user', 'hi'), 'AAA'] , \n",
      "\"你好，我是一个模拟的大语言模型\"\n",
      " ]\n",
      "{'__Node_B__': {'messages': '\\n\"你好，我是一个模拟的大语言模型\"\\n'}}\n",
      "{'__end__': {'messages': [('user', 'hi'), 'AAA', '\\n\"你好，我是一个模拟的大语言模型\"\\n']}}\n",
      "-------------------- astream --------------------\n",
      "log: add_messages [ [('user', 'hi')] , ['AAA'] ]\n",
      "{'__Node_A__': {'messages': ['AAA']}}\n",
      "log: add_messages [ [('user', 'hi'), 'AAA'] , \n",
      "\"你好，我是一个模拟的大语言模型\"\n",
      " ]\n",
      "{'__Node_B__': {'messages': '\\n\"你好，我是一个模拟的大语言模型\"\\n'}}\n",
      "{'__end__': {'messages': [('user', 'hi'), 'AAA', '\\n\"你好，我是一个模拟的大语言模型\"\\n']}}\n",
      "-------------------- astream_events --------------------\n",
      "log: add_messages [ [('user', 'hi')] , ['AAA'] ]\n",
      ">>>>>>>>>> {'messages': '\\n'}\n",
      ">>>>>>>>>> {'messages': '\"'}\n",
      ">>>>>>>>>> {'messages': '你'}\n",
      ">>>>>>>>>> {'messages': '好'}\n",
      ">>>>>>>>>> {'messages': '，'}\n",
      ">>>>>>>>>> {'messages': '我'}\n",
      ">>>>>>>>>> {'messages': '是'}\n",
      ">>>>>>>>>> {'messages': '一'}\n",
      ">>>>>>>>>> {'messages': '个'}\n",
      ">>>>>>>>>> {'messages': '模'}\n",
      ">>>>>>>>>> {'messages': '拟'}\n",
      ">>>>>>>>>> {'messages': '的'}\n",
      ">>>>>>>>>> {'messages': '大'}\n",
      ">>>>>>>>>> {'messages': '语'}\n",
      ">>>>>>>>>> {'messages': '言'}\n",
      ">>>>>>>>>> {'messages': '模'}\n",
      ">>>>>>>>>> {'messages': '型'}\n",
      ">>>>>>>>>> {'messages': '\"'}\n",
      ">>>>>>>>>> {'messages': '\\n'}\n",
      "log: add_messages [ [('user', 'hi'), 'AAA'] , \n",
      "\"你好，我是一个模拟的大语言模型\"\n",
      " ]\n",
      "{'output': {'__end__': {'messages': [('user', 'hi'), 'AAA', '\\n\"你好，我是一个模拟的大语言模型\"\\n']}}}\n"
     ]
    }
   ],
   "source": [
    "# invoke\n",
    "print(\"-\"*20, \"invoke\", \"-\"*20)\n",
    "print(app.invoke({\"messages\": [(\"user\", \"hi\")]}))\n",
    "\n",
    "# stream\n",
    "print(\"-\"*20, \"stream\", \"-\"*20)\n",
    "for chunk in app.stream({\"messages\": [(\"user\", \"hi\")]}):\n",
    "    print(chunk)\n",
    "\n",
    "# astream\n",
    "print(\"-\"*20, \"astream\", \"-\"*20)\n",
    "async for chunk in app.astream({\"messages\": [(\"user\", \"hi\")]}):\n",
    "    print(chunk)\n",
    "\n",
    "# astream_events\n",
    "print(\"-\"*20, \"astream_events\", \"-\"*20)\n",
    "async for chunk in app.astream_events({\"messages\": [(\"user\", \"hi\")]}, version=\"v1\"):\n",
    "    # print(\" \"*10, chunk['name'], chunk['event'], chunk['tags'])\n",
    "    if(chunk['event']==\"on_chain_stream\" and chunk['name']==\"__Node_B__\"):        \n",
    "        print(\">\"*10, chunk['data']['chunk'])\n",
    "    elif(chunk['event']==\"on_chain_end\" and chunk['name']=='LangGraph'):\n",
    "        print(chunk['data'])"
   ]
  },
  {
   "cell_type": "markdown",
   "id": "22e78746-1fbd-48db-87c8-8aa1f5a5f46d",
   "metadata": {},
   "source": [
    "# Tools-Calling V1：简单的框架"
   ]
  },
  {
   "cell_type": "markdown",
   "id": "2c606924-072e-498b-b79b-9f4ebda693a3",
   "metadata": {},
   "source": [
    "## 构建智能体框架"
   ]
  },
  {
   "cell_type": "code",
   "execution_count": 496,
   "id": "df822818-837d-452f-9f1e-39fa96d06b87",
   "metadata": {},
   "outputs": [],
   "source": [
    "import json\n",
    "import operator\n",
    "from typing import Annotated, Sequence, TypedDict, Union\n",
    "\n",
    "from langchain_core.language_models import LanguageModelLike\n",
    "from langchain_core.messages import (\n",
    "    BaseMessage,\n",
    "    AIMessage,\n",
    "    HumanMessage,\n",
    "    ToolMessage\n",
    ")\n",
    "from langchain_core.runnables import RunnableLambda\n",
    "from langchain_core.tools import BaseTool\n",
    "from langchain_core.utils.function_calling import convert_to_openai_tool\n",
    "\n",
    "from langgraph.graph import END, MessageGraph\n",
    "from langgraph.prebuilt.tool_executor import ToolExecutor, ToolInvocation\n",
    "\n",
    "def create_tool_calling_executor(\n",
    "\tmodel: LanguageModelLike,\n",
    "\ttools: Union[ToolExecutor, Sequence[BaseTool]],\n",
    "):\n",
    "\tif isinstance(tools, ToolExecutor):\n",
    "\t\ttool_executor = tools\n",
    "\t\ttool_classes = tools.tools\n",
    "\telse:\n",
    "\t\ttool_executor = ToolExecutor(tools)\n",
    "\t\ttool_classes = tools\n",
    "\n",
    "\treasoning_chain = (\n",
    "\t\tmodel.bind(tools=[convert_to_openai_tool(t) for t in tool_classes])\n",
    "\t)\n",
    "\t\n",
    "\tdef should_continue(messages):\n",
    "\t\tlast_message = messages[-1]\n",
    "\t\tif \"tool_calls\" not in last_message.additional_kwargs:\n",
    "\t\t\treturn \"end\"\n",
    "\t\telse:\n",
    "\t\t\treturn \"continue\"\n",
    "\n",
    "\tdef _get_actions(messages):\n",
    "\t\tlast_message = messages[-1]\n",
    "\t\treturn (\n",
    "\t\t\t[\n",
    "\t\t\t\tToolInvocation(\n",
    "\t\t\t\t\ttool=tool_call[\"function\"][\"name\"],\n",
    "\t\t\t\t\ttool_input=json.loads(tool_call[\"function\"][\"arguments\"]),\n",
    "\t\t\t\t)\n",
    "\t\t\t\tfor tool_call in last_message.additional_kwargs[\"tool_calls\"]\n",
    "\t\t\t],\n",
    "\t\t\t[\n",
    "\t\t\t\ttool_call[\"id\"]\n",
    "\t\t\t\tfor tool_call in last_message.additional_kwargs[\"tool_calls\"]\n",
    "\t\t\t],\n",
    "\t\t)\n",
    "\n",
    "\tdef call_tool(messages):\n",
    "\t\tactions, ids = _get_actions(messages)\n",
    "\t\tresponses = tool_executor.batch(actions)\n",
    "\t\tassert len(actions) == len(responses), \"The number of actions and responses should be the same\"\n",
    "\t\ttool_messages = [\n",
    "\t\t\tToolMessage(content=str(response), tool_call_id=id)\n",
    "\t\t\tfor response, id in zip(responses, ids)\n",
    "\t\t]\n",
    "\t\treturn tool_messages\n",
    "\n",
    "\tasync def acall_tool(messages):\n",
    "\t\tactions, ids = _get_actions(messages)\n",
    "\t\tresponses = await tool_executor.abatch(actions)\n",
    "\t\ttool_messages = [\n",
    "\t\t\tToolMessage(content=str(response), tool_call_id=id)\n",
    "\t\t\tfor response, id in zip(responses, ids)\n",
    "\t\t]\n",
    "\t\treturn tool_messages\n",
    "\n",
    "\tworkflow = MessageGraph()\n",
    "\n",
    "\tworkflow.add_node(\"agent\", reasoning_chain)\n",
    "\tworkflow.add_node(\"action\", RunnableLambda(call_tool, acall_tool))\n",
    "\n",
    "\tworkflow.set_entry_point(\"agent\")\n",
    "\n",
    "\tworkflow.add_conditional_edges(\n",
    "\t\t\"agent\",\n",
    "\t\tshould_continue,\n",
    "\t\t{\n",
    "\t\t\t\"continue\": \"action\",\n",
    "\t\t\t\"end\": END,\n",
    "\t\t},\n",
    "\t)\n",
    "\n",
    "\tworkflow.add_edge(\"action\", \"agent\")\n",
    "\n",
    "\treturn workflow.compile()"
   ]
  },
  {
   "cell_type": "markdown",
   "id": "30538341-09d3-4446-bbad-0df1d352fb3a",
   "metadata": {},
   "source": [
    "## 定义工具集"
   ]
  },
  {
   "cell_type": "code",
   "execution_count": 515,
   "id": "45421a16-0e49-4393-a5fb-f4d8b577e2a2",
   "metadata": {},
   "outputs": [],
   "source": [
    "from langchain.tools import BaseTool, StructuredTool, tool\n",
    "from langchain.llms.fake import FakeStreamingListLLM\n",
    "\n",
    "@tool\n",
    "def search(query: str) -> str:\n",
    "    \"\"\"Look up things online.\"\"\"\n",
    "    return \"LangChain-Chinese 是一个专门优化中文大语言模型在 langchain 中使用的模块。\"\n",
    "\n",
    "@tool\n",
    "def talk_joke(query: str) -> str:\n",
    "    \"\"\"当别人要求你讲笑话时，你可以直接引用我讲的笑话\"\"\"\n",
    "    llm = FakeStreamingListLLM(responses=[\"从前有一个笨蛋，最后笨死了。\"])\n",
    "    return llm.invoke(query)\n",
    "\n",
    "tools = [search, talk_joke]"
   ]
  },
  {
   "cell_type": "markdown",
   "id": "0969bc4c-c024-452e-854d-c95dcde43c83",
   "metadata": {},
   "source": [
    "## 定义智能体"
   ]
  },
  {
   "cell_type": "code",
   "execution_count": 516,
   "id": "dfe78686-58ae-474e-bdeb-cac718f717a8",
   "metadata": {},
   "outputs": [],
   "source": [
    "from langchain_openai import ChatOpenAI\n",
    "\n",
    "model = ChatOpenAI(temperature=0, streaming=True)\n",
    "\n",
    "app = create_tool_calling_executor(model, tools)"
   ]
  },
  {
   "cell_type": "markdown",
   "id": "948d74f7-a4fe-47ee-94c4-c8e80f07466d",
   "metadata": {},
   "source": [
    "## 运行"
   ]
  },
  {
   "cell_type": "code",
   "execution_count": 542,
   "id": "37d2a5eb-90ca-472b-9739-dac007f5d1c0",
   "metadata": {},
   "outputs": [
    {
     "name": "stdout",
     "output_type": "stream",
     "text": [
      "-------------------- astream_events --------------------\n",
      "_______\n",
      " [ToolMessage(content='从前有一个笨蛋，最后笨死了。', tool_call_id='call_dUIcWuuZEA79H5FsqnseX91e')] \n",
      "\n",
      "_哈_哈_，_这_个_笑_话_有_点_冷_！_需要_我_再_给_你_讲_一个_吗_？__\n",
      "\n",
      "{'output': {'__end__': ['给我讲一个笑话', AIMessageChunk(content='', additional_kwargs={'tool_calls': [{'index': 0, 'id': 'call_dUIcWuuZEA79H5FsqnseX91e', 'function': {'arguments': '{\"query\":\"random\"}', 'name': 'talk_joke'}, 'type': 'function'}]}), ToolMessage(content='从前有一个笨蛋，最后笨死了。', tool_call_id='call_dUIcWuuZEA79H5FsqnseX91e'), AIMessageChunk(content='哈哈，这个笑话有点冷！需要我再给你讲一个吗？')]}}\n"
     ]
    }
   ],
   "source": [
    "print(\"-\"*20, \"astream_events\", \"-\"*20)\n",
    "async for chunk in app.astream_events('给我讲一个笑话', version=\"v1\"):\n",
    "    # print(\" \"*10, chunk['name'], chunk['event'], chunk['tags'])\n",
    "    if(chunk['event']==\"on_chain_stream\" and chunk['name'] in [\"agent\", \"action\"]):\n",
    "        c = chunk['data']['chunk']\n",
    "        if hasattr(c, 'content'):\n",
    "            print(c.content, end=\"_\")\n",
    "        else:\n",
    "            print(\"\\n\", c, \"\\n\")\n",
    "    elif(chunk['event']==\"on_chain_end\" and chunk['name']=='LangGraph'):\n",
    "        print(\"\\n\")\n",
    "        print(chunk['data'])"
   ]
  },
  {
   "cell_type": "markdown",
   "id": "8f26a533-76c5-4d67-acac-110875be4138",
   "metadata": {},
   "source": [
    "# Tools-Calling V2：单独处理 Chain"
   ]
  },
  {
   "cell_type": "markdown",
   "id": "4ed99125-a70f-4aea-9370-f0aa9f1b0c04",
   "metadata": {},
   "source": [
    "## 定义智能体框架"
   ]
  },
  {
   "cell_type": "code",
   "execution_count": 110,
   "id": "2cfb36b6-97a7-4b24-a4c5-95f31e819858",
   "metadata": {},
   "outputs": [],
   "source": [
    "import json\n",
    "import operator\n",
    "from typing import Annotated, Sequence, TypedDict, Union\n",
    "\n",
    "from langchain_core.language_models import LanguageModelLike\n",
    "from langchain_core.messages import (\n",
    "\tBaseMessage,\n",
    "\tAIMessage,\n",
    "\tHumanMessage,\n",
    "\tToolMessage\n",
    ")\n",
    "from langchain_core.runnables import RunnableLambda\n",
    "from langchain_core.tools import BaseTool\n",
    "from langchain_core.utils.function_calling import convert_to_openai_tool\n",
    "\n",
    "from langgraph.graph import END, MessageGraph\n",
    "from langgraph.prebuilt.tool_executor import ToolExecutor, ToolInvocation\n",
    "\n",
    "def create_tool_calling_executor(\n",
    "\tmodel: LanguageModelLike,\n",
    "\ttools: Union[ToolExecutor, Sequence[BaseTool]],\n",
    "\tchains: dict,\n",
    "):\n",
    "\tif isinstance(tools, ToolExecutor):\n",
    "\t\ttool_executor = tools\n",
    "\t\ttool_classes = tools.tools\n",
    "\telse:\n",
    "\t\ttool_executor = ToolExecutor(tools)\n",
    "\t\ttool_classes = tools\n",
    "\n",
    "\treasoning_chain = (\n",
    "\t\tmodel.bind(tools=[convert_to_openai_tool(t) for t in tool_classes])\n",
    "\t)\n",
    "\t\n",
    "\tdef should_continue(messages):\n",
    "\t\tlast_message = messages[-1]\n",
    "\t\tif \"tool_calls\" not in last_message.additional_kwargs:\n",
    "\t\t\treturn \"end\"\n",
    "\t\telse:\n",
    "\t\t\ttool_call = last_message.additional_kwargs[\"tool_calls\"][0]\n",
    "\t\t\ttool_name = tool_call[\"function\"][\"name\"]\n",
    "\t\t\tprint(\"tool-name: \", tool_name)\n",
    "\t\t\tif tool_name in chains:\n",
    "\t\t\t\tprint(f\"log: call chain [{tool_name}]\")\n",
    "\t\t\t\treturn tool_name\n",
    "\t\t\telse:\n",
    "\t\t\t\tprint(f\"log: call tool [{tool_name}]\")\n",
    "\t\t\t\treturn \"tools-callback\"\n",
    "\n",
    "\tdef _get_actions(messages):\n",
    "\t\tlast_message = messages[-1]\n",
    "\t\treturn (\n",
    "\t\t\t[\n",
    "\t\t\t\tToolInvocation(\n",
    "\t\t\t\t\ttool=tool_call[\"function\"][\"name\"],\n",
    "\t\t\t\t\ttool_input=json.loads(tool_call[\"function\"][\"arguments\"]),\n",
    "\t\t\t\t)\n",
    "\t\t\t\tfor tool_call in last_message.additional_kwargs[\"tool_calls\"]\n",
    "\t\t\t],\n",
    "\t\t\t[\n",
    "\t\t\t\ttool_call[\"id\"]\n",
    "\t\t\t\tfor tool_call in last_message.additional_kwargs[\"tool_calls\"]\n",
    "\t\t\t],\n",
    "\t\t)\n",
    "\n",
    "\tdef call_tool(messages):\n",
    "\t\tactions, ids = _get_actions(messages)\n",
    "\t\tresponses = tool_executor.batch(actions)\n",
    "\t\tassert len(actions) == len(responses), \"The number of actions and responses should be the same\"\n",
    "\t\ttool_messages = [\n",
    "\t\t\tToolMessage(content=str(response), tool_call_id=id)\n",
    "\t\t\tfor response, id in zip(responses, ids)\n",
    "\t\t]\n",
    "\t\treturn tool_messages\n",
    "\n",
    "\tasync def acall_tool(messages):\n",
    "\t\tactions, ids = _get_actions(messages)\n",
    "\t\tresponses = await tool_executor.abatch(actions)\n",
    "\t\ttool_messages = [\n",
    "\t\t\tToolMessage(content=str(response), tool_call_id=id)\n",
    "\t\t\tfor response, id in zip(responses, ids)\n",
    "\t\t]\n",
    "\t\treturn tool_messages\n",
    "\n",
    "\tworkflow = MessageGraph()\n",
    "\n",
    "\tworkflow.add_node(\"agent\", reasoning_chain)\n",
    "\tworkflow.add_node(\"action\", RunnableLambda(call_tool, acall_tool))\n",
    "\tfor chain_name in chains:\n",
    "\t\tworkflow.add_node(chain_name, chains[chain_name])\n",
    "\n",
    "\tworkflow.set_entry_point(\"agent\")\n",
    "\n",
    "\tconditions = {\n",
    "\t\t\"tools-callback\": \"action\",\n",
    "\t\t\"end\": END,\n",
    "\t}\n",
    "\tfor chain_name in chains:\n",
    "\t\tconditions[chain_name] = chain_name\n",
    "\tworkflow.add_conditional_edges(\"agent\", should_continue, conditions)\n",
    "\n",
    "\tworkflow.add_edge(\"action\", \"agent\")\n",
    "\tfor chain_name in chains:\n",
    "\t\tworkflow.add_edge(chain_name, END)\n",
    "\n",
    "\treturn workflow.compile()"
   ]
  },
  {
   "cell_type": "code",
   "execution_count": 111,
   "id": "860a5c2c-c7fc-4352-a4c2-7596e94a52ca",
   "metadata": {},
   "outputs": [],
   "source": [
    "from langchain.tools import BaseTool, StructuredTool, tool\n",
    "from langchain.chat_models.fake import FakeListChatModel\n",
    "\n",
    "@tool\n",
    "def search(query: str) -> str:\n",
    "    \"\"\"Look up things online.\"\"\"\n",
    "    return \"LangChain-Chinese 是一个专门优化中文大语言模型在 langchain 中使用的模块。\"\n",
    "\n",
    "llm = FakeListChatModel(responses=['从前有一个笨蛋，最后笨死了。'])\n",
    "\n",
    "@tool\n",
    "def talk_joke(query: str) -> str:\n",
    "    \"\"\"当别人要求你讲笑话时，你可以直接引用我讲的笑话\"\"\"\n",
    "    return llm.invoke(query)\n",
    "\n",
    "tools = [search, talk_joke]\n",
    "chains = {\"talk_joke\": llm}"
   ]
  },
  {
   "cell_type": "code",
   "execution_count": 112,
   "id": "c09040e4-5077-46c5-985b-3705eb0b2277",
   "metadata": {},
   "outputs": [],
   "source": [
    "from langchain_openai import ChatOpenAI\n",
    "\n",
    "model = ChatOpenAI(temperature=0, streaming=True)\n",
    "\n",
    "app = create_tool_calling_executor(model, tools, chains)"
   ]
  },
  {
   "cell_type": "code",
   "execution_count": 113,
   "id": "ba7fa4b8-e704-4e82-af38-8c5d129222f7",
   "metadata": {},
   "outputs": [
    {
     "name": "stdout",
     "output_type": "stream",
     "text": [
      "-------------------- astream_events --------------------\n",
      "_______tool-name:  talk_joke\n",
      "log: call chain [talk_joke]\n",
      "从_前_有_一_个_笨_蛋_，_最_后_笨_死_了_。_\n",
      "\n",
      "{'output': {'__end__': ['给我讲一个笑话', AIMessageChunk(content='', additional_kwargs={'tool_calls': [{'index': 0, 'id': 'call_3S7M4VFvNMdvVjIRnAlZexpo', 'function': {'arguments': '{\"query\":\"random\"}', 'name': 'talk_joke'}, 'type': 'function'}]}), AIMessageChunk(content='从前有一个笨蛋，最后笨死了。')]}}\n"
     ]
    }
   ],
   "source": [
    "print(\"-\"*20, \"astream_events\", \"-\"*20)\n",
    "async for chunk in app.astream_events('给我讲一个笑话', version=\"v1\"):\n",
    "    # print(\" \"*10, chunk['name'], chunk['event'], chunk['tags'])\n",
    "    if(chunk['event']==\"on_chain_stream\" and chunk['name'] in [\"agent\", \"action\", \"talk_joke\"]):\n",
    "        c = chunk['data']['chunk']\n",
    "        if hasattr(c, 'content'):\n",
    "            print(c.content, end=\"_\")\n",
    "        else:\n",
    "            print(c)\n",
    "    elif(chunk['event']==\"on_chain_end\" and chunk['name']=='LangGraph'):\n",
    "        print(\"\\n\")\n",
    "        print(chunk['data'])"
   ]
  },
  {
   "cell_type": "code",
   "execution_count": 54,
   "id": "139234e8",
   "metadata": {},
   "outputs": [
    {
     "name": "stdout",
     "output_type": "stream",
     "text": [
      "talk_joke\n"
     ]
    }
   ],
   "source": [
    "s = \"('talk_joke',)\"\n",
    "m = re.search(r\"(\\w+)\", s)\n",
    "print(m.group(1))"
   ]
  },
  {
   "cell_type": "markdown",
   "id": "f44034dc-6260-449d-a8fd-f87e18771e18",
   "metadata": {},
   "source": [
    "# chat_agent_executor"
   ]
  },
  {
   "cell_type": "code",
   "execution_count": 2,
   "id": "1c424d83-a877-4181-aa3e-4a822e8aa605",
   "metadata": {},
   "outputs": [],
   "source": [
    "from langchain_openai import ChatOpenAI\n",
    "from langchain_community.tools.tavily_search import TavilySearchResults\n",
    "from langgraph.prebuilt import chat_agent_executor\n",
    "from langchain_core.messages import HumanMessage\n",
    "\n",
    "tools = [TavilySearchResults(max_results=1)]\n",
    "model = ChatOpenAI(streaming=True)\n",
    "\n",
    "app = chat_agent_executor.create_tool_calling_executor(model, tools)"
   ]
  },
  {
   "cell_type": "code",
   "execution_count": 3,
   "id": "94f595b6-c377-428f-b651-09a672e04765",
   "metadata": {},
   "outputs": [],
   "source": [
    "inputs = {\"messages\": [HumanMessage(content=\"霍金的生日是哪一天？\")]}"
   ]
  },
  {
   "cell_type": "code",
   "execution_count": null,
   "id": "f1c2e45f-6c34-48ef-b466-2fb12b1feae1",
   "metadata": {},
   "outputs": [],
   "source": [
    "for chunk in app.stream(inputs):\n",
    "    print(chunk)"
   ]
  },
  {
   "cell_type": "code",
   "execution_count": null,
   "id": "44deb6bd-5e98-4483-baa4-4a83d98d4e93",
   "metadata": {},
   "outputs": [],
   "source": [
    "async for output in app.astream_log(inputs, include_types=[\"llm\"]):\n",
    "    # astream_log() yields the requested logs (here LLMs) in JSONPatch format\n",
    "    for op in output.ops:\n",
    "        if op[\"path\"] == \"/streamed_output/-\":\n",
    "            # this is the output from .stream()\n",
    "            ...\n",
    "            print(op[\"value\"])\n",
    "        elif op[\"path\"].startswith(\"/logs/\") and op[\"path\"].endswith(\n",
    "            \"/streamed_output/-\"\n",
    "        ):\n",
    "            # because we chose to only include LLMs, these are LLM tokens\n",
    "            print(op[\"value\"])"
   ]
  },
  {
   "cell_type": "code",
   "execution_count": null,
   "id": "b28b3d83-1814-4bcc-91bb-8ee918cdb9e1",
   "metadata": {},
   "outputs": [],
   "source": [
    "async for chunk in app.astream_events(inputs, version=\"v1\"):\n",
    "    print(\"\\n\")\n",
    "    print(\"-\"*80)\n",
    "    print(f\"name: {chunk['name']}\")\n",
    "    print(f\"tags: {chunk['tags']}\")\n",
    "    print(f\"event: {chunk['event']}\")\n",
    "    if(chunk['event']==\"on_chain_stream\"):\n",
    "        m = chunk['data']['chunk']\n",
    "        if \"messages\" in m:\n",
    "            for x in m[\"messages\"]:\n",
    "                print(x.content, end=\"|\", flush=True)\n"
   ]
  },
  {
   "cell_type": "markdown",
   "id": "221c4aa1-b4c2-4b13-8fd0-033fd6b030a2",
   "metadata": {},
   "source": [
    "# 从智能体中提取对话信息"
   ]
  },
  {
   "cell_type": "markdown",
   "id": "7ad7bfc8-71ca-4d2d-9c3f-af377ebc4eb6",
   "metadata": {},
   "source": [
    "您可以通过定义一个“记忆器”（通常可以是一个队列或者其他类型的数据结构，用于临时存储数据）来实现这个功能。这种方法允许您在服务器端持续将数据写入到这个记忆器中，同时客户端可以异步地读取这些数据，直到所有流式结果都被处理完毕。这种模式在处理实时数据流、日志监控或者其他需要实时数据更新的场景中非常有用。\n",
    "\n",
    "以下是实现这一功能的大致步骤和示例代码：\n",
    "\n",
    "步骤 1：定义记忆器\n",
    "记忆器可以是一个简单的队列（如 Python 的 queue.Queue），用于在生产者（数据生成函数）和消费者（客户端请求处理函数）之间传递消息。\n",
    "\n",
    "步骤 2：数据生成函数循环写入记忆器\n",
    "您的数据生成函数（或者其他逻辑）会在循环中生成数据，并将这些数据写入到记忆器中。\n",
    "\n",
    "步骤 3：客户端异步读取记忆器\n",
    "通过一个特定的 API 端点，客户端可以开始读取记忆器中的数据。服务器端可以使用异步处理来实时发送记忆器中的数据给客户端，直到所有数据都被发送。\n",
    "\n",
    "示例代码\n",
    "```python\n",
    "from fastapi import FastAPI, WebSocket\n",
    "import asyncio\n",
    "from typing import List\n",
    "\n",
    "app = FastAPI()\n",
    "\n",
    "# 定义一个简单的记忆器，这里使用列表模拟\n",
    "memory = []\n",
    "\n",
    "# 数据生成函数，模拟数据产生并写入记忆器\n",
    "async def generate_data():\n",
    "    for i in range(10):\n",
    "        await asyncio.sleep(1)  # 模拟异步操作\n",
    "        memory.append(f\"Data {i}\")  # 将数据写入记忆器\n",
    "\n",
    "# WebSocket路由，客户端通过WebSocket连接读取数据\n",
    "@app.websocket(\"/ws\")\n",
    "async def websocket_endpoint(websocket: WebSocket):\n",
    "    await websocket.accept()\n",
    "    # 启动数据生成任务，但不等待它完成\n",
    "    task = asyncio.create_task(generate_data())\n",
    "    while not task.done() or memory:  # 检查任务是否完成或记忆器中是否有数据\n",
    "        if memory:  # 如果记忆器中有数据，则发送给客户端\n",
    "            data_to_send = memory.pop(0)  # 获取记忆器中的第一个数据并发送\n",
    "            await websocket.send_text(data_to_send)\n",
    "        else:\n",
    "            await asyncio.sleep(0.1)  # 等待更多数据生成\n",
    "    await websocket.close()\n",
    "```\n",
    "在这个示例中，generate_data 函数模拟了数据生成过程，将数据逐个写入全局变量 memory 中。通过 WebSocket 连接，客户端可以实时地接收这些数据。服务器在有数据可发送时通过 WebSocket 向客户端发送数据，直到数据生成任务完成并且记忆器中的所有数据都被发送。\n",
    "\n",
    "请注意，这里使用全局变量作为记忆器仅用于示"
   ]
  }
 ],
 "metadata": {
  "kernelspec": {
   "display_name": "langchani-book-py3.10-ipykernel",
   "language": "python",
   "name": "langchani-book-py3.10-ipykernel"
  },
  "language_info": {
   "codemirror_mode": {
    "name": "ipython",
    "version": 3
   },
   "file_extension": ".py",
   "mimetype": "text/x-python",
   "name": "python",
   "nbconvert_exporter": "python",
   "pygments_lexer": "ipython3",
   "version": "3.10.0"
  }
 },
 "nbformat": 4,
 "nbformat_minor": 5
}
