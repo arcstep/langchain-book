{
 "cells": [
  {
   "cell_type": "markdown",
   "id": "04519eac-97e7-4a33-97ba-d1e44a9594ba",
   "metadata": {},
   "source": [
    "# 《手撕AutoGPT》精细拆解"
   ]
  },
  {
   "cell_type": "markdown",
   "id": "947075bc-aab0-4093-928b-2623f3d9f7d3",
   "metadata": {},
   "source": [
    "<div class=\"alert alert-warning\">\n",
    "<b>实例来源：</b><br/>\n",
    "本文中的实例主要来自AGI课堂培训内容《手撕AutoGPT》，感谢王卓然老师提供了优秀的核心代码实现。<p>\n",
    "</div>\n",
    "\n",
    "那为什么还要专门编写一篇文章重复王卓然老师讲过内容呢？\n",
    "\n",
    "因为智能体的内容比较复杂，本文根据王卓然老师的视频讲解课程和代码示例，进一步拆解为 JupyterLab 上运行，并探索了结合AgentExcuter实现，以便更好融入到 langchain 的体系结构。"
   ]
  },
  {
   "cell_type": "markdown",
   "id": "8c5d4226-6e37-4f5a-a40d-298fa0ce7cdf",
   "metadata": {},
   "source": [
    "## 阅读本文后你可以获得"
   ]
  },
  {
   "cell_type": "markdown",
   "id": "d9a2f344-fbb5-4303-a68b-3ce3553d2fa6",
   "metadata": {},
   "source": [
    "1. 在 Jupyter 的笔记模式下，从零开始构建一个复杂的智能体\n",
    "2. 拆开智能体的零部件，单步骤执行，了解智能体的运行机理\n",
    "3. 将零部件组装好，构建一个智能体类\n",
    "4. 将自定义的智能体装入到 langchain 中的 AgentExcuter 框架中运行"
   ]
  },
  {
   "cell_type": "markdown",
   "id": "c81b87b4-f3d4-4553-ae7c-7437d7af55ce",
   "metadata": {
    "editable": true,
    "slideshow": {
     "slide_type": ""
    },
    "tags": []
   },
   "source": [
    "## 实现思路"
   ]
  },
  {
   "cell_type": "markdown",
   "id": "05cdb9d5-b47d-448b-8dee-d0de059fc556",
   "metadata": {},
   "source": [
    "### 构建智能体的一般性思路"
   ]
  },
  {
   "cell_type": "markdown",
   "id": "80f13491-f60c-4b4d-ba77-206229bdd860",
   "metadata": {},
   "source": [
    "如果要将大模型融入到你的应用中，最佳的方案是构建一个智能体。\n",
    "\n",
    "常见的智能体结构都会包含三个核心环节：\n",
    "- 思考\n",
    "- 行动\n",
    "- 观察\n",
    "\n",
    "其中，图中Planning部份是**思考环节**，这是最重要的环节，也是典型的 LLM+Prompt+OutputParser 的结构。\n",
    "\n",
    "智能体的LLM必须是推理能力足够强的大模型，例如GPT4，否则无法完成任务。<br>\n",
    "智能体的Prompt一般依照相关论文的思路拟定思考逻辑，例如 ReAct 模式，下面的实践中还会包括反思、思维链等技巧。<br>\n",
    "智能体需要调度哪个Action、需要什么输入参数，都由OutputParser负责解析。\n",
    "\n",
    "如果你希望结合langchain的AgentExcuter，以便获得类似LCEL的福利，还必须提供特定的Prompt字段和输出解析结构。<br>\n",
    "后面的实践会详细解释。\n",
    "\n",
    "图中Action部份就是**行动环节**，就是根据思考结果（或称为计划）去调用工具，这个过程在AgentExcuter中有自己的实现逻辑，如果不使用他就要自己实现。\n",
    "\n",
    "图中的Tools是部份**行动环节**可调用的外部工具，langchain 内置了一部份开箱即用的工具，但更多时候需要自己实现。\n",
    "\n",
    "**观察环节**就是将工具调用的结果装入**思考环节**的提示语中，以便大模型在推理时使用。\n",
    "\n",
    "图中的Memory是记忆部份，是智能体每个步骤或每次任务的执行结果，对应步骤的结果称为短期记忆，对应任务的执行结果称为长期记忆。\n",
    "\n",
    "经过这些环节，智能体的运行就会形成一个完整闭环：思考、行动、观察，再思考、行动、观察 ... 经过N次循环后得出结论，这就是智能体的核心实现逻辑。"
   ]
  },
  {
   "cell_type": "markdown",
   "id": "2988b0ed-8194-4373-861c-7780ca0386d4",
   "metadata": {},
   "source": [
    "![](./images/agent-overview.png)"
   ]
  },
  {
   "cell_type": "markdown",
   "id": "c0f9e2de-5611-45f8-9faf-d54d1baeb077",
   "metadata": {},
   "source": [
    "### 本文中智能体的实现逻辑"
   ]
  },
  {
   "cell_type": "markdown",
   "id": "07ac908e-16a5-4cfc-a62e-766baa124710",
   "metadata": {},
   "source": [
    "本文的实现实现逻辑是典型的ReAct策略，但其中增加了一些思维链技巧：\n",
    "\n",
    "1. 用户输入\n",
    "2. 思考：调用LLM思考\n",
    "3. 判断：根据思考结果，判断是已经获得答案，还是需要调用工具\n",
    "4. 行动：如果调用工具，就在工具箱中执行\n",
    "5. 观察：将执行结果装入短时记忆\n",
    "6. 回到第2步骤继续，直到思考结果中包括了FINISH\n",
    "7. 生成最终答案"
   ]
  },
  {
   "cell_type": "markdown",
   "id": "ba5cb0ff-769b-40cb-80d3-ce1263874ea0",
   "metadata": {},
   "source": [
    "![](./images/agent-flowchart.png)"
   ]
  },
  {
   "cell_type": "markdown",
   "id": "d27d49fa-4ff9-4e73-baef-f8b7dd225a2a",
   "metadata": {},
   "source": [
    "## 准备工作"
   ]
  },
  {
   "cell_type": "markdown",
   "id": "9215cc8c-deb9-48ae-b0af-2c2c7336f35c",
   "metadata": {},
   "source": [
    "### 加载环境变量"
   ]
  },
  {
   "cell_type": "markdown",
   "id": "d83f8d32-f84a-4e81-95b2-918c82b4c478",
   "metadata": {},
   "source": [
    "你必须自己准备好OpenAI的的Key，在本文中需要使用GPT4的模型。"
   ]
  },
  {
   "cell_type": "code",
   "execution_count": 1,
   "id": "fcdf9aac-55e3-42ba-8612-2d02212c78f3",
   "metadata": {},
   "outputs": [
    {
     "data": {
      "text/plain": [
       "True"
      ]
     },
     "execution_count": 1,
     "metadata": {},
     "output_type": "execute_result"
    }
   ],
   "source": [
    "import os\n",
    "from dotenv import load_dotenv, find_dotenv\n",
    "load_dotenv(find_dotenv(), override=True)"
   ]
  },
  {
   "cell_type": "markdown",
   "id": "6a9e8707-0e2c-4694-85ed-40433198ab5b",
   "metadata": {},
   "source": [
    "### 着色打印工具"
   ]
  },
  {
   "cell_type": "markdown",
   "id": "60732a1f-914d-4741-acdb-3f02e2bfb82b",
   "metadata": {},
   "source": [
    "王卓然老师的代码中提供个了几个有趣的小工具，这是其中之一："
   ]
  },
  {
   "cell_type": "code",
   "execution_count": 2,
   "id": "68401182-ee90-4a40-9153-025d677c7756",
   "metadata": {},
   "outputs": [],
   "source": [
    "from colorama import init, Fore, Back, Style\n",
    "import sys\n",
    "\n",
    "THOUGHT_COLOR = Fore.GREEN\n",
    "OBSERVATION_COLOR = Fore.YELLOW\n",
    "ROUND_COLOR = Fore.RED\n",
    "CODE_COLOR = Fore.BLUE\n",
    "\n",
    "def color_print(text, color=None, end=\"\\n\"):\n",
    "    if color is not None:\n",
    "        content = color + text + Style.RESET_ALL + end\n",
    "    else:\n",
    "        content = text + end\n",
    "    sys.stdout.write(content)\n",
    "    sys.stdout.flush()"
   ]
  },
  {
   "cell_type": "markdown",
   "id": "b2c05fca-9a8f-4fcc-9955-2d3e4a4153fe",
   "metadata": {},
   "source": [
    "使用示例："
   ]
  },
  {
   "cell_type": "code",
   "execution_count": 3,
   "id": "74e20ba3-ced6-4d87-9300-64d41120adaf",
   "metadata": {},
   "outputs": [
    {
     "name": "stdout",
     "output_type": "stream",
     "text": [
      "\u001b[32m我现在开始思考...\u001b[0m\n",
      "\u001b[31m第一轮开始了\u001b[0m\n",
      "\u001b[34mdef hello(): \n",
      "    print('hi')\u001b[0m\n"
     ]
    }
   ],
   "source": [
    "color_print(\"我现在开始思考...\", color = THOUGHT_COLOR)\n",
    "color_print(\"第一轮开始了\", color = ROUND_COLOR)\n",
    "color_print(\"def hello(): \\n    print('hi')\", color = CODE_COLOR)"
   ]
  },
  {
   "cell_type": "markdown",
   "id": "138e772a-1df4-452e-80c6-e75e0e455897",
   "metadata": {},
   "source": [
    "### 中文转换工具"
   ]
  },
  {
   "cell_type": "markdown",
   "id": "034acf39-c2c7-466b-9353-421c0b659461",
   "metadata": {},
   "source": [
    "后面在将Pandtic类型转换为提示语的一部份时会用到，没有这部份会输出Unicode编码，很不友好。"
   ]
  },
  {
   "cell_type": "code",
   "execution_count": 4,
   "id": "df5b51d9-b10e-4459-8251-3c297c3c906f",
   "metadata": {},
   "outputs": [],
   "source": [
    "def _chinese_friendly(string) -> str:\n",
    "    lines = string.split('\\n')\n",
    "    for i, line in enumerate(lines):\n",
    "        if line.startswith('{') and line.endswith('}'):\n",
    "            try:\n",
    "                lines[i] = json.dumps(json.loads(line), ensure_ascii=False)\n",
    "            except:\n",
    "                pass\n",
    "    return '\\n'.join(lines)"
   ]
  },
  {
   "cell_type": "markdown",
   "id": "679277c1-f2d3-4e73-b1d3-c4ad38791c81",
   "metadata": {},
   "source": [
    "### 一个Tool的包装函数，将异常转换为文字，以便AgentExecutor使用"
   ]
  },
  {
   "cell_type": "code",
   "execution_count": 5,
   "id": "18cbb6c0-997a-49eb-976c-34f2c57ec3c7",
   "metadata": {},
   "outputs": [],
   "source": [
    "def _safe_func_call(func, *args, **kwargs):\n",
    "    \"\"\"Call a function with any arguments, return error message if an exception is raised\"\"\"\n",
    "    try:\n",
    "        return func(*args, **kwargs)\n",
    "    except Exception as e:\n",
    "        return str(e)\n",
    "\n",
    "from functools import wraps\n",
    "\n",
    "def make_safe_tool(func):\n",
    "    \"\"\"Create a new function that wraps the given function with error handling\"\"\"\n",
    "    @wraps(func)\n",
    "    def wrapper(*args, **kwargs):\n",
    "        try:\n",
    "            return func(*args, **kwargs)\n",
    "        except Exception as e:\n",
    "            return str(e)\n",
    "    return wrapper"
   ]
  },
  {
   "cell_type": "markdown",
   "id": "409fa306-d163-4a0d-86c6-f768c6bfcaac",
   "metadata": {},
   "source": [
    "## tools 定义"
   ]
  },
  {
   "cell_type": "code",
   "execution_count": 6,
   "id": "d8e68c35-4e41-4fdf-b1df-745703c2d9bb",
   "metadata": {},
   "outputs": [],
   "source": [
    "from langchain.agents import Tool\n",
    "from langchain.tools import StructuredTool"
   ]
  },
  {
   "cell_type": "markdown",
   "id": "52470de5-1672-45d3-a58c-a7a1f4dcef4e",
   "metadata": {},
   "source": [
    "### 文件处理"
   ]
  },
  {
   "cell_type": "markdown",
   "id": "061815bd-21e0-4416-97dd-0d85d1021339",
   "metadata": {},
   "source": [
    "#### 列举文件"
   ]
  },
  {
   "cell_type": "code",
   "execution_count": 7,
   "id": "a1113ef2-19a9-41e6-b563-465e20f7cf9f",
   "metadata": {},
   "outputs": [],
   "source": [
    "import os\n",
    "\n",
    "def list_files_in_directory(path: str) -> str:\n",
    "    \"\"\"List all file names in the directory\"\"\"\n",
    "    file_names = os.listdir(path.strip())\n",
    "\n",
    "    return \"\\n\".join(file_names)"
   ]
  },
  {
   "cell_type": "markdown",
   "id": "a61000ea-f088-4531-87e1-ae6fa092a354",
   "metadata": {},
   "source": [
    "#### 定义 tool 函数"
   ]
  },
  {
   "cell_type": "code",
   "execution_count": 8,
   "id": "284992ea-33ee-4372-8031-31b1829adde3",
   "metadata": {},
   "outputs": [],
   "source": [
    "# 输出工具\n",
    "directory_inspection_tool = StructuredTool.from_function(\n",
    "    func=make_safe_tool(list_files_in_directory),\n",
    "    name=\"ListDirectory\",\n",
    "    description=\"探查文件夹的内容和结构，展示它的文件名和文件夹名\",\n",
    ")"
   ]
  },
  {
   "cell_type": "markdown",
   "id": "928d9046-323e-42ed-a373-3f347b5027b7",
   "metadata": {},
   "source": [
    "#### 使用示例"
   ]
  },
  {
   "cell_type": "code",
   "execution_count": 9,
   "id": "07e238f1-186b-4aa3-b398-443350e5c6ab",
   "metadata": {},
   "outputs": [
    {
     "name": "stdout",
     "output_type": "stream",
     "text": [
      ".DS_Store\n",
      "2023年8月-9月销售记录.xlsx\n",
      "供应商名录.xlsx\n",
      "求职简历.docx\n",
      "供应商资格要求.pdf\n"
     ]
    }
   ],
   "source": [
    "# 参数中的文件目录需要修改为你自己的目录\n",
    "print(list_files_in_directory(\"./data/autogpt-demo\"))"
   ]
  },
  {
   "cell_type": "markdown",
   "id": "fc96a108-9138-44bf-96f2-4e0239d41266",
   "metadata": {},
   "source": [
    "你也可以将这些工具当作 Runnable 对象来使用："
   ]
  },
  {
   "cell_type": "code",
   "execution_count": 10,
   "id": "5d0963ee-3ffa-4a08-ae50-327c63f1af8a",
   "metadata": {},
   "outputs": [
    {
     "data": {
      "text/plain": [
       "StructuredTool(name='ListDirectory', description='ListDirectory(path: str) -> str - 探查文件夹的内容和结构，展示它的文件名和文件夹名', args_schema=<class 'pydantic.v1.main.ListDirectorySchemaSchema'>, func=<function list_files_in_directory at 0x116043910>)"
      ]
     },
     "execution_count": 10,
     "metadata": {},
     "output_type": "execute_result"
    }
   ],
   "source": [
    "directory_inspection_tool"
   ]
  },
  {
   "cell_type": "code",
   "execution_count": 11,
   "id": "4b1728e3-e73b-4630-882e-39dbe56ae310",
   "metadata": {},
   "outputs": [
    {
     "data": {
      "text/plain": [
       "<function __main__.list_files_in_directory(path: str) -> str>"
      ]
     },
     "execution_count": 11,
     "metadata": {},
     "output_type": "execute_result"
    }
   ],
   "source": [
    "list_files_in_directory"
   ]
  },
  {
   "cell_type": "code",
   "execution_count": 12,
   "id": "9a4a5908-91cf-42d8-8e95-2b93321347a2",
   "metadata": {},
   "outputs": [
    {
     "data": {
      "text/plain": [
       "<function __main__.list_files_in_directory(path: str) -> str>"
      ]
     },
     "execution_count": 12,
     "metadata": {},
     "output_type": "execute_result"
    }
   ],
   "source": [
    "make_safe_tool(list_files_in_directory)"
   ]
  },
  {
   "cell_type": "code",
   "execution_count": 13,
   "id": "532d8f35-2933-4995-a31e-2d1c91bc0daa",
   "metadata": {},
   "outputs": [
    {
     "name": "stdout",
     "output_type": "stream",
     "text": [
      ".DS_Store\n",
      "2023年8月-9月销售记录.xlsx\n",
      "供应商名录.xlsx\n",
      "求职简历.docx\n",
      "供应商资格要求.pdf\n"
     ]
    }
   ],
   "source": [
    "print(make_safe_tool(list_files_in_directory)(\"./data/autogpt-demo\"))"
   ]
  },
  {
   "cell_type": "code",
   "execution_count": 14,
   "id": "620ac381-566c-49b8-b2d0-6a230e7e97ae",
   "metadata": {},
   "outputs": [
    {
     "name": "stdout",
     "output_type": "stream",
     "text": [
      ".DS_Store\n",
      "2023年8月-9月销售记录.xlsx\n",
      "供应商名录.xlsx\n",
      "求职简历.docx\n",
      "供应商资格要求.pdf\n"
     ]
    }
   ],
   "source": [
    "print(directory_inspection_tool.invoke(\"./data/autogpt-demo\"))"
   ]
  },
  {
   "cell_type": "markdown",
   "id": "7e77a14f-883e-47c6-9c96-09b062229c29",
   "metadata": {},
   "source": [
    "### 查询文档"
   ]
  },
  {
   "cell_type": "markdown",
   "id": "fcd1d696-c813-44cf-a014-dbbde57c7356",
   "metadata": {},
   "source": [
    "实现一个简单的RAG，以便从PDF文档或word文档中查询文本内容。"
   ]
  },
  {
   "cell_type": "markdown",
   "id": "bb8ce0ec-6517-47b3-af7c-96552611978c",
   "metadata": {},
   "source": [
    "<div class=\"alert alert-info\">\n",
    "<b>加载Word：</b><br/>\n",
    "因为python环境兼容问题，这里我修改了word文档的加载类。\n",
    "</div>"
   ]
  },
  {
   "cell_type": "markdown",
   "id": "0df43928-b10b-44a6-adc3-502a4bb5434c",
   "metadata": {},
   "source": [
    "#### 准备"
   ]
  },
  {
   "cell_type": "code",
   "execution_count": 15,
   "id": "92020dce-73b2-44b8-81f1-65d58ab3f9cb",
   "metadata": {},
   "outputs": [],
   "source": [
    "from typing import List\n",
    "from langchain.schema import Document\n",
    "from langchain.text_splitter import RecursiveCharacterTextSplitter\n",
    "from langchain.vectorstores import Chroma\n",
    "from langchain.document_loaders import PyPDFLoader\n",
    "from langchain_community.document_loaders import Docx2txtLoader\n",
    "from langchain.chains import RetrievalQA\n",
    "from langchain_openai import OpenAI, OpenAIEmbeddings"
   ]
  },
  {
   "cell_type": "code",
   "execution_count": 16,
   "id": "8d0f0891-e9bf-4247-a6de-a02a5480ab2e",
   "metadata": {},
   "outputs": [],
   "source": [
    "def get_file_extension(filename: str) -> str:\n",
    "    return filename.split(\".\")[-1]"
   ]
  },
  {
   "cell_type": "code",
   "execution_count": 17,
   "id": "e2752660-8f96-4c41-b9e8-96b96818b5ea",
   "metadata": {},
   "outputs": [],
   "source": [
    "class FileLoadFactory:\n",
    "    @staticmethod\n",
    "    def get_loader(filename: str):\n",
    "        filename = filename.strip()\n",
    "        ext = get_file_extension(filename)\n",
    "        if ext == \"pdf\":\n",
    "            return PyPDFLoader(filename)\n",
    "        elif ext == \"docx\" or ext == \"doc\":\n",
    "            return Docx2txtLoader(filename)\n",
    "        else:\n",
    "            raise NotImplementedError(f\"File extension {ext} not supported.\")"
   ]
  },
  {
   "cell_type": "code",
   "execution_count": 18,
   "id": "93a013f4-abd8-44da-8c74-8771f4e66df8",
   "metadata": {},
   "outputs": [],
   "source": [
    "def load_docs(filename: str) -> List[Document]:\n",
    "    file_loader = FileLoadFactory.get_loader(filename)\n",
    "    pages = file_loader.load_and_split()\n",
    "    return pages"
   ]
  },
  {
   "cell_type": "markdown",
   "id": "34e19075-80ad-4fe7-b0db-df1d36354a01",
   "metadata": {},
   "source": [
    "#### 使用 RAG 查询文档"
   ]
  },
  {
   "cell_type": "code",
   "execution_count": 19,
   "id": "64994337-264a-4f49-93ba-07d022b96eaa",
   "metadata": {},
   "outputs": [],
   "source": [
    "def ask_docment(\n",
    "        filename: str,\n",
    "        query: str,\n",
    ") -> str:\n",
    "    \"\"\"根据一个PDF文档的内容，回答一个问题\"\"\"\n",
    "\n",
    "    raw_docs = load_docs(filename)\n",
    "    if len(raw_docs) == 0:\n",
    "        return \"抱歉，文档内容为空\"\n",
    "    text_splitter = RecursiveCharacterTextSplitter(\n",
    "                        chunk_size=1000,\n",
    "                        chunk_overlap=200,\n",
    "                        length_function=len,\n",
    "                        add_start_index=True,\n",
    "                    )\n",
    "    documents = text_splitter.split_documents(raw_docs)\n",
    "    if documents is None or len(documents) == 0:\n",
    "        return \"无法读取文档内容\"\n",
    "    db = Chroma.from_documents(documents, OpenAIEmbeddings(model=\"text-embedding-ada-002\"))\n",
    "    qa_chain = RetrievalQA.from_chain_type(\n",
    "        llm=OpenAI(\n",
    "            temperature=0,\n",
    "            model_kwargs={\n",
    "                \"seed\": 42\n",
    "            },\n",
    "        ),  # 语言模型\n",
    "        chain_type=\"stuff\",  # prompt的组织方式\n",
    "        retriever=db.as_retriever()  # 检索器\n",
    "    )\n",
    "    response = qa_chain.invoke(query+\"(请用中文回答)\")\n",
    "    return response"
   ]
  },
  {
   "cell_type": "markdown",
   "id": "f5e5df56-11b8-4fd3-9789-ef6ca53a1499",
   "metadata": {},
   "source": [
    "#### 定义 tool 函数"
   ]
  },
  {
   "cell_type": "code",
   "execution_count": 20,
   "id": "f5af1106-d9e5-471a-a465-cf7afb9179ed",
   "metadata": {},
   "outputs": [],
   "source": [
    "# 输出工具\n",
    "document_qa_tool = StructuredTool.from_function(\n",
    "    func=make_safe_tool(ask_docment),\n",
    "    name=\"AskDocument\",\n",
    "    description=\"根据一个Word或PDF文档的内容，回答一个问题。考虑上下文信息，确保问题对相关概念的定义表述完整。\",\n",
    ")"
   ]
  },
  {
   "cell_type": "markdown",
   "id": "c5236721-6fa3-4ed4-84bf-4e23e05a365e",
   "metadata": {},
   "source": [
    "#### 使用示例"
   ]
  },
  {
   "cell_type": "code",
   "execution_count": 361,
   "id": "029891a7-3f79-42a5-becf-42ff407af3eb",
   "metadata": {},
   "outputs": [
    {
     "name": "stdout",
     "output_type": "stream",
     "text": [
      "{'query': '销售额达标的标准是多少？(请用中文回答)', 'result': ' 月销售额达到人民币3万元。'}\n"
     ]
    }
   ],
   "source": [
    "# 使用示例\n",
    "filename = \"./data/autogpt-demo/供应商资格要求.pdf\"\n",
    "query = \"销售额达标的标准是多少？\"\n",
    "print(ask_docment(filename, query))"
   ]
  },
  {
   "cell_type": "code",
   "execution_count": 362,
   "id": "50d330de-cfcb-4ac1-b7a9-2033ac45853b",
   "metadata": {},
   "outputs": [
    {
     "name": "stdout",
     "output_type": "stream",
     "text": [
      "{'query': '工作经历如何？(请用中文回答)', 'result': ' 工作经历看起来很不错，有丰富的投资经验和成功的案例。同时，个人性格也很适合投资行业，具备严谨的工作态度和抗压能力。'}\n"
     ]
    }
   ],
   "source": [
    "# 使用示例\n",
    "filename = \"./data/autogpt-demo/求职简历.docx\"\n",
    "query = \"工作经历如何？\"\n",
    "print(ask_docment(filename, query))"
   ]
  },
  {
   "cell_type": "markdown",
   "id": "d17bcd6d-7e0a-4f11-a542-3df0557db31f",
   "metadata": {},
   "source": [
    "### Excel结构探查"
   ]
  },
  {
   "cell_type": "markdown",
   "id": "6039b781-0a23-46bc-a46e-0217262f12a0",
   "metadata": {},
   "source": [
    "#### 探查Excel的sheet、列名和前N行数据"
   ]
  },
  {
   "cell_type": "code",
   "execution_count": 21,
   "id": "70f10ec2-bc56-4217-923e-e7cd0d65522b",
   "metadata": {},
   "outputs": [],
   "source": [
    "import pandas as pd"
   ]
  },
  {
   "cell_type": "code",
   "execution_count": 22,
   "id": "f90c26dc-91ea-47db-ae24-a3871d18153e",
   "metadata": {},
   "outputs": [],
   "source": [
    "def get_sheet_names(\n",
    "        filename : str\n",
    ") -> str :\n",
    "    \"\"\"获取 Excel 文件的工作表名称\"\"\"\n",
    "    excel_file = pd.ExcelFile(filename.strip())\n",
    "    sheet_names = excel_file.sheet_names\n",
    "    return f\"这是 '{filename}' 文件的工作表名称：\\n\\n{sheet_names}\""
   ]
  },
  {
   "cell_type": "code",
   "execution_count": 23,
   "id": "cad69a6c-db9b-40e2-9a09-ad9b85353163",
   "metadata": {},
   "outputs": [],
   "source": [
    "def get_column_names(\n",
    "        filename : str\n",
    ") -> str:\n",
    "    \"\"\"获取 Excel 文件的列名\"\"\"\n",
    "\n",
    "    # 读取 Excel 文件的第一个工作表\n",
    "    df = pd.read_excel(filename.strip(), sheet_name=0)  # sheet_name=0 表示第一个工作表\n",
    "    column_names = '\\n'.join(\n",
    "        df.columns.to_list()\n",
    "    )\n",
    "\n",
    "    result = f\"这是 '{filename.strip()}' 文件第一个工作表的列名：\\n\\n{column_names}\"\n",
    "    return result"
   ]
  },
  {
   "cell_type": "code",
   "execution_count": 24,
   "id": "cf0d89ad-5ac1-432e-a79a-0217d4328ff6",
   "metadata": {},
   "outputs": [],
   "source": [
    "def get_first_n_rows(\n",
    "        filename : str,\n",
    "        n : int = 3\n",
    ") -> str :\n",
    "    \"\"\"获取 Excel 文件的前 n 行\"\"\"\n",
    "\n",
    "    filename = filename.strip()\n",
    "    result = get_sheet_names(filename)+\"\\n\\n\"\n",
    "    result += get_column_names(filename)+\"\\n\\n\"\n",
    "\n",
    "    # 读取 Excel 文件的第一个工作表\n",
    "    df = pd.read_excel(filename, sheet_name=0)  # sheet_name=0 表示第一个工作表\n",
    "    n_lines = '\\n'.join(\n",
    "        df.head(n).to_string(index=False, header=True).split('\\n')\n",
    "    )\n",
    "\n",
    "    result += f\"这是 '{filename}' 文件第一个工作表的前{n}行样例：\\n\\n{n_lines}\"\n",
    "    return result"
   ]
  },
  {
   "cell_type": "markdown",
   "id": "955dbf77-5cd7-4f9c-8432-07f5216d655d",
   "metadata": {},
   "source": [
    "#### 定义 tool 函数"
   ]
  },
  {
   "cell_type": "markdown",
   "id": "bf703e6e-ff08-4dad-9ad1-a3ea349dc193",
   "metadata": {},
   "source": [
    "<div class=\"alert alert-info\">\n",
    "<b>增加Tool的参数说明：</b><br/>\n",
    "    实践中，我发现大模型有时会弄错参数，虽然会迭代纠正，但还是习惯性做了优化，在工具说明中补充了参数说明。\n",
    "</div>"
   ]
  },
  {
   "cell_type": "code",
   "execution_count": 25,
   "id": "6d051680-e167-4ea5-b6b6-aa74f0dfbca2",
   "metadata": {},
   "outputs": [],
   "source": [
    "# 输出工具\n",
    "excel_inspection_tool = StructuredTool.from_function(\n",
    "    func=make_safe_tool(get_first_n_rows),\n",
    "    name=\"InspectExcel\",\n",
    "    description=\"\"\"\n",
    "    探查表格文件的内容和结构，展示它的列名和前n行，n默认为3。\n",
    "    \n",
    "    使用该函数时应当准备提供filename和n两个参数，其中：\n",
    "    \n",
    "    - filename：要探查的Excel文件名\n",
    "    - n: 默认的行数\n",
    "    \n",
    "    \"\"\",\n",
    ")"
   ]
  },
  {
   "cell_type": "markdown",
   "id": "13f0933e-4169-4351-bf4b-58cfd2f2f809",
   "metadata": {},
   "source": [
    "#### 使用示例"
   ]
  },
  {
   "cell_type": "code",
   "execution_count": 336,
   "id": "dfdbf26d-2d3d-4201-ac68-d907b165f451",
   "metadata": {},
   "outputs": [
    {
     "name": "stdout",
     "output_type": "stream",
     "text": [
      "这是 './data/autogpt-demo/供应商名录.xlsx' 文件的工作表名称：\n",
      "\n",
      "['Sheet1']\n",
      "\n",
      "这是 './data/autogpt-demo/供应商名录.xlsx' 文件第一个工作表的列名：\n",
      "\n",
      "供应商\n",
      "联系人\n",
      "联系人邮箱\n",
      "内部对接人\n",
      "\n",
      "这是 './data/autogpt-demo/供应商名录.xlsx' 文件第一个工作表的前3行样例：\n",
      "\n",
      "       供应商 联系人                   联系人邮箱 内部对接人\n",
      "  北京科技有限公司  张伟 xiaoming123@example.com    李华\n",
      "  上海音响有限公司  李芳    lihua456@example.org    张伟\n",
      "深圳创新科技有限公司  陈瑶   wangli789@example.net    王芳\n"
     ]
    }
   ],
   "source": [
    "print(get_first_n_rows(\"./data/autogpt-demo/供应商名录.xlsx\"))"
   ]
  },
  {
   "cell_type": "code",
   "execution_count": 338,
   "id": "0c0f9a3b-f759-4871-a1b1-a7d5d8330c1c",
   "metadata": {},
   "outputs": [
    {
     "name": "stdout",
     "output_type": "stream",
     "text": [
      "这是 './data/autogpt-demo/供应商名录.xlsx' 文件的工作表名称：\n",
      "\n",
      "['Sheet1']\n",
      "\n",
      "这是 './data/autogpt-demo/供应商名录.xlsx' 文件第一个工作表的列名：\n",
      "\n",
      "供应商\n",
      "联系人\n",
      "联系人邮箱\n",
      "内部对接人\n",
      "\n",
      "这是 './data/autogpt-demo/供应商名录.xlsx' 文件第一个工作表的前3行样例：\n",
      "\n",
      "       供应商 联系人                   联系人邮箱 内部对接人\n",
      "  北京科技有限公司  张伟 xiaoming123@example.com    李华\n",
      "  上海音响有限公司  李芳    lihua456@example.org    张伟\n",
      "深圳创新科技有限公司  陈瑶   wangli789@example.net    王芳\n"
     ]
    }
   ],
   "source": [
    "print(excel_inspection_tool.invoke(\"./data/autogpt-demo/供应商名录.xlsx\"))"
   ]
  },
  {
   "cell_type": "markdown",
   "id": "d3883379-efe3-4978-8cd5-b7d660d90d43",
   "metadata": {},
   "source": [
    "### Excel数据分析"
   ]
  },
  {
   "cell_type": "markdown",
   "id": "0c37639f-486a-4e01-ac6f-e027cdc8ba25",
   "metadata": {},
   "source": [
    "#### 准备"
   ]
  },
  {
   "cell_type": "code",
   "execution_count": 26,
   "id": "55933c36-79b4-4563-9eb9-dfdaba6e344d",
   "metadata": {},
   "outputs": [],
   "source": [
    "import re\n",
    "from langchain.tools import StructuredTool\n",
    "from langchain_core.output_parsers import BaseOutputParser\n",
    "\n",
    "# from Utils.PythonExecUtil import execute_python_code\n",
    "from langchain_openai import ChatOpenAI\n",
    "from langchain_experimental.utilities import PythonREPL"
   ]
  },
  {
   "cell_type": "markdown",
   "id": "b0c7e8f1-59ac-472e-ad3a-a8624280e6dd",
   "metadata": {},
   "source": [
    "#### 自定义一个OutputParse"
   ]
  },
  {
   "cell_type": "code",
   "execution_count": 27,
   "id": "9ee9efcd-9389-4db2-bb91-8851f891c6e6",
   "metadata": {},
   "outputs": [],
   "source": [
    "class PythonCodeParser(BaseOutputParser):\n",
    "    \"\"\"从OpenAI返回的文本中提取Python代码。\"\"\"\n",
    "\n",
    "    def _remove_marked_lines(self, input_str: str) -> str:\n",
    "        lines = input_str.strip().split('\\n')\n",
    "        if lines and lines[0].strip().startswith('```'):\n",
    "            del lines[0]\n",
    "        if lines and lines[-1].strip().startswith('```'):\n",
    "            del lines[-1]\n",
    "\n",
    "        ans = '\\n'.join(lines)\n",
    "        return ans\n",
    "\n",
    "    def parse(self, text: str) -> str:\n",
    "        # 使用正则表达式找到所有的Python代码块\n",
    "        python_code_blocks = re.findall(r'```python\\n(.*?)\\n```', text, re.DOTALL)\n",
    "        # 从re返回结果提取出Python代码文本\n",
    "        python_code = None\n",
    "        if len(python_code_blocks) > 0:\n",
    "            python_code = python_code_blocks[0]\n",
    "            python_code = self._remove_marked_lines(python_code)\n",
    "        return python_code"
   ]
  },
  {
   "cell_type": "markdown",
   "id": "8b60954f-1438-488c-bdbc-99787ab8db65",
   "metadata": {},
   "source": [
    "#### 定义提示语模板"
   ]
  },
  {
   "cell_type": "code",
   "execution_count": 28,
   "id": "ba37b59c-1044-4e6d-a9b6-86c9ab864e7b",
   "metadata": {},
   "outputs": [],
   "source": [
    "from langchain.prompts import PromptTemplate\n",
    "\n",
    "excel_analyser_prompt = PromptTemplate.from_template(\"\"\"\n",
    "你的任务是先分析，再生成代码。\n",
    "\n",
    "请根据用户的输入，一步步分析：\n",
    "（1）用户的输入是否依赖某个条件，而这个条件没有明确赋值？\n",
    "（2）我是否需要对某个变量的值做假设？\n",
    "\n",
    "如果我需要对某个变量的值做假设，请直接输出：\n",
    "```python\n",
    "print(\"我需要知道____的值，才能生成代码。请完善你的查询。\") # 请将____替换为需要假设的的条件\n",
    "```\n",
    "\n",
    "否则，生成一段Python代码，分析指定文件的内容。\n",
    "\n",
    "你可以使用的库只包括：pandas, re, math, datetime, openpyxl\n",
    "确保你的代码只使用上述库，否则你的代码将无法运行。\n",
    "\n",
    "给定文件为：\n",
    "{filename}\n",
    "\n",
    "文件内容样例：\n",
    "{inspections}\n",
    "\n",
    "你输出的Python代码前后必须有markdown标识符，如下所示：\n",
    "```python\n",
    "# example code\n",
    "print('hello world')\n",
    "```\n",
    "\n",
    "确保你的代码是可以运行的，文件名直接写死在代码里即可。\n",
    "你生成代码中所有的常量都必须来自我给你的信息或来自文件本身。不要编造任何常量。\n",
    "如果常量缺失，你的代码将无法运行。你可以拒绝生成代码，但是不要生成编造的代码。\n",
    "确保你生成的代码最终以print的方式输出结果(回答用户的问题)。\n",
    "\n",
    "用户输入：\n",
    "{query}\n",
    "\"\"\")"
   ]
  },
  {
   "cell_type": "markdown",
   "id": "acd36e58-0288-46cc-9f04-90f4552d1840",
   "metadata": {},
   "source": [
    "#### 定义执行链"
   ]
  },
  {
   "cell_type": "code",
   "execution_count": 29,
   "id": "2c1f1689-b8ab-47d5-9e18-47181ff42c4f",
   "metadata": {},
   "outputs": [],
   "source": [
    "llm = ChatOpenAI(\n",
    "        model=\"gpt-4-1106-preview\",\n",
    "        temperature=0,\n",
    "        model_kwargs={\"seed\": 42},\n",
    "    )\n",
    "analysis_chain = excel_analyser_prompt | llm | PythonCodeParser()"
   ]
  },
  {
   "cell_type": "markdown",
   "id": "f5ba7a6a-520b-4fe0-bc1e-99fbfb7908a8",
   "metadata": {},
   "source": [
    "#### 生成 python 代码并执行"
   ]
  },
  {
   "cell_type": "code",
   "execution_count": 30,
   "id": "949170b0-2128-407c-807a-7b6246d2050a",
   "metadata": {},
   "outputs": [],
   "source": [
    "from langchain_experimental.utilities import PythonREPL\n",
    "def excel_analyse(query, filename):\n",
    "    \"\"\"分析一个结构化文件（例如excel文件）的内容。\"\"\"\n",
    "\n",
    "    filename = filename.strip()\n",
    "    # columns = get_column_names(filename)\n",
    "    inspections = get_first_n_rows(filename, 3)\n",
    "\n",
    "    code = \"\"\n",
    "\n",
    "    ## 打印详细信息\n",
    "    color_print(\"\\n#!/usr/bin/env python\", CODE_COLOR, end=\"\\n\")\n",
    "\n",
    "    for c in analysis_chain.stream({\n",
    "        \"query\": query,\n",
    "        \"filename\": filename,\n",
    "        \"inspections\": inspections\n",
    "    }):\n",
    "        ## 打印详细信息\n",
    "        color_print(c, CODE_COLOR, end=\"\")\n",
    "        ## 收集代码成果\n",
    "        code += c\n",
    "\n",
    "    if code:\n",
    "        ans = PythonREPL().run(code)\n",
    "        return ans\n",
    "    else:\n",
    "        return \"没有找到可执行的Python代码\""
   ]
  },
  {
   "cell_type": "markdown",
   "id": "1c85d963-517b-4849-8708-3966fc802a4e",
   "metadata": {},
   "source": [
    "#### 定义 tool 函数"
   ]
  },
  {
   "cell_type": "code",
   "execution_count": 31,
   "id": "7f87435a-d007-4ac7-adf1-a6a9133a98e5",
   "metadata": {},
   "outputs": [],
   "source": [
    "# 输出工具\n",
    "excel_analysis_tool = StructuredTool.from_function(\n",
    "    func=make_safe_tool(excel_analyse),\n",
    "    name=\"AnalyseExcel\",\n",
    "    description=\"\"\"\n",
    "        通过pandas数据处理脚本分析一个结构化文件（例如excel文件）的内容。\n",
    "        输人中必须包含文件的完整路径和具体分析方式和分析依据，阈值常量等。\n",
    "        如果输入信息不完整，你可以拒绝回答。\n",
    "    \"\"\",\n",
    ")"
   ]
  },
  {
   "cell_type": "markdown",
   "id": "acaaf50d-3988-47b3-b585-104118ae11e9",
   "metadata": {},
   "source": [
    "#### 使用示例"
   ]
  },
  {
   "cell_type": "code",
   "execution_count": 346,
   "id": "8836d262-0efb-48a2-88bf-0bba73b4929b",
   "metadata": {},
   "outputs": [
    {
     "name": "stdout",
     "output_type": "stream",
     "text": [
      "\u001b[34m\n",
      "#!/usr/bin/env python\u001b[0m\n",
      "\u001b[34mimport pandas as pd\n",
      "\n",
      "# 读取Excel文件\n",
      "df = pd.read_excel('./data/autogpt-demo/2023年8月-9月销售记录.xlsx')\n",
      "\n",
      "# 筛选出8月份的销售记录\n",
      "df['销售日期'] = pd.to_datetime(df['销售日期'])  # 确保销售日期列是日期格式\n",
      "august_sales = df[df['销售日期'].dt.month == 8]\n",
      "\n",
      "# 计算8月份的销售额\n",
      "august_sales['销售额'] = august_sales['单价(元)'] * august_sales['销售量']\n",
      "total_august_sales = august_sales['销售额'].sum()\n",
      "\n",
      "# 输出8月份的销售额\n",
      "print(f\"8月份的销售额为：{total_august_sales}元\")\u001b[0m"
     ]
    },
    {
     "name": "stderr",
     "output_type": "stream",
     "text": [
      "<string>:11: SettingWithCopyWarning: \n",
      "A value is trying to be set on a copy of a slice from a DataFrame.\n",
      "Try using .loc[row_indexer,col_indexer] = value instead\n",
      "\n",
      "See the caveats in the documentation: https://pandas.pydata.org/pandas-docs/stable/user_guide/indexing.html#returning-a-view-versus-a-copy\n"
     ]
    },
    {
     "data": {
      "text/plain": [
       "'8月份的销售额为：2605636元\\n'"
      ]
     },
     "execution_count": 346,
     "metadata": {},
     "output_type": "execute_result"
    }
   ],
   "source": [
    "excel_analysis_tool.invoke({\"query\": \"8月销售额\", \"filename\":\"./data/autogpt-demo/2023年8月-9月销售记录.xlsx\"})"
   ]
  },
  {
   "cell_type": "markdown",
   "id": "4f7a7b44-42f2-4b6d-9ea3-698d76ed4769",
   "metadata": {},
   "source": [
    "### 生成文档"
   ]
  },
  {
   "cell_type": "markdown",
   "id": "86c6503c-37ab-4977-88b5-a13544b58e7a",
   "metadata": {},
   "source": [
    "#### 准备"
   ]
  },
  {
   "cell_type": "code",
   "execution_count": 32,
   "id": "4801ca06-54e9-4911-8d5d-f29826628364",
   "metadata": {},
   "outputs": [],
   "source": [
    "from langchain.prompts import ChatPromptTemplate\n",
    "from langchain.prompts.chat import SystemMessagePromptTemplate, HumanMessagePromptTemplate\n",
    "from langchain_core.output_parsers import StrOutputParser\n",
    "from langchain_core.runnables import RunnablePassthrough\n",
    "from langchain_openai import ChatOpenAI"
   ]
  },
  {
   "cell_type": "markdown",
   "id": "eeeb59c2-ff96-4eb3-9bb3-5b76c52b1713",
   "metadata": {},
   "source": [
    "#### 使用 LLM 生成文档"
   ]
  },
  {
   "cell_type": "code",
   "execution_count": 33,
   "id": "6681a466-14fc-41e3-aff9-96571709e74f",
   "metadata": {},
   "outputs": [],
   "source": [
    "def write(query: str):\n",
    "    \"\"\"按用户要求生成文章\"\"\"\n",
    "    template = ChatPromptTemplate.from_messages(\n",
    "        [\n",
    "            SystemMessagePromptTemplate.from_template(\"你是专业的文档写手。你根据客户的要求，写一份文档。输出中文。\"),\n",
    "            HumanMessagePromptTemplate.from_template(\"{query}\"),\n",
    "        ]\n",
    "    )\n",
    "\n",
    "    chain = {\"query\": RunnablePassthrough()} | template | ChatOpenAI() | StrOutputParser()\n",
    "\n",
    "    return chain.invoke(query)"
   ]
  },
  {
   "cell_type": "markdown",
   "id": "b41863a9-3930-49df-a9cc-e73ccb40250e",
   "metadata": {},
   "source": [
    "#### 定义 tool 函数"
   ]
  },
  {
   "cell_type": "code",
   "execution_count": 34,
   "id": "1372c095-e3ad-46c6-976e-4c25e2f7a1ef",
   "metadata": {},
   "outputs": [],
   "source": [
    "# 输出工具\n",
    "document_generation_tool = StructuredTool.from_function(\n",
    "    func=make_safe_tool(write),\n",
    "    name=\"GenerateDocument\",\n",
    "    description=\"根据需求描述生成一篇正式文档\",\n",
    ")"
   ]
  },
  {
   "cell_type": "markdown",
   "id": "c609baee-6b4f-4691-ad37-262482d6e768",
   "metadata": {},
   "source": [
    "#### 使用示例"
   ]
  },
  {
   "cell_type": "code",
   "execution_count": 350,
   "id": "df300786-6741-4707-9e57-eeb457075756",
   "metadata": {},
   "outputs": [
    {
     "name": "stdout",
     "output_type": "stream",
     "text": [
      "亲爱的张三，\n",
      "\n",
      "您好！我是李四，很高兴与您联系。\n",
      "\n",
      "希望您一切都好。我想借此机会向您介绍一下我自己。我是一名专业的文档写手，拥有丰富的写作经验和技巧。我善于撰写各类文档，包括但不限于报告、提案、手册、说明书等。我以高质量的工作和准时交付而闻名。\n",
      "\n",
      "我了解您对于一份文档的要求，我会确保根据您的要求和要求的时间表来完成工作。作为一名专业写手，我注重细节和准确性，同时也能够根据客户的需求进行灵活的调整。\n",
      "\n",
      "如果您对我的服务感兴趣，并且希望了解更多详细信息，或者您有任何问题或特殊要求，请随时与我联系。我期待着与您合作，为您提供优质的文档写作服务。\n",
      "\n",
      "谢谢您的时间和考虑。\n",
      "\n",
      "祝您一切顺利！\n",
      "\n",
      "李四\n"
     ]
    }
   ],
   "source": [
    "# 示例\n",
    "print(document_generation_tool.invoke(\"写一封邮件给张三，内容是：你好，我是李四。\"))"
   ]
  },
  {
   "cell_type": "markdown",
   "id": "893128fb-298a-49eb-bc3f-b5bfe6a19bc1",
   "metadata": {},
   "source": [
    "### 发送Email"
   ]
  },
  {
   "cell_type": "markdown",
   "id": "059fe2b4-14c3-405b-abe7-3d96f0cf42a1",
   "metadata": {},
   "source": [
    "#### 准备"
   ]
  },
  {
   "cell_type": "code",
   "execution_count": 35,
   "id": "ee95d8f9-8518-4876-a7da-e766d3c41ba4",
   "metadata": {},
   "outputs": [],
   "source": [
    "import webbrowser\n",
    "import urllib.parse\n",
    "import re"
   ]
  },
  {
   "cell_type": "markdown",
   "id": "313c3493-72e1-436e-8de7-80747fdefbf4",
   "metadata": {},
   "source": [
    "#### 检查email格式是否合法"
   ]
  },
  {
   "cell_type": "code",
   "execution_count": 36,
   "id": "f7a985e8-43da-4f0d-8f9e-81e9997e7a75",
   "metadata": {},
   "outputs": [],
   "source": [
    "def _is_valid_email(email: str) -> bool:\n",
    "    receivers = email.split(';')\n",
    "    # 正则表达式匹配电子邮件\n",
    "    pattern = r'^[a-zA-Z0-9_.+-]+@[a-zA-Z0-9-]+\\.[a-zA-Z0-9-.]+$'\n",
    "    for receiver in receivers:\n",
    "        if not bool(re.match(pattern, receiver.strip())):\n",
    "            return False\n",
    "    return True"
   ]
  },
  {
   "cell_type": "markdown",
   "id": "a0fed669-5e9e-4568-9658-9865637078fb",
   "metadata": {},
   "source": [
    "#### 触发系统调用发送邮件"
   ]
  },
  {
   "cell_type": "code",
   "execution_count": 37,
   "id": "0e4cbf29-931a-4135-a5f3-7f911d068af2",
   "metadata": {},
   "outputs": [],
   "source": [
    "def send_email(\n",
    "        to: str,\n",
    "        subject: str,\n",
    "        body: str,\n",
    "        cc: str = None,\n",
    "        bcc: str = None,\n",
    ") -> str:\n",
    "    \"\"\"给指定的邮箱发送邮件\"\"\"\n",
    "\n",
    "    if not _is_valid_email(to):\n",
    "        return f\"电子邮件地址 {to} 不合法\"\n",
    "\n",
    "    # 对邮件的主题和正文进行URL编码\n",
    "    subject_code = urllib.parse.quote(subject)\n",
    "    body_code = urllib.parse.quote(body)\n",
    "\n",
    "    # 构造mailto链接\n",
    "    mailto_url = f'mailto:{to}?subject={subject_code}&body={body_code}'\n",
    "    if cc is not None:\n",
    "        cc = urllib.parse.quote(cc)\n",
    "        mailto_url += f'&cc={cc}'\n",
    "    if bcc is not None:\n",
    "        bcc = urllib.parse.quote(bcc)\n",
    "        mailto_url += f'&bcc={bcc}'\n",
    "\n",
    "    webbrowser.open(mailto_url)\n",
    "\n",
    "    return f\"状态: 成功\\n备注: 已发送邮件给 {to}, 标题: {subject}\""
   ]
  },
  {
   "cell_type": "markdown",
   "id": "bee39dbf-ba97-4bf9-89d3-e49922f63c4b",
   "metadata": {},
   "source": [
    "#### 定义 tool 函数"
   ]
  },
  {
   "cell_type": "code",
   "execution_count": 38,
   "id": "99933e0e-99d9-4c6a-98ab-b8e8492b679b",
   "metadata": {},
   "outputs": [],
   "source": [
    "# 发送邮件\n",
    "email_tool = StructuredTool.from_function(\n",
    "    func=make_safe_tool(send_email),\n",
    "    name=\"SendEmail\",\n",
    "    description=\"给指定的邮箱发送邮件。确保邮箱地址是xxx@xxx.xxx的格式。多个邮箱地址以';'分割。\",\n",
    ")"
   ]
  },
  {
   "cell_type": "markdown",
   "id": "ec61c967-8615-4d4a-8061-ddce3d3d0c01",
   "metadata": {},
   "source": [
    "#### 使用示例"
   ]
  },
  {
   "cell_type": "code",
   "execution_count": 370,
   "id": "47d0476a-5672-4fdf-8fdb-f60cd7c5fd67",
   "metadata": {},
   "outputs": [
    {
     "data": {
      "text/plain": [
       "'状态: 成功\\n备注: 已发送邮件给 43801@qq.com, 标题: hello'"
      ]
     },
     "execution_count": 370,
     "metadata": {},
     "output_type": "execute_result"
    }
   ],
   "source": [
    "send_email(\"43801@qq.com\", \"hello\", \"happy new year!\")"
   ]
  },
  {
   "cell_type": "markdown",
   "id": "d9ff19e4-c93a-4faf-ab7c-444342863e57",
   "metadata": {},
   "source": [
    "### FINISH"
   ]
  },
  {
   "cell_type": "code",
   "execution_count": 39,
   "id": "c1821516-3be1-4956-812c-22f1419c28d3",
   "metadata": {},
   "outputs": [],
   "source": [
    "finish_placeholder = StructuredTool.from_function(\n",
    "    func=lambda: None,\n",
    "    name=\"FINISH\",\n",
    "    description=\"用于表示任务完成的占位符工具\"\n",
    ")"
   ]
  },
  {
   "cell_type": "markdown",
   "id": "acfdfb52-2ec7-42f6-9fc7-f1ecf6c292eb",
   "metadata": {},
   "source": [
    "## toolkit 定义"
   ]
  },
  {
   "cell_type": "code",
   "execution_count": 40,
   "id": "a519a0c4-7059-4c3e-a0b0-2db012b1ce95",
   "metadata": {},
   "outputs": [],
   "source": [
    "# 自定义工具集\n",
    "tools = [\n",
    "    directory_inspection_tool,\n",
    "    document_qa_tool,\n",
    "    document_generation_tool,\n",
    "    email_tool,\n",
    "    excel_inspection_tool,\n",
    "    excel_analysis_tool,\n",
    "    finish_placeholder,\n",
    "]"
   ]
  },
  {
   "cell_type": "markdown",
   "id": "3d1808ad-d875-4b07-985e-fbdf7676c4fc",
   "metadata": {},
   "source": [
    "<div class=\"alert alert-info\">\n",
    "<b>工具集：</b><br/>\n",
    "    以上就是所有的工具集定义了，可以在后面所有实践中共用。\n",
    "</div>"
   ]
  },
  {
   "cell_type": "markdown",
   "id": "ecebf4cc-e3a1-4d60-ba42-93face658f84",
   "metadata": {},
   "source": [
    "## Prompt定义"
   ]
  },
  {
   "cell_type": "markdown",
   "id": "bfa9e093-747a-49bf-b858-c190a4d7421a",
   "metadata": {},
   "source": [
    "<div class=\"alert alert-warning\">\n",
    "<b>构建Promp：</b><br/>\n",
    "    主流程prompt较为复杂，可以结合局部模板或pipeline分层构建，以方便维护。<br>\n",
    "（在王卓然老师的代码中有精彩的提炼）\n",
    "</div>\n",
    "\n",
    "下面是分布构建的过程，最后使用较简单的方式合并在一起。"
   ]
  },
  {
   "cell_type": "markdown",
   "id": "5fdcc94f-1435-48af-b124-31d4c8e746df",
   "metadata": {},
   "source": [
    "### 预定义模板"
   ]
  },
  {
   "cell_type": "markdown",
   "id": "3ec117c3-0f9a-4b51-bcd0-25df4a2ec658",
   "metadata": {},
   "source": [
    "#### 约束条件"
   ]
  },
  {
   "cell_type": "code",
   "execution_count": 41,
   "id": "6fac23c7-f92b-4f8b-8c03-4943a0a28e03",
   "metadata": {},
   "outputs": [],
   "source": [
    "constraints = \"\"\"\n",
    "1. 每次你的决策只使用一种工具，你可以使用任意多次。\n",
    "2. 确保你调用的指令或使用的工具在下述给定的工具列表中。\n",
    "3. 确保你的回答不会包含违法或有侵犯性的信息。\n",
    "4. 如果你已经完成所有任务，确保以\"FINISH\"指令结束。\n",
    "5. 用中文思考和输出。\n",
    "6. 如果执行某个指令或工具失败，尝试改变参数或参数格式再次调用。\n",
    "7. 你生成的回复必须遵循上文中给定的事实信息。不可以编造信息。DO NOT MAKE UP INFORMATION.\n",
    "8. 如果得到的结果不正确，尝试更换表达方式。\n",
    "9. 已经得到的信息，不要反复查询。\n",
    "10. 确保你生成的动作是可以精确执行的。动作做中可以包括具体方法和目标输出。\n",
    "11. 看到一个概念时尝试获取它的准确定义，并分析从哪些输入可以得到它的具体取值。\n",
    "12. 生成一个自然语言查询时，请在查询中包含全部的已知信息。\n",
    "13. 在执行分析或计算动作前，确保该分析或计算中涉及的所有子概念都已经得到了定义。\n",
    "14. 你不可以打印一个文件的全部内容，这样的操作代价太大，且会造成不可预期的后果，是被严格禁止的。\n",
    "15. 不要向用户提问。\n",
    "\"\"\""
   ]
  },
  {
   "cell_type": "markdown",
   "id": "acf9f683-ae9c-476a-9a13-6f4518e7aea1",
   "metadata": {},
   "source": [
    "#### 限定资源"
   ]
  },
  {
   "cell_type": "code",
   "execution_count": 42,
   "id": "4de61ea9-c770-4b0f-bc09-10636ee0c7de",
   "metadata": {},
   "outputs": [],
   "source": [
    "resources = \"\"\"\n",
    "1. 你可以查阅本地文件列表。\n",
    "2. 你可以读取本地文件。\n",
    "3. 你可以通过代码操作本地文件。\n",
    "4. 你有非常优秀的逻辑分析能力，可以通过因果关系找到最优的解决方案。\n",
    "\"\"\""
   ]
  },
  {
   "cell_type": "markdown",
   "id": "84ff8ce8-b8e7-42b4-afde-1bc2df1a01a0",
   "metadata": {},
   "source": [
    "#### 表现评估"
   ]
  },
  {
   "cell_type": "code",
   "execution_count": 43,
   "id": "b8a8a14d-00fb-4585-8062-782401012acd",
   "metadata": {},
   "outputs": [],
   "source": [
    "performance_evaluation = \"\"\"\n",
    "1. 尽你最大的努力，用你最好的水平，通过分析和检查，做出最好的决定。\n",
    "2. 带着全局观，自我反思你计划与动作。\n",
    "3. 考虑你之前的策略与决策来改善的你的计划。\n",
    "4. 如果你反复得到相同的结果，修改你的计划和决策，避免死循环。\n",
    "5. 如果你当前的动作无法获取到需要的信息，尝试展开关键概念的定义，再重新推理。\n",
    "\"\"\""
   ]
  },
  {
   "cell_type": "markdown",
   "id": "e609e968-da3a-4dcb-bb8f-c4bff2884ebf",
   "metadata": {},
   "source": [
    "#### 思考过程"
   ]
  },
  {
   "cell_type": "code",
   "execution_count": 44,
   "id": "a034c25d-ea5c-48db-a7a9-7bbe2707954a",
   "metadata": {},
   "outputs": [],
   "source": [
    "thought_instructions = \"\"\"\n",
    "关键概念: 任务中涉及的组合型概念或实体。已经明确获得取值的关键概念，将其取值完整备注在概念后。\n",
    "概念拆解: 将任务中的关键概念拆解为一系列待查询的子要素。每个关键概念一行，后接这个概念的子要素，每个子要素一行，行前以' -'开始。\n",
    "反思:\n",
    "    自我反思，观察以前的执行记录，思考概念拆解是否完整、准确。\n",
    "    一步步思考是否每一个的关键概念或要素的查询都得到了准确的结果。\n",
    "    反思你已经得到哪个要素/概念。你得到的要素/概念取值是否正确。从当前的信息中还不能得到哪些要素/概念。\n",
    "    每个反思一行，行前以' -'开始。\n",
    "思考: 观察执行记录和你的自我反思，并一步步思考\n",
    "  （1）分析要素间的依赖关系，例如：\n",
    "    i. 我是否需要先获得A的值/定义，才能通过A来获得B？\n",
    "    ii. 如果我先获得A，是否可以通过A筛选B，减少穷举每个B的代价？\n",
    "    iii. A和B是否存在在同一数据源中，我能否在获取A的同时获取B？\n",
    "    iv. 是否还有更高效或更聪明的办法来查询一个概念或要素？\n",
    "    v. 如果上一次尝试查询一个概念或要素时失败了，我是否可以尝试从另一个资源中再次查询？\n",
    "    vi. 诸如此类，你可以扩展更多的思考 ...\n",
    "  （2）根据以上分析，排列子要素间的查询优先级\n",
    "  （3）找出当前需要获得取值的子要素\n",
    "  注意，不要对要素的取值/定义做任何假设，确保你的信息来自给定的数据源！\n",
    "推理: 根据你的反思与思考，一步步推理被选择的子要素取值的获取方式。如果前一次的计划失败了，请检查输入中是否包含每个概念/要素的明确定义，并尝试细化你的查询描述。\n",
    "计划: 严格遵守以下规则，计划你的当前动作。\n",
    "  （1）详细列出当前动作的执行计划。只计划一步的动作。PLAN ONE STEP ONLY!\n",
    "  （2）一步步分析，包括数据源，对数据源的操作方式，对数据的分析方法。有哪些已知常量可以直接代入此次分析。\n",
    "  （3）不要尝试计算文件的每一个元素，这种计算代价太高，是严格禁止的。你可以通过分析找到更有效的方法，比如条件筛选。\n",
    "  （4）上述分析是否依赖某个要素的取值/定义，且该要素的取值/定义尚未获得。若果是，重新规划当前动作，确保所有依赖的要素的取值/定义都已经获得。\n",
    "  （5）不要对要素的取值/定义做任何假设，确保你的信息来自给定的数据源。不要编造信息。DO NOT MAKE UP ANY INFORMATION!!!\n",
    "  （6）确保你执行的动作涉及的所有要素都已获得确切的取值/定义。\n",
    "  （7）如果全部子任务已完成，请用FINISH动作结束任务。\n",
    "\"\"\""
   ]
  },
  {
   "cell_type": "markdown",
   "id": "5596b53d-1812-425b-8a61-1c9eadee04b7",
   "metadata": {},
   "source": [
    "### 需要动态生成的部份"
   ]
  },
  {
   "cell_type": "markdown",
   "id": "41816925-e431-4f9a-b03c-2087497093eb",
   "metadata": {},
   "source": [
    "#### 任务描述"
   ]
  },
  {
   "cell_type": "markdown",
   "id": "237d64ae-8ebb-4dff-89ba-ca7b961623a5",
   "metadata": {},
   "source": [
    "`task_description`应当是智能体每次收到的任务目标，在调用智能体循环思考和行动前动态填入。"
   ]
  },
  {
   "cell_type": "markdown",
   "id": "d385cb3e-9c2f-49cc-bb2f-44a9cd448fdd",
   "metadata": {},
   "source": [
    "#### 工作目录"
   ]
  },
  {
   "cell_type": "markdown",
   "id": "67a80b55-1ca4-458a-8634-c31ab86c2650",
   "metadata": {},
   "source": [
    "`work_dir`是智能体的工作文件夹，所有数据、文件都会放入这个位置。"
   ]
  },
  {
   "cell_type": "code",
   "execution_count": 45,
   "id": "5e0caaf1-e99a-46ff-bdab-9481e10fb116",
   "metadata": {},
   "outputs": [],
   "source": [
    "work_dir = \"./data/autogpt-demo\""
   ]
  },
  {
   "cell_type": "markdown",
   "id": "bf1a1d01-5460-44dd-a8e2-37081dbb2528",
   "metadata": {},
   "source": [
    "#### 长时记忆"
   ]
  },
  {
   "cell_type": "markdown",
   "id": "40930d0b-054c-4c59-9f89-772e4d858cca",
   "metadata": {},
   "source": [
    "`long_term_memory`是智能体完成了一次任务之后的最终输出，应当由代码自动生成并作为变量动态填入。"
   ]
  },
  {
   "cell_type": "markdown",
   "id": "22a9606d-53a1-4d49-9bf2-2a475ac0162b",
   "metadata": {},
   "source": [
    "#### 短时记忆"
   ]
  },
  {
   "cell_type": "markdown",
   "id": "483a0181-cd96-4852-88f3-f3781340d1c3",
   "metadata": {},
   "source": [
    "`short_term_memory`是智能体在经过一次思考和行动后产生的输出，应当由代码自动生成并作为变量动态填入。"
   ]
  },
  {
   "cell_type": "markdown",
   "id": "a0cd762b-2e71-494d-96cf-487fe7d856f3",
   "metadata": {},
   "source": [
    "#### 工具清单"
   ]
  },
  {
   "cell_type": "markdown",
   "id": "6d326dd7-7d6b-4407-be7e-b3429643e651",
   "metadata": {},
   "source": [
    "`tools`是为智能体定义的Tool列表，应当由代码自动生成并作为变量动态填入。"
   ]
  },
  {
   "cell_type": "markdown",
   "id": "8bec5d80-45bf-44c5-886f-08cac5cb8a50",
   "metadata": {},
   "source": [
    "#### 行动选择"
   ]
  },
  {
   "cell_type": "markdown",
   "id": "2afb59c1-f648-4713-95dc-474f40cced85",
   "metadata": {},
   "source": [
    "`format_instructions`对LLM提出要求：按照预定义的 Pydantic 格式要求生成。"
   ]
  },
  {
   "cell_type": "markdown",
   "id": "ac02502a-549c-490e-be0f-1cf4bba0f528",
   "metadata": {},
   "source": [
    "## 分步骤运行"
   ]
  },
  {
   "cell_type": "markdown",
   "id": "bb3bc3b2-8b91-4a0f-9fcc-15e3a103b497",
   "metadata": {},
   "source": [
    "### 定义Action输出解析"
   ]
  },
  {
   "cell_type": "markdown",
   "id": "ca2557ea-415b-4741-982d-d05009b9c513",
   "metadata": {},
   "source": [
    "#### 定义Action"
   ]
  },
  {
   "cell_type": "code",
   "execution_count": 103,
   "id": "455e834f-807f-4160-a7af-93c0bf673223",
   "metadata": {},
   "outputs": [],
   "source": [
    "from pydantic import BaseModel, Field\n",
    "from typing import List, Optional, Dict, Any\n",
    "\n",
    "class Action(BaseModel):\n",
    "    name: str = Field(description=\"工具或指令名称\")\n",
    "    args: Optional[Dict[str,Any]] = Field(default=None, description=\"工具或指令参数，由参数名称和参数值组成\")"
   ]
  },
  {
   "cell_type": "markdown",
   "id": "cfffde20-ba5b-419a-a196-96bf00304a59",
   "metadata": {},
   "source": [
    "#### OuptutParser"
   ]
  },
  {
   "cell_type": "code",
   "execution_count": 104,
   "id": "744396ec-d85f-4b41-9649-98b452f56327",
   "metadata": {},
   "outputs": [],
   "source": [
    "from langchain.output_parsers import PydanticOutputParser, OutputFixingParser\n",
    "\n",
    "# 解析Action\n",
    "action_output_parser = PydanticOutputParser(pydantic_object=Action)\n",
    "\n",
    "# 实现自动纠错\n",
    "robust_parser = OutputFixingParser.from_llm(parser=action_output_parser, llm=llm)"
   ]
  },
  {
   "cell_type": "markdown",
   "id": "1a6e6a84-92ac-4a78-9baf-dc5cb36d096b",
   "metadata": {},
   "source": [
    "#### 提示语中的action_parser"
   ]
  },
  {
   "cell_type": "code",
   "execution_count": 105,
   "id": "8b5ccebc-08b0-4654-aa72-5051c0c82e0c",
   "metadata": {
    "scrolled": true
   },
   "outputs": [],
   "source": [
    "action_parser = _chinese_friendly(action_output_parser.get_format_instructions())"
   ]
  },
  {
   "cell_type": "markdown",
   "id": "0272c0fe-2178-469a-b0fc-adc5a478cf77",
   "metadata": {},
   "source": [
    "### main_prompt"
   ]
  },
  {
   "cell_type": "code",
   "execution_count": 106,
   "id": "fd89cbb4-62e9-405f-8c08-9bc83a59a399",
   "metadata": {},
   "outputs": [],
   "source": [
    "from langchain.prompts import PromptTemplate\n",
    "prompt = PromptTemplate.from_template(\"\"\"\n",
    "你是强大的AI助手，可以使用工具与指令自动化解决问题。\n",
    "\n",
    "## 你必须遵循以下约束来完成任务:\n",
    "{constraints}\n",
    "\n",
    "## 你的任务是:\n",
    "{task_description}\n",
    "如果此任务显示“无”、“没有了”、“已完成”或类似表达，你直接输出下述工具中的FINISH即可。\n",
    "\n",
    "## 你需要的所有文件资料都在以下目录:\n",
    "dir_path={work_dir}\n",
    "\n",
    "## 你可以使用以下工具或指令，它们又称为动作或actions:\n",
    "{tools}\n",
    "\n",
    "## 你可以使用的资源包括:\n",
    "{resources}\n",
    "\n",
    "## 你需要评估你的表现:\n",
    "{performance_evaluation}\n",
    "\n",
    "## 相关的历史记录:\n",
    "{long_term_memory}\n",
    "\n",
    "## 当前的任务执行记录:\n",
    "{short_term_memory}\n",
    "\n",
    "## 输出形式：\n",
    "###（1）首先，根据以下格式说明，输出你的思考过程:\n",
    "{thought_instructions}\n",
    "\n",
    "###（2）然后，根据以下格式说明，输出你选择执行的动作/工具:\n",
    "{format_instructions}\n",
    "\"\"\")"
   ]
  },
  {
   "cell_type": "code",
   "execution_count": 107,
   "id": "0868766c-1046-4717-9474-c003dec84f4b",
   "metadata": {},
   "outputs": [
    {
     "name": "stdout",
     "output_type": "stream",
     "text": [
      "['constraints', 'format_instructions', 'long_term_memory', 'performance_evaluation', 'resources', 'short_term_memory', 'task_description', 'thought_instructions', 'tools', 'work_dir']\n"
     ]
    }
   ],
   "source": [
    "print(prompt.input_variables)"
   ]
  },
  {
   "cell_type": "code",
   "execution_count": 108,
   "id": "37ca5ade-cb08-4a6d-b811-3d16ffb54310",
   "metadata": {},
   "outputs": [],
   "source": [
    "main_prompt = prompt.partial(\n",
    "    constraints=constraints,\n",
    "    work_dir=\"./data/autogpt-demo\",\n",
    "    resources=resources,\n",
    "    performance_evaluation=performance_evaluation,\n",
    "    thought_instructions=thought_instructions,\n",
    "    format_instructions=action_parser\n",
    ")"
   ]
  },
  {
   "cell_type": "code",
   "execution_count": 109,
   "id": "7fb10688-d49a-48da-a477-f9079a9ac34a",
   "metadata": {},
   "outputs": [
    {
     "name": "stdout",
     "output_type": "stream",
     "text": [
      "['long_term_memory', 'short_term_memory', 'task_description', 'tools']\n"
     ]
    }
   ],
   "source": [
    "print(main_prompt.input_variables)"
   ]
  },
  {
   "cell_type": "markdown",
   "id": "3baa5cd7-c833-49bf-87e9-92d7f13cde2c",
   "metadata": {},
   "source": [
    "### final_prompt"
   ]
  },
  {
   "cell_type": "code",
   "execution_count": 110,
   "id": "054f7aa4-44bd-4065-8a18-b1906832c8dd",
   "metadata": {},
   "outputs": [],
   "source": [
    "final_prompt = PromptTemplate.from_template(\"\"\"\n",
    "你的任务是:\n",
    "{task_description}\n",
    "\n",
    "经过以下的思考过程，你已经完成任务:\n",
    "{short_term_memory}\n",
    "\n",
    "现在请详细给出你的最终答案:\n",
    "\"\"\")"
   ]
  },
  {
   "cell_type": "markdown",
   "id": "7c16ff28-4a6e-428c-8a65-820daf351d45",
   "metadata": {},
   "source": [
    "### 确定任务"
   ]
  },
  {
   "cell_type": "code",
   "execution_count": 111,
   "id": "1bc66800-4f67-421c-b7ae-bb62e28e1f00",
   "metadata": {},
   "outputs": [],
   "source": [
    "task = \"9月份的销售额是多少\""
   ]
  },
  {
   "cell_type": "markdown",
   "id": "1e4f7c3b-3145-4e37-b7f0-8a8bed4967b0",
   "metadata": {},
   "source": [
    "### 执行准备"
   ]
  },
  {
   "cell_type": "markdown",
   "id": "ac5f3835-208d-4050-a9d8-4e417d9a4c57",
   "metadata": {},
   "source": [
    "#### short_term_memory"
   ]
  },
  {
   "cell_type": "code",
   "execution_count": 112,
   "id": "5a5b72fe-4fd6-416b-a4e7-d2abcc8b70df",
   "metadata": {},
   "outputs": [],
   "source": [
    "from langchain.memory import ConversationTokenBufferMemory"
   ]
  },
  {
   "cell_type": "code",
   "execution_count": 113,
   "id": "8814a0af-f09c-46eb-a36d-338e34e7ada4",
   "metadata": {},
   "outputs": [],
   "source": [
    "# 构造一个基于Token缓存的记忆体\n",
    "short_term_memory = ConversationTokenBufferMemory(\n",
    "    llm=llm,\n",
    "    max_token_limit=4000,\n",
    ")\n",
    "\n",
    "# 初始化短时记忆\n",
    "short_term_memory.save_context(\n",
    "    {\"input\": \"\\n初始化\"},\n",
    "    {\"output\": \"\\n开始\"}\n",
    ")"
   ]
  },
  {
   "cell_type": "markdown",
   "id": "3524069c-48f0-419c-a6f5-b171d0ccd0f4",
   "metadata": {},
   "source": [
    "#### reason_chain"
   ]
  },
  {
   "cell_type": "code",
   "execution_count": 114,
   "id": "0ef61a5f-7165-49ef-a93e-27ec6e9a848d",
   "metadata": {},
   "outputs": [],
   "source": [
    "from langchain_openai import ChatOpenAI\n",
    "from langchain.schema.output_parser import StrOutputParser\n",
    "from langchain.tools.render import render_text_description"
   ]
  },
  {
   "cell_type": "code",
   "execution_count": 115,
   "id": "886d82af-6eee-46a4-8f8f-e9ed95740d05",
   "metadata": {},
   "outputs": [],
   "source": [
    "llm = ChatOpenAI(\n",
    "    model=\"gpt-4-1106-preview\",\n",
    "    temperature=0,\n",
    "    model_kwargs={\n",
    "        \"seed\": 42\n",
    "    },\n",
    ")"
   ]
  },
  {
   "cell_type": "markdown",
   "id": "d520530e-b9b1-41fa-a5ac-139c47f63ce2",
   "metadata": {},
   "source": [
    "<div class=\"alert alert-info\">\n",
    "<b>reason_chain：</b><br/>\n",
    "此时，只剩下了short_term_memory、long_term_memory和tools需要填充：<br>\n",
    "其中，short_term_memory用于保存中间步骤的运行结果，等待智能体运行时填充。<br>\n",
    "另外两个参数则有助于应用的灵活配置。\n",
    "</div>"
   ]
  },
  {
   "cell_type": "code",
   "execution_count": 116,
   "id": "a5b676bd-9079-460a-afc7-710961264796",
   "metadata": {},
   "outputs": [
    {
     "data": {
      "text/plain": [
       "PromptInput(long_term_memory=None, short_term_memory=None, tools=None)"
      ]
     },
     "execution_count": 116,
     "metadata": {},
     "output_type": "execute_result"
    }
   ],
   "source": [
    "reason_chain = main_prompt.partial(task_description=task)|llm\n",
    "\n",
    "reason_chain.first.input_schema()"
   ]
  },
  {
   "cell_type": "code",
   "execution_count": 117,
   "id": "1eed4492-3af9-4034-8877-2601d1158c27",
   "metadata": {
    "scrolled": true
   },
   "outputs": [
    {
     "name": "stdout",
     "output_type": "stream",
     "text": [
      "### 思考过程\n",
      "\n",
      "关键概念: 9月份销售额\n",
      "\n",
      "概念拆解:\n",
      "- 销售额: 通常指在一定时期内销售产品或服务所获得的收入总额。\n",
      "  - 时间范围: 9月份\n",
      "  - 数据格式: 数字，可能是一个总和或者是分条目累加的结果。\n",
      "\n",
      "反思:\n",
      "- 之前的执行记录中没有提供关于如何获取销售额的具体信息。\n",
      "- 需要检查是否有包含销售数据的文件，特别是与9月份相关的。\n",
      "- 目前还没有得到任何销售额的具体数值或计算方法。\n",
      "\n",
      "思考:\n",
      "- 需要先检查是否存在包含销售数据的文件。\n",
      "- 如果存在多个文件，需要确定哪个文件包含了9月份的销售数据。\n",
      "- 如果销售数据分散在多个文件中，可能需要汇总这些数据来计算9月份的销售额。\n",
      "- 如果文件名或内容包含日期信息，可以通过日期筛选出9月份的数据。\n",
      "\n",
      "推理:\n",
      "- 首先，需要查看目录下的文件列表，找出可能包含销售数据的文件。\n",
      "- 然后，读取这些文件，查找与9月份销售额相关的数据。\n",
      "- 如果文件内容包含日期和销售额，可以通过筛选日期来获取9月份的销售数据。\n",
      "\n",
      "计划:\n",
      "- 执行动作，查看目录下的文件列表。\n",
      "- 分析文件列表，找出可能包含9月份销售数据的文件。\n",
      "- 如果找到相关文件，计划读取文件内容以获取销售数据。\n",
      "\n",
      "### 执行动作\n",
      "\n",
      "```json\n",
      "{\n",
      "  \"name\": \"查阅本地文件列表\",\n",
      "  \"args\": {\n",
      "    \"dir_path\": \"./data/autogpt-demo\"\n",
      "  }\n",
      "}\n",
      "```"
     ]
    }
   ],
   "source": [
    "chain = main_prompt.partial(task_description=\"9月份销售额\")|llm\n",
    "resp = chain.stream({'tools':\"\", 'long_term_memory':\"\", 'short_term_memory':\"\"})\n",
    "for chunk in resp:\n",
    "    print(chunk.content, end=\"\")"
   ]
  },
  {
   "cell_type": "markdown",
   "id": "d6ac9d8a-805c-4561-916f-bfff33e51031",
   "metadata": {},
   "source": [
    "#### final_chain"
   ]
  },
  {
   "cell_type": "code",
   "execution_count": 118,
   "id": "4bad2179-3dae-4bc9-aad9-8c3f05120b8e",
   "metadata": {},
   "outputs": [],
   "source": [
    "final_chain = final_prompt.partial(task_description=task) | llm | StrOutputParser()"
   ]
  },
  {
   "cell_type": "markdown",
   "id": "ed7d7521-dbfe-4fc9-9630-061e8eddf25c",
   "metadata": {},
   "source": [
    "#### _step"
   ]
  },
  {
   "cell_type": "code",
   "execution_count": 119,
   "id": "7f828f39-df49-4565-aea2-e6ee59face0a",
   "metadata": {},
   "outputs": [],
   "source": [
    "from langchain.tools.render import render_text_description\n",
    "from langchain.memory.chat_memory import BaseChatMemory\n",
    "\n",
    "def _format_short_term_memory(memory: BaseChatMemory) -> str:\n",
    "    messages = memory.chat_memory.messages\n",
    "    string_messages = [messages[i].content for i in range(1,len(messages))]\n",
    "    return \"\\n\".join(string_messages)\n",
    "\n",
    "# reason_chain\n",
    "# short_term_memory\n",
    "# tools\n",
    "# action_output_parser\n",
    "# _format_short_term_memory\n",
    "# color_print\n",
    "def _step(memory):\n",
    "    # 输出LLM结果\n",
    "    response = \"\"\n",
    "    for chunk in reason_chain.stream({\n",
    "        \"short_term_memory\": _format_short_term_memory(memory),\n",
    "        \"long_term_memory\": \"\",\n",
    "        \"tools\": render_text_description(tools)\n",
    "    }):\n",
    "        color_print(chunk.content, THOUGHT_COLOR, end=\"\")\n",
    "        response += chunk.content\n",
    "\n",
    "    # 输出Action\n",
    "    action = action_output_parser.parse(response)\n",
    "    \n",
    "    return action, response"
   ]
  },
  {
   "cell_type": "markdown",
   "id": "d070d91d-6f22-486a-b242-dd6b8cf93667",
   "metadata": {},
   "source": [
    "#### _final_step"
   ]
  },
  {
   "cell_type": "code",
   "execution_count": 120,
   "id": "c85e2c08-de25-4c2c-887d-7dc40e62a2bf",
   "metadata": {},
   "outputs": [],
   "source": [
    "def _final_step(memory) -> str:\n",
    "    \"\"\"最后一步, 生成最终的输出\"\"\"\n",
    "    response = final_chain.invoke({\n",
    "        \"short_term_memory\": _format_short_term_memory(memory)\n",
    "    })\n",
    "    return response"
   ]
  },
  {
   "cell_type": "markdown",
   "id": "b7da67ec-6e49-437d-9605-b0bc84028514",
   "metadata": {},
   "source": [
    "#### _exec_action"
   ]
  },
  {
   "cell_type": "code",
   "execution_count": 121,
   "id": "24a3cd40-7a6d-4e1a-9438-71bd49eefa5d",
   "metadata": {},
   "outputs": [],
   "source": [
    "from langchain.tools.base import BaseTool\n",
    "\n",
    "def _find_tool(tool_name: str) -> Optional[BaseTool]:\n",
    "    for tool in tools:\n",
    "        if tool.name == tool_name:\n",
    "            return tool\n",
    "    return None"
   ]
  },
  {
   "cell_type": "code",
   "execution_count": 122,
   "id": "b2c58f15-c8c8-400f-9f0c-89aa7cfb60ff",
   "metadata": {},
   "outputs": [],
   "source": [
    "from pydantic import ValidationError\n",
    "\n",
    "def _exec_action(action: Action) -> str:\n",
    "    # 查找工具\n",
    "    tool = _find_tool(action.name)\n",
    "    # action_expr = format_action(action)\n",
    "    if tool is None:\n",
    "        observation = (\n",
    "            f\"Error: 找不到工具或指令 '{action.name}'. \"\n",
    "            f\"请从提供的工具/指令列表中选择，请确保按对顶格式输出。\"\n",
    "        )\n",
    "\n",
    "    else:\n",
    "        try:\n",
    "            # 执行工具\n",
    "            observation = tool.run(action.args)\n",
    "        except ValidationError as e:\n",
    "            # 工具的入参异常\n",
    "            observation = (\n",
    "                f\"Validation Error in args: {str(e)}, args: {action.args}\"\n",
    "            )\n",
    "        except Exception as e:\n",
    "            # 工具执行异常\n",
    "            observation = f\"Error: {str(e)}, {type(e).__name__}, args: {action.args}\"\n",
    "\n",
    "    return observation"
   ]
  },
  {
   "cell_type": "markdown",
   "id": "dc80f890-45da-4f83-bf99-ee80f859a740",
   "metadata": {},
   "source": [
    "### 尝试分步骤运行智能体"
   ]
  },
  {
   "cell_type": "markdown",
   "id": "027f1b41-830d-4b96-b365-1e192b021799",
   "metadata": {},
   "source": [
    "<div class=\"alert alert-info\">\n",
    "<b>一步步探索：</b><br/>\n",
    "    万事具备，下面一步步探查智能体的每一个执行细节。\n",
    "</div>"
   ]
  },
  {
   "cell_type": "markdown",
   "id": "297f2cb2-1f63-452a-836d-733cbf575f78",
   "metadata": {},
   "source": [
    "#### step1：思考"
   ]
  },
  {
   "cell_type": "code",
   "execution_count": 68,
   "id": "2139724b-e1da-4a6f-9745-7a803d6ea70e",
   "metadata": {},
   "outputs": [
    {
     "name": "stdout",
     "output_type": "stream",
     "text": [
      "\u001b[32m\u001b[0m\u001b[32m###\u001b[0m\u001b[32m 思\u001b[0m\u001b[32m考\u001b[0m\u001b[32m过\u001b[0m\u001b[32m程\u001b[0m\u001b[32m\n",
      "\n",
      "\u001b[0m\u001b[32m关\u001b[0m\u001b[32m键\u001b[0m\u001b[32m概\u001b[0m\u001b[32m念\u001b[0m\u001b[32m:\u001b[0m\u001b[32m 销\u001b[0m\u001b[32m售\u001b[0m\u001b[32m额\u001b[0m\u001b[32m -\u001b[0m\u001b[32m \u001b[0m\u001b[32m一个\u001b[0m\u001b[32m时间\u001b[0m\u001b[32m段\u001b[0m\u001b[32m内\u001b[0m\u001b[32m销\u001b[0m\u001b[32m售\u001b[0m\u001b[32m产品\u001b[0m\u001b[32m或\u001b[0m\u001b[32m服务\u001b[0m\u001b[32m所\u001b[0m\u001b[32m获\u001b[0m\u001b[32m得\u001b[0m\u001b[32m的\u001b[0m\u001b[32m总\u001b[0m\u001b[32m收\u001b[0m\u001b[32m入\u001b[0m\u001b[32m。\n",
      "\n",
      "\u001b[0m\u001b[32m概\u001b[0m\u001b[32m念\u001b[0m\u001b[32m拆\u001b[0m\u001b[32m解\u001b[0m\u001b[32m:\n",
      "\u001b[0m\u001b[32m-\u001b[0m\u001b[32m 销\u001b[0m\u001b[32m售\u001b[0m\u001b[32m额\u001b[0m\u001b[32m\n",
      "\u001b[0m\u001b[32m \u001b[0m\u001b[32m -\u001b[0m\u001b[32m 时间\u001b[0m\u001b[32m段\u001b[0m\u001b[32m:\u001b[0m\u001b[32m 需\u001b[0m\u001b[32m要\u001b[0m\u001b[32m确定\u001b[0m\u001b[32m是\u001b[0m\u001b[32m哪\u001b[0m\u001b[32m个\u001b[0m\u001b[32m月\u001b[0m\u001b[32m份\u001b[0m\u001b[32m的\u001b[0m\u001b[32m销\u001b[0m\u001b[32m售\u001b[0m\u001b[32m额\u001b[0m\u001b[32m，\u001b[0m\u001b[32m本\u001b[0m\u001b[32m任务\u001b[0m\u001b[32m中\u001b[0m\u001b[32m为\u001b[0m\u001b[32m9\u001b[0m\u001b[32m月\u001b[0m\u001b[32m份\u001b[0m\u001b[32m。\n",
      "\u001b[0m\u001b[32m \u001b[0m\u001b[32m -\u001b[0m\u001b[32m 数据\u001b[0m\u001b[32m来源\u001b[0m\u001b[32m:\u001b[0m\u001b[32m 需\u001b[0m\u001b[32m要\u001b[0m\u001b[32m确定\u001b[0m\u001b[32m销\u001b[0m\u001b[32m售\u001b[0m\u001b[32m额\u001b[0m\u001b[32m数据\u001b[0m\u001b[32m存\u001b[0m\u001b[32m储\u001b[0m\u001b[32m在\u001b[0m\u001b[32m哪\u001b[0m\u001b[32m里\u001b[0m\u001b[32m，\u001b[0m\u001b[32m可能\u001b[0m\u001b[32m是\u001b[0m\u001b[32mExcel\u001b[0m\u001b[32m表\u001b[0m\u001b[32m格\u001b[0m\u001b[32m、\u001b[0m\u001b[32m数据库\u001b[0m\u001b[32m或\u001b[0m\u001b[32m文\u001b[0m\u001b[32m档\u001b[0m\u001b[32m中\u001b[0m\u001b[32m。\n",
      "\n",
      "\u001b[0m\u001b[32m反\u001b[0m\u001b[32m思\u001b[0m\u001b[32m:\n",
      "\u001b[0m\u001b[32m-\u001b[0m\u001b[32m 我\u001b[0m\u001b[32m需要\u001b[0m\u001b[32m找\u001b[0m\u001b[32m到\u001b[0m\u001b[32m包\u001b[0m\u001b[32m含\u001b[0m\u001b[32m9\u001b[0m\u001b[32m月\u001b[0m\u001b[32m份\u001b[0m\u001b[32m销\u001b[0m\u001b[32m售\u001b[0m\u001b[32m额\u001b[0m\u001b[32m数据\u001b[0m\u001b[32m的\u001b[0m\u001b[32m文件\u001b[0m\u001b[32m。\n",
      "\u001b[0m\u001b[32m-\u001b[0m\u001b[32m 我\u001b[0m\u001b[32m还\u001b[0m\u001b[32m没有\u001b[0m\u001b[32m得\u001b[0m\u001b[32m到\u001b[0m\u001b[32m任\u001b[0m\u001b[32m何\u001b[0m\u001b[32m要\u001b[0m\u001b[32m素\u001b[0m\u001b[32m/\u001b[0m\u001b[32m概\u001b[0m\u001b[32m念\u001b[0m\u001b[32m的\u001b[0m\u001b[32m取\u001b[0m\u001b[32m值\u001b[0m\u001b[32m。\n",
      "\u001b[0m\u001b[32m-\u001b[0m\u001b[32m 当\u001b[0m\u001b[32m前\u001b[0m\u001b[32m信息\u001b[0m\u001b[32m中\u001b[0m\u001b[32m还\u001b[0m\u001b[32m不能\u001b[0m\u001b[32m确定\u001b[0m\u001b[32m销\u001b[0m\u001b[32m售\u001b[0m\u001b[32m额\u001b[0m\u001b[32m的\u001b[0m\u001b[32m具\u001b[0m\u001b[32m体\u001b[0m\u001b[32m数\u001b[0m\u001b[32m值\u001b[0m\u001b[32m。\n",
      "\n",
      "\u001b[0m\u001b[32m思\u001b[0m\u001b[32m考\u001b[0m\u001b[32m:\n",
      "\u001b[0m\u001b[32m-\u001b[0m\u001b[32m 我\u001b[0m\u001b[32m需要\u001b[0m\u001b[32m先\u001b[0m\u001b[32m确定\u001b[0m\u001b[32m数据\u001b[0m\u001b[32m存\u001b[0m\u001b[32m储\u001b[0m\u001b[32m的\u001b[0m\u001b[32m位置\u001b[0m\u001b[32m，\u001b[0m\u001b[32m才\u001b[0m\u001b[32m能\u001b[0m\u001b[32m查询\u001b[0m\u001b[32m到\u001b[0m\u001b[32m9\u001b[0m\u001b[32m月\u001b[0m\u001b[32m份\u001b[0m\u001b[32m的\u001b[0m\u001b[32m销\u001b[0m\u001b[32m售\u001b[0m\u001b[32m额\u001b[0m\u001b[32m。\n",
      "\u001b[0m\u001b[32m-\u001b[0m\u001b[32m 如果\u001b[0m\u001b[32m销\u001b[0m\u001b[32m售\u001b[0m\u001b[32m数据\u001b[0m\u001b[32m存\u001b[0m\u001b[32m储\u001b[0m\u001b[32m在\u001b[0m\u001b[32mExcel\u001b[0m\u001b[32m表\u001b[0m\u001b[32m格\u001b[0m\u001b[32m中\u001b[0m\u001b[32m，\u001b[0m\u001b[32m我\u001b[0m\u001b[32m可以\u001b[0m\u001b[32m通过\u001b[0m\u001b[32mInspect\u001b[0m\u001b[32mExcel\u001b[0m\u001b[32m工\u001b[0m\u001b[32m具\u001b[0m\u001b[32m来\u001b[0m\u001b[32m查\u001b[0m\u001b[32m看\u001b[0m\u001b[32m表\u001b[0m\u001b[32m格\u001b[0m\u001b[32m结\u001b[0m\u001b[32m构\u001b[0m\u001b[32m，\u001b[0m\u001b[32m然\u001b[0m\u001b[32m后\u001b[0m\u001b[32m通过\u001b[0m\u001b[32mAnaly\u001b[0m\u001b[32mse\u001b[0m\u001b[32mExcel\u001b[0m\u001b[32m工\u001b[0m\u001b[32m具\u001b[0m\u001b[32m来\u001b[0m\u001b[32m获取\u001b[0m\u001b[32m具\u001b[0m\u001b[32m体\u001b[0m\u001b[32m的\u001b[0m\u001b[32m销\u001b[0m\u001b[32m售\u001b[0m\u001b[32m额\u001b[0m\u001b[32m。\n",
      "\u001b[0m\u001b[32m-\u001b[0m\u001b[32m 如果\u001b[0m\u001b[32m销\u001b[0m\u001b[32m售\u001b[0m\u001b[32m数据\u001b[0m\u001b[32m存\u001b[0m\u001b[32m储\u001b[0m\u001b[32m在\u001b[0m\u001b[32mWord\u001b[0m\u001b[32m或\u001b[0m\u001b[32mPDF\u001b[0m\u001b[32m文\u001b[0m\u001b[32m档\u001b[0m\u001b[32m中\u001b[0m\u001b[32m，\u001b[0m\u001b[32m我\u001b[0m\u001b[32m可以\u001b[0m\u001b[32m使用\u001b[0m\u001b[32mAsk\u001b[0m\u001b[32mDocument\u001b[0m\u001b[32m工\u001b[0m\u001b[32m具\u001b[0m\u001b[32m来\u001b[0m\u001b[32m查询\u001b[0m\u001b[32m。\n",
      "\u001b[0m\u001b[32m-\u001b[0m\u001b[32m 我\u001b[0m\u001b[32m需要\u001b[0m\u001b[32m先\u001b[0m\u001b[32m使用\u001b[0m\u001b[32mList\u001b[0m\u001b[32mDirectory\u001b[0m\u001b[32m工\u001b[0m\u001b[32m具\u001b[0m\u001b[32m来\u001b[0m\u001b[32m查\u001b[0m\u001b[32m看\u001b[0m\u001b[32m数据\u001b[0m\u001b[32m存\u001b[0m\u001b[32m储\u001b[0m\u001b[32m的\u001b[0m\u001b[32m位置\u001b[0m\u001b[32m。\n",
      "\n",
      "\u001b[0m\u001b[32m推\u001b[0m\u001b[32m理\u001b[0m\u001b[32m:\n",
      "\u001b[0m\u001b[32m-\u001b[0m\u001b[32m 根\u001b[0m\u001b[32m据\u001b[0m\u001b[32m任务\u001b[0m\u001b[32m要\u001b[0m\u001b[32m求\u001b[0m\u001b[32m，\u001b[0m\u001b[32m我\u001b[0m\u001b[32m需要\u001b[0m\u001b[32m查\u001b[0m\u001b[32m找\u001b[0m\u001b[32m包\u001b[0m\u001b[32m含\u001b[0m\u001b[32m9\u001b[0m\u001b[32m月\u001b[0m\u001b[32m份\u001b[0m\u001b[32m销\u001b[0m\u001b[32m售\u001b[0m\u001b[32m额\u001b[0m\u001b[32m数据\u001b[0m\u001b[32m的\u001b[0m\u001b[32m文件\u001b[0m\u001b[32m，\u001b[0m\u001b[32m这\u001b[0m\u001b[32m可能\u001b[0m\u001b[32m是\u001b[0m\u001b[32m一个\u001b[0m\u001b[32mExcel\u001b[0m\u001b[32m文件\u001b[0m\u001b[32m或\u001b[0m\u001b[32m其他\u001b[0m\u001b[32m格式\u001b[0m\u001b[32m的\u001b[0m\u001b[32m文\u001b[0m\u001b[32m档\u001b[0m\u001b[32m。\n",
      "\u001b[0m\u001b[32m-\u001b[0m\u001b[32m 我\u001b[0m\u001b[32m将\u001b[0m\u001b[32m首\u001b[0m\u001b[32m先\u001b[0m\u001b[32m使用\u001b[0m\u001b[32mList\u001b[0m\u001b[32mDirectory\u001b[0m\u001b[32m工\u001b[0m\u001b[32m具\u001b[0m\u001b[32m来\u001b[0m\u001b[32m列\u001b[0m\u001b[32m出\u001b[0m\u001b[32m可能\u001b[0m\u001b[32m包\u001b[0m\u001b[32m含\u001b[0m\u001b[32m销\u001b[0m\u001b[32m售\u001b[0m\u001b[32m数据\u001b[0m\u001b[32m的\u001b[0m\u001b[32m文件\u001b[0m\u001b[32m夹\u001b[0m\u001b[32m内容\u001b[0m\u001b[32m。\n",
      "\n",
      "\u001b[0m\u001b[32m计\u001b[0m\u001b[32m划\u001b[0m\u001b[32m:\n",
      "\u001b[0m\u001b[32m-\u001b[0m\u001b[32m 我\u001b[0m\u001b[32m将\u001b[0m\u001b[32m使用\u001b[0m\u001b[32mList\u001b[0m\u001b[32mDirectory\u001b[0m\u001b[32m工\u001b[0m\u001b[32m具\u001b[0m\u001b[32m来\u001b[0m\u001b[32m列\u001b[0m\u001b[32m出\u001b[0m\u001b[32m\"./\u001b[0m\u001b[32mdata\u001b[0m\u001b[32m/\u001b[0m\u001b[32maut\u001b[0m\u001b[32mog\u001b[0m\u001b[32mpt\u001b[0m\u001b[32m-demo\u001b[0m\u001b[32m\"\u001b[0m\u001b[32m目\u001b[0m\u001b[32m录\u001b[0m\u001b[32m下\u001b[0m\u001b[32m的\u001b[0m\u001b[32m文件\u001b[0m\u001b[32m和\u001b[0m\u001b[32m文件\u001b[0m\u001b[32m夹\u001b[0m\u001b[32m，\u001b[0m\u001b[32m以\u001b[0m\u001b[32m便\u001b[0m\u001b[32m找\u001b[0m\u001b[32m到\u001b[0m\u001b[32m可能\u001b[0m\u001b[32m包\u001b[0m\u001b[32m含\u001b[0m\u001b[32m9\u001b[0m\u001b[32m月\u001b[0m\u001b[32m份\u001b[0m\u001b[32m销\u001b[0m\u001b[32m售\u001b[0m\u001b[32m额\u001b[0m\u001b[32m数据\u001b[0m\u001b[32m的\u001b[0m\u001b[32m文件\u001b[0m\u001b[32m。\n",
      "\n",
      "\u001b[0m\u001b[32m###\u001b[0m\u001b[32m 执行\u001b[0m\u001b[32m动\u001b[0m\u001b[32m作\u001b[0m\u001b[32m\n",
      "\n",
      "\u001b[0m\u001b[32m```\u001b[0m\u001b[32mjson\u001b[0m\u001b[32m\n",
      "\u001b[0m\u001b[32m{\n",
      "\u001b[0m\u001b[32m \u001b[0m\u001b[32m \"\u001b[0m\u001b[32mname\u001b[0m\u001b[32m\":\u001b[0m\u001b[32m \"\u001b[0m\u001b[32mList\u001b[0m\u001b[32mDirectory\u001b[0m\u001b[32m\",\n",
      "\u001b[0m\u001b[32m \u001b[0m\u001b[32m \"\u001b[0m\u001b[32margs\u001b[0m\u001b[32m\":\u001b[0m\u001b[32m {\n",
      "\u001b[0m\u001b[32m   \u001b[0m\u001b[32m \"\u001b[0m\u001b[32mpath\u001b[0m\u001b[32m\":\u001b[0m\u001b[32m \"./\u001b[0m\u001b[32mdata\u001b[0m\u001b[32m/\u001b[0m\u001b[32maut\u001b[0m\u001b[32mog\u001b[0m\u001b[32mpt\u001b[0m\u001b[32m-demo\u001b[0m\u001b[32m\"\n",
      "\u001b[0m\u001b[32m \u001b[0m\u001b[32m }\n",
      "\u001b[0m\u001b[32m}\n",
      "\u001b[0m\u001b[32m```\u001b[0m\u001b[32m\u001b[0m\n",
      "\n",
      " - - - - - - \n",
      "name='ListDirectory' args={'path': './data/autogpt-demo'}\n"
     ]
    }
   ],
   "source": [
    "action, response = _step(short_term_memory)\n",
    "print(\"\\n\\n - - - - - - \")\n",
    "print(action)"
   ]
  },
  {
   "cell_type": "markdown",
   "id": "e69ec88d-c7db-4169-a12a-0a5775760b1a",
   "metadata": {},
   "source": [
    "#### step1：行动"
   ]
  },
  {
   "cell_type": "code",
   "execution_count": 67,
   "id": "1def275a-049f-4165-b246-a8e8ace4d4ba",
   "metadata": {},
   "outputs": [],
   "source": [
    "observation = _exec_action(action)"
   ]
  },
  {
   "cell_type": "code",
   "execution_count": 68,
   "id": "37fbc7b4-bd45-4e6d-b0a6-42cb5ce8ded4",
   "metadata": {},
   "outputs": [
    {
     "name": "stdout",
     "output_type": "stream",
     "text": [
      "\u001b[33m\n",
      "----\n",
      "结果:\n",
      ".DS_Store\n",
      "2023年8月-9月销售记录.xlsx\n",
      "供应商名录.xlsx\n",
      "求职简历.docx\n",
      "供应商资格要求.pdf\u001b[0m\n"
     ]
    }
   ],
   "source": [
    "color_print(f\"\\n----\\n结果:\\n{observation}\", OBSERVATION_COLOR)"
   ]
  },
  {
   "cell_type": "markdown",
   "id": "ab485789-ef72-4b88-8d8d-0a90d6f02982",
   "metadata": {},
   "source": [
    "#### step1：观察"
   ]
  },
  {
   "cell_type": "code",
   "execution_count": 69,
   "id": "3334389b-520c-4f08-9059-3b23e1e8643f",
   "metadata": {},
   "outputs": [],
   "source": [
    "short_term_memory.save_context(\n",
    "    {\"input\": response},\n",
    "    {\"output\": \"返回结果:\\n\" + observation}\n",
    ")"
   ]
  },
  {
   "cell_type": "markdown",
   "id": "a26a9277-8073-4cae-a7aa-77c77c3cd973",
   "metadata": {},
   "source": [
    "#### step2：思考"
   ]
  },
  {
   "cell_type": "code",
   "execution_count": 70,
   "id": "2f530db0-8f54-4458-bb21-480adf07857e",
   "metadata": {},
   "outputs": [
    {
     "name": "stdout",
     "output_type": "stream",
     "text": [
      "\u001b[32m\u001b[0m\u001b[32m###\u001b[0m\u001b[32m 思\u001b[0m\u001b[32m考\u001b[0m\u001b[32m过\u001b[0m\u001b[32m程\u001b[0m\u001b[32m：\n",
      "\n",
      "\u001b[0m\u001b[32m关\u001b[0m\u001b[32m键\u001b[0m\u001b[32m概\u001b[0m\u001b[32m念\u001b[0m\u001b[32m:\u001b[0m\u001b[32m \u001b[0m\u001b[32m9\u001b[0m\u001b[32m月\u001b[0m\u001b[32m份\u001b[0m\u001b[32m的\u001b[0m\u001b[32m销\u001b[0m\u001b[32m售\u001b[0m\u001b[32m额\u001b[0m\u001b[32m\n",
      "\n",
      "\u001b[0m\u001b[32m概\u001b[0m\u001b[32m念\u001b[0m\u001b[32m拆\u001b[0m\u001b[32m解\u001b[0m\u001b[32m:\n",
      "\u001b[0m\u001b[32m-\u001b[0m\u001b[32m 销\u001b[0m\u001b[32m售\u001b[0m\u001b[32m额\u001b[0m\u001b[32m:\u001b[0m\u001b[32m 某\u001b[0m\u001b[32m个\u001b[0m\u001b[32m时间\u001b[0m\u001b[32m段\u001b[0m\u001b[32m内\u001b[0m\u001b[32m完成\u001b[0m\u001b[32m销\u001b[0m\u001b[32m售\u001b[0m\u001b[32m的\u001b[0m\u001b[32m总\u001b[0m\u001b[32m金额\u001b[0m\u001b[32m\n",
      "\u001b[0m\u001b[32m-\u001b[0m\u001b[32m \u001b[0m\u001b[32m9\u001b[0m\u001b[32m月\u001b[0m\u001b[32m份\u001b[0m\u001b[32m:\u001b[0m\u001b[32m 表\u001b[0m\u001b[32m示\u001b[0m\u001b[32m查询\u001b[0m\u001b[32m的\u001b[0m\u001b[32m特\u001b[0m\u001b[32m定\u001b[0m\u001b[32m时间\u001b[0m\u001b[32m段\u001b[0m\u001b[32m范\u001b[0m\u001b[32m围\u001b[0m\u001b[32m\n",
      "\n",
      "\u001b[0m\u001b[32m反\u001b[0m\u001b[32m思\u001b[0m\u001b[32m:\n",
      "\u001b[0m\u001b[32m-\u001b[0m\u001b[32m 文件\u001b[0m\u001b[32m列表\u001b[0m\u001b[32m中\u001b[0m\u001b[32m有\u001b[0m\u001b[32m一个\u001b[0m\u001b[32m名\u001b[0m\u001b[32m为\u001b[0m\u001b[32m“\u001b[0m\u001b[32m202\u001b[0m\u001b[32m3\u001b[0m\u001b[32m年\u001b[0m\u001b[32m8\u001b[0m\u001b[32m月\u001b[0m\u001b[32m-\u001b[0m\u001b[32m9\u001b[0m\u001b[32m月\u001b[0m\u001b[32m销\u001b[0m\u001b[32m售\u001b[0m\u001b[32m记录\u001b[0m\u001b[32m.xlsx\u001b[0m\u001b[32m”的\u001b[0m\u001b[32m文件\u001b[0m\u001b[32m，\u001b[0m\u001b[32m这\u001b[0m\u001b[32m个\u001b[0m\u001b[32m文件\u001b[0m\u001b[32m很\u001b[0m\u001b[32m可能\u001b[0m\u001b[32m包\u001b[0m\u001b[32m含\u001b[0m\u001b[32m了\u001b[0m\u001b[32m9\u001b[0m\u001b[32m月\u001b[0m\u001b[32m份\u001b[0m\u001b[32m的\u001b[0m\u001b[32m销\u001b[0m\u001b[32m售\u001b[0m\u001b[32m记录\u001b[0m\u001b[32m。\n",
      "\u001b[0m\u001b[32m-\u001b[0m\u001b[32m 我\u001b[0m\u001b[32m需要\u001b[0m\u001b[32m检\u001b[0m\u001b[32m查\u001b[0m\u001b[32m这\u001b[0m\u001b[32m个\u001b[0m\u001b[32mExcel\u001b[0m\u001b[32m文件\u001b[0m\u001b[32m，\u001b[0m\u001b[32m以\u001b[0m\u001b[32m确定\u001b[0m\u001b[32m它\u001b[0m\u001b[32m是否\u001b[0m\u001b[32m包\u001b[0m\u001b[32m含\u001b[0m\u001b[32m9\u001b[0m\u001b[32m月\u001b[0m\u001b[32m份\u001b[0m\u001b[32m的\u001b[0m\u001b[32m销\u001b[0m\u001b[32m售\u001b[0m\u001b[32m数据\u001b[0m\u001b[32m。\n",
      "\n",
      "\u001b[0m\u001b[32m思\u001b[0m\u001b[32m考\u001b[0m\u001b[32m:\n",
      "\u001b[0m\u001b[32m-\u001b[0m\u001b[32m 我\u001b[0m\u001b[32m需要\u001b[0m\u001b[32m使用\u001b[0m\u001b[32mInspect\u001b[0m\u001b[32mExcel\u001b[0m\u001b[32m工\u001b[0m\u001b[32m具\u001b[0m\u001b[32m来\u001b[0m\u001b[32m查\u001b[0m\u001b[32m看\u001b[0m\u001b[32m“\u001b[0m\u001b[32m202\u001b[0m\u001b[32m3\u001b[0m\u001b[32m年\u001b[0m\u001b[32m8\u001b[0m\u001b[32m月\u001b[0m\u001b[32m-\u001b[0m\u001b[32m9\u001b[0m\u001b[32m月\u001b[0m\u001b[32m销\u001b[0m\u001b[32m售\u001b[0m\u001b[32m记录\u001b[0m\u001b[32m.xlsx\u001b[0m\u001b[32m”\u001b[0m\u001b[32m文件\u001b[0m\u001b[32m的\u001b[0m\u001b[32m内容\u001b[0m\u001b[32m和\u001b[0m\u001b[32m结\u001b[0m\u001b[32m构\u001b[0m\u001b[32m。\n",
      "\u001b[0m\u001b[32m-\u001b[0m\u001b[32m 这\u001b[0m\u001b[32m将\u001b[0m\u001b[32m帮\u001b[0m\u001b[32m助\u001b[0m\u001b[32m我\u001b[0m\u001b[32m了\u001b[0m\u001b[32m解\u001b[0m\u001b[32m文件\u001b[0m\u001b[32m的\u001b[0m\u001b[32m列\u001b[0m\u001b[32m名\u001b[0m\u001b[32m和\u001b[0m\u001b[32m数据\u001b[0m\u001b[32m结\u001b[0m\u001b[32m构\u001b[0m\u001b[32m，\u001b[0m\u001b[32m以\u001b[0m\u001b[32m便\u001b[0m\u001b[32m我\u001b[0m\u001b[32m可以\u001b[0m\u001b[32m进\u001b[0m\u001b[32m一\u001b[0m\u001b[32m步\u001b[0m\u001b[32m分\u001b[0m\u001b[32m析\u001b[0m\u001b[32m9\u001b[0m\u001b[32m月\u001b[0m\u001b[32m份\u001b[0m\u001b[32m的\u001b[0m\u001b[32m销\u001b[0m\u001b[32m售\u001b[0m\u001b[32m额\u001b[0m\u001b[32m。\n",
      "\n",
      "\u001b[0m\u001b[32m推\u001b[0m\u001b[32m理\u001b[0m\u001b[32m:\n",
      "\u001b[0m\u001b[32m-\u001b[0m\u001b[32m 我\u001b[0m\u001b[32m将\u001b[0m\u001b[32m调\u001b[0m\u001b[32m用\u001b[0m\u001b[32mInspect\u001b[0m\u001b[32mExcel\u001b[0m\u001b[32m工\u001b[0m\u001b[32m具\u001b[0m\u001b[32m，\u001b[0m\u001b[32m查\u001b[0m\u001b[32m看\u001b[0m\u001b[32m“\u001b[0m\u001b[32m202\u001b[0m\u001b[32m3\u001b[0m\u001b[32m年\u001b[0m\u001b[32m8\u001b[0m\u001b[32m月\u001b[0m\u001b[32m-\u001b[0m\u001b[32m9\u001b[0m\u001b[32m月\u001b[0m\u001b[32m销\u001b[0m\u001b[32m售\u001b[0m\u001b[32m记录\u001b[0m\u001b[32m.xlsx\u001b[0m\u001b[32m”\u001b[0m\u001b[32m文件\u001b[0m\u001b[32m的\u001b[0m\u001b[32m前\u001b[0m\u001b[32m3\u001b[0m\u001b[32m行\u001b[0m\u001b[32m数据\u001b[0m\u001b[32m。\n",
      "\n",
      "\u001b[0m\u001b[32m计\u001b[0m\u001b[32m划\u001b[0m\u001b[32m:\n",
      "\u001b[0m\u001b[32m-\u001b[0m\u001b[32m 我\u001b[0m\u001b[32m将\u001b[0m\u001b[32m执行\u001b[0m\u001b[32mInspect\u001b[0m\u001b[32mExcel\u001b[0m\u001b[32m动\u001b[0m\u001b[32m作\u001b[0m\u001b[32m，\u001b[0m\u001b[32m参数\u001b[0m\u001b[32m为\u001b[0m\u001b[32m文件\u001b[0m\u001b[32m名\u001b[0m\u001b[32m“\u001b[0m\u001b[32m202\u001b[0m\u001b[32m3\u001b[0m\u001b[32m年\u001b[0m\u001b[32m8\u001b[0m\u001b[32m月\u001b[0m\u001b[32m-\u001b[0m\u001b[32m9\u001b[0m\u001b[32m月\u001b[0m\u001b[32m销\u001b[0m\u001b[32m售\u001b[0m\u001b[32m记录\u001b[0m\u001b[32m.xlsx\u001b[0m\u001b[32m”\u001b[0m\u001b[32m和\u001b[0m\u001b[32m默认\u001b[0m\u001b[32m行\u001b[0m\u001b[32m数\u001b[0m\u001b[32m3\u001b[0m\u001b[32m。\n",
      "\n",
      "\u001b[0m\u001b[32m###\u001b[0m\u001b[32m 执行\u001b[0m\u001b[32m动\u001b[0m\u001b[32m作\u001b[0m\u001b[32m：\n",
      "\n",
      "\u001b[0m\u001b[32m```\u001b[0m\u001b[32mjson\u001b[0m\u001b[32m\n",
      "\u001b[0m\u001b[32m{\n",
      "\u001b[0m\u001b[32m \u001b[0m\u001b[32m \"\u001b[0m\u001b[32mname\u001b[0m\u001b[32m\":\u001b[0m\u001b[32m \"\u001b[0m\u001b[32mInspect\u001b[0m\u001b[32mExcel\u001b[0m\u001b[32m\",\n",
      "\u001b[0m\u001b[32m \u001b[0m\u001b[32m \"\u001b[0m\u001b[32margs\u001b[0m\u001b[32m\":\u001b[0m\u001b[32m {\n",
      "\u001b[0m\u001b[32m   \u001b[0m\u001b[32m \"\u001b[0m\u001b[32mfilename\u001b[0m\u001b[32m\":\u001b[0m\u001b[32m \"./\u001b[0m\u001b[32mdata\u001b[0m\u001b[32m/\u001b[0m\u001b[32maut\u001b[0m\u001b[32mog\u001b[0m\u001b[32mpt\u001b[0m\u001b[32m-demo\u001b[0m\u001b[32m/\u001b[0m\u001b[32m202\u001b[0m\u001b[32m3\u001b[0m\u001b[32m年\u001b[0m\u001b[32m8\u001b[0m\u001b[32m月\u001b[0m\u001b[32m-\u001b[0m\u001b[32m9\u001b[0m\u001b[32m月\u001b[0m\u001b[32m销\u001b[0m\u001b[32m售\u001b[0m\u001b[32m记录\u001b[0m\u001b[32m.xlsx\u001b[0m\u001b[32m\"\n",
      "\u001b[0m\u001b[32m \u001b[0m\u001b[32m }\n",
      "\u001b[0m\u001b[32m}\n",
      "\u001b[0m\u001b[32m```\u001b[0m\u001b[32m\u001b[0m"
     ]
    }
   ],
   "source": [
    "action, response = _step(short_term_memory)"
   ]
  },
  {
   "cell_type": "markdown",
   "id": "e0899ecf-885b-45e7-95f0-5606807b8b2e",
   "metadata": {},
   "source": [
    "#### step2：行动"
   ]
  },
  {
   "cell_type": "code",
   "execution_count": 71,
   "id": "f0efaec6-baaa-4a8e-ad59-cd9805c41c07",
   "metadata": {},
   "outputs": [
    {
     "name": "stdout",
     "output_type": "stream",
     "text": [
      "name='InspectExcel' args={'filename': './data/autogpt-demo/2023年8月-9月销售记录.xlsx'}\n"
     ]
    }
   ],
   "source": [
    "print(action)"
   ]
  },
  {
   "cell_type": "code",
   "execution_count": 72,
   "id": "6e73f21f-4161-4acc-b936-c1df2c5ef2e5",
   "metadata": {},
   "outputs": [
    {
     "name": "stdout",
     "output_type": "stream",
     "text": [
      "\u001b[33m\n",
      "----\n",
      "结果:\n",
      "这是 './data/autogpt-demo/2023年8月-9月销售记录.xlsx' 文件的工作表名称：\n",
      "\n",
      "['2023年8月-9月销售记录']\n",
      "\n",
      "这是 './data/autogpt-demo/2023年8月-9月销售记录.xlsx' 文件第一个工作表的列名：\n",
      "\n",
      "品类\n",
      "产品名\n",
      "单价(元)\n",
      "销售量\n",
      "销售日期\n",
      "供应商\n",
      "\n",
      "这是 './data/autogpt-demo/2023年8月-9月销售记录.xlsx' 文件第一个工作表的前3行样例：\n",
      "\n",
      "   品类                产品名  单价(元)  销售量       销售日期        供应商\n",
      "   手机       Xiaomi Mi 11   4999   20 2023-08-02   北京科技有限公司\n",
      "   耳机    Sony WH-1000XM4   2999   15 2023-08-03   上海音响有限公司\n",
      "笔记本电脑 Lenovo ThinkPad X1   8999   10 2023-08-05 深圳创新科技有限公司\u001b[0m\n"
     ]
    }
   ],
   "source": [
    "observation = _exec_action(action)\n",
    "color_print(f\"\\n----\\n结果:\\n{observation}\", OBSERVATION_COLOR)"
   ]
  },
  {
   "cell_type": "markdown",
   "id": "ac33fdc9-43e5-4ee0-bb96-238b8a7c0968",
   "metadata": {},
   "source": [
    "<div class=\"alert alert-warning\">\n",
    "<b>参数解析：</b><br/>\n",
    "    如果想要参数解析这一步准确，就要提供较详细的工具函数参数指引，否则LLM会根据惯用的方法来推测参数名称。\n",
    "</div>"
   ]
  },
  {
   "cell_type": "markdown",
   "id": "9e5d498c-a798-4c4b-9933-e25210b20bd1",
   "metadata": {},
   "source": [
    "#### step2：观察"
   ]
  },
  {
   "cell_type": "code",
   "execution_count": 73,
   "id": "faa46a1f-0d3e-450b-b503-1cb7bfac5a21",
   "metadata": {},
   "outputs": [],
   "source": [
    "short_term_memory.save_context(\n",
    "    {\"input\": response},\n",
    "    {\"output\": \"返回结果:\\n\" + observation}\n",
    ")"
   ]
  },
  {
   "cell_type": "markdown",
   "id": "0c1772a8-8b1b-4a3b-961c-a466ecdda00f",
   "metadata": {},
   "source": [
    "#### step3：思考"
   ]
  },
  {
   "cell_type": "code",
   "execution_count": 74,
   "id": "23033c9e-4107-4a17-8768-12572650157e",
   "metadata": {},
   "outputs": [
    {
     "name": "stdout",
     "output_type": "stream",
     "text": [
      "\u001b[32m\u001b[0m\u001b[32m###\u001b[0m\u001b[32m 思\u001b[0m\u001b[32m考\u001b[0m\u001b[32m过\u001b[0m\u001b[32m程\u001b[0m\u001b[32m：\n",
      "\n",
      "\u001b[0m\u001b[32m关\u001b[0m\u001b[32m键\u001b[0m\u001b[32m概\u001b[0m\u001b[32m念\u001b[0m\u001b[32m:\u001b[0m\u001b[32m \u001b[0m\u001b[32m9\u001b[0m\u001b[32m月\u001b[0m\u001b[32m份\u001b[0m\u001b[32m的\u001b[0m\u001b[32m销\u001b[0m\u001b[32m售\u001b[0m\u001b[32m额\u001b[0m\u001b[32m\n",
      "\n",
      "\u001b[0m\u001b[32m概\u001b[0m\u001b[32m念\u001b[0m\u001b[32m拆\u001b[0m\u001b[32m解\u001b[0m\u001b[32m:\n",
      "\u001b[0m\u001b[32m-\u001b[0m\u001b[32m 销\u001b[0m\u001b[32m售\u001b[0m\u001b[32m额\u001b[0m\u001b[32m:\u001b[0m\u001b[32m 某\u001b[0m\u001b[32m个\u001b[0m\u001b[32m时间\u001b[0m\u001b[32m段\u001b[0m\u001b[32m内\u001b[0m\u001b[32m的\u001b[0m\u001b[32m销\u001b[0m\u001b[32m售\u001b[0m\u001b[32m总\u001b[0m\u001b[32m金额\u001b[0m\u001b[32m\n",
      "\u001b[0m\u001b[32m-\u001b[0m\u001b[32m \u001b[0m\u001b[32m9\u001b[0m\u001b[32m月\u001b[0m\u001b[32m份\u001b[0m\u001b[32m:\u001b[0m\u001b[32m 表\u001b[0m\u001b[32m示\u001b[0m\u001b[32m查询\u001b[0m\u001b[32m的\u001b[0m\u001b[32m特\u001b[0m\u001b[32m定\u001b[0m\u001b[32m时间\u001b[0m\u001b[32m段\u001b[0m\u001b[32m范\u001b[0m\u001b[32m围\u001b[0m\u001b[32m\n",
      "\n",
      "\u001b[0m\u001b[32m反\u001b[0m\u001b[32m思\u001b[0m\u001b[32m:\n",
      "\u001b[0m\u001b[32m-\u001b[0m\u001b[32m 根\u001b[0m\u001b[32m据\u001b[0m\u001b[32m文件\u001b[0m\u001b[32m探\u001b[0m\u001b[32m查\u001b[0m\u001b[32m结果\u001b[0m\u001b[32m得\u001b[0m\u001b[32m知\u001b[0m\u001b[32m，“\u001b[0m\u001b[32m202\u001b[0m\u001b[32m3\u001b[0m\u001b[32m年\u001b[0m\u001b[32m8\u001b[0m\u001b[32m月\u001b[0m\u001b[32m-\u001b[0m\u001b[32m9\u001b[0m\u001b[32m月\u001b[0m\u001b[32m销\u001b[0m\u001b[32m售\u001b[0m\u001b[32m记录\u001b[0m\u001b[32m.xlsx\u001b[0m\u001b[32m”\u001b[0m\u001b[32m文件\u001b[0m\u001b[32m包\u001b[0m\u001b[32m含\u001b[0m\u001b[32m了\u001b[0m\u001b[32m销\u001b[0m\u001b[32m售\u001b[0m\u001b[32m日期\u001b[0m\u001b[32m这\u001b[0m\u001b[32m一\u001b[0m\u001b[32m列\u001b[0m\u001b[32m，\u001b[0m\u001b[32m这\u001b[0m\u001b[32m表示\u001b[0m\u001b[32m我\u001b[0m\u001b[32m可以\u001b[0m\u001b[32m用\u001b[0m\u001b[32m它\u001b[0m\u001b[32m来\u001b[0m\u001b[32m筛\u001b[0m\u001b[32m选\u001b[0m\u001b[32m9\u001b[0m\u001b[32m月\u001b[0m\u001b[32m份\u001b[0m\u001b[32m的\u001b[0m\u001b[32m数据\u001b[0m\u001b[32m。\n",
      "\u001b[0m\u001b[32m-\u001b[0m\u001b[32m \u001b[0m\u001b[32m为\u001b[0m\u001b[32m了\u001b[0m\u001b[32m计\u001b[0m\u001b[32m算\u001b[0m\u001b[32m9\u001b[0m\u001b[32m月\u001b[0m\u001b[32m份\u001b[0m\u001b[32m的\u001b[0m\u001b[32m销\u001b[0m\u001b[32m售\u001b[0m\u001b[32m额\u001b[0m\u001b[32m，\u001b[0m\u001b[32m需要\u001b[0m\u001b[32m对\u001b[0m\u001b[32m所有\u001b[0m\u001b[32m9\u001b[0m\u001b[32m月\u001b[0m\u001b[32m份\u001b[0m\u001b[32m的\u001b[0m\u001b[32m销\u001b[0m\u001b[32m售\u001b[0m\u001b[32m记录\u001b[0m\u001b[32m进行\u001b[0m\u001b[32m汇\u001b[0m\u001b[32m总\u001b[0m\u001b[32m。\n",
      "\u001b[0m\u001b[32m-\u001b[0m\u001b[32m 我\u001b[0m\u001b[32m会\u001b[0m\u001b[32m需要\u001b[0m\u001b[32m列\u001b[0m\u001b[32m名\u001b[0m\u001b[32m中\u001b[0m\u001b[32m的\u001b[0m\u001b[32m“\u001b[0m\u001b[32m销\u001b[0m\u001b[32m售\u001b[0m\u001b[32m量\u001b[0m\u001b[32m”\u001b[0m\u001b[32m和\u001b[0m\u001b[32m“\u001b[0m\u001b[32m单\u001b[0m\u001b[32m价\u001b[0m\u001b[32m(\u001b[0m\u001b[32m元\u001b[0m\u001b[32m)”\u001b[0m\u001b[32m来\u001b[0m\u001b[32m计\u001b[0m\u001b[32m算\u001b[0m\u001b[32m销\u001b[0m\u001b[32m售\u001b[0m\u001b[32m额\u001b[0m\u001b[32m\n",
      "\n",
      "\u001b[0m\u001b[32m思\u001b[0m\u001b[32m考\u001b[0m\u001b[32m:\n",
      "\u001b[0m\u001b[32m-\u001b[0m\u001b[32m 我\u001b[0m\u001b[32m需要\u001b[0m\u001b[32m将\u001b[0m\u001b[32m销\u001b[0m\u001b[32m售\u001b[0m\u001b[32m量\u001b[0m\u001b[32m与\u001b[0m\u001b[32m单\u001b[0m\u001b[32m价\u001b[0m\u001b[32m相\u001b[0m\u001b[32m乘\u001b[0m\u001b[32m以\u001b[0m\u001b[32m得\u001b[0m\u001b[32m到\u001b[0m\u001b[32m每\u001b[0m\u001b[32m项\u001b[0m\u001b[32m销\u001b[0m\u001b[32m售\u001b[0m\u001b[32m的\u001b[0m\u001b[32m总\u001b[0m\u001b[32m额\u001b[0m\u001b[32m，\u001b[0m\u001b[32m然\u001b[0m\u001b[32m后\u001b[0m\u001b[32m对\u001b[0m\u001b[32m所有\u001b[0m\u001b[32m9\u001b[0m\u001b[32m月\u001b[0m\u001b[32m份\u001b[0m\u001b[32m的\u001b[0m\u001b[32m销\u001b[0m\u001b[32m售\u001b[0m\u001b[32m进行\u001b[0m\u001b[32m求\u001b[0m\u001b[32m和\u001b[0m\u001b[32m。\n",
      "\n",
      "\u001b[0m\u001b[32m推\u001b[0m\u001b[32m理\u001b[0m\u001b[32m:\n",
      "\u001b[0m\u001b[32m-\u001b[0m\u001b[32m 要\u001b[0m\u001b[32m进行\u001b[0m\u001b[32m这\u001b[0m\u001b[32m样\u001b[0m\u001b[32m的\u001b[0m\u001b[32m计\u001b[0m\u001b[32m算\u001b[0m\u001b[32m，\u001b[0m\u001b[32m必\u001b[0m\u001b[32m须\u001b[0m\u001b[32m使用\u001b[0m\u001b[32mAnaly\u001b[0m\u001b[32mse\u001b[0m\u001b[32mExcel\u001b[0m\u001b[32m工\u001b[0m\u001b[32m具\u001b[0m\u001b[32m。\n",
      "\u001b[0m\u001b[32m-\u001b[0m\u001b[32m 需\u001b[0m\u001b[32m要\u001b[0m\u001b[32m提\u001b[0m\u001b[32m供\u001b[0m\u001b[32m完\u001b[0m\u001b[32m整\u001b[0m\u001b[32m的\u001b[0m\u001b[32mExcel\u001b[0m\u001b[32m文件\u001b[0m\u001b[32m路径\u001b[0m\u001b[32m、\u001b[0m\u001b[32m筛\u001b[0m\u001b[32m选\u001b[0m\u001b[32m9\u001b[0m\u001b[32m月\u001b[0m\u001b[32m份\u001b[0m\u001b[32m数据\u001b[0m\u001b[32m的\u001b[0m\u001b[32m条件\u001b[0m\u001b[32m以\u001b[0m\u001b[32m及\u001b[0m\u001b[32m需要\u001b[0m\u001b[32m执行\u001b[0m\u001b[32m的\u001b[0m\u001b[32m计\u001b[0m\u001b[32m算\u001b[0m\u001b[32m方式\u001b[0m\u001b[32m。\n",
      "\n",
      "\u001b[0m\u001b[32m计\u001b[0m\u001b[32m划\u001b[0m\u001b[32m:\n",
      "\u001b[0m\u001b[32m-\u001b[0m\u001b[32m 我\u001b[0m\u001b[32m将\u001b[0m\u001b[32m执行\u001b[0m\u001b[32mAnaly\u001b[0m\u001b[32mse\u001b[0m\u001b[32mExcel\u001b[0m\u001b[32m动\u001b[0m\u001b[32m作\u001b[0m\u001b[32m。\n",
      "\u001b[0m\u001b[32m-\u001b[0m\u001b[32m 文件\u001b[0m\u001b[32m路径\u001b[0m\u001b[32m为\u001b[0m\u001b[32m：“\u001b[0m\u001b[32m./\u001b[0m\u001b[32mdata\u001b[0m\u001b[32m/\u001b[0m\u001b[32maut\u001b[0m\u001b[32mog\u001b[0m\u001b[32mpt\u001b[0m\u001b[32m-demo\u001b[0m\u001b[32m/\u001b[0m\u001b[32m202\u001b[0m\u001b[32m3\u001b[0m\u001b[32m年\u001b[0m\u001b[32m8\u001b[0m\u001b[32m月\u001b[0m\u001b[32m-\u001b[0m\u001b[32m9\u001b[0m\u001b[32m月\u001b[0m\u001b[32m销\u001b[0m\u001b[32m售\u001b[0m\u001b[32m记录\u001b[0m\u001b[32m.xlsx\u001b[0m\u001b[32m”\u001b[0m\u001b[32m。\n",
      "\u001b[0m\u001b[32m-\u001b[0m\u001b[32m 我\u001b[0m\u001b[32m将\u001b[0m\u001b[32m计\u001b[0m\u001b[32m算\u001b[0m\u001b[32m筛\u001b[0m\u001b[32m选\u001b[0m\u001b[32m出\u001b[0m\u001b[32m销\u001b[0m\u001b[32m售\u001b[0m\u001b[32m日期\u001b[0m\u001b[32m在\u001b[0m\u001b[32m202\u001b[0m\u001b[32m3\u001b[0m\u001b[32m年\u001b[0m\u001b[32m9\u001b[0m\u001b[32m月\u001b[0m\u001b[32m1\u001b[0m\u001b[32m日\u001b[0m\u001b[32m到\u001b[0m\u001b[32m202\u001b[0m\u001b[32m3\u001b[0m\u001b[32m年\u001b[0m\u001b[32m9\u001b[0m\u001b[32m月\u001b[0m\u001b[32m30\u001b[0m\u001b[32m日\u001b[0m\u001b[32m范\u001b[0m\u001b[32m围\u001b[0m\u001b[32m内\u001b[0m\u001b[32m的\u001b[0m\u001b[32m所有\u001b[0m\u001b[32m记录\u001b[0m\u001b[32m的\u001b[0m\u001b[32m销\u001b[0m\u001b[32m售\u001b[0m\u001b[32m总\u001b[0m\u001b[32m额\u001b[0m\u001b[32m。\n",
      "\u001b[0m\u001b[32m-\u001b[0m\u001b[32m \u001b[0m\u001b[32m为\u001b[0m\u001b[32m此\u001b[0m\u001b[32m，\u001b[0m\u001b[32m我\u001b[0m\u001b[32m需要\u001b[0m\u001b[32m进行\u001b[0m\u001b[32m条件\u001b[0m\u001b[32m筛\u001b[0m\u001b[32m选\u001b[0m\u001b[32m和\u001b[0m\u001b[32m数据\u001b[0m\u001b[32m聚\u001b[0m\u001b[32m合\u001b[0m\u001b[32m。\n",
      "\n",
      "\u001b[0m\u001b[32m###\u001b[0m\u001b[32m 执行\u001b[0m\u001b[32m动\u001b[0m\u001b[32m作\u001b[0m\u001b[32m：\n",
      "\n",
      "\u001b[0m\u001b[32m```\u001b[0m\u001b[32mjson\u001b[0m\u001b[32m\n",
      "\u001b[0m\u001b[32m{\n",
      "\u001b[0m\u001b[32m \u001b[0m\u001b[32m \"\u001b[0m\u001b[32mname\u001b[0m\u001b[32m\":\u001b[0m\u001b[32m \"\u001b[0m\u001b[32mAnaly\u001b[0m\u001b[32mse\u001b[0m\u001b[32mExcel\u001b[0m\u001b[32m\",\n",
      "\u001b[0m\u001b[32m \u001b[0m\u001b[32m \"\u001b[0m\u001b[32margs\u001b[0m\u001b[32m\":\u001b[0m\u001b[32m {\n",
      "\u001b[0m\u001b[32m   \u001b[0m\u001b[32m \"\u001b[0m\u001b[32mquery\u001b[0m\u001b[32m\":\u001b[0m\u001b[32m \"\u001b[0m\u001b[32mSELECT\u001b[0m\u001b[32m SUM\u001b[0m\u001b[32m(`\u001b[0m\u001b[32m单\u001b[0m\u001b[32m价\u001b[0m\u001b[32m(\u001b[0m\u001b[32m元\u001b[0m\u001b[32m)`\u001b[0m\u001b[32m *\u001b[0m\u001b[32m `\u001b[0m\u001b[32m销\u001b[0m\u001b[32m售\u001b[0m\u001b[32m量\u001b[0m\u001b[32m`)\u001b[0m\u001b[32m FROM\u001b[0m\u001b[32m `\u001b[0m\u001b[32m202\u001b[0m\u001b[32m3\u001b[0m\u001b[32m年\u001b[0m\u001b[32m8\u001b[0m\u001b[32m月\u001b[0m\u001b[32m-\u001b[0m\u001b[32m9\u001b[0m\u001b[32m月\u001b[0m\u001b[32m销\u001b[0m\u001b[32m售\u001b[0m\u001b[32m记录\u001b[0m\u001b[32m`\u001b[0m\u001b[32m WHERE\u001b[0m\u001b[32m `\u001b[0m\u001b[32m销\u001b[0m\u001b[32m售\u001b[0m\u001b[32m日期\u001b[0m\u001b[32m`\u001b[0m\u001b[32m >=\u001b[0m\u001b[32m '\u001b[0m\u001b[32m202\u001b[0m\u001b[32m3\u001b[0m\u001b[32m-\u001b[0m\u001b[32m09\u001b[0m\u001b[32m-\u001b[0m\u001b[32m01\u001b[0m\u001b[32m'\u001b[0m\u001b[32m AND\u001b[0m\u001b[32m `\u001b[0m\u001b[32m销\u001b[0m\u001b[32m售\u001b[0m\u001b[32m日期\u001b[0m\u001b[32m`\u001b[0m\u001b[32m <=\u001b[0m\u001b[32m '\u001b[0m\u001b[32m202\u001b[0m\u001b[32m3\u001b[0m\u001b[32m-\u001b[0m\u001b[32m09\u001b[0m\u001b[32m-\u001b[0m\u001b[32m30\u001b[0m\u001b[32m'\",\n",
      "\u001b[0m\u001b[32m   \u001b[0m\u001b[32m \"\u001b[0m\u001b[32mfilename\u001b[0m\u001b[32m\":\u001b[0m\u001b[32m \"./\u001b[0m\u001b[32mdata\u001b[0m\u001b[32m/\u001b[0m\u001b[32maut\u001b[0m\u001b[32mog\u001b[0m\u001b[32mpt\u001b[0m\u001b[32m-demo\u001b[0m\u001b[32m/\u001b[0m\u001b[32m202\u001b[0m\u001b[32m3\u001b[0m\u001b[32m年\u001b[0m\u001b[32m8\u001b[0m\u001b[32m月\u001b[0m\u001b[32m-\u001b[0m\u001b[32m9\u001b[0m\u001b[32m月\u001b[0m\u001b[32m销\u001b[0m\u001b[32m售\u001b[0m\u001b[32m记录\u001b[0m\u001b[32m.xlsx\u001b[0m\u001b[32m\"\n",
      "\u001b[0m\u001b[32m \u001b[0m\u001b[32m }\n",
      "\u001b[0m\u001b[32m}\n",
      "\u001b[0m\u001b[32m```\u001b[0m\u001b[32m\u001b[0m"
     ]
    }
   ],
   "source": [
    "action, response = _step(short_term_memory)"
   ]
  },
  {
   "cell_type": "markdown",
   "id": "1d2b40f5-a88a-4397-9fca-c9212aa1ead0",
   "metadata": {},
   "source": [
    "#### step3：行动"
   ]
  },
  {
   "cell_type": "code",
   "execution_count": 75,
   "id": "2b43bb06-6503-46d0-a9fc-87eacf12306c",
   "metadata": {},
   "outputs": [
    {
     "name": "stdout",
     "output_type": "stream",
     "text": [
      "\u001b[34m\n",
      "#!/usr/bin/env python\u001b[0m\n",
      "\u001b[34mimport pandas as pd\n",
      "\n",
      "# 读取Excel文件\n",
      "df = pd.read_excel('./data/autogpt-demo/2023年8月-9月销售记录.xlsx', sheet_name='2023年8月-9月销售记录')\n",
      "\n",
      "# 确保销售日期为datetime类型\n",
      "df['销售日期'] = pd.to_datetime(df['销售日期'])\n",
      "\n",
      "# 设置日期范围\n",
      "start_date = pd.Timestamp('2023-09-01')\n",
      "end_date = pd.Timestamp('2023-09-30')\n",
      "\n",
      "# 过滤出符合日期范围的数据\n",
      "date_filtered_df = df[(df['销售日期'] >= start_date) & (df['销售日期'] <= end_date)]\n",
      "\n",
      "# 计算总销售额\n",
      "sales_sum = (date_filtered_df['单价(元)'] * date_filtered_df['销售量']).sum()\n",
      "\n",
      "# 输出结果\n",
      "print(f\"在2023年9月的销售总额是：{sales_sum}元\")\u001b[0m"
     ]
    },
    {
     "name": "stderr",
     "output_type": "stream",
     "text": [
      "Python REPL can execute arbitrary code. Use with caution.\n"
     ]
    },
    {
     "name": "stdout",
     "output_type": "stream",
     "text": [
      "\u001b[33m\n",
      "----\n",
      "结果:\n",
      "在2023年9月的销售总额是：2851099元\n",
      "\u001b[0m\n"
     ]
    }
   ],
   "source": [
    "observation = _exec_action(action)\n",
    "color_print(f\"\\n----\\n结果:\\n{observation}\", OBSERVATION_COLOR)"
   ]
  },
  {
   "cell_type": "markdown",
   "id": "7cccff78-3e4d-4d43-b9fe-68d55a91afd2",
   "metadata": {},
   "source": [
    "#### step3：观察"
   ]
  },
  {
   "cell_type": "code",
   "execution_count": 76,
   "id": "afb978a2-b759-4493-847f-6433ec6ce0aa",
   "metadata": {},
   "outputs": [],
   "source": [
    "short_term_memory.save_context(\n",
    "    {\"input\": response},\n",
    "    {\"output\": \"返回结果:\\n\" + observation}\n",
    ")"
   ]
  },
  {
   "cell_type": "markdown",
   "id": "c848d644-9c76-4505-8bc1-034e46085315",
   "metadata": {},
   "source": [
    "#### step4：思考"
   ]
  },
  {
   "cell_type": "code",
   "execution_count": 77,
   "id": "fdaeb1c7-9186-45b4-a240-f39ff8a32b05",
   "metadata": {},
   "outputs": [
    {
     "name": "stdout",
     "output_type": "stream",
     "text": [
      "\u001b[32m\u001b[0m\u001b[32m###\u001b[0m\u001b[32m 思\u001b[0m\u001b[32m考\u001b[0m\u001b[32m过\u001b[0m\u001b[32m程\u001b[0m\u001b[32m：\n",
      "\n",
      "\u001b[0m\u001b[32m关\u001b[0m\u001b[32m键\u001b[0m\u001b[32m概\u001b[0m\u001b[32m念\u001b[0m\u001b[32m:\u001b[0m\u001b[32m \u001b[0m\u001b[32m9\u001b[0m\u001b[32m月\u001b[0m\u001b[32m份\u001b[0m\u001b[32m的\u001b[0m\u001b[32m销\u001b[0m\u001b[32m售\u001b[0m\u001b[32m额\u001b[0m\u001b[32m -\u001b[0m\u001b[32m \u001b[0m\u001b[32m285\u001b[0m\u001b[32m109\u001b[0m\u001b[32m9\u001b[0m\u001b[32m元\u001b[0m\u001b[32m\n",
      "\n",
      "\u001b[0m\u001b[32m概\u001b[0m\u001b[32m念\u001b[0m\u001b[32m拆\u001b[0m\u001b[32m解\u001b[0m\u001b[32m:\n",
      "\u001b[0m\u001b[32m-\u001b[0m\u001b[32m 销\u001b[0m\u001b[32m售\u001b[0m\u001b[32m额\u001b[0m\u001b[32m:\u001b[0m\u001b[32m 某\u001b[0m\u001b[32m个\u001b[0m\u001b[32m时间\u001b[0m\u001b[32m段\u001b[0m\u001b[32m内\u001b[0m\u001b[32m完成\u001b[0m\u001b[32m销\u001b[0m\u001b[32m售\u001b[0m\u001b[32m的\u001b[0m\u001b[32m总\u001b[0m\u001b[32m金额\u001b[0m\u001b[32m\n",
      "\u001b[0m\u001b[32m-\u001b[0m\u001b[32m \u001b[0m\u001b[32m9\u001b[0m\u001b[32m月\u001b[0m\u001b[32m份\u001b[0m\u001b[32m:\u001b[0m\u001b[32m 表\u001b[0m\u001b[32m示\u001b[0m\u001b[32m查询\u001b[0m\u001b[32m的\u001b[0m\u001b[32m特\u001b[0m\u001b[32m定\u001b[0m\u001b[32m时间\u001b[0m\u001b[32m段\u001b[0m\u001b[32m范\u001b[0m\u001b[32m围\u001b[0m\u001b[32m\n",
      "\n",
      "\u001b[0m\u001b[32m反\u001b[0m\u001b[32m思\u001b[0m\u001b[32m:\n",
      "\u001b[0m\u001b[32m-\u001b[0m\u001b[32m 我\u001b[0m\u001b[32m已\u001b[0m\u001b[32m经\u001b[0m\u001b[32m使用\u001b[0m\u001b[32mAnaly\u001b[0m\u001b[32mse\u001b[0m\u001b[32mExcel\u001b[0m\u001b[32m工\u001b[0m\u001b[32m具\u001b[0m\u001b[32m计\u001b[0m\u001b[32m算\u001b[0m\u001b[32m出\u001b[0m\u001b[32m了\u001b[0m\u001b[32m9\u001b[0m\u001b[32m月\u001b[0m\u001b[32m份\u001b[0m\u001b[32m的\u001b[0m\u001b[32m销\u001b[0m\u001b[32m售\u001b[0m\u001b[32m总\u001b[0m\u001b[32m额\u001b[0m\u001b[32m。\n",
      "\u001b[0m\u001b[32m-\u001b[0m\u001b[32m 结\u001b[0m\u001b[32m果\u001b[0m\u001b[32m显示\u001b[0m\u001b[32m9\u001b[0m\u001b[32m月\u001b[0m\u001b[32m份\u001b[0m\u001b[32m的\u001b[0m\u001b[32m销\u001b[0m\u001b[32m售\u001b[0m\u001b[32m总\u001b[0m\u001b[32m额\u001b[0m\u001b[32m为\u001b[0m\u001b[32m285\u001b[0m\u001b[32m109\u001b[0m\u001b[32m9\u001b[0m\u001b[32m元\u001b[0m\u001b[32m，\u001b[0m\u001b[32m这\u001b[0m\u001b[32m个\u001b[0m\u001b[32m结果\u001b[0m\u001b[32m是\u001b[0m\u001b[32m基\u001b[0m\u001b[32m于\u001b[0m\u001b[32m“\u001b[0m\u001b[32m202\u001b[0m\u001b[32m3\u001b[0m\u001b[32m年\u001b[0m\u001b[32m8\u001b[0m\u001b[32m月\u001b[0m\u001b[32m-\u001b[0m\u001b[32m9\u001b[0m\u001b[32m月\u001b[0m\u001b[32m销\u001b[0m\u001b[32m售\u001b[0m\u001b[32m记录\u001b[0m\u001b[32m.xlsx\u001b[0m\u001b[32m”\u001b[0m\u001b[32m文件\u001b[0m\u001b[32m中\u001b[0m\u001b[32m的\u001b[0m\u001b[32m数据\u001b[0m\u001b[32m计\u001b[0m\u001b[32m算\u001b[0m\u001b[32m得\u001b[0m\u001b[32m出\u001b[0m\u001b[32m的\u001b[0m\u001b[32m。\n",
      "\u001b[0m\u001b[32m-\u001b[0m\u001b[32m 目\u001b[0m\u001b[32m前\u001b[0m\u001b[32m没有\u001b[0m\u001b[32m其他\u001b[0m\u001b[32m文件\u001b[0m\u001b[32m或\u001b[0m\u001b[32m数据\u001b[0m\u001b[32m源\u001b[0m\u001b[32m表\u001b[0m\u001b[32m明\u001b[0m\u001b[32m有\u001b[0m\u001b[32m关\u001b[0m\u001b[32m9\u001b[0m\u001b[32m月\u001b[0m\u001b[32m份\u001b[0m\u001b[32m销\u001b[0m\u001b[32m售\u001b[0m\u001b[32m额\u001b[0m\u001b[32m的\u001b[0m\u001b[32m信息\u001b[0m\u001b[32m，\u001b[0m\u001b[32m因\u001b[0m\u001b[32m此\u001b[0m\u001b[32m我\u001b[0m\u001b[32m可以\u001b[0m\u001b[32m认\u001b[0m\u001b[32m为\u001b[0m\u001b[32m这\u001b[0m\u001b[32m个\u001b[0m\u001b[32m结果\u001b[0m\u001b[32m是\u001b[0m\u001b[32m准\u001b[0m\u001b[32m确\u001b[0m\u001b[32m的\u001b[0m\u001b[32m。\n",
      "\n",
      "\u001b[0m\u001b[32m思\u001b[0m\u001b[32m考\u001b[0m\u001b[32m:\n",
      "\u001b[0m\u001b[32m-\u001b[0m\u001b[32m 我\u001b[0m\u001b[32m已\u001b[0m\u001b[32m经\u001b[0m\u001b[32m得\u001b[0m\u001b[32m到\u001b[0m\u001b[32m了\u001b[0m\u001b[32m9\u001b[0m\u001b[32m月\u001b[0m\u001b[32m份\u001b[0m\u001b[32m的\u001b[0m\u001b[32m销\u001b[0m\u001b[32m售\u001b[0m\u001b[32m额\u001b[0m\u001b[32m，\u001b[0m\u001b[32m这\u001b[0m\u001b[32m是\u001b[0m\u001b[32m本\u001b[0m\u001b[32m次\u001b[0m\u001b[32m任务\u001b[0m\u001b[32m的\u001b[0m\u001b[32m目\u001b[0m\u001b[32m标\u001b[0m\u001b[32m。\n",
      "\u001b[0m\u001b[32m-\u001b[0m\u001b[32m 根\u001b[0m\u001b[32m据\u001b[0m\u001b[32m任务\u001b[0m\u001b[32m指\u001b[0m\u001b[32m示\u001b[0m\u001b[32m，\u001b[0m\u001b[32m完成\u001b[0m\u001b[32m所有\u001b[0m\u001b[32m任务\u001b[0m\u001b[32m后\u001b[0m\u001b[32m应\u001b[0m\u001b[32m该\u001b[0m\u001b[32m使用\u001b[0m\u001b[32mFIN\u001b[0m\u001b[32mISH\u001b[0m\u001b[32m指\u001b[0m\u001b[32m令\u001b[0m\u001b[32m结束\u001b[0m\u001b[32m。\n",
      "\n",
      "\u001b[0m\u001b[32m推\u001b[0m\u001b[32m理\u001b[0m\u001b[32m:\n",
      "\u001b[0m\u001b[32m-\u001b[0m\u001b[32m \u001b[0m\u001b[32m由\u001b[0m\u001b[32m于\u001b[0m\u001b[32m我\u001b[0m\u001b[32m已\u001b[0m\u001b[32m经\u001b[0m\u001b[32m得\u001b[0m\u001b[32m到\u001b[0m\u001b[32m了\u001b[0m\u001b[32m9\u001b[0m\u001b[32m月\u001b[0m\u001b[32m份\u001b[0m\u001b[32m的\u001b[0m\u001b[32m销\u001b[0m\u001b[32m售\u001b[0m\u001b[32m额\u001b[0m\u001b[32m，并\u001b[0m\u001b[32m且\u001b[0m\u001b[32m没有\u001b[0m\u001b[32m其他\u001b[0m\u001b[32m任务\u001b[0m\u001b[32m需要\u001b[0m\u001b[32m执行\u001b[0m\u001b[32m，\u001b[0m\u001b[32m我\u001b[0m\u001b[32m应\u001b[0m\u001b[32m该\u001b[0m\u001b[32m使用\u001b[0m\u001b[32mFIN\u001b[0m\u001b[32mISH\u001b[0m\u001b[32m指\u001b[0m\u001b[32m令\u001b[0m\u001b[32m来\u001b[0m\u001b[32m结束\u001b[0m\u001b[32m任务\u001b[0m\u001b[32m。\n",
      "\n",
      "\u001b[0m\u001b[32m计\u001b[0m\u001b[32m划\u001b[0m\u001b[32m:\n",
      "\u001b[0m\u001b[32m-\u001b[0m\u001b[32m 我\u001b[0m\u001b[32m将\u001b[0m\u001b[32m执行\u001b[0m\u001b[32mFIN\u001b[0m\u001b[32mISH\u001b[0m\u001b[32m动\u001b[0m\u001b[32m作\u001b[0m\u001b[32m来\u001b[0m\u001b[32m结束\u001b[0m\u001b[32m任务\u001b[0m\u001b[32m。\n",
      "\n",
      "\u001b[0m\u001b[32m###\u001b[0m\u001b[32m 执行\u001b[0m\u001b[32m动\u001b[0m\u001b[32m作\u001b[0m\u001b[32m：\n",
      "\n",
      "\u001b[0m\u001b[32m```\u001b[0m\u001b[32mjson\u001b[0m\u001b[32m\n",
      "\u001b[0m\u001b[32m{\n",
      "\u001b[0m\u001b[32m \u001b[0m\u001b[32m \"\u001b[0m\u001b[32mname\u001b[0m\u001b[32m\":\u001b[0m\u001b[32m \"\u001b[0m\u001b[32mFIN\u001b[0m\u001b[32mISH\u001b[0m\u001b[32m\",\n",
      "\u001b[0m\u001b[32m \u001b[0m\u001b[32m \"\u001b[0m\u001b[32margs\u001b[0m\u001b[32m\":\u001b[0m\u001b[32m null\u001b[0m\u001b[32m\n",
      "\u001b[0m\u001b[32m}\n",
      "\u001b[0m\u001b[32m```\u001b[0m\u001b[32m\u001b[0m"
     ]
    }
   ],
   "source": [
    "action, response = _step(short_term_memory)"
   ]
  },
  {
   "cell_type": "markdown",
   "id": "9bb8e5c8-ffed-4a6b-b876-43a6208feb22",
   "metadata": {},
   "source": [
    "#### step4：结束"
   ]
  },
  {
   "cell_type": "code",
   "execution_count": 82,
   "id": "e44bf30a-31ec-4b62-8341-fa8baa1ad825",
   "metadata": {},
   "outputs": [
    {
     "name": "stdout",
     "output_type": "stream",
     "text": [
      "name='FINISH' args=None\n"
     ]
    }
   ],
   "source": [
    "print(action)"
   ]
  },
  {
   "cell_type": "code",
   "execution_count": 83,
   "id": "9a32d2db-b449-40a8-9203-b5cf9cbd4716",
   "metadata": {},
   "outputs": [
    {
     "name": "stdout",
     "output_type": "stream",
     "text": [
      "\u001b[33m\n",
      "----\n",
      "FINISH\u001b[0m\n"
     ]
    }
   ],
   "source": [
    "reply = \"\"\n",
    "if action.name == \"FINISH\":\n",
    "    color_print(f\"\\n----\\nFINISH\", OBSERVATION_COLOR)\n",
    "    reply = _final_step(short_term_memory)"
   ]
  },
  {
   "cell_type": "code",
   "execution_count": 84,
   "id": "443f4f85-2452-490c-af6c-c701529a31bb",
   "metadata": {},
   "outputs": [
    {
     "name": "stdout",
     "output_type": "stream",
     "text": [
      "完成任务:\n",
      "\n",
      "9月份的销售额是 2,851,099 元。\n"
     ]
    }
   ],
   "source": [
    "print(reply)"
   ]
  },
  {
   "cell_type": "markdown",
   "id": "c235f802-7102-40b9-a49f-e5a7922368b5",
   "metadata": {},
   "source": [
    "## 在自定义循环中运行"
   ]
  },
  {
   "cell_type": "markdown",
   "id": "b7b75ed3-dc3f-438c-9914-956d30e116d8",
   "metadata": {},
   "source": [
    "### 实现循环框架"
   ]
  },
  {
   "cell_type": "code",
   "execution_count": 123,
   "id": "9b3a234e-07f6-4324-9a34-5a92e49ec4cd",
   "metadata": {},
   "outputs": [],
   "source": [
    "class AutoGPT:\n",
    "    def run(self, task_description):\n",
    "        print(\"等我询问GPT...\")\n",
    "        print(\"假装我经过复杂的计算过程...\")\n",
    "        print(\"FINISH\")\n",
    "        return \"这是我的结论\""
   ]
  },
  {
   "cell_type": "code",
   "execution_count": 124,
   "id": "2fa71b65-fd0a-48c9-be90-37e56a3f21c3",
   "metadata": {},
   "outputs": [],
   "source": [
    "def launch_agent():\n",
    "    human_icon = \"\\U0001F468\"\n",
    "    ai_icon = \"\\U0001F916\"\n",
    "\n",
    "    while True:\n",
    "        task = input(f\"{ai_icon}：有什么可以帮您？\\n{human_icon}：\")\n",
    "        if task.strip().lower() == \"quit\":\n",
    "            break\n",
    "        agent = AutoGPT()\n",
    "        reply = agent.run(task)\n",
    "        print(f\"{ai_icon}：{reply}\\n\")"
   ]
  },
  {
   "cell_type": "code",
   "execution_count": 125,
   "id": "07582284-6ae7-4ceb-b014-62a982e452b9",
   "metadata": {},
   "outputs": [],
   "source": [
    "agent = AutoGPT()"
   ]
  },
  {
   "cell_type": "code",
   "execution_count": 126,
   "id": "3f808037-1a94-4fd2-b11c-0a5c6fb0a8e9",
   "metadata": {},
   "outputs": [
    {
     "name": "stdin",
     "output_type": "stream",
     "text": [
      "🤖：有什么可以帮您？\n",
      "👨： quit\n"
     ]
    }
   ],
   "source": [
    "launch_agent()"
   ]
  },
  {
   "cell_type": "markdown",
   "id": "8506ee64-03c4-48ad-b968-b5ccb3df241c",
   "metadata": {},
   "source": [
    "### 构建智能体"
   ]
  },
  {
   "cell_type": "markdown",
   "id": "bdae107d-6dfa-4c0c-8c01-65cdbb76e18c",
   "metadata": {},
   "source": [
    "#### 执行链"
   ]
  },
  {
   "cell_type": "code",
   "execution_count": 127,
   "id": "7c13e5c2-4e98-4328-93d9-078509e48b84",
   "metadata": {},
   "outputs": [],
   "source": [
    "from langchain_openai import ChatOpenAI\n",
    "from langchain.schema.output_parser import StrOutputParser\n",
    "from langchain.tools.render import render_text_description"
   ]
  },
  {
   "cell_type": "code",
   "execution_count": 128,
   "id": "8e534d84-a6d5-41c7-8502-447c5fb70d6f",
   "metadata": {},
   "outputs": [],
   "source": [
    "class AgentChain:\n",
    "    action_parser = _chinese_friendly(action_output_parser.get_format_instructions())\n",
    "\n",
    "    def __init__(self):\n",
    "        self.llm = ChatOpenAI(\n",
    "            model=\"gpt-4-1106-preview\",\n",
    "            temperature=0,\n",
    "            model_kwargs={\"seed\": 42},\n",
    "        )\n",
    "\n",
    "    def get_reason_chain(self, task):\n",
    "        prompt = main_prompt.partial(task_description=task, format_instructions=action_parser)\n",
    "        reason_chain = prompt | self.llm | StrOutputParser()\n",
    "        return reason_chain\n",
    "\n",
    "    def get_final_chain(self, task):\n",
    "        prompt = final_prompt.partial(task_description=task)\n",
    "        final_chain = prompt | self.llm | StrOutputParser()\n",
    "        return final_chain"
   ]
  },
  {
   "cell_type": "markdown",
   "id": "09959fe9-55e5-44a7-b10c-2becf8c2d814",
   "metadata": {},
   "source": [
    "#### 记忆体"
   ]
  },
  {
   "cell_type": "code",
   "execution_count": 129,
   "id": "feb53b34-ea98-4cd5-bc11-8fd761045e05",
   "metadata": {},
   "outputs": [],
   "source": [
    "from langchain.memory.chat_memory import BaseChatMemory\n",
    "from langchain.memory import ConversationTokenBufferMemory\n",
    "\n",
    "class AgentMemory:\n",
    "    # AgentMemory所需要的 LLM 仅用于计算token，并不用于生成\n",
    "    def __init__(self, llm = ChatOpenAI()):        \n",
    "        # 构造一个基于Token缓存的记忆体\n",
    "        self.memory = ConversationTokenBufferMemory(\n",
    "            llm=llm,\n",
    "            max_token_limit=4000,\n",
    "        )\n",
    "        \n",
    "        # 初始化短时记忆\n",
    "        self.memory.save_context(\n",
    "            {\"input\": \"\\n初始化\"},\n",
    "            {\"output\": \"\\n开始\"}\n",
    "        )\n",
    "\n",
    "    # 保存记忆\n",
    "    def save(self, input, output):\n",
    "        self.memory.save_context(input, output)\n",
    "\n",
    "    # 提取记忆\n",
    "    def load(self) -> str:\n",
    "        messages = self.memory.chat_memory.messages\n",
    "        string_messages = [messages[i].content for i in range(1,len(messages))]\n",
    "        return \"\\n\".join(string_messages)"
   ]
  },
  {
   "cell_type": "markdown",
   "id": "68eb5b6e-ff2e-45d1-ad97-b07f38e24331",
   "metadata": {},
   "source": [
    "#### _exec_action"
   ]
  },
  {
   "cell_type": "code",
   "execution_count": 130,
   "id": "b838d428-7362-4494-819b-8423e75a26d7",
   "metadata": {},
   "outputs": [],
   "source": [
    "from langchain.tools.base import BaseTool\n",
    "\n",
    "def _find_tool(tool_name: str) -> Optional[BaseTool]:\n",
    "    for tool in tools:\n",
    "        if tool.name == tool_name:\n",
    "            return tool\n",
    "    return None"
   ]
  },
  {
   "cell_type": "code",
   "execution_count": 131,
   "id": "27e44c94-e1fd-416c-8775-1ce5f349eddb",
   "metadata": {},
   "outputs": [],
   "source": [
    "from pydantic import ValidationError\n",
    "\n",
    "def _exec_action(action: Action) -> str:\n",
    "    # 查找工具\n",
    "    tool = _find_tool(action.name)\n",
    "    # action_expr = format_action(action)\n",
    "    if tool is None:\n",
    "        observation = (\n",
    "            f\"Error: 找不到工具或指令 '{action.name}'. \"\n",
    "            f\"请从提供的工具/指令列表中选择，请确保按对顶格式输出。\"\n",
    "        )\n",
    "\n",
    "    else:\n",
    "        try:\n",
    "            # 执行工具\n",
    "            observation = tool.run(action.args)\n",
    "        except ValidationError as e:\n",
    "            # 工具的入参异常\n",
    "            observation = (\n",
    "                f\"Validation Error in args: {str(e)}, args: {action.args}\"\n",
    "            )\n",
    "        except Exception as e:\n",
    "            # 工具执行异常\n",
    "            observation = f\"Error: {str(e)}, {type(e).__name__}, args: {action.args}\"\n",
    "\n",
    "    return observation"
   ]
  },
  {
   "cell_type": "markdown",
   "id": "67fdb1d7-cea2-47f0-b7fb-1b67bb329e22",
   "metadata": {},
   "source": [
    "#### Agent"
   ]
  },
  {
   "cell_type": "code",
   "execution_count": 132,
   "id": "b538e1b8-502f-4e5e-b9ab-c0e9da8eb4b2",
   "metadata": {},
   "outputs": [],
   "source": [
    "class AutoGPT():\n",
    "    def __init__(self):\n",
    "        # 最大思考步骤数\n",
    "        self.max_thought_steps = 10\n",
    "        # 链\n",
    "        self.chain = AgentChain()\n",
    "        # 记忆体\n",
    "        self.short_memory = AgentMemory()\n",
    "\n",
    "    def _step(self, task):\n",
    "        # 输出LLM结果\n",
    "        response = \"\"\n",
    "        chain = self.chain.get_reason_chain(task)\n",
    "        for s in chain.stream({\n",
    "            \"short_term_memory\": self.short_memory.load(),\n",
    "            \"long_term_memory\": \"\",\n",
    "            \"tools\": render_text_description(tools)\n",
    "        }):\n",
    "            color_print(s, THOUGHT_COLOR, end=\"\")\n",
    "            response += s\n",
    "    \n",
    "        # 输出Action\n",
    "        action = action_output_parser.parse(response)\n",
    "        \n",
    "        return action, response\n",
    "\n",
    "    def _final_step(self, task) -> str:\n",
    "        \"\"\"最后一步, 生成最终的输出\"\"\"\n",
    "        chain = self.chain.get_final_chain(task)\n",
    "        response = chain.invoke({\n",
    "            \"short_term_memory\": self.short_memory.load()\n",
    "        })\n",
    "        return response\n",
    "        \n",
    "    def run(self, task_description):\n",
    "        # 实际思考步骤数\n",
    "        thought_step_count = 0\n",
    "\n",
    "        # 结论\n",
    "        reply = \"\"\n",
    "\n",
    "        # 思考循环\n",
    "        while thought_step_count < self.max_thought_steps:\n",
    "            # 思考\n",
    "            action, response = self._step(task_description)\n",
    "\n",
    "            # 结束\n",
    "            if action.name == \"FINISH\":\n",
    "                # 如果返回的动作是 FINISH 就中断循环\n",
    "                color_print(f\"\\n----\\nFINISH\", OBSERVATION_COLOR)\n",
    "                reply = self._final_step(task_description)\n",
    "                break\n",
    "            \n",
    "            else:\n",
    "                # 否则执行动作中指定的工具\n",
    "                # 提取工具执行结果，以供思考时观察\n",
    "                observation = _exec_action(action)\n",
    "                color_print(f\"\\n----\\n结果:\\n{observation}\", OBSERVATION_COLOR)\n",
    "                \n",
    "                # 记录结果，提供观察\n",
    "                self.short_memory.save(\n",
    "                    {\"input\": response},\n",
    "                    {\"output\": \"返回结果:\\n\" + observation}\n",
    "                )\n",
    "\n",
    "                # 累加思考步骤数，继续思考\n",
    "                thought_step_count += 1\n",
    "\n",
    "        # 处理无法得出结论的情况\n",
    "        if not reply:\n",
    "            reply = \"抱歉，我没能完成您的任务。\"\n",
    "            \n",
    "        # 返回结论\n",
    "        return reply"
   ]
  },
  {
   "cell_type": "markdown",
   "id": "261c00a3-e648-4afc-a9d3-b38766259fc7",
   "metadata": {},
   "source": [
    "#### 运行"
   ]
  },
  {
   "cell_type": "code",
   "execution_count": 133,
   "id": "ab997405-dd68-4fc2-a41e-50bf0c0aebb8",
   "metadata": {},
   "outputs": [],
   "source": [
    "def launch_agent():\n",
    "    human_icon = \"\\U0001F468\"\n",
    "    ai_icon = \"\\U0001F916\"\n",
    "\n",
    "    while True:\n",
    "        task = input(f\"{ai_icon}：有什么可以帮您？\\n{human_icon}：\")\n",
    "        if task.strip().lower() == \"quit\":\n",
    "            break\n",
    "        agent = AutoGPT()\n",
    "        reply = agent.run(task)\n",
    "        print(f\"{ai_icon}：{reply}\\n\")"
   ]
  },
  {
   "cell_type": "code",
   "execution_count": 134,
   "id": "c94e0713-6328-4b5d-b236-cad616155b2e",
   "metadata": {},
   "outputs": [
    {
     "name": "stdin",
     "output_type": "stream",
     "text": [
      "🤖：有什么可以帮您？\n",
      "👨： 帮我找出销售额不达标的供应商\n"
     ]
    },
    {
     "name": "stdout",
     "output_type": "stream",
     "text": [
      "\u001b[32m\u001b[0m\u001b[32m###\u001b[0m\u001b[32m 思\u001b[0m\u001b[32m考\u001b[0m\u001b[32m过\u001b[0m\u001b[32m程\u001b[0m\u001b[32m：\n",
      "\n",
      "\u001b[0m\u001b[32m关\u001b[0m\u001b[32m键\u001b[0m\u001b[32m概\u001b[0m\u001b[32m念\u001b[0m\u001b[32m:\u001b[0m\u001b[32m 销\u001b[0m\u001b[32m售\u001b[0m\u001b[32m额\u001b[0m\u001b[32m不\u001b[0m\u001b[32m达\u001b[0m\u001b[32m标\u001b[0m\u001b[32m的\u001b[0m\u001b[32m供\u001b[0m\u001b[32m应\u001b[0m\u001b[32m商\u001b[0m\u001b[32m -\u001b[0m\u001b[32m 需\u001b[0m\u001b[32m要\u001b[0m\u001b[32m找\u001b[0m\u001b[32m出\u001b[0m\u001b[32m销\u001b[0m\u001b[32m售\u001b[0m\u001b[32m额\u001b[0m\u001b[32m低\u001b[0m\u001b[32m于\u001b[0m\u001b[32m某\u001b[0m\u001b[32m个\u001b[0m\u001b[32m阈\u001b[0m\u001b[32m值\u001b[0m\u001b[32m的\u001b[0m\u001b[32m供\u001b[0m\u001b[32m应\u001b[0m\u001b[32m商\u001b[0m\u001b[32m名\u001b[0m\u001b[32m单\u001b[0m\u001b[32m。\n",
      "\n",
      "\u001b[0m\u001b[32m概\u001b[0m\u001b[32m念\u001b[0m\u001b[32m拆\u001b[0m\u001b[32m解\u001b[0m\u001b[32m:\n",
      "\u001b[0m\u001b[32m-\u001b[0m\u001b[32m 销\u001b[0m\u001b[32m售\u001b[0m\u001b[32m额\u001b[0m\u001b[32m不\u001b[0m\u001b[32m达\u001b[0m\u001b[32m标\u001b[0m\u001b[32m:\u001b[0m\u001b[32m 需\u001b[0m\u001b[32m要\u001b[0m\u001b[32m知\u001b[0m\u001b[32m道\u001b[0m\u001b[32m达\u001b[0m\u001b[32m标\u001b[0m\u001b[32m的\u001b[0m\u001b[32m销\u001b[0m\u001b[32m售\u001b[0m\u001b[32m额\u001b[0m\u001b[32m是\u001b[0m\u001b[32m多\u001b[0m\u001b[32m少\u001b[0m\u001b[32m。\n",
      "\u001b[0m\u001b[32m-\u001b[0m\u001b[32m \u001b[0m\u001b[32m供\u001b[0m\u001b[32m应\u001b[0m\u001b[32m商\u001b[0m\u001b[32m:\u001b[0m\u001b[32m 需\u001b[0m\u001b[32m要\u001b[0m\u001b[32m知\u001b[0m\u001b[32m道\u001b[0m\u001b[32m有\u001b[0m\u001b[32m哪\u001b[0m\u001b[32m些\u001b[0m\u001b[32m供\u001b[0m\u001b[32m应\u001b[0m\u001b[32m商\u001b[0m\u001b[32m。\n",
      "\u001b[0m\u001b[32m-\u001b[0m\u001b[32m \u001b[0m\u001b[32m供\u001b[0m\u001b[32m应\u001b[0m\u001b[32m商\u001b[0m\u001b[32m销\u001b[0m\u001b[32m售\u001b[0m\u001b[32m额\u001b[0m\u001b[32m:\u001b[0m\u001b[32m 需\u001b[0m\u001b[32m要\u001b[0m\u001b[32m知\u001b[0m\u001b[32m道\u001b[0m\u001b[32m每\u001b[0m\u001b[32m个\u001b[0m\u001b[32m供\u001b[0m\u001b[32m应\u001b[0m\u001b[32m商\u001b[0m\u001b[32m的\u001b[0m\u001b[32m销\u001b[0m\u001b[32m售\u001b[0m\u001b[32m额\u001b[0m\u001b[32m。\n",
      "\n",
      "\u001b[0m\u001b[32m反\u001b[0m\u001b[32m思\u001b[0m\u001b[32m:\n",
      "\u001b[0m\u001b[32m-\u001b[0m\u001b[32m 我\u001b[0m\u001b[32m需要\u001b[0m\u001b[32m先\u001b[0m\u001b[32m知\u001b[0m\u001b[32m道\u001b[0m\u001b[32m销\u001b[0m\u001b[32m售\u001b[0m\u001b[32m额\u001b[0m\u001b[32m的\u001b[0m\u001b[32m达\u001b[0m\u001b[32m标\u001b[0m\u001b[32m标\u001b[0m\u001b[32m准\u001b[0m\u001b[32m是\u001b[0m\u001b[32m什\u001b[0m\u001b[32m么\u001b[0m\u001b[32m。\n",
      "\u001b[0m\u001b[32m-\u001b[0m\u001b[32m 我\u001b[0m\u001b[32m需要\u001b[0m\u001b[32m知\u001b[0m\u001b[32m道\u001b[0m\u001b[32m哪\u001b[0m\u001b[32m个\u001b[0m\u001b[32m文件\u001b[0m\u001b[32m包\u001b[0m\u001b[32m含\u001b[0m\u001b[32m供\u001b[0m\u001b[32m应\u001b[0m\u001b[32m商\u001b[0m\u001b[32m的\u001b[0m\u001b[32m销\u001b[0m\u001b[32m售\u001b[0m\u001b[32m额\u001b[0m\u001b[32m信息\u001b[0m\u001b[32m。\n",
      "\u001b[0m\u001b[32m-\u001b[0m\u001b[32m 我\u001b[0m\u001b[32m需要\u001b[0m\u001b[32m从\u001b[0m\u001b[32m文件\u001b[0m\u001b[32m中\u001b[0m\u001b[32m提\u001b[0m\u001b[32m取\u001b[0m\u001b[32m每\u001b[0m\u001b[32m个\u001b[0m\u001b[32m供\u001b[0m\u001b[32m应\u001b[0m\u001b[32m商\u001b[0m\u001b[32m的\u001b[0m\u001b[32m销\u001b[0m\u001b[32m售\u001b[0m\u001b[32m额\u001b[0m\u001b[32m，并\u001b[0m\u001b[32m与\u001b[0m\u001b[32m达\u001b[0m\u001b[32m标\u001b[0m\u001b[32m标\u001b[0m\u001b[32m准\u001b[0m\u001b[32m进行\u001b[0m\u001b[32m比\u001b[0m\u001b[32m较\u001b[0m\u001b[32m。\n",
      "\n",
      "\u001b[0m\u001b[32m思\u001b[0m\u001b[32m考\u001b[0m\u001b[32m:\n",
      "\u001b[0m\u001b[32m-\u001b[0m\u001b[32m 我\u001b[0m\u001b[32m需要\u001b[0m\u001b[32m先\u001b[0m\u001b[32m探\u001b[0m\u001b[32m查\u001b[0m\u001b[32m文件\u001b[0m\u001b[32m夹\u001b[0m\u001b[32m内容\u001b[0m\u001b[32m，\u001b[0m\u001b[32m找\u001b[0m\u001b[32m到\u001b[0m\u001b[32m可能\u001b[0m\u001b[32m包\u001b[0m\u001b[32m含\u001b[0m\u001b[32m供\u001b[0m\u001b[32m应\u001b[0m\u001b[32m商\u001b[0m\u001b[32m销\u001b[0m\u001b[32m售\u001b[0m\u001b[32m额\u001b[0m\u001b[32m信息\u001b[0m\u001b[32m的\u001b[0m\u001b[32m文件\u001b[0m\u001b[32m。\n",
      "\u001b[0m\u001b[32m-\u001b[0m\u001b[32m 如果\u001b[0m\u001b[32m找\u001b[0m\u001b[32m到\u001b[0m\u001b[32m了\u001b[0m\u001b[32m包\u001b[0m\u001b[32m含\u001b[0m\u001b[32m销\u001b[0m\u001b[32m售\u001b[0m\u001b[32m额\u001b[0m\u001b[32m信息\u001b[0m\u001b[32m的\u001b[0m\u001b[32m文件\u001b[0m\u001b[32m，\u001b[0m\u001b[32m我\u001b[0m\u001b[32m需要\u001b[0m\u001b[32m检\u001b[0m\u001b[32m查\u001b[0m\u001b[32m文件\u001b[0m\u001b[32m内容\u001b[0m\u001b[32m，\u001b[0m\u001b[32m确定\u001b[0m\u001b[32m销\u001b[0m\u001b[32m售\u001b[0m\u001b[32m额\u001b[0m\u001b[32m的\u001b[0m\u001b[32m列\u001b[0m\u001b[32m和\u001b[0m\u001b[32m供\u001b[0m\u001b[32m应\u001b[0m\u001b[32m商\u001b[0m\u001b[32m的\u001b[0m\u001b[32m列\u001b[0m\u001b[32m。\n",
      "\u001b[0m\u001b[32m-\u001b[0m\u001b[32m 我\u001b[0m\u001b[32m需要\u001b[0m\u001b[32m知\u001b[0m\u001b[32m道\u001b[0m\u001b[32m销\u001b[0m\u001b[32m售\u001b[0m\u001b[32m额\u001b[0m\u001b[32m的\u001b[0m\u001b[32m达\u001b[0m\u001b[32m标\u001b[0m\u001b[32m标\u001b[0m\u001b[32m准\u001b[0m\u001b[32m，\u001b[0m\u001b[32m这\u001b[0m\u001b[32m可能\u001b[0m\u001b[32m在\u001b[0m\u001b[32m某\u001b[0m\u001b[32m个\u001b[0m\u001b[32m文件\u001b[0m\u001b[32m中\u001b[0m\u001b[32m有\u001b[0m\u001b[32m说明\u001b[0m\u001b[32m。\n",
      "\u001b[0m\u001b[32m-\u001b[0m\u001b[32m 我\u001b[0m\u001b[32m需要\u001b[0m\u001b[32m分\u001b[0m\u001b[32m析\u001b[0m\u001b[32m销\u001b[0m\u001b[32m售\u001b[0m\u001b[32m额\u001b[0m\u001b[32m数据\u001b[0m\u001b[32m，\u001b[0m\u001b[32m找\u001b[0m\u001b[32m出\u001b[0m\u001b[32m不\u001b[0m\u001b[32m达\u001b[0m\u001b[32m标\u001b[0m\u001b[32m的\u001b[0m\u001b[32m供\u001b[0m\u001b[32m应\u001b[0m\u001b[32m商\u001b[0m\u001b[32m。\n",
      "\n",
      "\u001b[0m\u001b[32m推\u001b[0m\u001b[32m理\u001b[0m\u001b[32m:\n",
      "\u001b[0m\u001b[32m-\u001b[0m\u001b[32m 我\u001b[0m\u001b[32m将\u001b[0m\u001b[32m首\u001b[0m\u001b[32m先\u001b[0m\u001b[32m使用\u001b[0m\u001b[32mList\u001b[0m\u001b[32mDirectory\u001b[0m\u001b[32m工\u001b[0m\u001b[32m具\u001b[0m\u001b[32m来\u001b[0m\u001b[32m探\u001b[0m\u001b[32m查\u001b[0m\u001b[32m文件\u001b[0m\u001b[32m夹\u001b[0m\u001b[32m内容\u001b[0m\u001b[32m，\u001b[0m\u001b[32m找\u001b[0m\u001b[32m到\u001b[0m\u001b[32m可能\u001b[0m\u001b[32m包\u001b[0m\u001b[32m含\u001b[0m\u001b[32m供\u001b[0m\u001b[32m应\u001b[0m\u001b[32m商\u001b[0m\u001b[32m销\u001b[0m\u001b[32m售\u001b[0m\u001b[32m额\u001b[0m\u001b[32m信息\u001b[0m\u001b[32m的\u001b[0m\u001b[32m文件\u001b[0m\u001b[32m。\n",
      "\u001b[0m\u001b[32m-\u001b[0m\u001b[32m 如果\u001b[0m\u001b[32m找\u001b[0m\u001b[32m到\u001b[0m\u001b[32m了\u001b[0m\u001b[32m相关\u001b[0m\u001b[32m文件\u001b[0m\u001b[32m，\u001b[0m\u001b[32m我\u001b[0m\u001b[32m将\u001b[0m\u001b[32m使用\u001b[0m\u001b[32mInspect\u001b[0m\u001b[32mExcel\u001b[0m\u001b[32m工\u001b[0m\u001b[32m具\u001b[0m\u001b[32m来\u001b[0m\u001b[32m查\u001b[0m\u001b[32m看\u001b[0m\u001b[32m文件\u001b[0m\u001b[32m结\u001b[0m\u001b[32m构\u001b[0m\u001b[32m，\u001b[0m\u001b[32m确定\u001b[0m\u001b[32m销\u001b[0m\u001b[32m售\u001b[0m\u001b[32m额\u001b[0m\u001b[32m和\u001b[0m\u001b[32m供\u001b[0m\u001b[32m应\u001b[0m\u001b[32m商\u001b[0m\u001b[32m信息\u001b[0m\u001b[32m的\u001b[0m\u001b[32m列\u001b[0m\u001b[32m。\n",
      "\u001b[0m\u001b[32m-\u001b[0m\u001b[32m 如果\u001b[0m\u001b[32m文件\u001b[0m\u001b[32m中\u001b[0m\u001b[32m包\u001b[0m\u001b[32m含\u001b[0m\u001b[32m达\u001b[0m\u001b[32m标\u001b[0m\u001b[32m标\u001b[0m\u001b[32m准\u001b[0m\u001b[32m的\u001b[0m\u001b[32m信息\u001b[0m\u001b[32m，\u001b[0m\u001b[32m我\u001b[0m\u001b[32m将\u001b[0m\u001b[32m使用\u001b[0m\u001b[32mAsk\u001b[0m\u001b[32mDocument\u001b[0m\u001b[32m工\u001b[0m\u001b[32m具\u001b[0m\u001b[32m来\u001b[0m\u001b[32m查询\u001b[0m\u001b[32m。\n",
      "\u001b[0m\u001b[32m-\u001b[0m\u001b[32m 最\u001b[0m\u001b[32m后\u001b[0m\u001b[32m，\u001b[0m\u001b[32m我\u001b[0m\u001b[32m将\u001b[0m\u001b[32m使用\u001b[0m\u001b[32mAnaly\u001b[0m\u001b[32mse\u001b[0m\u001b[32mExcel\u001b[0m\u001b[32m工\u001b[0m\u001b[32m具\u001b[0m\u001b[32m来\u001b[0m\u001b[32m分\u001b[0m\u001b[32m析\u001b[0m\u001b[32m销\u001b[0m\u001b[32m售\u001b[0m\u001b[32m额\u001b[0m\u001b[32m数据\u001b[0m\u001b[32m，\u001b[0m\u001b[32m找\u001b[0m\u001b[32m出\u001b[0m\u001b[32m不\u001b[0m\u001b[32m达\u001b[0m\u001b[32m标\u001b[0m\u001b[32m的\u001b[0m\u001b[32m供\u001b[0m\u001b[32m应\u001b[0m\u001b[32m商\u001b[0m\u001b[32m。\n",
      "\n",
      "\u001b[0m\u001b[32m计\u001b[0m\u001b[32m划\u001b[0m\u001b[32m:\n",
      "\u001b[0m\u001b[32m-\u001b[0m\u001b[32m 第\u001b[0m\u001b[32m一\u001b[0m\u001b[32m步\u001b[0m\u001b[32m，\u001b[0m\u001b[32m我\u001b[0m\u001b[32m将\u001b[0m\u001b[32m使用\u001b[0m\u001b[32mList\u001b[0m\u001b[32mDirectory\u001b[0m\u001b[32m工\u001b[0m\u001b[32m具\u001b[0m\u001b[32m来\u001b[0m\u001b[32m探\u001b[0m\u001b[32m查\u001b[0m\u001b[32m文件\u001b[0m\u001b[32m夹\u001b[0m\u001b[32m内容\u001b[0m\u001b[32m。\n",
      "\n",
      "\u001b[0m\u001b[32m###\u001b[0m\u001b[32m 执行\u001b[0m\u001b[32m动\u001b[0m\u001b[32m作\u001b[0m\u001b[32m：\n",
      "\n",
      "\u001b[0m\u001b[32m```\u001b[0m\u001b[32mjson\u001b[0m\u001b[32m\n",
      "\u001b[0m\u001b[32m{\n",
      "\u001b[0m\u001b[32m \u001b[0m\u001b[32m \"\u001b[0m\u001b[32mname\u001b[0m\u001b[32m\":\u001b[0m\u001b[32m \"\u001b[0m\u001b[32mList\u001b[0m\u001b[32mDirectory\u001b[0m\u001b[32m\",\n",
      "\u001b[0m\u001b[32m \u001b[0m\u001b[32m \"\u001b[0m\u001b[32margs\u001b[0m\u001b[32m\":\u001b[0m\u001b[32m {\n",
      "\u001b[0m\u001b[32m   \u001b[0m\u001b[32m \"\u001b[0m\u001b[32mpath\u001b[0m\u001b[32m\":\u001b[0m\u001b[32m \"./\u001b[0m\u001b[32mdata\u001b[0m\u001b[32m/\u001b[0m\u001b[32maut\u001b[0m\u001b[32mog\u001b[0m\u001b[32mpt\u001b[0m\u001b[32m-demo\u001b[0m\u001b[32m\"\n",
      "\u001b[0m\u001b[32m \u001b[0m\u001b[32m }\n",
      "\u001b[0m\u001b[32m}\n",
      "\u001b[0m\u001b[32m```\u001b[0m\u001b[32m\u001b[0m\u001b[33m\n",
      "----\n",
      "结果:\n",
      ".DS_Store\n",
      "2023年8月-9月销售记录.xlsx\n",
      "供应商名录.xlsx\n",
      "求职简历.docx\n",
      "供应商资格要求.pdf\u001b[0m\n",
      "\u001b[32m\u001b[0m\u001b[32m###\u001b[0m\u001b[32m 思\u001b[0m\u001b[32m考\u001b[0m\u001b[32m过\u001b[0m\u001b[32m程\u001b[0m\u001b[32m：\n",
      "\n",
      "\u001b[0m\u001b[32m关\u001b[0m\u001b[32m键\u001b[0m\u001b[32m概\u001b[0m\u001b[32m念\u001b[0m\u001b[32m:\u001b[0m\u001b[32m 销\u001b[0m\u001b[32m售\u001b[0m\u001b[32m额\u001b[0m\u001b[32m不\u001b[0m\u001b[32m达\u001b[0m\u001b[32m标\u001b[0m\u001b[32m的\u001b[0m\u001b[32m供\u001b[0m\u001b[32m应\u001b[0m\u001b[32m商\u001b[0m\u001b[32m -\u001b[0m\u001b[32m 需\u001b[0m\u001b[32m要\u001b[0m\u001b[32m找\u001b[0m\u001b[32m出\u001b[0m\u001b[32m销\u001b[0m\u001b[32m售\u001b[0m\u001b[32m额\u001b[0m\u001b[32m低\u001b[0m\u001b[32m于\u001b[0m\u001b[32m某\u001b[0m\u001b[32m个\u001b[0m\u001b[32m阈\u001b[0m\u001b[32m值\u001b[0m\u001b[32m的\u001b[0m\u001b[32m供\u001b[0m\u001b[32m应\u001b[0m\u001b[32m商\u001b[0m\u001b[32m名\u001b[0m\u001b[32m单\u001b[0m\u001b[32m。\n",
      "\n",
      "\u001b[0m\u001b[32m概\u001b[0m\u001b[32m念\u001b[0m\u001b[32m拆\u001b[0m\u001b[32m解\u001b[0m\u001b[32m:\n",
      "\u001b[0m\u001b[32m-\u001b[0m\u001b[32m 销\u001b[0m\u001b[32m售\u001b[0m\u001b[32m额\u001b[0m\u001b[32m不\u001b[0m\u001b[32m达\u001b[0m\u001b[32m标\u001b[0m\u001b[32m:\u001b[0m\u001b[32m 需\u001b[0m\u001b[32m要\u001b[0m\u001b[32m知\u001b[0m\u001b[32m道\u001b[0m\u001b[32m达\u001b[0m\u001b[32m标\u001b[0m\u001b[32m的\u001b[0m\u001b[32m销\u001b[0m\u001b[32m售\u001b[0m\u001b[32m额\u001b[0m\u001b[32m是\u001b[0m\u001b[32m多\u001b[0m\u001b[32m少\u001b[0m\u001b[32m。\n",
      "\u001b[0m\u001b[32m-\u001b[0m\u001b[32m \u001b[0m\u001b[32m供\u001b[0m\u001b[32m应\u001b[0m\u001b[32m商\u001b[0m\u001b[32m:\u001b[0m\u001b[32m 需\u001b[0m\u001b[32m要\u001b[0m\u001b[32m知\u001b[0m\u001b[32m道\u001b[0m\u001b[32m有\u001b[0m\u001b[32m哪\u001b[0m\u001b[32m些\u001b[0m\u001b[32m供\u001b[0m\u001b[32m应\u001b[0m\u001b[32m商\u001b[0m\u001b[32m。\n",
      "\u001b[0m\u001b[32m-\u001b[0m\u001b[32m \u001b[0m\u001b[32m供\u001b[0m\u001b[32m应\u001b[0m\u001b[32m商\u001b[0m\u001b[32m销\u001b[0m\u001b[32m售\u001b[0m\u001b[32m额\u001b[0m\u001b[32m:\u001b[0m\u001b[32m 需\u001b[0m\u001b[32m要\u001b[0m\u001b[32m知\u001b[0m\u001b[32m道\u001b[0m\u001b[32m每\u001b[0m\u001b[32m个\u001b[0m\u001b[32m供\u001b[0m\u001b[32m应\u001b[0m\u001b[32m商\u001b[0m\u001b[32m的\u001b[0m\u001b[32m销\u001b[0m\u001b[32m售\u001b[0m\u001b[32m额\u001b[0m\u001b[32m。\n",
      "\n",
      "\u001b[0m\u001b[32m反\u001b[0m\u001b[32m思\u001b[0m\u001b[32m:\n",
      "\u001b[0m\u001b[32m-\u001b[0m\u001b[32m 我\u001b[0m\u001b[32m需要\u001b[0m\u001b[32m先\u001b[0m\u001b[32m知\u001b[0m\u001b[32m道\u001b[0m\u001b[32m销\u001b[0m\u001b[32m售\u001b[0m\u001b[32m额\u001b[0m\u001b[32m的\u001b[0m\u001b[32m达\u001b[0m\u001b[32m标\u001b[0m\u001b[32m标\u001b[0m\u001b[32m准\u001b[0m\u001b[32m是\u001b[0m\u001b[32m什\u001b[0m\u001b[32m么\u001b[0m\u001b[32m。\n",
      "\u001b[0m\u001b[32m-\u001b[0m\u001b[32m 我\u001b[0m\u001b[32m需要\u001b[0m\u001b[32m知\u001b[0m\u001b[32m道\u001b[0m\u001b[32m哪\u001b[0m\u001b[32m个\u001b[0m\u001b[32m文件\u001b[0m\u001b[32m包\u001b[0m\u001b[32m含\u001b[0m\u001b[32m供\u001b[0m\u001b[32m应\u001b[0m\u001b[32m商\u001b[0m\u001b[32m的\u001b[0m\u001b[32m销\u001b[0m\u001b[32m售\u001b[0m\u001b[32m额\u001b[0m\u001b[32m信息\u001b[0m\u001b[32m。\n",
      "\u001b[0m\u001b[32m-\u001b[0m\u001b[32m 我\u001b[0m\u001b[32m需要\u001b[0m\u001b[32m从\u001b[0m\u001b[32m文件\u001b[0m\u001b[32m中\u001b[0m\u001b[32m提\u001b[0m\u001b[32m取\u001b[0m\u001b[32m每\u001b[0m\u001b[32m个\u001b[0m\u001b[32m供\u001b[0m\u001b[32m应\u001b[0m\u001b[32m商\u001b[0m\u001b[32m的\u001b[0m\u001b[32m销\u001b[0m\u001b[32m售\u001b[0m\u001b[32m额\u001b[0m\u001b[32m，并\u001b[0m\u001b[32m与\u001b[0m\u001b[32m达\u001b[0m\u001b[32m标\u001b[0m\u001b[32m标\u001b[0m\u001b[32m准\u001b[0m\u001b[32m进行\u001b[0m\u001b[32m比\u001b[0m\u001b[32m较\u001b[0m\u001b[32m。\n",
      "\u001b[0m\u001b[32m-\u001b[0m\u001b[32m 文件\u001b[0m\u001b[32m列表\u001b[0m\u001b[32m中\u001b[0m\u001b[32m的\u001b[0m\u001b[32m\"\u001b[0m\u001b[32m202\u001b[0m\u001b[32m3\u001b[0m\u001b[32m年\u001b[0m\u001b[32m8\u001b[0m\u001b[32m月\u001b[0m\u001b[32m-\u001b[0m\u001b[32m9\u001b[0m\u001b[32m月\u001b[0m\u001b[32m销\u001b[0m\u001b[32m售\u001b[0m\u001b[32m记录\u001b[0m\u001b[32m.xlsx\u001b[0m\u001b[32m\"\u001b[0m\u001b[32m可能\u001b[0m\u001b[32m包\u001b[0m\u001b[32m含\u001b[0m\u001b[32m供\u001b[0m\u001b[32m应\u001b[0m\u001b[32m商\u001b[0m\u001b[32m销\u001b[0m\u001b[32m售\u001b[0m\u001b[32m额\u001b[0m\u001b[32m信息\u001b[0m\u001b[32m。\n",
      "\u001b[0m\u001b[32m-\u001b[0m\u001b[32m \"\u001b[0m\u001b[32m供\u001b[0m\u001b[32m应\u001b[0m\u001b[32m商\u001b[0m\u001b[32m资\u001b[0m\u001b[32m格\u001b[0m\u001b[32m要\u001b[0m\u001b[32m求\u001b[0m\u001b[32m.pdf\u001b[0m\u001b[32m\"\u001b[0m\u001b[32m可能\u001b[0m\u001b[32m包\u001b[0m\u001b[32m含\u001b[0m\u001b[32m销\u001b[0m\u001b[32m售\u001b[0m\u001b[32m额\u001b[0m\u001b[32m的\u001b[0m\u001b[32m达\u001b[0m\u001b[32m标\u001b[0m\u001b[32m标\u001b[0m\u001b[32m准\u001b[0m\u001b[32m。\n",
      "\n",
      "\u001b[0m\u001b[32m思\u001b[0m\u001b[32m考\u001b[0m\u001b[32m:\n",
      "\u001b[0m\u001b[32m-\u001b[0m\u001b[32m 我\u001b[0m\u001b[32m需要\u001b[0m\u001b[32m先\u001b[0m\u001b[32m使用\u001b[0m\u001b[32mInspect\u001b[0m\u001b[32mExcel\u001b[0m\u001b[32m工\u001b[0m\u001b[32m具\u001b[0m\u001b[32m来\u001b[0m\u001b[32m查\u001b[0m\u001b[32m看\u001b[0m\u001b[32m\"\u001b[0m\u001b[32m202\u001b[0m\u001b[32m3\u001b[0m\u001b[32m年\u001b[0m\u001b[32m8\u001b[0m\u001b[32m月\u001b[0m\u001b[32m-\u001b[0m\u001b[32m9\u001b[0m\u001b[32m月\u001b[0m\u001b[32m销\u001b[0m\u001b[32m售\u001b[0m\u001b[32m记录\u001b[0m\u001b[32m.xlsx\u001b[0m\u001b[32m\"\u001b[0m\u001b[32m文件\u001b[0m\u001b[32m的\u001b[0m\u001b[32m结\u001b[0m\u001b[32m构\u001b[0m\u001b[32m，\u001b[0m\u001b[32m确定\u001b[0m\u001b[32m销\u001b[0m\u001b[32m售\u001b[0m\u001b[32m额\u001b[0m\u001b[32m和\u001b[0m\u001b[32m供\u001b[0m\u001b[32m应\u001b[0m\u001b[32m商\u001b[0m\u001b[32m信息\u001b[0m\u001b[32m的\u001b[0m\u001b[32m列\u001b[0m\u001b[32m。\n",
      "\u001b[0m\u001b[32m-\u001b[0m\u001b[32m 我\u001b[0m\u001b[32m需要\u001b[0m\u001b[32m使用\u001b[0m\u001b[32mAsk\u001b[0m\u001b[32mDocument\u001b[0m\u001b[32m工\u001b[0m\u001b[32m具\u001b[0m\u001b[32m来\u001b[0m\u001b[32m查询\u001b[0m\u001b[32m\"\u001b[0m\u001b[32m供\u001b[0m\u001b[32m应\u001b[0m\u001b[32m商\u001b[0m\u001b[32m资\u001b[0m\u001b[32m格\u001b[0m\u001b[32m要\u001b[0m\u001b[32m求\u001b[0m\u001b[32m.pdf\u001b[0m\u001b[32m\"\u001b[0m\u001b[32m文件\u001b[0m\u001b[32m中\u001b[0m\u001b[32m的\u001b[0m\u001b[32m销\u001b[0m\u001b[32m售\u001b[0m\u001b[32m额\u001b[0m\u001b[32m达\u001b[0m\u001b[32m标\u001b[0m\u001b[32m标\u001b[0m\u001b[32m准\u001b[0m\u001b[32m。\n",
      "\u001b[0m\u001b[32m-\u001b[0m\u001b[32m 根\u001b[0m\u001b[32m据\u001b[0m\u001b[32m销\u001b[0m\u001b[32m售\u001b[0m\u001b[32m记录\u001b[0m\u001b[32m和\u001b[0m\u001b[32m达\u001b[0m\u001b[32m标\u001b[0m\u001b[32m标\u001b[0m\u001b[32m准\u001b[0m\u001b[32m，\u001b[0m\u001b[32m我\u001b[0m\u001b[32m将\u001b[0m\u001b[32m使用\u001b[0m\u001b[32mAnaly\u001b[0m\u001b[32mse\u001b[0m\u001b[32mExcel\u001b[0m\u001b[32m工\u001b[0m\u001b[32m具\u001b[0m\u001b[32m来\u001b[0m\u001b[32m分\u001b[0m\u001b[32m析\u001b[0m\u001b[32m销\u001b[0m\u001b[32m售\u001b[0m\u001b[32m额\u001b[0m\u001b[32m数据\u001b[0m\u001b[32m，\u001b[0m\u001b[32m找\u001b[0m\u001b[32m出\u001b[0m\u001b[32m不\u001b[0m\u001b[32m达\u001b[0m\u001b[32m标\u001b[0m\u001b[32m的\u001b[0m\u001b[32m供\u001b[0m\u001b[32m应\u001b[0m\u001b[32m商\u001b[0m\u001b[32m。\n",
      "\n",
      "\u001b[0m\u001b[32m推\u001b[0m\u001b[32m理\u001b[0m\u001b[32m:\n",
      "\u001b[0m\u001b[32m-\u001b[0m\u001b[32m 我\u001b[0m\u001b[32m将\u001b[0m\u001b[32m首\u001b[0m\u001b[32m先\u001b[0m\u001b[32m使用\u001b[0m\u001b[32mInspect\u001b[0m\u001b[32mExcel\u001b[0m\u001b[32m工\u001b[0m\u001b[32m具\u001b[0m\u001b[32m来\u001b[0m\u001b[32m查\u001b[0m\u001b[32m看\u001b[0m\u001b[32m\"\u001b[0m\u001b[32m202\u001b[0m\u001b[32m3\u001b[0m\u001b[32m年\u001b[0m\u001b[32m8\u001b[0m\u001b[32m月\u001b[0m\u001b[32m-\u001b[0m\u001b[32m9\u001b[0m\u001b[32m月\u001b[0m\u001b[32m销\u001b[0m\u001b[32m售\u001b[0m\u001b[32m记录\u001b[0m\u001b[32m.xlsx\u001b[0m\u001b[32m\"\u001b[0m\u001b[32m文件\u001b[0m\u001b[32m的\u001b[0m\u001b[32m结\u001b[0m\u001b[32m构\u001b[0m\u001b[32m。\n",
      "\u001b[0m\u001b[32m-\u001b[0m\u001b[32m 然\u001b[0m\u001b[32m后\u001b[0m\u001b[32m，\u001b[0m\u001b[32m我\u001b[0m\u001b[32m将\u001b[0m\u001b[32m使用\u001b[0m\u001b[32mAsk\u001b[0m\u001b[32mDocument\u001b[0m\u001b[32m工\u001b[0m\u001b[32m具\u001b[0m\u001b[32m来\u001b[0m\u001b[32m查询\u001b[0m\u001b[32m\"\u001b[0m\u001b[32m供\u001b[0m\u001b[32m应\u001b[0m\u001b[32m商\u001b[0m\u001b[32m资\u001b[0m\u001b[32m格\u001b[0m\u001b[32m要\u001b[0m\u001b[32m求\u001b[0m\u001b[32m.pdf\u001b[0m\u001b[32m\"\u001b[0m\u001b[32m文件\u001b[0m\u001b[32m中\u001b[0m\u001b[32m的\u001b[0m\u001b[32m销\u001b[0m\u001b[32m售\u001b[0m\u001b[32m额\u001b[0m\u001b[32m达\u001b[0m\u001b[32m标\u001b[0m\u001b[32m标\u001b[0m\u001b[32m准\u001b[0m\u001b[32m。\n",
      "\u001b[0m\u001b[32m-\u001b[0m\u001b[32m 最\u001b[0m\u001b[32m后\u001b[0m\u001b[32m，\u001b[0m\u001b[32m我\u001b[0m\u001b[32m将\u001b[0m\u001b[32m使用\u001b[0m\u001b[32mAnaly\u001b[0m\u001b[32mse\u001b[0m\u001b[32mExcel\u001b[0m\u001b[32m工\u001b[0m\u001b[32m具\u001b[0m\u001b[32m来\u001b[0m\u001b[32m分\u001b[0m\u001b[32m析\u001b[0m\u001b[32m销\u001b[0m\u001b[32m售\u001b[0m\u001b[32m额\u001b[0m\u001b[32m数据\u001b[0m\u001b[32m，\u001b[0m\u001b[32m找\u001b[0m\u001b[32m出\u001b[0m\u001b[32m不\u001b[0m\u001b[32m达\u001b[0m\u001b[32m标\u001b[0m\u001b[32m的\u001b[0m\u001b[32m供\u001b[0m\u001b[32m应\u001b[0m\u001b[32m商\u001b[0m\u001b[32m。\n",
      "\n",
      "\u001b[0m\u001b[32m计\u001b[0m\u001b[32m划\u001b[0m\u001b[32m:\n",
      "\u001b[0m\u001b[32m-\u001b[0m\u001b[32m 第\u001b[0m\u001b[32m一\u001b[0m\u001b[32m步\u001b[0m\u001b[32m，\u001b[0m\u001b[32m我\u001b[0m\u001b[32m将\u001b[0m\u001b[32m使用\u001b[0m\u001b[32mInspect\u001b[0m\u001b[32mExcel\u001b[0m\u001b[32m工\u001b[0m\u001b[32m具\u001b[0m\u001b[32m来\u001b[0m\u001b[32m查\u001b[0m\u001b[32m看\u001b[0m\u001b[32m\"\u001b[0m\u001b[32m202\u001b[0m\u001b[32m3\u001b[0m\u001b[32m年\u001b[0m\u001b[32m8\u001b[0m\u001b[32m月\u001b[0m\u001b[32m-\u001b[0m\u001b[32m9\u001b[0m\u001b[32m月\u001b[0m\u001b[32m销\u001b[0m\u001b[32m售\u001b[0m\u001b[32m记录\u001b[0m\u001b[32m.xlsx\u001b[0m\u001b[32m\"\u001b[0m\u001b[32m文件\u001b[0m\u001b[32m的\u001b[0m\u001b[32m结\u001b[0m\u001b[32m构\u001b[0m\u001b[32m。\n",
      "\n",
      "\u001b[0m\u001b[32m###\u001b[0m\u001b[32m 执行\u001b[0m\u001b[32m动\u001b[0m\u001b[32m作\u001b[0m\u001b[32m：\n",
      "\n",
      "\u001b[0m\u001b[32m```\u001b[0m\u001b[32mjson\u001b[0m\u001b[32m\n",
      "\u001b[0m\u001b[32m{\n",
      "\u001b[0m\u001b[32m \u001b[0m\u001b[32m \"\u001b[0m\u001b[32mname\u001b[0m\u001b[32m\":\u001b[0m\u001b[32m \"\u001b[0m\u001b[32mInspect\u001b[0m\u001b[32mExcel\u001b[0m\u001b[32m\",\n",
      "\u001b[0m\u001b[32m \u001b[0m\u001b[32m \"\u001b[0m\u001b[32margs\u001b[0m\u001b[32m\":\u001b[0m\u001b[32m {\n",
      "\u001b[0m\u001b[32m   \u001b[0m\u001b[32m \"\u001b[0m\u001b[32mfilename\u001b[0m\u001b[32m\":\u001b[0m\u001b[32m \"./\u001b[0m\u001b[32mdata\u001b[0m\u001b[32m/\u001b[0m\u001b[32maut\u001b[0m\u001b[32mog\u001b[0m\u001b[32mpt\u001b[0m\u001b[32m-demo\u001b[0m\u001b[32m/\u001b[0m\u001b[32m202\u001b[0m\u001b[32m3\u001b[0m\u001b[32m年\u001b[0m\u001b[32m8\u001b[0m\u001b[32m月\u001b[0m\u001b[32m-\u001b[0m\u001b[32m9\u001b[0m\u001b[32m月\u001b[0m\u001b[32m销\u001b[0m\u001b[32m售\u001b[0m\u001b[32m记录\u001b[0m\u001b[32m.xlsx\u001b[0m\u001b[32m\",\n",
      "\u001b[0m\u001b[32m   \u001b[0m\u001b[32m \"\u001b[0m\u001b[32mn\u001b[0m\u001b[32m\":\u001b[0m\u001b[32m \u001b[0m\u001b[32m3\u001b[0m\u001b[32m\n",
      "\u001b[0m\u001b[32m \u001b[0m\u001b[32m }\n",
      "\u001b[0m\u001b[32m}\n",
      "\u001b[0m\u001b[32m```\u001b[0m\u001b[32m\u001b[0m\u001b[33m\n",
      "----\n",
      "结果:\n",
      "这是 './data/autogpt-demo/2023年8月-9月销售记录.xlsx' 文件的工作表名称：\n",
      "\n",
      "['2023年8月-9月销售记录']\n",
      "\n",
      "这是 './data/autogpt-demo/2023年8月-9月销售记录.xlsx' 文件第一个工作表的列名：\n",
      "\n",
      "品类\n",
      "产品名\n",
      "单价(元)\n",
      "销售量\n",
      "销售日期\n",
      "供应商\n",
      "\n",
      "这是 './data/autogpt-demo/2023年8月-9月销售记录.xlsx' 文件第一个工作表的前3行样例：\n",
      "\n",
      "   品类                产品名  单价(元)  销售量       销售日期        供应商\n",
      "   手机       Xiaomi Mi 11   4999   20 2023-08-02   北京科技有限公司\n",
      "   耳机    Sony WH-1000XM4   2999   15 2023-08-03   上海音响有限公司\n",
      "笔记本电脑 Lenovo ThinkPad X1   8999   10 2023-08-05 深圳创新科技有限公司\u001b[0m\n",
      "\u001b[32m\u001b[0m\u001b[32m###\u001b[0m\u001b[32m 思\u001b[0m\u001b[32m考\u001b[0m\u001b[32m过\u001b[0m\u001b[32m程\u001b[0m\u001b[32m：\n",
      "\n",
      "\u001b[0m\u001b[32m关\u001b[0m\u001b[32m键\u001b[0m\u001b[32m概\u001b[0m\u001b[32m念\u001b[0m\u001b[32m:\u001b[0m\u001b[32m 销\u001b[0m\u001b[32m售\u001b[0m\u001b[32m额\u001b[0m\u001b[32m不\u001b[0m\u001b[32m达\u001b[0m\u001b[32m标\u001b[0m\u001b[32m的\u001b[0m\u001b[32m供\u001b[0m\u001b[32m应\u001b[0m\u001b[32m商\u001b[0m\u001b[32m -\u001b[0m\u001b[32m 需\u001b[0m\u001b[32m要\u001b[0m\u001b[32m找\u001b[0m\u001b[32m出\u001b[0m\u001b[32m销\u001b[0m\u001b[32m售\u001b[0m\u001b[32m额\u001b[0m\u001b[32m低\u001b[0m\u001b[32m于\u001b[0m\u001b[32m某\u001b[0m\u001b[32m个\u001b[0m\u001b[32m阈\u001b[0m\u001b[32m值\u001b[0m\u001b[32m的\u001b[0m\u001b[32m供\u001b[0m\u001b[32m应\u001b[0m\u001b[32m商\u001b[0m\u001b[32m名\u001b[0m\u001b[32m单\u001b[0m\u001b[32m。\n",
      "\n",
      "\u001b[0m\u001b[32m概\u001b[0m\u001b[32m念\u001b[0m\u001b[32m拆\u001b[0m\u001b[32m解\u001b[0m\u001b[32m:\n",
      "\u001b[0m\u001b[32m-\u001b[0m\u001b[32m 销\u001b[0m\u001b[32m售\u001b[0m\u001b[32m额\u001b[0m\u001b[32m不\u001b[0m\u001b[32m达\u001b[0m\u001b[32m标\u001b[0m\u001b[32m:\u001b[0m\u001b[32m 需\u001b[0m\u001b[32m要\u001b[0m\u001b[32m知\u001b[0m\u001b[32m道\u001b[0m\u001b[32m达\u001b[0m\u001b[32m标\u001b[0m\u001b[32m的\u001b[0m\u001b[32m销\u001b[0m\u001b[32m售\u001b[0m\u001b[32m额\u001b[0m\u001b[32m是\u001b[0m\u001b[32m多\u001b[0m\u001b[32m少\u001b[0m\u001b[32m。\n",
      "\u001b[0m\u001b[32m-\u001b[0m\u001b[32m \u001b[0m\u001b[32m供\u001b[0m\u001b[32m应\u001b[0m\u001b[32m商\u001b[0m\u001b[32m:\u001b[0m\u001b[32m 需\u001b[0m\u001b[32m要\u001b[0m\u001b[32m知\u001b[0m\u001b[32m道\u001b[0m\u001b[32m有\u001b[0m\u001b[32m哪\u001b[0m\u001b[32m些\u001b[0m\u001b[32m供\u001b[0m\u001b[32m应\u001b[0m\u001b[32m商\u001b[0m\u001b[32m。\n",
      "\u001b[0m\u001b[32m-\u001b[0m\u001b[32m \u001b[0m\u001b[32m供\u001b[0m\u001b[32m应\u001b[0m\u001b[32m商\u001b[0m\u001b[32m销\u001b[0m\u001b[32m售\u001b[0m\u001b[32m额\u001b[0m\u001b[32m:\u001b[0m\u001b[32m 需\u001b[0m\u001b[32m要\u001b[0m\u001b[32m知\u001b[0m\u001b[32m道\u001b[0m\u001b[32m每\u001b[0m\u001b[32m个\u001b[0m\u001b[32m供\u001b[0m\u001b[32m应\u001b[0m\u001b[32m商\u001b[0m\u001b[32m的\u001b[0m\u001b[32m销\u001b[0m\u001b[32m售\u001b[0m\u001b[32m额\u001b[0m\u001b[32m。\n",
      "\n",
      "\u001b[0m\u001b[32m反\u001b[0m\u001b[32m思\u001b[0m\u001b[32m:\n",
      "\u001b[0m\u001b[32m-\u001b[0m\u001b[32m 我\u001b[0m\u001b[32m已\u001b[0m\u001b[32m经\u001b[0m\u001b[32m知\u001b[0m\u001b[32m道\u001b[0m\u001b[32m了\u001b[0m\u001b[32m\"\u001b[0m\u001b[32m202\u001b[0m\u001b[32m3\u001b[0m\u001b[32m年\u001b[0m\u001b[32m8\u001b[0m\u001b[32m月\u001b[0m\u001b[32m-\u001b[0m\u001b[32m9\u001b[0m\u001b[32m月\u001b[0m\u001b[32m销\u001b[0m\u001b[32m售\u001b[0m\u001b[32m记录\u001b[0m\u001b[32m.xlsx\u001b[0m\u001b[32m\"\u001b[0m\u001b[32m文件\u001b[0m\u001b[32m中\u001b[0m\u001b[32m包\u001b[0m\u001b[32m含\u001b[0m\u001b[32m供\u001b[0m\u001b[32m应\u001b[0m\u001b[32m商\u001b[0m\u001b[32m销\u001b[0m\u001b[32m售\u001b[0m\u001b[32m额\u001b[0m\u001b[32m的\u001b[0m\u001b[32m信息\u001b[0m\u001b[32m，\u001b[0m\u001b[32m包\u001b[0m\u001b[32m括\u001b[0m\u001b[32m供\u001b[0m\u001b[32m应\u001b[0m\u001b[32m商\u001b[0m\u001b[32m名称\u001b[0m\u001b[32m和\u001b[0m\u001b[32m销\u001b[0m\u001b[32m售\u001b[0m\u001b[32m额\u001b[0m\u001b[32m。\n",
      "\u001b[0m\u001b[32m-\u001b[0m\u001b[32m 我\u001b[0m\u001b[32m还\u001b[0m\u001b[32m需要\u001b[0m\u001b[32m知\u001b[0m\u001b[32m道\u001b[0m\u001b[32m销\u001b[0m\u001b[32m售\u001b[0m\u001b[32m额\u001b[0m\u001b[32m的\u001b[0m\u001b[32m达\u001b[0m\u001b[32m标\u001b[0m\u001b[32m标\u001b[0m\u001b[32m准\u001b[0m\u001b[32m是\u001b[0m\u001b[32m什\u001b[0m\u001b[32m么\u001b[0m\u001b[32m。\n",
      "\u001b[0m\u001b[32m-\u001b[0m\u001b[32m \"\u001b[0m\u001b[32m供\u001b[0m\u001b[32m应\u001b[0m\u001b[32m商\u001b[0m\u001b[32m资\u001b[0m\u001b[32m格\u001b[0m\u001b[32m要\u001b[0m\u001b[32m求\u001b[0m\u001b[32m.pdf\u001b[0m\u001b[32m\"\u001b[0m\u001b[32m文件\u001b[0m\u001b[32m可能\u001b[0m\u001b[32m包\u001b[0m\u001b[32m含\u001b[0m\u001b[32m销\u001b[0m\u001b[32m售\u001b[0m\u001b[32m额\u001b[0m\u001b[32m的\u001b[0m\u001b[32m达\u001b[0m\u001b[32m标\u001b[0m\u001b[32m标\u001b[0m\u001b[32m准\u001b[0m\u001b[32m。\n",
      "\n",
      "\u001b[0m\u001b[32m思\u001b[0m\u001b[32m考\u001b[0m\u001b[32m:\n",
      "\u001b[0m\u001b[32m-\u001b[0m\u001b[32m 我\u001b[0m\u001b[32m需要\u001b[0m\u001b[32m使用\u001b[0m\u001b[32mAsk\u001b[0m\u001b[32mDocument\u001b[0m\u001b[32m工\u001b[0m\u001b[32m具\u001b[0m\u001b[32m来\u001b[0m\u001b[32m查询\u001b[0m\u001b[32m\"\u001b[0m\u001b[32m供\u001b[0m\u001b[32m应\u001b[0m\u001b[32m商\u001b[0m\u001b[32m资\u001b[0m\u001b[32m格\u001b[0m\u001b[32m要\u001b[0m\u001b[32m求\u001b[0m\u001b[32m.pdf\u001b[0m\u001b[32m\"\u001b[0m\u001b[32m文件\u001b[0m\u001b[32m中\u001b[0m\u001b[32m的\u001b[0m\u001b[32m销\u001b[0m\u001b[32m售\u001b[0m\u001b[32m额\u001b[0m\u001b[32m达\u001b[0m\u001b[32m标\u001b[0m\u001b[32m标\u001b[0m\u001b[32m准\u001b[0m\u001b[32m。\n",
      "\u001b[0m\u001b[32m-\u001b[0m\u001b[32m \u001b[0m\u001b[32m一\u001b[0m\u001b[32m旦\u001b[0m\u001b[32m我\u001b[0m\u001b[32m知\u001b[0m\u001b[32m道\u001b[0m\u001b[32m了\u001b[0m\u001b[32m销\u001b[0m\u001b[32m售\u001b[0m\u001b[32m额\u001b[0m\u001b[32m的\u001b[0m\u001b[32m达\u001b[0m\u001b[32m标\u001b[0m\u001b[32m标\u001b[0m\u001b[32m准\u001b[0m\u001b[32m，\u001b[0m\u001b[32m我\u001b[0m\u001b[32m可以\u001b[0m\u001b[32m使用\u001b[0m\u001b[32mAnaly\u001b[0m\u001b[32mse\u001b[0m\u001b[32mExcel\u001b[0m\u001b[32m工\u001b[0m\u001b[32m具\u001b[0m\u001b[32m来\u001b[0m\u001b[32m分\u001b[0m\u001b[32m析\u001b[0m\u001b[32m\"\u001b[0m\u001b[32m202\u001b[0m\u001b[32m3\u001b[0m\u001b[32m年\u001b[0m\u001b[32m8\u001b[0m\u001b[32m月\u001b[0m\u001b[32m-\u001b[0m\u001b[32m9\u001b[0m\u001b[32m月\u001b[0m\u001b[32m销\u001b[0m\u001b[32m售\u001b[0m\u001b[32m记录\u001b[0m\u001b[32m.xlsx\u001b[0m\u001b[32m\"\u001b[0m\u001b[32m文件\u001b[0m\u001b[32m，\u001b[0m\u001b[32m找\u001b[0m\u001b[32m出\u001b[0m\u001b[32m不\u001b[0m\u001b[32m达\u001b[0m\u001b[32m标\u001b[0m\u001b[32m的\u001b[0m\u001b[32m供\u001b[0m\u001b[32m应\u001b[0m\u001b[32m商\u001b[0m\u001b[32m。\n",
      "\n",
      "\u001b[0m\u001b[32m推\u001b[0m\u001b[32m理\u001b[0m\u001b[32m:\n",
      "\u001b[0m\u001b[32m-\u001b[0m\u001b[32m 我\u001b[0m\u001b[32m将\u001b[0m\u001b[32m首\u001b[0m\u001b[32m先\u001b[0m\u001b[32m使用\u001b[0m\u001b[32mAsk\u001b[0m\u001b[32mDocument\u001b[0m\u001b[32m工\u001b[0m\u001b[32m具\u001b[0m\u001b[32m来\u001b[0m\u001b[32m查询\u001b[0m\u001b[32m\"\u001b[0m\u001b[32m供\u001b[0m\u001b[32m应\u001b[0m\u001b[32m商\u001b[0m\u001b[32m资\u001b[0m\u001b[32m格\u001b[0m\u001b[32m要\u001b[0m\u001b[32m求\u001b[0m\u001b[32m.pdf\u001b[0m\u001b[32m\"\u001b[0m\u001b[32m文件\u001b[0m\u001b[32m中\u001b[0m\u001b[32m的\u001b[0m\u001b[32m销\u001b[0m\u001b[32m售\u001b[0m\u001b[32m额\u001b[0m\u001b[32m达\u001b[0m\u001b[32m标\u001b[0m\u001b[32m标\u001b[0m\u001b[32m准\u001b[0m\u001b[32m。\n",
      "\u001b[0m\u001b[32m-\u001b[0m\u001b[32m 然\u001b[0m\u001b[32m后\u001b[0m\u001b[32m，\u001b[0m\u001b[32m我\u001b[0m\u001b[32m将\u001b[0m\u001b[32m使用\u001b[0m\u001b[32mAnaly\u001b[0m\u001b[32mse\u001b[0m\u001b[32mExcel\u001b[0m\u001b[32m工\u001b[0m\u001b[32m具\u001b[0m\u001b[32m来\u001b[0m\u001b[32m分\u001b[0m\u001b[32m析\u001b[0m\u001b[32m销\u001b[0m\u001b[32m售\u001b[0m\u001b[32m额\u001b[0m\u001b[32m数据\u001b[0m\u001b[32m，\u001b[0m\u001b[32m找\u001b[0m\u001b[32m出\u001b[0m\u001b[32m不\u001b[0m\u001b[32m达\u001b[0m\u001b[32m标\u001b[0m\u001b[32m的\u001b[0m\u001b[32m供\u001b[0m\u001b[32m应\u001b[0m\u001b[32m商\u001b[0m\u001b[32m。\n",
      "\n",
      "\u001b[0m\u001b[32m计\u001b[0m\u001b[32m划\u001b[0m\u001b[32m:\n",
      "\u001b[0m\u001b[32m-\u001b[0m\u001b[32m 第\u001b[0m\u001b[32m一\u001b[0m\u001b[32m步\u001b[0m\u001b[32m，\u001b[0m\u001b[32m我\u001b[0m\u001b[32m将\u001b[0m\u001b[32m使用\u001b[0m\u001b[32mAsk\u001b[0m\u001b[32mDocument\u001b[0m\u001b[32m工\u001b[0m\u001b[32m具\u001b[0m\u001b[32m来\u001b[0m\u001b[32m查询\u001b[0m\u001b[32m\"\u001b[0m\u001b[32m供\u001b[0m\u001b[32m应\u001b[0m\u001b[32m商\u001b[0m\u001b[32m资\u001b[0m\u001b[32m格\u001b[0m\u001b[32m要\u001b[0m\u001b[32m求\u001b[0m\u001b[32m.pdf\u001b[0m\u001b[32m\"\u001b[0m\u001b[32m文件\u001b[0m\u001b[32m中\u001b[0m\u001b[32m的\u001b[0m\u001b[32m销\u001b[0m\u001b[32m售\u001b[0m\u001b[32m额\u001b[0m\u001b[32m达\u001b[0m\u001b[32m标\u001b[0m\u001b[32m标\u001b[0m\u001b[32m准\u001b[0m\u001b[32m。\n",
      "\n",
      "\u001b[0m\u001b[32m###\u001b[0m\u001b[32m 执行\u001b[0m\u001b[32m动\u001b[0m\u001b[32m作\u001b[0m\u001b[32m：\n",
      "\n",
      "\u001b[0m\u001b[32m```\u001b[0m\u001b[32mjson\u001b[0m\u001b[32m\n",
      "\u001b[0m\u001b[32m{\n",
      "\u001b[0m\u001b[32m \u001b[0m\u001b[32m \"\u001b[0m\u001b[32mname\u001b[0m\u001b[32m\":\u001b[0m\u001b[32m \"\u001b[0m\u001b[32mAsk\u001b[0m\u001b[32mDocument\u001b[0m\u001b[32m\",\n",
      "\u001b[0m\u001b[32m \u001b[0m\u001b[32m \"\u001b[0m\u001b[32margs\u001b[0m\u001b[32m\":\u001b[0m\u001b[32m {\n",
      "\u001b[0m\u001b[32m   \u001b[0m\u001b[32m \"\u001b[0m\u001b[32mfilename\u001b[0m\u001b[32m\":\u001b[0m\u001b[32m \"./\u001b[0m\u001b[32mdata\u001b[0m\u001b[32m/\u001b[0m\u001b[32maut\u001b[0m\u001b[32mog\u001b[0m\u001b[32mpt\u001b[0m\u001b[32m-demo\u001b[0m\u001b[32m/\u001b[0m\u001b[32m供\u001b[0m\u001b[32m应\u001b[0m\u001b[32m商\u001b[0m\u001b[32m资\u001b[0m\u001b[32m格\u001b[0m\u001b[32m要\u001b[0m\u001b[32m求\u001b[0m\u001b[32m.pdf\u001b[0m\u001b[32m\",\n",
      "\u001b[0m\u001b[32m   \u001b[0m\u001b[32m \"\u001b[0m\u001b[32mquery\u001b[0m\u001b[32m\":\u001b[0m\u001b[32m \"\u001b[0m\u001b[32m销\u001b[0m\u001b[32m售\u001b[0m\u001b[32m额\u001b[0m\u001b[32m的\u001b[0m\u001b[32m达\u001b[0m\u001b[32m标\u001b[0m\u001b[32m标\u001b[0m\u001b[32m准\u001b[0m\u001b[32m是\u001b[0m\u001b[32m多\u001b[0m\u001b[32m少\u001b[0m\u001b[32m？\u001b[0m\u001b[32m\"\n",
      "\u001b[0m\u001b[32m \u001b[0m\u001b[32m }\n",
      "\u001b[0m\u001b[32m}\n",
      "\u001b[0m\u001b[32m```\u001b[0m\u001b[32m\u001b[0m\u001b[33m\n",
      "----\n",
      "结果:\n",
      "{'query': '销售额的达标标准是多少？(请用中文回答)', 'result': ' 月销售额达标标准为人民币3万元。'}\u001b[0m\n"
     ]
    },
    {
     "ename": "TypeError",
     "evalue": "can only concatenate str (not \"dict\") to str",
     "output_type": "error",
     "traceback": [
      "\u001b[0;31m---------------------------------------------------------------------------\u001b[0m",
      "\u001b[0;31mTypeError\u001b[0m                                 Traceback (most recent call last)",
      "Cell \u001b[0;32mIn[134], line 1\u001b[0m\n\u001b[0;32m----> 1\u001b[0m \u001b[43mlaunch_agent\u001b[49m\u001b[43m(\u001b[49m\u001b[43m)\u001b[49m\n",
      "Cell \u001b[0;32mIn[133], line 10\u001b[0m, in \u001b[0;36mlaunch_agent\u001b[0;34m()\u001b[0m\n\u001b[1;32m      8\u001b[0m     \u001b[38;5;28;01mbreak\u001b[39;00m\n\u001b[1;32m      9\u001b[0m agent \u001b[38;5;241m=\u001b[39m AutoGPT()\n\u001b[0;32m---> 10\u001b[0m reply \u001b[38;5;241m=\u001b[39m \u001b[43magent\u001b[49m\u001b[38;5;241;43m.\u001b[39;49m\u001b[43mrun\u001b[49m\u001b[43m(\u001b[49m\u001b[43mtask\u001b[49m\u001b[43m)\u001b[49m\n\u001b[1;32m     11\u001b[0m \u001b[38;5;28mprint\u001b[39m(\u001b[38;5;124mf\u001b[39m\u001b[38;5;124m\"\u001b[39m\u001b[38;5;132;01m{\u001b[39;00mai_icon\u001b[38;5;132;01m}\u001b[39;00m\u001b[38;5;124m：\u001b[39m\u001b[38;5;132;01m{\u001b[39;00mreply\u001b[38;5;132;01m}\u001b[39;00m\u001b[38;5;130;01m\\n\u001b[39;00m\u001b[38;5;124m\"\u001b[39m)\n",
      "Cell \u001b[0;32mIn[132], line 63\u001b[0m, in \u001b[0;36mAutoGPT.run\u001b[0;34m(self, task_description)\u001b[0m\n\u001b[1;32m     58\u001b[0m color_print(\u001b[38;5;124mf\u001b[39m\u001b[38;5;124m\"\u001b[39m\u001b[38;5;130;01m\\n\u001b[39;00m\u001b[38;5;124m----\u001b[39m\u001b[38;5;130;01m\\n\u001b[39;00m\u001b[38;5;124m结果:\u001b[39m\u001b[38;5;130;01m\\n\u001b[39;00m\u001b[38;5;132;01m{\u001b[39;00mobservation\u001b[38;5;132;01m}\u001b[39;00m\u001b[38;5;124m\"\u001b[39m, OBSERVATION_COLOR)\n\u001b[1;32m     60\u001b[0m \u001b[38;5;66;03m# 记录结果，提供观察\u001b[39;00m\n\u001b[1;32m     61\u001b[0m \u001b[38;5;28mself\u001b[39m\u001b[38;5;241m.\u001b[39mshort_memory\u001b[38;5;241m.\u001b[39msave(\n\u001b[1;32m     62\u001b[0m     {\u001b[38;5;124m\"\u001b[39m\u001b[38;5;124minput\u001b[39m\u001b[38;5;124m\"\u001b[39m: response},\n\u001b[0;32m---> 63\u001b[0m     {\u001b[38;5;124m\"\u001b[39m\u001b[38;5;124moutput\u001b[39m\u001b[38;5;124m\"\u001b[39m: \u001b[38;5;124;43m\"\u001b[39;49m\u001b[38;5;124;43m返回结果:\u001b[39;49m\u001b[38;5;130;43;01m\\n\u001b[39;49;00m\u001b[38;5;124;43m\"\u001b[39;49m\u001b[43m \u001b[49m\u001b[38;5;241;43m+\u001b[39;49m\u001b[43m \u001b[49m\u001b[43mobservation\u001b[49m}\n\u001b[1;32m     64\u001b[0m )\n\u001b[1;32m     66\u001b[0m \u001b[38;5;66;03m# 累加思考步骤数，继续思考\u001b[39;00m\n\u001b[1;32m     67\u001b[0m thought_step_count \u001b[38;5;241m+\u001b[39m\u001b[38;5;241m=\u001b[39m \u001b[38;5;241m1\u001b[39m\n",
      "\u001b[0;31mTypeError\u001b[0m: can only concatenate str (not \"dict\") to str"
     ]
    }
   ],
   "source": [
    "launch_agent()"
   ]
  },
  {
   "cell_type": "markdown",
   "id": "29854e77-7352-4d98-9114-8d29553d642c",
   "metadata": {},
   "source": [
    "## 在langchain智能体架构中运行"
   ]
  },
  {
   "cell_type": "markdown",
   "id": "c7ab1cb3-f222-4956-9420-a0afb3c2e703",
   "metadata": {},
   "source": [
    "### 输出解析"
   ]
  },
  {
   "cell_type": "code",
   "execution_count": 69,
   "id": "0778f8ff-7c9f-4711-bca6-34339a4c7929",
   "metadata": {},
   "outputs": [],
   "source": [
    "from pydantic import BaseModel, Field\n",
    "from typing import List, Optional, Dict, Any\n",
    "\n",
    "class Action(BaseModel):\n",
    "    name: str = Field(description=\"工具或指令名称\")\n",
    "    args: Optional[Dict[str,Any]] = Field(default=None, description=\"工具或指令参数，由参数名称和参数值组成\")"
   ]
  },
  {
   "cell_type": "code",
   "execution_count": 70,
   "id": "710c8b3d-84c8-4e07-981a-4b6f9356c561",
   "metadata": {},
   "outputs": [],
   "source": [
    "from langchain.agents.agent import AgentOutputParser, AgentAction, AgentFinish\n",
    "from typing import Union\n",
    "from langchain.output_parsers import PydanticOutputParser, OutputFixingParser\n",
    "\n",
    "# 解析Action\n",
    "action_output_parser = PydanticOutputParser(pydantic_object=Action)\n",
    "\n",
    "# 实现自动纠错\n",
    "robust_parser = OutputFixingParser.from_llm(parser=action_output_parser, llm=llm)\n",
    "\n",
    "class MyActionOutputParser(AgentOutputParser):\n",
    "    \"\"\"解析单个动作的智能体action和输入参数\n",
    "    结合pydantic可精确捕捉输入参数。\n",
    "    \"\"\"\n",
    "\n",
    "    def get_format_instructions(self) -> str:\n",
    "        return \"请预定义pydantic类型\"\n",
    "\n",
    "    def parse(self, text: str) -> Union[AgentAction, AgentFinish]:\n",
    "        # 提取json结构中的参数\n",
    "        action = robust_parser.invoke(text)\n",
    "    \n",
    "        # 按照AgentExcutor中的定义输出 AgentFinish 或 AgentAction\n",
    "        if(action.name == \"FINISH\"):\n",
    "            return AgentFinish({\"output\": \"完成任务\"}, text)\n",
    "        else:\n",
    "            # 检查参数的值，如果为 None，设置一个默认值\n",
    "            name = action.name if action.name is not None else \"no_tool_name\"\n",
    "            args = action.args if action.args is not None else \"no_args\"\n",
    "            text = text if text is not None else \"empty text\"\n",
    "            return AgentAction(name, args, text)\n",
    "\n",
    "    @property\n",
    "    def _type(self) -> str:\n",
    "        return \"customize-single-input\""
   ]
  },
  {
   "cell_type": "markdown",
   "id": "e27abc17-6c94-45fe-8945-ebff91110daa",
   "metadata": {},
   "source": [
    "### 提示语"
   ]
  },
  {
   "cell_type": "code",
   "execution_count": 71,
   "id": "3335778e-058a-4674-b53f-b9c93b097d1b",
   "metadata": {},
   "outputs": [],
   "source": [
    "from langchain.prompts import PromptTemplate\n",
    "prompt = PromptTemplate.from_template(\"\"\"\n",
    "你是强大的AI助手，可以使用工具与指令自动化解决问题。\n",
    "\n",
    "## 你必须遵循以下约束来完成任务:\n",
    "{constraints}\n",
    "\n",
    "## 你的任务是:\n",
    "{task_description}\n",
    "如果此任务显示“无”、“没有了”、“已完成”或类似表达，你直接输出下述工具中的FINISH即可。\n",
    "\n",
    "## 你需要的所有文件资料都在以下目录:\n",
    "dir_path={work_dir}\n",
    "\n",
    "## 你可以使用以下工具或指令，它们又称为动作或actions:\n",
    "{tools}\n",
    "\n",
    "## 你可以使用的资源包括:\n",
    "{resources}\n",
    "\n",
    "## 你需要评估你的表现:\n",
    "{performance_evaluation}\n",
    "\n",
    "## 相关的历史记录:\n",
    "{long_term_memory}\n",
    "\n",
    "## 当前的任务执行记录:\n",
    "{agent_scratchpad}\n",
    "\n",
    "## 输出形式：\n",
    "###（1）首先，根据以下格式说明，输出你的思考过程:\n",
    "{thought_instructions}\n",
    "\n",
    "###（2）然后，根据以下格式说明，输出你选择执行的动作/工具:\n",
    "{format_instructions}\n",
    "\"\"\")"
   ]
  },
  {
   "cell_type": "code",
   "execution_count": 72,
   "id": "13eff702-ba98-4544-bb7d-ee109fa1dd99",
   "metadata": {},
   "outputs": [],
   "source": [
    "main_prompt = prompt.partial(\n",
    "    long_term_memory=\"\",\n",
    "    constraints=constraints,\n",
    "    work_dir=\"./data/autogpt-demo\",\n",
    "    resources=resources,\n",
    "    performance_evaluation=performance_evaluation,\n",
    "    thought_instructions=thought_instructions,\n",
    "    tools=render_text_description(tools),\n",
    "    format_instructions=action_parser,\n",
    ")"
   ]
  },
  {
   "cell_type": "code",
   "execution_count": 73,
   "id": "4c19b952-250f-4fa9-95b2-a9fbf5f7c235",
   "metadata": {},
   "outputs": [
    {
     "name": "stdout",
     "output_type": "stream",
     "text": [
      "['agent_scratchpad', 'task_description']\n"
     ]
    }
   ],
   "source": [
    "print(main_prompt.input_variables)"
   ]
  },
  {
   "cell_type": "markdown",
   "id": "b43f1bae-939b-4b5d-8b03-12bd8a427093",
   "metadata": {},
   "source": [
    "### Agent"
   ]
  },
  {
   "cell_type": "code",
   "execution_count": 74,
   "id": "15c7f35a-bf0c-4868-867f-1912fe7e683d",
   "metadata": {},
   "outputs": [],
   "source": [
    "from langchain_core.runnables import RunnablePassthrough\n",
    "from langchain_openai import ChatOpenAI\n",
    "from langchain.agents.output_parsers import ReActSingleInputOutputParser\n",
    "from langchain.tools.render import render_text_description\n",
    "from langchain.agents.format_scratchpad import format_log_to_str"
   ]
  },
  {
   "cell_type": "code",
   "execution_count": 75,
   "id": "cd3b3e17-deae-4847-a9c9-479cc809d4af",
   "metadata": {},
   "outputs": [],
   "source": [
    "llm = ChatOpenAI(\n",
    "    model=\"gpt-4-1106-preview\",\n",
    "    temperature=0,\n",
    "    model_kwargs={\n",
    "        \"seed\": 42\n",
    "    },\n",
    ")"
   ]
  },
  {
   "cell_type": "code",
   "execution_count": 76,
   "id": "b778f6eb-4121-4c27-b588-19f73244c596",
   "metadata": {
    "scrolled": true
   },
   "outputs": [
    {
     "data": {
      "text/plain": [
       "RunnableAssign(mapper={\n",
       "  task_description: RunnableLambda(lambda x: x['input']),\n",
       "  agent_scratchpad: RunnableLambda(lambda x: format_log_to_str(x['intermediate_steps']))\n",
       "})"
      ]
     },
     "execution_count": 76,
     "metadata": {},
     "output_type": "execute_result"
    }
   ],
   "source": [
    "RunnablePassthrough.assign(\n",
    "    task_description=lambda x: x[\"input\"],\n",
    "    agent_scratchpad=lambda x: format_log_to_str(x[\"intermediate_steps\"])\n",
    ")"
   ]
  },
  {
   "cell_type": "code",
   "execution_count": 77,
   "id": "f8e423c3-86ff-464e-a904-23012d0aaa11",
   "metadata": {},
   "outputs": [],
   "source": [
    "agent = (\n",
    "    RunnablePassthrough.assign(\n",
    "        task_description=lambda x: x[\"input\"],\n",
    "        agent_scratchpad=lambda x: format_log_to_str(x[\"intermediate_steps\"]) # intermediate_steps是agent_executor要求的参数\n",
    "    )\n",
    "    | main_prompt\n",
    "    | llm\n",
    "    | MyActionOutputParser()\n",
    ")"
   ]
  },
  {
   "cell_type": "code",
   "execution_count": 83,
   "id": "8ffadbf0-b9d8-40c6-8f3b-e2ef013d936d",
   "metadata": {},
   "outputs": [
    {
     "name": "stdout",
     "output_type": "stream",
     "text": [
      "tool='ListDirectory' tool_input={'path': './data/autogpt-demo'} log='### 思考过程:\\n\\n关键概念: 9月份销售额 - 这是需要查询的具体数据。\\n\\n概念拆解:\\n- 销售额: 需要找到记录销售数据的文件，可能是Excel表格。\\n- 9月份: 需要在销售数据中找到特定于9月份的数据。\\n\\n反思:\\n- 我需要找到包含销售数据的文件，可能是Excel格式。\\n- 我需要确认文件中是否有按月份记录的销售数据。\\n- 我需要从销售数据中提取出9月份的销售额。\\n\\n思考:\\n- 我需要先使用ListDirectory动作来查看目录中有哪些文件。\\n- 如果目录中有Excel文件，我可以使用InspectExcel动作来查看文件结构，确认是否包含销售数据。\\n- 如果确认Excel文件包含销售数据，我可以使用AnalyseExcel动作来提取9月份的销售额。\\n\\n推理:\\n- 首先，我应该使用ListDirectory动作来查看目录中的文件列表。\\n- 如果找到Excel文件，我将使用InspectExcel动作来查看其结构。\\n- 确认文件结构后，我将使用AnalyseExcel动作来分析并提取9月份的销售额。\\n\\n计划:\\n- 第一步，我将使用ListDirectory动作来查看目录`./data/autogpt-demo`中的文件列表。\\n\\n### 执行动作:\\n\\n```json\\n{\\n  \"name\": \"ListDirectory\",\\n  \"args\": {\\n    \"path\": \"./data/autogpt-demo\"\\n  }\\n}\\n```'"
     ]
    }
   ],
   "source": [
    "resp = agent.stream({\"input\": \"9月份销售额\", \"intermediate_steps\": \"\"})\n",
    "for chunk in resp:\n",
    "    print(chunk, end=\"\", flush=True)\n",
    "    # for s in chunk.tool:\n",
    "    #     print(s, end=\"\", flush=True)\n",
    "    # for s in chunk.tool_input:\n",
    "    #     print(s, end=\"\", flush=True)\n",
    "    # for s in chunk.log:\n",
    "    #     print(s, end=\"\", flush=True)"
   ]
  },
  {
   "cell_type": "markdown",
   "id": "eca58d87-9a0c-4497-a433-47d24a49358a",
   "metadata": {},
   "source": [
    "### 执行器"
   ]
  },
  {
   "cell_type": "markdown",
   "id": "40822550-4c19-4568-b183-125249c4b403",
   "metadata": {},
   "source": [
    "**注意：AgentExcuter需要单独做容错处理**"
   ]
  },
  {
   "cell_type": "code",
   "execution_count": 84,
   "id": "6fc9dc6e-5364-4fb8-87ae-4841d981f1d5",
   "metadata": {},
   "outputs": [],
   "source": [
    "for tool in tools:\n",
    "    tool.handle_tool_error = True"
   ]
  },
  {
   "cell_type": "code",
   "execution_count": 85,
   "id": "fc8c8826-d081-4ce8-a346-7b096156ce19",
   "metadata": {},
   "outputs": [],
   "source": [
    "from langchain.agents import AgentExecutor\n",
    "\n",
    "agent_executor = AgentExecutor(\n",
    "    agent=agent,\n",
    "    tools=tools,\n",
    "    verbose=True,\n",
    "    handle_parsing_errors=True\n",
    ")"
   ]
  },
  {
   "cell_type": "code",
   "execution_count": 86,
   "id": "8c34e122-e187-4b71-bdf2-9ca840d27398",
   "metadata": {},
   "outputs": [],
   "source": [
    "def agent_print(agent_steram_result):\n",
    "    for chunk in agent_steram_result:\n",
    "        if \"actions\" in chunk:\n",
    "            for action in chunk[\"actions\"]:\n",
    "                for s in action.log:\n",
    "                    print(s, end = \"\", flush=True)\n",
    "                print(\n",
    "                    f\"Calling Tool ```{action.tool}``` with input ```{action.tool_input}```\",\n",
    "                    flush=True\n",
    "                )\n",
    "        elif \"steps\" in chunk:\n",
    "            for step in chunk[\"steps\"]:\n",
    "                print(\"\\n\\n获得结果:\")\n",
    "                for s in step.observation:\n",
    "                    print(s, end = \"\", flush=True)\n",
    "        else:\n",
    "            print(chunk, flush=True)"
   ]
  },
  {
   "cell_type": "markdown",
   "id": "5eaa2aad-723e-4cb1-9d08-df19c3fa8849",
   "metadata": {},
   "source": [
    "### 提问示例"
   ]
  },
  {
   "cell_type": "markdown",
   "id": "96f5af3c-580b-42d8-922e-8b8497703a1c",
   "metadata": {},
   "source": [
    "- 9月份的销售额是多少\n",
    "- 销售总额最大的产品是什么\n",
    "- 帮我找出销售额不达标的供应商\n",
    "- 给这两家供应商发一封邮件通知此事\n",
    "- 对比8月和9月销售情况，写一份报告"
   ]
  },
  {
   "cell_type": "markdown",
   "id": "9441b374-7fdb-421f-bb7e-392a9899feda",
   "metadata": {},
   "source": [
    "### 运行：9月份销售额是多少"
   ]
  },
  {
   "cell_type": "code",
   "execution_count": 87,
   "id": "ff9adbbe-e63e-4821-8eae-72732b51fb3a",
   "metadata": {},
   "outputs": [
    {
     "name": "stdout",
     "output_type": "stream",
     "text": [
      "\n",
      "\n",
      "\u001b[1m> Entering new AgentExecutor chain...\u001b[0m\n",
      "### 思考过程\n",
      "\n",
      "关键概念: 9月份销售额 - 需要找到记录9月份销售数据的文件或数据源，并计算销售额。\n",
      "\n",
      "概念拆解:\n",
      "- 销售额: 通常指一定时期内的销售收入总额。\n",
      "  - 销售数据: 包含销售额的具体数字。\n",
      "  - 时间范围: 特定的时间段，本任务中为9月份。\n",
      "  - 数据源: 存储销售数据的文件或数据库。\n",
      "\n",
      "反思:\n",
      "- 我需要找到包含9月份销售数据的文件。\n",
      "- 我需要确认这些文件是否存在于给定的目录中。\n",
      "- 我需要使用工具来查看目录内容，以找到可能包含销售数据的文件。\n",
      "- 我需要分析找到的文件，以获取9月份的销售额。\n",
      "\n",
      "思考:\n",
      "- 我需要先使用ListDirectory工具来查看目录中的文件列表。\n",
      "- 如果找到可能包含销售数据的文件，我需要进一步使用InspectExcel或AskDocument工具来查看文件内容。\n",
      "- 如果文件是Excel格式，我可以使用InspectExcel来快速查看文件结构和部分内容。\n",
      "- 如果文件是Word或PDF格式，我可以使用AskDocument来查询特定的销售数据。\n",
      "- 我需要确保查询的时间范围是9月份。\n",
      "\n",
      "推理:\n",
      "- 首先，我应该使用ListDirectory工具来查看目录中的文件列表。\n",
      "- 然后，根据文件类型和名称，我将决定使用InspectExcel或AskDocument工具来获取销售数据。\n",
      "\n",
      "计划:\n",
      "- 我将执行ListDirectory工具，以查看目录./data/autogpt-demo中的文件列表。\n",
      "- 我将分析文件列表，寻找可能包含9月份销售数据的文件。\n",
      "- 如果找到Excel文件，我将使用InspectExcel工具来查看其结构和内容。\n",
      "- 如果找到Word或PDF文件，我将使用AskDocument工具来查询9月份的销售额。\n",
      "\n",
      "### 执行动作\n",
      "\n",
      "```json\n",
      "{\n",
      "  \"name\": \"ListDirectory\",\n",
      "  \"args\": {\n",
      "    \"path\": \"./data/autogpt-demo\"\n",
      "  }\n",
      "}\n",
      "```Calling Tool ```ListDirectory``` with input ```{'path': './data/autogpt-demo'}```\n",
      "\u001b[32;1m\u001b[1;3m### 思考过程\n",
      "\n",
      "关键概念: 9月份销售额 - 需要找到记录9月份销售数据的文件或数据源，并计算销售额。\n",
      "\n",
      "概念拆解:\n",
      "- 销售额: 通常指一定时期内的销售收入总额。\n",
      "  - 销售数据: 包含销售额的具体数字。\n",
      "  - 时间范围: 特定的时间段，本任务中为9月份。\n",
      "  - 数据源: 存储销售数据的文件或数据库。\n",
      "\n",
      "反思:\n",
      "- 我需要找到包含9月份销售数据的文件。\n",
      "- 我需要确认这些文件是否存在于给定的目录中。\n",
      "- 我需要使用工具来查看目录内容，以找到可能包含销售数据的文件。\n",
      "- 我需要分析找到的文件，以获取9月份的销售额。\n",
      "\n",
      "思考:\n",
      "- 我需要先使用ListDirectory工具来查看目录中的文件列表。\n",
      "- 如果找到可能包含销售数据的文件，我需要进一步使用InspectExcel或AskDocument工具来查看文件内容。\n",
      "- 如果文件是Excel格式，我可以使用InspectExcel来快速查看文件结构和部分内容。\n",
      "- 如果文件是Word或PDF格式，我可以使用AskDocument来查询特定的销售数据。\n",
      "- 我需要确保查询的时间范围是9月份。\n",
      "\n",
      "推理:\n",
      "- 首先，我应该使用ListDirectory工具来查看目录中的文件列表。\n",
      "- 然后，根据文件类型和名称，我将决定使用InspectExcel或AskDocument工具来获取销售数据。\n",
      "\n",
      "计划:\n",
      "- 我将执行ListDirectory工具，以查看目录./data/autogpt-demo中的文件列表。\n",
      "- 我将分析文件列表，寻找可能包含9月份销售数据的文件。\n",
      "- 如果找到Excel文件，我将使用InspectExcel工具来查看其结构和内容。\n",
      "- 如果找到Word或PDF文件，我将使用AskDocument工具来查询9月份的销售额。\n",
      "\n",
      "### 执行动作\n",
      "\n",
      "```json\n",
      "{\n",
      "  \"name\": \"ListDirectory\",\n",
      "  \"args\": {\n",
      "    \"path\": \"./data/autogpt-demo\"\n",
      "  }\n",
      "}\n",
      "```\u001b[0m\u001b[36;1m\u001b[1;3m.DS_Store\n",
      "2023年8月-9月销售记录.xlsx\n",
      "供应商名录.xlsx\n",
      "求职简历.docx\n",
      "供应商资格要求.pdf\u001b[0m\n",
      "\n",
      "获得结果:\n",
      ".DS_Store\n",
      "2023年8月-9月销售记录.xlsx\n",
      "供应商名录.xlsx\n",
      "求职简历.docx\n",
      "供应商资格要求.pdf### 思考过程\n",
      "\n",
      "关键概念: 9月份销售额 - 需要找到记录9月份销售数据的文件或数据源，并计算销售额。\n",
      "\n",
      "概念拆解:\n",
      "- 销售额: 通常指一定时期内的销售收入总额。\n",
      "  - 销售数据: 包含销售额的具体数字。\n",
      "  - 时间范围: 特定的时间段，本任务中为9月份。\n",
      "  - 数据源: 存储销售数据的文件或数据库。\n",
      "\n",
      "反思:\n",
      "- 我已经使用ListDirectory工具查看了目录中的文件列表。\n",
      "- 我发现了一个可能包含9月份销售数据的文件名为\"2023年8月-9月销售记录.xlsx\"。\n",
      "- 我需要使用InspectExcel工具来查看这个Excel文件的内容，以确定它是否包含9月份的销售数据。\n",
      "- 我需要确保查询的时间范围是9月份。\n",
      "\n",
      "思考:\n",
      "- 我需要使用InspectExcel工具来查看\"2023年8月-9月销售记录.xlsx\"文件的结构和内容。\n",
      "- 我需要确认这个文件是否包含9月份的销售数据。\n",
      "- 如果文件包含多个月份的数据，我需要找到9月份的数据。\n",
      "\n",
      "推理:\n",
      "- 我应该使用InspectExcel工具来查看\"2023年8月-9月销售记录.xlsx\"文件的内容。\n",
      "- 我需要检查文件中是否有列出9月份的销售数据。\n",
      "- 如果文件结构显示有9月份的数据，我将使用AnalyseExcel工具来计算9月份的销售额。\n",
      "\n",
      "计划:\n",
      "- 我将执行InspectExcel工具，以查看文件\"2023年8月-9月销售记录.xlsx\"的结构和内容。\n",
      "- 我将检查文件中是否有9月份的销售数据。\n",
      "\n",
      "### 执行动作\n",
      "\n",
      "```json\n",
      "{\n",
      "  \"name\": \"InspectExcel\",\n",
      "  \"args\": {\n",
      "    \"filename\": \"./data/autogpt-demo/2023年8月-9月销售记录.xlsx\"\n",
      "  }\n",
      "}\n",
      "```Calling Tool ```InspectExcel``` with input ```{'filename': './data/autogpt-demo/2023年8月-9月销售记录.xlsx'}```\n",
      "\u001b[32;1m\u001b[1;3m### 思考过程\n",
      "\n",
      "关键概念: 9月份销售额 - 需要找到记录9月份销售数据的文件或数据源，并计算销售额。\n",
      "\n",
      "概念拆解:\n",
      "- 销售额: 通常指一定时期内的销售收入总额。\n",
      "  - 销售数据: 包含销售额的具体数字。\n",
      "  - 时间范围: 特定的时间段，本任务中为9月份。\n",
      "  - 数据源: 存储销售数据的文件或数据库。\n",
      "\n",
      "反思:\n",
      "- 我已经使用ListDirectory工具查看了目录中的文件列表。\n",
      "- 我发现了一个可能包含9月份销售数据的文件名为\"2023年8月-9月销售记录.xlsx\"。\n",
      "- 我需要使用InspectExcel工具来查看这个Excel文件的内容，以确定它是否包含9月份的销售数据。\n",
      "- 我需要确保查询的时间范围是9月份。\n",
      "\n",
      "思考:\n",
      "- 我需要使用InspectExcel工具来查看\"2023年8月-9月销售记录.xlsx\"文件的结构和内容。\n",
      "- 我需要确认这个文件是否包含9月份的销售数据。\n",
      "- 如果文件包含多个月份的数据，我需要找到9月份的数据。\n",
      "\n",
      "推理:\n",
      "- 我应该使用InspectExcel工具来查看\"2023年8月-9月销售记录.xlsx\"文件的内容。\n",
      "- 我需要检查文件中是否有列出9月份的销售数据。\n",
      "- 如果文件结构显示有9月份的数据，我将使用AnalyseExcel工具来计算9月份的销售额。\n",
      "\n",
      "计划:\n",
      "- 我将执行InspectExcel工具，以查看文件\"2023年8月-9月销售记录.xlsx\"的结构和内容。\n",
      "- 我将检查文件中是否有9月份的销售数据。\n",
      "\n",
      "### 执行动作\n",
      "\n",
      "```json\n",
      "{\n",
      "  \"name\": \"InspectExcel\",\n",
      "  \"args\": {\n",
      "    \"filename\": \"./data/autogpt-demo/2023年8月-9月销售记录.xlsx\"\n",
      "  }\n",
      "}\n",
      "```\u001b[0m\u001b[33;1m\u001b[1;3m这是 './data/autogpt-demo/2023年8月-9月销售记录.xlsx' 文件的工作表名称：\n",
      "\n",
      "['2023年8月-9月销售记录']\n",
      "\n",
      "这是 './data/autogpt-demo/2023年8月-9月销售记录.xlsx' 文件第一个工作表的列名：\n",
      "\n",
      "品类\n",
      "产品名\n",
      "单价(元)\n",
      "销售量\n",
      "销售日期\n",
      "供应商\n",
      "\n",
      "这是 './data/autogpt-demo/2023年8月-9月销售记录.xlsx' 文件第一个工作表的前3行样例：\n",
      "\n",
      "   品类                产品名  单价(元)  销售量       销售日期        供应商\n",
      "   手机       Xiaomi Mi 11   4999   20 2023-08-02   北京科技有限公司\n",
      "   耳机    Sony WH-1000XM4   2999   15 2023-08-03   上海音响有限公司\n",
      "笔记本电脑 Lenovo ThinkPad X1   8999   10 2023-08-05 深圳创新科技有限公司\u001b[0m\n",
      "\n",
      "获得结果:\n",
      "这是 './data/autogpt-demo/2023年8月-9月销售记录.xlsx' 文件的工作表名称：\n",
      "\n",
      "['2023年8月-9月销售记录']\n",
      "\n",
      "这是 './data/autogpt-demo/2023年8月-9月销售记录.xlsx' 文件第一个工作表的列名：\n",
      "\n",
      "品类\n",
      "产品名\n",
      "单价(元)\n",
      "销售量\n",
      "销售日期\n",
      "供应商\n",
      "\n",
      "这是 './data/autogpt-demo/2023年8月-9月销售记录.xlsx' 文件第一个工作表的前3行样例：\n",
      "\n",
      "   品类                产品名  单价(元)  销售量       销售日期        供应商\n",
      "   手机       Xiaomi Mi 11   4999   20 2023-08-02   北京科技有限公司\n",
      "   耳机    Sony WH-1000XM4   2999   15 2023-08-03   上海音响有限公司\n",
      "笔记本电脑 Lenovo ThinkPad X1   8999   10 2023-08-05 深圳创新科技有限公司### 思考过程\n",
      "\n",
      "关键概念: 9月份销售额 - 需要计算9月份的销售收入总额。\n",
      "\n",
      "概念拆解:\n",
      "- 销售额: 销售收入总额。\n",
      "  - 销售数据: 包含销售额的具体数字。\n",
      "  - 时间范围: 特定的时间段，本任务中为9月份。\n",
      "  - 数据源: 存储销售数据的文件或数据库。\n",
      "\n",
      "反思:\n",
      "- 我已经使用ListDirectory工具查看了目录中的文件列表，并发现了一个名为\"2023年8月-9月销售记录.xlsx\"的文件，这个文件可能包含了9月份的销售数据。\n",
      "- 我使用InspectExcel工具查看了该Excel文件的结构，确认它包含销售日期、销售量和单价等列，这些信息足以计算销售额。\n",
      "- 我需要计算9月份的销售额，因此我需要筛选出销售日期在9月份的数据，并计算销售量与单价的乘积之和。\n",
      "\n",
      "思考:\n",
      "- 我需要使用AnalyseExcel工具来分析\"2023年8月-9月销售记录.xlsx\"文件，筛选出9月份的销售数据，并计算销售额。\n",
      "- 我需要确保筛选条件正确，只计算9月份的销售数据。\n",
      "\n",
      "推理:\n",
      "- 我应该使用AnalyseExcel工具来分析Excel文件，筛选出销售日期在2023年9月1日至2023年9月30日之间的记录。\n",
      "- 我需要计算这些记录的销售额，即每条记录的销售量与单价的乘积之和。\n",
      "\n",
      "计划:\n",
      "- 我将执行AnalyseExcel工具，分析文件\"./data/autogpt-demo/2023年8月-9月销售记录.xlsx\"。\n",
      "- 我将筛选销售日期在2023年9月1日至2023年9月30日之间的记录，并计算这些记录的销售额。\n",
      "\n",
      "### 执行动作\n",
      "\n",
      "```json\n",
      "{\n",
      "  \"name\": \"AnalyseExcel\",\n",
      "  \"args\": {\n",
      "    \"query\": \"筛选销售日期在2023年9月1日至2023年9月30日之间的记录，并计算这些记录的销售量与单价乘积之和\",\n",
      "    \"filename\": \"./data/autogpt-demo/2023年8月-9月销售记录.xlsx\"\n",
      "  }\n",
      "}\n",
      "```Calling Tool ```AnalyseExcel``` with input ```{'query': '筛选销售日期在2023年9月1日至2023年9月30日之间的记录，并计算这些记录的销售量与单价乘积之和', 'filename': './data/autogpt-demo/2023年8月-9月销售记录.xlsx'}```\n",
      "\u001b[32;1m\u001b[1;3m### 思考过程\n",
      "\n",
      "关键概念: 9月份销售额 - 需要计算9月份的销售收入总额。\n",
      "\n",
      "概念拆解:\n",
      "- 销售额: 销售收入总额。\n",
      "  - 销售数据: 包含销售额的具体数字。\n",
      "  - 时间范围: 特定的时间段，本任务中为9月份。\n",
      "  - 数据源: 存储销售数据的文件或数据库。\n",
      "\n",
      "反思:\n",
      "- 我已经使用ListDirectory工具查看了目录中的文件列表，并发现了一个名为\"2023年8月-9月销售记录.xlsx\"的文件，这个文件可能包含了9月份的销售数据。\n",
      "- 我使用InspectExcel工具查看了该Excel文件的结构，确认它包含销售日期、销售量和单价等列，这些信息足以计算销售额。\n",
      "- 我需要计算9月份的销售额，因此我需要筛选出销售日期在9月份的数据，并计算销售量与单价的乘积之和。\n",
      "\n",
      "思考:\n",
      "- 我需要使用AnalyseExcel工具来分析\"2023年8月-9月销售记录.xlsx\"文件，筛选出9月份的销售数据，并计算销售额。\n",
      "- 我需要确保筛选条件正确，只计算9月份的销售数据。\n",
      "\n",
      "推理:\n",
      "- 我应该使用AnalyseExcel工具来分析Excel文件，筛选出销售日期在2023年9月1日至2023年9月30日之间的记录。\n",
      "- 我需要计算这些记录的销售额，即每条记录的销售量与单价的乘积之和。\n",
      "\n",
      "计划:\n",
      "- 我将执行AnalyseExcel工具，分析文件\"./data/autogpt-demo/2023年8月-9月销售记录.xlsx\"。\n",
      "- 我将筛选销售日期在2023年9月1日至2023年9月30日之间的记录，并计算这些记录的销售额。\n",
      "\n",
      "### 执行动作\n",
      "\n",
      "```json\n",
      "{\n",
      "  \"name\": \"AnalyseExcel\",\n",
      "  \"args\": {\n",
      "    \"query\": \"筛选销售日期在2023年9月1日至2023年9月30日之间的记录，并计算这些记录的销售量与单价乘积之和\",\n",
      "    \"filename\": \"./data/autogpt-demo/2023年8月-9月销售记录.xlsx\"\n",
      "  }\n",
      "}\n",
      "```\u001b[0m\u001b[34m\n",
      "#!/usr/bin/env python\u001b[0m\n",
      "\u001b[34mimport pandas as pd\n",
      "\n",
      "# 读取Excel文件\n",
      "df = pd.read_excel('./data/autogpt-demo/2023年8月-9月销售记录.xlsx')\n",
      "\n",
      "# 将销售日期列转换为datetime类型\n",
      "df['销售日期'] = pd.to_datetime(df['销售日期'])\n",
      "\n",
      "# 筛选2023年9月1日至2023年9月30日之间的记录\n",
      "start_date = '2023-09-01'\n",
      "end_date = '2023-09-30'\n",
      "mask = (df['销售日期'] >= start_date) & (df['销售日期'] <= end_date)\n",
      "filtered_df = df.loc[mask]\n",
      "\n",
      "# 计算销售量与单价乘积之和\n",
      "total_sales = (filtered_df['销售量'] * filtered_df['单价(元)']).sum()\n",
      "\n",
      "# 输出结果\n",
      "print(f\"2023年9月1日至2023年9月30日之间的销售量与单价乘积之和为: {total_sales}\")\u001b[0m"
     ]
    },
    {
     "name": "stderr",
     "output_type": "stream",
     "text": [
      "Python REPL can execute arbitrary code. Use with caution.\n"
     ]
    },
    {
     "name": "stdout",
     "output_type": "stream",
     "text": [
      "\u001b[38;5;200m\u001b[1;3m2023年9月1日至2023年9月30日之间的销售量与单价乘积之和为: 2851099\n",
      "\u001b[0m\n",
      "\n",
      "获得结果:\n",
      "2023年9月1日至2023年9月30日之间的销售量与单价乘积之和为: 2851099\n",
      "\u001b[32;1m\u001b[1;3m### 思考过程\n",
      "\n",
      "关键概念: 9月份销售额 - 2851099元\n",
      "\n",
      "概念拆解:\n",
      "- 销售额: 销售收入总额。\n",
      "  - 销售数据: 包含销售额的具体数字。\n",
      "  - 时间范围: 特定的时间段，本任务中为9月份。\n",
      "  - 数据源: 存储销售数据的文件或数据库。\n",
      "\n",
      "反思:\n",
      " - 我已经使用ListDirectory工具查看了目录中的文件列表，并发现了一个名为\"2023年8月-9月销售记录.xlsx\"的文件，这个文件可能包含了9月份的销售数据。\n",
      " - 我使用InspectExcel工具查看了该Excel文件的结构，确认它包含销售日期、销售量和单价等列，这些信息足以计算销售额。\n",
      " - 我使用AnalyseExcel工具计算了9月份的销售额，结果为2851099元。\n",
      " - 根据任务要求，我已经得到了9月份销售额的具体数值，任务已完成。\n",
      "\n",
      "思考:\n",
      " - 我已经获得了9月份销售额的具体数值，不需要进一步的查询或分析。\n",
      " - 我需要使用FINISH指令来结束任务。\n",
      "\n",
      "推理:\n",
      " - 根据任务要求，我已经得到了9月份销售额的具体数值。\n",
      " - 我不需要进一步的查询或分析。\n",
      " - 我需要使用FINISH指令来结束任务。\n",
      "\n",
      "计划:\n",
      " - 我将执行FINISH指令来结束任务。\n",
      "\n",
      "### 执行动作\n",
      "\n",
      "```json\n",
      "{\n",
      "  \"name\": \"FINISH\"\n",
      "}\n",
      "```\u001b[0m\n",
      "\n",
      "\u001b[1m> Finished chain.\u001b[0m\n",
      "{'output': '完成任务', 'messages': [AIMessage(content='### 思考过程\\n\\n关键概念: 9月份销售额 - 2851099元\\n\\n概念拆解:\\n- 销售额: 销售收入总额。\\n  - 销售数据: 包含销售额的具体数字。\\n  - 时间范围: 特定的时间段，本任务中为9月份。\\n  - 数据源: 存储销售数据的文件或数据库。\\n\\n反思:\\n - 我已经使用ListDirectory工具查看了目录中的文件列表，并发现了一个名为\"2023年8月-9月销售记录.xlsx\"的文件，这个文件可能包含了9月份的销售数据。\\n - 我使用InspectExcel工具查看了该Excel文件的结构，确认它包含销售日期、销售量和单价等列，这些信息足以计算销售额。\\n - 我使用AnalyseExcel工具计算了9月份的销售额，结果为2851099元。\\n - 根据任务要求，我已经得到了9月份销售额的具体数值，任务已完成。\\n\\n思考:\\n - 我已经获得了9月份销售额的具体数值，不需要进一步的查询或分析。\\n - 我需要使用FINISH指令来结束任务。\\n\\n推理:\\n - 根据任务要求，我已经得到了9月份销售额的具体数值。\\n - 我不需要进一步的查询或分析。\\n - 我需要使用FINISH指令来结束任务。\\n\\n计划:\\n - 我将执行FINISH指令来结束任务。\\n\\n### 执行动作\\n\\n```json\\n{\\n  \"name\": \"FINISH\"\\n}\\n```')]}\n"
     ]
    }
   ],
   "source": [
    "agent_print(agent_executor.stream({\"input\": \"9月份销售额是多少？\"}))"
   ]
  },
  {
   "cell_type": "markdown",
   "id": "52284ec2-1d28-487e-a742-b1b3560d4eb2",
   "metadata": {},
   "source": [
    "### 运行：销售总额最大的产品是什么"
   ]
  },
  {
   "cell_type": "code",
   "execution_count": 88,
   "id": "0a54cb5d-a85b-43ad-8129-594c8e2f0181",
   "metadata": {},
   "outputs": [
    {
     "name": "stdout",
     "output_type": "stream",
     "text": [
      "\n",
      "\n",
      "\u001b[1m> Entering new AgentExecutor chain...\u001b[0m\n",
      "### 思考过程\n",
      "\n",
      "关键概念: 销售总额最大的产品 - 需要找到销售数据中总额最高的产品名称。\n",
      "\n",
      "概念拆解:\n",
      "- 销售数据: 包含产品名称和销售总额的数据。\n",
      "- 产品名称: 销售数据中的一个字段，代表产品。\n",
      "- 销售总额: 销售数据中的一个字段，代表每个产品的销售金额累计。\n",
      "\n",
      "反思:\n",
      "- 我需要找到包含销售数据的文件，这可能是一个Excel文件。\n",
      "- 我需要确认文件中是否有产品名称和销售总额这两个字段。\n",
      "- 我需要分析销售数据，找到销售总额最大的产品名称。\n",
      "\n",
      "思考:\n",
      "- 我需要先使用ListDirectory动作来查看数据目录中有哪些文件。\n",
      "- 如果目录中有Excel文件，我将使用InspectExcel动作来查看文件结构，确认是否包含产品名称和销售总额字段。\n",
      "- 如果确认了字段存在，我将使用AnalyseExcel动作来分析数据，找出销售总额最大的产品。\n",
      "\n",
      "推理:\n",
      "- 首先，我需要查看目录中的文件列表，以确定数据文件的位置和类型。\n",
      "- 然后，我需要检查数据文件的结构，以确认是否包含所需的字段。\n",
      "- 最后，我需要分析数据，找出销售总额最大的产品。\n",
      "\n",
      "计划:\n",
      "- 第一步，我将使用ListDirectory动作来查看目录中的文件列表。\n",
      "\n",
      "### 执行动作\n",
      "\n",
      "```json\n",
      "{\n",
      "  \"name\": \"ListDirectory\",\n",
      "  \"args\": {\n",
      "    \"path\": \"./data/autogpt-demo\"\n",
      "  }\n",
      "}\n",
      "```Calling Tool ```ListDirectory``` with input ```{'path': './data/autogpt-demo'}```\n",
      "\u001b[32;1m\u001b[1;3m### 思考过程\n",
      "\n",
      "关键概念: 销售总额最大的产品 - 需要找到销售数据中总额最高的产品名称。\n",
      "\n",
      "概念拆解:\n",
      "- 销售数据: 包含产品名称和销售总额的数据。\n",
      "- 产品名称: 销售数据中的一个字段，代表产品。\n",
      "- 销售总额: 销售数据中的一个字段，代表每个产品的销售金额累计。\n",
      "\n",
      "反思:\n",
      "- 我需要找到包含销售数据的文件，这可能是一个Excel文件。\n",
      "- 我需要确认文件中是否有产品名称和销售总额这两个字段。\n",
      "- 我需要分析销售数据，找到销售总额最大的产品名称。\n",
      "\n",
      "思考:\n",
      "- 我需要先使用ListDirectory动作来查看数据目录中有哪些文件。\n",
      "- 如果目录中有Excel文件，我将使用InspectExcel动作来查看文件结构，确认是否包含产品名称和销售总额字段。\n",
      "- 如果确认了字段存在，我将使用AnalyseExcel动作来分析数据，找出销售总额最大的产品。\n",
      "\n",
      "推理:\n",
      "- 首先，我需要查看目录中的文件列表，以确定数据文件的位置和类型。\n",
      "- 然后，我需要检查数据文件的结构，以确认是否包含所需的字段。\n",
      "- 最后，我需要分析数据，找出销售总额最大的产品。\n",
      "\n",
      "计划:\n",
      "- 第一步，我将使用ListDirectory动作来查看目录中的文件列表。\n",
      "\n",
      "### 执行动作\n",
      "\n",
      "```json\n",
      "{\n",
      "  \"name\": \"ListDirectory\",\n",
      "  \"args\": {\n",
      "    \"path\": \"./data/autogpt-demo\"\n",
      "  }\n",
      "}\n",
      "```\u001b[0m\u001b[36;1m\u001b[1;3m.DS_Store\n",
      "2023年8月-9月销售记录.xlsx\n",
      "供应商名录.xlsx\n",
      "求职简历.docx\n",
      "供应商资格要求.pdf\u001b[0m\n",
      "\n",
      "获得结果:\n",
      ".DS_Store\n",
      "2023年8月-9月销售记录.xlsx\n",
      "供应商名录.xlsx\n",
      "求职简历.docx\n",
      "供应商资格要求.pdf### 思考过程\n",
      "\n",
      "关键概念: 销售总额最大的产品 - 需要找到销售数据中总额最高的产品名称。\n",
      "\n",
      "概念拆解:\n",
      "- 销售数据: 包含产品名称和销售总额的数据。\n",
      "- 产品名称: 销售数据中的一个字段，代表产品。\n",
      "- 销售总额: 销售数据中的一个字段，代表每个产品的销售金额累计。\n",
      "\n",
      "反思:\n",
      "- 我已经使用ListDirectory动作查看了目录中的文件列表。\n",
      "- 目录中的\"2023年8月-9月销售记录.xlsx\"文件可能包含所需的销售数据。\n",
      "- 我需要进一步检查这个Excel文件，确认是否包含产品名称和销售总额字段。\n",
      "\n",
      "思考:\n",
      "- 我需要使用InspectExcel动作来查看\"2023年8月-9月销售记录.xlsx\"文件的结构。\n",
      "- 这将帮助我确认文件中是否有产品名称和销售总额这两个字段。\n",
      "- 如果字段存在，我将使用AnalyseExcel动作来分析数据，找出销售总额最大的产品。\n",
      "\n",
      "推理:\n",
      "- 我将首先检查\"2023年8月-9月销售记录.xlsx\"文件的结构，以确认所需字段是否存在。\n",
      "- 如果字段存在，我将计划使用AnalyseExcel动作来分析销售数据。\n",
      "\n",
      "计划:\n",
      "- 第一步，我将使用InspectExcel动作来查看\"2023年8月-9月销售记录.xlsx\"文件的结构。\n",
      "\n",
      "### 执行动作\n",
      "\n",
      "```json\n",
      "{\n",
      "  \"name\": \"InspectExcel\",\n",
      "  \"args\": {\n",
      "    \"filename\": \"./data/autogpt-demo/2023年8月-9月销售记录.xlsx\"\n",
      "  }\n",
      "}\n",
      "```Calling Tool ```InspectExcel``` with input ```{'filename': './data/autogpt-demo/2023年8月-9月销售记录.xlsx'}```\n",
      "\u001b[32;1m\u001b[1;3m### 思考过程\n",
      "\n",
      "关键概念: 销售总额最大的产品 - 需要找到销售数据中总额最高的产品名称。\n",
      "\n",
      "概念拆解:\n",
      "- 销售数据: 包含产品名称和销售总额的数据。\n",
      "- 产品名称: 销售数据中的一个字段，代表产品。\n",
      "- 销售总额: 销售数据中的一个字段，代表每个产品的销售金额累计。\n",
      "\n",
      "反思:\n",
      "- 我已经使用ListDirectory动作查看了目录中的文件列表。\n",
      "- 目录中的\"2023年8月-9月销售记录.xlsx\"文件可能包含所需的销售数据。\n",
      "- 我需要进一步检查这个Excel文件，确认是否包含产品名称和销售总额字段。\n",
      "\n",
      "思考:\n",
      "- 我需要使用InspectExcel动作来查看\"2023年8月-9月销售记录.xlsx\"文件的结构。\n",
      "- 这将帮助我确认文件中是否有产品名称和销售总额这两个字段。\n",
      "- 如果字段存在，我将使用AnalyseExcel动作来分析数据，找出销售总额最大的产品。\n",
      "\n",
      "推理:\n",
      "- 我将首先检查\"2023年8月-9月销售记录.xlsx\"文件的结构，以确认所需字段是否存在。\n",
      "- 如果字段存在，我将计划使用AnalyseExcel动作来分析销售数据。\n",
      "\n",
      "计划:\n",
      "- 第一步，我将使用InspectExcel动作来查看\"2023年8月-9月销售记录.xlsx\"文件的结构。\n",
      "\n",
      "### 执行动作\n",
      "\n",
      "```json\n",
      "{\n",
      "  \"name\": \"InspectExcel\",\n",
      "  \"args\": {\n",
      "    \"filename\": \"./data/autogpt-demo/2023年8月-9月销售记录.xlsx\"\n",
      "  }\n",
      "}\n",
      "```\u001b[0m\u001b[33;1m\u001b[1;3m这是 './data/autogpt-demo/2023年8月-9月销售记录.xlsx' 文件的工作表名称：\n",
      "\n",
      "['2023年8月-9月销售记录']\n",
      "\n",
      "这是 './data/autogpt-demo/2023年8月-9月销售记录.xlsx' 文件第一个工作表的列名：\n",
      "\n",
      "品类\n",
      "产品名\n",
      "单价(元)\n",
      "销售量\n",
      "销售日期\n",
      "供应商\n",
      "\n",
      "这是 './data/autogpt-demo/2023年8月-9月销售记录.xlsx' 文件第一个工作表的前3行样例：\n",
      "\n",
      "   品类                产品名  单价(元)  销售量       销售日期        供应商\n",
      "   手机       Xiaomi Mi 11   4999   20 2023-08-02   北京科技有限公司\n",
      "   耳机    Sony WH-1000XM4   2999   15 2023-08-03   上海音响有限公司\n",
      "笔记本电脑 Lenovo ThinkPad X1   8999   10 2023-08-05 深圳创新科技有限公司\u001b[0m\n",
      "\n",
      "获得结果:\n",
      "这是 './data/autogpt-demo/2023年8月-9月销售记录.xlsx' 文件的工作表名称：\n",
      "\n",
      "['2023年8月-9月销售记录']\n",
      "\n",
      "这是 './data/autogpt-demo/2023年8月-9月销售记录.xlsx' 文件第一个工作表的列名：\n",
      "\n",
      "品类\n",
      "产品名\n",
      "单价(元)\n",
      "销售量\n",
      "销售日期\n",
      "供应商\n",
      "\n",
      "这是 './data/autogpt-demo/2023年8月-9月销售记录.xlsx' 文件第一个工作表的前3行样例：\n",
      "\n",
      "   品类                产品名  单价(元)  销售量       销售日期        供应商\n",
      "   手机       Xiaomi Mi 11   4999   20 2023-08-02   北京科技有限公司\n",
      "   耳机    Sony WH-1000XM4   2999   15 2023-08-03   上海音响有限公司\n",
      "笔记本电脑 Lenovo ThinkPad X1   8999   10 2023-08-05 深圳创新科技有限公司### 思考过程\n",
      "\n",
      "关键概念: 销售总额最大的产品 - 需要找到销售数据中总额最高的产品名称。\n",
      "\n",
      "概念拆解:\n",
      "- 销售数据: 包含产品名称和销售总额的数据。\n",
      " - 产品名称: 销售数据中的一个字段，代表产品。\n",
      " - 销售总额: 销售数据中的一个字段，代表每个产品的销售金额累计。\n",
      "\n",
      "反思:\n",
      "- 我已经使用ListDirectory动作查看了目录中的文件列表，并找到了可能包含销售数据的Excel文件\"2023年8月-9月销售记录.xlsx\"。\n",
      "- 使用InspectExcel动作后，我确认了该文件包含产品名称和销售量等字段，但没有直接的销售总额字段。销售总额需要通过单价和销售量计算得出。\n",
      "- 我需要计算每个产品的销售总额，然后找出其中的最大值对应的产品名称。\n",
      "\n",
      "思考:\n",
      "- 我需要分析Excel文件中的数据，计算每个产品的销售总额。\n",
      "- 我需要根据单价和销售量计算销售总额，然后找出最大值。\n",
      "- 我需要使用AnalyseExcel动作来执行这个计算和比较。\n",
      "\n",
      "推理:\n",
      "- 我将使用AnalyseExcel动作，输入文件路径和分析方式。\n",
      "- 分析方式将包括计算每个产品的销售总额（单价乘以销售量）并找出最大值。\n",
      "- 我需要确保分析中包含了正确的字段名称和计算方法。\n",
      "\n",
      "计划:\n",
      "- 第一步，我将使用AnalyseExcel动作来分析\"2023年8月-9月销售记录.xlsx\"文件，计算每个产品的销售总额，并找出最大值对应的产品名称。\n",
      "\n",
      "### 执行动作\n",
      "\n",
      "```json\n",
      "{\n",
      "  \"name\": \"AnalyseExcel\",\n",
      "  \"args\": {\n",
      "    \"query\": \"计算每个产品的销售总额（单价乘以销售量），并找出销售总额最大的产品名称。\",\n",
      "    \"filename\": \"./data/autogpt-demo/2023年8月-9月销售记录.xlsx\"\n",
      "  }\n",
      "}\n",
      "```Calling Tool ```AnalyseExcel``` with input ```{'query': '计算每个产品的销售总额（单价乘以销售量），并找出销售总额最大的产品名称。', 'filename': './data/autogpt-demo/2023年8月-9月销售记录.xlsx'}```\n",
      "\u001b[32;1m\u001b[1;3m### 思考过程\n",
      "\n",
      "关键概念: 销售总额最大的产品 - 需要找到销售数据中总额最高的产品名称。\n",
      "\n",
      "概念拆解:\n",
      "- 销售数据: 包含产品名称和销售总额的数据。\n",
      " - 产品名称: 销售数据中的一个字段，代表产品。\n",
      " - 销售总额: 销售数据中的一个字段，代表每个产品的销售金额累计。\n",
      "\n",
      "反思:\n",
      "- 我已经使用ListDirectory动作查看了目录中的文件列表，并找到了可能包含销售数据的Excel文件\"2023年8月-9月销售记录.xlsx\"。\n",
      "- 使用InspectExcel动作后，我确认了该文件包含产品名称和销售量等字段，但没有直接的销售总额字段。销售总额需要通过单价和销售量计算得出。\n",
      "- 我需要计算每个产品的销售总额，然后找出其中的最大值对应的产品名称。\n",
      "\n",
      "思考:\n",
      "- 我需要分析Excel文件中的数据，计算每个产品的销售总额。\n",
      "- 我需要根据单价和销售量计算销售总额，然后找出最大值。\n",
      "- 我需要使用AnalyseExcel动作来执行这个计算和比较。\n",
      "\n",
      "推理:\n",
      "- 我将使用AnalyseExcel动作，输入文件路径和分析方式。\n",
      "- 分析方式将包括计算每个产品的销售总额（单价乘以销售量）并找出最大值。\n",
      "- 我需要确保分析中包含了正确的字段名称和计算方法。\n",
      "\n",
      "计划:\n",
      "- 第一步，我将使用AnalyseExcel动作来分析\"2023年8月-9月销售记录.xlsx\"文件，计算每个产品的销售总额，并找出最大值对应的产品名称。\n",
      "\n",
      "### 执行动作\n",
      "\n",
      "```json\n",
      "{\n",
      "  \"name\": \"AnalyseExcel\",\n",
      "  \"args\": {\n",
      "    \"query\": \"计算每个产品的销售总额（单价乘以销售量），并找出销售总额最大的产品名称。\",\n",
      "    \"filename\": \"./data/autogpt-demo/2023年8月-9月销售记录.xlsx\"\n",
      "  }\n",
      "}\n",
      "```\u001b[0m\u001b[34m\n",
      "#!/usr/bin/env python\u001b[0m\n",
      "\u001b[34mimport pandas as pd\n",
      "\n",
      "# 读取Excel文件\n",
      "df = pd.read_excel('./data/autogpt-demo/2023年8月-9月销售记录.xlsx')\n",
      "\n",
      "# 计算每个产品的销售总额\n",
      "df['销售总额'] = df['单价(元)'] * df['销售量']\n",
      "\n",
      "# 找出销售总额最大的产品名称\n",
      "max_sales_product = df.loc[df['销售总额'].idxmax(), '产品名']\n",
      "\n",
      "# 输出结果\n",
      "print(f\"销售总额最大的产品名称是：{max_sales_product}\")\u001b[0m\u001b[38;5;200m\u001b[1;3m销售总额最大的产品名称是：PlayStation 5\n",
      "\u001b[0m\n",
      "\n",
      "获得结果:\n",
      "销售总额最大的产品名称是：PlayStation 5\n",
      "\u001b[32;1m\u001b[1;3m### 思考过程\n",
      "\n",
      "关键概念: 销售总额最大的产品 - 已找到销售总额最大的产品名称为PlayStation 5。\n",
      "概念拆解:\n",
      "- 销售数据: 包含产品名称和销售总额的数据。\n",
      " - 产品名称: 销售数据中的一个字段，代表产品。\n",
      " - 销售总额: 销售数据中的一个字段，代表每个产品的销售金额累计。\n",
      "反思:\n",
      " - 我已经使用ListDirectory动作查看了目录中的文件列表，并找到了可能包含销售数据的Excel文件\"2023年8月-9月销售记录.xlsx\"。\n",
      " - 使用InspectExcel动作后，我确认了该文件包含产品名称和销售量等字段，但没有直接的销售总额字段。销售总额需要通过单价和销售量计算得出。\n",
      " - 使用AnalyseExcel动作后，我已经得到了销售总额最大的产品名称为PlayStation 5。\n",
      "思考: 任务已经完成，不需要进一步的动作。\n",
      "推理: 根据之前的动作和得到的结果，我已经找到了销售总额最大的产品名称，因此不需要进一步的分析或动作。\n",
      "计划: 使用FINISH动作来结束任务。\n",
      "\n",
      "### 执行动作\n",
      "\n",
      "```json\n",
      "{\n",
      "  \"name\": \"FINISH\"\n",
      "}\n",
      "```\u001b[0m\n",
      "\n",
      "\u001b[1m> Finished chain.\u001b[0m\n",
      "{'output': '完成任务', 'messages': [AIMessage(content='### 思考过程\\n\\n关键概念: 销售总额最大的产品 - 已找到销售总额最大的产品名称为PlayStation 5。\\n概念拆解:\\n- 销售数据: 包含产品名称和销售总额的数据。\\n - 产品名称: 销售数据中的一个字段，代表产品。\\n - 销售总额: 销售数据中的一个字段，代表每个产品的销售金额累计。\\n反思:\\n - 我已经使用ListDirectory动作查看了目录中的文件列表，并找到了可能包含销售数据的Excel文件\"2023年8月-9月销售记录.xlsx\"。\\n - 使用InspectExcel动作后，我确认了该文件包含产品名称和销售量等字段，但没有直接的销售总额字段。销售总额需要通过单价和销售量计算得出。\\n - 使用AnalyseExcel动作后，我已经得到了销售总额最大的产品名称为PlayStation 5。\\n思考: 任务已经完成，不需要进一步的动作。\\n推理: 根据之前的动作和得到的结果，我已经找到了销售总额最大的产品名称，因此不需要进一步的分析或动作。\\n计划: 使用FINISH动作来结束任务。\\n\\n### 执行动作\\n\\n```json\\n{\\n  \"name\": \"FINISH\"\\n}\\n```')]}\n"
     ]
    }
   ],
   "source": [
    "agent_print(agent_executor.stream({\"input\": \"销售总额最大的产品是什么\"}))"
   ]
  },
  {
   "cell_type": "markdown",
   "id": "4240ae87-9bb2-410d-a50d-09339359644a",
   "metadata": {},
   "source": [
    "### 运行：帮我找出销售额不达标的供应商"
   ]
  },
  {
   "cell_type": "code",
   "execution_count": 89,
   "id": "519548e9-b7eb-43e9-a3f8-abfd17c60c62",
   "metadata": {},
   "outputs": [
    {
     "name": "stdout",
     "output_type": "stream",
     "text": [
      "\n",
      "\n",
      "\u001b[1m> Entering new AgentExecutor chain...\u001b[0m\n",
      "### 思考过程\n",
      "\n",
      "关键概念: 销售额不达标的供应商 - 需要找出销售额低于某个阈值的供应商名单。\n",
      "\n",
      "概念拆解:\n",
      "- 销售额不达标\n",
      "  - 需要知道达标的销售额是多少（阈值）\n",
      "  - 需要知道每个供应商的销售额\n",
      "- 供应商\n",
      "  - 需要知道有哪些供应商\n",
      "  - 需要知道供应商的销售额数据\n",
      "\n",
      "反思:\n",
      "- 我需要先知道销售额的达标阈值是多少。\n",
      "- 我需要找到包含供应商销售额数据的文件。\n",
      "- 我需要分析这个文件，找出销售额不达标的供应商。\n",
      "- 我还没有得到任何要素/概念的取值。\n",
      "\n",
      "思考:\n",
      "- 我需要先找到包含供应商销售额数据的文件。\n",
      "- 通过文件内容，我可以了解到达标的销售额阈值以及每个供应商的销售额。\n",
      "- 如果销售额的达标阈值在文件中没有直接给出，我可能需要通过其他方式获取，比如文件中可能会有达标标准的描述。\n",
      "- 我需要分析文件内容，找出销售额不达标的供应商。\n",
      "\n",
      "推理:\n",
      "- 我将使用ListDirectory工具来查看目录中有哪些文件。\n",
      "- 如果目录中有Excel文件，我将使用InspectExcel工具来查看文件结构和内容。\n",
      "- 如果目录中有Word或PDF文件，我可能需要使用AskDocument工具来查询销售额的达标阈值。\n",
      "\n",
      "计划:\n",
      "- 我将首先使用ListDirectory工具来查看目录中的文件列表。\n",
      "- 如果找到了Excel文件，我将使用InspectExcel工具来查看文件的列名和前几行数据。\n",
      "- 如果找到了Word或PDF文件，我可能需要使用AskDocument工具来查询销售额的达标阈值。\n",
      "\n",
      "### 执行动作\n",
      "\n",
      "```json\n",
      "{\n",
      "  \"name\": \"ListDirectory\",\n",
      "  \"args\": {\n",
      "    \"path\": \"./data/autogpt-demo\"\n",
      "  }\n",
      "}\n",
      "```Calling Tool ```ListDirectory``` with input ```{'path': './data/autogpt-demo'}```\n",
      "\u001b[32;1m\u001b[1;3m### 思考过程\n",
      "\n",
      "关键概念: 销售额不达标的供应商 - 需要找出销售额低于某个阈值的供应商名单。\n",
      "\n",
      "概念拆解:\n",
      "- 销售额不达标\n",
      "  - 需要知道达标的销售额是多少（阈值）\n",
      "  - 需要知道每个供应商的销售额\n",
      "- 供应商\n",
      "  - 需要知道有哪些供应商\n",
      "  - 需要知道供应商的销售额数据\n",
      "\n",
      "反思:\n",
      "- 我需要先知道销售额的达标阈值是多少。\n",
      "- 我需要找到包含供应商销售额数据的文件。\n",
      "- 我需要分析这个文件，找出销售额不达标的供应商。\n",
      "- 我还没有得到任何要素/概念的取值。\n",
      "\n",
      "思考:\n",
      "- 我需要先找到包含供应商销售额数据的文件。\n",
      "- 通过文件内容，我可以了解到达标的销售额阈值以及每个供应商的销售额。\n",
      "- 如果销售额的达标阈值在文件中没有直接给出，我可能需要通过其他方式获取，比如文件中可能会有达标标准的描述。\n",
      "- 我需要分析文件内容，找出销售额不达标的供应商。\n",
      "\n",
      "推理:\n",
      "- 我将使用ListDirectory工具来查看目录中有哪些文件。\n",
      "- 如果目录中有Excel文件，我将使用InspectExcel工具来查看文件结构和内容。\n",
      "- 如果目录中有Word或PDF文件，我可能需要使用AskDocument工具来查询销售额的达标阈值。\n",
      "\n",
      "计划:\n",
      "- 我将首先使用ListDirectory工具来查看目录中的文件列表。\n",
      "- 如果找到了Excel文件，我将使用InspectExcel工具来查看文件的列名和前几行数据。\n",
      "- 如果找到了Word或PDF文件，我可能需要使用AskDocument工具来查询销售额的达标阈值。\n",
      "\n",
      "### 执行动作\n",
      "\n",
      "```json\n",
      "{\n",
      "  \"name\": \"ListDirectory\",\n",
      "  \"args\": {\n",
      "    \"path\": \"./data/autogpt-demo\"\n",
      "  }\n",
      "}\n",
      "```\u001b[0m\u001b[36;1m\u001b[1;3m.DS_Store\n",
      "2023年8月-9月销售记录.xlsx\n",
      "供应商名录.xlsx\n",
      "求职简历.docx\n",
      "供应商资格要求.pdf\u001b[0m\n",
      "\n",
      "获得结果:\n",
      ".DS_Store\n",
      "2023年8月-9月销售记录.xlsx\n",
      "供应商名录.xlsx\n",
      "求职简历.docx\n",
      "供应商资格要求.pdf### 思考过程\n",
      "\n",
      "关键概念: 销售额不达标的供应商 - 需要找出销售额低于某个阈值的供应商名单。\n",
      "\n",
      "概念拆解:\n",
      "- 销售额不达标\n",
      "  - 需要知道达标的销售额是多少（阈值）\n",
      "  - 需要知道每个供应商的销售额\n",
      "- 供应商\n",
      "  - 需要知道有哪些供应商\n",
      "  - 需要知道供应商的销售额数据\n",
      "\n",
      "反思:\n",
      "- 我已经知道了目录中的文件列表，但还没有找到销售额的达标阈值。\n",
      "- 我需要分析文件内容，找出销售额不达标的供应商。\n",
      "- 我还没有得到任何要素/概念的取值。\n",
      "\n",
      "思考:\n",
      "- 文件列表中的\"2023年8月-9月销售记录.xlsx\"可能包含供应商的销售额数据。\n",
      "- 文件列表中的\"供应商资格要求.pdf\"可能包含销售额的达标阈值。\n",
      "- 我需要先查看\"2023年8月-9月销售记录.xlsx\"文件的内容，以确定是否包含供应商销售额数据。\n",
      "- 如果\"2023年8月-9月销售记录.xlsx\"包含所需数据，我将使用AnalyseExcel工具来分析销售额数据。\n",
      "- 如果销售额的达标阈值不在\"2023年8月-9月销售记录.xlsx\"中，我将使用AskDocument工具查询\"供应商资格要求.pdf\"。\n",
      "\n",
      "推理:\n",
      "- 我将使用InspectExcel工具来查看\"2023年8月-9月销售记录.xlsx\"文件的列名和前几行数据，以确定是否包含供应商销售额数据。\n",
      "- 如果\"2023年8月-9月销售记录.xlsx\"包含供应商销售额数据，我将使用AnalyseExcel工具来分析数据。\n",
      "- 如果需要销售额的达标阈值，我将使用AskDocument工具查询\"供应商资格要求.pdf\"。\n",
      "\n",
      "计划:\n",
      "- 我将首先使用InspectExcel工具来查看\"2023年8月-9月销售记录.xlsx\"文件的列名和前几行数据。\n",
      "\n",
      "### 执行动作\n",
      "\n",
      "```json\n",
      "{\n",
      "  \"name\": \"InspectExcel\",\n",
      "  \"args\": {\n",
      "    \"filename\": \"./data/autogpt-demo/2023年8月-9月销售记录.xlsx\",\n",
      "    \"n\": 3\n",
      "  }\n",
      "}\n",
      "```Calling Tool ```InspectExcel``` with input ```{'filename': './data/autogpt-demo/2023年8月-9月销售记录.xlsx', 'n': 3}```\n",
      "\u001b[32;1m\u001b[1;3m### 思考过程\n",
      "\n",
      "关键概念: 销售额不达标的供应商 - 需要找出销售额低于某个阈值的供应商名单。\n",
      "\n",
      "概念拆解:\n",
      "- 销售额不达标\n",
      "  - 需要知道达标的销售额是多少（阈值）\n",
      "  - 需要知道每个供应商的销售额\n",
      "- 供应商\n",
      "  - 需要知道有哪些供应商\n",
      "  - 需要知道供应商的销售额数据\n",
      "\n",
      "反思:\n",
      "- 我已经知道了目录中的文件列表，但还没有找到销售额的达标阈值。\n",
      "- 我需要分析文件内容，找出销售额不达标的供应商。\n",
      "- 我还没有得到任何要素/概念的取值。\n",
      "\n",
      "思考:\n",
      "- 文件列表中的\"2023年8月-9月销售记录.xlsx\"可能包含供应商的销售额数据。\n",
      "- 文件列表中的\"供应商资格要求.pdf\"可能包含销售额的达标阈值。\n",
      "- 我需要先查看\"2023年8月-9月销售记录.xlsx\"文件的内容，以确定是否包含供应商销售额数据。\n",
      "- 如果\"2023年8月-9月销售记录.xlsx\"包含所需数据，我将使用AnalyseExcel工具来分析销售额数据。\n",
      "- 如果销售额的达标阈值不在\"2023年8月-9月销售记录.xlsx\"中，我将使用AskDocument工具查询\"供应商资格要求.pdf\"。\n",
      "\n",
      "推理:\n",
      "- 我将使用InspectExcel工具来查看\"2023年8月-9月销售记录.xlsx\"文件的列名和前几行数据，以确定是否包含供应商销售额数据。\n",
      "- 如果\"2023年8月-9月销售记录.xlsx\"包含供应商销售额数据，我将使用AnalyseExcel工具来分析数据。\n",
      "- 如果需要销售额的达标阈值，我将使用AskDocument工具查询\"供应商资格要求.pdf\"。\n",
      "\n",
      "计划:\n",
      "- 我将首先使用InspectExcel工具来查看\"2023年8月-9月销售记录.xlsx\"文件的列名和前几行数据。\n",
      "\n",
      "### 执行动作\n",
      "\n",
      "```json\n",
      "{\n",
      "  \"name\": \"InspectExcel\",\n",
      "  \"args\": {\n",
      "    \"filename\": \"./data/autogpt-demo/2023年8月-9月销售记录.xlsx\",\n",
      "    \"n\": 3\n",
      "  }\n",
      "}\n",
      "```\u001b[0m\u001b[33;1m\u001b[1;3m这是 './data/autogpt-demo/2023年8月-9月销售记录.xlsx' 文件的工作表名称：\n",
      "\n",
      "['2023年8月-9月销售记录']\n",
      "\n",
      "这是 './data/autogpt-demo/2023年8月-9月销售记录.xlsx' 文件第一个工作表的列名：\n",
      "\n",
      "品类\n",
      "产品名\n",
      "单价(元)\n",
      "销售量\n",
      "销售日期\n",
      "供应商\n",
      "\n",
      "这是 './data/autogpt-demo/2023年8月-9月销售记录.xlsx' 文件第一个工作表的前3行样例：\n",
      "\n",
      "   品类                产品名  单价(元)  销售量       销售日期        供应商\n",
      "   手机       Xiaomi Mi 11   4999   20 2023-08-02   北京科技有限公司\n",
      "   耳机    Sony WH-1000XM4   2999   15 2023-08-03   上海音响有限公司\n",
      "笔记本电脑 Lenovo ThinkPad X1   8999   10 2023-08-05 深圳创新科技有限公司\u001b[0m\n",
      "\n",
      "获得结果:\n",
      "这是 './data/autogpt-demo/2023年8月-9月销售记录.xlsx' 文件的工作表名称：\n",
      "\n",
      "['2023年8月-9月销售记录']\n",
      "\n",
      "这是 './data/autogpt-demo/2023年8月-9月销售记录.xlsx' 文件第一个工作表的列名：\n",
      "\n",
      "品类\n",
      "产品名\n",
      "单价(元)\n",
      "销售量\n",
      "销售日期\n",
      "供应商\n",
      "\n",
      "这是 './data/autogpt-demo/2023年8月-9月销售记录.xlsx' 文件第一个工作表的前3行样例：\n",
      "\n",
      "   品类                产品名  单价(元)  销售量       销售日期        供应商\n",
      "   手机       Xiaomi Mi 11   4999   20 2023-08-02   北京科技有限公司\n",
      "   耳机    Sony WH-1000XM4   2999   15 2023-08-03   上海音响有限公司\n",
      "笔记本电脑 Lenovo ThinkPad X1   8999   10 2023-08-05 深圳创新科技有限公司### 思考过程\n",
      "\n",
      "关键概念: 销售额不达标的供应商 - 需要找出销售额低于某个阈值的供应商名单。\n",
      "\n",
      "概念拆解:\n",
      "- 销售额不达标\n",
      "  - 需要知道达标的销售额是多少（阈值）\n",
      "  - 需要知道每个供应商的销售额\n",
      "- 供应商\n",
      "  - 需要知道有哪些供应商\n",
      "  - 需要知道供应商的销售额数据\n",
      "\n",
      "反思:\n",
      "- 我已经找到了包含供应商销售数据的文件\"2023年8月-9月销售记录.xlsx\"。\n",
      "- 我还需要找到销售额的达标阈值，这可能在\"供应商资格要求.pdf\"中有所描述。\n",
      "- 我还没有得到销售额的达标阈值这一要素/概念的取值。\n",
      "\n",
      "思考:\n",
      "- 我需要使用AskDocument工具查询\"供应商资格要求.pdf\"以获取销售额的达标阈值。\n",
      "- 一旦我得到了销售额的达标阈值，我可以使用AnalyseExcel工具分析\"2023年8月-9月销售记录.xlsx\"文件，找出销售额不达标的供应商。\n",
      "\n",
      "推理:\n",
      "- 我将使用AskDocument工具查询\"供应商资格要求.pdf\"中关于销售额达标阈值的信息。\n",
      "\n",
      "计划:\n",
      "- 我将首先使用AskDocument工具查询\"供应商资格要求.pdf\"中关于销售额达标阈值的信息。\n",
      "\n",
      "### 执行动作\n",
      "\n",
      "```json\n",
      "{\n",
      "  \"name\": \"AskDocument\",\n",
      "  \"args\": {\n",
      "    \"filename\": \"./data/autogpt-demo/供应商资格要求.pdf\",\n",
      "    \"query\": \"销售额的达标阈值是多少？\"\n",
      "  }\n",
      "}\n",
      "```Calling Tool ```AskDocument``` with input ```{'filename': './data/autogpt-demo/供应商资格要求.pdf', 'query': '销售额的达标阈值是多少？'}```\n",
      "\u001b[32;1m\u001b[1;3m### 思考过程\n",
      "\n",
      "关键概念: 销售额不达标的供应商 - 需要找出销售额低于某个阈值的供应商名单。\n",
      "\n",
      "概念拆解:\n",
      "- 销售额不达标\n",
      "  - 需要知道达标的销售额是多少（阈值）\n",
      "  - 需要知道每个供应商的销售额\n",
      "- 供应商\n",
      "  - 需要知道有哪些供应商\n",
      "  - 需要知道供应商的销售额数据\n",
      "\n",
      "反思:\n",
      "- 我已经找到了包含供应商销售数据的文件\"2023年8月-9月销售记录.xlsx\"。\n",
      "- 我还需要找到销售额的达标阈值，这可能在\"供应商资格要求.pdf\"中有所描述。\n",
      "- 我还没有得到销售额的达标阈值这一要素/概念的取值。\n",
      "\n",
      "思考:\n",
      "- 我需要使用AskDocument工具查询\"供应商资格要求.pdf\"以获取销售额的达标阈值。\n",
      "- 一旦我得到了销售额的达标阈值，我可以使用AnalyseExcel工具分析\"2023年8月-9月销售记录.xlsx\"文件，找出销售额不达标的供应商。\n",
      "\n",
      "推理:\n",
      "- 我将使用AskDocument工具查询\"供应商资格要求.pdf\"中关于销售额达标阈值的信息。\n",
      "\n",
      "计划:\n",
      "- 我将首先使用AskDocument工具查询\"供应商资格要求.pdf\"中关于销售额达标阈值的信息。\n",
      "\n",
      "### 执行动作\n",
      "\n",
      "```json\n",
      "{\n",
      "  \"name\": \"AskDocument\",\n",
      "  \"args\": {\n",
      "    \"filename\": \"./data/autogpt-demo/供应商资格要求.pdf\",\n",
      "    \"query\": \"销售额的达标阈值是多少？\"\n",
      "  }\n",
      "}\n",
      "```\u001b[0m"
     ]
    },
    {
     "name": "stderr",
     "output_type": "stream",
     "text": [
      "Number of requested results 4 is greater than number of elements in index 3, updating n_results = 3\n"
     ]
    },
    {
     "name": "stdout",
     "output_type": "stream",
     "text": [
      "\u001b[33;1m\u001b[1;3m{'query': '销售额的达标阈值是多少？(请用中文回答)', 'result': ' 月销售额达标阈值为人民币3万元。'}\u001b[0m"
     ]
    },
    {
     "ename": "ValidationError",
     "evalue": "2 validation errors for HumanMessage\ncontent\n  str type expected (type=type_error.str)\ncontent\n  value is not a valid list (type=type_error.list)",
     "output_type": "error",
     "traceback": [
      "\u001b[0;31m---------------------------------------------------------------------------\u001b[0m",
      "\u001b[0;31mValidationError\u001b[0m                           Traceback (most recent call last)",
      "Cell \u001b[0;32mIn[89], line 1\u001b[0m\n\u001b[0;32m----> 1\u001b[0m \u001b[43magent_print\u001b[49m\u001b[43m(\u001b[49m\u001b[43magent_executor\u001b[49m\u001b[38;5;241;43m.\u001b[39;49m\u001b[43mstream\u001b[49m\u001b[43m(\u001b[49m\u001b[43m{\u001b[49m\u001b[38;5;124;43m\"\u001b[39;49m\u001b[38;5;124;43minput\u001b[39;49m\u001b[38;5;124;43m\"\u001b[39;49m\u001b[43m:\u001b[49m\u001b[43m \u001b[49m\u001b[38;5;124;43m\"\u001b[39;49m\u001b[38;5;124;43m帮我找出销售额不达标的供应商\u001b[39;49m\u001b[38;5;124;43m\"\u001b[39;49m\u001b[43m}\u001b[49m\u001b[43m)\u001b[49m\u001b[43m)\u001b[49m\n",
      "Cell \u001b[0;32mIn[86], line 2\u001b[0m, in \u001b[0;36magent_print\u001b[0;34m(agent_steram_result)\u001b[0m\n\u001b[1;32m      1\u001b[0m \u001b[38;5;28;01mdef\u001b[39;00m \u001b[38;5;21magent_print\u001b[39m(agent_steram_result):\n\u001b[0;32m----> 2\u001b[0m     \u001b[38;5;28;01mfor\u001b[39;00m chunk \u001b[38;5;129;01min\u001b[39;00m agent_steram_result:\n\u001b[1;32m      3\u001b[0m         \u001b[38;5;28;01mif\u001b[39;00m \u001b[38;5;124m\"\u001b[39m\u001b[38;5;124mactions\u001b[39m\u001b[38;5;124m\"\u001b[39m \u001b[38;5;129;01min\u001b[39;00m chunk:\n\u001b[1;32m      4\u001b[0m             \u001b[38;5;28;01mfor\u001b[39;00m action \u001b[38;5;129;01min\u001b[39;00m chunk[\u001b[38;5;124m\"\u001b[39m\u001b[38;5;124mactions\u001b[39m\u001b[38;5;124m\"\u001b[39m]:\n",
      "File \u001b[0;32m~/Library/Caches/pypoetry/virtualenvs/langchain-book-u1j6yauo-py3.10/lib/python3.10/site-packages/langchain/agents/agent.py:1530\u001b[0m, in \u001b[0;36mAgentExecutor.stream\u001b[0;34m(self, input, config, **kwargs)\u001b[0m\n\u001b[1;32m   1519\u001b[0m config \u001b[38;5;241m=\u001b[39m ensure_config(config)\n\u001b[1;32m   1520\u001b[0m iterator \u001b[38;5;241m=\u001b[39m AgentExecutorIterator(\n\u001b[1;32m   1521\u001b[0m     \u001b[38;5;28mself\u001b[39m,\n\u001b[1;32m   1522\u001b[0m     \u001b[38;5;28minput\u001b[39m,\n\u001b[0;32m   (...)\u001b[0m\n\u001b[1;32m   1528\u001b[0m     \u001b[38;5;241m*\u001b[39m\u001b[38;5;241m*\u001b[39mkwargs,\n\u001b[1;32m   1529\u001b[0m )\n\u001b[0;32m-> 1530\u001b[0m \u001b[38;5;28;01mfor\u001b[39;00m step \u001b[38;5;129;01min\u001b[39;00m iterator:\n\u001b[1;32m   1531\u001b[0m     \u001b[38;5;28;01myield\u001b[39;00m step\n",
      "File \u001b[0;32m~/Library/Caches/pypoetry/virtualenvs/langchain-book-u1j6yauo-py3.10/lib/python3.10/site-packages/langchain/agents/agent_iterator.py:188\u001b[0m, in \u001b[0;36mAgentExecutorIterator.__iter__\u001b[0;34m(self)\u001b[0m\n\u001b[1;32m    186\u001b[0m             \u001b[38;5;28;01myield\u001b[39;00m AddableDict(actions\u001b[38;5;241m=\u001b[39m[chunk], messages\u001b[38;5;241m=\u001b[39mchunk\u001b[38;5;241m.\u001b[39mmessages)\n\u001b[1;32m    187\u001b[0m         \u001b[38;5;28;01melif\u001b[39;00m \u001b[38;5;28misinstance\u001b[39m(chunk, AgentStep):\n\u001b[0;32m--> 188\u001b[0m             \u001b[38;5;28;01myield\u001b[39;00m AddableDict(steps\u001b[38;5;241m=\u001b[39m[chunk], messages\u001b[38;5;241m=\u001b[39m\u001b[43mchunk\u001b[49m\u001b[38;5;241;43m.\u001b[39;49m\u001b[43mmessages\u001b[49m)\n\u001b[1;32m    190\u001b[0m \u001b[38;5;66;03m# convert iterator output to format handled by _process_next_step_output\u001b[39;00m\n\u001b[1;32m    191\u001b[0m next_step \u001b[38;5;241m=\u001b[39m \u001b[38;5;28mself\u001b[39m\u001b[38;5;241m.\u001b[39magent_executor\u001b[38;5;241m.\u001b[39m_consume_next_step(next_step_seq)\n",
      "File \u001b[0;32m~/Library/Caches/pypoetry/virtualenvs/langchain-book-u1j6yauo-py3.10/lib/python3.10/site-packages/langchain_core/agents.py:80\u001b[0m, in \u001b[0;36mAgentStep.messages\u001b[0;34m(self)\u001b[0m\n\u001b[1;32m     77\u001b[0m \u001b[38;5;129m@property\u001b[39m\n\u001b[1;32m     78\u001b[0m \u001b[38;5;28;01mdef\u001b[39;00m \u001b[38;5;21mmessages\u001b[39m(\u001b[38;5;28mself\u001b[39m) \u001b[38;5;241m-\u001b[39m\u001b[38;5;241m>\u001b[39m Sequence[BaseMessage]:\n\u001b[1;32m     79\u001b[0m \u001b[38;5;250m    \u001b[39m\u001b[38;5;124;03m\"\"\"Return the messages that correspond to this observation.\"\"\"\u001b[39;00m\n\u001b[0;32m---> 80\u001b[0m     \u001b[38;5;28;01mreturn\u001b[39;00m \u001b[43m_convert_agent_observation_to_messages\u001b[49m\u001b[43m(\u001b[49m\u001b[38;5;28;43mself\u001b[39;49m\u001b[38;5;241;43m.\u001b[39;49m\u001b[43maction\u001b[49m\u001b[43m,\u001b[49m\u001b[43m \u001b[49m\u001b[38;5;28;43mself\u001b[39;49m\u001b[38;5;241;43m.\u001b[39;49m\u001b[43mobservation\u001b[49m\u001b[43m)\u001b[49m\n",
      "File \u001b[0;32m~/Library/Caches/pypoetry/virtualenvs/langchain-book-u1j6yauo-py3.10/lib/python3.10/site-packages/langchain_core/agents.py:152\u001b[0m, in \u001b[0;36m_convert_agent_observation_to_messages\u001b[0;34m(agent_action, observation)\u001b[0m\n\u001b[1;32m    150\u001b[0m     \u001b[38;5;28;01mreturn\u001b[39;00m [_create_function_message(agent_action, observation)]\n\u001b[1;32m    151\u001b[0m \u001b[38;5;28;01melse\u001b[39;00m:\n\u001b[0;32m--> 152\u001b[0m     \u001b[38;5;28;01mreturn\u001b[39;00m [\u001b[43mHumanMessage\u001b[49m\u001b[43m(\u001b[49m\u001b[43mcontent\u001b[49m\u001b[38;5;241;43m=\u001b[39;49m\u001b[43mobservation\u001b[49m\u001b[43m)\u001b[49m]\n",
      "File \u001b[0;32m~/Library/Caches/pypoetry/virtualenvs/langchain-book-u1j6yauo-py3.10/lib/python3.10/site-packages/langchain_core/load/serializable.py:107\u001b[0m, in \u001b[0;36mSerializable.__init__\u001b[0;34m(self, **kwargs)\u001b[0m\n\u001b[1;32m    106\u001b[0m \u001b[38;5;28;01mdef\u001b[39;00m \u001b[38;5;21m__init__\u001b[39m(\u001b[38;5;28mself\u001b[39m, \u001b[38;5;241m*\u001b[39m\u001b[38;5;241m*\u001b[39mkwargs: Any) \u001b[38;5;241m-\u001b[39m\u001b[38;5;241m>\u001b[39m \u001b[38;5;28;01mNone\u001b[39;00m:\n\u001b[0;32m--> 107\u001b[0m     \u001b[38;5;28;43msuper\u001b[39;49m\u001b[43m(\u001b[49m\u001b[43m)\u001b[49m\u001b[38;5;241;43m.\u001b[39;49m\u001b[38;5;21;43m__init__\u001b[39;49m\u001b[43m(\u001b[49m\u001b[38;5;241;43m*\u001b[39;49m\u001b[38;5;241;43m*\u001b[39;49m\u001b[43mkwargs\u001b[49m\u001b[43m)\u001b[49m\n\u001b[1;32m    108\u001b[0m     \u001b[38;5;28mself\u001b[39m\u001b[38;5;241m.\u001b[39m_lc_kwargs \u001b[38;5;241m=\u001b[39m kwargs\n",
      "File \u001b[0;32m~/Library/Caches/pypoetry/virtualenvs/langchain-book-u1j6yauo-py3.10/lib/python3.10/site-packages/pydantic/v1/main.py:341\u001b[0m, in \u001b[0;36mBaseModel.__init__\u001b[0;34m(__pydantic_self__, **data)\u001b[0m\n\u001b[1;32m    339\u001b[0m values, fields_set, validation_error \u001b[38;5;241m=\u001b[39m validate_model(__pydantic_self__\u001b[38;5;241m.\u001b[39m\u001b[38;5;18m__class__\u001b[39m, data)\n\u001b[1;32m    340\u001b[0m \u001b[38;5;28;01mif\u001b[39;00m validation_error:\n\u001b[0;32m--> 341\u001b[0m     \u001b[38;5;28;01mraise\u001b[39;00m validation_error\n\u001b[1;32m    342\u001b[0m \u001b[38;5;28;01mtry\u001b[39;00m:\n\u001b[1;32m    343\u001b[0m     object_setattr(__pydantic_self__, \u001b[38;5;124m'\u001b[39m\u001b[38;5;124m__dict__\u001b[39m\u001b[38;5;124m'\u001b[39m, values)\n",
      "\u001b[0;31mValidationError\u001b[0m: 2 validation errors for HumanMessage\ncontent\n  str type expected (type=type_error.str)\ncontent\n  value is not a valid list (type=type_error.list)"
     ]
    }
   ],
   "source": [
    "agent_print(agent_executor.stream({\"input\": \"帮我找出销售额不达标的供应商\"}))"
   ]
  },
  {
   "cell_type": "code",
   "execution_count": null,
   "id": "ed5ce503-6486-4f8a-9bee-1f8de3d7a205",
   "metadata": {},
   "outputs": [],
   "source": []
  }
 ],
 "metadata": {
  "kernelspec": {
   "display_name": "langchani-book-py3.10-ipykernel",
   "language": "python",
   "name": "langchani-book-py3.10-ipykernel"
  },
  "language_info": {
   "codemirror_mode": {
    "name": "ipython",
    "version": 3
   },
   "file_extension": ".py",
   "mimetype": "text/x-python",
   "name": "python",
   "nbconvert_exporter": "python",
   "pygments_lexer": "ipython3",
   "version": "3.10.0"
  }
 },
 "nbformat": 4,
 "nbformat_minor": 5
}
