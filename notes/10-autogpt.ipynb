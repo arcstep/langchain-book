{
 "cells": [
  {
   "cell_type": "markdown",
   "id": "04519eac-97e7-4a33-97ba-d1e44a9594ba",
   "metadata": {},
   "source": [
    "# 实现一个AutoGPT"
   ]
  },
  {
   "cell_type": "markdown",
   "id": "c81b87b4-f3d4-4553-ae7c-7437d7af55ce",
   "metadata": {},
   "source": [
    "## 实现思路"
   ]
  },
  {
   "cell_type": "markdown",
   "id": "05cdb9d5-b47d-448b-8dee-d0de059fc556",
   "metadata": {},
   "source": [
    "### 构建智能体的一般性思路"
   ]
  },
  {
   "cell_type": "markdown",
   "id": "2988b0ed-8194-4373-861c-7780ca0386d4",
   "metadata": {},
   "source": [
    "![](./images/agent-overview.png)"
   ]
  },
  {
   "cell_type": "markdown",
   "id": "c0f9e2de-5611-45f8-9faf-d54d1baeb077",
   "metadata": {},
   "source": [
    "### 主流程运行逻辑"
   ]
  },
  {
   "cell_type": "markdown",
   "id": "ba5cb0ff-769b-40cb-80d3-ce1263874ea0",
   "metadata": {},
   "source": [
    "![](./images/agent-flowchart.png)"
   ]
  },
  {
   "cell_type": "markdown",
   "id": "d27d49fa-4ff9-4e73-baef-f8b7dd225a2a",
   "metadata": {},
   "source": [
    "## 框架准备"
   ]
  },
  {
   "cell_type": "markdown",
   "id": "9215cc8c-deb9-48ae-b0af-2c2c7336f35c",
   "metadata": {},
   "source": [
    "### 加载环境变量"
   ]
  },
  {
   "cell_type": "code",
   "execution_count": 39,
   "id": "fcdf9aac-55e3-42ba-8612-2d02212c78f3",
   "metadata": {},
   "outputs": [
    {
     "data": {
      "text/plain": [
       "True"
      ]
     },
     "execution_count": 39,
     "metadata": {},
     "output_type": "execute_result"
    }
   ],
   "source": [
    "import os\n",
    "from dotenv import load_dotenv, find_dotenv\n",
    "load_dotenv(find_dotenv(), override=True)"
   ]
  },
  {
   "cell_type": "markdown",
   "id": "6a9e8707-0e2c-4694-85ed-40433198ab5b",
   "metadata": {},
   "source": [
    "### 着色打印工具"
   ]
  },
  {
   "cell_type": "code",
   "execution_count": 2,
   "id": "68401182-ee90-4a40-9153-025d677c7756",
   "metadata": {},
   "outputs": [],
   "source": [
    "from colorama import init, Fore, Back, Style\n",
    "import sys\n",
    "\n",
    "THOUGHT_COLOR = Fore.GREEN\n",
    "OBSERVATION_COLOR = Fore.YELLOW\n",
    "ROUND_COLOR = Fore.RED\n",
    "CODE_COLOR = Fore.BLUE\n",
    "\n",
    "def color_print(text, color=None, end=\"\\n\"):\n",
    "    if color is not None:\n",
    "        content = color + text + Style.RESET_ALL + end\n",
    "    else:\n",
    "        content = text + end\n",
    "    sys.stdout.write(content)\n",
    "    sys.stdout.flush()"
   ]
  },
  {
   "cell_type": "code",
   "execution_count": 3,
   "id": "74e20ba3-ced6-4d87-9300-64d41120adaf",
   "metadata": {},
   "outputs": [
    {
     "name": "stdout",
     "output_type": "stream",
     "text": [
      "\u001b[32m我现在开始思考...\u001b[0m\n",
      "\u001b[31m第一轮开始了\u001b[0m\n",
      "\u001b[34mdef hello(): \n",
      "    print('hi')\u001b[0m\n"
     ]
    }
   ],
   "source": [
    "# 使用示例\n",
    "color_print(\"我现在开始思考...\", color = THOUGHT_COLOR)\n",
    "color_print(\"第一轮开始了\", color = ROUND_COLOR)\n",
    "color_print(\"def hello(): \\n    print('hi')\", color = CODE_COLOR)"
   ]
  },
  {
   "cell_type": "markdown",
   "id": "409fa306-d163-4a0d-86c6-f768c6bfcaac",
   "metadata": {},
   "source": [
    "## tools 定义"
   ]
  },
  {
   "cell_type": "code",
   "execution_count": 4,
   "id": "d8e68c35-4e41-4fdf-b1df-745703c2d9bb",
   "metadata": {},
   "outputs": [],
   "source": [
    "from langchain.agents import Tool\n",
    "from langchain.tools import StructuredTool"
   ]
  },
  {
   "cell_type": "markdown",
   "id": "52470de5-1672-45d3-a58c-a7a1f4dcef4e",
   "metadata": {},
   "source": [
    "### 文件处理"
   ]
  },
  {
   "cell_type": "markdown",
   "id": "061815bd-21e0-4416-97dd-0d85d1021339",
   "metadata": {},
   "source": [
    "#### 列举文件"
   ]
  },
  {
   "cell_type": "code",
   "execution_count": 5,
   "id": "a1113ef2-19a9-41e6-b563-465e20f7cf9f",
   "metadata": {},
   "outputs": [],
   "source": [
    "import os\n",
    "\n",
    "def list_files_in_directory(path: str) -> str:\n",
    "    \"\"\"List all file names in the directory\"\"\"\n",
    "    file_names = os.listdir(path)\n",
    "\n",
    "    return \"\\n\".join(file_names)"
   ]
  },
  {
   "cell_type": "markdown",
   "id": "a61000ea-f088-4531-87e1-ae6fa092a354",
   "metadata": {},
   "source": [
    "#### 定义 tool 函数"
   ]
  },
  {
   "cell_type": "code",
   "execution_count": 6,
   "id": "284992ea-33ee-4372-8031-31b1829adde3",
   "metadata": {},
   "outputs": [],
   "source": [
    "# 输出工具\n",
    "directory_inspection_tool = StructuredTool.from_function(\n",
    "    func=list_files_in_directory,\n",
    "    name=\"ListDirectory\",\n",
    "    description=\"探查文件夹的内容和结构，展示它的文件名和文件夹名\",\n",
    ")"
   ]
  },
  {
   "cell_type": "markdown",
   "id": "928d9046-323e-42ed-a373-3f347b5027b7",
   "metadata": {},
   "source": [
    "#### 使用示例"
   ]
  },
  {
   "cell_type": "code",
   "execution_count": 8,
   "id": "07e238f1-186b-4aa3-b398-443350e5c6ab",
   "metadata": {},
   "outputs": [
    {
     "name": "stdout",
     "output_type": "stream",
     "text": [
      ".DS_Store\n",
      "2023年8月-9月销售记录.xlsx\n",
      "供应商名录.xlsx\n",
      "求职简历.docx\n",
      "供应商资格要求.pdf\n",
      "name='ListDirectory' description='ListDirectory(path: str) -> str - 探查文件夹的内容和结构，展示它的文件名和文件夹名' args_schema=<class 'pydantic.v1.main.ListDirectorySchemaSchema'> func=<function list_files_in_directory at 0x1117e31c0>\n"
     ]
    }
   ],
   "source": [
    "print(list_files_in_directory(\"./data/autogpt-demo\"))\n",
    "print(directory_inspection_tool)"
   ]
  },
  {
   "cell_type": "markdown",
   "id": "7e77a14f-883e-47c6-9c96-09b062229c29",
   "metadata": {},
   "source": [
    "### 查询文档"
   ]
  },
  {
   "cell_type": "markdown",
   "id": "fcd1d696-c813-44cf-a014-dbbde57c7356",
   "metadata": {},
   "source": [
    "实现一个简单的RAG，以便从PDF文档或word文档中查询文本内容。"
   ]
  },
  {
   "cell_type": "markdown",
   "id": "0df43928-b10b-44a6-adc3-502a4bb5434c",
   "metadata": {},
   "source": [
    "#### 准备"
   ]
  },
  {
   "cell_type": "code",
   "execution_count": 47,
   "id": "92020dce-73b2-44b8-81f1-65d58ab3f9cb",
   "metadata": {},
   "outputs": [],
   "source": [
    "from typing import List\n",
    "from langchain.schema import Document\n",
    "from langchain.text_splitter import RecursiveCharacterTextSplitter\n",
    "from langchain.vectorstores import Chroma\n",
    "from langchain.document_loaders import PyPDFLoader\n",
    "from langchain_community.document_loaders import Docx2txtLoader\n",
    "from langchain.chains import RetrievalQA\n",
    "from langchain_openai import OpenAI, OpenAIEmbeddings"
   ]
  },
  {
   "cell_type": "code",
   "execution_count": 48,
   "id": "8d0f0891-e9bf-4247-a6de-a02a5480ab2e",
   "metadata": {},
   "outputs": [],
   "source": [
    "def get_file_extension(filename: str) -> str:\n",
    "    return filename.split(\".\")[-1]"
   ]
  },
  {
   "cell_type": "code",
   "execution_count": 49,
   "id": "e2752660-8f96-4c41-b9e8-96b96818b5ea",
   "metadata": {},
   "outputs": [],
   "source": [
    "class FileLoadFactory:\n",
    "    @staticmethod\n",
    "    def get_loader(filename: str):\n",
    "        ext = get_file_extension(filename)\n",
    "        if ext == \"pdf\":\n",
    "            return PyPDFLoader(filename)\n",
    "        elif ext == \"docx\" or ext == \"doc\":\n",
    "            return Docx2txtLoader(filename)\n",
    "        else:\n",
    "            raise NotImplementedError(f\"File extension {ext} not supported.\")"
   ]
  },
  {
   "cell_type": "code",
   "execution_count": 50,
   "id": "93a013f4-abd8-44da-8c74-8771f4e66df8",
   "metadata": {},
   "outputs": [],
   "source": [
    "def load_docs(filename: str) -> List[Document]:\n",
    "    file_loader = FileLoadFactory.get_loader(filename)\n",
    "    pages = file_loader.load_and_split()\n",
    "    return pages"
   ]
  },
  {
   "cell_type": "markdown",
   "id": "34e19075-80ad-4fe7-b0db-df1d36354a01",
   "metadata": {},
   "source": [
    "#### 使用 RAG 查询文档"
   ]
  },
  {
   "cell_type": "code",
   "execution_count": 51,
   "id": "64994337-264a-4f49-93ba-07d022b96eaa",
   "metadata": {},
   "outputs": [],
   "source": [
    "def ask_docment(\n",
    "        filename: str,\n",
    "        query: str,\n",
    ") -> str:\n",
    "    \"\"\"根据一个PDF文档的内容，回答一个问题\"\"\"\n",
    "\n",
    "    raw_docs = load_docs(filename)\n",
    "    if len(raw_docs) == 0:\n",
    "        return \"抱歉，文档内容为空\"\n",
    "    text_splitter = RecursiveCharacterTextSplitter(\n",
    "                        chunk_size=1000,\n",
    "                        chunk_overlap=200,\n",
    "                        length_function=len,\n",
    "                        add_start_index=True,\n",
    "                    )\n",
    "    documents = text_splitter.split_documents(raw_docs)\n",
    "    if documents is None or len(documents) == 0:\n",
    "        return \"无法读取文档内容\"\n",
    "    db = Chroma.from_documents(documents, OpenAIEmbeddings(model=\"text-embedding-ada-002\"))\n",
    "    qa_chain = RetrievalQA.from_chain_type(\n",
    "        llm=OpenAI(\n",
    "            temperature=0,\n",
    "            model_kwargs={\n",
    "                \"seed\": 42\n",
    "            },\n",
    "        ),  # 语言模型\n",
    "        chain_type=\"stuff\",  # prompt的组织方式\n",
    "        retriever=db.as_retriever()  # 检索器\n",
    "    )\n",
    "    response = qa_chain.run(query+\"(请用中文回答)\")\n",
    "    return response"
   ]
  },
  {
   "cell_type": "markdown",
   "id": "f5e5df56-11b8-4fd3-9789-ef6ca53a1499",
   "metadata": {},
   "source": [
    "#### 定义 tool 函数"
   ]
  },
  {
   "cell_type": "code",
   "execution_count": 52,
   "id": "f5af1106-d9e5-471a-a465-cf7afb9179ed",
   "metadata": {},
   "outputs": [],
   "source": [
    "# 输出工具\n",
    "document_qa_tool = StructuredTool.from_function(\n",
    "    func=ask_docment,\n",
    "    name=\"AskDocument\",\n",
    "    description=\"根据一个Word或PDF文档的内容，回答一个问题。考虑上下文信息，确保问题对相关概念的定义表述完整。\",\n",
    ")"
   ]
  },
  {
   "cell_type": "markdown",
   "id": "c5236721-6fa3-4ed4-84bf-4e23e05a365e",
   "metadata": {},
   "source": [
    "#### 使用示例"
   ]
  },
  {
   "cell_type": "code",
   "execution_count": 53,
   "id": "029891a7-3f79-42a5-becf-42ff407af3eb",
   "metadata": {},
   "outputs": [
    {
     "name": "stdout",
     "output_type": "stream",
     "text": [
      " 月销售额达到人民币3万元。\n"
     ]
    }
   ],
   "source": [
    "# 使用示例\n",
    "filename = \"./data/autogpt-demo/供应商资格要求.pdf\"\n",
    "query = \"销售额达标的标准是多少？\"\n",
    "print(ask_docment(filename, query))"
   ]
  },
  {
   "cell_type": "code",
   "execution_count": 323,
   "id": "50d330de-cfcb-4ac1-b7a9-2033ac45853b",
   "metadata": {},
   "outputs": [
    {
     "name": "stdout",
     "output_type": "stream",
     "text": [
      " 工作经历包括先后负责蜜林等项目，并取得了阶段性成功。本人性格开朗，热情随和，做事严谨，具有较强的抗压能力，能够从容应对突发状况，推动工作有条不紊地进行。\n"
     ]
    }
   ],
   "source": [
    "# 使用示例\n",
    "filename = \"./data/autogpt-demo/求职简历.docx\"\n",
    "query = \"工作经历如何？\"\n",
    "print(ask_docment(filename, query))"
   ]
  },
  {
   "cell_type": "markdown",
   "id": "d17bcd6d-7e0a-4f11-a542-3df0557db31f",
   "metadata": {},
   "source": [
    "### Excel结构探查"
   ]
  },
  {
   "cell_type": "markdown",
   "id": "6039b781-0a23-46bc-a46e-0217262f12a0",
   "metadata": {},
   "source": [
    "#### 探查Excel的sheet、列名和前N行数据"
   ]
  },
  {
   "cell_type": "code",
   "execution_count": 55,
   "id": "70f10ec2-bc56-4217-923e-e7cd0d65522b",
   "metadata": {},
   "outputs": [],
   "source": [
    "import pandas as pd"
   ]
  },
  {
   "cell_type": "code",
   "execution_count": 56,
   "id": "f90c26dc-91ea-47db-ae24-a3871d18153e",
   "metadata": {},
   "outputs": [],
   "source": [
    "def get_sheet_names(\n",
    "        filename : str\n",
    ") -> str :\n",
    "    \"\"\"获取 Excel 文件的工作表名称\"\"\"\n",
    "    excel_file = pd.ExcelFile(filename)\n",
    "    sheet_names = excel_file.sheet_names\n",
    "    return f\"这是 '{filename}' 文件的工作表名称：\\n\\n{sheet_names}\""
   ]
  },
  {
   "cell_type": "code",
   "execution_count": 57,
   "id": "cad69a6c-db9b-40e2-9a09-ad9b85353163",
   "metadata": {},
   "outputs": [],
   "source": [
    "def get_column_names(\n",
    "        filename : str\n",
    ") -> str:\n",
    "    \"\"\"获取 Excel 文件的列名\"\"\"\n",
    "\n",
    "    # 读取 Excel 文件的第一个工作表\n",
    "    df = pd.read_excel(filename, sheet_name=0)  # sheet_name=0 表示第一个工作表\n",
    "    column_names = '\\n'.join(\n",
    "        df.columns.to_list()\n",
    "    )\n",
    "\n",
    "    result = f\"这是 '{filename}' 文件第一个工作表的列名：\\n\\n{column_names}\"\n",
    "    return result"
   ]
  },
  {
   "cell_type": "code",
   "execution_count": 58,
   "id": "cf0d89ad-5ac1-432e-a79a-0217d4328ff6",
   "metadata": {},
   "outputs": [],
   "source": [
    "def get_first_n_rows(\n",
    "        filename : str,\n",
    "        n : int = 3\n",
    ") -> str :\n",
    "    \"\"\"获取 Excel 文件的前 n 行\"\"\"\n",
    "\n",
    "    result = get_sheet_names(filename)+\"\\n\\n\"\n",
    "    result += get_column_names(filename)+\"\\n\\n\"\n",
    "\n",
    "    # 读取 Excel 文件的第一个工作表\n",
    "    df = pd.read_excel(filename, sheet_name=0)  # sheet_name=0 表示第一个工作表\n",
    "    n_lines = '\\n'.join(\n",
    "        df.head(n).to_string(index=False, header=True).split('\\n')\n",
    "    )\n",
    "\n",
    "    result += f\"这是 '{filename}' 文件第一个工作表的前{n}行样例：\\n\\n{n_lines}\"\n",
    "    return result"
   ]
  },
  {
   "cell_type": "markdown",
   "id": "955dbf77-5cd7-4f9c-8432-07f5216d655d",
   "metadata": {},
   "source": [
    "#### 定义 tool 函数"
   ]
  },
  {
   "cell_type": "code",
   "execution_count": 59,
   "id": "6d051680-e167-4ea5-b6b6-aa74f0dfbca2",
   "metadata": {},
   "outputs": [],
   "source": [
    "# 输出工具\n",
    "excel_inspection_tool = StructuredTool.from_function(\n",
    "    func=get_first_n_rows,\n",
    "    name=\"InspectExcel\",\n",
    "    description=\"\"\"\n",
    "    探查表格文件的内容和结构，展示它的列名和前n行，n默认为3。\n",
    "    \n",
    "    使用该函数时应当准备提供filename和n两个参数，其中：\n",
    "    \n",
    "    - filename：要探查的Excel文件名\n",
    "    - n: 默认的行数\n",
    "    \n",
    "    \"\"\",\n",
    ")"
   ]
  },
  {
   "cell_type": "markdown",
   "id": "13f0933e-4169-4351-bf4b-58cfd2f2f809",
   "metadata": {},
   "source": [
    "#### 使用示例"
   ]
  },
  {
   "cell_type": "code",
   "execution_count": 60,
   "id": "dfdbf26d-2d3d-4201-ac68-d907b165f451",
   "metadata": {},
   "outputs": [
    {
     "name": "stdout",
     "output_type": "stream",
     "text": [
      "这是 './data/autogpt-demo/供应商名录.xlsx' 文件的工作表名称：\n",
      "\n",
      "['Sheet1']\n",
      "\n",
      "这是 './data/autogpt-demo/供应商名录.xlsx' 文件第一个工作表的列名：\n",
      "\n",
      "供应商\n",
      "联系人\n",
      "联系人邮箱\n",
      "内部对接人\n",
      "\n",
      "这是 './data/autogpt-demo/供应商名录.xlsx' 文件第一个工作表的前3行样例：\n",
      "\n",
      "       供应商 联系人                   联系人邮箱 内部对接人\n",
      "  北京科技有限公司  张伟 xiaoming123@example.com    李华\n",
      "  上海音响有限公司  李芳    lihua456@example.org    张伟\n",
      "深圳创新科技有限公司  陈瑶   wangli789@example.net    王芳\n"
     ]
    }
   ],
   "source": [
    "print(get_first_n_rows(\"./data/autogpt-demo/供应商名录.xlsx\"))"
   ]
  },
  {
   "cell_type": "markdown",
   "id": "d3883379-efe3-4978-8cd5-b7d660d90d43",
   "metadata": {},
   "source": [
    "### Excel数据分析"
   ]
  },
  {
   "cell_type": "markdown",
   "id": "0c37639f-486a-4e01-ac6f-e027cdc8ba25",
   "metadata": {},
   "source": [
    "#### 准备"
   ]
  },
  {
   "cell_type": "code",
   "execution_count": 61,
   "id": "55933c36-79b4-4563-9eb9-dfdaba6e344d",
   "metadata": {},
   "outputs": [],
   "source": [
    "import re\n",
    "from langchain.tools import StructuredTool\n",
    "from langchain_core.output_parsers import BaseOutputParser\n",
    "\n",
    "# from Utils.PythonExecUtil import execute_python_code\n",
    "from langchain_openai import ChatOpenAI\n",
    "from langchain_experimental.utilities import PythonREPL"
   ]
  },
  {
   "cell_type": "markdown",
   "id": "b0c7e8f1-59ac-472e-ad3a-a8624280e6dd",
   "metadata": {},
   "source": [
    "#### 自定义一个OutputParse"
   ]
  },
  {
   "cell_type": "code",
   "execution_count": 62,
   "id": "9ee9efcd-9389-4db2-bb91-8851f891c6e6",
   "metadata": {},
   "outputs": [],
   "source": [
    "class PythonCodeParser(BaseOutputParser):\n",
    "    \"\"\"从OpenAI返回的文本中提取Python代码。\"\"\"\n",
    "\n",
    "    def _remove_marked_lines(self, input_str: str) -> str:\n",
    "        lines = input_str.strip().split('\\n')\n",
    "        if lines and lines[0].strip().startswith('```'):\n",
    "            del lines[0]\n",
    "        if lines and lines[-1].strip().startswith('```'):\n",
    "            del lines[-1]\n",
    "\n",
    "        ans = '\\n'.join(lines)\n",
    "        return ans\n",
    "\n",
    "    def parse(self, text: str) -> str:\n",
    "        # 使用正则表达式找到所有的Python代码块\n",
    "        python_code_blocks = re.findall(r'```python\\n(.*?)\\n```', text, re.DOTALL)\n",
    "        # 从re返回结果提取出Python代码文本\n",
    "        python_code = None\n",
    "        if len(python_code_blocks) > 0:\n",
    "            python_code = python_code_blocks[0]\n",
    "            python_code = self._remove_marked_lines(python_code)\n",
    "        return python_code"
   ]
  },
  {
   "cell_type": "markdown",
   "id": "8b60954f-1438-488c-bdbc-99787ab8db65",
   "metadata": {},
   "source": [
    "#### 定义提示语模板"
   ]
  },
  {
   "cell_type": "code",
   "execution_count": 63,
   "id": "ba37b59c-1044-4e6d-a9b6-86c9ab864e7b",
   "metadata": {},
   "outputs": [],
   "source": [
    "from langchain.prompts import PromptTemplate\n",
    "\n",
    "excel_analyser_prompt = PromptTemplate.from_template(\"\"\"\n",
    "你的任务是先分析，再生成代码。\n",
    "\n",
    "请根据用户的输入，一步步分析：\n",
    "（1）用户的输入是否依赖某个条件，而这个条件没有明确赋值？\n",
    "（2）我是否需要对某个变量的值做假设？\n",
    "\n",
    "如果我需要对某个变量的值做假设，请直接输出：\n",
    "```python\n",
    "print(\"我需要知道____的值，才能生成代码。请完善你的查询。\") # 请将____替换为需要假设的的条件\n",
    "```\n",
    "\n",
    "否则，生成一段Python代码，分析指定文件的内容。\n",
    "\n",
    "你可以使用的库只包括：pandas, re, math, datetime, openpyxl\n",
    "确保你的代码只使用上述库，否则你的代码将无法运行。\n",
    "\n",
    "给定文件为：\n",
    "{filename}\n",
    "\n",
    "文件内容样例：\n",
    "{inspections}\n",
    "\n",
    "你输出的Python代码前后必须有markdown标识符，如下所示：\n",
    "```python\n",
    "# example code\n",
    "print('hello world')\n",
    "```\n",
    "\n",
    "确保你的代码是可以运行的，文件名直接写死在代码里即可。\n",
    "你生成代码中所有的常量都必须来自我给你的信息或来自文件本身。不要编造任何常量。\n",
    "如果常量缺失，你的代码将无法运行。你可以拒绝生成代码，但是不要生成编造的代码。\n",
    "确保你生成的代码最终以print的方式输出结果(回答用户的问题)。\n",
    "\n",
    "用户输入：\n",
    "{query}\n",
    "\"\"\")"
   ]
  },
  {
   "cell_type": "markdown",
   "id": "acd36e58-0288-46cc-9f04-90f4552d1840",
   "metadata": {},
   "source": [
    "#### 定义执行链"
   ]
  },
  {
   "cell_type": "code",
   "execution_count": 64,
   "id": "2c1f1689-b8ab-47d5-9e18-47181ff42c4f",
   "metadata": {},
   "outputs": [],
   "source": [
    "llm = ChatOpenAI(\n",
    "        model=\"gpt-4-1106-preview\",\n",
    "        temperature=0,\n",
    "        model_kwargs={\"seed\": 42},\n",
    "    )\n",
    "analysis_chain = excel_analyser_prompt | llm | PythonCodeParser()"
   ]
  },
  {
   "cell_type": "markdown",
   "id": "f5ba7a6a-520b-4fe0-bc1e-99fbfb7908a8",
   "metadata": {},
   "source": [
    "#### 生成 python 代码并执行"
   ]
  },
  {
   "cell_type": "code",
   "execution_count": 65,
   "id": "949170b0-2128-407c-807a-7b6246d2050a",
   "metadata": {},
   "outputs": [],
   "source": [
    "from langchain_experimental.utilities import PythonREPL\n",
    "def excel_analyse(query, filename):\n",
    "    \"\"\"分析一个结构化文件（例如excel文件）的内容。\"\"\"\n",
    "\n",
    "    # columns = get_column_names(filename)\n",
    "    inspections = get_first_n_rows(filename, 3)\n",
    "\n",
    "    code = \"\"\n",
    "\n",
    "    ## 打印详细信息\n",
    "    color_print(\"\\n#!/usr/bin/env python\", CODE_COLOR, end=\"\\n\")\n",
    "\n",
    "    for c in analysis_chain.stream({\n",
    "        \"query\": query,\n",
    "        \"filename\": filename,\n",
    "        \"inspections\": inspections\n",
    "    }):\n",
    "        ## 打印详细信息\n",
    "        color_print(c, CODE_COLOR, end=\"\")\n",
    "        ## 收集代码成果\n",
    "        code += c\n",
    "\n",
    "    if code:\n",
    "        ans = PythonREPL().run(code)\n",
    "        return ans\n",
    "    else:\n",
    "        return \"没有找到可执行的Python代码\""
   ]
  },
  {
   "cell_type": "markdown",
   "id": "1c85d963-517b-4849-8708-3966fc802a4e",
   "metadata": {},
   "source": [
    "#### 定义 tool 函数"
   ]
  },
  {
   "cell_type": "code",
   "execution_count": 66,
   "id": "7f87435a-d007-4ac7-adf1-a6a9133a98e5",
   "metadata": {},
   "outputs": [],
   "source": [
    "# 输出工具\n",
    "excel_analysis_tool = StructuredTool.from_function(\n",
    "    func=excel_analyse,\n",
    "    name=\"AnalyseExcel\",\n",
    "    description=\"\"\"\n",
    "        通过pandas数据处理脚本分析一个结构化文件（例如excel文件）的内容。\n",
    "        输人中必须包含文件的完整路径和具体分析方式和分析依据，阈值常量等。\n",
    "        如果输入信息不完整，你可以拒绝回答。\n",
    "    \"\"\",\n",
    ")"
   ]
  },
  {
   "cell_type": "markdown",
   "id": "acaaf50d-3988-47b3-b585-104118ae11e9",
   "metadata": {},
   "source": [
    "#### 使用示例"
   ]
  },
  {
   "cell_type": "code",
   "execution_count": 392,
   "id": "8836d262-0efb-48a2-88bf-0bba73b4929b",
   "metadata": {},
   "outputs": [
    {
     "name": "stdout",
     "output_type": "stream",
     "text": [
      "\u001b[34m\n",
      "#!/usr/bin/env python\u001b[0m\n",
      "\u001b[34mimport pandas as pd\n",
      "\n",
      "# 读取Excel文件\n",
      "df = pd.read_excel('./data/autogpt-demo/2023年8月-9月销售记录.xlsx')\n",
      "\n",
      "# 确保销售日期列是日期格式\n",
      "df['销售日期'] = pd.to_datetime(df['销售日期'])\n",
      "\n",
      "# 计算销售额\n",
      "df['销售额'] = df['单价(元)'] * df['销售量']\n",
      "\n",
      "# 设置月份过滤条件为8月\n",
      "start_date = pd.Timestamp(year=2023, month=8, day=1)\n",
      "end_date = pd.Timestamp(year=2023, month=8, day=31)\n",
      "\n",
      "# 过滤8月份的数据并计算总销售额\n",
      "sales_august = df[(df['销售日期'] >= start_date) & (df['销售日期'] <= end_date)]['销售额'].sum()\n",
      "\n",
      "# 打印8月份的总销售额\n",
      "print(f\"8月销售额为: {sales_august}元\")\u001b[0m"
     ]
    },
    {
     "data": {
      "text/plain": [
       "'8月销售额为: 2605636元\\n'"
      ]
     },
     "execution_count": 392,
     "metadata": {},
     "output_type": "execute_result"
    }
   ],
   "source": [
    "excel_analyse(query=\"8月销售额\", filename=\"./data/autogpt-demo/2023年8月-9月销售记录.xlsx\")"
   ]
  },
  {
   "cell_type": "markdown",
   "id": "4f7a7b44-42f2-4b6d-9ea3-698d76ed4769",
   "metadata": {},
   "source": [
    "### 生成文档"
   ]
  },
  {
   "cell_type": "markdown",
   "id": "86c6503c-37ab-4977-88b5-a13544b58e7a",
   "metadata": {},
   "source": [
    "#### 准备"
   ]
  },
  {
   "cell_type": "code",
   "execution_count": 67,
   "id": "4801ca06-54e9-4911-8d5d-f29826628364",
   "metadata": {},
   "outputs": [],
   "source": [
    "from langchain.prompts import ChatPromptTemplate\n",
    "from langchain.prompts.chat import SystemMessagePromptTemplate, HumanMessagePromptTemplate\n",
    "from langchain_core.output_parsers import StrOutputParser\n",
    "from langchain_core.runnables import RunnablePassthrough\n",
    "from langchain_openai import ChatOpenAI"
   ]
  },
  {
   "cell_type": "markdown",
   "id": "eeeb59c2-ff96-4eb3-9bb3-5b76c52b1713",
   "metadata": {},
   "source": [
    "#### 使用 LLM 生成文档"
   ]
  },
  {
   "cell_type": "code",
   "execution_count": 68,
   "id": "6681a466-14fc-41e3-aff9-96571709e74f",
   "metadata": {},
   "outputs": [],
   "source": [
    "def write(query: str):\n",
    "    \"\"\"按用户要求生成文章\"\"\"\n",
    "    template = ChatPromptTemplate.from_messages(\n",
    "        [\n",
    "            SystemMessagePromptTemplate.from_template(\"你是专业的文档写手。你根据客户的要求，写一份文档。输出中文。\"),\n",
    "            HumanMessagePromptTemplate.from_template(\"{query}\"),\n",
    "        ]\n",
    "    )\n",
    "\n",
    "    chain = {\"query\": RunnablePassthrough()} | template | ChatOpenAI() | StrOutputParser()\n",
    "\n",
    "    return chain.invoke(query)"
   ]
  },
  {
   "cell_type": "markdown",
   "id": "b41863a9-3930-49df-a9cc-e73ccb40250e",
   "metadata": {},
   "source": [
    "#### 定义 tool 函数"
   ]
  },
  {
   "cell_type": "code",
   "execution_count": 69,
   "id": "1372c095-e3ad-46c6-976e-4c25e2f7a1ef",
   "metadata": {},
   "outputs": [],
   "source": [
    "# 输出工具\n",
    "document_generation_tool = StructuredTool.from_function(\n",
    "    func=write,\n",
    "    name=\"GenerateDocument\",\n",
    "    description=\"根据需求描述生成一篇正式文档\",\n",
    ")"
   ]
  },
  {
   "cell_type": "markdown",
   "id": "c609baee-6b4f-4691-ad37-262482d6e768",
   "metadata": {},
   "source": [
    "#### 使用示例"
   ]
  },
  {
   "cell_type": "code",
   "execution_count": 27,
   "id": "df300786-6741-4707-9e57-eeb457075756",
   "metadata": {},
   "outputs": [
    {
     "name": "stdout",
     "output_type": "stream",
     "text": [
      "亲爱的张三，\n",
      "\n",
      "我是李四。希望你一切都好。我写这封邮件是想和你打个招呼，同时也想了解一下你最近的状况。\n",
      "\n",
      "祝好，\n",
      "\n",
      "李四\n"
     ]
    }
   ],
   "source": [
    "# 示例\n",
    "print(write(\"写一封邮件给张三，内容是：你好，我是李四。\"))"
   ]
  },
  {
   "cell_type": "markdown",
   "id": "893128fb-298a-49eb-bc3f-b5bfe6a19bc1",
   "metadata": {},
   "source": [
    "### 发送Email"
   ]
  },
  {
   "cell_type": "markdown",
   "id": "059fe2b4-14c3-405b-abe7-3d96f0cf42a1",
   "metadata": {},
   "source": [
    "#### 准备"
   ]
  },
  {
   "cell_type": "code",
   "execution_count": 70,
   "id": "ee95d8f9-8518-4876-a7da-e766d3c41ba4",
   "metadata": {},
   "outputs": [],
   "source": [
    "import webbrowser\n",
    "import urllib.parse\n",
    "import re"
   ]
  },
  {
   "cell_type": "markdown",
   "id": "313c3493-72e1-436e-8de7-80747fdefbf4",
   "metadata": {},
   "source": [
    "#### 检查email格式是否合法"
   ]
  },
  {
   "cell_type": "code",
   "execution_count": 71,
   "id": "f7a985e8-43da-4f0d-8f9e-81e9997e7a75",
   "metadata": {},
   "outputs": [],
   "source": [
    "def _is_valid_email(email: str) -> bool:\n",
    "    receivers = email.split(';')\n",
    "    # 正则表达式匹配电子邮件\n",
    "    pattern = r'^[a-zA-Z0-9_.+-]+@[a-zA-Z0-9-]+\\.[a-zA-Z0-9-.]+$'\n",
    "    for receiver in receivers:\n",
    "        if not bool(re.match(pattern, receiver.strip())):\n",
    "            return False\n",
    "    return True"
   ]
  },
  {
   "cell_type": "markdown",
   "id": "a0fed669-5e9e-4568-9658-9865637078fb",
   "metadata": {},
   "source": [
    "#### 触发系统调用发送邮件"
   ]
  },
  {
   "cell_type": "code",
   "execution_count": 72,
   "id": "0e4cbf29-931a-4135-a5f3-7f911d068af2",
   "metadata": {},
   "outputs": [],
   "source": [
    "def send_email(\n",
    "        to: str,\n",
    "        subject: str,\n",
    "        body: str,\n",
    "        cc: str = None,\n",
    "        bcc: str = None,\n",
    ") -> str:\n",
    "    \"\"\"给指定的邮箱发送邮件\"\"\"\n",
    "\n",
    "    if not _is_valid_email(to):\n",
    "        return f\"电子邮件地址 {to} 不合法\"\n",
    "\n",
    "    # 对邮件的主题和正文进行URL编码\n",
    "    subject_code = urllib.parse.quote(subject)\n",
    "    body_code = urllib.parse.quote(body)\n",
    "\n",
    "    # 构造mailto链接\n",
    "    mailto_url = f'mailto:{to}?subject={subject_code}&body={body_code}'\n",
    "    if cc is not None:\n",
    "        cc = urllib.parse.quote(cc)\n",
    "        mailto_url += f'&cc={cc}'\n",
    "    if bcc is not None:\n",
    "        bcc = urllib.parse.quote(bcc)\n",
    "        mailto_url += f'&bcc={bcc}'\n",
    "\n",
    "    webbrowser.open(mailto_url)\n",
    "\n",
    "    return f\"状态: 成功\\n备注: 已发送邮件给 {to}, 标题: {subject}\""
   ]
  },
  {
   "cell_type": "markdown",
   "id": "bee39dbf-ba97-4bf9-89d3-e49922f63c4b",
   "metadata": {},
   "source": [
    "#### 定义 tool 函数"
   ]
  },
  {
   "cell_type": "code",
   "execution_count": 73,
   "id": "99933e0e-99d9-4c6a-98ab-b8e8492b679b",
   "metadata": {},
   "outputs": [],
   "source": [
    "# 发送邮件\n",
    "email_tool = StructuredTool.from_function(\n",
    "    func=send_email,\n",
    "    name=\"SendEmail\",\n",
    "    description=\"给指定的邮箱发送邮件。确保邮箱地址是xxx@xxx.xxx的格式。多个邮箱地址以';'分割。\",\n",
    ")"
   ]
  },
  {
   "cell_type": "markdown",
   "id": "ec61c967-8615-4d4a-8061-ddce3d3d0c01",
   "metadata": {},
   "source": [
    "#### 使用示例"
   ]
  },
  {
   "cell_type": "code",
   "execution_count": 370,
   "id": "47d0476a-5672-4fdf-8fdb-f60cd7c5fd67",
   "metadata": {},
   "outputs": [
    {
     "data": {
      "text/plain": [
       "'状态: 成功\\n备注: 已发送邮件给 43801@qq.com, 标题: hello'"
      ]
     },
     "execution_count": 370,
     "metadata": {},
     "output_type": "execute_result"
    }
   ],
   "source": [
    "send_email(\"43801@qq.com\", \"hello\", \"happy new year!\")"
   ]
  },
  {
   "cell_type": "markdown",
   "id": "d9ff19e4-c93a-4faf-ab7c-444342863e57",
   "metadata": {},
   "source": [
    "### FINISH"
   ]
  },
  {
   "cell_type": "code",
   "execution_count": 74,
   "id": "c1821516-3be1-4956-812c-22f1419c28d3",
   "metadata": {},
   "outputs": [],
   "source": [
    "finish_placeholder = StructuredTool.from_function(\n",
    "    func=lambda: None,\n",
    "    name=\"FINISH\",\n",
    "    description=\"用于表示任务完成的占位符工具\"\n",
    ")"
   ]
  },
  {
   "cell_type": "markdown",
   "id": "acfdfb52-2ec7-42f6-9fc7-f1ecf6c292eb",
   "metadata": {},
   "source": [
    "## toolkit 定义"
   ]
  },
  {
   "cell_type": "code",
   "execution_count": 75,
   "id": "a519a0c4-7059-4c3e-a0b0-2db012b1ce95",
   "metadata": {},
   "outputs": [],
   "source": [
    "# 自定义工具集\n",
    "tools = [\n",
    "    directory_inspection_tool,\n",
    "    document_qa_tool,\n",
    "    document_generation_tool,\n",
    "    email_tool,\n",
    "    excel_inspection_tool,\n",
    "    excel_analysis_tool,\n",
    "    finish_placeholder,\n",
    "]"
   ]
  },
  {
   "cell_type": "code",
   "execution_count": 76,
   "id": "407ddb14-946e-4118-83ca-20992ade11ce",
   "metadata": {},
   "outputs": [
    {
     "name": "stdout",
     "output_type": "stream",
     "text": [
      "ListDirectory: ListDirectory(path: str) -> str - 探查文件夹的内容和结构，展示它的文件名和文件夹名\n",
      "AskDocument: AskDocument(filename: str, query: str) -> str - 根据一个Word或PDF文档的内容，回答一个问题。考虑上下文信息，确保问题对相关概念的定义表述完整。\n",
      "GenerateDocument: GenerateDocument(query: str) - 根据需求描述生成一篇正式文档\n",
      "SendEmail: SendEmail(to: str, subject: str, body: str, cc: str = None, bcc: str = None) -> str - 给指定的邮箱发送邮件。确保邮箱地址是xxx@xxx.xxx的格式。多个邮箱地址以';'分割。\n",
      "InspectExcel: InspectExcel(filename: str, n: int = 3) -> str - 探查表格文件的内容和结构，展示它的列名和前n行，n默认为3。\n",
      "    \n",
      "    使用该函数时应当准备提供filename和n两个参数，其中：\n",
      "    \n",
      "    - filename：要探查的Excel文件名\n",
      "    - n: 默认的行数\n",
      "AnalyseExcel: AnalyseExcel(query, filename) - 通过pandas数据处理脚本分析一个结构化文件（例如excel文件）的内容。\n",
      "        输人中必须包含文件的完整路径和具体分析方式和分析依据，阈值常量等。\n",
      "        如果输入信息不完整，你可以拒绝回答。\n",
      "FINISH: FINISH() - 用于表示任务完成的占位符工具\n"
     ]
    }
   ],
   "source": [
    "from langchain.tools.render import render_text_description\n",
    "\n",
    "print(render_text_description(tools))"
   ]
  },
  {
   "cell_type": "markdown",
   "id": "ecebf4cc-e3a1-4d60-ba42-93face658f84",
   "metadata": {},
   "source": [
    "## 智能体核心Prompt定义"
   ]
  },
  {
   "cell_type": "markdown",
   "id": "a3a72215-3ac5-4430-99a1-854b985733cf",
   "metadata": {},
   "source": [
    "### main_prompt"
   ]
  },
  {
   "cell_type": "markdown",
   "id": "bfa9e093-747a-49bf-b858-c190a4d7421a",
   "metadata": {},
   "source": [
    "主流程prompt较为复杂，可以结合局部模板或pipeline分层构建，以方便维护。<br>\n",
    "下面是分布构建的过程，最后合并为最终Prompt。"
   ]
  },
  {
   "cell_type": "markdown",
   "id": "3ec117c3-0f9a-4b51-bcd0-25df4a2ec658",
   "metadata": {},
   "source": [
    "#### 约束条件"
   ]
  },
  {
   "cell_type": "code",
   "execution_count": 77,
   "id": "6fac23c7-f92b-4f8b-8c03-4943a0a28e03",
   "metadata": {},
   "outputs": [],
   "source": [
    "constraints = \"\"\"\n",
    "1. 每次你的决策只使用一种工具，你可以使用任意多次。\n",
    "2. 确保你调用的指令或使用的工具在下述给定的工具列表中。\n",
    "3. 确保你的回答不会包含违法或有侵犯性的信息。\n",
    "4. 如果你已经完成所有任务，确保以\"FINISH\"指令结束。\n",
    "5. 用中文思考和输出。\n",
    "6. 如果执行某个指令或工具失败，尝试改变参数或参数格式再次调用。\n",
    "7. 你生成的回复必须遵循上文中给定的事实信息。不可以编造信息。DO NOT MAKE UP INFORMATION.\n",
    "8. 如果得到的结果不正确，尝试更换表达方式。\n",
    "9. 已经得到的信息，不要反复查询。\n",
    "10. 确保你生成的动作是可以精确执行的。动作做中可以包括具体方法和目标输出。\n",
    "11. 看到一个概念时尝试获取它的准确定义，并分析从哪些输入可以得到它的具体取值。\n",
    "12. 生成一个自然语言查询时，请在查询中包含全部的已知信息。\n",
    "13. 在执行分析或计算动作前，确保该分析或计算中涉及的所有子概念都已经得到了定义。\n",
    "14. 你不可以打印一个文件的全部内容，这样的操作代价太大，且会造成不可预期的后果，是被严格禁止的。\n",
    "15. 不要向用户提问。\n",
    "\"\"\""
   ]
  },
  {
   "cell_type": "markdown",
   "id": "6c5fc759-66c1-4ba2-bffa-b4f53de306a2",
   "metadata": {},
   "source": [
    "#### 任务描述"
   ]
  },
  {
   "cell_type": "markdown",
   "id": "7fbeadfb-9255-4613-9c3a-04bbe8bc7497",
   "metadata": {},
   "source": [
    "`task_description`应当是智能体每次收到的任务目标，在调用智能体循环思考和行动前动态填入。"
   ]
  },
  {
   "cell_type": "markdown",
   "id": "b51afc03-d2c4-4193-8004-d7135653e43b",
   "metadata": {},
   "source": [
    "#### 工作目录"
   ]
  },
  {
   "cell_type": "markdown",
   "id": "6782d9b0-9887-4608-b63e-162eed95c1db",
   "metadata": {},
   "source": [
    "`work_dir`是智能体的工作文件夹，所有数据、文件都会放入这个位置。"
   ]
  },
  {
   "cell_type": "code",
   "execution_count": 78,
   "id": "5e0caaf1-e99a-46ff-bdab-9481e10fb116",
   "metadata": {},
   "outputs": [],
   "source": [
    "work_dir = \"./data/autogpt-demo\""
   ]
  },
  {
   "cell_type": "markdown",
   "id": "cfa815dd-7c6a-46f6-9244-57de46de0e3e",
   "metadata": {},
   "source": [
    "#### 工具清单"
   ]
  },
  {
   "cell_type": "markdown",
   "id": "a91c94bb-8690-4dcb-90d6-6b1b307aaeee",
   "metadata": {},
   "source": [
    "`tools`是为智能体定义的Tool列表，应当由代码自动生成并作为变量动态填入。"
   ]
  },
  {
   "cell_type": "markdown",
   "id": "acf9f683-ae9c-476a-9a13-6f4518e7aea1",
   "metadata": {},
   "source": [
    "#### 限定资源"
   ]
  },
  {
   "cell_type": "code",
   "execution_count": 79,
   "id": "4de61ea9-c770-4b0f-bc09-10636ee0c7de",
   "metadata": {},
   "outputs": [],
   "source": [
    "resources = \"\"\"\n",
    "1. 你可以查阅本地文件列表。\n",
    "2. 你可以读取本地文件。\n",
    "3. 你可以通过代码操作本地文件。\n",
    "4. 你有非常优秀的逻辑分析能力，可以通过因果关系找到最优的解决方案。\n",
    "\"\"\""
   ]
  },
  {
   "cell_type": "markdown",
   "id": "84ff8ce8-b8e7-42b4-afde-1bc2df1a01a0",
   "metadata": {},
   "source": [
    "#### 表现评估"
   ]
  },
  {
   "cell_type": "code",
   "execution_count": 80,
   "id": "b8a8a14d-00fb-4585-8062-782401012acd",
   "metadata": {},
   "outputs": [],
   "source": [
    "performance_evaluation = \"\"\"\n",
    "1. 尽你最大的努力，用你最好的水平，通过分析和检查，做出最好的决定。\n",
    "2. 带着全局观，自我反思你计划与动作。\n",
    "3. 考虑你之前的策略与决策来改善的你的计划。\n",
    "4. 如果你反复得到相同的结果，修改你的计划和决策，避免死循环。\n",
    "5. 如果你当前的动作无法获取到需要的信息，尝试展开关键概念的定义，再重新推理。\n",
    "\"\"\""
   ]
  },
  {
   "cell_type": "markdown",
   "id": "2ccbee11-8e49-498e-b69a-32097c79d878",
   "metadata": {},
   "source": [
    "#### 长时记忆"
   ]
  },
  {
   "cell_type": "markdown",
   "id": "81137a7c-234f-412a-b87a-c5024aa05506",
   "metadata": {},
   "source": [
    "`long_term_memory`是智能体完成了一次任务之后的最终输出，应当由代码自动生成并作为变量动态填入。"
   ]
  },
  {
   "cell_type": "markdown",
   "id": "1186e4d9-1a88-4215-9523-165289df7be7",
   "metadata": {},
   "source": [
    "#### 短时记忆"
   ]
  },
  {
   "cell_type": "markdown",
   "id": "35c35e16-5527-4996-aa03-5716633b3bd2",
   "metadata": {},
   "source": [
    "`short_term_memory`是智能体在经过一次思考和行动后产生的输出，应当由代码自动生成并作为变量动态填入。"
   ]
  },
  {
   "cell_type": "markdown",
   "id": "e609e968-da3a-4dcb-bb8f-c4bff2884ebf",
   "metadata": {},
   "source": [
    "#### 思考过程"
   ]
  },
  {
   "cell_type": "code",
   "execution_count": 81,
   "id": "a034c25d-ea5c-48db-a7a9-7bbe2707954a",
   "metadata": {},
   "outputs": [],
   "source": [
    "thought_instructions = \"\"\"\n",
    "关键概念: 任务中涉及的组合型概念或实体。已经明确获得取值的关键概念，将其取值完整备注在概念后。\n",
    "概念拆解: 将任务中的关键概念拆解为一系列待查询的子要素。每个关键概念一行，后接这个概念的子要素，每个子要素一行，行前以' -'开始。\n",
    "反思:\n",
    "    自我反思，观察以前的执行记录，思考概念拆解是否完整、准确。\n",
    "    一步步思考是否每一个的关键概念或要素的查询都得到了准确的结果。\n",
    "    反思你已经得到哪个要素/概念。你得到的要素/概念取值是否正确。从当前的信息中还不能得到哪些要素/概念。\n",
    "    每个反思一行，行前以' -'开始。\n",
    "思考: 观察执行记录和你的自我反思，并一步步思考\n",
    "  （1）分析要素间的依赖关系，例如：\n",
    "    i. 我是否需要先获得A的值/定义，才能通过A来获得B？\n",
    "    ii. 如果我先获得A，是否可以通过A筛选B，减少穷举每个B的代价？\n",
    "    iii. A和B是否存在在同一数据源中，我能否在获取A的同时获取B？\n",
    "    iv. 是否还有更高效或更聪明的办法来查询一个概念或要素？\n",
    "    v. 如果上一次尝试查询一个概念或要素时失败了，我是否可以尝试从另一个资源中再次查询？\n",
    "    vi. 诸如此类，你可以扩展更多的思考 ...\n",
    "  （2）根据以上分析，排列子要素间的查询优先级\n",
    "  （3）找出当前需要获得取值的子要素\n",
    "  注意，不要对要素的取值/定义做任何假设，确保你的信息来自给定的数据源！\n",
    "推理: 根据你的反思与思考，一步步推理被选择的子要素取值的获取方式。如果前一次的计划失败了，请检查输入中是否包含每个概念/要素的明确定义，并尝试细化你的查询描述。\n",
    "计划: 严格遵守以下规则，计划你的当前动作。\n",
    "  （1）详细列出当前动作的执行计划。只计划一步的动作。PLAN ONE STEP ONLY!\n",
    "  （2）一步步分析，包括数据源，对数据源的操作方式，对数据的分析方法。有哪些已知常量可以直接代入此次分析。\n",
    "  （3）不要尝试计算文件的每一个元素，这种计算代价太高，是严格禁止的。你可以通过分析找到更有效的方法，比如条件筛选。\n",
    "  （4）上述分析是否依赖某个要素的取值/定义，且该要素的取值/定义尚未获得。若果是，重新规划当前动作，确保所有依赖的要素的取值/定义都已经获得。\n",
    "  （5）不要对要素的取值/定义做任何假设，确保你的信息来自给定的数据源。不要编造信息。DO NOT MAKE UP ANY INFORMATION!!!\n",
    "  （6）确保你执行的动作涉及的所有要素都已获得确切的取值/定义。\n",
    "  （7）如果全部子任务已完成，请用FINISH动作结束任务。\n",
    "\"\"\""
   ]
  },
  {
   "cell_type": "markdown",
   "id": "eeac4088-fc43-4687-8fb9-f16f6471b2f4",
   "metadata": {},
   "source": [
    "#### 行动选择"
   ]
  },
  {
   "cell_type": "markdown",
   "id": "8d8ed91f-f8c5-4d57-9715-788f0c9c7aa3",
   "metadata": {},
   "source": [
    "`format_instructions`对LLM提出要求：按照已经定义的 Action 格式要求生成。"
   ]
  },
  {
   "cell_type": "markdown",
   "id": "1274da1b-62fb-4508-8e59-323b1e792c21",
   "metadata": {},
   "source": [
    "#### 主模板结构"
   ]
  },
  {
   "cell_type": "code",
   "execution_count": 82,
   "id": "fd89cbb4-62e9-405f-8c08-9bc83a59a399",
   "metadata": {},
   "outputs": [],
   "source": [
    "from langchain.prompts import PromptTemplate\n",
    "prompt = PromptTemplate.from_template(\"\"\"\n",
    "你是强大的AI助手，可以使用工具与指令自动化解决问题。\n",
    "\n",
    "## 你必须遵循以下约束来完成任务:\n",
    "{constraints}\n",
    "\n",
    "## 你的任务是:\n",
    "{task_description}\n",
    "如果此任务显示“无”、“没有了”、“已完成”或类似表达，你直接输出下述工具中的FINISH即可。\n",
    "\n",
    "## 你需要的所有文件资料都在以下目录:\n",
    "dir_path={work_dir}\n",
    "\n",
    "## 你可以使用以下工具或指令，它们又称为动作或actions:\n",
    "{tools}\n",
    "\n",
    "## 你可以使用的资源包括:\n",
    "{resources}\n",
    "\n",
    "## 你需要评估你的表现:\n",
    "{performance_evaluation}\n",
    "\n",
    "## 相关的历史记录:\n",
    "{long_term_memory}\n",
    "\n",
    "## 当前的任务执行记录:\n",
    "{short_term_memory}\n",
    "\n",
    "## 输出形式：\n",
    "###（1）首先，根据以下格式说明，输出你的思考过程:\n",
    "{thought_instructions}\n",
    "\n",
    "###（2）然后，根据以下格式说明，输出你选择执行的动作/工具:\n",
    "{format_instructions}\n",
    "\"\"\")"
   ]
  },
  {
   "cell_type": "code",
   "execution_count": 83,
   "id": "0868766c-1046-4717-9474-c003dec84f4b",
   "metadata": {},
   "outputs": [
    {
     "name": "stdout",
     "output_type": "stream",
     "text": [
      "input_variables=['constraints', 'format_instructions', 'long_term_memory', 'performance_evaluation', 'resources', 'short_term_memory', 'task_description', 'thought_instructions', 'tools', 'work_dir'] template='\\n你是强大的AI助手，可以使用工具与指令自动化解决问题。\\n\\n## 你必须遵循以下约束来完成任务:\\n{constraints}\\n\\n## 你的任务是:\\n{task_description}\\n如果此任务显示“无”、“没有了”、“已完成”或类似表达，你直接输出下述工具中的FINISH即可。\\n\\n## 你需要的所有文件资料都在以下目录:\\ndir_path={work_dir}\\n\\n## 你可以使用以下工具或指令，它们又称为动作或actions:\\n{tools}\\n\\n## 你可以使用的资源包括:\\n{resources}\\n\\n## 你需要评估你的表现:\\n{performance_evaluation}\\n\\n## 相关的历史记录:\\n{long_term_memory}\\n\\n## 当前的任务执行记录:\\n{short_term_memory}\\n\\n## 输出形式：\\n###（1）首先，根据以下格式说明，输出你的思考过程:\\n{thought_instructions}\\n\\n###（2）然后，根据以下格式说明，输出你选择执行的动作/工具:\\n{format_instructions}\\n'\n"
     ]
    }
   ],
   "source": [
    "print(prompt)"
   ]
  },
  {
   "cell_type": "markdown",
   "id": "e3c856ec-69bd-44b7-9365-421eb38b64e2",
   "metadata": {},
   "source": [
    "#### 构造主模板"
   ]
  },
  {
   "cell_type": "code",
   "execution_count": 84,
   "id": "2bae946d-459b-4c29-b943-781efe8c9165",
   "metadata": {
    "scrolled": true
   },
   "outputs": [
    {
     "name": "stdout",
     "output_type": "stream",
     "text": [
      "['format_instructions', 'long_term_memory', 'short_term_memory', 'tools']\n",
      "\n",
      "1. 每次你的决策只使用一种工具，你可以使用任意多次。\n",
      "2. 确保你调用的指令或使用的工具在下述给定的工具列表中。\n",
      "3. 确保你的回答不会包含违法或有侵犯性的信息。\n",
      "4. 如果你已经完成所有任务，确保以\"FINISH\"指令结束。\n",
      "5. 用中文思考和输出。\n",
      "6. 如果执行某个指令或工具失败，尝试改变参数或参数格式再次调用。\n",
      "7. 你生成的回复必须遵循上文中给定的事实信息。不可以编造信息。DO NOT MAKE UP INFORMATION.\n",
      "8. 如果得到的结果不正确，尝试更换表达方式。\n",
      "9. 已经得到的信息，不要反复查询。\n",
      "10. 确保你生成的动作是可以精确执行的。动作做中可以包括具体方法和目标输出。\n",
      "11. 看到一个概念时尝试获取它的准确定义，并分析从哪些输入可以得到它的具体取值。\n",
      "12. 生成一个自然语言查询时，请在查询中包含全部的已知信息。\n",
      "13. 在执行分析或计算动作前，确保该分析或计算中涉及的所有子概念都已经得到了定义。\n",
      "14. 你不可以打印一个文件的全部内容，这样的操作代价太大，且会造成不可预期的后果，是被严格禁止的。\n",
      "15. 不要向用户提问。\n",
      "\n",
      "\n",
      "你是强大的AI助手，可以使用工具与指令自动化解决问题。\n",
      "\n",
      "## 你必须遵循以下约束来完成任务:\n",
      "{constraints}\n",
      "\n",
      "## 你的任务是:\n",
      "{task_description}\n",
      "如果此任务显示“无”、“没有了”、“已完成”或类似表达，你直接输出下述工具中的FINISH即可。\n",
      "\n",
      "## 你需要的所有文件资料都在以下目录:\n",
      "dir_path={work_dir}\n",
      "\n",
      "## 你可以使用以下工具或指令，它们又称为动作或actions:\n",
      "{tools}\n",
      "\n",
      "## 你可以使用的资源包括:\n",
      "{resources}\n",
      "\n",
      "## 你需要评估你的表现:\n",
      "{performance_evaluation}\n",
      "\n",
      "## 相关的历史记录:\n",
      "{long_term_memory}\n",
      "\n",
      "## 当前的任务执行记录:\n",
      "{short_term_memory}\n",
      "\n",
      "## 输出形式：\n",
      "###（1）首先，根据以下格式说明，输出你的思考过程:\n",
      "{thought_instructions}\n",
      "\n",
      "###（2）然后，根据以下格式说明，输出你选择执行的动作/工具:\n",
      "{format_instructions}\n",
      "\n"
     ]
    }
   ],
   "source": [
    "main_prompt = prompt.partial(\n",
    "    task_description=\"请帮我做一首诗\",\n",
    "    constraints=constraints,\n",
    "    work_dir=work_dir,\n",
    "    resources=resources,\n",
    "    performance_evaluation=performance_evaluation,\n",
    "    thought_instructions=thought_instructions,\n",
    ")\n",
    "print(main_prompt.input_variables)\n",
    "print(main_prompt.partial_variables['constraints'])\n",
    "print(main_prompt.template)"
   ]
  },
  {
   "cell_type": "markdown",
   "id": "25bb367a-793b-49b2-8d45-42a95b1e426b",
   "metadata": {},
   "source": [
    "#### 使用示例"
   ]
  },
  {
   "cell_type": "code",
   "execution_count": 85,
   "id": "a13d9d93-822f-4e51-be66-613b0a2a75a0",
   "metadata": {
    "scrolled": true
   },
   "outputs": [
    {
     "name": "stdout",
     "output_type": "stream",
     "text": [
      "\n",
      "你是强大的AI助手，可以使用工具与指令自动化解决问题。\n",
      "\n",
      "## 你必须遵循以下约束来完成任务:\n",
      "\n",
      "1. 每次你的决策只使用一种工具，你可以使用任意多次。\n",
      "2. 确保你调用的指令或使用的工具在下述给定的工具列表中。\n",
      "3. 确保你的回答不会包含违法或有侵犯性的信息。\n",
      "4. 如果你已经完成所有任务，确保以\"FINISH\"指令结束。\n",
      "5. 用中文思考和输出。\n",
      "6. 如果执行某个指令或工具失败，尝试改变参数或参数格式再次调用。\n",
      "7. 你生成的回复必须遵循上文中给定的事实信息。不可以编造信息。DO NOT MAKE UP INFORMATION.\n",
      "8. 如果得到的结果不正确，尝试更换表达方式。\n",
      "9. 已经得到的信息，不要反复查询。\n",
      "10. 确保你生成的动作是可以精确执行的。动作做中可以包括具体方法和目标输出。\n",
      "11. 看到一个概念时尝试获取它的准确定义，并分析从哪些输入可以得到它的具体取值。\n",
      "12. 生成一个自然语言查询时，请在查询中包含全部的已知信息。\n",
      "13. 在执行分析或计算动作前，确保该分析或计算中涉及的所有子概念都已经得到了定义。\n",
      "14. 你不可以打印一个文件的全部内容，这样的操作代价太大，且会造成不可预期的后果，是被严格禁止的。\n",
      "15. 不要向用户提问。\n",
      "\n",
      "\n",
      "## 你的任务是:\n",
      "请帮我找出业绩最佳的合作单位\n",
      "如果此任务显示“无”、“没有了”、“已完成”或类似表达，你直接输出下述工具中的FINISH即可。\n",
      "\n",
      "## 你需要的所有文件资料都在以下目录:\n",
      "dir_path=./data/autogpt-demo\n",
      "\n",
      "## 你可以使用以下工具或指令，它们又称为动作或actions:\n",
      "\n",
      "\n",
      "## 你可以使用的资源包括:\n",
      "\n",
      "1. 你可以查阅本地文件列表。\n",
      "2. 你可以读取本地文件。\n",
      "3. 你可以通过代码操作本地文件。\n",
      "4. 你有非常优秀的逻辑分析能力，可以通过因果关系找到最优的解决方案。\n",
      "\n",
      "\n",
      "## 你需要评估你的表现:\n",
      "\n",
      "1. 尽你最大的努力，用你最好的水平，通过分析和检查，做出最好的决定。\n",
      "2. 带着全局观，自我反思你计划与动作。\n",
      "3. 考虑你之前的策略与决策来改善的你的计划。\n",
      "4. 如果你反复得到相同的结果，修改你的计划和决策，避免死循环。\n",
      "5. 如果你当前的动作无法获取到需要的信息，尝试展开关键概念的定义，再重新推理。\n",
      "\n",
      "\n",
      "## 相关的历史记录:\n",
      "\n",
      "\n",
      "## 当前的任务执行记录:\n",
      "\n",
      "\n",
      "## 输出形式：\n",
      "###（1）首先，根据以下格式说明，输出你的思考过程:\n",
      "\n",
      "关键概念: 任务中涉及的组合型概念或实体。已经明确获得取值的关键概念，将其取值完整备注在概念后。\n",
      "概念拆解: 将任务中的关键概念拆解为一系列待查询的子要素。每个关键概念一行，后接这个概念的子要素，每个子要素一行，行前以' -'开始。\n",
      "反思:\n",
      "    自我反思，观察以前的执行记录，思考概念拆解是否完整、准确。\n",
      "    一步步思考是否每一个的关键概念或要素的查询都得到了准确的结果。\n",
      "    反思你已经得到哪个要素/概念。你得到的要素/概念取值是否正确。从当前的信息中还不能得到哪些要素/概念。\n",
      "    每个反思一行，行前以' -'开始。\n",
      "思考: 观察执行记录和你的自我反思，并一步步思考\n",
      "  （1）分析要素间的依赖关系，例如：\n",
      "    i. 我是否需要先获得A的值/定义，才能通过A来获得B？\n",
      "    ii. 如果我先获得A，是否可以通过A筛选B，减少穷举每个B的代价？\n",
      "    iii. A和B是否存在在同一数据源中，我能否在获取A的同时获取B？\n",
      "    iv. 是否还有更高效或更聪明的办法来查询一个概念或要素？\n",
      "    v. 如果上一次尝试查询一个概念或要素时失败了，我是否可以尝试从另一个资源中再次查询？\n",
      "    vi. 诸如此类，你可以扩展更多的思考 ...\n",
      "  （2）根据以上分析，排列子要素间的查询优先级\n",
      "  （3）找出当前需要获得取值的子要素\n",
      "  注意，不要对要素的取值/定义做任何假设，确保你的信息来自给定的数据源！\n",
      "推理: 根据你的反思与思考，一步步推理被选择的子要素取值的获取方式。如果前一次的计划失败了，请检查输入中是否包含每个概念/要素的明确定义，并尝试细化你的查询描述。\n",
      "计划: 严格遵守以下规则，计划你的当前动作。\n",
      "  （1）详细列出当前动作的执行计划。只计划一步的动作。PLAN ONE STEP ONLY!\n",
      "  （2）一步步分析，包括数据源，对数据源的操作方式，对数据的分析方法。有哪些已知常量可以直接代入此次分析。\n",
      "  （3）不要尝试计算文件的每一个元素，这种计算代价太高，是严格禁止的。你可以通过分析找到更有效的方法，比如条件筛选。\n",
      "  （4）上述分析是否依赖某个要素的取值/定义，且该要素的取值/定义尚未获得。若果是，重新规划当前动作，确保所有依赖的要素的取值/定义都已经获得。\n",
      "  （5）不要对要素的取值/定义做任何假设，确保你的信息来自给定的数据源。不要编造信息。DO NOT MAKE UP ANY INFORMATION!!!\n",
      "  （6）确保你执行的动作涉及的所有要素都已获得确切的取值/定义。\n",
      "  （7）如果全部子任务已完成，请用FINISH动作结束任务。\n",
      "\n",
      "\n",
      "###（2）然后，根据以下格式说明，输出你选择执行的动作/工具:\n",
      "\n",
      "\n"
     ]
    }
   ],
   "source": [
    "print(main_prompt\n",
    "      .partial(task_description=\"请帮我找出业绩最佳的合作单位\")\n",
    "      .format(\n",
    "          long_term_memory=\"\",\n",
    "          short_term_memory=\"\",\n",
    "          tools=\"\",\n",
    "          format_instructions=\"\",\n",
    "      )\n",
    "     )"
   ]
  },
  {
   "cell_type": "markdown",
   "id": "307f3c6f-7378-4762-84f5-f27ea6faf3a8",
   "metadata": {},
   "source": [
    "### final_prompt"
   ]
  },
  {
   "cell_type": "code",
   "execution_count": 86,
   "id": "054f7aa4-44bd-4065-8a18-b1906832c8dd",
   "metadata": {},
   "outputs": [],
   "source": [
    "final_prompt = PromptTemplate.from_template(\"\"\"\n",
    "你的任务是:\n",
    "{task_description}\n",
    "\n",
    "经过以下的思考过程，你已经完成任务:\n",
    "{short_term_memory}\n",
    "\n",
    "现在请详细给出你的最终答案:\n",
    "\"\"\")"
   ]
  },
  {
   "cell_type": "code",
   "execution_count": 87,
   "id": "8189e1c8-6ae6-4af0-8a4f-17cf5c1aec99",
   "metadata": {},
   "outputs": [
    {
     "name": "stdout",
     "output_type": "stream",
     "text": [
      "\n",
      "你的任务是:\n",
      "{task_description}\n",
      "\n",
      "经过以下的思考过程，你已经完成任务:\n",
      "{short_term_memory}\n",
      "\n",
      "现在请详细给出你的最终答案:\n",
      "\n"
     ]
    }
   ],
   "source": [
    "print(final_prompt.template)"
   ]
  },
  {
   "cell_type": "markdown",
   "id": "ac02502a-549c-490e-be0f-1cf4bba0f528",
   "metadata": {},
   "source": [
    "## 分步骤运行"
   ]
  },
  {
   "cell_type": "markdown",
   "id": "7c16ff28-4a6e-428c-8a65-820daf351d45",
   "metadata": {},
   "source": [
    "### 确定示例任务"
   ]
  },
  {
   "cell_type": "code",
   "execution_count": 88,
   "id": "1bc66800-4f67-421c-b7ae-bb62e28e1f00",
   "metadata": {},
   "outputs": [],
   "source": [
    "task = \"9月份的销售额是多少\""
   ]
  },
  {
   "cell_type": "markdown",
   "id": "1e4f7c3b-3145-4e37-b7f0-8a8bed4967b0",
   "metadata": {},
   "source": [
    "### 准备执行方法"
   ]
  },
  {
   "cell_type": "markdown",
   "id": "ac5f3835-208d-4050-a9d8-4e417d9a4c57",
   "metadata": {},
   "source": [
    "#### 智能体在每个步骤执行上下文中共享的短时记忆"
   ]
  },
  {
   "cell_type": "code",
   "execution_count": 89,
   "id": "5a5b72fe-4fd6-416b-a4e7-d2abcc8b70df",
   "metadata": {},
   "outputs": [],
   "source": [
    "from langchain.memory.chat_memory import BaseChatMemory\n",
    "from langchain.memory import ConversationTokenBufferMemory"
   ]
  },
  {
   "cell_type": "code",
   "execution_count": 90,
   "id": "88287662-4edc-4865-860c-3fbfeea10001",
   "metadata": {},
   "outputs": [],
   "source": [
    "def _format_short_term_memory(memory: BaseChatMemory) -> str:\n",
    "    messages = memory.chat_memory.messages\n",
    "    string_messages = [messages[i].content for i in range(1,len(messages))]\n",
    "    return \"\\n\".join(string_messages)"
   ]
  },
  {
   "cell_type": "code",
   "execution_count": 91,
   "id": "8814a0af-f09c-46eb-a36d-338e34e7ada4",
   "metadata": {},
   "outputs": [],
   "source": [
    "# 构造一个基于Token缓存的记忆体\n",
    "short_term_memory = ConversationTokenBufferMemory(\n",
    "    llm=llm,\n",
    "    max_token_limit=4000,\n",
    ")\n",
    "\n",
    "# 初始化短时记忆\n",
    "short_term_memory.save_context(\n",
    "    {\"input\": \"\\n初始化\"},\n",
    "    {\"output\": \"\\n开始\"}\n",
    ")"
   ]
  },
  {
   "cell_type": "markdown",
   "id": "4ba46cb4-513a-4dde-8731-b53d99064dde",
   "metadata": {},
   "source": [
    "#### 定义Action输出解析，提取工具函数名和参数"
   ]
  },
  {
   "cell_type": "code",
   "execution_count": 92,
   "id": "455e834f-807f-4160-a7af-93c0bf673223",
   "metadata": {},
   "outputs": [],
   "source": [
    "from pydantic import BaseModel, Field\n",
    "from typing import List, Optional, Dict, Any\n",
    "\n",
    "class Action(BaseModel):\n",
    "    name: str = Field(description=\"工具或指令名称\")\n",
    "    args: Optional[Dict[str,Any]] = Field(description=\"工具或指令参数，由参数名称和参数值组成\")"
   ]
  },
  {
   "cell_type": "code",
   "execution_count": 93,
   "id": "744396ec-d85f-4b41-9649-98b452f56327",
   "metadata": {},
   "outputs": [],
   "source": [
    "from langchain.output_parsers import PydanticOutputParser, OutputFixingParser\n",
    "\n",
    "# 解析Action\n",
    "action_output_parser = PydanticOutputParser(pydantic_object=Action)\n",
    "\n",
    "# 实现自动纠错\n",
    "robust_parser = OutputFixingParser.from_llm(parser=action_output_parser, llm=llm)"
   ]
  },
  {
   "cell_type": "markdown",
   "id": "ed7d7521-dbfe-4fc9-9630-061e8eddf25c",
   "metadata": {},
   "source": [
    "#### 定义步骤执行函数"
   ]
  },
  {
   "cell_type": "code",
   "execution_count": 94,
   "id": "7f828f39-df49-4565-aea2-e6ee59face0a",
   "metadata": {},
   "outputs": [],
   "source": [
    "def _step(short_term_memory):\n",
    "    # 输出LLM结果\n",
    "    response = \"\"\n",
    "    for s in reason_chain.stream({\n",
    "        \"short_term_memory\": _format_short_term_memory(short_term_memory),\n",
    "        \"long_term_memory\": \"\",\n",
    "        \"tools\": render_text_description(tools)\n",
    "    }):\n",
    "        color_print(s, THOUGHT_COLOR, end=\"\")\n",
    "        response += s\n",
    "\n",
    "    # 输出Action\n",
    "    action = action_output_parser.parse(response)\n",
    "    \n",
    "    return action, response"
   ]
  },
  {
   "cell_type": "markdown",
   "id": "d070d91d-6f22-486a-b242-dd6b8cf93667",
   "metadata": {},
   "source": [
    "#### 定义结束处理函数"
   ]
  },
  {
   "cell_type": "code",
   "execution_count": 95,
   "id": "c85e2c08-de25-4c2c-887d-7dc40e62a2bf",
   "metadata": {},
   "outputs": [],
   "source": [
    "def _final_step(short_term_memory) -> str:\n",
    "    \"\"\"最后一步, 生成最终的输出\"\"\"\n",
    "    response = final_chain.invoke({\n",
    "        \"short_term_memory\": _format_short_term_memory(short_term_memory)\n",
    "    })\n",
    "    return response"
   ]
  },
  {
   "cell_type": "markdown",
   "id": "b7da67ec-6e49-437d-9605-b0bc84028514",
   "metadata": {},
   "source": [
    "#### 执行获得的Action"
   ]
  },
  {
   "cell_type": "code",
   "execution_count": 96,
   "id": "24a3cd40-7a6d-4e1a-9438-71bd49eefa5d",
   "metadata": {},
   "outputs": [],
   "source": [
    "from langchain.tools.base import BaseTool\n",
    "\n",
    "def _find_tool(tool_name: str) -> Optional[BaseTool]:\n",
    "    for tool in tools:\n",
    "        if tool.name == tool_name:\n",
    "            return tool\n",
    "    return None"
   ]
  },
  {
   "cell_type": "code",
   "execution_count": 97,
   "id": "b2c58f15-c8c8-400f-9f0c-89aa7cfb60ff",
   "metadata": {},
   "outputs": [],
   "source": [
    "from pydantic import ValidationError\n",
    "\n",
    "def _exec_action(action: Action) -> str:\n",
    "    # 查找工具\n",
    "    tool = _find_tool(action.name)\n",
    "    # action_expr = format_action(action)\n",
    "    if tool is None:\n",
    "        observation = (\n",
    "            f\"Error: 找不到工具或指令 '{action.name}'. \"\n",
    "            f\"请从提供的工具/指令列表中选择，请确保按对顶格式输出。\"\n",
    "        )\n",
    "\n",
    "    else:\n",
    "        try:\n",
    "            # 执行工具\n",
    "            observation = tool.run(action.args)\n",
    "        except ValidationError as e:\n",
    "            # 工具的入参异常\n",
    "            observation = (\n",
    "                f\"Validation Error in args: {str(e)}, args: {action.args}\"\n",
    "            )\n",
    "        except Exception as e:\n",
    "            # 工具执行异常\n",
    "            observation = f\"Error: {str(e)}, {type(e).__name__}, args: {action.args}\"\n",
    "\n",
    "    return observation"
   ]
  },
  {
   "cell_type": "markdown",
   "id": "292e0bb5-ca04-4fd3-b7f3-9d823b89b430",
   "metadata": {},
   "source": [
    "### 构造主流程中使用的chain"
   ]
  },
  {
   "cell_type": "markdown",
   "id": "3c0e9537-7ce0-4018-9de1-77d1fedae6cb",
   "metadata": {},
   "source": [
    "#### reason_chain"
   ]
  },
  {
   "cell_type": "code",
   "execution_count": 98,
   "id": "0ef61a5f-7165-49ef-a93e-27ec6e9a848d",
   "metadata": {},
   "outputs": [],
   "source": [
    "from langchain_openai import ChatOpenAI\n",
    "from langchain.schema.output_parser import StrOutputParser\n",
    "from langchain.tools.render import render_text_description"
   ]
  },
  {
   "cell_type": "code",
   "execution_count": 99,
   "id": "886d82af-6eee-46a4-8f8f-e9ed95740d05",
   "metadata": {},
   "outputs": [],
   "source": [
    "llm = ChatOpenAI(\n",
    "    model=\"gpt-4-1106-preview\",\n",
    "    temperature=0,\n",
    "    model_kwargs={\n",
    "        \"seed\": 42\n",
    "    },\n",
    ")"
   ]
  },
  {
   "cell_type": "code",
   "execution_count": 100,
   "id": "144ce1b9-65e5-4852-a5bc-8bec1ac9d6d1",
   "metadata": {},
   "outputs": [],
   "source": [
    "def _chinese_friendly(string) -> str:\n",
    "    lines = string.split('\\n')\n",
    "    for i, line in enumerate(lines):\n",
    "        if line.startswith('{') and line.endswith('}'):\n",
    "            try:\n",
    "                lines[i] = json.dumps(json.loads(line), ensure_ascii=False)\n",
    "            except:\n",
    "                pass\n",
    "    return '\\n'.join(lines)"
   ]
  },
  {
   "cell_type": "code",
   "execution_count": 101,
   "id": "d0828ba9-3dc5-42e6-8d07-836ec9ab9827",
   "metadata": {},
   "outputs": [],
   "source": [
    "action_parser = _chinese_friendly(action_output_parser.get_format_instructions())"
   ]
  },
  {
   "cell_type": "code",
   "execution_count": 102,
   "id": "a5b676bd-9079-460a-afc7-710961264796",
   "metadata": {},
   "outputs": [
    {
     "data": {
      "text/plain": [
       "PromptInput(long_term_memory=None, short_term_memory=None, tools=None)"
      ]
     },
     "execution_count": 102,
     "metadata": {},
     "output_type": "execute_result"
    }
   ],
   "source": [
    "reason_chain = main_prompt.partial(task_description=task, format_instructions=action_parser)|llm |StrOutputParser()\n",
    "reason_chain.input_schema()"
   ]
  },
  {
   "cell_type": "markdown",
   "id": "5d11be83-d951-4e94-a5f3-348065b3ea71",
   "metadata": {},
   "source": [
    "#### final_chain"
   ]
  },
  {
   "cell_type": "code",
   "execution_count": 103,
   "id": "4bad2179-3dae-4bc9-aad9-8c3f05120b8e",
   "metadata": {},
   "outputs": [
    {
     "data": {
      "text/plain": [
       "PromptInput(short_term_memory=None)"
      ]
     },
     "execution_count": 103,
     "metadata": {},
     "output_type": "execute_result"
    }
   ],
   "source": [
    "final_chain = final_prompt.partial(task_description=task) | llm | StrOutputParser()\n",
    "final_chain.input_schema()"
   ]
  },
  {
   "cell_type": "markdown",
   "id": "dc80f890-45da-4f83-bf99-ee80f859a740",
   "metadata": {},
   "source": [
    "### 尝试运行"
   ]
  },
  {
   "cell_type": "markdown",
   "id": "027f1b41-830d-4b96-b365-1e192b021799",
   "metadata": {},
   "source": [
    "<div class=\"alert alert-info\">\n",
    "<b>一步步探索：</b><br/>\n",
    "    下面一步步探查智能体的每一个执行细节。\n",
    "</div>"
   ]
  },
  {
   "cell_type": "markdown",
   "id": "297f2cb2-1f63-452a-836d-733cbf575f78",
   "metadata": {},
   "source": [
    "#### step1：规划行动"
   ]
  },
  {
   "cell_type": "code",
   "execution_count": 104,
   "id": "2139724b-e1da-4a6f-9745-7a803d6ea70e",
   "metadata": {},
   "outputs": [
    {
     "name": "stdout",
     "output_type": "stream",
     "text": [
      "\u001b[32m\u001b[0m\u001b[32m###\u001b[0m\u001b[32m 思\u001b[0m\u001b[32m考\u001b[0m\u001b[32m过\u001b[0m\u001b[32m程\u001b[0m\u001b[32m：\n",
      "\n",
      "\u001b[0m\u001b[32m关\u001b[0m\u001b[32m键\u001b[0m\u001b[32m概\u001b[0m\u001b[32m念\u001b[0m\u001b[32m:\u001b[0m\u001b[32m 销\u001b[0m\u001b[32m售\u001b[0m\u001b[32m额\u001b[0m\u001b[32m -\u001b[0m\u001b[32m \u001b[0m\u001b[32m一个\u001b[0m\u001b[32m时间\u001b[0m\u001b[32m段\u001b[0m\u001b[32m内\u001b[0m\u001b[32m销\u001b[0m\u001b[32m售\u001b[0m\u001b[32m产品\u001b[0m\u001b[32m或\u001b[0m\u001b[32m服务\u001b[0m\u001b[32m所\u001b[0m\u001b[32m获\u001b[0m\u001b[32m得\u001b[0m\u001b[32m的\u001b[0m\u001b[32m总\u001b[0m\u001b[32m收\u001b[0m\u001b[32m入\u001b[0m\u001b[32m。\n",
      "\n",
      "\u001b[0m\u001b[32m概\u001b[0m\u001b[32m念\u001b[0m\u001b[32m拆\u001b[0m\u001b[32m解\u001b[0m\u001b[32m:\n",
      "\u001b[0m\u001b[32m-\u001b[0m\u001b[32m 销\u001b[0m\u001b[32m售\u001b[0m\u001b[32m额\u001b[0m\u001b[32m\n",
      "\u001b[0m\u001b[32m \u001b[0m\u001b[32m -\u001b[0m\u001b[32m 时间\u001b[0m\u001b[32m段\u001b[0m\u001b[32m:\u001b[0m\u001b[32m 需\u001b[0m\u001b[32m要\u001b[0m\u001b[32m确定\u001b[0m\u001b[32m具\u001b[0m\u001b[32m体\u001b[0m\u001b[32m的\u001b[0m\u001b[32m时间\u001b[0m\u001b[32m范\u001b[0m\u001b[32m围\u001b[0m\u001b[32m，\u001b[0m\u001b[32m本\u001b[0m\u001b[32m任务\u001b[0m\u001b[32m中\u001b[0m\u001b[32m为\u001b[0m\u001b[32m9\u001b[0m\u001b[32m月\u001b[0m\u001b[32m份\u001b[0m\u001b[32m。\n",
      "\u001b[0m\u001b[32m \u001b[0m\u001b[32m -\u001b[0m\u001b[32m 数据\u001b[0m\u001b[32m来源\u001b[0m\u001b[32m:\u001b[0m\u001b[32m 需\u001b[0m\u001b[32m要\u001b[0m\u001b[32m确定\u001b[0m\u001b[32m销\u001b[0m\u001b[32m售\u001b[0m\u001b[32m额\u001b[0m\u001b[32m数据\u001b[0m\u001b[32m存\u001b[0m\u001b[32m储\u001b[0m\u001b[32m在\u001b[0m\u001b[32m哪\u001b[0m\u001b[32m个\u001b[0m\u001b[32m文件\u001b[0m\u001b[32m或\u001b[0m\u001b[32m文件\u001b[0m\u001b[32m类型\u001b[0m\u001b[32m中\u001b[0m\u001b[32m。\n",
      "\n",
      "\u001b[0m\u001b[32m反\u001b[0m\u001b[32m思\u001b[0m\u001b[32m:\n",
      "\u001b[0m\u001b[32m-\u001b[0m\u001b[32m \u001b[0m\u001b[32m之\u001b[0m\u001b[32m前\u001b[0m\u001b[32m的\u001b[0m\u001b[32m执行\u001b[0m\u001b[32m记录\u001b[0m\u001b[32m没有\u001b[0m\u001b[32m提\u001b[0m\u001b[32m供\u001b[0m\u001b[32m任\u001b[0m\u001b[32m何\u001b[0m\u001b[32m关\u001b[0m\u001b[32m于\u001b[0m\u001b[32m销\u001b[0m\u001b[32m售\u001b[0m\u001b[32m额\u001b[0m\u001b[32m的\u001b[0m\u001b[32m信息\u001b[0m\u001b[32m。\n",
      "\u001b[0m\u001b[32m-\u001b[0m\u001b[32m 需\u001b[0m\u001b[32m要\u001b[0m\u001b[32m确定\u001b[0m\u001b[32m销\u001b[0m\u001b[32m售\u001b[0m\u001b[32m额\u001b[0m\u001b[32m的\u001b[0m\u001b[32m数据\u001b[0m\u001b[32m来源\u001b[0m\u001b[32m，\u001b[0m\u001b[32m可能\u001b[0m\u001b[32m是\u001b[0m\u001b[32mExcel\u001b[0m\u001b[32m表\u001b[0m\u001b[32m格\u001b[0m\u001b[32m或\u001b[0m\u001b[32m其他\u001b[0m\u001b[32m类型\u001b[0m\u001b[32m的\u001b[0m\u001b[32m文\u001b[0m\u001b[32m档\u001b[0m\u001b[32m。\n",
      "\u001b[0m\u001b[32m-\u001b[0m\u001b[32m 目\u001b[0m\u001b[32m前\u001b[0m\u001b[32m还\u001b[0m\u001b[32m没有\u001b[0m\u001b[32m得\u001b[0m\u001b[32m到\u001b[0m\u001b[32m销\u001b[0m\u001b[32m售\u001b[0m\u001b[32m额\u001b[0m\u001b[32m的\u001b[0m\u001b[32m具\u001b[0m\u001b[32m体\u001b[0m\u001b[32m数\u001b[0m\u001b[32m值\u001b[0m\u001b[32m。\n",
      "\n",
      "\u001b[0m\u001b[32m思\u001b[0m\u001b[32m考\u001b[0m\u001b[32m:\n",
      "\u001b[0m\u001b[32m-\u001b[0m\u001b[32m 需\u001b[0m\u001b[32m要\u001b[0m\u001b[32m先\u001b[0m\u001b[32m探\u001b[0m\u001b[32m查\u001b[0m\u001b[32m文件\u001b[0m\u001b[32m目\u001b[0m\u001b[32m录\u001b[0m\u001b[32m，\u001b[0m\u001b[32m找\u001b[0m\u001b[32m到\u001b[0m\u001b[32m可能\u001b[0m\u001b[32m包\u001b[0m\u001b[32m含\u001b[0m\u001b[32m销\u001b[0m\u001b[32m售\u001b[0m\u001b[32m额\u001b[0m\u001b[32m数据\u001b[0m\u001b[32m的\u001b[0m\u001b[32m文件\u001b[0m\u001b[32m。\n",
      "\u001b[0m\u001b[32m-\u001b[0m\u001b[32m 如果\u001b[0m\u001b[32m存在\u001b[0m\u001b[32m多\u001b[0m\u001b[32m个\u001b[0m\u001b[32m文件\u001b[0m\u001b[32m，\u001b[0m\u001b[32m需要\u001b[0m\u001b[32m确定\u001b[0m\u001b[32m哪\u001b[0m\u001b[32m个\u001b[0m\u001b[32m文件\u001b[0m\u001b[32m包\u001b[0m\u001b[32m含\u001b[0m\u001b[32m了\u001b[0m\u001b[32m9\u001b[0m\u001b[32m月\u001b[0m\u001b[32m份\u001b[0m\u001b[32m的\u001b[0m\u001b[32m销\u001b[0m\u001b[32m售\u001b[0m\u001b[32m数据\u001b[0m\u001b[32m。\n",
      "\u001b[0m\u001b[32m-\u001b[0m\u001b[32m 如果\u001b[0m\u001b[32m找\u001b[0m\u001b[32m到\u001b[0m\u001b[32m了\u001b[0m\u001b[32m包\u001b[0m\u001b[32m含\u001b[0m\u001b[32m销\u001b[0m\u001b[32m售\u001b[0m\u001b[32m数据\u001b[0m\u001b[32m的\u001b[0m\u001b[32m文件\u001b[0m\u001b[32m，\u001b[0m\u001b[32m可能\u001b[0m\u001b[32m需要\u001b[0m\u001b[32m使用\u001b[0m\u001b[32mInspect\u001b[0m\u001b[32mExcel\u001b[0m\u001b[32m或\u001b[0m\u001b[32mAsk\u001b[0m\u001b[32mDocument\u001b[0m\u001b[32m工\u001b[0m\u001b[32m具\u001b[0m\u001b[32m来\u001b[0m\u001b[32m获取\u001b[0m\u001b[32m具\u001b[0m\u001b[32m体\u001b[0m\u001b[32m的\u001b[0m\u001b[32m销\u001b[0m\u001b[32m售\u001b[0m\u001b[32m额\u001b[0m\u001b[32m数\u001b[0m\u001b[32m值\u001b[0m\u001b[32m。\n",
      "\u001b[0m\u001b[32m-\u001b[0m\u001b[32m 如果\u001b[0m\u001b[32m销\u001b[0m\u001b[32m售\u001b[0m\u001b[32m数据\u001b[0m\u001b[32m分\u001b[0m\u001b[32m散\u001b[0m\u001b[32m在\u001b[0m\u001b[32m多\u001b[0m\u001b[32m个\u001b[0m\u001b[32m文件\u001b[0m\u001b[32m中\u001b[0m\u001b[32m，\u001b[0m\u001b[32m可能\u001b[0m\u001b[32m需要\u001b[0m\u001b[32m分\u001b[0m\u001b[32m别\u001b[0m\u001b[32m查询\u001b[0m\u001b[32m并\u001b[0m\u001b[32m汇\u001b[0m\u001b[32m总\u001b[0m\u001b[32m。\n",
      "\n",
      "\u001b[0m\u001b[32m计\u001b[0m\u001b[32m划\u001b[0m\u001b[32m:\n",
      "\u001b[0m\u001b[32m-\u001b[0m\u001b[32m 第\u001b[0m\u001b[32m一\u001b[0m\u001b[32m步\u001b[0m\u001b[32m，\u001b[0m\u001b[32m使用\u001b[0m\u001b[32mList\u001b[0m\u001b[32mDirectory\u001b[0m\u001b[32m工\u001b[0m\u001b[32m具\u001b[0m\u001b[32m探\u001b[0m\u001b[32m查\u001b[0m\u001b[32m文件\u001b[0m\u001b[32m目\u001b[0m\u001b[32m录\u001b[0m\u001b[32m，\u001b[0m\u001b[32m找\u001b[0m\u001b[32m到\u001b[0m\u001b[32m可能\u001b[0m\u001b[32m包\u001b[0m\u001b[32m含\u001b[0m\u001b[32m销\u001b[0m\u001b[32m售\u001b[0m\u001b[32m额\u001b[0m\u001b[32m数据\u001b[0m\u001b[32m的\u001b[0m\u001b[32m文件\u001b[0m\u001b[32m。\n",
      "\u001b[0m\u001b[32m-\u001b[0m\u001b[32m 第\u001b[0m\u001b[32m二\u001b[0m\u001b[32m步\u001b[0m\u001b[32m，\u001b[0m\u001b[32m根\u001b[0m\u001b[32m据\u001b[0m\u001b[32m第\u001b[0m\u001b[32m一\u001b[0m\u001b[32m步\u001b[0m\u001b[32m得\u001b[0m\u001b[32m到\u001b[0m\u001b[32m的\u001b[0m\u001b[32m文件\u001b[0m\u001b[32m列表\u001b[0m\u001b[32m，\u001b[0m\u001b[32m确定\u001b[0m\u001b[32m哪\u001b[0m\u001b[32m些\u001b[0m\u001b[32m文件\u001b[0m\u001b[32m可能\u001b[0m\u001b[32m包\u001b[0m\u001b[32m含\u001b[0m\u001b[32m9\u001b[0m\u001b[32m月\u001b[0m\u001b[32m份\u001b[0m\u001b[32m的\u001b[0m\u001b[32m销\u001b[0m\u001b[32m售\u001b[0m\u001b[32m数据\u001b[0m\u001b[32m。\n",
      "\u001b[0m\u001b[32m-\u001b[0m\u001b[32m 第\u001b[0m\u001b[32m三\u001b[0m\u001b[32m步\u001b[0m\u001b[32m，\u001b[0m\u001b[32m使用\u001b[0m\u001b[32mInspect\u001b[0m\u001b[32mExcel\u001b[0m\u001b[32m或\u001b[0m\u001b[32mAsk\u001b[0m\u001b[32mDocument\u001b[0m\u001b[32m工\u001b[0m\u001b[32m具\u001b[0m\u001b[32m查询\u001b[0m\u001b[32m这\u001b[0m\u001b[32m些\u001b[0m\u001b[32m文件\u001b[0m\u001b[32m，\u001b[0m\u001b[32m获取\u001b[0m\u001b[32m9\u001b[0m\u001b[32m月\u001b[0m\u001b[32m份\u001b[0m\u001b[32m的\u001b[0m\u001b[32m销\u001b[0m\u001b[32m售\u001b[0m\u001b[32m额\u001b[0m\u001b[32m。\n",
      "\u001b[0m\u001b[32m-\u001b[0m\u001b[32m 确\u001b[0m\u001b[32m保\u001b[0m\u001b[32m在\u001b[0m\u001b[32m查询\u001b[0m\u001b[32m销\u001b[0m\u001b[32m售\u001b[0m\u001b[32m额\u001b[0m\u001b[32m时\u001b[0m\u001b[32m，\u001b[0m\u001b[32m明\u001b[0m\u001b[32m确\u001b[0m\u001b[32m指\u001b[0m\u001b[32m定\u001b[0m\u001b[32m时间\u001b[0m\u001b[32m范\u001b[0m\u001b[32m围\u001b[0m\u001b[32m为\u001b[0m\u001b[32m9\u001b[0m\u001b[32m月\u001b[0m\u001b[32m份\u001b[0m\u001b[32m。\n",
      "\n",
      "\u001b[0m\u001b[32m###\u001b[0m\u001b[32m 执行\u001b[0m\u001b[32m动\u001b[0m\u001b[32m作\u001b[0m\u001b[32m：\n",
      "\n",
      "\u001b[0m\u001b[32m```\u001b[0m\u001b[32mjson\u001b[0m\u001b[32m\n",
      "\u001b[0m\u001b[32m{\n",
      "\u001b[0m\u001b[32m \u001b[0m\u001b[32m \"\u001b[0m\u001b[32mname\u001b[0m\u001b[32m\":\u001b[0m\u001b[32m \"\u001b[0m\u001b[32mList\u001b[0m\u001b[32mDirectory\u001b[0m\u001b[32m\",\n",
      "\u001b[0m\u001b[32m \u001b[0m\u001b[32m \"\u001b[0m\u001b[32margs\u001b[0m\u001b[32m\":\u001b[0m\u001b[32m {\n",
      "\u001b[0m\u001b[32m   \u001b[0m\u001b[32m \"\u001b[0m\u001b[32mpath\u001b[0m\u001b[32m\":\u001b[0m\u001b[32m \"./\u001b[0m\u001b[32mdata\u001b[0m\u001b[32m/\u001b[0m\u001b[32maut\u001b[0m\u001b[32mog\u001b[0m\u001b[32mpt\u001b[0m\u001b[32m-demo\u001b[0m\u001b[32m\"\n",
      "\u001b[0m\u001b[32m \u001b[0m\u001b[32m }\n",
      "\u001b[0m\u001b[32m}\n",
      "\u001b[0m\u001b[32m```\u001b[0m\u001b[32m\u001b[0m\n",
      "\n",
      " - - - - - - \n",
      "name='ListDirectory' args={'path': './data/autogpt-demo'}\n"
     ]
    }
   ],
   "source": [
    "action, response = _step(short_term_memory)\n",
    "print(\"\\n\\n - - - - - - \")\n",
    "print(action)"
   ]
  },
  {
   "cell_type": "markdown",
   "id": "e69ec88d-c7db-4169-a12a-0a5775760b1a",
   "metadata": {},
   "source": [
    "#### step1：执行动作"
   ]
  },
  {
   "cell_type": "code",
   "execution_count": 67,
   "id": "1def275a-049f-4165-b246-a8e8ace4d4ba",
   "metadata": {},
   "outputs": [],
   "source": [
    "observation = _exec_action(action)"
   ]
  },
  {
   "cell_type": "code",
   "execution_count": 68,
   "id": "37fbc7b4-bd45-4e6d-b0a6-42cb5ce8ded4",
   "metadata": {},
   "outputs": [
    {
     "name": "stdout",
     "output_type": "stream",
     "text": [
      "\u001b[33m\n",
      "----\n",
      "结果:\n",
      ".DS_Store\n",
      "2023年8月-9月销售记录.xlsx\n",
      "供应商名录.xlsx\n",
      "求职简历.docx\n",
      "供应商资格要求.pdf\u001b[0m\n"
     ]
    }
   ],
   "source": [
    "color_print(f\"\\n----\\n结果:\\n{observation}\", OBSERVATION_COLOR)"
   ]
  },
  {
   "cell_type": "markdown",
   "id": "ab485789-ef72-4b88-8d8d-0a90d6f02982",
   "metadata": {},
   "source": [
    "#### step1：记录结果"
   ]
  },
  {
   "cell_type": "code",
   "execution_count": 69,
   "id": "3334389b-520c-4f08-9059-3b23e1e8643f",
   "metadata": {},
   "outputs": [],
   "source": [
    "short_term_memory.save_context(\n",
    "    {\"input\": response},\n",
    "    {\"output\": \"返回结果:\\n\" + observation}\n",
    ")"
   ]
  },
  {
   "cell_type": "markdown",
   "id": "a26a9277-8073-4cae-a7aa-77c77c3cd973",
   "metadata": {},
   "source": [
    "#### step2：规划行动"
   ]
  },
  {
   "cell_type": "code",
   "execution_count": 70,
   "id": "2f530db0-8f54-4458-bb21-480adf07857e",
   "metadata": {},
   "outputs": [
    {
     "name": "stdout",
     "output_type": "stream",
     "text": [
      "\u001b[32m\u001b[0m\u001b[32m###\u001b[0m\u001b[32m 思\u001b[0m\u001b[32m考\u001b[0m\u001b[32m过\u001b[0m\u001b[32m程\u001b[0m\u001b[32m：\n",
      "\n",
      "\u001b[0m\u001b[32m关\u001b[0m\u001b[32m键\u001b[0m\u001b[32m概\u001b[0m\u001b[32m念\u001b[0m\u001b[32m:\u001b[0m\u001b[32m \u001b[0m\u001b[32m9\u001b[0m\u001b[32m月\u001b[0m\u001b[32m份\u001b[0m\u001b[32m的\u001b[0m\u001b[32m销\u001b[0m\u001b[32m售\u001b[0m\u001b[32m额\u001b[0m\u001b[32m\n",
      "\n",
      "\u001b[0m\u001b[32m概\u001b[0m\u001b[32m念\u001b[0m\u001b[32m拆\u001b[0m\u001b[32m解\u001b[0m\u001b[32m:\n",
      "\u001b[0m\u001b[32m-\u001b[0m\u001b[32m 销\u001b[0m\u001b[32m售\u001b[0m\u001b[32m额\u001b[0m\u001b[32m:\u001b[0m\u001b[32m 某\u001b[0m\u001b[32m个\u001b[0m\u001b[32m时间\u001b[0m\u001b[32m段\u001b[0m\u001b[32m内\u001b[0m\u001b[32m完成\u001b[0m\u001b[32m销\u001b[0m\u001b[32m售\u001b[0m\u001b[32m的\u001b[0m\u001b[32m总\u001b[0m\u001b[32m金额\u001b[0m\u001b[32m\n",
      "\u001b[0m\u001b[32m-\u001b[0m\u001b[32m \u001b[0m\u001b[32m9\u001b[0m\u001b[32m月\u001b[0m\u001b[32m份\u001b[0m\u001b[32m:\u001b[0m\u001b[32m 表\u001b[0m\u001b[32m示\u001b[0m\u001b[32m查询\u001b[0m\u001b[32m的\u001b[0m\u001b[32m特\u001b[0m\u001b[32m定\u001b[0m\u001b[32m时间\u001b[0m\u001b[32m段\u001b[0m\u001b[32m范\u001b[0m\u001b[32m围\u001b[0m\u001b[32m\n",
      "\n",
      "\u001b[0m\u001b[32m反\u001b[0m\u001b[32m思\u001b[0m\u001b[32m:\n",
      "\u001b[0m\u001b[32m-\u001b[0m\u001b[32m 文件\u001b[0m\u001b[32m列表\u001b[0m\u001b[32m中\u001b[0m\u001b[32m有\u001b[0m\u001b[32m一个\u001b[0m\u001b[32m名\u001b[0m\u001b[32m为\u001b[0m\u001b[32m“\u001b[0m\u001b[32m202\u001b[0m\u001b[32m3\u001b[0m\u001b[32m年\u001b[0m\u001b[32m8\u001b[0m\u001b[32m月\u001b[0m\u001b[32m-\u001b[0m\u001b[32m9\u001b[0m\u001b[32m月\u001b[0m\u001b[32m销\u001b[0m\u001b[32m售\u001b[0m\u001b[32m记录\u001b[0m\u001b[32m.xlsx\u001b[0m\u001b[32m”的\u001b[0m\u001b[32m文件\u001b[0m\u001b[32m，\u001b[0m\u001b[32m这\u001b[0m\u001b[32m个\u001b[0m\u001b[32m文件\u001b[0m\u001b[32m很\u001b[0m\u001b[32m可能\u001b[0m\u001b[32m包\u001b[0m\u001b[32m含\u001b[0m\u001b[32m了\u001b[0m\u001b[32m9\u001b[0m\u001b[32m月\u001b[0m\u001b[32m份\u001b[0m\u001b[32m的\u001b[0m\u001b[32m销\u001b[0m\u001b[32m售\u001b[0m\u001b[32m记录\u001b[0m\u001b[32m。\n",
      "\u001b[0m\u001b[32m-\u001b[0m\u001b[32m 我\u001b[0m\u001b[32m需要\u001b[0m\u001b[32m检\u001b[0m\u001b[32m查\u001b[0m\u001b[32m这\u001b[0m\u001b[32m个\u001b[0m\u001b[32mExcel\u001b[0m\u001b[32m文件\u001b[0m\u001b[32m，\u001b[0m\u001b[32m以\u001b[0m\u001b[32m确定\u001b[0m\u001b[32m它\u001b[0m\u001b[32m是否\u001b[0m\u001b[32m包\u001b[0m\u001b[32m含\u001b[0m\u001b[32m9\u001b[0m\u001b[32m月\u001b[0m\u001b[32m份\u001b[0m\u001b[32m的\u001b[0m\u001b[32m销\u001b[0m\u001b[32m售\u001b[0m\u001b[32m数据\u001b[0m\u001b[32m。\n",
      "\n",
      "\u001b[0m\u001b[32m思\u001b[0m\u001b[32m考\u001b[0m\u001b[32m:\n",
      "\u001b[0m\u001b[32m-\u001b[0m\u001b[32m 我\u001b[0m\u001b[32m需要\u001b[0m\u001b[32m使用\u001b[0m\u001b[32mInspect\u001b[0m\u001b[32mExcel\u001b[0m\u001b[32m工\u001b[0m\u001b[32m具\u001b[0m\u001b[32m来\u001b[0m\u001b[32m查\u001b[0m\u001b[32m看\u001b[0m\u001b[32m“\u001b[0m\u001b[32m202\u001b[0m\u001b[32m3\u001b[0m\u001b[32m年\u001b[0m\u001b[32m8\u001b[0m\u001b[32m月\u001b[0m\u001b[32m-\u001b[0m\u001b[32m9\u001b[0m\u001b[32m月\u001b[0m\u001b[32m销\u001b[0m\u001b[32m售\u001b[0m\u001b[32m记录\u001b[0m\u001b[32m.xlsx\u001b[0m\u001b[32m”\u001b[0m\u001b[32m文件\u001b[0m\u001b[32m的\u001b[0m\u001b[32m内容\u001b[0m\u001b[32m和\u001b[0m\u001b[32m结\u001b[0m\u001b[32m构\u001b[0m\u001b[32m。\n",
      "\u001b[0m\u001b[32m-\u001b[0m\u001b[32m 这\u001b[0m\u001b[32m将\u001b[0m\u001b[32m帮\u001b[0m\u001b[32m助\u001b[0m\u001b[32m我\u001b[0m\u001b[32m了\u001b[0m\u001b[32m解\u001b[0m\u001b[32m文件\u001b[0m\u001b[32m的\u001b[0m\u001b[32m列\u001b[0m\u001b[32m名\u001b[0m\u001b[32m和\u001b[0m\u001b[32m数据\u001b[0m\u001b[32m结\u001b[0m\u001b[32m构\u001b[0m\u001b[32m，\u001b[0m\u001b[32m以\u001b[0m\u001b[32m便\u001b[0m\u001b[32m我\u001b[0m\u001b[32m可以\u001b[0m\u001b[32m进\u001b[0m\u001b[32m一\u001b[0m\u001b[32m步\u001b[0m\u001b[32m分\u001b[0m\u001b[32m析\u001b[0m\u001b[32m9\u001b[0m\u001b[32m月\u001b[0m\u001b[32m份\u001b[0m\u001b[32m的\u001b[0m\u001b[32m销\u001b[0m\u001b[32m售\u001b[0m\u001b[32m额\u001b[0m\u001b[32m。\n",
      "\n",
      "\u001b[0m\u001b[32m推\u001b[0m\u001b[32m理\u001b[0m\u001b[32m:\n",
      "\u001b[0m\u001b[32m-\u001b[0m\u001b[32m 我\u001b[0m\u001b[32m将\u001b[0m\u001b[32m调\u001b[0m\u001b[32m用\u001b[0m\u001b[32mInspect\u001b[0m\u001b[32mExcel\u001b[0m\u001b[32m工\u001b[0m\u001b[32m具\u001b[0m\u001b[32m，\u001b[0m\u001b[32m查\u001b[0m\u001b[32m看\u001b[0m\u001b[32m“\u001b[0m\u001b[32m202\u001b[0m\u001b[32m3\u001b[0m\u001b[32m年\u001b[0m\u001b[32m8\u001b[0m\u001b[32m月\u001b[0m\u001b[32m-\u001b[0m\u001b[32m9\u001b[0m\u001b[32m月\u001b[0m\u001b[32m销\u001b[0m\u001b[32m售\u001b[0m\u001b[32m记录\u001b[0m\u001b[32m.xlsx\u001b[0m\u001b[32m”\u001b[0m\u001b[32m文件\u001b[0m\u001b[32m的\u001b[0m\u001b[32m前\u001b[0m\u001b[32m3\u001b[0m\u001b[32m行\u001b[0m\u001b[32m数据\u001b[0m\u001b[32m。\n",
      "\n",
      "\u001b[0m\u001b[32m计\u001b[0m\u001b[32m划\u001b[0m\u001b[32m:\n",
      "\u001b[0m\u001b[32m-\u001b[0m\u001b[32m 我\u001b[0m\u001b[32m将\u001b[0m\u001b[32m执行\u001b[0m\u001b[32mInspect\u001b[0m\u001b[32mExcel\u001b[0m\u001b[32m动\u001b[0m\u001b[32m作\u001b[0m\u001b[32m，\u001b[0m\u001b[32m参数\u001b[0m\u001b[32m为\u001b[0m\u001b[32m文件\u001b[0m\u001b[32m名\u001b[0m\u001b[32m“\u001b[0m\u001b[32m202\u001b[0m\u001b[32m3\u001b[0m\u001b[32m年\u001b[0m\u001b[32m8\u001b[0m\u001b[32m月\u001b[0m\u001b[32m-\u001b[0m\u001b[32m9\u001b[0m\u001b[32m月\u001b[0m\u001b[32m销\u001b[0m\u001b[32m售\u001b[0m\u001b[32m记录\u001b[0m\u001b[32m.xlsx\u001b[0m\u001b[32m”\u001b[0m\u001b[32m和\u001b[0m\u001b[32m默认\u001b[0m\u001b[32m行\u001b[0m\u001b[32m数\u001b[0m\u001b[32m3\u001b[0m\u001b[32m。\n",
      "\n",
      "\u001b[0m\u001b[32m###\u001b[0m\u001b[32m 执行\u001b[0m\u001b[32m动\u001b[0m\u001b[32m作\u001b[0m\u001b[32m：\n",
      "\n",
      "\u001b[0m\u001b[32m```\u001b[0m\u001b[32mjson\u001b[0m\u001b[32m\n",
      "\u001b[0m\u001b[32m{\n",
      "\u001b[0m\u001b[32m \u001b[0m\u001b[32m \"\u001b[0m\u001b[32mname\u001b[0m\u001b[32m\":\u001b[0m\u001b[32m \"\u001b[0m\u001b[32mInspect\u001b[0m\u001b[32mExcel\u001b[0m\u001b[32m\",\n",
      "\u001b[0m\u001b[32m \u001b[0m\u001b[32m \"\u001b[0m\u001b[32margs\u001b[0m\u001b[32m\":\u001b[0m\u001b[32m {\n",
      "\u001b[0m\u001b[32m   \u001b[0m\u001b[32m \"\u001b[0m\u001b[32mfilename\u001b[0m\u001b[32m\":\u001b[0m\u001b[32m \"./\u001b[0m\u001b[32mdata\u001b[0m\u001b[32m/\u001b[0m\u001b[32maut\u001b[0m\u001b[32mog\u001b[0m\u001b[32mpt\u001b[0m\u001b[32m-demo\u001b[0m\u001b[32m/\u001b[0m\u001b[32m202\u001b[0m\u001b[32m3\u001b[0m\u001b[32m年\u001b[0m\u001b[32m8\u001b[0m\u001b[32m月\u001b[0m\u001b[32m-\u001b[0m\u001b[32m9\u001b[0m\u001b[32m月\u001b[0m\u001b[32m销\u001b[0m\u001b[32m售\u001b[0m\u001b[32m记录\u001b[0m\u001b[32m.xlsx\u001b[0m\u001b[32m\"\n",
      "\u001b[0m\u001b[32m \u001b[0m\u001b[32m }\n",
      "\u001b[0m\u001b[32m}\n",
      "\u001b[0m\u001b[32m```\u001b[0m\u001b[32m\u001b[0m"
     ]
    }
   ],
   "source": [
    "action, response = _step(short_term_memory)"
   ]
  },
  {
   "cell_type": "markdown",
   "id": "e0899ecf-885b-45e7-95f0-5606807b8b2e",
   "metadata": {},
   "source": [
    "#### step2：执行动作"
   ]
  },
  {
   "cell_type": "code",
   "execution_count": 71,
   "id": "f0efaec6-baaa-4a8e-ad59-cd9805c41c07",
   "metadata": {},
   "outputs": [
    {
     "name": "stdout",
     "output_type": "stream",
     "text": [
      "name='InspectExcel' args={'filename': './data/autogpt-demo/2023年8月-9月销售记录.xlsx'}\n"
     ]
    }
   ],
   "source": [
    "print(action)"
   ]
  },
  {
   "cell_type": "code",
   "execution_count": 72,
   "id": "6e73f21f-4161-4acc-b936-c1df2c5ef2e5",
   "metadata": {},
   "outputs": [
    {
     "name": "stdout",
     "output_type": "stream",
     "text": [
      "\u001b[33m\n",
      "----\n",
      "结果:\n",
      "这是 './data/autogpt-demo/2023年8月-9月销售记录.xlsx' 文件的工作表名称：\n",
      "\n",
      "['2023年8月-9月销售记录']\n",
      "\n",
      "这是 './data/autogpt-demo/2023年8月-9月销售记录.xlsx' 文件第一个工作表的列名：\n",
      "\n",
      "品类\n",
      "产品名\n",
      "单价(元)\n",
      "销售量\n",
      "销售日期\n",
      "供应商\n",
      "\n",
      "这是 './data/autogpt-demo/2023年8月-9月销售记录.xlsx' 文件第一个工作表的前3行样例：\n",
      "\n",
      "   品类                产品名  单价(元)  销售量       销售日期        供应商\n",
      "   手机       Xiaomi Mi 11   4999   20 2023-08-02   北京科技有限公司\n",
      "   耳机    Sony WH-1000XM4   2999   15 2023-08-03   上海音响有限公司\n",
      "笔记本电脑 Lenovo ThinkPad X1   8999   10 2023-08-05 深圳创新科技有限公司\u001b[0m\n"
     ]
    }
   ],
   "source": [
    "observation = _exec_action(action)\n",
    "color_print(f\"\\n----\\n结果:\\n{observation}\", OBSERVATION_COLOR)"
   ]
  },
  {
   "cell_type": "markdown",
   "id": "ac33fdc9-43e5-4ee0-bb96-238b8a7c0968",
   "metadata": {},
   "source": [
    "<div class=\"alert alert-warning\">\n",
    "<b>参数解析：</b><br/>\n",
    "    如果想要参数解析这一步准确，就要提供较详细的工具函数参数指引，否则LLM会根据惯用的方法来推测参数名称。\n",
    "</div>"
   ]
  },
  {
   "cell_type": "markdown",
   "id": "9e5d498c-a798-4c4b-9933-e25210b20bd1",
   "metadata": {},
   "source": [
    "#### step2：记录结果"
   ]
  },
  {
   "cell_type": "code",
   "execution_count": 73,
   "id": "faa46a1f-0d3e-450b-b503-1cb7bfac5a21",
   "metadata": {},
   "outputs": [],
   "source": [
    "short_term_memory.save_context(\n",
    "    {\"input\": response},\n",
    "    {\"output\": \"返回结果:\\n\" + observation}\n",
    ")"
   ]
  },
  {
   "cell_type": "markdown",
   "id": "0c1772a8-8b1b-4a3b-961c-a466ecdda00f",
   "metadata": {},
   "source": [
    "#### step3：规划行动"
   ]
  },
  {
   "cell_type": "code",
   "execution_count": 74,
   "id": "23033c9e-4107-4a17-8768-12572650157e",
   "metadata": {},
   "outputs": [
    {
     "name": "stdout",
     "output_type": "stream",
     "text": [
      "\u001b[32m\u001b[0m\u001b[32m###\u001b[0m\u001b[32m 思\u001b[0m\u001b[32m考\u001b[0m\u001b[32m过\u001b[0m\u001b[32m程\u001b[0m\u001b[32m：\n",
      "\n",
      "\u001b[0m\u001b[32m关\u001b[0m\u001b[32m键\u001b[0m\u001b[32m概\u001b[0m\u001b[32m念\u001b[0m\u001b[32m:\u001b[0m\u001b[32m \u001b[0m\u001b[32m9\u001b[0m\u001b[32m月\u001b[0m\u001b[32m份\u001b[0m\u001b[32m的\u001b[0m\u001b[32m销\u001b[0m\u001b[32m售\u001b[0m\u001b[32m额\u001b[0m\u001b[32m\n",
      "\n",
      "\u001b[0m\u001b[32m概\u001b[0m\u001b[32m念\u001b[0m\u001b[32m拆\u001b[0m\u001b[32m解\u001b[0m\u001b[32m:\n",
      "\u001b[0m\u001b[32m-\u001b[0m\u001b[32m 销\u001b[0m\u001b[32m售\u001b[0m\u001b[32m额\u001b[0m\u001b[32m:\u001b[0m\u001b[32m 某\u001b[0m\u001b[32m个\u001b[0m\u001b[32m时间\u001b[0m\u001b[32m段\u001b[0m\u001b[32m内\u001b[0m\u001b[32m的\u001b[0m\u001b[32m销\u001b[0m\u001b[32m售\u001b[0m\u001b[32m总\u001b[0m\u001b[32m金额\u001b[0m\u001b[32m\n",
      "\u001b[0m\u001b[32m-\u001b[0m\u001b[32m \u001b[0m\u001b[32m9\u001b[0m\u001b[32m月\u001b[0m\u001b[32m份\u001b[0m\u001b[32m:\u001b[0m\u001b[32m 表\u001b[0m\u001b[32m示\u001b[0m\u001b[32m查询\u001b[0m\u001b[32m的\u001b[0m\u001b[32m特\u001b[0m\u001b[32m定\u001b[0m\u001b[32m时间\u001b[0m\u001b[32m段\u001b[0m\u001b[32m范\u001b[0m\u001b[32m围\u001b[0m\u001b[32m\n",
      "\n",
      "\u001b[0m\u001b[32m反\u001b[0m\u001b[32m思\u001b[0m\u001b[32m:\n",
      "\u001b[0m\u001b[32m-\u001b[0m\u001b[32m 根\u001b[0m\u001b[32m据\u001b[0m\u001b[32m文件\u001b[0m\u001b[32m探\u001b[0m\u001b[32m查\u001b[0m\u001b[32m结果\u001b[0m\u001b[32m得\u001b[0m\u001b[32m知\u001b[0m\u001b[32m，“\u001b[0m\u001b[32m202\u001b[0m\u001b[32m3\u001b[0m\u001b[32m年\u001b[0m\u001b[32m8\u001b[0m\u001b[32m月\u001b[0m\u001b[32m-\u001b[0m\u001b[32m9\u001b[0m\u001b[32m月\u001b[0m\u001b[32m销\u001b[0m\u001b[32m售\u001b[0m\u001b[32m记录\u001b[0m\u001b[32m.xlsx\u001b[0m\u001b[32m”\u001b[0m\u001b[32m文件\u001b[0m\u001b[32m包\u001b[0m\u001b[32m含\u001b[0m\u001b[32m了\u001b[0m\u001b[32m销\u001b[0m\u001b[32m售\u001b[0m\u001b[32m日期\u001b[0m\u001b[32m这\u001b[0m\u001b[32m一\u001b[0m\u001b[32m列\u001b[0m\u001b[32m，\u001b[0m\u001b[32m这\u001b[0m\u001b[32m表示\u001b[0m\u001b[32m我\u001b[0m\u001b[32m可以\u001b[0m\u001b[32m用\u001b[0m\u001b[32m它\u001b[0m\u001b[32m来\u001b[0m\u001b[32m筛\u001b[0m\u001b[32m选\u001b[0m\u001b[32m9\u001b[0m\u001b[32m月\u001b[0m\u001b[32m份\u001b[0m\u001b[32m的\u001b[0m\u001b[32m数据\u001b[0m\u001b[32m。\n",
      "\u001b[0m\u001b[32m-\u001b[0m\u001b[32m \u001b[0m\u001b[32m为\u001b[0m\u001b[32m了\u001b[0m\u001b[32m计\u001b[0m\u001b[32m算\u001b[0m\u001b[32m9\u001b[0m\u001b[32m月\u001b[0m\u001b[32m份\u001b[0m\u001b[32m的\u001b[0m\u001b[32m销\u001b[0m\u001b[32m售\u001b[0m\u001b[32m额\u001b[0m\u001b[32m，\u001b[0m\u001b[32m需要\u001b[0m\u001b[32m对\u001b[0m\u001b[32m所有\u001b[0m\u001b[32m9\u001b[0m\u001b[32m月\u001b[0m\u001b[32m份\u001b[0m\u001b[32m的\u001b[0m\u001b[32m销\u001b[0m\u001b[32m售\u001b[0m\u001b[32m记录\u001b[0m\u001b[32m进行\u001b[0m\u001b[32m汇\u001b[0m\u001b[32m总\u001b[0m\u001b[32m。\n",
      "\u001b[0m\u001b[32m-\u001b[0m\u001b[32m 我\u001b[0m\u001b[32m会\u001b[0m\u001b[32m需要\u001b[0m\u001b[32m列\u001b[0m\u001b[32m名\u001b[0m\u001b[32m中\u001b[0m\u001b[32m的\u001b[0m\u001b[32m“\u001b[0m\u001b[32m销\u001b[0m\u001b[32m售\u001b[0m\u001b[32m量\u001b[0m\u001b[32m”\u001b[0m\u001b[32m和\u001b[0m\u001b[32m“\u001b[0m\u001b[32m单\u001b[0m\u001b[32m价\u001b[0m\u001b[32m(\u001b[0m\u001b[32m元\u001b[0m\u001b[32m)”\u001b[0m\u001b[32m来\u001b[0m\u001b[32m计\u001b[0m\u001b[32m算\u001b[0m\u001b[32m销\u001b[0m\u001b[32m售\u001b[0m\u001b[32m额\u001b[0m\u001b[32m\n",
      "\n",
      "\u001b[0m\u001b[32m思\u001b[0m\u001b[32m考\u001b[0m\u001b[32m:\n",
      "\u001b[0m\u001b[32m-\u001b[0m\u001b[32m 我\u001b[0m\u001b[32m需要\u001b[0m\u001b[32m将\u001b[0m\u001b[32m销\u001b[0m\u001b[32m售\u001b[0m\u001b[32m量\u001b[0m\u001b[32m与\u001b[0m\u001b[32m单\u001b[0m\u001b[32m价\u001b[0m\u001b[32m相\u001b[0m\u001b[32m乘\u001b[0m\u001b[32m以\u001b[0m\u001b[32m得\u001b[0m\u001b[32m到\u001b[0m\u001b[32m每\u001b[0m\u001b[32m项\u001b[0m\u001b[32m销\u001b[0m\u001b[32m售\u001b[0m\u001b[32m的\u001b[0m\u001b[32m总\u001b[0m\u001b[32m额\u001b[0m\u001b[32m，\u001b[0m\u001b[32m然\u001b[0m\u001b[32m后\u001b[0m\u001b[32m对\u001b[0m\u001b[32m所有\u001b[0m\u001b[32m9\u001b[0m\u001b[32m月\u001b[0m\u001b[32m份\u001b[0m\u001b[32m的\u001b[0m\u001b[32m销\u001b[0m\u001b[32m售\u001b[0m\u001b[32m进行\u001b[0m\u001b[32m求\u001b[0m\u001b[32m和\u001b[0m\u001b[32m。\n",
      "\n",
      "\u001b[0m\u001b[32m推\u001b[0m\u001b[32m理\u001b[0m\u001b[32m:\n",
      "\u001b[0m\u001b[32m-\u001b[0m\u001b[32m 要\u001b[0m\u001b[32m进行\u001b[0m\u001b[32m这\u001b[0m\u001b[32m样\u001b[0m\u001b[32m的\u001b[0m\u001b[32m计\u001b[0m\u001b[32m算\u001b[0m\u001b[32m，\u001b[0m\u001b[32m必\u001b[0m\u001b[32m须\u001b[0m\u001b[32m使用\u001b[0m\u001b[32mAnaly\u001b[0m\u001b[32mse\u001b[0m\u001b[32mExcel\u001b[0m\u001b[32m工\u001b[0m\u001b[32m具\u001b[0m\u001b[32m。\n",
      "\u001b[0m\u001b[32m-\u001b[0m\u001b[32m 需\u001b[0m\u001b[32m要\u001b[0m\u001b[32m提\u001b[0m\u001b[32m供\u001b[0m\u001b[32m完\u001b[0m\u001b[32m整\u001b[0m\u001b[32m的\u001b[0m\u001b[32mExcel\u001b[0m\u001b[32m文件\u001b[0m\u001b[32m路径\u001b[0m\u001b[32m、\u001b[0m\u001b[32m筛\u001b[0m\u001b[32m选\u001b[0m\u001b[32m9\u001b[0m\u001b[32m月\u001b[0m\u001b[32m份\u001b[0m\u001b[32m数据\u001b[0m\u001b[32m的\u001b[0m\u001b[32m条件\u001b[0m\u001b[32m以\u001b[0m\u001b[32m及\u001b[0m\u001b[32m需要\u001b[0m\u001b[32m执行\u001b[0m\u001b[32m的\u001b[0m\u001b[32m计\u001b[0m\u001b[32m算\u001b[0m\u001b[32m方式\u001b[0m\u001b[32m。\n",
      "\n",
      "\u001b[0m\u001b[32m计\u001b[0m\u001b[32m划\u001b[0m\u001b[32m:\n",
      "\u001b[0m\u001b[32m-\u001b[0m\u001b[32m 我\u001b[0m\u001b[32m将\u001b[0m\u001b[32m执行\u001b[0m\u001b[32mAnaly\u001b[0m\u001b[32mse\u001b[0m\u001b[32mExcel\u001b[0m\u001b[32m动\u001b[0m\u001b[32m作\u001b[0m\u001b[32m。\n",
      "\u001b[0m\u001b[32m-\u001b[0m\u001b[32m 文件\u001b[0m\u001b[32m路径\u001b[0m\u001b[32m为\u001b[0m\u001b[32m：“\u001b[0m\u001b[32m./\u001b[0m\u001b[32mdata\u001b[0m\u001b[32m/\u001b[0m\u001b[32maut\u001b[0m\u001b[32mog\u001b[0m\u001b[32mpt\u001b[0m\u001b[32m-demo\u001b[0m\u001b[32m/\u001b[0m\u001b[32m202\u001b[0m\u001b[32m3\u001b[0m\u001b[32m年\u001b[0m\u001b[32m8\u001b[0m\u001b[32m月\u001b[0m\u001b[32m-\u001b[0m\u001b[32m9\u001b[0m\u001b[32m月\u001b[0m\u001b[32m销\u001b[0m\u001b[32m售\u001b[0m\u001b[32m记录\u001b[0m\u001b[32m.xlsx\u001b[0m\u001b[32m”\u001b[0m\u001b[32m。\n",
      "\u001b[0m\u001b[32m-\u001b[0m\u001b[32m 我\u001b[0m\u001b[32m将\u001b[0m\u001b[32m计\u001b[0m\u001b[32m算\u001b[0m\u001b[32m筛\u001b[0m\u001b[32m选\u001b[0m\u001b[32m出\u001b[0m\u001b[32m销\u001b[0m\u001b[32m售\u001b[0m\u001b[32m日期\u001b[0m\u001b[32m在\u001b[0m\u001b[32m202\u001b[0m\u001b[32m3\u001b[0m\u001b[32m年\u001b[0m\u001b[32m9\u001b[0m\u001b[32m月\u001b[0m\u001b[32m1\u001b[0m\u001b[32m日\u001b[0m\u001b[32m到\u001b[0m\u001b[32m202\u001b[0m\u001b[32m3\u001b[0m\u001b[32m年\u001b[0m\u001b[32m9\u001b[0m\u001b[32m月\u001b[0m\u001b[32m30\u001b[0m\u001b[32m日\u001b[0m\u001b[32m范\u001b[0m\u001b[32m围\u001b[0m\u001b[32m内\u001b[0m\u001b[32m的\u001b[0m\u001b[32m所有\u001b[0m\u001b[32m记录\u001b[0m\u001b[32m的\u001b[0m\u001b[32m销\u001b[0m\u001b[32m售\u001b[0m\u001b[32m总\u001b[0m\u001b[32m额\u001b[0m\u001b[32m。\n",
      "\u001b[0m\u001b[32m-\u001b[0m\u001b[32m \u001b[0m\u001b[32m为\u001b[0m\u001b[32m此\u001b[0m\u001b[32m，\u001b[0m\u001b[32m我\u001b[0m\u001b[32m需要\u001b[0m\u001b[32m进行\u001b[0m\u001b[32m条件\u001b[0m\u001b[32m筛\u001b[0m\u001b[32m选\u001b[0m\u001b[32m和\u001b[0m\u001b[32m数据\u001b[0m\u001b[32m聚\u001b[0m\u001b[32m合\u001b[0m\u001b[32m。\n",
      "\n",
      "\u001b[0m\u001b[32m###\u001b[0m\u001b[32m 执行\u001b[0m\u001b[32m动\u001b[0m\u001b[32m作\u001b[0m\u001b[32m：\n",
      "\n",
      "\u001b[0m\u001b[32m```\u001b[0m\u001b[32mjson\u001b[0m\u001b[32m\n",
      "\u001b[0m\u001b[32m{\n",
      "\u001b[0m\u001b[32m \u001b[0m\u001b[32m \"\u001b[0m\u001b[32mname\u001b[0m\u001b[32m\":\u001b[0m\u001b[32m \"\u001b[0m\u001b[32mAnaly\u001b[0m\u001b[32mse\u001b[0m\u001b[32mExcel\u001b[0m\u001b[32m\",\n",
      "\u001b[0m\u001b[32m \u001b[0m\u001b[32m \"\u001b[0m\u001b[32margs\u001b[0m\u001b[32m\":\u001b[0m\u001b[32m {\n",
      "\u001b[0m\u001b[32m   \u001b[0m\u001b[32m \"\u001b[0m\u001b[32mquery\u001b[0m\u001b[32m\":\u001b[0m\u001b[32m \"\u001b[0m\u001b[32mSELECT\u001b[0m\u001b[32m SUM\u001b[0m\u001b[32m(`\u001b[0m\u001b[32m单\u001b[0m\u001b[32m价\u001b[0m\u001b[32m(\u001b[0m\u001b[32m元\u001b[0m\u001b[32m)`\u001b[0m\u001b[32m *\u001b[0m\u001b[32m `\u001b[0m\u001b[32m销\u001b[0m\u001b[32m售\u001b[0m\u001b[32m量\u001b[0m\u001b[32m`)\u001b[0m\u001b[32m FROM\u001b[0m\u001b[32m `\u001b[0m\u001b[32m202\u001b[0m\u001b[32m3\u001b[0m\u001b[32m年\u001b[0m\u001b[32m8\u001b[0m\u001b[32m月\u001b[0m\u001b[32m-\u001b[0m\u001b[32m9\u001b[0m\u001b[32m月\u001b[0m\u001b[32m销\u001b[0m\u001b[32m售\u001b[0m\u001b[32m记录\u001b[0m\u001b[32m`\u001b[0m\u001b[32m WHERE\u001b[0m\u001b[32m `\u001b[0m\u001b[32m销\u001b[0m\u001b[32m售\u001b[0m\u001b[32m日期\u001b[0m\u001b[32m`\u001b[0m\u001b[32m >=\u001b[0m\u001b[32m '\u001b[0m\u001b[32m202\u001b[0m\u001b[32m3\u001b[0m\u001b[32m-\u001b[0m\u001b[32m09\u001b[0m\u001b[32m-\u001b[0m\u001b[32m01\u001b[0m\u001b[32m'\u001b[0m\u001b[32m AND\u001b[0m\u001b[32m `\u001b[0m\u001b[32m销\u001b[0m\u001b[32m售\u001b[0m\u001b[32m日期\u001b[0m\u001b[32m`\u001b[0m\u001b[32m <=\u001b[0m\u001b[32m '\u001b[0m\u001b[32m202\u001b[0m\u001b[32m3\u001b[0m\u001b[32m-\u001b[0m\u001b[32m09\u001b[0m\u001b[32m-\u001b[0m\u001b[32m30\u001b[0m\u001b[32m'\",\n",
      "\u001b[0m\u001b[32m   \u001b[0m\u001b[32m \"\u001b[0m\u001b[32mfilename\u001b[0m\u001b[32m\":\u001b[0m\u001b[32m \"./\u001b[0m\u001b[32mdata\u001b[0m\u001b[32m/\u001b[0m\u001b[32maut\u001b[0m\u001b[32mog\u001b[0m\u001b[32mpt\u001b[0m\u001b[32m-demo\u001b[0m\u001b[32m/\u001b[0m\u001b[32m202\u001b[0m\u001b[32m3\u001b[0m\u001b[32m年\u001b[0m\u001b[32m8\u001b[0m\u001b[32m月\u001b[0m\u001b[32m-\u001b[0m\u001b[32m9\u001b[0m\u001b[32m月\u001b[0m\u001b[32m销\u001b[0m\u001b[32m售\u001b[0m\u001b[32m记录\u001b[0m\u001b[32m.xlsx\u001b[0m\u001b[32m\"\n",
      "\u001b[0m\u001b[32m \u001b[0m\u001b[32m }\n",
      "\u001b[0m\u001b[32m}\n",
      "\u001b[0m\u001b[32m```\u001b[0m\u001b[32m\u001b[0m"
     ]
    }
   ],
   "source": [
    "action, response = _step(short_term_memory)"
   ]
  },
  {
   "cell_type": "markdown",
   "id": "1d2b40f5-a88a-4397-9fca-c9212aa1ead0",
   "metadata": {},
   "source": [
    "#### step3：执行动作"
   ]
  },
  {
   "cell_type": "code",
   "execution_count": 75,
   "id": "2b43bb06-6503-46d0-a9fc-87eacf12306c",
   "metadata": {},
   "outputs": [
    {
     "name": "stdout",
     "output_type": "stream",
     "text": [
      "\u001b[34m\n",
      "#!/usr/bin/env python\u001b[0m\n",
      "\u001b[34mimport pandas as pd\n",
      "\n",
      "# 读取Excel文件\n",
      "df = pd.read_excel('./data/autogpt-demo/2023年8月-9月销售记录.xlsx', sheet_name='2023年8月-9月销售记录')\n",
      "\n",
      "# 确保销售日期为datetime类型\n",
      "df['销售日期'] = pd.to_datetime(df['销售日期'])\n",
      "\n",
      "# 设置日期范围\n",
      "start_date = pd.Timestamp('2023-09-01')\n",
      "end_date = pd.Timestamp('2023-09-30')\n",
      "\n",
      "# 过滤出符合日期范围的数据\n",
      "date_filtered_df = df[(df['销售日期'] >= start_date) & (df['销售日期'] <= end_date)]\n",
      "\n",
      "# 计算总销售额\n",
      "sales_sum = (date_filtered_df['单价(元)'] * date_filtered_df['销售量']).sum()\n",
      "\n",
      "# 输出结果\n",
      "print(f\"在2023年9月的销售总额是：{sales_sum}元\")\u001b[0m"
     ]
    },
    {
     "name": "stderr",
     "output_type": "stream",
     "text": [
      "Python REPL can execute arbitrary code. Use with caution.\n"
     ]
    },
    {
     "name": "stdout",
     "output_type": "stream",
     "text": [
      "\u001b[33m\n",
      "----\n",
      "结果:\n",
      "在2023年9月的销售总额是：2851099元\n",
      "\u001b[0m\n"
     ]
    }
   ],
   "source": [
    "observation = _exec_action(action)\n",
    "color_print(f\"\\n----\\n结果:\\n{observation}\", OBSERVATION_COLOR)"
   ]
  },
  {
   "cell_type": "markdown",
   "id": "7cccff78-3e4d-4d43-b9fe-68d55a91afd2",
   "metadata": {},
   "source": [
    "#### step3：记录结果"
   ]
  },
  {
   "cell_type": "code",
   "execution_count": 76,
   "id": "afb978a2-b759-4493-847f-6433ec6ce0aa",
   "metadata": {},
   "outputs": [],
   "source": [
    "short_term_memory.save_context(\n",
    "    {\"input\": response},\n",
    "    {\"output\": \"返回结果:\\n\" + observation}\n",
    ")"
   ]
  },
  {
   "cell_type": "markdown",
   "id": "c848d644-9c76-4505-8bc1-034e46085315",
   "metadata": {},
   "source": [
    "#### step4：规划行动"
   ]
  },
  {
   "cell_type": "code",
   "execution_count": 77,
   "id": "fdaeb1c7-9186-45b4-a240-f39ff8a32b05",
   "metadata": {},
   "outputs": [
    {
     "name": "stdout",
     "output_type": "stream",
     "text": [
      "\u001b[32m\u001b[0m\u001b[32m###\u001b[0m\u001b[32m 思\u001b[0m\u001b[32m考\u001b[0m\u001b[32m过\u001b[0m\u001b[32m程\u001b[0m\u001b[32m：\n",
      "\n",
      "\u001b[0m\u001b[32m关\u001b[0m\u001b[32m键\u001b[0m\u001b[32m概\u001b[0m\u001b[32m念\u001b[0m\u001b[32m:\u001b[0m\u001b[32m \u001b[0m\u001b[32m9\u001b[0m\u001b[32m月\u001b[0m\u001b[32m份\u001b[0m\u001b[32m的\u001b[0m\u001b[32m销\u001b[0m\u001b[32m售\u001b[0m\u001b[32m额\u001b[0m\u001b[32m -\u001b[0m\u001b[32m \u001b[0m\u001b[32m285\u001b[0m\u001b[32m109\u001b[0m\u001b[32m9\u001b[0m\u001b[32m元\u001b[0m\u001b[32m\n",
      "\n",
      "\u001b[0m\u001b[32m概\u001b[0m\u001b[32m念\u001b[0m\u001b[32m拆\u001b[0m\u001b[32m解\u001b[0m\u001b[32m:\n",
      "\u001b[0m\u001b[32m-\u001b[0m\u001b[32m 销\u001b[0m\u001b[32m售\u001b[0m\u001b[32m额\u001b[0m\u001b[32m:\u001b[0m\u001b[32m 某\u001b[0m\u001b[32m个\u001b[0m\u001b[32m时间\u001b[0m\u001b[32m段\u001b[0m\u001b[32m内\u001b[0m\u001b[32m完成\u001b[0m\u001b[32m销\u001b[0m\u001b[32m售\u001b[0m\u001b[32m的\u001b[0m\u001b[32m总\u001b[0m\u001b[32m金额\u001b[0m\u001b[32m\n",
      "\u001b[0m\u001b[32m-\u001b[0m\u001b[32m \u001b[0m\u001b[32m9\u001b[0m\u001b[32m月\u001b[0m\u001b[32m份\u001b[0m\u001b[32m:\u001b[0m\u001b[32m 表\u001b[0m\u001b[32m示\u001b[0m\u001b[32m查询\u001b[0m\u001b[32m的\u001b[0m\u001b[32m特\u001b[0m\u001b[32m定\u001b[0m\u001b[32m时间\u001b[0m\u001b[32m段\u001b[0m\u001b[32m范\u001b[0m\u001b[32m围\u001b[0m\u001b[32m\n",
      "\n",
      "\u001b[0m\u001b[32m反\u001b[0m\u001b[32m思\u001b[0m\u001b[32m:\n",
      "\u001b[0m\u001b[32m-\u001b[0m\u001b[32m 我\u001b[0m\u001b[32m已\u001b[0m\u001b[32m经\u001b[0m\u001b[32m使用\u001b[0m\u001b[32mAnaly\u001b[0m\u001b[32mse\u001b[0m\u001b[32mExcel\u001b[0m\u001b[32m工\u001b[0m\u001b[32m具\u001b[0m\u001b[32m计\u001b[0m\u001b[32m算\u001b[0m\u001b[32m出\u001b[0m\u001b[32m了\u001b[0m\u001b[32m9\u001b[0m\u001b[32m月\u001b[0m\u001b[32m份\u001b[0m\u001b[32m的\u001b[0m\u001b[32m销\u001b[0m\u001b[32m售\u001b[0m\u001b[32m总\u001b[0m\u001b[32m额\u001b[0m\u001b[32m。\n",
      "\u001b[0m\u001b[32m-\u001b[0m\u001b[32m 结\u001b[0m\u001b[32m果\u001b[0m\u001b[32m显示\u001b[0m\u001b[32m9\u001b[0m\u001b[32m月\u001b[0m\u001b[32m份\u001b[0m\u001b[32m的\u001b[0m\u001b[32m销\u001b[0m\u001b[32m售\u001b[0m\u001b[32m总\u001b[0m\u001b[32m额\u001b[0m\u001b[32m为\u001b[0m\u001b[32m285\u001b[0m\u001b[32m109\u001b[0m\u001b[32m9\u001b[0m\u001b[32m元\u001b[0m\u001b[32m，\u001b[0m\u001b[32m这\u001b[0m\u001b[32m个\u001b[0m\u001b[32m结果\u001b[0m\u001b[32m是\u001b[0m\u001b[32m基\u001b[0m\u001b[32m于\u001b[0m\u001b[32m“\u001b[0m\u001b[32m202\u001b[0m\u001b[32m3\u001b[0m\u001b[32m年\u001b[0m\u001b[32m8\u001b[0m\u001b[32m月\u001b[0m\u001b[32m-\u001b[0m\u001b[32m9\u001b[0m\u001b[32m月\u001b[0m\u001b[32m销\u001b[0m\u001b[32m售\u001b[0m\u001b[32m记录\u001b[0m\u001b[32m.xlsx\u001b[0m\u001b[32m”\u001b[0m\u001b[32m文件\u001b[0m\u001b[32m中\u001b[0m\u001b[32m的\u001b[0m\u001b[32m数据\u001b[0m\u001b[32m计\u001b[0m\u001b[32m算\u001b[0m\u001b[32m得\u001b[0m\u001b[32m出\u001b[0m\u001b[32m的\u001b[0m\u001b[32m。\n",
      "\u001b[0m\u001b[32m-\u001b[0m\u001b[32m 目\u001b[0m\u001b[32m前\u001b[0m\u001b[32m没有\u001b[0m\u001b[32m其他\u001b[0m\u001b[32m文件\u001b[0m\u001b[32m或\u001b[0m\u001b[32m数据\u001b[0m\u001b[32m源\u001b[0m\u001b[32m表\u001b[0m\u001b[32m明\u001b[0m\u001b[32m有\u001b[0m\u001b[32m关\u001b[0m\u001b[32m9\u001b[0m\u001b[32m月\u001b[0m\u001b[32m份\u001b[0m\u001b[32m销\u001b[0m\u001b[32m售\u001b[0m\u001b[32m额\u001b[0m\u001b[32m的\u001b[0m\u001b[32m信息\u001b[0m\u001b[32m，\u001b[0m\u001b[32m因\u001b[0m\u001b[32m此\u001b[0m\u001b[32m我\u001b[0m\u001b[32m可以\u001b[0m\u001b[32m认\u001b[0m\u001b[32m为\u001b[0m\u001b[32m这\u001b[0m\u001b[32m个\u001b[0m\u001b[32m结果\u001b[0m\u001b[32m是\u001b[0m\u001b[32m准\u001b[0m\u001b[32m确\u001b[0m\u001b[32m的\u001b[0m\u001b[32m。\n",
      "\n",
      "\u001b[0m\u001b[32m思\u001b[0m\u001b[32m考\u001b[0m\u001b[32m:\n",
      "\u001b[0m\u001b[32m-\u001b[0m\u001b[32m 我\u001b[0m\u001b[32m已\u001b[0m\u001b[32m经\u001b[0m\u001b[32m得\u001b[0m\u001b[32m到\u001b[0m\u001b[32m了\u001b[0m\u001b[32m9\u001b[0m\u001b[32m月\u001b[0m\u001b[32m份\u001b[0m\u001b[32m的\u001b[0m\u001b[32m销\u001b[0m\u001b[32m售\u001b[0m\u001b[32m额\u001b[0m\u001b[32m，\u001b[0m\u001b[32m这\u001b[0m\u001b[32m是\u001b[0m\u001b[32m本\u001b[0m\u001b[32m次\u001b[0m\u001b[32m任务\u001b[0m\u001b[32m的\u001b[0m\u001b[32m目\u001b[0m\u001b[32m标\u001b[0m\u001b[32m。\n",
      "\u001b[0m\u001b[32m-\u001b[0m\u001b[32m 根\u001b[0m\u001b[32m据\u001b[0m\u001b[32m任务\u001b[0m\u001b[32m指\u001b[0m\u001b[32m示\u001b[0m\u001b[32m，\u001b[0m\u001b[32m完成\u001b[0m\u001b[32m所有\u001b[0m\u001b[32m任务\u001b[0m\u001b[32m后\u001b[0m\u001b[32m应\u001b[0m\u001b[32m该\u001b[0m\u001b[32m使用\u001b[0m\u001b[32mFIN\u001b[0m\u001b[32mISH\u001b[0m\u001b[32m指\u001b[0m\u001b[32m令\u001b[0m\u001b[32m结束\u001b[0m\u001b[32m。\n",
      "\n",
      "\u001b[0m\u001b[32m推\u001b[0m\u001b[32m理\u001b[0m\u001b[32m:\n",
      "\u001b[0m\u001b[32m-\u001b[0m\u001b[32m \u001b[0m\u001b[32m由\u001b[0m\u001b[32m于\u001b[0m\u001b[32m我\u001b[0m\u001b[32m已\u001b[0m\u001b[32m经\u001b[0m\u001b[32m得\u001b[0m\u001b[32m到\u001b[0m\u001b[32m了\u001b[0m\u001b[32m9\u001b[0m\u001b[32m月\u001b[0m\u001b[32m份\u001b[0m\u001b[32m的\u001b[0m\u001b[32m销\u001b[0m\u001b[32m售\u001b[0m\u001b[32m额\u001b[0m\u001b[32m，并\u001b[0m\u001b[32m且\u001b[0m\u001b[32m没有\u001b[0m\u001b[32m其他\u001b[0m\u001b[32m任务\u001b[0m\u001b[32m需要\u001b[0m\u001b[32m执行\u001b[0m\u001b[32m，\u001b[0m\u001b[32m我\u001b[0m\u001b[32m应\u001b[0m\u001b[32m该\u001b[0m\u001b[32m使用\u001b[0m\u001b[32mFIN\u001b[0m\u001b[32mISH\u001b[0m\u001b[32m指\u001b[0m\u001b[32m令\u001b[0m\u001b[32m来\u001b[0m\u001b[32m结束\u001b[0m\u001b[32m任务\u001b[0m\u001b[32m。\n",
      "\n",
      "\u001b[0m\u001b[32m计\u001b[0m\u001b[32m划\u001b[0m\u001b[32m:\n",
      "\u001b[0m\u001b[32m-\u001b[0m\u001b[32m 我\u001b[0m\u001b[32m将\u001b[0m\u001b[32m执行\u001b[0m\u001b[32mFIN\u001b[0m\u001b[32mISH\u001b[0m\u001b[32m动\u001b[0m\u001b[32m作\u001b[0m\u001b[32m来\u001b[0m\u001b[32m结束\u001b[0m\u001b[32m任务\u001b[0m\u001b[32m。\n",
      "\n",
      "\u001b[0m\u001b[32m###\u001b[0m\u001b[32m 执行\u001b[0m\u001b[32m动\u001b[0m\u001b[32m作\u001b[0m\u001b[32m：\n",
      "\n",
      "\u001b[0m\u001b[32m```\u001b[0m\u001b[32mjson\u001b[0m\u001b[32m\n",
      "\u001b[0m\u001b[32m{\n",
      "\u001b[0m\u001b[32m \u001b[0m\u001b[32m \"\u001b[0m\u001b[32mname\u001b[0m\u001b[32m\":\u001b[0m\u001b[32m \"\u001b[0m\u001b[32mFIN\u001b[0m\u001b[32mISH\u001b[0m\u001b[32m\",\n",
      "\u001b[0m\u001b[32m \u001b[0m\u001b[32m \"\u001b[0m\u001b[32margs\u001b[0m\u001b[32m\":\u001b[0m\u001b[32m null\u001b[0m\u001b[32m\n",
      "\u001b[0m\u001b[32m}\n",
      "\u001b[0m\u001b[32m```\u001b[0m\u001b[32m\u001b[0m"
     ]
    }
   ],
   "source": [
    "action, response = _step(short_term_memory)"
   ]
  },
  {
   "cell_type": "markdown",
   "id": "9bb8e5c8-ffed-4a6b-b876-43a6208feb22",
   "metadata": {},
   "source": [
    "#### step4：捕获结果"
   ]
  },
  {
   "cell_type": "code",
   "execution_count": 82,
   "id": "e44bf30a-31ec-4b62-8341-fa8baa1ad825",
   "metadata": {},
   "outputs": [
    {
     "name": "stdout",
     "output_type": "stream",
     "text": [
      "name='FINISH' args=None\n"
     ]
    }
   ],
   "source": [
    "print(action)"
   ]
  },
  {
   "cell_type": "code",
   "execution_count": 83,
   "id": "9a32d2db-b449-40a8-9203-b5cf9cbd4716",
   "metadata": {},
   "outputs": [
    {
     "name": "stdout",
     "output_type": "stream",
     "text": [
      "\u001b[33m\n",
      "----\n",
      "FINISH\u001b[0m\n"
     ]
    }
   ],
   "source": [
    "reply = \"\"\n",
    "if action.name == \"FINISH\":\n",
    "    color_print(f\"\\n----\\nFINISH\", OBSERVATION_COLOR)\n",
    "    reply = _final_step(short_term_memory)"
   ]
  },
  {
   "cell_type": "code",
   "execution_count": 84,
   "id": "443f4f85-2452-490c-af6c-c701529a31bb",
   "metadata": {},
   "outputs": [
    {
     "name": "stdout",
     "output_type": "stream",
     "text": [
      "完成任务:\n",
      "\n",
      "9月份的销售额是 2,851,099 元。\n"
     ]
    }
   ],
   "source": [
    "print(reply)"
   ]
  },
  {
   "cell_type": "markdown",
   "id": "c235f802-7102-40b9-a49f-e5a7922368b5",
   "metadata": {},
   "source": [
    "## 在自定义循环中运行"
   ]
  },
  {
   "cell_type": "markdown",
   "id": "b7b75ed3-dc3f-438c-9914-956d30e116d8",
   "metadata": {},
   "source": [
    "### 实现循环框架"
   ]
  },
  {
   "cell_type": "code",
   "execution_count": 143,
   "id": "9b3a234e-07f6-4324-9a34-5a92e49ec4cd",
   "metadata": {},
   "outputs": [],
   "source": [
    "class AutoGPT:\n",
    "    def run(self, task_description):\n",
    "        print(\"等我询问GPT...\")\n",
    "        print(\"假装我经过复杂的计算过程...\")\n",
    "        print(\"FINISH\")\n",
    "        return \"这是我的结论\""
   ]
  },
  {
   "cell_type": "code",
   "execution_count": 144,
   "id": "2fa71b65-fd0a-48c9-be90-37e56a3f21c3",
   "metadata": {},
   "outputs": [],
   "source": [
    "def launch_agent():\n",
    "    human_icon = \"\\U0001F468\"\n",
    "    ai_icon = \"\\U0001F916\"\n",
    "\n",
    "    while True:\n",
    "        task = input(f\"{ai_icon}：有什么可以帮您？\\n{human_icon}：\")\n",
    "        if task.strip().lower() == \"quit\":\n",
    "            break\n",
    "        agent = AutoGPT()\n",
    "        reply = agent.run(task)\n",
    "        print(f\"{ai_icon}：{reply}\\n\")"
   ]
  },
  {
   "cell_type": "code",
   "execution_count": 145,
   "id": "07582284-6ae7-4ceb-b014-62a982e452b9",
   "metadata": {},
   "outputs": [],
   "source": [
    "agent = AutoGPT()"
   ]
  },
  {
   "cell_type": "code",
   "execution_count": 142,
   "id": "3f808037-1a94-4fd2-b11c-0a5c6fb0a8e9",
   "metadata": {},
   "outputs": [
    {
     "name": "stdin",
     "output_type": "stream",
     "text": [
      "🤖：有什么可以帮您？\n",
      "👨： hi\n"
     ]
    },
    {
     "name": "stdout",
     "output_type": "stream",
     "text": [
      "等我询问GPT...\n",
      "假装我经过复杂的计算过程...\n",
      "FINISH\n",
      "🤖：这是我的结论\n",
      "\n"
     ]
    },
    {
     "name": "stdin",
     "output_type": "stream",
     "text": [
      "🤖：有什么可以帮您？\n",
      "👨： 乐乐\n"
     ]
    },
    {
     "name": "stdout",
     "output_type": "stream",
     "text": [
      "等我询问GPT...\n",
      "假装我经过复杂的计算过程...\n",
      "FINISH\n",
      "🤖：这是我的结论\n",
      "\n"
     ]
    },
    {
     "name": "stdin",
     "output_type": "stream",
     "text": [
      "🤖：有什么可以帮您？\n",
      "👨： quit\n"
     ]
    }
   ],
   "source": [
    "launch_agent()"
   ]
  },
  {
   "cell_type": "markdown",
   "id": "8506ee64-03c4-48ad-b968-b5ccb3df241c",
   "metadata": {},
   "source": [
    "### 构建智能体"
   ]
  },
  {
   "cell_type": "markdown",
   "id": "bdae107d-6dfa-4c0c-8c01-65cdbb76e18c",
   "metadata": {},
   "source": [
    "#### 执行链"
   ]
  },
  {
   "cell_type": "code",
   "execution_count": 146,
   "id": "7c13e5c2-4e98-4328-93d9-078509e48b84",
   "metadata": {},
   "outputs": [],
   "source": [
    "from langchain_openai import ChatOpenAI\n",
    "from langchain.schema.output_parser import StrOutputParser\n",
    "from langchain.tools.render import render_text_description"
   ]
  },
  {
   "cell_type": "code",
   "execution_count": 147,
   "id": "8e534d84-a6d5-41c7-8502-447c5fb70d6f",
   "metadata": {},
   "outputs": [],
   "source": [
    "class AgentChain:\n",
    "    action_parser = _chinese_friendly(action_output_parser.get_format_instructions())\n",
    "\n",
    "    def __init__(self):\n",
    "        self.llm = ChatOpenAI(\n",
    "            model=\"gpt-4-1106-preview\",\n",
    "            temperature=0,\n",
    "            model_kwargs={\n",
    "                \"seed\": 42\n",
    "            },\n",
    "        )\n",
    "\n",
    "    def get_reason_chain(self, task):\n",
    "        prompt = main_prompt.partial(task_description=task, format_instructions=action_parser)\n",
    "        reason_chain = prompt | self.llm | StrOutputParser()\n",
    "        return reason_chain\n",
    "\n",
    "    def get_final_chain(self, task):\n",
    "        prompt = final_prompt.partial(task_description=task)\n",
    "        final_chain = prompt | self.llm | StrOutputParser()\n",
    "        return final_chain"
   ]
  },
  {
   "cell_type": "markdown",
   "id": "09959fe9-55e5-44a7-b10c-2becf8c2d814",
   "metadata": {},
   "source": [
    "#### 记忆体"
   ]
  },
  {
   "cell_type": "code",
   "execution_count": 148,
   "id": "feb53b34-ea98-4cd5-bc11-8fd761045e05",
   "metadata": {},
   "outputs": [],
   "source": [
    "from langchain.memory.chat_memory import BaseChatMemory\n",
    "from langchain.memory import ConversationTokenBufferMemory\n",
    "\n",
    "class AgentMemory:\n",
    "    # AgentMemory所需要的 LLM 仅用于计算token，并不用于生成\n",
    "    def __init__(self, llm = ChatOpenAI()):        \n",
    "        # 构造一个基于Token缓存的记忆体\n",
    "        self.memory = ConversationTokenBufferMemory(\n",
    "            llm=llm,\n",
    "            max_token_limit=4000,\n",
    "        )\n",
    "        \n",
    "        # 初始化短时记忆\n",
    "        self.memory.save_context(\n",
    "            {\"input\": \"\\n初始化\"},\n",
    "            {\"output\": \"\\n开始\"}\n",
    "        )\n",
    "\n",
    "    # 保存记忆\n",
    "    def save(self, input, output):\n",
    "        self.memory.save_context(input, output)\n",
    "\n",
    "    # 提取记忆\n",
    "    def load(self) -> str:\n",
    "        messages = self.memory.chat_memory.messages\n",
    "        string_messages = [messages[i].content for i in range(1,len(messages))]\n",
    "        return \"\\n\".join(string_messages)"
   ]
  },
  {
   "cell_type": "markdown",
   "id": "67fdb1d7-cea2-47f0-b7fb-1b67bb329e22",
   "metadata": {},
   "source": [
    "#### 智能体"
   ]
  },
  {
   "cell_type": "code",
   "execution_count": 149,
   "id": "b538e1b8-502f-4e5e-b9ab-c0e9da8eb4b2",
   "metadata": {},
   "outputs": [],
   "source": [
    "class AutoGPT():\n",
    "    def __init__(self):\n",
    "        # 最大思考步骤数\n",
    "        self.max_thought_steps = 10\n",
    "        # 链\n",
    "        self.chain = AgentChain()\n",
    "        # 记忆体\n",
    "        self.short_memory = AgentMemory()\n",
    "\n",
    "    def _step(self, task):\n",
    "        # 输出LLM结果\n",
    "        response = \"\"\n",
    "        chain = self.chain.get_reason_chain(task)\n",
    "        for s in chain.stream({\n",
    "            \"short_term_memory\": self.short_memory.load(),\n",
    "            \"long_term_memory\": \"\",\n",
    "            \"tools\": render_text_description(tools)\n",
    "        }):\n",
    "            color_print(s, THOUGHT_COLOR, end=\"\")\n",
    "            response += s\n",
    "    \n",
    "        # 输出Action\n",
    "        action = action_output_parser.parse(response)\n",
    "        \n",
    "        return action, response\n",
    "\n",
    "    def _final_step(self, task) -> str:\n",
    "        \"\"\"最后一步, 生成最终的输出\"\"\"\n",
    "        chain = self.chain.get_final_chain(task)\n",
    "        response = chain.invoke({\n",
    "            \"short_term_memory\": self.short_memory.load()\n",
    "        })\n",
    "        return response\n",
    "        \n",
    "    def run(self, task_description):\n",
    "        # 实际思考步骤数\n",
    "        thought_step_count = 0\n",
    "\n",
    "        # 结论\n",
    "        reply = \"\"\n",
    "\n",
    "        # 思考循环\n",
    "        while thought_step_count < self.max_thought_steps:\n",
    "            # 规划行动\n",
    "            action, response = self._step(task_description)\n",
    "\n",
    "            # 捕获结果\n",
    "            if action.name == \"FINISH\":\n",
    "                # 如果返回的动作是 FINISH 就中断循环\n",
    "                color_print(f\"\\n----\\nFINISH\", OBSERVATION_COLOR)\n",
    "                reply = self._final_step(task_description)\n",
    "                break\n",
    "            else:\n",
    "                # 否则执行动作中指定的工具\n",
    "                observation = _exec_action(action)\n",
    "                color_print(f\"\\n----\\n结果:\\n{observation}\", OBSERVATION_COLOR)\n",
    "                \n",
    "                # 记录结果\n",
    "                self.short_memory.save(\n",
    "                    {\"input\": response},\n",
    "                    {\"output\": \"返回结果:\\n\" + observation}\n",
    "                )\n",
    "\n",
    "                # 累加思考步骤数\n",
    "                thought_step_count += 1\n",
    "\n",
    "        # 处理无法得出结论的情况\n",
    "        if not reply:\n",
    "            reply = \"抱歉，我没能完成您的任务。\"\n",
    "            \n",
    "        # 返回结论\n",
    "        return reply"
   ]
  },
  {
   "cell_type": "markdown",
   "id": "261c00a3-e648-4afc-a9d3-b38766259fc7",
   "metadata": {},
   "source": [
    "#### 运行"
   ]
  },
  {
   "cell_type": "code",
   "execution_count": 151,
   "id": "c94e0713-6328-4b5d-b236-cad616155b2e",
   "metadata": {},
   "outputs": [
    {
     "name": "stdin",
     "output_type": "stream",
     "text": [
      "🤖：有什么可以帮您？\n",
      "👨： hi\n"
     ]
    },
    {
     "name": "stdout",
     "output_type": "stream",
     "text": [
      "\u001b[32m\u001b[0m\u001b[32m###\u001b[0m\u001b[32m 思\u001b[0m\u001b[32m考\u001b[0m\u001b[32m过\u001b[0m\u001b[32m程\u001b[0m\u001b[32m:\n",
      "\n",
      "\u001b[0m\u001b[32m关\u001b[0m\u001b[32m键\u001b[0m\u001b[32m概\u001b[0m\u001b[32m念\u001b[0m\u001b[32m:\u001b[0m\u001b[32m \u001b[0m\u001b[32m任务\u001b[0m\u001b[32m状态\u001b[0m\u001b[32m -\u001b[0m\u001b[32m \u001b[0m\u001b[32m无\u001b[0m\u001b[32m明\u001b[0m\u001b[32m确\u001b[0m\u001b[32m任务\u001b[0m\u001b[32m描述\u001b[0m\u001b[32m，\u001b[0m\u001b[32m需要\u001b[0m\u001b[32m确认\u001b[0m\u001b[32m是否\u001b[0m\u001b[32m有\u001b[0m\u001b[32m任务\u001b[0m\u001b[32m需要\u001b[0m\u001b[32m执行\u001b[0m\u001b[32m。\n",
      "\n",
      "\u001b[0m\u001b[32m概\u001b[0m\u001b[32m念\u001b[0m\u001b[32m拆\u001b[0m\u001b[32m解\u001b[0m\u001b[32m:\n",
      "\u001b[0m\u001b[32m-\u001b[0m\u001b[32m \u001b[0m\u001b[32m任务\u001b[0m\u001b[32m状态\u001b[0m\u001b[32m:\u001b[0m\u001b[32m 是否\u001b[0m\u001b[32m存在\u001b[0m\u001b[32m未\u001b[0m\u001b[32m完成\u001b[0m\u001b[32m的\u001b[0m\u001b[32m任务\u001b[0m\u001b[32m。\n",
      "\n",
      "\u001b[0m\u001b[32m反\u001b[0m\u001b[32m思\u001b[0m\u001b[32m:\n",
      "\u001b[0m\u001b[32m-\u001b[0m\u001b[32m \u001b[0m\u001b[32m之\u001b[0m\u001b[32m前\u001b[0m\u001b[32m的\u001b[0m\u001b[32m执行\u001b[0m\u001b[32m记录\u001b[0m\u001b[32m显示\u001b[0m\u001b[32m任务\u001b[0m\u001b[32m开始\u001b[0m\u001b[32m，\u001b[0m\u001b[32m但\u001b[0m\u001b[32m没有\u001b[0m\u001b[32m具\u001b[0m\u001b[32m体\u001b[0m\u001b[32m的\u001b[0m\u001b[32m任务\u001b[0m\u001b[32m描述\u001b[0m\u001b[32m。\n",
      "\u001b[0m\u001b[32m-\u001b[0m\u001b[32m 目\u001b[0m\u001b[32m前\u001b[0m\u001b[32m没有\u001b[0m\u001b[32m得\u001b[0m\u001b[32m到\u001b[0m\u001b[32m任\u001b[0m\u001b[32m何\u001b[0m\u001b[32m具\u001b[0m\u001b[32m体\u001b[0m\u001b[32m任务\u001b[0m\u001b[32m的\u001b[0m\u001b[32m信息\u001b[0m\u001b[32m。\n",
      "\u001b[0m\u001b[32m-\u001b[0m\u001b[32m \u001b[0m\u001b[32m从\u001b[0m\u001b[32m当前\u001b[0m\u001b[32m的\u001b[0m\u001b[32m信息\u001b[0m\u001b[32m中\u001b[0m\u001b[32m不能\u001b[0m\u001b[32m确定\u001b[0m\u001b[32m是否\u001b[0m\u001b[32m存在\u001b[0m\u001b[32m未\u001b[0m\u001b[32m完成\u001b[0m\u001b[32m的\u001b[0m\u001b[32m任务\u001b[0m\u001b[32m。\n",
      "\n",
      "\u001b[0m\u001b[32m思\u001b[0m\u001b[32m考\u001b[0m\u001b[32m:\n",
      "\u001b[0m\u001b[32m-\u001b[0m\u001b[32m 需\u001b[0m\u001b[32m要\u001b[0m\u001b[32m检\u001b[0m\u001b[32m查\u001b[0m\u001b[32m是否\u001b[0m\u001b[32m有\u001b[0m\u001b[32m未\u001b[0m\u001b[32m完成\u001b[0m\u001b[32m的\u001b[0m\u001b[32m任务\u001b[0m\u001b[32m，\u001b[0m\u001b[32m或\u001b[0m\u001b[32m者\u001b[0m\u001b[32m任务\u001b[0m\u001b[32m是否\u001b[0m\u001b[32m已\u001b[0m\u001b[32m经\u001b[0m\u001b[32m结束\u001b[0m\u001b[32m。\n",
      "\u001b[0m\u001b[32m-\u001b[0m\u001b[32m 如果\u001b[0m\u001b[32m任务\u001b[0m\u001b[32m已\u001b[0m\u001b[32m经\u001b[0m\u001b[32m结束\u001b[0m\u001b[32m，\u001b[0m\u001b[32m应\u001b[0m\u001b[32m该\u001b[0m\u001b[32m使用\u001b[0m\u001b[32mFIN\u001b[0m\u001b[32mISH\u001b[0m\u001b[32m指\u001b[0m\u001b[32m令\u001b[0m\u001b[32m来\u001b[0m\u001b[32m结束\u001b[0m\u001b[32m任务\u001b[0m\u001b[32m。\n",
      "\u001b[0m\u001b[32m-\u001b[0m\u001b[32m 检\u001b[0m\u001b[32m查\u001b[0m\u001b[32m任务\u001b[0m\u001b[32m状态\u001b[0m\u001b[32m的\u001b[0m\u001b[32m最\u001b[0m\u001b[32m佳\u001b[0m\u001b[32m方式\u001b[0m\u001b[32m是\u001b[0m\u001b[32m查\u001b[0m\u001b[32m看\u001b[0m\u001b[32m任务\u001b[0m\u001b[32m执行\u001b[0m\u001b[32m记录\u001b[0m\u001b[32m或\u001b[0m\u001b[32m相关\u001b[0m\u001b[32m文件\u001b[0m\u001b[32m。\n",
      "\n",
      "\u001b[0m\u001b[32m推\u001b[0m\u001b[32m理\u001b[0m\u001b[32m:\n",
      "\u001b[0m\u001b[32m-\u001b[0m\u001b[32m \u001b[0m\u001b[32m由\u001b[0m\u001b[32m于\u001b[0m\u001b[32m没有\u001b[0m\u001b[32m具\u001b[0m\u001b[32m体\u001b[0m\u001b[32m的\u001b[0m\u001b[32m任务\u001b[0m\u001b[32m描述\u001b[0m\u001b[32m，\u001b[0m\u001b[32m可以\u001b[0m\u001b[32m假\u001b[0m\u001b[32m设\u001b[0m\u001b[32m任务\u001b[0m\u001b[32m可能\u001b[0m\u001b[32m已\u001b[0m\u001b[32m经\u001b[0m\u001b[32m结束\u001b[0m\u001b[32m。\n",
      "\u001b[0m\u001b[32m-\u001b[0m\u001b[32m \u001b[0m\u001b[32m为\u001b[0m\u001b[32m了\u001b[0m\u001b[32m确认\u001b[0m\u001b[32m任务\u001b[0m\u001b[32m状态\u001b[0m\u001b[32m，\u001b[0m\u001b[32m应\u001b[0m\u001b[32m该\u001b[0m\u001b[32m检\u001b[0m\u001b[32m查\u001b[0m\u001b[32m任务\u001b[0m\u001b[32m执行\u001b[0m\u001b[32m记录\u001b[0m\u001b[32m。\n",
      "\n",
      "\u001b[0m\u001b[32m计\u001b[0m\u001b[32m划\u001b[0m\u001b[32m:\n",
      "\u001b[0m\u001b[32m-\u001b[0m\u001b[32m 执行\u001b[0m\u001b[32mList\u001b[0m\u001b[32mDirectory\u001b[0m\u001b[32m动\u001b[0m\u001b[32m作\u001b[0m\u001b[32m，\u001b[0m\u001b[32m查\u001b[0m\u001b[32m看\u001b[0m\u001b[32m目\u001b[0m\u001b[32m录\u001b[0m\u001b[32m./\u001b[0m\u001b[32mdata\u001b[0m\u001b[32m/\u001b[0m\u001b[32maut\u001b[0m\u001b[32mog\u001b[0m\u001b[32mpt\u001b[0m\u001b[32m-demo\u001b[0m\u001b[32m中\u001b[0m\u001b[32m是否\u001b[0m\u001b[32m有\u001b[0m\u001b[32m文件\u001b[0m\u001b[32m，\u001b[0m\u001b[32m这\u001b[0m\u001b[32m可能\u001b[0m\u001b[32m包\u001b[0m\u001b[32m含\u001b[0m\u001b[32m任务\u001b[0m\u001b[32m执行\u001b[0m\u001b[32m记录\u001b[0m\u001b[32m或\u001b[0m\u001b[32m相关\u001b[0m\u001b[32m信息\u001b[0m\u001b[32m。\n",
      "\n",
      "\u001b[0m\u001b[32m###\u001b[0m\u001b[32m 执行\u001b[0m\u001b[32m动\u001b[0m\u001b[32m作\u001b[0m\u001b[32m:\n",
      "\n",
      "\u001b[0m\u001b[32m```\u001b[0m\u001b[32mjson\u001b[0m\u001b[32m\n",
      "\u001b[0m\u001b[32m{\n",
      "\u001b[0m\u001b[32m \u001b[0m\u001b[32m \"\u001b[0m\u001b[32mname\u001b[0m\u001b[32m\":\u001b[0m\u001b[32m \"\u001b[0m\u001b[32mList\u001b[0m\u001b[32mDirectory\u001b[0m\u001b[32m\",\n",
      "\u001b[0m\u001b[32m \u001b[0m\u001b[32m \"\u001b[0m\u001b[32margs\u001b[0m\u001b[32m\":\u001b[0m\u001b[32m {\n",
      "\u001b[0m\u001b[32m   \u001b[0m\u001b[32m \"\u001b[0m\u001b[32mpath\u001b[0m\u001b[32m\":\u001b[0m\u001b[32m \"./\u001b[0m\u001b[32mdata\u001b[0m\u001b[32m/\u001b[0m\u001b[32maut\u001b[0m\u001b[32mog\u001b[0m\u001b[32mpt\u001b[0m\u001b[32m-demo\u001b[0m\u001b[32m\"\n",
      "\u001b[0m\u001b[32m \u001b[0m\u001b[32m }\n",
      "\u001b[0m\u001b[32m}\n",
      "\u001b[0m\u001b[32m```\u001b[0m\u001b[32m\u001b[0m\u001b[33m\n",
      "----\n",
      "结果:\n",
      ".DS_Store\n",
      "2023年8月-9月销售记录.xlsx\n",
      "供应商名录.xlsx\n",
      "求职简历.docx\n",
      "供应商资格要求.pdf\u001b[0m\n",
      "\u001b[32m\u001b[0m\u001b[32m###\u001b[0m\u001b[32m 思\u001b[0m\u001b[32m考\u001b[0m\u001b[32m过\u001b[0m\u001b[32m程\u001b[0m\u001b[32m:\n",
      "\n",
      "\u001b[0m\u001b[32m关\u001b[0m\u001b[32m键\u001b[0m\u001b[32m概\u001b[0m\u001b[32m念\u001b[0m\u001b[32m:\u001b[0m\u001b[32m \u001b[0m\u001b[32m任务\u001b[0m\u001b[32m状态\u001b[0m\u001b[32m -\u001b[0m\u001b[32m 目\u001b[0m\u001b[32m前\u001b[0m\u001b[32m无\u001b[0m\u001b[32m明\u001b[0m\u001b[32m确\u001b[0m\u001b[32m任务\u001b[0m\u001b[32m描述\u001b[0m\u001b[32m，\u001b[0m\u001b[32m需要\u001b[0m\u001b[32m确定\u001b[0m\u001b[32m任务\u001b[0m\u001b[32m状态\u001b[0m\u001b[32m。\n",
      "\n",
      "\u001b[0m\u001b[32m概\u001b[0m\u001b[32m念\u001b[0m\u001b[32m拆\u001b[0m\u001b[32m解\u001b[0m\u001b[32m:\n",
      "\u001b[0m\u001b[32m-\u001b[0m\u001b[32m \u001b[0m\u001b[32m任务\u001b[0m\u001b[32m状态\u001b[0m\u001b[32m:\u001b[0m\u001b[32m 表\u001b[0m\u001b[32m示\u001b[0m\u001b[32m当前\u001b[0m\u001b[32m是否\u001b[0m\u001b[32m有\u001b[0m\u001b[32m任务\u001b[0m\u001b[32m需要\u001b[0m\u001b[32m进行\u001b[0m\u001b[32m。\n",
      "\u001b[0m\u001b[32m  \u001b[0m\u001b[32m -\u001b[0m\u001b[32m 是否\u001b[0m\u001b[32m存在\u001b[0m\u001b[32m未\u001b[0m\u001b[32m完成\u001b[0m\u001b[32m的\u001b[0m\u001b[32m任务\u001b[0m\u001b[32m\n",
      "\u001b[0m\u001b[32m  \u001b[0m\u001b[32m -\u001b[0m\u001b[32m \u001b[0m\u001b[32m任务\u001b[0m\u001b[32m是否\u001b[0m\u001b[32m已\u001b[0m\u001b[32m经\u001b[0m\u001b[32m结束\u001b[0m\u001b[32m\n",
      "\n",
      "\u001b[0m\u001b[32m反\u001b[0m\u001b[32m思\u001b[0m\u001b[32m:\n",
      "\u001b[0m\u001b[32m-\u001b[0m\u001b[32m List\u001b[0m\u001b[32mDirectory\u001b[0m\u001b[32m动\u001b[0m\u001b[32m作\u001b[0m\u001b[32m已\u001b[0m\u001b[32m经\u001b[0m\u001b[32m执行\u001b[0m\u001b[32m，\u001b[0m\u001b[32m发\u001b[0m\u001b[32m现\u001b[0m\u001b[32m了\u001b[0m\u001b[32m目\u001b[0m\u001b[32m录\u001b[0m\u001b[32m下\u001b[0m\u001b[32m的\u001b[0m\u001b[32m文件\u001b[0m\u001b[32m清\u001b[0m\u001b[32m单\u001b[0m\u001b[32m。\n",
      "\u001b[0m\u001b[32m-\u001b[0m\u001b[32m 执行\u001b[0m\u001b[32m记录\u001b[0m\u001b[32m中\u001b[0m\u001b[32m没有\u001b[0m\u001b[32m特\u001b[0m\u001b[32m定\u001b[0m\u001b[32m的\u001b[0m\u001b[32m任务\u001b[0m\u001b[32m描述\u001b[0m\u001b[32m。\n",
      "\u001b[0m\u001b[32m-\u001b[0m\u001b[32m 目\u001b[0m\u001b[32m前\u001b[0m\u001b[32m没有\u001b[0m\u001b[32m任\u001b[0m\u001b[32m何\u001b[0m\u001b[32m直\u001b[0m\u001b[32m接\u001b[0m\u001b[32m信息\u001b[0m\u001b[32m表\u001b[0m\u001b[32m明\u001b[0m\u001b[32m存在\u001b[0m\u001b[32m未\u001b[0m\u001b[32m完成\u001b[0m\u001b[32m的\u001b[0m\u001b[32m任务\u001b[0m\u001b[32m。\n",
      "\u001b[0m\u001b[32m-\u001b[0m\u001b[32m 目\u001b[0m\u001b[32m录\u001b[0m\u001b[32m下\u001b[0m\u001b[32m文件\u001b[0m\u001b[32m清\u001b[0m\u001b[32m单\u001b[0m\u001b[32m没有\u001b[0m\u001b[32m提\u001b[0m\u001b[32m供\u001b[0m\u001b[32m具\u001b[0m\u001b[32m体\u001b[0m\u001b[32m的\u001b[0m\u001b[32m任务\u001b[0m\u001b[32m信息\u001b[0m\u001b[32m。\n",
      "\n",
      "\u001b[0m\u001b[32m思\u001b[0m\u001b[32m考\u001b[0m\u001b[32m:\n",
      "\u001b[0m\u001b[32m-\u001b[0m\u001b[32m 文件\u001b[0m\u001b[32m清\u001b[0m\u001b[32m单\u001b[0m\u001b[32m本\u001b[0m\u001b[32m身\u001b[0m\u001b[32m仅\u001b[0m\u001b[32m提\u001b[0m\u001b[32m供\u001b[0m\u001b[32m了\u001b[0m\u001b[32m存在\u001b[0m\u001b[32m哪\u001b[0m\u001b[32m些\u001b[0m\u001b[32m文件\u001b[0m\u001b[32m，\u001b[0m\u001b[32m没有\u001b[0m\u001b[32m提\u001b[0m\u001b[32m供\u001b[0m\u001b[32m这\u001b[0m\u001b[32m些\u001b[0m\u001b[32m文件\u001b[0m\u001b[32m内容\u001b[0m\u001b[32m的\u001b[0m\u001b[32m具\u001b[0m\u001b[32m体\u001b[0m\u001b[32m信息\u001b[0m\u001b[32m。\n",
      "\u001b[0m\u001b[32m-\u001b[0m\u001b[32m 如果\u001b[0m\u001b[32m存在\u001b[0m\u001b[32m未\u001b[0m\u001b[32m完成\u001b[0m\u001b[32m的\u001b[0m\u001b[32m任务\u001b[0m\u001b[32m，\u001b[0m\u001b[32m它\u001b[0m\u001b[32m可能\u001b[0m\u001b[32m与\u001b[0m\u001b[32m这\u001b[0m\u001b[32m些\u001b[0m\u001b[32m文件\u001b[0m\u001b[32m相关\u001b[0m\u001b[32m。\u001b[0m\u001b[32m但\u001b[0m\u001b[32m没有\u001b[0m\u001b[32m直\u001b[0m\u001b[32m接\u001b[0m\u001b[32m依\u001b[0m\u001b[32m据\u001b[0m\u001b[32m表\u001b[0m\u001b[32m明\u001b[0m\u001b[32m任务\u001b[0m\u001b[32m存在\u001b[0m\u001b[32m。\n",
      "\u001b[0m\u001b[32m-\u001b[0m\u001b[32m \u001b[0m\u001b[32m从\u001b[0m\u001b[32m文件\u001b[0m\u001b[32m清\u001b[0m\u001b[32m单\u001b[0m\u001b[32m中\u001b[0m\u001b[32m无\u001b[0m\u001b[32m法\u001b[0m\u001b[32m直\u001b[0m\u001b[32m接\u001b[0m\u001b[32m得\u001b[0m\u001b[32m知\u001b[0m\u001b[32m是否\u001b[0m\u001b[32m有\u001b[0m\u001b[32m未\u001b[0m\u001b[32m完成\u001b[0m\u001b[32m的\u001b[0m\u001b[32m任务\u001b[0m\u001b[32m。\n",
      "\n",
      "\u001b[0m\u001b[32m推\u001b[0m\u001b[32m理\u001b[0m\u001b[32m:\n",
      "\u001b[0m\u001b[32m-\u001b[0m\u001b[32m \u001b[0m\u001b[32m任务\u001b[0m\u001b[32m执行\u001b[0m\u001b[32m记录\u001b[0m\u001b[32m不\u001b[0m\u001b[32m提\u001b[0m\u001b[32m供\u001b[0m\u001b[32m具\u001b[0m\u001b[32m体\u001b[0m\u001b[32m任务\u001b[0m\u001b[32m的\u001b[0m\u001b[32m信息\u001b[0m\u001b[32m。\n",
      "\u001b[0m\u001b[32m-\u001b[0m\u001b[32m 提\u001b[0m\u001b[32m供\u001b[0m\u001b[32m的\u001b[0m\u001b[32m文件\u001b[0m\u001b[32m清\u001b[0m\u001b[32m单\u001b[0m\u001b[32m是\u001b[0m\u001b[32m当前\u001b[0m\u001b[32m可\u001b[0m\u001b[32m用\u001b[0m\u001b[32m的\u001b[0m\u001b[32m信息\u001b[0m\u001b[32m源\u001b[0m\u001b[32m。\n",
      "\u001b[0m\u001b[32m-\u001b[0m\u001b[32m 如果\u001b[0m\u001b[32m没有\u001b[0m\u001b[32m任务\u001b[0m\u001b[32m描述\u001b[0m\u001b[32m，\u001b[0m\u001b[32m考\u001b[0m\u001b[32m虑\u001b[0m\u001b[32m使用\u001b[0m\u001b[32mFIN\u001b[0m\u001b[32mISH\u001b[0m\u001b[32m动\u001b[0m\u001b[32m作\u001b[0m\u001b[32m以\u001b[0m\u001b[32m满\u001b[0m\u001b[32m足\u001b[0m\u001b[32m指\u001b[0m\u001b[32m令\u001b[0m\u001b[32m要\u001b[0m\u001b[32m求\u001b[0m\u001b[32m。\n",
      "\n",
      "\u001b[0m\u001b[32m计\u001b[0m\u001b[32m划\u001b[0m\u001b[32m:\n",
      "\u001b[0m\u001b[32m-\u001b[0m\u001b[32m 目\u001b[0m\u001b[32m前\u001b[0m\u001b[32m没有\u001b[0m\u001b[32m进\u001b[0m\u001b[32m一\u001b[0m\u001b[32m步\u001b[0m\u001b[32m的\u001b[0m\u001b[32m执行\u001b[0m\u001b[32m动\u001b[0m\u001b[32m作\u001b[0m\u001b[32m计\u001b[0m\u001b[32m划\u001b[0m\u001b[32m。\n",
      "\u001b[0m\u001b[32m-\u001b[0m\u001b[32m 将\u001b[0m\u001b[32m使用\u001b[0m\u001b[32mFIN\u001b[0m\u001b[32mISH\u001b[0m\u001b[32m指\u001b[0m\u001b[32m令\u001b[0m\u001b[32m结束\u001b[0m\u001b[32m任务\u001b[0m\u001b[32m。\n",
      "\n",
      "\u001b[0m\u001b[32m###\u001b[0m\u001b[32m 执行\u001b[0m\u001b[32m动\u001b[0m\u001b[32m作\u001b[0m\u001b[32m:\n",
      "\n",
      "\u001b[0m\u001b[32m```\u001b[0m\u001b[32mjson\u001b[0m\u001b[32m\n",
      "\u001b[0m\u001b[32m{\n",
      "\u001b[0m\u001b[32m \u001b[0m\u001b[32m \"\u001b[0m\u001b[32mname\u001b[0m\u001b[32m\":\u001b[0m\u001b[32m \"\u001b[0m\u001b[32mFIN\u001b[0m\u001b[32mISH\u001b[0m\u001b[32m\",\n",
      "\u001b[0m\u001b[32m \u001b[0m\u001b[32m \"\u001b[0m\u001b[32margs\u001b[0m\u001b[32m\":\u001b[0m\u001b[32m null\u001b[0m\u001b[32m\n",
      "\u001b[0m\u001b[32m}\n",
      "\u001b[0m\u001b[32m```\u001b[0m\u001b[32m\u001b[0m\u001b[33m\n",
      "----\n",
      "FINISH\u001b[0m\n",
      "🤖：你好！\n",
      "\n",
      "根据我之前的思考过程，我已经完成了检查任务状态的任务。我执行了一个假设的动作来列出一个目录中的文件，以查找可能包含任务执行记录或相关信息的文件。返回结果显示了几个文件，但这些文件并不直接表明有未完成的任务。\n",
      "\n",
      "我的最终答案是：目前没有明确的证据表明存在未完成的任务。如果你有任何具体的任务需要我帮助完成，请提供详细信息，我将乐意协助。\n",
      "\n"
     ]
    },
    {
     "name": "stdin",
     "output_type": "stream",
     "text": [
      "🤖：有什么可以帮您？\n",
      "👨： quit\n"
     ]
    }
   ],
   "source": [
    "launch_agent()"
   ]
  },
  {
   "cell_type": "markdown",
   "id": "b545bc1d-64e1-41ff-8938-fafdf4abfd35",
   "metadata": {},
   "source": [
    "### 长期记忆"
   ]
  },
  {
   "cell_type": "code",
   "execution_count": null,
   "id": "46c53911-c212-4fe6-a6e3-8fd6323ed798",
   "metadata": {},
   "outputs": [],
   "source": [
    "from langchain.memory.chat_memory import BaseChatMemory\n",
    "def _format_long_term_memory(task_description: str, memory: BaseChatMemory) -> str:\n",
    "    return memory.load_memory_variables(\n",
    "        {\"prompt\": task_description}\n",
    "    )[\"history\"]"
   ]
  },
  {
   "cell_type": "code",
   "execution_count": 141,
   "id": "2155ab07-4f58-4d37-b168-2cc4c2686a5d",
   "metadata": {},
   "outputs": [],
   "source": [
    "# 连接向量数据库\n",
    "from langchain.schema import Document\n",
    "from langchain_openai import ChatOpenAI, OpenAIEmbeddings\n",
    "from langchain_community.vectorstores import Chroma\n",
    "from langchain.memory import VectorStoreRetrieverMemory"
   ]
  },
  {
   "cell_type": "code",
   "execution_count": 157,
   "id": "2a06b593-c017-448a-be2c-a03a4fd0c422",
   "metadata": {
    "jupyter": {
     "source_hidden": true
    }
   },
   "outputs": [],
   "source": [
    "db = Chroma.from_documents([Document(page_content=\"\")], OpenAIEmbeddings(model=\"text-embedding-ada-002\"))"
   ]
  },
  {
   "cell_type": "code",
   "execution_count": 158,
   "id": "1f3d12eb-4d08-4d2f-be4b-64f10b330ae7",
   "metadata": {},
   "outputs": [],
   "source": [
    "# 清理langchain集合中的数据\n",
    "def clear_db():\n",
    "    for c in db._client.list_collections():\n",
    "        if(c.name == \"langchain\"):\n",
    "            db._client.delete_collection(\"langchain\")\n",
    "# clear_db()"
   ]
  },
  {
   "cell_type": "code",
   "execution_count": 159,
   "id": "68a5795e-948e-41d2-9a1a-b78b4f36a3b4",
   "metadata": {},
   "outputs": [
    {
     "data": {
      "text/plain": [
       "[Collection(name=langchain)]"
      ]
     },
     "execution_count": 159,
     "metadata": {},
     "output_type": "execute_result"
    }
   ],
   "source": [
    "# 将向量库转换为langchain检索器\n",
    "db_retriever = db.as_retriever(\n",
    "    search_kwargs={\"k\": 2}\n",
    ")\n",
    "db._client.list_collections()"
   ]
  },
  {
   "cell_type": "code",
   "execution_count": 160,
   "id": "d64ee33e-5fba-43fa-9914-e1c4a8cf54fb",
   "metadata": {},
   "outputs": [],
   "source": [
    "# 定义向量库记忆\n",
    "my_term_memory = VectorStoreRetrieverMemory(\n",
    "    retriever=db_retriever\n",
    ")"
   ]
  },
  {
   "cell_type": "code",
   "execution_count": 161,
   "id": "3f7e20c4-f904-4bf0-8c40-a01f1f3e9650",
   "metadata": {},
   "outputs": [],
   "source": [
    "# 保存到长时记忆\n",
    "my_term_memory.save_context(\n",
    "    {\"input\": \"你是谁？\"},\n",
    "    {\"output\": \"我的名字是乐乐\"}\n",
    ")"
   ]
  },
  {
   "cell_type": "code",
   "execution_count": 162,
   "id": "13848cb1-9faf-4561-a70b-2c35511fd1b5",
   "metadata": {},
   "outputs": [],
   "source": [
    "# 保存到长时记忆\n",
    "my_term_memory.save_context(\n",
    "    {\"input\": \"你的全名是？\"},\n",
    "    {\"output\": \"我叫薛一乐\"}\n",
    ")"
   ]
  },
  {
   "cell_type": "code",
   "execution_count": 163,
   "id": "41d2e28c-3228-4297-95b7-c81241b0f38b",
   "metadata": {},
   "outputs": [],
   "source": [
    "my_term_memory.save_context(\n",
    "    {\"input\": \"你在哪里上班？\"},\n",
    "    {\"output\": \"我还在上莞英实验小学读书。\"}\n",
    ")"
   ]
  },
  {
   "cell_type": "code",
   "execution_count": 164,
   "id": "9c182d57-bddd-44a0-a092-24a0730b9ec9",
   "metadata": {},
   "outputs": [
    {
     "data": {
      "text/plain": [
       "{'history': 'input: 你的全名是？\\noutput: 我叫薛一乐\\ninput: 你是谁？\\noutput: 我的名字是乐乐'}"
      ]
     },
     "execution_count": 164,
     "metadata": {},
     "output_type": "execute_result"
    }
   ],
   "source": [
    "# 提取记忆\n",
    "my_term_memory.load_memory_variables({\"prompt\": \"名字\"})"
   ]
  },
  {
   "cell_type": "code",
   "execution_count": 105,
   "id": "b505bada-d1c0-4ead-8ad2-da8991e9b248",
   "metadata": {},
   "outputs": [
    {
     "data": {
      "text/plain": [
       "[Document(page_content='input: 你的全名是？\\noutput: 我叫薛一乐'),\n",
       " Document(page_content='input: 你是谁？\\noutput: 我的名字是乐乐')]"
      ]
     },
     "execution_count": 105,
     "metadata": {},
     "output_type": "execute_result"
    }
   ],
   "source": [
    "db_retriever.get_relevant_documents(\"名字\", return_docs = True)"
   ]
  },
  {
   "cell_type": "markdown",
   "id": "29854e77-7352-4d98-9114-8d29553d642c",
   "metadata": {},
   "source": [
    "## 在langchain智能体架构中运行"
   ]
  },
  {
   "cell_type": "markdown",
   "id": "c2b4d7ab-856f-4df1-b6ad-a0ff62b50797",
   "metadata": {},
   "source": [
    "### Tools"
   ]
  },
  {
   "cell_type": "code",
   "execution_count": 105,
   "id": "ce27483f-caf9-4946-8138-076b2b8c354f",
   "metadata": {},
   "outputs": [],
   "source": [
    "# 自定义工具集\n",
    "tools = [\n",
    "    directory_inspection_tool,\n",
    "    document_qa_tool,\n",
    "    document_generation_tool,\n",
    "    email_tool,\n",
    "    excel_inspection_tool,\n",
    "    excel_analysis_tool,\n",
    "    finish_placeholder,\n",
    "]"
   ]
  },
  {
   "cell_type": "markdown",
   "id": "a0e2f0f9-cf0c-4d2d-a3e9-4f23934ae40e",
   "metadata": {},
   "source": [
    "### 输出解析"
   ]
  },
  {
   "cell_type": "code",
   "execution_count": 106,
   "id": "29d0977d-5cb1-4708-b595-15450cbc30ce",
   "metadata": {},
   "outputs": [],
   "source": [
    "# from pydantic import BaseModel, Field\n",
    "# from typing import List, Optional, Dict, Any\n",
    "\n",
    "from langchain.agents.agent import AgentOutputParser\n",
    "\n",
    "class Action(AgentOutputParser):\n",
    "    name: str = Field(description=\"工具或指令名称\")\n",
    "    args: Optional[Dict[str,Any]] = Field(description=\"工具或指令参数，由参数名称和参数值组成\")"
   ]
  },
  {
   "cell_type": "code",
   "execution_count": 107,
   "id": "866e7428-bedf-4d09-9ce9-b653dd0c9142",
   "metadata": {},
   "outputs": [],
   "source": [
    "from langchain.output_parsers import PydanticOutputParser, OutputFixingParser\n",
    "\n",
    "# 解析Action\n",
    "action_output_parser = PydanticOutputParser(pydantic_object=Action)\n",
    "\n",
    "# 实现自动纠错\n",
    "robust_parser = OutputFixingParser.from_llm(parser=action_output_parser, llm=llm)"
   ]
  },
  {
   "cell_type": "markdown",
   "id": "e27abc17-6c94-45fe-8945-ebff91110daa",
   "metadata": {},
   "source": [
    "### 提示语"
   ]
  },
  {
   "cell_type": "code",
   "execution_count": 108,
   "id": "3335778e-058a-4674-b53f-b9c93b097d1b",
   "metadata": {},
   "outputs": [],
   "source": [
    "from langchain.prompts import PromptTemplate\n",
    "prompt = PromptTemplate.from_template(\"\"\"\n",
    "你是强大的AI助手，可以使用工具与指令自动化解决问题。\n",
    "\n",
    "## 你必须遵循以下约束来完成任务:\n",
    "{constraints}\n",
    "\n",
    "## 你的任务是:\n",
    "{task_description}\n",
    "如果此任务显示“无”、“没有了”、“已完成”或类似表达，你直接输出下述工具中的FINISH即可。\n",
    "\n",
    "## 你需要的所有文件资料都在以下目录:\n",
    "dir_path={work_dir}\n",
    "\n",
    "## 你可以使用以下工具或指令，它们又称为动作或actions:\n",
    "{tools}\n",
    "\n",
    "## 你可以使用的资源包括:\n",
    "{resources}\n",
    "\n",
    "## 你需要评估你的表现:\n",
    "{performance_evaluation}\n",
    "\n",
    "## 相关的历史记录:\n",
    "{long_term_memory}\n",
    "\n",
    "## 当前的任务执行记录:\n",
    "{agent_scratchpad}\n",
    "\n",
    "## 输出形式：\n",
    "###（1）首先，根据以下格式说明，输出你的思考过程:\n",
    "{thought_instructions}\n",
    "\n",
    "###（2）然后，根据以下格式说明，输出你选择执行的动作/工具:\n",
    "{format_instructions}\n",
    "\"\"\")"
   ]
  },
  {
   "cell_type": "code",
   "execution_count": 109,
   "id": "13eff702-ba98-4544-bb7d-ee109fa1dd99",
   "metadata": {},
   "outputs": [],
   "source": [
    "main_prompt = prompt.partial(\n",
    "    long_term_memory=\"\",\n",
    "    constraints=constraints,\n",
    "    work_dir=work_dir,\n",
    "    resources=resources,\n",
    "    performance_evaluation=performance_evaluation,\n",
    "    thought_instructions=thought_instructions,\n",
    "    tools=render_text_description(tools),\n",
    "    format_instructions=_chinese_friendly(action_output_parser.get_format_instructions())\n",
    ")"
   ]
  },
  {
   "cell_type": "code",
   "execution_count": 110,
   "id": "4c19b952-250f-4fa9-95b2-a9fbf5f7c235",
   "metadata": {},
   "outputs": [
    {
     "name": "stdout",
     "output_type": "stream",
     "text": [
      "['agent_scratchpad', 'task_description']\n"
     ]
    }
   ],
   "source": [
    "print(main_prompt.input_variables)"
   ]
  },
  {
   "cell_type": "markdown",
   "id": "b43f1bae-939b-4b5d-8b03-12bd8a427093",
   "metadata": {},
   "source": [
    "### 定义Agent链"
   ]
  },
  {
   "cell_type": "code",
   "execution_count": 111,
   "id": "15c7f35a-bf0c-4868-867f-1912fe7e683d",
   "metadata": {},
   "outputs": [],
   "source": [
    "from langchain_core.runnables import RunnablePassthrough\n",
    "from langchain_openai import ChatOpenAI\n",
    "from langchain.schema.output_parser import StrOutputParser\n",
    "from langchain.tools.render import render_text_description\n",
    "from langchain.agents.format_scratchpad import format_log_to_str"
   ]
  },
  {
   "cell_type": "code",
   "execution_count": 112,
   "id": "cd3b3e17-deae-4847-a9c9-479cc809d4af",
   "metadata": {},
   "outputs": [],
   "source": [
    "llm = ChatOpenAI(\n",
    "    model=\"gpt-4-1106-preview\",\n",
    "    temperature=0,\n",
    "    model_kwargs={\n",
    "        \"seed\": 42\n",
    "    },\n",
    ")"
   ]
  },
  {
   "cell_type": "code",
   "execution_count": 113,
   "id": "db307e37-5ebb-4e5e-834e-caab87556d57",
   "metadata": {},
   "outputs": [
    {
     "data": {
      "text/plain": [
       "['agent_scratchpad', 'task_description']"
      ]
     },
     "execution_count": 113,
     "metadata": {},
     "output_type": "execute_result"
    }
   ],
   "source": [
    "main_prompt.input_variables"
   ]
  },
  {
   "cell_type": "code",
   "execution_count": 114,
   "id": "b778f6eb-4121-4c27-b588-19f73244c596",
   "metadata": {
    "scrolled": true
   },
   "outputs": [
    {
     "data": {
      "text/plain": [
       "RunnableAssign(mapper={\n",
       "  task_description: RunnableLambda(lambda x: x['input']),\n",
       "  agent_scratchpad: RunnableLambda(lambda x: format_log_to_str.parse(x['intermediate_steps']))\n",
       "})"
      ]
     },
     "execution_count": 114,
     "metadata": {},
     "output_type": "execute_result"
    }
   ],
   "source": [
    "RunnablePassthrough.assign(\n",
    "    task_description=lambda x: x[\"input\"],\n",
    "    agent_scratchpad=lambda x: format_log_to_str.parse(x[\"intermediate_steps\"])\n",
    ")"
   ]
  },
  {
   "cell_type": "code",
   "execution_count": 125,
   "id": "f8e423c3-86ff-464e-a904-23012d0aaa11",
   "metadata": {},
   "outputs": [],
   "source": [
    "agent = (\n",
    "    RunnablePassthrough.assign(\n",
    "        task_description=lambda x: x[\"input\"],\n",
    "        agent_scratchpad=lambda x: (x[\"intermediate_steps\"]) # intermediate_steps是agent_executor要求的参数\n",
    "    )\n",
    "    | main_prompt\n",
    "    | llm\n",
    "    | robust_parser\n",
    ")"
   ]
  },
  {
   "cell_type": "code",
   "execution_count": 126,
   "id": "97ff7b0c-822b-40dc-abb7-67cf55def18c",
   "metadata": {},
   "outputs": [
    {
     "data": {
      "text/plain": [
       "RunnableParallel<task_description,agent_scratchpad>Input(input=None, intermediate_steps=None)"
      ]
     },
     "execution_count": 126,
     "metadata": {},
     "output_type": "execute_result"
    }
   ],
   "source": [
    "# 看看应该准备什么样的输入\n",
    "agent.first.input_schema()"
   ]
  },
  {
   "cell_type": "code",
   "execution_count": 118,
   "id": "8ffadbf0-b9d8-40c6-8f3b-e2ef013d936d",
   "metadata": {},
   "outputs": [
    {
     "data": {
      "text/plain": [
       "Action(name='ListDirectory', args={'path': './data/autogpt-demo'})"
      ]
     },
     "execution_count": 118,
     "metadata": {},
     "output_type": "execute_result"
    }
   ],
   "source": [
    "agent.invoke({\"input\": \"9月份销售额\", \"intermediate_steps\": \"\"})"
   ]
  },
  {
   "cell_type": "code",
   "execution_count": 127,
   "id": "fc8c8826-d081-4ce8-a346-7b096156ce19",
   "metadata": {},
   "outputs": [],
   "source": [
    "from langchain.agents import AgentExecutor\n",
    "\n",
    "agent_executor = AgentExecutor(agent=agent, tools=tools, verbose=True, handle_parsing_errors=True)"
   ]
  },
  {
   "cell_type": "code",
   "execution_count": null,
   "id": "0a54cb5d-a85b-43ad-8129-594c8e2f0181",
   "metadata": {},
   "outputs": [],
   "source": [
    "agent_executor.invoke({\"input\": \"9月份销售额\"})"
   ]
  },
  {
   "cell_type": "markdown",
   "id": "5eaa2aad-723e-4cb1-9d08-df19c3fa8849",
   "metadata": {},
   "source": [
    "## 提问示例"
   ]
  },
  {
   "cell_type": "markdown",
   "id": "96f5af3c-580b-42d8-922e-8b8497703a1c",
   "metadata": {},
   "source": [
    "- 9月份的销售额是多少\n",
    "- 销售总额最大的产品是什么\n",
    "- 帮我找出销售额不达标的供应商\n",
    "- 给这两家供应商发一封邮件通知此事\n",
    "- 对比8月和9月销售情况，写一份报告"
   ]
  },
  {
   "cell_type": "code",
   "execution_count": null,
   "id": "519548e9-b7eb-43e9-a3f8-abfd17c60c62",
   "metadata": {},
   "outputs": [],
   "source": []
  }
 ],
 "metadata": {
  "kernelspec": {
   "display_name": "langchani-book-py3.10-ipykernel",
   "language": "python",
   "name": "langchani-book-py3.10-ipykernel"
  },
  "language_info": {
   "codemirror_mode": {
    "name": "ipython",
    "version": 3
   },
   "file_extension": ".py",
   "mimetype": "text/x-python",
   "name": "python",
   "nbconvert_exporter": "python",
   "pygments_lexer": "ipython3",
   "version": "3.10.0"
  }
 },
 "nbformat": 4,
 "nbformat_minor": 5
}
