{
 "cells": [
  {
   "cell_type": "code",
   "execution_count": 20,
   "id": "3d165545-40b4-4d56-b86f-ffdee3c81d76",
   "metadata": {},
   "outputs": [
    {
     "data": {
      "text/plain": [
       "True"
      ]
     },
     "execution_count": 20,
     "metadata": {},
     "output_type": "execute_result"
    }
   ],
   "source": [
    "import os\n",
    "from dotenv import load_dotenv, find_dotenv\n",
    "load_dotenv(find_dotenv(), override=True)"
   ]
  },
  {
   "cell_type": "code",
   "execution_count": 42,
   "id": "16c930da-6c4f-4e15-bec2-d60bcacfcc30",
   "metadata": {},
   "outputs": [],
   "source": [
    "from langchain_openai import ChatOpenAI\n",
    "from langchain.chains import create_sql_query_chain\n",
    "from langchain_community.utilities import SQLDatabase\n",
    "\n",
    "# 创建一个 SQLDatabase 实例\n",
    "db = SQLDatabase.from_uri(\"sqlite:///../../data/demo.sqlite\")\n",
    "\n",
    "# 创建一个大型语言模型实例\n",
    "llm = ChatOpenAI(model=\"gpt-3.5-turbo\", temperature=0)"
   ]
  },
  {
   "cell_type": "code",
   "execution_count": 43,
   "id": "7953e4a1-f6d6-4e4d-95e5-1d398e4ad918",
   "metadata": {},
   "outputs": [],
   "source": [
    "# 使用 llm 和 db 创建一个 SQL 查询链\n",
    "chain = create_sql_query_chain(llm, db)"
   ]
  },
  {
   "cell_type": "code",
   "execution_count": 46,
   "id": "3638a17f-5e8f-4ff4-86dc-137e86ec47a5",
   "metadata": {},
   "outputs": [
    {
     "data": {
      "text/plain": [
       "'SELECT \"price\" \\nFROM products \\nWHERE name = \"XXXX\"\\nLIMIT 1;'"
      ]
     },
     "execution_count": 46,
     "metadata": {},
     "output_type": "execute_result"
    }
   ],
   "source": [
    "# 使用这个链生成一个 SQL 查询\n",
    "response = chain.invoke({\"question\": \"按产品名称查询价格是多少？产品名使用XXXX来指代。\"})\n",
    "response"
   ]
  },
  {
   "cell_type": "code",
   "execution_count": null,
   "id": "d608f157-5e95-44bb-bf82-3d94ba4df0a2",
   "metadata": {},
   "outputs": [],
   "source": []
  }
 ],
 "metadata": {
  "kernelspec": {
   "display_name": "langchani-book-py3.10-ipykernel",
   "language": "python",
   "name": "langchani-book-py3.10-ipykernel"
  },
  "language_info": {
   "codemirror_mode": {
    "name": "ipython",
    "version": 3
   },
   "file_extension": ".py",
   "mimetype": "text/x-python",
   "name": "python",
   "nbconvert_exporter": "python",
   "pygments_lexer": "ipython3",
   "version": "3.10.0"
  }
 },
 "nbformat": 4,
 "nbformat_minor": 5
}
