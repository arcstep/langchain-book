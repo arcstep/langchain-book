{
 "cells": [
  {
   "cell_type": "markdown",
   "id": "84f789b7-1ef1-4060-b444-a368e345254b",
   "metadata": {},
   "source": [
    "# 智能体相关源码结构"
   ]
  },
  {
   "cell_type": "markdown",
   "id": "9995affc-49d2-4bac-961a-78e89b0d65c3",
   "metadata": {},
   "source": [
    "**Agent**\n",
    "- AgentType\n",
    "    - ZERO_SHOT_REACT_DESCRIPTION（**ReAct**的一般实现）\n",
    "    - REACT_DOCSTORE（ReAct，支持RAG）\n",
    "    - SELF_ASK_WITH_SEARCH（使用**search 工具**不断反思获得答案）\n",
    "    - CONVERSATIONAL_REACT_DESCRIPTION（**ReAct**，支持对话）\n",
    "    - CHAT_ZERO_SHOT_REACT_DESCRIPTION（同上）\n",
    "    - CHAT_CONVERSATIONAL_REACT_DESCRIPTION（同上）\n",
    "    - STRUCTURED_CHAT_ZERO_SHOT_REACT_DESCRIPTION（**ReAct**，为对话模型优化，支持多输入）\n",
    "    - OPENAI_FUNCTIONS（支持**OpenAI Function Calling**）\n",
    "    - OPENAI_MULTI_FUNCTIONS（支持**OpenAI Function Calling**，支持多函数调度）\n",
    "\n",
    "**主要结构**\n",
    "- AgentAction\n",
    "    - AgentActionMessageLog\n",
    "\n",
    "- AgentStep\n",
    "- AgentFinish\n",
    "\n",
    "**智能体类结构**\n",
    "- BaseSingleActionAgent\n",
    "    - RunnableAgent\n",
    "    - LLMSingleActionAgent（__遗留__，__修改为__：create_***_agent）\n",
    "    - XMLAgent（__遗留__，__修改为__：create_xml_agent）\n",
    "    - Agent\n",
    "        - ChatAgent（__遗留__，__修改为__：create_react_agent）\n",
    "        - ConversationalAgent（__遗留__，__修改为__：create_react_agent）\n",
    "        - ConversationalChatAgent（__遗留__，__修改为__：create_json_chat_agent）\n",
    "        - StructuredChatAgent（__遗留__，__修改为__：create_structured_chat_agent）\n",
    "        - ZeroShotAgent（__遗留__，__修改为__：create_react_agent）\n",
    "        - ReActDocstoreAgent（__遗留__）\n",
    "            - ReActTextWorldAgent（__遗留__）\n",
    "        - SelfAskWithSearchAgent（__遗留__，__修改为__：create_self_ask_with_search）\n",
    "    - OpenAIFunctionsAgent（__遗留__，__修改为__：create_openai_functions_agent）\n",
    "\n",
    "- BaseMultiActionAgent\n",
    "    - RunnableMultiActionAgent\n",
    "    - OpenAIMultiFunctionsAgent（__遗留__，__修改为__：create_openai_tools_agent）\n",
    "\n",
    "- Runnable\n",
    "    - RunnableSerializable\n",
    "        - Chain\n",
    "            - AgentExecutor（__NEW__）\n",
    "                - MRKLChain（__遗留__）\n",
    "                - ReActChain（__遗留__）\n",
    "                - SelfAskWithSearchChain（__遗留__）\n",
    "        - OpenAIAssistantRunnable\n",
    "\n",
    "- DocstoreExplorer（__遗留__）\n",
    "\n",
    "**Prompt**\n",
    "- Runnable\n",
    "    - RunnableSerializable\n",
    "        - BasePromptTemplate `[Dict, PromptValue]`\n",
    "            - BaseChatPromptTemplate\n",
    "                - ChatPromptTemplate\n",
    "                    - AgentScratchPadChatPromptTemplate\n",
    "\n",
    "**OutputParser**\n",
    "- Runnable\n",
    "    - RunnableSerializable\n",
    "        - BaseOutputParser\n",
    "            - AgentOutputParser\n",
    "            - MultiActionAgentOutputParser"
   ]
  },
  {
   "cell_type": "markdown",
   "id": "7f013683-fc22-4fcb-82d3-230398403580",
   "metadata": {},
   "source": [
    "# Function Calling 和 智能体的关系"
   ]
  },
  {
   "cell_type": "markdown",
   "id": "31379db2-6b64-4135-b59f-34135b1eaf44",
   "metadata": {},
   "source": [
    "在概念上，OpenAI tools 和 OpenAI function calling 并不属于 Agent 范畴。\n",
    "\n",
    "Agent通常指的是可以自主做出决策和采取行动的系统。而 function calling 更像是一种技术手段,用于触发外部函数的执行。\n",
    "<br>\n",
    "但是, 在大部分 Agent 实现中, function calling 机制被用来实现 Agent 的行为，用来触发外部工具和服务。\n",
    "所以它是往往启用 Agent 行为的一个组成部分。\n",
    "总的来说,function calling本身只是一种技术功能。\n",
    "\n",
    "而 OpenAI tools 是 OpenAI function calling 的替代机制，其主要区别在于:\n",
    "\n",
    "- tools 支持同时调用多个函数, 而 function calling 只能调用单个函数。\n",
    "- tools 允许函数之间交互和组合使用, function calling 中的函数是相互独立的。\n",
    "- tools 提供了更多控制流程的选项, 如条件语句、循环等。\n",
    "- tools 是 OpenAI 最新推出的函数调用机制, 而 function calling 是早期的格式,现在被视为legacy。\n"
   ]
  },
  {
   "cell_type": "markdown",
   "id": "04cfd52f-fe19-4240-a961-728f3ca2b02f",
   "metadata": {},
   "source": [
    "使用智能体框架比直接使用 tools 或 function calling 有以下几个主要优势:\n",
    "\n",
    "- 封装性更好,使用更简单。智能体框架提供了现成的接口和抽象,开发者不需要处理底层的 tools 或 function calling细节。\n",
    "- 支持更复杂的逻辑。智能体框架内置了决策、推理、计划等更高级的能力,不仅是简单的函数触发。\n",
    "- 可解释性和可靠性更好。智能体的行为过程可以通过日志展示,输出更可解释。并且可以配置规则避免无意义的循环。\n",
    "- 支持工具和服务的统一集成。工具可以用标准化方式集成到智能体框架中,而不需要不同的接入方式。\n",
    "- 可扩展性更好,自定义能力更强。智能体框架提供了扩展接口,可以插入自定义的组件。\n",
    "\n",
    "总体上,相比直接的 tools 或 function calling,智能体框架提供了更高层次的封装与抽象,使用更简单,功能也更全面和强大。\n",
    "<br>这是使用智能体框架的主要优势所在。"
   ]
  },
  {
   "cell_type": "markdown",
   "id": "ec5d3fee-3b93-4a7e-b5d8-9604efda653b",
   "metadata": {},
   "source": [
    "# Tool源码结构"
   ]
  },
  {
   "cell_type": "markdown",
   "id": "3bad1ba2-c338-491d-9fee-244f0261f130",
   "metadata": {},
   "source": [
    "**Tool**\n",
    "- Runnable\n",
    "    - RunnableSerializable\n",
    "        - BaseTool `[Union[str, Dict], Any]`\n",
    "            - Tool\n",
    "            - ExceptionTool\n",
    "        \n",
    "            **输入:**\n",
    "            - StructuredTool\n",
    "            - HumanInputRun\n",
    "        \n",
    "            **git:**\n",
    "            - GitHubAction\n",
    "            - GitLabAction\n",
    "        \n",
    "            **json:**\n",
    "            - JsonListKeysTool\n",
    "            - JsonGetValueTool\n",
    "        \n",
    "            **记忆:**\n",
    "            - Memorize\n",
    "        \n",
    "            **天气查询:**\n",
    "            - OpenWeatherMapQueryRun\n",
    "        \n",
    "            **sleep函数:**\n",
    "            - SleepTool\n",
    "        \n",
    "            **shell:**\n",
    "            - ShellTool\n",
    "        \n",
    "            **sql:**\n",
    "            - QuerySQLDataBaseTool\n",
    "            - InfoSQLDatabaseTool\n",
    "            - QuerySQLCheckerTool\n",
    "        \n",
    "            **搜索引擎:**\n",
    "            - TavilySearchResults\n",
    "            - TavilyAnswer\n",
    "        \n",
    "            **QA向量检索:**\n",
    "            - VectorStoreQATool\n",
    "            - VectorStoreQAWithSourcesTool\n",
    "        \n",
    "            **wiki:**\n",
    "            - WikipediaQueryRun\n",
    "        \n",
    "            **文件:**\n",
    "            - CopyFileTool\n",
    "            - DeleteFileTool\n",
    "            - FileSearchTool\n",
    "            - ListDirectoryTool\n",
    "            - MoveFileTool\n",
    "            - ReadFileTool\n",
    "            - WriteFileTool\n"
   ]
  },
  {
   "cell_type": "markdown",
   "id": "b75f30da-5b51-4433-bfb5-c0c2d6a69b82",
   "metadata": {},
   "source": [
    "# 智能体和工具箱"
   ]
  },
  {
   "cell_type": "markdown",
   "id": "871c8680-179f-4bd5-b348-b21d2b0c4fc1",
   "metadata": {},
   "source": [
    "## pbi智能体\n",
    "- create_pbi_agent\n",
    "- create_pbi_chat_agent\n",
    "\n",
    "## sql生成智能体\n",
    "- create_spark_sql_agent\n",
    "- create_sql_agent\n",
    "\n",
    "## 结构化输出智能体\n",
    "- create_xml_agent\n",
    "- create_json_agent\n",
    "- create_json_chat_agent\n",
    "- create_structured_chat_agent\n",
    "\n",
    "## 向量检索智能体\n",
    "- create_vectorstore_agent\n",
    "- create_vectorstore_router_agent\n",
    "\n",
    "## ReAct智能体\n",
    "- create_react_agent\n",
    "\n",
    "## 自搜索智能体\n",
    "- create_self_ask_with_search_agent\n",
    "\n",
    "## 遗留方法\n",
    "- load_agent（__遗留__）\n",
    "- load_agent_from_config（__遗留__）\n",
    "- initialize_agent（__遗留__，__修改为__：create_***_agent）\n"
   ]
  },
  {
   "cell_type": "markdown",
   "id": "c1bde186-8a85-4a7e-9b59-46a9098b1e6d",
   "metadata": {},
   "source": [
    "# 文件管理"
   ]
  },
  {
   "cell_type": "markdown",
   "id": "99306231-2c1f-45af-8666-8b5cfadab808",
   "metadata": {},
   "source": [
    "## FileManagementToolkit"
   ]
  },
  {
   "cell_type": "markdown",
   "id": "4e246482-9da0-4d11-89d9-7a6ba0c1794c",
   "metadata": {},
   "source": [
    "```\n",
    "from langchain.agent_toolkits import FileManagementToolkit\n",
    "```"
   ]
  },
  {
   "cell_type": "markdown",
   "id": "10cf7b4c-0642-475f-9956-69c90c652ae4",
   "metadata": {},
   "source": [
    "包含的Tool清单："
   ]
  },
  {
   "cell_type": "markdown",
   "id": "6f78ef21-d35f-4d03-8daf-8e154e19c17b",
   "metadata": {},
   "source": [
    "- CopyFileTool\n",
    "- DeleteFileTool\n",
    "- FileSearchTool\n",
    "- MoveFileTool\n",
    "- ReadFileTool\n",
    "- WriteFileTool\n",
    "- ListDirectoryTool"
   ]
  },
  {
   "cell_type": "markdown",
   "id": "bf5db870-faa1-41cf-bd67-afd96c933892",
   "metadata": {},
   "source": [
    "# JSON查询"
   ]
  },
  {
   "cell_type": "markdown",
   "id": "f1b1c34b-df7e-4bc4-b166-c64319fa104a",
   "metadata": {},
   "source": [
    "## 创建Agent：create_json_agent"
   ]
  },
  {
   "cell_type": "markdown",
   "id": "86af00c1-8a60-4840-8f0e-3ae0270f0b6b",
   "metadata": {},
   "source": [
    "让智能体一边与JSON数据交互一边思考，将JSON查询结果作为答案返回。\n",
    "```\n",
    "from langchain.agents import create_json_agent\n",
    "```"
   ]
  },
  {
   "cell_type": "markdown",
   "id": "c97207ad-8c06-4a1a-a9a0-c66aadea6c53",
   "metadata": {},
   "source": [
    "## JsonToolkit"
   ]
  },
  {
   "cell_type": "markdown",
   "id": "b57b430f-99f1-4ff9-997f-5928024be4b3",
   "metadata": {},
   "source": [
    "```\n",
    "from langchain_community.agent_toolkits import JsonToolkit\n",
    "```"
   ]
  },
  {
   "cell_type": "markdown",
   "id": "4a6286de-2370-4ac0-9f83-cde738f8d3a2",
   "metadata": {},
   "source": [
    "包含的Tool清单："
   ]
  },
  {
   "cell_type": "markdown",
   "id": "06212c83-9a89-4821-a6e1-b3df6ddb4318",
   "metadata": {},
   "source": [
    "- JsonListKeysTool\n",
    "- JsonGetValueTool"
   ]
  },
  {
   "cell_type": "markdown",
   "id": "385d3557-10a3-4e42-80f7-4724a6c3ce6f",
   "metadata": {},
   "source": [
    "## 实践"
   ]
  },
  {
   "cell_type": "code",
   "execution_count": 428,
   "id": "bcdbdae6-1a2a-493b-bd34-8f11e1de8d81",
   "metadata": {},
   "outputs": [],
   "source": [
    "import yaml\n",
    "from langchain.agents import create_json_agent\n",
    "from langchain_community.agent_toolkits import JsonToolkit\n",
    "from langchain_community.tools.json.tool import JsonSpec\n",
    "from langchain_openai import OpenAI"
   ]
  },
  {
   "cell_type": "code",
   "execution_count": 429,
   "id": "77bea435-b9ab-4627-8601-6b48184387cb",
   "metadata": {},
   "outputs": [],
   "source": [
    "with open(\"data/openapi.yaml\") as f:\n",
    "    data = yaml.load(f, Loader=yaml.FullLoader)\n",
    "json_spec = JsonSpec(dict_=data, max_value_length=4000)\n",
    "json_toolkit = JsonToolkit(spec=json_spec)\n",
    "\n",
    "json_agent_executor = create_json_agent(\n",
    "    llm=OpenAI(temperature=0), toolkit=json_toolkit, verbose=True\n",
    ")"
   ]
  },
  {
   "cell_type": "code",
   "execution_count": 443,
   "id": "5797385e-61bd-4286-88fc-edee3abef086",
   "metadata": {},
   "outputs": [
    {
     "name": "stdout",
     "output_type": "stream",
     "text": [
      "\n",
      "\n",
      "\u001b[1m> Entering new AgentExecutor chain...\u001b[0m\n",
      "\u001b[32;1m\u001b[1;3mAction: json_spec_list_keys\n",
      "Action Input: data\u001b[0m\n",
      "Observation: \u001b[36;1m\u001b[1;3m['openapi', 'info', 'servers', 'paths', 'components']\u001b[0m\n",
      "Thought:\u001b[32;1m\u001b[1;3m I should look at the keys that exist in data[\"info\"] to see what I have access to\n",
      "Action: json_spec_list_keys\n",
      "Action Input: data[\"info\"]\u001b[0m\n",
      "Observation: \u001b[36;1m\u001b[1;3m['title', 'description', 'version']\u001b[0m\n",
      "Thought:\u001b[32;1m\u001b[1;3m I should look at the value of data[\"info\"][\"version\"] to see the API version\n",
      "Action: json_spec_get_value\n",
      "Action Input: data[\"info\"][\"version\"]\u001b[0m\n",
      "Observation: \u001b[33;1m\u001b[1;3mv1\u001b[0m\n",
      "Thought:\u001b[32;1m\u001b[1;3m I now know the final answer\n",
      "Final Answer: v1\u001b[0m\n",
      "\n",
      "\u001b[1m> Finished chain.\u001b[0m\n"
     ]
    },
    {
     "data": {
      "text/plain": [
       "{'input': '告诉我这个API的版本', 'output': 'v1'}"
      ]
     },
     "execution_count": 443,
     "metadata": {},
     "output_type": "execute_result"
    }
   ],
   "source": [
    "json_agent_executor.invoke(\n",
    "    \"告诉我这个API的版本\"\n",
    ")"
   ]
  },
  {
   "cell_type": "markdown",
   "id": "c9fe2f21-2683-4dcb-bc3a-69bdcc2d05dc",
   "metadata": {},
   "source": [
    "# OpenAI智能体"
   ]
  },
  {
   "cell_type": "markdown",
   "id": "929741de-97b5-45fb-952b-606744dbe9c0",
   "metadata": {},
   "source": [
    "## 创建Agent方法"
   ]
  },
  {
   "cell_type": "markdown",
   "id": "1624f715-40d5-40bd-b19b-44561636155d",
   "metadata": {},
   "source": [
    "- create_openapi_agent\n",
    "- create_openai_functions_agent\n",
    "- create_openai_tools_agent"
   ]
  },
  {
   "cell_type": "markdown",
   "id": "9c220420-96ea-45b1-b3c7-a3a090486236",
   "metadata": {},
   "source": [
    "## 环境准备"
   ]
  },
  {
   "cell_type": "code",
   "execution_count": 412,
   "id": "bafb7c98-4e3b-4d91-bce1-5ebf945881a8",
   "metadata": {},
   "outputs": [],
   "source": [
    "from langchain_community.tools.tavily_search import TavilySearchResults\n",
    "from langchain_openai import ChatOpenAI\n",
    "from langchain import hub\n",
    "from langchain.agents import AgentExecutor, create_openai_tools_agent, create_openai_functions_agent"
   ]
  },
  {
   "cell_type": "code",
   "execution_count": 413,
   "id": "f560c65f-6d58-48e0-9366-47f37c2649ad",
   "metadata": {},
   "outputs": [],
   "source": [
    "tools = [TavilySearchResults(max_results=1)]\n",
    "prompt = hub.pull(\"hwchase17/openai-tools-agent\")\n",
    "llm = ChatOpenAI(model=\"gpt-3.5-turbo-1106\", temperature=0)"
   ]
  },
  {
   "cell_type": "markdown",
   "id": "d490dbff-1d88-4965-bf60-fb2b52077f00",
   "metadata": {},
   "source": [
    "## 使用create_openai_functions_agent创建Agent"
   ]
  },
  {
   "cell_type": "markdown",
   "id": "23bcce78-f56d-4fe7-812f-ae0f6e4ac78f",
   "metadata": {},
   "source": [
    "create_openai_functions_agent是openai早期实现的接口，仅支持一次函数调用："
   ]
  },
  {
   "cell_type": "code",
   "execution_count": 415,
   "id": "6bb9831b-6481-4f94-be5d-a909749cbabe",
   "metadata": {},
   "outputs": [
    {
     "name": "stdout",
     "output_type": "stream",
     "text": [
      "\n",
      "\n",
      "\u001b[1m> Entering new AgentExecutor chain...\u001b[0m\n",
      "\u001b[32;1m\u001b[1;3m\n",
      "Invoking: `tavily_search_results_json` with `{'query': 'Erick和Harrison与langchain项目的关系'}`\n",
      "\n",
      "\n",
      "\u001b[0m\u001b[36;1m\u001b[1;3m[{'url': 'https://zhuanlan.zhihu.com/p/645358531', 'content': '关于软件复杂性和复杂性下的流行性之争是永恒的话题。没有人愿意成为批评 LangChain 这样的免费开源软件的混蛋，但我愿意承担这个责任。明确地说，我并不反对 Harrison Chase 或 LangChain  简单来说，LangChain 是一个 Python 和 JavaScript 库，由 Harrison Chase 开发，用于连接 OpenAI 的 GPT API（后续已扩展到更多模型）以生成人工智能文本。  Chase 或 LangChain 的其他维护者（他们鼓励反馈）。  体现了「它很复杂，所以它一定更好」这一经常困扰后期代码库的哲学，可是 LangChain 甚至还不到一年。简单来说，LangChain 是一个 Python 和 JavaScript 库，由 Harrison Chase 开发，用于连接 OpenAI 的 GPT API（后续已扩展到更多模型）以生成人工智能文本。 更具体地说，它是论文《ReAct: Synergizing Reasoning and Acting in Language Models》的实现：该论文展示了一种提示技术，允许模型「推理」（通过思维链）和「行动」（通过能够使用预定义工具集中的工具，例如能够搜索互联网）。 论文链接： arxiv.org/pdf/2210.0362 事实证明，这种组合能够大幅提高输出文本的质量，并使大型语言模型具备正确解决问题的能力。'}]\u001b[0m\u001b[32;1m\u001b[1;3mErick和Harrison与langchain项目的关系是，Harrison Chase是LangChain项目的开发者，LangChain是一个Python和JavaScript库，用于连接OpenAI的GPT API以生成人工智能文本。因此，Erick和Harrison都与LangChain项目有密切的开发和贡献关系。\u001b[0m\n",
      "\n",
      "\u001b[1m> Finished chain.\u001b[0m\n"
     ]
    },
    {
     "data": {
      "text/plain": [
       "{'input': 'Erick和Harrison都为langchain项目做了不少贡献，他们与langchain项目有什么关系吗?请用中文回答。',\n",
       " 'output': 'Erick和Harrison与langchain项目的关系是，Harrison Chase是LangChain项目的开发者，LangChain是一个Python和JavaScript库，用于连接OpenAI的GPT API以生成人工智能文本。因此，Erick和Harrison都与LangChain项目有密切的开发和贡献关系。'}"
      ]
     },
     "execution_count": 415,
     "metadata": {},
     "output_type": "execute_result"
    }
   ],
   "source": [
    "functions_agent = create_openai_functions_agent(llm, tools, prompt)\n",
    "functions_agent_executor = AgentExecutor(agent=functions_agent, tools=tools, verbose=True)\n",
    "functions_agent_executor.invoke({\n",
    "    \"input\": \"Erick和Harrison都为langchain项目做了不少贡献，他们与langchain项目有什么关系吗?请用中文回答。\"\n",
    "})"
   ]
  },
  {
   "cell_type": "markdown",
   "id": "16d5f078-2fd9-4f30-b8aa-d25a0f2b20df",
   "metadata": {},
   "source": [
    "## 使用create_openai_tools_agent创建Agent"
   ]
  },
  {
   "cell_type": "markdown",
   "id": "9886a902-e446-4d33-a063-785fc04c6bb2",
   "metadata": {},
   "source": [
    "使用create_openai_functions_agent时，“Erick和Harrison都为...”会被拆解为两个问题："
   ]
  },
  {
   "cell_type": "code",
   "execution_count": 416,
   "id": "0005510d-b494-46ec-b538-a87f43256366",
   "metadata": {},
   "outputs": [
    {
     "name": "stdout",
     "output_type": "stream",
     "text": [
      "\n",
      "\n",
      "\u001b[1m> Entering new AgentExecutor chain...\u001b[0m\n",
      "\u001b[32;1m\u001b[1;3m\n",
      "Invoking: `tavily_search_results_json` with `{'query': 'Erick langchain project'}`\n",
      "\n",
      "\n",
      "\u001b[0m\u001b[36;1m\u001b[1;3m[{'url': 'https://www.linkedin.com/pulse/llm-framework-how-langchain-redefine-application-2024-singh-ph-d--ikgmc', 'content': 'New to LinkedIn? Join now LLM Framework: How LangChain will Redefine Application Development in 2024  Embrace the power of LangChain and be part of this AI revolution.  In this ever-increasing need for Artificial Intelligence in all business forms, LangChain emerges as a game-changer,  This blog explores the multifaceted applications of LangChain and its groundbreaking impact on industries worldwide.LangChain is indeed a robust framework that is redefining AI application development. It allows developers to build context-aware reasoning applications with its flexible abstractions and AI-first ...'}]\u001b[0m\u001b[32;1m\u001b[1;3m\n",
      "Invoking: `tavily_search_results_json` with `{'query': 'Harrison langchain project'}`\n",
      "\n",
      "\n",
      "\u001b[0m\u001b[36;1m\u001b[1;3m[{'url': 'https://www.latent.space/p/langchain', 'content': 'As Harrison explains, LangChain is an open source framework for building context-aware reasoning applications,  [00:50:25] Responding to LangChain criticisms [00:54:11] Harrison\\'s advice to AI engineers [00:55:43] Lightning Round  LangChain Hub UI “LangChain is Pointless” Harrison’s links sports - estimating player compatibility in the NBA  What is LangChain?From the back to back and (rumored) $20-25m Sequoia Series A in April, to back to back critiques of \" LangChain is Pointless teaching with Andrew Ng and keynoting at basically every AI conference this fall (including ), it has been an rollercoaster for Harrison and his team creating one of the most popular (>60k stars at time of writing) buildin...'}]\u001b[0m\u001b[32;1m\u001b[1;3mErick和Harrison都与LangChain项目有关。Erick在LangChain项目中探讨了LangChain的应用和影响，而Harrison则解释了LangChain是一个用于构建上下文感知推理应用的开源框架。因此，他们都与LangChain项目有密切关系。\u001b[0m\n",
      "\n",
      "\u001b[1m> Finished chain.\u001b[0m\n"
     ]
    },
    {
     "data": {
      "text/plain": [
       "{'input': 'Erick和Harrison都为langchain项目做了不少贡献，他们与langchain项目有什么关系吗?请用中文回答。',\n",
       " 'output': 'Erick和Harrison都与LangChain项目有关。Erick在LangChain项目中探讨了LangChain的应用和影响，而Harrison则解释了LangChain是一个用于构建上下文感知推理应用的开源框架。因此，他们都与LangChain项目有密切关系。'}"
      ]
     },
     "execution_count": 416,
     "metadata": {},
     "output_type": "execute_result"
    }
   ],
   "source": [
    "tools_agent = create_openai_tools_agent(llm, tools, prompt)\n",
    "tools_agent_executor = AgentExecutor(agent=tools_agent, tools=tools, verbose=True)\n",
    "tools_agent_executor.invoke({\n",
    "    \"input\": \"Erick和Harrison都为langchain项目做了不少贡献，他们与langchain项目有什么关系吗?请用中文回答。\"\n",
    "})"
   ]
  },
  {
   "cell_type": "markdown",
   "id": "85f2189f-b1a2-451e-ad93-f845483cd93e",
   "metadata": {},
   "source": [
    "## 加入对话历史"
   ]
  },
  {
   "cell_type": "code",
   "execution_count": 417,
   "id": "1d41f6f3-7b2f-4739-9467-7dd8bf24356a",
   "metadata": {},
   "outputs": [
    {
     "name": "stdout",
     "output_type": "stream",
     "text": [
      "\n",
      "\n",
      "\u001b[1m> Entering new AgentExecutor chain...\u001b[0m\n",
      "\u001b[32;1m\u001b[1;3m\n",
      "Invoking: `tavily_search_results_json` with `{'query': '谢楠主持过的综艺节目'}`\n",
      "\n",
      "\n",
      "\u001b[0m\u001b[36;1m\u001b[1;3m[{'url': 'https://ent.qianlong.com/2024/0207/8200732.shtml', 'content': '2024央视龙年春晚节目单 2024央视龙年春晚节目单 2月6日晚,2024央视龙年春晚北京主会场主持阵容正式官宣发布任鲁豫C位 2024央视龙年春晚湖南长沙分会场主持人发布:何炅、张舒越 2024央视龙年春晚新疆喀什分会场主持人马跃  附2024央视龙年春晚完整节目单 顾问:张艺谋、张一一 总导演:于蕾 主持人:任鲁豫、撒贝宁、尼格买提、龙洋、马凡舒(北京主会场) 张舒悦、何炅(湖南长沙分会场) 杨帆、刘心悦(辽宁沈阳分会场) 朱迅、徐杰(陕西西安分会场)  附2024央视龙年春晚完整节目单 顾问:张艺谋、张一一 总导演:于蕾 主持人:任鲁豫、撒贝宁、尼格买提、龙洋、马凡舒(北京主会场) 张舒悦、何炅(湖南长沙分会场) 杨帆、刘心悦(辽宁沈阳分会场) 朱迅、徐杰(陕西西安分会场)  综艺频道主持人杨帆与在2023中央广播电视总台主持人大赛中表现不俗获得银奖的辽宁卫视当家花旦刘心悦主持沈阳分会场,2018年和2020年已两次主持春晚分会场(贵州黔东南、河南郑州)的马跃和新疆卫视主持人维妮娜主持新疆喀什分会场,朱迅则与陕西2月6日,甲辰龙年2024中央广播电视总台春节联欢晚会进入最后3天的冲刺倒计时,随着龙年春晚四次带妆彩排的完成,通过现场观众、明星嘉宾、艺人助理 ...'}]\u001b[0m\u001b[32;1m\u001b[1;3m根据搜索结果，谢楠曾主持过央视的春晚节目。您可以在以下链接中找到更多信息：[谢楠主持的综艺节目](https://ent.qianlong.com/2024/0207/8200732.shtml)\u001b[0m\n",
      "\n",
      "\u001b[1m> Finished chain.\u001b[0m\n"
     ]
    },
    {
     "data": {
      "text/plain": [
       "{'input': '吴京的老婆主持过什么综艺节目?',\n",
       " 'chat_history': [HumanMessage(content='吴京的老婆是谁？'),\n",
       "  AIMessage(content='吴京的妻子是节目主持人谢楠。')],\n",
       " 'output': '根据搜索结果，谢楠曾主持过央视的春晚节目。您可以在以下链接中找到更多信息：[谢楠主持的综艺节目](https://ent.qianlong.com/2024/0207/8200732.shtml)'}"
      ]
     },
     "execution_count": 417,
     "metadata": {},
     "output_type": "execute_result"
    }
   ],
   "source": [
    "from langchain_core.messages import AIMessage, HumanMessage\n",
    "tools_agent_executor.invoke(\n",
    "    {\n",
    "        \"input\": \"吴京的老婆主持过什么综艺节目?\",\n",
    "        \"chat_history\": [\n",
    "            HumanMessage(content=\"吴京的老婆是谁？\"),\n",
    "            AIMessage(content=\"吴京的妻子是节目主持人谢楠。\"),\n",
    "        ],\n",
    "    }\n",
    ")"
   ]
  }
 ],
 "metadata": {
  "kernelspec": {
   "display_name": "langchani-book-py3.10-ipykernel",
   "language": "python",
   "name": "langchani-book-py3.10-ipykernel"
  },
  "language_info": {
   "codemirror_mode": {
    "name": "ipython",
    "version": 3
   },
   "file_extension": ".py",
   "mimetype": "text/x-python",
   "name": "python",
   "nbconvert_exporter": "python",
   "pygments_lexer": "ipython3",
   "version": "3.10.0"
  }
 },
 "nbformat": 4,
 "nbformat_minor": 5
}
