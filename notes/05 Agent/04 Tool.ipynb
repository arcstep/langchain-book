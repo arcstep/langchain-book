{
 "cells": [
  {
   "cell_type": "code",
   "execution_count": 1,
   "id": "6b7b6b68-6c0a-46b5-89a2-bbd698405618",
   "metadata": {
    "editable": true,
    "slideshow": {
     "slide_type": ""
    },
    "tags": []
   },
   "outputs": [
    {
     "data": {
      "text/plain": [
       "True"
      ]
     },
     "execution_count": 1,
     "metadata": {},
     "output_type": "execute_result"
    }
   ],
   "source": [
    "import os\n",
    "from dotenv import load_dotenv, find_dotenv\n",
    "load_dotenv(find_dotenv(), override=True)"
   ]
  },
  {
   "cell_type": "markdown",
   "id": "e222b826-816f-48ba-a2cb-262860f1154f",
   "metadata": {},
   "source": [
    "# 定义工具"
   ]
  },
  {
   "cell_type": "markdown",
   "id": "b25bd9b6-6318-480c-b799-655218d3da08",
   "metadata": {
    "editable": true,
    "slideshow": {
     "slide_type": ""
    },
    "tags": []
   },
   "source": [
    "组成工具的组件：\n",
    "\n",
    "- name (str), **必要字段** 在智能体的可选工具集中必须是唯一名称\n",
    "- description (str), **可选字段** 强烈建议提供，智能体可以通过这个字段正确地找到工具\n",
    "- args_schema (Pydantic BaseModel), **可选字段** 强烈建议提供，可用于提供数据样本或参数校验"
   ]
  },
  {
   "cell_type": "code",
   "execution_count": 2,
   "id": "1a7588be-2af0-4741-81dc-7160e06fc6ff",
   "metadata": {
    "editable": true,
    "slideshow": {
     "slide_type": ""
    },
    "tags": []
   },
   "outputs": [],
   "source": [
    "# Import things that are needed generically\n",
    "from langchain.pydantic_v1 import BaseModel, Field\n",
    "from langchain.tools import BaseTool, StructuredTool, tool"
   ]
  },
  {
   "cell_type": "markdown",
   "id": "705ce729-ffb8-42c1-a683-da7c0af773f7",
   "metadata": {},
   "source": [
    "## `@tool` 装饰器"
   ]
  },
  {
   "cell_type": "markdown",
   "id": "a05377ad-1335-4106-8667-5f5852d67f77",
   "metadata": {},
   "source": [
    "如果想在定义 Python 函数的同时将其声明为工具，使用 `@tool` 是最简单的方案。"
   ]
  },
  {
   "cell_type": "code",
   "execution_count": 15,
   "id": "9d738f81-ab62-4c0c-947b-e5eb77bbc393",
   "metadata": {},
   "outputs": [],
   "source": [
    "@tool\n",
    "def search(query: str) -> str:\n",
    "    \"\"\"Look up things online.\"\"\"\n",
    "    return \"LangChain\""
   ]
  },
  {
   "cell_type": "code",
   "execution_count": 4,
   "id": "1c21050f-eea2-463b-bf77-4dc5fb67d399",
   "metadata": {},
   "outputs": [
    {
     "name": "stdout",
     "output_type": "stream",
     "text": [
      "search\n",
      "search(query: str) -> str - Look up things online.\n",
      "{'query': {'title': 'Query', 'type': 'string'}}\n"
     ]
    }
   ],
   "source": [
    "print(search.name)\n",
    "print(search.description)\n",
    "print(search.args)"
   ]
  },
  {
   "cell_type": "markdown",
   "id": "60d88d66-be95-40ff-8b76-664788fda85c",
   "metadata": {},
   "source": [
    "## `@tool` + Pydantic 修饰"
   ]
  },
  {
   "cell_type": "markdown",
   "id": "d09e5e25-f3f0-48b0-866b-eb7b64d774c9",
   "metadata": {},
   "source": [
    "使用 Pydantic 可以丰富工具的说明，这非常有利于智能体的推理，因此是强烈建议的。"
   ]
  },
  {
   "cell_type": "code",
   "execution_count": 5,
   "id": "d266710f-53ce-4e90-9366-119927e10689",
   "metadata": {},
   "outputs": [],
   "source": [
    "class SearchInput(BaseModel):\n",
    "    query: str = Field(description=\"should be a search query\")\n",
    "\n",
    "@tool(\"search-tool\", args_schema=SearchInput, return_direct=True)\n",
    "def search(query: str) -> str:\n",
    "    \"\"\"Look up things online.\"\"\"\n",
    "    return \"LangChain\""
   ]
  },
  {
   "cell_type": "code",
   "execution_count": 6,
   "id": "e194e5f2-cc32-4fcc-8f1d-a2fc320f2801",
   "metadata": {},
   "outputs": [
    {
     "name": "stdout",
     "output_type": "stream",
     "text": [
      "search-tool\n",
      "search-tool(query: str) -> str - Look up things online.\n",
      "{'query': {'title': 'Query', 'description': 'should be a search query', 'type': 'string'}}\n",
      "True\n"
     ]
    }
   ],
   "source": [
    "print(search.name)\n",
    "print(search.description)\n",
    "print(search.args)\n",
    "print(search.return_direct)"
   ]
  },
  {
   "cell_type": "markdown",
   "id": "626a9871-2601-4f2a-814a-713e4e307dbe",
   "metadata": {},
   "source": [
    "## BaseTool 子类"
   ]
  },
  {
   "cell_type": "markdown",
   "id": "6e018c6b-9de8-4ebc-8d8e-f71ae4523d22",
   "metadata": {},
   "source": [
    "实际上，`@tool`装饰器是 BaseTool 的一个简化版本。"
   ]
  },
  {
   "cell_type": "code",
   "execution_count": 14,
   "id": "249cb9b5-61b8-4b43-a216-de0700d14c4b",
   "metadata": {},
   "outputs": [],
   "source": [
    "from typing import Optional, Type\n",
    "\n",
    "from langchain.callbacks.manager import (\n",
    "    AsyncCallbackManagerForToolRun,\n",
    "    CallbackManagerForToolRun,\n",
    ")\n",
    "\n",
    "class SearchInput(BaseModel):\n",
    "    query: str = Field(description=\"should be a search query\")\n",
    "\n",
    "class CustomSearchTool(BaseTool):\n",
    "    name = \"custom_search\"\n",
    "    description = \"useful for when you need to answer questions about current events\"\n",
    "    args_schema: Type[BaseModel] = SearchInput\n",
    "\n",
    "    def _run(\n",
    "        self, query: str, run_manager: Optional[CallbackManagerForToolRun] = None\n",
    "    ) -> str:\n",
    "        \"\"\"Use the tool.\"\"\"\n",
    "        return \"LangChain\"\n",
    "\n",
    "    async def _arun(\n",
    "        self, query: str, run_manager: Optional[AsyncCallbackManagerForToolRun] = None\n",
    "    ) -> str:\n",
    "        \"\"\"Use the tool asynchronously.\"\"\"\n",
    "        raise NotImplementedError(\"custom_search does not support async\")"
   ]
  },
  {
   "cell_type": "code",
   "execution_count": 8,
   "id": "a1b45487-af01-4fbe-b432-59a971361ec6",
   "metadata": {},
   "outputs": [
    {
     "name": "stdout",
     "output_type": "stream",
     "text": [
      "custom_search\n",
      "useful for when you need to answer questions about current events\n",
      "{'query': {'title': 'Query', 'description': 'should be a search query', 'type': 'string'}}\n"
     ]
    }
   ],
   "source": [
    "search = CustomSearchTool()\n",
    "print(search.name)\n",
    "print(search.description)\n",
    "print(search.args)"
   ]
  },
  {
   "cell_type": "markdown",
   "id": "ddae699a-28f7-4b69-be62-2759650cfcf0",
   "metadata": {
    "editable": true,
    "slideshow": {
     "slide_type": ""
    },
    "tags": []
   },
   "source": [
    "## StructuredTool 子类"
   ]
  },
  {
   "cell_type": "markdown",
   "id": "703ea855-3940-443b-9c4b-dedbebaf6c9e",
   "metadata": {},
   "source": [
    "你也可以将已经定义好的 Python 函数转换为 Tool 给智能体使用。"
   ]
  },
  {
   "cell_type": "code",
   "execution_count": 9,
   "id": "9dd5c98a-84bf-45d7-a284-4c3c25028006",
   "metadata": {},
   "outputs": [],
   "source": [
    "def search_function(query: str):\n",
    "    return \"LangChain\"\n",
    "\n",
    "search = StructuredTool.from_function(\n",
    "    func=search_function,\n",
    "    name=\"Search\",\n",
    "    description=\"useful for when you need to answer questions about current events\",\n",
    "    # coroutine= ... <- you can specify an async method if desired as well\n",
    ")"
   ]
  },
  {
   "cell_type": "code",
   "execution_count": 10,
   "id": "19727309-49f5-4726-b75b-82af34dfea66",
   "metadata": {},
   "outputs": [
    {
     "name": "stdout",
     "output_type": "stream",
     "text": [
      "Search\n",
      "Search(query: str) - useful for when you need to answer questions about current events\n",
      "{'query': {'title': 'Query', 'type': 'string'}}\n"
     ]
    }
   ],
   "source": [
    "print(search.name)\n",
    "print(search.description)\n",
    "print(search.args)"
   ]
  },
  {
   "cell_type": "markdown",
   "id": "4acab64f-dd1b-4ccc-ba22-61fcaabd4a9f",
   "metadata": {},
   "source": [
    "## StructuredTool + Pydantic 修饰"
   ]
  },
  {
   "cell_type": "code",
   "execution_count": 12,
   "id": "5dc92bd4-728a-4694-99a8-8e228272db20",
   "metadata": {
    "editable": true,
    "slideshow": {
     "slide_type": ""
    },
    "tags": []
   },
   "outputs": [],
   "source": [
    "def search_function(query: str):\n",
    "    return \"LangChain\"\n",
    "\n",
    "class SearchInput(BaseModel):\n",
    "    query: str = Field(description=\"should be a search query\")\n",
    "    \n",
    "search = StructuredTool.from_function(\n",
    "    func=search_function,\n",
    "    name=\"Search\",\n",
    "    description=\"useful for when you need to answer questions about current events\",\n",
    "    args_schema=SearchInput,\n",
    "    return_direct=True\n",
    ")"
   ]
  },
  {
   "cell_type": "code",
   "execution_count": 13,
   "id": "a30c3604-4224-4091-b151-3154cc060cb3",
   "metadata": {},
   "outputs": [
    {
     "name": "stdout",
     "output_type": "stream",
     "text": [
      "Search\n",
      "Search(query: str) - useful for when you need to answer questions about current events\n",
      "{'query': {'title': 'Query', 'description': 'should be a search query', 'type': 'string'}}\n",
      "True\n"
     ]
    }
   ],
   "source": [
    "print(search.name)\n",
    "print(search.description)\n",
    "print(search.args)\n",
    "print(search.return_direct)"
   ]
  },
  {
   "cell_type": "markdown",
   "id": "7308d044-5b64-4ed5-8b99-5167c9b92fb6",
   "metadata": {},
   "source": [
    "# 工具如何支持流式输出"
   ]
  },
  {
   "cell_type": "markdown",
   "id": "51b5689e-0bda-49d4-ad88-b182f61c7a50",
   "metadata": {},
   "source": [
    "# 工具如何支持异步"
   ]
  },
  {
   "cell_type": "code",
   "execution_count": null,
   "id": "e73a7b26-1466-4624-a05a-1c3033861010",
   "metadata": {},
   "outputs": [],
   "source": []
  }
 ],
 "metadata": {
  "kernelspec": {
   "display_name": "langchani-book-py3.10-ipykernel",
   "language": "python",
   "name": "langchani-book-py3.10-ipykernel"
  },
  "language_info": {
   "codemirror_mode": {
    "name": "ipython",
    "version": 3
   },
   "file_extension": ".py",
   "mimetype": "text/x-python",
   "name": "python",
   "nbconvert_exporter": "python",
   "pygments_lexer": "ipython3",
   "version": "3.10.0"
  }
 },
 "nbformat": 4,
 "nbformat_minor": 5
}
