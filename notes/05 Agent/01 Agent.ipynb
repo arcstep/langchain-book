{
 "cells": [
  {
   "cell_type": "code",
   "execution_count": null,
   "id": "e82e5ef0-9b83-4d16-a234-575ed7a37805",
   "metadata": {
    "scrolled": true
   },
   "outputs": [],
   "source": [
    "!poetry add langchain-openai langchainhub"
   ]
  },
  {
   "cell_type": "code",
   "execution_count": null,
   "id": "e1b214a6-43a2-42ca-8e35-1c590b5653ec",
   "metadata": {},
   "outputs": [],
   "source": [
    "!poetry add faiss-cpu"
   ]
  },
  {
   "cell_type": "code",
   "execution_count": 1,
   "id": "969ef750-4e62-4f35-a3b7-c24f063a3b29",
   "metadata": {},
   "outputs": [
    {
     "data": {
      "text/plain": [
       "True"
      ]
     },
     "execution_count": 1,
     "metadata": {},
     "output_type": "execute_result"
    }
   ],
   "source": [
    "# 在启动Jupyter的根目录编辑一个 .env ，然后执行下面代码自动加载环境变量\n",
    "import os\n",
    "from dotenv import load_dotenv, find_dotenv\n",
    "load_dotenv(find_dotenv(), override=True)"
   ]
  },
  {
   "cell_type": "code",
   "execution_count": null,
   "id": "3fffa9cf-b373-4385-904c-72bfa6ffd6a2",
   "metadata": {
    "scrolled": true
   },
   "outputs": [],
   "source": [
    "# 或者手工输入环境变量\n",
    "import os\n",
    "import getpass\n",
    "\n",
    "os.environ['OPENAI_API_KEY'] = getpass.getpass('OpenAI API Key:')\n",
    "os.environ['TAVILY_API_KEY'] = getpass.getpass('TAVILY API Key:')"
   ]
  },
  {
   "cell_type": "markdown",
   "id": "ea29c6bb-0c8b-4d19-b9a7-7346a9036ca7",
   "metadata": {},
   "source": [
    "# 简单的智能体例子"
   ]
  },
  {
   "cell_type": "markdown",
   "id": "e215acd7-5ddd-46dc-86c3-31b4a6c2555d",
   "metadata": {},
   "source": [
    "## 工具1：搜索工具"
   ]
  },
  {
   "cell_type": "code",
   "execution_count": 2,
   "id": "ea304682-d9e6-42a1-9145-8d73de31828e",
   "metadata": {},
   "outputs": [],
   "source": [
    "from langchain_community.tools.tavily_search import TavilySearchResults\n",
    "search = TavilySearchResults()"
   ]
  },
  {
   "cell_type": "markdown",
   "id": "8a52e1cb-7be1-4050-bb9f-28914f9f4b2f",
   "metadata": {},
   "source": [
    "使用工具之前先看看效果："
   ]
  },
  {
   "cell_type": "code",
   "execution_count": 15,
   "id": "97b357ca-6062-4639-b74e-e7c3483596c5",
   "metadata": {},
   "outputs": [
    {
     "data": {
      "text/plain": [
       "[{'url': 'https://www.zhihu.com/question/444289743',\n",
       "  'content': '第一部是《 紫府仙缘 》，主角就是天生的苟，各种苟，明明实力同等级第一，偏偏要装成弱鸡，在第一轮接触就被秒杀（装死），然后默默苟到最后，一轮爆发干死 鹬蚌 ，坐收渔利。. 这一部讲述了整个大陆的总体的样貌，但留下了数以万计的大坑。. 已完结 ...'},\n",
       " {'url': 'https://m.maigoo.com/top/413883.html',\n",
       "  'content': '大道争锋. 0. 戮仙. 勿扰飞升. 仙本纯良. 我不成仙. 慢慢仙途. 修真界败类. 十大完结修仙小说排行榜，本榜单主要依据各大小说网站（起点中文网、创世中文网、纵横中文网、晋江文学等）的推荐数、收藏数、点击数，网友推荐、百度指数等等情况，并综合参考 ...'},\n",
       " {'url': 'https://www.zhihu.com/question/409513352',\n",
       "  'content': '文笔当然有与《大道争锋》差别不大，坐等完结再看。. 3.《剑徒之路》惰堕. 当初乌贼的看完 《灭运图录》 （仙葫流，强烈推荐，从第二卷开阅读）和《大道争锋》之后，一直想找一个相似世界观和设定的小说（重视心性修炼，配角心志坚定智商较高），然而 ...'},\n",
       " {'url': 'https://www.maigoo.com/top/425441.html',\n",
       "  'content': '2024年最火修仙小说有哪些？目前什么修仙小说人气最高？当下热门的修仙小说越来越多了，除了一些经典的完本修仙小说外，还有许多正在连载的修仙小说，都不知道看什么好。 ... 2024十大热门修仙小说排行榜 人气修仙小说top10 最火的修仙小说推荐 ...'},\n",
       " {'url': 'https://zhuanlan.zhihu.com/p/654899257',\n",
       "  'content': '1. 《凡人修仙传》 - 作者：忘语. 简介：这是一部经典的修仙小说，讲述了主人公方源从一个普通凡人开始修炼，逐渐成为强大修仙者的故事。. 他经历了数次生死考验，探索仙侠世界的奥秘。. 2. 《仙逆》 - 作者：耳根. 简介：故事以普通少年苏名章为主角 ...'}]"
      ]
     },
     "execution_count": 15,
     "metadata": {},
     "output_type": "execute_result"
    }
   ],
   "source": [
    "search.invoke({\"query\": \"最火的修仙小说\"})"
   ]
  },
  {
   "cell_type": "markdown",
   "id": "c32bdc88-eae5-4657-be30-bbcc09dcdbef",
   "metadata": {},
   "source": [
    "## 工具2：向量文本检索"
   ]
  },
  {
   "cell_type": "code",
   "execution_count": 17,
   "id": "0e0ef7f0-5047-4890-9cb5-33399542f563",
   "metadata": {},
   "outputs": [],
   "source": [
    "from langchain_community.document_loaders import WebBaseLoader\n",
    "\n",
    "docs = WebBaseLoader(\"https://python.langchain.com/docs/langgraph\").load()"
   ]
  },
  {
   "cell_type": "code",
   "execution_count": 50,
   "id": "d6f95d8e-6a01-423c-892c-43bded8ae70c",
   "metadata": {
    "scrolled": true
   },
   "outputs": [],
   "source": [
    "from langchain.text_splitter import RecursiveCharacterTextSplitter\n",
    "from langchain_community.vectorstores import FAISS\n",
    "from langchain_openai import OpenAIEmbeddings"
   ]
  },
  {
   "cell_type": "code",
   "execution_count": 51,
   "id": "7ba91699-4310-46ff-944a-2535decda8b3",
   "metadata": {},
   "outputs": [],
   "source": [
    "documents = RecursiveCharacterTextSplitter(\n",
    "    chunk_size=1000, chunk_overlap=200\n",
    ").split_documents(docs)\n",
    "vector = FAISS.from_documents(documents, OpenAIEmbeddings())\n",
    "retriever = vector.as_retriever()"
   ]
  },
  {
   "cell_type": "code",
   "execution_count": 52,
   "id": "24c4b1d7-89f4-4cc7-abd7-7dd9dae5a791",
   "metadata": {},
   "outputs": [],
   "source": [
    "from langchain.tools.retriever import create_retriever_tool\n",
    "\n",
    "retriever_tool = create_retriever_tool(\n",
    "    retriever,\n",
    "    \"langgraph_search\",\n",
    "    \"搜索关于LangGraph的信息。询问任何关于LangGraph的信息，你都必须使用这个工具!\",\n",
    ")"
   ]
  },
  {
   "cell_type": "markdown",
   "id": "a268a10f-875a-49bb-95f6-5bbcdc54ddea",
   "metadata": {},
   "source": [
    "## 创建智能体"
   ]
  },
  {
   "cell_type": "markdown",
   "id": "5dcd32c7-1f6d-4cea-9366-e269985d88a9",
   "metadata": {},
   "source": [
    "## 定义行动部份"
   ]
  },
  {
   "cell_type": "code",
   "execution_count": 38,
   "id": "1d72e3be-b777-4aa9-a48c-6d539497c969",
   "metadata": {},
   "outputs": [],
   "source": [
    "tools = [search, retriever_tool]"
   ]
  },
  {
   "cell_type": "markdown",
   "id": "2661189b-b36b-4724-8a18-632553b9d8ad",
   "metadata": {},
   "source": [
    "## 定义思考部份"
   ]
  },
  {
   "cell_type": "code",
   "execution_count": 39,
   "id": "df3fe9f2-adf4-4abd-aa3e-3523ec899250",
   "metadata": {},
   "outputs": [],
   "source": [
    "from langchain_openai import ChatOpenAI\n",
    "llm = ChatOpenAI(model=\"gpt-3.5-turbo\", temperature=0)"
   ]
  },
  {
   "cell_type": "code",
   "execution_count": 40,
   "id": "9a38f011-5d91-4ba8-be5d-b5d4ee2a79f4",
   "metadata": {},
   "outputs": [],
   "source": [
    "from langchain import hub\n",
    "# Get the prompt to use - you can modify this!\n",
    "prompt = hub.pull(\"hwchase17/openai-functions-agent\")"
   ]
  },
  {
   "cell_type": "code",
   "execution_count": 46,
   "id": "cc4dc333-60be-4308-9a74-dfb83942835f",
   "metadata": {},
   "outputs": [],
   "source": [
    "from langchain.agents import create_openai_tools_agent\n",
    "agent = create_openai_tools_agent(llm, tools, prompt)"
   ]
  },
  {
   "cell_type": "markdown",
   "id": "52f56231-301d-4ae2-adeb-373c641745ab",
   "metadata": {},
   "source": [
    "## 定义运行器"
   ]
  },
  {
   "cell_type": "code",
   "execution_count": 47,
   "id": "4ddbade3-f416-40fc-81d6-bb70174789c8",
   "metadata": {},
   "outputs": [],
   "source": [
    "from langchain.agents import AgentExecutor\n",
    "agent_executor = AgentExecutor(agent=agent, tools=tools, verbose=True)"
   ]
  },
  {
   "cell_type": "markdown",
   "id": "83794c26-1360-4a66-80fe-f79763a2a83c",
   "metadata": {},
   "source": [
    "## 运行智能体"
   ]
  },
  {
   "cell_type": "code",
   "execution_count": 49,
   "id": "ca9a5ce1-e7ba-4f09-a102-ab100e616b39",
   "metadata": {},
   "outputs": [
    {
     "name": "stdout",
     "output_type": "stream",
     "text": [
      "\n",
      "\n",
      "\u001b[1m> Entering new AgentExecutor chain...\u001b[0m\n",
      "\u001b[32;1m\u001b[1;3m你好！有什么可以帮助你的吗？如果你有任何问题或需要帮助，请随时告诉我。\u001b[0m\n",
      "\n",
      "\u001b[1m> Finished chain.\u001b[0m\n",
      "{'output': '你好！有什么可以帮助你的吗？如果你有任何问题或需要帮助，请随时告诉我。', 'messages': [AIMessage(content='你好！有什么可以帮助你的吗？如果你有任何问题或需要帮助，请随时告诉我。')]}\n"
     ]
    }
   ],
   "source": [
    "agent_executor.invoke({\"input\": \"你好!\"})"
   ]
  },
  {
   "cell_type": "code",
   "execution_count": 43,
   "id": "0f9e5385-9c3a-4f01-b14b-5eaf8c682ec3",
   "metadata": {},
   "outputs": [
    {
     "name": "stdout",
     "output_type": "stream",
     "text": [
      "\n",
      "\n",
      "\u001b[1m> Entering new AgentExecutor chain...\u001b[0m\n",
      "\u001b[32;1m\u001b[1;3m\n",
      "Invoking: `langgraph_search` with `{'query': 'What is LangGraph?'}`\n",
      "\n",
      "\n",
      "\u001b[0m\u001b[33;1m\u001b[1;3mü¶úüï∏Ô∏èLangGraph | ü¶úÔ∏èüîó Langchain\n",
      "\n",
      "It is inspired by Pregel and Apache Beam.\n",
      "The current interface exposed is one inspired by NetworkX.The main use is for adding cycles to your LLM application.\n",
      "Crucially, this is NOT a DAG framework.\n",
      "If you want to build a DAG, you should just use LangChain Expression Language.Cycles are important for agent-like behaviors, where you call an LLM in a loop, asking it what action to take next.Installation‚Äãpip install langgraphQuick Start‚ÄãHere we will go over an example of creating a simple agent that uses chat models and function calling.\n",
      "\n",
      "Skip to main contentDocsUse casesIntegrationsGuidesAPIMorePeopleVersioningChangelogContributingTemplatesCookbooksTutorialsYouTubeü¶úÔ∏èüîóLangSmithLangSmith DocsLangServe GitHubTemplates GitHubTemplates HubLangChain HubJS/TS DocsChatSearchGet startedIntroductionInstallationQuickstartSecurityLangChain Expression LanguageGet startedWhy use LCELInterfaceStreamingHow toCookbookLangChain Expression Language (LCEL)ModulesModel I/ORetrievalAgentsChainsMoreLangServeLangSmithLangGraphLangGraphOn this pageü¶úüï∏Ô∏èLangGraph‚ö° Building language agents as graphs ‚ö°Overview‚ÄãLangGraph is a library for building stateful, multi-actor applications with LLMs, built on top of (and intended to be used with) LangChain.\n",
      "It extends the LangChain Expression Language with the ability to coordinate multiple chains (or actors) across multiple steps of computation in a cyclic manner.\n",
      "It is inspired by Pregel and Apache Beam.\n",
      "\n",
      "web browsing agent that uses Set-of-marks prompting to navigate a web browser and execute tasksDocumentation‚ÄãThere are only a few new APIs to use.StateGraph‚ÄãThe main entrypoint is StateGraph.from langgraph.graph import StateGraphThis class is responsible for constructing the graph.\u001b[0m\u001b[32;1m\u001b[1;3mLangGraph是一个用于构建具有LLM（Language Model）的有状态、多角色应用程序的库，建立在LangChain之上。它扩展了LangChain Expression Language，使其能够以循环方式协调多个链条（或角色）在多个计算步骤中的操作。LangGraph受到Pregel和Apache Beam的启发，主要用于向您的LLM应用程序添加循环。LangGraph不是一个DAG框架，如果您想构建DAG，应该使用LangChain Expression Language。循环对于类似代理的行为非常重要，其中您在循环中调用LLM，询问它下一步应该采取什么行动。\u001b[0m\n",
      "\n",
      "\u001b[1m> Finished chain.\u001b[0m\n"
     ]
    },
    {
     "data": {
      "text/plain": [
       "{'input': 'langgraph是什么？',\n",
       " 'output': 'LangGraph是一个用于构建具有LLM（Language Model）的有状态、多角色应用程序的库，建立在LangChain之上。它扩展了LangChain Expression Language，使其能够以循环方式协调多个链条（或角色）在多个计算步骤中的操作。LangGraph受到Pregel和Apache Beam的启发，主要用于向您的LLM应用程序添加循环。LangGraph不是一个DAG框架，如果您想构建DAG，应该使用LangChain Expression Language。循环对于类似代理的行为非常重要，其中您在循环中调用LLM，询问它下一步应该采取什么行动。'}"
      ]
     },
     "execution_count": 43,
     "metadata": {},
     "output_type": "execute_result"
    }
   ],
   "source": [
    "agent_executor.invoke({\"input\": \"langgraph是什么？\"})"
   ]
  },
  {
   "cell_type": "code",
   "execution_count": 44,
   "id": "e8112642-f88b-417b-ac45-7c8dae9f3dfc",
   "metadata": {},
   "outputs": [
    {
     "name": "stdout",
     "output_type": "stream",
     "text": [
      "\n",
      "\n",
      "\u001b[1m> Entering new AgentExecutor chain...\u001b[0m\n",
      "\u001b[32;1m\u001b[1;3m\n",
      "Invoking: `langgraph_search` with `{'query': 'Steps to implement a LangGraph application'}`\n",
      "\n",
      "\n",
      "\u001b[0m\u001b[33;1m\u001b[1;3mFor a walkthrough on how to do that, see this documentationStreaming Tokens‚ÄãSometimes language models take a while to respond and you may want to stream tokens to end users.\n",
      "For a guide on how to do this, see this documentationPersistence‚ÄãLangGraph comes with built-in persistence, allowing you to save the state of the graph at point and resume from there.\n",
      "For a walkthrough on how to do that, see this documentationHuman-in-the-loop‚ÄãLangGraph comes with built-in support for human-in-the-loop workflows. This is useful when you want to have a human review the current state before proceeding to a particular node.\n",
      "\n",
      "print(\"----\")PreviousLangSmith WalkthroughOverviewInstallationQuick StartSet up the toolsSet up the modelDefine the agent stateDefine the nodesDefine the graphUse it!StreamingStreaming Node OutputStreaming LLM TokensWhen to UseExamplesChatAgentExecutor: with function callingAgentExecutorAsyncStreaming TokensPersistenceHuman-in-the-loopPlanning Agent ExamplesReflection / Self-CritiqueMulti-agent ExamplesChatbot Evaluation via SimulationMultimodal ExamplesDocumentationStateGraphGraphENDPrebuilt ExamplesToolExecutorchat_agent_executor.create_function_calling_executorcreate_agent_executorCommunityDiscordTwitterGitHubPythonJS/TSMoreHomepageBlogYouTubeCopyright ¬© 2024 LangChain, Inc.\n",
      "\n",
      "ü¶úüï∏Ô∏èLangGraph | ü¶úÔ∏èüîó Langchain\n",
      "\n",
      "It is inspired by Pregel and Apache Beam.\n",
      "The current interface exposed is one inspired by NetworkX.The main use is for adding cycles to your LLM application.\n",
      "Crucially, this is NOT a DAG framework.\n",
      "If you want to build a DAG, you should just use LangChain Expression Language.Cycles are important for agent-like behaviors, where you call an LLM in a loop, asking it what action to take next.Installation‚Äãpip install langgraphQuick Start‚ÄãHere we will go over an example of creating a simple agent that uses chat models and function calling.\u001b[0m\u001b[32;1m\u001b[1;3m实现一个LangGraph应用需要完成以下步骤：\n",
      "\n",
      "1. 安装LangGraph：使用pip install langgraph命令安装LangGraph。\n",
      "2. 快速开始：创建一个简单的代理程序，该代理程序使用聊天模型和函数调用。可以参考快速开始文档进行操作。\n",
      "3. 设置工具：设置工具，包括模型、代理状态、节点和图。\n",
      "4. 使用流式传输：有时语言模型需要一段时间才能响应，可以使用流式传输来向最终用户传递令牌。\n",
      "5. 持久性：LangGraph内置持久性功能，允许您保存图的状态并在需要时恢复。\n",
      "6. 人在循环中：LangGraph内置支持人在循环工作流程，当您希望在继续到特定节点之前让人员审查当前状态时，这将非常有用。\n",
      "\n",
      "您可以参考LangGraph的文档和示例来详细了解如何实现LangGraph应用。\u001b[0m\n",
      "\n",
      "\u001b[1m> Finished chain.\u001b[0m\n"
     ]
    },
    {
     "data": {
      "text/plain": [
       "{'input': '实现一个langgraph应用需要做哪些步骤?',\n",
       " 'output': '实现一个LangGraph应用需要完成以下步骤：\\n\\n1. 安装LangGraph：使用pip install langgraph命令安装LangGraph。\\n2. 快速开始：创建一个简单的代理程序，该代理程序使用聊天模型和函数调用。可以参考快速开始文档进行操作。\\n3. 设置工具：设置工具，包括模型、代理状态、节点和图。\\n4. 使用流式传输：有时语言模型需要一段时间才能响应，可以使用流式传输来向最终用户传递令牌。\\n5. 持久性：LangGraph内置持久性功能，允许您保存图的状态并在需要时恢复。\\n6. 人在循环中：LangGraph内置支持人在循环工作流程，当您希望在继续到特定节点之前让人员审查当前状态时，这将非常有用。\\n\\n您可以参考LangGraph的文档和示例来详细了解如何实现LangGraph应用。'}"
      ]
     },
     "execution_count": 44,
     "metadata": {},
     "output_type": "execute_result"
    }
   ],
   "source": [
    "agent_executor.invoke({\"input\": \"实现一个langgraph应用需要做哪些步骤?\"})"
   ]
  },
  {
   "cell_type": "markdown",
   "id": "e13f9c47-aa75-4e37-8325-2f7cfad0e7f4",
   "metadata": {},
   "source": [
    "# 概念"
   ]
  },
  {
   "cell_type": "markdown",
   "id": "95d83bb9-2ff2-4cb1-88cc-9218ddebfb8e",
   "metadata": {},
   "source": [
    "## Schema"
   ]
  },
  {
   "cell_type": "markdown",
   "id": "6e96eee9-fc4c-4e7b-a7df-9e22f12ad914",
   "metadata": {},
   "source": [
    "LangChain定义了让更容易让智能体工作的几个抽象类。"
   ]
  },
  {
   "cell_type": "markdown",
   "id": "ad9069ec-47f7-4002-be2f-806b136bccaf",
   "metadata": {},
   "source": [
    "### AgentAction"
   ]
  },
  {
   "cell_type": "markdown",
   "id": "2d6528ba-b2d9-4336-ac70-d9f16bde622a",
   "metadata": {},
   "source": [
    "这是包装数据的类，包含一个**tool**属性和一个**tool_input**属性。"
   ]
  },
  {
   "cell_type": "markdown",
   "id": "d31ce6bf-e722-4817-8e06-95dbd4572692",
   "metadata": {},
   "source": [
    "### AgentFinish"
   ]
  },
  {
   "cell_type": "markdown",
   "id": "9d593021-ac3b-425c-8d76-0b7d4358439a",
   "metadata": {},
   "source": [
    "返回最终结果。"
   ]
  },
  {
   "cell_type": "markdown",
   "id": "21aeebcf-96d6-4510-8fbb-b0cf2f7a0fd0",
   "metadata": {},
   "source": [
    "### Intermediate Steps"
   ]
  },
  {
   "cell_type": "markdown",
   "id": "f78ddc3c-5989-4722-8fcd-ee57ac86a8da",
   "metadata": {},
   "source": [
    "当前智能体返回的中间结果，会作为将来继续执行时的上下文。"
   ]
  },
  {
   "cell_type": "markdown",
   "id": "0b549505-c6f0-43bb-a4ed-b3b429064fc6",
   "metadata": {},
   "source": [
    "## Agent"
   ]
  },
  {
   "cell_type": "markdown",
   "id": "af958a69-0bce-4898-8701-fc7d3da38fae",
   "metadata": {},
   "source": [
    "这是一个决定下一步如何执行的 **chain**，通常会包含大模型、提示语和输出解析等关键部件。"
   ]
  },
  {
   "cell_type": "markdown",
   "id": "a8f235d6-ef1a-4604-a051-f4e48bd49b10",
   "metadata": {},
   "source": [
    "### Agent Inputs"
   ]
  },
  {
   "cell_type": "markdown",
   "id": "2146441b-3e3b-4d02-9538-26d2714dfd4a",
   "metadata": {},
   "source": [
    "通常是包含 **Intermediate Steps** 的键值对。"
   ]
  },
  {
   "cell_type": "markdown",
   "id": "51330f66-083a-40df-b2e7-13dd59694edc",
   "metadata": {},
   "source": [
    "### Agent Outputs"
   ]
  },
  {
   "cell_type": "markdown",
   "id": "ad572012-ec37-4cb9-82e0-1025c26baad5",
   "metadata": {},
   "source": [
    "通常是 **AgentAction** 或 **AgentFinish** 。"
   ]
  },
  {
   "cell_type": "markdown",
   "id": "31f15d24-5efc-45bf-8c2d-fd3b59960bf6",
   "metadata": {},
   "source": [
    "## AgentExecutor"
   ]
  },
  {
   "cell_type": "markdown",
   "id": "1f525a0d-173d-454a-93e3-863a1bdb5348",
   "metadata": {},
   "source": [
    "调度 **Agent** 运行时，选择并执行其中包含的 **actions**。"
   ]
  },
  {
   "cell_type": "markdown",
   "id": "9b96994c-b27e-401b-821d-b6ccf6e26c4e",
   "metadata": {},
   "source": [
    "下面是简单的例子："
   ]
  },
  {
   "cell_type": "code",
   "execution_count": null,
   "id": "7dca1c4d-37f7-4cbe-8b9a-6a3c9070f472",
   "metadata": {},
   "outputs": [],
   "source": [
    "next_action = agent.get_action(...)\n",
    "while next_action != AgentFinish:\n",
    "    observation = run(next_action)\n",
    "    next_action = agent.get_action(..., next_action, observation)\n",
    "return next_action"
   ]
  },
  {
   "cell_type": "markdown",
   "id": "86fe89e3-7ba5-4e99-8d31-6de5e9edf07c",
   "metadata": {},
   "source": [
    "你还应当考虑："
   ]
  },
  {
   "cell_type": "markdown",
   "id": "58ee3039-8856-4a9f-874a-a16ea6b54f82",
   "metadata": {},
   "source": [
    "- 处理选中的 **tool** 不存在的情况\n",
    "- 处理 **tool** 中的异常\n",
    "- 处理智能体的输出结果无法映射到 **tool** 调用的情况\n",
    "- 打印或结合 **langfuse/langsmith** 处理日志和各层级的调试信息"
   ]
  },
  {
   "cell_type": "markdown",
   "id": "55aeee07-6dee-426b-9cdc-c932fa78e346",
   "metadata": {},
   "source": [
    "## Tools"
   ]
  },
  {
   "cell_type": "markdown",
   "id": "320ec9e7-0004-4fb8-8096-12e45ba8d6e7",
   "metadata": {},
   "source": [
    "**Tool** 的抽象是告诉大模型哪些参数可以被调用。包含两个部件。\n",
    "\n",
    "- 参数描述：如果没有这部份，大模型就无法确定该输入什么参数。这些参数应当是被良好命名和描述的。\n",
    "- 执行函数：一般是 **Python** 调用。"
   ]
  },
  {
   "cell_type": "markdown",
   "id": "37c38597-dd8d-4c82-bef4-48247208cec2",
   "metadata": {},
   "source": [
    "<div class=\"alert alert-info\">\n",
    "<b>注意思考</b><br>\n",
    "    \n",
    "- 必须为智能体提供可用的 **Tool**\n",
    "- 必须为智能体提供良好的描述\n",
    "</div>"
   ]
  },
  {
   "cell_type": "markdown",
   "id": "75655ba2-bc97-4600-905f-b3f482a23b9d",
   "metadata": {},
   "source": [
    "## Toolkits"
   ]
  },
  {
   "cell_type": "markdown",
   "id": "1ef2ba35-f878-46b9-9363-b49f08028a1e",
   "metadata": {},
   "source": [
    "**langchain** 为很多通用任务准备了开箱即用的工具集，如：\n",
    "- 生成或执行 **python** 代码 [https://python.langchain.com/docs/integrations/toolkits/python]\n",
    "- 浏览器机器人 [https://python.langchain.com/docs/integrations/toolkits/playwright]\n",
    "- 比较两个文档 [https://python.langchain.com/docs/integrations/toolkits/document_comparison_toolkit]\n",
    "- 处理 **CSV** [https://python.langchain.com/docs/integrations/toolkits/csv]\n",
    "- 处理 **pandas** [https://python.langchain.com/docs/integrations/toolkits/pandas]\n",
    "- 处理 **SQL** [https://python.langchain.com/docs/integrations/toolkits/sql_database]\n",
    "- 访问 **github** [https://python.langchain.com/docs/integrations/toolkits/github]\n",
    "- 访问 **gitlab** [https://python.langchain.com/docs/integrations/toolkits/gitlab]\n",
    "- 访问 **PowerBI** [https://python.langchain.com/docs/integrations/toolkits/powerbi]"
   ]
  },
  {
   "cell_type": "markdown",
   "id": "9c6dde63-ef10-4e3a-9725-88fdf59fc9d6",
   "metadata": {},
   "source": [
    "# 常用工具"
   ]
  },
  {
   "cell_type": "markdown",
   "id": "d3307377-0349-4675-8478-e81b368aeb26",
   "metadata": {},
   "source": [
    "## Web请求"
   ]
  },
  {
   "cell_type": "code",
   "execution_count": 87,
   "id": "000d62a5-b6fb-42e4-938e-2d40238b2f8d",
   "metadata": {},
   "outputs": [
    {
     "data": {
      "text/plain": [
       "[RequestsGetTool(requests_wrapper=TextRequestsWrapper(headers=None, aiosession=None, auth=None, response_content_type='text')),\n",
       " RequestsPostTool(requests_wrapper=TextRequestsWrapper(headers=None, aiosession=None, auth=None, response_content_type='text')),\n",
       " RequestsPatchTool(requests_wrapper=TextRequestsWrapper(headers=None, aiosession=None, auth=None, response_content_type='text')),\n",
       " RequestsPutTool(requests_wrapper=TextRequestsWrapper(headers=None, aiosession=None, auth=None, response_content_type='text')),\n",
       " RequestsDeleteTool(requests_wrapper=TextRequestsWrapper(headers=None, aiosession=None, auth=None, response_content_type='text'))]"
      ]
     },
     "execution_count": 87,
     "metadata": {},
     "output_type": "execute_result"
    }
   ],
   "source": [
    "from langchain.agents import load_tools\n",
    "\n",
    "requests_tools = load_tools([\"requests_all\"])\n",
    "requests_tools"
   ]
  },
  {
   "cell_type": "markdown",
   "id": "650e15dc-7f43-41d8-9e1d-ff9c8ec3e0ce",
   "metadata": {},
   "source": [
    "## 向量检索"
   ]
  },
  {
   "cell_type": "code",
   "execution_count": null,
   "id": "9224944d-e436-48bd-92f6-50543e0d9e48",
   "metadata": {},
   "outputs": [],
   "source": [
    "from langchain.tools.retriever import create_retriever_tool\n",
    "\n",
    "retriever_tool = create_retriever_tool(\n",
    "    retriever,\n",
    "    \"langgraph_search\",\n",
    "    \"搜索关于LangGraph的信息。询问任何关于LangGraph的信息，你都必须使用这个工具!\",\n",
    ")"
   ]
  },
  {
   "cell_type": "markdown",
   "id": "82243bbb-aac5-4581-99e9-d1d39c950fcd",
   "metadata": {},
   "source": [
    "## SQL"
   ]
  },
  {
   "cell_type": "code",
   "execution_count": 88,
   "id": "a0d47c77-e15c-4b3c-92bc-5e17b6d3d367",
   "metadata": {},
   "outputs": [],
   "source": [
    "from langchain.tools.sql_database.tool import (\n",
    "    BaseSQLDatabaseTool,\n",
    "    InfoSQLDatabaseTool,\n",
    "    ListSQLDatabaseTool,\n",
    "    QuerySQLCheckerTool,\n",
    "    QuerySQLDataBaseTool,\n",
    ")"
   ]
  },
  {
   "cell_type": "markdown",
   "id": "c13ccd87-1db6-4e70-800a-dd9862e20dda",
   "metadata": {},
   "source": [
    "## Shell"
   ]
  },
  {
   "cell_type": "code",
   "execution_count": 65,
   "id": "2932bae5-c2be-40fe-ac2d-c80321f78bc1",
   "metadata": {},
   "outputs": [],
   "source": [
    "from langchain.tools import ShellTool\n",
    "\n",
    "shell_tool = ShellTool()"
   ]
  },
  {
   "cell_type": "code",
   "execution_count": 67,
   "id": "c81b5381-fe6e-45ec-a944-3652674eda8b",
   "metadata": {},
   "outputs": [
    {
     "name": "stdout",
     "output_type": "stream",
     "text": [
      "Executing command:\n",
      " [\"echo 'Hello World!'\", 'time']\n",
      "Hello World!\n",
      "\n",
      "real\t0m0.001s\n",
      "user\t0m0.000s\n",
      "sys\t0m0.000s\n",
      "\n"
     ]
    },
    {
     "name": "stderr",
     "output_type": "stream",
     "text": [
      "/Users/xuehongwei/Library/Caches/pypoetry/virtualenvs/langchain-book-u1j6yauo-py3.10/lib/python3.10/site-packages/langchain_community/tools/shell/tool.py:32: UserWarning: The shell tool has no safeguards by default. Use at your own risk.\n",
      "  warnings.warn(\n"
     ]
    }
   ],
   "source": [
    "print(shell_tool.run({\"commands\": [\"echo 'Hello World!'\", \"time\"]}))"
   ]
  },
  {
   "cell_type": "markdown",
   "id": "a5172289-23d4-4a3a-8c92-daa0425bfa09",
   "metadata": {},
   "source": [
    "在智能体中使用："
   ]
  },
  {
   "cell_type": "code",
   "execution_count": null,
   "id": "8992dd41-d6fc-42e6-8be1-846b3358d324",
   "metadata": {},
   "outputs": [],
   "source": [
    "from langchain import hub\n",
    "from langchain.agents import AgentExecutor, create_openai_tools_agent\n",
    "from langchain_openai import ChatOpenAI\n",
    "from langchain.tools import ShellTool\n",
    "\n",
    "llm = ChatOpenAI(model_name=\"gpt-4-1106-preview\", temperature=0)\n",
    "prompt = hub.pull(\"hwchase17/openai-tools-agent\")\n",
    "\n",
    "shell_tool = ShellTool()\n",
    "shell_tool.description = shell_tool.description + f\"args {shell_tool.args}\".replace(\n",
    "    \"{\", \"{{\"\n",
    ").replace(\"}\", \"}}\")\n",
    "\n",
    "self_ask_with_search = create_openai_tools_agent(\n",
    "    llm, [shell_tool], prompt\n",
    ")\n",
    "\n",
    "agent_executor = AgentExecutor(agent=self_ask_with_search, tools=[shell_tool], verbose=True)\n",
    "agent_executor.invoke(\n",
    "    {\"input\": \"下载网站 langchain.com 并提取10个URL，最后返回他们的列表\"}\n",
    ")"
   ]
  },
  {
   "cell_type": "markdown",
   "id": "935ee27b-a2be-4060-9e72-2cf7c3398b67",
   "metadata": {},
   "source": [
    "## 文件管理"
   ]
  },
  {
   "cell_type": "code",
   "execution_count": 60,
   "id": "bc81597c-feb0-41be-b057-a6bf5cc773e1",
   "metadata": {},
   "outputs": [],
   "source": [
    "from tempfile import TemporaryDirectory\n",
    "\n",
    "from langchain_community.agent_toolkits import FileManagementToolkit\n",
    "\n",
    "# We'll make a temporary directory to avoid clutter\n",
    "working_directory = TemporaryDirectory()"
   ]
  },
  {
   "cell_type": "markdown",
   "id": "ef20fd86-c8fb-4bd6-a02d-21f895e65da8",
   "metadata": {},
   "source": [
    "指定根目录，然后选择所有工具："
   ]
  },
  {
   "cell_type": "code",
   "execution_count": 61,
   "id": "3a958bfc-80f4-4c67-ab59-bdccad9fdc76",
   "metadata": {},
   "outputs": [
    {
     "data": {
      "text/plain": [
       "[CopyFileTool(root_dir='/var/folders/f5/rlf27f4n6wzc_k4x7y4vzm5h0000gn/T/tmpxzo9m_5m'),\n",
       " DeleteFileTool(root_dir='/var/folders/f5/rlf27f4n6wzc_k4x7y4vzm5h0000gn/T/tmpxzo9m_5m'),\n",
       " FileSearchTool(root_dir='/var/folders/f5/rlf27f4n6wzc_k4x7y4vzm5h0000gn/T/tmpxzo9m_5m'),\n",
       " MoveFileTool(root_dir='/var/folders/f5/rlf27f4n6wzc_k4x7y4vzm5h0000gn/T/tmpxzo9m_5m'),\n",
       " ReadFileTool(root_dir='/var/folders/f5/rlf27f4n6wzc_k4x7y4vzm5h0000gn/T/tmpxzo9m_5m'),\n",
       " WriteFileTool(root_dir='/var/folders/f5/rlf27f4n6wzc_k4x7y4vzm5h0000gn/T/tmpxzo9m_5m'),\n",
       " ListDirectoryTool(root_dir='/var/folders/f5/rlf27f4n6wzc_k4x7y4vzm5h0000gn/T/tmpxzo9m_5m')]"
      ]
     },
     "execution_count": 61,
     "metadata": {},
     "output_type": "execute_result"
    }
   ],
   "source": [
    "toolkit = FileManagementToolkit(\n",
    "    root_dir=str(working_directory.name)\n",
    ")  # If you don't provide a root_dir, operations will default to the current working directory\n",
    "toolkit.get_tools()"
   ]
  },
  {
   "cell_type": "markdown",
   "id": "77557f5c-1bb4-48c3-b2fe-0ec686990d2c",
   "metadata": {},
   "source": [
    "也可以选择部份工具："
   ]
  },
  {
   "cell_type": "code",
   "execution_count": 62,
   "id": "2c8be9e6-4bfc-4508-9821-0980e0fd59c3",
   "metadata": {},
   "outputs": [
    {
     "data": {
      "text/plain": [
       "[ReadFileTool(root_dir='/var/folders/f5/rlf27f4n6wzc_k4x7y4vzm5h0000gn/T/tmpxzo9m_5m'),\n",
       " WriteFileTool(root_dir='/var/folders/f5/rlf27f4n6wzc_k4x7y4vzm5h0000gn/T/tmpxzo9m_5m'),\n",
       " ListDirectoryTool(root_dir='/var/folders/f5/rlf27f4n6wzc_k4x7y4vzm5h0000gn/T/tmpxzo9m_5m')]"
      ]
     },
     "execution_count": 62,
     "metadata": {},
     "output_type": "execute_result"
    }
   ],
   "source": [
    "tools = FileManagementToolkit(\n",
    "    root_dir=str(working_directory.name),\n",
    "    selected_tools=[\"read_file\", \"write_file\", \"list_directory\"],\n",
    ").get_tools()\n",
    "tools"
   ]
  },
  {
   "cell_type": "markdown",
   "id": "019743df-2c2c-46f0-9f87-1fe81f1247f6",
   "metadata": {},
   "source": [
    "用`write_tool`工具写入一个文件："
   ]
  },
  {
   "cell_type": "code",
   "execution_count": 63,
   "id": "9f1ea093-cfc8-4e5f-84a0-44f3c32db3a7",
   "metadata": {},
   "outputs": [
    {
     "data": {
      "text/plain": [
       "'File written successfully to example.txt.'"
      ]
     },
     "execution_count": 63,
     "metadata": {},
     "output_type": "execute_result"
    }
   ],
   "source": [
    "read_tool, write_tool, list_tool = tools\n",
    "write_tool.invoke({\"file_path\": \"example.txt\", \"text\": \"Hello World!\"})"
   ]
  },
  {
   "cell_type": "code",
   "execution_count": 64,
   "id": "6efe5596-b076-4053-876c-be4b0a95433e",
   "metadata": {},
   "outputs": [
    {
     "data": {
      "text/plain": [
       "'example.txt'"
      ]
     },
     "execution_count": 64,
     "metadata": {},
     "output_type": "execute_result"
    }
   ],
   "source": [
    "list_tool.invoke({})"
   ]
  },
  {
   "cell_type": "markdown",
   "id": "35e88557-c84f-4c75-aa2e-2ca70be215e9",
   "metadata": {},
   "source": [
    "## 人类输入"
   ]
  },
  {
   "cell_type": "code",
   "execution_count": 85,
   "id": "a29972cb-e97d-47f3-bf44-34832ca4f51f",
   "metadata": {},
   "outputs": [
    {
     "name": "stdout",
     "output_type": "stream",
     "text": [
      "\n",
      "\n",
      "hello\n"
     ]
    },
    {
     "name": "stdin",
     "output_type": "stream",
     "text": [
      " \n"
     ]
    },
    {
     "data": {
      "text/plain": [
       "''"
      ]
     },
     "execution_count": 85,
     "metadata": {},
     "output_type": "execute_result"
    }
   ],
   "source": [
    "from langchain.tools import HumanInputRun\n",
    "\n",
    "HumanInputRun().invoke(\"hello\")"
   ]
  },
  {
   "cell_type": "markdown",
   "id": "766fc6ea-17af-4e4b-bbbb-e6baa3e1df41",
   "metadata": {},
   "source": [
    "## Python 代码执行"
   ]
  },
  {
   "cell_type": "code",
   "execution_count": 53,
   "id": "60127e6a-a55e-4dd7-87ff-2fce77a00beb",
   "metadata": {},
   "outputs": [],
   "source": [
    "from langchain.agents import Tool\n",
    "from langchain_experimental.utilities import PythonREPL"
   ]
  },
  {
   "cell_type": "code",
   "execution_count": 54,
   "id": "9269a0ed-4f29-40a6-b30c-2528ad964d8c",
   "metadata": {},
   "outputs": [],
   "source": [
    "python_repl = PythonREPL()"
   ]
  },
  {
   "cell_type": "code",
   "execution_count": 56,
   "id": "b6926bc0-6850-4758-98ea-1a6b6ae26943",
   "metadata": {},
   "outputs": [
    {
     "name": "stderr",
     "output_type": "stream",
     "text": [
      "Python REPL can execute arbitrary code. Use with caution.\n"
     ]
    },
    {
     "data": {
      "text/plain": [
       "'2\\n'"
      ]
     },
     "execution_count": 56,
     "metadata": {},
     "output_type": "execute_result"
    }
   ],
   "source": [
    "python_repl.run(\"print(1+1)\")"
   ]
  },
  {
   "cell_type": "code",
   "execution_count": 57,
   "id": "8d76d5b8-ef4f-497b-9c23-98413ed88a2c",
   "metadata": {},
   "outputs": [],
   "source": [
    "# You can create the tool to pass to an agent\n",
    "repl_tool = Tool(\n",
    "    name=\"python_repl\",\n",
    "    description=\"A Python shell. Use this to execute python commands. Input should be a valid python command. If you want to see the output of a value, you should print it out with `print(...)`.\",\n",
    "    func=python_repl.run,\n",
    ")"
   ]
  },
  {
   "cell_type": "code",
   "execution_count": 58,
   "id": "75b17537-4f3d-4027-be8b-fde3ee19357c",
   "metadata": {},
   "outputs": [
    {
     "data": {
      "text/plain": [
       "'2\\n'"
      ]
     },
     "execution_count": 58,
     "metadata": {},
     "output_type": "execute_result"
    }
   ],
   "source": [
    "repl_tool.invoke(\"print(1+1)\")"
   ]
  },
  {
   "cell_type": "markdown",
   "id": "ea7a60d5-8638-4e16-beb5-444d9782958c",
   "metadata": {},
   "source": [
    "# 智能体类型"
   ]
  },
  {
   "cell_type": "markdown",
   "id": "10496399-9f85-4b34-a2aa-42bc5fa80815",
   "metadata": {},
   "source": [
    "智能体可以按这些维度分类：\n",
    "- 预期的模型是对话模型还是单次模型\n",
    "- 是否支持多参数输入的工具\n",
    "- 是否支持工具的并发调度\n",
    "- 是否需要模型的附加参数\n",
    "\n",
    "当前**langchain**主要包括的智能体类型有：\n",
    "\n",
    "- **ReAct Agent**：是一个简单的Agent，适用于简单的模型。它使用ReAct框架来确定使用哪个工具，并且不支持多输入工具。适用于简单的问题和任务。\n",
    "- **Self Ask With Search Agent**：是一个简单的Agent，适用于简单的模型和只有一个搜索工具的情况。它将复杂的问题分解为一系列简单的问题，并使用搜索工具查找答案。适用于需要使用搜索工具查找答案的问题。\n",
    "- **OpenAI Tools Agent**：是一个适用于Chat模型的Agent，支持聊天历史和多输入工具。它可以与最新的OpenAI模型一起使用，并且可以调用多个工具并行执行任务。适用于需要使用多个工具并且需要聊天历史的任务。\n",
    "- **OpenAI Functions Agent**：是一个适用于Chat模型的Agent，支持聊天历史和多输入工具。它专门针对使用OpenAI函数的模型进行了优化，并且可以调用多个函数并行执行任务。适用于使用OpenAI模型或经过微调以支持函数调用的开源模型的任务。\n",
    "- **XML Agent**：是一个使用XML标记的Agent，适用于处理XML格式的工具输入和输出。适用于需要处理XML数据的任务。\n",
    "- **JSON Agent**：是一个使用JSON格式的Agent，适用于处理JSON格式的工具输入和输出。适用于需要处理JSON数据的任务。\n",
    "- **Structured Chat Agent**：是一个适用于Chat模型的Agent，支持聊天历史和多输入工具。它可以处理具有多个输入的工具，并支持更复杂的工具使用场景，如精确导航浏览器。适用于需要处理具有多个输入的工具的任务。\n",
    "\n",
    "其中：**OpenAI Tools Agent** 需要与最新的OpenAI模型一起使用，因为它利用了OpenAI的最新功能，即并行函数调用（tool calling）。\n",
    "这种功能允许模型一次性返回多个函数调用结果，从而提高了效率和性能。\n",
    "因此，为了充分利用**OpenAI Tools Agent**的功能，需要使用支持并行函数调用的最新OpenAI模型。"
   ]
  },
  {
   "cell_type": "markdown",
   "id": "9785fb68-42b1-415c-9e9a-e7e5a1c109fa",
   "metadata": {},
   "source": [
    "## ReAct Agent 示例"
   ]
  },
  {
   "cell_type": "markdown",
   "id": "e309eaf0-5f83-4c3c-8ffe-58fda346078c",
   "metadata": {},
   "source": [
    "### 定义智能体"
   ]
  },
  {
   "cell_type": "code",
   "execution_count": null,
   "id": "e1eaca98-03da-4474-9b34-b4906a770993",
   "metadata": {},
   "outputs": [],
   "source": [
    "!poetry add langchainhub"
   ]
  },
  {
   "cell_type": "code",
   "execution_count": null,
   "id": "fb1010d2-aec1-43f8-b247-1d3bf904473b",
   "metadata": {},
   "outputs": [],
   "source": [
    "from langchain_community.tools.tavily_search import TavilySearchResults\n",
    "\n",
    "tools = [TavilySearchResults(max_results=5)]"
   ]
  },
  {
   "cell_type": "code",
   "execution_count": null,
   "id": "d3ce5a04-dc47-457b-9f93-f9996be5d231",
   "metadata": {},
   "outputs": [],
   "source": [
    "from langchain import hub\n",
    "from langchain.agents import AgentExecutor, create_react_agent\n",
    "from langchain_openai import OpenAI\n",
    "\n",
    "prompt = hub.pull(\"hwchase17/react\")\n",
    "llm = OpenAI()\n",
    "agent = create_react_agent(llm, tools, prompt)\n",
    "agent_executor = AgentExecutor(agent=agent, tools=tools, verbose=True)"
   ]
  },
  {
   "cell_type": "markdown",
   "id": "c85325b9-7776-4d37-966e-7c2bf82a43a8",
   "metadata": {},
   "source": [
    "### 运行智能体"
   ]
  },
  {
   "cell_type": "code",
   "execution_count": null,
   "id": "e4da7c7a-e5ed-4201-8c86-2bc0d3522e65",
   "metadata": {},
   "outputs": [],
   "source": [
    "agent_executor.invoke({\"input\": \"吴京的老婆是谁？\"})"
   ]
  },
  {
   "cell_type": "code",
   "execution_count": null,
   "id": "b410a69e-3f21-4bc7-b807-c43e8c0549ca",
   "metadata": {},
   "outputs": [],
   "source": [
    "agent_executor.invoke({\"input\": \"吴京的老婆主持过什么综艺？\"})"
   ]
  },
  {
   "cell_type": "markdown",
   "id": "f597b4dd-d4bc-4de8-ac71-167ee1cd2012",
   "metadata": {},
   "source": [
    "### 增加历史消息支持"
   ]
  },
  {
   "cell_type": "code",
   "execution_count": null,
   "id": "6e9f2027-d4a0-4f02-9576-f6b08d8908e7",
   "metadata": {},
   "outputs": [],
   "source": [
    "# Get the prompt to use - you can modify this!\n",
    "prompt = hub.pull(\"hwchase17/react-chat\")"
   ]
  },
  {
   "cell_type": "code",
   "execution_count": null,
   "id": "d3277033-14ed-4167-a8f4-c7c0cf3aa95c",
   "metadata": {},
   "outputs": [],
   "source": [
    "# Construct the ReAct agent\n",
    "agent = create_react_agent(llm, tools, prompt)\n",
    "agent_executor = AgentExecutor(agent=agent, tools=tools, verbose=True)"
   ]
  },
  {
   "cell_type": "code",
   "execution_count": null,
   "id": "203d7d4e-1944-49a0-8bc8-41d8d293bacd",
   "metadata": {},
   "outputs": [],
   "source": [
    "from langchain_core.messages import AIMessage, HumanMessage\n",
    "\n",
    "agent_executor.invoke(\n",
    "    {\n",
    "        \"input\": \"what's my name? Only use a tool if needed, otherwise respond with Final Answer\",\n",
    "        # Notice that chat_history is a string, since this prompt is aimed at LLMs, not chat models\n",
    "        \"chat_history\": \"Human: Hi! My name is Bob\\nAI: Hello Bob! Nice to meet you\",\n",
    "    }\n",
    ")"
   ]
  },
  {
   "cell_type": "markdown",
   "id": "0c9c26e4-cccd-4b7e-8bdd-f782e92be7bf",
   "metadata": {},
   "source": [
    "## OpenAI Tools Agent 示例"
   ]
  },
  {
   "cell_type": "markdown",
   "id": "52fd933f-cb8b-405a-9798-296848400858",
   "metadata": {},
   "source": [
    "### 定义智能体"
   ]
  },
  {
   "cell_type": "code",
   "execution_count": null,
   "id": "2c0edca7-709e-4c65-8ea7-373a25df6b50",
   "metadata": {},
   "outputs": [],
   "source": [
    "!poetry add langchain-openai tavily-python"
   ]
  },
  {
   "cell_type": "code",
   "execution_count": null,
   "id": "3eb01226-84cd-487e-a762-41c2ff1445ec",
   "metadata": {},
   "outputs": [],
   "source": [
    "from langchain_community.tools.tavily_search import TavilySearchResults\n",
    "tools = [TavilySearchResults(max_results=2)]"
   ]
  },
  {
   "cell_type": "code",
   "execution_count": 91,
   "id": "3125d710-0c78-4822-aac0-839474c0875c",
   "metadata": {},
   "outputs": [],
   "source": [
    "from langchain import hub\n",
    "from langchain.agents import AgentExecutor, create_openai_tools_agent\n",
    "from langchain_openai import ChatOpenAI\n",
    "\n",
    "prompt = hub.pull(\"hwchase17/openai-tools-agent\")\n",
    "llm = ChatOpenAI(model=\"gpt-3.5-turbo-1106\", temperature=0)\n",
    "agent = create_openai_tools_agent(llm, tools, prompt)\n",
    "\n",
    "agent_executor = AgentExecutor(agent=agent, tools=tools, verbose=True)"
   ]
  },
  {
   "cell_type": "markdown",
   "id": "00c05303-5cf8-4feb-ab1c-93d3a97c3a12",
   "metadata": {},
   "source": [
    "### 执行智能体"
   ]
  },
  {
   "cell_type": "code",
   "execution_count": null,
   "id": "b2da0654-6178-4199-a369-283de8ed50e6",
   "metadata": {},
   "outputs": [],
   "source": [
    "agent_executor.invoke({\"input\": \"what is LangChain?\"})"
   ]
  },
  {
   "cell_type": "markdown",
   "id": "2d99348e-b4a1-4473-ad9f-72436136974b",
   "metadata": {},
   "source": [
    "### 支持消息历史"
   ]
  },
  {
   "cell_type": "code",
   "execution_count": null,
   "id": "021b0bf4-91b2-4016-9be8-a639f49a7369",
   "metadata": {},
   "outputs": [],
   "source": [
    "from langchain_core.messages import AIMessage, HumanMessage\n",
    "\n",
    "agent_executor.invoke(\n",
    "    {\n",
    "        \"input\": \"what's my name? Don't use tools to look this up unless you NEED to\",\n",
    "        \"chat_history\": [\n",
    "            HumanMessage(content=\"hi! my name is bob\"),\n",
    "            AIMessage(content=\"Hello Bob! How can I assist you today?\"),\n",
    "        ],\n",
    "    }\n",
    ")"
   ]
  },
  {
   "cell_type": "markdown",
   "id": "5f31a6db-98f9-4cc7-9ad4-c4ae730469e1",
   "metadata": {},
   "source": [
    "## Self-ask with search 示例"
   ]
  },
  {
   "cell_type": "markdown",
   "id": "e5ce7407-82e7-41b8-ac2c-8f5be2992279",
   "metadata": {},
   "source": [
    "该Agent的实际效果似乎取决于大模型的能力，使用GPT4明显要优于GPT3.5版本。"
   ]
  },
  {
   "cell_type": "code",
   "execution_count": null,
   "id": "35f2d279-7e4f-45a3-a429-83c85ed37e0b",
   "metadata": {},
   "outputs": [],
   "source": [
    "from langchain import hub\n",
    "from langchain.agents import AgentExecutor, create_self_ask_with_search_agent\n",
    "from langchain_openai import OpenAI\n",
    "from langchain_community.tools.tavily_search import TavilyAnswer"
   ]
  },
  {
   "cell_type": "code",
   "execution_count": null,
   "id": "14ffca73-b7e3-452e-bca2-389a4d7abc77",
   "metadata": {},
   "outputs": [],
   "source": [
    "# 下载一个模板\n",
    "prompt = hub.pull(\"hwchase17/self-ask-with-search\")\n",
    "print(prompt.template)"
   ]
  },
  {
   "cell_type": "code",
   "execution_count": null,
   "id": "3d56c742-99af-43cf-96ba-f9293ed032fd",
   "metadata": {},
   "outputs": [],
   "source": [
    "# Choose the LLM that will drive the agent\n",
    "from langchain_openai import ChatOpenAI\n",
    "llm = ChatOpenAI(model = \"gpt-4-1106-preview\")\n",
    "# llm = ChatOpenAI(model='gpt-3.5-turbo', temperature=0)\n",
    "\n",
    "search = TavilyAnswer(max_results=3)\n",
    "\n",
    "from langchain.agents import create_self_ask_with_search_agent\n",
    "# tools = [\n",
    "#     Tool(\n",
    "#         name=\"Intermediate Answer\",\n",
    "#         func=search.run,\n",
    "#         description=\"useful for when you need to ask with search.\",\n",
    "#     )\n",
    "# ]\n",
    "tools = [TavilyAnswer(max_results=1, name=\"Intermediate Answer\")]\n",
    "agent = create_self_ask_with_search_agent(llm, tools, prompt)\n",
    "agent_executor = AgentExecutor(agent=agent, tools=tools, verbose=True)"
   ]
  },
  {
   "cell_type": "code",
   "execution_count": null,
   "id": "9c359b77-57af-47df-a82b-b90999b6daef",
   "metadata": {},
   "outputs": [],
   "source": [
    "agent_executor.invoke({\"input\": \"吴京的老婆主持过哪些综艺？\"}, verbose = True, handle_parsing_errors=True)"
   ]
  },
  {
   "cell_type": "code",
   "execution_count": null,
   "id": "d47602b0-49c7-4f93-9fc6-2ef0c5dbf450",
   "metadata": {},
   "outputs": [],
   "source": [
    "agent_executor.invoke({\"input\": \"马斯克的哪家公司最赚钱？\"}, verbose = True)"
   ]
  }
 ],
 "metadata": {
  "kernelspec": {
   "display_name": "langchani-book-py3.10-ipykernel",
   "language": "python",
   "name": "langchani-book-py3.10-ipykernel"
  },
  "language_info": {
   "codemirror_mode": {
    "name": "ipython",
    "version": 3
   },
   "file_extension": ".py",
   "mimetype": "text/x-python",
   "name": "python",
   "nbconvert_exporter": "python",
   "pygments_lexer": "ipython3",
   "version": "3.10.0"
  }
 },
 "nbformat": 4,
 "nbformat_minor": 5
}
