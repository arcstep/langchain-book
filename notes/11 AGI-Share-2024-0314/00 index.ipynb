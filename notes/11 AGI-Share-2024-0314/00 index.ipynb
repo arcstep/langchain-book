{
 "cells": [
  {
   "cell_type": "markdown",
   "id": "9e5b5362-cf90-4d8a-9c70-3db56e3f8dcc",
   "metadata": {},
   "source": [
    "# 🔗🇨🇳 LangChain核心源代码解读分享"
   ]
  },
  {
   "cell_type": "markdown",
   "id": "b1eb7b7a-d4a8-4e8d-b757-a55062c3fad8",
   "metadata": {},
   "source": [
    "## 💡 这节课会带给你\n",
    "\n",
    "1. 一起了解 LangChain 的生态\n",
    "2. 体会阅读 LangChain 源代码\n",
    "3. 全面了解 LCEL 的用法\n",
    "4. 全面了解 LangGraph 的用法\n",
    "5. 将自己的大模型集成到 LangChain\n",
    "6. 使用 langchain 的不同方案创建智能体"
   ]
  },
  {
   "cell_type": "markdown",
   "id": "7f4cf5c6-2544-4812-930d-6c8526ae2857",
   "metadata": {},
   "source": [
    "**本节课假设您已经做好了如下准备：**\n",
    "\n",
    "- 略懂Python编程\n",
    "- 略懂github\n",
    "- 略懂langchain开发（最好是已经学完王卓然老师langchain介绍课）"
   ]
  },
  {
   "cell_type": "markdown",
   "id": "d5dd8fd9-5128-46e4-932e-3817a064b012",
   "metadata": {},
   "source": [
    "## （一）如何解读 Langchain 的源代码结构"
   ]
  },
  {
   "cell_type": "markdown",
   "id": "91ac50aa-ed71-46ea-ac3c-e1af5abe5fc9",
   "metadata": {},
   "source": [
    "### 1、你应该怎样学习 LangChain ？"
   ]
  },
  {
   "cell_type": "markdown",
   "id": "7fbce31b-2fd4-43cd-8204-98fa50ae8bf5",
   "metadata": {},
   "source": [
    "- langchain [官方文档](https://python.langchain.com/docs)\n",
    "- langchain [聊天](https://chat.langchain.com/?llm=anthropic_claude_2_1)\n",
    "- langchain [源代码](https://github.com/langchain-ai/langchain)\n",
    "- Github Copilot"
   ]
  },
  {
   "cell_type": "markdown",
   "id": "ad8f7552-7f56-420c-860c-c9768132b5c5",
   "metadata": {},
   "source": [
    "### 2、为什么要阅读 LangChain 源码？"
   ]
  },
  {
   "cell_type": "markdown",
   "id": "f125108e-ebbd-427a-8a9d-57c5fbb13bb0",
   "metadata": {},
   "source": [
    "- 与最先进的框架一起成长\n",
    "- 作为了解大模型生态的捷径\n",
    "- 作为了解服务集成选型的捷径\n",
    "- 作为了解AI应用生态的捷径\n",
    "- 作为了解智能体生态的捷径"
   ]
  },
  {
   "cell_type": "markdown",
   "id": "9ab7f60d-7043-42e0-98c2-459355c52f19",
   "metadata": {},
   "source": [
    "### 3、LangChain 源代码概览"
   ]
  },
  {
   "cell_type": "markdown",
   "id": "fee4e35a-4539-4dce-a15d-c2da9f3e3e91",
   "metadata": {},
   "source": []
  },
  {
   "cell_type": "markdown",
   "id": "846dec6d-7624-4d73-bbec-3be815a9aad5",
   "metadata": {},
   "source": [
    "### 4、LangChain 的生态概览"
   ]
  },
  {
   "cell_type": "markdown",
   "id": "9627226e-42fb-41c5-84fc-83706c48dbf4",
   "metadata": {},
   "source": [
    "## （二）先抛出一些 LangChain 的问题"
   ]
  },
  {
   "cell_type": "markdown",
   "id": "01548080-b79b-4a88-9b9f-7af2ef9ae567",
   "metadata": {},
   "source": [
    "### 1、LangChain核心框架经历了三次较大的迭代"
   ]
  },
  {
   "cell_type": "markdown",
   "id": "2864c401-7a12-439e-810f-8dddfd9eb617",
   "metadata": {},
   "source": [
    "### 2、大模型用不了、新功能未提供"
   ]
  },
  {
   "cell_type": "markdown",
   "id": "1f84748d-a3c1-4961-a67e-f57113ccf27b",
   "metadata": {},
   "source": [
    "### 3、生态组件的更新不及时、新框架未实现"
   ]
  },
  {
   "cell_type": "markdown",
   "id": "c46eeb9c-7da1-4686-90e6-b8ba9a5ecd99",
   "metadata": {},
   "source": [
    "### 4、组件不兼容：记忆和持久化在文档中的矛盾？\n"
   ]
  },
  {
   "cell_type": "markdown",
   "id": "ccd94a45-1821-4f48-8356-0c340074fafd",
   "metadata": {},
   "source": [
    "### 5、智能体论文和实践非常快"
   ]
  },
  {
   "cell_type": "code",
   "execution_count": null,
   "id": "dbd65241-8edc-4a2a-9822-c5a8bc67e5b7",
   "metadata": {},
   "outputs": [],
   "source": []
  },
  {
   "cell_type": "markdown",
   "id": "369b238a-df5a-4b64-a85c-6b2c1a2a2af5",
   "metadata": {},
   "source": [
    "## （三）从零开始集成大模型到 Langchain 实例"
   ]
  },
  {
   "cell_type": "markdown",
   "id": "2f8e1905-cbbe-4339-bf5b-9ff81836a756",
   "metadata": {},
   "source": [
    "### 1、如何集成智谱AI大模型？"
   ]
  },
  {
   "cell_type": "markdown",
   "id": "ed6abff2-531f-4a2e-b751-964c1f3c91bd",
   "metadata": {},
   "source": [
    "### 2、如何集成你训过的开源大模型？"
   ]
  },
  {
   "cell_type": "markdown",
   "id": "e64598d5-cdac-4a60-96d9-52b44730d6a2",
   "metadata": {},
   "source": [
    "## （四）全面拆解 LCEL 能力"
   ]
  },
  {
   "cell_type": "markdown",
   "id": "2ee06284-0b63-4231-9aa7-a9dced804e0e",
   "metadata": {},
   "source": [
    "### 1、如何用 Runnable 组件搭积木？"
   ]
  },
  {
   "cell_type": "markdown",
   "id": "b95d9e06-606f-4f72-b9fe-8ec9530eed05",
   "metadata": {},
   "source": [
    "- Runnable 组件的 8 个方法\n",
    "- 自定义Runnable（invoke / stream / astream）\n",
    "- invoke 原理\n",
    "- schema 探查\n",
    "- config"
   ]
  },
  {
   "cell_type": "markdown",
   "id": "86a62f75-52bd-462b-a396-8fb9751fc84a",
   "metadata": {},
   "source": [
    "### 2、LCEL 比 遗留 Chain 多哪些优势？"
   ]
  },
  {
   "cell_type": "markdown",
   "id": "76adf428-cdd4-4aa8-ac8b-3a3648ae7ead",
   "metadata": {},
   "source": [
    "- 那些被挽留的 Chain ...\n",
    "- 这些 Chain 局限性在究竟哪里？\n",
    "- LCEL 构建的替代 Chain"
   ]
  },
  {
   "cell_type": "markdown",
   "id": "b6f9e9ba-3388-40f2-a8f0-38ea7b7b2efd",
   "metadata": {},
   "source": [
    "### 3、如何用 LCEL 定义智能体？"
   ]
  },
  {
   "cell_type": "markdown",
   "id": "4d5bd7d1-572a-447b-89b6-528b45258be9",
   "metadata": {},
   "source": [
    "- 工具：定义一个简单工具\n",
    "- 智能体：\n",
    "    - Tools-Calling 智能体\n",
    "    - ReAct 智能体\n",
    "- 执行器：AgentExecutor\n",
    "- 调用逻辑：从源代码看AgentExecutor的调用逻辑？"
   ]
  },
  {
   "cell_type": "markdown",
   "id": "52bf21ca-cf12-4cd3-a53c-f451ccafa852",
   "metadata": {},
   "source": [
    "### 4、当前推荐使用的 LangChain 体系？"
   ]
  },
  {
   "cell_type": "markdown",
   "id": "55e073e9-16f3-460e-acc1-013c4f1d0a17",
   "metadata": {},
   "source": [
    "- 框架\n",
    "    - LCEL\n",
    "    - langgraph\n",
    "    - langserve\n",
    "- 提示语\n",
    "- 大模型\n",
    "- 输出解析\n",
    "- 工具\n",
    "    - 工具集\n",
    "    - 当作 chain 在 langgraph 中使用\n",
    "- 智能体\n",
    "    - 智能体定制（推荐使用langgraph）\n",
    "    - 各种智能体论文范例\n",
    "- 构建你自己的 langchain 框架"
   ]
  },
  {
   "cell_type": "markdown",
   "id": "702bd5b7-8aeb-4d5a-bd14-dfe0cc39e238",
   "metadata": {},
   "source": [
    "## （五）全面拆解 LangGraph 能力"
   ]
  },
  {
   "cell_type": "markdown",
   "id": "d9b530de-c32e-4de7-a53d-2a7403ae881e",
   "metadata": {},
   "source": [
    "### 1、LangGraph 比 LCEL 多了什么？"
   ]
  },
  {
   "cell_type": "markdown",
   "id": "28481dec-c573-4c30-ba7d-a557702475ee",
   "metadata": {},
   "source": [
    "### 2、如何使用 LangGraph 定义智能体？"
   ]
  },
  {
   "cell_type": "markdown",
   "id": "2148155c-5024-4b18-a69f-63e562551b15",
   "metadata": {},
   "source": [
    "## （六）综合场景"
   ]
  },
  {
   "cell_type": "markdown",
   "id": "f364d22d-59ee-4c24-ae65-411b1b97593c",
   "metadata": {},
   "source": [
    "### 1、如何享用 Langserve 带来的便利？"
   ]
  },
  {
   "cell_type": "markdown",
   "id": "455fff41-5f62-4f36-bf11-a01ab9318b9b",
   "metadata": {},
   "source": [
    "### 2、如何实现各种场景下流式输出？"
   ]
  },
  {
   "cell_type": "markdown",
   "id": "39527d89-246f-4eda-9da4-7eac8329066a",
   "metadata": {},
   "source": [
    "- 链的流\n",
    "- 工具的流"
   ]
  },
  {
   "cell_type": "markdown",
   "id": "e4678940-a1db-458f-b8c5-5bec7412a5ae",
   "metadata": {},
   "source": [
    "### 3、如何用 AgentExcutor 再现《手撕AutoGPT》？"
   ]
  },
  {
   "cell_type": "markdown",
   "id": "6eda0a46-ce13-4ce2-9a98-fb743118baaf",
   "metadata": {},
   "source": [
    "### 4、如何用 LangGraph 再现《手撕AutoGPT》？"
   ]
  },
  {
   "cell_type": "code",
   "execution_count": null,
   "id": "3396970c-7fb7-4de5-a4da-11b523bcf0ba",
   "metadata": {},
   "outputs": [],
   "source": []
  }
 ],
 "metadata": {
  "kernelspec": {
   "display_name": "langchani-book-py3.10-ipykernel",
   "language": "python",
   "name": "langchani-book-py3.10-ipykernel"
  },
  "language_info": {
   "codemirror_mode": {
    "name": "ipython",
    "version": 3
   },
   "file_extension": ".py",
   "mimetype": "text/x-python",
   "name": "python",
   "nbconvert_exporter": "python",
   "pygments_lexer": "ipython3",
   "version": "3.10.0"
  }
 },
 "nbformat": 4,
 "nbformat_minor": 5
}
