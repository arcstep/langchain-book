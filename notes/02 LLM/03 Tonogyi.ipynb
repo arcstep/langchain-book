{
 "cells": [
  {
   "cell_type": "markdown",
   "id": "88774aca-ab1e-4e2f-8d38-c68ad1b1d3a9",
   "metadata": {},
   "source": [
    "# 阿里云积灵模型"
   ]
  },
  {
   "cell_type": "code",
   "execution_count": 1,
   "id": "e0951e49-59ab-474b-9d0c-0bdb577913ce",
   "metadata": {},
   "outputs": [
    {
     "data": {
      "text/plain": [
       "True"
      ]
     },
     "execution_count": 1,
     "metadata": {},
     "output_type": "execute_result"
    }
   ],
   "source": [
    "import os\n",
    "from dotenv import load_dotenv, find_dotenv\n",
    "load_dotenv(find_dotenv(), override=True)"
   ]
  },
  {
   "cell_type": "markdown",
   "id": "b56bd747-9c2e-4ec6-9711-f574c0c7fcbf",
   "metadata": {},
   "source": [
    "## 通义千问"
   ]
  },
  {
   "cell_type": "code",
   "execution_count": 2,
   "id": "cb6032d7-96ae-4ed6-8cf7-4880a0a46f97",
   "metadata": {},
   "outputs": [],
   "source": [
    "from http import HTTPStatus\n",
    "import dashscope\n",
    "\n",
    "def call_with_messages():\n",
    "    messages = [{'role': 'system', 'content': 'You are a helpful assistant.'},\n",
    "                {'role': 'user', 'content': '如何做炒西红柿鸡蛋？'}]\n",
    "\n",
    "    response = dashscope.Generation.call(\n",
    "        dashscope.Generation.Models.qwen_turbo,\n",
    "        messages=messages,\n",
    "        result_format='message',  # set the result to be \"message\" format.\n",
    "    )\n",
    "    if response.status_code == HTTPStatus.OK:\n",
    "        print(response)\n",
    "    else:\n",
    "        print('Request id: %s, Status code: %s, error code: %s, error message: %s' % (\n",
    "            response.request_id, response.status_code,\n",
    "            response.code, response.message\n",
    "        ))"
   ]
  },
  {
   "cell_type": "code",
   "execution_count": 3,
   "id": "e353ba58-e5d2-4533-9c93-dcb569080afa",
   "metadata": {},
   "outputs": [
    {
     "name": "stdout",
     "output_type": "stream",
     "text": [
      "{\"status_code\": 200, \"request_id\": \"c8b2603d-f6db-9078-aa84-e2842f56ed59\", \"code\": \"\", \"message\": \"\", \"output\": {\"text\": null, \"finish_reason\": null, \"choices\": [{\"finish_reason\": \"stop\", \"message\": {\"role\": \"assistant\", \"content\": \"材料：\\n西红柿2个，鸡蛋3个，葱花适量，盐适量，糖1小勺（可不加），香油几滴\\n\\n做法:\\n\\n1. 鸡蛋打散后加入少许盐，搅拌均匀；\\n2. 西红柿去蒂后切成滚刀块；\\n3. 热锅凉油，待油温5成热时，倒入蛋液，用铲子轻轻推动成形，凝固后轻轻捣碎，炒至金黄出锅备用；\\n4. 锅中再放少许油，放入西红柿翻炒，加入1小勺糖，让西红柿自然出汁；\\n5. 当西红柿炒软出沙时，倒入之前炒好的鸡蛋，加少许盐调味，大火快速翻炒均匀；\\n6. 关火前淋入几滴香油，撒上葱花即可。\"}}]}, \"usage\": {\"input_tokens\": 12, \"output_tokens\": 179, \"total_tokens\": 191}}\n"
     ]
    }
   ],
   "source": [
    "call_with_messages()"
   ]
  },
  {
   "cell_type": "markdown",
   "id": "f26ba5e7-bb29-4480-a623-d4fa6058abe4",
   "metadata": {},
   "source": [
    "## 通义千问VL"
   ]
  },
  {
   "cell_type": "code",
   "execution_count": 94,
   "id": "49a9a42d-e5cd-4238-9a9d-e50551012579",
   "metadata": {},
   "outputs": [
    {
     "name": "stdout",
     "output_type": "stream",
     "text": [
      "{\"status_code\": 200, \"request_id\": \"5bffde55-34c3-949b-92ec-c1eb5e794a97\", \"code\": \"\", \"message\": \"\", \"output\": {\"text\": null, \"finish_reason\": null, \"choices\": [{\"finish_reason\": \"stop\", \"message\": {\"role\": \"assistant\", \"content\": [{\"text\": \"这张图片显示了一位女士和她的狗在海滩上。她们似乎正在享受彼此的陪伴，狗狗坐在沙滩上伸出爪子与女士握手或互动。背景是美丽的日落景色，海浪轻轻拍打着海岸线。\\n\\n请注意，我提供的描述基于图像中可见的内容，并不包括任何超出视觉信息之外的推测性解释。如果您需要更多关于场景、物体或其他细节的信息，请告诉我！\"}]}}]}, \"usage\": {\"input_tokens\": 1277, \"output_tokens\": 85, \"image_tokens\": 1247}}\n"
     ]
    }
   ],
   "source": [
    "from http import HTTPStatus\n",
    "import dashscope\n",
    "\n",
    "\n",
    "def simple_multimodal_conversation_call():\n",
    "    \"\"\"Simple single round multimodal conversation call.\n",
    "    \"\"\"\n",
    "    messages = [\n",
    "        {\n",
    "            \"role\": \"user\",\n",
    "            \"content\": [\n",
    "                {\"image\": \"https://dashscope.oss-cn-beijing.aliyuncs.com/images/dog_and_girl.jpeg\"},\n",
    "                {\"text\": \"这是什么?\"}\n",
    "            ]\n",
    "        }\n",
    "    ]\n",
    "    response = dashscope.MultiModalConversation.call(model='qwen-vl-plus',\n",
    "                                                     messages=messages)\n",
    "    # The response status_code is HTTPStatus.OK indicate success,\n",
    "    # otherwise indicate request is failed, you can get error code\n",
    "    # and message from code and message.\n",
    "    if response.status_code == HTTPStatus.OK:\n",
    "        print(response)\n",
    "    else:\n",
    "        print(response.code)  # The error code.\n",
    "        print(response.message)  # The error message.\n",
    "\n",
    "\n",
    "if __name__ == '__main__':\n",
    "    simple_multimodal_conversation_call()"
   ]
  },
  {
   "cell_type": "markdown",
   "id": "bdc98545-a087-432b-9990-b7d80f68e97f",
   "metadata": {},
   "source": [
    "## 通义万相"
   ]
  },
  {
   "cell_type": "code",
   "execution_count": 93,
   "id": "28c27a05-ed40-4286-b390-c2e2390f5a6a",
   "metadata": {},
   "outputs": [
    {
     "name": "stdout",
     "output_type": "stream",
     "text": [
      "{\"task_id\": \"cae4ca0d-9a7c-4f3b-9a9c-c0a72a9a7d81\", \"task_status\": \"SUCCEEDED\", \"results\": [{\"url\": \"https://dashscope-result-sh.oss-cn-shanghai.aliyuncs.com/1d/a4/20240127/723609ee/8b7003e6-7fe4-4a5f-b709-5ed9259e1d2e-1.jpg?Expires=1706453852&OSSAccessKeyId=LTAI5tQZd8AEcZX6KZV4G8qL&Signature=1HL68KsPDVpJznUKUtUVw%2BOSe9I%3D\"}, {\"url\": \"https://dashscope-result-bj.oss-cn-beijing.aliyuncs.com/1d/6b/20240127/8d820c8d/8ace26c2-9f14-4e83-9184-4b2672e44a6b-1.jpg?Expires=1706453852&OSSAccessKeyId=LTAI5tQZd8AEcZX6KZV4G8qL&Signature=cuexmlETqgLsivkipAMWTGTF5kM%3D\"}, {\"url\": \"https://dashscope-result-bj.oss-cn-beijing.aliyuncs.com/1d/db/20240127/8d820c8d/848ab3df-2373-4c0f-a2bb-38d0faac381d-1.jpg?Expires=1706453852&OSSAccessKeyId=LTAI5tQZd8AEcZX6KZV4G8qL&Signature=50kzWJss86mHJopOEDpP51dPrOY%3D\"}, {\"url\": \"https://dashscope-result-bj.oss-cn-beijing.aliyuncs.com/1d/0f/20240127/8d820c8d/717c78c0-af4b-4a29-8de6-d1e885017b9a-1.jpg?Expires=1706453852&OSSAccessKeyId=LTAI5tQZd8AEcZX6KZV4G8qL&Signature=MJJl3ppXGhBWwJFMV%2Fl3sCCBSpk%3D\"}], \"submit_time\": \"2024-01-27 22:57:02.996\", \"scheduled_time\": \"2024-01-27 22:57:03.019\", \"end_time\": \"2024-01-27 22:57:33.152\", \"task_metrics\": {\"TOTAL\": 4, \"SUCCEEDED\": 4, \"FAILED\": 0}}\n",
      "{\"image_count\": 4}\n"
     ]
    }
   ],
   "source": [
    "from http import HTTPStatus\n",
    "from urllib.parse import urlparse, unquote\n",
    "from pathlib import PurePosixPath\n",
    "import requests\n",
    "from dashscope import ImageSynthesis\n",
    "\n",
    "\n",
    "def simple_call():\n",
    "    prompt = 'Mouse rides elephant'\n",
    "    rsp = ImageSynthesis.call(model=ImageSynthesis.Models.wanx_v1,\n",
    "                              prompt=prompt,\n",
    "                              n=4,\n",
    "                              size='1024*1024')\n",
    "    if rsp.status_code == HTTPStatus.OK:\n",
    "        print(rsp.output)\n",
    "        print(rsp.usage)\n",
    "        # save file to current directory\n",
    "        for result in rsp.output.results:\n",
    "            file_name = PurePosixPath(unquote(urlparse(result.url).path)).parts[-1]\n",
    "            with open('./%s' % file_name, 'wb+') as f:\n",
    "                f.write(requests.get(result.url).content)\n",
    "    else:\n",
    "        print('Failed, status_code: %s, code: %s, message: %s' %\n",
    "              (rsp.status_code, rsp.code, rsp.message))\n",
    "\n",
    "\n",
    "if __name__ == '__main__':\n",
    "    simple_call()"
   ]
  },
  {
   "cell_type": "markdown",
   "id": "cbf0d510-62b2-484c-9db7-2c4778c4804b",
   "metadata": {},
   "source": [
    "## Stable Diffusion"
   ]
  },
  {
   "cell_type": "code",
   "execution_count": 91,
   "id": "5ff73dce-cf0b-4187-bf9f-80b4341ff708",
   "metadata": {},
   "outputs": [
    {
     "name": "stdout",
     "output_type": "stream",
     "text": [
      "{\"task_id\": \"0203a963-42d2-400e-b025-f25cdbaec00e\", \"task_status\": \"SUCCEEDED\", \"results\": [{\"url\": \"https://dashscope-result-bj.oss-cn-beijing.aliyuncs.com/1d/db/20240127/7d5c308a/14cb51f7-ad6d-42b6-889a-18e516fb8b8f-1.png?Expires=1706452492&OSSAccessKeyId=LTAI5tQZd8AEcZX6KZV4G8qL&Signature=ZEmkERhxGOZYyIechN4Mphq2IOs%3D\"}], \"submit_time\": \"2024-01-27 22:34:35.041\", \"scheduled_time\": \"2024-01-27 22:34:35.063\", \"end_time\": \"2024-01-27 22:34:52.513\", \"task_metrics\": {\"TOTAL\": 1, \"SUCCEEDED\": 1, \"FAILED\": 0}}\n",
      "{\"image_count\": 1}\n"
     ]
    }
   ],
   "source": [
    "from http import HTTPStatus\n",
    "from urllib.parse import urlparse, unquote\n",
    "from pathlib import PurePosixPath\n",
    "import requests\n",
    "import dashscope\n",
    "\n",
    "model = \"stable-diffusion-xl\"\n",
    "prompt = \"Eagle flying freely in the blue sky and white clouds\"\n",
    "\n",
    "\n",
    "def simple_call():\n",
    "    rsp = dashscope.ImageSynthesis.call(model=model,\n",
    "                                        prompt=prompt,\n",
    "                                        negative_prompt=\"garfield\",\n",
    "                                        n=1,\n",
    "                                        size='1024*1024')\n",
    "    if rsp.status_code == HTTPStatus.OK:\n",
    "        print(rsp.output)\n",
    "        print(rsp.usage)\n",
    "        # save file to current directory\n",
    "        for result in rsp.output.results:\n",
    "            file_name = PurePosixPath(unquote(urlparse(result.url).path)).parts[-1]\n",
    "            with open('./%s' % file_name, 'wb+') as f:\n",
    "                f.write(requests.get(result.url).content)\n",
    "    else:\n",
    "        print('Failed, status_code: %s, code: %s, message: %s' %\n",
    "              (rsp.status_code, rsp.code, rsp.message))\n",
    "\n",
    "\n",
    "if __name__ == '__main__':\n",
    "    simple_call()"
   ]
  },
  {
   "cell_type": "markdown",
   "id": "c379de41-cbd2-419d-bfc0-1ea820df05b1",
   "metadata": {},
   "source": [
    "# 在 LangChain 中使用"
   ]
  },
  {
   "cell_type": "code",
   "execution_count": 14,
   "id": "34799899-b7ac-47a5-8f5b-2539a6144d5d",
   "metadata": {},
   "outputs": [],
   "source": [
    "from langchain_community.chat_models import ChatTongyi"
   ]
  },
  {
   "cell_type": "code",
   "execution_count": null,
   "id": "fbc783b0-1f00-460d-9a09-321e68e17526",
   "metadata": {},
   "outputs": [],
   "source": [
    "llm = ChatTongyi(model = \"qwen-plus\", temperature = 0.3)"
   ]
  },
  {
   "cell_type": "code",
   "execution_count": 29,
   "id": "dfd28d35-ba1d-4892-bd8b-3fbd5bd328b4",
   "metadata": {},
   "outputs": [
    {
     "data": {
      "text/plain": [
       "'ChatTongyi'"
      ]
     },
     "execution_count": 29,
     "metadata": {},
     "output_type": "execute_result"
    }
   ],
   "source": [
    "llm.get_name()"
   ]
  },
  {
   "cell_type": "code",
   "execution_count": 34,
   "id": "a319c87d-c648-4862-9c07-c100cdce577c",
   "metadata": {},
   "outputs": [
    {
     "data": {
      "text/plain": [
       "ChatTongyi(client=<class 'dashscope.aigc.generation.Generation'>, model_name='qwen-plus', dashscope_api_key=SecretStr('**********'))"
      ]
     },
     "execution_count": 34,
     "metadata": {},
     "output_type": "execute_result"
    }
   ],
   "source": [
    "llm"
   ]
  },
  {
   "cell_type": "code",
   "execution_count": null,
   "id": "0f91eea9-e57a-4339-a3d7-1e5fa882f3b7",
   "metadata": {},
   "outputs": [],
   "source": [
    "for chunk in llm.stream(\"hi\"):\n",
    "    print(chunk)"
   ]
  },
  {
   "cell_type": "code",
   "execution_count": 37,
   "id": "a7c1c5bd-7319-4764-8a60-8e8f9240404d",
   "metadata": {},
   "outputs": [
    {
     "data": {
      "text/plain": [
       "{'title': 'ChatTongyiInput',\n",
       " 'anyOf': [{'type': 'string'},\n",
       "  {'$ref': '#/definitions/StringPromptValue'},\n",
       "  {'$ref': '#/definitions/ChatPromptValueConcrete'},\n",
       "  {'type': 'array',\n",
       "   'items': {'anyOf': [{'$ref': '#/definitions/AIMessage'},\n",
       "     {'$ref': '#/definitions/HumanMessage'},\n",
       "     {'$ref': '#/definitions/ChatMessage'},\n",
       "     {'$ref': '#/definitions/SystemMessage'},\n",
       "     {'$ref': '#/definitions/FunctionMessage'},\n",
       "     {'$ref': '#/definitions/ToolMessage'}]}}],\n",
       " 'definitions': {'StringPromptValue': {'title': 'StringPromptValue',\n",
       "   'description': 'String prompt value.',\n",
       "   'type': 'object',\n",
       "   'properties': {'text': {'title': 'Text', 'type': 'string'},\n",
       "    'type': {'title': 'Type',\n",
       "     'default': 'StringPromptValue',\n",
       "     'enum': ['StringPromptValue'],\n",
       "     'type': 'string'}},\n",
       "   'required': ['text']},\n",
       "  'AIMessage': {'title': 'AIMessage',\n",
       "   'description': 'A Message from an AI.',\n",
       "   'type': 'object',\n",
       "   'properties': {'content': {'title': 'Content',\n",
       "     'anyOf': [{'type': 'string'},\n",
       "      {'type': 'array',\n",
       "       'items': {'anyOf': [{'type': 'string'}, {'type': 'object'}]}}]},\n",
       "    'additional_kwargs': {'title': 'Additional Kwargs', 'type': 'object'},\n",
       "    'type': {'title': 'Type',\n",
       "     'default': 'ai',\n",
       "     'enum': ['ai'],\n",
       "     'type': 'string'},\n",
       "    'example': {'title': 'Example', 'default': False, 'type': 'boolean'}},\n",
       "   'required': ['content']},\n",
       "  'HumanMessage': {'title': 'HumanMessage',\n",
       "   'description': 'A Message from a human.',\n",
       "   'type': 'object',\n",
       "   'properties': {'content': {'title': 'Content',\n",
       "     'anyOf': [{'type': 'string'},\n",
       "      {'type': 'array',\n",
       "       'items': {'anyOf': [{'type': 'string'}, {'type': 'object'}]}}]},\n",
       "    'additional_kwargs': {'title': 'Additional Kwargs', 'type': 'object'},\n",
       "    'type': {'title': 'Type',\n",
       "     'default': 'human',\n",
       "     'enum': ['human'],\n",
       "     'type': 'string'},\n",
       "    'example': {'title': 'Example', 'default': False, 'type': 'boolean'}},\n",
       "   'required': ['content']},\n",
       "  'ChatMessage': {'title': 'ChatMessage',\n",
       "   'description': 'A Message that can be assigned an arbitrary speaker (i.e. role).',\n",
       "   'type': 'object',\n",
       "   'properties': {'content': {'title': 'Content',\n",
       "     'anyOf': [{'type': 'string'},\n",
       "      {'type': 'array',\n",
       "       'items': {'anyOf': [{'type': 'string'}, {'type': 'object'}]}}]},\n",
       "    'additional_kwargs': {'title': 'Additional Kwargs', 'type': 'object'},\n",
       "    'type': {'title': 'Type',\n",
       "     'default': 'chat',\n",
       "     'enum': ['chat'],\n",
       "     'type': 'string'},\n",
       "    'role': {'title': 'Role', 'type': 'string'}},\n",
       "   'required': ['content', 'role']},\n",
       "  'SystemMessage': {'title': 'SystemMessage',\n",
       "   'description': 'A Message for priming AI behavior, usually passed in as the first of a sequence\\nof input messages.',\n",
       "   'type': 'object',\n",
       "   'properties': {'content': {'title': 'Content',\n",
       "     'anyOf': [{'type': 'string'},\n",
       "      {'type': 'array',\n",
       "       'items': {'anyOf': [{'type': 'string'}, {'type': 'object'}]}}]},\n",
       "    'additional_kwargs': {'title': 'Additional Kwargs', 'type': 'object'},\n",
       "    'type': {'title': 'Type',\n",
       "     'default': 'system',\n",
       "     'enum': ['system'],\n",
       "     'type': 'string'}},\n",
       "   'required': ['content']},\n",
       "  'FunctionMessage': {'title': 'FunctionMessage',\n",
       "   'description': 'A Message for passing the result of executing a function back to a model.',\n",
       "   'type': 'object',\n",
       "   'properties': {'content': {'title': 'Content',\n",
       "     'anyOf': [{'type': 'string'},\n",
       "      {'type': 'array',\n",
       "       'items': {'anyOf': [{'type': 'string'}, {'type': 'object'}]}}]},\n",
       "    'additional_kwargs': {'title': 'Additional Kwargs', 'type': 'object'},\n",
       "    'type': {'title': 'Type',\n",
       "     'default': 'function',\n",
       "     'enum': ['function'],\n",
       "     'type': 'string'},\n",
       "    'name': {'title': 'Name', 'type': 'string'}},\n",
       "   'required': ['content', 'name']},\n",
       "  'ToolMessage': {'title': 'ToolMessage',\n",
       "   'description': 'A Message for passing the result of executing a tool back to a model.',\n",
       "   'type': 'object',\n",
       "   'properties': {'content': {'title': 'Content',\n",
       "     'anyOf': [{'type': 'string'},\n",
       "      {'type': 'array',\n",
       "       'items': {'anyOf': [{'type': 'string'}, {'type': 'object'}]}}]},\n",
       "    'additional_kwargs': {'title': 'Additional Kwargs', 'type': 'object'},\n",
       "    'type': {'title': 'Type',\n",
       "     'default': 'tool',\n",
       "     'enum': ['tool'],\n",
       "     'type': 'string'},\n",
       "    'tool_call_id': {'title': 'Tool Call Id', 'type': 'string'}},\n",
       "   'required': ['content', 'tool_call_id']},\n",
       "  'ChatPromptValueConcrete': {'title': 'ChatPromptValueConcrete',\n",
       "   'description': 'Chat prompt value which explicitly lists out the message types it accepts.\\nFor use in external schemas.',\n",
       "   'type': 'object',\n",
       "   'properties': {'messages': {'title': 'Messages',\n",
       "     'type': 'array',\n",
       "     'items': {'anyOf': [{'$ref': '#/definitions/AIMessage'},\n",
       "       {'$ref': '#/definitions/HumanMessage'},\n",
       "       {'$ref': '#/definitions/ChatMessage'},\n",
       "       {'$ref': '#/definitions/SystemMessage'},\n",
       "       {'$ref': '#/definitions/FunctionMessage'},\n",
       "       {'$ref': '#/definitions/ToolMessage'}]}},\n",
       "    'type': {'title': 'Type',\n",
       "     'default': 'ChatPromptValueConcrete',\n",
       "     'enum': ['ChatPromptValueConcrete'],\n",
       "     'type': 'string'}},\n",
       "   'required': ['messages']}}}"
      ]
     },
     "execution_count": 37,
     "metadata": {},
     "output_type": "execute_result"
    }
   ],
   "source": [
    "llm.input_schema.schema()"
   ]
  },
  {
   "cell_type": "code",
   "execution_count": null,
   "id": "c9aa7b6c-8ae4-480c-b86e-9e9bd4c6934b",
   "metadata": {},
   "outputs": [],
   "source": []
  }
 ],
 "metadata": {
  "kernelspec": {
   "display_name": "langchani-book-py3.10-ipykernel",
   "language": "python",
   "name": "langchani-book-py3.10-ipykernel"
  },
  "language_info": {
   "codemirror_mode": {
    "name": "ipython",
    "version": 3
   },
   "file_extension": ".py",
   "mimetype": "text/x-python",
   "name": "python",
   "nbconvert_exporter": "python",
   "pygments_lexer": "ipython3",
   "version": "3.10.0"
  }
 },
 "nbformat": 4,
 "nbformat_minor": 5
}
