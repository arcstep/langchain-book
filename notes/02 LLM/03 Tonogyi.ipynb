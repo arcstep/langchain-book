{
 "cells": [
  {
   "cell_type": "markdown",
   "id": "88774aca-ab1e-4e2f-8d38-c68ad1b1d3a9",
   "metadata": {},
   "source": [
    "# 阿里云积灵模型"
   ]
  },
  {
   "cell_type": "code",
   "execution_count": 1,
   "id": "e0951e49-59ab-474b-9d0c-0bdb577913ce",
   "metadata": {},
   "outputs": [
    {
     "data": {
      "text/plain": [
       "True"
      ]
     },
     "execution_count": 1,
     "metadata": {},
     "output_type": "execute_result"
    }
   ],
   "source": [
    "import os\n",
    "from dotenv import load_dotenv, find_dotenv\n",
    "load_dotenv(find_dotenv(), override=True)"
   ]
  },
  {
   "cell_type": "markdown",
   "id": "b56bd747-9c2e-4ec6-9711-f574c0c7fcbf",
   "metadata": {},
   "source": [
    "## 通义千问"
   ]
  },
  {
   "cell_type": "markdown",
   "id": "fb2e2464-6062-4f01-a706-48015fe81b27",
   "metadata": {},
   "source": [
    "## Stable Diffusion"
   ]
  },
  {
   "cell_type": "code",
   "execution_count": 91,
   "id": "5ff73dce-cf0b-4187-bf9f-80b4341ff708",
   "metadata": {},
   "outputs": [
    {
     "name": "stdout",
     "output_type": "stream",
     "text": [
      "{\"task_id\": \"0203a963-42d2-400e-b025-f25cdbaec00e\", \"task_status\": \"SUCCEEDED\", \"results\": [{\"url\": \"https://dashscope-result-bj.oss-cn-beijing.aliyuncs.com/1d/db/20240127/7d5c308a/14cb51f7-ad6d-42b6-889a-18e516fb8b8f-1.png?Expires=1706452492&OSSAccessKeyId=LTAI5tQZd8AEcZX6KZV4G8qL&Signature=ZEmkERhxGOZYyIechN4Mphq2IOs%3D\"}], \"submit_time\": \"2024-01-27 22:34:35.041\", \"scheduled_time\": \"2024-01-27 22:34:35.063\", \"end_time\": \"2024-01-27 22:34:52.513\", \"task_metrics\": {\"TOTAL\": 1, \"SUCCEEDED\": 1, \"FAILED\": 0}}\n",
      "{\"image_count\": 1}\n"
     ]
    }
   ],
   "source": [
    "from http import HTTPStatus\n",
    "from urllib.parse import urlparse, unquote\n",
    "from pathlib import PurePosixPath\n",
    "import requests\n",
    "import dashscope\n",
    "\n",
    "model = \"stable-diffusion-xl\"\n",
    "prompt = \"Eagle flying freely in the blue sky and white clouds\"\n",
    "\n",
    "\n",
    "def simple_call():\n",
    "    rsp = dashscope.ImageSynthesis.call(model=model,\n",
    "                                        prompt=prompt,\n",
    "                                        negative_prompt=\"garfield\",\n",
    "                                        n=1,\n",
    "                                        size='1024*1024')\n",
    "    if rsp.status_code == HTTPStatus.OK:\n",
    "        print(rsp.output)\n",
    "        print(rsp.usage)\n",
    "        # save file to current directory\n",
    "        for result in rsp.output.results:\n",
    "            file_name = PurePosixPath(unquote(urlparse(result.url).path)).parts[-1]\n",
    "            with open('./%s' % file_name, 'wb+') as f:\n",
    "                f.write(requests.get(result.url).content)\n",
    "    else:\n",
    "        print('Failed, status_code: %s, code: %s, message: %s' %\n",
    "              (rsp.status_code, rsp.code, rsp.message))\n",
    "\n",
    "\n",
    "if __name__ == '__main__':\n",
    "    simple_call()"
   ]
  },
  {
   "cell_type": "markdown",
   "id": "f26ba5e7-bb29-4480-a623-d4fa6058abe4",
   "metadata": {},
   "source": [
    "## 通义千问VL"
   ]
  },
  {
   "cell_type": "code",
   "execution_count": 94,
   "id": "49a9a42d-e5cd-4238-9a9d-e50551012579",
   "metadata": {},
   "outputs": [
    {
     "name": "stdout",
     "output_type": "stream",
     "text": [
      "{\"status_code\": 200, \"request_id\": \"5bffde55-34c3-949b-92ec-c1eb5e794a97\", \"code\": \"\", \"message\": \"\", \"output\": {\"text\": null, \"finish_reason\": null, \"choices\": [{\"finish_reason\": \"stop\", \"message\": {\"role\": \"assistant\", \"content\": [{\"text\": \"这张图片显示了一位女士和她的狗在海滩上。她们似乎正在享受彼此的陪伴，狗狗坐在沙滩上伸出爪子与女士握手或互动。背景是美丽的日落景色，海浪轻轻拍打着海岸线。\\n\\n请注意，我提供的描述基于图像中可见的内容，并不包括任何超出视觉信息之外的推测性解释。如果您需要更多关于场景、物体或其他细节的信息，请告诉我！\"}]}}]}, \"usage\": {\"input_tokens\": 1277, \"output_tokens\": 85, \"image_tokens\": 1247}}\n"
     ]
    }
   ],
   "source": [
    "from http import HTTPStatus\n",
    "import dashscope\n",
    "\n",
    "\n",
    "def simple_multimodal_conversation_call():\n",
    "    \"\"\"Simple single round multimodal conversation call.\n",
    "    \"\"\"\n",
    "    messages = [\n",
    "        {\n",
    "            \"role\": \"user\",\n",
    "            \"content\": [\n",
    "                {\"image\": \"https://dashscope.oss-cn-beijing.aliyuncs.com/images/dog_and_girl.jpeg\"},\n",
    "                {\"text\": \"这是什么?\"}\n",
    "            ]\n",
    "        }\n",
    "    ]\n",
    "    response = dashscope.MultiModalConversation.call(model='qwen-vl-plus',\n",
    "                                                     messages=messages)\n",
    "    # The response status_code is HTTPStatus.OK indicate success,\n",
    "    # otherwise indicate request is failed, you can get error code\n",
    "    # and message from code and message.\n",
    "    if response.status_code == HTTPStatus.OK:\n",
    "        print(response)\n",
    "    else:\n",
    "        print(response.code)  # The error code.\n",
    "        print(response.message)  # The error message.\n",
    "\n",
    "\n",
    "if __name__ == '__main__':\n",
    "    simple_multimodal_conversation_call()"
   ]
  },
  {
   "cell_type": "markdown",
   "id": "bdc98545-a087-432b-9990-b7d80f68e97f",
   "metadata": {},
   "source": [
    "## 通义万相"
   ]
  },
  {
   "cell_type": "code",
   "execution_count": 93,
   "id": "28c27a05-ed40-4286-b390-c2e2390f5a6a",
   "metadata": {},
   "outputs": [
    {
     "name": "stdout",
     "output_type": "stream",
     "text": [
      "{\"task_id\": \"cae4ca0d-9a7c-4f3b-9a9c-c0a72a9a7d81\", \"task_status\": \"SUCCEEDED\", \"results\": [{\"url\": \"https://dashscope-result-sh.oss-cn-shanghai.aliyuncs.com/1d/a4/20240127/723609ee/8b7003e6-7fe4-4a5f-b709-5ed9259e1d2e-1.jpg?Expires=1706453852&OSSAccessKeyId=LTAI5tQZd8AEcZX6KZV4G8qL&Signature=1HL68KsPDVpJznUKUtUVw%2BOSe9I%3D\"}, {\"url\": \"https://dashscope-result-bj.oss-cn-beijing.aliyuncs.com/1d/6b/20240127/8d820c8d/8ace26c2-9f14-4e83-9184-4b2672e44a6b-1.jpg?Expires=1706453852&OSSAccessKeyId=LTAI5tQZd8AEcZX6KZV4G8qL&Signature=cuexmlETqgLsivkipAMWTGTF5kM%3D\"}, {\"url\": \"https://dashscope-result-bj.oss-cn-beijing.aliyuncs.com/1d/db/20240127/8d820c8d/848ab3df-2373-4c0f-a2bb-38d0faac381d-1.jpg?Expires=1706453852&OSSAccessKeyId=LTAI5tQZd8AEcZX6KZV4G8qL&Signature=50kzWJss86mHJopOEDpP51dPrOY%3D\"}, {\"url\": \"https://dashscope-result-bj.oss-cn-beijing.aliyuncs.com/1d/0f/20240127/8d820c8d/717c78c0-af4b-4a29-8de6-d1e885017b9a-1.jpg?Expires=1706453852&OSSAccessKeyId=LTAI5tQZd8AEcZX6KZV4G8qL&Signature=MJJl3ppXGhBWwJFMV%2Fl3sCCBSpk%3D\"}], \"submit_time\": \"2024-01-27 22:57:02.996\", \"scheduled_time\": \"2024-01-27 22:57:03.019\", \"end_time\": \"2024-01-27 22:57:33.152\", \"task_metrics\": {\"TOTAL\": 4, \"SUCCEEDED\": 4, \"FAILED\": 0}}\n",
      "{\"image_count\": 4}\n"
     ]
    }
   ],
   "source": [
    "from http import HTTPStatus\n",
    "from urllib.parse import urlparse, unquote\n",
    "from pathlib import PurePosixPath\n",
    "import requests\n",
    "from dashscope import ImageSynthesis\n",
    "\n",
    "\n",
    "def simple_call():\n",
    "    prompt = 'Mouse rides elephant'\n",
    "    rsp = ImageSynthesis.call(model=ImageSynthesis.Models.wanx_v1,\n",
    "                              prompt=prompt,\n",
    "                              n=4,\n",
    "                              size='1024*1024')\n",
    "    if rsp.status_code == HTTPStatus.OK:\n",
    "        print(rsp.output)\n",
    "        print(rsp.usage)\n",
    "        # save file to current directory\n",
    "        for result in rsp.output.results:\n",
    "            file_name = PurePosixPath(unquote(urlparse(result.url).path)).parts[-1]\n",
    "            with open('./%s' % file_name, 'wb+') as f:\n",
    "                f.write(requests.get(result.url).content)\n",
    "    else:\n",
    "        print('Failed, status_code: %s, code: %s, message: %s' %\n",
    "              (rsp.status_code, rsp.code, rsp.message))\n",
    "\n",
    "\n",
    "if __name__ == '__main__':\n",
    "    simple_call()"
   ]
  },
  {
   "cell_type": "markdown",
   "id": "c379de41-cbd2-419d-bfc0-1ea820df05b1",
   "metadata": {},
   "source": [
    "# 在 LangChain 中使用"
   ]
  }
 ],
 "metadata": {
  "kernelspec": {
   "display_name": "langchani-book-py3.10-ipykernel",
   "language": "python",
   "name": "langchani-book-py3.10-ipykernel"
  },
  "language_info": {
   "codemirror_mode": {
    "name": "ipython",
    "version": 3
   },
   "file_extension": ".py",
   "mimetype": "text/x-python",
   "name": "python",
   "nbconvert_exporter": "python",
   "pygments_lexer": "ipython3",
   "version": "3.10.0"
  }
 },
 "nbformat": 4,
 "nbformat_minor": 5
}
