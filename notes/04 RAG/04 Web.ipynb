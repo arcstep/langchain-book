{
 "cells": [
  {
   "cell_type": "code",
   "execution_count": 1,
   "id": "e8312d7e-04c3-4a83-a7d7-ac85698e181c",
   "metadata": {},
   "outputs": [
    {
     "data": {
      "text/plain": [
       "True"
      ]
     },
     "execution_count": 1,
     "metadata": {},
     "output_type": "execute_result"
    }
   ],
   "source": [
    "import os\n",
    "from dotenv import load_dotenv, find_dotenv\n",
    "load_dotenv(find_dotenv(), override=True)"
   ]
  },
  {
   "cell_type": "markdown",
   "id": "b9be4934-3dff-434e-8873-141d139f9d92",
   "metadata": {},
   "source": [
    "# 提取单个网页"
   ]
  },
  {
   "cell_type": "markdown",
   "id": "898f3901-15f8-4997-b260-88ba58559110",
   "metadata": {},
   "source": [
    "## 纯静态页面"
   ]
  },
  {
   "cell_type": "code",
   "execution_count": 5,
   "id": "06b82bfd-04ef-4412-a862-1e78a9fb159b",
   "metadata": {},
   "outputs": [],
   "source": [
    "from langchain.document_loaders import WebBaseLoader"
   ]
  },
  {
   "cell_type": "code",
   "execution_count": 6,
   "id": "b92aabe0-a240-4fe5-abd0-13bd7a33352a",
   "metadata": {},
   "outputs": [],
   "source": [
    "# 自动提取纯文字部份\n",
    "docs = WebBaseLoader(\"http://www.hongmeng-info.com/\").load()"
   ]
  },
  {
   "cell_type": "markdown",
   "id": "0115f2e5-c321-4eb4-862a-642f5755421d",
   "metadata": {},
   "source": [
    "创建RAG："
   ]
  },
  {
   "cell_type": "code",
   "execution_count": 7,
   "id": "4223ec09-a32b-443d-9d40-2ccf09e996d4",
   "metadata": {
    "scrolled": true
   },
   "outputs": [],
   "source": [
    "from langchain.text_splitter import RecursiveCharacterTextSplitter\n",
    "from langchain_community.vectorstores import FAISS\n",
    "from langchain_openai import OpenAIEmbeddings"
   ]
  },
  {
   "cell_type": "code",
   "execution_count": 8,
   "id": "6de57b3e-9c40-4f8e-931d-1e3d760605b1",
   "metadata": {},
   "outputs": [],
   "source": [
    "documents = RecursiveCharacterTextSplitter(\n",
    "    chunk_size=500, chunk_overlap=200\n",
    ").split_documents(docs)\n",
    "\n",
    "vector = FAISS.from_documents(documents, OpenAIEmbeddings())\n",
    "retriever = vector.as_retriever()"
   ]
  },
  {
   "cell_type": "code",
   "execution_count": 9,
   "id": "90b4b35d-b80a-466c-9cbe-e8cd3b1d5235",
   "metadata": {},
   "outputs": [],
   "source": [
    "from langchain.tools.retriever import create_retriever_tool\n",
    "\n",
    "retriever_tool = create_retriever_tool(\n",
    "    retriever,\n",
    "    \"鸿蒙\",\n",
    "    \"搜索关于鸿蒙的信息。询问任何关于鸿蒙的信息，你都必须使用这个工具!\",\n",
    ")"
   ]
  },
  {
   "cell_type": "code",
   "execution_count": 10,
   "id": "5c29e37c-373b-4072-bc45-ef51a52b8292",
   "metadata": {},
   "outputs": [
    {
     "data": {
      "text/plain": [
       "'广州鸿蒙信息科技有限公司\\n\\n\\n\\n\\n\\n\\n\\n\\n\\n\\n\\n\\n\\n\\n\\n\\n\\nToggle navigation\\n\\n\\n\\n\\n\\n\\n\\n\\n\\n\\n首页\\n互联网应用\\n信息化服务\\n电子税务\\n招聘\\n联系我们\\n\\n\\n\\n\\n\\n\\n\\n\\n\\n\\n\\n\\n\\n稳健、高效\\r\\n                        \\t人性化的电子竞价系统,\\r\\n                        \\t千亿级股权交易平台实践检验\\n鸿蒙在线竞价系统，微信，APP，智能终端，多媒体控制.\\n\\n了解更多>>\\n\\n\\n\\n\\n\\n\\n\\n\\n\\n\\n\\n\\n\\n\\nPrevious\\n\\n\\n\\nNext\\n\\n\\n\\n\\n\\n会员平台及CRM管理\\n社群运营的基础架构系统，支持复杂权益，积分管理，“会员卡”系统，权益/积分商城应用，社群用户关系管理，多种智能行为数据模型，面向客户群/社群运营者提供有效的解决方案.\\n详情  »\\n\\n\\n互联网运营平台\\n核心组件系统支撑O2O类运营体系，订单系统，合作商/供应商/渠道商管理及结算系统，客服系统，营销支撑与分析，活动及传播系统，为运营提供有效灵活的支撑.\\n详情  »\\n\\n行业客户总监\\r\\n                    \\n\\n职位要求\\n\\r\\n                    \\t1、税务/互联网/软件业从业经验，熟悉相关行业\\r\\n\\t\\t\\t\\t\\t\\t2、具备产品规划与设计视角\\r\\n\\t\\t\\t\\t\\t\\t3、行业市场开拓\\r\\n\\t\\t\\t\\t\\t\\t4、丰富的商业运作经验\\r\\n\\t\\t\\t\\t\\t\\t5、责任心与坦诚\\r\\n\\t\\t\\t\\t\\t\\t6、非常欢迎有创业经历的合作伙伴\\n\\n\\n\\n\\n\\n\\n\\n\\n\\n\\n\\n\\n\\n\\n\\n\\n\\n\\n联系我们\\n\\n\\n\\n\\n\\n\\n广州鸿蒙信息科技有限公司\\r\\n                   \\t地址： 广州市海珠区新港东路中洲中心一楼\\xa0\\xa0\\xa0\\xa0\\xa0\\xa0\\xa0\\xa0\\xa0\\xa0\\xa0\\xa0\\xa0东门A7、A8号                                       \\r\\n                                        电话： 020-83707801\\r\\n                    Mail：\\xa0fuyueqing@hongmeng-info.com\\n\\n\\n\\n\\n联合企业\\n筹策企业税收服务平台：IBDS.CC\\n\\n500万级用户系统性能考验  我们的互联网应用技术平台及服务能力您可以信赖 \\n\\n\\n\\n\\n\\n\\n\\nAPP应用\\n2006年，KJAVA，symbian ,Blackberry ,windows mobile 2009年android, IOS ,我们做了不少好看的，难看的，好玩的无聊的APP开发.\\n更多 »\\n\\n\\n\\n个性化定制\\n量身定做，按需设计，不停壮大的业务会随着运营者的热情与心血生成自有的风格与个性，因此适合自身的改造，补充，完善，重构，迭代是IT系统生长的必然过程。我们遵循这个原则与合作者一起努力.\\n更多 »\\n\\n\\n\\n\\n\\n\\n\\n\\n微信应用\\n微信不简单，做好微信的应用更不简单。完整的微信应用需要一个完整的技术体系。自有的数据，应用的链接，体验，用户习惯这些新的程序特质促成了新的应用解决方案，我们不仅仅做开发也愿意与大家一起研究如何玩转微信.\\n更多 »\\n\\n\\n\\n合作模式\\n项目制，IT服务框架，运营分成，业务佣金。根据具体的业务，可以与大家进行多样的模式合作，彼此尊重彼此理解.\\n更多 »\\n\\n合作模式\\n项目制，IT服务框架，运营分成，业务佣金。根据具体的业务，可以与大家进行多样的模式合作，彼此尊重彼此理解.\\n更多 »\\n\\n\\n\\n\\n\\n\\n\\n\\n\\n\\n\\n\\r\\n                \\t智慧的设计/开发有价值的软件系统\\n稳定的团队合作与长期服务与您伴随成长\\n\\n\\n\\n\\n\\n\\n系统设计/开发/维护/ \\n\\r\\n                \\t\\xa0\\xa0\\xa0\\xa0\\xa0\\xa0在不同领域谦虚谨慎的向我们的合作伙伴学习不同行业的业务规则，通过我们的专业团队与经验为合作者提供深度的软件设计，\\r\\n                \\t通过模型/原型技术实现完整的需求沟通与需求设计迭代。\\r\\n                \\t\\xa0\\xa0\\xa0\\xa0\\xa0\\xa0开发平台及组件技术，让我们可以快速的伴随业务升级进行快速迭代。企业沉淀与管理规则保证系统开发工作的稳定、安全、效率。\\r\\n                \\t\\xa0\\xa0\\xa0\\xa0\\xa0\\xa0软件即服务，我们是一个可靠的长期服务的技术型合作伙伴。\\r\\n.\\n了解更多'"
      ]
     },
     "execution_count": 10,
     "metadata": {},
     "output_type": "execute_result"
    }
   ],
   "source": [
    "retriever_tool.invoke(\"鸿蒙做过哪些项目\")"
   ]
  },
  {
   "cell_type": "markdown",
   "id": "f1e1204c-a03d-4b84-8198-418ec9b30f80",
   "metadata": {},
   "source": [
    "## 有延迟加载的页面"
   ]
  },
  {
   "cell_type": "markdown",
   "id": "e2602bd8-e8cf-4d8a-9d0e-76aef2169a27",
   "metadata": {},
   "source": [
    "### 直接使用 WebBaseLoader 无法获得内容"
   ]
  },
  {
   "cell_type": "code",
   "execution_count": 11,
   "id": "4f2ca1e8-69e3-419f-a81b-c79d3a3d118b",
   "metadata": {},
   "outputs": [
    {
     "data": {
      "text/plain": [
       "[Document(page_content=\"智谱AI开放平台We're sorry but 智谱AI开放平台 doesn't work properly without JavaScript enabled. Please enable it to continue.\", metadata={'source': 'https://maas.aminer.cn/dev/howuse/introduction', 'title': '智谱AI开放平台', 'description': '大模型开放平台-新一代国产自主通用AI开放平台，致力于将产品技术与行业场景双轮驱动的中国先进的认知智能技术和千行百业应用相结合，构建更高精度、高效率、通用化的AI开发新模式，实现智谱大模型的产业化，将AI的好处带给每个人。', 'language': 'zh-cn'})]"
      ]
     },
     "execution_count": 11,
     "metadata": {},
     "output_type": "execute_result"
    }
   ],
   "source": [
    "WebBaseLoader(\"https://maas.aminer.cn/dev/howuse/introduction\").load()"
   ]
  },
  {
   "cell_type": "markdown",
   "id": "00cc54ed-79a0-4db9-8d05-bf3fc0ec9bae",
   "metadata": {},
   "source": [
    "### 使用 PlayWrightBrowserToolkit"
   ]
  },
  {
   "cell_type": "code",
   "execution_count": 12,
   "id": "96c66c13-5b55-4264-82c2-26139fb51a94",
   "metadata": {},
   "outputs": [],
   "source": [
    "from langchain_community.agent_toolkits import PlayWrightBrowserToolkit\n",
    "from langchain_community.tools.playwright.utils import (\n",
    "    create_async_playwright_browser,  # A synchronous browser is available, though it isn't compatible with jupyter.\\n\",      },\n",
    ")"
   ]
  },
  {
   "cell_type": "code",
   "execution_count": 13,
   "id": "50a2e991-d9e1-4f5e-a436-465e4aa2d14d",
   "metadata": {},
   "outputs": [],
   "source": [
    "# This import is required only for jupyter notebooks, since they have their own eventloop\n",
    "import nest_asyncio\n",
    "nest_asyncio.apply()"
   ]
  },
  {
   "cell_type": "code",
   "execution_count": 14,
   "id": "7f2fcb87-e0b8-43b9-a6e6-0512bb0bb9e5",
   "metadata": {},
   "outputs": [
    {
     "data": {
      "text/plain": [
       "[ClickTool(async_browser=<Browser type=<BrowserType name=chromium executable_path=/Users/xuehongwei/Library/Caches/ms-playwright/chromium-1097/chrome-mac/Chromium.app/Contents/MacOS/Chromium> version=121.0.6167.57>),\n",
       " NavigateTool(async_browser=<Browser type=<BrowserType name=chromium executable_path=/Users/xuehongwei/Library/Caches/ms-playwright/chromium-1097/chrome-mac/Chromium.app/Contents/MacOS/Chromium> version=121.0.6167.57>),\n",
       " NavigateBackTool(async_browser=<Browser type=<BrowserType name=chromium executable_path=/Users/xuehongwei/Library/Caches/ms-playwright/chromium-1097/chrome-mac/Chromium.app/Contents/MacOS/Chromium> version=121.0.6167.57>),\n",
       " ExtractTextTool(async_browser=<Browser type=<BrowserType name=chromium executable_path=/Users/xuehongwei/Library/Caches/ms-playwright/chromium-1097/chrome-mac/Chromium.app/Contents/MacOS/Chromium> version=121.0.6167.57>),\n",
       " ExtractHyperlinksTool(async_browser=<Browser type=<BrowserType name=chromium executable_path=/Users/xuehongwei/Library/Caches/ms-playwright/chromium-1097/chrome-mac/Chromium.app/Contents/MacOS/Chromium> version=121.0.6167.57>),\n",
       " GetElementsTool(async_browser=<Browser type=<BrowserType name=chromium executable_path=/Users/xuehongwei/Library/Caches/ms-playwright/chromium-1097/chrome-mac/Chromium.app/Contents/MacOS/Chromium> version=121.0.6167.57>),\n",
       " CurrentWebPageTool(async_browser=<Browser type=<BrowserType name=chromium executable_path=/Users/xuehongwei/Library/Caches/ms-playwright/chromium-1097/chrome-mac/Chromium.app/Contents/MacOS/Chromium> version=121.0.6167.57>)]"
      ]
     },
     "execution_count": 14,
     "metadata": {},
     "output_type": "execute_result"
    }
   ],
   "source": [
    "async_browser = create_async_playwright_browser()\n",
    "toolkit = PlayWrightBrowserToolkit.from_browser(async_browser=async_browser)\n",
    "tools = toolkit.get_tools()\n",
    "tools"
   ]
  },
  {
   "cell_type": "code",
   "execution_count": 15,
   "id": "1de37f9c-8932-4879-930f-0d0da9344057",
   "metadata": {},
   "outputs": [],
   "source": [
    "tools_by_name = {tool.name: tool for tool in tools}\n",
    "navigate_tool = tools_by_name[\"navigate_browser\"]\n",
    "get_elements_tool = tools_by_name[\"get_elements\"]"
   ]
  },
  {
   "cell_type": "code",
   "execution_count": 16,
   "id": "34ab39d9-91b4-4ceb-8cb3-e04ed6af7b98",
   "metadata": {},
   "outputs": [
    {
     "data": {
      "text/plain": [
       "GetElementsTool(async_browser=<Browser type=<BrowserType name=chromium executable_path=/Users/xuehongwei/Library/Caches/ms-playwright/chromium-1097/chrome-mac/Chromium.app/Contents/MacOS/Chromium> version=121.0.6167.57>)"
      ]
     },
     "execution_count": 16,
     "metadata": {},
     "output_type": "execute_result"
    }
   ],
   "source": [
    "get_elements_tool"
   ]
  },
  {
   "cell_type": "code",
   "execution_count": 17,
   "id": "b768d788-955d-4e3f-85f1-0522cdbe0895",
   "metadata": {},
   "outputs": [
    {
     "data": {
      "text/plain": [
       "'Navigating to https://maas.aminer.cn/dev/howuse/introduction returned status code 200'"
      ]
     },
     "execution_count": 17,
     "metadata": {},
     "output_type": "execute_result"
    }
   ],
   "source": [
    "await navigate_tool.arun(\n",
    "    {\"url\": \"https://maas.aminer.cn/dev/howuse/introduction\"}\n",
    ")"
   ]
  },
  {
   "cell_type": "code",
   "execution_count": 18,
   "id": "9fe6be62-f0c9-4e3c-b0c0-c34a206e86ca",
   "metadata": {},
   "outputs": [
    {
     "data": {
      "text/plain": [
       "'[{\"innerText\": \"介绍\\\\n\\\\n智谱AI 开放平台提供一系列具有不同功能和定价的大模型，包括通用大模型、超拟人大模型、图像大模型、向量大模型等，并且支持使用您的私有数据对模型进行微调。\\\\n\\\\n2024年01月16日，我们在「智谱AI技术开放日(ZHIPU DevDay)」推出新一代基座大模型 GLM-4。\\\\n\\\\n资源\\\\n查看模型接口文档\\\\n体验模型能力体验中心\\\\n查看您的 API Keys\\\\n构建知识库\\\\n创建大模型应用应用中心\\\\n关键概念\\\\nGLM\\\\nGLM 全名 General Language Model ，是一款基于自回归填空的预训练语言模型。ChatGLM 系列模型，支持相对复杂的自然语言指令，并且能够解决困难的推理类问题。该模型配备了易于使用的 API 接口，允许开发者轻松将其融入各类应用，广泛应用于智能客服、虚拟主播、聊天机器人等诸多领域。\\\\nEmbedding\\\\nEmbedding 是一种将数据（如文本）转化为向量形式的表示方法，这种表示方式确保了在某些特定方面相似的数据在向量空间中彼此接近，而与之不相关的数据则相距较远。通过将文本字符串转换为向量，使得数据能够有效用于搜索、聚类、推荐系统、异常检测和分类等应用场景。\\\\nToken\\\\nToken 是模型用来表示自然语言文本的基本单位，可以直观的理解为“字”或“词”；通常 1 个中文词语、1 个英文单词、1 个数字或 1 个符号计为 1 个token。 一般情况下 ChatGLM 系列模型中 token 和字数的换算比例约为 1:1.6 ，但因为不同模型的分词不同，所以换算比例也存在差异，每一次实际处理 token 数量以模型返回为准，您可以从返回结果的 usage 中查看。\"}]'"
      ]
     },
     "execution_count": 18,
     "metadata": {},
     "output_type": "execute_result"
    }
   ],
   "source": [
    "await get_elements_tool.arun(\n",
    "    {\"selector\": \".how-use-content\", \"attributes\": [\"innerText\"]}\n",
    ")"
   ]
  },
  {
   "cell_type": "code",
   "execution_count": 19,
   "id": "81f21ece-9b5c-458b-9579-ea49e84c3523",
   "metadata": {},
   "outputs": [
    {
     "data": {
      "text/plain": [
       "'https://maas.aminer.cn/dev/howuse/introduction'"
      ]
     },
     "execution_count": 19,
     "metadata": {},
     "output_type": "execute_result"
    }
   ],
   "source": [
    "# If the agent wants to remember the current webpage, it can use the `current_webpage` tool\n",
    "await tools_by_name[\"current_webpage\"].arun({})"
   ]
  },
  {
   "cell_type": "markdown",
   "id": "febac574-eb9c-4699-8441-f3c783c4d17a",
   "metadata": {},
   "source": [
    "### 在智能体中使用动态读取的网页内容"
   ]
  },
  {
   "cell_type": "code",
   "execution_count": 30,
   "id": "808c3f52-93b7-4689-ab6d-075bc9212bd6",
   "metadata": {},
   "outputs": [],
   "source": [
    "from langchain_core.prompts import ChatPromptTemplate, MessagesPlaceholder\n",
    "\n",
    "system = '''\n",
    "Respond to the human as helpfully and accurately as possible. \n",
    "You have access to the following tools:\n",
    "\n",
    "{tools}\n",
    "\n",
    "Use a json blob to specify a tool by providing an action key (tool name) and an action_input key (tool input).\n",
    "\n",
    "Valid \"action\" values: \"Final Answer\" or {tool_names}\n",
    "\n",
    "Provide only ONE action per $JSON_BLOB, as shown:\n",
    "\n",
    "```\n",
    "{{\n",
    "  \"action\": $TOOL_NAME,\n",
    "  \"action_input\": $INPUT\n",
    "}}\n",
    "```\n",
    "\n",
    "Follow this format:\n",
    "\n",
    "Question: input question to answer\n",
    "Thought: consider previous and subsequent steps\n",
    "Action:\n",
    "```\n",
    "$JSON_BLOB\n",
    "```\n",
    "Observation: action result\n",
    "... (repeat Thought/Action/Observation N times)\n",
    "Thought: I know what to respond\n",
    "Action:\n",
    "```\n",
    "{{\n",
    "  \"action\": \"Final Answer\",\n",
    "  \"action_input\": \"Final response to human\"\n",
    "}}\n",
    "\n",
    "Begin! \n",
    "ALWAYS respond with a valid json blob of a single action;\n",
    "Always think and respond with Chinese.\n",
    "\n",
    "Use tools if necessary. \n",
    "Respond directly if appropriate. \n",
    "Format is Action:```$JSON_BLOB```then Observation.\n",
    "\n",
    "'''\n",
    "\n",
    "human = '''{input}\n",
    "\n",
    "{agent_scratchpad}\n",
    "\n",
    "(reminder to respond in a JSON blob no matter what)\n",
    "'''\n",
    "\n",
    "prompt = ChatPromptTemplate.from_messages(\n",
    "    [\n",
    "        (\"system\", system),\n",
    "        MessagesPlaceholder(\"chat_history\", optional=True),\n",
    "        (\"human\", human),\n",
    "    ]\n",
    ")"
   ]
  },
  {
   "cell_type": "code",
   "execution_count": 31,
   "id": "0ca080a1-14e4-483f-8c60-5c09195b744a",
   "metadata": {},
   "outputs": [],
   "source": [
    "from langchain.agents import AgentExecutor, create_structured_chat_agent\n",
    "from langchain_openai import OpenAI\n",
    "# from langchain import hub\n",
    "\n",
    "# prompt = hub.pull(\"hwchase17/structured-chat-agent\")\n",
    "llm = OpenAI().bind(stop=[\"Observation\"])\n",
    "agent = create_structured_chat_agent(llm, tools, prompt)\n",
    "agent_executor = AgentExecutor(agent=agent, tools=tools, verbose=True)"
   ]
  },
  {
   "cell_type": "code",
   "execution_count": 32,
   "id": "bbc297df-7203-4c83-ae4d-d55016617cb1",
   "metadata": {},
   "outputs": [
    {
     "name": "stdout",
     "output_type": "stream",
     "text": [
      "\n",
      "\n",
      "\u001b[1m> Entering new AgentExecutor chain...\u001b[0m\n",
      "\u001b[32;1m\u001b[1;3m \n",
      "Thought: I should use the extract_hyperlinks tool to retrieve all hyperlinks on the given webpage, and then find the URLs for each model page.\n",
      "Action:\n",
      "```\n",
      "{\n",
      "  \"action\": \"extract_hyperlinks\",\n",
      "  \"action_input\": {\n",
      "    \"absolute_urls\": true\n",
      "  }\n",
      "}\n",
      "```\n",
      "\u001b[0m\u001b[36;1m\u001b[1;3m[\"http://maas.aminer.cn/\", \"http://maas.aminer.cn/\", \"http://maas.aminer.cn/pricing\", \"http://maas.aminer.cn/overview\", \"http://maas.aminer.cn/dev/howuse/introduction\", \"http://maas.aminer.cn/dev/openpower\", \"http://maas.aminer.cn/knowledge\", \"http://maas.aminer.cn/appcenter\", \"javascript:void(0)\", \"http://maas.aminer.cn/partner\", \"https://appon94c0bw9146.pc.xiaoe-tech.com/page/4807585\", \"https://appon94c0bw9146.pc.xiaoe-tech.com/page/4807581\", \"https://appon94c0bw9146.pc.xiaoe-tech.com/page/4807584\", \"https://www.zhipuai.cn/aboutus\", \"http://maas.aminer.cn/overview\", \"http://maas.aminer.cn/online-book\", \"http://maas.aminer.cn/dev/api#language\", \"http://maas.aminer.cn/trialcenter\", \"https://codegeex.cn/\", \"https://codegeex.cn/\", \"https://codegeex.cn/\", \"https://codegeex.cn/\", \"http://maas.aminer.cn/dev/api\", \"http://maas.aminer.cn/pricing\", \"http://maas.aminer.cn/online-book\", \"https://chatglm.cn/blog\", \"https://github.com/THUDM/ChatGLM-6B\", \"https://github.com/THUDM/GLM-130B\", \"https://github.com/THUDM/CodeGeeX\", \"https://github.com/THUDM/CogView\", \"https://github.com/THUDM/CogVideo\", \"http://maas.aminer.cn/overview\", \"http://maas.aminer.cn/dev/api\", \"http://maas.aminer.cn/pricing\", \"http://maas.aminer.cn/dev/openpower\", \"http://maas.aminer.cn/trialcenter\", \"http://maas.aminer.cn/partner\", \"https://www.zhipuai.cn\", \"https://www.zhipuai.cn/news\", \"https://www.zhipuai.cn/joinus\", \"https://comm.chatglm.cn\", \"https://chatglm.cn/blog\", \"https://github.com/THUDM/ChatGLM-6B\", \"https://github.com/THUDM/GLM-130B\", \"https://github.com/THUDM/CodeGeeX\", \"https://github.com/THUDM/CogView\", \"https://github.com/THUDM/CogVideo\", \"javascript:void(0)\", \"javascript:void(0)\", \"javascript:void(0)\", \"javascript:void(0)\", \"javascript:void(0)\", \"javascript:void(0)\", \"https://www.zhipuai.cn\", \"https://www.zhipuai.cn/news\", \"https://www.zhipuai.cn/joinus\", \"https://comm.chatglm.cn\", \"https://beian.miit.gov.cn/\"]\u001b[0m\u001b[32;1m\u001b[1;3m \n",
      "Action:\n",
      "```\n",
      "{\n",
      "  \"action\": \"Final Answer\",\n",
      "  \"action_input\": \"智谱的模型有：ChatGLM-6B, GLM-130B, CodeGeeX, CogView, CogVideo。\"\n",
      "}\n",
      "```\n",
      "\n",
      "\u001b[0m\n",
      "\n",
      "\u001b[1m> Finished chain.\u001b[0m\n"
     ]
    },
    {
     "data": {
      "text/plain": [
       "{'input': '请参考 https://maas.aminer.cn/dev/howuse/model，智谱有哪些模型？',\n",
       " 'output': '智谱的模型有：ChatGLM-6B, GLM-130B, CodeGeeX, CogView, CogVideo。'}"
      ]
     },
     "execution_count": 32,
     "metadata": {},
     "output_type": "execute_result"
    }
   ],
   "source": [
    "await agent_executor.ainvoke({\"input\": \"请参考 https://maas.aminer.cn/dev/howuse/model，智谱有哪些模型？\"})"
   ]
  },
  {
   "cell_type": "markdown",
   "id": "ed17d47a-2c30-4d35-8a98-eecb3637d566",
   "metadata": {},
   "source": [
    "## 获取 OpenAI 的 API"
   ]
  },
  {
   "cell_type": "code",
   "execution_count": 33,
   "id": "ca74d953-36c5-4c63-aeda-113c0572a6a3",
   "metadata": {},
   "outputs": [
    {
     "data": {
      "text/plain": [
       "'Navigating to https://platform.openai.com/docs/models returned status code 403'"
      ]
     },
     "execution_count": 33,
     "metadata": {},
     "output_type": "execute_result"
    }
   ],
   "source": [
    "await navigate_tool.arun(\n",
    "    {\"url\": \"https://platform.openai.com/docs/models\"}\n",
    ")"
   ]
  },
  {
   "cell_type": "markdown",
   "id": "a33ad6e0-c8f2-476c-aa39-6b3c8dc42f93",
   "metadata": {},
   "source": [
    "<div class=\"alert alert-warning\">\n",
    "    <b>⚠️ 注意</b><br>\n",
    "    访问页面时出现 <b>403</b> 错误，说明该页面所在的服务器拒绝机器访问，需要更强的网页爬取手段才能自动获得内容。\n",
    "</div>"
   ]
  },
  {
   "cell_type": "markdown",
   "id": "049f69e0-902f-4ab6-b4a1-546dea2bdc75",
   "metadata": {},
   "source": [
    "# 根据网页内的链接循环获取批量网页"
   ]
  },
  {
   "cell_type": "code",
   "execution_count": 49,
   "id": "21a06964-de24-486d-b232-71c6be8fe6b0",
   "metadata": {},
   "outputs": [],
   "source": [
    "from bs4 import BeautifulSoup, SoupStrainer\n",
    "from langchain_community.document_loaders.recursive_url_loader import RecursiveUrlLoader\n",
    "from langchain_core.utils.html import PREFIXES_TO_IGNORE_REGEX, SUFFIXES_TO_IGNORE_REGEX\n",
    "import re\n",
    "\n",
    "def simple_extractor(html: str) -> str:\n",
    "    soup = BeautifulSoup(html, \"lxml\")\n",
    "    return re.sub(r\"\\n\\n+\", \"\\n\\n\", soup.text).strip()\n",
    "\n",
    "loader = RecursiveUrlLoader(\n",
    "        url = \"https://www.shui5.cn/article/ShuiWuWenDa/\",\n",
    "        max_depth = 3,\n",
    "        extractor = simple_extractor,\n",
    "        prevent_outside = True,\n",
    "        use_async = True,\n",
    "        timeout = 600,\n",
    "        # Drop trailing / to avoid duplicate pages.\n",
    "        link_regex = (\n",
    "            f\"href=[\\\"']{PREFIXES_TO_IGNORE_REGEX}((?:{SUFFIXES_TO_IGNORE_REGEX}.)*?)\"\n",
    "            r\"(?:[\\#'\\\"]|\\/[\\#'\\\"])\"\n",
    "        ),\n",
    "        check_response_status = True,\n",
    "    )\n",
    "docs = loader.load()"
   ]
  },
  {
   "cell_type": "code",
   "execution_count": 54,
   "id": "9511ba91-011f-4ff4-ab2a-a91163391e68",
   "metadata": {},
   "outputs": [
    {
     "data": {
      "text/plain": [
       "{'source': 'https://www.shui5.cn/article/ShuiWuWenDa/',\n",
       " 'title': '税务问答_税 屋——第一时间传递财税政策法规！ ',\n",
       " 'description': '税务问答、税务疑难问题、税务答疑、税收征管、税务实务、税收问题、税收咨询、税务咨询',\n",
       " 'language': None}"
      ]
     },
     "execution_count": 54,
     "metadata": {},
     "output_type": "execute_result"
    }
   ],
   "source": [
    "docs[0].metadata"
   ]
  },
  {
   "cell_type": "markdown",
   "id": "5f7ce6fd-6d5e-4100-b265-ced22e3761a4",
   "metadata": {},
   "source": [
    "# 根据 SiteMap 获取批量网页"
   ]
  },
  {
   "cell_type": "code",
   "execution_count": 62,
   "id": "e2d9dfea-aabe-4b39-8c37-38a766dc99fe",
   "metadata": {
    "editable": true,
    "slideshow": {
     "slide_type": ""
    },
    "tags": []
   },
   "outputs": [],
   "source": [
    "from langchain_community.document_loaders.sitemap import SitemapLoader\n",
    "\n",
    "def metadata_extractor(meta: dict, soup: BeautifulSoup) -> dict:\n",
    "    title = soup.find(\"title\")\n",
    "    description = soup.find(\"meta\", attrs={\"name\": \"description\"})\n",
    "    html = soup.find(\"html\")\n",
    "    return {\n",
    "        \"source\": meta[\"loc\"],\n",
    "        \"title\": title.get_text() if title else \"\",\n",
    "        \"description\": description.get(\"content\", \"\") if description else \"\",\n",
    "        \"language\": html.get(\"lang\", \"\") if html else \"\",\n",
    "        **meta,\n",
    "    }\n",
    "\n",
    "def load_sitemap(url, filter_urls):\n",
    "    return SitemapLoader(\n",
    "        url,\n",
    "        filter_urls = filter_urls,\n",
    "        parsing_function = simple_extractor,\n",
    "        default_parser = \"lxml\",\n",
    "        bs_kwargs = {\n",
    "            \"parse_only\": SoupStrainer(\n",
    "                name = (\"article\", \"title\", \"html\", \"lang\", \"content\")\n",
    "            ),\n",
    "        },\n",
    "        meta_function = metadata_extractor,\n",
    "    ).load()"
   ]
  },
  {
   "cell_type": "code",
   "execution_count": null,
   "id": "dcc573a3-8b57-4087-9aba-8ed4e0fb6031",
   "metadata": {
    "editable": true,
    "scrolled": true,
    "slideshow": {
     "slide_type": ""
    },
    "tags": []
   },
   "outputs": [],
   "source": [
    "#获取 langchain 文档\n",
    "langchain_docs = load_sitemap(\n",
    "    \"https://python.langchain.com/sitemap.xml\",\n",
    "    [\"https://python.langchain.com/\"]\n",
    ")"
   ]
  }
 ],
 "metadata": {
  "kernelspec": {
   "display_name": "langchani-book-py3.10-ipykernel",
   "language": "python",
   "name": "langchani-book-py3.10-ipykernel"
  },
  "language_info": {
   "codemirror_mode": {
    "name": "ipython",
    "version": 3
   },
   "file_extension": ".py",
   "mimetype": "text/x-python",
   "name": "python",
   "nbconvert_exporter": "python",
   "pygments_lexer": "ipython3",
   "version": "3.10.0"
  }
 },
 "nbformat": 4,
 "nbformat_minor": 5
}
