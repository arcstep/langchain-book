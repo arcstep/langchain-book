{
 "cells": [
  {
   "cell_type": "markdown",
   "metadata": {},
   "source": [
    "# 智能体初步"
   ]
  },
  {
   "cell_type": "markdown",
   "metadata": {},
   "source": [
    "## 这节课会带给你"
   ]
  },
  {
   "cell_type": "markdown",
   "metadata": {},
   "source": [
    "- 🌹 了解 Langchain 开发\n",
    "- 🌹 了解基于大模型AI的智能体开发\n",
    "- 🌹 深入代码，掌握一种智能体的内部逻辑"
   ]
  },
  {
   "cell_type": "markdown",
   "metadata": {},
   "source": [
    "## 一、大模型开发"
   ]
  },
  {
   "cell_type": "markdown",
   "metadata": {},
   "source": [
    "### 1、访问智谱大模型官网"
   ]
  },
  {
   "cell_type": "markdown",
   "metadata": {},
   "source": [
    "- 智谱API：[访问智谱官网](https://maas.aminer.cn)\n",
    "- 申请Key：[获得 API keys](https://maas.aminer.cn/usercenter/apikeys"
   ]
  },
  {
   "cell_type": "markdown",
   "metadata": {},
   "source": [
    "### 2、在 langchain 中，大模型的一般用法回顾"
   ]
  },
  {
   "cell_type": "markdown",
   "metadata": {},
   "source": [
    "- Langchain的LCEL初步用法\n",
    "- 构造消息模板：对照官网\n",
    "- 解析：提取文本、JSON或代码块\n",
    "- invoke和stream方法\n",
    "- 转化为API"
   ]
  },
  {
   "cell_type": "markdown",
   "metadata": {},
   "source": [
    "#### ✍️ 使用 ChatZhipuAI"
   ]
  },
  {
   "cell_type": "code",
   "execution_count": null,
   "metadata": {},
   "outputs": [],
   "source": [
    "# 加载 .env 到环境变量\n",
    "import os\n",
    "from dotenv import load_dotenv, find_dotenv\n",
    "load_dotenv(find_dotenv(), override=True)"
   ]
  },
  {
   "cell_type": "code",
   "execution_count": null,
   "metadata": {},
   "outputs": [],
   "source": [
    "# LLM\n",
    "from langchain_zhipu import ChatZhipuAI\n",
    "\n",
    "llm = ChatZhipuAI()"
   ]
  },
  {
   "cell_type": "code",
   "execution_count": null,
   "metadata": {},
   "outputs": [],
   "source": [
    "# invoke\n",
    "text = \"你知道我家的猫是什么颜色的吗？\"\n",
    "llm.invoke(text)"
   ]
  },
  {
   "cell_type": "code",
   "execution_count": null,
   "metadata": {},
   "outputs": [],
   "source": [
    "# stream\n",
    "for chunk in llm.stream(text):\n",
    "    print(chunk)"
   ]
  },
  {
   "cell_type": "markdown",
   "metadata": {},
   "source": [
    "<div class=\"alert alert-warning\">\n",
    "    <b>⚠️ 思考</b><br>\n",
    "    langchain 支持8个标准化方法，都在什么场景下使用？\n",
    "</div>\n",
    "\n",
    "**支撑 LCEL 承诺主要是依靠这8个方法：**"
   ]
  },
  {
   "cell_type": "markdown",
   "metadata": {},
   "source": [
    "- invoke：最简单\n",
    "- batch: 后台批量\n",
    "- stream：让用户体验流式输出\n",
    "- ainvoke / astream / abatch: 实现异步体验\n",
    "- astream_log / astream_events: 从Runable、LCEL、智能体、langgraph等提取特定的流式输出"
   ]
  },
  {
   "cell_type": "markdown",
   "metadata": {},
   "source": [
    "#### ✍️ LCEL：Prompt + LLM + OutputParser"
   ]
  },
  {
   "cell_type": "code",
   "execution_count": null,
   "metadata": {},
   "outputs": [],
   "source": [
    "from langchain.prompts import PromptTemplate\n",
    "from langchain.schema.output_parser import StrOutputParser\n",
    "\n",
    "prompt = PromptTemplate.from_template(\"你知道{what}是什么颜色吗?\")\n",
    "chain = prompt | llm | StrOutputParser()\n",
    "\n",
    "for chunk in chain.stream({\"what\": \"太阳\"}):\n",
    "    print(chunk, end=\"|\", flush=True)"
   ]
  },
  {
   "cell_type": "markdown",
   "metadata": {},
   "source": [
    "<div class=\"alert alert-success\">\n",
    "    <b>⚠️ langchain 的核心框架</b><br>\n",
    "    组件方法标准化（Runnable） + 调度框架（LCEL / 智能体 / Langgraph）\n",
    "</div>"
   ]
  },
  {
   "cell_type": "markdown",
   "metadata": {},
   "source": [
    "## 二、智能体开发概述"
   ]
  },
  {
   "cell_type": "markdown",
   "metadata": {},
   "source": [
    "### 1、关于智能体的几个问题\n",
    "\n",
    "- 什么是工具回调？\n",
    "- 什么是智能体？\n",
    "- 都有哪些常见的智能体类型？"
   ]
  },
  {
   "cell_type": "markdown",
   "metadata": {},
   "source": [
    "### 2、大模型中的工具回调"
   ]
  },
  {
   "cell_type": "markdown",
   "metadata": {},
   "source": [
    "#### ❤️ 官网接口"
   ]
  },
  {
   "cell_type": "markdown",
   "metadata": {},
   "source": [
    "- [智谱官网的工具回调说明](https://maas.aminer.cn/dev/howuse/functioncall)\n",
    "- [智谱官网的接口说明](https://maas.aminer.cn/dev/api#glm-4)\n",
    "- [OpenAI的工具回调说明](https://platform.openai.com/docs/guides/function-calling)"
   ]
  },
  {
   "cell_type": "markdown",
   "metadata": {},
   "source": [
    "#### ✍️ 使用 langchain 定义工具"
   ]
  },
  {
   "cell_type": "markdown",
   "metadata": {},
   "source": [
    "<div class=\"alert alert-warning\">\n",
    "<b>注意：</b><br>\n",
    "    \n",
    "1. OpenAI/ZhipuAI使用的Tools名称类似于一个函数命名，必须使用下划线或ASCII码，**不能使用中文**！<br>\n",
    "但描述部份可以使用中文。\n",
    "2. 定义工具时，请**至少包含一个参数**（即使你不使用这个参数），否则调用 GPT 时可能会抛出异常\n",
    "</div>"
   ]
  },
  {
   "cell_type": "code",
   "execution_count": null,
   "metadata": {
    "editable": true,
    "slideshow": {
     "slide_type": ""
    },
    "tags": []
   },
   "outputs": [],
   "source": [
    "import json\n",
    "import random\n",
    "\n",
    "from langchain.tools import tool\n",
    "from langchain_core.utils.function_calling import convert_to_openai_tool\n",
    "\n",
    "@tool\n",
    "def where_to_lookup(target: str = \"cat\") -> str:\n",
    "    \"\"\"\n",
    "    因为家里比较大，需要首先使用这个工具猜测可以躲藏的哪个地方。\n",
    "\n",
    "    args:\n",
    "    - target 可以是cat或其他\n",
    "    \"\"\"\n",
    "\n",
    "    if target == \"cat\":\n",
    "        places = [\"床底下\", \"书架中\", \"阳台附近\"]\n",
    "        return places[2]\n",
    "        # return random.choice(places)\n",
    "    else:\n",
    "        return \"我不知道\"\n",
    "\n",
    "@tool\n",
    "def lookup_result(place: str) -> str:\n",
    "    \"\"\"如果你猜测到了一个地方，可以使用这个工具去仔细查看否躲藏在这里\"\"\"\n",
    "\n",
    "    if \"床底\" in place:  # For under the bed\n",
    "        return \"发现几只臭袜子和鞋，但没发现目标\"\n",
    "    elif \"书架\" in place:  # For 'shelf'\n",
    "        return \"发现一些漫画书、图册和铅笔，但没发现目标\"\n",
    "    elif \"阳台\" in place:\n",
    "        return \"我找到了\"\n",
    "    else:  # 如果智能体决定找其他地方\n",
    "        return \"找到屋外了，但没有任何发现\""
   ]
  },
  {
   "cell_type": "markdown",
   "metadata": {
    "editable": true,
    "slideshow": {
     "slide_type": ""
    },
    "tags": []
   },
   "source": [
    "#### ✍️ 便捷转换：convert_to_openai_tool"
   ]
  },
  {
   "cell_type": "code",
   "execution_count": null,
   "metadata": {},
   "outputs": [],
   "source": [
    "print(json.dumps(convert_to_openai_tool(where_to_lookup), indent=2, ensure_ascii=False))"
   ]
  },
  {
   "cell_type": "markdown",
   "metadata": {},
   "source": [
    "#### ✍️ 调用包含工具的 ZhipuAI 实例"
   ]
  },
  {
   "cell_type": "code",
   "execution_count": null,
   "metadata": {
    "editable": true,
    "slideshow": {
     "slide_type": ""
    },
    "tags": []
   },
   "outputs": [],
   "source": [
    "resp = llm.invoke(\n",
    "    \"猫藏在哪里？\",\n",
    "    tools=[\n",
    "        convert_to_openai_tool(where_to_lookup),\n",
    "        convert_to_openai_tool(lookup_result)\n",
    "    ])\n",
    "print(resp)"
   ]
  },
  {
   "cell_type": "code",
   "execution_count": null,
   "metadata": {},
   "outputs": [],
   "source": [
    "where_is_cat_hiding.invoke({\"idea\":\"猫可能会藏在哪里呢？\"})"
   ]
  },
  {
   "cell_type": "markdown",
   "metadata": {},
   "source": [
    "### 3、实现OpenAI风格的工具回调智能体"
   ]
  },
  {
   "cell_type": "code",
   "execution_count": null,
   "metadata": {},
   "outputs": [],
   "source": [
    "# from langchain_openai import ChatOpenAI\n",
    "from langchain_zhipu import ChatZhipuAI\n",
    "from langchain.agents import AgentExecutor, Tool, create_openai_tools_agent\n",
    "from langchain import hub\n",
    "from langchain.tools import tool\n",
    "from langchain_core.utils.function_calling import convert_to_openai_tool, convert_to_openai_function\n",
    "import re\n",
    "\n",
    "def create_openai_executor(llm, tools):\n",
    "    \"\"\"\n",
    "    使用openai智能体定义一个应用\n",
    "    \"\"\"\n",
    "    # 定义 prompt\n",
    "    prompt = hub.pull(\"hwchase17/openai-tools-agent\")\n",
    "    # 定义 Agent\n",
    "    agent = create_openai_tools_agent(llm, tools, prompt)\n",
    "    # 定义 AgentExecutor\n",
    "    executor = AgentExecutor(agent=agent, tools=tools, verbose=True, handle_parsing_errors=False)\n",
    "\n",
    "    return executor\n",
    "\n",
    "lookup_cat = create_openai_executor(ChatZhipuAI(), [where_to_lookup, lookup_result])"
   ]
  },
  {
   "cell_type": "code",
   "execution_count": null,
   "metadata": {},
   "outputs": [],
   "source": [
    "lookup_cat.invoke({\"input\": \"我们玩一个找猫的游戏，你的目标是找猫藏在家里哪个位置。（注意，你每一步思考都必须使用工具）你要努力去找哦！\"})"
   ]
  },
  {
   "cell_type": "code",
   "execution_count": null,
   "metadata": {},
   "outputs": [],
   "source": [
    "from langchain_openai import ChatOpenAI\n",
    "lookup_cat = create_openai_executor(ChatOpenAI(), [where_to_lookup, lookup_result])\n",
    "lookup_cat.invoke({\"input\": \"我们玩一个找猫的游戏，你的目标是找猫藏在家里哪个位置。你要努力去找哦！\"})"
   ]
  },
  {
   "cell_type": "markdown",
   "metadata": {},
   "source": [
    "\n",
    "\n",
    "\n",
    "....\n",
    "\n",
    "\n",
    "\n",
    "**这里暂停探索**：我们先不要手工实现，而是转而尝试 langchain 封装好的工具回调智能体。"
   ]
  },
  {
   "cell_type": "markdown",
   "metadata": {},
   "source": [
    "### 4、查看 OpenAI 智能体的提示语"
   ]
  },
  {
   "cell_type": "markdown",
   "metadata": {},
   "source": [
    "#### ❤️ 从 Langsmith 的 hub 下载 hwchase17/openai-tools-agent"
   ]
  },
  {
   "cell_type": "markdown",
   "metadata": {},
   "source": [
    "[🔗 查看 hub.pull(\"hwchase17/openai-tools-agent\")](https://smith.langchain.com/hub/hwchase17/openai-tools-agent)"
   ]
  },
  {
   "cell_type": "markdown",
   "metadata": {},
   "source": [
    "#### ❤️ 等价的自定义 Prompt 模板"
   ]
  },
  {
   "cell_type": "code",
   "execution_count": null,
   "metadata": {},
   "outputs": [],
   "source": [
    "from langchain_core.prompts import ChatPromptTemplate\n",
    "from langchain.prompts import MessagesPlaceholder\n",
    "\n",
    "# openai agent\n",
    "prompt = ChatPromptTemplate.from_messages([\n",
    "    (\"system\", \"你是一个有用的助手\"),\n",
    "    MessagesPlaceholder(\"chat_history\"),\n",
    "    (\"human\", \"{input}\"),\n",
    "    MessagesPlaceholder(\"agent_scratchpad\"),\n",
    "])"
   ]
  },
  {
   "cell_type": "code",
   "execution_count": null,
   "metadata": {},
   "outputs": [],
   "source": [
    "prompt.invoke({\n",
    "    \"input\": \"我们玩一个找猫的游戏，你的目标是找猫藏在家里哪个位置。你要努力去找哦！\",\n",
    "    \"chat_history\": [],\n",
    "    \"agent_scratchpad\": []\n",
    "})"
   ]
  },
  {
   "cell_type": "markdown",
   "metadata": {},
   "source": [
    "### 5、OpenAI 智能体的运行过程"
   ]
  },
  {
   "cell_type": "markdown",
   "metadata": {},
   "source": [
    "#### ✍️ 简单执行：invoke"
   ]
  },
  {
   "cell_type": "code",
   "execution_count": null,
   "metadata": {},
   "outputs": [],
   "source": [
    "# invoke\n",
    "lookup_cat.invoke({\"input\":\"我们玩一个找猫的游戏，你的目标是找猫藏在家里哪个位置。你要努力去找哦！\"})"
   ]
  },
  {
   "cell_type": "markdown",
   "metadata": {},
   "source": [
    "#### ✍️ 流式执行：stream 和 事件流\n",
    "\n",
    "**使用stream：**"
   ]
  },
  {
   "cell_type": "code",
   "execution_count": null,
   "metadata": {},
   "outputs": [],
   "source": [
    "# stream\n",
    "for s in lookup_cat.stream({\"input\":\"我们玩一个找猫的游戏，你的目标是找猫藏在家里哪个位置。你要努力去找哦！\"}):\n",
    "    print(s)"
   ]
  },
  {
   "cell_type": "markdown",
   "metadata": {},
   "source": [
    "#####  还是要使用事件流：astream_events"
   ]
  },
  {
   "cell_type": "markdown",
   "metadata": {},
   "source": [
    "**看看方法 astream_events 的能力：**"
   ]
  },
  {
   "cell_type": "code",
   "execution_count": null,
   "metadata": {},
   "outputs": [],
   "source": [
    "# astream_events\n",
    "async for e in lookup_cat.astream_events({\"input\":\"我们玩一个找猫的游戏，你的目标是找猫藏在家里哪个位置。你要努力去找哦！\"}, version=\"v1\"):\n",
    "    print(e['name'], e['tags'], e['event'])"
   ]
  },
  {
   "cell_type": "markdown",
   "metadata": {},
   "source": [
    "#### ✍️ 事件流执行：观察与大模型的关键事件"
   ]
  },
  {
   "cell_type": "markdown",
   "metadata": {},
   "source": [
    "只读取 **on_tool_end** 和 **on_chat_model_end** 两个事件："
   ]
  },
  {
   "cell_type": "code",
   "execution_count": null,
   "metadata": {},
   "outputs": [],
   "source": [
    "async for e in lookup_cat.astream_events({\"input\":\"我们玩一个找猫的游戏，你的目标是找猫藏在家里哪个位置。你要努力去找哦！\"}, version=\"v1\"):\n",
    "    if e['event'] in [\"on_chat_model_end\", \"on_tool_end\"]:\n",
    "        if(\"input\" in e['data']):\n",
    "            print(\"\\n\", \"-\"*10, e['name'], \"-\"*2, e['event'], \"-\"*10)\n",
    "            print(\"INPUT:\")\n",
    "            print(e['data']['input'])\n",
    "        if(\"output\" in e['data']):\n",
    "            print(\"\\n\", \"-\"*10, e['name'], \"-\"*2, e['event'], \"-\"*10)\n",
    "            print(\"OUTPUT:\")\n",
    "            print(e['data']['output'])\n",
    "        # print(\"\\n\", e)"
   ]
  },
  {
   "cell_type": "markdown",
   "metadata": {},
   "source": [
    "#### ❤️ 总结智能体的运行过程：请对照官网中的接口定义体会\n",
    "\n",
    "- STEP-1 请求智能体（langchain -> LLM）: 发送带有Tools的请求\n",
    "- STEP-2 智能体解析（LLM -> langchain）: 收到Tools-Calling消息\n",
    "- STEP-3 调用本地工具（langchain）: 调用工具\n",
    "- STEP-4 重新请求智能体（langchain） -> LLM）: 提交调用结果\n",
    "- STEP-5 智能体最终生成（LLM -> langchain）: 大模型重新生成最终结果，或重复 STEP-3"
   ]
  },
  {
   "cell_type": "markdown",
   "metadata": {},
   "source": [
    "### 6、通过单步实验来研究智能体的调用结果"
   ]
  },
  {
   "cell_type": "markdown",
   "metadata": {},
   "source": [
    "#### 🌹 选修：你也可以尝试阅读 AgentExcutor 源码"
   ]
  },
  {
   "cell_type": "markdown",
   "metadata": {},
   "source": [
    "[🔗 查看 AgentExcutor 源码](https://github.com/langchain-ai/langchain/blob/239dd7c0c03d0430c55c2c41cf56cf0dd537199b/libs/langchain/langchain/agents/agent.py#L1413-L1458)"
   ]
  },
  {
   "cell_type": "markdown",
   "metadata": {},
   "source": [
    "<div class=\"alert alert-warning\">\n",
    "    <b>⚠️ 注意：本节内容非常重要 ！！！</b><br>\n",
    "    本节内容是最核心部份，是对智能体的运行逻辑的一步一步剖析，是真正掌握复杂智能体的基础。\n",
    "</div>"
   ]
  },
  {
   "cell_type": "markdown",
   "metadata": {},
   "source": [
    "#### （1）STEP-1 请求智能体（langchain -> ZhipuAI）: 发送带有Tools的请求"
   ]
  },
  {
   "cell_type": "code",
   "execution_count": null,
   "metadata": {},
   "outputs": [],
   "source": [
    "from langchain_core.prompts import ChatPromptTemplate\n",
    "from langchain.prompts import MessagesPlaceholder\n",
    "\n",
    "# openai风格智能体的提示语\n",
    "prompt = ChatPromptTemplate.from_messages([\n",
    "    (\"system\", \"你是一个有用的助手\"),\n",
    "    MessagesPlaceholder(\"chat_history\"),\n",
    "    (\"human\", \"{input}\"),\n",
    "    MessagesPlaceholder(\"agent_scratchpad\"),\n",
    "])\n",
    "\n",
    "## 定义openai风格智能体\n",
    "llm = ChatZhipuAI(tools=[convert_to_openai_tool(t) for t in [where_to_lookup, lookup_result]])\n",
    "agent = prompt | llm\n",
    "\n",
    "## 智能体的短期记忆\n",
    "scratchpad = []"
   ]
  },
  {
   "cell_type": "markdown",
   "metadata": {},
   "source": [
    "#### （2）STEP-2 智能体解析（LLM -> langchain）: 收到Tools-Calling消息"
   ]
  },
  {
   "cell_type": "code",
   "execution_count": null,
   "metadata": {},
   "outputs": [],
   "source": [
    "# 给智能体的输入\n",
    "input = \"我们玩一个找猫的游戏，你的目标是找猫藏在家里哪个位置。（注意每一步你都应该使用工具）你要努力去找哦！\"\n",
    "\n",
    "# 智能体中大模型的第一次反馈\n",
    "resp_llm = agent.invoke({\"input\": input, \"chat_history\": [], \"agent_scratchpad\": scratchpad})\n",
    "resp_llm"
   ]
  },
  {
   "cell_type": "markdown",
   "metadata": {},
   "source": [
    "#### （3）STEP-3 调用本地工具（langchain）: 调用工具"
   ]
  },
  {
   "cell_type": "code",
   "execution_count": null,
   "metadata": {},
   "outputs": [],
   "source": [
    "# 获得回调工具名称\n",
    "resp_llm.additional_kwargs[\"tool_calls\"][0][\"function\"][\"name\"]"
   ]
  },
  {
   "cell_type": "code",
   "execution_count": null,
   "metadata": {},
   "outputs": [],
   "source": [
    "# 获得回调工具参数\n",
    "resp_llm.additional_kwargs[\"tool_calls\"][0][\"function\"][\"arguments\"]"
   ]
  },
  {
   "cell_type": "code",
   "execution_count": null,
   "metadata": {},
   "outputs": [],
   "source": [
    "# 注意输出结果中的JSON是被引号包围的字符串，需要使用json工具提取\n",
    "import json\n",
    "tool_args = json.loads(resp_llm.additional_kwargs[\"tool_calls\"][0][\"function\"][\"arguments\"])\n",
    "tool_args"
   ]
  },
  {
   "cell_type": "code",
   "execution_count": null,
   "metadata": {},
   "outputs": [],
   "source": [
    "# 调用工具\n",
    "resp_tool = where_to_lookup.invoke(tool_args)\n",
    "resp_tool"
   ]
  },
  {
   "cell_type": "markdown",
   "metadata": {},
   "source": [
    "[🔗 查看 langhain官方解析openai回调参数的方法](https://github.com/langchain-ai/langchain/blob/239dd7c0c03d0430c55c2c41cf56cf0dd537199b/libs/langchain/langchain/agents/output_parsers/openai_tools.py)"
   ]
  },
  {
   "cell_type": "markdown",
   "metadata": {},
   "source": [
    "#### （4）STEP-4 重新请求智能体（langchain） -> ZhipuAI）: 提交调用结果"
   ]
  },
  {
   "cell_type": "code",
   "execution_count": null,
   "metadata": {},
   "outputs": [],
   "source": [
    "# 将输入、大模型返回和工具结果填充到短期记忆链中\n",
    "scratchpad.append(input)\n",
    "scratchpad.append(resp_llm)\n",
    "scratchpad.append(resp_tool)\n",
    "scratchpad"
   ]
  },
  {
   "cell_type": "code",
   "execution_count": null,
   "metadata": {},
   "outputs": [],
   "source": [
    "# 通过索引看得更真切一些\n",
    "scratchpad[2]"
   ]
  },
  {
   "cell_type": "markdown",
   "metadata": {},
   "source": [
    "#### （5）STEP-5 智能体最终生成（ZhipuAI -> langchain）: 大模型重新生成结果"
   ]
  },
  {
   "cell_type": "code",
   "execution_count": null,
   "metadata": {},
   "outputs": [],
   "source": [
    "# 结合短期记忆，再次调用大模型\n",
    "resp_llm = agent.invoke({\"input\": input, \"chat_history\": history, \"agent_scratchpad\": scratchpad})\n",
    "resp_llm"
   ]
  },
  {
   "cell_type": "markdown",
   "metadata": {},
   "source": [
    "#### （6）STEP-6 （重复上面的步骤）继续调用工具，直到结束"
   ]
  },
  {
   "cell_type": "markdown",
   "metadata": {},
   "source": [
    "## 三、总结"
   ]
  },
  {
   "cell_type": "markdown",
   "metadata": {},
   "source": [
    "- 🌹 Langchain 开发的基本范式： Prompt+LLM+OutputParser\n",
    "- 🌹 初步接触智能体：工具回调智能体\n",
    "- 🌹 智能体的内部运行逻辑：LLM推理 -> 调用工具 -> LLM推理 -> ... -> LLM认为结束"
   ]
  },
  {
   "cell_type": "markdown",
   "metadata": {},
   "source": [
    "**再次复习调用过程：**"
   ]
  },
  {
   "cell_type": "code",
   "execution_count": null,
   "metadata": {},
   "outputs": [],
   "source": [
    "async for e in lookup_cat.astream_events({\"input\":\"我们玩一个找猫的游戏，你的目标是找猫藏在家里哪个位置。你要努力去找哦！\"}, version=\"v1\"):\n",
    "    if e['event'] in [\"on_chat_model_end\", \"on_tool_end\"]:\n",
    "        if(\"input\" in e['data']):\n",
    "            print(\"\\n\", \"-\"*10, e['name'], \"-\"*2, e['event'], \"-\"*10)\n",
    "            print(\"INPUT:\")\n",
    "            print(e['data']['input'])\n",
    "        if(\"output\" in e['data']):\n",
    "            print(\"\\n\", \"-\"*10, e['name'], \"-\"*2, e['event'], \"-\"*10)\n",
    "            print(\"OUTPUT:\")\n",
    "            print(e['data']['output'])\n",
    "        # print(\"\\n\", e)"
   ]
  }
 ],
 "metadata": {
  "kernelspec": {
   "display_name": "langchani-book-py3.10-ipykernel",
   "language": "python",
   "name": "langchani-book-py3.10-ipykernel"
  },
  "language_info": {
   "codemirror_mode": {
    "name": "ipython",
    "version": 3
   },
   "file_extension": ".py",
   "mimetype": "text/x-python",
   "name": "python",
   "nbconvert_exporter": "python",
   "pygments_lexer": "ipython3",
   "version": "3.10.0"
  }
 },
 "nbformat": 4,
 "nbformat_minor": 4
}
