{
 "cells": [
  {
   "cell_type": "markdown",
   "id": "a90cd55f-3d83-498e-ba9d-1593e14fbf27",
   "metadata": {},
   "source": [
    "# AI大模型开发系列：RAG初步"
   ]
  },
  {
   "cell_type": "markdown",
   "id": "f83c3768-e028-41b7-8c2e-487c674c547b",
   "metadata": {},
   "source": [
    "## 一、初步使用RAG"
   ]
  },
  {
   "cell_type": "markdown",
   "id": "8ead043b-7b5b-4a05-a1d4-81608f48a12b",
   "metadata": {},
   "source": [
    "### 1、关于RAG的几个问题\n",
    "\n",
    "- 什么是文本嵌入？\n",
    "- 文本拆分和编码？\n",
    "- 使用向量数据库？\n",
    "- 查询知识？"
   ]
  },
  {
   "cell_type": "markdown",
   "id": "40ce68a2-cc16-4394-8eea-178767824fae",
   "metadata": {},
   "source": [
    "### 2、直接使用搜索结果"
   ]
  },
  {
   "cell_type": "code",
   "execution_count": null,
   "id": "6134c9b0-12e1-4055-9082-1980a7981e4d",
   "metadata": {},
   "outputs": [],
   "source": [
    "from langchain_core.output_parsers import StrOutputParser\n",
    "from langchain_core.runnables import RunnablePassthrough\n",
    "from langchain_core.prompts import ChatPromptTemplate\n",
    "from langchain_zhipu import ChatZhipuAI\n",
    "\n",
    "## 本地搜索\n",
    "search_db = lambda x: \"阳台\"\n",
    "\n",
    "## 提示语模板\n",
    "template = \"\"\"\n",
    "基于以下提供的信息回答问题:\n",
    "{context}\n",
    "\n",
    "Question: {question}\n",
    "\n",
    "不要啰嗦。\n",
    "\"\"\"\n",
    "\n",
    "prompt = ChatPromptTemplate.from_template(template)\n",
    "\n",
    "## 定义链\n",
    "chain = (\n",
    "    {\n",
    "        \"context\": search_db,\n",
    "        \"question\": RunnablePassthrough()\n",
    "    }\n",
    "    | prompt \n",
    "    | ChatZhipuAI() \n",
    "    | StrOutputParser()\n",
    ")\n",
    "\n",
    "chain.invoke(\"我们玩一个找猫的游戏，你的目标是找猫藏在家里哪个位置。你要努力去找哦！\")"
   ]
  },
  {
   "cell_type": "markdown",
   "id": "9f5205c7-4bb5-4797-aa33-68858d04b23b",
   "metadata": {},
   "source": [
    "### 3、RAG的例子"
   ]
  },
  {
   "cell_type": "code",
   "execution_count": null,
   "id": "829099d4-8b7c-486e-9bf7-11359e9a634b",
   "metadata": {},
   "outputs": [],
   "source": [
    "from langchain_core.output_parsers import StrOutputParser\n",
    "from langchain_core.runnables import RunnablePassthrough\n",
    "from langchain_core.prompts import ChatPromptTemplate\n",
    "from langchain_community.vectorstores import Chroma\n",
    "from langchain_zhipu import ChatZhipuAI, ZhipuAIEmbeddings\n",
    "\n",
    "## 定义向量存储\n",
    "db = Chroma.from_texts(\n",
    "    [\n",
    "        \"我家有一条黄色的拉布拉多犬\",\n",
    "        \"我家的狗狗喜欢吃蜂蜜\",\n",
    "        \"我家的猫喜欢是白色的\",\n",
    "        \"我家的绿色乌龟喜欢吃小鱼\",\n",
    "        \"我家的金色小鱼喜欢吃蚯蚓\",\n",
    "        \"我家的娃娃喜欢溜狗狗\",\n",
    "    ],\n",
    "    embedding=ZhipuAIEmbeddings(),\n",
    ")\n",
    "retriever = db.as_retriever()"
   ]
  },
  {
   "cell_type": "code",
   "execution_count": null,
   "id": "05507eca-0458-493b-b0cb-9a0aa811d4ac",
   "metadata": {},
   "outputs": [],
   "source": [
    "db.similarity_search(\"你家的狗什么颜色?\", k=3)"
   ]
  },
  {
   "cell_type": "code",
   "execution_count": null,
   "id": "3c24198d-ad72-4b99-bf29-96e90a931682",
   "metadata": {},
   "outputs": [],
   "source": [
    "db.similarity_search(\"你家的鱼什么颜色?\", k=3)"
   ]
  },
  {
   "cell_type": "code",
   "execution_count": null,
   "id": "55a6455b-edcd-4c3b-afbd-96b3d9473587",
   "metadata": {},
   "outputs": [],
   "source": [
    "## 提示语模板\n",
    "template = \"\"\"\n",
    "基于以下提供的信息回答问题:\n",
    "{context}\n",
    "\n",
    "Question: {question}\n",
    "\n",
    "不要啰嗦。\n",
    "\"\"\"\n",
    "\n",
    "prompt = ChatPromptTemplate.from_template(template)\n",
    "\n",
    "## 定义链\n",
    "chain = (\n",
    "    {\n",
    "        \"context\": retriever,\n",
    "        \"question\": RunnablePassthrough()\n",
    "    }\n",
    "    | prompt \n",
    "    | ChatZhipuAI() \n",
    "    | StrOutputParser()\n",
    ")\n",
    "chain.invoke(\"你猜猜我家有一只什么颜色的猫？\")"
   ]
  },
  {
   "cell_type": "code",
   "execution_count": null,
   "id": "2daa01f0-82bd-460e-a02f-d68495665640",
   "metadata": {},
   "outputs": [],
   "source": [
    "chain.invoke(\"你猜猜我家有一只什么颜色的Cat？\")"
   ]
  }
 ],
 "metadata": {
  "kernelspec": {
   "display_name": "langchani-book-py3.10-ipykernel",
   "language": "python",
   "name": "langchani-book-py3.10-ipykernel"
  },
  "language_info": {
   "codemirror_mode": {
    "name": "ipython",
    "version": 3
   },
   "file_extension": ".py",
   "mimetype": "text/x-python",
   "name": "python",
   "nbconvert_exporter": "python",
   "pygments_lexer": "ipython3",
   "version": "3.10.0"
  }
 },
 "nbformat": 4,
 "nbformat_minor": 5
}
