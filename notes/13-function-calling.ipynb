{
 "cells": [
  {
   "cell_type": "markdown",
   "id": "2b3f384a-946e-44af-ad8f-c9a2143dc63e",
   "metadata": {
    "editable": true,
    "slideshow": {
     "slide_type": ""
    },
    "tags": []
   },
   "source": [
    "# Function Calling"
   ]
  },
  {
   "cell_type": "code",
   "execution_count": 582,
   "id": "2a20fb6a-5187-4dec-b704-1288306c5f24",
   "metadata": {
    "editable": true,
    "slideshow": {
     "slide_type": ""
    },
    "tags": []
   },
   "outputs": [
    {
     "data": {
      "text/plain": [
       "True"
      ]
     },
     "execution_count": 582,
     "metadata": {},
     "output_type": "execute_result"
    }
   ],
   "source": [
    "import os\n",
    "from dotenv import load_dotenv, find_dotenv\n",
    "load_dotenv(find_dotenv(), override=True)"
   ]
  },
  {
   "cell_type": "markdown",
   "id": "209b9ca9-b755-4ceb-8e8b-512df5569d1a",
   "metadata": {},
   "source": [
    "**注意**：并不是所有模型都支持`Function Calling`，而默认的名称会随着版本迭代发生不可预测的变化，因此最好指定具体模型名称。"
   ]
  },
  {
   "cell_type": "markdown",
   "id": "2943bc98-a779-4e6a-8cab-e0be22e348aa",
   "metadata": {},
   "source": [
    "<div class=\"alert-success\">\n",
    "\n",
    "**以下模型支持 `Funcition Calling`**：<br>\n",
    "gpt-4, gpt-4-turbo-preview, gpt-4-0125-preview, gpt-4-1106-preview, gpt-4-0613, gpt-3.5-turbo, gpt-3.5-turbo-0125, gpt-3.5-turbo-1106, and gpt-3.5-turbo-0613\n",
    "\n",
    "**以下模型支持`并行调用`**：<br>\n",
    "gpt-4-turbo-preview, gpt-4-0125-preview, gpt-4-1106-preview, gpt-3.5-turbo-0125, and gpt-3.5-turbo-1106\n",
    "\n",
    "</div>"
   ]
  },
  {
   "cell_type": "markdown",
   "id": "ad563ccc-f677-4587-84df-cff637089937",
   "metadata": {},
   "source": [
    "## OpenAI 函数回调"
   ]
  },
  {
   "cell_type": "markdown",
   "id": "c5221029-95a4-4112-b549-1f9073419852",
   "metadata": {},
   "source": [
    "### 定义工具"
   ]
  },
  {
   "cell_type": "markdown",
   "id": "d2086608-ab5e-4f58-84d8-1829df762ddb",
   "metadata": {},
   "source": [
    "<div class=\"alert-warning\">\n",
    "<b>注意：</b><br>\n",
    "    \n",
    "1. OpenAI使用的Tools名称类似于一个函数命名，必须使用下划线或ASCII码，**不能使用中文**！<br>\n",
    "但描述部份可以使用中文。\n",
    "2. 定义工具时，请**至少包含一个参数**（即使你不使用这个参数），否则调用 GPT 时可能会抛出异常\n",
    "</div>"
   ]
  },
  {
   "cell_type": "code",
   "execution_count": 538,
   "id": "3a2e3ed5-74a2-4da9-962d-05843c29b3d1",
   "metadata": {
    "editable": true,
    "slideshow": {
     "slide_type": ""
    },
    "tags": []
   },
   "outputs": [],
   "source": [
    "import json\n",
    "import random\n",
    "\n",
    "from langchain.tools import tool\n",
    "from langchain_core.utils.function_calling import convert_to_openai_tool\n",
    "\n",
    "# @tool(args_schema=WhereIsCatSchema)\n",
    "@tool(\"WhereIsCatHidding\")\n",
    "def where_is_cat_hiding(idea: str) -> str:\n",
    "    \"\"\"从这些地方选择猫躲藏的地方\"\"\"\n",
    "    return random.choice([\"在床底下吗？\", \"在书架中吗？\", \"在阳台吗？\"])\n",
    "\n",
    "@tool(\"GetItem\")\n",
    "def get_items(place: str) -> str:\n",
    "    \"\"\"使用这个工具去仔细查看猫躲藏的地方\"\"\"\n",
    "    if \"床底\" in place:  # For under the bed\n",
    "        return \"发现几只臭袜子和鞋，但没发现猫\"\n",
    "    elif \"书架\" in place:  # For 'shelf'\n",
    "        return \"发现一些漫画书、图册和铅笔，但没发现猫\"\n",
    "    elif \"阳台\" in place: \n",
    "        return \"我找到猫了\"\n",
    "    else:  # 如果智能体决定找其他地方\n",
    "        return \"找到屋外了，但没发现猫\""
   ]
  },
  {
   "cell_type": "markdown",
   "id": "726ecd05-6174-4fca-b001-b5c278dbe421",
   "metadata": {
    "editable": true,
    "slideshow": {
     "slide_type": ""
    },
    "tags": []
   },
   "source": [
    "### convert_to_openai_tool"
   ]
  },
  {
   "cell_type": "code",
   "execution_count": 539,
   "id": "24832afc-11e0-4e18-8c92-76537be63275",
   "metadata": {},
   "outputs": [
    {
     "name": "stdout",
     "output_type": "stream",
     "text": [
      "{\n",
      "  \"type\": \"function\",\n",
      "  \"function\": {\n",
      "    \"name\": \"WhereIsCatHidding\",\n",
      "    \"description\": \"WhereIsCatHidding(idea: str) -> str - 从这些地方选择猫躲藏的地方\",\n",
      "    \"parameters\": {\n",
      "      \"type\": \"object\",\n",
      "      \"properties\": {\n",
      "        \"idea\": {\n",
      "          \"type\": \"string\"\n",
      "        }\n",
      "      },\n",
      "      \"required\": [\n",
      "        \"idea\"\n",
      "      ]\n",
      "    }\n",
      "  }\n",
      "}\n"
     ]
    }
   ],
   "source": [
    "print(json.dumps(convert_to_openai_tool(where_is_cat_hiding), indent=2, ensure_ascii=False))"
   ]
  },
  {
   "cell_type": "markdown",
   "id": "47af53b9-359c-42e9-a2b2-e3ed3f29f5a8",
   "metadata": {},
   "source": [
    "### 调用 OpenAI"
   ]
  },
  {
   "cell_type": "code",
   "execution_count": 496,
   "id": "aaf2e1a4-8e41-4cf3-9855-764fd30e6240",
   "metadata": {},
   "outputs": [],
   "source": [
    "from langchain_openai import ChatOpenAI\n",
    "\n",
    "llm = ChatOpenAI(model=\"gpt-3.5-turbo\")"
   ]
  },
  {
   "cell_type": "code",
   "execution_count": 497,
   "id": "9febaa8f-4a92-4306-b11f-e50ed681867a",
   "metadata": {
    "editable": true,
    "slideshow": {
     "slide_type": ""
    },
    "tags": []
   },
   "outputs": [
    {
     "name": "stdout",
     "output_type": "stream",
     "text": [
      "content='' additional_kwargs={'tool_calls': [{'id': 'call_BjlSqGwO4VpQA290hjEoc4FU', 'function': {'arguments': '{\\n  \"idea\": \"猫可能躲在床下\"\\n}', 'name': 'WhereIsCatHidding'}, 'type': 'function'}]}\n"
     ]
    }
   ],
   "source": [
    "resp = llm.invoke(\n",
    "    \"猫藏在哪里？\",\n",
    "    tools=[\n",
    "        convert_to_openai_tool(where_is_cat_hiding),\n",
    "        convert_to_openai_tool(get_items)\n",
    "    ])\n",
    "print(resp)"
   ]
  },
  {
   "cell_type": "markdown",
   "id": "0dea8e30-450a-4145-8e46-3e75f73b6582",
   "metadata": {},
   "source": [
    "以下方法是等价的：\n",
    "```python\n",
    "# bind\n",
    "llm.bind(tools=[convert_to_openai_tool(where_cat_is_hiding)]).invoke(\"猫藏在哪里？\")\n",
    "# bind_tools\n",
    "llm.bind_tools([convert_to_openai_tool(where_cat_is_hiding)]).invoke(\"猫藏在哪里？\")\n",
    "```"
   ]
  },
  {
   "cell_type": "markdown",
   "id": "b9e129bb-a6cf-487c-817d-e3c3e1b03441",
   "metadata": {},
   "source": [
    "## 解析 OpenAI 函数和参数"
   ]
  },
  {
   "cell_type": "markdown",
   "id": "b273913d-0eb6-49f4-a782-47356f167d46",
   "metadata": {},
   "source": [
    "### 解析为 JSON"
   ]
  },
  {
   "cell_type": "code",
   "execution_count": 498,
   "id": "087832bd-2168-4680-bc9b-b96374aec74d",
   "metadata": {},
   "outputs": [
    {
     "data": {
      "text/plain": [
       "[{'type': 'WhereIsCatHidding', 'args': {'idea': '猫可能躲在床下'}}]"
      ]
     },
     "execution_count": 498,
     "metadata": {},
     "output_type": "execute_result"
    }
   ],
   "source": [
    "from langchain.output_parsers.openai_tools import JsonOutputToolsParser\n",
    "\n",
    "JsonOutputToolsParser().invoke(resp)"
   ]
  },
  {
   "cell_type": "markdown",
   "id": "9d5bea4f-df37-40f2-9feb-66e8c29f4b27",
   "metadata": {},
   "source": [
    "### 提取 JSON 特定键"
   ]
  },
  {
   "cell_type": "code",
   "execution_count": 499,
   "id": "0a1e4e54-419f-4aa4-9c32-9c59f4891aff",
   "metadata": {},
   "outputs": [
    {
     "data": {
      "text/plain": [
       "[{'idea': '猫可能躲在床下'}]"
      ]
     },
     "execution_count": 499,
     "metadata": {},
     "output_type": "execute_result"
    }
   ],
   "source": [
    "from langchain.output_parsers.openai_tools import JsonOutputKeyToolsParser\n",
    "\n",
    "JsonOutputKeyToolsParser(key_name=\"WhereIsCatHidding\").invoke(resp)"
   ]
  },
  {
   "cell_type": "markdown",
   "id": "5fc91309-2a62-419a-9f72-b4a22563d612",
   "metadata": {},
   "source": [
    "### 提取 Pydantic 对象"
   ]
  },
  {
   "cell_type": "code",
   "execution_count": 500,
   "id": "1cc77ab1-bcfb-4753-b639-06a6291dde83",
   "metadata": {},
   "outputs": [],
   "source": [
    "from langchain_core.pydantic_v1 import BaseModel, Field\n",
    "\n",
    "class WhereIsCatHidding(BaseModel):\n",
    "    \"\"\"找猫\"\"\"\n",
    "\n",
    "    idea: str = Field(..., description=\"寻找猫的线索\")\n",
    "    \n",
    "class GetItems(BaseModel):\n",
    "    \"\"\"看看有什么发现\"\"\"\n",
    "\n",
    "    place: str = Field(..., description=\"地点的描述\")"
   ]
  },
  {
   "cell_type": "code",
   "execution_count": 501,
   "id": "febe37c8-8f3a-49b7-abc4-fdcdfde5800a",
   "metadata": {},
   "outputs": [],
   "source": [
    "from langchain.output_parsers.openai_tools import PydanticToolsParser\n",
    "\n",
    "parser = PydanticToolsParser(tools=[WhereIsCatHidding, GetItems])"
   ]
  },
  {
   "cell_type": "code",
   "execution_count": 502,
   "id": "ca8d7a99-60f6-4109-bc9f-37cd67e51731",
   "metadata": {},
   "outputs": [],
   "source": [
    "tools = [convert_to_openai_tool(t) for t in [where_is_cat_hiding, get_items]]\n",
    "chain = llm.bind(seed=42, tools=tools) | parser"
   ]
  },
  {
   "cell_type": "code",
   "execution_count": 503,
   "id": "78090146-94b7-44d8-a1ed-d96ab40fb323",
   "metadata": {
    "editable": true,
    "slideshow": {
     "slide_type": ""
    },
    "tags": []
   },
   "outputs": [
    {
     "name": "stdout",
     "output_type": "stream",
     "text": [
      "[WhereIsCatHidding(idea='在书架上')]\n"
     ]
    }
   ],
   "source": [
    "resp = chain.invoke(\"猫藏在哪里？\")\n",
    "print(resp)"
   ]
  },
  {
   "cell_type": "markdown",
   "id": "f64b7508-064a-4dfa-851c-bd472b2de011",
   "metadata": {},
   "source": [
    "### 运行函数"
   ]
  },
  {
   "cell_type": "code",
   "execution_count": 504,
   "id": "8339a2ac-d8b8-424d-8d22-0ea5c3df9861",
   "metadata": {},
   "outputs": [
    {
     "name": "stdout",
     "output_type": "stream",
     "text": [
      "在床底下\n"
     ]
    }
   ],
   "source": [
    "for obj in resp:\n",
    "    if(isinstance(obj, WhereIsCatHidding)):\n",
    "        print(where_cat_is_hiding(obj.idea))\n",
    "    elif(isinstance(obj, GetItems)):\n",
    "        print(get_item(obj.place))\n",
    "    else:\n",
    "        print(\"没有工具需要执行\")"
   ]
  },
  {
   "cell_type": "markdown",
   "id": "f0b6f8ba-bbce-4edc-b287-4260378c3732",
   "metadata": {},
   "source": [
    "### 小结"
   ]
  },
  {
   "cell_type": "markdown",
   "id": "0a7b522a-e75d-4efb-b1a5-fd7a55ac1b42",
   "metadata": {},
   "source": [
    "如前文所示：GPT模型会在每次检测到需要调用函数时返回这个函数的名称和参数，但需要你自己在代码中去运行工具函数。\n",
    "通常，你还需要将函数执行结果反馈给GPT，然后生成新的结果。\n",
    "\n",
    "智能体将自动化上述过程。"
   ]
  },
  {
   "cell_type": "markdown",
   "id": "67a61401-c6ab-45ea-8955-4deeec99d44a",
   "metadata": {},
   "source": [
    "## 使用 OpenAI Tool 自定义智能体"
   ]
  },
  {
   "cell_type": "markdown",
   "id": "d22c2a39-7e04-469c-9c3a-bb9913f45d2a",
   "metadata": {},
   "source": [
    "### Prompt"
   ]
  },
  {
   "cell_type": "code",
   "execution_count": 505,
   "id": "c0f0c467-6666-4423-9c60-b4fe27d95d49",
   "metadata": {},
   "outputs": [],
   "source": [
    "from langchain_core.prompts import ChatPromptTemplate, MessagesPlaceholder\n",
    "\n",
    "prompt = ChatPromptTemplate.from_messages(\n",
    "    [\n",
    "        (\n",
    "            \"system\",\n",
    "            \"你正在与我玩一个找猫的游戏\",\n",
    "        ),\n",
    "        (\"user\", \"{input}\"),\n",
    "        MessagesPlaceholder(variable_name=\"agent_scratchpad\"),\n",
    "    ]\n",
    ")"
   ]
  },
  {
   "cell_type": "markdown",
   "id": "83767dee-2f3f-43f0-8db0-7ba8e4d9d2b9",
   "metadata": {},
   "source": [
    "### Tool"
   ]
  },
  {
   "cell_type": "code",
   "execution_count": 506,
   "id": "46f1d01c-ebfd-4c09-a0f4-d147238513b4",
   "metadata": {
    "editable": true,
    "slideshow": {
     "slide_type": ""
    },
    "tags": []
   },
   "outputs": [],
   "source": [
    "tools=[\n",
    "        convert_to_openai_tool(where_is_cat_hiding),\n",
    "        convert_to_openai_tool(get_items)\n",
    "    ]"
   ]
  },
  {
   "cell_type": "markdown",
   "id": "59237839-da73-472d-9a05-f0bb3d66e36c",
   "metadata": {},
   "source": [
    "### LLM"
   ]
  },
  {
   "cell_type": "code",
   "execution_count": 507,
   "id": "95771ed6-5a43-4664-89d7-542e5732b5be",
   "metadata": {},
   "outputs": [],
   "source": [
    "from langchain_openai import ChatOpenAI\n",
    "\n",
    "llm = ChatOpenAI(model=\"gpt-3.5-turbo-0125\").bind_tools(tools)"
   ]
  },
  {
   "cell_type": "code",
   "execution_count": 508,
   "id": "11ed95f6-8997-4f39-b8e8-919c1522dda5",
   "metadata": {},
   "outputs": [
    {
     "data": {
      "text/plain": [
       "AIMessage(content='猫可能躲在哪里呢？你有什么想法？')"
      ]
     },
     "execution_count": 508,
     "metadata": {},
     "output_type": "execute_result"
    }
   ],
   "source": [
    "llm.invoke(\"猫呢?\")"
   ]
  },
  {
   "cell_type": "code",
   "execution_count": 509,
   "id": "49acb7b1-cc56-44e0-bc54-03b49427791d",
   "metadata": {},
   "outputs": [
    {
     "data": {
      "text/plain": [
       "AIMessage(content='让我来帮你找找看，让我想想... 嗯，我有一个主意！让我们从这些地方选择猫躲藏的地方吧。', additional_kwargs={'tool_calls': [{'id': 'call_DNdQbXoBNNiOGdJOhU6L1mUe', 'function': {'arguments': '{\"idea\":\"under the table\"}', 'name': 'WhereIsCatHidding'}, 'type': 'function'}]})"
      ]
     },
     "execution_count": 509,
     "metadata": {},
     "output_type": "execute_result"
    }
   ],
   "source": [
    "chain = {\n",
    "        \"input\": lambda x: x[\"input\"],\n",
    "        \"agent_scratchpad\": lambda x: format_to_openai_tool_messages(\n",
    "            x[\"intermediate_steps\"]\n",
    "        ),\n",
    "    } | prompt | llm\n",
    "\n",
    "chain.invoke({\"input\": \"猫在哪?\", \"intermediate_steps\": \"\"})"
   ]
  },
  {
   "cell_type": "markdown",
   "id": "7b76378f-60b2-49af-9b06-3e194874af56",
   "metadata": {},
   "source": [
    "### Agent"
   ]
  },
  {
   "cell_type": "code",
   "execution_count": 510,
   "id": "75f7bfbb-42d9-4311-87e4-5674e0b5e5c3",
   "metadata": {},
   "outputs": [],
   "source": [
    "from langchain.agents.format_scratchpad.openai_tools import (\n",
    "    format_to_openai_tool_messages,\n",
    ")\n",
    "from langchain.agents.output_parsers.openai_tools import OpenAIToolsAgentOutputParser\n",
    "\n",
    "agent = (\n",
    "    {\n",
    "        \"input\": lambda x: x[\"input\"],\n",
    "        \"agent_scratchpad\": lambda x: format_to_openai_tool_messages(\n",
    "            x[\"intermediate_steps\"]\n",
    "        ),\n",
    "    }\n",
    "    | prompt\n",
    "    | llm\n",
    "    | OpenAIToolsAgentOutputParser()\n",
    ")"
   ]
  },
  {
   "cell_type": "markdown",
   "id": "96c1af9b-ab62-4549-8724-5345ed7177b1",
   "metadata": {},
   "source": [
    "### AgentExecutor"
   ]
  },
  {
   "cell_type": "markdown",
   "id": "372822b6-5b4d-4ef0-a538-c2ef289bcc42",
   "metadata": {},
   "source": [
    "**注意** 在这个例子中有两处对工具的声明：\n",
    "\n",
    "- 第一次是作为提示语的一部份提供给 OpenAI；\n",
    "- 第二次是作为可执行的 Python 函数清单提供给 AgentExecutor（此时并不需要转换为 OpenAI 格式）。"
   ]
  },
  {
   "cell_type": "code",
   "execution_count": 511,
   "id": "515966f3-1157-41c1-b6f1-66828032e795",
   "metadata": {},
   "outputs": [],
   "source": [
    "from langchain.agents import AgentExecutor\n",
    "\n",
    "agent_executor = AgentExecutor(agent=agent, tools=[where_is_cat_hiding, get_items], verbose=True)"
   ]
  },
  {
   "cell_type": "markdown",
   "id": "ea3e8a62-6763-45ee-ab72-221bda6a9b71",
   "metadata": {},
   "source": [
    "### 运行"
   ]
  },
  {
   "cell_type": "code",
   "execution_count": 512,
   "id": "608d8669-f3cc-4d29-9c3b-4a3030846711",
   "metadata": {},
   "outputs": [
    {
     "name": "stdout",
     "output_type": "stream",
     "text": [
      "\n",
      "\n",
      "\u001b[1m> Entering new AgentExecutor chain...\u001b[0m\n",
      "\u001b[32;1m\u001b[1;3m\n",
      "Invoking: `WhereIsCatHidding` with `{'idea': '在书架上'}`\n",
      "\n",
      "\n",
      "\u001b[0m\u001b[36;1m\u001b[1;3m阳台\u001b[0m\u001b[32;1m\u001b[1;3m\n",
      "Invoking: `GetItem` with `{'place': '书架'}`\n",
      "\n",
      "\n",
      "\u001b[0m\u001b[33;1m\u001b[1;3m发现一些漫画书、图册和铅笔，但没发现猫\u001b[0m\u001b[32;1m\u001b[1;3m\n",
      "Invoking: `GetItem` with `{'place': '阳台'}`\n",
      "\n",
      "\n",
      "\u001b[0m\u001b[33;1m\u001b[1;3m我找到猫了\u001b[0m\u001b[32;1m\u001b[1;3m猫可能在阳台上，我去找找看。\u001b[0m\n",
      "\n",
      "\u001b[1m> Finished chain.\u001b[0m\n"
     ]
    },
    {
     "data": {
      "text/plain": [
       "{'input': '猫在哪里?', 'output': '猫可能在阳台上，我去找找看。'}"
      ]
     },
     "execution_count": 512,
     "metadata": {},
     "output_type": "execute_result"
    }
   ],
   "source": [
    "agent_executor.invoke({\"input\": \"猫在哪里?\"})"
   ]
  },
  {
   "cell_type": "markdown",
   "id": "a46f89be-34b9-4f95-9743-098fa4e5cc00",
   "metadata": {
    "editable": true,
    "slideshow": {
     "slide_type": ""
    },
    "tags": []
   },
   "source": [
    "## create_openai_tools_agent"
   ]
  },
  {
   "cell_type": "markdown",
   "id": "e178694e-73a3-4a00-827f-f1da406ad90b",
   "metadata": {},
   "source": [
    "### 准备"
   ]
  },
  {
   "cell_type": "code",
   "execution_count": 545,
   "id": "bad551da-af6f-4e7f-9617-8b09e06e3ae9",
   "metadata": {
    "editable": true,
    "slideshow": {
     "slide_type": ""
    },
    "tags": []
   },
   "outputs": [],
   "source": [
    "from langchain import hub\n",
    "from langchain.agents import AgentExecutor, Tool, create_openai_tools_agent\n",
    "from langchain.prompts import ChatPromptTemplate\n",
    "from langchain.tools import tool, StructuredTool\n",
    "from langchain_core.callbacks import Callbacks\n",
    "from langchain_openai import ChatOpenAI"
   ]
  },
  {
   "cell_type": "markdown",
   "id": "bb4a9b48-33fb-4607-9d9e-887418ebee6b",
   "metadata": {},
   "source": [
    "### Prompt"
   ]
  },
  {
   "cell_type": "markdown",
   "id": "52ba207d-59b9-460b-bdf0-2e55f827fce2",
   "metadata": {},
   "source": [
    "从 `langsmith` 的 hub 中直接提取提示语："
   ]
  },
  {
   "cell_type": "code",
   "execution_count": 546,
   "id": "f6985442-2497-471c-8d5e-f9c3a0d19336",
   "metadata": {},
   "outputs": [
    {
     "name": "stdout",
     "output_type": "stream",
     "text": [
      "[SystemMessagePromptTemplate(prompt=PromptTemplate(input_variables=[], template='You are a helpful assistant')), MessagesPlaceholder(variable_name='chat_history', optional=True), HumanMessagePromptTemplate(prompt=PromptTemplate(input_variables=['input'], template='{input}')), MessagesPlaceholder(variable_name='agent_scratchpad')]\n"
     ]
    }
   ],
   "source": [
    "prompt = hub.pull(\"hwchase17/openai-tools-agent\")\n",
    "print(prompt.messages) # to see the prompt"
   ]
  },
  {
   "cell_type": "markdown",
   "id": "40848031-f2a0-4e0e-b007-25a0cd0dbf77",
   "metadata": {},
   "source": [
    "### LLM"
   ]
  },
  {
   "cell_type": "markdown",
   "id": "b263ac84-7e2a-4455-a037-4bf68102565a",
   "metadata": {},
   "source": [
    "**注意** 此处不需要将工具使用说明提供给 OpenAI，而是交给后面的 `create_openai_tols_agent` 来做这件事："
   ]
  },
  {
   "cell_type": "code",
   "execution_count": 565,
   "id": "9601b5ef-904b-4d45-b4d5-1bf1003d1ef0",
   "metadata": {},
   "outputs": [],
   "source": [
    "model = ChatOpenAI(model=\"gpt-3.5-turbo-1106\", temperature=0, streaming=True)"
   ]
  },
  {
   "cell_type": "markdown",
   "id": "8ae539f1-bc19-4692-b865-1271fbf27023",
   "metadata": {},
   "source": [
    "### Agent"
   ]
  },
  {
   "cell_type": "code",
   "execution_count": 566,
   "id": "d0dac8ff-8643-435d-a1f3-768dd491b43d",
   "metadata": {},
   "outputs": [],
   "source": [
    "tools = [where_is_cat_hiding, get_items]"
   ]
  },
  {
   "cell_type": "code",
   "execution_count": 567,
   "id": "8680e164-f93c-48e3-90da-27ca932725c3",
   "metadata": {},
   "outputs": [],
   "source": [
    "# tools：提供工具说明\n",
    "agent = create_openai_tools_agent(model, tools, prompt)"
   ]
  },
  {
   "cell_type": "markdown",
   "id": "7a0baa54-4602-47d0-84f8-832b6ffd97a7",
   "metadata": {},
   "source": [
    "### AgentExecutor"
   ]
  },
  {
   "cell_type": "code",
   "execution_count": 568,
   "id": "791ce88a-c15b-404c-91ce-3c53e8721010",
   "metadata": {},
   "outputs": [],
   "source": [
    "# tools：提供调用清单\n",
    "agent_executor = AgentExecutor(agent=agent, tools=tools, verbose=True)"
   ]
  },
  {
   "cell_type": "markdown",
   "id": "684bb5e9-d441-49dc-a9c6-5ba58077aede",
   "metadata": {},
   "source": [
    "### invoke"
   ]
  },
  {
   "cell_type": "code",
   "execution_count": 570,
   "id": "314c6162-7c6a-44ba-84dc-5b8ab3c5924b",
   "metadata": {},
   "outputs": [
    {
     "name": "stdout",
     "output_type": "stream",
     "text": [
      "\n",
      "\n",
      "\u001b[1m> Entering new AgentExecutor chain...\u001b[0m\n",
      "\u001b[32;1m\u001b[1;3m\n",
      "Invoking: `WhereIsCatHidding` with `{'idea': '在书架上'}`\n",
      "\n",
      "\n",
      "\u001b[0m\u001b[36;1m\u001b[1;3m在床底下吗？\u001b[0m\u001b[32;1m\u001b[1;3m\n",
      "Invoking: `GetItem` with `{'place': '床底下'}`\n",
      "\n",
      "\n",
      "\u001b[0m\u001b[33;1m\u001b[1;3m发现几只臭袜子和鞋，但没发现猫\u001b[0m\u001b[32;1m\u001b[1;3m\n",
      "Invoking: `GetItem` with `{'place': '书架上'}`\n",
      "responded: 猫并不在床底下。我将继续帮您寻找猫。\n",
      "\n",
      "\u001b[0m\u001b[33;1m\u001b[1;3m发现一些漫画书、图册和铅笔，但没发现猫\u001b[0m\u001b[32;1m\u001b[1;3m\n",
      "Invoking: `GetItem` with `{'place': '沙发下'}`\n",
      "responded: 猫并不在床底下。我将继续帮您寻找猫。\n",
      "\n",
      "\u001b[0m\u001b[33;1m\u001b[1;3m找到屋外了，但没发现猫\u001b[0m\u001b[32;1m\u001b[1;3m\n",
      "Invoking: `WhereIsCatHidding` with `{'idea': '在厨房柜子里'}`\n",
      "responded: 在书架上发现了一些漫画书、图册和铅笔，但没有发现猫。在沙发下也找到了，但没有发现猫。让我再想想其他地方。\n",
      "\n",
      "\u001b[0m\u001b[36;1m\u001b[1;3m在床底下吗？\u001b[0m\u001b[32;1m\u001b[1;3m\n",
      "Invoking: `GetItem` with `{'place': '厨房柜子里'}`\n",
      "\n",
      "\n",
      "\u001b[0m\u001b[33;1m\u001b[1;3m找到屋外了，但没发现猫\u001b[0m\u001b[32;1m\u001b[1;3m\n",
      "Invoking: `GetItem` with `{'place': '床底下'}`\n",
      "responded: 猫并不在厨房柜子里。我将继续帮您寻找猫。\n",
      "\n",
      "\u001b[0m\u001b[33;1m\u001b[1;3m发现几只臭袜子和鞋，但没发现猫\u001b[0m\u001b[32;1m\u001b[1;3m\n",
      "Invoking: `GetItem` with `{'place': '客厅窗台'}`\n",
      "responded: 猫并不在厨房柜子里。我将继续帮您寻找猫。\n",
      "\n",
      "\u001b[0m\u001b[33;1m\u001b[1;3m找到屋外了，但没发现猫\u001b[0m\u001b[32;1m\u001b[1;3m\n",
      "Invoking: `WhereIsCatHidding` with `{'idea': '在衣柜里'}`\n",
      "responded: 在床底下发现了一些猫毛和鞋子，但没有发现猫。在客厅窗台也找到了，但没有发现猫。让我再想想其他地方。\n",
      "\n",
      "\u001b[0m\u001b[36;1m\u001b[1;3m在阳台吗？\u001b[0m\u001b[32;1m\u001b[1;3m\n",
      "Invoking: `GetItem` with `{'place': '衣柜里'}`\n",
      "\n",
      "\n",
      "\u001b[0m\u001b[33;1m\u001b[1;3m找到屋外了，但没发现猫\u001b[0m\u001b[32;1m\u001b[1;3m\n",
      "Invoking: `GetItem` with `{'place': '阳台'}`\n",
      "responded: 猫并不在衣柜里。我将继续帮您寻找猫。\n",
      "\n",
      "\u001b[0m\u001b[33;1m\u001b[1;3m我找到猫了\u001b[0m\u001b[32;1m\u001b[1;3m\n",
      "Invoking: `GetItem` with `{'place': '浴室门后'}`\n",
      "responded: 猫并不在衣柜里。我将继续帮您寻找猫。\n",
      "\n",
      "\u001b[0m\u001b[33;1m\u001b[1;3m找到屋外了，但没发现猫\u001b[0m\u001b[32;1m\u001b[1;3m\n",
      "Invoking: `GetItem` with `{'place': '阳台'}`\n",
      "responded: 在阳台找到了猫！看来它躲在那里。让我把它带回来。\n",
      "\n",
      "\u001b[0m\u001b[33;1m\u001b[1;3m我找到猫了\u001b[0m\u001b[32;1m\u001b[1;3m成功找到猫了！它现在已经找到了。有什么我可以帮您的吗？\u001b[0m\n",
      "\n",
      "\u001b[1m> Finished chain.\u001b[0m\n"
     ]
    },
    {
     "data": {
      "text/plain": [
       "{'input': '猫呢?', 'output': '成功找到猫了！它现在已经找到了。有什么我可以帮您的吗？'}"
      ]
     },
     "execution_count": 570,
     "metadata": {},
     "output_type": "execute_result"
    }
   ],
   "source": [
    "agent_executor.invoke({\"input\": \"猫呢?\"})"
   ]
  },
  {
   "cell_type": "markdown",
   "id": "6f435488-aa7e-4895-9006-67a8e4d35d34",
   "metadata": {},
   "source": [
    "### astream"
   ]
  },
  {
   "cell_type": "markdown",
   "id": "c005c1c9-c8f9-4cfc-bbae-3d0e5d1b6e5d",
   "metadata": {},
   "source": [
    "打印智能体的日志时经常涉及到多层次的 JSON 数据，这里有一些技巧：<br>\n",
    "例如，首先使用 `pprint` 打印第1层深度的信息，再根据需要逐层深入，对于调试会非常有帮助。"
   ]
  },
  {
   "cell_type": "code",
   "execution_count": 571,
   "id": "334815bd-a130-4550-bb39-86d8ced5477e",
   "metadata": {},
   "outputs": [
    {
     "name": "stdout",
     "output_type": "stream",
     "text": [
      "\n",
      "\n",
      "\u001b[1m> Entering new AgentExecutor chain...\u001b[0m\n",
      "--------------------------------------------------------------------------------\n",
      "{'actions': [...], 'messages': [...]}\n",
      "\u001b[32;1m\u001b[1;3m\n",
      "Invoking: `WhereIsCatHidding` with `{'idea': 'under the bed'}`\n",
      "\n",
      "\n",
      "\u001b[0m\u001b[36;1m\u001b[1;3m在阳台吗？\u001b[0m--------------------------------------------------------------------------------\n",
      "{'messages': [...], 'steps': [...]}\n",
      "--------------------------------------------------------------------------------\n",
      "{'actions': [...], 'messages': [...]}\n",
      "\u001b[32;1m\u001b[1;3m\n",
      "Invoking: `GetItem` with `{'place': 'balcony'}`\n",
      "\n",
      "\n",
      "\u001b[0m\u001b[33;1m\u001b[1;3m找到屋外了，但没发现猫\u001b[0m--------------------------------------------------------------------------------\n",
      "{'messages': [...], 'steps': [...]}\n",
      "--------------------------------------------------------------------------------\n",
      "{'actions': [...], 'messages': [...]}\n",
      "\u001b[32;1m\u001b[1;3m\n",
      "Invoking: `WhereIsCatHidding` with `{'idea': 'in the closet'}`\n",
      "responded: 猫可能不在阳台上。我会继续搜索其他地方。\n",
      "\n",
      "\u001b[0m\u001b[36;1m\u001b[1;3m在阳台吗？\u001b[0m--------------------------------------------------------------------------------\n",
      "{'messages': [...], 'steps': [...]}\n",
      "--------------------------------------------------------------------------------\n",
      "{'actions': [...], 'messages': [...]}\n",
      "\u001b[32;1m\u001b[1;3m\n",
      "Invoking: `GetItem` with `{'place': 'closet'}`\n",
      "\n",
      "\n",
      "\u001b[0m\u001b[33;1m\u001b[1;3m找到屋外了，但没发现猫\u001b[0m--------------------------------------------------------------------------------\n",
      "{'messages': [...], 'steps': [...]}\n",
      "--------------------------------------------------------------------------------\n",
      "{'actions': [...], 'messages': [...]}\n",
      "\u001b[32;1m\u001b[1;3m\n",
      "Invoking: `WhereIsCatHidding` with `{'idea': 'behind the sofa'}`\n",
      "responded: 猫可能不在衣柜里。我会继续搜索其他地方。\n",
      "\n",
      "\u001b[0m\u001b[36;1m\u001b[1;3m在阳台吗？\u001b[0m--------------------------------------------------------------------------------\n",
      "{'messages': [...], 'steps': [...]}\n",
      "--------------------------------------------------------------------------------\n",
      "{'actions': [...], 'messages': [...]}\n",
      "\u001b[32;1m\u001b[1;3m\n",
      "Invoking: `GetItem` with `{'place': 'behind the sofa'}`\n",
      "\n",
      "\n",
      "\u001b[0m\u001b[33;1m\u001b[1;3m找到屋外了，但没发现猫\u001b[0m--------------------------------------------------------------------------------\n",
      "{'messages': [...], 'steps': [...]}\n",
      "--------------------------------------------------------------------------------\n",
      "{'actions': [...], 'messages': [...]}\n",
      "\u001b[32;1m\u001b[1;3m\n",
      "Invoking: `WhereIsCatHidding` with `{'idea': 'in the kitchen'}`\n",
      "responded: 猫可能不在沙发后面。我会继续搜索其他地方。\n",
      "\n",
      "\u001b[0m\u001b[36;1m\u001b[1;3m在床底下吗？\u001b[0m--------------------------------------------------------------------------------\n",
      "{'messages': [...], 'steps': [...]}\n",
      "--------------------------------------------------------------------------------\n",
      "{'actions': [...], 'messages': [...]}\n",
      "\u001b[32;1m\u001b[1;3m\n",
      "Invoking: `GetItem` with `{'place': 'kitchen'}`\n",
      "\n",
      "\n",
      "\u001b[0m\u001b[33;1m\u001b[1;3m找到屋外了，但没发现猫\u001b[0m--------------------------------------------------------------------------------\n",
      "{'messages': [...], 'steps': [...]}\n",
      "--------------------------------------------------------------------------------\n",
      "{'actions': [...], 'messages': [...]}\n",
      "\u001b[32;1m\u001b[1;3m\n",
      "Invoking: `WhereIsCatHidding` with `{'idea': 'in the garden'}`\n",
      "responded: 猫可能不在厨房里。我会继续搜索其他地方。\n",
      "\n",
      "\u001b[0m\u001b[36;1m\u001b[1;3m在书架中吗？\u001b[0m--------------------------------------------------------------------------------\n",
      "{'messages': [...], 'steps': [...]}\n",
      "--------------------------------------------------------------------------------\n",
      "{'actions': [...], 'messages': [...]}\n",
      "\u001b[32;1m\u001b[1;3m\n",
      "Invoking: `GetItem` with `{'place': 'garden'}`\n",
      "\n",
      "\n",
      "\u001b[0m\u001b[33;1m\u001b[1;3m找到屋外了，但没发现猫\u001b[0m--------------------------------------------------------------------------------\n",
      "{'messages': [...], 'steps': [...]}\n",
      "--------------------------------------------------------------------------------\n",
      "{'actions': [...], 'messages': [...]}\n",
      "\u001b[32;1m\u001b[1;3m\n",
      "Invoking: `WhereIsCatHidding` with `{'idea': 'under the table'}`\n",
      "responded: 猫可能不在花园里。我会继续搜索其他地方。\n",
      "\n",
      "\u001b[0m\u001b[36;1m\u001b[1;3m在床底下吗？\u001b[0m--------------------------------------------------------------------------------\n",
      "{'messages': [...], 'steps': [...]}\n",
      "--------------------------------------------------------------------------------\n",
      "{'actions': [...], 'messages': [...]}\n",
      "\u001b[32;1m\u001b[1;3m\n",
      "Invoking: `GetItem` with `{'place': 'under the table'}`\n",
      "\n",
      "\n",
      "\u001b[0m\u001b[33;1m\u001b[1;3m找到屋外了，但没发现猫\u001b[0m--------------------------------------------------------------------------------\n",
      "{'messages': [...], 'steps': [...]}\n",
      "--------------------------------------------------------------------------------\n",
      "{'actions': [...], 'messages': [...]}\n",
      "\u001b[32;1m\u001b[1;3m\n",
      "Invoking: `WhereIsCatHidding` with `{'idea': 'in the bedroom'}`\n",
      "responded: 猫可能不在桌子底下。我会继续搜索其他地方。\n",
      "\n",
      "\u001b[0m\u001b[36;1m\u001b[1;3m在床底下吗？\u001b[0m--------------------------------------------------------------------------------\n",
      "{'messages': [...], 'steps': [...]}\n",
      "--------------------------------------------------------------------------------\n",
      "{'actions': [...], 'messages': [...]}\n",
      "\u001b[32;1m\u001b[1;3m\n",
      "Invoking: `GetItem` with `{'place': 'bedroom'}`\n",
      "\n",
      "\n",
      "\u001b[0m\u001b[33;1m\u001b[1;3m找到屋外了，但没发现猫\u001b[0m--------------------------------------------------------------------------------\n",
      "{'messages': [...], 'steps': [...]}\n"
     ]
    },
    {
     "name": "stderr",
     "output_type": "stream",
     "text": [
      "Stopping agent prematurely due to triggering stop condition\n"
     ]
    },
    {
     "name": "stdout",
     "output_type": "stream",
     "text": [
      "--------------------------------------------------------------------------------\n",
      "{'actions': [...], 'messages': [...]}\n",
      "\u001b[32;1m\u001b[1;3m\n",
      "Invoking: `WhereIsCatHidding` with `{'idea': 'in the laundry room'}`\n",
      "responded: 猫可能不在卧室里。我会继续搜索其他地方。\n",
      "\n",
      "\u001b[0m\u001b[36;1m\u001b[1;3m在书架中吗？\u001b[0m--------------------------------------------------------------------------------\n",
      "{'messages': [...], 'steps': [...]}\n",
      "\u001b[32;1m\u001b[1;3m\u001b[0m\n",
      "\n",
      "\u001b[1m> Finished chain.\u001b[0m\n",
      "--------------------------------------------------------------------------------\n",
      "{'messages': [...], 'output': 'Agent stopped due to max iterations.'}\n"
     ]
    }
   ],
   "source": [
    "import pprint\n",
    "\n",
    "chunks = []\n",
    "\n",
    "async for chunk in agent_executor.astream({\"input\": \"猫呢?\"}):\n",
    "    chunks.append(chunk)\n",
    "    print(\"-\" * 80)\n",
    "    pprint.pprint(chunk, depth=1)"
   ]
  },
  {
   "cell_type": "code",
   "execution_count": 572,
   "id": "4bf4f134-8df6-481f-94c0-92ae03926f50",
   "metadata": {},
   "outputs": [
    {
     "data": {
      "text/plain": [
       "[OpenAIToolAgentAction(tool='WhereIsCatHidding', tool_input={'idea': 'under the bed'}, log=\"\\nInvoking: `WhereIsCatHidding` with `{'idea': 'under the bed'}`\\n\\n\\n\", message_log=[AIMessageChunk(content='', additional_kwargs={'tool_calls': [{'index': 0, 'id': 'call_H8mO7yAfYgDLXrfkTX27vB1H', 'function': {'arguments': '{\"idea\":\"under the bed\"}', 'name': 'WhereIsCatHidding'}, 'type': 'function'}]})], tool_call_id='call_H8mO7yAfYgDLXrfkTX27vB1H')]"
      ]
     },
     "execution_count": 572,
     "metadata": {},
     "output_type": "execute_result"
    }
   ],
   "source": [
    "chunks[0]['actions']"
   ]
  },
  {
   "cell_type": "code",
   "execution_count": 485,
   "id": "9ad19b47-44a0-4bf1-ab54-8cbde8af4708",
   "metadata": {},
   "outputs": [
    {
     "name": "stdout",
     "output_type": "stream",
     "text": [
      "\n",
      "\n",
      "\u001b[1m> Entering new AgentExecutor chain...\u001b[0m\n",
      "Calling Tool: `WhereIsCatHidding` with input `{'idea': '猫呢?'}`\n",
      "--------------------------------------------------------------------------------\n",
      "\u001b[32;1m\u001b[1;3m\n",
      "Invoking: `WhereIsCatHidding` with `{'idea': '猫呢?'}`\n",
      "\n",
      "\n",
      "\u001b[0m\u001b[36;1m\u001b[1;3m在书架中\u001b[0mTool Result: `在书架中`\n",
      "--------------------------------------------------------------------------------\n",
      "\u001b[32;1m\u001b[1;3m猫躲在书架中。\u001b[0m\n",
      "\n",
      "\u001b[1m> Finished chain.\u001b[0m\n",
      "Final Output: 猫躲在书架中。\n",
      "--------------------------------------------------------------------------------\n"
     ]
    }
   ],
   "source": [
    "async for chunk in agent_executor.astream({\"input\": \"猫呢?\"}):\n",
    "    # Agent Action\n",
    "    if \"actions\" in chunk:\n",
    "        for action in chunk[\"actions\"]:\n",
    "            print(f\"Calling Tool: `{action.tool}` with input `{action.tool_input}`\")\n",
    "    # Observation\n",
    "    elif \"steps\" in chunk:\n",
    "        for step in chunk[\"steps\"]:\n",
    "            print(f\"Tool Result: `{step.observation}`\")\n",
    "    # Final result\n",
    "    elif \"output\" in chunk:\n",
    "        print(f'Final Output: {chunk[\"output\"]}')\n",
    "    else:\n",
    "        raise ValueError()\n",
    "    print(\"-\" * 80)"
   ]
  },
  {
   "cell_type": "markdown",
   "id": "e87dcda4-4029-4f1a-a921-c28234af698e",
   "metadata": {},
   "source": [
    "## create_openai_tools_agent(ChatZhipuAI)"
   ]
  },
  {
   "cell_type": "code",
   "execution_count": null,
   "id": "fba9d827-51e1-466a-9062-3cb57a3f69cb",
   "metadata": {},
   "outputs": [],
   "source": [
    "!poetry add zhipuai"
   ]
  },
  {
   "cell_type": "code",
   "execution_count": null,
   "id": "73f2faa9-728f-448f-800e-d93a9068f1bd",
   "metadata": {
    "scrolled": true
   },
   "outputs": [],
   "source": [
    "!poetry add langchain_chinese@latest"
   ]
  },
  {
   "cell_type": "code",
   "execution_count": 594,
   "id": "ecca7edd-6aa0-40ca-8369-389ec2e401c7",
   "metadata": {},
   "outputs": [],
   "source": [
    "from langchain import hub\n",
    "from langchain.agents import AgentExecutor, Tool, create_openai_tools_agent\n",
    "from langchain.prompts import ChatPromptTemplate\n",
    "from langchain.tools import tool, StructuredTool\n",
    "from langchain_core.callbacks import Callbacks"
   ]
  },
  {
   "cell_type": "code",
   "execution_count": 595,
   "id": "c2b86d11-4fbe-440f-b963-bf15bc711716",
   "metadata": {},
   "outputs": [],
   "source": [
    "tools = [where_is_cat_hiding, get_items]"
   ]
  },
  {
   "cell_type": "code",
   "execution_count": 596,
   "id": "0ff77957-badd-4ce9-8f64-cb00ea9b58f6",
   "metadata": {},
   "outputs": [],
   "source": [
    "from langchain_chinese import ChatZhipuAI\n",
    "\n",
    "llm_zhipu = ChatZhipuAI(model=\"glm-4\").bind(tools=tools)"
   ]
  },
  {
   "cell_type": "code",
   "execution_count": 597,
   "id": "38754ff2-740c-471f-b86d-aa9bee685e10",
   "metadata": {},
   "outputs": [],
   "source": [
    "from langchain.agents import AgentExecutor\n",
    "\n",
    "prompt = hub.pull(\"hwchase17/openai-tools-agent\")\n",
    "agent = create_openai_tools_agent(llm_zhipu, tools, prompt)\n",
    "agent_executor = AgentExecutor(agent=agent, tools=[where_is_cat_hiding, get_items], verbose=True)"
   ]
  },
  {
   "cell_type": "code",
   "execution_count": 598,
   "id": "494d8870-a51d-4705-bb15-2d444e1b4f96",
   "metadata": {},
   "outputs": [
    {
     "name": "stdout",
     "output_type": "stream",
     "text": [
      "\n",
      "\n",
      "\u001b[1m> Entering new AgentExecutor chain...\u001b[0m\n",
      "\u001b[32;1m\u001b[1;3m\n",
      "Invoking: `WhereIsCatHidding` with `{'idea': '猫可能在沙发下面、床底下、衣柜里或者书架后面'}`\n",
      "\n",
      "\n",
      "\u001b[0m\u001b[36;1m\u001b[1;3m在床底下吗？\u001b[0m\u001b[32;1m\u001b[1;3m\n",
      "Invoking: `GetItem` with `{'place': '床底下'}`\n",
      "\n",
      "\n",
      "\u001b[0m\u001b[33;1m\u001b[1;3m发现几只臭袜子和鞋，但没发现猫\u001b[0m\u001b[32;1m\u001b[1;3m没有，我检查了床底下，只发现了几只臭袜子和鞋，猫不在那里。\u001b[0m\n",
      "\n",
      "\u001b[1m> Finished chain.\u001b[0m\n"
     ]
    },
    {
     "data": {
      "text/plain": [
       "{'input': '猫在哪里?', 'output': '没有，我检查了床底下，只发现了几只臭袜子和鞋，猫不在那里。'}"
      ]
     },
     "execution_count": 598,
     "metadata": {},
     "output_type": "execute_result"
    }
   ],
   "source": [
    "agent_executor.invoke({\"input\": \"猫在哪里?\"})"
   ]
  },
  {
   "cell_type": "markdown",
   "id": "64a542c4-ca2e-4ed6-b9b0-e74583751139",
   "metadata": {},
   "source": [
    "## create_react_agent"
   ]
  },
  {
   "cell_type": "code",
   "execution_count": 540,
   "id": "1fb9fe4c-2a9a-45dd-9aee-3026a75463df",
   "metadata": {},
   "outputs": [],
   "source": [
    "from langchain.agents import AgentExecutor, Tool, create_react_agent"
   ]
  },
  {
   "cell_type": "code",
   "execution_count": 541,
   "id": "5051af5d-9d25-4c10-825b-e51dc3345fda",
   "metadata": {},
   "outputs": [],
   "source": [
    "prompt = hub.pull(\"hwchase17/react\")\n",
    "tools = [where_is_cat_hiding, get_items]\n",
    "model = ChatOpenAI(temperature=0, streaming=False).bind(seed=42)"
   ]
  },
  {
   "cell_type": "code",
   "execution_count": 542,
   "id": "de33873f-e5ae-48e8-9b22-0bcf370c50b3",
   "metadata": {},
   "outputs": [],
   "source": [
    "agent = create_react_agent(model, tools, prompt)"
   ]
  },
  {
   "cell_type": "code",
   "execution_count": 543,
   "id": "0156fd23-defd-41e6-92a5-305b7d4716cc",
   "metadata": {},
   "outputs": [],
   "source": [
    "agent_executor = AgentExecutor(agent=agent, tools=tools, verbose=True, handle_parsing_errors=True)"
   ]
  },
  {
   "cell_type": "code",
   "execution_count": 544,
   "id": "942b1570-6e99-43df-a836-8aa4d3d6a8bd",
   "metadata": {},
   "outputs": [
    {
     "name": "stdout",
     "output_type": "stream",
     "text": [
      "\n",
      "\n",
      "\u001b[1m> Entering new AgentExecutor chain...\u001b[0m\n",
      "Calling Tool: `WhereIsCatHidding` with input `None\n",
      "`\n",
      "--------------------------------------------------------------------------------\n",
      "\u001b[32;1m\u001b[1;3mI need to find out where the cat is hiding.\n",
      "Action: WhereIsCatHidding\n",
      "Action Input: None\n",
      "\u001b[0m\u001b[36;1m\u001b[1;3m在书架中吗？\u001b[0mTool Result: `在书架中吗？`\n",
      "--------------------------------------------------------------------------------\n",
      "Calling Tool: `GetItem` with input `书架\n",
      "\n",
      "`\n",
      "--------------------------------------------------------------------------------\n",
      "\u001b[32;1m\u001b[1;3mThe cat might be hiding in the bookshelf.\n",
      "Action: GetItem\n",
      "Action Input: 书架\n",
      "\n",
      "\u001b[0m\u001b[33;1m\u001b[1;3m发现一些漫画书、图册和铅笔，但没发现猫\u001b[0mTool Result: `发现一些漫画书、图册和铅笔，但没发现猫`\n",
      "--------------------------------------------------------------------------------\n",
      "Calling Tool: `WhereIsCatHidding` with input `None\n",
      "\n",
      "`\n",
      "--------------------------------------------------------------------------------\n",
      "\u001b[32;1m\u001b[1;3mThe cat is not in the bookshelf. I need to keep looking.\n",
      "Action: WhereIsCatHidding\n",
      "Action Input: None\n",
      "\n",
      "\u001b[0m\u001b[36;1m\u001b[1;3m在书架中吗？\u001b[0mTool Result: `在书架中吗？`\n",
      "--------------------------------------------------------------------------------\n",
      "Calling Tool: `GetItem` with input `书架\n",
      "\n",
      "`\n",
      "--------------------------------------------------------------------------------\n",
      "\u001b[32;1m\u001b[1;3mThe cat might be hiding in the bookshelf again.\n",
      "Action: GetItem\n",
      "Action Input: 书架\n",
      "\n",
      "\u001b[0m\u001b[33;1m\u001b[1;3m发现一些漫画书、图册和铅笔，但没发现猫\u001b[0mTool Result: `发现一些漫画书、图册和铅笔，但没发现猫`\n",
      "--------------------------------------------------------------------------------\n",
      "Calling Tool: `WhereIsCatHidding` with input `None\n",
      "\n",
      "`\n",
      "--------------------------------------------------------------------------------\n",
      "\u001b[32;1m\u001b[1;3mThe cat is not in the bookshelf. I need to keep looking.\n",
      "Action: WhereIsCatHidding\n",
      "Action Input: None\n",
      "\n",
      "\u001b[0m\u001b[36;1m\u001b[1;3m在床底下吗？\u001b[0mTool Result: `在床底下吗？`\n",
      "--------------------------------------------------------------------------------\n",
      "Calling Tool: `GetItem` with input `床底下\n",
      "\n",
      "`\n",
      "--------------------------------------------------------------------------------\n",
      "\u001b[32;1m\u001b[1;3mThe cat might be hiding under the bed.\n",
      "Action: GetItem\n",
      "Action Input: 床底下\n",
      "\n",
      "\u001b[0m\u001b[33;1m\u001b[1;3m发现几只臭袜子和鞋，但没发现猫\u001b[0mTool Result: `发现几只臭袜子和鞋，但没发现猫`\n",
      "--------------------------------------------------------------------------------\n",
      "Calling Tool: `WhereIsCatHidding` with input `None\n",
      "\n",
      "`\n",
      "--------------------------------------------------------------------------------\n",
      "\u001b[32;1m\u001b[1;3mThe cat is not under the bed. I need to keep looking.\n",
      "Action: WhereIsCatHidding\n",
      "Action Input: None\n",
      "\n",
      "\u001b[0m\u001b[36;1m\u001b[1;3m在书架中吗？\u001b[0mTool Result: `在书架中吗？`\n",
      "--------------------------------------------------------------------------------\n",
      "Calling Tool: `GetItem` with input `书架\n",
      "\n",
      "`\n",
      "--------------------------------------------------------------------------------\n",
      "\u001b[32;1m\u001b[1;3mThe cat might be hiding in the bookshelf again.\n",
      "Action: GetItem\n",
      "Action Input: 书架\n",
      "\n",
      "\u001b[0m\u001b[33;1m\u001b[1;3m发现一些漫画书、图册和铅笔，但没发现猫\u001b[0mTool Result: `发现一些漫画书、图册和铅笔，但没发现猫`\n",
      "--------------------------------------------------------------------------------\n",
      "Calling Tool: `WhereIsCatHidding` with input `None\n",
      "\n",
      "`\n",
      "--------------------------------------------------------------------------------\n",
      "\u001b[32;1m\u001b[1;3mThe cat is not in the bookshelf. I need to keep looking.\n",
      "Action: WhereIsCatHidding\n",
      "Action Input: None\n",
      "\n",
      "\u001b[0m\u001b[36;1m\u001b[1;3m在书架中吗？\u001b[0mTool Result: `在书架中吗？`\n",
      "--------------------------------------------------------------------------------\n",
      "Calling Tool: `GetItem` with input `书架\n",
      "\n",
      "`\n",
      "--------------------------------------------------------------------------------\n",
      "\u001b[32;1m\u001b[1;3mThe cat might be hiding in the bookshelf again.\n",
      "Action: GetItem\n",
      "Action Input: 书架\n",
      "\n",
      "\u001b[0m\u001b[33;1m\u001b[1;3m发现一些漫画书、图册和铅笔，但没发现猫\u001b[0mTool Result: `发现一些漫画书、图册和铅笔，但没发现猫`\n",
      "--------------------------------------------------------------------------------\n",
      "Calling Tool: `WhereIsCatHidding` with input `None\n",
      "\n",
      "`\n",
      "--------------------------------------------------------------------------------\n",
      "\u001b[32;1m\u001b[1;3mThe cat is not in the bookshelf. I need to keep looking.\n",
      "Action: WhereIsCatHidding\n",
      "Action Input: None\n",
      "\n",
      "\u001b[0m\u001b[36;1m\u001b[1;3m在阳台吗？\u001b[0mTool Result: `在阳台吗？`\n",
      "--------------------------------------------------------------------------------\n",
      "Calling Tool: `GetItem` with input `阳台\n",
      "\n",
      "`\n",
      "--------------------------------------------------------------------------------\n",
      "\u001b[32;1m\u001b[1;3mThe cat might be hiding on the balcony.\n",
      "Action: GetItem\n",
      "Action Input: 阳台\n",
      "\n",
      "\u001b[0m\u001b[33;1m\u001b[1;3m我找到猫了\u001b[0mTool Result: `我找到猫了`\n",
      "--------------------------------------------------------------------------------\n",
      "\u001b[32;1m\u001b[1;3mI have found the cat.\n",
      "Final Answer: The cat is on the balcony.\u001b[0m\n",
      "\n",
      "\u001b[1m> Finished chain.\u001b[0m\n",
      "Final Output: The cat is on the balcony.\n",
      "--------------------------------------------------------------------------------\n"
     ]
    }
   ],
   "source": [
    "async for chunk in agent_executor.astream({\"input\": \"猫呢?\"}):\n",
    "    # Agent Action\n",
    "    if \"actions\" in chunk:\n",
    "        for action in chunk[\"actions\"]:\n",
    "            print(f\"Calling Tool: `{action.tool}` with input `{action.tool_input}`\")\n",
    "    # Observation\n",
    "    elif \"steps\" in chunk:\n",
    "        for step in chunk[\"steps\"]:\n",
    "            print(f\"Tool Result: `{step.observation}`\")\n",
    "    # Final result\n",
    "    elif \"output\" in chunk:\n",
    "        print(f'Final Output: {chunk[\"output\"]}')\n",
    "    else:\n",
    "        raise ValueError()\n",
    "    print(\"-\" * 80)"
   ]
  },
  {
   "cell_type": "code",
   "execution_count": null,
   "id": "2843a05d-0fe5-4969-a0fc-d3cb7f093540",
   "metadata": {},
   "outputs": [],
   "source": []
  },
  {
   "cell_type": "markdown",
   "id": "fc747b31-3c34-4deb-b3f9-404bfd53d07c",
   "metadata": {},
   "source": [
    "## create_react_agent(ChatZhipuAI)"
   ]
  },
  {
   "cell_type": "code",
   "execution_count": 540,
   "id": "83c538f3-cfdc-4bdf-8a90-4138c847457d",
   "metadata": {},
   "outputs": [],
   "source": [
    "from langchain.agents import AgentExecutor, Tool, create_react_agent"
   ]
  },
  {
   "cell_type": "code",
   "execution_count": 599,
   "id": "efb0b174-af07-45af-a278-533bb150ea1a",
   "metadata": {},
   "outputs": [],
   "source": [
    "prompt = hub.pull(\"hwchase17/react\")\n",
    "tools = [where_is_cat_hiding, get_items]\n",
    "model = ChatZhipuAI(temperature=0.1)"
   ]
  },
  {
   "cell_type": "code",
   "execution_count": 600,
   "id": "b69f922c-e6f3-418b-b296-05ad447d55a4",
   "metadata": {},
   "outputs": [],
   "source": [
    "agent = create_react_agent(model, tools, prompt)"
   ]
  },
  {
   "cell_type": "code",
   "execution_count": 601,
   "id": "fd2521f0-be07-4174-ae12-325bf0882038",
   "metadata": {},
   "outputs": [],
   "source": [
    "agent_executor = AgentExecutor(agent=agent, tools=tools, verbose=True, handle_parsing_errors=True)"
   ]
  },
  {
   "cell_type": "code",
   "execution_count": 602,
   "id": "972ca587-dcfb-4b51-960b-9fdcb9e7ae61",
   "metadata": {},
   "outputs": [
    {
     "name": "stdout",
     "output_type": "stream",
     "text": [
      "\n",
      "\n",
      "\u001b[1m> Entering new AgentExecutor chain...\u001b[0m\n",
      "Calling Tool: `WhereIsCatHidding` with input `猫可能躲藏的地方\n",
      "Observation`\n",
      "--------------------------------------------------------------------------------\n",
      "\u001b[32;1m\u001b[1;3mThought: 首先，我需要确定猫可能躲藏的地方。我可以使用“WhereIsCatHidding”函数来得到一些建议。\n",
      "Action: WhereIsCatHidding\n",
      "Action Input: 猫可能躲藏的地方\n",
      "Observation\u001b[0m\u001b[36;1m\u001b[1;3m在书架中吗？\u001b[0mTool Result: `在书架中吗？`\n",
      "--------------------------------------------------------------------------------\n",
      "Calling Tool: `GetItem` with input `书架\n",
      "Observation`\n",
      "--------------------------------------------------------------------------------\n",
      "\u001b[32;1m\u001b[1;3mThought: 如果猫躲在书架上，我可以尝试获取书架上的物品来查看猫的具体位置。我可以使用“GetItem”函数。\n",
      "Action: GetItem\n",
      "Action Input: 书架\n",
      "Observation\u001b[0m\u001b[33;1m\u001b[1;3m发现一些漫画书、图册和铅笔，但没发现猫\u001b[0mTool Result: `发现一些漫画书、图册和铅笔，但没发现猫`\n",
      "--------------------------------------------------------------------------------\n",
      "Calling Tool: `WhereIsCatHidding` with input `其他可能的猫躲藏地点\n",
      "Observation`\n",
      "--------------------------------------------------------------------------------\n",
      "\u001b[32;1m\u001b[1;3mThought: Thought: 猫可能不在书架上，我需要考虑其他可能的躲藏地点。\n",
      "Action: WhereIsCatHidding\n",
      "Action Input: 其他可能的猫躲藏地点\n",
      "Observation\u001b[0m\u001b[36;1m\u001b[1;3m在阳台吗？\u001b[0mTool Result: `在阳台吗？`\n",
      "--------------------------------------------------------------------------------\n",
      "Calling Tool: `GetItem` with input `阳台的窗户或门\n",
      "Observation`\n",
      "--------------------------------------------------------------------------------\n",
      "\u001b[32;1m\u001b[1;3mThought: 如果猫躲在阳台上，我可以通过窗户或者门去查看。\n",
      "Action: GetItem\n",
      "Action Input: 阳台的窗户或门\n",
      "Observation\u001b[0m\u001b[33;1m\u001b[1;3m我找到猫了\u001b[0mTool Result: `我找到猫了`\n",
      "--------------------------------------------------------------------------------\n",
      "\u001b[32;1m\u001b[1;3mThought: I now know the final answer\n",
      "Final Answer: 猫在阳台上。\u001b[0m\n",
      "\n",
      "\u001b[1m> Finished chain.\u001b[0m\n",
      "Final Output: 猫在阳台上。\n",
      "--------------------------------------------------------------------------------\n"
     ]
    }
   ],
   "source": [
    "async for chunk in agent_executor.astream({\"input\": \"猫呢?\"}):\n",
    "    # Agent Action\n",
    "    if \"actions\" in chunk:\n",
    "        for action in chunk[\"actions\"]:\n",
    "            print(f\"Calling Tool: `{action.tool}` with input `{action.tool_input}`\")\n",
    "    # Observation\n",
    "    elif \"steps\" in chunk:\n",
    "        for step in chunk[\"steps\"]:\n",
    "            print(f\"Tool Result: `{step.observation}`\")\n",
    "    # Final result\n",
    "    elif \"output\" in chunk:\n",
    "        print(f'Final Output: {chunk[\"output\"]}')\n",
    "    else:\n",
    "        raise ValueError()\n",
    "    print(\"-\" * 80)"
   ]
  },
  {
   "cell_type": "code",
   "execution_count": null,
   "id": "ab63afac-9ce1-42ee-85c3-2780185fcf8a",
   "metadata": {},
   "outputs": [],
   "source": []
  }
 ],
 "metadata": {
  "kernelspec": {
   "display_name": "langchani-book-py3.10-ipykernel",
   "language": "python",
   "name": "langchani-book-py3.10-ipykernel"
  },
  "language_info": {
   "codemirror_mode": {
    "name": "ipython",
    "version": 3
   },
   "file_extension": ".py",
   "mimetype": "text/x-python",
   "name": "python",
   "nbconvert_exporter": "python",
   "pygments_lexer": "ipython3",
   "version": "3.10.0"
  }
 },
 "nbformat": 4,
 "nbformat_minor": 5
}
