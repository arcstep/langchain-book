{
 "cells": [
  {
   "cell_type": "markdown",
   "id": "2b3f384a-946e-44af-ad8f-c9a2143dc63e",
   "metadata": {},
   "source": [
    "# Function Calling"
   ]
  },
  {
   "cell_type": "code",
   "execution_count": 186,
   "id": "2a20fb6a-5187-4dec-b704-1288306c5f24",
   "metadata": {},
   "outputs": [
    {
     "data": {
      "text/plain": [
       "True"
      ]
     },
     "execution_count": 186,
     "metadata": {},
     "output_type": "execute_result"
    }
   ],
   "source": [
    "import os\n",
    "from dotenv import load_dotenv, find_dotenv\n",
    "load_dotenv(find_dotenv(), override=True)"
   ]
  },
  {
   "cell_type": "markdown",
   "id": "ad563ccc-f677-4587-84df-cff637089937",
   "metadata": {},
   "source": [
    "## OpenAI 函数回调"
   ]
  },
  {
   "cell_type": "markdown",
   "id": "c5221029-95a4-4112-b549-1f9073419852",
   "metadata": {},
   "source": [
    "### 定义 python 函数"
   ]
  },
  {
   "cell_type": "code",
   "execution_count": 251,
   "id": "3a2e3ed5-74a2-4da9-962d-05843c29b3d1",
   "metadata": {},
   "outputs": [],
   "source": [
    "import json\n",
    "import random\n",
    "\n",
    "from langchain_core.utils.function_calling import convert_to_openai_tool\n",
    "\n",
    "def where_cat_is_hiding() -> str:\n",
    "    \"\"\"寻找猫的位置\"\"\"\n",
    "    return random.choice([\"在床底下\", \"在书架中\"])\n",
    "\n",
    "def get_items(place: str) -> str:\n",
    "    \"\"\"使用这个工具去仔细查看猫躲藏的地方\"\"\"\n",
    "    if \"床底\" in place:  # For under the bed\n",
    "        return \"发现几只臭袜子和鞋\"\n",
    "    if \"书架\" in place:  # For 'shelf'\n",
    "        return \"发现一些漫画书、图册和铅笔\"\n",
    "    else:  # 如果智能体决定找其他地方\n",
    "        return \"屋外\""
   ]
  },
  {
   "cell_type": "code",
   "execution_count": 252,
   "id": "24832afc-11e0-4e18-8c92-76537be63275",
   "metadata": {},
   "outputs": [
    {
     "name": "stdout",
     "output_type": "stream",
     "text": [
      "{\n",
      "  \"type\": \"function\",\n",
      "  \"function\": {\n",
      "    \"name\": \"where_cat_is_hiding\",\n",
      "    \"description\": \"寻找猫的位置\",\n",
      "    \"parameters\": {\n",
      "      \"type\": \"object\",\n",
      "      \"properties\": {},\n",
      "      \"required\": []\n",
      "    }\n",
      "  }\n",
      "}\n"
     ]
    }
   ],
   "source": [
    "print(json.dumps(convert_to_openai_tool(where_cat_is_hiding), indent=2, ensure_ascii=False))"
   ]
  },
  {
   "cell_type": "markdown",
   "id": "8248ca03-2ed0-437d-a6ba-364ea03012d8",
   "metadata": {},
   "source": [
    "### 使用 Pydantic 补充描述"
   ]
  },
  {
   "cell_type": "markdown",
   "id": "49d796b9-e656-4289-9fb7-a54f0b8f63cc",
   "metadata": {},
   "source": [
    "使用 Pydantic 可以更好的描述工具信息，例如：\n",
    "\n",
    "- 对参数做单独说明\n",
    "- 用`...`来说明参数是必须提供的"
   ]
  },
  {
   "cell_type": "code",
   "execution_count": 285,
   "id": "1cc77ab1-bcfb-4753-b639-06a6291dde83",
   "metadata": {},
   "outputs": [],
   "source": [
    "from langchain_core.pydantic_v1 import BaseModel, Field\n",
    "\n",
    "class WhereIsCatSchema(BaseModel):\n",
    "    \"\"\"找猫\"\"\"\n",
    "\n",
    "    idea: str = Field(description=\"寻找猫的线索\")\n",
    "    \n",
    "class GetItemsSchema(BaseModel):\n",
    "    \"\"\"看看有什么发现\"\"\"\n",
    "\n",
    "    place: str = Field(..., description=\"地点的描述\")"
   ]
  },
  {
   "cell_type": "code",
   "execution_count": 286,
   "id": "cd85e0bf-930f-4c10-ac2d-cc08830d588c",
   "metadata": {},
   "outputs": [
    {
     "name": "stdout",
     "output_type": "stream",
     "text": [
      "{\n",
      "  \"type\": \"function\",\n",
      "  \"function\": {\n",
      "    \"name\": \"WhereIsCatSchema\",\n",
      "    \"description\": \"找猫\",\n",
      "    \"parameters\": {\n",
      "      \"type\": \"object\",\n",
      "      \"properties\": {\n",
      "        \"idea\": {\n",
      "          \"description\": \"寻找猫的线索\",\n",
      "          \"type\": \"string\"\n",
      "        }\n",
      "      },\n",
      "      \"required\": [\n",
      "        \"idea\"\n",
      "      ]\n",
      "    }\n",
      "  }\n",
      "}\n"
     ]
    }
   ],
   "source": [
    "print(json.dumps(convert_to_openai_tool(WhereIsCatSchema), indent=2, ensure_ascii=False))"
   ]
  },
  {
   "cell_type": "markdown",
   "id": "726ecd05-6174-4fca-b001-b5c278dbe421",
   "metadata": {
    "editable": true,
    "slideshow": {
     "slide_type": ""
    },
    "tags": []
   },
   "source": [
    "### 定义 LangChain 工具"
   ]
  },
  {
   "cell_type": "markdown",
   "id": "d2086608-ab5e-4f58-84d8-1829df762ddb",
   "metadata": {},
   "source": [
    "<div class=\"alert-warning\">\n",
    "<b>注意：</b><br>\n",
    "OpenAI使用的Tools名称类似于一个函数命名，必须使用下划线或ASCII码，**不能使用中文**！<br>\n",
    "但描述部份可以使用中文。\n",
    "</div>"
   ]
  },
  {
   "cell_type": "code",
   "execution_count": 287,
   "id": "f6eff432-3ccc-4e28-b9c4-5da45cde0c9a",
   "metadata": {},
   "outputs": [],
   "source": [
    "from typing import Any, Type\n",
    "from langchain_core.tools import BaseTool\n",
    "import random\n",
    "\n",
    "class WhereIsCat(BaseTool):\n",
    "    args_schema: Type[BaseModel] = WhereIsCatSchema\n",
    "    name: str = \"where_is_cat_hidding\"\n",
    "    description: str = \"看看猫藏在哪里？\"\n",
    "\n",
    "    def _run(self, idea: str, **kwargs: Any) -> Any:\n",
    "        return random.choice([\"在床底下\", \"在书架中\"])\n",
    "\n",
    "class GetItems(BaseTool):\n",
    "    args_schema: Type[BaseModel] = GetItemsSchema\n",
    "    name: str = \"find_place\"\n",
    "    description: str = \"仔细翻看猫的藏身之处\"\n",
    "\n",
    "    def _run(self, place: str, **kwargs: Any) -> Any:\n",
    "        if \"床底\" in place:  # For under the bed\n",
    "            return \"发现几只臭袜子和鞋\"\n",
    "        if \"书架\" in place:  # For 'shelf'\n",
    "            return \"发现一些漫画书、图册和铅笔\"\n",
    "        else:  # 如果智能体决定找其他地方\n",
    "            return \"屋外\""
   ]
  },
  {
   "cell_type": "code",
   "execution_count": 288,
   "id": "2551672e-31d7-49a2-bdd3-b7d973bd48d0",
   "metadata": {},
   "outputs": [
    {
     "name": "stdout",
     "output_type": "stream",
     "text": [
      "{\n",
      "  \"type\": \"function\",\n",
      "  \"function\": {\n",
      "    \"name\": \"find_place\",\n",
      "    \"description\": \"仔细翻看猫的藏身之处\",\n",
      "    \"parameters\": {\n",
      "      \"type\": \"object\",\n",
      "      \"properties\": {\n",
      "        \"place\": {\n",
      "          \"description\": \"地点的描述\",\n",
      "          \"type\": \"string\"\n",
      "        }\n",
      "      },\n",
      "      \"required\": [\n",
      "        \"place\"\n",
      "      ]\n",
      "    }\n",
      "  }\n",
      "}\n"
     ]
    }
   ],
   "source": [
    "# 请注意：我们传入了 Multiply 对象，而不是类\n",
    "print(json.dumps(convert_to_openai_tool(GetItems()), indent=2, ensure_ascii=False))"
   ]
  },
  {
   "cell_type": "markdown",
   "id": "47af53b9-359c-42e9-a2b2-e3ed3f29f5a8",
   "metadata": {},
   "source": [
    "### 调用 OpenAI"
   ]
  },
  {
   "cell_type": "code",
   "execution_count": 289,
   "id": "aaf2e1a4-8e41-4cf3-9855-764fd30e6240",
   "metadata": {},
   "outputs": [],
   "source": [
    "from langchain_openai import ChatOpenAI\n",
    "\n",
    "llm = ChatOpenAI(model=\"gpt-3.5-turbo\")"
   ]
  },
  {
   "cell_type": "code",
   "execution_count": 290,
   "id": "9febaa8f-4a92-4306-b11f-e50ed681867a",
   "metadata": {},
   "outputs": [
    {
     "name": "stdout",
     "output_type": "stream",
     "text": [
      "content='' additional_kwargs={'tool_calls': [{'id': 'call_6M4yRwXJRxmIx4fjdb3cDXjU', 'function': {'arguments': '{\\n  \"idea\": \"猫可能藏在沙发底下\"\\n}', 'name': 'where_is_cat_hidding'}, 'type': 'function'}]}\n"
     ]
    }
   ],
   "source": [
    "resp = llm.invoke(\n",
    "    \"猫藏在哪里？\",\n",
    "    tools=[\n",
    "        convert_to_openai_tool(WhereIsCat()),\n",
    "        convert_to_openai_tool(GetItems())\n",
    "    ])\n",
    "print(resp)"
   ]
  },
  {
   "cell_type": "markdown",
   "id": "0dea8e30-450a-4145-8e46-3e75f73b6582",
   "metadata": {},
   "source": [
    "以下方法是等价的：\n",
    "```python\n",
    "# bind\n",
    "llm.bind(tools=[convert_to_openai_tool(Multiply())]).invoke(\"5的3倍是多少？\")\n",
    "# bind_tools\n",
    "llm.bind_tools([convert_to_openai_tool(Multiply())]).invoke(\"5的3倍是多少？\")\n",
    "```"
   ]
  },
  {
   "cell_type": "code",
   "execution_count": 291,
   "id": "6c807d77-b9e8-4168-b166-eb5805a65466",
   "metadata": {},
   "outputs": [
    {
     "data": {
      "text/plain": [
       "AIMessage(content='', additional_kwargs={'tool_calls': [{'id': 'call_sRNYhLTafeMAk514J0ADy7RI', 'function': {'arguments': '{\\n  \"a\": 5,\\n  \"b\": 3\\n}', 'name': 'multiply_func'}, 'type': 'function'}]})"
      ]
     },
     "execution_count": 291,
     "metadata": {},
     "output_type": "execute_result"
    }
   ],
   "source": [
    "llm.bind(tools=[convert_to_openai_tool(Multiply())]).invoke(\"5的3倍是多少？\")"
   ]
  },
  {
   "cell_type": "markdown",
   "id": "b9e129bb-a6cf-487c-817d-e3c3e1b03441",
   "metadata": {},
   "source": [
    "## 解析 OpenAI 函数和参数"
   ]
  },
  {
   "cell_type": "markdown",
   "id": "b273913d-0eb6-49f4-a782-47356f167d46",
   "metadata": {},
   "source": [
    "### 解析为 JSON"
   ]
  },
  {
   "cell_type": "code",
   "execution_count": 292,
   "id": "087832bd-2168-4680-bc9b-b96374aec74d",
   "metadata": {},
   "outputs": [
    {
     "data": {
      "text/plain": [
       "[{'type': 'where_is_cat_hidding', 'args': {'idea': '猫可能藏在沙发底下'}}]"
      ]
     },
     "execution_count": 292,
     "metadata": {},
     "output_type": "execute_result"
    }
   ],
   "source": [
    "from langchain.output_parsers.openai_tools import JsonOutputToolsParser\n",
    "\n",
    "JsonOutputToolsParser().invoke(resp)"
   ]
  },
  {
   "cell_type": "markdown",
   "id": "9d5bea4f-df37-40f2-9feb-66e8c29f4b27",
   "metadata": {},
   "source": [
    "### 提取 JSON 特定键"
   ]
  },
  {
   "cell_type": "code",
   "execution_count": 293,
   "id": "0a1e4e54-419f-4aa4-9c32-9c59f4891aff",
   "metadata": {},
   "outputs": [
    {
     "data": {
      "text/plain": [
       "[]"
      ]
     },
     "execution_count": 293,
     "metadata": {},
     "output_type": "execute_result"
    }
   ],
   "source": [
    "from langchain.output_parsers.openai_tools import JsonOutputKeyToolsParser\n",
    "\n",
    "JsonOutputKeyToolsParser(key_name=\"multiply_func\").invoke(resp)"
   ]
  },
  {
   "cell_type": "markdown",
   "id": "5fc91309-2a62-419a-9f72-b4a22563d612",
   "metadata": {},
   "source": [
    "### 使用 Pydantic 校验"
   ]
  },
  {
   "cell_type": "code",
   "execution_count": 294,
   "id": "134d1096-e62a-489c-8754-913c879f2803",
   "metadata": {},
   "outputs": [],
   "source": [
    "from langchain_core.pydantic_v1 import BaseModel, Field, validator\n",
    "\n",
    "class MultiplyWithValidator(BaseModel):\n",
    "    \"\"\"将两个整数相乘。\"\"\"\n",
    "\n",
    "    a: int = Field(..., description=\"第1个整数\")\n",
    "    b: int = Field(..., description=\"第2个整数\")\n",
    "\n",
    "    @validator(\"a\")\n",
    "    def is_a_over(cls, field):\n",
    "        \"\"\"检查a是否太大了\"\"\"\n",
    "        if(field > 10):\n",
    "            raise ValueError(\"a超过10了\")\n",
    "        return field"
   ]
  },
  {
   "cell_type": "code",
   "execution_count": 295,
   "id": "45f0a1c6-14a6-4fda-96b8-e30c970d18dc",
   "metadata": {
    "editable": true,
    "slideshow": {
     "slide_type": ""
    },
    "tags": []
   },
   "outputs": [],
   "source": [
    "from langchain_openai import ChatOpenAI\n",
    "\n",
    "llm = ChatOpenAI(model=\"gpt-3.5-turbo\").bind_tools([tool])"
   ]
  },
  {
   "cell_type": "code",
   "execution_count": 154,
   "id": "febe37c8-8f3a-49b7-abc4-fdcdfde5800a",
   "metadata": {},
   "outputs": [],
   "source": [
    "from langchain.output_parsers.openai_tools import PydanticToolsParser\n",
    "\n",
    "parser = PydanticToolsParser(tools=[MultiplyWithValidator])"
   ]
  },
  {
   "cell_type": "code",
   "execution_count": 155,
   "id": "ca8d7a99-60f6-4109-bc9f-37cd67e51731",
   "metadata": {},
   "outputs": [],
   "source": [
    "chain = llm | parser"
   ]
  },
  {
   "cell_type": "code",
   "execution_count": 175,
   "id": "78090146-94b7-44d8-a1ed-d96ab40fb323",
   "metadata": {
    "editable": true,
    "slideshow": {
     "slide_type": ""
    },
    "tags": []
   },
   "outputs": [
    {
     "name": "stdout",
     "output_type": "stream",
     "text": [
      "[MultiplyWithValidator(a=5, b=3)]\n"
     ]
    }
   ],
   "source": [
    "resp = chain.invoke(\"5的3倍是多少？\")\n",
    "print(resp)"
   ]
  },
  {
   "cell_type": "code",
   "execution_count": 161,
   "id": "d8bfe299-c0e6-40af-9231-b8e345c2842c",
   "metadata": {
    "editable": true,
    "slideshow": {
     "slide_type": ""
    },
    "tags": []
   },
   "outputs": [
    {
     "name": "stdout",
     "output_type": "stream",
     "text": [
      "1 validation error for MultiplyWithValidator\n",
      "a\n",
      "  a超过10了 (type=value_error)\n"
     ]
    }
   ],
   "source": [
    "try:\n",
    "    chain.invoke(\"15的3倍是多少？\")\n",
    "except Exception as e:\n",
    "    print(e)"
   ]
  },
  {
   "cell_type": "markdown",
   "id": "f64b7508-064a-4dfa-851c-bd472b2de011",
   "metadata": {},
   "source": [
    "### 运行函数"
   ]
  },
  {
   "cell_type": "code",
   "execution_count": 180,
   "id": "8339a2ac-d8b8-424d-8d22-0ea5c3df9861",
   "metadata": {},
   "outputs": [
    {
     "name": "stdout",
     "output_type": "stream",
     "text": [
      "15\n"
     ]
    }
   ],
   "source": [
    "for obj in resp:\n",
    "    if(isinstance(obj, MultiplyWithValidator)):\n",
    "        print(multiply(obj.a, obj.b))\n",
    "    else:\n",
    "        print(\"没有工具需要执行\")"
   ]
  },
  {
   "cell_type": "markdown",
   "id": "f0b6f8ba-bbce-4edc-b287-4260378c3732",
   "metadata": {},
   "source": [
    "### 小结"
   ]
  },
  {
   "cell_type": "markdown",
   "id": "0a7b522a-e75d-4efb-b1a5-fd7a55ac1b42",
   "metadata": {},
   "source": [
    "如前文所示：GPT模型会在每次检测到需要调用函数时返回这个函数的名称和参数，但需要你自己在代码中去运行工具函数。\n",
    "通常，你还需要将函数执行结果反馈给GPT，然后生成新的结果。\n",
    "\n",
    "智能体将自动化上述过程。"
   ]
  },
  {
   "cell_type": "markdown",
   "id": "67a61401-c6ab-45ea-8955-4deeec99d44a",
   "metadata": {},
   "source": [
    "## 使用 OpenAI Tool 自定义智能体"
   ]
  },
  {
   "cell_type": "markdown",
   "id": "d22c2a39-7e04-469c-9c3a-bb9913f45d2a",
   "metadata": {},
   "source": [
    "### Prompt"
   ]
  },
  {
   "cell_type": "code",
   "execution_count": 202,
   "id": "c0f0c467-6666-4423-9c60-b4fe27d95d49",
   "metadata": {},
   "outputs": [],
   "source": [
    "from langchain_core.prompts import ChatPromptTemplate, MessagesPlaceholder\n",
    "\n",
    "prompt = ChatPromptTemplate.from_messages(\n",
    "    [\n",
    "        (\n",
    "            \"system\",\n",
    "            \"你正在与我玩一个找猫的游戏\",\n",
    "        ),\n",
    "        (\"user\", \"{input}\"),\n",
    "        MessagesPlaceholder(variable_name=\"agent_scratchpad\"),\n",
    "    ]\n",
    ")"
   ]
  },
  {
   "cell_type": "markdown",
   "id": "83767dee-2f3f-43f0-8db0-7ba8e4d9d2b9",
   "metadata": {},
   "source": [
    "### Tool"
   ]
  },
  {
   "cell_type": "code",
   "execution_count": 296,
   "id": "46f1d01c-ebfd-4c09-a0f4-d147238513b4",
   "metadata": {
    "editable": true,
    "slideshow": {
     "slide_type": ""
    },
    "tags": []
   },
   "outputs": [],
   "source": [
    "tools=[\n",
    "        convert_to_openai_tool(WhereIsCat()),\n",
    "        convert_to_openai_tool(GetItems())\n",
    "    ]"
   ]
  },
  {
   "cell_type": "markdown",
   "id": "59237839-da73-472d-9a05-f0bb3d66e36c",
   "metadata": {},
   "source": [
    "### LLM"
   ]
  },
  {
   "cell_type": "code",
   "execution_count": 297,
   "id": "95771ed6-5a43-4664-89d7-542e5732b5be",
   "metadata": {},
   "outputs": [],
   "source": [
    "from langchain_openai import ChatOpenAI\n",
    "\n",
    "llm = ChatOpenAI(model=\"gpt-3.5-turbo-0125\").bind_tools(tools)"
   ]
  },
  {
   "cell_type": "code",
   "execution_count": 299,
   "id": "11ed95f6-8997-4f39-b8e8-919c1522dda5",
   "metadata": {},
   "outputs": [
    {
     "data": {
      "text/plain": [
       "AIMessage(content='', additional_kwargs={'tool_calls': [{'id': 'call_tqZ3DrsxmMrpTI0Ut3zrv6oQ', 'function': {'arguments': '{\"idea\":\"under the bed\"}', 'name': 'where_is_cat_hidding'}, 'type': 'function'}]})"
      ]
     },
     "execution_count": 299,
     "metadata": {},
     "output_type": "execute_result"
    }
   ],
   "source": [
    "llm.invoke(\"where is cat hidding?\")"
   ]
  },
  {
   "cell_type": "code",
   "execution_count": 300,
   "id": "49acb7b1-cc56-44e0-bc54-03b49427791d",
   "metadata": {},
   "outputs": [
    {
     "data": {
      "text/plain": [
       "AIMessage(content='', additional_kwargs={'tool_calls': [{'id': 'call_qZDAraUxhrHZ5H1eBpU3LgAp', 'function': {'arguments': '{\"idea\":\"猫在哪?\"}', 'name': 'where_is_cat_hidding'}, 'type': 'function'}]})"
      ]
     },
     "execution_count": 300,
     "metadata": {},
     "output_type": "execute_result"
    }
   ],
   "source": [
    "chain = {\n",
    "        \"input\": lambda x: x[\"input\"],\n",
    "        \"agent_scratchpad\": lambda x: format_to_openai_tool_messages(\n",
    "            x[\"intermediate_steps\"]\n",
    "        ),\n",
    "    } | prompt | llm\n",
    "\n",
    "chain.invoke({\"input\": \"猫在哪?\", \"intermediate_steps\": \"\"})"
   ]
  },
  {
   "cell_type": "markdown",
   "id": "7b76378f-60b2-49af-9b06-3e194874af56",
   "metadata": {},
   "source": [
    "### Agent"
   ]
  },
  {
   "cell_type": "code",
   "execution_count": 301,
   "id": "75f7bfbb-42d9-4311-87e4-5674e0b5e5c3",
   "metadata": {},
   "outputs": [],
   "source": [
    "from langchain.agents.format_scratchpad.openai_tools import (\n",
    "    format_to_openai_tool_messages,\n",
    ")\n",
    "from langchain.agents.output_parsers.openai_tools import OpenAIToolsAgentOutputParser\n",
    "\n",
    "agent = (\n",
    "    {\n",
    "        \"input\": lambda x: x[\"input\"],\n",
    "        \"agent_scratchpad\": lambda x: format_to_openai_tool_messages(\n",
    "            x[\"intermediate_steps\"]\n",
    "        ),\n",
    "    }\n",
    "    | prompt\n",
    "    | llm\n",
    "    | OpenAIToolsAgentOutputParser()\n",
    ")"
   ]
  },
  {
   "cell_type": "markdown",
   "id": "96c1af9b-ab62-4549-8724-5345ed7177b1",
   "metadata": {},
   "source": [
    "### AgentExecutor"
   ]
  },
  {
   "cell_type": "code",
   "execution_count": 303,
   "id": "515966f3-1157-41c1-b6f1-66828032e795",
   "metadata": {},
   "outputs": [],
   "source": [
    "from langchain.agents import AgentExecutor\n",
    "\n",
    "agent_executor = AgentExecutor(agent=agent, tools=[WhereIsCat(), GetItems()], verbose=True)"
   ]
  },
  {
   "cell_type": "markdown",
   "id": "ea3e8a62-6763-45ee-ab72-221bda6a9b71",
   "metadata": {},
   "source": [
    "### 运行"
   ]
  },
  {
   "cell_type": "code",
   "execution_count": 304,
   "id": "608d8669-f3cc-4d29-9c3b-4a3030846711",
   "metadata": {},
   "outputs": [
    {
     "name": "stdout",
     "output_type": "stream",
     "text": [
      "\n",
      "\n",
      "\u001b[1m> Entering new AgentExecutor chain...\u001b[0m\n",
      "\u001b[32;1m\u001b[1;3m\n",
      "Invoking: `where_is_cat_hidding` with `{'idea': '猫在哪里?'}`\n",
      "\n",
      "\n",
      "\u001b[0m\u001b[36;1m\u001b[1;3m在书架中\u001b[0m\u001b[32;1m\u001b[1;3m\n",
      "Invoking: `find_place` with `{'place': '书架'}`\n",
      "\n",
      "\n",
      "\u001b[0m\u001b[33;1m\u001b[1;3m发现一些漫画书、图册和铅笔\u001b[0m\u001b[32;1m\u001b[1;3m猫不在书架上，但我找到了一些漫画书、图册和铅笔。继续寻找猫藏在哪里吗？\u001b[0m\n",
      "\n",
      "\u001b[1m> Finished chain.\u001b[0m\n"
     ]
    },
    {
     "data": {
      "text/plain": [
       "{'input': '猫在哪里?', 'output': '猫不在书架上，但我找到了一些漫画书、图册和铅笔。继续寻找猫藏在哪里吗？'}"
      ]
     },
     "execution_count": 304,
     "metadata": {},
     "output_type": "execute_result"
    }
   ],
   "source": [
    "agent_executor.invoke({\"input\": \"猫在哪里?\"})"
   ]
  },
  {
   "cell_type": "markdown",
   "id": "a46f89be-34b9-4f95-9743-098fa4e5cc00",
   "metadata": {
    "editable": true,
    "slideshow": {
     "slide_type": ""
    },
    "tags": []
   },
   "source": [
    "## 使用 create_openai_tools_agent 创建智能体"
   ]
  },
  {
   "cell_type": "markdown",
   "id": "e178694e-73a3-4a00-827f-f1da406ad90b",
   "metadata": {},
   "source": [
    "### 准备"
   ]
  },
  {
   "cell_type": "code",
   "execution_count": 305,
   "id": "bad551da-af6f-4e7f-9617-8b09e06e3ae9",
   "metadata": {
    "editable": true,
    "slideshow": {
     "slide_type": ""
    },
    "tags": []
   },
   "outputs": [],
   "source": [
    "from langchain import hub\n",
    "from langchain.agents import AgentExecutor, Tool, create_openai_tools_agent\n",
    "from langchain.prompts import ChatPromptTemplate\n",
    "from langchain.tools import tool, StructuredTool\n",
    "from langchain_core.callbacks import Callbacks\n",
    "from langchain_openai import ChatOpenAI"
   ]
  },
  {
   "cell_type": "markdown",
   "id": "bb4a9b48-33fb-4607-9d9e-887418ebee6b",
   "metadata": {},
   "source": [
    "### Prompt"
   ]
  },
  {
   "cell_type": "code",
   "execution_count": 306,
   "id": "f6985442-2497-471c-8d5e-f9c3a0d19336",
   "metadata": {},
   "outputs": [
    {
     "name": "stdout",
     "output_type": "stream",
     "text": [
      "[SystemMessagePromptTemplate(prompt=PromptTemplate(input_variables=[], template='You are a helpful assistant')), MessagesPlaceholder(variable_name='chat_history', optional=True), HumanMessagePromptTemplate(prompt=PromptTemplate(input_variables=['input'], template='{input}')), MessagesPlaceholder(variable_name='agent_scratchpad')]\n"
     ]
    }
   ],
   "source": [
    "prompt = hub.pull(\"hwchase17/openai-tools-agent\")\n",
    "print(prompt.messages) # to see the prompt"
   ]
  },
  {
   "cell_type": "markdown",
   "id": "40848031-f2a0-4e0e-b007-25a0cd0dbf77",
   "metadata": {},
   "source": [
    "### LLM"
   ]
  },
  {
   "cell_type": "code",
   "execution_count": 307,
   "id": "9601b5ef-904b-4d45-b4d5-1bf1003d1ef0",
   "metadata": {},
   "outputs": [],
   "source": [
    "model = ChatOpenAI(temperature=0, streaming=False).bind(seed=42)"
   ]
  },
  {
   "cell_type": "markdown",
   "id": "8ae539f1-bc19-4692-b865-1271fbf27023",
   "metadata": {},
   "source": [
    "### Agent"
   ]
  },
  {
   "cell_type": "code",
   "execution_count": 308,
   "id": "8680e164-f93c-48e3-90da-27ca932725c3",
   "metadata": {},
   "outputs": [],
   "source": [
    "agent = create_openai_tools_agent(model, tools, prompt)"
   ]
  },
  {
   "cell_type": "markdown",
   "id": "7a0baa54-4602-47d0-84f8-832b6ffd97a7",
   "metadata": {},
   "source": [
    "### AgentExecutor"
   ]
  },
  {
   "cell_type": "code",
   "execution_count": 310,
   "id": "791ce88a-c15b-404c-91ce-3c53e8721010",
   "metadata": {},
   "outputs": [],
   "source": [
    "agent_executor = AgentExecutor(agent=agent, tools=[WhereIsCat(), GetItems()], verbose=True)"
   ]
  },
  {
   "cell_type": "code",
   "execution_count": 311,
   "id": "4b3d410b-1735-4971-b619-b81512586f1c",
   "metadata": {},
   "outputs": [
    {
     "data": {
      "text/plain": [
       "RunnableSequenceInput(input=None)"
      ]
     },
     "execution_count": 311,
     "metadata": {},
     "output_type": "execute_result"
    }
   ],
   "source": [
    "agent.input_schema()"
   ]
  },
  {
   "cell_type": "markdown",
   "id": "684bb5e9-d441-49dc-a9c6-5ba58077aede",
   "metadata": {},
   "source": [
    "### invoke"
   ]
  },
  {
   "cell_type": "code",
   "execution_count": 312,
   "id": "6f7528e2-0a95-4728-84d8-27f0a6cf0f1b",
   "metadata": {},
   "outputs": [
    {
     "data": {
      "text/plain": [
       "[OpenAIToolAgentAction(tool='where_is_cat_hidding', tool_input={'idea': 'The cat might be hiding under the bed.'}, log=\"\\nInvoking: `where_is_cat_hidding` with `{'idea': 'The cat might be hiding under the bed.'}`\\n\\n\\n\", message_log=[AIMessage(content='', additional_kwargs={'tool_calls': [{'id': 'call_IZwjJYNqKry2z270WxiNNQEc', 'function': {'arguments': '{\\n  \"idea\": \"The cat might be hiding under the bed.\"\\n}', 'name': 'where_is_cat_hidding'}, 'type': 'function'}]})], tool_call_id='call_IZwjJYNqKry2z270WxiNNQEc')]"
      ]
     },
     "execution_count": 312,
     "metadata": {},
     "output_type": "execute_result"
    }
   ],
   "source": [
    "agent.invoke({\"input\": \"猫呢?\", \"intermediate_steps\":\"\"})"
   ]
  },
  {
   "cell_type": "code",
   "execution_count": 313,
   "id": "b4d8ec61-f062-490a-9fe6-6970a84cd85b",
   "metadata": {},
   "outputs": [
    {
     "data": {
      "text/plain": [
       "[{'type': 'function',\n",
       "  'function': {'name': 'where_is_cat_hidding',\n",
       "   'description': '看看猫藏在哪里？',\n",
       "   'parameters': {'type': 'object',\n",
       "    'properties': {'idea': {'description': '寻找猫的线索', 'type': 'string'}},\n",
       "    'required': ['idea']}}},\n",
       " {'type': 'function',\n",
       "  'function': {'name': 'find_place',\n",
       "   'description': '仔细翻看猫的藏身之处',\n",
       "   'parameters': {'type': 'object',\n",
       "    'properties': {'place': {'description': '地点的描述', 'type': 'string'}},\n",
       "    'required': ['place']}}}]"
      ]
     },
     "execution_count": 313,
     "metadata": {},
     "output_type": "execute_result"
    }
   ],
   "source": [
    "tools"
   ]
  },
  {
   "cell_type": "code",
   "execution_count": 315,
   "id": "314c6162-7c6a-44ba-84dc-5b8ab3c5924b",
   "metadata": {},
   "outputs": [
    {
     "name": "stdout",
     "output_type": "stream",
     "text": [
      "\n",
      "\n",
      "\u001b[1m> Entering new AgentExecutor chain...\u001b[0m\n",
      "\u001b[32;1m\u001b[1;3m\n",
      "Invoking: `where_is_cat_hidding` with `{'idea': '猫可能躲在沙发底下'}`\n",
      "\n",
      "\n",
      "\u001b[0m\u001b[36;1m\u001b[1;3m在书架中\u001b[0m\u001b[32;1m\u001b[1;3m根据线索，猫可能躲在书架中。请仔细检查书架，看看猫是否在那里。\u001b[0m\n",
      "\n",
      "\u001b[1m> Finished chain.\u001b[0m\n"
     ]
    },
    {
     "data": {
      "text/plain": [
       "{'input': '猫呢?', 'output': '根据线索，猫可能躲在书架中。请仔细检查书架，看看猫是否在那里。'}"
      ]
     },
     "execution_count": 315,
     "metadata": {},
     "output_type": "execute_result"
    }
   ],
   "source": [
    "agent_executor.invoke({\"input\": \"猫呢?\"})"
   ]
  },
  {
   "cell_type": "code",
   "execution_count": 317,
   "id": "334815bd-a130-4550-bb39-86d8ced5477e",
   "metadata": {},
   "outputs": [
    {
     "name": "stdout",
     "output_type": "stream",
     "text": [
      "\n",
      "\n",
      "\u001b[1m> Entering new AgentExecutor chain...\u001b[0m\n",
      "------\n",
      "{'actions': [...], 'messages': [...]}\n",
      "\u001b[32;1m\u001b[1;3m\n",
      "Invoking: `where_is_cat_hidding` with `{'idea': '猫可能躲在沙发底下'}`\n",
      "\n",
      "\n",
      "\u001b[0m\u001b[36;1m\u001b[1;3m在床底下\u001b[0m------\n",
      "{'messages': [...], 'steps': [...]}\n",
      "\u001b[32;1m\u001b[1;3m猫可能躲在床底下。\u001b[0m\n",
      "\n",
      "\u001b[1m> Finished chain.\u001b[0m\n",
      "------\n",
      "{'messages': [...], 'output': '猫可能躲在床底下。'}\n"
     ]
    }
   ],
   "source": [
    "# Note: We use `pprint` to print only to depth 1, it makes it easier to see the output from a high level, before digging in.\n",
    "import pprint\n",
    "\n",
    "chunks = []\n",
    "\n",
    "async for chunk in agent_executor.astream(\n",
    "    {\"input\": \"猫呢?\"}\n",
    "):\n",
    "    chunks.append(chunk)\n",
    "    print(\"------\")\n",
    "    pprint.pprint(chunk, depth=1)"
   ]
  },
  {
   "cell_type": "code",
   "execution_count": null,
   "id": "9ad19b47-44a0-4bf1-ab54-8cbde8af4708",
   "metadata": {},
   "outputs": [],
   "source": []
  }
 ],
 "metadata": {
  "kernelspec": {
   "display_name": "langchani-book-py3.10-ipykernel",
   "language": "python",
   "name": "langchani-book-py3.10-ipykernel"
  },
  "language_info": {
   "codemirror_mode": {
    "name": "ipython",
    "version": 3
   },
   "file_extension": ".py",
   "mimetype": "text/x-python",
   "name": "python",
   "nbconvert_exporter": "python",
   "pygments_lexer": "ipython3",
   "version": "3.10.0"
  }
 },
 "nbformat": 4,
 "nbformat_minor": 5
}
