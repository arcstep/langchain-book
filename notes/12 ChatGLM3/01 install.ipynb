{
 "cells": [
  {
   "cell_type": "markdown",
   "id": "d12f7606-ede3-481d-a00c-c76de22ed955",
   "metadata": {},
   "source": [
    "[https://github.com/THUDM/ChatGLM3](https://github.com/THUDM/ChatGLM3)"
   ]
  },
  {
   "cell_type": "markdown",
   "id": "760fe4fc-a028-4c9c-a10f-a17c9a430f31",
   "metadata": {},
   "source": [
    "# 安装"
   ]
  },
  {
   "cell_type": "code",
   "execution_count": null,
   "id": "55edc6ae-c07e-4bb3-a8f1-def7d85cfd3f",
   "metadata": {},
   "outputs": [],
   "source": [
    "#\n",
    "!pip install https://github.com/bdashore3/flash-attention/releases/download/v2.5.2/flash_attn-2.5.2+cu122torch2.1.2cxx11abiFALSE-cp310-cp310-win_amd64.whl"
   ]
  },
  {
   "cell_type": "markdown",
   "id": "2078212b-166b-44da-bb5e-0afd026e9c3a",
   "metadata": {},
   "source": [
    "## CUDA"
   ]
  },
  {
   "cell_type": "code",
   "execution_count": null,
   "id": "339f207a-70e8-499c-bbb0-6dacbc6c578e",
   "metadata": {},
   "outputs": [],
   "source": []
  },
  {
   "cell_type": "markdown",
   "id": "76703eb0-d171-453c-9b78-76485ef1706b",
   "metadata": {},
   "source": [
    "## Pytorch"
   ]
  }
 ],
 "metadata": {
  "kernelspec": {
   "display_name": "langchani-book-py3.10-ipykernel",
   "language": "python",
   "name": "langchani-book-py3.10-ipykernel"
  },
  "language_info": {
   "codemirror_mode": {
    "name": "ipython",
    "version": 3
   },
   "file_extension": ".py",
   "mimetype": "text/x-python",
   "name": "python",
   "nbconvert_exporter": "python",
   "pygments_lexer": "ipython3",
   "version": "3.10.0"
  }
 },
 "nbformat": 4,
 "nbformat_minor": 5
}
