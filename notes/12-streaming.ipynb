{
 "cells": [
  {
   "cell_type": "markdown",
   "id": "8b720102-d169-4fb0-8f12-26a5cd981710",
   "metadata": {},
   "source": [
    "# 流式输出"
   ]
  },
  {
   "cell_type": "markdown",
   "id": "3d6e242d-b59a-4576-8d58-0b856469e547",
   "metadata": {},
   "source": [
    "langchain的Runnable对象的8种输出方法中，有一半与流式输出有关：\n",
    "- stream\n",
    "- astream\n",
    "- astream_events\n",
    "- astream_log"
   ]
  },
  {
   "cell_type": "markdown",
   "id": "21061c7c-1dc1-45c5-92e1-1c31fd5de0b3",
   "metadata": {},
   "source": [
    "## 准备"
   ]
  },
  {
   "cell_type": "code",
   "execution_count": 239,
   "id": "ab77fb21-a9af-41ab-88fb-f5e3744f9d2a",
   "metadata": {
    "editable": true,
    "slideshow": {
     "slide_type": ""
    },
    "tags": []
   },
   "outputs": [
    {
     "data": {
      "text/plain": [
       "True"
      ]
     },
     "execution_count": 239,
     "metadata": {},
     "output_type": "execute_result"
    }
   ],
   "source": [
    "import os\n",
    "from dotenv import load_dotenv, find_dotenv\n",
    "load_dotenv(find_dotenv(), override=True)"
   ]
  },
  {
   "cell_type": "markdown",
   "id": "780f4ffc-daa5-48a0-9dd5-ad2a04fd96b3",
   "metadata": {},
   "source": [
    "## stream"
   ]
  },
  {
   "cell_type": "markdown",
   "id": "51b5fac3-fd91-4091-ab8d-7d1654b280e3",
   "metadata": {},
   "source": [
    "### 示例：Prompt+LLM"
   ]
  },
  {
   "cell_type": "code",
   "execution_count": 240,
   "id": "a9865765-7ad5-4d19-9a0a-20829a11f261",
   "metadata": {},
   "outputs": [],
   "source": [
    "from langchain_core.prompts import ChatPromptTemplate, PromptTemplate\n",
    "from langchain_openai import ChatOpenAI, OpenAI\n",
    "\n",
    "llm = OpenAI().bind(seed=42)\n",
    "prompt = PromptTemplate.from_template(\"讲个关于{topic}的笑话\")"
   ]
  },
  {
   "cell_type": "markdown",
   "id": "3ef2c4ca-8bb3-417a-b982-2ed517c284a2",
   "metadata": {},
   "source": [
    "### 流式打印"
   ]
  },
  {
   "cell_type": "code",
   "execution_count": 241,
   "id": "b30aab34-67b5-4e02-ba29-fe2b96e7c0c6",
   "metadata": {},
   "outputs": [
    {
     "name": "stdout",
     "output_type": "stream",
     "text": [
      "\n",
      "\n",
      "_为_什_么_熊_总_是_穿_着_围_裙_？_因_为_它_们_喜_欢_吃_烤_饼_！__"
     ]
    }
   ],
   "source": [
    "for chunk in (prompt| llm).stream({\"topic\": \"bears\"}):\n",
    "    print(chunk, end=\"_\", flush=True)"
   ]
  },
  {
   "cell_type": "markdown",
   "id": "79f68a8c-9d25-4f0c-97da-6b312eb232a7",
   "metadata": {},
   "source": [
    "## 将流解析为字符串"
   ]
  },
  {
   "cell_type": "markdown",
   "id": "7419fffc-62d1-4a04-8c11-0878c4094837",
   "metadata": {},
   "source": [
    "### AIMessageChunk"
   ]
  },
  {
   "cell_type": "code",
   "execution_count": 110,
   "id": "bbc85fd2-a72f-4714-a903-c0b32e503b43",
   "metadata": {},
   "outputs": [],
   "source": [
    "llm = ChatOpenAI().bind(seed=42)\n",
    "prompt = ChatPromptTemplate.from_template(\"讲个关于{topic}的笑话\")\n",
    "chain = prompt | llm"
   ]
  },
  {
   "cell_type": "code",
   "execution_count": 111,
   "id": "75703a20-c95f-4b25-9bba-8fd852db4d9b",
   "metadata": {},
   "outputs": [
    {
     "name": "stdout",
     "output_type": "stream",
     "text": [
      "_为_什_么_熊_喜_欢_在_雨_天_打_开_电_视_？\n",
      "_因_为_他_们_喜_欢_看_“_熊_熊_有_词_”_！__"
     ]
    }
   ],
   "source": [
    "chunks = []\n",
    "for chunk in chain.stream({\"topic\": \"bears\"}):\n",
    "    chunks.append(chunk)\n",
    "    print(chunk.content, end=\"_\", flush=True)"
   ]
  },
  {
   "cell_type": "markdown",
   "id": "3431fecb-6aa4-4135-8385-c3e086574d5f",
   "metadata": {},
   "source": [
    "实际上每个 chunk 长这样："
   ]
  },
  {
   "cell_type": "code",
   "execution_count": 112,
   "id": "e1ec3a9d-e938-492e-ac90-25fad7643b1c",
   "metadata": {},
   "outputs": [
    {
     "data": {
      "text/plain": [
       "[AIMessageChunk(content=''),\n",
       " AIMessageChunk(content='为'),\n",
       " AIMessageChunk(content='什'),\n",
       " AIMessageChunk(content='么')]"
      ]
     },
     "execution_count": 112,
     "metadata": {},
     "output_type": "execute_result"
    }
   ],
   "source": [
    "chunks[0:4]"
   ]
  },
  {
   "cell_type": "markdown",
   "id": "c4b3ed05-880d-4c1a-834c-a731e76e6e59",
   "metadata": {},
   "source": [
    "### StrOutputParser"
   ]
  },
  {
   "cell_type": "code",
   "execution_count": 113,
   "id": "cd919660-b415-4733-abfa-2b74cc9e5d77",
   "metadata": {},
   "outputs": [
    {
     "name": "stdout",
     "output_type": "stream",
     "text": [
      "_为_什_么_熊_喜_欢_在_雨_天_打_开_电_视_？\n",
      "_因_为_他_们_喜_欢_看_“_熊_熊_有_词_”_！__"
     ]
    }
   ],
   "source": [
    "from langchain_core.output_parsers import StrOutputParser\n",
    "\n",
    "chunks = []\n",
    "json_chain = prompt | model | StrOutputParser()\n",
    "for chunk in json_chain.stream({\"topic\": \"bears\"}):\n",
    "    chunks.append(chunk)\n",
    "    print(chunk, end=\"_\", flush=True)"
   ]
  },
  {
   "cell_type": "code",
   "execution_count": 114,
   "id": "c43341e5-1710-4cf6-af87-8f2a6823be01",
   "metadata": {},
   "outputs": [
    {
     "data": {
      "text/plain": [
       "['', '为', '什', '么']"
      ]
     },
     "execution_count": 114,
     "metadata": {},
     "output_type": "execute_result"
    }
   ],
   "source": [
    "chunks[0:4]"
   ]
  },
  {
   "cell_type": "markdown",
   "id": "6e6feca9-d5c6-45ba-aa01-0dbe5cc1f81b",
   "metadata": {},
   "source": [
    "## 流处理技巧"
   ]
  },
  {
   "cell_type": "markdown",
   "id": "7cd4f375-9f6e-4e34-9153-7a87d6b1e764",
   "metadata": {},
   "source": [
    "### 生成一个流内容"
   ]
  },
  {
   "cell_type": "code",
   "execution_count": 181,
   "id": "78d336ff-f609-41e4-9db6-bfd0b110b9d0",
   "metadata": {},
   "outputs": [],
   "source": [
    "from typing import Iterator, List\n",
    "\n",
    "from langchain.prompts.chat import ChatPromptTemplate\n",
    "from langchain_openai import OpenAI\n",
    "\n",
    "prompt = ChatPromptTemplate.from_template(\n",
    "    \"生成与{animal}相似的5种动物名称，格式要求：生成一个名称列表字符串，逗号间隔。\"\n",
    ")\n",
    "model = OpenAI(temperature=0).bind(seed=42)\n",
    "\n",
    "str_chain = prompt | model"
   ]
  },
  {
   "cell_type": "code",
   "execution_count": 183,
   "id": "c9c9246a-dd43-4dd0-835b-777484d3264c",
   "metadata": {},
   "outputs": [
    {
     "name": "stdout",
     "output_type": "stream",
     "text": [
      "\n",
      "\n",
      "_狮_子_,_ 老_虎_,_ 豹_子_,_ 豹_猫_,_ 豹_狗__"
     ]
    }
   ],
   "source": [
    "for chunk in str_chain.stream({\"animal\": \"猫\"}):\n",
    "    print(chunk, end=\"_\", flush=True)"
   ]
  },
  {
   "cell_type": "code",
   "execution_count": 184,
   "id": "b0022567-2d3b-49ca-9df3-cbfd13043f17",
   "metadata": {},
   "outputs": [
    {
     "data": {
      "text/plain": [
       "'\\n\\n狮子, 老虎, 豹子, 豹猫, 豹狗'"
      ]
     },
     "execution_count": 184,
     "metadata": {},
     "output_type": "execute_result"
    }
   ],
   "source": [
    "str_chain.invoke({\"animal\": \"猫\"})"
   ]
  },
  {
   "cell_type": "markdown",
   "id": "7d419138-1f28-4a0a-bf91-a73920cb282c",
   "metadata": {},
   "source": [
    "### 处理流式输入"
   ]
  },
  {
   "cell_type": "code",
   "execution_count": 185,
   "id": "5a0d7519-9150-4c0d-be34-a442ac7918ed",
   "metadata": {},
   "outputs": [],
   "source": [
    "# This is a custom parser that splits an iterator of llm tokens\n",
    "# into a list of strings separated by commas\n",
    "def split_into_list(input: Iterator[str]) -> Iterator[List[str]]:\n",
    "    # hold partial input until we get a comma\n",
    "    buffer = \"\"\n",
    "    for chunk in input:\n",
    "        # add current chunk to buffer\n",
    "        buffer += chunk\n",
    "        # while there are commas in the buffer\n",
    "        while \",\" in buffer:\n",
    "            # split buffer on comma\n",
    "            comma_index = buffer.index(\",\")\n",
    "            # yield everything before the comma\n",
    "            yield [buffer[:comma_index].strip()]\n",
    "            # save the rest for the next iteration\n",
    "            buffer = buffer[comma_index + 1 :]\n",
    "    # yield the last chunk\n",
    "    yield [buffer.strip()]"
   ]
  },
  {
   "cell_type": "code",
   "execution_count": 186,
   "id": "0815cb23-d948-49d4-a6bc-f5db1af7f927",
   "metadata": {},
   "outputs": [],
   "source": [
    "list_chain = str_chain | split_into_list"
   ]
  },
  {
   "cell_type": "code",
   "execution_count": 190,
   "id": "898c76f2-595c-4c75-b2fb-dabe14d054bc",
   "metadata": {},
   "outputs": [
    {
     "name": "stdout",
     "output_type": "stream",
     "text": [
      "['狮子']_['老虎']_['豹子']_['豹猫']_['豹狗']_"
     ]
    }
   ],
   "source": [
    "for chunk in list_chain.stream({\"animal\": \"猫\"}):\n",
    "    print(chunk, end = \"_\", flush=True)"
   ]
  },
  {
   "cell_type": "code",
   "execution_count": 189,
   "id": "602a9bee-c3a7-434d-a899-3e46290b3154",
   "metadata": {},
   "outputs": [
    {
     "data": {
      "text/plain": [
       "['狮子', '老虎', '豹子', '豹猫', '豹狗']"
      ]
     },
     "execution_count": 189,
     "metadata": {},
     "output_type": "execute_result"
    }
   ],
   "source": [
    "list_chain.invoke({\"animal\": \"猫\"})"
   ]
  },
  {
   "cell_type": "markdown",
   "id": "1582ac64-d5cb-4c8d-ac41-46af77beb2cd",
   "metadata": {},
   "source": [
    "### 实现一个异步版本"
   ]
  },
  {
   "cell_type": "code",
   "execution_count": 199,
   "id": "bb124752-ee97-47f8-9f07-f5a8fcd7045d",
   "metadata": {},
   "outputs": [],
   "source": [
    "from typing import AsyncIterator\n",
    "\n",
    "async def asplit_into_list(\n",
    "    input: AsyncIterator[str],\n",
    ") -> AsyncIterator[List[str]]:  # async def\n",
    "    buffer = \"\"\n",
    "    async for (\n",
    "        chunk\n",
    "    ) in input:  # `input` is a `async_generator` object, so use `async for`\n",
    "        buffer += chunk\n",
    "        while \",\" in buffer:\n",
    "            comma_index = buffer.index(\",\")\n",
    "            yield [buffer[:comma_index].strip()]\n",
    "            buffer = buffer[comma_index + 1 :]\n",
    "    yield [buffer.strip()]\n",
    "\n",
    "list_chain = str_chain | asplit_into_list"
   ]
  },
  {
   "cell_type": "code",
   "execution_count": 205,
   "id": "d0daa55a-1d19-4cb3-be29-8bb01ad37f66",
   "metadata": {},
   "outputs": [
    {
     "name": "stdout",
     "output_type": "stream",
     "text": [
      "['狮子']_['老虎']_['豹子']_['豹猫']_['豹狗']_"
     ]
    }
   ],
   "source": [
    "async for chunk in list_chain.astream({\"animal\": \"猫\"}):\n",
    "    print(chunk, end = \"_\", flush=True)"
   ]
  },
  {
   "cell_type": "code",
   "execution_count": 203,
   "id": "7deb448c-cd91-4ead-b15e-c91819ca6f4e",
   "metadata": {},
   "outputs": [
    {
     "data": {
      "text/plain": [
       "['狮子', '老虎', '豹子', '豹猫', '豹狗']"
      ]
     },
     "execution_count": 203,
     "metadata": {},
     "output_type": "execute_result"
    }
   ],
   "source": [
    "await list_chain.ainvoke({\"animal\": \"猫\"})"
   ]
  },
  {
   "cell_type": "markdown",
   "id": "ba23f984-7047-4136-a5cb-bd32240fc4b7",
   "metadata": {},
   "source": [
    "## 将流解析为字典"
   ]
  },
  {
   "cell_type": "markdown",
   "id": "3d6b46e1-2d7d-4090-9f78-99aaf6dffe23",
   "metadata": {},
   "source": [
    "### 将JSON流输出解析为字典"
   ]
  },
  {
   "cell_type": "markdown",
   "id": "5b5c9963-b03f-4836-8c5c-362a42284c01",
   "metadata": {},
   "source": [
    "<div class=\"alert-warning\" style=\"padding: 5px\">\n",
    "<b>注意：</b>\n",
    "    \n",
    "**JsonOutputParser** 会输出一个字典结构。\n",
    "\n",
    "但为了随时获得完整的JSON结构，**JsonOutputParser** 会随时根据已收到的字符串构造最新可用的字典结构。<br>\n",
    "这与 **StrOutputParser** 非常不同！\n",
    "</div>"
   ]
  },
  {
   "cell_type": "code",
   "execution_count": 130,
   "id": "7138df14-265f-4ba3-9336-507d7b5941bd",
   "metadata": {
    "scrolled": true
   },
   "outputs": [
    {
     "name": "stdout",
     "output_type": "stream",
     "text": [
      "{}\n",
      "{'countries': []}\n",
      "{'countries': [{}]}\n",
      "{'countries': [{'name': ''}]}\n",
      "{'countries': [{'name': '中国'}]}\n",
      "{'countries': [{'name': '中国', 'population': 140}]}\n",
      "{'countries': [{'name': '中国', 'population': 140005}]}\n",
      "{'countries': [{'name': '中国', 'population': 140005000}]}\n",
      "{'countries': [{'name': '中国', 'population': 1400050000}]}\n",
      "{'countries': [{'name': '中国', 'population': 1400050000}, {}]}\n",
      "{'countries': [{'name': '中国', 'population': 1400050000}, {'name': ''}]}\n",
      "{'countries': [{'name': '中国', 'population': 1400050000}, {'name': '印'}]}\n",
      "{'countries': [{'name': '中国', 'population': 1400050000}, {'name': '印度'}]}\n",
      "{'countries': [{'name': '中国', 'population': 1400050000}, {'name': '印度', 'population': 136}]}\n",
      "{'countries': [{'name': '中国', 'population': 1400050000}, {'name': '印度', 'population': 136600}]}\n",
      "{'countries': [{'name': '中国', 'population': 1400050000}, {'name': '印度', 'population': 136600000}]}\n",
      "{'countries': [{'name': '中国', 'population': 1400050000}, {'name': '印度', 'population': 1366000000}]}\n",
      "{'countries': [{'name': '中国', 'population': 1400050000}, {'name': '印度', 'population': 1366000000}, {}]}\n",
      "{'countries': [{'name': '中国', 'population': 1400050000}, {'name': '印度', 'population': 1366000000}, {'name': ''}]}\n",
      "{'countries': [{'name': '中国', 'population': 1400050000}, {'name': '印度', 'population': 1366000000}, {'name': '印'}]}\n",
      "{'countries': [{'name': '中国', 'population': 1400050000}, {'name': '印度', 'population': 1366000000}, {'name': '印度'}]}\n",
      "{'countries': [{'name': '中国', 'population': 1400050000}, {'name': '印度', 'population': 1366000000}, {'name': '印度尼'}]}\n",
      "{'countries': [{'name': '中国', 'population': 1400050000}, {'name': '印度', 'population': 1366000000}, {'name': '印度尼西'}]}\n",
      "{'countries': [{'name': '中国', 'population': 1400050000}, {'name': '印度', 'population': 1366000000}, {'name': '印度尼西亚'}]}\n",
      "{'countries': [{'name': '中国', 'population': 1400050000}, {'name': '印度', 'population': 1366000000}, {'name': '印度尼西亚', 'population': 273}]}\n",
      "{'countries': [{'name': '中国', 'population': 1400050000}, {'name': '印度', 'population': 1366000000}, {'name': '印度尼西亚', 'population': 273523}]}\n",
      "{'countries': [{'name': '中国', 'population': 1400050000}, {'name': '印度', 'population': 1366000000}, {'name': '印度尼西亚', 'population': 273523615}]}\n",
      "{'countries': [{'name': '中国', 'population': 1400050000}, {'name': '印度', 'population': 1366000000}, {'name': '印度尼西亚', 'population': 273523615}, {}]}\n",
      "{'countries': [{'name': '中国', 'population': 1400050000}, {'name': '印度', 'population': 1366000000}, {'name': '印度尼西亚', 'population': 273523615}, {'name': ''}]}\n",
      "{'countries': [{'name': '中国', 'population': 1400050000}, {'name': '印度', 'population': 1366000000}, {'name': '印度尼西亚', 'population': 273523615}, {'name': '巴'}]}\n",
      "{'countries': [{'name': '中国', 'population': 1400050000}, {'name': '印度', 'population': 1366000000}, {'name': '印度尼西亚', 'population': 273523615}, {'name': '巴基'}]}\n",
      "{'countries': [{'name': '中国', 'population': 1400050000}, {'name': '印度', 'population': 1366000000}, {'name': '印度尼西亚', 'population': 273523615}, {'name': '巴基斯'}]}\n",
      "{'countries': [{'name': '中国', 'population': 1400050000}, {'name': '印度', 'population': 1366000000}, {'name': '印度尼西亚', 'population': 273523615}, {'name': '巴基斯坦'}]}\n",
      "{'countries': [{'name': '中国', 'population': 1400050000}, {'name': '印度', 'population': 1366000000}, {'name': '印度尼西亚', 'population': 273523615}, {'name': '巴基斯坦', 'population': 225}]}\n",
      "{'countries': [{'name': '中国', 'population': 1400050000}, {'name': '印度', 'population': 1366000000}, {'name': '印度尼西亚', 'population': 273523615}, {'name': '巴基斯坦', 'population': 225199}]}\n",
      "{'countries': [{'name': '中国', 'population': 1400050000}, {'name': '印度', 'population': 1366000000}, {'name': '印度尼西亚', 'population': 273523615}, {'name': '巴基斯坦', 'population': 225199937}]}\n",
      "{'countries': [{'name': '中国', 'population': 1400050000}, {'name': '印度', 'population': 1366000000}, {'name': '印度尼西亚', 'population': 273523615}, {'name': '巴基斯坦', 'population': 225199937}, {}]}\n",
      "{'countries': [{'name': '中国', 'population': 1400050000}, {'name': '印度', 'population': 1366000000}, {'name': '印度尼西亚', 'population': 273523615}, {'name': '巴基斯坦', 'population': 225199937}, {'name': ''}]}\n",
      "{'countries': [{'name': '中国', 'population': 1400050000}, {'name': '印度', 'population': 1366000000}, {'name': '印度尼西亚', 'population': 273523615}, {'name': '巴基斯坦', 'population': 225199937}, {'name': '孟'}]}\n",
      "{'countries': [{'name': '中国', 'population': 1400050000}, {'name': '印度', 'population': 1366000000}, {'name': '印度尼西亚', 'population': 273523615}, {'name': '巴基斯坦', 'population': 225199937}, {'name': '孟加'}]}\n",
      "{'countries': [{'name': '中国', 'population': 1400050000}, {'name': '印度', 'population': 1366000000}, {'name': '印度尼西亚', 'population': 273523615}, {'name': '巴基斯坦', 'population': 225199937}, {'name': '孟加拉'}]}\n",
      "{'countries': [{'name': '中国', 'population': 1400050000}, {'name': '印度', 'population': 1366000000}, {'name': '印度尼西亚', 'population': 273523615}, {'name': '巴基斯坦', 'population': 225199937}, {'name': '孟加拉国'}]}\n",
      "{'countries': [{'name': '中国', 'population': 1400050000}, {'name': '印度', 'population': 1366000000}, {'name': '印度尼西亚', 'population': 273523615}, {'name': '巴基斯坦', 'population': 225199937}, {'name': '孟加拉国', 'population': 166}]}\n",
      "{'countries': [{'name': '中国', 'population': 1400050000}, {'name': '印度', 'population': 1366000000}, {'name': '印度尼西亚', 'population': 273523615}, {'name': '巴基斯坦', 'population': 225199937}, {'name': '孟加拉国', 'population': 166303}]}\n",
      "{'countries': [{'name': '中国', 'population': 1400050000}, {'name': '印度', 'population': 1366000000}, {'name': '印度尼西亚', 'population': 273523615}, {'name': '巴基斯坦', 'population': 225199937}, {'name': '孟加拉国', 'population': 166303498}]}\n"
     ]
    }
   ],
   "source": [
    "from langchain_core.output_parsers import JsonOutputParser\n",
    "\n",
    "chain = model | JsonOutputParser()\n",
    "\n",
    "final_json = {}\n",
    "for chunk in chain.stream('用JSON格式输出一个包含若干亚洲国家的名称和人口数量，国家名称使用中文'):\n",
    "    final_json = chunk\n",
    "    print(chunk, flush=True)"
   ]
  },
  {
   "cell_type": "code",
   "execution_count": 128,
   "id": "c16efb3e-85aa-4fe4-b6cc-1719077430d1",
   "metadata": {},
   "outputs": [
    {
     "data": {
      "text/plain": [
       "{'countries': [{'name': 'China', 'population': 1439323776},\n",
       "  {'name': 'India', 'population': 1380004385},\n",
       "  {'name': 'Indonesia', 'population': 273523615},\n",
       "  {'name': 'Pakistan', 'population': 220892340},\n",
       "  {'name': 'Bangladesh', 'population': 164689383},\n",
       "  {'name': 'Japan', 'population': 125360000},\n",
       "  {'name': 'Philippines', 'population': 109581078},\n",
       "  {'name': 'Vietnam', 'population': 97338579}]}"
      ]
     },
     "execution_count": 128,
     "metadata": {},
     "output_type": "execute_result"
    }
   ],
   "source": [
    "# final_json 是一个字典\n",
    "final_json"
   ]
  },
  {
   "cell_type": "markdown",
   "id": "3d2467bd-f8fc-420d-8789-fadd5fdba7d8",
   "metadata": {},
   "source": [
    "### 将JSON流作为输入处理"
   ]
  },
  {
   "cell_type": "code",
   "execution_count": 135,
   "id": "b8b89898-633e-4a1a-b69c-7a127018ddf8",
   "metadata": {},
   "outputs": [
    {
     "name": "stdout",
     "output_type": "stream",
     "text": [
      "中国_印度_印度尼西亚_巴基斯坦_孟加拉国_日本_菲律宾_越南_土耳其_伊朗_泰国_缅甸_韩国_伊拉克_阿富汗_沙特阿拉伯_乌兹别克斯坦_马来西亚_也门_朝鲜_"
     ]
    }
   ],
   "source": [
    "def _extract_country_names_streaming(input_stream):\n",
    "    \"\"\"A function that operates on input streams.\"\"\"\n",
    "    country_names_so_far = set()\n",
    "\n",
    "    for input in input_stream:\n",
    "        # 跳过尚未构建字典的情况\n",
    "        if not isinstance(input, dict):\n",
    "            continue\n",
    "\n",
    "        # 跳过尚未发现countries键的情况\n",
    "        if \"countries\" not in input:\n",
    "            continue\n",
    "\n",
    "        # 获取countries\n",
    "        countries = input[\"countries\"]\n",
    "\n",
    "        # 跳过countries还没构建为列表的情况\n",
    "        if not isinstance(countries, list):\n",
    "            continue\n",
    "\n",
    "        # 此时字典结构已经构建完毕，可以枚举每个元素，用来构建生成器\n",
    "        for country in countries:\n",
    "            name = country.get(\"name\")\n",
    "            population = country.get(\"population\")\n",
    "            if not name:\n",
    "                continue\n",
    "            # 当population键已经生成，意味着name已经有完整的值\n",
    "            if not population:\n",
    "                continue\n",
    "            if name not in country_names_so_far:\n",
    "                yield name\n",
    "                country_names_so_far.add(name)\n",
    "\n",
    "# 构建一个链，其中_extract_country_names_streaming被自动转换为 RunnableLambda\n",
    "chain = model | JsonOutputParser() | _extract_country_names_streaming\n",
    "\n",
    "for chunk in chain.stream('用JSON格式输出一个包含20个亚洲国家的名称和人口数量，国家名称使用中文'):\n",
    "    print(chunk, end=\"_\", flush=True)"
   ]
  },
  {
   "cell_type": "markdown",
   "id": "bfb3727b-dd2e-4d01-9b07-7fa03da7b06a",
   "metadata": {},
   "source": [
    "## astream_event"
   ]
  },
  {
   "cell_type": "markdown",
   "id": "696cee68-afd1-4015-a124-6e1da30704ab",
   "metadata": {},
   "source": [
    "### Runnable的事件流"
   ]
  },
  {
   "cell_type": "code",
   "execution_count": 136,
   "id": "dac9f51d-d1d1-452f-ad92-7e1505521ef9",
   "metadata": {},
   "outputs": [],
   "source": [
    "events = []\n",
    "async for event in model.astream_events(\"hello\", version=\"v1\"):\n",
    "    events.append(event)"
   ]
  },
  {
   "cell_type": "code",
   "execution_count": 144,
   "id": "3a8520ca-b401-42c9-945e-284aadd3b1ce",
   "metadata": {},
   "outputs": [
    {
     "data": {
      "text/plain": [
       "[{'event': 'on_chat_model_start',\n",
       "  'run_id': '555f4b4f-9455-43d9-9025-46b91c0ad80f',\n",
       "  'name': 'ChatOpenAI',\n",
       "  'tags': [],\n",
       "  'metadata': {},\n",
       "  'data': {'input': 'hello'}},\n",
       " {'event': 'on_chat_model_stream',\n",
       "  'run_id': '555f4b4f-9455-43d9-9025-46b91c0ad80f',\n",
       "  'tags': [],\n",
       "  'metadata': {},\n",
       "  'name': 'ChatOpenAI',\n",
       "  'data': {'chunk': AIMessageChunk(content='')}},\n",
       " {'event': 'on_chat_model_stream',\n",
       "  'run_id': '555f4b4f-9455-43d9-9025-46b91c0ad80f',\n",
       "  'tags': [],\n",
       "  'metadata': {},\n",
       "  'name': 'ChatOpenAI',\n",
       "  'data': {'chunk': AIMessageChunk(content='Hello')}}]"
      ]
     },
     "execution_count": 144,
     "metadata": {},
     "output_type": "execute_result"
    }
   ],
   "source": [
    "events[0:3]"
   ]
  },
  {
   "cell_type": "markdown",
   "id": "f6357684-2676-4b1b-9e7a-664d2cc060d8",
   "metadata": {},
   "source": [
    "### chain的事件流"
   ]
  },
  {
   "cell_type": "code",
   "execution_count": 154,
   "id": "d4e1693d-0747-44fc-9d8d-e6e85b7368fa",
   "metadata": {},
   "outputs": [],
   "source": [
    "chain = (\n",
    "    model | JsonOutputParser()\n",
    ")  # Due to a bug in older versions of Langchain, JsonOutputParser did not stream results from some models\n",
    "\n",
    "events = [\n",
    "    event\n",
    "    async for event in chain.astream_events(\n",
    "        \"\"\"\n",
    "        用JSON格式输出包含20个亚洲国家名称和人口数量的数据；\n",
    "        格式要求：\n",
    "        1. 每个国家应当有 name 和 population 两个键\n",
    "        2. 国家名称使用中文\n",
    "        \"\"\",\n",
    "        version=\"v1\",\n",
    "    )\n",
    "]"
   ]
  },
  {
   "cell_type": "markdown",
   "id": "6d881463-b72d-4119-b432-089d035b54d1",
   "metadata": {},
   "source": [
    "<div class=\"alert-info\">\n",
    "<b>注意</b>\n",
    "    \n",
    "由于OpenAI和JsonOutputParser都支持stream，因此可以看到on_chat_model_stream和on_parser_stream交替出现。\n",
    "</div>"
   ]
  },
  {
   "cell_type": "code",
   "execution_count": 159,
   "id": "f2700ae0-b7a3-45da-ab6a-eac250c85a61",
   "metadata": {},
   "outputs": [
    {
     "data": {
      "text/plain": [
       "[{'event': 'on_chat_model_stream',\n",
       "  'name': 'ChatOpenAI',\n",
       "  'run_id': 'e4bd6e4a-d81b-44b4-b9b1-d565498cef46',\n",
       "  'tags': ['seq:step:1'],\n",
       "  'metadata': {},\n",
       "  'data': {'chunk': AIMessageChunk(content=' \"')}},\n",
       " {'event': 'on_chat_model_stream',\n",
       "  'name': 'ChatOpenAI',\n",
       "  'run_id': 'e4bd6e4a-d81b-44b4-b9b1-d565498cef46',\n",
       "  'tags': ['seq:step:1'],\n",
       "  'metadata': {},\n",
       "  'data': {'chunk': AIMessageChunk(content='population')}},\n",
       " {'event': 'on_chat_model_stream',\n",
       "  'name': 'ChatOpenAI',\n",
       "  'run_id': 'e4bd6e4a-d81b-44b4-b9b1-d565498cef46',\n",
       "  'tags': ['seq:step:1'],\n",
       "  'metadata': {},\n",
       "  'data': {'chunk': AIMessageChunk(content='\":')}},\n",
       " {'event': 'on_chat_model_stream',\n",
       "  'name': 'ChatOpenAI',\n",
       "  'run_id': 'e4bd6e4a-d81b-44b4-b9b1-d565498cef46',\n",
       "  'tags': ['seq:step:1'],\n",
       "  'metadata': {},\n",
       "  'data': {'chunk': AIMessageChunk(content=' ')}},\n",
       " {'event': 'on_parser_stream',\n",
       "  'name': 'JsonOutputParser',\n",
       "  'run_id': '86750e5b-8182-4209-854b-9090ac9fec20',\n",
       "  'tags': ['seq:step:2'],\n",
       "  'metadata': {},\n",
       "  'data': {'chunk': {'countries': [{'name': '中国', 'population': 140}]}}},\n",
       " {'event': 'on_chain_stream',\n",
       "  'run_id': '22cd1165-9daf-49fd-90f4-be7516e66ab4',\n",
       "  'tags': [],\n",
       "  'metadata': {},\n",
       "  'name': 'RunnableSequence',\n",
       "  'data': {'chunk': {'countries': [{'name': '中国', 'population': 140}]}}},\n",
       " {'event': 'on_chat_model_stream',\n",
       "  'name': 'ChatOpenAI',\n",
       "  'run_id': 'e4bd6e4a-d81b-44b4-b9b1-d565498cef46',\n",
       "  'tags': ['seq:step:1'],\n",
       "  'metadata': {},\n",
       "  'data': {'chunk': AIMessageChunk(content='140')}},\n",
       " {'event': 'on_parser_stream',\n",
       "  'name': 'JsonOutputParser',\n",
       "  'run_id': '86750e5b-8182-4209-854b-9090ac9fec20',\n",
       "  'tags': ['seq:step:2'],\n",
       "  'metadata': {},\n",
       "  'data': {'chunk': {'countries': [{'name': '中国', 'population': 140005}]}}},\n",
       " {'event': 'on_chain_stream',\n",
       "  'run_id': '22cd1165-9daf-49fd-90f4-be7516e66ab4',\n",
       "  'tags': [],\n",
       "  'metadata': {},\n",
       "  'name': 'RunnableSequence',\n",
       "  'data': {'chunk': {'countries': [{'name': '中国', 'population': 140005}]}}},\n",
       " {'event': 'on_chat_model_stream',\n",
       "  'name': 'ChatOpenAI',\n",
       "  'run_id': 'e4bd6e4a-d81b-44b4-b9b1-d565498cef46',\n",
       "  'tags': ['seq:step:1'],\n",
       "  'metadata': {},\n",
       "  'data': {'chunk': AIMessageChunk(content='005')}}]"
      ]
     },
     "execution_count": 159,
     "metadata": {},
     "output_type": "execute_result"
    }
   ],
   "source": [
    "events[30:40]"
   ]
  },
  {
   "cell_type": "markdown",
   "id": "f4231a38-f3c7-465b-bd14-5f4a963b804c",
   "metadata": {},
   "source": [
    "### RAG的事件流"
   ]
  },
  {
   "cell_type": "markdown",
   "id": "c995d02f-8d7d-42a2-b7fb-002be553b92b",
   "metadata": {},
   "source": [
    "下面是一个更复杂的RAG链的例子。<br>\n",
    "你可以在创建 Chain 的时候为其命名，并在执行时按照名称过滤和打印每个Runnable的日志。"
   ]
  },
  {
   "cell_type": "code",
   "execution_count": 145,
   "id": "ea217d12-ff96-40f3-8ef0-a8828470afcc",
   "metadata": {},
   "outputs": [],
   "source": [
    "from langchain_community.vectorstores import Chroma\n",
    "from langchain_core.output_parsers import StrOutputParser\n",
    "from langchain_core.runnables import RunnablePassthrough\n",
    "from langchain_openai import OpenAIEmbeddings\n",
    "\n",
    "template = \"\"\"基于以下内容回答问题：\n",
    "{context}\n",
    "\n",
    "Question: {question}\n",
    "\"\"\"\n",
    "prompt = ChatPromptTemplate.from_template(template)\n",
    "\n",
    "vectorstore = Chroma.from_texts(\n",
    "    [\"张朝阳在搜狐公司工作\"], embedding=OpenAIEmbeddings()\n",
    ")\n",
    "retriever = vectorstore.as_retriever()\n",
    "\n",
    "retrieval_chain = (\n",
    "    {\n",
    "        \"context\": retriever.with_config(run_name=\"本地检索\"),\n",
    "        \"question\": RunnablePassthrough(),\n",
    "    }\n",
    "    | prompt\n",
    "    | model.with_config(run_name=\"LLM\")\n",
    "    | StrOutputParser()\n",
    ")"
   ]
  },
  {
   "cell_type": "markdown",
   "id": "2b01f07b-2e50-4ea2-860d-8b42d07284cc",
   "metadata": {},
   "source": [
    "<div class=\"alert-info\">\n",
    "<b>注意</b>\n",
    "\n",
    "如果需要打印日志，你可以根据name、tags或event等类型来过滤。\n",
    "\n",
    "简单的方法是在调用astream_events的时候就过滤，可以用的方法包括：\n",
    "- include_names/include_tags/include_types 用于包含\n",
    "- exclude_names/exclue_tags/exclude_types 用于排除\n",
    "</div>"
   ]
  },
  {
   "cell_type": "code",
   "execution_count": 150,
   "id": "43fd40c9-17a6-4ac9-a564-10634dfa22d3",
   "metadata": {},
   "outputs": [
    {
     "name": "stderr",
     "output_type": "stream",
     "text": [
      "Number of requested results 4 is greater than number of elements in index 2, updating n_results = 2\n"
     ]
    },
    {
     "name": "stdout",
     "output_type": "stream",
     "text": [
      "--\n",
      "RAG检索结果:\n",
      "[Document(page_content='张朝阳在搜狐公司工作'), Document(page_content='张朝阳在搜狐公司工作')]\n",
      "\n",
      "LLM流开始:\n",
      "_张_朝_阳_在_搜_狐_公司_工_作_。__\n",
      "LLM流结束.\n"
     ]
    }
   ],
   "source": [
    "events = []\n",
    "async for event in retrieval_chain.astream_events(\n",
    "    \"张朝阳在哪里上班？\", version=\"v1\", include_names=[\"本地检索\", \"LLM\"]\n",
    "):\n",
    "    events.append(event)\n",
    "    kind = event[\"event\"]\n",
    "    if kind == \"on_chat_model_stream\":\n",
    "        print(event[\"data\"][\"chunk\"].content, end=\"_\")\n",
    "    elif kind in {\"on_chat_model_start\"}:\n",
    "        print(\"\\nLLM流开始:\")\n",
    "    elif kind in {\"on_chat_model_end\"}:\n",
    "        print(\"\\nLLM流结束.\")\n",
    "    elif kind == \"on_retriever_end\":\n",
    "        print(\"\\nRAG检索结果:\")\n",
    "        print(event[\"data\"][\"output\"][\"documents\"])\n",
    "    elif kind == \"on_tool_end\":\n",
    "        print(f\"工具调用结束: {event['name']}\")\n",
    "    else:\n",
    "        pass"
   ]
  },
  {
   "cell_type": "code",
   "execution_count": 152,
   "id": "b7b444ea-f787-4421-a94c-e48dc587b065",
   "metadata": {
    "scrolled": true
   },
   "outputs": [
    {
     "data": {
      "text/plain": [
       "[{'event': 'on_chain_start',\n",
       "  'run_id': 'dee1e825-cf5c-46ed-a703-84263b1ee598',\n",
       "  'name': 'RunnableSequence',\n",
       "  'tags': [],\n",
       "  'metadata': {},\n",
       "  'data': {'input': '张朝阳在哪里上班？'}},\n",
       " {'event': 'on_chain_start',\n",
       "  'name': 'RunnableParallel<context,question>',\n",
       "  'run_id': 'e7db3803-183a-4b5a-8fe7-f4e4a695eaf9',\n",
       "  'tags': ['seq:step:1'],\n",
       "  'metadata': {},\n",
       "  'data': {}},\n",
       " {'event': 'on_retriever_start',\n",
       "  'name': '本地检索',\n",
       "  'run_id': '20408b6e-8e81-4b54-9cdf-f8f43dda85ce',\n",
       "  'tags': ['map:key:context', 'Chroma', 'OpenAIEmbeddings'],\n",
       "  'metadata': {},\n",
       "  'data': {'input': {'query': '张朝阳在哪里上班？'}}},\n",
       " {'event': 'on_chain_start',\n",
       "  'name': 'RunnablePassthrough',\n",
       "  'run_id': 'eeb62b00-fffe-4b86-a88b-b77d3967ff9e',\n",
       "  'tags': ['map:key:question'],\n",
       "  'metadata': {},\n",
       "  'data': {}},\n",
       " {'event': 'on_chain_stream',\n",
       "  'name': 'RunnablePassthrough',\n",
       "  'run_id': 'eeb62b00-fffe-4b86-a88b-b77d3967ff9e',\n",
       "  'tags': ['map:key:question'],\n",
       "  'metadata': {},\n",
       "  'data': {'chunk': '张朝阳在哪里上班？'}},\n",
       " {'event': 'on_chain_stream',\n",
       "  'name': 'RunnableParallel<context,question>',\n",
       "  'run_id': 'e7db3803-183a-4b5a-8fe7-f4e4a695eaf9',\n",
       "  'tags': ['seq:step:1'],\n",
       "  'metadata': {},\n",
       "  'data': {'chunk': {'question': '张朝阳在哪里上班？'}}},\n",
       " {'event': 'on_chain_end',\n",
       "  'name': 'RunnablePassthrough',\n",
       "  'run_id': 'eeb62b00-fffe-4b86-a88b-b77d3967ff9e',\n",
       "  'tags': ['map:key:question'],\n",
       "  'metadata': {},\n",
       "  'data': {'input': '张朝阳在哪里上班？', 'output': '张朝阳在哪里上班？'}},\n",
       " {'event': 'on_retriever_end',\n",
       "  'name': '本地检索',\n",
       "  'run_id': '20408b6e-8e81-4b54-9cdf-f8f43dda85ce',\n",
       "  'tags': ['map:key:context', 'Chroma', 'OpenAIEmbeddings'],\n",
       "  'metadata': {},\n",
       "  'data': {'input': {'query': '张朝阳在哪里上班？'},\n",
       "   'output': {'documents': [Document(page_content='张朝阳在搜狐公司工作'),\n",
       "     Document(page_content='张朝阳在搜狐公司工作')]}}},\n",
       " {'event': 'on_chain_stream',\n",
       "  'name': 'RunnableParallel<context,question>',\n",
       "  'run_id': 'e7db3803-183a-4b5a-8fe7-f4e4a695eaf9',\n",
       "  'tags': ['seq:step:1'],\n",
       "  'metadata': {},\n",
       "  'data': {'chunk': {'context': [Document(page_content='张朝阳在搜狐公司工作'),\n",
       "     Document(page_content='张朝阳在搜狐公司工作')]}}},\n",
       " {'event': 'on_chain_end',\n",
       "  'name': 'RunnableParallel<context,question>',\n",
       "  'run_id': 'e7db3803-183a-4b5a-8fe7-f4e4a695eaf9',\n",
       "  'tags': ['seq:step:1'],\n",
       "  'metadata': {},\n",
       "  'data': {'input': '张朝阳在哪里上班？',\n",
       "   'output': {'question': '张朝阳在哪里上班？',\n",
       "    'context': [Document(page_content='张朝阳在搜狐公司工作'),\n",
       "     Document(page_content='张朝阳在搜狐公司工作')]}}},\n",
       " {'event': 'on_prompt_start',\n",
       "  'name': 'ChatPromptTemplate',\n",
       "  'run_id': 'f9184116-a060-4bb3-8339-655b102adb19',\n",
       "  'tags': ['seq:step:2'],\n",
       "  'metadata': {},\n",
       "  'data': {'input': {'question': '张朝阳在哪里上班？',\n",
       "    'context': [Document(page_content='张朝阳在搜狐公司工作'),\n",
       "     Document(page_content='张朝阳在搜狐公司工作')]}}},\n",
       " {'event': 'on_prompt_end',\n",
       "  'name': 'ChatPromptTemplate',\n",
       "  'run_id': 'f9184116-a060-4bb3-8339-655b102adb19',\n",
       "  'tags': ['seq:step:2'],\n",
       "  'metadata': {},\n",
       "  'data': {'input': {'question': '张朝阳在哪里上班？',\n",
       "    'context': [Document(page_content='张朝阳在搜狐公司工作'),\n",
       "     Document(page_content='张朝阳在搜狐公司工作')]},\n",
       "   'output': ChatPromptValue(messages=[HumanMessage(content=\"基于以下内容回答问题：\\n[Document(page_content='张朝阳在搜狐公司工作'), Document(page_content='张朝阳在搜狐公司工作')]\\n\\nQuestion: 张朝阳在哪里上班？\\n\")])}},\n",
       " {'event': 'on_chat_model_start',\n",
       "  'name': 'LLM',\n",
       "  'run_id': 'dbfe282b-67a1-4fc2-8c71-d3f60496c08f',\n",
       "  'tags': ['seq:step:3'],\n",
       "  'metadata': {},\n",
       "  'data': {'input': {'messages': [[HumanMessage(content=\"基于以下内容回答问题：\\n[Document(page_content='张朝阳在搜狐公司工作'), Document(page_content='张朝阳在搜狐公司工作')]\\n\\nQuestion: 张朝阳在哪里上班？\\n\")]]}}},\n",
       " {'event': 'on_parser_start',\n",
       "  'name': 'StrOutputParser',\n",
       "  'run_id': '80e932e9-00da-491e-b7c5-03edc28706cf',\n",
       "  'tags': ['seq:step:4'],\n",
       "  'metadata': {},\n",
       "  'data': {}},\n",
       " {'event': 'on_parser_stream',\n",
       "  'name': 'StrOutputParser',\n",
       "  'run_id': '80e932e9-00da-491e-b7c5-03edc28706cf',\n",
       "  'tags': ['seq:step:4'],\n",
       "  'metadata': {},\n",
       "  'data': {'chunk': ''}},\n",
       " {'event': 'on_chain_stream',\n",
       "  'run_id': 'dee1e825-cf5c-46ed-a703-84263b1ee598',\n",
       "  'tags': [],\n",
       "  'metadata': {},\n",
       "  'name': 'RunnableSequence',\n",
       "  'data': {'chunk': ''}},\n",
       " {'event': 'on_chat_model_stream',\n",
       "  'name': 'LLM',\n",
       "  'run_id': 'dbfe282b-67a1-4fc2-8c71-d3f60496c08f',\n",
       "  'tags': ['seq:step:3'],\n",
       "  'metadata': {},\n",
       "  'data': {'chunk': AIMessageChunk(content='')}},\n",
       " {'event': 'on_parser_stream',\n",
       "  'name': 'StrOutputParser',\n",
       "  'run_id': '80e932e9-00da-491e-b7c5-03edc28706cf',\n",
       "  'tags': ['seq:step:4'],\n",
       "  'metadata': {},\n",
       "  'data': {'chunk': '张'}},\n",
       " {'event': 'on_chain_stream',\n",
       "  'run_id': 'dee1e825-cf5c-46ed-a703-84263b1ee598',\n",
       "  'tags': [],\n",
       "  'metadata': {},\n",
       "  'name': 'RunnableSequence',\n",
       "  'data': {'chunk': '张'}},\n",
       " {'event': 'on_chat_model_stream',\n",
       "  'name': 'LLM',\n",
       "  'run_id': 'dbfe282b-67a1-4fc2-8c71-d3f60496c08f',\n",
       "  'tags': ['seq:step:3'],\n",
       "  'metadata': {},\n",
       "  'data': {'chunk': AIMessageChunk(content='张')}},\n",
       " {'event': 'on_parser_stream',\n",
       "  'name': 'StrOutputParser',\n",
       "  'run_id': '80e932e9-00da-491e-b7c5-03edc28706cf',\n",
       "  'tags': ['seq:step:4'],\n",
       "  'metadata': {},\n",
       "  'data': {'chunk': '朝'}},\n",
       " {'event': 'on_chain_stream',\n",
       "  'run_id': 'dee1e825-cf5c-46ed-a703-84263b1ee598',\n",
       "  'tags': [],\n",
       "  'metadata': {},\n",
       "  'name': 'RunnableSequence',\n",
       "  'data': {'chunk': '朝'}},\n",
       " {'event': 'on_chat_model_stream',\n",
       "  'name': 'LLM',\n",
       "  'run_id': 'dbfe282b-67a1-4fc2-8c71-d3f60496c08f',\n",
       "  'tags': ['seq:step:3'],\n",
       "  'metadata': {},\n",
       "  'data': {'chunk': AIMessageChunk(content='朝')}},\n",
       " {'event': 'on_parser_stream',\n",
       "  'name': 'StrOutputParser',\n",
       "  'run_id': '80e932e9-00da-491e-b7c5-03edc28706cf',\n",
       "  'tags': ['seq:step:4'],\n",
       "  'metadata': {},\n",
       "  'data': {'chunk': '阳'}},\n",
       " {'event': 'on_chain_stream',\n",
       "  'run_id': 'dee1e825-cf5c-46ed-a703-84263b1ee598',\n",
       "  'tags': [],\n",
       "  'metadata': {},\n",
       "  'name': 'RunnableSequence',\n",
       "  'data': {'chunk': '阳'}},\n",
       " {'event': 'on_chat_model_stream',\n",
       "  'name': 'LLM',\n",
       "  'run_id': 'dbfe282b-67a1-4fc2-8c71-d3f60496c08f',\n",
       "  'tags': ['seq:step:3'],\n",
       "  'metadata': {},\n",
       "  'data': {'chunk': AIMessageChunk(content='阳')}},\n",
       " {'event': 'on_parser_stream',\n",
       "  'name': 'StrOutputParser',\n",
       "  'run_id': '80e932e9-00da-491e-b7c5-03edc28706cf',\n",
       "  'tags': ['seq:step:4'],\n",
       "  'metadata': {},\n",
       "  'data': {'chunk': '在'}},\n",
       " {'event': 'on_chain_stream',\n",
       "  'run_id': 'dee1e825-cf5c-46ed-a703-84263b1ee598',\n",
       "  'tags': [],\n",
       "  'metadata': {},\n",
       "  'name': 'RunnableSequence',\n",
       "  'data': {'chunk': '在'}},\n",
       " {'event': 'on_chat_model_stream',\n",
       "  'name': 'LLM',\n",
       "  'run_id': 'dbfe282b-67a1-4fc2-8c71-d3f60496c08f',\n",
       "  'tags': ['seq:step:3'],\n",
       "  'metadata': {},\n",
       "  'data': {'chunk': AIMessageChunk(content='在')}},\n",
       " {'event': 'on_parser_stream',\n",
       "  'name': 'StrOutputParser',\n",
       "  'run_id': '80e932e9-00da-491e-b7c5-03edc28706cf',\n",
       "  'tags': ['seq:step:4'],\n",
       "  'metadata': {},\n",
       "  'data': {'chunk': '搜'}},\n",
       " {'event': 'on_chain_stream',\n",
       "  'run_id': 'dee1e825-cf5c-46ed-a703-84263b1ee598',\n",
       "  'tags': [],\n",
       "  'metadata': {},\n",
       "  'name': 'RunnableSequence',\n",
       "  'data': {'chunk': '搜'}},\n",
       " {'event': 'on_chat_model_stream',\n",
       "  'name': 'LLM',\n",
       "  'run_id': 'dbfe282b-67a1-4fc2-8c71-d3f60496c08f',\n",
       "  'tags': ['seq:step:3'],\n",
       "  'metadata': {},\n",
       "  'data': {'chunk': AIMessageChunk(content='搜')}},\n",
       " {'event': 'on_parser_stream',\n",
       "  'name': 'StrOutputParser',\n",
       "  'run_id': '80e932e9-00da-491e-b7c5-03edc28706cf',\n",
       "  'tags': ['seq:step:4'],\n",
       "  'metadata': {},\n",
       "  'data': {'chunk': '狐'}},\n",
       " {'event': 'on_chain_stream',\n",
       "  'run_id': 'dee1e825-cf5c-46ed-a703-84263b1ee598',\n",
       "  'tags': [],\n",
       "  'metadata': {},\n",
       "  'name': 'RunnableSequence',\n",
       "  'data': {'chunk': '狐'}},\n",
       " {'event': 'on_chat_model_stream',\n",
       "  'name': 'LLM',\n",
       "  'run_id': 'dbfe282b-67a1-4fc2-8c71-d3f60496c08f',\n",
       "  'tags': ['seq:step:3'],\n",
       "  'metadata': {},\n",
       "  'data': {'chunk': AIMessageChunk(content='狐')}},\n",
       " {'event': 'on_parser_stream',\n",
       "  'name': 'StrOutputParser',\n",
       "  'run_id': '80e932e9-00da-491e-b7c5-03edc28706cf',\n",
       "  'tags': ['seq:step:4'],\n",
       "  'metadata': {},\n",
       "  'data': {'chunk': '公司'}},\n",
       " {'event': 'on_chain_stream',\n",
       "  'run_id': 'dee1e825-cf5c-46ed-a703-84263b1ee598',\n",
       "  'tags': [],\n",
       "  'metadata': {},\n",
       "  'name': 'RunnableSequence',\n",
       "  'data': {'chunk': '公司'}},\n",
       " {'event': 'on_chat_model_stream',\n",
       "  'name': 'LLM',\n",
       "  'run_id': 'dbfe282b-67a1-4fc2-8c71-d3f60496c08f',\n",
       "  'tags': ['seq:step:3'],\n",
       "  'metadata': {},\n",
       "  'data': {'chunk': AIMessageChunk(content='公司')}},\n",
       " {'event': 'on_parser_stream',\n",
       "  'name': 'StrOutputParser',\n",
       "  'run_id': '80e932e9-00da-491e-b7c5-03edc28706cf',\n",
       "  'tags': ['seq:step:4'],\n",
       "  'metadata': {},\n",
       "  'data': {'chunk': '工'}},\n",
       " {'event': 'on_chain_stream',\n",
       "  'run_id': 'dee1e825-cf5c-46ed-a703-84263b1ee598',\n",
       "  'tags': [],\n",
       "  'metadata': {},\n",
       "  'name': 'RunnableSequence',\n",
       "  'data': {'chunk': '工'}},\n",
       " {'event': 'on_chat_model_stream',\n",
       "  'name': 'LLM',\n",
       "  'run_id': 'dbfe282b-67a1-4fc2-8c71-d3f60496c08f',\n",
       "  'tags': ['seq:step:3'],\n",
       "  'metadata': {},\n",
       "  'data': {'chunk': AIMessageChunk(content='工')}},\n",
       " {'event': 'on_parser_stream',\n",
       "  'name': 'StrOutputParser',\n",
       "  'run_id': '80e932e9-00da-491e-b7c5-03edc28706cf',\n",
       "  'tags': ['seq:step:4'],\n",
       "  'metadata': {},\n",
       "  'data': {'chunk': '作'}},\n",
       " {'event': 'on_chain_stream',\n",
       "  'run_id': 'dee1e825-cf5c-46ed-a703-84263b1ee598',\n",
       "  'tags': [],\n",
       "  'metadata': {},\n",
       "  'name': 'RunnableSequence',\n",
       "  'data': {'chunk': '作'}},\n",
       " {'event': 'on_chat_model_stream',\n",
       "  'name': 'LLM',\n",
       "  'run_id': 'dbfe282b-67a1-4fc2-8c71-d3f60496c08f',\n",
       "  'tags': ['seq:step:3'],\n",
       "  'metadata': {},\n",
       "  'data': {'chunk': AIMessageChunk(content='作')}},\n",
       " {'event': 'on_parser_stream',\n",
       "  'name': 'StrOutputParser',\n",
       "  'run_id': '80e932e9-00da-491e-b7c5-03edc28706cf',\n",
       "  'tags': ['seq:step:4'],\n",
       "  'metadata': {},\n",
       "  'data': {'chunk': '。'}},\n",
       " {'event': 'on_chain_stream',\n",
       "  'run_id': 'dee1e825-cf5c-46ed-a703-84263b1ee598',\n",
       "  'tags': [],\n",
       "  'metadata': {},\n",
       "  'name': 'RunnableSequence',\n",
       "  'data': {'chunk': '。'}},\n",
       " {'event': 'on_chat_model_stream',\n",
       "  'name': 'LLM',\n",
       "  'run_id': 'dbfe282b-67a1-4fc2-8c71-d3f60496c08f',\n",
       "  'tags': ['seq:step:3'],\n",
       "  'metadata': {},\n",
       "  'data': {'chunk': AIMessageChunk(content='。')}},\n",
       " {'event': 'on_parser_stream',\n",
       "  'name': 'StrOutputParser',\n",
       "  'run_id': '80e932e9-00da-491e-b7c5-03edc28706cf',\n",
       "  'tags': ['seq:step:4'],\n",
       "  'metadata': {},\n",
       "  'data': {'chunk': ''}},\n",
       " {'event': 'on_chain_stream',\n",
       "  'run_id': 'dee1e825-cf5c-46ed-a703-84263b1ee598',\n",
       "  'tags': [],\n",
       "  'metadata': {},\n",
       "  'name': 'RunnableSequence',\n",
       "  'data': {'chunk': ''}},\n",
       " {'event': 'on_chat_model_stream',\n",
       "  'name': 'LLM',\n",
       "  'run_id': 'dbfe282b-67a1-4fc2-8c71-d3f60496c08f',\n",
       "  'tags': ['seq:step:3'],\n",
       "  'metadata': {},\n",
       "  'data': {'chunk': AIMessageChunk(content='')}},\n",
       " {'event': 'on_chat_model_end',\n",
       "  'name': 'LLM',\n",
       "  'run_id': 'dbfe282b-67a1-4fc2-8c71-d3f60496c08f',\n",
       "  'tags': ['seq:step:3'],\n",
       "  'metadata': {},\n",
       "  'data': {'input': {'messages': [[HumanMessage(content=\"基于以下内容回答问题：\\n[Document(page_content='张朝阳在搜狐公司工作'), Document(page_content='张朝阳在搜狐公司工作')]\\n\\nQuestion: 张朝阳在哪里上班？\\n\")]]},\n",
       "   'output': {'generations': [[{'text': '张朝阳在搜狐公司工作。',\n",
       "       'generation_info': {'finish_reason': 'stop'},\n",
       "       'type': 'ChatGenerationChunk',\n",
       "       'message': AIMessageChunk(content='张朝阳在搜狐公司工作。')}]],\n",
       "    'llm_output': None,\n",
       "    'run': None}}},\n",
       " {'event': 'on_parser_end',\n",
       "  'name': 'StrOutputParser',\n",
       "  'run_id': '80e932e9-00da-491e-b7c5-03edc28706cf',\n",
       "  'tags': ['seq:step:4'],\n",
       "  'metadata': {},\n",
       "  'data': {'input': AIMessageChunk(content='张朝阳在搜狐公司工作。'),\n",
       "   'output': '张朝阳在搜狐公司工作。'}}]"
      ]
     },
     "execution_count": 152,
     "metadata": {},
     "output_type": "execute_result"
    }
   ],
   "source": [
    "events[0:-1]"
   ]
  },
  {
   "cell_type": "markdown",
   "id": "a04d0d8f-7a17-4f89-be3d-29c3a84792f7",
   "metadata": {},
   "source": [
    "### 在工具中支持事件流"
   ]
  },
  {
   "cell_type": "markdown",
   "id": "f2b89e6b-bcb0-4ee0-ad79-ef4e50d7d8c8",
   "metadata": {},
   "source": [
    "<div class=\"alert-warning\" style=\"padding: 5px\">\n",
    "    <b>注意：</b><br>\n",
    "如果工具中使用astream_events，必须传播 callbacks 参数！\n",
    "</div>"
   ]
  },
  {
   "cell_type": "code",
   "execution_count": 171,
   "id": "7c8b4a05-cfda-4677-b2eb-86cee8e84f32",
   "metadata": {},
   "outputs": [
    {
     "name": "stdout",
     "output_type": "stream",
     "text": [
      "{'event': 'on_tool_start', 'run_id': '154f57ea-8b3c-4260-8a64-6d85cc1edb46', 'name': 'bad_tool', 'tags': [], 'metadata': {}, 'data': {'input': 'hello'}}\n",
      "{'event': 'on_tool_stream', 'run_id': '154f57ea-8b3c-4260-8a64-6d85cc1edb46', 'tags': [], 'metadata': {}, 'name': 'bad_tool', 'data': {'chunk': 'olleh'}}\n",
      "{'event': 'on_tool_end', 'name': 'bad_tool', 'run_id': '154f57ea-8b3c-4260-8a64-6d85cc1edb46', 'tags': [], 'metadata': {}, 'data': {'output': 'olleh'}}\n"
     ]
    }
   ],
   "source": [
    "from langchain_core.runnables import RunnableLambda\n",
    "from langchain_core.tools import tool\n",
    "\n",
    "def reverse_word(word: str):\n",
    "    return word[::-1]\n",
    "\n",
    "reverse_word = RunnableLambda(reverse_word)\n",
    "\n",
    "@tool\n",
    "def bad_tool(word: str):\n",
    "    \"\"\"工具定义中没有传播 callbacks\"\"\"\n",
    "    return reverse_word.invoke(word)\n",
    "\n",
    "async for event in bad_tool.astream_events(\"hello\", version=\"v1\"):\n",
    "    print(event)"
   ]
  },
  {
   "cell_type": "markdown",
   "id": "0041827e-8450-4cff-9098-6a7a7b765eca",
   "metadata": {},
   "source": [
    "如果没有正确传播 **callbacks** 入参，则不会生成 **reverse_word** 相关的事件流。<br>\n",
    "注意上面代码与下面代码的输出差异：**name** 为 **reverse_word** 的两行事件流日志。"
   ]
  },
  {
   "cell_type": "code",
   "execution_count": 172,
   "id": "c9b51888-41b8-4fff-a367-cab22bb58bf9",
   "metadata": {},
   "outputs": [
    {
     "name": "stdout",
     "output_type": "stream",
     "text": [
      "{'event': 'on_tool_start', 'run_id': '5c984fcd-1604-4bca-a3b4-b00dacc86555', 'name': 'correct_tool', 'tags': [], 'metadata': {}, 'data': {'input': 'hello'}}\n",
      "{'event': 'on_chain_start', 'name': 'reverse_word', 'run_id': '6390ba50-8c0d-494b-bb92-6c18ea7061b6', 'tags': [], 'metadata': {}, 'data': {'input': 'hello'}}\n",
      "{'event': 'on_chain_end', 'name': 'reverse_word', 'run_id': '6390ba50-8c0d-494b-bb92-6c18ea7061b6', 'tags': [], 'metadata': {}, 'data': {'input': 'hello', 'output': 'olleh'}}\n",
      "{'event': 'on_tool_stream', 'run_id': '5c984fcd-1604-4bca-a3b4-b00dacc86555', 'tags': [], 'metadata': {}, 'name': 'correct_tool', 'data': {'chunk': 'olleh'}}\n",
      "{'event': 'on_tool_end', 'name': 'correct_tool', 'run_id': '5c984fcd-1604-4bca-a3b4-b00dacc86555', 'tags': [], 'metadata': {}, 'data': {'output': 'olleh'}}\n"
     ]
    }
   ],
   "source": [
    "@tool\n",
    "def correct_tool(word: str, callbacks):\n",
    "    \"\"\"工具定义中正确传播了 callbacks 入参\"\"\"\n",
    "    return reverse_word.invoke(word, {\"callbacks\": callbacks})\n",
    "\n",
    "async for event in correct_tool.astream_events(\"hello\", version=\"v1\"):\n",
    "    print(event)"
   ]
  },
  {
   "cell_type": "markdown",
   "id": "0a97cfc5-d128-4036-a6fe-26a84822e20e",
   "metadata": {},
   "source": [
    "## 智能体中的流式输出"
   ]
  },
  {
   "cell_type": "markdown",
   "id": "5cba0e4c-cd16-4d8f-8fb5-c3b623757e67",
   "metadata": {},
   "source": [
    "### 找猫的游戏"
   ]
  },
  {
   "cell_type": "code",
   "execution_count": 277,
   "id": "42317283-430b-4b08-a568-581566f021a0",
   "metadata": {},
   "outputs": [],
   "source": [
    "from langchain import hub\n",
    "from langchain.agents import AgentExecutor, create_openai_tools_agent\n",
    "from langchain.prompts import ChatPromptTemplate\n",
    "from langchain.tools import tool\n",
    "from langchain_core.callbacks import Callbacks\n",
    "from langchain_openai import ChatOpenAI"
   ]
  },
  {
   "cell_type": "code",
   "execution_count": 278,
   "id": "c603cc34-982b-497d-b09a-481387ce6f18",
   "metadata": {},
   "outputs": [],
   "source": [
    "model = ChatOpenAI(model=\"gpt-3.5-turbo-1106\", temperature=0, streaming=True).bind(seed=42)"
   ]
  },
  {
   "cell_type": "code",
   "execution_count": 279,
   "id": "0ab65625-f1f4-4bd2-bd77-ffb07022b779",
   "metadata": {},
   "outputs": [],
   "source": [
    "import random\n",
    "\n",
    "@tool\n",
    "async def where_is_cat_hiding(idea: str) -> str:\n",
    "    \"\"\"从这些地方选择猫躲藏的地方\"\"\"\n",
    "    return random.choice([\"在床底吗？\", \"在书架上吗？\"])"
   ]
  },
  {
   "cell_type": "code",
   "execution_count": 280,
   "id": "81b69207-5530-4097-a525-16ebd65f9ff6",
   "metadata": {},
   "outputs": [],
   "source": [
    "@tool\n",
    "async def get_items(place: str) -> str:\n",
    "    \"\"\"使用这个工具去仔细查看猫躲藏的地方\"\"\"\n",
    "    if \"床底\" in place:\n",
    "        return \"拖鞋、袜子和脏东西，还有一只猫\"\n",
    "    if \"书架\" in place:\n",
    "        return \"书、铅笔还有绘本，但没发现猫\"\n",
    "    else:  # if the agent decides to ask about a different place\n",
    "        return \"算了，找不到\""
   ]
  },
  {
   "cell_type": "code",
   "execution_count": 281,
   "id": "9d806eb6-d1c0-429f-88db-6e5f4d992baa",
   "metadata": {},
   "outputs": [],
   "source": [
    "# Get the prompt to use - you can modify this!\n",
    "prompt = hub.pull(\"hwchase17/openai-tools-agent\")\n",
    "# print(prompt.messages) -- to see the prompt\n",
    "tools = [get_items, where_is_cat_hiding]\n",
    "agent = create_openai_tools_agent(\n",
    "    model.with_config({\"tags\": [\"agent_llm\"]}),\n",
    "    tools,\n",
    "    prompt\n",
    ")"
   ]
  },
  {
   "cell_type": "code",
   "execution_count": 282,
   "id": "256d278f-5aa0-4f3f-963a-9ca175e15038",
   "metadata": {},
   "outputs": [],
   "source": [
    "agent_executor = AgentExecutor(agent=agent, tools=tools).with_config({\"run_name\": \"Agent\"})"
   ]
  },
  {
   "cell_type": "markdown",
   "id": "62506e26-5a38-4e10-87ef-97c32854ee6f",
   "metadata": {},
   "source": [
    "### ainvoke"
   ]
  },
  {
   "cell_type": "code",
   "execution_count": 284,
   "id": "aa91957f-0865-4690-89af-a578a754454b",
   "metadata": {},
   "outputs": [
    {
     "data": {
      "text/plain": [
       "{'input': '猫呢?', 'output': '猫就躲在床底下！'}"
      ]
     },
     "execution_count": 284,
     "metadata": {},
     "output_type": "execute_result"
    }
   ],
   "source": [
    "await agent_executor.ainvoke({\"input\": \"猫呢?\"})"
   ]
  },
  {
   "cell_type": "markdown",
   "id": "144ed693-d325-4513-aee5-dd4c4857bfd0",
   "metadata": {},
   "source": [
    "### astream"
   ]
  },
  {
   "cell_type": "code",
   "execution_count": 283,
   "id": "f7db7af3-3545-43e0-985c-5bffab5730bf",
   "metadata": {},
   "outputs": [
    {
     "name": "stdout",
     "output_type": "stream",
     "text": [
      "Calling Tool: `where_is_cat_hiding` with input `{'idea': '在书架上'}`\n",
      "--------------------------------------------------------------------------------\n",
      "Tool Result: `在床底吗？`\n",
      "--------------------------------------------------------------------------------\n",
      "Calling Tool: `where_is_cat_hiding` with input `{'idea': '在床底'}`\n",
      "--------------------------------------------------------------------------------\n",
      "Tool Result: `在床底吗？`\n",
      "--------------------------------------------------------------------------------\n",
      "Calling Tool: `where_is_cat_hiding` with input `{'idea': '在床底'}`\n",
      "--------------------------------------------------------------------------------\n",
      "Tool Result: `在床底吗？`\n",
      "--------------------------------------------------------------------------------\n",
      "Calling Tool: `where_is_cat_hiding` with input `{'idea': '在床底'}`\n",
      "--------------------------------------------------------------------------------\n",
      "Tool Result: `在床底吗？`\n",
      "--------------------------------------------------------------------------------\n",
      "Calling Tool: `get_items` with input `{'place': '书架'}`\n",
      "--------------------------------------------------------------------------------\n",
      "Calling Tool: `get_items` with input `{'place': '床底'}`\n",
      "--------------------------------------------------------------------------------\n",
      "Tool Result: `书、铅笔还有绘本，但没发现猫`\n",
      "--------------------------------------------------------------------------------\n",
      "Tool Result: `拖鞋、袜子和脏东西，还有一只猫`\n",
      "--------------------------------------------------------------------------------\n",
      "Final Output: 猫并没有在书架上，但我在床底找到了一只猫。\n",
      "--------------------------------------------------------------------------------\n"
     ]
    }
   ],
   "source": [
    "async for chunk in agent_executor.astream({\"input\": \"猫呢?\"}):\n",
    "    # Agent Action\n",
    "    if \"actions\" in chunk:\n",
    "        for action in chunk[\"actions\"]:\n",
    "            print(f\"Calling Tool: `{action.tool}` with input `{action.tool_input}`\")\n",
    "    # Observation\n",
    "    elif \"steps\" in chunk:\n",
    "        for step in chunk[\"steps\"]:\n",
    "            print(f\"Tool Result: `{step.observation}`\")\n",
    "    # Final result\n",
    "    elif \"output\" in chunk:\n",
    "        print(f'Final Output: {chunk[\"output\"]}')\n",
    "    else:\n",
    "        raise ValueError()\n",
    "    print(\"-\" * 80)"
   ]
  },
  {
   "cell_type": "markdown",
   "id": "2d274b9a-bec0-43f8-ab71-4b4305284c3c",
   "metadata": {},
   "source": [
    "### astream_event"
   ]
  },
  {
   "cell_type": "code",
   "execution_count": 290,
   "id": "47932470-080d-4f67-8cd6-6400447bcf6d",
   "metadata": {},
   "outputs": [
    {
     "name": "stdout",
     "output_type": "stream",
     "text": [
      "__________\n",
      "工具调用结束:\n",
      "where_is_cat_hiding\n",
      "{'input': {'idea': '在书架上'}, 'output': '在书架上吗？'}\n",
      "_让_我_去_书_架_上_找_找_看_。_________\n",
      "工具调用结束:\n",
      "get_items\n",
      "{'input': {'place': '书架'}, 'output': '书、铅笔还有绘本，但没发现猫'}\n",
      "_在_书_架_上_没有_找_到_猫_。_我_会_继_续_搜索_其他_地_方_。____________\n",
      "工具调用结束:\n",
      "where_is_cat_hiding\n",
      "{'input': {'idea': '在沙发底下'}, 'output': '在书架上吗？'}\n",
      "_不_是_，在_沙_发_底_下_。_我_会_去_看_看_。___________\n",
      "工具调用结束:\n",
      "get_items\n",
      "{'input': {'place': '沙发底下'}, 'output': '算了，找不到'}\n",
      "_在_沙_发_底_下_也_没有_找_到_猫_。_让_我_再_想_想_其他_地_方_。_____________\n",
      "工具调用结束:\n",
      "where_is_cat_hiding\n",
      "{'input': {'idea': '在厨房柜子里'}, 'output': '在床底吗？'}\n",
      "_不_是_，在_厨_房_柜_子_里_。_我_会_去_看_看_。___________\n",
      "工具调用结束:\n",
      "get_items\n",
      "{'input': {'place': '厨房柜子'}, 'output': '算了，找不到'}\n",
      "_在_厨_房_柜_子_里_也_没有_找_到_猫_。_让_我_再_想_想_其他_地_方_。____________\n",
      "工具调用结束:\n",
      "where_is_cat_hiding\n",
      "{'input': {'idea': '在花盆后面'}, 'output': '在书架上吗？'}\n",
      "_不_是_，在_花_盆_后_面_。_我_会_去_看_看_。_________\n",
      "工具调用结束:\n",
      "get_items\n",
      "{'input': {'place': '花盆'}, 'output': '算了，找不到'}\n",
      "_在_花_盆_后_面_也_没有_找_到_猫_。_让_我_再_想_想_其他_地_方_。__________\n",
      "工具调用结束:\n",
      "where_is_cat_hiding\n",
      "{'input': {'idea': '在床底'}, 'output': '在书架上吗？'}\n",
      "_不_是_，在_床_底_。_我_会_去_看_看_。_________\n",
      "工具调用结束:\n",
      "get_items\n",
      "{'input': {'place': '床底'}, 'output': '拖鞋、袜子和脏东西，还有一只猫'}\n",
      "_在_床_底_找_到_了_猫_！_它_躲_在_那_里_。_任务_完成_！__"
     ]
    }
   ],
   "source": [
    "events = []\n",
    "async for event in agent_executor.astream_events({\"input\": \"猫呢?\"}, version=\"v1\"):\n",
    "    events.append(event)\n",
    "    kind = event[\"event\"]\n",
    "    if kind == \"on_chat_model_stream\":\n",
    "        print(event[\"data\"][\"chunk\"].content, end=\"_\")\n",
    "    elif kind == \"on_retriever_end\":\n",
    "        print(\"\\nRAG检索结果:\")\n",
    "        print(event[\"data\"][\"output\"][\"documents\"])\n",
    "    elif kind == \"on_tool_end\":\n",
    "        print(\"\\n工具调用结束:\")\n",
    "        print(event['name'])\n",
    "        print(event['data'])\n",
    "    else:\n",
    "        pass"
   ]
  },
  {
   "cell_type": "code",
   "execution_count": null,
   "id": "ff74d65e-0db9-41a4-aef4-f5b2016bc236",
   "metadata": {},
   "outputs": [],
   "source": [
    "events"
   ]
  },
  {
   "cell_type": "markdown",
   "id": "f771bd82-c211-4fa6-b319-7bdf98e4c1eb",
   "metadata": {},
   "source": [
    "## 更详细的流式日志"
   ]
  },
  {
   "cell_type": "markdown",
   "id": "fcb6381d-cb16-478d-b93b-32c29616be21",
   "metadata": {},
   "source": [
    "### astream_log"
   ]
  },
  {
   "cell_type": "markdown",
   "id": "967202d5-0f0c-4a95-9654-615a71c3de53",
   "metadata": {},
   "source": [
    "你可以通过 `include_names`/`include_tags`/`include_types` 来过滤想要包含的中间步骤日志，\n",
    "也可以通过 `exclude_names`/`exclue_tags`/`exclude_types`来排除。"
   ]
  },
  {
   "cell_type": "code",
   "execution_count": 32,
   "id": "543544bb-3de1-4c6b-aaf5-8b45c8bf7193",
   "metadata": {},
   "outputs": [
    {
     "name": "stdout",
     "output_type": "stream",
     "text": [
      "--------------------------------------------------------------------------------\n",
      "RunLogPatch({'op': 'replace',\n",
      "  'path': '',\n",
      "  'value': {'final_output': None,\n",
      "            'id': '6bcb8d1e-58ce-4d9f-80fb-ff9b3137637a',\n",
      "            'logs': {},\n",
      "            'name': 'RunnableSequence',\n",
      "            'streamed_output': [],\n",
      "            'type': 'chain'}})\n"
     ]
    },
    {
     "name": "stderr",
     "output_type": "stream",
     "text": [
      "Number of requested results 4 is greater than number of elements in index 1, updating n_results = 1\n"
     ]
    },
    {
     "name": "stdout",
     "output_type": "stream",
     "text": [
      "--------------------------------------------------------------------------------\n",
      "RunLogPatch({'op': 'add',\n",
      "  'path': '/logs/LLM',\n",
      "  'value': {'end_time': None,\n",
      "            'final_output': None,\n",
      "            'id': '3f2907fd-3a58-4290-b1bf-09c57b0308bd',\n",
      "            'metadata': {},\n",
      "            'name': 'LLM',\n",
      "            'start_time': '2024-02-15T11:44:49.534+00:00',\n",
      "            'streamed_output': [],\n",
      "            'streamed_output_str': [],\n",
      "            'tags': ['seq:step:3'],\n",
      "            'type': 'llm'}})\n",
      "--------------------------------------------------------------------------------\n",
      "RunLogPatch({'op': 'add', 'path': '/streamed_output/-', 'value': ''},\n",
      " {'op': 'replace', 'path': '/final_output', 'value': ''})\n",
      "--------------------------------------------------------------------------------\n",
      "RunLogPatch({'op': 'add', 'path': '/logs/LLM/streamed_output_str/-', 'value': ''},\n",
      " {'op': 'add',\n",
      "  'path': '/logs/LLM/streamed_output/-',\n",
      "  'value': AIMessageChunk(content='')})\n",
      "--------------------------------------------------------------------------------\n",
      "RunLogPatch({'op': 'add', 'path': '/streamed_output/-', 'value': '张'},\n",
      " {'op': 'replace', 'path': '/final_output', 'value': '张'})\n",
      "--------------------------------------------------------------------------------\n",
      "RunLogPatch({'op': 'add', 'path': '/logs/LLM/streamed_output_str/-', 'value': '张'},\n",
      " {'op': 'add',\n",
      "  'path': '/logs/LLM/streamed_output/-',\n",
      "  'value': AIMessageChunk(content='张')})\n",
      "--------------------------------------------------------------------------------\n",
      "RunLogPatch({'op': 'add', 'path': '/streamed_output/-', 'value': '朝'},\n",
      " {'op': 'replace', 'path': '/final_output', 'value': '张朝'})\n",
      "--------------------------------------------------------------------------------\n",
      "RunLogPatch({'op': 'add', 'path': '/logs/LLM/streamed_output_str/-', 'value': '朝'},\n",
      " {'op': 'add',\n",
      "  'path': '/logs/LLM/streamed_output/-',\n",
      "  'value': AIMessageChunk(content='朝')})\n",
      "--------------------------------------------------------------------------------\n",
      "RunLogPatch({'op': 'add', 'path': '/streamed_output/-', 'value': '阳'},\n",
      " {'op': 'replace', 'path': '/final_output', 'value': '张朝阳'})\n",
      "--------------------------------------------------------------------------------\n",
      "RunLogPatch({'op': 'add', 'path': '/logs/LLM/streamed_output_str/-', 'value': '阳'},\n",
      " {'op': 'add',\n",
      "  'path': '/logs/LLM/streamed_output/-',\n",
      "  'value': AIMessageChunk(content='阳')})\n",
      "--------------------------------------------------------------------------------\n",
      "RunLogPatch({'op': 'add', 'path': '/streamed_output/-', 'value': '在'},\n",
      " {'op': 'replace', 'path': '/final_output', 'value': '张朝阳在'})\n",
      "--------------------------------------------------------------------------------\n",
      "RunLogPatch({'op': 'add', 'path': '/logs/LLM/streamed_output_str/-', 'value': '在'},\n",
      " {'op': 'add',\n",
      "  'path': '/logs/LLM/streamed_output/-',\n",
      "  'value': AIMessageChunk(content='在')})\n",
      "--------------------------------------------------------------------------------\n",
      "RunLogPatch({'op': 'add', 'path': '/streamed_output/-', 'value': '搜'},\n",
      " {'op': 'replace', 'path': '/final_output', 'value': '张朝阳在搜'})\n",
      "--------------------------------------------------------------------------------\n",
      "RunLogPatch({'op': 'add', 'path': '/logs/LLM/streamed_output_str/-', 'value': '搜'},\n",
      " {'op': 'add',\n",
      "  'path': '/logs/LLM/streamed_output/-',\n",
      "  'value': AIMessageChunk(content='搜')})\n",
      "--------------------------------------------------------------------------------\n",
      "RunLogPatch({'op': 'add', 'path': '/streamed_output/-', 'value': '狐'},\n",
      " {'op': 'replace', 'path': '/final_output', 'value': '张朝阳在搜狐'})\n",
      "--------------------------------------------------------------------------------\n",
      "RunLogPatch({'op': 'add', 'path': '/logs/LLM/streamed_output_str/-', 'value': '狐'},\n",
      " {'op': 'add',\n",
      "  'path': '/logs/LLM/streamed_output/-',\n",
      "  'value': AIMessageChunk(content='狐')})\n",
      "--------------------------------------------------------------------------------\n",
      "RunLogPatch({'op': 'add', 'path': '/streamed_output/-', 'value': '公司'},\n",
      " {'op': 'replace', 'path': '/final_output', 'value': '张朝阳在搜狐公司'})\n",
      "--------------------------------------------------------------------------------\n",
      "RunLogPatch({'op': 'add', 'path': '/logs/LLM/streamed_output_str/-', 'value': '公司'},\n",
      " {'op': 'add',\n",
      "  'path': '/logs/LLM/streamed_output/-',\n",
      "  'value': AIMessageChunk(content='公司')})\n",
      "--------------------------------------------------------------------------------\n",
      "RunLogPatch({'op': 'add', 'path': '/streamed_output/-', 'value': '上'},\n",
      " {'op': 'replace', 'path': '/final_output', 'value': '张朝阳在搜狐公司上'})\n",
      "--------------------------------------------------------------------------------\n",
      "RunLogPatch({'op': 'add', 'path': '/logs/LLM/streamed_output_str/-', 'value': '上'},\n",
      " {'op': 'add',\n",
      "  'path': '/logs/LLM/streamed_output/-',\n",
      "  'value': AIMessageChunk(content='上')})\n",
      "--------------------------------------------------------------------------------\n",
      "RunLogPatch({'op': 'add', 'path': '/streamed_output/-', 'value': '班'},\n",
      " {'op': 'replace', 'path': '/final_output', 'value': '张朝阳在搜狐公司上班'})\n",
      "--------------------------------------------------------------------------------\n",
      "RunLogPatch({'op': 'add', 'path': '/logs/LLM/streamed_output_str/-', 'value': '班'},\n",
      " {'op': 'add',\n",
      "  'path': '/logs/LLM/streamed_output/-',\n",
      "  'value': AIMessageChunk(content='班')})\n",
      "--------------------------------------------------------------------------------\n",
      "RunLogPatch({'op': 'add', 'path': '/streamed_output/-', 'value': '。'},\n",
      " {'op': 'replace', 'path': '/final_output', 'value': '张朝阳在搜狐公司上班。'})\n",
      "--------------------------------------------------------------------------------\n",
      "RunLogPatch({'op': 'add', 'path': '/logs/LLM/streamed_output_str/-', 'value': '。'},\n",
      " {'op': 'add',\n",
      "  'path': '/logs/LLM/streamed_output/-',\n",
      "  'value': AIMessageChunk(content='。')})\n",
      "--------------------------------------------------------------------------------\n",
      "RunLogPatch({'op': 'add', 'path': '/streamed_output/-', 'value': ''})\n",
      "--------------------------------------------------------------------------------\n",
      "RunLogPatch({'op': 'add', 'path': '/logs/LLM/streamed_output_str/-', 'value': ''},\n",
      " {'op': 'add',\n",
      "  'path': '/logs/LLM/streamed_output/-',\n",
      "  'value': AIMessageChunk(content='')})\n",
      "--------------------------------------------------------------------------------\n",
      "RunLogPatch({'op': 'add',\n",
      "  'path': '/logs/LLM/final_output',\n",
      "  'value': {'generations': [[{'generation_info': {'finish_reason': 'stop'},\n",
      "                              'message': AIMessageChunk(content='张朝阳在搜狐公司上班。'),\n",
      "                              'text': '张朝阳在搜狐公司上班。',\n",
      "                              'type': 'ChatGenerationChunk'}]],\n",
      "            'llm_output': None,\n",
      "            'run': None}},\n",
      " {'op': 'add',\n",
      "  'path': '/logs/LLM/end_time',\n",
      "  'value': '2024-02-15T11:44:52.685+00:00'})\n"
     ]
    }
   ],
   "source": [
    "async for chunk in retrieval_chain.astream_log(\n",
    "    \"张朝阳在哪里上班？\",\n",
    "    version=\"v1\",\n",
    "    include_names=[\"本地检索\", \"LLM\"],\n",
    "    # include_tags=['Chroma'],\n",
    "):\n",
    "    print(\"-\" * 80)\n",
    "    print(chunk)"
   ]
  },
  {
   "cell_type": "markdown",
   "id": "e6179377-60c2-41a3-b728-ec7d5532648b",
   "metadata": {
    "editable": true,
    "slideshow": {
     "slide_type": ""
    },
    "tags": []
   },
   "source": [
    "### RunLogPatch"
   ]
  },
  {
   "cell_type": "markdown",
   "id": "fc2ef093-c3b6-4991-90bb-02c6f9372dce",
   "metadata": {},
   "source": [
    "你也可以按照`RunLogPatch`对象所包含的`ops`属性中的JSON结构，来精细控制打印的日志内容。"
   ]
  },
  {
   "cell_type": "code",
   "execution_count": 42,
   "id": "24c9d379-8737-4c4f-b6a3-0a5f957c8028",
   "metadata": {},
   "outputs": [
    {
     "name": "stderr",
     "output_type": "stream",
     "text": [
      "Number of requested results 4 is greater than number of elements in index 1, updating n_results = 1\n"
     ]
    },
    {
     "name": "stdout",
     "output_type": "stream",
     "text": [
      "_张_朝_阳_在_搜_狐_公司_上_班_。__"
     ]
    }
   ],
   "source": [
    "import json\n",
    "\n",
    "async for chunk in retrieval_chain.astream_log(\n",
    "    \"张朝阳在哪里上班？\", version=\"v1\", include_names=[\"本地检索\", \"LLM\"]\n",
    "):\n",
    "    for s in chunk.ops:\n",
    "        if(s['path'] == '/streamed_output/-'):\n",
    "            print(s['value'], end=\"_\", flush=True)\n",
    "        else:\n",
    "            pass"
   ]
  }
 ],
 "metadata": {
  "kernelspec": {
   "display_name": "langchani-book-py3.10-ipykernel",
   "language": "python",
   "name": "langchani-book-py3.10-ipykernel"
  },
  "language_info": {
   "codemirror_mode": {
    "name": "ipython",
    "version": 3
   },
   "file_extension": ".py",
   "mimetype": "text/x-python",
   "name": "python",
   "nbconvert_exporter": "python",
   "pygments_lexer": "ipython3",
   "version": "3.10.0"
  }
 },
 "nbformat": 4,
 "nbformat_minor": 5
}
