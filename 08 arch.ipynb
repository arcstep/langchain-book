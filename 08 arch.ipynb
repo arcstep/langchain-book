{
 "cells": [
  {
   "cell_type": "markdown",
   "id": "2be2c1f8-18eb-44ee-9760-dab03e479495",
   "metadata": {},
   "source": [
    "# langchain架构"
   ]
  },
  {
   "cell_type": "markdown",
   "id": "514b6cbb-e9d8-48ab-81d0-b0f459cbe58a",
   "metadata": {},
   "source": [
    "## Runnable及其派生类"
   ]
  },
  {
   "cell_type": "markdown",
   "id": "a9d94e3f-6146-4b43-bfda-ccaf2f3357d9",
   "metadata": {},
   "source": [
    "- Runnable（**LCEL**核心部份）\n",
    "    - RunnableSerializable（**LCEL**规则主要由**RunnableSequence**和**RunnableParallel**实现）\n",
    "\n",
    "        **配置能力:**\n",
    "        - RunnableBindingBase\n",
    "            - RunnableBinding（向Runnable实例传递参数）\n",
    "\n",
    "        **组装能力:**\n",
    "        - RunnablePassthrough（传递额外输入）\n",
    "        - RunnableSequence（实现顺序执行，可以用|符号或RunnableSequence来构造）\n",
    "        - RunnableParallel（实现并行执行，可以用Dict或RunnableParallel类来构造，别名RunnableMap）\n",
    "\n",
    "        **大模型:**\n",
    "        - BaseLanguageModel\n",
    "            - BaseLLM（派生其他大模型）\n",
    "                - LLM（派生其他大模型）\n",
    "                - OpenAIChat\n",
    "                - Tongyi\n",
    "\n",
    "        **提示语:**\n",
    "        - BasePromptTemplate `[Dict, PromptValue]`\n",
    "            - StringPromptTemplate（字符串模板）\n",
    "            - BaseChatPromptTemplate（对话模板）\n",
    "            - ImagePromptTemplate\n",
    "            - PipelinePromptTemplate\n",
    "\n",
    "        **检索器:**\n",
    "        - BaseRetriever `[RetrieverInput, RetrieverOutput]`（派生各类检索器）\n",
    "\n",
    "        **Tool:**\n",
    "        - BaseTool `[Union[str, Dict], Any]`（派生各类工具）\n",
    "\n",
    "        **输出解析:**      \n",
    "        - BaseGenerationOutputParser `[Union[str, BaseMessage], T]`\n",
    "        - BaseOutputParser（派生各类输出解析）\n",
    "\n",
    "        **已实现Chains:**      \n",
    "        - Chain（派生各类预制chain）\n",
    "\n",
    "    **定制能力:**\n",
    "    - RunnableGenerator（常用于处理输出可能是迭代器结果的chain）\n",
    "    - RunnableLambda（常用于包装普通函数，别名函数@chain）"
   ]
  },
  {
   "cell_type": "markdown",
   "id": "bf5cdaf3-f6fc-4162-97ce-984d11b8c954",
   "metadata": {},
   "source": [
    "### 配置能力"
   ]
  },
  {
   "cell_type": "markdown",
   "id": "c8404f85-9927-4659-80bf-af1946037090",
   "metadata": {},
   "source": [
    "- RunnableBindingBase\n",
    "    - RunnableBinding（向Runnable实例传递参数）\n",
    "    - RunnableWithMessageHistory（支持对话历史）\n",
    "    - RunnableRetry（支持重试，一般用`.with_retry()`配置）\n",
    "    - HubRunnable（访问`LangChain Hub`的实例）\n",
    "    - OpenAIFunctionsRouter\n",
    "- DynamicRunnable（支持动态配置）\n",
    "    - RunnableConfigurableFields\n",
    "- RunnableWithFallbacks（支持报错回滚，一般用`.with_fallbacks()`配置）\n"
   ]
  },
  {
   "cell_type": "markdown",
   "id": "f60aedf3-7a1b-4343-9110-b9e81ea10e5e",
   "metadata": {},
   "source": [
    "RunnableBinding 配置方法：\n",
    "\n",
    "- `bind`: Bind kwargs to pass to the underlying runnable when running it.\n",
    "- `with_config`: Bind config to pass to the underlying runnable when running it.\n",
    "- `with_listeners`:  Bind lifecycle listeners to the underlying runnable.\n",
    "- `with_types`: Override the input and output types of the underlying runnable.\n",
    "- `with_retry`: Bind a retry policy to the underlying runnable.\n",
    "- `with_fallbacks`: Bind a fallback policy to the underlying runnable."
   ]
  },
  {
   "cell_type": "markdown",
   "id": "23cee839-07b9-4e50-8ffe-9c724baff3b7",
   "metadata": {},
   "source": [
    "### 组装能力"
   ]
  },
  {
   "cell_type": "raw",
   "id": "31793148-5e71-4de8-993d-c3d62e5e733a",
   "metadata": {},
   "source": [
    "Union[\n",
    "    Runnable[Input, Output],\n",
    "    Callable[[Input], Output],\n",
    "    Callable[[Input], Awaitable[Output]],\n",
    "    Callable[[Iterator[Input]], Iterator[Output]],\n",
    "    Callable[[AsyncIterator[Input]], AsyncIterator[Output]],\n",
    "    Mapping[str, Any],\n",
    "]"
   ]
  },
  {
   "cell_type": "markdown",
   "id": "43f78cb2-5b6a-4dcd-888a-3c732e9e5cd6",
   "metadata": {},
   "source": [
    "- RunnablePassthrough（传递额外输入）\n",
    "- RunnableSequence（实现顺序执行，可以用|符号或RunnableSequence来构造）\n",
    "- RunnableParallel（实现并行执行，可以用Dict或RunnableParallel类来构造，别名RunnableMap）\n",
    "- RunnableEachBase\n",
    "    - RunnableEach（实现迭代调用）\n",
    "- RunnableBranch（实现条件分支）\n",
    "- RouterRunnable（实现路由）"
   ]
  },
  {
   "cell_type": "markdown",
   "id": "62c0d891-4836-43bf-b88c-d67934a03f92",
   "metadata": {},
   "source": [
    "### 大模型"
   ]
  },
  {
   "cell_type": "markdown",
   "id": "414f4db4-dea5-47bb-a721-f77d20f176b6",
   "metadata": {},
   "source": [
    "- BaseLanguageModel（大模型）\n",
    "    - BaseChatModel `[LanguageModelInput, LanguageModelOutputVar]`\n",
    "        - SimpleChatModel\n",
    "    - BaseLLM\n",
    "        - HuggingFacePipeline\n",
    "        - LLM\n",
    "            - FakeListLLM\n",
    "                - FakeStreamingListLLM\n",
    "            - HumanInputLLM\n",
    "            - HuggingFaceHub\n",
    "            - HuggingFaceEndpoint\n",
    "            - HuggingFaceTextGenInference\n",
    "            - QianfanLLMEndpoint\n",
    "            - BaichuanLLM\n",
    "        - BaseOpenAI\n",
    "            - OpenAI\n",
    "        - OpenAIChat\n",
    "        - Tongyi\n",
    "        - Ollama"
   ]
  },
  {
   "cell_type": "markdown",
   "id": "621fe55f-0cde-41d8-b9ea-e6827a7603fa",
   "metadata": {},
   "source": [
    "### 提示语"
   ]
  },
  {
   "cell_type": "markdown",
   "id": "179c18be-9f8d-49b6-9788-bc7e1f48ea1a",
   "metadata": {},
   "source": [
    "- BasePromptTemplate `[Dict, PromptValue]`\n",
    "    - StringPromptTemplate\n",
    "        - PromptTemplate\n",
    "        - FewShotPromptWithTemplates\n",
    "        - FewShotPromptTemplate\n",
    "    - BaseChatPromptTemplate\n",
    "        - ChatPromptTemplate\n",
    "    - ImagePromptTemplate\n",
    "    - PipelinePromptTemplate"
   ]
  },
  {
   "cell_type": "raw",
   "id": "fc6333c4-7945-48a8-a29f-6be5d1b1232e",
   "metadata": {},
   "source": [
    "BasePromptTemplate --> PipelinePromptTemplate\n",
    "                       StringPromptTemplate --> PromptTemplate\n",
    "                                                FewShotPromptTemplate\n",
    "                                                FewShotPromptWithTemplates\n",
    "                       BaseChatPromptTemplate --> AutoGPTPrompt\n",
    "                                                  ChatPromptTemplate --> AgentScratchPadChatPromptTemplate\n",
    "\n",
    "BaseMessagePromptTemplate --> MessagesPlaceholder\n",
    "                              BaseStringMessagePromptTemplate --> ChatMessagePromptTemplate\n",
    "                                                                  HumanMessagePromptTemplate\n",
    "                                                                  AIMessagePromptTemplate\n",
    "                                                                  SystemMessagePromptTemplate\n"
   ]
  },
  {
   "cell_type": "markdown",
   "id": "503d6913-209e-4013-94a7-31b6145b6014",
   "metadata": {},
   "source": [
    "### 检索器"
   ]
  },
  {
   "cell_type": "markdown",
   "id": "d1efd02f-a599-417b-a2d0-073dfec29471",
   "metadata": {},
   "source": [
    "- BaseRetriever `[RetrieverInput, RetrieverOutput]`\n",
    "    - VectorStoreRetriever\n",
    "    - AzureCognitiveSearchRetriever\n",
    "    - AmazonKnowledgeBasesRetriever\n",
    "    - ChatGPTPluginRetriever\n",
    "    - ElasticSearchBM25Retriever\n",
    "    - KNNRetriever\n",
    "    - LlamaIndexRetriever\n",
    "    - MetalRetriever\n",
    "    - MilvusRetriever\n",
    "    - OutlineRetriever\n",
    "    - PineconeHybridSearchRetriever\n",
    "    - QdrantSparseVectorRetriever\n",
    "    - RemoteLangChainRetriever\n",
    "    - SVMRetriever\n",
    "    - TavilySearchAPIRetriever\n",
    "    - TFIDFRetriever\n",
    "    - WeaviateHybridSearchRetriever\n",
    "    - WikipediaRetriever\n"
   ]
  },
  {
   "cell_type": "markdown",
   "id": "401da379-dfd3-4b2e-80a9-21b9b7f02ca8",
   "metadata": {},
   "source": [
    "### Tool"
   ]
  },
  {
   "cell_type": "markdown",
   "id": "37700101-b933-4ca2-9f88-2b73fd480987",
   "metadata": {},
   "source": [
    "- BaseTool `[Union[str, Dict], Any]`\n",
    "    - Tool\n",
    "    - StructuredTool\n",
    "    - HumanInputRun\n",
    "    - GitHubAction\n",
    "    - GitLabAction\n",
    "    - JsonListKeysTool\n",
    "    - JsonGetValueTool\n",
    "    - Memorize\n",
    "    - OpenWeatherMapQueryRun\n",
    "    - SleepTool\n",
    "    - ShellTool\n",
    "    - QuerySQLDataBaseTool\n",
    "    - InfoSQLDatabaseTool\n",
    "    - QuerySQLCheckerTool\n",
    "    - TavilySearchResults\n",
    "    - TavilyAnswer\n",
    "    - VectorStoreQATool\n",
    "    - VectorStoreQAWithSourcesTool\n",
    "    - WikipediaQueryRun\n",
    "\n",
    "    **Files:**\n",
    "    - CopyFileTool\n",
    "    - DeleteFileTool\n",
    "    - FileSearchTool\n",
    "    - ListDirectoryTool\n",
    "    - MoveFileTool\n",
    "    - ReadFileTool\n",
    "    - WriteFileTool\n"
   ]
  },
  {
   "cell_type": "markdown",
   "id": "5bb685cb-9a46-4585-ae67-f7bfb1f1f394",
   "metadata": {},
   "source": [
    "### 输出解析"
   ]
  },
  {
   "cell_type": "markdown",
   "id": "9ca07f8c-16cd-4ed4-8146-edccbb9c3777",
   "metadata": {
    "jp-MarkdownHeadingCollapsed": true
   },
   "source": [
    "- BaseGenerationOutputParser `[Union[str, BaseMessage], T]`\n",
    "    - OutputFunctionsParser\n",
    "        - PydanticOutputFunctionsParser\n",
    "            - PydanticAttrOutputFunctionsParser\n",
    "    - JsonOutputToolsParser\n",
    "        - JsonOutputKeyToolsParser\n",
    "        - PydanticToolsParser\n",
    "- BaseOutputParser\n",
    "    - BaseTransformOutputParser\n",
    "        - BaseCumulativeTransformOutputParser\n",
    "            - JsonOutputParser（别名SimpleJsonOutputParser）\n",
    "            - JsonOutputFunctionsParser\n",
    "                - JsonKeyOutputFunctionsParser\n",
    "        - StrOutputParser\n",
    "        - XMLOutputParser\n",
    "        - ListOutputParser\n",
    "            - CommaSeparatedListOutputParser\n",
    "            - NumberedListOutputParser\n",
    "            - MarkdownListOutputParser\n",
    "    - BooleanOutputParser\n",
    "    - CombiningOutputParser\n",
    "    - DatetimeOutputParser\n",
    "    - EnumOutputParser\n",
    "    - OutputFixingParser（使用LLM修复错误）\n",
    "    - PandasDataFrameOutputParser\n",
    "    - PydanticOutputParser\n",
    "    - RegexDictParser\n",
    "    - RegexParser\n",
    "    - RetryOutputParser\n",
    "    - RetryWithErrorOutputParser\n",
    "    - StructuredOutputParser\n",
    "    - YamlOutputParser\n"
   ]
  },
  {
   "cell_type": "markdown",
   "id": "b4fede3d-d7d4-4d9e-836e-1e900a00fbb4",
   "metadata": {},
   "source": [
    "### 已实现Chains     "
   ]
  },
  {
   "cell_type": "markdown",
   "id": "b173bc36-ab41-4b03-a300-fa474d3e6155",
   "metadata": {},
   "source": [
    "- Chain\n",
    "    - LLMChain\n",
    "        - ConversationChain\n",
    "        - QuestionGeneratorChain\n",
    "        - FlareChain\n",
    "    - LLMCheckerChain\n",
    "    - LLMRequestsChain\n",
    "    - LLMMathChain（使用python代码执行数学计算）\n",
    "    - LLMSummarizationCheckerChain\n",
    "    - MapReduceChain\n",
    "    - OpenAIModerationChain\n",
    "    - SequentialChain\n",
    "    - SimpleSequentialChain\n",
    "    - APIChain\n",
    "    - BaseCombineDocumentsChain\n",
    "    - AnalyzeDocumentChain\n",
    "    - ConstitutionalChain\n",
    "    - BaseConversationalRetrievalChain\n",
    "        - ConversationalRetrievalChain\n",
    "        - ChatVectorDBChain\n",
    "    - ElasticsearchDatabaseChain\n",
    "    - NatBotChain（实现一个基于LLM的浏览器）\n",
    "    - QAGenerationChain（问答对生成）\n",
    "    - BaseQAWithSourcesChain\n",
    "        - QAWithSourcesChain\n",
    "    - BaseRetrievalQA\n",
    "        - RetrievalQA\n",
    "        - VectorDBQA\n",
    "    - RouterChain\n",
    "        - MultiRouteChain\n",
    "            - MultiRetrievalQAChain\n",
    "        - EmbeddingRouterChain\n",
    "        - LLMRouterChain"
   ]
  },
  {
   "cell_type": "markdown",
   "id": "03b7d058-efd1-4e79-a459-6e9b4940eae3",
   "metadata": {},
   "source": [
    "## 输入输出类"
   ]
  },
  {
   "cell_type": "markdown",
   "id": "63b30bfc-0014-40cd-b72f-61600c4ca95f",
   "metadata": {},
   "source": [
    "### 消息"
   ]
  },
  {
   "cell_type": "markdown",
   "id": "a1803281-a337-4f30-8981-6fcf96c4872b",
   "metadata": {},
   "source": [
    "### 文档"
   ]
  },
  {
   "cell_type": "markdown",
   "id": "cd6d2740-9a59-4b22-8eec-ef5abafadcfe",
   "metadata": {},
   "source": [
    "## 记忆"
   ]
  },
  {
   "cell_type": "markdown",
   "id": "72132d05-d623-4c1d-afe0-7102432203dd",
   "metadata": {},
   "source": [
    "## 智能体"
   ]
  },
  {
   "cell_type": "markdown",
   "id": "54370791-a10c-4981-b825-f0a5d48fff95",
   "metadata": {},
   "source": [
    "### 工具"
   ]
  },
  {
   "cell_type": "code",
   "execution_count": null,
   "id": "bbbf7271-302a-4a49-8c65-21983deeb693",
   "metadata": {},
   "outputs": [],
   "source": []
  }
 ],
 "metadata": {
  "kernelspec": {
   "display_name": "langchani-book-py3.10-ipykernel",
   "language": "python",
   "name": "langchani-book-py3.10-ipykernel"
  },
  "language_info": {
   "codemirror_mode": {
    "name": "ipython",
    "version": 3
   },
   "file_extension": ".py",
   "mimetype": "text/x-python",
   "name": "python",
   "nbconvert_exporter": "python",
   "pygments_lexer": "ipython3",
   "version": "3.10.0"
  }
 },
 "nbformat": 4,
 "nbformat_minor": 5
}
