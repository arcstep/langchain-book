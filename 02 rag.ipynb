{
 "cells": [
  {
   "cell_type": "markdown",
   "id": "faeaf030-e07f-4fa9-a140-1aeb881b4d3f",
   "metadata": {},
   "source": [
    "# 环境准备"
   ]
  },
  {
   "cell_type": "code",
   "execution_count": 24,
   "id": "b460fd58-7b4f-479b-abd2-933e76287fbf",
   "metadata": {},
   "outputs": [
    {
     "name": "stdout",
     "output_type": "stream",
     "text": [
      "RUNNABLE_BASE_URL:  http://localhost:8000\n"
     ]
    }
   ],
   "source": [
    "from Utils import *"
   ]
  },
  {
   "cell_type": "code",
   "execution_count": 27,
   "id": "c3cb5d29-00d9-48b9-8a31-4995d7e9e060",
   "metadata": {
    "editable": true,
    "slideshow": {
     "slide_type": ""
    },
    "tags": []
   },
   "outputs": [
    {
     "name": "stdout",
     "output_type": "stream",
     "text": [
      "RAG是“Reinforced Agent for Generation”的缩写，中文可以翻译为“强化学习生成代理”。在自然语言处理领域，RAG是一种用于融合信息检索和文本生成的技术模型。它通过结合强化学习的方法，从一个或多个知识源中检索相关信息，并将其融入到生成的文本中，以实现更加准确、有依据的回答生成。这种模型被广泛应用于如问答系统、文档生成等需要结合外部知识的任务中。"
     ]
    }
   ],
   "source": [
    "tongyi(\"大模型里提到的RAG是什么\")"
   ]
  },
  {
   "cell_type": "code",
   "execution_count": null,
   "id": "51e48d5c-f0b0-46bc-a0e2-0eca46ec0444",
   "metadata": {
    "editable": true,
    "slideshow": {
     "slide_type": ""
    },
    "tags": []
   },
   "outputs": [],
   "source": []
  }
 ],
 "metadata": {
  "kernelspec": {
   "display_name": "langchani-book-ipykernel",
   "language": "python",
   "name": "langchani-book-ipykernel"
  },
  "language_info": {
   "codemirror_mode": {
    "name": "ipython",
    "version": 3
   },
   "file_extension": ".py",
   "mimetype": "text/x-python",
   "name": "python",
   "nbconvert_exporter": "python",
   "pygments_lexer": "ipython3",
   "version": "3.10.0"
  }
 },
 "nbformat": 4,
 "nbformat_minor": 5
}
