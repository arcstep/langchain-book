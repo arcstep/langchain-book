{
 "cells": [
  {
   "cell_type": "markdown",
   "id": "30caf792-2fad-48e7-9b6d-bb5bdf2c38c5",
   "metadata": {
    "editable": true,
    "slideshow": {
     "slide_type": ""
    },
    "tags": []
   },
   "source": [
    "# 开始使用"
   ]
  },
  {
   "cell_type": "markdown",
   "id": "b008bf7c-69d9-4556-9054-96426d200426",
   "metadata": {},
   "source": [
    "## 结合poetry使用Jupyter"
   ]
  },
  {
   "cell_type": "markdown",
   "id": "0d58d7fd-8301-4178-b53f-a7df9dc02218",
   "metadata": {},
   "source": [
    "在poetry中支持jupyter和ipykernel："
   ]
  },
  {
   "cell_type": "code",
   "execution_count": null,
   "id": "f75c195e-a73c-44d9-b2fc-3d4c2e5fb494",
   "metadata": {},
   "outputs": [],
   "source": [
    "!poetry add ipykernel jupyter"
   ]
  },
  {
   "cell_type": "markdown",
   "id": "be542642-63ed-4eb9-878e-096162e9988a",
   "metadata": {},
   "source": [
    "创建一个名为`langchani-book-poetry-env`的可用内核："
   ]
  },
  {
   "cell_type": "code",
   "execution_count": null,
   "id": "b91c83c3-8e23-4abc-8955-0a92941e4d10",
   "metadata": {},
   "outputs": [],
   "source": [
    "!poetry run python -m ipykernel install --user --name=langchani-book-poetry-env"
   ]
  },
  {
   "cell_type": "markdown",
   "id": "fe53afd7-f910-4c8f-91ee-a9139c89d86b",
   "metadata": {},
   "source": [
    "## 加载环境变量"
   ]
  },
  {
   "cell_type": "code",
   "execution_count": 3,
   "id": "eff29666-236e-4b42-ae4f-78299de4a00a",
   "metadata": {},
   "outputs": [],
   "source": [
    "import os\n",
    "from dotenv import load_dotenv, find_dotenv\n",
    "\n",
    "import sys\n",
    "import io\n",
    "original_stdout = sys.stdout \n",
    "sys.stdout = io.StringIO()\n",
    "load_dotenv(find_dotenv(), override=True)\n",
    "sys.stdout = original_stdout"
   ]
  },
  {
   "cell_type": "markdown",
   "id": "baedfb2d-930b-45f3-8be0-4e4cb91a15a7",
   "metadata": {},
   "source": [
    "## 使用langchain"
   ]
  },
  {
   "cell_type": "markdown",
   "id": "fddd486c-3ec9-4b66-89c2-c2f8815520d7",
   "metadata": {},
   "source": [
    "## 使用langserve"
   ]
  },
  {
   "cell_type": "markdown",
   "id": "f4614a71-4d62-43c3-b659-7f855d4917a0",
   "metadata": {},
   "source": [
    "## 访问langserve服务"
   ]
  },
  {
   "cell_type": "markdown",
   "id": "658cdce9-cb73-4e0f-853d-87074ebe6059",
   "metadata": {},
   "source": [
    "<div class=\"alert alert-success\">\n",
    "<b>架构解偶：</b>在python中访问远程langserve的机制，有助于将GPT服务和应用模块在架构上解耦。\n",
    "</div>"
   ]
  },
  {
   "cell_type": "markdown",
   "id": "b818871a-c020-4885-a71d-f659fd47fe2d",
   "metadata": {},
   "source": [
    "例如，要结合AI生成能力创建文档，下面这个封装会非常有用："
   ]
  },
  {
   "cell_type": "code",
   "execution_count": 4,
   "id": "6f890631-f59c-44c9-8592-cb675aeea322",
   "metadata": {},
   "outputs": [],
   "source": [
    "debug = True\n",
    "base_url = \"http://localhost:8000\"\n",
    "\n",
    "from IPython.display import display, Markdown\n",
    "def print_content(data):\n",
    "    for char in data:\n",
    "        print(char, end=\"\", flush=True)\n",
    "\n",
    "from langserve import RemoteRunnable\n",
    "def remote_runnable(runnable, params = [], base_url = base_url, debug = debug):\n",
    "    chain = RemoteRunnable(f\"{base_url}/{runnable}\")\n",
    "    def ask(*args):\n",
    "        kwargs = dict(zip(params, args))\n",
    "        if debug:\n",
    "            print_content(chain.stream(kwargs))\n",
    "        else:\n",
    "            return chain.invoke(kwargs)\n",
    "    return ask"
   ]
  },
  {
   "cell_type": "markdown",
   "id": "b34aff10-f0c9-4e35-b6c8-adfb055482f8",
   "metadata": {},
   "source": [
    "或者打包为一个python文件，直接引用："
   ]
  },
  {
   "cell_type": "code",
   "execution_count": 97,
   "id": "2668e6c8-2f9d-464b-b714-2752266924c4",
   "metadata": {},
   "outputs": [],
   "source": [
    "from utils import *"
   ]
  },
  {
   "cell_type": "markdown",
   "id": "a50f25aa-7a5a-4c4a-b566-c345eed279bb",
   "metadata": {},
   "source": [
    "### GPT"
   ]
  },
  {
   "cell_type": "code",
   "execution_count": 5,
   "id": "805890c3-5828-4e16-a19a-7e77f49f0baa",
   "metadata": {},
   "outputs": [],
   "source": [
    "gpt35 = remote_runnable(\"langserve/gpt35\", [\"question\"])\n",
    "gpt4 = remote_runnable(\"langserve/gpt4\", [\"question\"])"
   ]
  },
  {
   "cell_type": "code",
   "execution_count": 93,
   "id": "3af697c5-d0c7-4908-bc5c-2c3ec64168f8",
   "metadata": {},
   "outputs": [
    {
     "name": "stdout",
     "output_type": "stream",
     "text": [
      "作为一个AI助手，我无法直接了解你父母结婚时为什么没有邀请你。这可能是因为他们有自己的原因和考虑。以下是一些可能的原因：\n",
      "\n",
      "1. 仪式规模：有些婚礼可能只邀请亲近的家人和朋友，而不包括所有的亲属。这可能是为了控制婚礼的规模和预算。\n",
      "\n",
      "2. 家庭关系：有时候，家庭关系可能复杂，可能存在紧张或冲突。父母可能希望避免潜在的问题或不愉快的场面，因此决定不邀请你。\n",
      "\n",
      "3. 年龄限制：有些婚礼可能只邀请成年人或特定年龄段的亲戚和朋友。如果你当时还未成年，可能被排除在邀请范围之外。\n",
      "\n",
      "4. 意外遗漏：有时候，邀请名单可能被意外遗漏或疏忽。这可能是一个错误，而不是有意排除你。\n",
      "\n",
      "无论原因如何，如果你对此感到困惑或不满，最好与你的父母直接沟通，询问他们的想法和决定背后的原因。"
     ]
    }
   ],
   "source": [
    "gpt35(\"我的父母结婚时为什么没有邀请我？\")"
   ]
  },
  {
   "cell_type": "code",
   "execution_count": 94,
   "id": "dc9ccb50-592c-4b9e-9991-d6362ea57fa7",
   "metadata": {},
   "outputs": [
    {
     "name": "stdout",
     "output_type": "stream",
     "text": [
      "如果你的父母在结婚时没有邀请你，可能有几个原因：\n",
      "\n",
      "1. 你还没有出生：最常见的原因是你在他们结婚时还没有出生。结婚是父母在你出生前的一个事件，所以你不可能被邀请。\n",
      "\n",
      "2. 私密或小型婚礼：有些情况下，父母可能选择举行一个非常私密或小型的婚礼，只邀请非常亲近的家人和朋友。如果你当时年纪还小，他们可能认为你不适合参加这样的场合。\n",
      "\n",
      "3. 地理或其他障碍：也可能是由于地理位置远、交通不便或其他实际障碍，你无法参加他们的婚礼。\n",
      "\n",
      "4. 个人决定：每个家庭都有自己的动态和决策过程。可能有特定的原因导致他们决定不邀请你，这些原因可能涉及家庭关系、个人选择或当时的情况。\n",
      "\n",
      "如果这个问题让你感到困惑或不安，与你的父母进行坦诚的对话可能是了解他们当时决定的最好方式。通常，这种情况下的解释很简单，就是你还没有出生。"
     ]
    }
   ],
   "source": [
    "gpt4(\"我的父母结婚时为什么没有邀请我？\")"
   ]
  },
  {
   "cell_type": "markdown",
   "id": "2e0ecd12-4f79-43ed-b539-fc658f3b7d33",
   "metadata": {},
   "source": [
    "### 通义千问"
   ]
  },
  {
   "cell_type": "code",
   "execution_count": 6,
   "id": "d343865c-49fe-4f74-a4ef-663af2488d39",
   "metadata": {},
   "outputs": [],
   "source": [
    "tongyi = remote_runnable(\"langserve/tongyi\", [\"question\"])"
   ]
  },
  {
   "cell_type": "code",
   "execution_count": 7,
   "id": "35f67d83-145b-4df3-84ed-1bf076d506e1",
   "metadata": {},
   "outputs": [
    {
     "name": "stdout",
     "output_type": "stream",
     "text": [
      "我是阿里云开发的大规模语言模型，我叫通义千问。"
     ]
    }
   ],
   "source": [
    "tongyi(\"你是什么模型?\")"
   ]
  },
  {
   "cell_type": "code",
   "execution_count": 87,
   "id": "ca836636-1e81-4752-80ec-7f38145561c5",
   "metadata": {
    "editable": true,
    "slideshow": {
     "slide_type": ""
    },
    "tags": []
   },
   "outputs": [
    {
     "name": "stdout",
     "output_type": "stream",
     "text": [
      "因为您在他们结婚的时候还没有出生，所以他们自然无法邀请您参加他们的婚礼。通常情况下，只有已经出生并能够理解事件意义的人才会被邀请参加婚礼。"
     ]
    }
   ],
   "source": [
    "tongyi(\"我的父母结婚时为什么没有邀请我?\")"
   ]
  },
  {
   "cell_type": "markdown",
   "id": "6d09678f-3e52-42ef-a88d-3c3db3c99319",
   "metadata": {},
   "source": [
    "### Chatglm3-6B"
   ]
  },
  {
   "cell_type": "code",
   "execution_count": 95,
   "id": "67ec88c3-750b-44c6-8940-2675baee3afc",
   "metadata": {},
   "outputs": [],
   "source": [
    "chatglm6b = remote_runnable(\"langserve/chatglm6b\", [\"question\"])"
   ]
  },
  {
   "cell_type": "code",
   "execution_count": 96,
   "id": "8405e071-e584-420a-a606-1a7a800736a5",
   "metadata": {},
   "outputs": [
    {
     "name": "stdout",
     "output_type": "stream",
     "text": [
      "\n",
      " 我是一个名为 ChatGLM3-6B 的人工智能助手，是基于清华大学KEG 实验室和智谱 AI公司于 2023 年共同训练的语言模型开发的。我的任务是针对用户的问题和要求提供适当的答复和支持。"
     ]
    }
   ],
   "source": [
    "chatglm6b(\"你是什么模型?\")"
   ]
  },
  {
   "cell_type": "code",
   "execution_count": 88,
   "id": "4c5fe24b-e207-4ba0-b1b5-28ae152bb1a9",
   "metadata": {},
   "outputs": [
    {
     "name": "stdout",
     "output_type": "stream",
     "text": [
      "\n",
      " 作为人工智能助手，我无法了解您个人生活中的具体情况。但是，通常情况下，婚礼是一种庆祝两个人成为夫妇的仪式，因此，新婚夫妇很少会邀请孩子作为嘉宾。在某些情况下，他们可能会邀请孩子参加婚礼，但这取决于孩子的年龄和婚礼的规模。如果您希望了解更多关于您父母婚礼的信息，您可以尝试与他们沟通，了解他们当时的想法和决定。"
     ]
    }
   ],
   "source": [
    "chatglm6b(\"我的父母结婚时为什么没有邀请我?\")"
   ]
  },
  {
   "cell_type": "markdown",
   "id": "c30e3204-c752-42ce-9806-526f0ef979e4",
   "metadata": {},
   "source": [
    "### lambda函数"
   ]
  },
  {
   "cell_type": "markdown",
   "id": "f7249bdd-eb0b-4dee-9a47-d841a752d095",
   "metadata": {},
   "source": [
    "自定义的lambda函数一般不访问大模型，而是以较快速度在本地计算，因此不需要支持流式打印，所以无需封装。"
   ]
  },
  {
   "cell_type": "code",
   "execution_count": 5,
   "id": "b6febd84-1f08-407b-bd91-ac81a9708839",
   "metadata": {},
   "outputs": [
    {
     "data": {
      "text/plain": [
       "'The result is: 3'"
      ]
     },
     "execution_count": 5,
     "metadata": {},
     "output_type": "execute_result"
    }
   ],
   "source": [
    "chain = RemoteRunnable(f\"{base_url}/langserve/add\")\n",
    "chain.invoke({\"x\": 1, \"y\": 2})"
   ]
  },
  {
   "cell_type": "code",
   "execution_count": 6,
   "id": "bf8e8d9a-d732-4df7-b3fe-658eaca22aeb",
   "metadata": {},
   "outputs": [
    {
     "data": {
      "text/plain": [
       "'The result is: 43'"
      ]
     },
     "execution_count": 6,
     "metadata": {},
     "output_type": "execute_result"
    }
   ],
   "source": [
    "chain = RemoteRunnable(f\"{base_url}/langserve/add_one\")\n",
    "chain.invoke(42)"
   ]
  },
  {
   "cell_type": "code",
   "execution_count": null,
   "id": "248fbd2c-baf4-47b1-87f4-3635234b2afb",
   "metadata": {},
   "outputs": [],
   "source": []
  }
 ],
 "metadata": {
  "kernelspec": {
   "display_name": "langchani-book-ipykernel",
   "language": "python",
   "name": "langchani-book-ipykernel"
  },
  "language_info": {
   "codemirror_mode": {
    "name": "ipython",
    "version": 3
   },
   "file_extension": ".py",
   "mimetype": "text/x-python",
   "name": "python",
   "nbconvert_exporter": "python",
   "pygments_lexer": "ipython3",
   "version": "3.10.0"
  }
 },
 "nbformat": 4,
 "nbformat_minor": 5
}
