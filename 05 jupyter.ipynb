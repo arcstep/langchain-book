{
 "cells": [
  {
   "cell_type": "markdown",
   "id": "dd24aea5-1b32-4e7c-ae0f-fd40a77eefcc",
   "metadata": {},
   "source": [
    "# 动态创建Jupyter任务"
   ]
  },
  {
   "cell_type": "markdown",
   "id": "c812269b-aea1-4e5c-ae20-e95154a6bf29",
   "metadata": {},
   "source": [
    "可以使用 Python 脚本或 API 接口在 JupyterLab 中创建一批新的 ipynb 文件，并根据需要动态创建 ipynb 的内容。\n",
    "以下是一些可以帮助您完成此任务的资源：\n",
    "\n",
    "• Jupyter API 文档\n",
    "• ipython-genutils 库\n",
    "• nbformat 库"
   ]
  },
  {
   "cell_type": "markdown",
   "id": "2aef109a-017b-4b68-9466-223ed01159be",
   "metadata": {},
   "source": [
    "## 使用 Python 脚本创建 ipynb 文件"
   ]
  },
  {
   "cell_type": "code",
   "execution_count": null,
   "id": "a48c32de-5a3f-4bb5-a058-66db8d1bc943",
   "metadata": {},
   "outputs": [],
   "source": [
    "import os\n",
    "import nbformat\n",
    "from ipython_genutils.path import filefind\n",
    "\n",
    "# 创建一个新目录来存储 ipynb 文件\n",
    "os.makedirs('new_notebooks')\n",
    "\n",
    "# 获取当前目录中所有 ipynb 文件的路径\n",
    "ipynb_files = filefind('*.ipynb')\n",
    "\n",
    "# 遍历 ipynb 文件并创建新的 ipynb 文件\n",
    "for ipynb_file in ipynb_files:\n",
    "    # 加载 ipynb 文件\n",
    "    with open(ipynb_file, 'r') as f:\n",
    "        nb = nbformat.read(f, as_version=4)\n",
    "\n",
    "    # 修改 ipynb 文件的内容\n",
    "    nb['cells'][0]['source'] = 'Hello, world!'\n",
    "\n",
    "    # 将修改后的 ipynb 文件保存到新目录中\n",
    "    with open(os.path.join('new_notebooks', os.path.basename(ipynb_file)), 'w') as f:\n",
    "        nbformat.write(nb, f)"
   ]
  },
  {
   "cell_type": "markdown",
   "id": "86576453-ed43-43dc-8fb6-c58b34ad57b6",
   "metadata": {},
   "source": [
    "## 使用 API 接口创建 ipynb 文件"
   ]
  },
  {
   "cell_type": "code",
   "execution_count": null,
   "id": "7bb5b3b9-dce9-4ce6-9af4-cb2f8663c50c",
   "metadata": {},
   "outputs": [],
   "source": [
    "import jupyterlab_api\n",
    "\n",
    "# 创建一个 JupyterLab API 客户端\n",
    "client = jupyterlab_api.Client()\n",
    "\n",
    "# 获取当前目录的路径\n",
    "cwd = client.session.get_cwd()\n",
    "\n",
    "# 创建一个新的 ipynb 文件\n",
    "new_notebook = client.notebook.create_new(cwd)\n",
    "\n",
    "# 修改 ipynb 文件的内容\n",
    "new_notebook.cells[0].source = 'Hello, world!'\n",
    "\n",
    "# 保存 ipynb 文件\n",
    "client.notebook.save(new_notebook)"
   ]
  },
  {
   "cell_type": "code",
   "execution_count": null,
   "id": "61f86e6d-ea22-4073-ade7-c8230c966cf6",
   "metadata": {},
   "outputs": [],
   "source": []
  }
 ],
 "metadata": {
  "kernelspec": {
   "display_name": "langchani-book-py3.10-ipykernel",
   "language": "python",
   "name": "langchani-book-py3.10-ipykernel"
  },
  "language_info": {
   "codemirror_mode": {
    "name": "ipython",
    "version": 3
   },
   "file_extension": ".py",
   "mimetype": "text/x-python",
   "name": "python",
   "nbconvert_exporter": "python",
   "pygments_lexer": "ipython3",
   "version": "3.10.0"
  }
 },
 "nbformat": 4,
 "nbformat_minor": 5
}
